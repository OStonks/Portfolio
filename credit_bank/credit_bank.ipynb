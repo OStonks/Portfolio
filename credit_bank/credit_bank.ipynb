{
 "cells": [
  {
   "cell_type": "markdown",
   "metadata": {},
   "source": [
    "# Исследование надёжности заёмщиков\n",
    "\n",
    "Заказчик — кредитный отдел банка. Нужно разобраться, влияет ли семейное положение и количество детей клиента на факт погашения кредита в срок. Входные данные от банка — статистика о платёжеспособности клиентов.\n",
    "\n",
    "Результаты исследования будут учтены при построении модели **кредитного скоринга** — специальной системы, которая оценивает способность потенциального заёмщика вернуть кредит банку."
   ]
  },
  {
   "cell_type": "markdown",
   "metadata": {},
   "source": [
    "Таким образом, делаем вывод о том, что **цель исследования** — проверка гипотезы:\n",
    "1. Разные цели кредита влияют на факт погашения кредита в срок.\n",
    "2. Уровень дохода клиента влияет на факт погашения кредита в срок.\n",
    "3. Семейное положение клиента вличяет на факт погашения кредита в срок.\n",
    "4. Количество детей клиента влияет на факт погашения кредита в срок.\n"
   ]
  },
  {
   "cell_type": "markdown",
   "metadata": {},
   "source": [
    "## Шаг 1. Откроем файл с данными и изучим общую информацию"
   ]
  },
  {
   "cell_type": "markdown",
   "metadata": {},
   "source": [
    "Для работы с гипотезами необходима работа с данными. Для работы же сданными нам необходимо с помощью `библиотеки` pandas прочитать датасет."
   ]
  },
  {
   "cell_type": "code",
   "execution_count": 1,
   "metadata": {},
   "outputs": [],
   "source": [
    "# импорт библиотеки pandas\n",
    "import pandas as pd"
   ]
  },
  {
   "cell_type": "code",
   "execution_count": 2,
   "metadata": {},
   "outputs": [],
   "source": [
    "# чтение файла с данными и сохранение в df\n",
    "df = pd.read_csv('/datasets/data.csv')"
   ]
  },
  {
   "cell_type": "code",
   "execution_count": 3,
   "metadata": {},
   "outputs": [
    {
     "data": {
      "text/html": [
       "<div>\n",
       "<style scoped>\n",
       "    .dataframe tbody tr th:only-of-type {\n",
       "        vertical-align: middle;\n",
       "    }\n",
       "\n",
       "    .dataframe tbody tr th {\n",
       "        vertical-align: top;\n",
       "    }\n",
       "\n",
       "    .dataframe thead th {\n",
       "        text-align: right;\n",
       "    }\n",
       "</style>\n",
       "<table border=\"1\" class=\"dataframe\">\n",
       "  <thead>\n",
       "    <tr style=\"text-align: right;\">\n",
       "      <th></th>\n",
       "      <th>children</th>\n",
       "      <th>days_employed</th>\n",
       "      <th>dob_years</th>\n",
       "      <th>education</th>\n",
       "      <th>education_id</th>\n",
       "      <th>family_status</th>\n",
       "      <th>family_status_id</th>\n",
       "      <th>gender</th>\n",
       "      <th>income_type</th>\n",
       "      <th>debt</th>\n",
       "      <th>total_income</th>\n",
       "      <th>purpose</th>\n",
       "    </tr>\n",
       "  </thead>\n",
       "  <tbody>\n",
       "    <tr>\n",
       "      <td>0</td>\n",
       "      <td>1</td>\n",
       "      <td>-8437.673028</td>\n",
       "      <td>42</td>\n",
       "      <td>высшее</td>\n",
       "      <td>0</td>\n",
       "      <td>женат / замужем</td>\n",
       "      <td>0</td>\n",
       "      <td>F</td>\n",
       "      <td>сотрудник</td>\n",
       "      <td>0</td>\n",
       "      <td>253875.639453</td>\n",
       "      <td>покупка жилья</td>\n",
       "    </tr>\n",
       "    <tr>\n",
       "      <td>1</td>\n",
       "      <td>1</td>\n",
       "      <td>-4024.803754</td>\n",
       "      <td>36</td>\n",
       "      <td>среднее</td>\n",
       "      <td>1</td>\n",
       "      <td>женат / замужем</td>\n",
       "      <td>0</td>\n",
       "      <td>F</td>\n",
       "      <td>сотрудник</td>\n",
       "      <td>0</td>\n",
       "      <td>112080.014102</td>\n",
       "      <td>приобретение автомобиля</td>\n",
       "    </tr>\n",
       "    <tr>\n",
       "      <td>2</td>\n",
       "      <td>0</td>\n",
       "      <td>-5623.422610</td>\n",
       "      <td>33</td>\n",
       "      <td>Среднее</td>\n",
       "      <td>1</td>\n",
       "      <td>женат / замужем</td>\n",
       "      <td>0</td>\n",
       "      <td>M</td>\n",
       "      <td>сотрудник</td>\n",
       "      <td>0</td>\n",
       "      <td>145885.952297</td>\n",
       "      <td>покупка жилья</td>\n",
       "    </tr>\n",
       "    <tr>\n",
       "      <td>3</td>\n",
       "      <td>3</td>\n",
       "      <td>-4124.747207</td>\n",
       "      <td>32</td>\n",
       "      <td>среднее</td>\n",
       "      <td>1</td>\n",
       "      <td>женат / замужем</td>\n",
       "      <td>0</td>\n",
       "      <td>M</td>\n",
       "      <td>сотрудник</td>\n",
       "      <td>0</td>\n",
       "      <td>267628.550329</td>\n",
       "      <td>дополнительное образование</td>\n",
       "    </tr>\n",
       "    <tr>\n",
       "      <td>4</td>\n",
       "      <td>0</td>\n",
       "      <td>340266.072047</td>\n",
       "      <td>53</td>\n",
       "      <td>среднее</td>\n",
       "      <td>1</td>\n",
       "      <td>гражданский брак</td>\n",
       "      <td>1</td>\n",
       "      <td>F</td>\n",
       "      <td>пенсионер</td>\n",
       "      <td>0</td>\n",
       "      <td>158616.077870</td>\n",
       "      <td>сыграть свадьбу</td>\n",
       "    </tr>\n",
       "    <tr>\n",
       "      <td>5</td>\n",
       "      <td>0</td>\n",
       "      <td>-926.185831</td>\n",
       "      <td>27</td>\n",
       "      <td>высшее</td>\n",
       "      <td>0</td>\n",
       "      <td>гражданский брак</td>\n",
       "      <td>1</td>\n",
       "      <td>M</td>\n",
       "      <td>компаньон</td>\n",
       "      <td>0</td>\n",
       "      <td>255763.565419</td>\n",
       "      <td>покупка жилья</td>\n",
       "    </tr>\n",
       "    <tr>\n",
       "      <td>6</td>\n",
       "      <td>0</td>\n",
       "      <td>-2879.202052</td>\n",
       "      <td>43</td>\n",
       "      <td>высшее</td>\n",
       "      <td>0</td>\n",
       "      <td>женат / замужем</td>\n",
       "      <td>0</td>\n",
       "      <td>F</td>\n",
       "      <td>компаньон</td>\n",
       "      <td>0</td>\n",
       "      <td>240525.971920</td>\n",
       "      <td>операции с жильем</td>\n",
       "    </tr>\n",
       "    <tr>\n",
       "      <td>7</td>\n",
       "      <td>0</td>\n",
       "      <td>-152.779569</td>\n",
       "      <td>50</td>\n",
       "      <td>СРЕДНЕЕ</td>\n",
       "      <td>1</td>\n",
       "      <td>женат / замужем</td>\n",
       "      <td>0</td>\n",
       "      <td>M</td>\n",
       "      <td>сотрудник</td>\n",
       "      <td>0</td>\n",
       "      <td>135823.934197</td>\n",
       "      <td>образование</td>\n",
       "    </tr>\n",
       "    <tr>\n",
       "      <td>8</td>\n",
       "      <td>2</td>\n",
       "      <td>-6929.865299</td>\n",
       "      <td>35</td>\n",
       "      <td>ВЫСШЕЕ</td>\n",
       "      <td>0</td>\n",
       "      <td>гражданский брак</td>\n",
       "      <td>1</td>\n",
       "      <td>F</td>\n",
       "      <td>сотрудник</td>\n",
       "      <td>0</td>\n",
       "      <td>95856.832424</td>\n",
       "      <td>на проведение свадьбы</td>\n",
       "    </tr>\n",
       "    <tr>\n",
       "      <td>9</td>\n",
       "      <td>0</td>\n",
       "      <td>-2188.756445</td>\n",
       "      <td>41</td>\n",
       "      <td>среднее</td>\n",
       "      <td>1</td>\n",
       "      <td>женат / замужем</td>\n",
       "      <td>0</td>\n",
       "      <td>M</td>\n",
       "      <td>сотрудник</td>\n",
       "      <td>0</td>\n",
       "      <td>144425.938277</td>\n",
       "      <td>покупка жилья для семьи</td>\n",
       "    </tr>\n",
       "  </tbody>\n",
       "</table>\n",
       "</div>"
      ],
      "text/plain": [
       "   children  days_employed  dob_years education  education_id  \\\n",
       "0         1   -8437.673028         42    высшее             0   \n",
       "1         1   -4024.803754         36   среднее             1   \n",
       "2         0   -5623.422610         33   Среднее             1   \n",
       "3         3   -4124.747207         32   среднее             1   \n",
       "4         0  340266.072047         53   среднее             1   \n",
       "5         0    -926.185831         27    высшее             0   \n",
       "6         0   -2879.202052         43    высшее             0   \n",
       "7         0    -152.779569         50   СРЕДНЕЕ             1   \n",
       "8         2   -6929.865299         35    ВЫСШЕЕ             0   \n",
       "9         0   -2188.756445         41   среднее             1   \n",
       "\n",
       "      family_status  family_status_id gender income_type  debt   total_income  \\\n",
       "0   женат / замужем                 0      F   сотрудник     0  253875.639453   \n",
       "1   женат / замужем                 0      F   сотрудник     0  112080.014102   \n",
       "2   женат / замужем                 0      M   сотрудник     0  145885.952297   \n",
       "3   женат / замужем                 0      M   сотрудник     0  267628.550329   \n",
       "4  гражданский брак                 1      F   пенсионер     0  158616.077870   \n",
       "5  гражданский брак                 1      M   компаньон     0  255763.565419   \n",
       "6   женат / замужем                 0      F   компаньон     0  240525.971920   \n",
       "7   женат / замужем                 0      M   сотрудник     0  135823.934197   \n",
       "8  гражданский брак                 1      F   сотрудник     0   95856.832424   \n",
       "9   женат / замужем                 0      M   сотрудник     0  144425.938277   \n",
       "\n",
       "                      purpose  \n",
       "0               покупка жилья  \n",
       "1     приобретение автомобиля  \n",
       "2               покупка жилья  \n",
       "3  дополнительное образование  \n",
       "4             сыграть свадьбу  \n",
       "5               покупка жилья  \n",
       "6           операции с жильем  \n",
       "7                 образование  \n",
       "8       на проведение свадьбы  \n",
       "9     покупка жилья для семьи  "
      ]
     },
     "execution_count": 3,
     "metadata": {},
     "output_type": "execute_result"
    }
   ],
   "source": [
    "# получение первых 10 строк таблицы df\n",
    "df.head(10)"
   ]
  },
  {
   "cell_type": "code",
   "execution_count": 4,
   "metadata": {
    "scrolled": true
   },
   "outputs": [
    {
     "name": "stdout",
     "output_type": "stream",
     "text": [
      "<class 'pandas.core.frame.DataFrame'>\n",
      "RangeIndex: 21525 entries, 0 to 21524\n",
      "Data columns (total 12 columns):\n",
      "children            21525 non-null int64\n",
      "days_employed       19351 non-null float64\n",
      "dob_years           21525 non-null int64\n",
      "education           21525 non-null object\n",
      "education_id        21525 non-null int64\n",
      "family_status       21525 non-null object\n",
      "family_status_id    21525 non-null int64\n",
      "gender              21525 non-null object\n",
      "income_type         21525 non-null object\n",
      "debt                21525 non-null int64\n",
      "total_income        19351 non-null float64\n",
      "purpose             21525 non-null object\n",
      "dtypes: float64(2), int64(5), object(5)\n",
      "memory usage: 2.0+ MB\n"
     ]
    }
   ],
   "source": [
    "# получение общей информации о данных в таблице df\n",
    "df.info()"
   ]
  },
  {
   "cell_type": "code",
   "execution_count": 5,
   "metadata": {},
   "outputs": [
    {
     "data": {
      "text/html": [
       "<div>\n",
       "<style scoped>\n",
       "    .dataframe tbody tr th:only-of-type {\n",
       "        vertical-align: middle;\n",
       "    }\n",
       "\n",
       "    .dataframe tbody tr th {\n",
       "        vertical-align: top;\n",
       "    }\n",
       "\n",
       "    .dataframe thead th {\n",
       "        text-align: right;\n",
       "    }\n",
       "</style>\n",
       "<table border=\"1\" class=\"dataframe\">\n",
       "  <thead>\n",
       "    <tr style=\"text-align: right;\">\n",
       "      <th></th>\n",
       "      <th>children</th>\n",
       "      <th>days_employed</th>\n",
       "      <th>dob_years</th>\n",
       "      <th>education_id</th>\n",
       "      <th>family_status_id</th>\n",
       "      <th>debt</th>\n",
       "      <th>total_income</th>\n",
       "    </tr>\n",
       "  </thead>\n",
       "  <tbody>\n",
       "    <tr>\n",
       "      <td>count</td>\n",
       "      <td>21525.000000</td>\n",
       "      <td>19351.000000</td>\n",
       "      <td>21525.000000</td>\n",
       "      <td>21525.000000</td>\n",
       "      <td>21525.000000</td>\n",
       "      <td>21525.000000</td>\n",
       "      <td>1.935100e+04</td>\n",
       "    </tr>\n",
       "    <tr>\n",
       "      <td>mean</td>\n",
       "      <td>0.538908</td>\n",
       "      <td>63046.497661</td>\n",
       "      <td>43.293380</td>\n",
       "      <td>0.817236</td>\n",
       "      <td>0.972544</td>\n",
       "      <td>0.080883</td>\n",
       "      <td>1.674223e+05</td>\n",
       "    </tr>\n",
       "    <tr>\n",
       "      <td>std</td>\n",
       "      <td>1.381587</td>\n",
       "      <td>140827.311974</td>\n",
       "      <td>12.574584</td>\n",
       "      <td>0.548138</td>\n",
       "      <td>1.420324</td>\n",
       "      <td>0.272661</td>\n",
       "      <td>1.029716e+05</td>\n",
       "    </tr>\n",
       "    <tr>\n",
       "      <td>min</td>\n",
       "      <td>-1.000000</td>\n",
       "      <td>-18388.949901</td>\n",
       "      <td>0.000000</td>\n",
       "      <td>0.000000</td>\n",
       "      <td>0.000000</td>\n",
       "      <td>0.000000</td>\n",
       "      <td>2.066726e+04</td>\n",
       "    </tr>\n",
       "    <tr>\n",
       "      <td>25%</td>\n",
       "      <td>0.000000</td>\n",
       "      <td>-2747.423625</td>\n",
       "      <td>33.000000</td>\n",
       "      <td>1.000000</td>\n",
       "      <td>0.000000</td>\n",
       "      <td>0.000000</td>\n",
       "      <td>1.030532e+05</td>\n",
       "    </tr>\n",
       "    <tr>\n",
       "      <td>50%</td>\n",
       "      <td>0.000000</td>\n",
       "      <td>-1203.369529</td>\n",
       "      <td>42.000000</td>\n",
       "      <td>1.000000</td>\n",
       "      <td>0.000000</td>\n",
       "      <td>0.000000</td>\n",
       "      <td>1.450179e+05</td>\n",
       "    </tr>\n",
       "    <tr>\n",
       "      <td>75%</td>\n",
       "      <td>1.000000</td>\n",
       "      <td>-291.095954</td>\n",
       "      <td>53.000000</td>\n",
       "      <td>1.000000</td>\n",
       "      <td>1.000000</td>\n",
       "      <td>0.000000</td>\n",
       "      <td>2.034351e+05</td>\n",
       "    </tr>\n",
       "    <tr>\n",
       "      <td>max</td>\n",
       "      <td>20.000000</td>\n",
       "      <td>401755.400475</td>\n",
       "      <td>75.000000</td>\n",
       "      <td>4.000000</td>\n",
       "      <td>4.000000</td>\n",
       "      <td>1.000000</td>\n",
       "      <td>2.265604e+06</td>\n",
       "    </tr>\n",
       "  </tbody>\n",
       "</table>\n",
       "</div>"
      ],
      "text/plain": [
       "           children  days_employed     dob_years  education_id  \\\n",
       "count  21525.000000   19351.000000  21525.000000  21525.000000   \n",
       "mean       0.538908   63046.497661     43.293380      0.817236   \n",
       "std        1.381587  140827.311974     12.574584      0.548138   \n",
       "min       -1.000000  -18388.949901      0.000000      0.000000   \n",
       "25%        0.000000   -2747.423625     33.000000      1.000000   \n",
       "50%        0.000000   -1203.369529     42.000000      1.000000   \n",
       "75%        1.000000    -291.095954     53.000000      1.000000   \n",
       "max       20.000000  401755.400475     75.000000      4.000000   \n",
       "\n",
       "       family_status_id          debt  total_income  \n",
       "count      21525.000000  21525.000000  1.935100e+04  \n",
       "mean           0.972544      0.080883  1.674223e+05  \n",
       "std            1.420324      0.272661  1.029716e+05  \n",
       "min            0.000000      0.000000  2.066726e+04  \n",
       "25%            0.000000      0.000000  1.030532e+05  \n",
       "50%            0.000000      0.000000  1.450179e+05  \n",
       "75%            1.000000      0.000000  2.034351e+05  \n",
       "max            4.000000      1.000000  2.265604e+06  "
      ]
     },
     "execution_count": 5,
     "metadata": {},
     "output_type": "execute_result"
    }
   ],
   "source": [
    "df.describe()"
   ]
  },
  {
   "cell_type": "markdown",
   "metadata": {},
   "source": [
    "**Вывод**"
   ]
  },
  {
   "cell_type": "markdown",
   "metadata": {},
   "source": [
    "Итак, в таблице двенадцать столбцов. Тип данных в столбцах различается.\n",
    "\n",
    "Согласно документации к данным:\n",
    "* `children` — количество детей в семье;\n",
    "* `days_employed` — трудовой стаж в днях;  \n",
    "* `dob_years` — возраст клиента в годах;\n",
    "* `education` — образование клиента;\n",
    "* `education_id` — идентификатор образования;\n",
    "* `family_status` — семейное положение;\n",
    "* `family_status_id` — идентификатор семейного положения;\n",
    "* `gender` — пол клиента;\n",
    "* `income_type` — тип занятости;\n",
    "* `debt` — имел ли задолженность по возврату кредитов;\n",
    "* `total_income` — доход в месяц;\n",
    "* `purpose` — цель получения кредита.\n",
    "\n",
    "В названиях колонок нет нарушения стиля.\n",
    "\n",
    "Количество значений в столбцах различается. Значит, в данных есть пропущенные значения.\n"
   ]
  },
  {
   "cell_type": "markdown",
   "metadata": {},
   "source": [
    "В каждой строке таблицы — данные о клиентах. Каждая из колонок содержит определенные данные о клиентах. Одна строка - одни клиент и, соответственно, данные о нем. \n",
    "\n",
    "Предварительно можно утверждать, что, данных достаточно для проверки гипотез. Но встречаются пропуски в данных.\n",
    "Возможно наличие дубликатов, связанное с использованием различных регистров в столбце `education`, а также тем, что в столбце `days_employed`представлены как отрицательные, так и положительные числа.\n",
    "В таблице встречаются вещественные числа - для удобства работы с данными считается разумным перевести их в целочисленные.\n",
    "В столбце `children` заметны ошибки - максимум детей: 20, а минимум: -1.\n",
    "\n",
    "Чтобы двигаться дальше, нужно устранить проблемы в данных."
   ]
  },
  {
   "cell_type": "markdown",
   "metadata": {},
   "source": [
    "## Шаг 2. Предобработка данных"
   ]
  },
  {
   "cell_type": "markdown",
   "metadata": {},
   "source": [
    "### Обработка пропусков"
   ]
  },
  {
   "cell_type": "markdown",
   "metadata": {},
   "source": [
    "Чтобы можно было работать с данными, необходимо сначала посчитать пропуски, а затем устранить их или заменить по возможности."
   ]
  },
  {
   "cell_type": "code",
   "execution_count": 6,
   "metadata": {},
   "outputs": [
    {
     "data": {
      "text/plain": [
       "children               0\n",
       "days_employed       2174\n",
       "dob_years              0\n",
       "education              0\n",
       "education_id           0\n",
       "family_status          0\n",
       "family_status_id       0\n",
       "gender                 0\n",
       "income_type            0\n",
       "debt                   0\n",
       "total_income        2174\n",
       "purpose                0\n",
       "dtype: int64"
      ]
     },
     "execution_count": 6,
     "metadata": {},
     "output_type": "execute_result"
    }
   ],
   "source": [
    "#подсчёт пропусков\n",
    "df.isna().sum()"
   ]
  },
  {
   "cell_type": "markdown",
   "metadata": {},
   "source": [
    "Мы видим, что пропуски присутствуют только в двух столбцах - `days_employed` и `total_income`. Если трудовой стаж для анализа нашей гипотезы не играет серьезной роли, то уровень дохода необходим для подверждения гипотезы. Пропуски в столбце со стажем могли возникнуть по причине отсутствия трудового стажа у клиентов, которые просто не стали заполнять данную графу. \n",
    "Пропуски же в столбце с доходом, вероятно, возникли по причине ошибки самих клиентов - возможно они забыли указать их. Также возможна техническая ошибка."
   ]
  },
  {
   "cell_type": "markdown",
   "metadata": {},
   "source": [
    "Проверим предположение по поводу столбца `days_employed` и посчитаем количество клиентов с трудовы стажем равным 0."
   ]
  },
  {
   "cell_type": "code",
   "execution_count": 7,
   "metadata": {},
   "outputs": [
    {
     "data": {
      "text/plain": [
       "0"
      ]
     },
     "execution_count": 7,
     "metadata": {},
     "output_type": "execute_result"
    }
   ],
   "source": [
    "#Считаем количество занчений в столбце, равных 0\n",
    "df[df['days_employed'] == 0]['days_employed'].count()"
   ]
  },
  {
   "cell_type": "markdown",
   "metadata": {},
   "source": [
    "Предположение подтвердилось. Вероятнее всего, клиенты не имеющие трудовой стаж просто не заполняли подобные данные о себе.\n",
    "Поскольку пропуски в столбце `days_employed` не влияют на исследование, то можно заменить все пропуски в данном столбце на 0."
   ]
  },
  {
   "cell_type": "code",
   "execution_count": 8,
   "metadata": {},
   "outputs": [],
   "source": [
    "#Заменяем все пропуски в столбце на 0\n",
    "df.loc[df['days_employed'].isna(), 'days_employed'] = 0"
   ]
  },
  {
   "cell_type": "markdown",
   "metadata": {},
   "source": [
    "Для удобства работы с данными и эстетического вида таблицы изменим все значения в столбце `days_employed` с дней на года. А затем все аномально большие значения заменим на более приемлемые."
   ]
  },
  {
   "cell_type": "code",
   "execution_count": 9,
   "metadata": {},
   "outputs": [],
   "source": [
    "#переименовываем название столбца\n",
    "df = df.rename(columns={'days_employed':'years_employed'})"
   ]
  },
  {
   "cell_type": "code",
   "execution_count": 10,
   "metadata": {},
   "outputs": [],
   "source": [
    "#переводим дни в года (без учета високосных лет)\n",
    "df['years_employed'] = df['years_employed']/365"
   ]
  },
  {
   "cell_type": "code",
   "execution_count": 11,
   "metadata": {
    "scrolled": true
   },
   "outputs": [
    {
     "data": {
      "text/html": [
       "<div>\n",
       "<style scoped>\n",
       "    .dataframe tbody tr th:only-of-type {\n",
       "        vertical-align: middle;\n",
       "    }\n",
       "\n",
       "    .dataframe tbody tr th {\n",
       "        vertical-align: top;\n",
       "    }\n",
       "\n",
       "    .dataframe thead th {\n",
       "        text-align: right;\n",
       "    }\n",
       "</style>\n",
       "<table border=\"1\" class=\"dataframe\">\n",
       "  <thead>\n",
       "    <tr style=\"text-align: right;\">\n",
       "      <th></th>\n",
       "      <th>children</th>\n",
       "      <th>years_employed</th>\n",
       "      <th>dob_years</th>\n",
       "      <th>education</th>\n",
       "      <th>education_id</th>\n",
       "      <th>family_status</th>\n",
       "      <th>family_status_id</th>\n",
       "      <th>gender</th>\n",
       "      <th>income_type</th>\n",
       "      <th>debt</th>\n",
       "      <th>total_income</th>\n",
       "      <th>purpose</th>\n",
       "    </tr>\n",
       "  </thead>\n",
       "  <tbody>\n",
       "    <tr>\n",
       "      <td>0</td>\n",
       "      <td>1</td>\n",
       "      <td>-23.116912</td>\n",
       "      <td>42</td>\n",
       "      <td>высшее</td>\n",
       "      <td>0</td>\n",
       "      <td>женат / замужем</td>\n",
       "      <td>0</td>\n",
       "      <td>F</td>\n",
       "      <td>сотрудник</td>\n",
       "      <td>0</td>\n",
       "      <td>253875.639453</td>\n",
       "      <td>покупка жилья</td>\n",
       "    </tr>\n",
       "    <tr>\n",
       "      <td>1</td>\n",
       "      <td>1</td>\n",
       "      <td>-11.026860</td>\n",
       "      <td>36</td>\n",
       "      <td>среднее</td>\n",
       "      <td>1</td>\n",
       "      <td>женат / замужем</td>\n",
       "      <td>0</td>\n",
       "      <td>F</td>\n",
       "      <td>сотрудник</td>\n",
       "      <td>0</td>\n",
       "      <td>112080.014102</td>\n",
       "      <td>приобретение автомобиля</td>\n",
       "    </tr>\n",
       "    <tr>\n",
       "      <td>2</td>\n",
       "      <td>0</td>\n",
       "      <td>-15.406637</td>\n",
       "      <td>33</td>\n",
       "      <td>Среднее</td>\n",
       "      <td>1</td>\n",
       "      <td>женат / замужем</td>\n",
       "      <td>0</td>\n",
       "      <td>M</td>\n",
       "      <td>сотрудник</td>\n",
       "      <td>0</td>\n",
       "      <td>145885.952297</td>\n",
       "      <td>покупка жилья</td>\n",
       "    </tr>\n",
       "    <tr>\n",
       "      <td>3</td>\n",
       "      <td>3</td>\n",
       "      <td>-11.300677</td>\n",
       "      <td>32</td>\n",
       "      <td>среднее</td>\n",
       "      <td>1</td>\n",
       "      <td>женат / замужем</td>\n",
       "      <td>0</td>\n",
       "      <td>M</td>\n",
       "      <td>сотрудник</td>\n",
       "      <td>0</td>\n",
       "      <td>267628.550329</td>\n",
       "      <td>дополнительное образование</td>\n",
       "    </tr>\n",
       "    <tr>\n",
       "      <td>4</td>\n",
       "      <td>0</td>\n",
       "      <td>932.235814</td>\n",
       "      <td>53</td>\n",
       "      <td>среднее</td>\n",
       "      <td>1</td>\n",
       "      <td>гражданский брак</td>\n",
       "      <td>1</td>\n",
       "      <td>F</td>\n",
       "      <td>пенсионер</td>\n",
       "      <td>0</td>\n",
       "      <td>158616.077870</td>\n",
       "      <td>сыграть свадьбу</td>\n",
       "    </tr>\n",
       "  </tbody>\n",
       "</table>\n",
       "</div>"
      ],
      "text/plain": [
       "   children  years_employed  dob_years education  education_id  \\\n",
       "0         1      -23.116912         42    высшее             0   \n",
       "1         1      -11.026860         36   среднее             1   \n",
       "2         0      -15.406637         33   Среднее             1   \n",
       "3         3      -11.300677         32   среднее             1   \n",
       "4         0      932.235814         53   среднее             1   \n",
       "\n",
       "      family_status  family_status_id gender income_type  debt   total_income  \\\n",
       "0   женат / замужем                 0      F   сотрудник     0  253875.639453   \n",
       "1   женат / замужем                 0      F   сотрудник     0  112080.014102   \n",
       "2   женат / замужем                 0      M   сотрудник     0  145885.952297   \n",
       "3   женат / замужем                 0      M   сотрудник     0  267628.550329   \n",
       "4  гражданский брак                 1      F   пенсионер     0  158616.077870   \n",
       "\n",
       "                      purpose  \n",
       "0               покупка жилья  \n",
       "1     приобретение автомобиля  \n",
       "2               покупка жилья  \n",
       "3  дополнительное образование  \n",
       "4             сыграть свадьбу  "
      ]
     },
     "execution_count": 11,
     "metadata": {},
     "output_type": "execute_result"
    }
   ],
   "source": [
    "#проверяем полученный результат\n",
    "df.head()"
   ]
  },
  {
   "cell_type": "markdown",
   "metadata": {},
   "source": [
    "В глаза сразу бросается аномально большое значение - нужно от него избавиться. Возможно, клиенты банка указывали стаж не в днях, а в часах - тогда это объясняет возникновение подобных аномалий.\n",
    "\n",
    "Создадим цикл, который будет избавляться от аномально больших значений, деля их на 24 (ровно столько часов в сутках).\n",
    "\n",
    "За аномально большие значения воззьмем те, которые превышает возраст клиентов."
   ]
  },
  {
   "cell_type": "code",
   "execution_count": 12,
   "metadata": {
    "scrolled": true
   },
   "outputs": [
    {
     "name": "stderr",
     "output_type": "stream",
     "text": [
      "/opt/conda/lib/python3.7/site-packages/ipykernel_launcher.py:4: SettingWithCopyWarning: \n",
      "A value is trying to be set on a copy of a slice from a DataFrame\n",
      "\n",
      "See the caveats in the documentation: http://pandas.pydata.org/pandas-docs/stable/user_guide/indexing.html#returning-a-view-versus-a-copy\n",
      "  after removing the cwd from sys.path.\n"
     ]
    },
    {
     "data": {
      "text/html": [
       "<div>\n",
       "<style scoped>\n",
       "    .dataframe tbody tr th:only-of-type {\n",
       "        vertical-align: middle;\n",
       "    }\n",
       "\n",
       "    .dataframe tbody tr th {\n",
       "        vertical-align: top;\n",
       "    }\n",
       "\n",
       "    .dataframe thead th {\n",
       "        text-align: right;\n",
       "    }\n",
       "</style>\n",
       "<table border=\"1\" class=\"dataframe\">\n",
       "  <thead>\n",
       "    <tr style=\"text-align: right;\">\n",
       "      <th></th>\n",
       "      <th>children</th>\n",
       "      <th>years_employed</th>\n",
       "      <th>dob_years</th>\n",
       "      <th>education</th>\n",
       "      <th>education_id</th>\n",
       "      <th>family_status</th>\n",
       "      <th>family_status_id</th>\n",
       "      <th>gender</th>\n",
       "      <th>income_type</th>\n",
       "      <th>debt</th>\n",
       "      <th>total_income</th>\n",
       "      <th>purpose</th>\n",
       "    </tr>\n",
       "  </thead>\n",
       "  <tbody>\n",
       "    <tr>\n",
       "      <td>0</td>\n",
       "      <td>1</td>\n",
       "      <td>-23.116912</td>\n",
       "      <td>42</td>\n",
       "      <td>высшее</td>\n",
       "      <td>0</td>\n",
       "      <td>женат / замужем</td>\n",
       "      <td>0</td>\n",
       "      <td>F</td>\n",
       "      <td>сотрудник</td>\n",
       "      <td>0</td>\n",
       "      <td>253875.639453</td>\n",
       "      <td>покупка жилья</td>\n",
       "    </tr>\n",
       "    <tr>\n",
       "      <td>1</td>\n",
       "      <td>1</td>\n",
       "      <td>-11.026860</td>\n",
       "      <td>36</td>\n",
       "      <td>среднее</td>\n",
       "      <td>1</td>\n",
       "      <td>женат / замужем</td>\n",
       "      <td>0</td>\n",
       "      <td>F</td>\n",
       "      <td>сотрудник</td>\n",
       "      <td>0</td>\n",
       "      <td>112080.014102</td>\n",
       "      <td>приобретение автомобиля</td>\n",
       "    </tr>\n",
       "    <tr>\n",
       "      <td>2</td>\n",
       "      <td>0</td>\n",
       "      <td>-15.406637</td>\n",
       "      <td>33</td>\n",
       "      <td>Среднее</td>\n",
       "      <td>1</td>\n",
       "      <td>женат / замужем</td>\n",
       "      <td>0</td>\n",
       "      <td>M</td>\n",
       "      <td>сотрудник</td>\n",
       "      <td>0</td>\n",
       "      <td>145885.952297</td>\n",
       "      <td>покупка жилья</td>\n",
       "    </tr>\n",
       "    <tr>\n",
       "      <td>3</td>\n",
       "      <td>3</td>\n",
       "      <td>-11.300677</td>\n",
       "      <td>32</td>\n",
       "      <td>среднее</td>\n",
       "      <td>1</td>\n",
       "      <td>женат / замужем</td>\n",
       "      <td>0</td>\n",
       "      <td>M</td>\n",
       "      <td>сотрудник</td>\n",
       "      <td>0</td>\n",
       "      <td>267628.550329</td>\n",
       "      <td>дополнительное образование</td>\n",
       "    </tr>\n",
       "    <tr>\n",
       "      <td>4</td>\n",
       "      <td>0</td>\n",
       "      <td>38.843159</td>\n",
       "      <td>53</td>\n",
       "      <td>среднее</td>\n",
       "      <td>1</td>\n",
       "      <td>гражданский брак</td>\n",
       "      <td>1</td>\n",
       "      <td>F</td>\n",
       "      <td>пенсионер</td>\n",
       "      <td>0</td>\n",
       "      <td>158616.077870</td>\n",
       "      <td>сыграть свадьбу</td>\n",
       "    </tr>\n",
       "  </tbody>\n",
       "</table>\n",
       "</div>"
      ],
      "text/plain": [
       "   children  years_employed  dob_years education  education_id  \\\n",
       "0         1      -23.116912         42    высшее             0   \n",
       "1         1      -11.026860         36   среднее             1   \n",
       "2         0      -15.406637         33   Среднее             1   \n",
       "3         3      -11.300677         32   среднее             1   \n",
       "4         0       38.843159         53   среднее             1   \n",
       "\n",
       "      family_status  family_status_id gender income_type  debt   total_income  \\\n",
       "0   женат / замужем                 0      F   сотрудник     0  253875.639453   \n",
       "1   женат / замужем                 0      F   сотрудник     0  112080.014102   \n",
       "2   женат / замужем                 0      M   сотрудник     0  145885.952297   \n",
       "3   женат / замужем                 0      M   сотрудник     0  267628.550329   \n",
       "4  гражданский брак                 1      F   пенсионер     0  158616.077870   \n",
       "\n",
       "                      purpose  \n",
       "0               покупка жилья  \n",
       "1     приобретение автомобиля  \n",
       "2               покупка жилья  \n",
       "3  дополнительное образование  \n",
       "4             сыграть свадьбу  "
      ]
     },
     "execution_count": 12,
     "metadata": {},
     "output_type": "execute_result"
    }
   ],
   "source": [
    "#цикл для избавления от аномальных значений\n",
    "for index in range(len(df['years_employed'])):\n",
    "    if df['years_employed'][index] > df['dob_years'][index]:\n",
    "        df['years_employed'][index] = df['years_employed'][index]/24\n",
    "        import warnings\n",
    "        warnings.filterwarnings(\"ignore\")\n",
    "df.head()"
   ]
  },
  {
   "cell_type": "markdown",
   "metadata": {},
   "source": [
    "Посчитаем количество пропусков в столбцу со стажем после замены"
   ]
  },
  {
   "cell_type": "code",
   "execution_count": 13,
   "metadata": {
    "scrolled": true
   },
   "outputs": [
    {
     "data": {
      "text/plain": [
       "0"
      ]
     },
     "execution_count": 13,
     "metadata": {},
     "output_type": "execute_result"
    }
   ],
   "source": [
    "#Считаем количество пропусков после замены\n",
    "df['years_employed'].isna().sum()"
   ]
  },
  {
   "cell_type": "markdown",
   "metadata": {},
   "source": [
    "С пропусками в столбце `days_employed` мы разобрались - теперь необходимо устранить пропуски в столбце `total_income`.\n",
    "Заменить пропуски в этом столбце можно медианой. Однако можно разумно полагать, что доход в месяц в зависимости от типа занятости может значительно отличаться."
   ]
  },
  {
   "cell_type": "markdown",
   "metadata": {},
   "source": [
    "Создадим цикл, который будет принимать уникальные значения столбца `income_type` и рассчитает медианный доход для каждого из типов занятости"
   ]
  },
  {
   "cell_type": "code",
   "execution_count": 14,
   "metadata": {},
   "outputs": [],
   "source": [
    "#уникальные значения столбца income_type\n",
    "income_type_uniq = df['income_type'].unique()"
   ]
  },
  {
   "cell_type": "code",
   "execution_count": 15,
   "metadata": {},
   "outputs": [
    {
     "name": "stdout",
     "output_type": "stream",
     "text": [
      "сотрудник - 142594.39684740017\n",
      "пенсионер - 118514.48641164352\n",
      "компаньон - 172357.95096577113\n",
      "госслужащий - 150447.9352830068\n",
      "безработный - 131339.7516762103\n",
      "предприниматель - 499163.1449470857\n",
      "студент - 98201.62531401133\n",
      "в декрете - 53829.13072905995\n"
     ]
    }
   ],
   "source": [
    "#рассчитаем медианный доход клиентов в зависимости от типа занятости с помощью цикла\n",
    "for elem in income_type_uniq:\n",
    "    salary = df.loc[df['income_type'] == elem, 'total_income' ].median()\n",
    "    print(f'{elem} - {salary}')"
   ]
  },
  {
   "cell_type": "markdown",
   "metadata": {},
   "source": [
    "Предположения подтвердились, и в зависимости от типа занятости доходы клиентов значительно различаются. Поэтому разумным будет сгруппировать данные по столбцу `income_type` и найти медианный доход для каждой из групп. Затем заменить все пропуски на полученные данные в зависимости от группы."
   ]
  },
  {
   "cell_type": "code",
   "execution_count": 16,
   "metadata": {},
   "outputs": [],
   "source": [
    "#заменяем пропуски в столбце income_type на медианной значение\n",
    "for elem in income_type_uniq:\n",
    "    median = df.loc[df['income_type'] == elem, 'total_income' ].median()\n",
    "    df.loc[(df['total_income'].isna()) & (df['income_type'] == elem), 'total_income'] = median"
   ]
  },
  {
   "cell_type": "markdown",
   "metadata": {},
   "source": [
    "Посчитаем количество пропусков в столбцу со стажем после замены"
   ]
  },
  {
   "cell_type": "code",
   "execution_count": 17,
   "metadata": {},
   "outputs": [
    {
     "data": {
      "text/plain": [
       "0"
      ]
     },
     "execution_count": 17,
     "metadata": {},
     "output_type": "execute_result"
    }
   ],
   "source": [
    "#Считаем количество пропусков после замены\n",
    "df['total_income'].isna().sum()"
   ]
  },
  {
   "cell_type": "markdown",
   "metadata": {},
   "source": [
    "Для удобства работы с данными разделим значения в столбце с ежемесячным доходом на 1000, чтобы значения измерялись в тысячах. \n",
    "А затем посчитаем количество дубликатов."
   ]
  },
  {
   "cell_type": "code",
   "execution_count": 18,
   "metadata": {},
   "outputs": [],
   "source": [
    "#переводим значения столбца в тысячи\n",
    "df['total_income'] = df['total_income'] /1000"
   ]
  },
  {
   "cell_type": "code",
   "execution_count": 19,
   "metadata": {
    "scrolled": true
   },
   "outputs": [
    {
     "data": {
      "text/plain": [
       "0"
      ]
     },
     "execution_count": 19,
     "metadata": {},
     "output_type": "execute_result"
    }
   ],
   "source": [
    "#считаем дубликаты\n",
    "df['years_employed'].isna().sum()"
   ]
  },
  {
   "cell_type": "code",
   "execution_count": 20,
   "metadata": {},
   "outputs": [],
   "source": [
    "#переименум столбце\n",
    "df = df.rename(columns={'total_income':'total_income(*1000)'})"
   ]
  },
  {
   "cell_type": "code",
   "execution_count": 21,
   "metadata": {},
   "outputs": [
    {
     "data": {
      "text/html": [
       "<div>\n",
       "<style scoped>\n",
       "    .dataframe tbody tr th:only-of-type {\n",
       "        vertical-align: middle;\n",
       "    }\n",
       "\n",
       "    .dataframe tbody tr th {\n",
       "        vertical-align: top;\n",
       "    }\n",
       "\n",
       "    .dataframe thead th {\n",
       "        text-align: right;\n",
       "    }\n",
       "</style>\n",
       "<table border=\"1\" class=\"dataframe\">\n",
       "  <thead>\n",
       "    <tr style=\"text-align: right;\">\n",
       "      <th></th>\n",
       "      <th>children</th>\n",
       "      <th>years_employed</th>\n",
       "      <th>dob_years</th>\n",
       "      <th>education</th>\n",
       "      <th>education_id</th>\n",
       "      <th>family_status</th>\n",
       "      <th>family_status_id</th>\n",
       "      <th>gender</th>\n",
       "      <th>income_type</th>\n",
       "      <th>debt</th>\n",
       "      <th>total_income(*1000)</th>\n",
       "      <th>purpose</th>\n",
       "    </tr>\n",
       "  </thead>\n",
       "  <tbody>\n",
       "    <tr>\n",
       "      <td>0</td>\n",
       "      <td>1</td>\n",
       "      <td>-23.116912</td>\n",
       "      <td>42</td>\n",
       "      <td>высшее</td>\n",
       "      <td>0</td>\n",
       "      <td>женат / замужем</td>\n",
       "      <td>0</td>\n",
       "      <td>F</td>\n",
       "      <td>сотрудник</td>\n",
       "      <td>0</td>\n",
       "      <td>253.875639</td>\n",
       "      <td>покупка жилья</td>\n",
       "    </tr>\n",
       "    <tr>\n",
       "      <td>1</td>\n",
       "      <td>1</td>\n",
       "      <td>-11.026860</td>\n",
       "      <td>36</td>\n",
       "      <td>среднее</td>\n",
       "      <td>1</td>\n",
       "      <td>женат / замужем</td>\n",
       "      <td>0</td>\n",
       "      <td>F</td>\n",
       "      <td>сотрудник</td>\n",
       "      <td>0</td>\n",
       "      <td>112.080014</td>\n",
       "      <td>приобретение автомобиля</td>\n",
       "    </tr>\n",
       "    <tr>\n",
       "      <td>2</td>\n",
       "      <td>0</td>\n",
       "      <td>-15.406637</td>\n",
       "      <td>33</td>\n",
       "      <td>Среднее</td>\n",
       "      <td>1</td>\n",
       "      <td>женат / замужем</td>\n",
       "      <td>0</td>\n",
       "      <td>M</td>\n",
       "      <td>сотрудник</td>\n",
       "      <td>0</td>\n",
       "      <td>145.885952</td>\n",
       "      <td>покупка жилья</td>\n",
       "    </tr>\n",
       "    <tr>\n",
       "      <td>3</td>\n",
       "      <td>3</td>\n",
       "      <td>-11.300677</td>\n",
       "      <td>32</td>\n",
       "      <td>среднее</td>\n",
       "      <td>1</td>\n",
       "      <td>женат / замужем</td>\n",
       "      <td>0</td>\n",
       "      <td>M</td>\n",
       "      <td>сотрудник</td>\n",
       "      <td>0</td>\n",
       "      <td>267.628550</td>\n",
       "      <td>дополнительное образование</td>\n",
       "    </tr>\n",
       "    <tr>\n",
       "      <td>4</td>\n",
       "      <td>0</td>\n",
       "      <td>38.843159</td>\n",
       "      <td>53</td>\n",
       "      <td>среднее</td>\n",
       "      <td>1</td>\n",
       "      <td>гражданский брак</td>\n",
       "      <td>1</td>\n",
       "      <td>F</td>\n",
       "      <td>пенсионер</td>\n",
       "      <td>0</td>\n",
       "      <td>158.616078</td>\n",
       "      <td>сыграть свадьбу</td>\n",
       "    </tr>\n",
       "  </tbody>\n",
       "</table>\n",
       "</div>"
      ],
      "text/plain": [
       "   children  years_employed  dob_years education  education_id  \\\n",
       "0         1      -23.116912         42    высшее             0   \n",
       "1         1      -11.026860         36   среднее             1   \n",
       "2         0      -15.406637         33   Среднее             1   \n",
       "3         3      -11.300677         32   среднее             1   \n",
       "4         0       38.843159         53   среднее             1   \n",
       "\n",
       "      family_status  family_status_id gender income_type  debt  \\\n",
       "0   женат / замужем                 0      F   сотрудник     0   \n",
       "1   женат / замужем                 0      F   сотрудник     0   \n",
       "2   женат / замужем                 0      M   сотрудник     0   \n",
       "3   женат / замужем                 0      M   сотрудник     0   \n",
       "4  гражданский брак                 1      F   пенсионер     0   \n",
       "\n",
       "   total_income(*1000)                     purpose  \n",
       "0           253.875639               покупка жилья  \n",
       "1           112.080014     приобретение автомобиля  \n",
       "2           145.885952               покупка жилья  \n",
       "3           267.628550  дополнительное образование  \n",
       "4           158.616078             сыграть свадьбу  "
      ]
     },
     "execution_count": 21,
     "metadata": {},
     "output_type": "execute_result"
    }
   ],
   "source": [
    "#смотрим на внешний вид таблицы\n",
    "df.head()"
   ]
  },
  {
   "cell_type": "markdown",
   "metadata": {},
   "source": [
    "**Вывод**"
   ]
  },
  {
   "cell_type": "markdown",
   "metadata": {},
   "source": [
    "Таким образом, были заполены все пропущенные значения в столбцах `income_type` и `days_employed`.\n",
    "Поскольку столбец `days_employed` не важен для исследования, то пропущенные значения в нем были заменены на 0 с помомощью <b>loc</b>.\n",
    "Стобец же `income_type` необходим для подтверждения одной из гипотез, поэтому пропуски в нем были заменены на медианные значения в зависимости от типа занятости с использованием <b>loc</b>."
   ]
  },
  {
   "cell_type": "markdown",
   "metadata": {},
   "source": [
    "### Замена типа данных"
   ]
  },
  {
   "cell_type": "markdown",
   "metadata": {},
   "source": [
    "Данные в столбцах `total_income` и `days_employed` имеют тип <b>float64</b>.\n",
    "Представление доходов клиентов и дней стажа клиентов в вещественном типе данных кажется лишним и препятствующем обобщению результатов. Поэтому лучше заменить в данных столбцах тип данных на <b>целочисленный</b>."
   ]
  },
  {
   "cell_type": "code",
   "execution_count": 22,
   "metadata": {},
   "outputs": [],
   "source": [
    "#заменяем тип данных в столбцах на целочисленный\n",
    "df[['total_income(*1000)', 'years_employed']] = df[['total_income(*1000)', 'years_employed']].astype('int')"
   ]
  },
  {
   "cell_type": "code",
   "execution_count": 23,
   "metadata": {},
   "outputs": [
    {
     "name": "stdout",
     "output_type": "stream",
     "text": [
      "<class 'pandas.core.frame.DataFrame'>\n",
      "RangeIndex: 21525 entries, 0 to 21524\n",
      "Data columns (total 12 columns):\n",
      "children               21525 non-null int64\n",
      "years_employed         21525 non-null int64\n",
      "dob_years              21525 non-null int64\n",
      "education              21525 non-null object\n",
      "education_id           21525 non-null int64\n",
      "family_status          21525 non-null object\n",
      "family_status_id       21525 non-null int64\n",
      "gender                 21525 non-null object\n",
      "income_type            21525 non-null object\n",
      "debt                   21525 non-null int64\n",
      "total_income(*1000)    21525 non-null int64\n",
      "purpose                21525 non-null object\n",
      "dtypes: int64(7), object(5)\n",
      "memory usage: 2.0+ MB\n"
     ]
    }
   ],
   "source": [
    "#получаем общую информацию о таблице\n",
    "df.info()"
   ]
  },
  {
   "cell_type": "markdown",
   "metadata": {},
   "source": [
    "**Вывод**"
   ]
  },
  {
   "cell_type": "markdown",
   "metadata": {},
   "source": [
    "Мы заменили типы данных в столбцах `total_income` и `days_employed` на <b>int64</b> с помощью метода astype(). Теперь работать с данными в данных столбцах стало намного проще и удобнее. Был использован именно метод `astype()`, а не метод `to_numeric`, поскольку второй метод может заменять тип данных только на <b>float64</b>, а нам нужен был именно <b>int64</b>."
   ]
  },
  {
   "cell_type": "markdown",
   "metadata": {},
   "source": [
    "### Обработка дубликатов"
   ]
  },
  {
   "cell_type": "markdown",
   "metadata": {},
   "source": [
    "Теперь необходимо обработать дубликаты. Для начала посчитаем явные дубликаты в таблице"
   ]
  },
  {
   "cell_type": "code",
   "execution_count": 24,
   "metadata": {},
   "outputs": [
    {
     "data": {
      "text/plain": [
       "55"
      ]
     },
     "execution_count": 24,
     "metadata": {},
     "output_type": "execute_result"
    }
   ],
   "source": [
    "# подсчёт явных дубликатов\n",
    "df.duplicated().sum()"
   ]
  },
  {
   "cell_type": "markdown",
   "metadata": {},
   "source": [
    "Вызываем специальный метод pandas, чтобы удалить явные дубликаты"
   ]
  },
  {
   "cell_type": "code",
   "execution_count": 25,
   "metadata": {},
   "outputs": [],
   "source": [
    "# удаление явных дубликатов (с удалением старых индексов и формированием новых)\n",
    "df = df.drop_duplicates().reset_index(drop=True)"
   ]
  },
  {
   "cell_type": "markdown",
   "metadata": {},
   "source": [
    "Потворно считаем явные дубликаты в таблице"
   ]
  },
  {
   "cell_type": "code",
   "execution_count": 26,
   "metadata": {
    "scrolled": true
   },
   "outputs": [
    {
     "data": {
      "text/plain": [
       "0"
      ]
     },
     "execution_count": 26,
     "metadata": {},
     "output_type": "execute_result"
    }
   ],
   "source": [
    "# проверка на отсутствие дубликатов\n",
    "df.duplicated().sum()"
   ]
  },
  {
   "cell_type": "markdown",
   "metadata": {},
   "source": [
    "Теперь нужно избавиться от неявных дубликатов."
   ]
  },
  {
   "cell_type": "markdown",
   "metadata": {},
   "source": [
    "Для начала приведем столбец `education`в порядок. При выводе на экран первых 10 строк таблицы мы увидели, что в данном столбце значения различаются по регистру. Поэтому для поиска неявных дубликатов приведем все значения в данном столбце к нижнему регистру с помощью метода str.lower()."
   ]
  },
  {
   "cell_type": "code",
   "execution_count": 27,
   "metadata": {},
   "outputs": [],
   "source": [
    "#приводим значения в столбце education к нижнему регистру\n",
    "df['education'] = df['education'].str.lower()"
   ]
  },
  {
   "cell_type": "markdown",
   "metadata": {},
   "source": [
    "Теперь подсчитаем количество дубликатов"
   ]
  },
  {
   "cell_type": "code",
   "execution_count": 28,
   "metadata": {},
   "outputs": [
    {
     "data": {
      "text/plain": [
       "17"
      ]
     },
     "execution_count": 28,
     "metadata": {},
     "output_type": "execute_result"
    }
   ],
   "source": [
    "# подсчёт явных дубликатов\n",
    "df.duplicated().sum()"
   ]
  },
  {
   "cell_type": "markdown",
   "metadata": {},
   "source": [
    "Вызываем специальный метод pandas, чтобы удалить явные дубликаты. Затем подсчитываем заново количество дубликатов."
   ]
  },
  {
   "cell_type": "code",
   "execution_count": 29,
   "metadata": {},
   "outputs": [],
   "source": [
    "# удаление явных дубликатов (с удалением старых индексов и формированием новых)\n",
    "df = df.drop_duplicates().reset_index(drop=True)"
   ]
  },
  {
   "cell_type": "code",
   "execution_count": 30,
   "metadata": {},
   "outputs": [
    {
     "data": {
      "text/plain": [
       "0"
      ]
     },
     "execution_count": 30,
     "metadata": {},
     "output_type": "execute_result"
    }
   ],
   "source": [
    "# проверка на отсутствие дубликатов\n",
    "df.duplicated().sum()"
   ]
  },
  {
   "cell_type": "markdown",
   "metadata": {},
   "source": [
    "В столбце `days_employed` представлены как положительные, так и отрицательные значения. Поэтому приведем все значения в данном столбце к модулю."
   ]
  },
  {
   "cell_type": "code",
   "execution_count": 31,
   "metadata": {},
   "outputs": [],
   "source": [
    "#приводим значение столбца days_employed к модулю\n",
    "df['years_employed'] = df['years_employed'].apply(abs)"
   ]
  },
  {
   "cell_type": "markdown",
   "metadata": {},
   "source": [
    "Теперь проверим количество дубликатов после приведения значений к модулю"
   ]
  },
  {
   "cell_type": "code",
   "execution_count": 32,
   "metadata": {},
   "outputs": [
    {
     "data": {
      "text/plain": [
       "0"
      ]
     },
     "execution_count": 32,
     "metadata": {},
     "output_type": "execute_result"
    }
   ],
   "source": [
    "# проверка на отсутствие дубликатов\n",
    "df.duplicated().sum()"
   ]
  },
  {
   "cell_type": "markdown",
   "metadata": {},
   "source": [
    "Дубликаты после приведения в порядок не были обнаружены. Замечены некоторые выбивающиеся значения, которые не могут соответсвовать действительности - в частности, у некоторых клиентов стаж превышает возраст, но так, как данные столбцы не играют роли в нашем исследовании, трогать мы их не будем."
   ]
  },
  {
   "cell_type": "markdown",
   "metadata": {},
   "source": [
    "**Вывод**"
   ]
  },
  {
   "cell_type": "markdown",
   "metadata": {},
   "source": [
    "Мы обнаружили в таблице сначала явные дубликаты сочетанием методов **`duplicated()`** и **`sum()`**, а затем удалили их методом **`drop_duplicates()`**. Также мы выровняли индексацию конструкцией **`.reset_index(drop=True)`** Явные дубликаты появились в таблице вероятнее всего из-за технической ошибки или невнимательности человека.\n",
    "Затем привели значения в столбце `days_employed` к модулю с помощью **`abs()`** и значения в столбце `education` к нижнему регистру с помощью **`str.lower()`**, чтобы найти неявные дубликаты, а затем удалили их. Полагается, что неявные дубликаты возникли в результате того, что один и тот же клиент был посчитан два в связи с тем, что у них различались регистры. Вероятно, это система посчитала их за двух разных людей.\n"
   ]
  },
  {
   "cell_type": "markdown",
   "metadata": {},
   "source": [
    "### Лемматизация"
   ]
  },
  {
   "cell_type": "markdown",
   "metadata": {},
   "source": [
    "Для подтверждаения первой гипотезы, говорящей о связи между целью получения кредита и его возвратом в срок, необходимо будет произвести категоризацию данных по цели получения кредита. Для этого выведим список уникальных значений `purpose`, чтобы узнать, какие цели присутствуют в датасете. Если будут обнаружены схожие цели, то нужно будет привести их к единству."
   ]
  },
  {
   "cell_type": "code",
   "execution_count": 33,
   "metadata": {
    "scrolled": false
   },
   "outputs": [
    {
     "data": {
      "text/plain": [
       "свадьба                                   791\n",
       "на проведение свадьбы                     768\n",
       "сыграть свадьбу                           765\n",
       "операции с недвижимостью                  675\n",
       "покупка коммерческой недвижимости         661\n",
       "операции с жильем                         652\n",
       "покупка жилья для сдачи                   651\n",
       "операции с коммерческой недвижимостью     650\n",
       "жилье                                     646\n",
       "покупка жилья                             646\n",
       "покупка жилья для семьи                   638\n",
       "строительство собственной недвижимости    635\n",
       "недвижимость                              633\n",
       "операции со своей недвижимостью           627\n",
       "строительство жилой недвижимости          624\n",
       "покупка недвижимости                      621\n",
       "покупка своего жилья                      620\n",
       "строительство недвижимости                619\n",
       "ремонт жилью                              607\n",
       "покупка жилой недвижимости                606\n",
       "на покупку своего автомобиля              504\n",
       "заняться высшим образованием              496\n",
       "автомобиль                                494\n",
       "сделка с подержанным автомобилем          486\n",
       "на покупку подержанного автомобиля        478\n",
       "автомобили                                478\n",
       "свой автомобиль                           478\n",
       "на покупку автомобиля                     471\n",
       "приобретение автомобиля                   461\n",
       "дополнительное образование                460\n",
       "сделка с автомобилем                      455\n",
       "высшее образование                        452\n",
       "образование                               447\n",
       "получение дополнительного образования     446\n",
       "получение образования                     442\n",
       "профильное образование                    436\n",
       "получение высшего образования             426\n",
       "заняться образованием                     408\n",
       "Name: purpose, dtype: int64"
      ]
     },
     "execution_count": 33,
     "metadata": {},
     "output_type": "execute_result"
    }
   ],
   "source": [
    "#подсчет уникальных значений\n",
    "df['purpose'].value_counts()"
   ]
  },
  {
   "cell_type": "markdown",
   "metadata": {},
   "source": [
    "Результаты показывают, что многие клиенты брали кредит для одинаковых целей при этом, указывая их названия по-разному. Для подвтерждения первой гипотезы нужно будет провести категоризацию по столбцу `purpose`, но для этого нужно приветси цели к единообразию - для этого нужна лемматизация."
   ]
  },
  {
   "cell_type": "code",
   "execution_count": 34,
   "metadata": {},
   "outputs": [
    {
     "data": {
      "text/plain": [
       "[автомобиль, \\n]                                          972\n",
       "[свадьба, \\n]                                             791\n",
       "[на,  , проведение,  , свадьба, \\n]                       768\n",
       "[сыграть,  , свадьба, \\n]                                 765\n",
       "[операция,  , с,  , недвижимость, \\n]                     675\n",
       "[покупка,  , коммерческий,  , недвижимость, \\n]           661\n",
       "[операция,  , с,  , жилье, \\n]                            652\n",
       "[покупка,  , жилье,  , для,  , сдача, \\n]                 651\n",
       "[операция,  , с,  , коммерческий,  , недвижимость, \\n]    650\n",
       "[покупка,  , жилье, \\n]                                   646\n",
       "[жилье, \\n]                                               646\n",
       "[покупка,  , жилье,  , для,  , семья, \\n]                 638\n",
       "[строительство,  , собственный,  , недвижимость, \\n]      635\n",
       "[недвижимость, \\n]                                        633\n",
       "[операция,  , со,  , свой,  , недвижимость, \\n]           627\n",
       "[строительство,  , жилой,  , недвижимость, \\n]            624\n",
       "[покупка,  , недвижимость, \\n]                            621\n",
       "[покупка,  , свой,  , жилье, \\n]                          620\n",
       "[строительство,  , недвижимость, \\n]                      619\n",
       "[ремонт,  , жилье, \\n]                                    607\n",
       "[покупка,  , жилой,  , недвижимость, \\n]                  606\n",
       "[на,  , покупка,  , свой,  , автомобиль, \\n]              504\n",
       "[заниматься,  , высокий,  , образование, \\n]              496\n",
       "[сделка,  , с,  , подержанный,  , автомобиль, \\n]         486\n",
       "[свой,  , автомобиль, \\n]                                 478\n",
       "[на,  , покупка,  , подержать,  , автомобиль, \\n]         478\n",
       "[на,  , покупка,  , автомобиль, \\n]                       471\n",
       "[приобретение,  , автомобиль, \\n]                         461\n",
       "[дополнительный,  , образование, \\n]                      460\n",
       "[сделка,  , с,  , автомобиль, \\n]                         455\n",
       "[высокий,  , образование, \\n]                             452\n",
       "[образование, \\n]                                         447\n",
       "[получение,  , дополнительный,  , образование, \\n]        446\n",
       "[получение,  , образование, \\n]                           442\n",
       "[профильный,  , образование, \\n]                          436\n",
       "[получение,  , высокий,  , образование, \\n]               426\n",
       "[заниматься,  , образование, \\n]                          408\n",
       "Name: category_purpose, dtype: int64"
      ]
     },
     "execution_count": 34,
     "metadata": {},
     "output_type": "execute_result"
    }
   ],
   "source": [
    "#импортируем модуль pymystem3\n",
    "from pymystem3 import Mystem\n",
    "m = Mystem()\n",
    "#илемматизируем столбец purpose\n",
    "df['category_purpose'] = df['purpose'].apply(m.lemmatize)\n",
    "#считаем уникальные значения после лемматизации\n",
    "df['category_purpose'].value_counts()"
   ]
  },
  {
   "cell_type": "markdown",
   "metadata": {},
   "source": [
    "**Вывод**"
   ]
  },
  {
   "cell_type": "markdown",
   "metadata": {},
   "source": [
    "Мы получили столбец, который содержит списки с отлемматизированными целями получения кредита. Данный столбец мы получили с помощью использования метода `apply()`, который позволил применить конструкцию `Mystem().lemmatize` к каждой строке датафрейма, не используя при этом цикл. Затем мы вывели уникальные значения данного столбца, чтобы использовать их в дальнейшей категоризации. Среди уникальных значений в списках мы уже можем найти основные цели, по которым мы и будем категоризировать данные.\n",
    "\n",
    "Так, все отлемматизированные списки содержат хотя бы одну из этих целей - *образование, свадьба, автомобиль, недвижимость, жилье.*"
   ]
  },
  {
   "cell_type": "markdown",
   "metadata": {},
   "source": [
    "### Категоризация данных"
   ]
  },
  {
   "cell_type": "markdown",
   "metadata": {},
   "source": [
    "Для того, чтобы подвтердить или опровергнуть гипотезу, нужно совершить категоризацию данных. Она поможет нам проследить взаимосвязь определенных категорий."
   ]
  },
  {
   "cell_type": "markdown",
   "metadata": {},
   "source": [
    "#### Категоризация данных для работы с первой гипотезой (цель кредита)"
   ]
  },
  {
   "cell_type": "markdown",
   "metadata": {},
   "source": [
    "Создадим функцию, которая отфильтрует цели получения кредита на категории. Выделим 4 категории:\n",
    "1) свадьба \n",
    "\n",
    "2) автомобиль\n",
    "\n",
    "3) образование\n",
    "\n",
    "4) недвижимость (объединяет понятие жилья и недвижимости)"
   ]
  },
  {
   "cell_type": "code",
   "execution_count": 35,
   "metadata": {},
   "outputs": [],
   "source": [
    "#создаем функцию для выеделения категорий\n",
    "def filter(row):\n",
    "    if 'свадьба' in row:\n",
    "        return 'свадьба'\n",
    "    if 'автомобиль' in row:\n",
    "        return 'автомобиль'\n",
    "    if 'образование' in row:\n",
    "        return 'образование'\n",
    "    return 'недвижимость'\n",
    "   "
   ]
  },
  {
   "cell_type": "markdown",
   "metadata": {},
   "source": [
    "Функция применяет в качестве аргумента столбец, а выводим категорию в зависимости от цели, которая указана в столбце."
   ]
  },
  {
   "cell_type": "code",
   "execution_count": 36,
   "metadata": {
    "scrolled": false
   },
   "outputs": [
    {
     "data": {
      "text/html": [
       "<div>\n",
       "<style scoped>\n",
       "    .dataframe tbody tr th:only-of-type {\n",
       "        vertical-align: middle;\n",
       "    }\n",
       "\n",
       "    .dataframe tbody tr th {\n",
       "        vertical-align: top;\n",
       "    }\n",
       "\n",
       "    .dataframe thead th {\n",
       "        text-align: right;\n",
       "    }\n",
       "</style>\n",
       "<table border=\"1\" class=\"dataframe\">\n",
       "  <thead>\n",
       "    <tr style=\"text-align: right;\">\n",
       "      <th></th>\n",
       "      <th>children</th>\n",
       "      <th>years_employed</th>\n",
       "      <th>dob_years</th>\n",
       "      <th>education</th>\n",
       "      <th>education_id</th>\n",
       "      <th>family_status</th>\n",
       "      <th>family_status_id</th>\n",
       "      <th>gender</th>\n",
       "      <th>income_type</th>\n",
       "      <th>debt</th>\n",
       "      <th>total_income(*1000)</th>\n",
       "      <th>purpose</th>\n",
       "      <th>category_purpose</th>\n",
       "    </tr>\n",
       "  </thead>\n",
       "  <tbody>\n",
       "    <tr>\n",
       "      <td>21443</td>\n",
       "      <td>1</td>\n",
       "      <td>1</td>\n",
       "      <td>28</td>\n",
       "      <td>среднее</td>\n",
       "      <td>1</td>\n",
       "      <td>женат / замужем</td>\n",
       "      <td>0</td>\n",
       "      <td>F</td>\n",
       "      <td>сотрудник</td>\n",
       "      <td>1</td>\n",
       "      <td>109</td>\n",
       "      <td>заняться образованием</td>\n",
       "      <td>образование</td>\n",
       "    </tr>\n",
       "    <tr>\n",
       "      <td>21444</td>\n",
       "      <td>0</td>\n",
       "      <td>2</td>\n",
       "      <td>42</td>\n",
       "      <td>высшее</td>\n",
       "      <td>0</td>\n",
       "      <td>женат / замужем</td>\n",
       "      <td>0</td>\n",
       "      <td>F</td>\n",
       "      <td>компаньон</td>\n",
       "      <td>0</td>\n",
       "      <td>322</td>\n",
       "      <td>покупка своего жилья</td>\n",
       "      <td>недвижимость</td>\n",
       "    </tr>\n",
       "    <tr>\n",
       "      <td>21445</td>\n",
       "      <td>0</td>\n",
       "      <td>1</td>\n",
       "      <td>42</td>\n",
       "      <td>высшее</td>\n",
       "      <td>0</td>\n",
       "      <td>гражданский брак</td>\n",
       "      <td>1</td>\n",
       "      <td>F</td>\n",
       "      <td>компаньон</td>\n",
       "      <td>0</td>\n",
       "      <td>178</td>\n",
       "      <td>на покупку своего автомобиля</td>\n",
       "      <td>автомобиль</td>\n",
       "    </tr>\n",
       "    <tr>\n",
       "      <td>21446</td>\n",
       "      <td>0</td>\n",
       "      <td>42</td>\n",
       "      <td>59</td>\n",
       "      <td>среднее</td>\n",
       "      <td>1</td>\n",
       "      <td>женат / замужем</td>\n",
       "      <td>0</td>\n",
       "      <td>F</td>\n",
       "      <td>пенсионер</td>\n",
       "      <td>0</td>\n",
       "      <td>153</td>\n",
       "      <td>сделка с автомобилем</td>\n",
       "      <td>автомобиль</td>\n",
       "    </tr>\n",
       "    <tr>\n",
       "      <td>21447</td>\n",
       "      <td>1</td>\n",
       "      <td>6</td>\n",
       "      <td>37</td>\n",
       "      <td>ученая степень</td>\n",
       "      <td>4</td>\n",
       "      <td>в разводе</td>\n",
       "      <td>3</td>\n",
       "      <td>M</td>\n",
       "      <td>сотрудник</td>\n",
       "      <td>0</td>\n",
       "      <td>115</td>\n",
       "      <td>покупка коммерческой недвижимости</td>\n",
       "      <td>недвижимость</td>\n",
       "    </tr>\n",
       "    <tr>\n",
       "      <td>21448</td>\n",
       "      <td>1</td>\n",
       "      <td>12</td>\n",
       "      <td>43</td>\n",
       "      <td>среднее</td>\n",
       "      <td>1</td>\n",
       "      <td>гражданский брак</td>\n",
       "      <td>1</td>\n",
       "      <td>F</td>\n",
       "      <td>компаньон</td>\n",
       "      <td>0</td>\n",
       "      <td>224</td>\n",
       "      <td>операции с жильем</td>\n",
       "      <td>недвижимость</td>\n",
       "    </tr>\n",
       "    <tr>\n",
       "      <td>21449</td>\n",
       "      <td>0</td>\n",
       "      <td>39</td>\n",
       "      <td>67</td>\n",
       "      <td>среднее</td>\n",
       "      <td>1</td>\n",
       "      <td>женат / замужем</td>\n",
       "      <td>0</td>\n",
       "      <td>F</td>\n",
       "      <td>пенсионер</td>\n",
       "      <td>0</td>\n",
       "      <td>155</td>\n",
       "      <td>сделка с автомобилем</td>\n",
       "      <td>автомобиль</td>\n",
       "    </tr>\n",
       "    <tr>\n",
       "      <td>21450</td>\n",
       "      <td>1</td>\n",
       "      <td>5</td>\n",
       "      <td>38</td>\n",
       "      <td>среднее</td>\n",
       "      <td>1</td>\n",
       "      <td>гражданский брак</td>\n",
       "      <td>1</td>\n",
       "      <td>M</td>\n",
       "      <td>сотрудник</td>\n",
       "      <td>1</td>\n",
       "      <td>89</td>\n",
       "      <td>недвижимость</td>\n",
       "      <td>недвижимость</td>\n",
       "    </tr>\n",
       "    <tr>\n",
       "      <td>21451</td>\n",
       "      <td>3</td>\n",
       "      <td>8</td>\n",
       "      <td>38</td>\n",
       "      <td>среднее</td>\n",
       "      <td>1</td>\n",
       "      <td>женат / замужем</td>\n",
       "      <td>0</td>\n",
       "      <td>M</td>\n",
       "      <td>сотрудник</td>\n",
       "      <td>1</td>\n",
       "      <td>244</td>\n",
       "      <td>на покупку своего автомобиля</td>\n",
       "      <td>автомобиль</td>\n",
       "    </tr>\n",
       "    <tr>\n",
       "      <td>21452</td>\n",
       "      <td>2</td>\n",
       "      <td>5</td>\n",
       "      <td>40</td>\n",
       "      <td>среднее</td>\n",
       "      <td>1</td>\n",
       "      <td>женат / замужем</td>\n",
       "      <td>0</td>\n",
       "      <td>F</td>\n",
       "      <td>сотрудник</td>\n",
       "      <td>0</td>\n",
       "      <td>82</td>\n",
       "      <td>на покупку автомобиля</td>\n",
       "      <td>автомобиль</td>\n",
       "    </tr>\n",
       "  </tbody>\n",
       "</table>\n",
       "</div>"
      ],
      "text/plain": [
       "       children  years_employed  dob_years       education  education_id  \\\n",
       "21443         1               1         28         среднее             1   \n",
       "21444         0               2         42          высшее             0   \n",
       "21445         0               1         42          высшее             0   \n",
       "21446         0              42         59         среднее             1   \n",
       "21447         1               6         37  ученая степень             4   \n",
       "21448         1              12         43         среднее             1   \n",
       "21449         0              39         67         среднее             1   \n",
       "21450         1               5         38         среднее             1   \n",
       "21451         3               8         38         среднее             1   \n",
       "21452         2               5         40         среднее             1   \n",
       "\n",
       "          family_status  family_status_id gender income_type  debt  \\\n",
       "21443   женат / замужем                 0      F   сотрудник     1   \n",
       "21444   женат / замужем                 0      F   компаньон     0   \n",
       "21445  гражданский брак                 1      F   компаньон     0   \n",
       "21446   женат / замужем                 0      F   пенсионер     0   \n",
       "21447         в разводе                 3      M   сотрудник     0   \n",
       "21448  гражданский брак                 1      F   компаньон     0   \n",
       "21449   женат / замужем                 0      F   пенсионер     0   \n",
       "21450  гражданский брак                 1      M   сотрудник     1   \n",
       "21451   женат / замужем                 0      M   сотрудник     1   \n",
       "21452   женат / замужем                 0      F   сотрудник     0   \n",
       "\n",
       "       total_income(*1000)                            purpose category_purpose  \n",
       "21443                  109              заняться образованием      образование  \n",
       "21444                  322               покупка своего жилья     недвижимость  \n",
       "21445                  178       на покупку своего автомобиля       автомобиль  \n",
       "21446                  153               сделка с автомобилем       автомобиль  \n",
       "21447                  115  покупка коммерческой недвижимости     недвижимость  \n",
       "21448                  224                  операции с жильем     недвижимость  \n",
       "21449                  155               сделка с автомобилем       автомобиль  \n",
       "21450                   89                       недвижимость     недвижимость  \n",
       "21451                  244       на покупку своего автомобиля       автомобиль  \n",
       "21452                   82              на покупку автомобиля       автомобиль  "
      ]
     },
     "execution_count": 36,
     "metadata": {},
     "output_type": "execute_result"
    }
   ],
   "source": [
    "#применяем функцию с помощью метода apply и сохраняем ее результат в новый столбец category_purpose\n",
    "df['category_purpose'] = df['category_purpose'].apply(filter)\n",
    "#выводим на экран последние 10 строк таблицы\n",
    "df.tail(10) "
   ]
  },
  {
   "cell_type": "markdown",
   "metadata": {},
   "source": [
    "На первый взгляд все выглядит ровно, но нужно проверить, так ли это на самом деле. Выведем уникальные значения столбца `category` на экран."
   ]
  },
  {
   "cell_type": "code",
   "execution_count": 37,
   "metadata": {},
   "outputs": [
    {
     "data": {
      "text/plain": [
       "недвижимость    10811\n",
       "автомобиль       4305\n",
       "образование      4013\n",
       "свадьба          2324\n",
       "Name: category_purpose, dtype: int64"
      ]
     },
     "execution_count": 37,
     "metadata": {},
     "output_type": "execute_result"
    }
   ],
   "source": [
    "#выводим уникальные значения столбца с категориями\n",
    "df['category_purpose'].value_counts()"
   ]
  },
  {
   "cell_type": "markdown",
   "metadata": {},
   "source": [
    "Функция справилась со своей задачей - мы получили 4 категории целей, с которыми уже можно работать."
   ]
  },
  {
   "cell_type": "markdown",
   "metadata": {},
   "source": [
    "#### Категоризация данных для работы со второй гипотезой (уровень дохода)"
   ]
  },
  {
   "cell_type": "markdown",
   "metadata": {},
   "source": [
    "Теперь для работы со второй гипотезой, говорящей о связи уровня дохода клиента и возвратом кредита в срок, нужна категоризация по доходам клиента. Но для начала мы должны будем оценить диапазон получаемых доходов."
   ]
  },
  {
   "cell_type": "code",
   "execution_count": 38,
   "metadata": {
    "scrolled": true
   },
   "outputs": [
    {
     "data": {
      "text/plain": [
       "12389    2265\n",
       "19547    2200\n",
       "9158     1726\n",
       "20741    1715\n",
       "17136    1711\n",
       "         ... \n",
       "14246      21\n",
       "1598       21\n",
       "12982      21\n",
       "16137      21\n",
       "14554      20\n",
       "Name: total_income(*1000), Length: 21453, dtype: int64"
      ]
     },
     "execution_count": 38,
     "metadata": {},
     "output_type": "execute_result"
    }
   ],
   "source": [
    "#отсортируем доход клиентов в порядке убывания\n",
    "df['total_income(*1000)'].sort_values(ascending = False)"
   ]
  },
  {
   "cell_type": "markdown",
   "metadata": {},
   "source": [
    "Из результатов видно, что доход колеблется в пределах от 2 тысяч до 2 миллионов. Для того, чтобы выделить категории, необходимо найти медианное значение, чтобы опираясь на него, выделять категории."
   ]
  },
  {
   "cell_type": "code",
   "execution_count": 39,
   "metadata": {
    "scrolled": false
   },
   "outputs": [
    {
     "data": {
      "text/plain": [
       "142.0"
      ]
     },
     "execution_count": 39,
     "metadata": {},
     "output_type": "execute_result"
    }
   ],
   "source": [
    "#ищем медиану\n",
    "df['total_income(*1000)'].median()"
   ]
  },
  {
   "cell_type": "markdown",
   "metadata": {},
   "source": [
    "Медиана равна 142 тысячи. Она должна будет войти в группу, которая будет являться серединой. Необходимо распределить доходы клиентов на более-менее равные группы. Поделим клиентов на 3 равные групп, где:\n",
    "1. *низкий доход* - до 125.000\n",
    "2. *средний доход* - от 125.000 до 180.000 (в середину вошла медиана)\n",
    "3. *высокий доход* -  все остальное, а именно свыше 180.000 \n"
   ]
  },
  {
   "cell_type": "code",
   "execution_count": 40,
   "metadata": {},
   "outputs": [
    {
     "data": {
      "text/plain": [
       "низкий     7755\n",
       "средний    7179\n",
       "высокий    6519\n",
       "Name: category_income, dtype: int64"
      ]
     },
     "execution_count": 40,
     "metadata": {},
     "output_type": "execute_result"
    }
   ],
   "source": [
    "#строим собственную функцию для категоризации\n",
    "def income(row):\n",
    "    if row < 125:\n",
    "        return 'низкий'\n",
    "    \n",
    "    if 125 < row < 180:\n",
    "        return 'средний'\n",
    "    \n",
    "    return 'высокий'\n",
    "#применяем собственную функцию к столбцу с доходами, а результат помещаем в новый столбец\n",
    "df['category_income'] = df['total_income(*1000)'].apply(income)    \n",
    "#выводим на экран уникальные значения полученных категорий\n",
    "df['category_income'].value_counts()"
   ]
  },
  {
   "cell_type": "markdown",
   "metadata": {},
   "source": [
    "Мы получили 3 более-менее равные для анализа категории. Собственная функция принимает в качестве аргумента столбец, и сверяет его данные с теми, что указаны внутри самой функции, при проверке же она присваивает категорию каждому клиенту в зависимости от его дохода. Проверим, как теперь выглядит таблица."
   ]
  },
  {
   "cell_type": "code",
   "execution_count": 41,
   "metadata": {
    "scrolled": false
   },
   "outputs": [
    {
     "data": {
      "text/html": [
       "<div>\n",
       "<style scoped>\n",
       "    .dataframe tbody tr th:only-of-type {\n",
       "        vertical-align: middle;\n",
       "    }\n",
       "\n",
       "    .dataframe tbody tr th {\n",
       "        vertical-align: top;\n",
       "    }\n",
       "\n",
       "    .dataframe thead th {\n",
       "        text-align: right;\n",
       "    }\n",
       "</style>\n",
       "<table border=\"1\" class=\"dataframe\">\n",
       "  <thead>\n",
       "    <tr style=\"text-align: right;\">\n",
       "      <th></th>\n",
       "      <th>children</th>\n",
       "      <th>years_employed</th>\n",
       "      <th>dob_years</th>\n",
       "      <th>education</th>\n",
       "      <th>education_id</th>\n",
       "      <th>family_status</th>\n",
       "      <th>family_status_id</th>\n",
       "      <th>gender</th>\n",
       "      <th>income_type</th>\n",
       "      <th>debt</th>\n",
       "      <th>total_income(*1000)</th>\n",
       "      <th>purpose</th>\n",
       "      <th>category_purpose</th>\n",
       "      <th>category_income</th>\n",
       "    </tr>\n",
       "  </thead>\n",
       "  <tbody>\n",
       "    <tr>\n",
       "      <td>0</td>\n",
       "      <td>1</td>\n",
       "      <td>23</td>\n",
       "      <td>42</td>\n",
       "      <td>высшее</td>\n",
       "      <td>0</td>\n",
       "      <td>женат / замужем</td>\n",
       "      <td>0</td>\n",
       "      <td>F</td>\n",
       "      <td>сотрудник</td>\n",
       "      <td>0</td>\n",
       "      <td>253</td>\n",
       "      <td>покупка жилья</td>\n",
       "      <td>недвижимость</td>\n",
       "      <td>высокий</td>\n",
       "    </tr>\n",
       "    <tr>\n",
       "      <td>1</td>\n",
       "      <td>1</td>\n",
       "      <td>11</td>\n",
       "      <td>36</td>\n",
       "      <td>среднее</td>\n",
       "      <td>1</td>\n",
       "      <td>женат / замужем</td>\n",
       "      <td>0</td>\n",
       "      <td>F</td>\n",
       "      <td>сотрудник</td>\n",
       "      <td>0</td>\n",
       "      <td>112</td>\n",
       "      <td>приобретение автомобиля</td>\n",
       "      <td>автомобиль</td>\n",
       "      <td>низкий</td>\n",
       "    </tr>\n",
       "    <tr>\n",
       "      <td>2</td>\n",
       "      <td>0</td>\n",
       "      <td>15</td>\n",
       "      <td>33</td>\n",
       "      <td>среднее</td>\n",
       "      <td>1</td>\n",
       "      <td>женат / замужем</td>\n",
       "      <td>0</td>\n",
       "      <td>M</td>\n",
       "      <td>сотрудник</td>\n",
       "      <td>0</td>\n",
       "      <td>145</td>\n",
       "      <td>покупка жилья</td>\n",
       "      <td>недвижимость</td>\n",
       "      <td>средний</td>\n",
       "    </tr>\n",
       "    <tr>\n",
       "      <td>3</td>\n",
       "      <td>3</td>\n",
       "      <td>11</td>\n",
       "      <td>32</td>\n",
       "      <td>среднее</td>\n",
       "      <td>1</td>\n",
       "      <td>женат / замужем</td>\n",
       "      <td>0</td>\n",
       "      <td>M</td>\n",
       "      <td>сотрудник</td>\n",
       "      <td>0</td>\n",
       "      <td>267</td>\n",
       "      <td>дополнительное образование</td>\n",
       "      <td>образование</td>\n",
       "      <td>высокий</td>\n",
       "    </tr>\n",
       "    <tr>\n",
       "      <td>4</td>\n",
       "      <td>0</td>\n",
       "      <td>38</td>\n",
       "      <td>53</td>\n",
       "      <td>среднее</td>\n",
       "      <td>1</td>\n",
       "      <td>гражданский брак</td>\n",
       "      <td>1</td>\n",
       "      <td>F</td>\n",
       "      <td>пенсионер</td>\n",
       "      <td>0</td>\n",
       "      <td>158</td>\n",
       "      <td>сыграть свадьбу</td>\n",
       "      <td>свадьба</td>\n",
       "      <td>средний</td>\n",
       "    </tr>\n",
       "    <tr>\n",
       "      <td>5</td>\n",
       "      <td>0</td>\n",
       "      <td>2</td>\n",
       "      <td>27</td>\n",
       "      <td>высшее</td>\n",
       "      <td>0</td>\n",
       "      <td>гражданский брак</td>\n",
       "      <td>1</td>\n",
       "      <td>M</td>\n",
       "      <td>компаньон</td>\n",
       "      <td>0</td>\n",
       "      <td>255</td>\n",
       "      <td>покупка жилья</td>\n",
       "      <td>недвижимость</td>\n",
       "      <td>высокий</td>\n",
       "    </tr>\n",
       "    <tr>\n",
       "      <td>6</td>\n",
       "      <td>0</td>\n",
       "      <td>7</td>\n",
       "      <td>43</td>\n",
       "      <td>высшее</td>\n",
       "      <td>0</td>\n",
       "      <td>женат / замужем</td>\n",
       "      <td>0</td>\n",
       "      <td>F</td>\n",
       "      <td>компаньон</td>\n",
       "      <td>0</td>\n",
       "      <td>240</td>\n",
       "      <td>операции с жильем</td>\n",
       "      <td>недвижимость</td>\n",
       "      <td>высокий</td>\n",
       "    </tr>\n",
       "    <tr>\n",
       "      <td>7</td>\n",
       "      <td>0</td>\n",
       "      <td>0</td>\n",
       "      <td>50</td>\n",
       "      <td>среднее</td>\n",
       "      <td>1</td>\n",
       "      <td>женат / замужем</td>\n",
       "      <td>0</td>\n",
       "      <td>M</td>\n",
       "      <td>сотрудник</td>\n",
       "      <td>0</td>\n",
       "      <td>135</td>\n",
       "      <td>образование</td>\n",
       "      <td>образование</td>\n",
       "      <td>средний</td>\n",
       "    </tr>\n",
       "    <tr>\n",
       "      <td>8</td>\n",
       "      <td>2</td>\n",
       "      <td>18</td>\n",
       "      <td>35</td>\n",
       "      <td>высшее</td>\n",
       "      <td>0</td>\n",
       "      <td>гражданский брак</td>\n",
       "      <td>1</td>\n",
       "      <td>F</td>\n",
       "      <td>сотрудник</td>\n",
       "      <td>0</td>\n",
       "      <td>95</td>\n",
       "      <td>на проведение свадьбы</td>\n",
       "      <td>свадьба</td>\n",
       "      <td>низкий</td>\n",
       "    </tr>\n",
       "    <tr>\n",
       "      <td>9</td>\n",
       "      <td>0</td>\n",
       "      <td>5</td>\n",
       "      <td>41</td>\n",
       "      <td>среднее</td>\n",
       "      <td>1</td>\n",
       "      <td>женат / замужем</td>\n",
       "      <td>0</td>\n",
       "      <td>M</td>\n",
       "      <td>сотрудник</td>\n",
       "      <td>0</td>\n",
       "      <td>144</td>\n",
       "      <td>покупка жилья для семьи</td>\n",
       "      <td>недвижимость</td>\n",
       "      <td>средний</td>\n",
       "    </tr>\n",
       "  </tbody>\n",
       "</table>\n",
       "</div>"
      ],
      "text/plain": [
       "   children  years_employed  dob_years education  education_id  \\\n",
       "0         1              23         42    высшее             0   \n",
       "1         1              11         36   среднее             1   \n",
       "2         0              15         33   среднее             1   \n",
       "3         3              11         32   среднее             1   \n",
       "4         0              38         53   среднее             1   \n",
       "5         0               2         27    высшее             0   \n",
       "6         0               7         43    высшее             0   \n",
       "7         0               0         50   среднее             1   \n",
       "8         2              18         35    высшее             0   \n",
       "9         0               5         41   среднее             1   \n",
       "\n",
       "      family_status  family_status_id gender income_type  debt  \\\n",
       "0   женат / замужем                 0      F   сотрудник     0   \n",
       "1   женат / замужем                 0      F   сотрудник     0   \n",
       "2   женат / замужем                 0      M   сотрудник     0   \n",
       "3   женат / замужем                 0      M   сотрудник     0   \n",
       "4  гражданский брак                 1      F   пенсионер     0   \n",
       "5  гражданский брак                 1      M   компаньон     0   \n",
       "6   женат / замужем                 0      F   компаньон     0   \n",
       "7   женат / замужем                 0      M   сотрудник     0   \n",
       "8  гражданский брак                 1      F   сотрудник     0   \n",
       "9   женат / замужем                 0      M   сотрудник     0   \n",
       "\n",
       "   total_income(*1000)                     purpose category_purpose  \\\n",
       "0                  253               покупка жилья     недвижимость   \n",
       "1                  112     приобретение автомобиля       автомобиль   \n",
       "2                  145               покупка жилья     недвижимость   \n",
       "3                  267  дополнительное образование      образование   \n",
       "4                  158             сыграть свадьбу          свадьба   \n",
       "5                  255               покупка жилья     недвижимость   \n",
       "6                  240           операции с жильем     недвижимость   \n",
       "7                  135                 образование      образование   \n",
       "8                   95       на проведение свадьбы          свадьба   \n",
       "9                  144     покупка жилья для семьи     недвижимость   \n",
       "\n",
       "  category_income  \n",
       "0         высокий  \n",
       "1          низкий  \n",
       "2         средний  \n",
       "3         высокий  \n",
       "4         средний  \n",
       "5         высокий  \n",
       "6         высокий  \n",
       "7         средний  \n",
       "8          низкий  \n",
       "9         средний  "
      ]
     },
     "execution_count": 41,
     "metadata": {},
     "output_type": "execute_result"
    }
   ],
   "source": [
    "#выводим на экран первые 10 строк таблицы\n",
    "df.head(10)"
   ]
  },
  {
   "cell_type": "markdown",
   "metadata": {},
   "source": [
    "#### Категоризация данных для работы с третьей гипотезой (семейное положение)"
   ]
  },
  {
   "cell_type": "markdown",
   "metadata": {},
   "source": [
    "Для исследования 3 гипотезы нужно будет разобраться, как соотносятся между собой столбцы `family_status` и `family_status_id`. В этом нам поможет создание словаря."
   ]
  },
  {
   "cell_type": "markdown",
   "metadata": {},
   "source": [
    "Для начала мы выведем уникальные значения столбца `family_status` для дальнейшего создания словаря."
   ]
  },
  {
   "cell_type": "code",
   "execution_count": 42,
   "metadata": {
    "scrolled": false
   },
   "outputs": [
    {
     "data": {
      "text/plain": [
       "женат / замужем          12338\n",
       "гражданский брак          4151\n",
       "Не женат / не замужем     2810\n",
       "в разводе                 1195\n",
       "вдовец / вдова             959\n",
       "Name: family_status, dtype: int64"
      ]
     },
     "execution_count": 42,
     "metadata": {},
     "output_type": "execute_result"
    }
   ],
   "source": [
    "#выводим уникальные значения столбца family_status\n",
    "df['family_status'].value_counts()"
   ]
  },
  {
   "cell_type": "markdown",
   "metadata": {},
   "source": [
    "Для красоты картинки приведем данные к одному регистру методом `.str.lower()` "
   ]
  },
  {
   "cell_type": "code",
   "execution_count": 43,
   "metadata": {
    "scrolled": true
   },
   "outputs": [],
   "source": [
    "#приводим значения столбца к нижнему регистру\n",
    "df['family_status'] = df['family_status'].str.lower()"
   ]
  },
  {
   "cell_type": "markdown",
   "metadata": {},
   "source": [
    "Теперь выведем на экран уникальные значения"
   ]
  },
  {
   "cell_type": "code",
   "execution_count": 44,
   "metadata": {},
   "outputs": [
    {
     "data": {
      "text/plain": [
       "женат / замужем          12338\n",
       "гражданский брак          4151\n",
       "не женат / не замужем     2810\n",
       "в разводе                 1195\n",
       "вдовец / вдова             959\n",
       "Name: family_status, dtype: int64"
      ]
     },
     "execution_count": 44,
     "metadata": {},
     "output_type": "execute_result"
    }
   ],
   "source": [
    "#выводим уникальные значения столбца family_status\n",
    "df['family_status'].value_counts()"
   ]
  },
  {
   "cell_type": "markdown",
   "metadata": {},
   "source": [
    "Мы видим, что клиенты делятся на 5 групп. Теперь разделим исходный датафрейм на 2 таблицы - 1-ая будет словарем, а 2-ая хранить остальную."
   ]
  },
  {
   "cell_type": "code",
   "execution_count": 45,
   "metadata": {},
   "outputs": [
    {
     "data": {
      "text/html": [
       "<div>\n",
       "<style scoped>\n",
       "    .dataframe tbody tr th:only-of-type {\n",
       "        vertical-align: middle;\n",
       "    }\n",
       "\n",
       "    .dataframe tbody tr th {\n",
       "        vertical-align: top;\n",
       "    }\n",
       "\n",
       "    .dataframe thead th {\n",
       "        text-align: right;\n",
       "    }\n",
       "</style>\n",
       "<table border=\"1\" class=\"dataframe\">\n",
       "  <thead>\n",
       "    <tr style=\"text-align: right;\">\n",
       "      <th></th>\n",
       "      <th>family_status_id</th>\n",
       "      <th>debt</th>\n",
       "      <th>children</th>\n",
       "      <th>years_employed</th>\n",
       "      <th>dob_years</th>\n",
       "      <th>education</th>\n",
       "      <th>education_id</th>\n",
       "      <th>family_status_id</th>\n",
       "      <th>gender</th>\n",
       "      <th>income_type</th>\n",
       "      <th>total_income(*1000)</th>\n",
       "      <th>purpose</th>\n",
       "      <th>category_purpose</th>\n",
       "      <th>category_income</th>\n",
       "    </tr>\n",
       "  </thead>\n",
       "  <tbody>\n",
       "    <tr>\n",
       "      <td>0</td>\n",
       "      <td>0</td>\n",
       "      <td>0</td>\n",
       "      <td>1</td>\n",
       "      <td>23</td>\n",
       "      <td>42</td>\n",
       "      <td>высшее</td>\n",
       "      <td>0</td>\n",
       "      <td>0</td>\n",
       "      <td>F</td>\n",
       "      <td>сотрудник</td>\n",
       "      <td>253</td>\n",
       "      <td>покупка жилья</td>\n",
       "      <td>недвижимость</td>\n",
       "      <td>высокий</td>\n",
       "    </tr>\n",
       "    <tr>\n",
       "      <td>1</td>\n",
       "      <td>0</td>\n",
       "      <td>0</td>\n",
       "      <td>1</td>\n",
       "      <td>11</td>\n",
       "      <td>36</td>\n",
       "      <td>среднее</td>\n",
       "      <td>1</td>\n",
       "      <td>0</td>\n",
       "      <td>F</td>\n",
       "      <td>сотрудник</td>\n",
       "      <td>112</td>\n",
       "      <td>приобретение автомобиля</td>\n",
       "      <td>автомобиль</td>\n",
       "      <td>низкий</td>\n",
       "    </tr>\n",
       "    <tr>\n",
       "      <td>2</td>\n",
       "      <td>0</td>\n",
       "      <td>0</td>\n",
       "      <td>0</td>\n",
       "      <td>15</td>\n",
       "      <td>33</td>\n",
       "      <td>среднее</td>\n",
       "      <td>1</td>\n",
       "      <td>0</td>\n",
       "      <td>M</td>\n",
       "      <td>сотрудник</td>\n",
       "      <td>145</td>\n",
       "      <td>покупка жилья</td>\n",
       "      <td>недвижимость</td>\n",
       "      <td>средний</td>\n",
       "    </tr>\n",
       "    <tr>\n",
       "      <td>3</td>\n",
       "      <td>0</td>\n",
       "      <td>0</td>\n",
       "      <td>3</td>\n",
       "      <td>11</td>\n",
       "      <td>32</td>\n",
       "      <td>среднее</td>\n",
       "      <td>1</td>\n",
       "      <td>0</td>\n",
       "      <td>M</td>\n",
       "      <td>сотрудник</td>\n",
       "      <td>267</td>\n",
       "      <td>дополнительное образование</td>\n",
       "      <td>образование</td>\n",
       "      <td>высокий</td>\n",
       "    </tr>\n",
       "    <tr>\n",
       "      <td>4</td>\n",
       "      <td>1</td>\n",
       "      <td>0</td>\n",
       "      <td>0</td>\n",
       "      <td>38</td>\n",
       "      <td>53</td>\n",
       "      <td>среднее</td>\n",
       "      <td>1</td>\n",
       "      <td>1</td>\n",
       "      <td>F</td>\n",
       "      <td>пенсионер</td>\n",
       "      <td>158</td>\n",
       "      <td>сыграть свадьбу</td>\n",
       "      <td>свадьба</td>\n",
       "      <td>средний</td>\n",
       "    </tr>\n",
       "    <tr>\n",
       "      <td>5</td>\n",
       "      <td>1</td>\n",
       "      <td>0</td>\n",
       "      <td>0</td>\n",
       "      <td>2</td>\n",
       "      <td>27</td>\n",
       "      <td>высшее</td>\n",
       "      <td>0</td>\n",
       "      <td>1</td>\n",
       "      <td>M</td>\n",
       "      <td>компаньон</td>\n",
       "      <td>255</td>\n",
       "      <td>покупка жилья</td>\n",
       "      <td>недвижимость</td>\n",
       "      <td>высокий</td>\n",
       "    </tr>\n",
       "    <tr>\n",
       "      <td>6</td>\n",
       "      <td>0</td>\n",
       "      <td>0</td>\n",
       "      <td>0</td>\n",
       "      <td>7</td>\n",
       "      <td>43</td>\n",
       "      <td>высшее</td>\n",
       "      <td>0</td>\n",
       "      <td>0</td>\n",
       "      <td>F</td>\n",
       "      <td>компаньон</td>\n",
       "      <td>240</td>\n",
       "      <td>операции с жильем</td>\n",
       "      <td>недвижимость</td>\n",
       "      <td>высокий</td>\n",
       "    </tr>\n",
       "    <tr>\n",
       "      <td>7</td>\n",
       "      <td>0</td>\n",
       "      <td>0</td>\n",
       "      <td>0</td>\n",
       "      <td>0</td>\n",
       "      <td>50</td>\n",
       "      <td>среднее</td>\n",
       "      <td>1</td>\n",
       "      <td>0</td>\n",
       "      <td>M</td>\n",
       "      <td>сотрудник</td>\n",
       "      <td>135</td>\n",
       "      <td>образование</td>\n",
       "      <td>образование</td>\n",
       "      <td>средний</td>\n",
       "    </tr>\n",
       "    <tr>\n",
       "      <td>8</td>\n",
       "      <td>1</td>\n",
       "      <td>0</td>\n",
       "      <td>2</td>\n",
       "      <td>18</td>\n",
       "      <td>35</td>\n",
       "      <td>высшее</td>\n",
       "      <td>0</td>\n",
       "      <td>1</td>\n",
       "      <td>F</td>\n",
       "      <td>сотрудник</td>\n",
       "      <td>95</td>\n",
       "      <td>на проведение свадьбы</td>\n",
       "      <td>свадьба</td>\n",
       "      <td>низкий</td>\n",
       "    </tr>\n",
       "    <tr>\n",
       "      <td>9</td>\n",
       "      <td>0</td>\n",
       "      <td>0</td>\n",
       "      <td>0</td>\n",
       "      <td>5</td>\n",
       "      <td>41</td>\n",
       "      <td>среднее</td>\n",
       "      <td>1</td>\n",
       "      <td>0</td>\n",
       "      <td>M</td>\n",
       "      <td>сотрудник</td>\n",
       "      <td>144</td>\n",
       "      <td>покупка жилья для семьи</td>\n",
       "      <td>недвижимость</td>\n",
       "      <td>средний</td>\n",
       "    </tr>\n",
       "  </tbody>\n",
       "</table>\n",
       "</div>"
      ],
      "text/plain": [
       "   family_status_id  debt  children  years_employed  dob_years education  \\\n",
       "0                 0     0         1              23         42    высшее   \n",
       "1                 0     0         1              11         36   среднее   \n",
       "2                 0     0         0              15         33   среднее   \n",
       "3                 0     0         3              11         32   среднее   \n",
       "4                 1     0         0              38         53   среднее   \n",
       "5                 1     0         0               2         27    высшее   \n",
       "6                 0     0         0               7         43    высшее   \n",
       "7                 0     0         0               0         50   среднее   \n",
       "8                 1     0         2              18         35    высшее   \n",
       "9                 0     0         0               5         41   среднее   \n",
       "\n",
       "   education_id  family_status_id gender income_type  total_income(*1000)  \\\n",
       "0             0                 0      F   сотрудник                  253   \n",
       "1             1                 0      F   сотрудник                  112   \n",
       "2             1                 0      M   сотрудник                  145   \n",
       "3             1                 0      M   сотрудник                  267   \n",
       "4             1                 1      F   пенсионер                  158   \n",
       "5             0                 1      M   компаньон                  255   \n",
       "6             0                 0      F   компаньон                  240   \n",
       "7             1                 0      M   сотрудник                  135   \n",
       "8             0                 1      F   сотрудник                   95   \n",
       "9             1                 0      M   сотрудник                  144   \n",
       "\n",
       "                      purpose category_purpose category_income  \n",
       "0               покупка жилья     недвижимость         высокий  \n",
       "1     приобретение автомобиля       автомобиль          низкий  \n",
       "2               покупка жилья     недвижимость         средний  \n",
       "3  дополнительное образование      образование         высокий  \n",
       "4             сыграть свадьбу          свадьба         средний  \n",
       "5               покупка жилья     недвижимость         высокий  \n",
       "6           операции с жильем     недвижимость         высокий  \n",
       "7                 образование      образование         средний  \n",
       "8       на проведение свадьбы          свадьба          низкий  \n",
       "9     покупка жилья для семьи     недвижимость         средний  "
      ]
     },
     "execution_count": 45,
     "metadata": {},
     "output_type": "execute_result"
    }
   ],
   "source": [
    "#создаем таблицу с информацией о клиентах и их задолжностях\n",
    "df1 = df[[ 'family_status_id', 'debt', 'children', 'years_employed', 'dob_years', 'education', 'education_id', 'family_status_id', 'gender', 'income_type', 'total_income(*1000)', 'purpose','category_purpose','category_income']]\n",
    "#выводим на экран первые 10 строк полученной таблицы\n",
    "df1.head(10)"
   ]
  },
  {
   "cell_type": "code",
   "execution_count": 46,
   "metadata": {},
   "outputs": [
    {
     "data": {
      "text/html": [
       "<div>\n",
       "<style scoped>\n",
       "    .dataframe tbody tr th:only-of-type {\n",
       "        vertical-align: middle;\n",
       "    }\n",
       "\n",
       "    .dataframe tbody tr th {\n",
       "        vertical-align: top;\n",
       "    }\n",
       "\n",
       "    .dataframe thead th {\n",
       "        text-align: right;\n",
       "    }\n",
       "</style>\n",
       "<table border=\"1\" class=\"dataframe\">\n",
       "  <thead>\n",
       "    <tr style=\"text-align: right;\">\n",
       "      <th></th>\n",
       "      <th>family_status</th>\n",
       "      <th>family_status_id</th>\n",
       "    </tr>\n",
       "  </thead>\n",
       "  <tbody>\n",
       "    <tr>\n",
       "      <td>0</td>\n",
       "      <td>женат / замужем</td>\n",
       "      <td>0</td>\n",
       "    </tr>\n",
       "    <tr>\n",
       "      <td>1</td>\n",
       "      <td>женат / замужем</td>\n",
       "      <td>0</td>\n",
       "    </tr>\n",
       "    <tr>\n",
       "      <td>2</td>\n",
       "      <td>женат / замужем</td>\n",
       "      <td>0</td>\n",
       "    </tr>\n",
       "    <tr>\n",
       "      <td>3</td>\n",
       "      <td>женат / замужем</td>\n",
       "      <td>0</td>\n",
       "    </tr>\n",
       "    <tr>\n",
       "      <td>4</td>\n",
       "      <td>гражданский брак</td>\n",
       "      <td>1</td>\n",
       "    </tr>\n",
       "    <tr>\n",
       "      <td>5</td>\n",
       "      <td>гражданский брак</td>\n",
       "      <td>1</td>\n",
       "    </tr>\n",
       "    <tr>\n",
       "      <td>6</td>\n",
       "      <td>женат / замужем</td>\n",
       "      <td>0</td>\n",
       "    </tr>\n",
       "    <tr>\n",
       "      <td>7</td>\n",
       "      <td>женат / замужем</td>\n",
       "      <td>0</td>\n",
       "    </tr>\n",
       "    <tr>\n",
       "      <td>8</td>\n",
       "      <td>гражданский брак</td>\n",
       "      <td>1</td>\n",
       "    </tr>\n",
       "    <tr>\n",
       "      <td>9</td>\n",
       "      <td>женат / замужем</td>\n",
       "      <td>0</td>\n",
       "    </tr>\n",
       "  </tbody>\n",
       "</table>\n",
       "</div>"
      ],
      "text/plain": [
       "      family_status  family_status_id\n",
       "0   женат / замужем                 0\n",
       "1   женат / замужем                 0\n",
       "2   женат / замужем                 0\n",
       "3   женат / замужем                 0\n",
       "4  гражданский брак                 1\n",
       "5  гражданский брак                 1\n",
       "6   женат / замужем                 0\n",
       "7   женат / замужем                 0\n",
       "8  гражданский брак                 1\n",
       "9   женат / замужем                 0"
      ]
     },
     "execution_count": 46,
     "metadata": {},
     "output_type": "execute_result"
    }
   ],
   "source": [
    "#создаем таблицу-словарь\n",
    "df2 = df[['family_status', 'family_status_id']]\n",
    "#выводим на экран первые 10 строк полученной таблицы\n",
    "df2.head(10)"
   ]
  },
  {
   "cell_type": "markdown",
   "metadata": {},
   "source": [
    "В таблице с категоризацией данных (словаре) имеются дубликаты - некоторые типы категорийповторяются несколько раз. Поэтому необходимо удалить дубликаты."
   ]
  },
  {
   "cell_type": "code",
   "execution_count": 47,
   "metadata": {},
   "outputs": [
    {
     "data": {
      "text/html": [
       "<div>\n",
       "<style scoped>\n",
       "    .dataframe tbody tr th:only-of-type {\n",
       "        vertical-align: middle;\n",
       "    }\n",
       "\n",
       "    .dataframe tbody tr th {\n",
       "        vertical-align: top;\n",
       "    }\n",
       "\n",
       "    .dataframe thead th {\n",
       "        text-align: right;\n",
       "    }\n",
       "</style>\n",
       "<table border=\"1\" class=\"dataframe\">\n",
       "  <thead>\n",
       "    <tr style=\"text-align: right;\">\n",
       "      <th></th>\n",
       "      <th>family_status</th>\n",
       "      <th>family_status_id</th>\n",
       "    </tr>\n",
       "  </thead>\n",
       "  <tbody>\n",
       "    <tr>\n",
       "      <td>0</td>\n",
       "      <td>женат / замужем</td>\n",
       "      <td>0</td>\n",
       "    </tr>\n",
       "    <tr>\n",
       "      <td>1</td>\n",
       "      <td>гражданский брак</td>\n",
       "      <td>1</td>\n",
       "    </tr>\n",
       "    <tr>\n",
       "      <td>2</td>\n",
       "      <td>вдовец / вдова</td>\n",
       "      <td>2</td>\n",
       "    </tr>\n",
       "    <tr>\n",
       "      <td>3</td>\n",
       "      <td>в разводе</td>\n",
       "      <td>3</td>\n",
       "    </tr>\n",
       "    <tr>\n",
       "      <td>4</td>\n",
       "      <td>не женат / не замужем</td>\n",
       "      <td>4</td>\n",
       "    </tr>\n",
       "  </tbody>\n",
       "</table>\n",
       "</div>"
      ],
      "text/plain": [
       "           family_status  family_status_id\n",
       "0        женат / замужем                 0\n",
       "1       гражданский брак                 1\n",
       "2         вдовец / вдова                 2\n",
       "3              в разводе                 3\n",
       "4  не женат / не замужем                 4"
      ]
     },
     "execution_count": 47,
     "metadata": {},
     "output_type": "execute_result"
    }
   ],
   "source": [
    "#удаляем дубликаты\n",
    "df2 = df2.drop_duplicates().reset_index(drop = True).sort_values(by = 'family_status_id')\n",
    "#выводим полученную таблицу на экран\n",
    "df2"
   ]
  },
  {
   "cell_type": "markdown",
   "metadata": {},
   "source": [
    "Теперь мы видим, как соотносятся идентификатор семейного положения и само семейное положение."
   ]
  },
  {
   "cell_type": "markdown",
   "metadata": {},
   "source": [
    "#### Категоризация данных для работы с четвертой гипотезой (количество детей)"
   ]
  },
  {
   "cell_type": "markdown",
   "metadata": {},
   "source": [
    "Для решения четвертой гипотезы нужно найти уникальные значения столбца с количеством детей"
   ]
  },
  {
   "cell_type": "code",
   "execution_count": 48,
   "metadata": {
    "scrolled": true
   },
   "outputs": [
    {
     "data": {
      "text/plain": [
       " 0     14091\n",
       " 1      4808\n",
       " 2      2051\n",
       " 3       330\n",
       " 20       76\n",
       "-1        47\n",
       " 4        41\n",
       " 5         9\n",
       "Name: children, dtype: int64"
      ]
     },
     "execution_count": 48,
     "metadata": {},
     "output_type": "execute_result"
    }
   ],
   "source": [
    "#выводим уникальные значения столбца\n",
    "df['children'].value_counts()"
   ]
  },
  {
   "cell_type": "markdown",
   "metadata": {},
   "source": [
    "Результаты оказались довольно удивительными. Все бы ничего, но в таблице присутствуют два выбивающихся значения. Этими значениями являются 20 детей и -1 ребенок. Кажется вполне очевидным, что подобные результаты возникли в связи с человеческим фактором, а именно по вине клиентов. Видимо, когда они указывали свои данные вместо 1 ребенка указали по ошибке -1, а когда указывали 2 детей - по ошибке указали 20.\n",
    "Нужно проверить, как сильно изменятся данные в случае, если мы заменим 20 на 2, а -1 на 1"
   ]
  },
  {
   "cell_type": "markdown",
   "metadata": {},
   "source": [
    "Для начала мы извлечем информацию об уплате кредита в срок, сгруппируем ее по количеству детей, посчитаем сколько клиентов каждой группы так оличились, а затем все отсортируем."
   ]
  },
  {
   "cell_type": "code",
   "execution_count": 49,
   "metadata": {
    "scrolled": false
   },
   "outputs": [
    {
     "data": {
      "text/plain": [
       "children\n",
       " 5         9\n",
       " 4        37\n",
       "-1        46\n",
       " 20       68\n",
       " 3       303\n",
       " 2      1857\n",
       " 1      4364\n",
       " 0     13028\n",
       "Name: children, dtype: int64"
      ]
     },
     "execution_count": 49,
     "metadata": {},
     "output_type": "execute_result"
    }
   ],
   "source": [
    "#группируем данные с клиентами, просрочившими платеж по количеству у них детей\n",
    "df[df['debt'] == 0].groupby('children')['children'].count().sort_values()\n"
   ]
  },
  {
   "cell_type": "markdown",
   "metadata": {},
   "source": [
    "Затем сделаем все то же самое, но для тех, кто просрочил уплату кредита"
   ]
  },
  {
   "cell_type": "code",
   "execution_count": 50,
   "metadata": {
    "scrolled": true
   },
   "outputs": [
    {
     "data": {
      "text/plain": [
       "children\n",
       "-1        1\n",
       " 4        4\n",
       " 20       8\n",
       " 3       27\n",
       " 2      194\n",
       " 1      444\n",
       " 0     1063\n",
       "Name: children, dtype: int64"
      ]
     },
     "execution_count": 50,
     "metadata": {},
     "output_type": "execute_result"
    }
   ],
   "source": [
    "df[df['debt'] == 1].groupby('children')['children'].count().sort_values()"
   ]
  },
  {
   "cell_type": "markdown",
   "metadata": {},
   "source": [
    "Как видно из результатов, если мы добавим клиентов, которые указали, что у них - 1 ребенок к клиентам, у которых 1 ребенок, и 20 детей к тем, у которых 2 ребенка, то результат исследования не исказится."
   ]
  },
  {
   "cell_type": "code",
   "execution_count": 51,
   "metadata": {},
   "outputs": [
    {
     "data": {
      "text/html": [
       "<div>\n",
       "<style scoped>\n",
       "    .dataframe tbody tr th:only-of-type {\n",
       "        vertical-align: middle;\n",
       "    }\n",
       "\n",
       "    .dataframe tbody tr th {\n",
       "        vertical-align: top;\n",
       "    }\n",
       "\n",
       "    .dataframe thead th {\n",
       "        text-align: right;\n",
       "    }\n",
       "</style>\n",
       "<table border=\"1\" class=\"dataframe\">\n",
       "  <thead>\n",
       "    <tr style=\"text-align: right;\">\n",
       "      <th></th>\n",
       "      <th>children</th>\n",
       "      <th>years_employed</th>\n",
       "      <th>dob_years</th>\n",
       "      <th>education</th>\n",
       "      <th>education_id</th>\n",
       "      <th>family_status</th>\n",
       "      <th>family_status_id</th>\n",
       "      <th>gender</th>\n",
       "      <th>income_type</th>\n",
       "      <th>debt</th>\n",
       "      <th>total_income(*1000)</th>\n",
       "      <th>purpose</th>\n",
       "      <th>category_purpose</th>\n",
       "      <th>category_income</th>\n",
       "    </tr>\n",
       "  </thead>\n",
       "  <tbody>\n",
       "    <tr>\n",
       "      <td>0</td>\n",
       "      <td>1</td>\n",
       "      <td>23</td>\n",
       "      <td>42</td>\n",
       "      <td>высшее</td>\n",
       "      <td>0</td>\n",
       "      <td>женат / замужем</td>\n",
       "      <td>0</td>\n",
       "      <td>F</td>\n",
       "      <td>сотрудник</td>\n",
       "      <td>0</td>\n",
       "      <td>253</td>\n",
       "      <td>покупка жилья</td>\n",
       "      <td>недвижимость</td>\n",
       "      <td>высокий</td>\n",
       "    </tr>\n",
       "    <tr>\n",
       "      <td>1</td>\n",
       "      <td>1</td>\n",
       "      <td>11</td>\n",
       "      <td>36</td>\n",
       "      <td>среднее</td>\n",
       "      <td>1</td>\n",
       "      <td>женат / замужем</td>\n",
       "      <td>0</td>\n",
       "      <td>F</td>\n",
       "      <td>сотрудник</td>\n",
       "      <td>0</td>\n",
       "      <td>112</td>\n",
       "      <td>приобретение автомобиля</td>\n",
       "      <td>автомобиль</td>\n",
       "      <td>низкий</td>\n",
       "    </tr>\n",
       "    <tr>\n",
       "      <td>2</td>\n",
       "      <td>0</td>\n",
       "      <td>15</td>\n",
       "      <td>33</td>\n",
       "      <td>среднее</td>\n",
       "      <td>1</td>\n",
       "      <td>женат / замужем</td>\n",
       "      <td>0</td>\n",
       "      <td>M</td>\n",
       "      <td>сотрудник</td>\n",
       "      <td>0</td>\n",
       "      <td>145</td>\n",
       "      <td>покупка жилья</td>\n",
       "      <td>недвижимость</td>\n",
       "      <td>средний</td>\n",
       "    </tr>\n",
       "    <tr>\n",
       "      <td>3</td>\n",
       "      <td>3</td>\n",
       "      <td>11</td>\n",
       "      <td>32</td>\n",
       "      <td>среднее</td>\n",
       "      <td>1</td>\n",
       "      <td>женат / замужем</td>\n",
       "      <td>0</td>\n",
       "      <td>M</td>\n",
       "      <td>сотрудник</td>\n",
       "      <td>0</td>\n",
       "      <td>267</td>\n",
       "      <td>дополнительное образование</td>\n",
       "      <td>образование</td>\n",
       "      <td>высокий</td>\n",
       "    </tr>\n",
       "    <tr>\n",
       "      <td>4</td>\n",
       "      <td>0</td>\n",
       "      <td>38</td>\n",
       "      <td>53</td>\n",
       "      <td>среднее</td>\n",
       "      <td>1</td>\n",
       "      <td>гражданский брак</td>\n",
       "      <td>1</td>\n",
       "      <td>F</td>\n",
       "      <td>пенсионер</td>\n",
       "      <td>0</td>\n",
       "      <td>158</td>\n",
       "      <td>сыграть свадьбу</td>\n",
       "      <td>свадьба</td>\n",
       "      <td>средний</td>\n",
       "    </tr>\n",
       "    <tr>\n",
       "      <td>5</td>\n",
       "      <td>0</td>\n",
       "      <td>2</td>\n",
       "      <td>27</td>\n",
       "      <td>высшее</td>\n",
       "      <td>0</td>\n",
       "      <td>гражданский брак</td>\n",
       "      <td>1</td>\n",
       "      <td>M</td>\n",
       "      <td>компаньон</td>\n",
       "      <td>0</td>\n",
       "      <td>255</td>\n",
       "      <td>покупка жилья</td>\n",
       "      <td>недвижимость</td>\n",
       "      <td>высокий</td>\n",
       "    </tr>\n",
       "    <tr>\n",
       "      <td>6</td>\n",
       "      <td>0</td>\n",
       "      <td>7</td>\n",
       "      <td>43</td>\n",
       "      <td>высшее</td>\n",
       "      <td>0</td>\n",
       "      <td>женат / замужем</td>\n",
       "      <td>0</td>\n",
       "      <td>F</td>\n",
       "      <td>компаньон</td>\n",
       "      <td>0</td>\n",
       "      <td>240</td>\n",
       "      <td>операции с жильем</td>\n",
       "      <td>недвижимость</td>\n",
       "      <td>высокий</td>\n",
       "    </tr>\n",
       "    <tr>\n",
       "      <td>7</td>\n",
       "      <td>0</td>\n",
       "      <td>0</td>\n",
       "      <td>50</td>\n",
       "      <td>среднее</td>\n",
       "      <td>1</td>\n",
       "      <td>женат / замужем</td>\n",
       "      <td>0</td>\n",
       "      <td>M</td>\n",
       "      <td>сотрудник</td>\n",
       "      <td>0</td>\n",
       "      <td>135</td>\n",
       "      <td>образование</td>\n",
       "      <td>образование</td>\n",
       "      <td>средний</td>\n",
       "    </tr>\n",
       "    <tr>\n",
       "      <td>8</td>\n",
       "      <td>2</td>\n",
       "      <td>18</td>\n",
       "      <td>35</td>\n",
       "      <td>высшее</td>\n",
       "      <td>0</td>\n",
       "      <td>гражданский брак</td>\n",
       "      <td>1</td>\n",
       "      <td>F</td>\n",
       "      <td>сотрудник</td>\n",
       "      <td>0</td>\n",
       "      <td>95</td>\n",
       "      <td>на проведение свадьбы</td>\n",
       "      <td>свадьба</td>\n",
       "      <td>низкий</td>\n",
       "    </tr>\n",
       "    <tr>\n",
       "      <td>9</td>\n",
       "      <td>0</td>\n",
       "      <td>5</td>\n",
       "      <td>41</td>\n",
       "      <td>среднее</td>\n",
       "      <td>1</td>\n",
       "      <td>женат / замужем</td>\n",
       "      <td>0</td>\n",
       "      <td>M</td>\n",
       "      <td>сотрудник</td>\n",
       "      <td>0</td>\n",
       "      <td>144</td>\n",
       "      <td>покупка жилья для семьи</td>\n",
       "      <td>недвижимость</td>\n",
       "      <td>средний</td>\n",
       "    </tr>\n",
       "  </tbody>\n",
       "</table>\n",
       "</div>"
      ],
      "text/plain": [
       "   children  years_employed  dob_years education  education_id  \\\n",
       "0         1              23         42    высшее             0   \n",
       "1         1              11         36   среднее             1   \n",
       "2         0              15         33   среднее             1   \n",
       "3         3              11         32   среднее             1   \n",
       "4         0              38         53   среднее             1   \n",
       "5         0               2         27    высшее             0   \n",
       "6         0               7         43    высшее             0   \n",
       "7         0               0         50   среднее             1   \n",
       "8         2              18         35    высшее             0   \n",
       "9         0               5         41   среднее             1   \n",
       "\n",
       "      family_status  family_status_id gender income_type  debt  \\\n",
       "0   женат / замужем                 0      F   сотрудник     0   \n",
       "1   женат / замужем                 0      F   сотрудник     0   \n",
       "2   женат / замужем                 0      M   сотрудник     0   \n",
       "3   женат / замужем                 0      M   сотрудник     0   \n",
       "4  гражданский брак                 1      F   пенсионер     0   \n",
       "5  гражданский брак                 1      M   компаньон     0   \n",
       "6   женат / замужем                 0      F   компаньон     0   \n",
       "7   женат / замужем                 0      M   сотрудник     0   \n",
       "8  гражданский брак                 1      F   сотрудник     0   \n",
       "9   женат / замужем                 0      M   сотрудник     0   \n",
       "\n",
       "   total_income(*1000)                     purpose category_purpose  \\\n",
       "0                  253               покупка жилья     недвижимость   \n",
       "1                  112     приобретение автомобиля       автомобиль   \n",
       "2                  145               покупка жилья     недвижимость   \n",
       "3                  267  дополнительное образование      образование   \n",
       "4                  158             сыграть свадьбу          свадьба   \n",
       "5                  255               покупка жилья     недвижимость   \n",
       "6                  240           операции с жильем     недвижимость   \n",
       "7                  135                 образование      образование   \n",
       "8                   95       на проведение свадьбы          свадьба   \n",
       "9                  144     покупка жилья для семьи     недвижимость   \n",
       "\n",
       "  category_income  \n",
       "0         высокий  \n",
       "1          низкий  \n",
       "2         средний  \n",
       "3         высокий  \n",
       "4         средний  \n",
       "5         высокий  \n",
       "6         высокий  \n",
       "7         средний  \n",
       "8          низкий  \n",
       "9         средний  "
      ]
     },
     "execution_count": 51,
     "metadata": {},
     "output_type": "execute_result"
    }
   ],
   "source": [
    "#приводим значение к модулю, чтобы избавиться от -1\n",
    "df['children'] = df['children'].apply(abs)\n",
    "#создаем собственную функцию для того, чтобы 20 детей превратить в двух\n",
    "def child2(row):\n",
    "    if row == 20:\n",
    "        return int(2)\n",
    "    return row\n",
    "#применяем функцию к столбцу children\n",
    "df['children']  = df['children'].apply(child2)\n",
    "#выводим на экран первые 10 строк таблицы\n",
    "df.head(10)"
   ]
  },
  {
   "cell_type": "markdown",
   "metadata": {},
   "source": [
    "Проверим результат выполнения операции, выведя уникальные значения столбца"
   ]
  },
  {
   "cell_type": "code",
   "execution_count": 52,
   "metadata": {},
   "outputs": [
    {
     "data": {
      "text/plain": [
       "0    14091\n",
       "1     4855\n",
       "2     2127\n",
       "3      330\n",
       "4       41\n",
       "5        9\n",
       "Name: children, dtype: int64"
      ]
     },
     "execution_count": 52,
     "metadata": {},
     "output_type": "execute_result"
    }
   ],
   "source": [
    "#выводим уникальные значения столбца\n",
    "df['children'].value_counts()"
   ]
  },
  {
   "cell_type": "markdown",
   "metadata": {},
   "source": [
    "Теперь данные отображены корректно."
   ]
  },
  {
   "cell_type": "markdown",
   "metadata": {},
   "source": [
    "**Вывод**"
   ]
  },
  {
   "cell_type": "markdown",
   "metadata": {},
   "source": [
    "Мы провели категоризацию данных для подвтверждения гипотез:\n",
    "1) Чтобы узнать, есть ли связь между различными целями кредита и фактом погашения кредита в срок, мы прокатегоризировали данные из столбца с целями получения кредита с помощью собственной функции, опирающейся на результаты лемматизации - получили 4 категории целей.\n",
    "\n",
    "2) Чтобы узнать, есть ли связь между уровнем дохода клиента влияет и фактом погашения кредита в срок, мы создали специальную функцию, которая поделила клиентов в зависимости от их дохода на 3 равные группы.\n",
    "\n",
    "3) Чтобы узнать, есть ли связь между семейным положением клиента и фактом погашения кредита в срок, мы создали таблицу-словарь, которая хранит категории семейного положения - получили 5 категорий.\n",
    "\n",
    "4) Чтобы узнать, есть ли связь между количеством детей у клиента и фактом погашения кредита в срок, мы нашли уникальные значения столбца с количеством детей, которые послужат категориями - получилось 6 категорий.\n",
    "\n",
    "После категоризации можно приступать непосредственно к анализу гипотез"
   ]
  },
  {
   "cell_type": "markdown",
   "metadata": {},
   "source": [
    "## Шаг 3. Ответим на вопросы"
   ]
  },
  {
   "cell_type": "markdown",
   "metadata": {},
   "source": [
    "### Как разные цели кредита влияют на его возврат в срок?"
   ]
  },
  {
   "cell_type": "markdown",
   "metadata": {},
   "source": [
    "Для начала выведем полученные категории целей"
   ]
  },
  {
   "cell_type": "code",
   "execution_count": 53,
   "metadata": {
    "scrolled": true
   },
   "outputs": [
    {
     "data": {
      "text/plain": [
       "недвижимость    10811\n",
       "автомобиль       4305\n",
       "образование      4013\n",
       "свадьба          2324\n",
       "Name: category_purpose, dtype: int64"
      ]
     },
     "execution_count": 53,
     "metadata": {},
     "output_type": "execute_result"
    }
   ],
   "source": [
    "#выводим уникальные значения\n",
    "df['category_purpose'].value_counts()"
   ]
  },
  {
   "cell_type": "markdown",
   "metadata": {},
   "source": [
    "Для работы с данными создадим сводную таблицу с помощью pivot_table, где:\n",
    "- *index* - категория цели (`category_purpose`)\n",
    "- *columns* - неуплата вовремя кредита (`debt`)\n",
    "- *values* - значение может быть любое, поскольку количество ячеек в столбцах одинаково. (я взял за основу - `education_id`)\n",
    "- *aggfunc* - функция подсчета количества (`count`)"
   ]
  },
  {
   "cell_type": "code",
   "execution_count": 54,
   "metadata": {
    "scrolled": false
   },
   "outputs": [
    {
     "data": {
      "text/html": [
       "<div>\n",
       "<style scoped>\n",
       "    .dataframe tbody tr th:only-of-type {\n",
       "        vertical-align: middle;\n",
       "    }\n",
       "\n",
       "    .dataframe tbody tr th {\n",
       "        vertical-align: top;\n",
       "    }\n",
       "\n",
       "    .dataframe thead th {\n",
       "        text-align: right;\n",
       "    }\n",
       "</style>\n",
       "<table border=\"1\" class=\"dataframe\">\n",
       "  <thead>\n",
       "    <tr style=\"text-align: right;\">\n",
       "      <th>debt</th>\n",
       "      <th>0</th>\n",
       "      <th>1</th>\n",
       "    </tr>\n",
       "    <tr>\n",
       "      <th>category_purpose</th>\n",
       "      <th></th>\n",
       "      <th></th>\n",
       "    </tr>\n",
       "  </thead>\n",
       "  <tbody>\n",
       "    <tr>\n",
       "      <td>автомобиль</td>\n",
       "      <td>3902</td>\n",
       "      <td>403</td>\n",
       "    </tr>\n",
       "    <tr>\n",
       "      <td>недвижимость</td>\n",
       "      <td>10029</td>\n",
       "      <td>782</td>\n",
       "    </tr>\n",
       "    <tr>\n",
       "      <td>образование</td>\n",
       "      <td>3643</td>\n",
       "      <td>370</td>\n",
       "    </tr>\n",
       "    <tr>\n",
       "      <td>свадьба</td>\n",
       "      <td>2138</td>\n",
       "      <td>186</td>\n",
       "    </tr>\n",
       "  </tbody>\n",
       "</table>\n",
       "</div>"
      ],
      "text/plain": [
       "debt                  0    1\n",
       "category_purpose            \n",
       "автомобиль         3902  403\n",
       "недвижимость      10029  782\n",
       "образование        3643  370\n",
       "свадьба            2138  186"
      ]
     },
     "execution_count": 54,
     "metadata": {},
     "output_type": "execute_result"
    }
   ],
   "source": [
    "#создаем сводную таблицу\n",
    "df_pivot = df.pivot_table(index ='category_purpose', columns = 'debt', values = 'education_id', aggfunc = 'count')\n",
    "#выводим сводную таблицу\n",
    "df_pivot"
   ]
  },
  {
   "cell_type": "markdown",
   "metadata": {},
   "source": [
    "Для более детального анализа добавим в таблицу данные о том, какой процент составляют клиенты каждой категории от их сммурного количества. Для это сложим значения столбцев **1** и **0** и применим к ним метод `sum()`"
   ]
  },
  {
   "cell_type": "code",
   "execution_count": 55,
   "metadata": {},
   "outputs": [
    {
     "data": {
      "text/plain": [
       "21453"
      ]
     },
     "execution_count": 55,
     "metadata": {},
     "output_type": "execute_result"
    }
   ],
   "source": [
    "#считаем бщее количество клиентов\n",
    "tot_pay = (df_pivot[1]+df_pivot[0]).sum()\n",
    "#выводим на экран общее количество клиентов\n",
    "tot_pay"
   ]
  },
  {
   "cell_type": "markdown",
   "metadata": {},
   "source": [
    "Теперь рассчитаем, какой же процент составляют клиенты каждой категории. Добавим результат в новый столбец `pivot`. Таким образом, в `pivot` хранится процент, который составляют клиенты определенной категории от общего числа клиентов"
   ]
  },
  {
   "cell_type": "code",
   "execution_count": 56,
   "metadata": {},
   "outputs": [
    {
     "data": {
      "text/html": [
       "<div>\n",
       "<style scoped>\n",
       "    .dataframe tbody tr th:only-of-type {\n",
       "        vertical-align: middle;\n",
       "    }\n",
       "\n",
       "    .dataframe tbody tr th {\n",
       "        vertical-align: top;\n",
       "    }\n",
       "\n",
       "    .dataframe thead th {\n",
       "        text-align: right;\n",
       "    }\n",
       "</style>\n",
       "<table border=\"1\" class=\"dataframe\">\n",
       "  <thead>\n",
       "    <tr style=\"text-align: right;\">\n",
       "      <th>debt</th>\n",
       "      <th>0</th>\n",
       "      <th>1</th>\n",
       "      <th>pivot</th>\n",
       "    </tr>\n",
       "    <tr>\n",
       "      <th>category_purpose</th>\n",
       "      <th></th>\n",
       "      <th></th>\n",
       "      <th></th>\n",
       "    </tr>\n",
       "  </thead>\n",
       "  <tbody>\n",
       "    <tr>\n",
       "      <td>автомобиль</td>\n",
       "      <td>3902</td>\n",
       "      <td>403</td>\n",
       "      <td>20.067123</td>\n",
       "    </tr>\n",
       "    <tr>\n",
       "      <td>недвижимость</td>\n",
       "      <td>10029</td>\n",
       "      <td>782</td>\n",
       "      <td>50.393884</td>\n",
       "    </tr>\n",
       "    <tr>\n",
       "      <td>образование</td>\n",
       "      <td>3643</td>\n",
       "      <td>370</td>\n",
       "      <td>18.706008</td>\n",
       "    </tr>\n",
       "    <tr>\n",
       "      <td>свадьба</td>\n",
       "      <td>2138</td>\n",
       "      <td>186</td>\n",
       "      <td>10.832984</td>\n",
       "    </tr>\n",
       "  </tbody>\n",
       "</table>\n",
       "</div>"
      ],
      "text/plain": [
       "debt                  0    1      pivot\n",
       "category_purpose                       \n",
       "автомобиль         3902  403  20.067123\n",
       "недвижимость      10029  782  50.393884\n",
       "образование        3643  370  18.706008\n",
       "свадьба            2138  186  10.832984"
      ]
     },
     "execution_count": 56,
     "metadata": {},
     "output_type": "execute_result"
    }
   ],
   "source": [
    "#считаем процент клиентов и добавляем в отдельный столбец\n",
    "df_pivot['pivot'] = ((df_pivot[1]+df_pivot[0])/tot_pay)*100\n",
    "#выводим таблицу на экран\n",
    "df_pivot"
   ]
  },
  {
   "cell_type": "markdown",
   "metadata": {},
   "source": [
    "Мы получили данные для предварительного анализа. Так, мы видим, что чаще всего берут кредиты на **недвижимость**, следом за ней идет цель в виде покупки **автомобиля**, затем креди на **образование** и наконец кредит на **свадьбу**, который является наименне популярным среди представленных.\n",
    "По количество оформленных кредитов можно составить такой рейтинг:\n",
    "1. *Недвижимость* - чуть более 50%\n",
    "2. *Автомобиль* - 20%\n",
    "3. *Образование* - 18%\n",
    "4. *Свадьба* - более 10%"
   ]
  },
  {
   "cell_type": "markdown",
   "metadata": {},
   "source": [
    "Теперь добавим столбец, который содержит информацию о том, какой процент среди всех клиентов данной категории имел задолженность по кредиту, и назовем этот столбец `non-payment`. Также для более обширного анализа заодно и добавим процент тех, кто не имел задолженности и поместим результат в столбец `payment`."
   ]
  },
  {
   "cell_type": "code",
   "execution_count": 57,
   "metadata": {
    "scrolled": false
   },
   "outputs": [
    {
     "data": {
      "text/html": [
       "<div>\n",
       "<style scoped>\n",
       "    .dataframe tbody tr th:only-of-type {\n",
       "        vertical-align: middle;\n",
       "    }\n",
       "\n",
       "    .dataframe tbody tr th {\n",
       "        vertical-align: top;\n",
       "    }\n",
       "\n",
       "    .dataframe thead th {\n",
       "        text-align: right;\n",
       "    }\n",
       "</style>\n",
       "<table border=\"1\" class=\"dataframe\">\n",
       "  <thead>\n",
       "    <tr style=\"text-align: right;\">\n",
       "      <th>debt</th>\n",
       "      <th>0</th>\n",
       "      <th>1</th>\n",
       "      <th>pivot</th>\n",
       "      <th>non-payment</th>\n",
       "      <th>payment</th>\n",
       "    </tr>\n",
       "    <tr>\n",
       "      <th>category_purpose</th>\n",
       "      <th></th>\n",
       "      <th></th>\n",
       "      <th></th>\n",
       "      <th></th>\n",
       "      <th></th>\n",
       "    </tr>\n",
       "  </thead>\n",
       "  <tbody>\n",
       "    <tr>\n",
       "      <td>автомобиль</td>\n",
       "      <td>3902</td>\n",
       "      <td>403</td>\n",
       "      <td>20.067123</td>\n",
       "      <td>9.361208</td>\n",
       "      <td>90.638792</td>\n",
       "    </tr>\n",
       "    <tr>\n",
       "      <td>недвижимость</td>\n",
       "      <td>10029</td>\n",
       "      <td>782</td>\n",
       "      <td>50.393884</td>\n",
       "      <td>7.233373</td>\n",
       "      <td>92.766627</td>\n",
       "    </tr>\n",
       "    <tr>\n",
       "      <td>образование</td>\n",
       "      <td>3643</td>\n",
       "      <td>370</td>\n",
       "      <td>18.706008</td>\n",
       "      <td>9.220035</td>\n",
       "      <td>90.779965</td>\n",
       "    </tr>\n",
       "    <tr>\n",
       "      <td>свадьба</td>\n",
       "      <td>2138</td>\n",
       "      <td>186</td>\n",
       "      <td>10.832984</td>\n",
       "      <td>8.003442</td>\n",
       "      <td>91.996558</td>\n",
       "    </tr>\n",
       "  </tbody>\n",
       "</table>\n",
       "</div>"
      ],
      "text/plain": [
       "debt                  0    1      pivot  non-payment    payment\n",
       "category_purpose                                               \n",
       "автомобиль         3902  403  20.067123     9.361208  90.638792\n",
       "недвижимость      10029  782  50.393884     7.233373  92.766627\n",
       "образование        3643  370  18.706008     9.220035  90.779965\n",
       "свадьба            2138  186  10.832984     8.003442  91.996558"
      ]
     },
     "execution_count": 57,
     "metadata": {},
     "output_type": "execute_result"
    }
   ],
   "source": [
    "#рассчитываем процент задолжником\n",
    "df_pivot['non-payment'] = (df_pivot[1]/(df_pivot[1]+df_pivot[0]))*100\n",
    "#рассчитываем процент не задолжников\n",
    "df_pivot['payment'] = (df_pivot[0]/(df_pivot[1]+df_pivot[0]))*100\n",
    "#выводим полученную таблицу на экран\n",
    "df_pivot"
   ]
  },
  {
   "cell_type": "markdown",
   "metadata": {},
   "source": [
    "Теперь исходя из это таблицы можем делать выводы о надежности клиентов каждой категории"
   ]
  },
  {
   "cell_type": "markdown",
   "metadata": {},
   "source": [
    "**Вывод**"
   ]
  },
  {
   "cell_type": "markdown",
   "metadata": {},
   "source": [
    "В целом процент невозврата кредита в срок  не сильно изменяется в зависимости от целей и колеблется в пределах от 7 до 9%. Однако проценты все-таки разные, поэтому подытожим результаты данного исследования."
   ]
  },
  {
   "cell_type": "markdown",
   "metadata": {},
   "source": [
    "В целом гипотеза подтвердилась, и разные цели получения кредита так или инчае влияют на факт возврата кредита в срок.\n",
    "\n",
    "В частности, наблюдается интересная закономерность. Наибольшая группа клиентов, которая составляет более 50% от всех клиентов, группа клиентов, которая брала кредит на получение `недвижимости`, оказалась наиболее надежной. Среди всех клиентов, которые брали кредит на недвижимость, всего **7%** из них имели задолженность.\n",
    "\n",
    "Вторая же по численности группа клиентов, бравших кредит на `автомобиль`, оказалась, наоборот, самой ненадежной. Именно клиенты данной группы чаще остальных просрачивали платеж кредита. Процент невозврата кредита в срок среди этой группы составляет практически 1/10 (**9,4%**) ото всех взявших кредит, что довольно велико.\n",
    "\n",
    "Третья по численности группа клиентов, которая брала кредит на `образование` оказалась и третьей по надежности, поскольку ее процент невозврата кредита в срок составляет **9,22%**, что в целом равно результату, который показала вторая группа, любителей автомобилей. Можно сказать, что практически каждый 10 из второй и третей по численности групп не возвращает кредит в срок.\n",
    "\n",
    "И наконец четвертая по численности группа клиентов, которые брали кредит на `свадьбу`, наименьшая среди всех групп клиентов, занимает второе место по надежности. Процент просрочки среди клиентов данной группы составляет **8%**. Это, конечно, тоже не мало, но в сравнении с третьей и второй группой все-таки терпимо."
   ]
  },
  {
   "cell_type": "markdown",
   "metadata": {},
   "source": [
    "Так можно составить рейтинги надежности клиентов в зависимости от цели получения кредита по процентам просрочки платежей:\n",
    "1. Кредит на недвижимость (7%)\n",
    "2. Кредит на свадьбу (8%)\n",
    "3. Кредит на образование (9,2%)\n",
    "4. Кредит на автомобиль (9,4%)\n",
    "\n",
    "Самые надежные клиенты берут кредит на недвижимость, а самые ненадежные - на автомобиль."
   ]
  },
  {
   "cell_type": "markdown",
   "metadata": {},
   "source": [
    "### Есть ли зависимость между уровнем дохода и возвратом кредита в срок?\n"
   ]
  },
  {
   "cell_type": "markdown",
   "metadata": {},
   "source": [
    "Для начала выведем полученные категории дохода"
   ]
  },
  {
   "cell_type": "code",
   "execution_count": 58,
   "metadata": {
    "scrolled": true
   },
   "outputs": [
    {
     "data": {
      "text/plain": [
       "низкий     7755\n",
       "средний    7179\n",
       "высокий    6519\n",
       "Name: category_income, dtype: int64"
      ]
     },
     "execution_count": 58,
     "metadata": {},
     "output_type": "execute_result"
    }
   ],
   "source": [
    "#выводим уникальные значения\n",
    "df['category_income'].value_counts()"
   ]
  },
  {
   "cell_type": "markdown",
   "metadata": {},
   "source": [
    "Для работы с данными создадим сводную таблицу с помощью pivot_table, где:\n",
    "- *index* - категория цели (`category_income`)\n",
    "- *columns* - неуплата вовремя кредита (`debt`)\n",
    "- *values* - значение может быть любое, поскольку количество ячеек в столбцах одинаково. (я взял за основу - `education_id`)\n",
    "- *aggfunc* - функция подсчета количества (`count`)"
   ]
  },
  {
   "cell_type": "code",
   "execution_count": 59,
   "metadata": {
    "scrolled": true
   },
   "outputs": [
    {
     "data": {
      "text/html": [
       "<div>\n",
       "<style scoped>\n",
       "    .dataframe tbody tr th:only-of-type {\n",
       "        vertical-align: middle;\n",
       "    }\n",
       "\n",
       "    .dataframe tbody tr th {\n",
       "        vertical-align: top;\n",
       "    }\n",
       "\n",
       "    .dataframe thead th {\n",
       "        text-align: right;\n",
       "    }\n",
       "</style>\n",
       "<table border=\"1\" class=\"dataframe\">\n",
       "  <thead>\n",
       "    <tr style=\"text-align: right;\">\n",
       "      <th>debt</th>\n",
       "      <th>0</th>\n",
       "      <th>1</th>\n",
       "    </tr>\n",
       "    <tr>\n",
       "      <th>category_income</th>\n",
       "      <th></th>\n",
       "      <th></th>\n",
       "    </tr>\n",
       "  </thead>\n",
       "  <tbody>\n",
       "    <tr>\n",
       "      <td>высокий</td>\n",
       "      <td>6032</td>\n",
       "      <td>487</td>\n",
       "    </tr>\n",
       "    <tr>\n",
       "      <td>низкий</td>\n",
       "      <td>7112</td>\n",
       "      <td>643</td>\n",
       "    </tr>\n",
       "    <tr>\n",
       "      <td>средний</td>\n",
       "      <td>6568</td>\n",
       "      <td>611</td>\n",
       "    </tr>\n",
       "  </tbody>\n",
       "</table>\n",
       "</div>"
      ],
      "text/plain": [
       "debt                0    1\n",
       "category_income           \n",
       "высокий          6032  487\n",
       "низкий           7112  643\n",
       "средний          6568  611"
      ]
     },
     "execution_count": 59,
     "metadata": {},
     "output_type": "execute_result"
    }
   ],
   "source": [
    "#создаем сводную таблицу\n",
    "df_pivot2 = df.pivot_table(index ='category_income', columns = 'debt', values = 'education_id', aggfunc = 'count')\n",
    "#выводим полученную таблицу на экран\n",
    "df_pivot2"
   ]
  },
  {
   "cell_type": "markdown",
   "metadata": {},
   "source": [
    "Теперь рассчитаем, какой же процент составляют клиенты каждой категории по аналогии с прошлой гипотезой. Добавим результат в новый столбец `pivot`. Таким образом, в `pivot` хранится процент, который составляют клиенты определенной категории от общего числа клиентов"
   ]
  },
  {
   "cell_type": "code",
   "execution_count": 60,
   "metadata": {
    "scrolled": true
   },
   "outputs": [
    {
     "data": {
      "text/html": [
       "<div>\n",
       "<style scoped>\n",
       "    .dataframe tbody tr th:only-of-type {\n",
       "        vertical-align: middle;\n",
       "    }\n",
       "\n",
       "    .dataframe tbody tr th {\n",
       "        vertical-align: top;\n",
       "    }\n",
       "\n",
       "    .dataframe thead th {\n",
       "        text-align: right;\n",
       "    }\n",
       "</style>\n",
       "<table border=\"1\" class=\"dataframe\">\n",
       "  <thead>\n",
       "    <tr style=\"text-align: right;\">\n",
       "      <th>debt</th>\n",
       "      <th>0</th>\n",
       "      <th>1</th>\n",
       "      <th>pivot</th>\n",
       "    </tr>\n",
       "    <tr>\n",
       "      <th>category_income</th>\n",
       "      <th></th>\n",
       "      <th></th>\n",
       "      <th></th>\n",
       "    </tr>\n",
       "  </thead>\n",
       "  <tbody>\n",
       "    <tr>\n",
       "      <td>высокий</td>\n",
       "      <td>6032</td>\n",
       "      <td>487</td>\n",
       "      <td>30.387358</td>\n",
       "    </tr>\n",
       "    <tr>\n",
       "      <td>низкий</td>\n",
       "      <td>7112</td>\n",
       "      <td>643</td>\n",
       "      <td>36.148790</td>\n",
       "    </tr>\n",
       "    <tr>\n",
       "      <td>средний</td>\n",
       "      <td>6568</td>\n",
       "      <td>611</td>\n",
       "      <td>33.463851</td>\n",
       "    </tr>\n",
       "  </tbody>\n",
       "</table>\n",
       "</div>"
      ],
      "text/plain": [
       "debt                0    1      pivot\n",
       "category_income                      \n",
       "высокий          6032  487  30.387358\n",
       "низкий           7112  643  36.148790\n",
       "средний          6568  611  33.463851"
      ]
     },
     "execution_count": 60,
     "metadata": {},
     "output_type": "execute_result"
    }
   ],
   "source": [
    "#считаем процент клиентов и добавляем в отдельный столбец\n",
    "df_pivot2['pivot'] = ((df_pivot2[1]+df_pivot2[0])/tot_pay)*100\n",
    "#выводим таблицу на экран\n",
    "df_pivot2"
   ]
  },
  {
   "cell_type": "markdown",
   "metadata": {},
   "source": [
    "Мы получили данные для предварительного анализа. Так, мы видим, что процент оформления кредита для каждой из групп разнится. Проследуется закономерность - с повышением доходов клиентов понижается процент случаев взятия кредитов. Так, чем выше доход, тем меньше кредитов берут люди, и наоборот - чем ниже доход, тем чаще люди берут кредиты.\n",
    "\n",
    "Чаще всего берут кредиты клиенты с доходом **до 125.000**, затем идут лица с доходом **от 125.000 до 180.000** и наименее заинтересованные в получении кредита среди представленных лица, доход которых составляет **более 180.000**.\n",
    "\n",
    "По количество оформленных кредитов можно составить такой рейтинг:\n",
    "1. *доход до 125.000* - 36,1%\n",
    "2. *доход от 125.000 до 180.000* - 33,9%\n",
    "3. *доход от 180.000* - 29,9%\n",
    "\n",
    "\n"
   ]
  },
  {
   "cell_type": "markdown",
   "metadata": {},
   "source": [
    "Теперь добавим столбец, который содержит информацию о том, какой процент среди всех клиентов данной категории имел задолженность по кредиту, и назовем этот столбец `non-payment`. Также для более обширного анализа заодно и добавим процент тех, кто не имел задолженности и поместим результат в столбец `payment`."
   ]
  },
  {
   "cell_type": "code",
   "execution_count": 61,
   "metadata": {},
   "outputs": [
    {
     "data": {
      "text/html": [
       "<div>\n",
       "<style scoped>\n",
       "    .dataframe tbody tr th:only-of-type {\n",
       "        vertical-align: middle;\n",
       "    }\n",
       "\n",
       "    .dataframe tbody tr th {\n",
       "        vertical-align: top;\n",
       "    }\n",
       "\n",
       "    .dataframe thead th {\n",
       "        text-align: right;\n",
       "    }\n",
       "</style>\n",
       "<table border=\"1\" class=\"dataframe\">\n",
       "  <thead>\n",
       "    <tr style=\"text-align: right;\">\n",
       "      <th>debt</th>\n",
       "      <th>0</th>\n",
       "      <th>1</th>\n",
       "      <th>pivot</th>\n",
       "      <th>non-payment</th>\n",
       "      <th>payment</th>\n",
       "    </tr>\n",
       "    <tr>\n",
       "      <th>category_income</th>\n",
       "      <th></th>\n",
       "      <th></th>\n",
       "      <th></th>\n",
       "      <th></th>\n",
       "      <th></th>\n",
       "    </tr>\n",
       "  </thead>\n",
       "  <tbody>\n",
       "    <tr>\n",
       "      <td>высокий</td>\n",
       "      <td>6032</td>\n",
       "      <td>487</td>\n",
       "      <td>30.387358</td>\n",
       "      <td>7.470471</td>\n",
       "      <td>92.529529</td>\n",
       "    </tr>\n",
       "    <tr>\n",
       "      <td>низкий</td>\n",
       "      <td>7112</td>\n",
       "      <td>643</td>\n",
       "      <td>36.148790</td>\n",
       "      <td>8.291425</td>\n",
       "      <td>91.708575</td>\n",
       "    </tr>\n",
       "    <tr>\n",
       "      <td>средний</td>\n",
       "      <td>6568</td>\n",
       "      <td>611</td>\n",
       "      <td>33.463851</td>\n",
       "      <td>8.510935</td>\n",
       "      <td>91.489065</td>\n",
       "    </tr>\n",
       "  </tbody>\n",
       "</table>\n",
       "</div>"
      ],
      "text/plain": [
       "debt                0    1      pivot  non-payment    payment\n",
       "category_income                                              \n",
       "высокий          6032  487  30.387358     7.470471  92.529529\n",
       "низкий           7112  643  36.148790     8.291425  91.708575\n",
       "средний          6568  611  33.463851     8.510935  91.489065"
      ]
     },
     "execution_count": 61,
     "metadata": {},
     "output_type": "execute_result"
    }
   ],
   "source": [
    "#рассчитываем процент задолжником\n",
    "df_pivot2['non-payment'] = (df_pivot2[1]/(df_pivot2[1]+df_pivot2[0]))*100\n",
    "#рассчитываем процент не задолжников\n",
    "df_pivot2['payment'] = (df_pivot2[0]/(df_pivot2[1]+df_pivot2[0]))*100\n",
    "#выводим полученную таблицу на экран\n",
    "df_pivot2"
   ]
  },
  {
   "cell_type": "markdown",
   "metadata": {},
   "source": [
    "**Вывод**"
   ]
  },
  {
   "cell_type": "markdown",
   "metadata": {},
   "source": [
    "В целом процент невозврата кредита в срок  не сильно изменяется в зависимости от доходов клиента и колеблется в пределах от 7 до 8%. В таблице нет выделяющихся на фоне остальных значений процента просрочки"
   ]
  },
  {
   "cell_type": "markdown",
   "metadata": {},
   "source": [
    "Наименее надежными заемщиками являются клиенты со `средним доходом` (от 125.000 до 180.000). Данная категория граждан просрачивали платеж в **8,5%** случаев.\n",
    "\n",
    "Наиболее надежными заемщиками являются клиенты с `высоким доходом` (свыше 180.000). Данная категория граждан просрачивала платеж в **7,4%** случаев.\n",
    "\n",
    "Между ними находится категория граждан с `низкими доходами` (до 125.000). Данная группа составляет **8.3%** случаев.\n",
    "\n",
    "В целом из сводной таблицы можно сдлеать вывод, что клиенты со средним и низким доходом имели одинаковое количество просроченных платежей (**8.3-8.5%**). И отчасти гипотеза опровергается. Однако клиенты с более высоким доходом имели меньшее количество случаев просрочки, которое отличается от лиц с низкими и средними доходами, и составляет **7,4%**.\n",
    "\n",
    "Таким образом, отвечая на вопрос, есть ли зависимость между доходом клиента и возвратом кредита в срок, можно сказать, что она есть, но довольно небольшая, и прослеживается в основном с более высокими уровнями дохода. Лица с наиболее большими доходами, значительно отличающимися от остальных, возвращают кредит в срок чаще, чем все остальные. \n"
   ]
  },
  {
   "cell_type": "markdown",
   "metadata": {},
   "source": [
    "### Есть ли зависимость между семейным положением и возвратом кредита в срок?"
   ]
  },
  {
   "cell_type": "markdown",
   "metadata": {},
   "source": [
    "Для начала выведем полученные категории дохода"
   ]
  },
  {
   "cell_type": "code",
   "execution_count": 62,
   "metadata": {},
   "outputs": [
    {
     "data": {
      "text/plain": [
       "женат / замужем          12338\n",
       "гражданский брак          4151\n",
       "не женат / не замужем     2810\n",
       "в разводе                 1195\n",
       "вдовец / вдова             959\n",
       "Name: family_status, dtype: int64"
      ]
     },
     "execution_count": 62,
     "metadata": {},
     "output_type": "execute_result"
    }
   ],
   "source": [
    "#выводим уникальные значения\n",
    "df['family_status'].value_counts()"
   ]
  },
  {
   "cell_type": "markdown",
   "metadata": {},
   "source": [
    "Для работы с данными создадим сводную таблицу с помощью pivot_table, где:\n",
    "- *index* - категория цели (`family_status`)\n",
    "- *columns* - неуплата вовремя кредита (`debt`)\n",
    "- *values* - идентификатор семейного положения (`family_status_id`)\n",
    "- *aggfunc* - функция подсчета количества (`count`)"
   ]
  },
  {
   "cell_type": "code",
   "execution_count": 63,
   "metadata": {
    "scrolled": false
   },
   "outputs": [
    {
     "data": {
      "text/html": [
       "<div>\n",
       "<style scoped>\n",
       "    .dataframe tbody tr th:only-of-type {\n",
       "        vertical-align: middle;\n",
       "    }\n",
       "\n",
       "    .dataframe tbody tr th {\n",
       "        vertical-align: top;\n",
       "    }\n",
       "\n",
       "    .dataframe thead th {\n",
       "        text-align: right;\n",
       "    }\n",
       "</style>\n",
       "<table border=\"1\" class=\"dataframe\">\n",
       "  <thead>\n",
       "    <tr style=\"text-align: right;\">\n",
       "      <th>debt</th>\n",
       "      <th>0</th>\n",
       "      <th>1</th>\n",
       "    </tr>\n",
       "    <tr>\n",
       "      <th>family_status</th>\n",
       "      <th></th>\n",
       "      <th></th>\n",
       "    </tr>\n",
       "  </thead>\n",
       "  <tbody>\n",
       "    <tr>\n",
       "      <td>в разводе</td>\n",
       "      <td>1110</td>\n",
       "      <td>85</td>\n",
       "    </tr>\n",
       "    <tr>\n",
       "      <td>вдовец / вдова</td>\n",
       "      <td>896</td>\n",
       "      <td>63</td>\n",
       "    </tr>\n",
       "    <tr>\n",
       "      <td>гражданский брак</td>\n",
       "      <td>3763</td>\n",
       "      <td>388</td>\n",
       "    </tr>\n",
       "    <tr>\n",
       "      <td>женат / замужем</td>\n",
       "      <td>11407</td>\n",
       "      <td>931</td>\n",
       "    </tr>\n",
       "    <tr>\n",
       "      <td>не женат / не замужем</td>\n",
       "      <td>2536</td>\n",
       "      <td>274</td>\n",
       "    </tr>\n",
       "  </tbody>\n",
       "</table>\n",
       "</div>"
      ],
      "text/plain": [
       "debt                       0    1\n",
       "family_status                    \n",
       "в разводе               1110   85\n",
       "вдовец / вдова           896   63\n",
       "гражданский брак        3763  388\n",
       "женат / замужем        11407  931\n",
       "не женат / не замужем   2536  274"
      ]
     },
     "execution_count": 63,
     "metadata": {},
     "output_type": "execute_result"
    }
   ],
   "source": [
    "#создаем сводную таблицу\n",
    "df_pivot3 = df.pivot_table(index ='family_status', columns = 'debt', values = 'family_status_id', aggfunc = 'count')\n",
    "#выводим полученную таблицу на экран\n",
    "df_pivot3"
   ]
  },
  {
   "cell_type": "markdown",
   "metadata": {},
   "source": [
    "Теперь рассчитаем, какой же процент составляют клиенты каждой категории по аналогии с прошлой гипотезой. Добавим результат в новый столбец `pivot`. Таким образом, в `pivot` хранится процент, который составляют клиенты определенной категории от общего числа клиентов"
   ]
  },
  {
   "cell_type": "code",
   "execution_count": 64,
   "metadata": {
    "scrolled": true
   },
   "outputs": [
    {
     "data": {
      "text/html": [
       "<div>\n",
       "<style scoped>\n",
       "    .dataframe tbody tr th:only-of-type {\n",
       "        vertical-align: middle;\n",
       "    }\n",
       "\n",
       "    .dataframe tbody tr th {\n",
       "        vertical-align: top;\n",
       "    }\n",
       "\n",
       "    .dataframe thead th {\n",
       "        text-align: right;\n",
       "    }\n",
       "</style>\n",
       "<table border=\"1\" class=\"dataframe\">\n",
       "  <thead>\n",
       "    <tr style=\"text-align: right;\">\n",
       "      <th>debt</th>\n",
       "      <th>0</th>\n",
       "      <th>1</th>\n",
       "      <th>pivot</th>\n",
       "    </tr>\n",
       "    <tr>\n",
       "      <th>family_status</th>\n",
       "      <th></th>\n",
       "      <th></th>\n",
       "      <th></th>\n",
       "    </tr>\n",
       "  </thead>\n",
       "  <tbody>\n",
       "    <tr>\n",
       "      <td>в разводе</td>\n",
       "      <td>1110</td>\n",
       "      <td>85</td>\n",
       "      <td>5.570317</td>\n",
       "    </tr>\n",
       "    <tr>\n",
       "      <td>вдовец / вдова</td>\n",
       "      <td>896</td>\n",
       "      <td>63</td>\n",
       "      <td>4.470237</td>\n",
       "    </tr>\n",
       "    <tr>\n",
       "      <td>гражданский брак</td>\n",
       "      <td>3763</td>\n",
       "      <td>388</td>\n",
       "      <td>19.349275</td>\n",
       "    </tr>\n",
       "    <tr>\n",
       "      <td>женат / замужем</td>\n",
       "      <td>11407</td>\n",
       "      <td>931</td>\n",
       "      <td>57.511770</td>\n",
       "    </tr>\n",
       "    <tr>\n",
       "      <td>не женат / не замужем</td>\n",
       "      <td>2536</td>\n",
       "      <td>274</td>\n",
       "      <td>13.098401</td>\n",
       "    </tr>\n",
       "  </tbody>\n",
       "</table>\n",
       "</div>"
      ],
      "text/plain": [
       "debt                       0    1      pivot\n",
       "family_status                               \n",
       "в разводе               1110   85   5.570317\n",
       "вдовец / вдова           896   63   4.470237\n",
       "гражданский брак        3763  388  19.349275\n",
       "женат / замужем        11407  931  57.511770\n",
       "не женат / не замужем   2536  274  13.098401"
      ]
     },
     "execution_count": 64,
     "metadata": {},
     "output_type": "execute_result"
    }
   ],
   "source": [
    "#считаем процент клиентов и добавляем в отдельный столбец\n",
    "df_pivot3['pivot'] = ((df_pivot3[1]+df_pivot3[0])/tot_pay)*100\n",
    "#выводим таблицу на экран\n",
    "df_pivot3"
   ]
  },
  {
   "cell_type": "markdown",
   "metadata": {},
   "source": [
    "Мы получили данные для предварительного анализа. Из полученных данных можно сделать вывод о том, что чаще всего кредит берут **женатые/замужние** граждане, за ними идут лица, состоящие **в гражданском браке**, после них идут те, кто **не женат или не замужем**, перподследнее место по количествам взятых кредитов занимают лица, находящиеся **в разводе**, и наименее заинтересованными в получении кредита лицами являются **вдовцы и вдовы**.\n",
    "\n",
    "Если составлять рейтинг заинтересованности в получении кредита лиц, то он будет выглядеть так:\n",
    "1. *женат / замужем* - 57,5%\n",
    "2. *гражданский брак* - 19%\n",
    "3. *не женат / не замужем* - 13%\n",
    "4. *в разводе* - 5,6%\n",
    "5. *вдовец / вдова* - 4,5%"
   ]
  },
  {
   "cell_type": "markdown",
   "metadata": {},
   "source": [
    "Теперь добавим столбец, который содержит информацию о том, какой процент среди всех клиентов данной категории имел задолженность по кредиту, и назовем этот столбец `non-payment`. Также для более обширного анализа заодно и добавим процент тех, кто не имел задолженности и поместим результат в столбец `payment`."
   ]
  },
  {
   "cell_type": "code",
   "execution_count": 65,
   "metadata": {
    "scrolled": false
   },
   "outputs": [
    {
     "data": {
      "text/html": [
       "<div>\n",
       "<style scoped>\n",
       "    .dataframe tbody tr th:only-of-type {\n",
       "        vertical-align: middle;\n",
       "    }\n",
       "\n",
       "    .dataframe tbody tr th {\n",
       "        vertical-align: top;\n",
       "    }\n",
       "\n",
       "    .dataframe thead th {\n",
       "        text-align: right;\n",
       "    }\n",
       "</style>\n",
       "<table border=\"1\" class=\"dataframe\">\n",
       "  <thead>\n",
       "    <tr style=\"text-align: right;\">\n",
       "      <th>debt</th>\n",
       "      <th>0</th>\n",
       "      <th>1</th>\n",
       "      <th>pivot</th>\n",
       "      <th>non-payment</th>\n",
       "      <th>payment</th>\n",
       "    </tr>\n",
       "    <tr>\n",
       "      <th>family_status</th>\n",
       "      <th></th>\n",
       "      <th></th>\n",
       "      <th></th>\n",
       "      <th></th>\n",
       "      <th></th>\n",
       "    </tr>\n",
       "  </thead>\n",
       "  <tbody>\n",
       "    <tr>\n",
       "      <td>в разводе</td>\n",
       "      <td>1110</td>\n",
       "      <td>85</td>\n",
       "      <td>5.570317</td>\n",
       "      <td>7.112971</td>\n",
       "      <td>92.887029</td>\n",
       "    </tr>\n",
       "    <tr>\n",
       "      <td>вдовец / вдова</td>\n",
       "      <td>896</td>\n",
       "      <td>63</td>\n",
       "      <td>4.470237</td>\n",
       "      <td>6.569343</td>\n",
       "      <td>93.430657</td>\n",
       "    </tr>\n",
       "    <tr>\n",
       "      <td>гражданский брак</td>\n",
       "      <td>3763</td>\n",
       "      <td>388</td>\n",
       "      <td>19.349275</td>\n",
       "      <td>9.347145</td>\n",
       "      <td>90.652855</td>\n",
       "    </tr>\n",
       "    <tr>\n",
       "      <td>женат / замужем</td>\n",
       "      <td>11407</td>\n",
       "      <td>931</td>\n",
       "      <td>57.511770</td>\n",
       "      <td>7.545793</td>\n",
       "      <td>92.454207</td>\n",
       "    </tr>\n",
       "    <tr>\n",
       "      <td>не женат / не замужем</td>\n",
       "      <td>2536</td>\n",
       "      <td>274</td>\n",
       "      <td>13.098401</td>\n",
       "      <td>9.750890</td>\n",
       "      <td>90.249110</td>\n",
       "    </tr>\n",
       "  </tbody>\n",
       "</table>\n",
       "</div>"
      ],
      "text/plain": [
       "debt                       0    1      pivot  non-payment    payment\n",
       "family_status                                                       \n",
       "в разводе               1110   85   5.570317     7.112971  92.887029\n",
       "вдовец / вдова           896   63   4.470237     6.569343  93.430657\n",
       "гражданский брак        3763  388  19.349275     9.347145  90.652855\n",
       "женат / замужем        11407  931  57.511770     7.545793  92.454207\n",
       "не женат / не замужем   2536  274  13.098401     9.750890  90.249110"
      ]
     },
     "execution_count": 65,
     "metadata": {},
     "output_type": "execute_result"
    }
   ],
   "source": [
    "#рассчитываем процент задолжником\n",
    "df_pivot3['non-payment'] = (df_pivot3[1]/(df_pivot3[1]+df_pivot3[0]))*100\n",
    "#рассчитываем процент не задолжников\n",
    "df_pivot3['payment'] = (df_pivot3[0]/(df_pivot3[1]+df_pivot3[0]))*100\n",
    "#выводим полученную таблицу на экран\n",
    "df_pivot3"
   ]
  },
  {
   "cell_type": "markdown",
   "metadata": {},
   "source": [
    "**Вывод**"
   ]
  },
  {
   "cell_type": "markdown",
   "metadata": {},
   "source": [
    "Полученные результаты свидетельствуют об наличии более отличных друг от друга значений процентов просрочки, нежели те, что были рассмотрены ранее. Так процент просрочки у всех категорий колеблется в пределах от 6% до 10%."
   ]
  },
  {
   "cell_type": "markdown",
   "metadata": {},
   "source": [
    "Наиболее надежными заемщиками оказались `вдовы и вдовцы` - они просрачивали платеж лишь в **6,6%** случаев. Эта группа выделяется на оне остальных, поскольку является группой не только наименее заинтересованной в получении кредита, но и той, что реже всех остальных просрачиает платеж.\n",
    "\n",
    "Второй по надежности является категория лиц, которые находятся `в разводе` - они просрачивали платеж в **7,1%** случаев. Эта группа является второй по отсутствию заинтересованности в кредите. Можно сказать, что самые надежные группы заемщиков - те, что наименее заинтересованы в получении кредита. \n",
    "\n",
    "За ними идут по проценту надежности `женатые/замужние` лица, которые просрочили платеж в **7,5%** случаев. Несмотря на большой процент получения кредитов, который мог бы послужить причиной размытия результатов, данная группа все же практически в 93 случаях из ста оплачивала кредит вовремя, что является очень хорошим показателем.\n",
    "\n",
    "Лица же, состоящие `в гражданском браке` являются не лучшими заемщиками, поскольку процент просрочки платежей у них составляет целых **9,4%**, что на фоне предыдущих результатов заметно выделяется.\n",
    "\n",
    "И наконец самыми ненадежными заемщиками являются `незамужние и неженатые` лица - процент просрочки платежей у данной категории составляет аж **9,8%**. Можно сказать, что практически каждый 10 неженатый или незамужний гражданин просрочил платеж по кредиту. Это довольно большой результат.\n",
    "\n",
    "Можно проследить интересную закономерность:\n",
    "- Лица, которые были женаты или замужем, но на момент получения кредита, таковыми не являлись, являются наиболее надежными заемщиками.\n",
    "- Лица находящиеся в браке являются в целом в большинстве своем надежными заемщиками. Они занимают промежуточное положение между ненадежными заемщиками и надежными.\n",
    "- Лица, которые еще не вступали в брак, являются наименее надежными заемщиками.\n",
    "\n",
    "Можно составить некий рейтинг надежности заемщиков по процентам просрочки:\n",
    "1. *вдовец / вдова* - 6,6%\n",
    "2. *в разводе* - 7,1%\n",
    "3. *женат / замужем* -7,5%\n",
    "4. *гражданский брак* - 9,4%\n",
    "5. *не женат / не замужем* - 9,8%"
   ]
  },
  {
   "cell_type": "markdown",
   "metadata": {},
   "source": [
    "### Есть ли зависимость между наличием детей и возвратом кредита в срок?"
   ]
  },
  {
   "cell_type": "markdown",
   "metadata": {},
   "source": [
    "Для начала выведем полученные категории дохода"
   ]
  },
  {
   "cell_type": "code",
   "execution_count": 66,
   "metadata": {
    "scrolled": true
   },
   "outputs": [
    {
     "data": {
      "text/plain": [
       "0    14091\n",
       "1     4855\n",
       "2     2127\n",
       "3      330\n",
       "4       41\n",
       "5        9\n",
       "Name: children, dtype: int64"
      ]
     },
     "execution_count": 66,
     "metadata": {},
     "output_type": "execute_result"
    }
   ],
   "source": [
    "#выводим уникальные значения\n",
    "df['children'].value_counts()"
   ]
  },
  {
   "cell_type": "markdown",
   "metadata": {},
   "source": [
    "Для работы с данными создадим сводную таблицу с помощью pivot_table, где:\n",
    "- *index* - категория цели (`children`)\n",
    "- *columns* - неуплата вовремя кредита (`debt`)\n",
    "- *values* - значение может быть любое, поскольку количество ячеек в столбцах одинаково. (я взял за основу - `education_id`)\n",
    "- *aggfunc* - функция подсчета количества (`count`)"
   ]
  },
  {
   "cell_type": "code",
   "execution_count": 67,
   "metadata": {
    "scrolled": true
   },
   "outputs": [
    {
     "data": {
      "text/html": [
       "<div>\n",
       "<style scoped>\n",
       "    .dataframe tbody tr th:only-of-type {\n",
       "        vertical-align: middle;\n",
       "    }\n",
       "\n",
       "    .dataframe tbody tr th {\n",
       "        vertical-align: top;\n",
       "    }\n",
       "\n",
       "    .dataframe thead th {\n",
       "        text-align: right;\n",
       "    }\n",
       "</style>\n",
       "<table border=\"1\" class=\"dataframe\">\n",
       "  <thead>\n",
       "    <tr style=\"text-align: right;\">\n",
       "      <th>debt</th>\n",
       "      <th>0</th>\n",
       "      <th>1</th>\n",
       "    </tr>\n",
       "    <tr>\n",
       "      <th>children</th>\n",
       "      <th></th>\n",
       "      <th></th>\n",
       "    </tr>\n",
       "  </thead>\n",
       "  <tbody>\n",
       "    <tr>\n",
       "      <td>0</td>\n",
       "      <td>13028.0</td>\n",
       "      <td>1063.0</td>\n",
       "    </tr>\n",
       "    <tr>\n",
       "      <td>1</td>\n",
       "      <td>4410.0</td>\n",
       "      <td>445.0</td>\n",
       "    </tr>\n",
       "    <tr>\n",
       "      <td>2</td>\n",
       "      <td>1925.0</td>\n",
       "      <td>202.0</td>\n",
       "    </tr>\n",
       "    <tr>\n",
       "      <td>3</td>\n",
       "      <td>303.0</td>\n",
       "      <td>27.0</td>\n",
       "    </tr>\n",
       "    <tr>\n",
       "      <td>4</td>\n",
       "      <td>37.0</td>\n",
       "      <td>4.0</td>\n",
       "    </tr>\n",
       "    <tr>\n",
       "      <td>5</td>\n",
       "      <td>9.0</td>\n",
       "      <td>NaN</td>\n",
       "    </tr>\n",
       "  </tbody>\n",
       "</table>\n",
       "</div>"
      ],
      "text/plain": [
       "debt            0       1\n",
       "children                 \n",
       "0         13028.0  1063.0\n",
       "1          4410.0   445.0\n",
       "2          1925.0   202.0\n",
       "3           303.0    27.0\n",
       "4            37.0     4.0\n",
       "5             9.0     NaN"
      ]
     },
     "execution_count": 67,
     "metadata": {},
     "output_type": "execute_result"
    }
   ],
   "source": [
    "#создаем сводную таблицу\n",
    "df_pivot4 = df.pivot_table(index ='children', columns = 'debt', values = 'education_id', aggfunc = 'count')\n",
    "#выведем полученную таблицу на экран\n",
    "df_pivot4"
   ]
  },
  {
   "cell_type": "markdown",
   "metadata": {},
   "source": [
    "В столбце, который содержит информацию о количестве просрочек клиентов с 5 детьми появилось значение NaN. Нужно выяснить, почему так произошло. Выведем на экран всех."
   ]
  },
  {
   "cell_type": "code",
   "execution_count": 68,
   "metadata": {
    "scrolled": false
   },
   "outputs": [
    {
     "data": {
      "text/html": [
       "<div>\n",
       "<style scoped>\n",
       "    .dataframe tbody tr th:only-of-type {\n",
       "        vertical-align: middle;\n",
       "    }\n",
       "\n",
       "    .dataframe tbody tr th {\n",
       "        vertical-align: top;\n",
       "    }\n",
       "\n",
       "    .dataframe thead th {\n",
       "        text-align: right;\n",
       "    }\n",
       "</style>\n",
       "<table border=\"1\" class=\"dataframe\">\n",
       "  <thead>\n",
       "    <tr style=\"text-align: right;\">\n",
       "      <th></th>\n",
       "      <th>children</th>\n",
       "      <th>years_employed</th>\n",
       "      <th>dob_years</th>\n",
       "      <th>education</th>\n",
       "      <th>education_id</th>\n",
       "      <th>family_status</th>\n",
       "      <th>family_status_id</th>\n",
       "      <th>gender</th>\n",
       "      <th>income_type</th>\n",
       "      <th>debt</th>\n",
       "      <th>total_income(*1000)</th>\n",
       "      <th>purpose</th>\n",
       "      <th>category_purpose</th>\n",
       "      <th>category_income</th>\n",
       "    </tr>\n",
       "  </thead>\n",
       "  <tbody>\n",
       "    <tr>\n",
       "      <td>3977</td>\n",
       "      <td>5</td>\n",
       "      <td>0</td>\n",
       "      <td>42</td>\n",
       "      <td>среднее</td>\n",
       "      <td>1</td>\n",
       "      <td>гражданский брак</td>\n",
       "      <td>1</td>\n",
       "      <td>M</td>\n",
       "      <td>сотрудник</td>\n",
       "      <td>0</td>\n",
       "      <td>142</td>\n",
       "      <td>на покупку своего автомобиля</td>\n",
       "      <td>автомобиль</td>\n",
       "      <td>средний</td>\n",
       "    </tr>\n",
       "    <tr>\n",
       "      <td>4394</td>\n",
       "      <td>5</td>\n",
       "      <td>8</td>\n",
       "      <td>36</td>\n",
       "      <td>среднее</td>\n",
       "      <td>1</td>\n",
       "      <td>женат / замужем</td>\n",
       "      <td>0</td>\n",
       "      <td>F</td>\n",
       "      <td>компаньон</td>\n",
       "      <td>0</td>\n",
       "      <td>168</td>\n",
       "      <td>операции с недвижимостью</td>\n",
       "      <td>недвижимость</td>\n",
       "      <td>средний</td>\n",
       "    </tr>\n",
       "    <tr>\n",
       "      <td>7858</td>\n",
       "      <td>5</td>\n",
       "      <td>2</td>\n",
       "      <td>36</td>\n",
       "      <td>среднее</td>\n",
       "      <td>1</td>\n",
       "      <td>женат / замужем</td>\n",
       "      <td>0</td>\n",
       "      <td>F</td>\n",
       "      <td>сотрудник</td>\n",
       "      <td>0</td>\n",
       "      <td>48</td>\n",
       "      <td>операции с жильем</td>\n",
       "      <td>недвижимость</td>\n",
       "      <td>низкий</td>\n",
       "    </tr>\n",
       "    <tr>\n",
       "      <td>15786</td>\n",
       "      <td>5</td>\n",
       "      <td>1</td>\n",
       "      <td>31</td>\n",
       "      <td>среднее</td>\n",
       "      <td>1</td>\n",
       "      <td>женат / замужем</td>\n",
       "      <td>0</td>\n",
       "      <td>F</td>\n",
       "      <td>сотрудник</td>\n",
       "      <td>0</td>\n",
       "      <td>77</td>\n",
       "      <td>сделка с подержанным автомобилем</td>\n",
       "      <td>автомобиль</td>\n",
       "      <td>низкий</td>\n",
       "    </tr>\n",
       "    <tr>\n",
       "      <td>15880</td>\n",
       "      <td>5</td>\n",
       "      <td>6</td>\n",
       "      <td>37</td>\n",
       "      <td>среднее</td>\n",
       "      <td>1</td>\n",
       "      <td>женат / замужем</td>\n",
       "      <td>0</td>\n",
       "      <td>F</td>\n",
       "      <td>сотрудник</td>\n",
       "      <td>0</td>\n",
       "      <td>256</td>\n",
       "      <td>покупка недвижимости</td>\n",
       "      <td>недвижимость</td>\n",
       "      <td>высокий</td>\n",
       "    </tr>\n",
       "    <tr>\n",
       "      <td>16172</td>\n",
       "      <td>5</td>\n",
       "      <td>1</td>\n",
       "      <td>35</td>\n",
       "      <td>среднее</td>\n",
       "      <td>1</td>\n",
       "      <td>гражданский брак</td>\n",
       "      <td>1</td>\n",
       "      <td>F</td>\n",
       "      <td>госслужащий</td>\n",
       "      <td>0</td>\n",
       "      <td>126</td>\n",
       "      <td>на проведение свадьбы</td>\n",
       "      <td>свадьба</td>\n",
       "      <td>средний</td>\n",
       "    </tr>\n",
       "    <tr>\n",
       "      <td>20386</td>\n",
       "      <td>5</td>\n",
       "      <td>0</td>\n",
       "      <td>38</td>\n",
       "      <td>начальное</td>\n",
       "      <td>3</td>\n",
       "      <td>женат / замужем</td>\n",
       "      <td>0</td>\n",
       "      <td>F</td>\n",
       "      <td>сотрудник</td>\n",
       "      <td>0</td>\n",
       "      <td>212</td>\n",
       "      <td>заняться высшим образованием</td>\n",
       "      <td>образование</td>\n",
       "      <td>высокий</td>\n",
       "    </tr>\n",
       "    <tr>\n",
       "      <td>20769</td>\n",
       "      <td>5</td>\n",
       "      <td>6</td>\n",
       "      <td>35</td>\n",
       "      <td>среднее</td>\n",
       "      <td>1</td>\n",
       "      <td>женат / замужем</td>\n",
       "      <td>0</td>\n",
       "      <td>F</td>\n",
       "      <td>компаньон</td>\n",
       "      <td>0</td>\n",
       "      <td>204</td>\n",
       "      <td>жилье</td>\n",
       "      <td>недвижимость</td>\n",
       "      <td>высокий</td>\n",
       "    </tr>\n",
       "    <tr>\n",
       "      <td>21086</td>\n",
       "      <td>5</td>\n",
       "      <td>4</td>\n",
       "      <td>59</td>\n",
       "      <td>среднее</td>\n",
       "      <td>1</td>\n",
       "      <td>женат / замужем</td>\n",
       "      <td>0</td>\n",
       "      <td>M</td>\n",
       "      <td>сотрудник</td>\n",
       "      <td>0</td>\n",
       "      <td>269</td>\n",
       "      <td>операции со своей недвижимостью</td>\n",
       "      <td>недвижимость</td>\n",
       "      <td>высокий</td>\n",
       "    </tr>\n",
       "  </tbody>\n",
       "</table>\n",
       "</div>"
      ],
      "text/plain": [
       "       children  years_employed  dob_years  education  education_id  \\\n",
       "3977          5               0         42    среднее             1   \n",
       "4394          5               8         36    среднее             1   \n",
       "7858          5               2         36    среднее             1   \n",
       "15786         5               1         31    среднее             1   \n",
       "15880         5               6         37    среднее             1   \n",
       "16172         5               1         35    среднее             1   \n",
       "20386         5               0         38  начальное             3   \n",
       "20769         5               6         35    среднее             1   \n",
       "21086         5               4         59    среднее             1   \n",
       "\n",
       "          family_status  family_status_id gender  income_type  debt  \\\n",
       "3977   гражданский брак                 1      M    сотрудник     0   \n",
       "4394    женат / замужем                 0      F    компаньон     0   \n",
       "7858    женат / замужем                 0      F    сотрудник     0   \n",
       "15786   женат / замужем                 0      F    сотрудник     0   \n",
       "15880   женат / замужем                 0      F    сотрудник     0   \n",
       "16172  гражданский брак                 1      F  госслужащий     0   \n",
       "20386   женат / замужем                 0      F    сотрудник     0   \n",
       "20769   женат / замужем                 0      F    компаньон     0   \n",
       "21086   женат / замужем                 0      M    сотрудник     0   \n",
       "\n",
       "       total_income(*1000)                           purpose category_purpose  \\\n",
       "3977                   142      на покупку своего автомобиля       автомобиль   \n",
       "4394                   168          операции с недвижимостью     недвижимость   \n",
       "7858                    48                 операции с жильем     недвижимость   \n",
       "15786                   77  сделка с подержанным автомобилем       автомобиль   \n",
       "15880                  256              покупка недвижимости     недвижимость   \n",
       "16172                  126             на проведение свадьбы          свадьба   \n",
       "20386                  212      заняться высшим образованием      образование   \n",
       "20769                  204                             жилье     недвижимость   \n",
       "21086                  269   операции со своей недвижимостью     недвижимость   \n",
       "\n",
       "      category_income  \n",
       "3977          средний  \n",
       "4394          средний  \n",
       "7858           низкий  \n",
       "15786          низкий  \n",
       "15880         высокий  \n",
       "16172         средний  \n",
       "20386         высокий  \n",
       "20769         высокий  \n",
       "21086         высокий  "
      ]
     },
     "execution_count": 68,
     "metadata": {},
     "output_type": "execute_result"
    }
   ],
   "source": [
    "#выводим на экран клиентов с 5 детьми\n",
    "df[df['children'] == 5]"
   ]
  },
  {
   "cell_type": "markdown",
   "metadata": {},
   "source": [
    "Мы видим, что клиенты с 5 детьми ни разу не просрачивали платеж.\n",
    "\n",
    "Проверим наше предположение:"
   ]
  },
  {
   "cell_type": "code",
   "execution_count": 69,
   "metadata": {
    "scrolled": true
   },
   "outputs": [
    {
     "data": {
      "text/html": [
       "<div>\n",
       "<style scoped>\n",
       "    .dataframe tbody tr th:only-of-type {\n",
       "        vertical-align: middle;\n",
       "    }\n",
       "\n",
       "    .dataframe tbody tr th {\n",
       "        vertical-align: top;\n",
       "    }\n",
       "\n",
       "    .dataframe thead th {\n",
       "        text-align: right;\n",
       "    }\n",
       "</style>\n",
       "<table border=\"1\" class=\"dataframe\">\n",
       "  <thead>\n",
       "    <tr style=\"text-align: right;\">\n",
       "      <th></th>\n",
       "      <th>children</th>\n",
       "      <th>years_employed</th>\n",
       "      <th>dob_years</th>\n",
       "      <th>education</th>\n",
       "      <th>education_id</th>\n",
       "      <th>family_status</th>\n",
       "      <th>family_status_id</th>\n",
       "      <th>gender</th>\n",
       "      <th>income_type</th>\n",
       "      <th>debt</th>\n",
       "      <th>total_income(*1000)</th>\n",
       "      <th>purpose</th>\n",
       "      <th>category_purpose</th>\n",
       "      <th>category_income</th>\n",
       "    </tr>\n",
       "  </thead>\n",
       "  <tbody>\n",
       "  </tbody>\n",
       "</table>\n",
       "</div>"
      ],
      "text/plain": [
       "Empty DataFrame\n",
       "Columns: [children, years_employed, dob_years, education, education_id, family_status, family_status_id, gender, income_type, debt, total_income(*1000), purpose, category_purpose, category_income]\n",
       "Index: []"
      ]
     },
     "execution_count": 69,
     "metadata": {},
     "output_type": "execute_result"
    }
   ],
   "source": [
    "#выводим на экран клиентов с 5 детьми и просрочкой платежа\n",
    "df[(df['children'] == 5) & (df['debt'] == 1)]"
   ]
  },
  {
   "cell_type": "markdown",
   "metadata": {},
   "source": [
    "Предположение подтвердилось - количество клиентов с 5 детьми, которые просрочили платеж равно 0. Заменим пропуски в таблице на 0 с помощью `fillna()` и приведем значения к типу int64 - из-за появления NaN тип значений в таблице сбился."
   ]
  },
  {
   "cell_type": "code",
   "execution_count": 70,
   "metadata": {},
   "outputs": [
    {
     "data": {
      "text/html": [
       "<div>\n",
       "<style scoped>\n",
       "    .dataframe tbody tr th:only-of-type {\n",
       "        vertical-align: middle;\n",
       "    }\n",
       "\n",
       "    .dataframe tbody tr th {\n",
       "        vertical-align: top;\n",
       "    }\n",
       "\n",
       "    .dataframe thead th {\n",
       "        text-align: right;\n",
       "    }\n",
       "</style>\n",
       "<table border=\"1\" class=\"dataframe\">\n",
       "  <thead>\n",
       "    <tr style=\"text-align: right;\">\n",
       "      <th>debt</th>\n",
       "      <th>0</th>\n",
       "      <th>1</th>\n",
       "    </tr>\n",
       "    <tr>\n",
       "      <th>children</th>\n",
       "      <th></th>\n",
       "      <th></th>\n",
       "    </tr>\n",
       "  </thead>\n",
       "  <tbody>\n",
       "    <tr>\n",
       "      <td>0</td>\n",
       "      <td>13028</td>\n",
       "      <td>1063</td>\n",
       "    </tr>\n",
       "    <tr>\n",
       "      <td>1</td>\n",
       "      <td>4410</td>\n",
       "      <td>445</td>\n",
       "    </tr>\n",
       "    <tr>\n",
       "      <td>2</td>\n",
       "      <td>1925</td>\n",
       "      <td>202</td>\n",
       "    </tr>\n",
       "    <tr>\n",
       "      <td>3</td>\n",
       "      <td>303</td>\n",
       "      <td>27</td>\n",
       "    </tr>\n",
       "    <tr>\n",
       "      <td>4</td>\n",
       "      <td>37</td>\n",
       "      <td>4</td>\n",
       "    </tr>\n",
       "    <tr>\n",
       "      <td>5</td>\n",
       "      <td>9</td>\n",
       "      <td>0</td>\n",
       "    </tr>\n",
       "  </tbody>\n",
       "</table>\n",
       "</div>"
      ],
      "text/plain": [
       "debt          0     1\n",
       "children             \n",
       "0         13028  1063\n",
       "1          4410   445\n",
       "2          1925   202\n",
       "3           303    27\n",
       "4            37     4\n",
       "5             9     0"
      ]
     },
     "execution_count": 70,
     "metadata": {},
     "output_type": "execute_result"
    }
   ],
   "source": [
    "#устраняем пропуски\n",
    "df_pivot4 = df_pivot4.fillna(0)\n",
    "#заменяем тип данных в таблице\n",
    "df_pivot4 = df_pivot4.astype('int')\n",
    "#выводим таблицу на экран после исправления\n",
    "df_pivot4"
   ]
  },
  {
   "cell_type": "markdown",
   "metadata": {},
   "source": [
    "Теперь можно рассчитать, какой же процент составляют клиенты каждой категории по аналогии с прошлой гипотезой. Добавим результат в новый столбец `pivot`. Таким образом, в `pivot` хранится процент, который составляют клиенты определенной категории от общего числа клиентов"
   ]
  },
  {
   "cell_type": "code",
   "execution_count": 71,
   "metadata": {
    "scrolled": true
   },
   "outputs": [
    {
     "data": {
      "text/html": [
       "<div>\n",
       "<style scoped>\n",
       "    .dataframe tbody tr th:only-of-type {\n",
       "        vertical-align: middle;\n",
       "    }\n",
       "\n",
       "    .dataframe tbody tr th {\n",
       "        vertical-align: top;\n",
       "    }\n",
       "\n",
       "    .dataframe thead th {\n",
       "        text-align: right;\n",
       "    }\n",
       "</style>\n",
       "<table border=\"1\" class=\"dataframe\">\n",
       "  <thead>\n",
       "    <tr style=\"text-align: right;\">\n",
       "      <th>debt</th>\n",
       "      <th>0</th>\n",
       "      <th>1</th>\n",
       "      <th>pivot</th>\n",
       "    </tr>\n",
       "    <tr>\n",
       "      <th>children</th>\n",
       "      <th></th>\n",
       "      <th></th>\n",
       "      <th></th>\n",
       "    </tr>\n",
       "  </thead>\n",
       "  <tbody>\n",
       "    <tr>\n",
       "      <td>0</td>\n",
       "      <td>13028</td>\n",
       "      <td>1063</td>\n",
       "      <td>65.683121</td>\n",
       "    </tr>\n",
       "    <tr>\n",
       "      <td>1</td>\n",
       "      <td>4410</td>\n",
       "      <td>445</td>\n",
       "      <td>22.630867</td>\n",
       "    </tr>\n",
       "    <tr>\n",
       "      <td>2</td>\n",
       "      <td>1925</td>\n",
       "      <td>202</td>\n",
       "      <td>9.914697</td>\n",
       "    </tr>\n",
       "    <tr>\n",
       "      <td>3</td>\n",
       "      <td>303</td>\n",
       "      <td>27</td>\n",
       "      <td>1.538246</td>\n",
       "    </tr>\n",
       "    <tr>\n",
       "      <td>4</td>\n",
       "      <td>37</td>\n",
       "      <td>4</td>\n",
       "      <td>0.191115</td>\n",
       "    </tr>\n",
       "    <tr>\n",
       "      <td>5</td>\n",
       "      <td>9</td>\n",
       "      <td>0</td>\n",
       "      <td>0.041952</td>\n",
       "    </tr>\n",
       "  </tbody>\n",
       "</table>\n",
       "</div>"
      ],
      "text/plain": [
       "debt          0     1      pivot\n",
       "children                        \n",
       "0         13028  1063  65.683121\n",
       "1          4410   445  22.630867\n",
       "2          1925   202   9.914697\n",
       "3           303    27   1.538246\n",
       "4            37     4   0.191115\n",
       "5             9     0   0.041952"
      ]
     },
     "execution_count": 71,
     "metadata": {},
     "output_type": "execute_result"
    }
   ],
   "source": [
    "#считаем процент клиентов и добавляем в отдельный столбец\n",
    "df_pivot4['pivot'] = ((df_pivot4[1]+df_pivot4[0])/tot_pay)*100\n",
    "#выводим таблицу на экран\n",
    "df_pivot4"
   ]
  },
  {
   "cell_type": "markdown",
   "metadata": {},
   "source": [
    "Мы получили данные для предварительного анализа. Из полученных данных можно сделать вывод о том, что чаще всего кредиты берут лица, у которых нет детей, за ними следуют клиенты с **1 ребенком**, следом идут лица, у которых **2 ребенка**, меньше, чем эти лица брали кредиты те, у кого **3 ребенка**, после идут те, у кого **4 ребенка**, а наименее заинтересованными в получении кредита являются те, у кого **5 детей**.\n",
    "\n",
    "Так, мы видим закономерность - чем больше у лиц детей, тем они меньше берут кредиты.\n",
    "\n",
    "Если составлять рейтинг заинтересованности в получении кредита лиц, то он будет выглядеть так:\n",
    "1. *нет детей* - 65,8%\n",
    "2. *1 ребенок* - 22,6%\n",
    "3. *2 ребенка* - 9,9%\n",
    "4. *3 ребенка* - 1,5%\n",
    "5. *4 ребенка* - 0,2%\n",
    "6. *5 детей* - 0,04%"
   ]
  },
  {
   "cell_type": "markdown",
   "metadata": {},
   "source": [
    "Теперь добавим столбец, который содержит информацию о том, какой процент среди всех клиентов данной категории имел задолженность по кредиту, и назовем этот столбец `non-payment`. Также для более обширного анализа заодно и добавим процент тех, кто не имел задолженности и поместим результат в столбец `payment`."
   ]
  },
  {
   "cell_type": "code",
   "execution_count": 72,
   "metadata": {},
   "outputs": [
    {
     "data": {
      "text/html": [
       "<div>\n",
       "<style scoped>\n",
       "    .dataframe tbody tr th:only-of-type {\n",
       "        vertical-align: middle;\n",
       "    }\n",
       "\n",
       "    .dataframe tbody tr th {\n",
       "        vertical-align: top;\n",
       "    }\n",
       "\n",
       "    .dataframe thead th {\n",
       "        text-align: right;\n",
       "    }\n",
       "</style>\n",
       "<table border=\"1\" class=\"dataframe\">\n",
       "  <thead>\n",
       "    <tr style=\"text-align: right;\">\n",
       "      <th>debt</th>\n",
       "      <th>0</th>\n",
       "      <th>1</th>\n",
       "      <th>pivot</th>\n",
       "      <th>non-payment</th>\n",
       "      <th>payment</th>\n",
       "    </tr>\n",
       "    <tr>\n",
       "      <th>children</th>\n",
       "      <th></th>\n",
       "      <th></th>\n",
       "      <th></th>\n",
       "      <th></th>\n",
       "      <th></th>\n",
       "    </tr>\n",
       "  </thead>\n",
       "  <tbody>\n",
       "    <tr>\n",
       "      <td>0</td>\n",
       "      <td>13028</td>\n",
       "      <td>1063</td>\n",
       "      <td>65.683121</td>\n",
       "      <td>7.543822</td>\n",
       "      <td>92.456178</td>\n",
       "    </tr>\n",
       "    <tr>\n",
       "      <td>1</td>\n",
       "      <td>4410</td>\n",
       "      <td>445</td>\n",
       "      <td>22.630867</td>\n",
       "      <td>9.165808</td>\n",
       "      <td>90.834192</td>\n",
       "    </tr>\n",
       "    <tr>\n",
       "      <td>2</td>\n",
       "      <td>1925</td>\n",
       "      <td>202</td>\n",
       "      <td>9.914697</td>\n",
       "      <td>9.496944</td>\n",
       "      <td>90.503056</td>\n",
       "    </tr>\n",
       "    <tr>\n",
       "      <td>3</td>\n",
       "      <td>303</td>\n",
       "      <td>27</td>\n",
       "      <td>1.538246</td>\n",
       "      <td>8.181818</td>\n",
       "      <td>91.818182</td>\n",
       "    </tr>\n",
       "    <tr>\n",
       "      <td>4</td>\n",
       "      <td>37</td>\n",
       "      <td>4</td>\n",
       "      <td>0.191115</td>\n",
       "      <td>9.756098</td>\n",
       "      <td>90.243902</td>\n",
       "    </tr>\n",
       "    <tr>\n",
       "      <td>5</td>\n",
       "      <td>9</td>\n",
       "      <td>0</td>\n",
       "      <td>0.041952</td>\n",
       "      <td>0.000000</td>\n",
       "      <td>100.000000</td>\n",
       "    </tr>\n",
       "  </tbody>\n",
       "</table>\n",
       "</div>"
      ],
      "text/plain": [
       "debt          0     1      pivot  non-payment     payment\n",
       "children                                                 \n",
       "0         13028  1063  65.683121     7.543822   92.456178\n",
       "1          4410   445  22.630867     9.165808   90.834192\n",
       "2          1925   202   9.914697     9.496944   90.503056\n",
       "3           303    27   1.538246     8.181818   91.818182\n",
       "4            37     4   0.191115     9.756098   90.243902\n",
       "5             9     0   0.041952     0.000000  100.000000"
      ]
     },
     "execution_count": 72,
     "metadata": {},
     "output_type": "execute_result"
    }
   ],
   "source": [
    "#рассчитываем процент задолжником\n",
    "df_pivot4['non-payment'] = (df_pivot4[1]/(df_pivot4[1]+df_pivot4[0]))*100\n",
    "#рассчитываем процент не задолжников\n",
    "df_pivot4['payment'] = (df_pivot4[0]/(df_pivot4[1]+df_pivot4[0]))*100\n",
    "#выводим полученную таблицу на экран\n",
    "df_pivot4"
   ]
  },
  {
   "cell_type": "markdown",
   "metadata": {},
   "source": [
    "**Вывод**"
   ]
  },
  {
   "cell_type": "markdown",
   "metadata": {},
   "source": [
    "Гипотеза подтвердилась - факт возврата платежа в срок зависит от количества детей клиента."
   ]
  },
  {
   "cell_type": "markdown",
   "metadata": {},
   "source": [
    "Самыми надежными заемщиками являются лица с `5 детьми`. Они ни разу не просрочили платеж (**0%**) по кредиту. Можно это объяснить очень низким процессом взятия кредита лицами, принадлежащими данной группе. В частности, лица без детей брали кредит в 1,5 тысячи раз чаще, чем те, у которых 5 детей.\n",
    "\n",
    "После клиентов с 5 детьми наиболее надежными выступают клиенты без детей. Процент просрачивания платежа в их случае составляет **7,5%**. Эти показатели кажутся очень внушительными, особенно учитывая, что это наиболее закредитованная группа населения.\n",
    "\n",
    "Следующими по надежности выступают клиенты с `3 детьми`. Процент просрочки платежа для этих лиц составляет **8,2%**.\n",
    "\n",
    "Менее надежными, чем выше указанные лица являются клиенты с `1 ребенком` - процент их просрочки платежа составляет **9,2%**. Это довольно высокий показатель - особенно, если сравнивать с ранее указанными результатами.\n",
    "\n",
    "Предпоследними по надежности выступают те клиенты, у которых `2 детей`. Их процент просрочки платежа составляет **9,5%**.\n",
    "\n",
    "Самыми же ненадежными заемщиками выступают те клиенты, у которых `4 детей`. Процент просрочки для данной категории составляет **9,8%**, что в принципе можно трактовать, как то, что каждый 10 клиент с 4 детьми просрачивает платеж.\n",
    "\n",
    "Если составлять по процентам просрочки платежей рейтинг надежности клиентов, то он будет выглядеть так:\n",
    "1. *5 детей* - 0%\n",
    "2. *нет детей* - 7,5%\n",
    "3. *3 ребенка* - 8,2%\n",
    "4. *1 ребенок* - 9,2%\n",
    "5. *2 детей* - 9,5% \n",
    "6. *4 детей* - 9,8%"
   ]
  },
  {
   "cell_type": "markdown",
   "metadata": {},
   "source": [
    "## Шаг 4. Общий вывод"
   ]
  },
  {
   "cell_type": "markdown",
   "metadata": {},
   "source": [
    "Мы проверили 4 гипотезы и установили:\n",
    "1. Разные цели кредита влияют на его возврат в срок.\n",
    "Люди, которые берут кредит на автомобиль чаще остальных не возвращают кредит в срок.\n",
    "Клиенты же, которые берут кредит на недвижимость являются наиболее надежными заемщиками и чаще других возвращают кредит в срок.\n",
    "`Первая гипотеза подтвердилась полностью.`\n",
    "\n",
    "\n",
    "2. Зависимость между уровнем дохода и возвратом кредита в срок сущетсвует, но она крайне мала.\n",
    "Данная зависимость заметна только для случаев, когда мы сравниваем клиентов с очень высокими доходами, явно отличающимися от остальных, и других клиентов со средними и низкими доходами.\n",
    "`Вторая гипотеза подтвердилась частично.`\n",
    "\n",
    "\n",
    "3. Существует зависимость между семейным положением и возвратом кредита в срок\n",
    "Если клиент находился или находится в браке, то он является более надежным заемщиком и чаще возвращал кредит в срок, нежели тото, кто еще не вступал в брак.\n",
    "`Третья гипотеза подтвердилась полностью.`\n",
    "\n",
    "\n",
    "4. Зависимость между наличием детей и возвратом кредита в срок существует и она является довольно яркой и заметной.\n",
    "Наиболее надежными заемщиками являются две категории клиентов - те, у кого нет детей, и те, у кого 5 детей. Данные клиенты чаще остальных возвращали кредит в срок, а клиенты с 5 детьми еще ни разу не просрачивали платеж.\n",
    "Самые же ненадежные заемщики - это клиенты с 4 детьми.\n",
    "`Четвертая гипотеза подтвердилась полностью.`"
   ]
  }
 ],
 "metadata": {
  "ExecuteTimeLog": [
   {
    "duration": 549,
    "start_time": "2022-01-15T08:46:26.443Z"
   },
   {
    "duration": 3,
    "start_time": "2022-01-15T08:50:50.304Z"
   },
   {
    "duration": 52,
    "start_time": "2022-01-15T08:50:50.789Z"
   },
   {
    "duration": 20,
    "start_time": "2022-01-15T08:50:51.260Z"
   },
   {
    "duration": 12,
    "start_time": "2022-01-15T08:53:56.131Z"
   },
   {
    "duration": 10,
    "start_time": "2022-01-15T09:30:05.037Z"
   },
   {
    "duration": 559,
    "start_time": "2022-01-16T12:58:54.816Z"
   },
   {
    "duration": 802,
    "start_time": "2022-01-16T12:59:02.216Z"
   },
   {
    "duration": 125,
    "start_time": "2022-01-16T12:59:03.022Z"
   },
   {
    "duration": 32,
    "start_time": "2022-01-16T12:59:03.535Z"
   },
   {
    "duration": 14,
    "start_time": "2022-01-16T12:59:08.079Z"
   },
   {
    "duration": 380,
    "start_time": "2022-01-16T12:59:11.686Z"
   },
   {
    "duration": 15,
    "start_time": "2022-01-16T13:00:10.750Z"
   },
   {
    "duration": -29,
    "start_time": "2022-01-16T13:02:28.041Z"
   },
   {
    "duration": 9,
    "start_time": "2022-01-16T13:02:53.644Z"
   },
   {
    "duration": 124,
    "start_time": "2022-01-16T13:03:35.870Z"
   },
   {
    "duration": 10,
    "start_time": "2022-01-16T13:03:58.460Z"
   },
   {
    "duration": 7,
    "start_time": "2022-01-16T13:04:12.788Z"
   },
   {
    "duration": 7,
    "start_time": "2022-01-16T13:04:24.816Z"
   },
   {
    "duration": 7,
    "start_time": "2022-01-16T13:04:28.947Z"
   },
   {
    "duration": 12,
    "start_time": "2022-01-16T13:04:36.123Z"
   },
   {
    "duration": 6,
    "start_time": "2022-01-16T13:04:51.614Z"
   },
   {
    "duration": 14,
    "start_time": "2022-01-16T13:04:56.459Z"
   },
   {
    "duration": 9,
    "start_time": "2022-01-16T13:05:42.804Z"
   },
   {
    "duration": 9,
    "start_time": "2022-01-16T13:05:45.923Z"
   },
   {
    "duration": 7,
    "start_time": "2022-01-16T13:05:53.739Z"
   },
   {
    "duration": 7,
    "start_time": "2022-01-16T13:07:01.947Z"
   },
   {
    "duration": 9,
    "start_time": "2022-01-16T13:07:14.563Z"
   },
   {
    "duration": 7,
    "start_time": "2022-01-16T13:07:31.658Z"
   },
   {
    "duration": 14,
    "start_time": "2022-01-16T13:09:33.162Z"
   },
   {
    "duration": 13,
    "start_time": "2022-01-16T13:09:47.649Z"
   },
   {
    "duration": 10,
    "start_time": "2022-01-16T13:09:55.832Z"
   },
   {
    "duration": 14,
    "start_time": "2022-01-16T13:09:57.908Z"
   },
   {
    "duration": 4,
    "start_time": "2022-01-16T13:10:12.973Z"
   },
   {
    "duration": 71,
    "start_time": "2022-01-16T13:10:12.980Z"
   },
   {
    "duration": 19,
    "start_time": "2022-01-16T13:10:13.055Z"
   },
   {
    "duration": 34,
    "start_time": "2022-01-16T13:10:13.077Z"
   },
   {
    "duration": 24,
    "start_time": "2022-01-16T13:10:13.113Z"
   },
   {
    "duration": 32,
    "start_time": "2022-01-16T13:10:13.140Z"
   },
   {
    "duration": 8,
    "start_time": "2022-01-16T13:12:29.569Z"
   },
   {
    "duration": 212,
    "start_time": "2022-01-16T13:14:57.822Z"
   },
   {
    "duration": 7,
    "start_time": "2022-01-16T13:20:13.021Z"
   },
   {
    "duration": 7,
    "start_time": "2022-01-16T13:21:24.739Z"
   },
   {
    "duration": 412,
    "start_time": "2022-01-16T13:30:57.406Z"
   },
   {
    "duration": 10,
    "start_time": "2022-01-16T13:31:05.898Z"
   },
   {
    "duration": 7,
    "start_time": "2022-01-16T13:31:37.550Z"
   },
   {
    "duration": 355,
    "start_time": "2022-01-16T13:33:27.102Z"
   },
   {
    "duration": 358,
    "start_time": "2022-01-16T13:34:25.360Z"
   },
   {
    "duration": 5057,
    "start_time": "2022-01-16T13:35:23.064Z"
   },
   {
    "duration": 7,
    "start_time": "2022-01-16T13:35:53.828Z"
   },
   {
    "duration": 32,
    "start_time": "2022-01-16T13:40:57.931Z"
   },
   {
    "duration": 377,
    "start_time": "2022-01-16T13:41:22.563Z"
   },
   {
    "duration": 29,
    "start_time": "2022-01-16T13:42:04.621Z"
   },
   {
    "duration": 61,
    "start_time": "2022-01-16T14:02:34.055Z"
   },
   {
    "duration": 60,
    "start_time": "2022-01-16T14:03:17.379Z"
   },
   {
    "duration": 10,
    "start_time": "2022-01-16T14:03:47.319Z"
   },
   {
    "duration": 29,
    "start_time": "2022-01-16T14:16:59.112Z"
   },
   {
    "duration": 10,
    "start_time": "2022-01-16T14:39:47.108Z"
   },
   {
    "duration": 9,
    "start_time": "2022-01-16T14:40:13.898Z"
   },
   {
    "duration": 15,
    "start_time": "2022-01-16T14:42:38.667Z"
   },
   {
    "duration": 23,
    "start_time": "2022-01-16T14:56:46.300Z"
   },
   {
    "duration": 26,
    "start_time": "2022-01-16T14:57:41.864Z"
   },
   {
    "duration": 23,
    "start_time": "2022-01-16T14:58:34.587Z"
   },
   {
    "duration": 16,
    "start_time": "2022-01-16T15:14:11.876Z"
   },
   {
    "duration": 25,
    "start_time": "2022-01-16T15:15:16.932Z"
   },
   {
    "duration": 28,
    "start_time": "2022-01-16T15:16:39.293Z"
   },
   {
    "duration": 22,
    "start_time": "2022-01-16T15:16:51.565Z"
   },
   {
    "duration": 28,
    "start_time": "2022-01-16T15:16:53.485Z"
   },
   {
    "duration": 22,
    "start_time": "2022-01-16T15:16:54.219Z"
   },
   {
    "duration": 13,
    "start_time": "2022-01-16T15:24:42.543Z"
   },
   {
    "duration": 32,
    "start_time": "2022-01-16T15:24:50.917Z"
   },
   {
    "duration": 13,
    "start_time": "2022-01-16T15:36:35.987Z"
   },
   {
    "duration": 31,
    "start_time": "2022-01-16T15:54:26.794Z"
   },
   {
    "duration": -136,
    "start_time": "2022-01-16T15:55:24.843Z"
   },
   {
    "duration": -143,
    "start_time": "2022-01-16T15:55:35.544Z"
   },
   {
    "duration": 3,
    "start_time": "2022-01-16T15:55:43.920Z"
   },
   {
    "duration": 67,
    "start_time": "2022-01-16T15:55:43.926Z"
   },
   {
    "duration": 20,
    "start_time": "2022-01-16T15:55:43.996Z"
   },
   {
    "duration": 14,
    "start_time": "2022-01-16T15:55:44.019Z"
   },
   {
    "duration": 13,
    "start_time": "2022-01-16T15:55:44.035Z"
   },
   {
    "duration": 8,
    "start_time": "2022-01-16T15:55:44.050Z"
   },
   {
    "duration": 45,
    "start_time": "2022-01-16T15:55:44.060Z"
   },
   {
    "duration": 8,
    "start_time": "2022-01-16T15:55:44.107Z"
   },
   {
    "duration": 37,
    "start_time": "2022-01-16T15:55:44.119Z"
   },
   {
    "duration": 42,
    "start_time": "2022-01-16T15:55:44.159Z"
   },
   {
    "duration": 26,
    "start_time": "2022-01-16T15:55:44.204Z"
   },
   {
    "duration": 85,
    "start_time": "2022-01-16T15:55:44.232Z"
   },
   {
    "duration": 6,
    "start_time": "2022-01-16T15:55:44.319Z"
   },
   {
    "duration": 352,
    "start_time": "2022-01-16T15:55:44.327Z"
   },
   {
    "duration": -148,
    "start_time": "2022-01-16T15:55:44.830Z"
   },
   {
    "duration": -156,
    "start_time": "2022-01-16T15:55:44.839Z"
   },
   {
    "duration": -157,
    "start_time": "2022-01-16T15:55:44.842Z"
   },
   {
    "duration": -163,
    "start_time": "2022-01-16T15:55:44.849Z"
   },
   {
    "duration": -166,
    "start_time": "2022-01-16T15:55:44.853Z"
   },
   {
    "duration": -166,
    "start_time": "2022-01-16T15:55:44.855Z"
   },
   {
    "duration": -169,
    "start_time": "2022-01-16T15:55:44.859Z"
   },
   {
    "duration": -170,
    "start_time": "2022-01-16T15:55:44.862Z"
   },
   {
    "duration": -144,
    "start_time": "2022-01-16T15:57:05.726Z"
   },
   {
    "duration": -146,
    "start_time": "2022-01-16T15:57:05.730Z"
   },
   {
    "duration": -148,
    "start_time": "2022-01-16T15:57:05.733Z"
   },
   {
    "duration": -151,
    "start_time": "2022-01-16T15:57:05.738Z"
   },
   {
    "duration": -160,
    "start_time": "2022-01-16T15:57:05.748Z"
   },
   {
    "duration": -166,
    "start_time": "2022-01-16T15:57:05.755Z"
   },
   {
    "duration": -173,
    "start_time": "2022-01-16T15:57:05.764Z"
   },
   {
    "duration": -176,
    "start_time": "2022-01-16T15:57:05.768Z"
   },
   {
    "duration": -185,
    "start_time": "2022-01-16T15:57:05.778Z"
   },
   {
    "duration": -186,
    "start_time": "2022-01-16T15:57:05.781Z"
   },
   {
    "duration": -189,
    "start_time": "2022-01-16T15:57:05.785Z"
   },
   {
    "duration": -196,
    "start_time": "2022-01-16T15:57:05.797Z"
   },
   {
    "duration": -197,
    "start_time": "2022-01-16T15:57:05.800Z"
   },
   {
    "duration": -200,
    "start_time": "2022-01-16T15:57:05.805Z"
   },
   {
    "duration": -206,
    "start_time": "2022-01-16T15:57:05.814Z"
   },
   {
    "duration": -207,
    "start_time": "2022-01-16T15:57:05.817Z"
   },
   {
    "duration": -209,
    "start_time": "2022-01-16T15:57:05.821Z"
   },
   {
    "duration": -217,
    "start_time": "2022-01-16T15:57:05.831Z"
   },
   {
    "duration": -221,
    "start_time": "2022-01-16T15:57:05.838Z"
   },
   {
    "duration": -230,
    "start_time": "2022-01-16T15:57:05.849Z"
   },
   {
    "duration": -231,
    "start_time": "2022-01-16T15:57:05.852Z"
   },
   {
    "duration": -234,
    "start_time": "2022-01-16T15:57:05.857Z"
   },
   {
    "duration": 4,
    "start_time": "2022-01-16T15:57:16.886Z"
   },
   {
    "duration": 65,
    "start_time": "2022-01-16T15:57:16.893Z"
   },
   {
    "duration": 39,
    "start_time": "2022-01-16T15:57:16.961Z"
   },
   {
    "duration": 17,
    "start_time": "2022-01-16T15:57:17.004Z"
   },
   {
    "duration": 15,
    "start_time": "2022-01-16T15:57:17.024Z"
   },
   {
    "duration": 9,
    "start_time": "2022-01-16T15:57:17.042Z"
   },
   {
    "duration": 8,
    "start_time": "2022-01-16T15:57:17.100Z"
   },
   {
    "duration": 11,
    "start_time": "2022-01-16T15:57:17.112Z"
   },
   {
    "duration": 34,
    "start_time": "2022-01-16T15:57:17.127Z"
   },
   {
    "duration": 6,
    "start_time": "2022-01-16T15:57:17.165Z"
   },
   {
    "duration": 39,
    "start_time": "2022-01-16T15:57:17.202Z"
   },
   {
    "duration": 125,
    "start_time": "2022-01-16T15:57:17.244Z"
   },
   {
    "duration": 8,
    "start_time": "2022-01-16T15:57:17.372Z"
   },
   {
    "duration": 24,
    "start_time": "2022-01-16T15:57:17.382Z"
   },
   {
    "duration": 20,
    "start_time": "2022-01-16T15:57:17.409Z"
   },
   {
    "duration": 69,
    "start_time": "2022-01-16T15:57:17.432Z"
   },
   {
    "duration": 30,
    "start_time": "2022-01-16T15:57:17.504Z"
   },
   {
    "duration": 28,
    "start_time": "2022-01-16T15:57:17.537Z"
   },
   {
    "duration": 44,
    "start_time": "2022-01-16T15:57:17.567Z"
   },
   {
    "duration": 42,
    "start_time": "2022-01-16T15:57:17.613Z"
   },
   {
    "duration": 54,
    "start_time": "2022-01-16T15:57:17.657Z"
   },
   {
    "duration": 27,
    "start_time": "2022-01-16T15:57:17.714Z"
   },
   {
    "duration": 159,
    "start_time": "2022-01-16T15:58:58.866Z"
   },
   {
    "duration": 30,
    "start_time": "2022-01-16T15:59:12.632Z"
   },
   {
    "duration": 4,
    "start_time": "2022-01-16T15:59:35.394Z"
   },
   {
    "duration": 68,
    "start_time": "2022-01-16T15:59:35.401Z"
   },
   {
    "duration": 44,
    "start_time": "2022-01-16T15:59:35.474Z"
   },
   {
    "duration": 19,
    "start_time": "2022-01-16T15:59:35.522Z"
   },
   {
    "duration": 14,
    "start_time": "2022-01-16T15:59:35.543Z"
   },
   {
    "duration": 47,
    "start_time": "2022-01-16T15:59:35.560Z"
   },
   {
    "duration": 7,
    "start_time": "2022-01-16T15:59:35.610Z"
   },
   {
    "duration": 8,
    "start_time": "2022-01-16T15:59:35.620Z"
   },
   {
    "duration": 69,
    "start_time": "2022-01-16T15:59:35.634Z"
   },
   {
    "duration": 18,
    "start_time": "2022-01-16T15:59:35.706Z"
   },
   {
    "duration": 34,
    "start_time": "2022-01-16T15:59:35.727Z"
   },
   {
    "duration": 96,
    "start_time": "2022-01-16T15:59:35.764Z"
   },
   {
    "duration": 7,
    "start_time": "2022-01-16T15:59:35.863Z"
   },
   {
    "duration": 28,
    "start_time": "2022-01-16T15:59:35.873Z"
   },
   {
    "duration": 18,
    "start_time": "2022-01-16T15:59:35.904Z"
   },
   {
    "duration": 26,
    "start_time": "2022-01-16T15:59:35.925Z"
   },
   {
    "duration": 67,
    "start_time": "2022-01-16T15:59:35.954Z"
   },
   {
    "duration": 24,
    "start_time": "2022-01-16T15:59:36.024Z"
   },
   {
    "duration": 19,
    "start_time": "2022-01-16T15:59:36.051Z"
   },
   {
    "duration": 41,
    "start_time": "2022-01-16T15:59:36.100Z"
   },
   {
    "duration": 60,
    "start_time": "2022-01-16T15:59:36.144Z"
   },
   {
    "duration": 34,
    "start_time": "2022-01-16T15:59:36.207Z"
   },
   {
    "duration": 31,
    "start_time": "2022-01-16T16:01:06.273Z"
   },
   {
    "duration": 417,
    "start_time": "2022-01-16T16:03:54.623Z"
   },
   {
    "duration": 2096,
    "start_time": "2022-01-16T17:05:13.732Z"
   },
   {
    "duration": 45,
    "start_time": "2022-01-16T17:05:52.402Z"
   },
   {
    "duration": 4,
    "start_time": "2022-01-16T17:06:00.621Z"
   },
   {
    "duration": 68,
    "start_time": "2022-01-16T17:06:00.628Z"
   },
   {
    "duration": 20,
    "start_time": "2022-01-16T17:06:00.699Z"
   },
   {
    "duration": 16,
    "start_time": "2022-01-16T17:06:00.722Z"
   },
   {
    "duration": 13,
    "start_time": "2022-01-16T17:06:00.740Z"
   },
   {
    "duration": 8,
    "start_time": "2022-01-16T17:06:00.756Z"
   },
   {
    "duration": 7,
    "start_time": "2022-01-16T17:06:00.801Z"
   },
   {
    "duration": 10,
    "start_time": "2022-01-16T17:06:00.811Z"
   },
   {
    "duration": 2224,
    "start_time": "2022-01-16T17:06:00.825Z"
   },
   {
    "duration": 9016,
    "start_time": "2022-01-16T17:06:03.052Z"
   },
   {
    "duration": -285,
    "start_time": "2022-01-16T17:06:12.356Z"
   },
   {
    "duration": -288,
    "start_time": "2022-01-16T17:06:12.362Z"
   },
   {
    "duration": -289,
    "start_time": "2022-01-16T17:06:12.365Z"
   },
   {
    "duration": -291,
    "start_time": "2022-01-16T17:06:12.369Z"
   },
   {
    "duration": -292,
    "start_time": "2022-01-16T17:06:12.372Z"
   },
   {
    "duration": -292,
    "start_time": "2022-01-16T17:06:12.374Z"
   },
   {
    "duration": -298,
    "start_time": "2022-01-16T17:06:12.382Z"
   },
   {
    "duration": -298,
    "start_time": "2022-01-16T17:06:12.385Z"
   },
   {
    "duration": -298,
    "start_time": "2022-01-16T17:06:12.387Z"
   },
   {
    "duration": -298,
    "start_time": "2022-01-16T17:06:12.389Z"
   },
   {
    "duration": -299,
    "start_time": "2022-01-16T17:06:12.392Z"
   },
   {
    "duration": -300,
    "start_time": "2022-01-16T17:06:12.395Z"
   },
   {
    "duration": -305,
    "start_time": "2022-01-16T17:06:12.403Z"
   },
   {
    "duration": 33,
    "start_time": "2022-01-16T17:06:25.765Z"
   },
   {
    "duration": 36,
    "start_time": "2022-01-16T17:06:39.866Z"
   },
   {
    "duration": 61,
    "start_time": "2022-01-16T17:07:14.480Z"
   },
   {
    "duration": 118,
    "start_time": "2022-01-16T17:09:30.513Z"
   },
   {
    "duration": 4209,
    "start_time": "2022-01-16T17:09:35.702Z"
   },
   {
    "duration": 4028,
    "start_time": "2022-01-16T17:10:34.229Z"
   },
   {
    "duration": 4170,
    "start_time": "2022-01-16T17:22:17.153Z"
   },
   {
    "duration": 45,
    "start_time": "2022-01-16T17:22:37.151Z"
   },
   {
    "duration": 49,
    "start_time": "2022-01-16T17:23:15.938Z"
   },
   {
    "duration": 13,
    "start_time": "2022-01-16T17:30:49.087Z"
   },
   {
    "duration": 33,
    "start_time": "2022-01-16T17:32:23.149Z"
   },
   {
    "duration": 31,
    "start_time": "2022-01-16T17:32:46.911Z"
   },
   {
    "duration": 31,
    "start_time": "2022-01-16T17:32:56.837Z"
   },
   {
    "duration": 3,
    "start_time": "2022-01-16T17:33:04.508Z"
   },
   {
    "duration": 79,
    "start_time": "2022-01-16T17:33:04.514Z"
   },
   {
    "duration": 21,
    "start_time": "2022-01-16T17:33:04.595Z"
   },
   {
    "duration": 14,
    "start_time": "2022-01-16T17:33:04.619Z"
   },
   {
    "duration": 12,
    "start_time": "2022-01-16T17:33:04.636Z"
   },
   {
    "duration": 8,
    "start_time": "2022-01-16T17:33:04.650Z"
   },
   {
    "duration": 6,
    "start_time": "2022-01-16T17:33:04.701Z"
   },
   {
    "duration": 7,
    "start_time": "2022-01-16T17:33:04.710Z"
   },
   {
    "duration": 31,
    "start_time": "2022-01-16T17:33:04.721Z"
   },
   {
    "duration": 9745,
    "start_time": "2022-01-16T17:33:04.755Z"
   },
   {
    "duration": -212,
    "start_time": "2022-01-16T17:33:14.715Z"
   },
   {
    "duration": -215,
    "start_time": "2022-01-16T17:33:14.719Z"
   },
   {
    "duration": -217,
    "start_time": "2022-01-16T17:33:14.722Z"
   },
   {
    "duration": -218,
    "start_time": "2022-01-16T17:33:14.725Z"
   },
   {
    "duration": -219,
    "start_time": "2022-01-16T17:33:14.728Z"
   },
   {
    "duration": -225,
    "start_time": "2022-01-16T17:33:14.735Z"
   },
   {
    "duration": -227,
    "start_time": "2022-01-16T17:33:14.738Z"
   },
   {
    "duration": -229,
    "start_time": "2022-01-16T17:33:14.741Z"
   },
   {
    "duration": -229,
    "start_time": "2022-01-16T17:33:14.743Z"
   },
   {
    "duration": -232,
    "start_time": "2022-01-16T17:33:14.747Z"
   },
   {
    "duration": -233,
    "start_time": "2022-01-16T17:33:14.749Z"
   },
   {
    "duration": -234,
    "start_time": "2022-01-16T17:33:14.751Z"
   },
   {
    "duration": -234,
    "start_time": "2022-01-16T17:33:14.753Z"
   },
   {
    "duration": 25,
    "start_time": "2022-01-16T17:33:57.615Z"
   },
   {
    "duration": 25,
    "start_time": "2022-01-16T17:34:06.269Z"
   },
   {
    "duration": 25,
    "start_time": "2022-01-16T17:34:18.533Z"
   },
   {
    "duration": -207,
    "start_time": "2022-01-16T17:34:40.791Z"
   },
   {
    "duration": 4,
    "start_time": "2022-01-16T17:34:57.637Z"
   },
   {
    "duration": 75,
    "start_time": "2022-01-16T17:34:57.643Z"
   },
   {
    "duration": 20,
    "start_time": "2022-01-16T17:34:57.721Z"
   },
   {
    "duration": 35,
    "start_time": "2022-01-16T17:34:57.744Z"
   },
   {
    "duration": 29,
    "start_time": "2022-01-16T17:34:57.782Z"
   },
   {
    "duration": 17,
    "start_time": "2022-01-16T17:34:57.814Z"
   },
   {
    "duration": 6,
    "start_time": "2022-01-16T17:34:57.835Z"
   },
   {
    "duration": 13,
    "start_time": "2022-01-16T17:34:57.844Z"
   },
   {
    "duration": 55,
    "start_time": "2022-01-16T17:34:57.860Z"
   },
   {
    "duration": 339,
    "start_time": "2022-01-16T17:34:57.918Z"
   },
   {
    "duration": -181,
    "start_time": "2022-01-16T17:34:58.441Z"
   },
   {
    "duration": -256,
    "start_time": "2022-01-16T17:34:58.518Z"
   },
   {
    "duration": -258,
    "start_time": "2022-01-16T17:34:58.521Z"
   },
   {
    "duration": -258,
    "start_time": "2022-01-16T17:34:58.523Z"
   },
   {
    "duration": -261,
    "start_time": "2022-01-16T17:34:58.527Z"
   },
   {
    "duration": -270,
    "start_time": "2022-01-16T17:34:58.537Z"
   },
   {
    "duration": -271,
    "start_time": "2022-01-16T17:34:58.540Z"
   },
   {
    "duration": -274,
    "start_time": "2022-01-16T17:34:58.544Z"
   },
   {
    "duration": -276,
    "start_time": "2022-01-16T17:34:58.547Z"
   },
   {
    "duration": -277,
    "start_time": "2022-01-16T17:34:58.550Z"
   },
   {
    "duration": -279,
    "start_time": "2022-01-16T17:34:58.553Z"
   },
   {
    "duration": -281,
    "start_time": "2022-01-16T17:34:58.556Z"
   },
   {
    "duration": -282,
    "start_time": "2022-01-16T17:34:58.559Z"
   },
   {
    "duration": -267,
    "start_time": "2022-01-16T17:36:04.210Z"
   },
   {
    "duration": -270,
    "start_time": "2022-01-16T17:36:04.214Z"
   },
   {
    "duration": -271,
    "start_time": "2022-01-16T17:36:04.217Z"
   },
   {
    "duration": -273,
    "start_time": "2022-01-16T17:36:04.220Z"
   },
   {
    "duration": -275,
    "start_time": "2022-01-16T17:36:04.223Z"
   },
   {
    "duration": -283,
    "start_time": "2022-01-16T17:36:04.233Z"
   },
   {
    "duration": -288,
    "start_time": "2022-01-16T17:36:04.239Z"
   },
   {
    "duration": -242,
    "start_time": "2022-01-16T17:36:04.242Z"
   },
   {
    "duration": -243,
    "start_time": "2022-01-16T17:36:04.245Z"
   },
   {
    "duration": -244,
    "start_time": "2022-01-16T17:36:04.247Z"
   },
   {
    "duration": -244,
    "start_time": "2022-01-16T17:36:04.249Z"
   },
   {
    "duration": -246,
    "start_time": "2022-01-16T17:36:04.252Z"
   },
   {
    "duration": -248,
    "start_time": "2022-01-16T17:36:04.256Z"
   },
   {
    "duration": -249,
    "start_time": "2022-01-16T17:36:04.258Z"
   },
   {
    "duration": -258,
    "start_time": "2022-01-16T17:36:04.268Z"
   },
   {
    "duration": -259,
    "start_time": "2022-01-16T17:36:04.271Z"
   },
   {
    "duration": -267,
    "start_time": "2022-01-16T17:36:04.281Z"
   },
   {
    "duration": -277,
    "start_time": "2022-01-16T17:36:04.292Z"
   },
   {
    "duration": -283,
    "start_time": "2022-01-16T17:36:04.300Z"
   },
   {
    "duration": -286,
    "start_time": "2022-01-16T17:36:04.304Z"
   },
   {
    "duration": -288,
    "start_time": "2022-01-16T17:36:04.308Z"
   },
   {
    "duration": -289,
    "start_time": "2022-01-16T17:36:04.311Z"
   },
   {
    "duration": 5,
    "start_time": "2022-01-16T17:36:13.116Z"
   },
   {
    "duration": 77,
    "start_time": "2022-01-16T17:36:13.765Z"
   },
   {
    "duration": 20,
    "start_time": "2022-01-16T17:36:14.242Z"
   },
   {
    "duration": 16,
    "start_time": "2022-01-16T17:36:14.714Z"
   },
   {
    "duration": 13,
    "start_time": "2022-01-16T17:36:17.474Z"
   },
   {
    "duration": 7,
    "start_time": "2022-01-16T17:36:18.969Z"
   },
   {
    "duration": 9,
    "start_time": "2022-01-16T17:36:19.803Z"
   },
   {
    "duration": 7,
    "start_time": "2022-01-16T17:36:21.770Z"
   },
   {
    "duration": 32,
    "start_time": "2022-01-16T17:36:22.746Z"
   },
   {
    "duration": -206,
    "start_time": "2022-01-16T17:54:31.998Z"
   },
   {
    "duration": -207,
    "start_time": "2022-01-16T17:54:32.001Z"
   },
   {
    "duration": -213,
    "start_time": "2022-01-16T17:54:32.009Z"
   },
   {
    "duration": -215,
    "start_time": "2022-01-16T17:54:32.012Z"
   },
   {
    "duration": -215,
    "start_time": "2022-01-16T17:54:32.014Z"
   },
   {
    "duration": -215,
    "start_time": "2022-01-16T17:54:32.016Z"
   },
   {
    "duration": -217,
    "start_time": "2022-01-16T17:54:32.019Z"
   },
   {
    "duration": -217,
    "start_time": "2022-01-16T17:54:32.021Z"
   },
   {
    "duration": -220,
    "start_time": "2022-01-16T17:54:32.025Z"
   },
   {
    "duration": -227,
    "start_time": "2022-01-16T17:54:32.033Z"
   },
   {
    "duration": -228,
    "start_time": "2022-01-16T17:54:32.036Z"
   },
   {
    "duration": -230,
    "start_time": "2022-01-16T17:54:32.039Z"
   },
   {
    "duration": -232,
    "start_time": "2022-01-16T17:54:32.042Z"
   },
   {
    "duration": -231,
    "start_time": "2022-01-16T17:54:32.044Z"
   },
   {
    "duration": -233,
    "start_time": "2022-01-16T17:54:32.047Z"
   },
   {
    "duration": -233,
    "start_time": "2022-01-16T17:54:32.049Z"
   },
   {
    "duration": -233,
    "start_time": "2022-01-16T17:54:32.051Z"
   },
   {
    "duration": -235,
    "start_time": "2022-01-16T17:54:32.054Z"
   },
   {
    "duration": -235,
    "start_time": "2022-01-16T17:54:32.056Z"
   },
   {
    "duration": -236,
    "start_time": "2022-01-16T17:54:32.059Z"
   },
   {
    "duration": -238,
    "start_time": "2022-01-16T17:54:32.062Z"
   },
   {
    "duration": -238,
    "start_time": "2022-01-16T17:54:32.064Z"
   },
   {
    "duration": 3,
    "start_time": "2022-01-16T17:54:43.611Z"
   },
   {
    "duration": 64,
    "start_time": "2022-01-16T17:54:44.066Z"
   },
   {
    "duration": 19,
    "start_time": "2022-01-16T17:54:44.564Z"
   },
   {
    "duration": 15,
    "start_time": "2022-01-16T17:54:45.178Z"
   },
   {
    "duration": 14,
    "start_time": "2022-01-16T17:54:50.281Z"
   },
   {
    "duration": 8,
    "start_time": "2022-01-16T17:54:52.585Z"
   },
   {
    "duration": 7,
    "start_time": "2022-01-16T17:54:57.301Z"
   },
   {
    "duration": 20,
    "start_time": "2022-01-16T17:54:59.217Z"
   },
   {
    "duration": 6,
    "start_time": "2022-01-16T17:55:28.513Z"
   },
   {
    "duration": 4,
    "start_time": "2022-01-16T18:21:16.818Z"
   },
   {
    "duration": 66,
    "start_time": "2022-01-16T18:21:16.825Z"
   },
   {
    "duration": 23,
    "start_time": "2022-01-16T18:21:16.894Z"
   },
   {
    "duration": 17,
    "start_time": "2022-01-16T18:21:16.919Z"
   },
   {
    "duration": 13,
    "start_time": "2022-01-16T18:21:16.938Z"
   },
   {
    "duration": 8,
    "start_time": "2022-01-16T18:21:16.953Z"
   },
   {
    "duration": 7,
    "start_time": "2022-01-16T18:21:17.002Z"
   },
   {
    "duration": 10,
    "start_time": "2022-01-16T18:21:17.011Z"
   },
   {
    "duration": 5,
    "start_time": "2022-01-16T18:21:17.026Z"
   },
   {
    "duration": 68,
    "start_time": "2022-01-16T18:21:17.033Z"
   },
   {
    "duration": 65,
    "start_time": "2022-01-16T18:21:17.104Z"
   },
   {
    "duration": 29,
    "start_time": "2022-01-16T18:21:17.172Z"
   },
   {
    "duration": 7,
    "start_time": "2022-01-16T18:21:17.204Z"
   },
   {
    "duration": 31,
    "start_time": "2022-01-16T18:21:17.214Z"
   },
   {
    "duration": 59,
    "start_time": "2022-01-16T18:21:17.248Z"
   },
   {
    "duration": 27,
    "start_time": "2022-01-16T18:21:17.310Z"
   },
   {
    "duration": 23,
    "start_time": "2022-01-16T18:21:17.340Z"
   },
   {
    "duration": 44,
    "start_time": "2022-01-16T18:21:17.366Z"
   },
   {
    "duration": 40,
    "start_time": "2022-01-16T18:21:17.412Z"
   },
   {
    "duration": 52,
    "start_time": "2022-01-16T18:21:17.455Z"
   },
   {
    "duration": 22,
    "start_time": "2022-01-16T18:21:17.509Z"
   },
   {
    "duration": 13,
    "start_time": "2022-01-16T18:21:17.535Z"
   },
   {
    "duration": 24,
    "start_time": "2022-01-16T18:31:40.267Z"
   },
   {
    "duration": 3,
    "start_time": "2022-01-16T18:31:52.043Z"
   },
   {
    "duration": 71,
    "start_time": "2022-01-16T18:31:52.050Z"
   },
   {
    "duration": 21,
    "start_time": "2022-01-16T18:31:52.125Z"
   },
   {
    "duration": 52,
    "start_time": "2022-01-16T18:31:52.150Z"
   },
   {
    "duration": 14,
    "start_time": "2022-01-16T18:31:52.205Z"
   },
   {
    "duration": 7,
    "start_time": "2022-01-16T18:31:52.222Z"
   },
   {
    "duration": 7,
    "start_time": "2022-01-16T18:31:52.231Z"
   },
   {
    "duration": 8,
    "start_time": "2022-01-16T18:31:52.241Z"
   },
   {
    "duration": 50,
    "start_time": "2022-01-16T18:31:52.254Z"
   },
   {
    "duration": 28,
    "start_time": "2022-01-16T18:31:52.307Z"
   },
   {
    "duration": 93,
    "start_time": "2022-01-16T18:31:52.337Z"
   },
   {
    "duration": 7,
    "start_time": "2022-01-16T18:31:52.432Z"
   },
   {
    "duration": 7,
    "start_time": "2022-01-16T18:31:52.441Z"
   },
   {
    "duration": 17,
    "start_time": "2022-01-16T18:31:52.451Z"
   },
   {
    "duration": 22,
    "start_time": "2022-01-16T18:31:52.500Z"
   },
   {
    "duration": 26,
    "start_time": "2022-01-16T18:31:52.525Z"
   },
   {
    "duration": 52,
    "start_time": "2022-01-16T18:31:52.553Z"
   },
   {
    "duration": 17,
    "start_time": "2022-01-16T18:31:52.608Z"
   },
   {
    "duration": 27,
    "start_time": "2022-01-16T18:31:52.628Z"
   },
   {
    "duration": 55,
    "start_time": "2022-01-16T18:31:52.658Z"
   },
   {
    "duration": 23,
    "start_time": "2022-01-16T18:31:52.716Z"
   },
   {
    "duration": 13,
    "start_time": "2022-01-16T18:31:52.742Z"
   },
   {
    "duration": 53,
    "start_time": "2022-01-16T18:31:52.757Z"
   },
   {
    "duration": 11,
    "start_time": "2022-01-16T18:46:13.106Z"
   },
   {
    "duration": 14,
    "start_time": "2022-01-16T18:47:23.425Z"
   },
   {
    "duration": 11,
    "start_time": "2022-01-16T18:50:52.331Z"
   },
   {
    "duration": 11,
    "start_time": "2022-01-16T18:54:45.278Z"
   },
   {
    "duration": 446,
    "start_time": "2022-01-16T19:08:12.017Z"
   },
   {
    "duration": 10,
    "start_time": "2022-01-16T19:08:20.390Z"
   },
   {
    "duration": 362,
    "start_time": "2022-01-16T19:08:21.055Z"
   },
   {
    "duration": 367,
    "start_time": "2022-01-16T19:09:37.269Z"
   },
   {
    "duration": 348,
    "start_time": "2022-01-16T19:10:03.917Z"
   },
   {
    "duration": 7,
    "start_time": "2022-01-16T19:10:48.596Z"
   },
   {
    "duration": 27,
    "start_time": "2022-01-16T19:10:57.434Z"
   },
   {
    "duration": 14579,
    "start_time": "2022-01-16T19:12:14.333Z"
   },
   {
    "duration": 14921,
    "start_time": "2022-01-16T19:20:46.391Z"
   },
   {
    "duration": 4329,
    "start_time": "2022-01-16T19:23:25.841Z"
   },
   {
    "duration": 4442,
    "start_time": "2022-01-16T19:23:54.647Z"
   },
   {
    "duration": 4219,
    "start_time": "2022-01-16T19:24:11.510Z"
   },
   {
    "duration": 4607,
    "start_time": "2022-01-16T19:24:22.645Z"
   },
   {
    "duration": 4491,
    "start_time": "2022-01-16T19:27:11.261Z"
   },
   {
    "duration": 4560,
    "start_time": "2022-01-16T19:27:20.359Z"
   },
   {
    "duration": 369,
    "start_time": "2022-01-16T19:28:58.637Z"
   },
   {
    "duration": 4166,
    "start_time": "2022-01-16T19:29:41.189Z"
   },
   {
    "duration": 5105,
    "start_time": "2022-01-16T19:32:30.364Z"
   },
   {
    "duration": 4829,
    "start_time": "2022-01-16T19:33:54.122Z"
   },
   {
    "duration": 3904,
    "start_time": "2022-01-16T19:34:22.466Z"
   },
   {
    "duration": 3951,
    "start_time": "2022-01-16T19:36:05.209Z"
   },
   {
    "duration": 3760,
    "start_time": "2022-01-16T19:38:52.010Z"
   },
   {
    "duration": 4074,
    "start_time": "2022-01-16T19:41:59.294Z"
   },
   {
    "duration": 8555,
    "start_time": "2022-01-16T19:44:18.669Z"
   },
   {
    "duration": 9158,
    "start_time": "2022-01-16T19:45:06.686Z"
   },
   {
    "duration": 9372,
    "start_time": "2022-01-16T19:45:39.636Z"
   },
   {
    "duration": 8677,
    "start_time": "2022-01-16T19:46:17.030Z"
   },
   {
    "duration": 4156,
    "start_time": "2022-01-16T19:46:52.388Z"
   },
   {
    "duration": 4792,
    "start_time": "2022-01-16T19:47:28.676Z"
   },
   {
    "duration": 5473,
    "start_time": "2022-01-16T19:49:58.804Z"
   },
   {
    "duration": 5035,
    "start_time": "2022-01-16T19:50:35.642Z"
   },
   {
    "duration": 5034,
    "start_time": "2022-01-16T19:50:53.444Z"
   },
   {
    "duration": 5304,
    "start_time": "2022-01-16T19:51:26.814Z"
   },
   {
    "duration": 5141,
    "start_time": "2022-01-16T19:52:15.970Z"
   },
   {
    "duration": 4906,
    "start_time": "2022-01-16T19:52:29.497Z"
   },
   {
    "duration": 1369,
    "start_time": "2022-01-16T20:03:37.286Z"
   },
   {
    "duration": 5,
    "start_time": "2022-01-16T20:03:42.373Z"
   },
   {
    "duration": 36,
    "start_time": "2022-01-16T20:03:43.124Z"
   },
   {
    "duration": 29,
    "start_time": "2022-01-16T20:03:59.393Z"
   },
   {
    "duration": 28,
    "start_time": "2022-01-16T20:05:06.489Z"
   },
   {
    "duration": 11,
    "start_time": "2022-01-16T20:05:26.651Z"
   },
   {
    "duration": 11,
    "start_time": "2022-01-16T20:12:20.148Z"
   },
   {
    "duration": 120,
    "start_time": "2022-01-16T20:13:26.777Z"
   },
   {
    "duration": 11,
    "start_time": "2022-01-16T20:13:35.232Z"
   },
   {
    "duration": 7,
    "start_time": "2022-01-16T20:23:23.023Z"
   },
   {
    "duration": 6,
    "start_time": "2022-01-16T20:23:40.294Z"
   },
   {
    "duration": 19762,
    "start_time": "2022-01-16T20:28:21.026Z"
   },
   {
    "duration": 19991,
    "start_time": "2022-01-16T20:29:38.418Z"
   },
   {
    "duration": 20233,
    "start_time": "2022-01-16T20:30:27.062Z"
   },
   {
    "duration": 20374,
    "start_time": "2022-01-16T20:33:10.759Z"
   },
   {
    "duration": 21,
    "start_time": "2022-01-16T20:33:52.691Z"
   },
   {
    "duration": 19,
    "start_time": "2022-01-16T20:34:34.279Z"
   },
   {
    "duration": 20,
    "start_time": "2022-01-16T20:34:56.764Z"
   },
   {
    "duration": 27,
    "start_time": "2022-01-16T20:35:21.456Z"
   },
   {
    "duration": 21,
    "start_time": "2022-01-16T20:35:55.439Z"
   },
   {
    "duration": 21,
    "start_time": "2022-01-16T20:36:16.376Z"
   },
   {
    "duration": 20,
    "start_time": "2022-01-16T20:37:58.538Z"
   },
   {
    "duration": 21,
    "start_time": "2022-01-16T20:38:09.753Z"
   },
   {
    "duration": 6,
    "start_time": "2022-01-16T20:40:42.159Z"
   },
   {
    "duration": 20,
    "start_time": "2022-01-16T20:40:56.417Z"
   },
   {
    "duration": 20,
    "start_time": "2022-01-16T20:44:22.283Z"
   },
   {
    "duration": 20,
    "start_time": "2022-01-16T20:44:46.938Z"
   },
   {
    "duration": 21,
    "start_time": "2022-01-16T20:45:29.819Z"
   },
   {
    "duration": 19,
    "start_time": "2022-01-16T20:45:50.094Z"
   },
   {
    "duration": 20,
    "start_time": "2022-01-16T20:46:03.978Z"
   },
   {
    "duration": 21,
    "start_time": "2022-01-16T20:46:16.170Z"
   },
   {
    "duration": 22,
    "start_time": "2022-01-16T20:46:41.071Z"
   },
   {
    "duration": 31,
    "start_time": "2022-01-16T20:48:03.033Z"
   },
   {
    "duration": 21,
    "start_time": "2022-01-16T20:48:28.624Z"
   },
   {
    "duration": 21,
    "start_time": "2022-01-16T20:48:47.536Z"
   },
   {
    "duration": 23,
    "start_time": "2022-01-16T20:49:07.866Z"
   },
   {
    "duration": 21,
    "start_time": "2022-01-16T20:49:39.589Z"
   },
   {
    "duration": 21,
    "start_time": "2022-01-16T20:50:28.878Z"
   },
   {
    "duration": 22,
    "start_time": "2022-01-16T20:50:37.743Z"
   },
   {
    "duration": 25,
    "start_time": "2022-01-16T20:50:45.104Z"
   },
   {
    "duration": 21,
    "start_time": "2022-01-16T20:50:51.519Z"
   },
   {
    "duration": 29,
    "start_time": "2022-01-16T20:51:00.590Z"
   },
   {
    "duration": 21,
    "start_time": "2022-01-16T20:53:42.886Z"
   },
   {
    "duration": 21,
    "start_time": "2022-01-16T20:54:03.469Z"
   },
   {
    "duration": 24,
    "start_time": "2022-01-16T20:54:17.174Z"
   },
   {
    "duration": 21,
    "start_time": "2022-01-16T20:54:42.846Z"
   },
   {
    "duration": 22,
    "start_time": "2022-01-16T20:56:47.202Z"
   },
   {
    "duration": 162,
    "start_time": "2022-01-16T20:57:19.284Z"
   },
   {
    "duration": 5022,
    "start_time": "2022-01-16T20:58:28.587Z"
   },
   {
    "duration": 4,
    "start_time": "2022-01-16T20:58:37.546Z"
   },
   {
    "duration": 43,
    "start_time": "2022-01-16T20:58:39.123Z"
   },
   {
    "duration": 14,
    "start_time": "2022-01-16T20:58:50.643Z"
   },
   {
    "duration": 16,
    "start_time": "2022-01-16T20:58:54.755Z"
   },
   {
    "duration": 7,
    "start_time": "2022-01-16T20:58:58.026Z"
   },
   {
    "duration": 21,
    "start_time": "2022-01-16T20:59:20.236Z"
   },
   {
    "duration": 22,
    "start_time": "2022-01-16T21:00:03.924Z"
   },
   {
    "duration": 24,
    "start_time": "2022-01-16T21:00:15.411Z"
   },
   {
    "duration": 362,
    "start_time": "2022-01-16T21:21:45.192Z"
   },
   {
    "duration": 13,
    "start_time": "2022-01-16T21:23:18.583Z"
   },
   {
    "duration": 36,
    "start_time": "2022-01-16T21:23:55.256Z"
   },
   {
    "duration": 13,
    "start_time": "2022-01-16T21:24:21.296Z"
   },
   {
    "duration": 11,
    "start_time": "2022-01-16T21:25:35.285Z"
   },
   {
    "duration": 25,
    "start_time": "2022-01-16T21:26:29.358Z"
   },
   {
    "duration": 107,
    "start_time": "2022-01-16T21:26:43.057Z"
   },
   {
    "duration": 10,
    "start_time": "2022-01-16T21:27:06.005Z"
   },
   {
    "duration": 113,
    "start_time": "2022-01-16T21:27:54.340Z"
   },
   {
    "duration": 13,
    "start_time": "2022-01-16T21:28:51.062Z"
   },
   {
    "duration": 11,
    "start_time": "2022-01-16T21:35:18.429Z"
   },
   {
    "duration": 11,
    "start_time": "2022-01-16T21:36:15.389Z"
   },
   {
    "duration": 12,
    "start_time": "2022-01-16T21:36:47.896Z"
   },
   {
    "duration": 11,
    "start_time": "2022-01-16T21:42:17.654Z"
   },
   {
    "duration": 14,
    "start_time": "2022-01-16T21:42:26.349Z"
   },
   {
    "duration": 296,
    "start_time": "2022-01-16T21:48:09.580Z"
   },
   {
    "duration": 9,
    "start_time": "2022-01-16T21:48:17.317Z"
   },
   {
    "duration": 8,
    "start_time": "2022-01-16T21:49:01.770Z"
   },
   {
    "duration": 314,
    "start_time": "2022-01-16T21:57:20.616Z"
   },
   {
    "duration": 315,
    "start_time": "2022-01-16T21:57:28.231Z"
   },
   {
    "duration": 40,
    "start_time": "2022-01-16T21:57:35.254Z"
   },
   {
    "duration": 20,
    "start_time": "2022-01-16T21:58:01.312Z"
   },
   {
    "duration": 15,
    "start_time": "2022-01-16T21:58:12.886Z"
   },
   {
    "duration": 102,
    "start_time": "2022-01-16T21:58:15.175Z"
   },
   {
    "duration": 13,
    "start_time": "2022-01-16T21:58:23.005Z"
   },
   {
    "duration": 14,
    "start_time": "2022-01-16T21:58:51.341Z"
   },
   {
    "duration": 13,
    "start_time": "2022-01-16T21:58:52.109Z"
   },
   {
    "duration": 44,
    "start_time": "2022-01-16T22:04:35.131Z"
   },
   {
    "duration": 9,
    "start_time": "2022-01-16T22:05:26.649Z"
   },
   {
    "duration": 10,
    "start_time": "2022-01-16T22:36:49.535Z"
   },
   {
    "duration": 3,
    "start_time": "2022-01-16T22:37:09.882Z"
   },
   {
    "duration": 70,
    "start_time": "2022-01-16T22:37:09.887Z"
   },
   {
    "duration": 42,
    "start_time": "2022-01-16T22:37:09.960Z"
   },
   {
    "duration": 20,
    "start_time": "2022-01-16T22:37:10.005Z"
   },
   {
    "duration": 13,
    "start_time": "2022-01-16T22:37:10.028Z"
   },
   {
    "duration": 14,
    "start_time": "2022-01-16T22:37:10.043Z"
   },
   {
    "duration": 39,
    "start_time": "2022-01-16T22:37:10.061Z"
   },
   {
    "duration": 6,
    "start_time": "2022-01-16T22:37:10.104Z"
   },
   {
    "duration": 12,
    "start_time": "2022-01-16T22:37:10.112Z"
   },
   {
    "duration": 28,
    "start_time": "2022-01-16T22:37:10.126Z"
   },
   {
    "duration": 89,
    "start_time": "2022-01-16T22:37:10.156Z"
   },
   {
    "duration": 6,
    "start_time": "2022-01-16T22:37:10.247Z"
   },
   {
    "duration": 8,
    "start_time": "2022-01-16T22:37:10.255Z"
   },
   {
    "duration": 41,
    "start_time": "2022-01-16T22:37:10.265Z"
   },
   {
    "duration": 22,
    "start_time": "2022-01-16T22:37:10.309Z"
   },
   {
    "duration": 25,
    "start_time": "2022-01-16T22:37:10.334Z"
   },
   {
    "duration": 55,
    "start_time": "2022-01-16T22:37:10.362Z"
   },
   {
    "duration": 17,
    "start_time": "2022-01-16T22:37:10.419Z"
   },
   {
    "duration": 29,
    "start_time": "2022-01-16T22:37:10.441Z"
   },
   {
    "duration": 49,
    "start_time": "2022-01-16T22:37:10.472Z"
   },
   {
    "duration": 25,
    "start_time": "2022-01-16T22:37:10.523Z"
   },
   {
    "duration": 13,
    "start_time": "2022-01-16T22:37:10.550Z"
   },
   {
    "duration": 56,
    "start_time": "2022-01-16T22:37:10.565Z"
   },
   {
    "duration": 11,
    "start_time": "2022-01-16T22:37:10.623Z"
   },
   {
    "duration": 4552,
    "start_time": "2022-01-16T22:37:10.637Z"
   },
   {
    "duration": 5,
    "start_time": "2022-01-16T22:37:15.200Z"
   },
   {
    "duration": 44,
    "start_time": "2022-01-16T22:37:15.208Z"
   },
   {
    "duration": 11,
    "start_time": "2022-01-16T22:37:15.255Z"
   },
   {
    "duration": 40,
    "start_time": "2022-01-16T22:37:15.269Z"
   },
   {
    "duration": 16,
    "start_time": "2022-01-16T22:37:15.311Z"
   },
   {
    "duration": 25,
    "start_time": "2022-01-16T22:37:15.329Z"
   },
   {
    "duration": 47,
    "start_time": "2022-01-16T22:37:15.356Z"
   },
   {
    "duration": 30,
    "start_time": "2022-01-16T22:37:15.405Z"
   },
   {
    "duration": 20,
    "start_time": "2022-01-16T22:37:15.437Z"
   },
   {
    "duration": 12,
    "start_time": "2022-01-16T22:37:15.459Z"
   },
   {
    "duration": 49,
    "start_time": "2022-01-16T22:37:15.473Z"
   },
   {
    "duration": 14,
    "start_time": "2022-01-16T22:37:15.525Z"
   },
   {
    "duration": 17,
    "start_time": "2022-01-16T22:37:15.541Z"
   },
   {
    "duration": 11,
    "start_time": "2022-01-16T22:37:15.560Z"
   },
   {
    "duration": 62,
    "start_time": "2022-01-16T22:37:15.573Z"
   },
   {
    "duration": 8,
    "start_time": "2022-01-16T22:37:15.637Z"
   },
   {
    "duration": 9,
    "start_time": "2022-01-16T22:37:15.647Z"
   },
   {
    "duration": 42,
    "start_time": "2022-01-16T22:41:36.049Z"
   },
   {
    "duration": 8,
    "start_time": "2022-01-16T22:41:38.897Z"
   },
   {
    "duration": 105,
    "start_time": "2022-01-16T22:42:10.056Z"
   },
   {
    "duration": 41,
    "start_time": "2022-01-16T22:42:16.002Z"
   },
   {
    "duration": 9,
    "start_time": "2022-01-16T22:42:18.169Z"
   },
   {
    "duration": 10,
    "start_time": "2022-01-16T22:42:22.810Z"
   },
   {
    "duration": 3,
    "start_time": "2022-01-16T22:42:28.047Z"
   },
   {
    "duration": 75,
    "start_time": "2022-01-16T22:42:28.052Z"
   },
   {
    "duration": 19,
    "start_time": "2022-01-16T22:42:28.129Z"
   },
   {
    "duration": 52,
    "start_time": "2022-01-16T22:42:28.151Z"
   },
   {
    "duration": 12,
    "start_time": "2022-01-16T22:42:28.206Z"
   },
   {
    "duration": 9,
    "start_time": "2022-01-16T22:42:28.220Z"
   },
   {
    "duration": 7,
    "start_time": "2022-01-16T22:42:28.231Z"
   },
   {
    "duration": 10,
    "start_time": "2022-01-16T22:42:28.240Z"
   },
   {
    "duration": 50,
    "start_time": "2022-01-16T22:42:28.254Z"
   },
   {
    "duration": 29,
    "start_time": "2022-01-16T22:42:28.307Z"
   },
   {
    "duration": 84,
    "start_time": "2022-01-16T22:42:28.338Z"
   },
   {
    "duration": 5,
    "start_time": "2022-01-16T22:42:28.425Z"
   },
   {
    "duration": 7,
    "start_time": "2022-01-16T22:42:28.433Z"
   },
   {
    "duration": 24,
    "start_time": "2022-01-16T22:42:28.442Z"
   },
   {
    "duration": 47,
    "start_time": "2022-01-16T22:42:28.469Z"
   },
   {
    "duration": 25,
    "start_time": "2022-01-16T22:42:28.518Z"
   },
   {
    "duration": 23,
    "start_time": "2022-01-16T22:42:28.545Z"
   },
   {
    "duration": 44,
    "start_time": "2022-01-16T22:42:28.570Z"
   },
   {
    "duration": 29,
    "start_time": "2022-01-16T22:42:28.616Z"
   },
   {
    "duration": 28,
    "start_time": "2022-01-16T22:42:28.647Z"
   },
   {
    "duration": 24,
    "start_time": "2022-01-16T22:42:28.702Z"
   },
   {
    "duration": 12,
    "start_time": "2022-01-16T22:42:28.729Z"
   },
   {
    "duration": 26,
    "start_time": "2022-01-16T22:42:28.744Z"
   },
   {
    "duration": 35,
    "start_time": "2022-01-16T22:42:28.773Z"
   },
   {
    "duration": 4626,
    "start_time": "2022-01-16T22:42:28.811Z"
   },
   {
    "duration": 6,
    "start_time": "2022-01-16T22:42:33.440Z"
   },
   {
    "duration": 59,
    "start_time": "2022-01-16T22:42:33.451Z"
   },
   {
    "duration": 11,
    "start_time": "2022-01-16T22:42:33.513Z"
   },
   {
    "duration": 13,
    "start_time": "2022-01-16T22:42:33.527Z"
   },
   {
    "duration": 10,
    "start_time": "2022-01-16T22:42:33.542Z"
   },
   {
    "duration": 55,
    "start_time": "2022-01-16T22:42:33.554Z"
   },
   {
    "duration": 21,
    "start_time": "2022-01-16T22:42:33.611Z"
   },
   {
    "duration": 24,
    "start_time": "2022-01-16T22:42:33.635Z"
   },
   {
    "duration": 45,
    "start_time": "2022-01-16T22:42:33.662Z"
   },
   {
    "duration": 12,
    "start_time": "2022-01-16T22:42:33.709Z"
   },
   {
    "duration": 15,
    "start_time": "2022-01-16T22:42:33.724Z"
   },
   {
    "duration": 8,
    "start_time": "2022-01-16T22:42:33.741Z"
   },
   {
    "duration": 55,
    "start_time": "2022-01-16T22:42:33.751Z"
   },
   {
    "duration": 12,
    "start_time": "2022-01-16T22:42:33.808Z"
   },
   {
    "duration": 78,
    "start_time": "2022-01-16T22:42:33.823Z"
   },
   {
    "duration": 8,
    "start_time": "2022-01-16T22:42:33.904Z"
   },
   {
    "duration": 10,
    "start_time": "2022-01-16T22:42:33.915Z"
   },
   {
    "duration": 13,
    "start_time": "2022-01-16T22:45:13.590Z"
   },
   {
    "duration": 330,
    "start_time": "2022-01-16T22:51:59.733Z"
   },
   {
    "duration": 328,
    "start_time": "2022-01-16T22:52:17.993Z"
   },
   {
    "duration": 8,
    "start_time": "2022-01-16T22:53:27.560Z"
   },
   {
    "duration": 293,
    "start_time": "2022-01-16T22:53:56.284Z"
   },
   {
    "duration": 18,
    "start_time": "2022-01-16T22:54:04.846Z"
   },
   {
    "duration": 312,
    "start_time": "2022-01-16T22:57:05.658Z"
   },
   {
    "duration": 297,
    "start_time": "2022-01-16T22:57:51.330Z"
   },
   {
    "duration": 301,
    "start_time": "2022-01-16T22:58:16.682Z"
   },
   {
    "duration": 298,
    "start_time": "2022-01-16T22:58:26.180Z"
   },
   {
    "duration": 19,
    "start_time": "2022-01-16T22:58:56.169Z"
   },
   {
    "duration": 310,
    "start_time": "2022-01-16T22:59:15.716Z"
   },
   {
    "duration": 30,
    "start_time": "2022-01-16T23:00:06.835Z"
   },
   {
    "duration": 29,
    "start_time": "2022-01-16T23:01:40.072Z"
   },
   {
    "duration": 28,
    "start_time": "2022-01-16T23:01:54.975Z"
   },
   {
    "duration": 328,
    "start_time": "2022-01-16T23:02:02.351Z"
   },
   {
    "duration": 28,
    "start_time": "2022-01-16T23:02:08.407Z"
   },
   {
    "duration": 324,
    "start_time": "2022-01-16T23:03:30.590Z"
   },
   {
    "duration": 302,
    "start_time": "2022-01-16T23:03:43.088Z"
   },
   {
    "duration": 4,
    "start_time": "2022-01-16T23:04:04.949Z"
   },
   {
    "duration": 71,
    "start_time": "2022-01-16T23:04:04.955Z"
   },
   {
    "duration": 19,
    "start_time": "2022-01-16T23:04:05.029Z"
   },
   {
    "duration": 51,
    "start_time": "2022-01-16T23:04:05.051Z"
   },
   {
    "duration": 13,
    "start_time": "2022-01-16T23:04:05.105Z"
   },
   {
    "duration": 8,
    "start_time": "2022-01-16T23:04:05.120Z"
   },
   {
    "duration": 7,
    "start_time": "2022-01-16T23:04:05.130Z"
   },
   {
    "duration": 6,
    "start_time": "2022-01-16T23:04:05.141Z"
   },
   {
    "duration": 50,
    "start_time": "2022-01-16T23:04:05.150Z"
   },
   {
    "duration": 30,
    "start_time": "2022-01-16T23:04:05.203Z"
   },
   {
    "duration": 84,
    "start_time": "2022-01-16T23:04:05.235Z"
   },
   {
    "duration": 6,
    "start_time": "2022-01-16T23:04:05.321Z"
   },
   {
    "duration": 9,
    "start_time": "2022-01-16T23:04:05.329Z"
   },
   {
    "duration": 22,
    "start_time": "2022-01-16T23:04:05.340Z"
   },
   {
    "duration": 50,
    "start_time": "2022-01-16T23:04:05.365Z"
   },
   {
    "duration": 26,
    "start_time": "2022-01-16T23:04:05.417Z"
   },
   {
    "duration": 23,
    "start_time": "2022-01-16T23:04:05.445Z"
   },
   {
    "duration": 44,
    "start_time": "2022-01-16T23:04:05.471Z"
   },
   {
    "duration": 43,
    "start_time": "2022-01-16T23:04:05.517Z"
   },
   {
    "duration": 27,
    "start_time": "2022-01-16T23:04:05.562Z"
   },
   {
    "duration": 24,
    "start_time": "2022-01-16T23:04:05.599Z"
   },
   {
    "duration": 13,
    "start_time": "2022-01-16T23:04:05.625Z"
   },
   {
    "duration": 35,
    "start_time": "2022-01-16T23:04:05.643Z"
   },
   {
    "duration": 27,
    "start_time": "2022-01-16T23:04:05.681Z"
   },
   {
    "duration": 4535,
    "start_time": "2022-01-16T23:04:05.711Z"
   },
   {
    "duration": 4,
    "start_time": "2022-01-16T23:04:10.249Z"
   },
   {
    "duration": 57,
    "start_time": "2022-01-16T23:04:10.256Z"
   },
   {
    "duration": 10,
    "start_time": "2022-01-16T23:04:10.316Z"
   },
   {
    "duration": 14,
    "start_time": "2022-01-16T23:04:10.330Z"
   },
   {
    "duration": 9,
    "start_time": "2022-01-16T23:04:10.346Z"
   },
   {
    "duration": 23,
    "start_time": "2022-01-16T23:04:10.402Z"
   },
   {
    "duration": 24,
    "start_time": "2022-01-16T23:04:10.428Z"
   },
   {
    "duration": 65,
    "start_time": "2022-01-16T23:04:10.456Z"
   },
   {
    "duration": 18,
    "start_time": "2022-01-16T23:04:10.524Z"
   },
   {
    "duration": 14,
    "start_time": "2022-01-16T23:04:10.545Z"
   },
   {
    "duration": 51,
    "start_time": "2022-01-16T23:04:10.562Z"
   },
   {
    "duration": 10,
    "start_time": "2022-01-16T23:04:10.616Z"
   },
   {
    "duration": 16,
    "start_time": "2022-01-16T23:04:10.629Z"
   },
   {
    "duration": 140,
    "start_time": "2022-01-16T23:04:10.648Z"
   },
   {
    "duration": 52,
    "start_time": "2022-01-16T23:04:10.801Z"
   },
   {
    "duration": 7,
    "start_time": "2022-01-16T23:04:10.856Z"
   },
   {
    "duration": 39,
    "start_time": "2022-01-16T23:04:10.866Z"
   },
   {
    "duration": 320,
    "start_time": "2022-01-16T23:04:10.908Z"
   },
   {
    "duration": -408,
    "start_time": "2022-01-16T23:04:11.638Z"
   },
   {
    "duration": 311,
    "start_time": "2022-01-16T23:05:33.926Z"
   },
   {
    "duration": 26,
    "start_time": "2022-01-16T23:06:38.301Z"
   },
   {
    "duration": 60,
    "start_time": "2022-01-16T23:07:14.166Z"
   },
   {
    "duration": 32,
    "start_time": "2022-01-16T23:07:25.077Z"
   },
   {
    "duration": 12,
    "start_time": "2022-01-16T23:07:33.623Z"
   },
   {
    "duration": 34,
    "start_time": "2022-01-16T23:07:39.829Z"
   },
   {
    "duration": 16,
    "start_time": "2022-01-16T23:07:44.904Z"
   },
   {
    "duration": 302,
    "start_time": "2022-01-16T23:07:59.480Z"
   },
   {
    "duration": 4,
    "start_time": "2022-01-16T23:08:04.039Z"
   },
   {
    "duration": 70,
    "start_time": "2022-01-16T23:08:04.046Z"
   },
   {
    "duration": 20,
    "start_time": "2022-01-16T23:08:04.119Z"
   },
   {
    "duration": 16,
    "start_time": "2022-01-16T23:08:04.141Z"
   },
   {
    "duration": 45,
    "start_time": "2022-01-16T23:08:04.160Z"
   },
   {
    "duration": 8,
    "start_time": "2022-01-16T23:08:04.207Z"
   },
   {
    "duration": 7,
    "start_time": "2022-01-16T23:08:04.217Z"
   },
   {
    "duration": 5,
    "start_time": "2022-01-16T23:08:04.229Z"
   },
   {
    "duration": 5,
    "start_time": "2022-01-16T23:08:04.237Z"
   },
   {
    "duration": 76,
    "start_time": "2022-01-16T23:08:04.245Z"
   },
   {
    "duration": 80,
    "start_time": "2022-01-16T23:08:04.323Z"
   },
   {
    "duration": 6,
    "start_time": "2022-01-16T23:08:04.406Z"
   },
   {
    "duration": 8,
    "start_time": "2022-01-16T23:08:04.415Z"
   },
   {
    "duration": 16,
    "start_time": "2022-01-16T23:08:04.425Z"
   },
   {
    "duration": 22,
    "start_time": "2022-01-16T23:08:04.443Z"
   },
   {
    "duration": 26,
    "start_time": "2022-01-16T23:08:04.501Z"
   },
   {
    "duration": 24,
    "start_time": "2022-01-16T23:08:04.530Z"
   },
   {
    "duration": 45,
    "start_time": "2022-01-16T23:08:04.556Z"
   },
   {
    "duration": 34,
    "start_time": "2022-01-16T23:08:04.603Z"
   },
   {
    "duration": 27,
    "start_time": "2022-01-16T23:08:04.639Z"
   },
   {
    "duration": 45,
    "start_time": "2022-01-16T23:08:04.669Z"
   },
   {
    "duration": 13,
    "start_time": "2022-01-16T23:08:04.717Z"
   },
   {
    "duration": 24,
    "start_time": "2022-01-16T23:08:04.735Z"
   },
   {
    "duration": 10,
    "start_time": "2022-01-16T23:08:04.762Z"
   },
   {
    "duration": 4642,
    "start_time": "2022-01-16T23:08:04.801Z"
   },
   {
    "duration": 5,
    "start_time": "2022-01-16T23:08:09.448Z"
   },
   {
    "duration": 55,
    "start_time": "2022-01-16T23:08:09.455Z"
   },
   {
    "duration": 10,
    "start_time": "2022-01-16T23:08:09.513Z"
   },
   {
    "duration": 11,
    "start_time": "2022-01-16T23:08:09.526Z"
   },
   {
    "duration": 7,
    "start_time": "2022-01-16T23:08:09.539Z"
   },
   {
    "duration": 58,
    "start_time": "2022-01-16T23:08:09.549Z"
   },
   {
    "duration": 22,
    "start_time": "2022-01-16T23:08:09.609Z"
   },
   {
    "duration": 24,
    "start_time": "2022-01-16T23:08:09.634Z"
   },
   {
    "duration": 48,
    "start_time": "2022-01-16T23:08:09.661Z"
   },
   {
    "duration": 12,
    "start_time": "2022-01-16T23:08:09.712Z"
   },
   {
    "duration": 15,
    "start_time": "2022-01-16T23:08:09.727Z"
   },
   {
    "duration": 7,
    "start_time": "2022-01-16T23:08:09.744Z"
   },
   {
    "duration": 56,
    "start_time": "2022-01-16T23:08:09.754Z"
   },
   {
    "duration": 11,
    "start_time": "2022-01-16T23:08:09.813Z"
   },
   {
    "duration": 77,
    "start_time": "2022-01-16T23:08:09.826Z"
   },
   {
    "duration": 8,
    "start_time": "2022-01-16T23:08:09.906Z"
   },
   {
    "duration": 12,
    "start_time": "2022-01-16T23:08:09.916Z"
   },
   {
    "duration": 28,
    "start_time": "2022-01-16T23:08:09.930Z"
   },
   {
    "duration": 59,
    "start_time": "2022-01-16T23:08:09.961Z"
   },
   {
    "duration": 30,
    "start_time": "2022-01-16T23:08:21.348Z"
   },
   {
    "duration": 3,
    "start_time": "2022-01-16T23:08:26.380Z"
   },
   {
    "duration": 70,
    "start_time": "2022-01-16T23:08:26.386Z"
   },
   {
    "duration": 41,
    "start_time": "2022-01-16T23:08:26.459Z"
   },
   {
    "duration": 15,
    "start_time": "2022-01-16T23:08:26.503Z"
   },
   {
    "duration": 13,
    "start_time": "2022-01-16T23:08:26.521Z"
   },
   {
    "duration": 8,
    "start_time": "2022-01-16T23:08:26.536Z"
   },
   {
    "duration": 53,
    "start_time": "2022-01-16T23:08:26.548Z"
   },
   {
    "duration": 7,
    "start_time": "2022-01-16T23:08:26.604Z"
   },
   {
    "duration": 8,
    "start_time": "2022-01-16T23:08:26.613Z"
   },
   {
    "duration": 29,
    "start_time": "2022-01-16T23:08:26.623Z"
   },
   {
    "duration": 93,
    "start_time": "2022-01-16T23:08:26.654Z"
   },
   {
    "duration": 6,
    "start_time": "2022-01-16T23:08:26.750Z"
   },
   {
    "duration": 9,
    "start_time": "2022-01-16T23:08:26.758Z"
   },
   {
    "duration": 42,
    "start_time": "2022-01-16T23:08:26.769Z"
   },
   {
    "duration": 23,
    "start_time": "2022-01-16T23:08:26.813Z"
   },
   {
    "duration": 26,
    "start_time": "2022-01-16T23:08:26.839Z"
   },
   {
    "duration": 49,
    "start_time": "2022-01-16T23:08:26.867Z"
   },
   {
    "duration": 15,
    "start_time": "2022-01-16T23:08:26.919Z"
   },
   {
    "duration": 27,
    "start_time": "2022-01-16T23:08:26.939Z"
   },
   {
    "duration": 55,
    "start_time": "2022-01-16T23:08:26.969Z"
   },
   {
    "duration": 24,
    "start_time": "2022-01-16T23:08:27.026Z"
   },
   {
    "duration": 13,
    "start_time": "2022-01-16T23:08:27.052Z"
   },
   {
    "duration": 51,
    "start_time": "2022-01-16T23:08:27.067Z"
   },
   {
    "duration": 12,
    "start_time": "2022-01-16T23:08:27.120Z"
   },
   {
    "duration": 4646,
    "start_time": "2022-01-16T23:08:27.135Z"
   },
   {
    "duration": 17,
    "start_time": "2022-01-16T23:08:31.783Z"
   },
   {
    "duration": 52,
    "start_time": "2022-01-16T23:08:31.803Z"
   },
   {
    "duration": 10,
    "start_time": "2022-01-16T23:08:31.857Z"
   },
   {
    "duration": 18,
    "start_time": "2022-01-16T23:08:31.870Z"
   },
   {
    "duration": 7,
    "start_time": "2022-01-16T23:08:31.901Z"
   },
   {
    "duration": 26,
    "start_time": "2022-01-16T23:08:31.911Z"
   },
   {
    "duration": 26,
    "start_time": "2022-01-16T23:08:31.940Z"
   },
   {
    "duration": 53,
    "start_time": "2022-01-16T23:08:31.968Z"
   },
   {
    "duration": 16,
    "start_time": "2022-01-16T23:08:32.023Z"
   },
   {
    "duration": 12,
    "start_time": "2022-01-16T23:08:32.041Z"
   },
   {
    "duration": 49,
    "start_time": "2022-01-16T23:08:32.055Z"
   },
   {
    "duration": 9,
    "start_time": "2022-01-16T23:08:32.108Z"
   },
   {
    "duration": 16,
    "start_time": "2022-01-16T23:08:32.120Z"
   },
   {
    "duration": 66,
    "start_time": "2022-01-16T23:08:32.139Z"
   },
   {
    "duration": 49,
    "start_time": "2022-01-16T23:08:32.207Z"
   },
   {
    "duration": 8,
    "start_time": "2022-01-16T23:08:32.259Z"
   },
   {
    "duration": 35,
    "start_time": "2022-01-16T23:08:32.270Z"
   },
   {
    "duration": 25,
    "start_time": "2022-01-16T23:08:32.308Z"
   },
   {
    "duration": 29,
    "start_time": "2022-01-16T23:08:32.335Z"
   },
   {
    "duration": 108,
    "start_time": "2022-01-16T23:08:59.532Z"
   },
   {
    "duration": 112,
    "start_time": "2022-01-16T23:09:57.939Z"
   },
   {
    "duration": 9,
    "start_time": "2022-01-16T23:10:04.442Z"
   },
   {
    "duration": 10,
    "start_time": "2022-01-16T23:10:06.100Z"
   },
   {
    "duration": 3,
    "start_time": "2022-01-16T23:10:09.369Z"
   },
   {
    "duration": 97,
    "start_time": "2022-01-16T23:10:09.376Z"
   },
   {
    "duration": 40,
    "start_time": "2022-01-16T23:10:09.477Z"
   },
   {
    "duration": 15,
    "start_time": "2022-01-16T23:10:09.520Z"
   },
   {
    "duration": 13,
    "start_time": "2022-01-16T23:10:09.538Z"
   },
   {
    "duration": 53,
    "start_time": "2022-01-16T23:10:09.553Z"
   },
   {
    "duration": 8,
    "start_time": "2022-01-16T23:10:09.608Z"
   },
   {
    "duration": 6,
    "start_time": "2022-01-16T23:10:09.620Z"
   },
   {
    "duration": 6,
    "start_time": "2022-01-16T23:10:09.630Z"
   },
   {
    "duration": 70,
    "start_time": "2022-01-16T23:10:09.639Z"
   },
   {
    "duration": 56,
    "start_time": "2022-01-16T23:10:09.712Z"
   },
   {
    "duration": 6,
    "start_time": "2022-01-16T23:10:09.770Z"
   },
   {
    "duration": 7,
    "start_time": "2022-01-16T23:10:09.801Z"
   },
   {
    "duration": 20,
    "start_time": "2022-01-16T23:10:09.810Z"
   },
   {
    "duration": 22,
    "start_time": "2022-01-16T23:10:09.832Z"
   },
   {
    "duration": 62,
    "start_time": "2022-01-16T23:10:09.857Z"
   },
   {
    "duration": 23,
    "start_time": "2022-01-16T23:10:09.922Z"
   },
   {
    "duration": 14,
    "start_time": "2022-01-16T23:10:09.948Z"
   },
   {
    "duration": 48,
    "start_time": "2022-01-16T23:10:09.964Z"
   },
   {
    "duration": 24,
    "start_time": "2022-01-16T23:10:10.015Z"
   },
   {
    "duration": 22,
    "start_time": "2022-01-16T23:10:10.042Z"
   },
   {
    "duration": 41,
    "start_time": "2022-01-16T23:10:10.067Z"
   },
   {
    "duration": 25,
    "start_time": "2022-01-16T23:10:10.114Z"
   },
   {
    "duration": 10,
    "start_time": "2022-01-16T23:10:10.142Z"
   },
   {
    "duration": 4659,
    "start_time": "2022-01-16T23:10:10.155Z"
   },
   {
    "duration": 5,
    "start_time": "2022-01-16T23:10:14.817Z"
   },
   {
    "duration": 49,
    "start_time": "2022-01-16T23:10:14.825Z"
   },
   {
    "duration": 31,
    "start_time": "2022-01-16T23:10:14.877Z"
   },
   {
    "duration": 13,
    "start_time": "2022-01-16T23:10:14.911Z"
   },
   {
    "duration": 7,
    "start_time": "2022-01-16T23:10:14.926Z"
   },
   {
    "duration": 65,
    "start_time": "2022-01-16T23:10:14.936Z"
   },
   {
    "duration": 28,
    "start_time": "2022-01-16T23:10:15.004Z"
   },
   {
    "duration": 29,
    "start_time": "2022-01-16T23:10:15.035Z"
   },
   {
    "duration": 47,
    "start_time": "2022-01-16T23:10:15.068Z"
   },
   {
    "duration": 15,
    "start_time": "2022-01-16T23:10:15.118Z"
   },
   {
    "duration": 18,
    "start_time": "2022-01-16T23:10:15.136Z"
   },
   {
    "duration": 52,
    "start_time": "2022-01-16T23:10:15.156Z"
   },
   {
    "duration": 16,
    "start_time": "2022-01-16T23:10:15.210Z"
   },
   {
    "duration": 14,
    "start_time": "2022-01-16T23:10:15.228Z"
   },
   {
    "duration": 56,
    "start_time": "2022-01-16T23:10:15.245Z"
   },
   {
    "duration": 12,
    "start_time": "2022-01-16T23:10:15.304Z"
   },
   {
    "duration": 10,
    "start_time": "2022-01-16T23:10:15.318Z"
   },
   {
    "duration": 22,
    "start_time": "2022-01-16T23:10:15.331Z"
   },
   {
    "duration": 28,
    "start_time": "2022-01-16T23:10:15.400Z"
   },
   {
    "duration": 29,
    "start_time": "2022-01-16T23:10:35.867Z"
   },
   {
    "duration": 4575,
    "start_time": "2022-01-16T23:14:00.714Z"
   },
   {
    "duration": 3954,
    "start_time": "2022-01-16T23:15:08.650Z"
   },
   {
    "duration": 20,
    "start_time": "2022-01-16T23:15:36.756Z"
   },
   {
    "duration": 38,
    "start_time": "2022-01-16T23:15:51.656Z"
   },
   {
    "duration": 4,
    "start_time": "2022-01-16T23:16:01.920Z"
   },
   {
    "duration": 76,
    "start_time": "2022-01-16T23:16:01.926Z"
   },
   {
    "duration": 20,
    "start_time": "2022-01-16T23:16:02.005Z"
   },
   {
    "duration": 17,
    "start_time": "2022-01-16T23:16:02.028Z"
   },
   {
    "duration": 54,
    "start_time": "2022-01-16T23:16:02.048Z"
   },
   {
    "duration": 8,
    "start_time": "2022-01-16T23:16:02.105Z"
   },
   {
    "duration": 10,
    "start_time": "2022-01-16T23:16:02.116Z"
   },
   {
    "duration": 15,
    "start_time": "2022-01-16T23:16:02.129Z"
   },
   {
    "duration": 7,
    "start_time": "2022-01-16T23:16:02.152Z"
   },
   {
    "duration": 30,
    "start_time": "2022-01-16T23:16:02.205Z"
   },
   {
    "duration": 84,
    "start_time": "2022-01-16T23:16:02.238Z"
   },
   {
    "duration": 6,
    "start_time": "2022-01-16T23:16:02.325Z"
   },
   {
    "duration": 8,
    "start_time": "2022-01-16T23:16:02.334Z"
   },
   {
    "duration": 20,
    "start_time": "2022-01-16T23:16:02.345Z"
   },
   {
    "duration": 51,
    "start_time": "2022-01-16T23:16:02.368Z"
   },
   {
    "duration": 27,
    "start_time": "2022-01-16T23:16:02.422Z"
   },
   {
    "duration": 50,
    "start_time": "2022-01-16T23:16:02.452Z"
   },
   {
    "duration": 16,
    "start_time": "2022-01-16T23:16:02.505Z"
   },
   {
    "duration": 27,
    "start_time": "2022-01-16T23:16:02.524Z"
   },
   {
    "duration": 57,
    "start_time": "2022-01-16T23:16:02.554Z"
   },
   {
    "duration": 25,
    "start_time": "2022-01-16T23:16:02.614Z"
   },
   {
    "duration": 13,
    "start_time": "2022-01-16T23:16:02.642Z"
   },
   {
    "duration": 57,
    "start_time": "2022-01-16T23:16:02.658Z"
   },
   {
    "duration": 11,
    "start_time": "2022-01-16T23:16:02.717Z"
   },
   {
    "duration": 4639,
    "start_time": "2022-01-16T23:16:02.731Z"
   },
   {
    "duration": 5,
    "start_time": "2022-01-16T23:16:07.372Z"
   },
   {
    "duration": 54,
    "start_time": "2022-01-16T23:16:07.382Z"
   },
   {
    "duration": 10,
    "start_time": "2022-01-16T23:16:07.439Z"
   },
   {
    "duration": 11,
    "start_time": "2022-01-16T23:16:07.451Z"
   },
   {
    "duration": 39,
    "start_time": "2022-01-16T23:16:07.465Z"
   },
   {
    "duration": 22,
    "start_time": "2022-01-16T23:16:07.506Z"
   },
   {
    "duration": 21,
    "start_time": "2022-01-16T23:16:07.531Z"
   },
   {
    "duration": 59,
    "start_time": "2022-01-16T23:16:07.555Z"
   },
   {
    "duration": 16,
    "start_time": "2022-01-16T23:16:07.616Z"
   },
   {
    "duration": 12,
    "start_time": "2022-01-16T23:16:07.634Z"
   },
   {
    "duration": 54,
    "start_time": "2022-01-16T23:16:07.648Z"
   },
   {
    "duration": 8,
    "start_time": "2022-01-16T23:16:07.704Z"
   },
   {
    "duration": 16,
    "start_time": "2022-01-16T23:16:07.714Z"
   },
   {
    "duration": 12,
    "start_time": "2022-01-16T23:16:07.732Z"
   },
   {
    "duration": 77,
    "start_time": "2022-01-16T23:16:07.747Z"
   },
   {
    "duration": 8,
    "start_time": "2022-01-16T23:16:07.826Z"
   },
   {
    "duration": 11,
    "start_time": "2022-01-16T23:16:07.836Z"
   },
   {
    "duration": 53,
    "start_time": "2022-01-16T23:16:07.849Z"
   },
   {
    "duration": 25,
    "start_time": "2022-01-16T23:16:07.905Z"
   },
   {
    "duration": 5512,
    "start_time": "2022-01-16T23:19:21.959Z"
   },
   {
    "duration": 26,
    "start_time": "2022-01-16T23:20:08.287Z"
   },
   {
    "duration": 7214,
    "start_time": "2022-01-16T23:20:23.045Z"
   },
   {
    "duration": 5828,
    "start_time": "2022-01-16T23:20:41.429Z"
   },
   {
    "duration": 5823,
    "start_time": "2022-01-16T23:21:05.463Z"
   },
   {
    "duration": 5573,
    "start_time": "2022-01-16T23:22:00.926Z"
   },
   {
    "duration": 5677,
    "start_time": "2022-01-16T23:23:41.167Z"
   },
   {
    "duration": 4,
    "start_time": "2022-01-16T23:23:49.842Z"
   },
   {
    "duration": 69,
    "start_time": "2022-01-16T23:23:49.849Z"
   },
   {
    "duration": 20,
    "start_time": "2022-01-16T23:23:49.921Z"
   },
   {
    "duration": 17,
    "start_time": "2022-01-16T23:23:49.944Z"
   },
   {
    "duration": 47,
    "start_time": "2022-01-16T23:23:49.964Z"
   },
   {
    "duration": 8,
    "start_time": "2022-01-16T23:23:50.013Z"
   },
   {
    "duration": 8,
    "start_time": "2022-01-16T23:23:50.024Z"
   },
   {
    "duration": 6,
    "start_time": "2022-01-16T23:23:50.036Z"
   },
   {
    "duration": 7,
    "start_time": "2022-01-16T23:23:50.045Z"
   },
   {
    "duration": 72,
    "start_time": "2022-01-16T23:23:50.055Z"
   },
   {
    "duration": 80,
    "start_time": "2022-01-16T23:23:50.129Z"
   },
   {
    "duration": 6,
    "start_time": "2022-01-16T23:23:50.211Z"
   },
   {
    "duration": 11,
    "start_time": "2022-01-16T23:23:50.219Z"
   },
   {
    "duration": 18,
    "start_time": "2022-01-16T23:23:50.232Z"
   },
   {
    "duration": 52,
    "start_time": "2022-01-16T23:23:50.252Z"
   },
   {
    "duration": 26,
    "start_time": "2022-01-16T23:23:50.307Z"
   },
   {
    "duration": 22,
    "start_time": "2022-01-16T23:23:50.336Z"
   },
   {
    "duration": 42,
    "start_time": "2022-01-16T23:23:50.361Z"
   },
   {
    "duration": 27,
    "start_time": "2022-01-16T23:23:50.406Z"
   },
   {
    "duration": 25,
    "start_time": "2022-01-16T23:23:50.435Z"
   },
   {
    "duration": 48,
    "start_time": "2022-01-16T23:23:50.463Z"
   },
   {
    "duration": 13,
    "start_time": "2022-01-16T23:23:50.514Z"
   },
   {
    "duration": 29,
    "start_time": "2022-01-16T23:23:50.532Z"
   },
   {
    "duration": 38,
    "start_time": "2022-01-16T23:23:50.564Z"
   },
   {
    "duration": 4560,
    "start_time": "2022-01-16T23:23:50.604Z"
   },
   {
    "duration": 5,
    "start_time": "2022-01-16T23:23:55.167Z"
   },
   {
    "duration": 61,
    "start_time": "2022-01-16T23:23:55.175Z"
   },
   {
    "duration": 11,
    "start_time": "2022-01-16T23:23:55.239Z"
   },
   {
    "duration": 14,
    "start_time": "2022-01-16T23:23:55.253Z"
   },
   {
    "duration": 8,
    "start_time": "2022-01-16T23:23:55.302Z"
   },
   {
    "duration": 23,
    "start_time": "2022-01-16T23:23:55.314Z"
   },
   {
    "duration": 61,
    "start_time": "2022-01-16T23:23:55.341Z"
   },
   {
    "duration": 27,
    "start_time": "2022-01-16T23:23:55.405Z"
   },
   {
    "duration": 17,
    "start_time": "2022-01-16T23:23:55.435Z"
   },
   {
    "duration": 51,
    "start_time": "2022-01-16T23:23:55.455Z"
   },
   {
    "duration": 18,
    "start_time": "2022-01-16T23:23:55.509Z"
   },
   {
    "duration": 10,
    "start_time": "2022-01-16T23:23:55.530Z"
   },
   {
    "duration": 61,
    "start_time": "2022-01-16T23:23:55.542Z"
   },
   {
    "duration": 15,
    "start_time": "2022-01-16T23:23:55.606Z"
   },
   {
    "duration": 40,
    "start_time": "2022-01-16T23:23:55.624Z"
   },
   {
    "duration": 10,
    "start_time": "2022-01-16T23:23:55.700Z"
   },
   {
    "duration": 11,
    "start_time": "2022-01-16T23:23:55.713Z"
   },
   {
    "duration": 24,
    "start_time": "2022-01-16T23:23:55.727Z"
   },
   {
    "duration": 72,
    "start_time": "2022-01-16T23:23:55.754Z"
   },
   {
    "duration": 6037,
    "start_time": "2022-01-16T23:23:55.829Z"
   },
   {
    "duration": 5587,
    "start_time": "2022-01-16T23:24:51.341Z"
   },
   {
    "duration": 339,
    "start_time": "2022-01-16T23:25:34.540Z"
   },
   {
    "duration": 306,
    "start_time": "2022-01-16T23:25:39.587Z"
   },
   {
    "duration": 331,
    "start_time": "2022-01-16T23:25:51.773Z"
   },
   {
    "duration": 6,
    "start_time": "2022-01-16T23:25:56.499Z"
   },
   {
    "duration": 125,
    "start_time": "2022-01-16T23:27:39.210Z"
   },
   {
    "duration": 7,
    "start_time": "2022-01-16T23:27:44.461Z"
   },
   {
    "duration": 6,
    "start_time": "2022-01-16T23:28:48.098Z"
   },
   {
    "duration": 10,
    "start_time": "2022-01-16T23:29:03.184Z"
   },
   {
    "duration": 6,
    "start_time": "2022-01-16T23:29:56.194Z"
   },
   {
    "duration": 11,
    "start_time": "2022-01-16T23:29:58.277Z"
   },
   {
    "duration": 315,
    "start_time": "2022-01-16T23:32:36.447Z"
   },
   {
    "duration": 319,
    "start_time": "2022-01-16T23:33:10.727Z"
   },
   {
    "duration": 97,
    "start_time": "2022-01-16T23:34:25.518Z"
   },
   {
    "duration": 8,
    "start_time": "2022-01-16T23:34:49.353Z"
   },
   {
    "duration": 11,
    "start_time": "2022-01-16T23:38:45.115Z"
   },
   {
    "duration": 27,
    "start_time": "2022-01-16T23:42:43.136Z"
   },
   {
    "duration": 299,
    "start_time": "2022-01-16T23:43:06.542Z"
   },
   {
    "duration": 28,
    "start_time": "2022-01-16T23:43:11.268Z"
   },
   {
    "duration": 12,
    "start_time": "2022-01-16T23:43:12.466Z"
   },
   {
    "duration": 22,
    "start_time": "2022-01-16T23:44:14.594Z"
   },
   {
    "duration": 3,
    "start_time": "2022-01-16T23:44:42.675Z"
   },
   {
    "duration": 72,
    "start_time": "2022-01-16T23:44:42.680Z"
   },
   {
    "duration": 19,
    "start_time": "2022-01-16T23:44:42.755Z"
   },
   {
    "duration": 15,
    "start_time": "2022-01-16T23:44:42.802Z"
   },
   {
    "duration": 13,
    "start_time": "2022-01-16T23:44:42.819Z"
   },
   {
    "duration": 7,
    "start_time": "2022-01-16T23:44:42.834Z"
   },
   {
    "duration": 6,
    "start_time": "2022-01-16T23:44:42.844Z"
   },
   {
    "duration": 6,
    "start_time": "2022-01-16T23:44:42.903Z"
   },
   {
    "duration": 10,
    "start_time": "2022-01-16T23:44:42.912Z"
   },
   {
    "duration": 30,
    "start_time": "2022-01-16T23:44:42.925Z"
   },
   {
    "duration": 97,
    "start_time": "2022-01-16T23:44:42.957Z"
   },
   {
    "duration": 7,
    "start_time": "2022-01-16T23:44:43.056Z"
   },
   {
    "duration": 10,
    "start_time": "2022-01-16T23:44:43.066Z"
   },
   {
    "duration": 16,
    "start_time": "2022-01-16T23:44:43.101Z"
   },
   {
    "duration": 24,
    "start_time": "2022-01-16T23:44:43.120Z"
   },
   {
    "duration": 60,
    "start_time": "2022-01-16T23:44:43.146Z"
   },
   {
    "duration": 28,
    "start_time": "2022-01-16T23:44:43.209Z"
   },
   {
    "duration": 16,
    "start_time": "2022-01-16T23:44:43.239Z"
   },
   {
    "duration": 59,
    "start_time": "2022-01-16T23:44:43.258Z"
   },
   {
    "duration": 28,
    "start_time": "2022-01-16T23:44:43.319Z"
   },
   {
    "duration": 25,
    "start_time": "2022-01-16T23:44:43.349Z"
   },
   {
    "duration": 15,
    "start_time": "2022-01-16T23:44:43.401Z"
   },
   {
    "duration": 25,
    "start_time": "2022-01-16T23:44:43.425Z"
   },
   {
    "duration": 11,
    "start_time": "2022-01-16T23:44:43.453Z"
   },
   {
    "duration": 4803,
    "start_time": "2022-01-16T23:44:43.501Z"
   },
   {
    "duration": 5,
    "start_time": "2022-01-16T23:44:48.307Z"
   },
   {
    "duration": 45,
    "start_time": "2022-01-16T23:44:48.316Z"
   },
   {
    "duration": 37,
    "start_time": "2022-01-16T23:44:48.364Z"
   },
   {
    "duration": 11,
    "start_time": "2022-01-16T23:44:48.404Z"
   },
   {
    "duration": 8,
    "start_time": "2022-01-16T23:44:48.417Z"
   },
   {
    "duration": 26,
    "start_time": "2022-01-16T23:44:48.428Z"
   },
   {
    "duration": 58,
    "start_time": "2022-01-16T23:44:48.456Z"
   },
   {
    "duration": 26,
    "start_time": "2022-01-16T23:44:48.516Z"
   },
   {
    "duration": 15,
    "start_time": "2022-01-16T23:44:48.544Z"
   },
   {
    "duration": 46,
    "start_time": "2022-01-16T23:44:48.561Z"
   },
   {
    "duration": 15,
    "start_time": "2022-01-16T23:44:48.609Z"
   },
   {
    "duration": 7,
    "start_time": "2022-01-16T23:44:48.627Z"
   },
   {
    "duration": 65,
    "start_time": "2022-01-16T23:44:48.637Z"
   },
   {
    "duration": 12,
    "start_time": "2022-01-16T23:44:48.704Z"
   },
   {
    "duration": 35,
    "start_time": "2022-01-16T23:44:48.718Z"
   },
   {
    "duration": 45,
    "start_time": "2022-01-16T23:44:48.755Z"
   },
   {
    "duration": 10,
    "start_time": "2022-01-16T23:44:48.803Z"
   },
   {
    "duration": 28,
    "start_time": "2022-01-16T23:44:48.815Z"
   },
   {
    "duration": 11,
    "start_time": "2022-01-16T23:44:48.845Z"
   },
   {
    "duration": 25,
    "start_time": "2022-01-16T23:44:48.901Z"
   },
   {
    "duration": 12,
    "start_time": "2022-01-16T23:44:48.928Z"
   },
   {
    "duration": 19,
    "start_time": "2022-01-16T23:45:29.833Z"
   },
   {
    "duration": 21,
    "start_time": "2022-01-16T23:45:38.577Z"
   },
   {
    "duration": 12,
    "start_time": "2022-01-16T23:45:48.289Z"
   },
   {
    "duration": 3,
    "start_time": "2022-01-16T23:45:52.823Z"
   },
   {
    "duration": 70,
    "start_time": "2022-01-16T23:45:52.829Z"
   },
   {
    "duration": 19,
    "start_time": "2022-01-16T23:45:52.902Z"
   },
   {
    "duration": 16,
    "start_time": "2022-01-16T23:45:52.924Z"
   },
   {
    "duration": 13,
    "start_time": "2022-01-16T23:45:52.942Z"
   },
   {
    "duration": 48,
    "start_time": "2022-01-16T23:45:52.958Z"
   },
   {
    "duration": 10,
    "start_time": "2022-01-16T23:45:53.008Z"
   },
   {
    "duration": 5,
    "start_time": "2022-01-16T23:45:53.022Z"
   },
   {
    "duration": 5,
    "start_time": "2022-01-16T23:45:53.030Z"
   },
   {
    "duration": 65,
    "start_time": "2022-01-16T23:45:53.037Z"
   },
   {
    "duration": 59,
    "start_time": "2022-01-16T23:45:53.104Z"
   },
   {
    "duration": 6,
    "start_time": "2022-01-16T23:45:53.166Z"
   },
   {
    "duration": 7,
    "start_time": "2022-01-16T23:45:53.200Z"
   },
   {
    "duration": 16,
    "start_time": "2022-01-16T23:45:53.210Z"
   },
   {
    "duration": 23,
    "start_time": "2022-01-16T23:45:53.228Z"
   },
   {
    "duration": 59,
    "start_time": "2022-01-16T23:45:53.253Z"
   },
   {
    "duration": 23,
    "start_time": "2022-01-16T23:45:53.314Z"
   },
   {
    "duration": 15,
    "start_time": "2022-01-16T23:45:53.340Z"
   },
   {
    "duration": 56,
    "start_time": "2022-01-16T23:45:53.358Z"
   },
   {
    "duration": 26,
    "start_time": "2022-01-16T23:45:53.416Z"
   },
   {
    "duration": 24,
    "start_time": "2022-01-16T23:45:53.444Z"
   },
   {
    "duration": 38,
    "start_time": "2022-01-16T23:45:53.470Z"
   },
   {
    "duration": 25,
    "start_time": "2022-01-16T23:45:53.514Z"
   },
   {
    "duration": 10,
    "start_time": "2022-01-16T23:45:53.543Z"
   },
   {
    "duration": 4546,
    "start_time": "2022-01-16T23:45:53.556Z"
   },
   {
    "duration": 4,
    "start_time": "2022-01-16T23:45:58.105Z"
   },
   {
    "duration": 41,
    "start_time": "2022-01-16T23:45:58.112Z"
   },
   {
    "duration": 10,
    "start_time": "2022-01-16T23:45:58.155Z"
   },
   {
    "duration": 42,
    "start_time": "2022-01-16T23:45:58.167Z"
   },
   {
    "duration": 6,
    "start_time": "2022-01-16T23:45:58.212Z"
   },
   {
    "duration": 21,
    "start_time": "2022-01-16T23:45:58.220Z"
   },
   {
    "duration": 58,
    "start_time": "2022-01-16T23:45:58.243Z"
   },
   {
    "duration": 26,
    "start_time": "2022-01-16T23:45:58.303Z"
   },
   {
    "duration": 23,
    "start_time": "2022-01-16T23:45:58.332Z"
   },
   {
    "duration": 12,
    "start_time": "2022-01-16T23:45:58.358Z"
   },
   {
    "duration": 42,
    "start_time": "2022-01-16T23:45:58.372Z"
   },
   {
    "duration": 8,
    "start_time": "2022-01-16T23:45:58.416Z"
   },
   {
    "duration": 15,
    "start_time": "2022-01-16T23:45:58.426Z"
   },
   {
    "duration": 58,
    "start_time": "2022-01-16T23:45:58.444Z"
   },
   {
    "duration": 39,
    "start_time": "2022-01-16T23:45:58.505Z"
   },
   {
    "duration": 11,
    "start_time": "2022-01-16T23:45:58.547Z"
   },
   {
    "duration": 44,
    "start_time": "2022-01-16T23:45:58.561Z"
   },
   {
    "duration": 30,
    "start_time": "2022-01-16T23:45:58.608Z"
   },
   {
    "duration": 13,
    "start_time": "2022-01-16T23:45:58.640Z"
   },
   {
    "duration": 66,
    "start_time": "2022-01-16T23:45:58.656Z"
   },
   {
    "duration": 12,
    "start_time": "2022-01-16T23:45:58.724Z"
   },
   {
    "duration": 21,
    "start_time": "2022-01-16T23:46:56.988Z"
   },
   {
    "duration": 21,
    "start_time": "2022-01-16T23:47:14.625Z"
   },
   {
    "duration": 19,
    "start_time": "2022-01-16T23:48:14.031Z"
   },
   {
    "duration": 21,
    "start_time": "2022-01-16T23:48:33.186Z"
   },
   {
    "duration": 19,
    "start_time": "2022-01-16T23:48:40.434Z"
   },
   {
    "duration": 20,
    "start_time": "2022-01-16T23:48:45.967Z"
   },
   {
    "duration": 4,
    "start_time": "2022-01-16T23:48:50.878Z"
   },
   {
    "duration": 71,
    "start_time": "2022-01-16T23:48:50.885Z"
   },
   {
    "duration": 43,
    "start_time": "2022-01-16T23:48:50.959Z"
   },
   {
    "duration": 15,
    "start_time": "2022-01-16T23:48:51.005Z"
   },
   {
    "duration": 12,
    "start_time": "2022-01-16T23:48:51.023Z"
   },
   {
    "duration": 7,
    "start_time": "2022-01-16T23:48:51.038Z"
   },
   {
    "duration": 56,
    "start_time": "2022-01-16T23:48:51.048Z"
   },
   {
    "duration": 7,
    "start_time": "2022-01-16T23:48:51.109Z"
   },
   {
    "duration": 5,
    "start_time": "2022-01-16T23:48:51.119Z"
   },
   {
    "duration": 30,
    "start_time": "2022-01-16T23:48:51.126Z"
   },
   {
    "duration": 94,
    "start_time": "2022-01-16T23:48:51.158Z"
   },
   {
    "duration": 6,
    "start_time": "2022-01-16T23:48:51.255Z"
   },
   {
    "duration": 7,
    "start_time": "2022-01-16T23:48:51.263Z"
   },
   {
    "duration": 16,
    "start_time": "2022-01-16T23:48:51.300Z"
   },
   {
    "duration": 23,
    "start_time": "2022-01-16T23:48:51.319Z"
   },
   {
    "duration": 59,
    "start_time": "2022-01-16T23:48:51.344Z"
   },
   {
    "duration": 23,
    "start_time": "2022-01-16T23:48:51.406Z"
   },
   {
    "duration": 15,
    "start_time": "2022-01-16T23:48:51.432Z"
   },
   {
    "duration": 53,
    "start_time": "2022-01-16T23:48:51.449Z"
   },
   {
    "duration": 27,
    "start_time": "2022-01-16T23:48:51.504Z"
   },
   {
    "duration": 23,
    "start_time": "2022-01-16T23:48:51.534Z"
   },
   {
    "duration": 13,
    "start_time": "2022-01-16T23:48:51.559Z"
   },
   {
    "duration": 24,
    "start_time": "2022-01-16T23:48:51.603Z"
   },
   {
    "duration": 9,
    "start_time": "2022-01-16T23:48:51.630Z"
   },
   {
    "duration": 4620,
    "start_time": "2022-01-16T23:48:51.642Z"
   },
   {
    "duration": 5,
    "start_time": "2022-01-16T23:48:56.265Z"
   },
   {
    "duration": 55,
    "start_time": "2022-01-16T23:48:56.272Z"
   },
   {
    "duration": 11,
    "start_time": "2022-01-16T23:48:56.329Z"
   },
   {
    "duration": 13,
    "start_time": "2022-01-16T23:48:56.342Z"
   },
   {
    "duration": 43,
    "start_time": "2022-01-16T23:48:56.357Z"
   },
   {
    "duration": 21,
    "start_time": "2022-01-16T23:48:56.403Z"
   },
   {
    "duration": 23,
    "start_time": "2022-01-16T23:48:56.426Z"
   },
   {
    "duration": 55,
    "start_time": "2022-01-16T23:48:56.452Z"
   },
   {
    "duration": 16,
    "start_time": "2022-01-16T23:48:56.509Z"
   },
   {
    "duration": 13,
    "start_time": "2022-01-16T23:48:56.527Z"
   },
   {
    "duration": 17,
    "start_time": "2022-01-16T23:48:56.542Z"
   },
   {
    "duration": 45,
    "start_time": "2022-01-16T23:48:56.562Z"
   },
   {
    "duration": 15,
    "start_time": "2022-01-16T23:48:56.609Z"
   },
   {
    "duration": 11,
    "start_time": "2022-01-16T23:48:56.626Z"
   },
   {
    "duration": 77,
    "start_time": "2022-01-16T23:48:56.640Z"
   },
   {
    "duration": 8,
    "start_time": "2022-01-16T23:48:56.719Z"
   },
   {
    "duration": 12,
    "start_time": "2022-01-16T23:48:56.729Z"
   },
   {
    "duration": 59,
    "start_time": "2022-01-16T23:48:56.743Z"
   },
   {
    "duration": 12,
    "start_time": "2022-01-16T23:48:56.804Z"
   },
   {
    "duration": 28,
    "start_time": "2022-01-16T23:48:56.818Z"
   },
   {
    "duration": 11,
    "start_time": "2022-01-16T23:48:56.849Z"
   },
   {
    "duration": 5,
    "start_time": "2022-01-16T23:53:33.021Z"
   },
   {
    "duration": 31,
    "start_time": "2022-01-16T23:53:35.446Z"
   },
   {
    "duration": 31,
    "start_time": "2022-01-16T23:54:08.370Z"
   },
   {
    "duration": 4,
    "start_time": "2022-01-16T23:54:44.144Z"
   },
   {
    "duration": 29,
    "start_time": "2022-01-16T23:54:45.933Z"
   },
   {
    "duration": 3,
    "start_time": "2022-01-16T23:54:55.722Z"
   },
   {
    "duration": 73,
    "start_time": "2022-01-16T23:54:55.729Z"
   },
   {
    "duration": 23,
    "start_time": "2022-01-16T23:54:55.806Z"
   },
   {
    "duration": 21,
    "start_time": "2022-01-16T23:54:55.833Z"
   },
   {
    "duration": 59,
    "start_time": "2022-01-16T23:54:55.857Z"
   },
   {
    "duration": 7,
    "start_time": "2022-01-16T23:54:55.919Z"
   },
   {
    "duration": 11,
    "start_time": "2022-01-16T23:54:55.928Z"
   },
   {
    "duration": 9,
    "start_time": "2022-01-16T23:54:55.942Z"
   },
   {
    "duration": 6,
    "start_time": "2022-01-16T23:54:56.005Z"
   },
   {
    "duration": 31,
    "start_time": "2022-01-16T23:54:56.015Z"
   },
   {
    "duration": 96,
    "start_time": "2022-01-16T23:54:56.049Z"
   },
   {
    "duration": 6,
    "start_time": "2022-01-16T23:54:56.148Z"
   },
   {
    "duration": 8,
    "start_time": "2022-01-16T23:54:56.157Z"
   },
   {
    "duration": 42,
    "start_time": "2022-01-16T23:54:56.168Z"
   },
   {
    "duration": 22,
    "start_time": "2022-01-16T23:54:56.213Z"
   },
   {
    "duration": 27,
    "start_time": "2022-01-16T23:54:56.238Z"
   },
   {
    "duration": 52,
    "start_time": "2022-01-16T23:54:56.268Z"
   },
   {
    "duration": 16,
    "start_time": "2022-01-16T23:54:56.323Z"
   },
   {
    "duration": 32,
    "start_time": "2022-01-16T23:54:56.342Z"
   },
   {
    "duration": 48,
    "start_time": "2022-01-16T23:54:56.376Z"
   },
   {
    "duration": 24,
    "start_time": "2022-01-16T23:54:56.427Z"
   },
   {
    "duration": 13,
    "start_time": "2022-01-16T23:54:56.454Z"
   },
   {
    "duration": 54,
    "start_time": "2022-01-16T23:54:56.470Z"
   },
   {
    "duration": 11,
    "start_time": "2022-01-16T23:54:56.526Z"
   },
   {
    "duration": 4551,
    "start_time": "2022-01-16T23:54:56.540Z"
   },
   {
    "duration": 5,
    "start_time": "2022-01-16T23:55:01.101Z"
   },
   {
    "duration": 41,
    "start_time": "2022-01-16T23:55:01.112Z"
   },
   {
    "duration": 26,
    "start_time": "2022-01-16T23:55:01.157Z"
   },
   {
    "duration": 30,
    "start_time": "2022-01-16T23:55:01.185Z"
   },
   {
    "duration": 11,
    "start_time": "2022-01-16T23:55:01.218Z"
   },
   {
    "duration": 23,
    "start_time": "2022-01-16T23:55:01.232Z"
   },
   {
    "duration": 50,
    "start_time": "2022-01-16T23:55:01.257Z"
   },
   {
    "duration": 31,
    "start_time": "2022-01-16T23:55:01.309Z"
   },
   {
    "duration": 27,
    "start_time": "2022-01-16T23:55:01.342Z"
   },
   {
    "duration": 28,
    "start_time": "2022-01-16T23:55:01.372Z"
   },
   {
    "duration": 15,
    "start_time": "2022-01-16T23:55:01.403Z"
   },
   {
    "duration": 32,
    "start_time": "2022-01-16T23:55:01.420Z"
   },
   {
    "duration": 19,
    "start_time": "2022-01-16T23:55:01.454Z"
   },
   {
    "duration": 33,
    "start_time": "2022-01-16T23:55:01.476Z"
   },
   {
    "duration": 48,
    "start_time": "2022-01-16T23:55:01.512Z"
   },
   {
    "duration": 9,
    "start_time": "2022-01-16T23:55:01.562Z"
   },
   {
    "duration": 29,
    "start_time": "2022-01-16T23:55:01.573Z"
   },
   {
    "duration": 43,
    "start_time": "2022-01-16T23:55:01.605Z"
   },
   {
    "duration": 13,
    "start_time": "2022-01-16T23:55:01.650Z"
   },
   {
    "duration": 50,
    "start_time": "2022-01-16T23:55:01.665Z"
   },
   {
    "duration": 12,
    "start_time": "2022-01-16T23:55:01.718Z"
   },
   {
    "duration": 26,
    "start_time": "2022-01-17T00:00:51.307Z"
   },
   {
    "duration": 13,
    "start_time": "2022-01-17T00:01:11.925Z"
   },
   {
    "duration": 25,
    "start_time": "2022-01-17T00:02:02.809Z"
   },
   {
    "duration": 25,
    "start_time": "2022-01-17T00:02:18.383Z"
   },
   {
    "duration": 4,
    "start_time": "2022-01-17T00:02:20.337Z"
   },
   {
    "duration": 74,
    "start_time": "2022-01-17T00:02:20.344Z"
   },
   {
    "duration": 20,
    "start_time": "2022-01-17T00:02:20.421Z"
   },
   {
    "duration": 16,
    "start_time": "2022-01-17T00:02:20.444Z"
   },
   {
    "duration": 14,
    "start_time": "2022-01-17T00:02:20.500Z"
   },
   {
    "duration": 8,
    "start_time": "2022-01-17T00:02:20.517Z"
   },
   {
    "duration": 7,
    "start_time": "2022-01-17T00:02:20.529Z"
   },
   {
    "duration": 10,
    "start_time": "2022-01-17T00:02:20.538Z"
   },
   {
    "duration": 54,
    "start_time": "2022-01-17T00:02:20.550Z"
   },
   {
    "duration": 37,
    "start_time": "2022-01-17T00:02:20.606Z"
   },
   {
    "duration": 78,
    "start_time": "2022-01-17T00:02:20.645Z"
   },
   {
    "duration": 6,
    "start_time": "2022-01-17T00:02:20.725Z"
   },
   {
    "duration": 8,
    "start_time": "2022-01-17T00:02:20.734Z"
   },
   {
    "duration": 18,
    "start_time": "2022-01-17T00:02:20.744Z"
   },
   {
    "duration": 51,
    "start_time": "2022-01-17T00:02:20.764Z"
   },
   {
    "duration": 26,
    "start_time": "2022-01-17T00:02:20.818Z"
   },
   {
    "duration": 23,
    "start_time": "2022-01-17T00:02:20.846Z"
   },
   {
    "duration": 17,
    "start_time": "2022-01-17T00:02:20.900Z"
   },
   {
    "duration": 26,
    "start_time": "2022-01-17T00:02:20.922Z"
   },
   {
    "duration": 59,
    "start_time": "2022-01-17T00:02:20.951Z"
   },
   {
    "duration": 25,
    "start_time": "2022-01-17T00:02:21.012Z"
   },
   {
    "duration": 13,
    "start_time": "2022-01-17T00:02:21.040Z"
   },
   {
    "duration": 52,
    "start_time": "2022-01-17T00:02:21.055Z"
   },
   {
    "duration": 11,
    "start_time": "2022-01-17T00:02:21.110Z"
   },
   {
    "duration": 4584,
    "start_time": "2022-01-17T00:02:21.123Z"
   },
   {
    "duration": 5,
    "start_time": "2022-01-17T00:02:25.710Z"
   },
   {
    "duration": 44,
    "start_time": "2022-01-17T00:02:25.717Z"
   },
   {
    "duration": 39,
    "start_time": "2022-01-17T00:02:25.764Z"
   },
   {
    "duration": 11,
    "start_time": "2022-01-17T00:02:25.806Z"
   },
   {
    "duration": 6,
    "start_time": "2022-01-17T00:02:25.820Z"
   },
   {
    "duration": 21,
    "start_time": "2022-01-17T00:02:25.829Z"
   },
   {
    "duration": 61,
    "start_time": "2022-01-17T00:02:25.854Z"
   },
   {
    "duration": 28,
    "start_time": "2022-01-17T00:02:25.917Z"
   },
   {
    "duration": 16,
    "start_time": "2022-01-17T00:02:25.947Z"
   },
   {
    "duration": 43,
    "start_time": "2022-01-17T00:02:25.966Z"
   },
   {
    "duration": 17,
    "start_time": "2022-01-17T00:02:26.012Z"
   },
   {
    "duration": 9,
    "start_time": "2022-01-17T00:02:26.031Z"
   },
   {
    "duration": 17,
    "start_time": "2022-01-17T00:02:26.042Z"
   },
   {
    "duration": 13,
    "start_time": "2022-01-17T00:02:26.101Z"
   },
   {
    "duration": 37,
    "start_time": "2022-01-17T00:02:26.117Z"
   },
   {
    "duration": 8,
    "start_time": "2022-01-17T00:02:26.157Z"
   },
   {
    "duration": 42,
    "start_time": "2022-01-17T00:02:26.167Z"
   },
   {
    "duration": 30,
    "start_time": "2022-01-17T00:02:26.211Z"
   },
   {
    "duration": 13,
    "start_time": "2022-01-17T00:02:26.243Z"
   },
   {
    "duration": 60,
    "start_time": "2022-01-17T00:02:26.258Z"
   },
   {
    "duration": 11,
    "start_time": "2022-01-17T00:02:26.321Z"
   },
   {
    "duration": 37,
    "start_time": "2022-01-17T00:02:26.335Z"
   },
   {
    "duration": 31,
    "start_time": "2022-01-17T00:02:26.375Z"
   },
   {
    "duration": 26,
    "start_time": "2022-01-17T00:02:26.408Z"
   },
   {
    "duration": 24,
    "start_time": "2022-01-17T00:02:42.820Z"
   },
   {
    "duration": 36,
    "start_time": "2022-01-17T00:03:07.522Z"
   },
   {
    "duration": 1192,
    "start_time": "2022-01-17T00:03:29.309Z"
   },
   {
    "duration": 1132,
    "start_time": "2022-01-17T00:05:57.368Z"
   },
   {
    "duration": 1142,
    "start_time": "2022-01-17T00:06:25.940Z"
   },
   {
    "duration": 3,
    "start_time": "2022-01-17T00:06:39.074Z"
   },
   {
    "duration": 70,
    "start_time": "2022-01-17T00:06:39.079Z"
   },
   {
    "duration": 19,
    "start_time": "2022-01-17T00:06:39.152Z"
   },
   {
    "duration": 14,
    "start_time": "2022-01-17T00:06:39.202Z"
   },
   {
    "duration": 13,
    "start_time": "2022-01-17T00:06:39.219Z"
   },
   {
    "duration": 7,
    "start_time": "2022-01-17T00:06:39.234Z"
   },
   {
    "duration": 7,
    "start_time": "2022-01-17T00:06:39.245Z"
   },
   {
    "duration": 6,
    "start_time": "2022-01-17T00:06:39.301Z"
   },
   {
    "duration": 6,
    "start_time": "2022-01-17T00:06:39.309Z"
   },
   {
    "duration": 29,
    "start_time": "2022-01-17T00:06:39.317Z"
   },
   {
    "duration": 97,
    "start_time": "2022-01-17T00:06:39.348Z"
   },
   {
    "duration": 6,
    "start_time": "2022-01-17T00:06:39.448Z"
   },
   {
    "duration": 7,
    "start_time": "2022-01-17T00:06:39.456Z"
   },
   {
    "duration": 41,
    "start_time": "2022-01-17T00:06:39.466Z"
   },
   {
    "duration": 23,
    "start_time": "2022-01-17T00:06:39.509Z"
   },
   {
    "duration": 26,
    "start_time": "2022-01-17T00:06:39.534Z"
   },
   {
    "duration": 57,
    "start_time": "2022-01-17T00:06:39.562Z"
   },
   {
    "duration": 16,
    "start_time": "2022-01-17T00:06:39.621Z"
   },
   {
    "duration": 27,
    "start_time": "2022-01-17T00:06:39.642Z"
   },
   {
    "duration": 51,
    "start_time": "2022-01-17T00:06:39.673Z"
   },
   {
    "duration": 24,
    "start_time": "2022-01-17T00:06:39.726Z"
   },
   {
    "duration": 13,
    "start_time": "2022-01-17T00:06:39.752Z"
   },
   {
    "duration": 52,
    "start_time": "2022-01-17T00:06:39.768Z"
   },
   {
    "duration": 10,
    "start_time": "2022-01-17T00:06:39.822Z"
   },
   {
    "duration": 4631,
    "start_time": "2022-01-17T00:06:39.835Z"
   },
   {
    "duration": 4,
    "start_time": "2022-01-17T00:06:44.468Z"
   },
   {
    "duration": 57,
    "start_time": "2022-01-17T00:06:44.475Z"
   },
   {
    "duration": 10,
    "start_time": "2022-01-17T00:06:44.534Z"
   },
   {
    "duration": 12,
    "start_time": "2022-01-17T00:06:44.546Z"
   },
   {
    "duration": 7,
    "start_time": "2022-01-17T00:06:44.560Z"
   },
   {
    "duration": 20,
    "start_time": "2022-01-17T00:06:44.601Z"
   },
   {
    "duration": 23,
    "start_time": "2022-01-17T00:06:44.624Z"
   },
   {
    "duration": 53,
    "start_time": "2022-01-17T00:06:44.649Z"
   },
   {
    "duration": 16,
    "start_time": "2022-01-17T00:06:44.704Z"
   },
   {
    "duration": 12,
    "start_time": "2022-01-17T00:06:44.722Z"
   },
   {
    "duration": 16,
    "start_time": "2022-01-17T00:06:44.736Z"
   },
   {
    "duration": 47,
    "start_time": "2022-01-17T00:06:44.754Z"
   },
   {
    "duration": 17,
    "start_time": "2022-01-17T00:06:44.803Z"
   },
   {
    "duration": 11,
    "start_time": "2022-01-17T00:06:44.822Z"
   },
   {
    "duration": 76,
    "start_time": "2022-01-17T00:06:44.836Z"
   },
   {
    "duration": 7,
    "start_time": "2022-01-17T00:06:44.915Z"
   },
   {
    "duration": 9,
    "start_time": "2022-01-17T00:06:44.925Z"
   },
   {
    "duration": 27,
    "start_time": "2022-01-17T00:06:44.936Z"
   },
   {
    "duration": 43,
    "start_time": "2022-01-17T00:06:44.965Z"
   },
   {
    "duration": 26,
    "start_time": "2022-01-17T00:06:45.011Z"
   },
   {
    "duration": 11,
    "start_time": "2022-01-17T00:06:45.040Z"
   },
   {
    "duration": 70,
    "start_time": "2022-01-17T00:06:45.054Z"
   },
   {
    "duration": 12,
    "start_time": "2022-01-17T00:06:45.126Z"
   },
   {
    "duration": 28,
    "start_time": "2022-01-17T00:06:45.140Z"
   },
   {
    "duration": 3,
    "start_time": "2022-01-17T00:07:38.222Z"
   },
   {
    "duration": 68,
    "start_time": "2022-01-17T00:07:38.228Z"
   },
   {
    "duration": 20,
    "start_time": "2022-01-17T00:07:38.299Z"
   },
   {
    "duration": 15,
    "start_time": "2022-01-17T00:07:38.322Z"
   },
   {
    "duration": 13,
    "start_time": "2022-01-17T00:07:38.340Z"
   },
   {
    "duration": 52,
    "start_time": "2022-01-17T00:07:38.355Z"
   },
   {
    "duration": 8,
    "start_time": "2022-01-17T00:07:38.410Z"
   },
   {
    "duration": 7,
    "start_time": "2022-01-17T00:07:38.421Z"
   },
   {
    "duration": 7,
    "start_time": "2022-01-17T00:07:38.430Z"
   },
   {
    "duration": 74,
    "start_time": "2022-01-17T00:07:38.439Z"
   },
   {
    "duration": 59,
    "start_time": "2022-01-17T00:07:38.516Z"
   },
   {
    "duration": 26,
    "start_time": "2022-01-17T00:07:38.577Z"
   },
   {
    "duration": 7,
    "start_time": "2022-01-17T00:07:38.606Z"
   },
   {
    "duration": 21,
    "start_time": "2022-01-17T00:07:38.615Z"
   },
   {
    "duration": 24,
    "start_time": "2022-01-17T00:07:38.639Z"
   },
   {
    "duration": 58,
    "start_time": "2022-01-17T00:07:38.665Z"
   },
   {
    "duration": 24,
    "start_time": "2022-01-17T00:07:38.725Z"
   },
   {
    "duration": 16,
    "start_time": "2022-01-17T00:07:38.751Z"
   },
   {
    "duration": 25,
    "start_time": "2022-01-17T00:07:38.801Z"
   },
   {
    "duration": 26,
    "start_time": "2022-01-17T00:07:38.829Z"
   },
   {
    "duration": 53,
    "start_time": "2022-01-17T00:07:38.857Z"
   },
   {
    "duration": 13,
    "start_time": "2022-01-17T00:07:38.912Z"
   },
   {
    "duration": 26,
    "start_time": "2022-01-17T00:07:38.928Z"
   },
   {
    "duration": 10,
    "start_time": "2022-01-17T00:07:38.956Z"
   },
   {
    "duration": 4872,
    "start_time": "2022-01-17T00:07:39.000Z"
   },
   {
    "duration": 5,
    "start_time": "2022-01-17T00:07:43.874Z"
   },
   {
    "duration": 53,
    "start_time": "2022-01-17T00:07:43.881Z"
   },
   {
    "duration": 10,
    "start_time": "2022-01-17T00:07:43.937Z"
   },
   {
    "duration": 12,
    "start_time": "2022-01-17T00:07:43.949Z"
   },
   {
    "duration": 42,
    "start_time": "2022-01-17T00:07:43.963Z"
   },
   {
    "duration": 20,
    "start_time": "2022-01-17T00:07:44.008Z"
   },
   {
    "duration": 24,
    "start_time": "2022-01-17T00:07:44.031Z"
   },
   {
    "duration": 62,
    "start_time": "2022-01-17T00:07:44.057Z"
   },
   {
    "duration": 15,
    "start_time": "2022-01-17T00:07:44.122Z"
   },
   {
    "duration": 13,
    "start_time": "2022-01-17T00:07:44.140Z"
   },
   {
    "duration": 47,
    "start_time": "2022-01-17T00:07:44.155Z"
   },
   {
    "duration": 7,
    "start_time": "2022-01-17T00:07:44.205Z"
   },
   {
    "duration": 17,
    "start_time": "2022-01-17T00:07:44.215Z"
   },
   {
    "duration": 11,
    "start_time": "2022-01-17T00:07:44.234Z"
   },
   {
    "duration": 75,
    "start_time": "2022-01-17T00:07:44.247Z"
   },
   {
    "duration": 7,
    "start_time": "2022-01-17T00:07:44.325Z"
   },
   {
    "duration": 14,
    "start_time": "2022-01-17T00:07:44.334Z"
   },
   {
    "duration": 61,
    "start_time": "2022-01-17T00:07:44.350Z"
   },
   {
    "duration": 12,
    "start_time": "2022-01-17T00:07:44.413Z"
   },
   {
    "duration": 27,
    "start_time": "2022-01-17T00:07:44.427Z"
   },
   {
    "duration": 45,
    "start_time": "2022-01-17T00:07:44.456Z"
   },
   {
    "duration": 27,
    "start_time": "2022-01-17T00:07:44.503Z"
   },
   {
    "duration": 12,
    "start_time": "2022-01-17T00:07:44.533Z"
   },
   {
    "duration": 54,
    "start_time": "2022-01-17T00:07:44.548Z"
   },
   {
    "duration": 25,
    "start_time": "2022-01-17T00:08:22.086Z"
   },
   {
    "duration": 14,
    "start_time": "2022-01-17T00:10:12.262Z"
   },
   {
    "duration": 284,
    "start_time": "2022-01-17T11:09:04.443Z"
   },
   {
    "duration": 596,
    "start_time": "2022-01-17T11:09:20.659Z"
   },
   {
    "duration": 50,
    "start_time": "2022-01-17T11:09:21.256Z"
   },
   {
    "duration": 17,
    "start_time": "2022-01-17T11:09:21.307Z"
   },
   {
    "duration": 10,
    "start_time": "2022-01-17T11:09:21.326Z"
   },
   {
    "duration": 8,
    "start_time": "2022-01-17T11:09:21.338Z"
   },
   {
    "duration": 5,
    "start_time": "2022-01-17T11:09:21.347Z"
   },
   {
    "duration": 21,
    "start_time": "2022-01-17T11:09:21.354Z"
   },
   {
    "duration": 5,
    "start_time": "2022-01-17T11:09:21.379Z"
   },
   {
    "duration": 3,
    "start_time": "2022-01-17T11:09:21.386Z"
   },
   {
    "duration": 20,
    "start_time": "2022-01-17T11:09:21.391Z"
   },
   {
    "duration": 67,
    "start_time": "2022-01-17T11:09:21.412Z"
   },
   {
    "duration": 4,
    "start_time": "2022-01-17T11:09:21.480Z"
   },
   {
    "duration": 4,
    "start_time": "2022-01-17T11:09:21.486Z"
   },
   {
    "duration": 11,
    "start_time": "2022-01-17T11:09:21.492Z"
   },
   {
    "duration": 12,
    "start_time": "2022-01-17T11:09:21.505Z"
   },
   {
    "duration": 15,
    "start_time": "2022-01-17T11:09:21.518Z"
   },
   {
    "duration": 41,
    "start_time": "2022-01-17T11:09:21.534Z"
   },
   {
    "duration": 11,
    "start_time": "2022-01-17T11:09:21.577Z"
   },
   {
    "duration": 15,
    "start_time": "2022-01-17T11:09:21.589Z"
   },
   {
    "duration": 14,
    "start_time": "2022-01-17T11:09:21.605Z"
   },
   {
    "duration": 12,
    "start_time": "2022-01-17T11:09:21.621Z"
   },
   {
    "duration": 8,
    "start_time": "2022-01-17T11:09:21.635Z"
   },
   {
    "duration": 14,
    "start_time": "2022-01-17T11:09:21.674Z"
   },
   {
    "duration": 6,
    "start_time": "2022-01-17T11:09:21.690Z"
   },
   {
    "duration": 3698,
    "start_time": "2022-01-17T11:09:21.698Z"
   },
   {
    "duration": 3,
    "start_time": "2022-01-17T11:09:25.398Z"
   },
   {
    "duration": 23,
    "start_time": "2022-01-17T11:09:25.402Z"
   },
   {
    "duration": 5,
    "start_time": "2022-01-17T11:09:25.427Z"
   },
   {
    "duration": 8,
    "start_time": "2022-01-17T11:09:25.434Z"
   },
   {
    "duration": 4,
    "start_time": "2022-01-17T11:09:25.443Z"
   },
   {
    "duration": 11,
    "start_time": "2022-01-17T11:09:25.471Z"
   },
   {
    "duration": 12,
    "start_time": "2022-01-17T11:09:25.484Z"
   },
   {
    "duration": 15,
    "start_time": "2022-01-17T11:09:25.498Z"
   },
   {
    "duration": 9,
    "start_time": "2022-01-17T11:09:25.514Z"
   },
   {
    "duration": 7,
    "start_time": "2022-01-17T11:09:25.524Z"
   },
   {
    "duration": 41,
    "start_time": "2022-01-17T11:09:25.533Z"
   },
   {
    "duration": 6,
    "start_time": "2022-01-17T11:09:25.576Z"
   },
   {
    "duration": 10,
    "start_time": "2022-01-17T11:09:25.584Z"
   },
   {
    "duration": 7,
    "start_time": "2022-01-17T11:09:25.596Z"
   },
   {
    "duration": 22,
    "start_time": "2022-01-17T11:09:25.605Z"
   },
   {
    "duration": 50,
    "start_time": "2022-01-17T11:09:25.629Z"
   },
   {
    "duration": 7,
    "start_time": "2022-01-17T11:09:25.681Z"
   },
   {
    "duration": 20,
    "start_time": "2022-01-17T11:09:25.689Z"
   },
   {
    "duration": 982,
    "start_time": "2022-01-17T11:09:25.711Z"
   },
   {
    "duration": 2463,
    "start_time": "2022-01-17T11:09:24.232Z"
   },
   {
    "duration": 2460,
    "start_time": "2022-01-17T11:09:24.236Z"
   },
   {
    "duration": 2457,
    "start_time": "2022-01-17T11:09:24.240Z"
   },
   {
    "duration": 2450,
    "start_time": "2022-01-17T11:09:24.247Z"
   },
   {
    "duration": 2447,
    "start_time": "2022-01-17T11:09:24.251Z"
   },
   {
    "duration": 2444,
    "start_time": "2022-01-17T11:09:24.255Z"
   },
   {
    "duration": 2441,
    "start_time": "2022-01-17T11:09:24.259Z"
   },
   {
    "duration": 11,
    "start_time": "2022-01-17T11:10:20.543Z"
   },
   {
    "duration": 15,
    "start_time": "2022-01-17T11:10:23.027Z"
   },
   {
    "duration": 8,
    "start_time": "2022-01-17T11:10:23.756Z"
   },
   {
    "duration": 16,
    "start_time": "2022-01-17T11:10:27.406Z"
   },
   {
    "duration": 8,
    "start_time": "2022-01-17T11:10:27.789Z"
   },
   {
    "duration": 17,
    "start_time": "2022-01-17T11:10:29.691Z"
   },
   {
    "duration": 9,
    "start_time": "2022-01-17T11:10:30.134Z"
   },
   {
    "duration": 4,
    "start_time": "2022-01-17T11:11:16.402Z"
   },
   {
    "duration": 2,
    "start_time": "2022-01-17T11:11:21.874Z"
   },
   {
    "duration": 44,
    "start_time": "2022-01-17T11:11:21.883Z"
   },
   {
    "duration": 12,
    "start_time": "2022-01-17T11:11:21.928Z"
   },
   {
    "duration": 12,
    "start_time": "2022-01-17T11:11:21.942Z"
   },
   {
    "duration": 22,
    "start_time": "2022-01-17T11:11:21.956Z"
   },
   {
    "duration": 5,
    "start_time": "2022-01-17T11:11:21.980Z"
   },
   {
    "duration": 4,
    "start_time": "2022-01-17T11:11:21.987Z"
   },
   {
    "duration": 6,
    "start_time": "2022-01-17T11:11:21.993Z"
   },
   {
    "duration": 7,
    "start_time": "2022-01-17T11:11:22.001Z"
   },
   {
    "duration": 22,
    "start_time": "2022-01-17T11:11:22.011Z"
   },
   {
    "duration": 71,
    "start_time": "2022-01-17T11:11:22.036Z"
   },
   {
    "duration": 4,
    "start_time": "2022-01-17T11:11:22.109Z"
   },
   {
    "duration": 7,
    "start_time": "2022-01-17T11:11:22.115Z"
   },
   {
    "duration": 13,
    "start_time": "2022-01-17T11:11:22.123Z"
   },
   {
    "duration": 19,
    "start_time": "2022-01-17T11:11:22.137Z"
   },
   {
    "duration": 15,
    "start_time": "2022-01-17T11:11:22.172Z"
   },
   {
    "duration": 15,
    "start_time": "2022-01-17T11:11:22.188Z"
   },
   {
    "duration": 10,
    "start_time": "2022-01-17T11:11:22.204Z"
   },
   {
    "duration": 23,
    "start_time": "2022-01-17T11:11:22.215Z"
   },
   {
    "duration": 36,
    "start_time": "2022-01-17T11:11:22.239Z"
   },
   {
    "duration": 13,
    "start_time": "2022-01-17T11:11:22.277Z"
   },
   {
    "duration": 8,
    "start_time": "2022-01-17T11:11:22.292Z"
   },
   {
    "duration": 18,
    "start_time": "2022-01-17T11:11:22.301Z"
   },
   {
    "duration": 13,
    "start_time": "2022-01-17T11:11:22.320Z"
   },
   {
    "duration": 3092,
    "start_time": "2022-01-17T11:11:22.334Z"
   },
   {
    "duration": 3,
    "start_time": "2022-01-17T11:11:25.428Z"
   },
   {
    "duration": 24,
    "start_time": "2022-01-17T11:11:25.432Z"
   },
   {
    "duration": 6,
    "start_time": "2022-01-17T11:11:25.471Z"
   },
   {
    "duration": 17,
    "start_time": "2022-01-17T11:11:25.479Z"
   },
   {
    "duration": 6,
    "start_time": "2022-01-17T11:11:25.498Z"
   },
   {
    "duration": 15,
    "start_time": "2022-01-17T11:11:25.505Z"
   },
   {
    "duration": 13,
    "start_time": "2022-01-17T11:11:25.522Z"
   },
   {
    "duration": 21,
    "start_time": "2022-01-17T11:11:25.537Z"
   },
   {
    "duration": 19,
    "start_time": "2022-01-17T11:11:25.559Z"
   },
   {
    "duration": 11,
    "start_time": "2022-01-17T11:11:25.579Z"
   },
   {
    "duration": 10,
    "start_time": "2022-01-17T11:11:25.591Z"
   },
   {
    "duration": 4,
    "start_time": "2022-01-17T11:11:25.603Z"
   },
   {
    "duration": 11,
    "start_time": "2022-01-17T11:11:25.609Z"
   },
   {
    "duration": 8,
    "start_time": "2022-01-17T11:11:25.621Z"
   },
   {
    "duration": 51,
    "start_time": "2022-01-17T11:11:25.630Z"
   },
   {
    "duration": 13,
    "start_time": "2022-01-17T11:11:25.682Z"
   },
   {
    "duration": 7,
    "start_time": "2022-01-17T11:11:25.696Z"
   },
   {
    "duration": 16,
    "start_time": "2022-01-17T11:11:25.704Z"
   },
   {
    "duration": 3,
    "start_time": "2022-01-17T11:11:25.721Z"
   },
   {
    "duration": 11,
    "start_time": "2022-01-17T11:11:25.726Z"
   },
   {
    "duration": 43,
    "start_time": "2022-01-17T11:11:25.739Z"
   },
   {
    "duration": 7,
    "start_time": "2022-01-17T11:11:25.784Z"
   },
   {
    "duration": 16,
    "start_time": "2022-01-17T11:11:25.793Z"
   },
   {
    "duration": 7,
    "start_time": "2022-01-17T11:11:25.810Z"
   },
   {
    "duration": 17,
    "start_time": "2022-01-17T11:11:25.818Z"
   },
   {
    "duration": 7,
    "start_time": "2022-01-17T11:11:25.837Z"
   },
   {
    "duration": 8,
    "start_time": "2022-01-17T11:12:59.843Z"
   },
   {
    "duration": 7,
    "start_time": "2022-01-17T11:13:21.055Z"
   },
   {
    "duration": 7,
    "start_time": "2022-01-17T11:13:39.706Z"
   },
   {
    "duration": 8,
    "start_time": "2022-01-17T11:14:13.199Z"
   },
   {
    "duration": 5,
    "start_time": "2022-01-17T11:15:24.636Z"
   },
   {
    "duration": 4,
    "start_time": "2022-01-17T11:15:30.694Z"
   },
   {
    "duration": 3,
    "start_time": "2022-01-17T11:15:34.387Z"
   },
   {
    "duration": 50,
    "start_time": "2022-01-17T11:15:34.391Z"
   },
   {
    "duration": 12,
    "start_time": "2022-01-17T11:15:34.442Z"
   },
   {
    "duration": 13,
    "start_time": "2022-01-17T11:15:34.456Z"
   },
   {
    "duration": 8,
    "start_time": "2022-01-17T11:15:34.471Z"
   },
   {
    "duration": 5,
    "start_time": "2022-01-17T11:15:34.480Z"
   },
   {
    "duration": 10,
    "start_time": "2022-01-17T11:15:34.486Z"
   },
   {
    "duration": 3,
    "start_time": "2022-01-17T11:15:34.499Z"
   },
   {
    "duration": 7,
    "start_time": "2022-01-17T11:15:34.504Z"
   },
   {
    "duration": 22,
    "start_time": "2022-01-17T11:15:34.513Z"
   },
   {
    "duration": 71,
    "start_time": "2022-01-17T11:15:34.537Z"
   },
   {
    "duration": 5,
    "start_time": "2022-01-17T11:15:34.610Z"
   },
   {
    "duration": 7,
    "start_time": "2022-01-17T11:15:34.616Z"
   },
   {
    "duration": 12,
    "start_time": "2022-01-17T11:15:34.624Z"
   },
   {
    "duration": 47,
    "start_time": "2022-01-17T11:15:34.637Z"
   },
   {
    "duration": 14,
    "start_time": "2022-01-17T11:15:34.686Z"
   },
   {
    "duration": 13,
    "start_time": "2022-01-17T11:15:34.701Z"
   },
   {
    "duration": 16,
    "start_time": "2022-01-17T11:15:34.716Z"
   },
   {
    "duration": 20,
    "start_time": "2022-01-17T11:15:34.734Z"
   },
   {
    "duration": 30,
    "start_time": "2022-01-17T11:15:34.755Z"
   },
   {
    "duration": 14,
    "start_time": "2022-01-17T11:15:34.786Z"
   },
   {
    "duration": 8,
    "start_time": "2022-01-17T11:15:34.801Z"
   },
   {
    "duration": 16,
    "start_time": "2022-01-17T11:15:34.812Z"
   },
   {
    "duration": 6,
    "start_time": "2022-01-17T11:15:34.830Z"
   },
   {
    "duration": 3278,
    "start_time": "2022-01-17T11:15:34.837Z"
   },
   {
    "duration": 3,
    "start_time": "2022-01-17T11:15:38.117Z"
   },
   {
    "duration": 26,
    "start_time": "2022-01-17T11:15:38.121Z"
   },
   {
    "duration": 7,
    "start_time": "2022-01-17T11:15:38.148Z"
   },
   {
    "duration": 6,
    "start_time": "2022-01-17T11:15:38.172Z"
   },
   {
    "duration": 4,
    "start_time": "2022-01-17T11:15:38.180Z"
   },
   {
    "duration": 11,
    "start_time": "2022-01-17T11:15:38.186Z"
   },
   {
    "duration": 12,
    "start_time": "2022-01-17T11:15:38.199Z"
   },
   {
    "duration": 17,
    "start_time": "2022-01-17T11:15:38.212Z"
   },
   {
    "duration": 10,
    "start_time": "2022-01-17T11:15:38.230Z"
   },
   {
    "duration": 8,
    "start_time": "2022-01-17T11:15:38.272Z"
   },
   {
    "duration": 11,
    "start_time": "2022-01-17T11:15:38.281Z"
   },
   {
    "duration": 5,
    "start_time": "2022-01-17T11:15:38.293Z"
   },
   {
    "duration": 11,
    "start_time": "2022-01-17T11:15:38.299Z"
   },
   {
    "duration": 7,
    "start_time": "2022-01-17T11:15:38.311Z"
   },
   {
    "duration": 53,
    "start_time": "2022-01-17T11:15:38.320Z"
   },
   {
    "duration": 13,
    "start_time": "2022-01-17T11:15:38.375Z"
   },
   {
    "duration": 7,
    "start_time": "2022-01-17T11:15:38.390Z"
   },
   {
    "duration": 15,
    "start_time": "2022-01-17T11:15:38.399Z"
   },
   {
    "duration": 3,
    "start_time": "2022-01-17T11:15:38.416Z"
   },
   {
    "duration": 11,
    "start_time": "2022-01-17T11:15:38.420Z"
   },
   {
    "duration": 12,
    "start_time": "2022-01-17T11:15:38.432Z"
   },
   {
    "duration": 29,
    "start_time": "2022-01-17T11:15:38.445Z"
   },
   {
    "duration": 17,
    "start_time": "2022-01-17T11:15:38.476Z"
   },
   {
    "duration": 7,
    "start_time": "2022-01-17T11:15:38.494Z"
   },
   {
    "duration": 11,
    "start_time": "2022-01-17T11:15:38.502Z"
   },
   {
    "duration": 19,
    "start_time": "2022-01-17T11:15:38.515Z"
   },
   {
    "duration": 8,
    "start_time": "2022-01-17T11:15:38.536Z"
   },
   {
    "duration": 33,
    "start_time": "2022-01-17T11:15:38.545Z"
   },
   {
    "duration": 16,
    "start_time": "2022-01-17T11:15:38.580Z"
   },
   {
    "duration": 8,
    "start_time": "2022-01-17T11:15:38.597Z"
   },
   {
    "duration": 4,
    "start_time": "2022-01-17T11:15:56.266Z"
   },
   {
    "duration": 4,
    "start_time": "2022-01-17T11:16:38.592Z"
   },
   {
    "duration": 8,
    "start_time": "2022-01-17T11:20:22.199Z"
   },
   {
    "duration": 176,
    "start_time": "2022-01-17T11:20:35.143Z"
   },
   {
    "duration": 9,
    "start_time": "2022-01-17T11:20:40.191Z"
   },
   {
    "duration": 3,
    "start_time": "2022-01-17T12:05:39.470Z"
   },
   {
    "duration": 3,
    "start_time": "2022-01-17T12:06:14.058Z"
   },
   {
    "duration": 7,
    "start_time": "2022-01-17T12:08:02.454Z"
   },
   {
    "duration": 13,
    "start_time": "2022-01-17T12:11:28.595Z"
   },
   {
    "duration": 14,
    "start_time": "2022-01-17T12:11:40.649Z"
   },
   {
    "duration": 13,
    "start_time": "2022-01-17T12:11:48.607Z"
   },
   {
    "duration": 13,
    "start_time": "2022-01-17T12:11:57.415Z"
   },
   {
    "duration": 13,
    "start_time": "2022-01-17T12:12:16.988Z"
   },
   {
    "duration": 14,
    "start_time": "2022-01-17T12:12:41.582Z"
   },
   {
    "duration": 14,
    "start_time": "2022-01-17T12:12:49.542Z"
   },
   {
    "duration": 13,
    "start_time": "2022-01-17T12:12:56.559Z"
   },
   {
    "duration": 13,
    "start_time": "2022-01-17T12:13:00.502Z"
   },
   {
    "duration": 12,
    "start_time": "2022-01-17T12:13:13.248Z"
   },
   {
    "duration": 13,
    "start_time": "2022-01-17T12:13:17.502Z"
   },
   {
    "duration": 15,
    "start_time": "2022-01-17T12:13:25.209Z"
   },
   {
    "duration": 13,
    "start_time": "2022-01-17T12:13:29.250Z"
   },
   {
    "duration": 13,
    "start_time": "2022-01-17T12:13:36.551Z"
   },
   {
    "duration": 14,
    "start_time": "2022-01-17T12:13:42.861Z"
   },
   {
    "duration": 13,
    "start_time": "2022-01-17T12:13:54.326Z"
   },
   {
    "duration": 14,
    "start_time": "2022-01-17T12:14:01.814Z"
   },
   {
    "duration": 13,
    "start_time": "2022-01-17T12:14:06.174Z"
   },
   {
    "duration": 13,
    "start_time": "2022-01-17T12:14:10.621Z"
   },
   {
    "duration": 13,
    "start_time": "2022-01-17T12:14:15.573Z"
   },
   {
    "duration": 15,
    "start_time": "2022-01-17T12:14:23.982Z"
   },
   {
    "duration": 13,
    "start_time": "2022-01-17T12:14:32.317Z"
   },
   {
    "duration": 13,
    "start_time": "2022-01-17T12:14:36.891Z"
   },
   {
    "duration": 14,
    "start_time": "2022-01-17T12:14:57.158Z"
   },
   {
    "duration": 14,
    "start_time": "2022-01-17T12:15:04.468Z"
   },
   {
    "duration": 13,
    "start_time": "2022-01-17T12:15:10.238Z"
   },
   {
    "duration": 13,
    "start_time": "2022-01-17T12:15:25.222Z"
   },
   {
    "duration": 13,
    "start_time": "2022-01-17T12:15:51.715Z"
   },
   {
    "duration": 14,
    "start_time": "2022-01-17T12:15:58.957Z"
   },
   {
    "duration": 13,
    "start_time": "2022-01-17T12:16:07.975Z"
   },
   {
    "duration": 13,
    "start_time": "2022-01-17T12:16:22.823Z"
   },
   {
    "duration": 14,
    "start_time": "2022-01-17T12:16:55.516Z"
   },
   {
    "duration": 13,
    "start_time": "2022-01-17T12:17:04.446Z"
   },
   {
    "duration": 14,
    "start_time": "2022-01-17T12:17:20.604Z"
   },
   {
    "duration": 12,
    "start_time": "2022-01-17T12:17:37.261Z"
   },
   {
    "duration": 13,
    "start_time": "2022-01-17T12:17:52.046Z"
   },
   {
    "duration": 12,
    "start_time": "2022-01-17T12:17:59.796Z"
   },
   {
    "duration": 13,
    "start_time": "2022-01-17T12:18:09.909Z"
   },
   {
    "duration": 13,
    "start_time": "2022-01-17T12:18:23.638Z"
   },
   {
    "duration": 14,
    "start_time": "2022-01-17T12:18:28.724Z"
   },
   {
    "duration": 13,
    "start_time": "2022-01-17T12:18:40.106Z"
   },
   {
    "duration": 94,
    "start_time": "2022-01-17T12:30:32.853Z"
   },
   {
    "duration": 3,
    "start_time": "2022-01-17T13:12:22.844Z"
   },
   {
    "duration": 8,
    "start_time": "2022-01-17T13:21:02.976Z"
   },
   {
    "duration": 10,
    "start_time": "2022-01-17T13:21:35.023Z"
   },
   {
    "duration": 269,
    "start_time": "2022-01-17T13:22:24.952Z"
   },
   {
    "duration": 12,
    "start_time": "2022-01-17T13:22:34.360Z"
   },
   {
    "duration": 10,
    "start_time": "2022-01-17T13:23:32.386Z"
   },
   {
    "duration": 2,
    "start_time": "2022-01-17T13:23:43.061Z"
   },
   {
    "duration": 50,
    "start_time": "2022-01-17T13:23:43.065Z"
   },
   {
    "duration": 12,
    "start_time": "2022-01-17T13:23:43.117Z"
   },
   {
    "duration": 11,
    "start_time": "2022-01-17T13:23:43.131Z"
   },
   {
    "duration": 9,
    "start_time": "2022-01-17T13:23:43.143Z"
   },
   {
    "duration": 7,
    "start_time": "2022-01-17T13:23:43.153Z"
   },
   {
    "duration": 4,
    "start_time": "2022-01-17T13:23:43.172Z"
   },
   {
    "duration": 6,
    "start_time": "2022-01-17T13:23:43.178Z"
   },
   {
    "duration": 3,
    "start_time": "2022-01-17T13:23:43.186Z"
   },
   {
    "duration": 22,
    "start_time": "2022-01-17T13:23:43.191Z"
   },
   {
    "duration": 61,
    "start_time": "2022-01-17T13:23:43.215Z"
   },
   {
    "duration": 4,
    "start_time": "2022-01-17T13:23:43.278Z"
   },
   {
    "duration": 6,
    "start_time": "2022-01-17T13:23:43.284Z"
   },
   {
    "duration": 12,
    "start_time": "2022-01-17T13:23:43.291Z"
   },
   {
    "duration": 14,
    "start_time": "2022-01-17T13:23:43.304Z"
   },
   {
    "duration": 16,
    "start_time": "2022-01-17T13:23:43.320Z"
   },
   {
    "duration": 50,
    "start_time": "2022-01-17T13:23:43.338Z"
   },
   {
    "duration": 17,
    "start_time": "2022-01-17T13:23:43.389Z"
   },
   {
    "duration": 18,
    "start_time": "2022-01-17T13:23:43.408Z"
   },
   {
    "duration": 15,
    "start_time": "2022-01-17T13:23:43.427Z"
   },
   {
    "duration": 38,
    "start_time": "2022-01-17T13:23:43.444Z"
   },
   {
    "duration": 9,
    "start_time": "2022-01-17T13:23:43.484Z"
   },
   {
    "duration": 15,
    "start_time": "2022-01-17T13:23:43.495Z"
   },
   {
    "duration": 6,
    "start_time": "2022-01-17T13:23:43.512Z"
   },
   {
    "duration": 3624,
    "start_time": "2022-01-17T13:23:43.520Z"
   },
   {
    "duration": 3,
    "start_time": "2022-01-17T13:23:47.146Z"
   },
   {
    "duration": 49,
    "start_time": "2022-01-17T13:23:47.155Z"
   },
   {
    "duration": 6,
    "start_time": "2022-01-17T13:23:47.207Z"
   },
   {
    "duration": 11,
    "start_time": "2022-01-17T13:23:47.215Z"
   },
   {
    "duration": 4,
    "start_time": "2022-01-17T13:23:47.228Z"
   },
   {
    "duration": 44,
    "start_time": "2022-01-17T13:23:47.234Z"
   },
   {
    "duration": 12,
    "start_time": "2022-01-17T13:23:47.280Z"
   },
   {
    "duration": 8,
    "start_time": "2022-01-17T13:23:47.294Z"
   },
   {
    "duration": 13,
    "start_time": "2022-01-17T13:23:47.303Z"
   },
   {
    "duration": 6,
    "start_time": "2022-01-17T13:23:47.318Z"
   },
   {
    "duration": 12,
    "start_time": "2022-01-17T13:23:47.326Z"
   },
   {
    "duration": 38,
    "start_time": "2022-01-17T13:23:47.339Z"
   },
   {
    "duration": 10,
    "start_time": "2022-01-17T13:23:47.379Z"
   },
   {
    "duration": 4,
    "start_time": "2022-01-17T13:23:47.391Z"
   },
   {
    "duration": 13,
    "start_time": "2022-01-17T13:23:47.397Z"
   },
   {
    "duration": 7,
    "start_time": "2022-01-17T13:23:47.412Z"
   },
   {
    "duration": 60,
    "start_time": "2022-01-17T13:23:47.421Z"
   },
   {
    "duration": 14,
    "start_time": "2022-01-17T13:23:47.483Z"
   },
   {
    "duration": 6,
    "start_time": "2022-01-17T13:23:47.499Z"
   },
   {
    "duration": 19,
    "start_time": "2022-01-17T13:23:47.507Z"
   },
   {
    "duration": 3,
    "start_time": "2022-01-17T13:23:47.528Z"
   },
   {
    "duration": 38,
    "start_time": "2022-01-17T13:23:47.533Z"
   },
   {
    "duration": 7,
    "start_time": "2022-01-17T13:23:47.573Z"
   },
   {
    "duration": 12,
    "start_time": "2022-01-17T13:23:47.581Z"
   },
   {
    "duration": 15,
    "start_time": "2022-01-17T13:23:47.595Z"
   },
   {
    "duration": 25,
    "start_time": "2022-01-17T13:23:47.613Z"
   },
   {
    "duration": 10,
    "start_time": "2022-01-17T13:23:47.639Z"
   },
   {
    "duration": 32,
    "start_time": "2022-01-17T13:23:47.650Z"
   },
   {
    "duration": 24,
    "start_time": "2022-01-17T13:23:47.684Z"
   },
   {
    "duration": 10,
    "start_time": "2022-01-17T13:23:47.710Z"
   },
   {
    "duration": 11,
    "start_time": "2022-01-17T13:23:47.722Z"
   },
   {
    "duration": 54,
    "start_time": "2022-01-17T13:23:47.735Z"
   },
   {
    "duration": 12,
    "start_time": "2022-01-17T13:23:47.790Z"
   },
   {
    "duration": 273,
    "start_time": "2022-01-17T13:25:02.189Z"
   },
   {
    "duration": 12,
    "start_time": "2022-01-17T13:25:53.782Z"
   },
   {
    "duration": 9,
    "start_time": "2022-01-17T13:25:59.877Z"
   },
   {
    "duration": 2,
    "start_time": "2022-01-17T13:26:04.017Z"
   },
   {
    "duration": 49,
    "start_time": "2022-01-17T13:26:04.021Z"
   },
   {
    "duration": 12,
    "start_time": "2022-01-17T13:26:04.073Z"
   },
   {
    "duration": 14,
    "start_time": "2022-01-17T13:26:04.086Z"
   },
   {
    "duration": 9,
    "start_time": "2022-01-17T13:26:04.101Z"
   },
   {
    "duration": 6,
    "start_time": "2022-01-17T13:26:04.112Z"
   },
   {
    "duration": 5,
    "start_time": "2022-01-17T13:26:04.120Z"
   },
   {
    "duration": 6,
    "start_time": "2022-01-17T13:26:04.127Z"
   },
   {
    "duration": 36,
    "start_time": "2022-01-17T13:26:04.136Z"
   },
   {
    "duration": 20,
    "start_time": "2022-01-17T13:26:04.174Z"
   },
   {
    "duration": 87,
    "start_time": "2022-01-17T13:26:04.195Z"
   },
   {
    "duration": 5,
    "start_time": "2022-01-17T13:26:04.285Z"
   },
   {
    "duration": 5,
    "start_time": "2022-01-17T13:26:04.292Z"
   },
   {
    "duration": 11,
    "start_time": "2022-01-17T13:26:04.299Z"
   },
   {
    "duration": 16,
    "start_time": "2022-01-17T13:26:04.312Z"
   },
   {
    "duration": 58,
    "start_time": "2022-01-17T13:26:04.329Z"
   },
   {
    "duration": 14,
    "start_time": "2022-01-17T13:26:04.388Z"
   },
   {
    "duration": 11,
    "start_time": "2022-01-17T13:26:04.404Z"
   },
   {
    "duration": 20,
    "start_time": "2022-01-17T13:26:04.416Z"
   },
   {
    "duration": 37,
    "start_time": "2022-01-17T13:26:04.438Z"
   },
   {
    "duration": 16,
    "start_time": "2022-01-17T13:26:04.477Z"
   },
   {
    "duration": 9,
    "start_time": "2022-01-17T13:26:04.494Z"
   },
   {
    "duration": 18,
    "start_time": "2022-01-17T13:26:04.507Z"
   },
   {
    "duration": 7,
    "start_time": "2022-01-17T13:26:04.527Z"
   },
   {
    "duration": 3616,
    "start_time": "2022-01-17T13:26:04.536Z"
   },
   {
    "duration": 4,
    "start_time": "2022-01-17T13:26:08.153Z"
   },
   {
    "duration": 31,
    "start_time": "2022-01-17T13:26:08.158Z"
   },
   {
    "duration": 6,
    "start_time": "2022-01-17T13:26:08.191Z"
   },
   {
    "duration": 8,
    "start_time": "2022-01-17T13:26:08.199Z"
   },
   {
    "duration": 4,
    "start_time": "2022-01-17T13:26:08.209Z"
   },
   {
    "duration": 13,
    "start_time": "2022-01-17T13:26:08.215Z"
   },
   {
    "duration": 45,
    "start_time": "2022-01-17T13:26:08.230Z"
   },
   {
    "duration": 19,
    "start_time": "2022-01-17T13:26:08.277Z"
   },
   {
    "duration": 13,
    "start_time": "2022-01-17T13:26:08.299Z"
   },
   {
    "duration": 9,
    "start_time": "2022-01-17T13:26:08.314Z"
   },
   {
    "duration": 11,
    "start_time": "2022-01-17T13:26:08.325Z"
   },
   {
    "duration": 8,
    "start_time": "2022-01-17T13:26:08.338Z"
   },
   {
    "duration": 35,
    "start_time": "2022-01-17T13:26:08.348Z"
   },
   {
    "duration": 7,
    "start_time": "2022-01-17T13:26:08.385Z"
   },
   {
    "duration": 12,
    "start_time": "2022-01-17T13:26:08.394Z"
   },
   {
    "duration": 9,
    "start_time": "2022-01-17T13:26:08.408Z"
   },
   {
    "duration": 61,
    "start_time": "2022-01-17T13:26:08.418Z"
   },
   {
    "duration": 15,
    "start_time": "2022-01-17T13:26:08.481Z"
   },
   {
    "duration": 7,
    "start_time": "2022-01-17T13:26:08.498Z"
   },
   {
    "duration": 18,
    "start_time": "2022-01-17T13:26:08.507Z"
   },
   {
    "duration": 5,
    "start_time": "2022-01-17T13:26:08.527Z"
   },
   {
    "duration": 39,
    "start_time": "2022-01-17T13:26:08.534Z"
   },
   {
    "duration": 7,
    "start_time": "2022-01-17T13:26:08.575Z"
   },
   {
    "duration": 14,
    "start_time": "2022-01-17T13:26:08.584Z"
   },
   {
    "duration": 10,
    "start_time": "2022-01-17T13:26:08.602Z"
   },
   {
    "duration": 19,
    "start_time": "2022-01-17T13:26:08.614Z"
   },
   {
    "duration": 7,
    "start_time": "2022-01-17T13:26:08.635Z"
   },
   {
    "duration": 34,
    "start_time": "2022-01-17T13:26:08.643Z"
   },
   {
    "duration": 18,
    "start_time": "2022-01-17T13:26:08.679Z"
   },
   {
    "duration": 7,
    "start_time": "2022-01-17T13:26:08.699Z"
   },
   {
    "duration": 11,
    "start_time": "2022-01-17T13:26:08.708Z"
   },
   {
    "duration": 19,
    "start_time": "2022-01-17T13:26:08.721Z"
   },
   {
    "duration": 37,
    "start_time": "2022-01-17T13:26:08.742Z"
   },
   {
    "duration": 14,
    "start_time": "2022-01-17T13:30:32.789Z"
   },
   {
    "duration": 90,
    "start_time": "2022-01-17T13:30:44.180Z"
   },
   {
    "duration": 15,
    "start_time": "2022-01-17T13:30:53.780Z"
   },
   {
    "duration": 9,
    "start_time": "2022-01-17T13:32:51.140Z"
   },
   {
    "duration": 2,
    "start_time": "2022-01-17T13:37:24.707Z"
   },
   {
    "duration": 11,
    "start_time": "2022-01-17T13:41:39.435Z"
   },
   {
    "duration": 3,
    "start_time": "2022-01-17T13:41:45.766Z"
   },
   {
    "duration": 48,
    "start_time": "2022-01-17T13:41:45.772Z"
   },
   {
    "duration": 13,
    "start_time": "2022-01-17T13:41:45.822Z"
   },
   {
    "duration": 11,
    "start_time": "2022-01-17T13:41:45.837Z"
   },
   {
    "duration": 28,
    "start_time": "2022-01-17T13:41:45.850Z"
   },
   {
    "duration": 4,
    "start_time": "2022-01-17T13:41:45.880Z"
   },
   {
    "duration": 8,
    "start_time": "2022-01-17T13:41:45.886Z"
   },
   {
    "duration": 9,
    "start_time": "2022-01-17T13:41:45.896Z"
   },
   {
    "duration": 9,
    "start_time": "2022-01-17T13:41:45.908Z"
   },
   {
    "duration": 22,
    "start_time": "2022-01-17T13:41:45.919Z"
   },
   {
    "duration": 64,
    "start_time": "2022-01-17T13:41:45.943Z"
   },
   {
    "duration": 4,
    "start_time": "2022-01-17T13:41:46.009Z"
   },
   {
    "duration": 6,
    "start_time": "2022-01-17T13:41:46.015Z"
   },
   {
    "duration": 18,
    "start_time": "2022-01-17T13:41:46.023Z"
   },
   {
    "duration": 20,
    "start_time": "2022-01-17T13:41:46.072Z"
   },
   {
    "duration": 21,
    "start_time": "2022-01-17T13:41:46.094Z"
   },
   {
    "duration": 19,
    "start_time": "2022-01-17T13:41:46.117Z"
   },
   {
    "duration": 37,
    "start_time": "2022-01-17T13:41:46.138Z"
   },
   {
    "duration": 22,
    "start_time": "2022-01-17T13:41:46.177Z"
   },
   {
    "duration": 22,
    "start_time": "2022-01-17T13:41:46.201Z"
   },
   {
    "duration": 21,
    "start_time": "2022-01-17T13:41:46.225Z"
   },
   {
    "duration": 14,
    "start_time": "2022-01-17T13:41:46.273Z"
   },
   {
    "duration": 22,
    "start_time": "2022-01-17T13:41:46.288Z"
   },
   {
    "duration": 10,
    "start_time": "2022-01-17T13:41:46.315Z"
   },
   {
    "duration": 3656,
    "start_time": "2022-01-17T13:41:46.327Z"
   },
   {
    "duration": 6,
    "start_time": "2022-01-17T13:41:49.986Z"
   },
   {
    "duration": 34,
    "start_time": "2022-01-17T13:41:49.994Z"
   },
   {
    "duration": 9,
    "start_time": "2022-01-17T13:41:50.030Z"
   },
   {
    "duration": 32,
    "start_time": "2022-01-17T13:41:50.041Z"
   },
   {
    "duration": 5,
    "start_time": "2022-01-17T13:41:50.075Z"
   },
   {
    "duration": 15,
    "start_time": "2022-01-17T13:41:50.082Z"
   },
   {
    "duration": 14,
    "start_time": "2022-01-17T13:41:50.099Z"
   },
   {
    "duration": 10,
    "start_time": "2022-01-17T13:41:50.115Z"
   },
   {
    "duration": 11,
    "start_time": "2022-01-17T13:41:50.127Z"
   },
   {
    "duration": 40,
    "start_time": "2022-01-17T13:41:50.140Z"
   },
   {
    "duration": 23,
    "start_time": "2022-01-17T13:41:50.181Z"
   },
   {
    "duration": 8,
    "start_time": "2022-01-17T13:41:50.205Z"
   },
   {
    "duration": 13,
    "start_time": "2022-01-17T13:41:50.215Z"
   },
   {
    "duration": 5,
    "start_time": "2022-01-17T13:41:50.230Z"
   },
   {
    "duration": 46,
    "start_time": "2022-01-17T13:41:50.236Z"
   },
   {
    "duration": 7,
    "start_time": "2022-01-17T13:41:50.283Z"
   },
   {
    "duration": 24,
    "start_time": "2022-01-17T13:41:50.292Z"
   },
   {
    "duration": 15,
    "start_time": "2022-01-17T13:41:50.317Z"
   },
   {
    "duration": 40,
    "start_time": "2022-01-17T13:41:50.333Z"
   },
   {
    "duration": 17,
    "start_time": "2022-01-17T13:41:50.375Z"
   },
   {
    "duration": 3,
    "start_time": "2022-01-17T13:41:50.394Z"
   },
   {
    "duration": 6,
    "start_time": "2022-01-17T13:41:50.399Z"
   },
   {
    "duration": 14,
    "start_time": "2022-01-17T13:41:50.406Z"
   },
   {
    "duration": 11,
    "start_time": "2022-01-17T13:41:50.423Z"
   },
   {
    "duration": 38,
    "start_time": "2022-01-17T13:41:50.435Z"
   },
   {
    "duration": 18,
    "start_time": "2022-01-17T13:41:50.475Z"
   },
   {
    "duration": 7,
    "start_time": "2022-01-17T13:41:50.495Z"
   },
   {
    "duration": 10,
    "start_time": "2022-01-17T13:41:50.504Z"
   },
   {
    "duration": 27,
    "start_time": "2022-01-17T13:41:50.515Z"
   },
   {
    "duration": 7,
    "start_time": "2022-01-17T13:41:50.544Z"
   },
   {
    "duration": 27,
    "start_time": "2022-01-17T13:41:50.553Z"
   },
   {
    "duration": 24,
    "start_time": "2022-01-17T13:41:50.582Z"
   },
   {
    "duration": 8,
    "start_time": "2022-01-17T13:41:50.608Z"
   },
   {
    "duration": 9,
    "start_time": "2022-01-17T13:44:27.135Z"
   },
   {
    "duration": 7,
    "start_time": "2022-01-17T13:44:31.752Z"
   },
   {
    "duration": 87,
    "start_time": "2022-01-17T13:47:25.937Z"
   },
   {
    "duration": 10,
    "start_time": "2022-01-17T13:57:29.927Z"
   },
   {
    "duration": 2,
    "start_time": "2022-01-17T13:57:42.595Z"
   },
   {
    "duration": 51,
    "start_time": "2022-01-17T13:57:42.600Z"
   },
   {
    "duration": 14,
    "start_time": "2022-01-17T13:57:42.653Z"
   },
   {
    "duration": 14,
    "start_time": "2022-01-17T13:57:42.669Z"
   },
   {
    "duration": 9,
    "start_time": "2022-01-17T13:57:42.686Z"
   },
   {
    "duration": 7,
    "start_time": "2022-01-17T13:57:42.696Z"
   },
   {
    "duration": 5,
    "start_time": "2022-01-17T13:57:42.704Z"
   },
   {
    "duration": 4,
    "start_time": "2022-01-17T13:57:42.711Z"
   },
   {
    "duration": 4,
    "start_time": "2022-01-17T13:57:42.717Z"
   },
   {
    "duration": 63,
    "start_time": "2022-01-17T13:57:42.722Z"
   },
   {
    "duration": 37,
    "start_time": "2022-01-17T13:57:42.787Z"
   },
   {
    "duration": 4,
    "start_time": "2022-01-17T13:57:42.826Z"
   },
   {
    "duration": 6,
    "start_time": "2022-01-17T13:57:42.831Z"
   },
   {
    "duration": 14,
    "start_time": "2022-01-17T13:57:42.839Z"
   },
   {
    "duration": 35,
    "start_time": "2022-01-17T13:57:42.854Z"
   },
   {
    "duration": 15,
    "start_time": "2022-01-17T13:57:42.891Z"
   },
   {
    "duration": 14,
    "start_time": "2022-01-17T13:57:42.907Z"
   },
   {
    "duration": 10,
    "start_time": "2022-01-17T13:57:42.922Z"
   },
   {
    "duration": 50,
    "start_time": "2022-01-17T13:57:42.934Z"
   },
   {
    "duration": 16,
    "start_time": "2022-01-17T13:57:42.985Z"
   },
   {
    "duration": 14,
    "start_time": "2022-01-17T13:57:43.003Z"
   },
   {
    "duration": 8,
    "start_time": "2022-01-17T13:57:43.018Z"
   },
   {
    "duration": 14,
    "start_time": "2022-01-17T13:57:43.030Z"
   },
   {
    "duration": 34,
    "start_time": "2022-01-17T13:57:43.046Z"
   },
   {
    "duration": 3435,
    "start_time": "2022-01-17T13:57:43.082Z"
   },
   {
    "duration": 2,
    "start_time": "2022-01-17T13:57:46.519Z"
   },
   {
    "duration": 28,
    "start_time": "2022-01-17T13:57:46.523Z"
   },
   {
    "duration": 6,
    "start_time": "2022-01-17T13:57:46.552Z"
   },
   {
    "duration": 10,
    "start_time": "2022-01-17T13:57:46.573Z"
   },
   {
    "duration": 4,
    "start_time": "2022-01-17T13:57:46.585Z"
   },
   {
    "duration": 18,
    "start_time": "2022-01-17T13:57:46.590Z"
   },
   {
    "duration": 17,
    "start_time": "2022-01-17T13:57:46.610Z"
   },
   {
    "duration": 8,
    "start_time": "2022-01-17T13:57:46.629Z"
   },
   {
    "duration": 44,
    "start_time": "2022-01-17T13:57:46.639Z"
   },
   {
    "duration": 15,
    "start_time": "2022-01-17T13:57:46.685Z"
   },
   {
    "duration": 22,
    "start_time": "2022-01-17T13:57:46.701Z"
   },
   {
    "duration": 7,
    "start_time": "2022-01-17T13:57:46.724Z"
   },
   {
    "duration": 14,
    "start_time": "2022-01-17T13:57:46.733Z"
   },
   {
    "duration": 11,
    "start_time": "2022-01-17T13:57:46.749Z"
   },
   {
    "duration": 25,
    "start_time": "2022-01-17T13:57:46.761Z"
   },
   {
    "duration": 7,
    "start_time": "2022-01-17T13:57:46.787Z"
   },
   {
    "duration": 24,
    "start_time": "2022-01-17T13:57:46.796Z"
   },
   {
    "duration": 5,
    "start_time": "2022-01-17T13:57:46.821Z"
   },
   {
    "duration": 16,
    "start_time": "2022-01-17T13:57:46.828Z"
   },
   {
    "duration": 41,
    "start_time": "2022-01-17T13:57:46.846Z"
   },
   {
    "duration": 4,
    "start_time": "2022-01-17T13:57:46.889Z"
   },
   {
    "duration": 9,
    "start_time": "2022-01-17T13:57:46.894Z"
   },
   {
    "duration": 12,
    "start_time": "2022-01-17T13:57:46.905Z"
   },
   {
    "duration": 16,
    "start_time": "2022-01-17T13:57:46.918Z"
   },
   {
    "duration": 20,
    "start_time": "2022-01-17T13:57:46.935Z"
   },
   {
    "duration": 22,
    "start_time": "2022-01-17T13:57:46.956Z"
   },
   {
    "duration": 13,
    "start_time": "2022-01-17T13:57:46.980Z"
   },
   {
    "duration": 19,
    "start_time": "2022-01-17T13:57:46.994Z"
   },
   {
    "duration": 7,
    "start_time": "2022-01-17T13:57:47.015Z"
   },
   {
    "duration": 12,
    "start_time": "2022-01-17T13:57:47.024Z"
   },
   {
    "duration": 42,
    "start_time": "2022-01-17T13:57:47.038Z"
   },
   {
    "duration": 9,
    "start_time": "2022-01-17T13:57:47.082Z"
   },
   {
    "duration": 10,
    "start_time": "2022-01-17T14:04:39.996Z"
   },
   {
    "duration": 10,
    "start_time": "2022-01-17T14:06:23.684Z"
   },
   {
    "duration": 93,
    "start_time": "2022-01-17T14:12:43.589Z"
   },
   {
    "duration": 7,
    "start_time": "2022-01-17T14:32:07.345Z"
   },
   {
    "duration": 8,
    "start_time": "2022-01-17T14:35:41.846Z"
   },
   {
    "duration": 2,
    "start_time": "2022-01-17T14:35:44.582Z"
   },
   {
    "duration": 52,
    "start_time": "2022-01-17T14:35:44.586Z"
   },
   {
    "duration": 13,
    "start_time": "2022-01-17T14:35:44.641Z"
   },
   {
    "duration": 15,
    "start_time": "2022-01-17T14:35:44.656Z"
   },
   {
    "duration": 8,
    "start_time": "2022-01-17T14:35:44.673Z"
   },
   {
    "duration": 5,
    "start_time": "2022-01-17T14:35:44.682Z"
   },
   {
    "duration": 4,
    "start_time": "2022-01-17T14:35:44.689Z"
   },
   {
    "duration": 5,
    "start_time": "2022-01-17T14:35:44.695Z"
   },
   {
    "duration": 6,
    "start_time": "2022-01-17T14:35:44.701Z"
   },
   {
    "duration": 30,
    "start_time": "2022-01-17T14:35:44.708Z"
   },
   {
    "duration": 42,
    "start_time": "2022-01-17T14:35:44.773Z"
   },
   {
    "duration": 4,
    "start_time": "2022-01-17T14:35:44.817Z"
   },
   {
    "duration": 7,
    "start_time": "2022-01-17T14:35:44.823Z"
   },
   {
    "duration": 40,
    "start_time": "2022-01-17T14:35:44.832Z"
   },
   {
    "duration": 22,
    "start_time": "2022-01-17T14:35:44.875Z"
   },
   {
    "duration": 23,
    "start_time": "2022-01-17T14:35:44.899Z"
   },
   {
    "duration": 16,
    "start_time": "2022-01-17T14:35:44.924Z"
   },
   {
    "duration": 38,
    "start_time": "2022-01-17T14:35:44.942Z"
   },
   {
    "duration": 21,
    "start_time": "2022-01-17T14:35:44.985Z"
   },
   {
    "duration": 18,
    "start_time": "2022-01-17T14:35:45.009Z"
   },
   {
    "duration": 46,
    "start_time": "2022-01-17T14:35:45.029Z"
   },
   {
    "duration": 8,
    "start_time": "2022-01-17T14:35:45.077Z"
   },
   {
    "duration": 19,
    "start_time": "2022-01-17T14:35:45.087Z"
   },
   {
    "duration": 8,
    "start_time": "2022-01-17T14:35:45.107Z"
   },
   {
    "duration": 3346,
    "start_time": "2022-01-17T14:35:45.116Z"
   },
   {
    "duration": 8,
    "start_time": "2022-01-17T14:35:48.464Z"
   },
   {
    "duration": 28,
    "start_time": "2022-01-17T14:35:48.473Z"
   },
   {
    "duration": 7,
    "start_time": "2022-01-17T14:35:48.502Z"
   },
   {
    "duration": 10,
    "start_time": "2022-01-17T14:35:48.510Z"
   },
   {
    "duration": 5,
    "start_time": "2022-01-17T14:35:48.521Z"
   },
   {
    "duration": 13,
    "start_time": "2022-01-17T14:35:48.528Z"
   },
   {
    "duration": 13,
    "start_time": "2022-01-17T14:35:48.571Z"
   },
   {
    "duration": 16,
    "start_time": "2022-01-17T14:35:48.585Z"
   },
   {
    "duration": 14,
    "start_time": "2022-01-17T14:35:48.603Z"
   },
   {
    "duration": 13,
    "start_time": "2022-01-17T14:35:48.618Z"
   },
   {
    "duration": 21,
    "start_time": "2022-01-17T14:35:48.633Z"
   },
   {
    "duration": 22,
    "start_time": "2022-01-17T14:35:48.656Z"
   },
   {
    "duration": 13,
    "start_time": "2022-01-17T14:35:48.680Z"
   },
   {
    "duration": 6,
    "start_time": "2022-01-17T14:35:48.695Z"
   },
   {
    "duration": 11,
    "start_time": "2022-01-17T14:35:48.702Z"
   },
   {
    "duration": 8,
    "start_time": "2022-01-17T14:35:48.715Z"
   },
   {
    "duration": 63,
    "start_time": "2022-01-17T14:35:48.725Z"
   },
   {
    "duration": 5,
    "start_time": "2022-01-17T14:35:48.790Z"
   },
   {
    "duration": 7,
    "start_time": "2022-01-17T14:35:48.797Z"
   },
   {
    "duration": 19,
    "start_time": "2022-01-17T14:35:48.806Z"
   },
   {
    "duration": 5,
    "start_time": "2022-01-17T14:35:48.827Z"
   },
   {
    "duration": 12,
    "start_time": "2022-01-17T14:35:48.833Z"
   },
   {
    "duration": 13,
    "start_time": "2022-01-17T14:35:48.872Z"
   },
   {
    "duration": 6,
    "start_time": "2022-01-17T14:35:48.887Z"
   },
   {
    "duration": 23,
    "start_time": "2022-01-17T14:35:48.895Z"
   },
   {
    "duration": 8,
    "start_time": "2022-01-17T14:35:48.919Z"
   },
   {
    "duration": 18,
    "start_time": "2022-01-17T14:35:48.928Z"
   },
   {
    "duration": 25,
    "start_time": "2022-01-17T14:35:48.948Z"
   },
   {
    "duration": 18,
    "start_time": "2022-01-17T14:35:48.975Z"
   },
   {
    "duration": 7,
    "start_time": "2022-01-17T14:35:48.997Z"
   },
   {
    "duration": 11,
    "start_time": "2022-01-17T14:35:49.005Z"
   },
   {
    "duration": 24,
    "start_time": "2022-01-17T14:35:49.017Z"
   },
   {
    "duration": 8,
    "start_time": "2022-01-17T14:35:49.042Z"
   },
   {
    "duration": 2,
    "start_time": "2022-01-17T14:38:05.568Z"
   },
   {
    "duration": 51,
    "start_time": "2022-01-17T14:38:05.573Z"
   },
   {
    "duration": 13,
    "start_time": "2022-01-17T14:38:05.626Z"
   },
   {
    "duration": 31,
    "start_time": "2022-01-17T14:38:05.641Z"
   },
   {
    "duration": 11,
    "start_time": "2022-01-17T14:38:05.674Z"
   },
   {
    "duration": 7,
    "start_time": "2022-01-17T14:38:05.686Z"
   },
   {
    "duration": 6,
    "start_time": "2022-01-17T14:38:05.694Z"
   },
   {
    "duration": 7,
    "start_time": "2022-01-17T14:38:05.702Z"
   },
   {
    "duration": 5,
    "start_time": "2022-01-17T14:38:05.712Z"
   },
   {
    "duration": 63,
    "start_time": "2022-01-17T14:38:05.719Z"
   },
   {
    "duration": 37,
    "start_time": "2022-01-17T14:38:05.784Z"
   },
   {
    "duration": 5,
    "start_time": "2022-01-17T14:38:05.823Z"
   },
   {
    "duration": 13,
    "start_time": "2022-01-17T14:38:05.829Z"
   },
   {
    "duration": 36,
    "start_time": "2022-01-17T14:38:05.843Z"
   },
   {
    "duration": 14,
    "start_time": "2022-01-17T14:38:05.881Z"
   },
   {
    "duration": 24,
    "start_time": "2022-01-17T14:38:05.896Z"
   },
   {
    "duration": 23,
    "start_time": "2022-01-17T14:38:05.922Z"
   },
   {
    "duration": 9,
    "start_time": "2022-01-17T14:38:05.947Z"
   },
   {
    "duration": 37,
    "start_time": "2022-01-17T14:38:05.958Z"
   },
   {
    "duration": 19,
    "start_time": "2022-01-17T14:38:05.997Z"
   },
   {
    "duration": 14,
    "start_time": "2022-01-17T14:38:06.017Z"
   },
   {
    "duration": 8,
    "start_time": "2022-01-17T14:38:06.033Z"
   },
   {
    "duration": 25,
    "start_time": "2022-01-17T14:38:06.043Z"
   },
   {
    "duration": 19,
    "start_time": "2022-01-17T14:38:06.071Z"
   },
   {
    "duration": 3361,
    "start_time": "2022-01-17T14:38:06.093Z"
   },
   {
    "duration": 2,
    "start_time": "2022-01-17T14:38:09.456Z"
   },
   {
    "duration": 22,
    "start_time": "2022-01-17T14:38:09.472Z"
   },
   {
    "duration": 6,
    "start_time": "2022-01-17T14:38:09.495Z"
   },
   {
    "duration": 8,
    "start_time": "2022-01-17T14:38:09.503Z"
   },
   {
    "duration": 5,
    "start_time": "2022-01-17T14:38:09.512Z"
   },
   {
    "duration": 14,
    "start_time": "2022-01-17T14:38:09.518Z"
   },
   {
    "duration": 42,
    "start_time": "2022-01-17T14:38:09.533Z"
   },
   {
    "duration": 7,
    "start_time": "2022-01-17T14:38:09.576Z"
   },
   {
    "duration": 11,
    "start_time": "2022-01-17T14:38:09.585Z"
   },
   {
    "duration": 8,
    "start_time": "2022-01-17T14:38:09.598Z"
   },
   {
    "duration": 21,
    "start_time": "2022-01-17T14:38:09.607Z"
   },
   {
    "duration": 8,
    "start_time": "2022-01-17T14:38:09.629Z"
   },
   {
    "duration": 45,
    "start_time": "2022-01-17T14:38:09.639Z"
   },
   {
    "duration": 5,
    "start_time": "2022-01-17T14:38:09.686Z"
   },
   {
    "duration": 12,
    "start_time": "2022-01-17T14:38:09.692Z"
   },
   {
    "duration": 6,
    "start_time": "2022-01-17T14:38:09.706Z"
   },
   {
    "duration": 25,
    "start_time": "2022-01-17T14:38:09.713Z"
   },
   {
    "duration": 32,
    "start_time": "2022-01-17T14:38:09.740Z"
   },
   {
    "duration": 7,
    "start_time": "2022-01-17T14:38:09.774Z"
   },
   {
    "duration": 18,
    "start_time": "2022-01-17T14:38:09.783Z"
   },
   {
    "duration": 5,
    "start_time": "2022-01-17T14:38:09.802Z"
   },
   {
    "duration": 12,
    "start_time": "2022-01-17T14:38:09.808Z"
   },
   {
    "duration": 13,
    "start_time": "2022-01-17T14:38:09.821Z"
   },
   {
    "duration": 38,
    "start_time": "2022-01-17T14:38:09.835Z"
   },
   {
    "duration": 18,
    "start_time": "2022-01-17T14:38:09.874Z"
   },
   {
    "duration": 9,
    "start_time": "2022-01-17T14:38:09.893Z"
   },
   {
    "duration": 12,
    "start_time": "2022-01-17T14:38:09.904Z"
   },
   {
    "duration": 13,
    "start_time": "2022-01-17T14:38:09.917Z"
   },
   {
    "duration": 22,
    "start_time": "2022-01-17T14:38:09.931Z"
   },
   {
    "duration": 23,
    "start_time": "2022-01-17T14:38:09.954Z"
   },
   {
    "duration": 10,
    "start_time": "2022-01-17T14:38:09.979Z"
   },
   {
    "duration": 17,
    "start_time": "2022-01-17T14:38:09.990Z"
   },
   {
    "duration": 10,
    "start_time": "2022-01-17T14:38:10.008Z"
   },
   {
    "duration": 9,
    "start_time": "2022-01-17T14:38:58.206Z"
   },
   {
    "duration": 2,
    "start_time": "2022-01-17T14:39:02.197Z"
   },
   {
    "duration": 54,
    "start_time": "2022-01-17T14:39:02.201Z"
   },
   {
    "duration": 11,
    "start_time": "2022-01-17T14:39:02.257Z"
   },
   {
    "duration": 11,
    "start_time": "2022-01-17T14:39:02.270Z"
   },
   {
    "duration": 10,
    "start_time": "2022-01-17T14:39:02.283Z"
   },
   {
    "duration": 5,
    "start_time": "2022-01-17T14:39:02.295Z"
   },
   {
    "duration": 4,
    "start_time": "2022-01-17T14:39:02.302Z"
   },
   {
    "duration": 8,
    "start_time": "2022-01-17T14:39:02.308Z"
   },
   {
    "duration": 7,
    "start_time": "2022-01-17T14:39:02.317Z"
   },
   {
    "duration": 52,
    "start_time": "2022-01-17T14:39:02.325Z"
   },
   {
    "duration": 36,
    "start_time": "2022-01-17T14:39:02.379Z"
   },
   {
    "duration": 4,
    "start_time": "2022-01-17T14:39:02.416Z"
   },
   {
    "duration": 6,
    "start_time": "2022-01-17T14:39:02.421Z"
   },
   {
    "duration": 12,
    "start_time": "2022-01-17T14:39:02.428Z"
   },
   {
    "duration": 43,
    "start_time": "2022-01-17T14:39:02.441Z"
   },
   {
    "duration": 16,
    "start_time": "2022-01-17T14:39:02.485Z"
   },
   {
    "duration": 13,
    "start_time": "2022-01-17T14:39:02.502Z"
   },
   {
    "duration": 10,
    "start_time": "2022-01-17T14:39:02.516Z"
   },
   {
    "duration": 44,
    "start_time": "2022-01-17T14:39:02.529Z"
   },
   {
    "duration": 15,
    "start_time": "2022-01-17T14:39:02.575Z"
   },
   {
    "duration": 14,
    "start_time": "2022-01-17T14:39:02.592Z"
   },
   {
    "duration": 9,
    "start_time": "2022-01-17T14:39:02.608Z"
   },
   {
    "duration": 15,
    "start_time": "2022-01-17T14:39:02.619Z"
   },
   {
    "duration": 6,
    "start_time": "2022-01-17T14:39:02.636Z"
   },
   {
    "duration": 3458,
    "start_time": "2022-01-17T14:39:02.673Z"
   },
   {
    "duration": 2,
    "start_time": "2022-01-17T14:39:06.133Z"
   },
   {
    "duration": 42,
    "start_time": "2022-01-17T14:39:06.137Z"
   },
   {
    "duration": 6,
    "start_time": "2022-01-17T14:39:06.180Z"
   },
   {
    "duration": 33,
    "start_time": "2022-01-17T14:39:06.188Z"
   },
   {
    "duration": 13,
    "start_time": "2022-01-17T14:39:06.223Z"
   },
   {
    "duration": 43,
    "start_time": "2022-01-17T14:39:06.237Z"
   },
   {
    "duration": 33,
    "start_time": "2022-01-17T14:39:06.281Z"
   },
   {
    "duration": 11,
    "start_time": "2022-01-17T14:39:06.316Z"
   },
   {
    "duration": 18,
    "start_time": "2022-01-17T14:39:06.329Z"
   },
   {
    "duration": 23,
    "start_time": "2022-01-17T14:39:06.348Z"
   },
   {
    "duration": 26,
    "start_time": "2022-01-17T14:39:06.373Z"
   },
   {
    "duration": 8,
    "start_time": "2022-01-17T14:39:06.400Z"
   },
   {
    "duration": 12,
    "start_time": "2022-01-17T14:39:06.410Z"
   },
   {
    "duration": 9,
    "start_time": "2022-01-17T14:39:06.424Z"
   },
   {
    "duration": 14,
    "start_time": "2022-01-17T14:39:06.434Z"
   },
   {
    "duration": 7,
    "start_time": "2022-01-17T14:39:06.450Z"
   },
   {
    "duration": 24,
    "start_time": "2022-01-17T14:39:06.471Z"
   },
   {
    "duration": 5,
    "start_time": "2022-01-17T14:39:06.496Z"
   },
   {
    "duration": 9,
    "start_time": "2022-01-17T14:39:06.503Z"
   },
   {
    "duration": 19,
    "start_time": "2022-01-17T14:39:06.514Z"
   },
   {
    "duration": 4,
    "start_time": "2022-01-17T14:39:06.535Z"
   },
   {
    "duration": 32,
    "start_time": "2022-01-17T14:39:06.540Z"
   },
   {
    "duration": 10,
    "start_time": "2022-01-17T14:39:06.574Z"
   },
   {
    "duration": 8,
    "start_time": "2022-01-17T14:39:06.585Z"
   },
   {
    "duration": 19,
    "start_time": "2022-01-17T14:39:06.594Z"
   },
   {
    "duration": 6,
    "start_time": "2022-01-17T14:39:06.615Z"
   },
   {
    "duration": 11,
    "start_time": "2022-01-17T14:39:06.622Z"
   },
   {
    "duration": 13,
    "start_time": "2022-01-17T14:39:06.635Z"
   },
   {
    "duration": 16,
    "start_time": "2022-01-17T14:39:06.672Z"
   },
   {
    "duration": 8,
    "start_time": "2022-01-17T14:39:06.692Z"
   },
   {
    "duration": 11,
    "start_time": "2022-01-17T14:39:06.701Z"
   },
   {
    "duration": 19,
    "start_time": "2022-01-17T14:39:06.713Z"
   },
   {
    "duration": 8,
    "start_time": "2022-01-17T14:39:06.734Z"
   },
   {
    "duration": 15,
    "start_time": "2022-01-17T14:42:18.483Z"
   },
   {
    "duration": 2,
    "start_time": "2022-01-17T14:42:22.839Z"
   },
   {
    "duration": 44,
    "start_time": "2022-01-17T14:42:22.858Z"
   },
   {
    "duration": 11,
    "start_time": "2022-01-17T14:42:22.904Z"
   },
   {
    "duration": 17,
    "start_time": "2022-01-17T14:42:22.917Z"
   },
   {
    "duration": 8,
    "start_time": "2022-01-17T14:42:22.936Z"
   },
   {
    "duration": 28,
    "start_time": "2022-01-17T14:42:22.946Z"
   },
   {
    "duration": 6,
    "start_time": "2022-01-17T14:42:22.975Z"
   },
   {
    "duration": 4,
    "start_time": "2022-01-17T14:42:22.983Z"
   },
   {
    "duration": 5,
    "start_time": "2022-01-17T14:42:22.988Z"
   },
   {
    "duration": 23,
    "start_time": "2022-01-17T14:42:22.995Z"
   },
   {
    "duration": 70,
    "start_time": "2022-01-17T14:42:23.020Z"
   },
   {
    "duration": 4,
    "start_time": "2022-01-17T14:42:23.091Z"
   },
   {
    "duration": 22,
    "start_time": "2022-01-17T14:42:23.096Z"
   },
   {
    "duration": 18,
    "start_time": "2022-01-17T14:42:23.120Z"
   },
   {
    "duration": 23,
    "start_time": "2022-01-17T14:42:23.140Z"
   },
   {
    "duration": 19,
    "start_time": "2022-01-17T14:42:23.164Z"
   },
   {
    "duration": 14,
    "start_time": "2022-01-17T14:42:23.185Z"
   },
   {
    "duration": 23,
    "start_time": "2022-01-17T14:42:23.201Z"
   },
   {
    "duration": 24,
    "start_time": "2022-01-17T14:42:23.225Z"
   },
   {
    "duration": 18,
    "start_time": "2022-01-17T14:42:23.251Z"
   },
   {
    "duration": 14,
    "start_time": "2022-01-17T14:42:23.271Z"
   },
   {
    "duration": 8,
    "start_time": "2022-01-17T14:42:23.286Z"
   },
   {
    "duration": 23,
    "start_time": "2022-01-17T14:42:23.296Z"
   },
   {
    "duration": 16,
    "start_time": "2022-01-17T14:42:23.320Z"
   },
   {
    "duration": 3418,
    "start_time": "2022-01-17T14:42:23.337Z"
   },
   {
    "duration": 3,
    "start_time": "2022-01-17T14:42:26.757Z"
   },
   {
    "duration": 24,
    "start_time": "2022-01-17T14:42:26.772Z"
   },
   {
    "duration": 6,
    "start_time": "2022-01-17T14:42:26.800Z"
   },
   {
    "duration": 8,
    "start_time": "2022-01-17T14:42:26.808Z"
   },
   {
    "duration": 4,
    "start_time": "2022-01-17T14:42:26.818Z"
   },
   {
    "duration": 12,
    "start_time": "2022-01-17T14:42:26.824Z"
   },
   {
    "duration": 44,
    "start_time": "2022-01-17T14:42:26.838Z"
   },
   {
    "duration": 7,
    "start_time": "2022-01-17T14:42:26.884Z"
   },
   {
    "duration": 12,
    "start_time": "2022-01-17T14:42:26.892Z"
   },
   {
    "duration": 9,
    "start_time": "2022-01-17T14:42:26.905Z"
   },
   {
    "duration": 20,
    "start_time": "2022-01-17T14:42:26.916Z"
   },
   {
    "duration": 7,
    "start_time": "2022-01-17T14:42:26.937Z"
   },
   {
    "duration": 12,
    "start_time": "2022-01-17T14:42:26.972Z"
   },
   {
    "duration": 4,
    "start_time": "2022-01-17T14:42:26.986Z"
   },
   {
    "duration": 11,
    "start_time": "2022-01-17T14:42:26.992Z"
   },
   {
    "duration": 8,
    "start_time": "2022-01-17T14:42:27.004Z"
   },
   {
    "duration": 26,
    "start_time": "2022-01-17T14:42:27.013Z"
   },
   {
    "duration": 6,
    "start_time": "2022-01-17T14:42:27.072Z"
   },
   {
    "duration": 7,
    "start_time": "2022-01-17T14:42:27.080Z"
   },
   {
    "duration": 18,
    "start_time": "2022-01-17T14:42:27.089Z"
   },
   {
    "duration": 4,
    "start_time": "2022-01-17T14:42:27.109Z"
   },
   {
    "duration": 9,
    "start_time": "2022-01-17T14:42:27.115Z"
   },
   {
    "duration": 47,
    "start_time": "2022-01-17T14:42:27.126Z"
   },
   {
    "duration": 7,
    "start_time": "2022-01-17T14:42:27.174Z"
   },
   {
    "duration": 17,
    "start_time": "2022-01-17T14:42:27.183Z"
   },
   {
    "duration": 7,
    "start_time": "2022-01-17T14:42:27.201Z"
   },
   {
    "duration": 10,
    "start_time": "2022-01-17T14:42:27.210Z"
   },
   {
    "duration": 13,
    "start_time": "2022-01-17T14:42:27.221Z"
   },
   {
    "duration": 40,
    "start_time": "2022-01-17T14:42:27.236Z"
   },
   {
    "duration": 7,
    "start_time": "2022-01-17T14:42:27.278Z"
   },
   {
    "duration": 9,
    "start_time": "2022-01-17T14:42:27.287Z"
   },
   {
    "duration": 17,
    "start_time": "2022-01-17T14:42:27.298Z"
   },
   {
    "duration": 8,
    "start_time": "2022-01-17T14:42:27.317Z"
   },
   {
    "duration": 2,
    "start_time": "2022-01-17T14:45:03.035Z"
   },
   {
    "duration": 47,
    "start_time": "2022-01-17T14:45:03.039Z"
   },
   {
    "duration": 12,
    "start_time": "2022-01-17T14:45:03.088Z"
   },
   {
    "duration": 11,
    "start_time": "2022-01-17T14:45:03.102Z"
   },
   {
    "duration": 8,
    "start_time": "2022-01-17T14:45:03.115Z"
   },
   {
    "duration": 5,
    "start_time": "2022-01-17T14:45:03.125Z"
   },
   {
    "duration": 8,
    "start_time": "2022-01-17T14:45:03.132Z"
   },
   {
    "duration": 34,
    "start_time": "2022-01-17T14:45:03.141Z"
   },
   {
    "duration": 8,
    "start_time": "2022-01-17T14:45:03.176Z"
   },
   {
    "duration": 18,
    "start_time": "2022-01-17T14:45:03.185Z"
   },
   {
    "duration": 35,
    "start_time": "2022-01-17T14:45:03.204Z"
   },
   {
    "duration": 32,
    "start_time": "2022-01-17T14:45:03.240Z"
   },
   {
    "duration": 5,
    "start_time": "2022-01-17T14:45:03.273Z"
   },
   {
    "duration": 11,
    "start_time": "2022-01-17T14:45:03.280Z"
   },
   {
    "duration": 13,
    "start_time": "2022-01-17T14:45:03.293Z"
   },
   {
    "duration": 16,
    "start_time": "2022-01-17T14:45:03.307Z"
   },
   {
    "duration": 13,
    "start_time": "2022-01-17T14:45:03.324Z"
   },
   {
    "duration": 46,
    "start_time": "2022-01-17T14:45:03.338Z"
   },
   {
    "duration": 15,
    "start_time": "2022-01-17T14:45:03.388Z"
   },
   {
    "duration": 13,
    "start_time": "2022-01-17T14:45:03.405Z"
   },
   {
    "duration": 13,
    "start_time": "2022-01-17T14:45:03.419Z"
   },
   {
    "duration": 8,
    "start_time": "2022-01-17T14:45:03.434Z"
   },
   {
    "duration": 41,
    "start_time": "2022-01-17T14:45:03.444Z"
   },
   {
    "duration": 7,
    "start_time": "2022-01-17T14:45:03.487Z"
   },
   {
    "duration": 3335,
    "start_time": "2022-01-17T14:45:03.496Z"
   },
   {
    "duration": 3,
    "start_time": "2022-01-17T14:45:06.833Z"
   },
   {
    "duration": 34,
    "start_time": "2022-01-17T14:45:06.838Z"
   },
   {
    "duration": 6,
    "start_time": "2022-01-17T14:45:06.874Z"
   },
   {
    "duration": 17,
    "start_time": "2022-01-17T14:45:06.881Z"
   },
   {
    "duration": 5,
    "start_time": "2022-01-17T14:45:06.899Z"
   },
   {
    "duration": 14,
    "start_time": "2022-01-17T14:45:06.905Z"
   },
   {
    "duration": 11,
    "start_time": "2022-01-17T14:45:06.921Z"
   },
   {
    "duration": 6,
    "start_time": "2022-01-17T14:45:06.934Z"
   },
   {
    "duration": 39,
    "start_time": "2022-01-17T14:45:06.942Z"
   },
   {
    "duration": 9,
    "start_time": "2022-01-17T14:45:06.983Z"
   },
   {
    "duration": 19,
    "start_time": "2022-01-17T14:45:06.994Z"
   },
   {
    "duration": 9,
    "start_time": "2022-01-17T14:45:07.015Z"
   },
   {
    "duration": 47,
    "start_time": "2022-01-17T14:45:07.025Z"
   },
   {
    "duration": 5,
    "start_time": "2022-01-17T14:45:07.074Z"
   },
   {
    "duration": 10,
    "start_time": "2022-01-17T14:45:07.081Z"
   },
   {
    "duration": 7,
    "start_time": "2022-01-17T14:45:07.092Z"
   },
   {
    "duration": 23,
    "start_time": "2022-01-17T14:45:07.100Z"
   },
   {
    "duration": 4,
    "start_time": "2022-01-17T14:45:07.125Z"
   },
   {
    "duration": 8,
    "start_time": "2022-01-17T14:45:07.131Z"
   },
   {
    "duration": 47,
    "start_time": "2022-01-17T14:45:07.140Z"
   },
   {
    "duration": 4,
    "start_time": "2022-01-17T14:45:07.188Z"
   },
   {
    "duration": 10,
    "start_time": "2022-01-17T14:45:07.194Z"
   },
   {
    "duration": 12,
    "start_time": "2022-01-17T14:45:07.206Z"
   },
   {
    "duration": 15,
    "start_time": "2022-01-17T14:45:07.220Z"
   },
   {
    "duration": 21,
    "start_time": "2022-01-17T14:45:07.237Z"
   },
   {
    "duration": 17,
    "start_time": "2022-01-17T14:45:07.259Z"
   },
   {
    "duration": 12,
    "start_time": "2022-01-17T14:45:07.277Z"
   },
   {
    "duration": 11,
    "start_time": "2022-01-17T14:45:07.291Z"
   },
   {
    "duration": 22,
    "start_time": "2022-01-17T14:45:07.303Z"
   },
   {
    "duration": 8,
    "start_time": "2022-01-17T14:45:07.328Z"
   },
   {
    "duration": 10,
    "start_time": "2022-01-17T14:45:07.338Z"
   },
   {
    "duration": 16,
    "start_time": "2022-01-17T14:45:07.372Z"
   },
   {
    "duration": 8,
    "start_time": "2022-01-17T14:45:07.390Z"
   },
   {
    "duration": 21,
    "start_time": "2022-01-17T15:54:38.379Z"
   },
   {
    "duration": 5,
    "start_time": "2022-01-17T15:54:44.178Z"
   },
   {
    "duration": 54,
    "start_time": "2022-01-17T15:54:44.189Z"
   },
   {
    "duration": 12,
    "start_time": "2022-01-17T15:54:44.246Z"
   },
   {
    "duration": 36,
    "start_time": "2022-01-17T15:54:44.260Z"
   },
   {
    "duration": 11,
    "start_time": "2022-01-17T15:54:44.298Z"
   },
   {
    "duration": 6,
    "start_time": "2022-01-17T15:54:44.310Z"
   },
   {
    "duration": 5,
    "start_time": "2022-01-17T15:54:44.318Z"
   },
   {
    "duration": 4,
    "start_time": "2022-01-17T15:54:44.325Z"
   },
   {
    "duration": 4,
    "start_time": "2022-01-17T15:54:44.331Z"
   },
   {
    "duration": 63,
    "start_time": "2022-01-17T15:54:44.336Z"
   },
   {
    "duration": 38,
    "start_time": "2022-01-17T15:54:44.401Z"
   },
   {
    "duration": 4,
    "start_time": "2022-01-17T15:54:44.441Z"
   },
   {
    "duration": 33,
    "start_time": "2022-01-17T15:54:44.446Z"
   },
   {
    "duration": 16,
    "start_time": "2022-01-17T15:54:44.483Z"
   },
   {
    "duration": 13,
    "start_time": "2022-01-17T15:54:44.501Z"
   },
   {
    "duration": 16,
    "start_time": "2022-01-17T15:54:44.516Z"
   },
   {
    "duration": 14,
    "start_time": "2022-01-17T15:54:44.533Z"
   },
   {
    "duration": 41,
    "start_time": "2022-01-17T15:54:44.548Z"
   },
   {
    "duration": 18,
    "start_time": "2022-01-17T15:54:44.591Z"
   },
   {
    "duration": 14,
    "start_time": "2022-01-17T15:54:44.611Z"
   },
   {
    "duration": 13,
    "start_time": "2022-01-17T15:54:44.627Z"
   },
   {
    "duration": 32,
    "start_time": "2022-01-17T15:54:44.641Z"
   },
   {
    "duration": 23,
    "start_time": "2022-01-17T15:54:44.682Z"
   },
   {
    "duration": 10,
    "start_time": "2022-01-17T15:54:44.707Z"
   },
   {
    "duration": 3597,
    "start_time": "2022-01-17T15:54:44.718Z"
   },
   {
    "duration": 3,
    "start_time": "2022-01-17T15:54:48.317Z"
   },
   {
    "duration": 32,
    "start_time": "2022-01-17T15:54:48.321Z"
   },
   {
    "duration": 6,
    "start_time": "2022-01-17T15:54:48.355Z"
   },
   {
    "duration": 20,
    "start_time": "2022-01-17T15:54:48.363Z"
   },
   {
    "duration": 14,
    "start_time": "2022-01-17T15:54:48.385Z"
   },
   {
    "duration": 14,
    "start_time": "2022-01-17T15:54:48.401Z"
   },
   {
    "duration": 22,
    "start_time": "2022-01-17T15:54:48.417Z"
   },
   {
    "duration": 11,
    "start_time": "2022-01-17T15:54:48.441Z"
   },
   {
    "duration": 22,
    "start_time": "2022-01-17T15:54:48.453Z"
   },
   {
    "duration": 11,
    "start_time": "2022-01-17T15:54:48.477Z"
   },
   {
    "duration": 24,
    "start_time": "2022-01-17T15:54:48.491Z"
   },
   {
    "duration": 7,
    "start_time": "2022-01-17T15:54:48.517Z"
   },
   {
    "duration": 15,
    "start_time": "2022-01-17T15:54:48.526Z"
   },
   {
    "duration": 36,
    "start_time": "2022-01-17T15:54:48.542Z"
   },
   {
    "duration": 17,
    "start_time": "2022-01-17T15:54:48.581Z"
   },
   {
    "duration": 8,
    "start_time": "2022-01-17T15:54:48.600Z"
   },
   {
    "duration": 25,
    "start_time": "2022-01-17T15:54:48.610Z"
   },
   {
    "duration": 6,
    "start_time": "2022-01-17T15:54:48.637Z"
   },
   {
    "duration": 40,
    "start_time": "2022-01-17T15:54:48.645Z"
   },
   {
    "duration": 27,
    "start_time": "2022-01-17T15:54:48.688Z"
   },
   {
    "duration": 5,
    "start_time": "2022-01-17T15:54:48.717Z"
   },
   {
    "duration": 10,
    "start_time": "2022-01-17T15:54:48.724Z"
   },
   {
    "duration": 25,
    "start_time": "2022-01-17T15:54:48.736Z"
   },
   {
    "duration": 18,
    "start_time": "2022-01-17T15:54:48.779Z"
   },
   {
    "duration": 18,
    "start_time": "2022-01-17T15:54:48.799Z"
   },
   {
    "duration": 8,
    "start_time": "2022-01-17T15:54:48.818Z"
   },
   {
    "duration": 12,
    "start_time": "2022-01-17T15:54:48.828Z"
   },
   {
    "duration": 17,
    "start_time": "2022-01-17T15:54:48.842Z"
   },
   {
    "duration": 39,
    "start_time": "2022-01-17T15:54:48.861Z"
   },
   {
    "duration": 8,
    "start_time": "2022-01-17T15:54:48.902Z"
   },
   {
    "duration": 20,
    "start_time": "2022-01-17T15:54:48.912Z"
   },
   {
    "duration": 21,
    "start_time": "2022-01-17T15:54:48.934Z"
   },
   {
    "duration": 8,
    "start_time": "2022-01-17T15:54:48.957Z"
   },
   {
    "duration": 29,
    "start_time": "2022-01-17T15:55:15.978Z"
   },
   {
    "duration": 2,
    "start_time": "2022-01-17T15:55:24.707Z"
   },
   {
    "duration": 48,
    "start_time": "2022-01-17T15:55:24.711Z"
   },
   {
    "duration": 15,
    "start_time": "2022-01-17T15:55:24.760Z"
   },
   {
    "duration": 24,
    "start_time": "2022-01-17T15:55:24.777Z"
   },
   {
    "duration": 14,
    "start_time": "2022-01-17T15:55:24.803Z"
   },
   {
    "duration": 4,
    "start_time": "2022-01-17T15:55:24.819Z"
   },
   {
    "duration": 5,
    "start_time": "2022-01-17T15:55:24.825Z"
   },
   {
    "duration": 4,
    "start_time": "2022-01-17T15:55:24.832Z"
   },
   {
    "duration": 36,
    "start_time": "2022-01-17T15:55:24.837Z"
   },
   {
    "duration": 33,
    "start_time": "2022-01-17T15:55:24.875Z"
   },
   {
    "duration": 37,
    "start_time": "2022-01-17T15:55:24.909Z"
   },
   {
    "duration": 32,
    "start_time": "2022-01-17T15:55:24.948Z"
   },
   {
    "duration": 13,
    "start_time": "2022-01-17T15:55:24.982Z"
   },
   {
    "duration": 17,
    "start_time": "2022-01-17T15:55:24.999Z"
   },
   {
    "duration": 14,
    "start_time": "2022-01-17T15:55:25.018Z"
   },
   {
    "duration": 17,
    "start_time": "2022-01-17T15:55:25.033Z"
   },
   {
    "duration": 56,
    "start_time": "2022-01-17T15:55:25.052Z"
   },
   {
    "duration": 11,
    "start_time": "2022-01-17T15:55:25.109Z"
   },
   {
    "duration": 22,
    "start_time": "2022-01-17T15:55:25.125Z"
   },
   {
    "duration": 33,
    "start_time": "2022-01-17T15:55:25.150Z"
   },
   {
    "duration": 27,
    "start_time": "2022-01-17T15:55:25.185Z"
   },
   {
    "duration": 8,
    "start_time": "2022-01-17T15:55:25.214Z"
   },
   {
    "duration": 16,
    "start_time": "2022-01-17T15:55:25.224Z"
   },
   {
    "duration": 7,
    "start_time": "2022-01-17T15:55:25.241Z"
   },
   {
    "duration": 3896,
    "start_time": "2022-01-17T15:55:25.250Z"
   },
   {
    "duration": 4,
    "start_time": "2022-01-17T15:55:29.148Z"
   },
   {
    "duration": 38,
    "start_time": "2022-01-17T15:55:29.154Z"
   },
   {
    "duration": 8,
    "start_time": "2022-01-17T15:55:29.194Z"
   },
   {
    "duration": 19,
    "start_time": "2022-01-17T15:55:29.204Z"
   },
   {
    "duration": 5,
    "start_time": "2022-01-17T15:55:29.225Z"
   },
   {
    "duration": 47,
    "start_time": "2022-01-17T15:55:29.232Z"
   },
   {
    "duration": 22,
    "start_time": "2022-01-17T15:55:29.282Z"
   },
   {
    "duration": 9,
    "start_time": "2022-01-17T15:55:29.306Z"
   },
   {
    "duration": 19,
    "start_time": "2022-01-17T15:55:29.317Z"
   },
   {
    "duration": 12,
    "start_time": "2022-01-17T15:55:29.338Z"
   },
   {
    "duration": 29,
    "start_time": "2022-01-17T15:55:29.372Z"
   },
   {
    "duration": 16,
    "start_time": "2022-01-17T15:55:29.403Z"
   },
   {
    "duration": 12,
    "start_time": "2022-01-17T15:55:29.421Z"
   },
   {
    "duration": 7,
    "start_time": "2022-01-17T15:55:29.435Z"
   },
   {
    "duration": 9,
    "start_time": "2022-01-17T15:55:29.444Z"
   },
   {
    "duration": 16,
    "start_time": "2022-01-17T15:55:29.478Z"
   },
   {
    "duration": 25,
    "start_time": "2022-01-17T15:55:29.498Z"
   },
   {
    "duration": 5,
    "start_time": "2022-01-17T15:55:29.524Z"
   },
   {
    "duration": 6,
    "start_time": "2022-01-17T15:55:29.531Z"
   },
   {
    "duration": 40,
    "start_time": "2022-01-17T15:55:29.539Z"
   },
   {
    "duration": 8,
    "start_time": "2022-01-17T15:55:29.581Z"
   },
   {
    "duration": 13,
    "start_time": "2022-01-17T15:55:29.591Z"
   },
   {
    "duration": 11,
    "start_time": "2022-01-17T15:55:29.606Z"
   },
   {
    "duration": 14,
    "start_time": "2022-01-17T15:55:29.619Z"
   },
   {
    "duration": 21,
    "start_time": "2022-01-17T15:55:29.634Z"
   },
   {
    "duration": 33,
    "start_time": "2022-01-17T15:55:29.657Z"
   },
   {
    "duration": 16,
    "start_time": "2022-01-17T15:55:29.693Z"
   },
   {
    "duration": 12,
    "start_time": "2022-01-17T15:55:29.711Z"
   },
   {
    "duration": 26,
    "start_time": "2022-01-17T15:55:29.725Z"
   },
   {
    "duration": 19,
    "start_time": "2022-01-17T15:55:29.754Z"
   },
   {
    "duration": 14,
    "start_time": "2022-01-17T15:55:29.775Z"
   },
   {
    "duration": 23,
    "start_time": "2022-01-17T15:55:29.791Z"
   },
   {
    "duration": 8,
    "start_time": "2022-01-17T15:55:29.816Z"
   },
   {
    "duration": 14,
    "start_time": "2022-01-17T16:00:03.990Z"
   },
   {
    "duration": 3,
    "start_time": "2022-01-17T16:00:11.134Z"
   },
   {
    "duration": 72,
    "start_time": "2022-01-17T16:00:11.138Z"
   },
   {
    "duration": 11,
    "start_time": "2022-01-17T16:00:11.212Z"
   },
   {
    "duration": 36,
    "start_time": "2022-01-17T16:00:11.225Z"
   },
   {
    "duration": 30,
    "start_time": "2022-01-17T16:00:11.263Z"
   },
   {
    "duration": 17,
    "start_time": "2022-01-17T16:00:11.294Z"
   },
   {
    "duration": 22,
    "start_time": "2022-01-17T16:00:11.313Z"
   },
   {
    "duration": 16,
    "start_time": "2022-01-17T16:00:11.337Z"
   },
   {
    "duration": 25,
    "start_time": "2022-01-17T16:00:11.355Z"
   },
   {
    "duration": 28,
    "start_time": "2022-01-17T16:00:11.382Z"
   },
   {
    "duration": 42,
    "start_time": "2022-01-17T16:00:11.412Z"
   },
   {
    "duration": 5,
    "start_time": "2022-01-17T16:00:11.455Z"
   },
   {
    "duration": 6,
    "start_time": "2022-01-17T16:00:11.461Z"
   },
   {
    "duration": 18,
    "start_time": "2022-01-17T16:00:11.469Z"
   },
   {
    "duration": 14,
    "start_time": "2022-01-17T16:00:11.488Z"
   },
   {
    "duration": 16,
    "start_time": "2022-01-17T16:00:11.503Z"
   },
   {
    "duration": 14,
    "start_time": "2022-01-17T16:00:11.520Z"
   },
   {
    "duration": 10,
    "start_time": "2022-01-17T16:00:11.535Z"
   },
   {
    "duration": 47,
    "start_time": "2022-01-17T16:00:11.548Z"
   },
   {
    "duration": 15,
    "start_time": "2022-01-17T16:00:11.597Z"
   },
   {
    "duration": 14,
    "start_time": "2022-01-17T16:00:11.613Z"
   },
   {
    "duration": 8,
    "start_time": "2022-01-17T16:00:11.628Z"
   },
   {
    "duration": 36,
    "start_time": "2022-01-17T16:00:11.637Z"
   },
   {
    "duration": 9,
    "start_time": "2022-01-17T16:00:11.680Z"
   },
   {
    "duration": 3439,
    "start_time": "2022-01-17T16:00:11.690Z"
   },
   {
    "duration": 3,
    "start_time": "2022-01-17T16:00:15.131Z"
   },
   {
    "duration": 36,
    "start_time": "2022-01-17T16:00:15.135Z"
   },
   {
    "duration": 7,
    "start_time": "2022-01-17T16:00:15.174Z"
   },
   {
    "duration": 14,
    "start_time": "2022-01-17T16:00:15.185Z"
   },
   {
    "duration": 7,
    "start_time": "2022-01-17T16:00:15.201Z"
   },
   {
    "duration": 14,
    "start_time": "2022-01-17T16:00:15.210Z"
   },
   {
    "duration": 16,
    "start_time": "2022-01-17T16:00:15.225Z"
   },
   {
    "duration": 33,
    "start_time": "2022-01-17T16:00:15.242Z"
   },
   {
    "duration": 17,
    "start_time": "2022-01-17T16:00:15.278Z"
   },
   {
    "duration": 8,
    "start_time": "2022-01-17T16:00:15.297Z"
   },
   {
    "duration": 23,
    "start_time": "2022-01-17T16:00:15.307Z"
   },
   {
    "duration": 9,
    "start_time": "2022-01-17T16:00:15.332Z"
   },
   {
    "duration": 15,
    "start_time": "2022-01-17T16:00:15.375Z"
   },
   {
    "duration": 5,
    "start_time": "2022-01-17T16:00:15.392Z"
   },
   {
    "duration": 15,
    "start_time": "2022-01-17T16:00:15.399Z"
   },
   {
    "duration": 7,
    "start_time": "2022-01-17T16:00:15.416Z"
   },
   {
    "duration": 54,
    "start_time": "2022-01-17T16:00:15.425Z"
   },
   {
    "duration": 9,
    "start_time": "2022-01-17T16:00:15.481Z"
   },
   {
    "duration": 6,
    "start_time": "2022-01-17T16:00:15.492Z"
   },
   {
    "duration": 20,
    "start_time": "2022-01-17T16:00:15.500Z"
   },
   {
    "duration": 4,
    "start_time": "2022-01-17T16:00:15.522Z"
   },
   {
    "duration": 11,
    "start_time": "2022-01-17T16:00:15.528Z"
   },
   {
    "duration": 33,
    "start_time": "2022-01-17T16:00:15.541Z"
   },
   {
    "duration": 11,
    "start_time": "2022-01-17T16:00:15.576Z"
   },
   {
    "duration": 17,
    "start_time": "2022-01-17T16:00:15.589Z"
   },
   {
    "duration": 7,
    "start_time": "2022-01-17T16:00:15.608Z"
   },
   {
    "duration": 13,
    "start_time": "2022-01-17T16:00:15.616Z"
   },
   {
    "duration": 14,
    "start_time": "2022-01-17T16:00:15.631Z"
   },
   {
    "duration": 23,
    "start_time": "2022-01-17T16:00:15.671Z"
   },
   {
    "duration": 8,
    "start_time": "2022-01-17T16:00:15.698Z"
   },
   {
    "duration": 9,
    "start_time": "2022-01-17T16:00:15.708Z"
   },
   {
    "duration": 18,
    "start_time": "2022-01-17T16:00:15.718Z"
   },
   {
    "duration": 38,
    "start_time": "2022-01-17T16:00:15.737Z"
   },
   {
    "duration": 2,
    "start_time": "2022-01-17T16:11:31.253Z"
   },
   {
    "duration": 54,
    "start_time": "2022-01-17T16:11:31.257Z"
   },
   {
    "duration": 12,
    "start_time": "2022-01-17T16:11:31.313Z"
   },
   {
    "duration": 12,
    "start_time": "2022-01-17T16:11:31.327Z"
   },
   {
    "duration": 9,
    "start_time": "2022-01-17T16:11:31.341Z"
   },
   {
    "duration": 6,
    "start_time": "2022-01-17T16:11:31.372Z"
   },
   {
    "duration": 9,
    "start_time": "2022-01-17T16:11:31.379Z"
   },
   {
    "duration": 14,
    "start_time": "2022-01-17T16:11:31.391Z"
   },
   {
    "duration": 4,
    "start_time": "2022-01-17T16:11:31.407Z"
   },
   {
    "duration": 20,
    "start_time": "2022-01-17T16:11:31.413Z"
   },
   {
    "duration": 62,
    "start_time": "2022-01-17T16:11:31.435Z"
   },
   {
    "duration": 5,
    "start_time": "2022-01-17T16:11:31.498Z"
   },
   {
    "duration": 8,
    "start_time": "2022-01-17T16:11:31.504Z"
   },
   {
    "duration": 11,
    "start_time": "2022-01-17T16:11:31.513Z"
   },
   {
    "duration": 13,
    "start_time": "2022-01-17T16:11:31.526Z"
   },
   {
    "duration": 40,
    "start_time": "2022-01-17T16:11:31.541Z"
   },
   {
    "duration": 14,
    "start_time": "2022-01-17T16:11:31.583Z"
   },
   {
    "duration": 15,
    "start_time": "2022-01-17T16:11:31.599Z"
   },
   {
    "duration": 22,
    "start_time": "2022-01-17T16:11:31.615Z"
   },
   {
    "duration": 14,
    "start_time": "2022-01-17T16:11:31.639Z"
   },
   {
    "duration": 31,
    "start_time": "2022-01-17T16:11:31.654Z"
   },
   {
    "duration": 8,
    "start_time": "2022-01-17T16:11:31.687Z"
   },
   {
    "duration": 19,
    "start_time": "2022-01-17T16:11:31.698Z"
   },
   {
    "duration": 7,
    "start_time": "2022-01-17T16:11:31.719Z"
   },
   {
    "duration": 3363,
    "start_time": "2022-01-17T16:11:31.728Z"
   },
   {
    "duration": 3,
    "start_time": "2022-01-17T16:11:35.092Z"
   },
   {
    "duration": 25,
    "start_time": "2022-01-17T16:11:35.097Z"
   },
   {
    "duration": 6,
    "start_time": "2022-01-17T16:11:35.123Z"
   },
   {
    "duration": 9,
    "start_time": "2022-01-17T16:11:35.131Z"
   },
   {
    "duration": 30,
    "start_time": "2022-01-17T16:11:35.142Z"
   },
   {
    "duration": 13,
    "start_time": "2022-01-17T16:11:35.173Z"
   },
   {
    "duration": 12,
    "start_time": "2022-01-17T16:11:35.188Z"
   },
   {
    "duration": 6,
    "start_time": "2022-01-17T16:11:35.201Z"
   },
   {
    "duration": 16,
    "start_time": "2022-01-17T16:11:35.209Z"
   },
   {
    "duration": 10,
    "start_time": "2022-01-17T16:11:35.227Z"
   },
   {
    "duration": 50,
    "start_time": "2022-01-17T16:11:35.239Z"
   },
   {
    "duration": 8,
    "start_time": "2022-01-17T16:11:35.291Z"
   },
   {
    "duration": 15,
    "start_time": "2022-01-17T16:11:35.301Z"
   },
   {
    "duration": 13,
    "start_time": "2022-01-17T16:11:35.317Z"
   },
   {
    "duration": 14,
    "start_time": "2022-01-17T16:11:35.332Z"
   },
   {
    "duration": 28,
    "start_time": "2022-01-17T16:11:35.347Z"
   },
   {
    "duration": 23,
    "start_time": "2022-01-17T16:11:35.377Z"
   },
   {
    "duration": 5,
    "start_time": "2022-01-17T16:11:35.402Z"
   },
   {
    "duration": 13,
    "start_time": "2022-01-17T16:11:35.408Z"
   },
   {
    "duration": 21,
    "start_time": "2022-01-17T16:11:35.422Z"
   },
   {
    "duration": 4,
    "start_time": "2022-01-17T16:11:35.445Z"
   },
   {
    "duration": 10,
    "start_time": "2022-01-17T16:11:35.473Z"
   },
   {
    "duration": 10,
    "start_time": "2022-01-17T16:11:35.485Z"
   },
   {
    "duration": 16,
    "start_time": "2022-01-17T16:11:35.496Z"
   },
   {
    "duration": 21,
    "start_time": "2022-01-17T16:11:35.514Z"
   },
   {
    "duration": 6,
    "start_time": "2022-01-17T16:11:35.537Z"
   },
   {
    "duration": 31,
    "start_time": "2022-01-17T16:11:35.545Z"
   },
   {
    "duration": 8,
    "start_time": "2022-01-17T16:11:35.578Z"
   },
   {
    "duration": 19,
    "start_time": "2022-01-17T16:11:35.587Z"
   },
   {
    "duration": 7,
    "start_time": "2022-01-17T16:11:35.608Z"
   },
   {
    "duration": 13,
    "start_time": "2022-01-17T16:11:35.617Z"
   },
   {
    "duration": 23,
    "start_time": "2022-01-17T16:11:35.631Z"
   },
   {
    "duration": 23,
    "start_time": "2022-01-17T16:11:35.655Z"
   },
   {
    "duration": 2,
    "start_time": "2022-01-17T16:15:15.503Z"
   },
   {
    "duration": 69,
    "start_time": "2022-01-17T16:15:15.507Z"
   },
   {
    "duration": 11,
    "start_time": "2022-01-17T16:15:15.579Z"
   },
   {
    "duration": 21,
    "start_time": "2022-01-17T16:15:15.592Z"
   },
   {
    "duration": 16,
    "start_time": "2022-01-17T16:15:15.615Z"
   },
   {
    "duration": 22,
    "start_time": "2022-01-17T16:15:15.632Z"
   },
   {
    "duration": 8,
    "start_time": "2022-01-17T16:15:15.656Z"
   },
   {
    "duration": 7,
    "start_time": "2022-01-17T16:15:15.665Z"
   },
   {
    "duration": 9,
    "start_time": "2022-01-17T16:15:15.674Z"
   },
   {
    "duration": 28,
    "start_time": "2022-01-17T16:15:15.685Z"
   },
   {
    "duration": 35,
    "start_time": "2022-01-17T16:15:15.714Z"
   },
   {
    "duration": 4,
    "start_time": "2022-01-17T16:15:15.750Z"
   },
   {
    "duration": 7,
    "start_time": "2022-01-17T16:15:15.771Z"
   },
   {
    "duration": 16,
    "start_time": "2022-01-17T16:15:15.779Z"
   },
   {
    "duration": 14,
    "start_time": "2022-01-17T16:15:15.797Z"
   },
   {
    "duration": 15,
    "start_time": "2022-01-17T16:15:15.812Z"
   },
   {
    "duration": 13,
    "start_time": "2022-01-17T16:15:15.828Z"
   },
   {
    "duration": 34,
    "start_time": "2022-01-17T16:15:15.843Z"
   },
   {
    "duration": 28,
    "start_time": "2022-01-17T16:15:15.880Z"
   },
   {
    "duration": 14,
    "start_time": "2022-01-17T16:15:15.910Z"
   },
   {
    "duration": 13,
    "start_time": "2022-01-17T16:15:15.926Z"
   },
   {
    "duration": 8,
    "start_time": "2022-01-17T16:15:15.940Z"
   },
   {
    "duration": 27,
    "start_time": "2022-01-17T16:15:15.950Z"
   },
   {
    "duration": 7,
    "start_time": "2022-01-17T16:15:15.979Z"
   },
   {
    "duration": 3396,
    "start_time": "2022-01-17T16:15:15.987Z"
   },
   {
    "duration": 2,
    "start_time": "2022-01-17T16:15:19.385Z"
   },
   {
    "duration": 31,
    "start_time": "2022-01-17T16:15:19.389Z"
   },
   {
    "duration": 6,
    "start_time": "2022-01-17T16:15:19.422Z"
   },
   {
    "duration": 12,
    "start_time": "2022-01-17T16:15:19.430Z"
   },
   {
    "duration": 11,
    "start_time": "2022-01-17T16:15:19.444Z"
   },
   {
    "duration": 26,
    "start_time": "2022-01-17T16:15:19.457Z"
   },
   {
    "duration": 21,
    "start_time": "2022-01-17T16:15:19.485Z"
   },
   {
    "duration": 21,
    "start_time": "2022-01-17T16:15:19.508Z"
   },
   {
    "duration": 14,
    "start_time": "2022-01-17T16:15:19.531Z"
   },
   {
    "duration": 12,
    "start_time": "2022-01-17T16:15:19.546Z"
   },
   {
    "duration": 32,
    "start_time": "2022-01-17T16:15:19.560Z"
   },
   {
    "duration": 9,
    "start_time": "2022-01-17T16:15:19.594Z"
   },
   {
    "duration": 14,
    "start_time": "2022-01-17T16:15:19.604Z"
   },
   {
    "duration": 9,
    "start_time": "2022-01-17T16:15:19.620Z"
   },
   {
    "duration": 16,
    "start_time": "2022-01-17T16:15:19.630Z"
   },
   {
    "duration": 26,
    "start_time": "2022-01-17T16:15:19.647Z"
   },
   {
    "duration": 26,
    "start_time": "2022-01-17T16:15:19.674Z"
   },
   {
    "duration": 5,
    "start_time": "2022-01-17T16:15:19.701Z"
   },
   {
    "duration": 17,
    "start_time": "2022-01-17T16:15:19.708Z"
   },
   {
    "duration": 27,
    "start_time": "2022-01-17T16:15:19.726Z"
   },
   {
    "duration": 8,
    "start_time": "2022-01-17T16:15:19.755Z"
   },
   {
    "duration": 11,
    "start_time": "2022-01-17T16:15:19.772Z"
   },
   {
    "duration": 70,
    "start_time": "2022-01-17T16:15:19.785Z"
   },
   {
    "duration": 15,
    "start_time": "2022-01-17T16:15:19.856Z"
   },
   {
    "duration": 24,
    "start_time": "2022-01-17T16:15:19.873Z"
   },
   {
    "duration": 7,
    "start_time": "2022-01-17T16:15:19.898Z"
   },
   {
    "duration": 13,
    "start_time": "2022-01-17T16:15:19.907Z"
   },
   {
    "duration": 12,
    "start_time": "2022-01-17T16:15:19.921Z"
   },
   {
    "duration": 33,
    "start_time": "2022-01-17T16:15:19.934Z"
   },
   {
    "duration": 7,
    "start_time": "2022-01-17T16:15:19.974Z"
   },
   {
    "duration": 18,
    "start_time": "2022-01-17T16:15:19.983Z"
   },
   {
    "duration": 25,
    "start_time": "2022-01-17T16:15:20.003Z"
   },
   {
    "duration": 11,
    "start_time": "2022-01-17T16:15:20.029Z"
   },
   {
    "duration": 10,
    "start_time": "2022-01-17T16:37:02.532Z"
   },
   {
    "duration": 19,
    "start_time": "2022-01-17T16:43:40.180Z"
   },
   {
    "duration": 19,
    "start_time": "2022-01-17T16:43:50.460Z"
   },
   {
    "duration": 13,
    "start_time": "2022-01-17T16:43:56.154Z"
   },
   {
    "duration": 14,
    "start_time": "2022-01-17T16:44:00.553Z"
   },
   {
    "duration": 16,
    "start_time": "2022-01-17T16:44:04.705Z"
   },
   {
    "duration": 12,
    "start_time": "2022-01-17T16:44:16.613Z"
   },
   {
    "duration": 13,
    "start_time": "2022-01-17T16:44:22.778Z"
   },
   {
    "duration": 13,
    "start_time": "2022-01-17T16:44:33.090Z"
   },
   {
    "duration": 13,
    "start_time": "2022-01-17T16:44:40.547Z"
   },
   {
    "duration": 12,
    "start_time": "2022-01-17T16:44:48.030Z"
   },
   {
    "duration": 12,
    "start_time": "2022-01-17T16:44:55.669Z"
   },
   {
    "duration": 12,
    "start_time": "2022-01-17T16:45:03.864Z"
   },
   {
    "duration": 12,
    "start_time": "2022-01-17T16:45:15.032Z"
   },
   {
    "duration": 13,
    "start_time": "2022-01-17T16:45:20.635Z"
   },
   {
    "duration": 13,
    "start_time": "2022-01-17T16:45:24.720Z"
   },
   {
    "duration": 15,
    "start_time": "2022-01-17T16:45:30.706Z"
   },
   {
    "duration": 12,
    "start_time": "2022-01-17T16:45:36.097Z"
   },
   {
    "duration": 12,
    "start_time": "2022-01-17T16:45:42.644Z"
   },
   {
    "duration": 12,
    "start_time": "2022-01-17T16:45:47.264Z"
   },
   {
    "duration": 19,
    "start_time": "2022-01-17T16:45:58.865Z"
   },
   {
    "duration": 19,
    "start_time": "2022-01-17T16:46:05.657Z"
   },
   {
    "duration": 13,
    "start_time": "2022-01-17T16:46:13.783Z"
   },
   {
    "duration": 13,
    "start_time": "2022-01-17T16:46:20.760Z"
   },
   {
    "duration": 13,
    "start_time": "2022-01-17T16:46:27.282Z"
   },
   {
    "duration": 19,
    "start_time": "2022-01-17T16:46:35.373Z"
   },
   {
    "duration": 2,
    "start_time": "2022-01-17T16:46:39.488Z"
   },
   {
    "duration": 50,
    "start_time": "2022-01-17T16:46:39.496Z"
   },
   {
    "duration": 11,
    "start_time": "2022-01-17T16:46:39.548Z"
   },
   {
    "duration": 10,
    "start_time": "2022-01-17T16:46:39.561Z"
   },
   {
    "duration": 9,
    "start_time": "2022-01-17T16:46:39.573Z"
   },
   {
    "duration": 4,
    "start_time": "2022-01-17T16:46:39.584Z"
   },
   {
    "duration": 4,
    "start_time": "2022-01-17T16:46:39.590Z"
   },
   {
    "duration": 7,
    "start_time": "2022-01-17T16:46:39.596Z"
   },
   {
    "duration": 6,
    "start_time": "2022-01-17T16:46:39.604Z"
   },
   {
    "duration": 24,
    "start_time": "2022-01-17T16:46:39.613Z"
   },
   {
    "duration": 65,
    "start_time": "2022-01-17T16:46:39.639Z"
   },
   {
    "duration": 4,
    "start_time": "2022-01-17T16:46:39.705Z"
   },
   {
    "duration": 6,
    "start_time": "2022-01-17T16:46:39.711Z"
   },
   {
    "duration": 14,
    "start_time": "2022-01-17T16:46:39.718Z"
   },
   {
    "duration": 42,
    "start_time": "2022-01-17T16:46:39.733Z"
   },
   {
    "duration": 15,
    "start_time": "2022-01-17T16:46:39.777Z"
   },
   {
    "duration": 14,
    "start_time": "2022-01-17T16:46:39.793Z"
   },
   {
    "duration": 9,
    "start_time": "2022-01-17T16:46:39.809Z"
   },
   {
    "duration": 17,
    "start_time": "2022-01-17T16:46:39.819Z"
   },
   {
    "duration": 40,
    "start_time": "2022-01-17T16:46:39.837Z"
   },
   {
    "duration": 14,
    "start_time": "2022-01-17T16:46:39.878Z"
   },
   {
    "duration": 8,
    "start_time": "2022-01-17T16:46:39.894Z"
   },
   {
    "duration": 16,
    "start_time": "2022-01-17T16:46:39.903Z"
   },
   {
    "duration": 6,
    "start_time": "2022-01-17T16:46:39.921Z"
   },
   {
    "duration": 3784,
    "start_time": "2022-01-17T16:46:39.929Z"
   },
   {
    "duration": 3,
    "start_time": "2022-01-17T16:46:43.715Z"
   },
   {
    "duration": 23,
    "start_time": "2022-01-17T16:46:43.720Z"
   },
   {
    "duration": 5,
    "start_time": "2022-01-17T16:46:43.748Z"
   },
   {
    "duration": 8,
    "start_time": "2022-01-17T16:46:43.772Z"
   },
   {
    "duration": 5,
    "start_time": "2022-01-17T16:46:43.781Z"
   },
   {
    "duration": 11,
    "start_time": "2022-01-17T16:46:43.788Z"
   },
   {
    "duration": 13,
    "start_time": "2022-01-17T16:46:43.800Z"
   },
   {
    "duration": 8,
    "start_time": "2022-01-17T16:46:43.814Z"
   },
   {
    "duration": 14,
    "start_time": "2022-01-17T16:46:43.823Z"
   },
   {
    "duration": 36,
    "start_time": "2022-01-17T16:46:43.838Z"
   },
   {
    "duration": 20,
    "start_time": "2022-01-17T16:46:43.875Z"
   },
   {
    "duration": 9,
    "start_time": "2022-01-17T16:46:43.897Z"
   },
   {
    "duration": 18,
    "start_time": "2022-01-17T16:46:43.908Z"
   },
   {
    "duration": 5,
    "start_time": "2022-01-17T16:46:43.928Z"
   },
   {
    "duration": 43,
    "start_time": "2022-01-17T16:46:43.935Z"
   },
   {
    "duration": 7,
    "start_time": "2022-01-17T16:46:43.979Z"
   },
   {
    "duration": 22,
    "start_time": "2022-01-17T16:46:43.988Z"
   },
   {
    "duration": 4,
    "start_time": "2022-01-17T16:46:44.012Z"
   },
   {
    "duration": 8,
    "start_time": "2022-01-17T16:46:44.018Z"
   },
   {
    "duration": 44,
    "start_time": "2022-01-17T16:46:44.028Z"
   },
   {
    "duration": 4,
    "start_time": "2022-01-17T16:46:44.074Z"
   },
   {
    "duration": 8,
    "start_time": "2022-01-17T16:46:44.080Z"
   },
   {
    "duration": 11,
    "start_time": "2022-01-17T16:46:44.090Z"
   },
   {
    "duration": 13,
    "start_time": "2022-01-17T16:46:44.102Z"
   },
   {
    "duration": 18,
    "start_time": "2022-01-17T16:46:44.116Z"
   },
   {
    "duration": 6,
    "start_time": "2022-01-17T16:46:44.136Z"
   },
   {
    "duration": 33,
    "start_time": "2022-01-17T16:46:44.144Z"
   },
   {
    "duration": 18,
    "start_time": "2022-01-17T16:46:44.178Z"
   },
   {
    "duration": 7,
    "start_time": "2022-01-17T16:46:44.197Z"
   },
   {
    "duration": 15,
    "start_time": "2022-01-17T16:46:44.205Z"
   },
   {
    "duration": 20,
    "start_time": "2022-01-17T16:46:44.221Z"
   },
   {
    "duration": 11,
    "start_time": "2022-01-17T16:46:44.243Z"
   },
   {
    "duration": 13,
    "start_time": "2022-01-17T16:48:16.003Z"
   },
   {
    "duration": 12,
    "start_time": "2022-01-17T16:48:25.496Z"
   },
   {
    "duration": 13,
    "start_time": "2022-01-17T16:48:31.990Z"
   },
   {
    "duration": 13,
    "start_time": "2022-01-17T16:48:36.727Z"
   },
   {
    "duration": 13,
    "start_time": "2022-01-17T16:48:41.882Z"
   },
   {
    "duration": 14,
    "start_time": "2022-01-17T16:48:47.893Z"
   },
   {
    "duration": 14,
    "start_time": "2022-01-17T16:48:53.609Z"
   },
   {
    "duration": 12,
    "start_time": "2022-01-17T16:49:16.750Z"
   },
   {
    "duration": 12,
    "start_time": "2022-01-17T16:49:29.287Z"
   },
   {
    "duration": 13,
    "start_time": "2022-01-17T16:49:42.926Z"
   },
   {
    "duration": 12,
    "start_time": "2022-01-17T16:49:48.278Z"
   },
   {
    "duration": 14,
    "start_time": "2022-01-17T16:49:55.416Z"
   },
   {
    "duration": 12,
    "start_time": "2022-01-17T16:50:01.383Z"
   },
   {
    "duration": 18,
    "start_time": "2022-01-17T16:50:11.943Z"
   },
   {
    "duration": 3,
    "start_time": "2022-01-17T16:50:18.614Z"
   },
   {
    "duration": 47,
    "start_time": "2022-01-17T16:50:18.620Z"
   },
   {
    "duration": 13,
    "start_time": "2022-01-17T16:50:18.669Z"
   },
   {
    "duration": 9,
    "start_time": "2022-01-17T16:50:18.684Z"
   },
   {
    "duration": 7,
    "start_time": "2022-01-17T16:50:18.695Z"
   },
   {
    "duration": 5,
    "start_time": "2022-01-17T16:50:18.704Z"
   },
   {
    "duration": 6,
    "start_time": "2022-01-17T16:50:18.710Z"
   },
   {
    "duration": 7,
    "start_time": "2022-01-17T16:50:18.717Z"
   },
   {
    "duration": 6,
    "start_time": "2022-01-17T16:50:18.725Z"
   },
   {
    "duration": 57,
    "start_time": "2022-01-17T16:50:18.734Z"
   },
   {
    "duration": 36,
    "start_time": "2022-01-17T16:50:18.794Z"
   },
   {
    "duration": 4,
    "start_time": "2022-01-17T16:50:18.832Z"
   },
   {
    "duration": 36,
    "start_time": "2022-01-17T16:50:18.837Z"
   },
   {
    "duration": 11,
    "start_time": "2022-01-17T16:50:18.875Z"
   },
   {
    "duration": 14,
    "start_time": "2022-01-17T16:50:18.887Z"
   },
   {
    "duration": 22,
    "start_time": "2022-01-17T16:50:18.903Z"
   },
   {
    "duration": 14,
    "start_time": "2022-01-17T16:50:18.926Z"
   },
   {
    "duration": 10,
    "start_time": "2022-01-17T16:50:18.972Z"
   },
   {
    "duration": 18,
    "start_time": "2022-01-17T16:50:18.983Z"
   },
   {
    "duration": 15,
    "start_time": "2022-01-17T16:50:19.002Z"
   },
   {
    "duration": 14,
    "start_time": "2022-01-17T16:50:19.019Z"
   },
   {
    "duration": 8,
    "start_time": "2022-01-17T16:50:19.034Z"
   },
   {
    "duration": 14,
    "start_time": "2022-01-17T16:50:19.072Z"
   },
   {
    "duration": 7,
    "start_time": "2022-01-17T16:50:19.088Z"
   },
   {
    "duration": 3490,
    "start_time": "2022-01-17T16:50:19.097Z"
   },
   {
    "duration": 3,
    "start_time": "2022-01-17T16:50:22.588Z"
   },
   {
    "duration": 22,
    "start_time": "2022-01-17T16:50:22.593Z"
   },
   {
    "duration": 6,
    "start_time": "2022-01-17T16:50:22.619Z"
   },
   {
    "duration": 7,
    "start_time": "2022-01-17T16:50:22.627Z"
   },
   {
    "duration": 4,
    "start_time": "2022-01-17T16:50:22.635Z"
   },
   {
    "duration": 11,
    "start_time": "2022-01-17T16:50:22.672Z"
   },
   {
    "duration": 12,
    "start_time": "2022-01-17T16:50:22.685Z"
   },
   {
    "duration": 9,
    "start_time": "2022-01-17T16:50:22.699Z"
   },
   {
    "duration": 11,
    "start_time": "2022-01-17T16:50:22.709Z"
   },
   {
    "duration": 9,
    "start_time": "2022-01-17T16:50:22.721Z"
   },
   {
    "duration": 47,
    "start_time": "2022-01-17T16:50:22.732Z"
   },
   {
    "duration": 7,
    "start_time": "2022-01-17T16:50:22.780Z"
   },
   {
    "duration": 13,
    "start_time": "2022-01-17T16:50:22.788Z"
   },
   {
    "duration": 6,
    "start_time": "2022-01-17T16:50:22.802Z"
   },
   {
    "duration": 12,
    "start_time": "2022-01-17T16:50:22.809Z"
   },
   {
    "duration": 7,
    "start_time": "2022-01-17T16:50:22.822Z"
   },
   {
    "duration": 52,
    "start_time": "2022-01-17T16:50:22.830Z"
   },
   {
    "duration": 5,
    "start_time": "2022-01-17T16:50:22.883Z"
   },
   {
    "duration": 6,
    "start_time": "2022-01-17T16:50:22.889Z"
   },
   {
    "duration": 16,
    "start_time": "2022-01-17T16:50:22.897Z"
   },
   {
    "duration": 4,
    "start_time": "2022-01-17T16:50:22.915Z"
   },
   {
    "duration": 10,
    "start_time": "2022-01-17T16:50:22.920Z"
   },
   {
    "duration": 41,
    "start_time": "2022-01-17T16:50:22.932Z"
   },
   {
    "duration": 11,
    "start_time": "2022-01-17T16:50:22.974Z"
   },
   {
    "duration": 28,
    "start_time": "2022-01-17T16:50:22.987Z"
   },
   {
    "duration": 9,
    "start_time": "2022-01-17T16:50:23.017Z"
   },
   {
    "duration": 30,
    "start_time": "2022-01-17T16:50:23.027Z"
   },
   {
    "duration": 28,
    "start_time": "2022-01-17T16:50:23.058Z"
   },
   {
    "duration": 7,
    "start_time": "2022-01-17T16:50:23.088Z"
   },
   {
    "duration": 18,
    "start_time": "2022-01-17T16:50:23.096Z"
   },
   {
    "duration": 19,
    "start_time": "2022-01-17T16:50:23.115Z"
   },
   {
    "duration": 8,
    "start_time": "2022-01-17T16:50:23.136Z"
   },
   {
    "duration": 13,
    "start_time": "2022-01-17T16:53:25.886Z"
   },
   {
    "duration": 14,
    "start_time": "2022-01-17T16:54:09.444Z"
   },
   {
    "duration": 15,
    "start_time": "2022-01-17T16:54:19.248Z"
   },
   {
    "duration": 14,
    "start_time": "2022-01-17T16:55:49.388Z"
   },
   {
    "duration": 15,
    "start_time": "2022-01-17T16:56:03.484Z"
   },
   {
    "duration": 15,
    "start_time": "2022-01-17T16:56:25.476Z"
   },
   {
    "duration": 14,
    "start_time": "2022-01-17T16:56:40.067Z"
   },
   {
    "duration": 13,
    "start_time": "2022-01-17T16:56:56.245Z"
   },
   {
    "duration": 13,
    "start_time": "2022-01-17T16:57:07.235Z"
   },
   {
    "duration": 15,
    "start_time": "2022-01-17T16:57:35.093Z"
   },
   {
    "duration": 19,
    "start_time": "2022-01-17T16:57:44.171Z"
   },
   {
    "duration": 13,
    "start_time": "2022-01-17T16:57:51.651Z"
   },
   {
    "duration": 13,
    "start_time": "2022-01-17T16:58:08.594Z"
   },
   {
    "duration": 13,
    "start_time": "2022-01-17T16:58:16.451Z"
   },
   {
    "duration": 14,
    "start_time": "2022-01-17T16:58:31.835Z"
   },
   {
    "duration": 15,
    "start_time": "2022-01-17T16:58:44.305Z"
   },
   {
    "duration": 14,
    "start_time": "2022-01-17T16:58:49.497Z"
   },
   {
    "duration": 14,
    "start_time": "2022-01-17T16:59:01.015Z"
   },
   {
    "duration": 18,
    "start_time": "2022-01-17T16:59:17.147Z"
   },
   {
    "duration": 14,
    "start_time": "2022-01-17T16:59:21.636Z"
   },
   {
    "duration": 14,
    "start_time": "2022-01-17T16:59:25.083Z"
   },
   {
    "duration": 13,
    "start_time": "2022-01-17T16:59:29.657Z"
   },
   {
    "duration": 15,
    "start_time": "2022-01-17T16:59:35.891Z"
   },
   {
    "duration": 13,
    "start_time": "2022-01-17T16:59:46.449Z"
   },
   {
    "duration": 13,
    "start_time": "2022-01-17T16:59:50.394Z"
   },
   {
    "duration": 15,
    "start_time": "2022-01-17T16:59:54.578Z"
   },
   {
    "duration": 14,
    "start_time": "2022-01-17T17:00:02.786Z"
   },
   {
    "duration": 21,
    "start_time": "2022-01-17T17:00:08.569Z"
   },
   {
    "duration": 14,
    "start_time": "2022-01-17T17:00:12.386Z"
   },
   {
    "duration": 14,
    "start_time": "2022-01-17T17:00:27.985Z"
   },
   {
    "duration": 13,
    "start_time": "2022-01-17T17:00:39.833Z"
   },
   {
    "duration": 14,
    "start_time": "2022-01-17T17:00:48.593Z"
   },
   {
    "duration": 13,
    "start_time": "2022-01-17T17:01:03.002Z"
   },
   {
    "duration": 13,
    "start_time": "2022-01-17T17:01:12.337Z"
   },
   {
    "duration": 15,
    "start_time": "2022-01-17T17:01:28.833Z"
   },
   {
    "duration": 14,
    "start_time": "2022-01-17T17:01:43.960Z"
   },
   {
    "duration": 13,
    "start_time": "2022-01-17T17:01:47.028Z"
   },
   {
    "duration": 19,
    "start_time": "2022-01-17T17:01:53.992Z"
   },
   {
    "duration": 14,
    "start_time": "2022-01-17T17:02:11.112Z"
   },
   {
    "duration": 13,
    "start_time": "2022-01-17T17:02:19.201Z"
   },
   {
    "duration": 13,
    "start_time": "2022-01-17T17:02:24.059Z"
   },
   {
    "duration": 13,
    "start_time": "2022-01-17T17:02:55.129Z"
   },
   {
    "duration": 13,
    "start_time": "2022-01-17T17:03:08.196Z"
   },
   {
    "duration": 13,
    "start_time": "2022-01-17T17:03:19.521Z"
   },
   {
    "duration": 13,
    "start_time": "2022-01-17T17:03:37.392Z"
   },
   {
    "duration": 18,
    "start_time": "2022-01-17T17:03:46.872Z"
   },
   {
    "duration": 14,
    "start_time": "2022-01-17T17:04:06.484Z"
   },
   {
    "duration": 15,
    "start_time": "2022-01-17T17:05:39.935Z"
   },
   {
    "duration": 14,
    "start_time": "2022-01-17T17:06:44.286Z"
   },
   {
    "duration": 14,
    "start_time": "2022-01-17T17:06:58.488Z"
   },
   {
    "duration": 17,
    "start_time": "2022-01-17T17:08:12.463Z"
   },
   {
    "duration": 14,
    "start_time": "2022-01-17T17:08:25.906Z"
   },
   {
    "duration": 13,
    "start_time": "2022-01-17T17:08:32.645Z"
   },
   {
    "duration": 14,
    "start_time": "2022-01-17T17:08:38.535Z"
   },
   {
    "duration": 21,
    "start_time": "2022-01-17T17:08:43.693Z"
   },
   {
    "duration": 16,
    "start_time": "2022-01-17T17:08:49.108Z"
   },
   {
    "duration": 14,
    "start_time": "2022-01-17T17:09:11.285Z"
   },
   {
    "duration": 15,
    "start_time": "2022-01-17T17:09:20.605Z"
   },
   {
    "duration": 19,
    "start_time": "2022-01-17T17:09:28.876Z"
   },
   {
    "duration": 18,
    "start_time": "2022-01-17T17:09:33.773Z"
   },
   {
    "duration": 15,
    "start_time": "2022-01-17T17:09:38.717Z"
   },
   {
    "duration": 14,
    "start_time": "2022-01-17T17:09:44.012Z"
   },
   {
    "duration": 20,
    "start_time": "2022-01-17T17:09:54.269Z"
   },
   {
    "duration": 15,
    "start_time": "2022-01-17T17:10:00.397Z"
   },
   {
    "duration": 13,
    "start_time": "2022-01-17T17:10:05.885Z"
   },
   {
    "duration": 14,
    "start_time": "2022-01-17T17:10:36.232Z"
   },
   {
    "duration": 13,
    "start_time": "2022-01-17T17:11:19.228Z"
   },
   {
    "duration": 12,
    "start_time": "2022-01-17T17:11:37.692Z"
   },
   {
    "duration": 13,
    "start_time": "2022-01-17T17:11:41.524Z"
   },
   {
    "duration": 14,
    "start_time": "2022-01-17T17:11:45.230Z"
   },
   {
    "duration": 13,
    "start_time": "2022-01-17T17:12:05.340Z"
   },
   {
    "duration": 14,
    "start_time": "2022-01-17T17:12:10.438Z"
   },
   {
    "duration": 14,
    "start_time": "2022-01-17T17:12:23.584Z"
   },
   {
    "duration": 13,
    "start_time": "2022-01-17T17:12:29.606Z"
   },
   {
    "duration": 12,
    "start_time": "2022-01-17T17:12:32.534Z"
   },
   {
    "duration": 14,
    "start_time": "2022-01-17T17:12:46.732Z"
   },
   {
    "duration": 19,
    "start_time": "2022-01-17T17:12:54.963Z"
   },
   {
    "duration": 2,
    "start_time": "2022-01-17T17:13:01.963Z"
   },
   {
    "duration": 52,
    "start_time": "2022-01-17T17:13:01.967Z"
   },
   {
    "duration": 12,
    "start_time": "2022-01-17T17:13:02.021Z"
   },
   {
    "duration": 14,
    "start_time": "2022-01-17T17:13:02.035Z"
   },
   {
    "duration": 10,
    "start_time": "2022-01-17T17:13:02.051Z"
   },
   {
    "duration": 19,
    "start_time": "2022-01-17T17:13:02.063Z"
   },
   {
    "duration": 6,
    "start_time": "2022-01-17T17:13:02.084Z"
   },
   {
    "duration": 5,
    "start_time": "2022-01-17T17:13:02.092Z"
   },
   {
    "duration": 5,
    "start_time": "2022-01-17T17:13:02.100Z"
   },
   {
    "duration": 26,
    "start_time": "2022-01-17T17:13:02.107Z"
   },
   {
    "duration": 70,
    "start_time": "2022-01-17T17:13:02.134Z"
   },
   {
    "duration": 4,
    "start_time": "2022-01-17T17:13:02.206Z"
   },
   {
    "duration": 7,
    "start_time": "2022-01-17T17:13:02.212Z"
   },
   {
    "duration": 14,
    "start_time": "2022-01-17T17:13:02.220Z"
   },
   {
    "duration": 45,
    "start_time": "2022-01-17T17:13:02.235Z"
   },
   {
    "duration": 21,
    "start_time": "2022-01-17T17:13:02.284Z"
   },
   {
    "duration": 15,
    "start_time": "2022-01-17T17:13:02.306Z"
   },
   {
    "duration": 11,
    "start_time": "2022-01-17T17:13:02.323Z"
   },
   {
    "duration": 32,
    "start_time": "2022-01-17T17:13:02.336Z"
   },
   {
    "duration": 19,
    "start_time": "2022-01-17T17:13:02.370Z"
   },
   {
    "duration": 15,
    "start_time": "2022-01-17T17:13:02.391Z"
   },
   {
    "duration": 8,
    "start_time": "2022-01-17T17:13:02.408Z"
   },
   {
    "duration": 47,
    "start_time": "2022-01-17T17:13:02.418Z"
   },
   {
    "duration": 11,
    "start_time": "2022-01-17T17:13:02.467Z"
   },
   {
    "duration": 3642,
    "start_time": "2022-01-17T17:13:02.479Z"
   },
   {
    "duration": 3,
    "start_time": "2022-01-17T17:13:06.122Z"
   },
   {
    "duration": 20,
    "start_time": "2022-01-17T17:13:06.129Z"
   },
   {
    "duration": 29,
    "start_time": "2022-01-17T17:13:06.151Z"
   },
   {
    "duration": 10,
    "start_time": "2022-01-17T17:13:06.181Z"
   },
   {
    "duration": 5,
    "start_time": "2022-01-17T17:13:06.193Z"
   },
   {
    "duration": 21,
    "start_time": "2022-01-17T17:13:06.200Z"
   },
   {
    "duration": 17,
    "start_time": "2022-01-17T17:13:06.223Z"
   },
   {
    "duration": 34,
    "start_time": "2022-01-17T17:13:06.242Z"
   },
   {
    "duration": 18,
    "start_time": "2022-01-17T17:13:06.278Z"
   },
   {
    "duration": 10,
    "start_time": "2022-01-17T17:13:06.298Z"
   },
   {
    "duration": 25,
    "start_time": "2022-01-17T17:13:06.310Z"
   },
   {
    "duration": 6,
    "start_time": "2022-01-17T17:13:06.337Z"
   },
   {
    "duration": 47,
    "start_time": "2022-01-17T17:13:06.345Z"
   },
   {
    "duration": 7,
    "start_time": "2022-01-17T17:13:06.394Z"
   },
   {
    "duration": 10,
    "start_time": "2022-01-17T17:13:06.402Z"
   },
   {
    "duration": 8,
    "start_time": "2022-01-17T17:13:06.413Z"
   },
   {
    "duration": 25,
    "start_time": "2022-01-17T17:13:06.423Z"
   },
   {
    "duration": 4,
    "start_time": "2022-01-17T17:13:06.449Z"
   },
   {
    "duration": 23,
    "start_time": "2022-01-17T17:13:06.455Z"
   },
   {
    "duration": 21,
    "start_time": "2022-01-17T17:13:06.479Z"
   },
   {
    "duration": 4,
    "start_time": "2022-01-17T17:13:06.501Z"
   },
   {
    "duration": 10,
    "start_time": "2022-01-17T17:13:06.506Z"
   },
   {
    "duration": 17,
    "start_time": "2022-01-17T17:13:06.517Z"
   },
   {
    "duration": 10,
    "start_time": "2022-01-17T17:13:06.536Z"
   },
   {
    "duration": 40,
    "start_time": "2022-01-17T17:13:06.547Z"
   },
   {
    "duration": 7,
    "start_time": "2022-01-17T17:13:06.589Z"
   },
   {
    "duration": 9,
    "start_time": "2022-01-17T17:13:06.598Z"
   },
   {
    "duration": 19,
    "start_time": "2022-01-17T17:13:06.608Z"
   },
   {
    "duration": 7,
    "start_time": "2022-01-17T17:13:06.628Z"
   },
   {
    "duration": 13,
    "start_time": "2022-01-17T17:13:06.636Z"
   },
   {
    "duration": 25,
    "start_time": "2022-01-17T17:13:06.671Z"
   },
   {
    "duration": 8,
    "start_time": "2022-01-17T17:13:06.697Z"
   },
   {
    "duration": 2,
    "start_time": "2022-01-17T17:24:42.569Z"
   },
   {
    "duration": 46,
    "start_time": "2022-01-17T17:24:42.573Z"
   },
   {
    "duration": 11,
    "start_time": "2022-01-17T17:24:42.621Z"
   },
   {
    "duration": 9,
    "start_time": "2022-01-17T17:24:42.634Z"
   },
   {
    "duration": 27,
    "start_time": "2022-01-17T17:24:42.645Z"
   },
   {
    "duration": 4,
    "start_time": "2022-01-17T17:24:42.674Z"
   },
   {
    "duration": 5,
    "start_time": "2022-01-17T17:24:42.679Z"
   },
   {
    "duration": 4,
    "start_time": "2022-01-17T17:24:42.686Z"
   },
   {
    "duration": 3,
    "start_time": "2022-01-17T17:24:42.691Z"
   },
   {
    "duration": 20,
    "start_time": "2022-01-17T17:24:42.696Z"
   },
   {
    "duration": 66,
    "start_time": "2022-01-17T17:24:42.717Z"
   },
   {
    "duration": 4,
    "start_time": "2022-01-17T17:24:42.784Z"
   },
   {
    "duration": 5,
    "start_time": "2022-01-17T17:24:42.789Z"
   },
   {
    "duration": 15,
    "start_time": "2022-01-17T17:24:42.796Z"
   },
   {
    "duration": 13,
    "start_time": "2022-01-17T17:24:42.812Z"
   },
   {
    "duration": 14,
    "start_time": "2022-01-17T17:24:42.826Z"
   },
   {
    "duration": 13,
    "start_time": "2022-01-17T17:24:42.872Z"
   },
   {
    "duration": 9,
    "start_time": "2022-01-17T17:24:42.887Z"
   },
   {
    "duration": 21,
    "start_time": "2022-01-17T17:24:42.898Z"
   },
   {
    "duration": 13,
    "start_time": "2022-01-17T17:24:42.921Z"
   },
   {
    "duration": 13,
    "start_time": "2022-01-17T17:24:42.935Z"
   },
   {
    "duration": 29,
    "start_time": "2022-01-17T17:24:42.949Z"
   },
   {
    "duration": 14,
    "start_time": "2022-01-17T17:24:42.981Z"
   },
   {
    "duration": 6,
    "start_time": "2022-01-17T17:24:42.997Z"
   },
   {
    "duration": 3184,
    "start_time": "2022-01-17T17:24:43.004Z"
   },
   {
    "duration": 2,
    "start_time": "2022-01-17T17:24:46.190Z"
   },
   {
    "duration": 37,
    "start_time": "2022-01-17T17:24:46.194Z"
   },
   {
    "duration": 13,
    "start_time": "2022-01-17T17:24:46.233Z"
   },
   {
    "duration": 15,
    "start_time": "2022-01-17T17:24:46.247Z"
   },
   {
    "duration": 24,
    "start_time": "2022-01-17T17:24:46.263Z"
   },
   {
    "duration": 18,
    "start_time": "2022-01-17T17:24:46.288Z"
   },
   {
    "duration": 32,
    "start_time": "2022-01-17T17:24:46.308Z"
   },
   {
    "duration": 26,
    "start_time": "2022-01-17T17:24:46.341Z"
   },
   {
    "duration": 11,
    "start_time": "2022-01-17T17:24:46.368Z"
   },
   {
    "duration": 7,
    "start_time": "2022-01-17T17:24:46.381Z"
   },
   {
    "duration": 18,
    "start_time": "2022-01-17T17:24:46.390Z"
   },
   {
    "duration": 6,
    "start_time": "2022-01-17T17:24:46.410Z"
   },
   {
    "duration": 12,
    "start_time": "2022-01-17T17:24:46.418Z"
   },
   {
    "duration": 4,
    "start_time": "2022-01-17T17:24:46.432Z"
   },
   {
    "duration": 13,
    "start_time": "2022-01-17T17:24:46.437Z"
   },
   {
    "duration": 23,
    "start_time": "2022-01-17T17:24:46.451Z"
   },
   {
    "duration": 22,
    "start_time": "2022-01-17T17:24:46.475Z"
   },
   {
    "duration": 5,
    "start_time": "2022-01-17T17:24:46.498Z"
   },
   {
    "duration": 8,
    "start_time": "2022-01-17T17:24:46.504Z"
   },
   {
    "duration": 20,
    "start_time": "2022-01-17T17:24:46.514Z"
   },
   {
    "duration": 13,
    "start_time": "2022-01-17T17:24:46.535Z"
   },
   {
    "duration": 23,
    "start_time": "2022-01-17T17:24:46.549Z"
   },
   {
    "duration": 27,
    "start_time": "2022-01-17T17:24:46.574Z"
   },
   {
    "duration": 20,
    "start_time": "2022-01-17T17:24:46.603Z"
   },
   {
    "duration": 31,
    "start_time": "2022-01-17T17:24:46.624Z"
   },
   {
    "duration": 9,
    "start_time": "2022-01-17T17:24:46.656Z"
   },
   {
    "duration": 32,
    "start_time": "2022-01-17T17:24:46.666Z"
   },
   {
    "duration": 19,
    "start_time": "2022-01-17T17:24:46.699Z"
   },
   {
    "duration": 13,
    "start_time": "2022-01-17T17:24:46.719Z"
   },
   {
    "duration": 25,
    "start_time": "2022-01-17T17:24:46.734Z"
   },
   {
    "duration": 33,
    "start_time": "2022-01-17T17:24:46.761Z"
   },
   {
    "duration": 9,
    "start_time": "2022-01-17T17:24:46.796Z"
   },
   {
    "duration": 2,
    "start_time": "2022-01-17T17:26:28.153Z"
   },
   {
    "duration": 57,
    "start_time": "2022-01-17T17:26:28.159Z"
   },
   {
    "duration": 11,
    "start_time": "2022-01-17T17:26:28.217Z"
   },
   {
    "duration": 10,
    "start_time": "2022-01-17T17:26:28.230Z"
   },
   {
    "duration": 8,
    "start_time": "2022-01-17T17:26:28.241Z"
   },
   {
    "duration": 22,
    "start_time": "2022-01-17T17:26:28.250Z"
   },
   {
    "duration": 4,
    "start_time": "2022-01-17T17:26:28.274Z"
   },
   {
    "duration": 6,
    "start_time": "2022-01-17T17:26:28.279Z"
   },
   {
    "duration": 5,
    "start_time": "2022-01-17T17:26:28.286Z"
   },
   {
    "duration": 20,
    "start_time": "2022-01-17T17:26:28.293Z"
   },
   {
    "duration": 64,
    "start_time": "2022-01-17T17:26:28.315Z"
   },
   {
    "duration": 4,
    "start_time": "2022-01-17T17:26:28.381Z"
   },
   {
    "duration": 7,
    "start_time": "2022-01-17T17:26:28.387Z"
   },
   {
    "duration": 12,
    "start_time": "2022-01-17T17:26:28.395Z"
   },
   {
    "duration": 13,
    "start_time": "2022-01-17T17:26:28.408Z"
   },
   {
    "duration": 16,
    "start_time": "2022-01-17T17:26:28.423Z"
   },
   {
    "duration": 39,
    "start_time": "2022-01-17T17:26:28.441Z"
   },
   {
    "duration": 11,
    "start_time": "2022-01-17T17:26:28.481Z"
   },
   {
    "duration": 16,
    "start_time": "2022-01-17T17:26:28.494Z"
   },
   {
    "duration": 15,
    "start_time": "2022-01-17T17:26:28.512Z"
   },
   {
    "duration": 44,
    "start_time": "2022-01-17T17:26:28.528Z"
   },
   {
    "duration": 9,
    "start_time": "2022-01-17T17:26:28.574Z"
   },
   {
    "duration": 16,
    "start_time": "2022-01-17T17:26:28.585Z"
   },
   {
    "duration": 6,
    "start_time": "2022-01-17T17:26:28.603Z"
   },
   {
    "duration": 3338,
    "start_time": "2022-01-17T17:26:28.611Z"
   },
   {
    "duration": 3,
    "start_time": "2022-01-17T17:26:31.951Z"
   },
   {
    "duration": 36,
    "start_time": "2022-01-17T17:26:31.955Z"
   },
   {
    "duration": 6,
    "start_time": "2022-01-17T17:26:31.994Z"
   },
   {
    "duration": 7,
    "start_time": "2022-01-17T17:26:32.002Z"
   },
   {
    "duration": 3,
    "start_time": "2022-01-17T17:26:32.011Z"
   },
   {
    "duration": 13,
    "start_time": "2022-01-17T17:26:32.016Z"
   },
   {
    "duration": 48,
    "start_time": "2022-01-17T17:26:32.031Z"
   },
   {
    "duration": 8,
    "start_time": "2022-01-17T17:26:32.081Z"
   },
   {
    "duration": 15,
    "start_time": "2022-01-17T17:26:32.091Z"
   },
   {
    "duration": 19,
    "start_time": "2022-01-17T17:26:32.107Z"
   },
   {
    "duration": 24,
    "start_time": "2022-01-17T17:26:32.127Z"
   },
   {
    "duration": 27,
    "start_time": "2022-01-17T17:26:32.153Z"
   },
   {
    "duration": 13,
    "start_time": "2022-01-17T17:26:32.182Z"
   },
   {
    "duration": 5,
    "start_time": "2022-01-17T17:26:32.197Z"
   },
   {
    "duration": 13,
    "start_time": "2022-01-17T17:26:32.203Z"
   },
   {
    "duration": 9,
    "start_time": "2022-01-17T17:26:32.218Z"
   },
   {
    "duration": 61,
    "start_time": "2022-01-17T17:26:32.228Z"
   },
   {
    "duration": 4,
    "start_time": "2022-01-17T17:26:32.291Z"
   },
   {
    "duration": 9,
    "start_time": "2022-01-17T17:26:32.297Z"
   },
   {
    "duration": 18,
    "start_time": "2022-01-17T17:26:32.308Z"
   },
   {
    "duration": 4,
    "start_time": "2022-01-17T17:26:32.328Z"
   },
   {
    "duration": 10,
    "start_time": "2022-01-17T17:26:32.333Z"
   },
   {
    "duration": 37,
    "start_time": "2022-01-17T17:26:32.345Z"
   },
   {
    "duration": 10,
    "start_time": "2022-01-17T17:26:32.384Z"
   },
   {
    "duration": 16,
    "start_time": "2022-01-17T17:26:32.395Z"
   },
   {
    "duration": 7,
    "start_time": "2022-01-17T17:26:32.413Z"
   },
   {
    "duration": 21,
    "start_time": "2022-01-17T17:26:32.421Z"
   },
   {
    "duration": 28,
    "start_time": "2022-01-17T17:26:32.444Z"
   },
   {
    "duration": 7,
    "start_time": "2022-01-17T17:26:32.474Z"
   },
   {
    "duration": 9,
    "start_time": "2022-01-17T17:26:32.482Z"
   },
   {
    "duration": 18,
    "start_time": "2022-01-17T17:26:32.493Z"
   },
   {
    "duration": 8,
    "start_time": "2022-01-17T17:26:32.512Z"
   },
   {
    "duration": 22,
    "start_time": "2022-01-17T19:21:17.911Z"
   },
   {
    "duration": 3,
    "start_time": "2022-01-17T19:21:20.839Z"
   },
   {
    "duration": 62,
    "start_time": "2022-01-17T19:21:20.879Z"
   },
   {
    "duration": 16,
    "start_time": "2022-01-17T19:21:20.943Z"
   },
   {
    "duration": 20,
    "start_time": "2022-01-17T19:21:20.961Z"
   },
   {
    "duration": 14,
    "start_time": "2022-01-17T19:21:20.983Z"
   },
   {
    "duration": 6,
    "start_time": "2022-01-17T19:21:20.999Z"
   },
   {
    "duration": 10,
    "start_time": "2022-01-17T19:21:21.007Z"
   },
   {
    "duration": 5,
    "start_time": "2022-01-17T19:21:21.019Z"
   },
   {
    "duration": 13,
    "start_time": "2022-01-17T19:21:21.025Z"
   },
   {
    "duration": 46,
    "start_time": "2022-01-17T19:21:21.041Z"
   },
   {
    "duration": 36,
    "start_time": "2022-01-17T19:21:21.089Z"
   },
   {
    "duration": 3,
    "start_time": "2022-01-17T19:21:21.127Z"
   },
   {
    "duration": 6,
    "start_time": "2022-01-17T19:21:21.132Z"
   },
   {
    "duration": 37,
    "start_time": "2022-01-17T19:21:21.139Z"
   },
   {
    "duration": 14,
    "start_time": "2022-01-17T19:21:21.177Z"
   },
   {
    "duration": 15,
    "start_time": "2022-01-17T19:21:21.192Z"
   },
   {
    "duration": 14,
    "start_time": "2022-01-17T19:21:21.208Z"
   },
   {
    "duration": 10,
    "start_time": "2022-01-17T19:21:21.223Z"
   },
   {
    "duration": 42,
    "start_time": "2022-01-17T19:21:21.235Z"
   },
   {
    "duration": 21,
    "start_time": "2022-01-17T19:21:21.279Z"
   },
   {
    "duration": 21,
    "start_time": "2022-01-17T19:21:21.302Z"
   },
   {
    "duration": 13,
    "start_time": "2022-01-17T19:21:21.325Z"
   },
   {
    "duration": 50,
    "start_time": "2022-01-17T19:21:21.340Z"
   },
   {
    "duration": 10,
    "start_time": "2022-01-17T19:21:21.392Z"
   },
   {
    "duration": 3635,
    "start_time": "2022-01-17T19:21:21.404Z"
   },
   {
    "duration": 3,
    "start_time": "2022-01-17T19:21:25.042Z"
   },
   {
    "duration": 39,
    "start_time": "2022-01-17T19:21:25.048Z"
   },
   {
    "duration": 9,
    "start_time": "2022-01-17T19:21:25.092Z"
   },
   {
    "duration": 8,
    "start_time": "2022-01-17T19:21:25.104Z"
   },
   {
    "duration": 4,
    "start_time": "2022-01-17T19:21:25.113Z"
   },
   {
    "duration": 13,
    "start_time": "2022-01-17T19:21:25.119Z"
   },
   {
    "duration": 44,
    "start_time": "2022-01-17T19:21:25.134Z"
   },
   {
    "duration": 10,
    "start_time": "2022-01-17T19:21:25.180Z"
   },
   {
    "duration": 12,
    "start_time": "2022-01-17T19:21:25.192Z"
   },
   {
    "duration": 9,
    "start_time": "2022-01-17T19:21:25.206Z"
   },
   {
    "duration": 17,
    "start_time": "2022-01-17T19:21:25.217Z"
   },
   {
    "duration": 7,
    "start_time": "2022-01-17T19:21:25.235Z"
   },
   {
    "duration": 38,
    "start_time": "2022-01-17T19:21:25.243Z"
   },
   {
    "duration": 6,
    "start_time": "2022-01-17T19:21:25.283Z"
   },
   {
    "duration": 11,
    "start_time": "2022-01-17T19:21:25.290Z"
   },
   {
    "duration": 6,
    "start_time": "2022-01-17T19:21:25.303Z"
   },
   {
    "duration": 26,
    "start_time": "2022-01-17T19:21:25.310Z"
   },
   {
    "duration": 34,
    "start_time": "2022-01-17T19:21:25.338Z"
   },
   {
    "duration": 6,
    "start_time": "2022-01-17T19:21:25.374Z"
   },
   {
    "duration": 29,
    "start_time": "2022-01-17T19:21:25.382Z"
   },
   {
    "duration": 4,
    "start_time": "2022-01-17T19:21:25.413Z"
   },
   {
    "duration": 21,
    "start_time": "2022-01-17T19:21:25.419Z"
   },
   {
    "duration": 24,
    "start_time": "2022-01-17T19:21:25.442Z"
   },
   {
    "duration": 15,
    "start_time": "2022-01-17T19:21:25.468Z"
   },
   {
    "duration": 31,
    "start_time": "2022-01-17T19:21:25.485Z"
   },
   {
    "duration": 12,
    "start_time": "2022-01-17T19:21:25.518Z"
   },
   {
    "duration": 17,
    "start_time": "2022-01-17T19:21:25.532Z"
   },
   {
    "duration": 19,
    "start_time": "2022-01-17T19:21:25.551Z"
   },
   {
    "duration": 8,
    "start_time": "2022-01-17T19:21:25.572Z"
   },
   {
    "duration": 21,
    "start_time": "2022-01-17T19:21:25.581Z"
   },
   {
    "duration": 29,
    "start_time": "2022-01-17T19:21:25.604Z"
   },
   {
    "duration": 8,
    "start_time": "2022-01-17T19:21:25.634Z"
   },
   {
    "duration": 15,
    "start_time": "2022-01-17T19:23:15.037Z"
   },
   {
    "duration": 24,
    "start_time": "2022-01-17T19:23:27.606Z"
   },
   {
    "duration": 24,
    "start_time": "2022-01-17T19:23:37.341Z"
   },
   {
    "duration": 22,
    "start_time": "2022-01-17T19:23:43.871Z"
   },
   {
    "duration": 22,
    "start_time": "2022-01-17T19:23:58.775Z"
   },
   {
    "duration": 15,
    "start_time": "2022-01-17T19:24:17.733Z"
   },
   {
    "duration": 14,
    "start_time": "2022-01-17T19:24:22.367Z"
   },
   {
    "duration": 20,
    "start_time": "2022-01-17T19:24:32.126Z"
   },
   {
    "duration": 15,
    "start_time": "2022-01-17T19:24:51.023Z"
   },
   {
    "duration": 22,
    "start_time": "2022-01-17T19:25:06.029Z"
   },
   {
    "duration": 23,
    "start_time": "2022-01-17T19:25:22.724Z"
   },
   {
    "duration": 14,
    "start_time": "2022-01-17T19:25:36.852Z"
   },
   {
    "duration": 15,
    "start_time": "2022-01-17T19:25:45.259Z"
   },
   {
    "duration": 14,
    "start_time": "2022-01-17T19:26:15.276Z"
   },
   {
    "duration": 17,
    "start_time": "2022-01-17T19:26:24.356Z"
   },
   {
    "duration": 14,
    "start_time": "2022-01-17T19:26:30.667Z"
   },
   {
    "duration": 13,
    "start_time": "2022-01-17T19:26:46.221Z"
   },
   {
    "duration": 21,
    "start_time": "2022-01-17T19:26:56.187Z"
   },
   {
    "duration": 14,
    "start_time": "2022-01-17T19:27:04.787Z"
   },
   {
    "duration": 14,
    "start_time": "2022-01-17T19:27:28.540Z"
   },
   {
    "duration": 2,
    "start_time": "2022-01-17T19:28:26.732Z"
   },
   {
    "duration": 49,
    "start_time": "2022-01-17T19:28:26.736Z"
   },
   {
    "duration": 11,
    "start_time": "2022-01-17T19:28:26.787Z"
   },
   {
    "duration": 13,
    "start_time": "2022-01-17T19:28:26.799Z"
   },
   {
    "duration": 9,
    "start_time": "2022-01-17T19:28:26.814Z"
   },
   {
    "duration": 6,
    "start_time": "2022-01-17T19:28:26.825Z"
   },
   {
    "duration": 5,
    "start_time": "2022-01-17T19:28:26.833Z"
   },
   {
    "duration": 36,
    "start_time": "2022-01-17T19:28:26.840Z"
   },
   {
    "duration": 5,
    "start_time": "2022-01-17T19:28:26.877Z"
   },
   {
    "duration": 30,
    "start_time": "2022-01-17T19:28:26.883Z"
   },
   {
    "duration": 57,
    "start_time": "2022-01-17T19:28:26.915Z"
   },
   {
    "duration": 6,
    "start_time": "2022-01-17T19:28:26.974Z"
   },
   {
    "duration": 9,
    "start_time": "2022-01-17T19:28:26.982Z"
   },
   {
    "duration": 16,
    "start_time": "2022-01-17T19:28:26.993Z"
   },
   {
    "duration": 13,
    "start_time": "2022-01-17T19:28:27.010Z"
   },
   {
    "duration": 14,
    "start_time": "2022-01-17T19:28:27.025Z"
   },
   {
    "duration": 38,
    "start_time": "2022-01-17T19:28:27.041Z"
   },
   {
    "duration": 9,
    "start_time": "2022-01-17T19:28:27.081Z"
   },
   {
    "duration": 17,
    "start_time": "2022-01-17T19:28:27.094Z"
   },
   {
    "duration": 16,
    "start_time": "2022-01-17T19:28:27.114Z"
   },
   {
    "duration": 43,
    "start_time": "2022-01-17T19:28:27.131Z"
   },
   {
    "duration": 10,
    "start_time": "2022-01-17T19:28:27.176Z"
   },
   {
    "duration": 16,
    "start_time": "2022-01-17T19:28:27.188Z"
   },
   {
    "duration": 8,
    "start_time": "2022-01-17T19:28:27.206Z"
   },
   {
    "duration": 3536,
    "start_time": "2022-01-17T19:28:27.216Z"
   },
   {
    "duration": 3,
    "start_time": "2022-01-17T19:28:30.754Z"
   },
   {
    "duration": 23,
    "start_time": "2022-01-17T19:28:30.772Z"
   },
   {
    "duration": 8,
    "start_time": "2022-01-17T19:28:30.798Z"
   },
   {
    "duration": 13,
    "start_time": "2022-01-17T19:28:30.807Z"
   },
   {
    "duration": 5,
    "start_time": "2022-01-17T19:28:30.822Z"
   },
   {
    "duration": 47,
    "start_time": "2022-01-17T19:28:30.829Z"
   },
   {
    "duration": 13,
    "start_time": "2022-01-17T19:28:30.878Z"
   },
   {
    "duration": 9,
    "start_time": "2022-01-17T19:28:30.892Z"
   },
   {
    "duration": 11,
    "start_time": "2022-01-17T19:28:30.902Z"
   },
   {
    "duration": 9,
    "start_time": "2022-01-17T19:28:30.915Z"
   },
   {
    "duration": 48,
    "start_time": "2022-01-17T19:28:30.925Z"
   },
   {
    "duration": 25,
    "start_time": "2022-01-17T19:28:30.974Z"
   },
   {
    "duration": 16,
    "start_time": "2022-01-17T19:28:31.001Z"
   },
   {
    "duration": 6,
    "start_time": "2022-01-17T19:28:31.019Z"
   },
   {
    "duration": 12,
    "start_time": "2022-01-17T19:28:31.027Z"
   },
   {
    "duration": 9,
    "start_time": "2022-01-17T19:28:31.041Z"
   },
   {
    "duration": 40,
    "start_time": "2022-01-17T19:28:31.051Z"
   },
   {
    "duration": 4,
    "start_time": "2022-01-17T19:28:31.093Z"
   },
   {
    "duration": 9,
    "start_time": "2022-01-17T19:28:31.099Z"
   },
   {
    "duration": 25,
    "start_time": "2022-01-17T19:28:31.109Z"
   },
   {
    "duration": 4,
    "start_time": "2022-01-17T19:28:31.135Z"
   },
   {
    "duration": 12,
    "start_time": "2022-01-17T19:28:31.140Z"
   },
   {
    "duration": 10,
    "start_time": "2022-01-17T19:28:31.172Z"
   },
   {
    "duration": 9,
    "start_time": "2022-01-17T19:28:31.184Z"
   },
   {
    "duration": 19,
    "start_time": "2022-01-17T19:28:31.194Z"
   },
   {
    "duration": 7,
    "start_time": "2022-01-17T19:28:31.215Z"
   },
   {
    "duration": 13,
    "start_time": "2022-01-17T19:28:31.223Z"
   },
   {
    "duration": 46,
    "start_time": "2022-01-17T19:28:31.237Z"
   },
   {
    "duration": 9,
    "start_time": "2022-01-17T19:28:31.285Z"
   },
   {
    "duration": 7,
    "start_time": "2022-01-17T19:28:31.298Z"
   },
   {
    "duration": 19,
    "start_time": "2022-01-17T19:28:31.307Z"
   },
   {
    "duration": 7,
    "start_time": "2022-01-17T19:28:31.328Z"
   },
   {
    "duration": 14,
    "start_time": "2022-01-17T19:29:51.677Z"
   },
   {
    "duration": 3,
    "start_time": "2022-01-17T19:29:58.324Z"
   },
   {
    "duration": 57,
    "start_time": "2022-01-17T19:29:58.329Z"
   },
   {
    "duration": 13,
    "start_time": "2022-01-17T19:29:58.388Z"
   },
   {
    "duration": 10,
    "start_time": "2022-01-17T19:29:58.403Z"
   },
   {
    "duration": 8,
    "start_time": "2022-01-17T19:29:58.415Z"
   },
   {
    "duration": 5,
    "start_time": "2022-01-17T19:29:58.425Z"
   },
   {
    "duration": 5,
    "start_time": "2022-01-17T19:29:58.471Z"
   },
   {
    "duration": 5,
    "start_time": "2022-01-17T19:29:58.479Z"
   },
   {
    "duration": 4,
    "start_time": "2022-01-17T19:29:58.486Z"
   },
   {
    "duration": 20,
    "start_time": "2022-01-17T19:29:58.492Z"
   },
   {
    "duration": 79,
    "start_time": "2022-01-17T19:29:58.514Z"
   },
   {
    "duration": 4,
    "start_time": "2022-01-17T19:29:58.595Z"
   },
   {
    "duration": 7,
    "start_time": "2022-01-17T19:29:58.600Z"
   },
   {
    "duration": 13,
    "start_time": "2022-01-17T19:29:58.608Z"
   },
   {
    "duration": 14,
    "start_time": "2022-01-17T19:29:58.622Z"
   },
   {
    "duration": 40,
    "start_time": "2022-01-17T19:29:58.638Z"
   },
   {
    "duration": 15,
    "start_time": "2022-01-17T19:29:58.680Z"
   },
   {
    "duration": 11,
    "start_time": "2022-01-17T19:29:58.696Z"
   },
   {
    "duration": 15,
    "start_time": "2022-01-17T19:29:58.710Z"
   },
   {
    "duration": 15,
    "start_time": "2022-01-17T19:29:58.726Z"
   },
   {
    "duration": 38,
    "start_time": "2022-01-17T19:29:58.742Z"
   },
   {
    "duration": 8,
    "start_time": "2022-01-17T19:29:58.781Z"
   },
   {
    "duration": 16,
    "start_time": "2022-01-17T19:29:58.791Z"
   },
   {
    "duration": 7,
    "start_time": "2022-01-17T19:29:58.809Z"
   },
   {
    "duration": 3520,
    "start_time": "2022-01-17T19:29:58.818Z"
   },
   {
    "duration": 4,
    "start_time": "2022-01-17T19:30:02.340Z"
   },
   {
    "duration": 47,
    "start_time": "2022-01-17T19:30:02.345Z"
   },
   {
    "duration": 9,
    "start_time": "2022-01-17T19:30:02.393Z"
   },
   {
    "duration": 12,
    "start_time": "2022-01-17T19:30:02.403Z"
   },
   {
    "duration": 4,
    "start_time": "2022-01-17T19:30:02.417Z"
   },
   {
    "duration": 14,
    "start_time": "2022-01-17T19:30:02.423Z"
   },
   {
    "duration": 37,
    "start_time": "2022-01-17T19:30:02.438Z"
   },
   {
    "duration": 6,
    "start_time": "2022-01-17T19:30:02.476Z"
   },
   {
    "duration": 12,
    "start_time": "2022-01-17T19:30:02.483Z"
   },
   {
    "duration": 9,
    "start_time": "2022-01-17T19:30:02.496Z"
   },
   {
    "duration": 21,
    "start_time": "2022-01-17T19:30:02.507Z"
   },
   {
    "duration": 8,
    "start_time": "2022-01-17T19:30:02.529Z"
   },
   {
    "duration": 44,
    "start_time": "2022-01-17T19:30:02.539Z"
   },
   {
    "duration": 7,
    "start_time": "2022-01-17T19:30:02.585Z"
   },
   {
    "duration": 14,
    "start_time": "2022-01-17T19:30:02.594Z"
   },
   {
    "duration": 7,
    "start_time": "2022-01-17T19:30:02.610Z"
   },
   {
    "duration": 24,
    "start_time": "2022-01-17T19:30:02.618Z"
   },
   {
    "duration": 29,
    "start_time": "2022-01-17T19:30:02.644Z"
   },
   {
    "duration": 8,
    "start_time": "2022-01-17T19:30:02.674Z"
   },
   {
    "duration": 17,
    "start_time": "2022-01-17T19:30:02.684Z"
   },
   {
    "duration": 4,
    "start_time": "2022-01-17T19:30:02.702Z"
   },
   {
    "duration": 12,
    "start_time": "2022-01-17T19:30:02.708Z"
   },
   {
    "duration": 13,
    "start_time": "2022-01-17T19:30:02.722Z"
   },
   {
    "duration": 14,
    "start_time": "2022-01-17T19:30:02.737Z"
   },
   {
    "duration": 83,
    "start_time": "2022-01-17T19:30:02.752Z"
   },
   {
    "duration": 8,
    "start_time": "2022-01-17T19:30:02.836Z"
   },
   {
    "duration": 27,
    "start_time": "2022-01-17T19:30:02.846Z"
   },
   {
    "duration": 25,
    "start_time": "2022-01-17T19:30:02.874Z"
   },
   {
    "duration": 7,
    "start_time": "2022-01-17T19:30:02.901Z"
   },
   {
    "duration": 8,
    "start_time": "2022-01-17T19:30:02.912Z"
   },
   {
    "duration": 17,
    "start_time": "2022-01-17T19:30:02.922Z"
   },
   {
    "duration": 34,
    "start_time": "2022-01-17T19:30:02.941Z"
   },
   {
    "duration": 13,
    "start_time": "2022-01-17T19:30:30.945Z"
   },
   {
    "duration": 2,
    "start_time": "2022-01-17T19:30:36.093Z"
   },
   {
    "duration": 50,
    "start_time": "2022-01-17T19:30:36.097Z"
   },
   {
    "duration": 11,
    "start_time": "2022-01-17T19:30:36.149Z"
   },
   {
    "duration": 9,
    "start_time": "2022-01-17T19:30:36.163Z"
   },
   {
    "duration": 9,
    "start_time": "2022-01-17T19:30:36.174Z"
   },
   {
    "duration": 5,
    "start_time": "2022-01-17T19:30:36.184Z"
   },
   {
    "duration": 7,
    "start_time": "2022-01-17T19:30:36.190Z"
   },
   {
    "duration": 5,
    "start_time": "2022-01-17T19:30:36.200Z"
   },
   {
    "duration": 4,
    "start_time": "2022-01-17T19:30:36.207Z"
   },
   {
    "duration": 22,
    "start_time": "2022-01-17T19:30:36.213Z"
   },
   {
    "duration": 67,
    "start_time": "2022-01-17T19:30:36.237Z"
   },
   {
    "duration": 5,
    "start_time": "2022-01-17T19:30:36.305Z"
   },
   {
    "duration": 5,
    "start_time": "2022-01-17T19:30:36.311Z"
   },
   {
    "duration": 10,
    "start_time": "2022-01-17T19:30:36.318Z"
   },
   {
    "duration": 43,
    "start_time": "2022-01-17T19:30:36.330Z"
   },
   {
    "duration": 14,
    "start_time": "2022-01-17T19:30:36.375Z"
   },
   {
    "duration": 14,
    "start_time": "2022-01-17T19:30:36.390Z"
   },
   {
    "duration": 10,
    "start_time": "2022-01-17T19:30:36.405Z"
   },
   {
    "duration": 27,
    "start_time": "2022-01-17T19:30:36.417Z"
   },
   {
    "duration": 40,
    "start_time": "2022-01-17T19:30:36.446Z"
   },
   {
    "duration": 14,
    "start_time": "2022-01-17T19:30:36.487Z"
   },
   {
    "duration": 8,
    "start_time": "2022-01-17T19:30:36.503Z"
   },
   {
    "duration": 14,
    "start_time": "2022-01-17T19:30:36.515Z"
   },
   {
    "duration": 7,
    "start_time": "2022-01-17T19:30:36.531Z"
   },
   {
    "duration": 3680,
    "start_time": "2022-01-17T19:30:36.540Z"
   },
   {
    "duration": 4,
    "start_time": "2022-01-17T19:30:40.222Z"
   },
   {
    "duration": 23,
    "start_time": "2022-01-17T19:30:40.228Z"
   },
   {
    "duration": 20,
    "start_time": "2022-01-17T19:30:40.253Z"
   },
   {
    "duration": 8,
    "start_time": "2022-01-17T19:30:40.274Z"
   },
   {
    "duration": 5,
    "start_time": "2022-01-17T19:30:40.283Z"
   },
   {
    "duration": 20,
    "start_time": "2022-01-17T19:30:40.290Z"
   },
   {
    "duration": 18,
    "start_time": "2022-01-17T19:30:40.312Z"
   },
   {
    "duration": 42,
    "start_time": "2022-01-17T19:30:40.332Z"
   },
   {
    "duration": 17,
    "start_time": "2022-01-17T19:30:40.376Z"
   },
   {
    "duration": 12,
    "start_time": "2022-01-17T19:30:40.394Z"
   },
   {
    "duration": 23,
    "start_time": "2022-01-17T19:30:40.407Z"
   },
   {
    "duration": 9,
    "start_time": "2022-01-17T19:30:40.431Z"
   },
   {
    "duration": 39,
    "start_time": "2022-01-17T19:30:40.442Z"
   },
   {
    "duration": 5,
    "start_time": "2022-01-17T19:30:40.483Z"
   },
   {
    "duration": 10,
    "start_time": "2022-01-17T19:30:40.490Z"
   },
   {
    "duration": 7,
    "start_time": "2022-01-17T19:30:40.501Z"
   },
   {
    "duration": 25,
    "start_time": "2022-01-17T19:30:40.510Z"
   },
   {
    "duration": 36,
    "start_time": "2022-01-17T19:30:40.537Z"
   },
   {
    "duration": 6,
    "start_time": "2022-01-17T19:30:40.575Z"
   },
   {
    "duration": 18,
    "start_time": "2022-01-17T19:30:40.583Z"
   },
   {
    "duration": 4,
    "start_time": "2022-01-17T19:30:40.603Z"
   },
   {
    "duration": 11,
    "start_time": "2022-01-17T19:30:40.608Z"
   },
   {
    "duration": 17,
    "start_time": "2022-01-17T19:30:40.621Z"
   },
   {
    "duration": 33,
    "start_time": "2022-01-17T19:30:40.639Z"
   },
   {
    "duration": 17,
    "start_time": "2022-01-17T19:30:40.674Z"
   },
   {
    "duration": 7,
    "start_time": "2022-01-17T19:30:40.693Z"
   },
   {
    "duration": 12,
    "start_time": "2022-01-17T19:30:40.701Z"
   },
   {
    "duration": 19,
    "start_time": "2022-01-17T19:30:40.715Z"
   },
   {
    "duration": 6,
    "start_time": "2022-01-17T19:30:40.736Z"
   },
   {
    "duration": 8,
    "start_time": "2022-01-17T19:30:40.771Z"
   },
   {
    "duration": 16,
    "start_time": "2022-01-17T19:30:40.780Z"
   },
   {
    "duration": 7,
    "start_time": "2022-01-17T19:30:40.798Z"
   },
   {
    "duration": 14,
    "start_time": "2022-01-17T19:31:05.108Z"
   },
   {
    "duration": 15,
    "start_time": "2022-01-17T19:31:19.946Z"
   },
   {
    "duration": 3,
    "start_time": "2022-01-17T19:31:26.738Z"
   },
   {
    "duration": 50,
    "start_time": "2022-01-17T19:31:26.742Z"
   },
   {
    "duration": 12,
    "start_time": "2022-01-17T19:31:26.794Z"
   },
   {
    "duration": 12,
    "start_time": "2022-01-17T19:31:26.808Z"
   },
   {
    "duration": 8,
    "start_time": "2022-01-17T19:31:26.821Z"
   },
   {
    "duration": 9,
    "start_time": "2022-01-17T19:31:26.831Z"
   },
   {
    "duration": 6,
    "start_time": "2022-01-17T19:31:26.873Z"
   },
   {
    "duration": 5,
    "start_time": "2022-01-17T19:31:26.882Z"
   },
   {
    "duration": 5,
    "start_time": "2022-01-17T19:31:26.889Z"
   },
   {
    "duration": 29,
    "start_time": "2022-01-17T19:31:26.895Z"
   },
   {
    "duration": 77,
    "start_time": "2022-01-17T19:31:26.926Z"
   },
   {
    "duration": 4,
    "start_time": "2022-01-17T19:31:27.005Z"
   },
   {
    "duration": 7,
    "start_time": "2022-01-17T19:31:27.011Z"
   },
   {
    "duration": 12,
    "start_time": "2022-01-17T19:31:27.019Z"
   },
   {
    "duration": 13,
    "start_time": "2022-01-17T19:31:27.032Z"
   },
   {
    "duration": 14,
    "start_time": "2022-01-17T19:31:27.072Z"
   },
   {
    "duration": 14,
    "start_time": "2022-01-17T19:31:27.087Z"
   },
   {
    "duration": 10,
    "start_time": "2022-01-17T19:31:27.102Z"
   },
   {
    "duration": 19,
    "start_time": "2022-01-17T19:31:27.116Z"
   },
   {
    "duration": 40,
    "start_time": "2022-01-17T19:31:27.137Z"
   },
   {
    "duration": 14,
    "start_time": "2022-01-17T19:31:27.179Z"
   },
   {
    "duration": 8,
    "start_time": "2022-01-17T19:31:27.195Z"
   },
   {
    "duration": 17,
    "start_time": "2022-01-17T19:31:27.205Z"
   },
   {
    "duration": 7,
    "start_time": "2022-01-17T19:31:27.223Z"
   },
   {
    "duration": 3823,
    "start_time": "2022-01-17T19:31:27.231Z"
   },
   {
    "duration": 3,
    "start_time": "2022-01-17T19:31:31.055Z"
   },
   {
    "duration": 23,
    "start_time": "2022-01-17T19:31:31.072Z"
   },
   {
    "duration": 8,
    "start_time": "2022-01-17T19:31:31.096Z"
   },
   {
    "duration": 15,
    "start_time": "2022-01-17T19:31:31.105Z"
   },
   {
    "duration": 4,
    "start_time": "2022-01-17T19:31:31.122Z"
   },
   {
    "duration": 14,
    "start_time": "2022-01-17T19:31:31.128Z"
   },
   {
    "duration": 38,
    "start_time": "2022-01-17T19:31:31.143Z"
   },
   {
    "duration": 7,
    "start_time": "2022-01-17T19:31:31.183Z"
   },
   {
    "duration": 13,
    "start_time": "2022-01-17T19:31:31.191Z"
   },
   {
    "duration": 10,
    "start_time": "2022-01-17T19:31:31.205Z"
   },
   {
    "duration": 29,
    "start_time": "2022-01-17T19:31:31.216Z"
   },
   {
    "duration": 7,
    "start_time": "2022-01-17T19:31:31.247Z"
   },
   {
    "duration": 27,
    "start_time": "2022-01-17T19:31:31.256Z"
   },
   {
    "duration": 4,
    "start_time": "2022-01-17T19:31:31.285Z"
   },
   {
    "duration": 12,
    "start_time": "2022-01-17T19:31:31.291Z"
   },
   {
    "duration": 7,
    "start_time": "2022-01-17T19:31:31.304Z"
   },
   {
    "duration": 24,
    "start_time": "2022-01-17T19:31:31.313Z"
   },
   {
    "duration": 33,
    "start_time": "2022-01-17T19:31:31.339Z"
   },
   {
    "duration": 5,
    "start_time": "2022-01-17T19:31:31.374Z"
   },
   {
    "duration": 19,
    "start_time": "2022-01-17T19:31:31.381Z"
   },
   {
    "duration": 5,
    "start_time": "2022-01-17T19:31:31.402Z"
   },
   {
    "duration": 18,
    "start_time": "2022-01-17T19:31:31.409Z"
   },
   {
    "duration": 17,
    "start_time": "2022-01-17T19:31:31.428Z"
   },
   {
    "duration": 13,
    "start_time": "2022-01-17T19:31:31.446Z"
   },
   {
    "duration": 31,
    "start_time": "2022-01-17T19:31:31.460Z"
   },
   {
    "duration": 7,
    "start_time": "2022-01-17T19:31:31.492Z"
   },
   {
    "duration": 15,
    "start_time": "2022-01-17T19:31:31.500Z"
   },
   {
    "duration": 19,
    "start_time": "2022-01-17T19:31:31.517Z"
   },
   {
    "duration": 7,
    "start_time": "2022-01-17T19:31:31.538Z"
   },
   {
    "duration": 29,
    "start_time": "2022-01-17T19:31:31.549Z"
   },
   {
    "duration": 18,
    "start_time": "2022-01-17T19:31:31.579Z"
   },
   {
    "duration": 8,
    "start_time": "2022-01-17T19:31:31.598Z"
   },
   {
    "duration": 15,
    "start_time": "2022-01-17T19:32:49.897Z"
   },
   {
    "duration": 3,
    "start_time": "2022-01-17T19:32:51.503Z"
   },
   {
    "duration": 47,
    "start_time": "2022-01-17T19:32:51.508Z"
   },
   {
    "duration": 11,
    "start_time": "2022-01-17T19:32:51.557Z"
   },
   {
    "duration": 11,
    "start_time": "2022-01-17T19:32:51.570Z"
   },
   {
    "duration": 8,
    "start_time": "2022-01-17T19:32:51.583Z"
   },
   {
    "duration": 5,
    "start_time": "2022-01-17T19:32:51.593Z"
   },
   {
    "duration": 5,
    "start_time": "2022-01-17T19:32:51.599Z"
   },
   {
    "duration": 5,
    "start_time": "2022-01-17T19:32:51.606Z"
   },
   {
    "duration": 9,
    "start_time": "2022-01-17T19:32:51.613Z"
   },
   {
    "duration": 54,
    "start_time": "2022-01-17T19:32:51.623Z"
   },
   {
    "duration": 33,
    "start_time": "2022-01-17T19:32:51.679Z"
   },
   {
    "duration": 3,
    "start_time": "2022-01-17T19:32:51.714Z"
   },
   {
    "duration": 5,
    "start_time": "2022-01-17T19:32:51.718Z"
   },
   {
    "duration": 11,
    "start_time": "2022-01-17T19:32:51.725Z"
   },
   {
    "duration": 45,
    "start_time": "2022-01-17T19:32:51.737Z"
   },
   {
    "duration": 14,
    "start_time": "2022-01-17T19:32:51.784Z"
   },
   {
    "duration": 13,
    "start_time": "2022-01-17T19:32:51.799Z"
   },
   {
    "duration": 10,
    "start_time": "2022-01-17T19:32:51.814Z"
   },
   {
    "duration": 15,
    "start_time": "2022-01-17T19:32:51.826Z"
   },
   {
    "duration": 41,
    "start_time": "2022-01-17T19:32:51.843Z"
   },
   {
    "duration": 14,
    "start_time": "2022-01-17T19:32:51.886Z"
   },
   {
    "duration": 8,
    "start_time": "2022-01-17T19:32:51.902Z"
   },
   {
    "duration": 19,
    "start_time": "2022-01-17T19:32:51.912Z"
   },
   {
    "duration": 7,
    "start_time": "2022-01-17T19:32:51.932Z"
   },
   {
    "duration": 3287,
    "start_time": "2022-01-17T19:32:51.940Z"
   },
   {
    "duration": 3,
    "start_time": "2022-01-17T19:32:55.229Z"
   },
   {
    "duration": 37,
    "start_time": "2022-01-17T19:32:55.236Z"
   },
   {
    "duration": 6,
    "start_time": "2022-01-17T19:32:55.275Z"
   },
   {
    "duration": 11,
    "start_time": "2022-01-17T19:32:55.283Z"
   },
   {
    "duration": 4,
    "start_time": "2022-01-17T19:32:55.295Z"
   },
   {
    "duration": 14,
    "start_time": "2022-01-17T19:32:55.301Z"
   },
   {
    "duration": 16,
    "start_time": "2022-01-17T19:32:55.317Z"
   },
   {
    "duration": 6,
    "start_time": "2022-01-17T19:32:55.335Z"
   },
   {
    "duration": 11,
    "start_time": "2022-01-17T19:32:55.371Z"
   },
   {
    "duration": 8,
    "start_time": "2022-01-17T19:32:55.383Z"
   },
   {
    "duration": 17,
    "start_time": "2022-01-17T19:32:55.393Z"
   },
   {
    "duration": 6,
    "start_time": "2022-01-17T19:32:55.412Z"
   },
   {
    "duration": 12,
    "start_time": "2022-01-17T19:32:55.420Z"
   },
   {
    "duration": 7,
    "start_time": "2022-01-17T19:32:55.434Z"
   },
   {
    "duration": 36,
    "start_time": "2022-01-17T19:32:55.443Z"
   },
   {
    "duration": 7,
    "start_time": "2022-01-17T19:32:55.480Z"
   },
   {
    "duration": 22,
    "start_time": "2022-01-17T19:32:55.489Z"
   },
   {
    "duration": 5,
    "start_time": "2022-01-17T19:32:55.512Z"
   },
   {
    "duration": 12,
    "start_time": "2022-01-17T19:32:55.518Z"
   },
   {
    "duration": 41,
    "start_time": "2022-01-17T19:32:55.532Z"
   },
   {
    "duration": 5,
    "start_time": "2022-01-17T19:32:55.574Z"
   },
   {
    "duration": 9,
    "start_time": "2022-01-17T19:32:55.581Z"
   },
   {
    "duration": 11,
    "start_time": "2022-01-17T19:32:55.592Z"
   },
   {
    "duration": 16,
    "start_time": "2022-01-17T19:32:55.605Z"
   },
   {
    "duration": 19,
    "start_time": "2022-01-17T19:32:55.623Z"
   },
   {
    "duration": 30,
    "start_time": "2022-01-17T19:32:55.643Z"
   },
   {
    "duration": 10,
    "start_time": "2022-01-17T19:32:55.674Z"
   },
   {
    "duration": 18,
    "start_time": "2022-01-17T19:32:55.686Z"
   },
   {
    "duration": 8,
    "start_time": "2022-01-17T19:32:55.705Z"
   },
   {
    "duration": 11,
    "start_time": "2022-01-17T19:32:55.714Z"
   },
   {
    "duration": 19,
    "start_time": "2022-01-17T19:32:55.726Z"
   },
   {
    "duration": 31,
    "start_time": "2022-01-17T19:32:55.747Z"
   },
   {
    "duration": 20,
    "start_time": "2022-01-17T19:34:07.313Z"
   },
   {
    "duration": 15,
    "start_time": "2022-01-17T19:34:30.504Z"
   },
   {
    "duration": 14,
    "start_time": "2022-01-17T19:35:00.302Z"
   },
   {
    "duration": 15,
    "start_time": "2022-01-17T19:35:27.528Z"
   },
   {
    "duration": 3,
    "start_time": "2022-01-17T19:35:35.962Z"
   },
   {
    "duration": 51,
    "start_time": "2022-01-17T19:35:35.966Z"
   },
   {
    "duration": 12,
    "start_time": "2022-01-17T19:35:36.019Z"
   },
   {
    "duration": 11,
    "start_time": "2022-01-17T19:35:36.032Z"
   },
   {
    "duration": 8,
    "start_time": "2022-01-17T19:35:36.045Z"
   },
   {
    "duration": 20,
    "start_time": "2022-01-17T19:35:36.055Z"
   },
   {
    "duration": 5,
    "start_time": "2022-01-17T19:35:36.078Z"
   },
   {
    "duration": 5,
    "start_time": "2022-01-17T19:35:36.086Z"
   },
   {
    "duration": 6,
    "start_time": "2022-01-17T19:35:36.092Z"
   },
   {
    "duration": 23,
    "start_time": "2022-01-17T19:35:36.099Z"
   },
   {
    "duration": 69,
    "start_time": "2022-01-17T19:35:36.123Z"
   },
   {
    "duration": 3,
    "start_time": "2022-01-17T19:35:36.194Z"
   },
   {
    "duration": 6,
    "start_time": "2022-01-17T19:35:36.199Z"
   },
   {
    "duration": 11,
    "start_time": "2022-01-17T19:35:36.206Z"
   },
   {
    "duration": 12,
    "start_time": "2022-01-17T19:35:36.219Z"
   },
   {
    "duration": 47,
    "start_time": "2022-01-17T19:35:36.233Z"
   },
   {
    "duration": 14,
    "start_time": "2022-01-17T19:35:36.282Z"
   },
   {
    "duration": 16,
    "start_time": "2022-01-17T19:35:36.297Z"
   },
   {
    "duration": 44,
    "start_time": "2022-01-17T19:35:36.317Z"
   },
   {
    "duration": 26,
    "start_time": "2022-01-17T19:35:36.364Z"
   },
   {
    "duration": 19,
    "start_time": "2022-01-17T19:35:36.392Z"
   },
   {
    "duration": 12,
    "start_time": "2022-01-17T19:35:36.413Z"
   },
   {
    "duration": 28,
    "start_time": "2022-01-17T19:35:36.427Z"
   },
   {
    "duration": 15,
    "start_time": "2022-01-17T19:35:36.457Z"
   },
   {
    "duration": 3576,
    "start_time": "2022-01-17T19:35:36.474Z"
   },
   {
    "duration": 3,
    "start_time": "2022-01-17T19:35:40.052Z"
   },
   {
    "duration": 35,
    "start_time": "2022-01-17T19:35:40.057Z"
   },
   {
    "duration": 7,
    "start_time": "2022-01-17T19:35:40.093Z"
   },
   {
    "duration": 9,
    "start_time": "2022-01-17T19:35:40.102Z"
   },
   {
    "duration": 4,
    "start_time": "2022-01-17T19:35:40.113Z"
   },
   {
    "duration": 13,
    "start_time": "2022-01-17T19:35:40.118Z"
   },
   {
    "duration": 42,
    "start_time": "2022-01-17T19:35:40.133Z"
   },
   {
    "duration": 8,
    "start_time": "2022-01-17T19:35:40.176Z"
   },
   {
    "duration": 11,
    "start_time": "2022-01-17T19:35:40.185Z"
   },
   {
    "duration": 9,
    "start_time": "2022-01-17T19:35:40.198Z"
   },
   {
    "duration": 23,
    "start_time": "2022-01-17T19:35:40.208Z"
   },
   {
    "duration": 8,
    "start_time": "2022-01-17T19:35:40.233Z"
   },
   {
    "duration": 38,
    "start_time": "2022-01-17T19:35:40.243Z"
   },
   {
    "duration": 5,
    "start_time": "2022-01-17T19:35:40.282Z"
   },
   {
    "duration": 13,
    "start_time": "2022-01-17T19:35:40.288Z"
   },
   {
    "duration": 7,
    "start_time": "2022-01-17T19:35:40.303Z"
   },
   {
    "duration": 25,
    "start_time": "2022-01-17T19:35:40.312Z"
   },
   {
    "duration": 34,
    "start_time": "2022-01-17T19:35:40.339Z"
   },
   {
    "duration": 7,
    "start_time": "2022-01-17T19:35:40.375Z"
   },
   {
    "duration": 18,
    "start_time": "2022-01-17T19:35:40.384Z"
   },
   {
    "duration": 5,
    "start_time": "2022-01-17T19:35:40.403Z"
   },
   {
    "duration": 11,
    "start_time": "2022-01-17T19:35:40.410Z"
   },
   {
    "duration": 18,
    "start_time": "2022-01-17T19:35:40.422Z"
   },
   {
    "duration": 30,
    "start_time": "2022-01-17T19:35:40.442Z"
   },
   {
    "duration": 20,
    "start_time": "2022-01-17T19:35:40.474Z"
   },
   {
    "duration": 10,
    "start_time": "2022-01-17T19:35:40.496Z"
   },
   {
    "duration": 14,
    "start_time": "2022-01-17T19:35:40.508Z"
   },
   {
    "duration": 58,
    "start_time": "2022-01-17T19:35:40.524Z"
   },
   {
    "duration": 10,
    "start_time": "2022-01-17T19:35:40.584Z"
   },
   {
    "duration": 7,
    "start_time": "2022-01-17T19:35:40.598Z"
   },
   {
    "duration": 18,
    "start_time": "2022-01-17T19:35:40.607Z"
   },
   {
    "duration": 8,
    "start_time": "2022-01-17T19:35:40.626Z"
   },
   {
    "duration": 15,
    "start_time": "2022-01-17T19:36:42.848Z"
   },
   {
    "duration": 14,
    "start_time": "2022-01-17T19:36:56.648Z"
   },
   {
    "duration": 15,
    "start_time": "2022-01-17T19:37:05.666Z"
   },
   {
    "duration": 14,
    "start_time": "2022-01-17T19:37:19.038Z"
   },
   {
    "duration": 3,
    "start_time": "2022-01-17T19:37:29.698Z"
   },
   {
    "duration": 49,
    "start_time": "2022-01-17T19:37:29.702Z"
   },
   {
    "duration": 12,
    "start_time": "2022-01-17T19:37:29.753Z"
   },
   {
    "duration": 12,
    "start_time": "2022-01-17T19:37:29.766Z"
   },
   {
    "duration": 8,
    "start_time": "2022-01-17T19:37:29.779Z"
   },
   {
    "duration": 6,
    "start_time": "2022-01-17T19:37:29.788Z"
   },
   {
    "duration": 4,
    "start_time": "2022-01-17T19:37:29.795Z"
   },
   {
    "duration": 5,
    "start_time": "2022-01-17T19:37:29.801Z"
   },
   {
    "duration": 8,
    "start_time": "2022-01-17T19:37:29.807Z"
   },
   {
    "duration": 23,
    "start_time": "2022-01-17T19:37:29.816Z"
   },
   {
    "duration": 62,
    "start_time": "2022-01-17T19:37:29.840Z"
   },
   {
    "duration": 4,
    "start_time": "2022-01-17T19:37:29.904Z"
   },
   {
    "duration": 6,
    "start_time": "2022-01-17T19:37:29.909Z"
   },
   {
    "duration": 11,
    "start_time": "2022-01-17T19:37:29.917Z"
   },
   {
    "duration": 42,
    "start_time": "2022-01-17T19:37:29.930Z"
   },
   {
    "duration": 16,
    "start_time": "2022-01-17T19:37:29.974Z"
   },
   {
    "duration": 17,
    "start_time": "2022-01-17T19:37:29.992Z"
   },
   {
    "duration": 10,
    "start_time": "2022-01-17T19:37:30.011Z"
   },
   {
    "duration": 20,
    "start_time": "2022-01-17T19:37:30.022Z"
   },
   {
    "duration": 41,
    "start_time": "2022-01-17T19:37:30.043Z"
   },
   {
    "duration": 15,
    "start_time": "2022-01-17T19:37:30.085Z"
   },
   {
    "duration": 9,
    "start_time": "2022-01-17T19:37:30.101Z"
   },
   {
    "duration": 15,
    "start_time": "2022-01-17T19:37:30.114Z"
   },
   {
    "duration": 7,
    "start_time": "2022-01-17T19:37:30.131Z"
   },
   {
    "duration": 3576,
    "start_time": "2022-01-17T19:37:30.140Z"
   },
   {
    "duration": 3,
    "start_time": "2022-01-17T19:37:33.719Z"
   },
   {
    "duration": 32,
    "start_time": "2022-01-17T19:37:33.724Z"
   },
   {
    "duration": 20,
    "start_time": "2022-01-17T19:37:33.758Z"
   },
   {
    "duration": 9,
    "start_time": "2022-01-17T19:37:33.780Z"
   },
   {
    "duration": 5,
    "start_time": "2022-01-17T19:37:33.791Z"
   },
   {
    "duration": 20,
    "start_time": "2022-01-17T19:37:33.798Z"
   },
   {
    "duration": 19,
    "start_time": "2022-01-17T19:37:33.819Z"
   },
   {
    "duration": 43,
    "start_time": "2022-01-17T19:37:33.839Z"
   },
   {
    "duration": 17,
    "start_time": "2022-01-17T19:37:33.883Z"
   },
   {
    "duration": 12,
    "start_time": "2022-01-17T19:37:33.901Z"
   },
   {
    "duration": 19,
    "start_time": "2022-01-17T19:37:33.914Z"
   },
   {
    "duration": 8,
    "start_time": "2022-01-17T19:37:33.934Z"
   },
   {
    "duration": 40,
    "start_time": "2022-01-17T19:37:33.943Z"
   },
   {
    "duration": 5,
    "start_time": "2022-01-17T19:37:33.984Z"
   },
   {
    "duration": 13,
    "start_time": "2022-01-17T19:37:33.991Z"
   },
   {
    "duration": 7,
    "start_time": "2022-01-17T19:37:34.005Z"
   },
   {
    "duration": 24,
    "start_time": "2022-01-17T19:37:34.013Z"
   },
   {
    "duration": 35,
    "start_time": "2022-01-17T19:37:34.038Z"
   },
   {
    "duration": 7,
    "start_time": "2022-01-17T19:37:34.074Z"
   },
   {
    "duration": 17,
    "start_time": "2022-01-17T19:37:34.082Z"
   },
   {
    "duration": 3,
    "start_time": "2022-01-17T19:37:34.101Z"
   },
   {
    "duration": 11,
    "start_time": "2022-01-17T19:37:34.106Z"
   },
   {
    "duration": 20,
    "start_time": "2022-01-17T19:37:34.118Z"
   },
   {
    "duration": 35,
    "start_time": "2022-01-17T19:37:34.139Z"
   },
   {
    "duration": 17,
    "start_time": "2022-01-17T19:37:34.176Z"
   },
   {
    "duration": 7,
    "start_time": "2022-01-17T19:37:34.194Z"
   },
   {
    "duration": 12,
    "start_time": "2022-01-17T19:37:34.202Z"
   },
   {
    "duration": 21,
    "start_time": "2022-01-17T19:37:34.215Z"
   },
   {
    "duration": 35,
    "start_time": "2022-01-17T19:37:34.238Z"
   },
   {
    "duration": 8,
    "start_time": "2022-01-17T19:37:34.275Z"
   },
   {
    "duration": 17,
    "start_time": "2022-01-17T19:37:34.284Z"
   },
   {
    "duration": 8,
    "start_time": "2022-01-17T19:37:34.303Z"
   },
   {
    "duration": 15,
    "start_time": "2022-01-17T19:38:04.488Z"
   },
   {
    "duration": 15,
    "start_time": "2022-01-17T19:38:40.246Z"
   },
   {
    "duration": 3,
    "start_time": "2022-01-17T19:38:46.927Z"
   },
   {
    "duration": 47,
    "start_time": "2022-01-17T19:38:46.932Z"
   },
   {
    "duration": 11,
    "start_time": "2022-01-17T19:38:46.982Z"
   },
   {
    "duration": 11,
    "start_time": "2022-01-17T19:38:46.994Z"
   },
   {
    "duration": 9,
    "start_time": "2022-01-17T19:38:47.006Z"
   },
   {
    "duration": 11,
    "start_time": "2022-01-17T19:38:47.016Z"
   },
   {
    "duration": 9,
    "start_time": "2022-01-17T19:38:47.028Z"
   },
   {
    "duration": 5,
    "start_time": "2022-01-17T19:38:47.038Z"
   },
   {
    "duration": 26,
    "start_time": "2022-01-17T19:38:47.045Z"
   },
   {
    "duration": 18,
    "start_time": "2022-01-17T19:38:47.073Z"
   },
   {
    "duration": 44,
    "start_time": "2022-01-17T19:38:47.092Z"
   },
   {
    "duration": 4,
    "start_time": "2022-01-17T19:38:47.138Z"
   },
   {
    "duration": 5,
    "start_time": "2022-01-17T19:38:47.173Z"
   },
   {
    "duration": 23,
    "start_time": "2022-01-17T19:38:47.179Z"
   },
   {
    "duration": 14,
    "start_time": "2022-01-17T19:38:47.204Z"
   },
   {
    "duration": 18,
    "start_time": "2022-01-17T19:38:47.220Z"
   },
   {
    "duration": 36,
    "start_time": "2022-01-17T19:38:47.239Z"
   },
   {
    "duration": 11,
    "start_time": "2022-01-17T19:38:47.276Z"
   },
   {
    "duration": 20,
    "start_time": "2022-01-17T19:38:47.288Z"
   },
   {
    "duration": 16,
    "start_time": "2022-01-17T19:38:47.309Z"
   },
   {
    "duration": 14,
    "start_time": "2022-01-17T19:38:47.326Z"
   },
   {
    "duration": 36,
    "start_time": "2022-01-17T19:38:47.342Z"
   },
   {
    "duration": 18,
    "start_time": "2022-01-17T19:38:47.380Z"
   },
   {
    "duration": 7,
    "start_time": "2022-01-17T19:38:47.402Z"
   },
   {
    "duration": 3486,
    "start_time": "2022-01-17T19:38:47.412Z"
   },
   {
    "duration": 4,
    "start_time": "2022-01-17T19:38:50.900Z"
   },
   {
    "duration": 22,
    "start_time": "2022-01-17T19:38:50.906Z"
   },
   {
    "duration": 7,
    "start_time": "2022-01-17T19:38:50.929Z"
   },
   {
    "duration": 34,
    "start_time": "2022-01-17T19:38:50.938Z"
   },
   {
    "duration": 5,
    "start_time": "2022-01-17T19:38:50.974Z"
   },
   {
    "duration": 15,
    "start_time": "2022-01-17T19:38:50.980Z"
   },
   {
    "duration": 11,
    "start_time": "2022-01-17T19:38:50.996Z"
   },
   {
    "duration": 8,
    "start_time": "2022-01-17T19:38:51.009Z"
   },
   {
    "duration": 27,
    "start_time": "2022-01-17T19:38:51.018Z"
   },
   {
    "duration": 26,
    "start_time": "2022-01-17T19:38:51.046Z"
   },
   {
    "duration": 19,
    "start_time": "2022-01-17T19:38:51.073Z"
   },
   {
    "duration": 8,
    "start_time": "2022-01-17T19:38:51.093Z"
   },
   {
    "duration": 21,
    "start_time": "2022-01-17T19:38:51.103Z"
   },
   {
    "duration": 6,
    "start_time": "2022-01-17T19:38:51.126Z"
   },
   {
    "duration": 37,
    "start_time": "2022-01-17T19:38:51.134Z"
   },
   {
    "duration": 8,
    "start_time": "2022-01-17T19:38:51.173Z"
   },
   {
    "duration": 23,
    "start_time": "2022-01-17T19:38:51.183Z"
   },
   {
    "duration": 5,
    "start_time": "2022-01-17T19:38:51.207Z"
   },
   {
    "duration": 7,
    "start_time": "2022-01-17T19:38:51.214Z"
   },
   {
    "duration": 20,
    "start_time": "2022-01-17T19:38:51.222Z"
   },
   {
    "duration": 31,
    "start_time": "2022-01-17T19:38:51.243Z"
   },
   {
    "duration": 10,
    "start_time": "2022-01-17T19:38:51.275Z"
   },
   {
    "duration": 20,
    "start_time": "2022-01-17T19:38:51.287Z"
   },
   {
    "duration": 12,
    "start_time": "2022-01-17T19:38:51.309Z"
   },
   {
    "duration": 20,
    "start_time": "2022-01-17T19:38:51.323Z"
   },
   {
    "duration": 7,
    "start_time": "2022-01-17T19:38:51.344Z"
   },
   {
    "duration": 20,
    "start_time": "2022-01-17T19:38:51.352Z"
   },
   {
    "duration": 15,
    "start_time": "2022-01-17T19:38:51.373Z"
   },
   {
    "duration": 7,
    "start_time": "2022-01-17T19:38:51.389Z"
   },
   {
    "duration": 12,
    "start_time": "2022-01-17T19:38:51.398Z"
   },
   {
    "duration": 21,
    "start_time": "2022-01-17T19:38:51.411Z"
   },
   {
    "duration": 7,
    "start_time": "2022-01-17T19:38:51.433Z"
   },
   {
    "duration": 14,
    "start_time": "2022-01-17T19:39:22.660Z"
   },
   {
    "duration": 15,
    "start_time": "2022-01-17T19:39:30.382Z"
   },
   {
    "duration": 14,
    "start_time": "2022-01-17T19:39:36.398Z"
   },
   {
    "duration": 3,
    "start_time": "2022-01-17T19:39:40.592Z"
   },
   {
    "duration": 46,
    "start_time": "2022-01-17T19:39:40.598Z"
   },
   {
    "duration": 11,
    "start_time": "2022-01-17T19:39:40.646Z"
   },
   {
    "duration": 10,
    "start_time": "2022-01-17T19:39:40.659Z"
   },
   {
    "duration": 8,
    "start_time": "2022-01-17T19:39:40.670Z"
   },
   {
    "duration": 4,
    "start_time": "2022-01-17T19:39:40.680Z"
   },
   {
    "duration": 5,
    "start_time": "2022-01-17T19:39:40.686Z"
   },
   {
    "duration": 5,
    "start_time": "2022-01-17T19:39:40.692Z"
   },
   {
    "duration": 6,
    "start_time": "2022-01-17T19:39:40.699Z"
   },
   {
    "duration": 24,
    "start_time": "2022-01-17T19:39:40.708Z"
   },
   {
    "duration": 65,
    "start_time": "2022-01-17T19:39:40.734Z"
   },
   {
    "duration": 4,
    "start_time": "2022-01-17T19:39:40.800Z"
   },
   {
    "duration": 5,
    "start_time": "2022-01-17T19:39:40.806Z"
   },
   {
    "duration": 12,
    "start_time": "2022-01-17T19:39:40.813Z"
   },
   {
    "duration": 13,
    "start_time": "2022-01-17T19:39:40.826Z"
   },
   {
    "duration": 44,
    "start_time": "2022-01-17T19:39:40.840Z"
   },
   {
    "duration": 13,
    "start_time": "2022-01-17T19:39:40.886Z"
   },
   {
    "duration": 10,
    "start_time": "2022-01-17T19:39:40.900Z"
   },
   {
    "duration": 27,
    "start_time": "2022-01-17T19:39:40.911Z"
   },
   {
    "duration": 14,
    "start_time": "2022-01-17T19:39:40.940Z"
   },
   {
    "duration": 28,
    "start_time": "2022-01-17T19:39:40.955Z"
   },
   {
    "duration": 9,
    "start_time": "2022-01-17T19:39:40.984Z"
   },
   {
    "duration": 15,
    "start_time": "2022-01-17T19:39:40.995Z"
   },
   {
    "duration": 12,
    "start_time": "2022-01-17T19:39:41.012Z"
   },
   {
    "duration": 3219,
    "start_time": "2022-01-17T19:39:41.025Z"
   },
   {
    "duration": 3,
    "start_time": "2022-01-17T19:39:44.246Z"
   },
   {
    "duration": 39,
    "start_time": "2022-01-17T19:39:44.250Z"
   },
   {
    "duration": 7,
    "start_time": "2022-01-17T19:39:44.292Z"
   },
   {
    "duration": 30,
    "start_time": "2022-01-17T19:39:44.300Z"
   },
   {
    "duration": 14,
    "start_time": "2022-01-17T19:39:44.332Z"
   },
   {
    "duration": 15,
    "start_time": "2022-01-17T19:39:44.348Z"
   },
   {
    "duration": 19,
    "start_time": "2022-01-17T19:39:44.365Z"
   },
   {
    "duration": 27,
    "start_time": "2022-01-17T19:39:44.385Z"
   },
   {
    "duration": 23,
    "start_time": "2022-01-17T19:39:44.413Z"
   },
   {
    "duration": 17,
    "start_time": "2022-01-17T19:39:44.437Z"
   },
   {
    "duration": 17,
    "start_time": "2022-01-17T19:39:44.456Z"
   },
   {
    "duration": 7,
    "start_time": "2022-01-17T19:39:44.475Z"
   },
   {
    "duration": 12,
    "start_time": "2022-01-17T19:39:44.483Z"
   },
   {
    "duration": 71,
    "start_time": "2022-01-17T19:39:44.496Z"
   },
   {
    "duration": 28,
    "start_time": "2022-01-17T19:39:44.568Z"
   },
   {
    "duration": 10,
    "start_time": "2022-01-17T19:39:44.598Z"
   },
   {
    "duration": 26,
    "start_time": "2022-01-17T19:39:44.610Z"
   },
   {
    "duration": 5,
    "start_time": "2022-01-17T19:39:44.637Z"
   },
   {
    "duration": 9,
    "start_time": "2022-01-17T19:39:44.644Z"
   },
   {
    "duration": 25,
    "start_time": "2022-01-17T19:39:44.654Z"
   },
   {
    "duration": 4,
    "start_time": "2022-01-17T19:39:44.681Z"
   },
   {
    "duration": 12,
    "start_time": "2022-01-17T19:39:44.686Z"
   },
   {
    "duration": 18,
    "start_time": "2022-01-17T19:39:44.699Z"
   },
   {
    "duration": 14,
    "start_time": "2022-01-17T19:39:44.719Z"
   },
   {
    "duration": 20,
    "start_time": "2022-01-17T19:39:44.735Z"
   },
   {
    "duration": 20,
    "start_time": "2022-01-17T19:39:44.757Z"
   },
   {
    "duration": 10,
    "start_time": "2022-01-17T19:39:44.778Z"
   },
   {
    "duration": 21,
    "start_time": "2022-01-17T19:39:44.790Z"
   },
   {
    "duration": 6,
    "start_time": "2022-01-17T19:39:44.813Z"
   },
   {
    "duration": 10,
    "start_time": "2022-01-17T19:39:44.821Z"
   },
   {
    "duration": 20,
    "start_time": "2022-01-17T19:39:44.832Z"
   },
   {
    "duration": 8,
    "start_time": "2022-01-17T19:39:44.872Z"
   },
   {
    "duration": 14,
    "start_time": "2022-01-17T19:45:33.736Z"
   },
   {
    "duration": 10,
    "start_time": "2022-01-17T19:46:45.517Z"
   },
   {
    "duration": 2,
    "start_time": "2022-01-17T19:46:47.060Z"
   },
   {
    "duration": 52,
    "start_time": "2022-01-17T19:46:47.065Z"
   },
   {
    "duration": 12,
    "start_time": "2022-01-17T19:46:47.119Z"
   },
   {
    "duration": 15,
    "start_time": "2022-01-17T19:46:47.133Z"
   },
   {
    "duration": 23,
    "start_time": "2022-01-17T19:46:47.150Z"
   },
   {
    "duration": 5,
    "start_time": "2022-01-17T19:46:47.175Z"
   },
   {
    "duration": 6,
    "start_time": "2022-01-17T19:46:47.182Z"
   },
   {
    "duration": 6,
    "start_time": "2022-01-17T19:46:47.189Z"
   },
   {
    "duration": 3,
    "start_time": "2022-01-17T19:46:47.197Z"
   },
   {
    "duration": 24,
    "start_time": "2022-01-17T19:46:47.202Z"
   },
   {
    "duration": 72,
    "start_time": "2022-01-17T19:46:47.228Z"
   },
   {
    "duration": 4,
    "start_time": "2022-01-17T19:46:47.302Z"
   },
   {
    "duration": 6,
    "start_time": "2022-01-17T19:46:47.307Z"
   },
   {
    "duration": 12,
    "start_time": "2022-01-17T19:46:47.314Z"
   },
   {
    "duration": 12,
    "start_time": "2022-01-17T19:46:47.328Z"
   },
   {
    "duration": 45,
    "start_time": "2022-01-17T19:46:47.342Z"
   },
   {
    "duration": 13,
    "start_time": "2022-01-17T19:46:47.389Z"
   },
   {
    "duration": 12,
    "start_time": "2022-01-17T19:46:47.404Z"
   },
   {
    "duration": 21,
    "start_time": "2022-01-17T19:46:47.417Z"
   },
   {
    "duration": 40,
    "start_time": "2022-01-17T19:46:47.440Z"
   },
   {
    "duration": 16,
    "start_time": "2022-01-17T19:46:47.481Z"
   },
   {
    "duration": 9,
    "start_time": "2022-01-17T19:46:47.498Z"
   },
   {
    "duration": 18,
    "start_time": "2022-01-17T19:46:47.509Z"
   },
   {
    "duration": 7,
    "start_time": "2022-01-17T19:46:47.532Z"
   },
   {
    "duration": 3388,
    "start_time": "2022-01-17T19:46:47.542Z"
   },
   {
    "duration": 3,
    "start_time": "2022-01-17T19:46:50.931Z"
   },
   {
    "duration": 23,
    "start_time": "2022-01-17T19:46:50.935Z"
   },
   {
    "duration": 15,
    "start_time": "2022-01-17T19:46:50.960Z"
   },
   {
    "duration": 6,
    "start_time": "2022-01-17T19:46:50.976Z"
   },
   {
    "duration": 5,
    "start_time": "2022-01-17T19:46:50.984Z"
   },
   {
    "duration": 14,
    "start_time": "2022-01-17T19:46:50.990Z"
   },
   {
    "duration": 16,
    "start_time": "2022-01-17T19:46:51.005Z"
   },
   {
    "duration": 7,
    "start_time": "2022-01-17T19:46:51.023Z"
   },
   {
    "duration": 48,
    "start_time": "2022-01-17T19:46:51.032Z"
   },
   {
    "duration": 8,
    "start_time": "2022-01-17T19:46:51.081Z"
   },
   {
    "duration": 20,
    "start_time": "2022-01-17T19:46:51.090Z"
   },
   {
    "duration": 7,
    "start_time": "2022-01-17T19:46:51.111Z"
   },
   {
    "duration": 13,
    "start_time": "2022-01-17T19:46:51.119Z"
   },
   {
    "duration": 8,
    "start_time": "2022-01-17T19:46:51.134Z"
   },
   {
    "duration": 33,
    "start_time": "2022-01-17T19:46:51.144Z"
   },
   {
    "duration": 6,
    "start_time": "2022-01-17T19:46:51.179Z"
   },
   {
    "duration": 23,
    "start_time": "2022-01-17T19:46:51.187Z"
   },
   {
    "duration": 4,
    "start_time": "2022-01-17T19:46:51.212Z"
   },
   {
    "duration": 12,
    "start_time": "2022-01-17T19:46:51.218Z"
   },
   {
    "duration": 41,
    "start_time": "2022-01-17T19:46:51.231Z"
   },
   {
    "duration": 4,
    "start_time": "2022-01-17T19:46:51.273Z"
   },
   {
    "duration": 12,
    "start_time": "2022-01-17T19:46:51.278Z"
   },
   {
    "duration": 14,
    "start_time": "2022-01-17T19:46:51.291Z"
   },
   {
    "duration": 13,
    "start_time": "2022-01-17T19:46:51.307Z"
   },
   {
    "duration": 23,
    "start_time": "2022-01-17T19:46:51.321Z"
   },
   {
    "duration": 12,
    "start_time": "2022-01-17T19:46:51.345Z"
   },
   {
    "duration": 18,
    "start_time": "2022-01-17T19:46:51.358Z"
   },
   {
    "duration": 18,
    "start_time": "2022-01-17T19:46:51.377Z"
   },
   {
    "duration": 8,
    "start_time": "2022-01-17T19:46:51.396Z"
   },
   {
    "duration": 14,
    "start_time": "2022-01-17T19:46:51.405Z"
   },
   {
    "duration": 19,
    "start_time": "2022-01-17T19:46:51.420Z"
   },
   {
    "duration": 7,
    "start_time": "2022-01-17T19:46:51.441Z"
   },
   {
    "duration": 20,
    "start_time": "2022-01-17T20:02:34.469Z"
   },
   {
    "duration": 15,
    "start_time": "2022-01-17T20:02:44.319Z"
   },
   {
    "duration": 2,
    "start_time": "2022-01-17T20:02:50.174Z"
   },
   {
    "duration": 50,
    "start_time": "2022-01-17T20:02:50.178Z"
   },
   {
    "duration": 12,
    "start_time": "2022-01-17T20:02:50.230Z"
   },
   {
    "duration": 29,
    "start_time": "2022-01-17T20:02:50.244Z"
   },
   {
    "duration": 11,
    "start_time": "2022-01-17T20:02:50.275Z"
   },
   {
    "duration": 5,
    "start_time": "2022-01-17T20:02:50.288Z"
   },
   {
    "duration": 7,
    "start_time": "2022-01-17T20:02:50.294Z"
   },
   {
    "duration": 8,
    "start_time": "2022-01-17T20:02:50.303Z"
   },
   {
    "duration": 4,
    "start_time": "2022-01-17T20:02:50.314Z"
   },
   {
    "duration": 61,
    "start_time": "2022-01-17T20:02:50.320Z"
   },
   {
    "duration": 38,
    "start_time": "2022-01-17T20:02:50.383Z"
   },
   {
    "duration": 4,
    "start_time": "2022-01-17T20:02:50.422Z"
   },
   {
    "duration": 7,
    "start_time": "2022-01-17T20:02:50.427Z"
   },
   {
    "duration": 37,
    "start_time": "2022-01-17T20:02:50.435Z"
   },
   {
    "duration": 18,
    "start_time": "2022-01-17T20:02:50.473Z"
   },
   {
    "duration": 15,
    "start_time": "2022-01-17T20:02:50.493Z"
   },
   {
    "duration": 15,
    "start_time": "2022-01-17T20:02:50.509Z"
   },
   {
    "duration": 10,
    "start_time": "2022-01-17T20:02:50.525Z"
   },
   {
    "duration": 46,
    "start_time": "2022-01-17T20:02:50.537Z"
   },
   {
    "duration": 15,
    "start_time": "2022-01-17T20:02:50.585Z"
   },
   {
    "duration": 13,
    "start_time": "2022-01-17T20:02:50.601Z"
   },
   {
    "duration": 8,
    "start_time": "2022-01-17T20:02:50.616Z"
   },
   {
    "duration": 21,
    "start_time": "2022-01-17T20:02:50.626Z"
   },
   {
    "duration": 26,
    "start_time": "2022-01-17T20:02:50.649Z"
   },
   {
    "duration": 3640,
    "start_time": "2022-01-17T20:02:50.677Z"
   },
   {
    "duration": 3,
    "start_time": "2022-01-17T20:02:54.319Z"
   },
   {
    "duration": 22,
    "start_time": "2022-01-17T20:02:54.326Z"
   },
   {
    "duration": 27,
    "start_time": "2022-01-17T20:02:54.350Z"
   },
   {
    "duration": 8,
    "start_time": "2022-01-17T20:02:54.379Z"
   },
   {
    "duration": 4,
    "start_time": "2022-01-17T20:02:54.388Z"
   },
   {
    "duration": 12,
    "start_time": "2022-01-17T20:02:54.394Z"
   },
   {
    "duration": 12,
    "start_time": "2022-01-17T20:02:54.408Z"
   },
   {
    "duration": 6,
    "start_time": "2022-01-17T20:02:54.422Z"
   },
   {
    "duration": 46,
    "start_time": "2022-01-17T20:02:54.430Z"
   },
   {
    "duration": 10,
    "start_time": "2022-01-17T20:02:54.478Z"
   },
   {
    "duration": 18,
    "start_time": "2022-01-17T20:02:54.490Z"
   },
   {
    "duration": 7,
    "start_time": "2022-01-17T20:02:54.509Z"
   },
   {
    "duration": 16,
    "start_time": "2022-01-17T20:02:54.518Z"
   },
   {
    "duration": 7,
    "start_time": "2022-01-17T20:02:54.536Z"
   },
   {
    "duration": 37,
    "start_time": "2022-01-17T20:02:54.544Z"
   },
   {
    "duration": 7,
    "start_time": "2022-01-17T20:02:54.582Z"
   },
   {
    "duration": 26,
    "start_time": "2022-01-17T20:02:54.591Z"
   },
   {
    "duration": 6,
    "start_time": "2022-01-17T20:02:54.619Z"
   },
   {
    "duration": 7,
    "start_time": "2022-01-17T20:02:54.627Z"
   },
   {
    "duration": 48,
    "start_time": "2022-01-17T20:02:54.636Z"
   },
   {
    "duration": 5,
    "start_time": "2022-01-17T20:02:54.686Z"
   },
   {
    "duration": 8,
    "start_time": "2022-01-17T20:02:54.692Z"
   },
   {
    "duration": 12,
    "start_time": "2022-01-17T20:02:54.702Z"
   },
   {
    "duration": 14,
    "start_time": "2022-01-17T20:02:54.716Z"
   },
   {
    "duration": 20,
    "start_time": "2022-01-17T20:02:54.732Z"
   },
   {
    "duration": 24,
    "start_time": "2022-01-17T20:02:54.754Z"
   },
   {
    "duration": 10,
    "start_time": "2022-01-17T20:02:54.780Z"
   },
   {
    "duration": 18,
    "start_time": "2022-01-17T20:02:54.792Z"
   },
   {
    "duration": 8,
    "start_time": "2022-01-17T20:02:54.811Z"
   },
   {
    "duration": 10,
    "start_time": "2022-01-17T20:02:54.821Z"
   },
   {
    "duration": 49,
    "start_time": "2022-01-17T20:02:54.833Z"
   },
   {
    "duration": 8,
    "start_time": "2022-01-17T20:02:54.884Z"
   },
   {
    "duration": 13,
    "start_time": "2022-01-17T20:03:41.643Z"
   },
   {
    "duration": 13,
    "start_time": "2022-01-17T20:03:54.347Z"
   },
   {
    "duration": 20,
    "start_time": "2022-01-17T20:04:07.060Z"
   },
   {
    "duration": 15,
    "start_time": "2022-01-17T20:04:12.482Z"
   },
   {
    "duration": 3,
    "start_time": "2022-01-17T20:04:21.483Z"
   },
   {
    "duration": 50,
    "start_time": "2022-01-17T20:04:21.488Z"
   },
   {
    "duration": 13,
    "start_time": "2022-01-17T20:04:21.540Z"
   },
   {
    "duration": 21,
    "start_time": "2022-01-17T20:04:21.555Z"
   },
   {
    "duration": 9,
    "start_time": "2022-01-17T20:04:21.577Z"
   },
   {
    "duration": 4,
    "start_time": "2022-01-17T20:04:21.589Z"
   },
   {
    "duration": 5,
    "start_time": "2022-01-17T20:04:21.596Z"
   },
   {
    "duration": 4,
    "start_time": "2022-01-17T20:04:21.603Z"
   },
   {
    "duration": 4,
    "start_time": "2022-01-17T20:04:21.608Z"
   },
   {
    "duration": 59,
    "start_time": "2022-01-17T20:04:21.614Z"
   },
   {
    "duration": 38,
    "start_time": "2022-01-17T20:04:21.675Z"
   },
   {
    "duration": 4,
    "start_time": "2022-01-17T20:04:21.715Z"
   },
   {
    "duration": 5,
    "start_time": "2022-01-17T20:04:21.721Z"
   },
   {
    "duration": 44,
    "start_time": "2022-01-17T20:04:21.728Z"
   },
   {
    "duration": 15,
    "start_time": "2022-01-17T20:04:21.774Z"
   },
   {
    "duration": 17,
    "start_time": "2022-01-17T20:04:21.791Z"
   },
   {
    "duration": 15,
    "start_time": "2022-01-17T20:04:21.810Z"
   },
   {
    "duration": 11,
    "start_time": "2022-01-17T20:04:21.826Z"
   },
   {
    "duration": 45,
    "start_time": "2022-01-17T20:04:21.841Z"
   },
   {
    "duration": 17,
    "start_time": "2022-01-17T20:04:21.889Z"
   },
   {
    "duration": 15,
    "start_time": "2022-01-17T20:04:21.907Z"
   },
   {
    "duration": 9,
    "start_time": "2022-01-17T20:04:21.923Z"
   },
   {
    "duration": 46,
    "start_time": "2022-01-17T20:04:21.934Z"
   },
   {
    "duration": 9,
    "start_time": "2022-01-17T20:04:21.981Z"
   },
   {
    "duration": 3489,
    "start_time": "2022-01-17T20:04:21.991Z"
   },
   {
    "duration": 4,
    "start_time": "2022-01-17T20:04:25.482Z"
   },
   {
    "duration": 22,
    "start_time": "2022-01-17T20:04:25.488Z"
   },
   {
    "duration": 6,
    "start_time": "2022-01-17T20:04:25.511Z"
   },
   {
    "duration": 9,
    "start_time": "2022-01-17T20:04:25.519Z"
   },
   {
    "duration": 4,
    "start_time": "2022-01-17T20:04:25.529Z"
   },
   {
    "duration": 46,
    "start_time": "2022-01-17T20:04:25.535Z"
   },
   {
    "duration": 18,
    "start_time": "2022-01-17T20:04:25.583Z"
   },
   {
    "duration": 8,
    "start_time": "2022-01-17T20:04:25.603Z"
   },
   {
    "duration": 17,
    "start_time": "2022-01-17T20:04:25.613Z"
   },
   {
    "duration": 11,
    "start_time": "2022-01-17T20:04:25.631Z"
   },
   {
    "duration": 51,
    "start_time": "2022-01-17T20:04:25.644Z"
   },
   {
    "duration": 11,
    "start_time": "2022-01-17T20:04:25.697Z"
   },
   {
    "duration": 17,
    "start_time": "2022-01-17T20:04:25.710Z"
   },
   {
    "duration": 6,
    "start_time": "2022-01-17T20:04:25.729Z"
   },
   {
    "duration": 41,
    "start_time": "2022-01-17T20:04:25.737Z"
   },
   {
    "duration": 8,
    "start_time": "2022-01-17T20:04:25.779Z"
   },
   {
    "duration": 23,
    "start_time": "2022-01-17T20:04:25.788Z"
   },
   {
    "duration": 5,
    "start_time": "2022-01-17T20:04:25.812Z"
   },
   {
    "duration": 7,
    "start_time": "2022-01-17T20:04:25.818Z"
   },
   {
    "duration": 47,
    "start_time": "2022-01-17T20:04:25.827Z"
   },
   {
    "duration": 5,
    "start_time": "2022-01-17T20:04:25.875Z"
   },
   {
    "duration": 9,
    "start_time": "2022-01-17T20:04:25.881Z"
   },
   {
    "duration": 10,
    "start_time": "2022-01-17T20:04:25.891Z"
   },
   {
    "duration": 11,
    "start_time": "2022-01-17T20:04:25.903Z"
   },
   {
    "duration": 21,
    "start_time": "2022-01-17T20:04:25.915Z"
   },
   {
    "duration": 8,
    "start_time": "2022-01-17T20:04:25.937Z"
   },
   {
    "duration": 12,
    "start_time": "2022-01-17T20:04:25.971Z"
   },
   {
    "duration": 25,
    "start_time": "2022-01-17T20:04:25.984Z"
   },
   {
    "duration": 7,
    "start_time": "2022-01-17T20:04:26.010Z"
   },
   {
    "duration": 8,
    "start_time": "2022-01-17T20:04:26.022Z"
   },
   {
    "duration": 51,
    "start_time": "2022-01-17T20:04:26.032Z"
   },
   {
    "duration": 8,
    "start_time": "2022-01-17T20:04:26.085Z"
   },
   {
    "duration": 20,
    "start_time": "2022-01-17T20:05:06.308Z"
   },
   {
    "duration": 14,
    "start_time": "2022-01-17T20:05:14.644Z"
   },
   {
    "duration": 3,
    "start_time": "2022-01-17T20:05:18.427Z"
   },
   {
    "duration": 47,
    "start_time": "2022-01-17T20:05:18.433Z"
   },
   {
    "duration": 12,
    "start_time": "2022-01-17T20:05:18.481Z"
   },
   {
    "duration": 10,
    "start_time": "2022-01-17T20:05:18.495Z"
   },
   {
    "duration": 11,
    "start_time": "2022-01-17T20:05:18.507Z"
   },
   {
    "duration": 6,
    "start_time": "2022-01-17T20:05:18.520Z"
   },
   {
    "duration": 45,
    "start_time": "2022-01-17T20:05:18.527Z"
   },
   {
    "duration": 5,
    "start_time": "2022-01-17T20:05:18.574Z"
   },
   {
    "duration": 5,
    "start_time": "2022-01-17T20:05:18.581Z"
   },
   {
    "duration": 20,
    "start_time": "2022-01-17T20:05:18.589Z"
   },
   {
    "duration": 73,
    "start_time": "2022-01-17T20:05:18.612Z"
   },
   {
    "duration": 5,
    "start_time": "2022-01-17T20:05:18.687Z"
   },
   {
    "duration": 6,
    "start_time": "2022-01-17T20:05:18.694Z"
   },
   {
    "duration": 16,
    "start_time": "2022-01-17T20:05:18.702Z"
   },
   {
    "duration": 19,
    "start_time": "2022-01-17T20:05:18.720Z"
   },
   {
    "duration": 53,
    "start_time": "2022-01-17T20:05:18.741Z"
   },
   {
    "duration": 20,
    "start_time": "2022-01-17T20:05:18.796Z"
   },
   {
    "duration": 17,
    "start_time": "2022-01-17T20:05:18.818Z"
   },
   {
    "duration": 46,
    "start_time": "2022-01-17T20:05:18.836Z"
   },
   {
    "duration": 22,
    "start_time": "2022-01-17T20:05:18.884Z"
   },
   {
    "duration": 20,
    "start_time": "2022-01-17T20:05:18.908Z"
   },
   {
    "duration": 10,
    "start_time": "2022-01-17T20:05:18.930Z"
   },
   {
    "duration": 35,
    "start_time": "2022-01-17T20:05:18.942Z"
   },
   {
    "duration": 9,
    "start_time": "2022-01-17T20:05:18.979Z"
   },
   {
    "duration": 3528,
    "start_time": "2022-01-17T20:05:18.990Z"
   },
   {
    "duration": 3,
    "start_time": "2022-01-17T20:05:22.520Z"
   },
   {
    "duration": 49,
    "start_time": "2022-01-17T20:05:22.525Z"
   },
   {
    "duration": 13,
    "start_time": "2022-01-17T20:05:22.579Z"
   },
   {
    "duration": 16,
    "start_time": "2022-01-17T20:05:22.595Z"
   },
   {
    "duration": 5,
    "start_time": "2022-01-17T20:05:22.613Z"
   },
   {
    "duration": 19,
    "start_time": "2022-01-17T20:05:22.620Z"
   },
   {
    "duration": 44,
    "start_time": "2022-01-17T20:05:22.640Z"
   },
   {
    "duration": 11,
    "start_time": "2022-01-17T20:05:22.686Z"
   },
   {
    "duration": 17,
    "start_time": "2022-01-17T20:05:22.699Z"
   },
   {
    "duration": 11,
    "start_time": "2022-01-17T20:05:22.718Z"
   },
   {
    "duration": 53,
    "start_time": "2022-01-17T20:05:22.730Z"
   },
   {
    "duration": 9,
    "start_time": "2022-01-17T20:05:22.785Z"
   },
   {
    "duration": 13,
    "start_time": "2022-01-17T20:05:22.795Z"
   },
   {
    "duration": 6,
    "start_time": "2022-01-17T20:05:22.810Z"
   },
   {
    "duration": 11,
    "start_time": "2022-01-17T20:05:22.817Z"
   },
   {
    "duration": 43,
    "start_time": "2022-01-17T20:05:22.830Z"
   },
   {
    "duration": 24,
    "start_time": "2022-01-17T20:05:22.874Z"
   },
   {
    "duration": 4,
    "start_time": "2022-01-17T20:05:22.900Z"
   },
   {
    "duration": 7,
    "start_time": "2022-01-17T20:05:22.906Z"
   },
   {
    "duration": 20,
    "start_time": "2022-01-17T20:05:22.914Z"
   },
   {
    "duration": 4,
    "start_time": "2022-01-17T20:05:22.936Z"
   },
   {
    "duration": 35,
    "start_time": "2022-01-17T20:05:22.941Z"
   },
   {
    "duration": 14,
    "start_time": "2022-01-17T20:05:22.978Z"
   },
   {
    "duration": 9,
    "start_time": "2022-01-17T20:05:22.994Z"
   },
   {
    "duration": 25,
    "start_time": "2022-01-17T20:05:23.004Z"
   },
   {
    "duration": 9,
    "start_time": "2022-01-17T20:05:23.031Z"
   },
   {
    "duration": 39,
    "start_time": "2022-01-17T20:05:23.042Z"
   },
   {
    "duration": 23,
    "start_time": "2022-01-17T20:05:23.083Z"
   },
   {
    "duration": 9,
    "start_time": "2022-01-17T20:05:23.108Z"
   },
   {
    "duration": 11,
    "start_time": "2022-01-17T20:05:23.119Z"
   },
   {
    "duration": 49,
    "start_time": "2022-01-17T20:05:23.132Z"
   },
   {
    "duration": 12,
    "start_time": "2022-01-17T20:05:23.183Z"
   },
   {
    "duration": 17,
    "start_time": "2022-01-17T20:06:01.889Z"
   },
   {
    "duration": 3,
    "start_time": "2022-01-17T20:06:40.846Z"
   },
   {
    "duration": 47,
    "start_time": "2022-01-17T20:06:40.851Z"
   },
   {
    "duration": 11,
    "start_time": "2022-01-17T20:06:40.901Z"
   },
   {
    "duration": 11,
    "start_time": "2022-01-17T20:06:40.914Z"
   },
   {
    "duration": 9,
    "start_time": "2022-01-17T20:06:40.927Z"
   },
   {
    "duration": 5,
    "start_time": "2022-01-17T20:06:40.937Z"
   },
   {
    "duration": 5,
    "start_time": "2022-01-17T20:06:40.971Z"
   },
   {
    "duration": 5,
    "start_time": "2022-01-17T20:06:40.977Z"
   },
   {
    "duration": 4,
    "start_time": "2022-01-17T20:06:40.985Z"
   },
   {
    "duration": 22,
    "start_time": "2022-01-17T20:06:40.991Z"
   },
   {
    "duration": 83,
    "start_time": "2022-01-17T20:06:41.015Z"
   },
   {
    "duration": 5,
    "start_time": "2022-01-17T20:06:41.100Z"
   },
   {
    "duration": 7,
    "start_time": "2022-01-17T20:06:41.106Z"
   },
   {
    "duration": 13,
    "start_time": "2022-01-17T20:06:41.115Z"
   },
   {
    "duration": 14,
    "start_time": "2022-01-17T20:06:41.129Z"
   },
   {
    "duration": 40,
    "start_time": "2022-01-17T20:06:41.145Z"
   },
   {
    "duration": 14,
    "start_time": "2022-01-17T20:06:41.186Z"
   },
   {
    "duration": 10,
    "start_time": "2022-01-17T20:06:41.202Z"
   },
   {
    "duration": 18,
    "start_time": "2022-01-17T20:06:41.214Z"
   },
   {
    "duration": 38,
    "start_time": "2022-01-17T20:06:41.233Z"
   },
   {
    "duration": 14,
    "start_time": "2022-01-17T20:06:41.273Z"
   },
   {
    "duration": 9,
    "start_time": "2022-01-17T20:06:41.288Z"
   },
   {
    "duration": 16,
    "start_time": "2022-01-17T20:06:41.298Z"
   },
   {
    "duration": 7,
    "start_time": "2022-01-17T20:06:41.316Z"
   },
   {
    "duration": 3957,
    "start_time": "2022-01-17T20:06:41.324Z"
   },
   {
    "duration": 3,
    "start_time": "2022-01-17T20:06:45.284Z"
   },
   {
    "duration": 26,
    "start_time": "2022-01-17T20:06:45.289Z"
   },
   {
    "duration": 7,
    "start_time": "2022-01-17T20:06:45.316Z"
   },
   {
    "duration": 11,
    "start_time": "2022-01-17T20:06:45.324Z"
   },
   {
    "duration": 5,
    "start_time": "2022-01-17T20:06:45.337Z"
   },
   {
    "duration": 14,
    "start_time": "2022-01-17T20:06:45.372Z"
   },
   {
    "duration": 19,
    "start_time": "2022-01-17T20:06:45.388Z"
   },
   {
    "duration": 10,
    "start_time": "2022-01-17T20:06:45.409Z"
   },
   {
    "duration": 17,
    "start_time": "2022-01-17T20:06:45.420Z"
   },
   {
    "duration": 34,
    "start_time": "2022-01-17T20:06:45.439Z"
   },
   {
    "duration": 19,
    "start_time": "2022-01-17T20:06:45.475Z"
   },
   {
    "duration": 8,
    "start_time": "2022-01-17T20:06:45.496Z"
   },
   {
    "duration": 18,
    "start_time": "2022-01-17T20:06:45.506Z"
   },
   {
    "duration": 6,
    "start_time": "2022-01-17T20:06:45.526Z"
   },
   {
    "duration": 38,
    "start_time": "2022-01-17T20:06:45.534Z"
   },
   {
    "duration": 8,
    "start_time": "2022-01-17T20:06:45.574Z"
   },
   {
    "duration": 28,
    "start_time": "2022-01-17T20:06:45.584Z"
   },
   {
    "duration": 4,
    "start_time": "2022-01-17T20:06:45.614Z"
   },
   {
    "duration": 8,
    "start_time": "2022-01-17T20:06:45.620Z"
   },
   {
    "duration": 60,
    "start_time": "2022-01-17T20:06:45.629Z"
   },
   {
    "duration": 4,
    "start_time": "2022-01-17T20:06:45.691Z"
   },
   {
    "duration": 8,
    "start_time": "2022-01-17T20:06:45.697Z"
   },
   {
    "duration": 15,
    "start_time": "2022-01-17T20:06:45.707Z"
   },
   {
    "duration": 9,
    "start_time": "2022-01-17T20:06:45.724Z"
   },
   {
    "duration": 46,
    "start_time": "2022-01-17T20:06:45.735Z"
   },
   {
    "duration": 9,
    "start_time": "2022-01-17T20:06:45.783Z"
   },
   {
    "duration": 14,
    "start_time": "2022-01-17T20:06:45.794Z"
   },
   {
    "duration": 17,
    "start_time": "2022-01-17T20:06:45.809Z"
   },
   {
    "duration": 8,
    "start_time": "2022-01-17T20:06:45.828Z"
   },
   {
    "duration": 37,
    "start_time": "2022-01-17T20:06:45.837Z"
   },
   {
    "duration": 17,
    "start_time": "2022-01-17T20:06:45.876Z"
   },
   {
    "duration": 8,
    "start_time": "2022-01-17T20:06:45.895Z"
   },
   {
    "duration": 14,
    "start_time": "2022-01-17T20:22:24.625Z"
   },
   {
    "duration": 5,
    "start_time": "2022-01-17T20:22:26.635Z"
   },
   {
    "duration": 47,
    "start_time": "2022-01-17T20:22:26.644Z"
   },
   {
    "duration": 11,
    "start_time": "2022-01-17T20:22:26.693Z"
   },
   {
    "duration": 10,
    "start_time": "2022-01-17T20:22:26.706Z"
   },
   {
    "duration": 8,
    "start_time": "2022-01-17T20:22:26.717Z"
   },
   {
    "duration": 9,
    "start_time": "2022-01-17T20:22:26.727Z"
   },
   {
    "duration": 33,
    "start_time": "2022-01-17T20:22:26.738Z"
   },
   {
    "duration": 5,
    "start_time": "2022-01-17T20:22:26.773Z"
   },
   {
    "duration": 5,
    "start_time": "2022-01-17T20:22:26.779Z"
   },
   {
    "duration": 28,
    "start_time": "2022-01-17T20:22:26.787Z"
   },
   {
    "duration": 91,
    "start_time": "2022-01-17T20:22:26.817Z"
   },
   {
    "duration": 5,
    "start_time": "2022-01-17T20:22:26.910Z"
   },
   {
    "duration": 5,
    "start_time": "2022-01-17T20:22:26.917Z"
   },
   {
    "duration": 16,
    "start_time": "2022-01-17T20:22:26.924Z"
   },
   {
    "duration": 44,
    "start_time": "2022-01-17T20:22:26.941Z"
   },
   {
    "duration": 18,
    "start_time": "2022-01-17T20:22:26.986Z"
   },
   {
    "duration": 15,
    "start_time": "2022-01-17T20:22:27.006Z"
   },
   {
    "duration": 10,
    "start_time": "2022-01-17T20:22:27.022Z"
   },
   {
    "duration": 47,
    "start_time": "2022-01-17T20:22:27.034Z"
   },
   {
    "duration": 16,
    "start_time": "2022-01-17T20:22:27.082Z"
   },
   {
    "duration": 18,
    "start_time": "2022-01-17T20:22:27.100Z"
   },
   {
    "duration": 12,
    "start_time": "2022-01-17T20:22:27.120Z"
   },
   {
    "duration": 49,
    "start_time": "2022-01-17T20:22:27.134Z"
   },
   {
    "duration": 9,
    "start_time": "2022-01-17T20:22:27.185Z"
   },
   {
    "duration": 3801,
    "start_time": "2022-01-17T20:22:27.196Z"
   },
   {
    "duration": 4,
    "start_time": "2022-01-17T20:22:30.999Z"
   },
   {
    "duration": 45,
    "start_time": "2022-01-17T20:22:31.005Z"
   },
   {
    "duration": 18,
    "start_time": "2022-01-17T20:22:31.055Z"
   },
   {
    "duration": 13,
    "start_time": "2022-01-17T20:22:31.075Z"
   },
   {
    "duration": 4,
    "start_time": "2022-01-17T20:22:31.090Z"
   },
   {
    "duration": 17,
    "start_time": "2022-01-17T20:22:31.096Z"
   },
   {
    "duration": 20,
    "start_time": "2022-01-17T20:22:31.115Z"
   },
   {
    "duration": 35,
    "start_time": "2022-01-17T20:22:31.137Z"
   },
   {
    "duration": 18,
    "start_time": "2022-01-17T20:22:31.175Z"
   },
   {
    "duration": 18,
    "start_time": "2022-01-17T20:22:31.195Z"
   },
   {
    "duration": 35,
    "start_time": "2022-01-17T20:22:31.215Z"
   },
   {
    "duration": 10,
    "start_time": "2022-01-17T20:22:31.252Z"
   },
   {
    "duration": 16,
    "start_time": "2022-01-17T20:22:31.272Z"
   },
   {
    "duration": 7,
    "start_time": "2022-01-17T20:22:31.290Z"
   },
   {
    "duration": 12,
    "start_time": "2022-01-17T20:22:31.299Z"
   },
   {
    "duration": 9,
    "start_time": "2022-01-17T20:22:31.313Z"
   },
   {
    "duration": 74,
    "start_time": "2022-01-17T20:22:31.324Z"
   },
   {
    "duration": 7,
    "start_time": "2022-01-17T20:22:31.400Z"
   },
   {
    "duration": 31,
    "start_time": "2022-01-17T20:22:31.408Z"
   },
   {
    "duration": 35,
    "start_time": "2022-01-17T20:22:31.440Z"
   },
   {
    "duration": 4,
    "start_time": "2022-01-17T20:22:31.477Z"
   },
   {
    "duration": 10,
    "start_time": "2022-01-17T20:22:31.483Z"
   },
   {
    "duration": 17,
    "start_time": "2022-01-17T20:22:31.495Z"
   },
   {
    "duration": 10,
    "start_time": "2022-01-17T20:22:31.515Z"
   },
   {
    "duration": 19,
    "start_time": "2022-01-17T20:22:31.527Z"
   },
   {
    "duration": 30,
    "start_time": "2022-01-17T20:22:31.547Z"
   },
   {
    "duration": 16,
    "start_time": "2022-01-17T20:22:31.579Z"
   },
   {
    "duration": 26,
    "start_time": "2022-01-17T20:22:31.597Z"
   },
   {
    "duration": 10,
    "start_time": "2022-01-17T20:22:31.625Z"
   },
   {
    "duration": 36,
    "start_time": "2022-01-17T20:22:31.637Z"
   },
   {
    "duration": 15,
    "start_time": "2022-01-17T20:22:31.674Z"
   },
   {
    "duration": 8,
    "start_time": "2022-01-17T20:22:31.691Z"
   },
   {
    "duration": 3,
    "start_time": "2022-01-17T20:22:53.683Z"
   },
   {
    "duration": 50,
    "start_time": "2022-01-17T20:22:53.688Z"
   },
   {
    "duration": 12,
    "start_time": "2022-01-17T20:22:53.740Z"
   },
   {
    "duration": 18,
    "start_time": "2022-01-17T20:22:53.754Z"
   },
   {
    "duration": 8,
    "start_time": "2022-01-17T20:22:53.774Z"
   },
   {
    "duration": 5,
    "start_time": "2022-01-17T20:22:53.784Z"
   },
   {
    "duration": 6,
    "start_time": "2022-01-17T20:22:53.791Z"
   },
   {
    "duration": 5,
    "start_time": "2022-01-17T20:22:53.800Z"
   },
   {
    "duration": 10,
    "start_time": "2022-01-17T20:22:53.806Z"
   },
   {
    "duration": 57,
    "start_time": "2022-01-17T20:22:53.818Z"
   },
   {
    "duration": 39,
    "start_time": "2022-01-17T20:22:53.877Z"
   },
   {
    "duration": 4,
    "start_time": "2022-01-17T20:22:53.918Z"
   },
   {
    "duration": 7,
    "start_time": "2022-01-17T20:22:53.924Z"
   },
   {
    "duration": 12,
    "start_time": "2022-01-17T20:22:53.933Z"
   },
   {
    "duration": 38,
    "start_time": "2022-01-17T20:22:53.946Z"
   },
   {
    "duration": 15,
    "start_time": "2022-01-17T20:22:53.985Z"
   },
   {
    "duration": 14,
    "start_time": "2022-01-17T20:22:54.002Z"
   },
   {
    "duration": 10,
    "start_time": "2022-01-17T20:22:54.018Z"
   },
   {
    "duration": 42,
    "start_time": "2022-01-17T20:22:54.030Z"
   },
   {
    "duration": 16,
    "start_time": "2022-01-17T20:22:54.074Z"
   },
   {
    "duration": 15,
    "start_time": "2022-01-17T20:22:54.092Z"
   },
   {
    "duration": 8,
    "start_time": "2022-01-17T20:22:54.109Z"
   },
   {
    "duration": 22,
    "start_time": "2022-01-17T20:22:54.120Z"
   },
   {
    "duration": 28,
    "start_time": "2022-01-17T20:22:54.144Z"
   },
   {
    "duration": 3612,
    "start_time": "2022-01-17T20:22:54.174Z"
   },
   {
    "duration": 2,
    "start_time": "2022-01-17T20:22:57.788Z"
   },
   {
    "duration": 34,
    "start_time": "2022-01-17T20:22:57.792Z"
   },
   {
    "duration": 6,
    "start_time": "2022-01-17T20:22:57.828Z"
   },
   {
    "duration": 14,
    "start_time": "2022-01-17T20:22:57.836Z"
   },
   {
    "duration": 11,
    "start_time": "2022-01-17T20:22:57.851Z"
   },
   {
    "duration": 19,
    "start_time": "2022-01-17T20:22:57.863Z"
   },
   {
    "duration": 17,
    "start_time": "2022-01-17T20:22:57.883Z"
   },
   {
    "duration": 13,
    "start_time": "2022-01-17T20:22:57.902Z"
   },
   {
    "duration": 14,
    "start_time": "2022-01-17T20:22:57.917Z"
   },
   {
    "duration": 26,
    "start_time": "2022-01-17T20:22:57.932Z"
   },
   {
    "duration": 30,
    "start_time": "2022-01-17T20:22:57.959Z"
   },
   {
    "duration": 9,
    "start_time": "2022-01-17T20:22:57.992Z"
   },
   {
    "duration": 17,
    "start_time": "2022-01-17T20:22:58.003Z"
   },
   {
    "duration": 6,
    "start_time": "2022-01-17T20:22:58.022Z"
   },
   {
    "duration": 12,
    "start_time": "2022-01-17T20:22:58.030Z"
   },
   {
    "duration": 28,
    "start_time": "2022-01-17T20:22:58.044Z"
   },
   {
    "duration": 24,
    "start_time": "2022-01-17T20:22:58.074Z"
   },
   {
    "duration": 5,
    "start_time": "2022-01-17T20:22:58.100Z"
   },
   {
    "duration": 10,
    "start_time": "2022-01-17T20:22:58.106Z"
   },
   {
    "duration": 19,
    "start_time": "2022-01-17T20:22:58.118Z"
   },
   {
    "duration": 34,
    "start_time": "2022-01-17T20:22:58.138Z"
   },
   {
    "duration": 8,
    "start_time": "2022-01-17T20:22:58.174Z"
   },
   {
    "duration": 12,
    "start_time": "2022-01-17T20:22:58.183Z"
   },
   {
    "duration": 13,
    "start_time": "2022-01-17T20:22:58.196Z"
   },
   {
    "duration": 19,
    "start_time": "2022-01-17T20:22:58.211Z"
   },
   {
    "duration": 7,
    "start_time": "2022-01-17T20:22:58.231Z"
   },
   {
    "duration": 39,
    "start_time": "2022-01-17T20:22:58.240Z"
   },
   {
    "duration": 16,
    "start_time": "2022-01-17T20:22:58.281Z"
   },
   {
    "duration": 8,
    "start_time": "2022-01-17T20:22:58.298Z"
   },
   {
    "duration": 11,
    "start_time": "2022-01-17T20:22:58.308Z"
   },
   {
    "duration": 18,
    "start_time": "2022-01-17T20:22:58.321Z"
   },
   {
    "duration": 32,
    "start_time": "2022-01-17T20:22:58.341Z"
   },
   {
    "duration": 3,
    "start_time": "2022-01-17T20:24:32.095Z"
   },
   {
    "duration": 51,
    "start_time": "2022-01-17T20:24:32.100Z"
   },
   {
    "duration": 14,
    "start_time": "2022-01-17T20:24:32.153Z"
   },
   {
    "duration": 10,
    "start_time": "2022-01-17T20:24:32.169Z"
   },
   {
    "duration": 13,
    "start_time": "2022-01-17T20:24:32.181Z"
   },
   {
    "duration": 5,
    "start_time": "2022-01-17T20:24:32.196Z"
   },
   {
    "duration": 5,
    "start_time": "2022-01-17T20:24:32.203Z"
   },
   {
    "duration": 5,
    "start_time": "2022-01-17T20:24:32.210Z"
   },
   {
    "duration": 5,
    "start_time": "2022-01-17T20:24:32.218Z"
   },
   {
    "duration": 55,
    "start_time": "2022-01-17T20:24:32.225Z"
   },
   {
    "duration": 35,
    "start_time": "2022-01-17T20:24:32.282Z"
   },
   {
    "duration": 4,
    "start_time": "2022-01-17T20:24:32.318Z"
   },
   {
    "duration": 5,
    "start_time": "2022-01-17T20:24:32.323Z"
   },
   {
    "duration": 11,
    "start_time": "2022-01-17T20:24:32.329Z"
   },
   {
    "duration": 41,
    "start_time": "2022-01-17T20:24:32.341Z"
   },
   {
    "duration": 14,
    "start_time": "2022-01-17T20:24:32.384Z"
   },
   {
    "duration": 13,
    "start_time": "2022-01-17T20:24:32.399Z"
   },
   {
    "duration": 10,
    "start_time": "2022-01-17T20:24:32.413Z"
   },
   {
    "duration": 20,
    "start_time": "2022-01-17T20:24:32.424Z"
   },
   {
    "duration": 39,
    "start_time": "2022-01-17T20:24:32.445Z"
   },
   {
    "duration": 13,
    "start_time": "2022-01-17T20:24:32.485Z"
   },
   {
    "duration": 8,
    "start_time": "2022-01-17T20:24:32.499Z"
   },
   {
    "duration": 17,
    "start_time": "2022-01-17T20:24:32.508Z"
   },
   {
    "duration": 7,
    "start_time": "2022-01-17T20:24:32.527Z"
   },
   {
    "duration": 3196,
    "start_time": "2022-01-17T20:24:32.535Z"
   },
   {
    "duration": 3,
    "start_time": "2022-01-17T20:24:35.733Z"
   },
   {
    "duration": 35,
    "start_time": "2022-01-17T20:24:35.739Z"
   },
   {
    "duration": 6,
    "start_time": "2022-01-17T20:24:35.776Z"
   },
   {
    "duration": 12,
    "start_time": "2022-01-17T20:24:35.784Z"
   },
   {
    "duration": 4,
    "start_time": "2022-01-17T20:24:35.797Z"
   },
   {
    "duration": 11,
    "start_time": "2022-01-17T20:24:35.803Z"
   },
   {
    "duration": 13,
    "start_time": "2022-01-17T20:24:35.816Z"
   },
   {
    "duration": 7,
    "start_time": "2022-01-17T20:24:35.831Z"
   },
   {
    "duration": 40,
    "start_time": "2022-01-17T20:24:35.840Z"
   },
   {
    "duration": 8,
    "start_time": "2022-01-17T20:24:35.881Z"
   },
   {
    "duration": 20,
    "start_time": "2022-01-17T20:24:35.890Z"
   },
   {
    "duration": 7,
    "start_time": "2022-01-17T20:24:35.911Z"
   },
   {
    "duration": 18,
    "start_time": "2022-01-17T20:24:35.920Z"
   },
   {
    "duration": 6,
    "start_time": "2022-01-17T20:24:35.940Z"
   },
   {
    "duration": 11,
    "start_time": "2022-01-17T20:24:35.972Z"
   },
   {
    "duration": 8,
    "start_time": "2022-01-17T20:24:35.984Z"
   },
   {
    "duration": 27,
    "start_time": "2022-01-17T20:24:35.994Z"
   },
   {
    "duration": 5,
    "start_time": "2022-01-17T20:24:36.023Z"
   },
   {
    "duration": 10,
    "start_time": "2022-01-17T20:24:36.029Z"
   },
   {
    "duration": 44,
    "start_time": "2022-01-17T20:24:36.041Z"
   },
   {
    "duration": 4,
    "start_time": "2022-01-17T20:24:36.086Z"
   },
   {
    "duration": 9,
    "start_time": "2022-01-17T20:24:36.091Z"
   },
   {
    "duration": 16,
    "start_time": "2022-01-17T20:24:36.102Z"
   },
   {
    "duration": 10,
    "start_time": "2022-01-17T20:24:36.119Z"
   },
   {
    "duration": 20,
    "start_time": "2022-01-17T20:24:36.131Z"
   },
   {
    "duration": 24,
    "start_time": "2022-01-17T20:24:36.153Z"
   },
   {
    "duration": 12,
    "start_time": "2022-01-17T20:24:36.178Z"
   },
   {
    "duration": 19,
    "start_time": "2022-01-17T20:24:36.192Z"
   },
   {
    "duration": 7,
    "start_time": "2022-01-17T20:24:36.213Z"
   },
   {
    "duration": 14,
    "start_time": "2022-01-17T20:24:36.222Z"
   },
   {
    "duration": 35,
    "start_time": "2022-01-17T20:24:36.237Z"
   },
   {
    "duration": 8,
    "start_time": "2022-01-17T20:24:36.273Z"
   },
   {
    "duration": 6,
    "start_time": "2022-01-17T20:37:37.391Z"
   },
   {
    "duration": 7,
    "start_time": "2022-01-17T20:37:45.417Z"
   },
   {
    "duration": 9,
    "start_time": "2022-01-17T20:39:48.679Z"
   },
   {
    "duration": 2,
    "start_time": "2022-01-17T20:40:13.497Z"
   },
   {
    "duration": 56,
    "start_time": "2022-01-17T20:40:13.501Z"
   },
   {
    "duration": 12,
    "start_time": "2022-01-17T20:40:13.559Z"
   },
   {
    "duration": 11,
    "start_time": "2022-01-17T20:40:13.573Z"
   },
   {
    "duration": 9,
    "start_time": "2022-01-17T20:40:13.585Z"
   },
   {
    "duration": 4,
    "start_time": "2022-01-17T20:40:13.596Z"
   },
   {
    "duration": 5,
    "start_time": "2022-01-17T20:40:13.603Z"
   },
   {
    "duration": 5,
    "start_time": "2022-01-17T20:40:13.609Z"
   },
   {
    "duration": 5,
    "start_time": "2022-01-17T20:40:13.615Z"
   },
   {
    "duration": 59,
    "start_time": "2022-01-17T20:40:13.622Z"
   },
   {
    "duration": 39,
    "start_time": "2022-01-17T20:40:13.682Z"
   },
   {
    "duration": 4,
    "start_time": "2022-01-17T20:40:13.723Z"
   },
   {
    "duration": 5,
    "start_time": "2022-01-17T20:40:13.728Z"
   },
   {
    "duration": 38,
    "start_time": "2022-01-17T20:40:13.735Z"
   },
   {
    "duration": 14,
    "start_time": "2022-01-17T20:40:13.775Z"
   },
   {
    "duration": 16,
    "start_time": "2022-01-17T20:40:13.790Z"
   },
   {
    "duration": 14,
    "start_time": "2022-01-17T20:40:13.808Z"
   },
   {
    "duration": 11,
    "start_time": "2022-01-17T20:40:13.823Z"
   },
   {
    "duration": 46,
    "start_time": "2022-01-17T20:40:13.837Z"
   },
   {
    "duration": 16,
    "start_time": "2022-01-17T20:40:13.886Z"
   },
   {
    "duration": 14,
    "start_time": "2022-01-17T20:40:13.904Z"
   },
   {
    "duration": 9,
    "start_time": "2022-01-17T20:40:13.920Z"
   },
   {
    "duration": 44,
    "start_time": "2022-01-17T20:40:13.931Z"
   },
   {
    "duration": 7,
    "start_time": "2022-01-17T20:40:13.977Z"
   },
   {
    "duration": 3751,
    "start_time": "2022-01-17T20:40:13.986Z"
   },
   {
    "duration": 3,
    "start_time": "2022-01-17T20:40:17.739Z"
   },
   {
    "duration": 36,
    "start_time": "2022-01-17T20:40:17.744Z"
   },
   {
    "duration": 6,
    "start_time": "2022-01-17T20:40:17.782Z"
   },
   {
    "duration": 11,
    "start_time": "2022-01-17T20:40:17.790Z"
   },
   {
    "duration": 4,
    "start_time": "2022-01-17T20:40:17.803Z"
   },
   {
    "duration": 16,
    "start_time": "2022-01-17T20:40:17.809Z"
   },
   {
    "duration": 20,
    "start_time": "2022-01-17T20:40:17.827Z"
   },
   {
    "duration": 7,
    "start_time": "2022-01-17T20:40:17.874Z"
   },
   {
    "duration": 13,
    "start_time": "2022-01-17T20:40:17.882Z"
   },
   {
    "duration": 10,
    "start_time": "2022-01-17T20:40:17.897Z"
   },
   {
    "duration": 25,
    "start_time": "2022-01-17T20:40:17.908Z"
   },
   {
    "duration": 7,
    "start_time": "2022-01-17T20:40:17.934Z"
   },
   {
    "duration": 39,
    "start_time": "2022-01-17T20:40:17.943Z"
   },
   {
    "duration": 5,
    "start_time": "2022-01-17T20:40:17.983Z"
   },
   {
    "duration": 12,
    "start_time": "2022-01-17T20:40:17.990Z"
   },
   {
    "duration": 7,
    "start_time": "2022-01-17T20:40:18.004Z"
   },
   {
    "duration": 24,
    "start_time": "2022-01-17T20:40:18.012Z"
   },
   {
    "duration": 4,
    "start_time": "2022-01-17T20:40:18.038Z"
   },
   {
    "duration": 33,
    "start_time": "2022-01-17T20:40:18.044Z"
   },
   {
    "duration": 23,
    "start_time": "2022-01-17T20:40:18.079Z"
   },
   {
    "duration": 4,
    "start_time": "2022-01-17T20:40:18.103Z"
   },
   {
    "duration": 15,
    "start_time": "2022-01-17T20:40:18.109Z"
   },
   {
    "duration": 15,
    "start_time": "2022-01-17T20:40:18.125Z"
   },
   {
    "duration": 10,
    "start_time": "2022-01-17T20:40:18.142Z"
   },
   {
    "duration": 33,
    "start_time": "2022-01-17T20:40:18.153Z"
   },
   {
    "duration": 8,
    "start_time": "2022-01-17T20:40:18.187Z"
   },
   {
    "duration": 17,
    "start_time": "2022-01-17T20:40:18.197Z"
   },
   {
    "duration": 8,
    "start_time": "2022-01-17T20:40:18.219Z"
   },
   {
    "duration": 27,
    "start_time": "2022-01-17T20:40:18.228Z"
   },
   {
    "duration": 20,
    "start_time": "2022-01-17T20:40:18.257Z"
   },
   {
    "duration": 8,
    "start_time": "2022-01-17T20:40:18.278Z"
   },
   {
    "duration": 11,
    "start_time": "2022-01-17T20:40:18.287Z"
   },
   {
    "duration": 21,
    "start_time": "2022-01-17T20:40:18.299Z"
   },
   {
    "duration": 7,
    "start_time": "2022-01-17T20:40:18.322Z"
   },
   {
    "duration": 9,
    "start_time": "2022-01-17T20:50:06.552Z"
   },
   {
    "duration": 5,
    "start_time": "2022-01-17T21:26:36.533Z"
   },
   {
    "duration": 10,
    "start_time": "2022-01-17T21:28:18.971Z"
   },
   {
    "duration": 3,
    "start_time": "2022-01-17T21:28:23.421Z"
   },
   {
    "duration": 53,
    "start_time": "2022-01-17T21:28:23.425Z"
   },
   {
    "duration": 11,
    "start_time": "2022-01-17T21:28:23.480Z"
   },
   {
    "duration": 25,
    "start_time": "2022-01-17T21:28:23.492Z"
   },
   {
    "duration": 30,
    "start_time": "2022-01-17T21:28:23.519Z"
   },
   {
    "duration": 26,
    "start_time": "2022-01-17T21:28:23.551Z"
   },
   {
    "duration": 24,
    "start_time": "2022-01-17T21:28:23.580Z"
   },
   {
    "duration": 33,
    "start_time": "2022-01-17T21:28:23.606Z"
   },
   {
    "duration": 16,
    "start_time": "2022-01-17T21:28:23.641Z"
   },
   {
    "duration": 36,
    "start_time": "2022-01-17T21:28:23.659Z"
   },
   {
    "duration": 38,
    "start_time": "2022-01-17T21:28:23.697Z"
   },
   {
    "duration": 4,
    "start_time": "2022-01-17T21:28:23.736Z"
   },
   {
    "duration": 21,
    "start_time": "2022-01-17T21:28:23.741Z"
   },
   {
    "duration": 24,
    "start_time": "2022-01-17T21:28:23.763Z"
   },
   {
    "duration": 24,
    "start_time": "2022-01-17T21:28:23.789Z"
   },
   {
    "duration": 15,
    "start_time": "2022-01-17T21:28:23.814Z"
   },
   {
    "duration": 12,
    "start_time": "2022-01-17T21:28:23.831Z"
   },
   {
    "duration": 23,
    "start_time": "2022-01-17T21:28:23.845Z"
   },
   {
    "duration": 30,
    "start_time": "2022-01-17T21:28:23.871Z"
   },
   {
    "duration": 19,
    "start_time": "2022-01-17T21:28:23.903Z"
   },
   {
    "duration": 21,
    "start_time": "2022-01-17T21:28:23.924Z"
   },
   {
    "duration": 11,
    "start_time": "2022-01-17T21:28:23.947Z"
   },
   {
    "duration": 24,
    "start_time": "2022-01-17T21:28:23.959Z"
   },
   {
    "duration": 6,
    "start_time": "2022-01-17T21:28:23.984Z"
   },
   {
    "duration": 3381,
    "start_time": "2022-01-17T21:28:23.992Z"
   },
   {
    "duration": 3,
    "start_time": "2022-01-17T21:28:27.375Z"
   },
   {
    "duration": 45,
    "start_time": "2022-01-17T21:28:27.379Z"
   },
   {
    "duration": 6,
    "start_time": "2022-01-17T21:28:27.426Z"
   },
   {
    "duration": 9,
    "start_time": "2022-01-17T21:28:27.434Z"
   },
   {
    "duration": 23,
    "start_time": "2022-01-17T21:28:27.444Z"
   },
   {
    "duration": 27,
    "start_time": "2022-01-17T21:28:27.468Z"
   },
   {
    "duration": 26,
    "start_time": "2022-01-17T21:28:27.496Z"
   },
   {
    "duration": 29,
    "start_time": "2022-01-17T21:28:27.523Z"
   },
   {
    "duration": 23,
    "start_time": "2022-01-17T21:28:27.554Z"
   },
   {
    "duration": 33,
    "start_time": "2022-01-17T21:28:27.579Z"
   },
   {
    "duration": 31,
    "start_time": "2022-01-17T21:28:27.614Z"
   },
   {
    "duration": 7,
    "start_time": "2022-01-17T21:28:27.646Z"
   },
   {
    "duration": 44,
    "start_time": "2022-01-17T21:28:27.655Z"
   },
   {
    "duration": 10,
    "start_time": "2022-01-17T21:28:27.701Z"
   },
   {
    "duration": 15,
    "start_time": "2022-01-17T21:28:27.713Z"
   },
   {
    "duration": 18,
    "start_time": "2022-01-17T21:28:27.729Z"
   },
   {
    "duration": 31,
    "start_time": "2022-01-17T21:28:27.749Z"
   },
   {
    "duration": 4,
    "start_time": "2022-01-17T21:28:27.782Z"
   },
   {
    "duration": 32,
    "start_time": "2022-01-17T21:28:27.788Z"
   },
   {
    "duration": 22,
    "start_time": "2022-01-17T21:28:27.822Z"
   },
   {
    "duration": 8,
    "start_time": "2022-01-17T21:28:27.846Z"
   },
   {
    "duration": 17,
    "start_time": "2022-01-17T21:28:27.856Z"
   },
   {
    "duration": 20,
    "start_time": "2022-01-17T21:28:27.874Z"
   },
   {
    "duration": 27,
    "start_time": "2022-01-17T21:28:27.896Z"
   },
   {
    "duration": 17,
    "start_time": "2022-01-17T21:28:27.924Z"
   },
   {
    "duration": 9,
    "start_time": "2022-01-17T21:28:27.943Z"
   },
   {
    "duration": 30,
    "start_time": "2022-01-17T21:28:27.953Z"
   },
   {
    "duration": 18,
    "start_time": "2022-01-17T21:28:27.985Z"
   },
   {
    "duration": 29,
    "start_time": "2022-01-17T21:28:28.004Z"
   },
   {
    "duration": 10,
    "start_time": "2022-01-17T21:28:28.038Z"
   },
   {
    "duration": 19,
    "start_time": "2022-01-17T21:28:28.049Z"
   },
   {
    "duration": 16,
    "start_time": "2022-01-17T21:28:28.070Z"
   },
   {
    "duration": 23,
    "start_time": "2022-01-17T21:28:28.087Z"
   },
   {
    "duration": 17,
    "start_time": "2022-01-17T21:28:28.112Z"
   },
   {
    "duration": 28,
    "start_time": "2022-01-17T21:28:28.130Z"
   },
   {
    "duration": 8,
    "start_time": "2022-01-17T21:40:46.630Z"
   },
   {
    "duration": 14,
    "start_time": "2022-01-17T21:40:59.670Z"
   },
   {
    "duration": 17,
    "start_time": "2022-01-17T21:42:02.995Z"
   },
   {
    "duration": 17,
    "start_time": "2022-01-17T21:42:29.189Z"
   },
   {
    "duration": 16,
    "start_time": "2022-01-17T21:44:34.344Z"
   },
   {
    "duration": 9,
    "start_time": "2022-01-17T21:47:42.179Z"
   },
   {
    "duration": 5,
    "start_time": "2022-01-17T21:49:40.541Z"
   },
   {
    "duration": 285,
    "start_time": "2022-01-17T21:52:04.441Z"
   },
   {
    "duration": 5,
    "start_time": "2022-01-17T21:52:31.772Z"
   },
   {
    "duration": 254,
    "start_time": "2022-01-17T21:52:38.200Z"
   },
   {
    "duration": 6,
    "start_time": "2022-01-17T21:52:42.584Z"
   },
   {
    "duration": 7,
    "start_time": "2022-01-17T21:52:53.182Z"
   },
   {
    "duration": 2,
    "start_time": "2022-01-17T21:52:57.563Z"
   },
   {
    "duration": 49,
    "start_time": "2022-01-17T21:52:57.568Z"
   },
   {
    "duration": 12,
    "start_time": "2022-01-17T21:52:57.618Z"
   },
   {
    "duration": 20,
    "start_time": "2022-01-17T21:52:57.632Z"
   },
   {
    "duration": 8,
    "start_time": "2022-01-17T21:52:57.654Z"
   },
   {
    "duration": 10,
    "start_time": "2022-01-17T21:52:57.664Z"
   },
   {
    "duration": 5,
    "start_time": "2022-01-17T21:52:57.676Z"
   },
   {
    "duration": 6,
    "start_time": "2022-01-17T21:52:57.682Z"
   },
   {
    "duration": 3,
    "start_time": "2022-01-17T21:52:57.691Z"
   },
   {
    "duration": 20,
    "start_time": "2022-01-17T21:52:57.696Z"
   },
   {
    "duration": 70,
    "start_time": "2022-01-17T21:52:57.717Z"
   },
   {
    "duration": 5,
    "start_time": "2022-01-17T21:52:57.788Z"
   },
   {
    "duration": 5,
    "start_time": "2022-01-17T21:52:57.794Z"
   },
   {
    "duration": 13,
    "start_time": "2022-01-17T21:52:57.800Z"
   },
   {
    "duration": 13,
    "start_time": "2022-01-17T21:52:57.815Z"
   },
   {
    "duration": 48,
    "start_time": "2022-01-17T21:52:57.829Z"
   },
   {
    "duration": 14,
    "start_time": "2022-01-17T21:52:57.878Z"
   },
   {
    "duration": 10,
    "start_time": "2022-01-17T21:52:57.894Z"
   },
   {
    "duration": 17,
    "start_time": "2022-01-17T21:52:57.905Z"
   },
   {
    "duration": 14,
    "start_time": "2022-01-17T21:52:57.923Z"
   },
   {
    "duration": 41,
    "start_time": "2022-01-17T21:52:57.938Z"
   },
   {
    "duration": 8,
    "start_time": "2022-01-17T21:52:57.981Z"
   },
   {
    "duration": 16,
    "start_time": "2022-01-17T21:52:57.990Z"
   },
   {
    "duration": 6,
    "start_time": "2022-01-17T21:52:58.009Z"
   },
   {
    "duration": 3400,
    "start_time": "2022-01-17T21:52:58.017Z"
   },
   {
    "duration": 3,
    "start_time": "2022-01-17T21:53:01.419Z"
   },
   {
    "duration": 28,
    "start_time": "2022-01-17T21:53:01.424Z"
   },
   {
    "duration": 19,
    "start_time": "2022-01-17T21:53:01.454Z"
   },
   {
    "duration": 6,
    "start_time": "2022-01-17T21:53:01.474Z"
   },
   {
    "duration": 6,
    "start_time": "2022-01-17T21:53:01.482Z"
   },
   {
    "duration": 18,
    "start_time": "2022-01-17T21:53:01.489Z"
   },
   {
    "duration": 15,
    "start_time": "2022-01-17T21:53:01.509Z"
   },
   {
    "duration": 10,
    "start_time": "2022-01-17T21:53:01.526Z"
   },
   {
    "duration": 20,
    "start_time": "2022-01-17T21:53:01.537Z"
   },
   {
    "duration": 15,
    "start_time": "2022-01-17T21:53:01.558Z"
   },
   {
    "duration": 25,
    "start_time": "2022-01-17T21:53:01.575Z"
   },
   {
    "duration": 7,
    "start_time": "2022-01-17T21:53:01.601Z"
   },
   {
    "duration": 15,
    "start_time": "2022-01-17T21:53:01.610Z"
   },
   {
    "duration": 4,
    "start_time": "2022-01-17T21:53:01.627Z"
   },
   {
    "duration": 12,
    "start_time": "2022-01-17T21:53:01.632Z"
   },
   {
    "duration": 31,
    "start_time": "2022-01-17T21:53:01.646Z"
   },
   {
    "duration": 26,
    "start_time": "2022-01-17T21:53:01.678Z"
   },
   {
    "duration": 4,
    "start_time": "2022-01-17T21:53:01.706Z"
   },
   {
    "duration": 11,
    "start_time": "2022-01-17T21:53:01.712Z"
   },
   {
    "duration": 28,
    "start_time": "2022-01-17T21:53:01.724Z"
   },
   {
    "duration": 4,
    "start_time": "2022-01-17T21:53:01.753Z"
   },
   {
    "duration": 19,
    "start_time": "2022-01-17T21:53:01.758Z"
   },
   {
    "duration": 16,
    "start_time": "2022-01-17T21:53:01.779Z"
   },
   {
    "duration": 10,
    "start_time": "2022-01-17T21:53:01.797Z"
   },
   {
    "duration": 21,
    "start_time": "2022-01-17T21:53:01.808Z"
   },
   {
    "duration": 7,
    "start_time": "2022-01-17T21:53:01.830Z"
   },
   {
    "duration": 12,
    "start_time": "2022-01-17T21:53:01.839Z"
   },
   {
    "duration": 22,
    "start_time": "2022-01-17T21:53:01.852Z"
   },
   {
    "duration": 25,
    "start_time": "2022-01-17T21:53:01.876Z"
   },
   {
    "duration": 7,
    "start_time": "2022-01-17T21:53:01.903Z"
   },
   {
    "duration": 12,
    "start_time": "2022-01-17T21:53:01.912Z"
   },
   {
    "duration": 9,
    "start_time": "2022-01-17T21:53:01.926Z"
   },
   {
    "duration": 37,
    "start_time": "2022-01-17T21:53:01.936Z"
   },
   {
    "duration": 12,
    "start_time": "2022-01-17T21:53:01.975Z"
   },
   {
    "duration": 11,
    "start_time": "2022-01-17T21:53:01.989Z"
   },
   {
    "duration": 7,
    "start_time": "2022-01-17T21:53:02.002Z"
   },
   {
    "duration": 10,
    "start_time": "2022-01-17T21:53:02.011Z"
   },
   {
    "duration": 12,
    "start_time": "2022-01-17T21:53:02.022Z"
   },
   {
    "duration": 37,
    "start_time": "2022-01-17T21:53:02.036Z"
   },
   {
    "duration": 3,
    "start_time": "2022-01-17T21:53:42.936Z"
   },
   {
    "duration": 7,
    "start_time": "2022-01-17T21:53:45.247Z"
   },
   {
    "duration": 3,
    "start_time": "2022-01-17T21:53:49.521Z"
   },
   {
    "duration": 49,
    "start_time": "2022-01-17T21:53:49.527Z"
   },
   {
    "duration": 12,
    "start_time": "2022-01-17T21:53:49.577Z"
   },
   {
    "duration": 10,
    "start_time": "2022-01-17T21:53:49.591Z"
   },
   {
    "duration": 9,
    "start_time": "2022-01-17T21:53:49.602Z"
   },
   {
    "duration": 5,
    "start_time": "2022-01-17T21:53:49.612Z"
   },
   {
    "duration": 4,
    "start_time": "2022-01-17T21:53:49.618Z"
   },
   {
    "duration": 4,
    "start_time": "2022-01-17T21:53:49.624Z"
   },
   {
    "duration": 5,
    "start_time": "2022-01-17T21:53:49.630Z"
   },
   {
    "duration": 52,
    "start_time": "2022-01-17T21:53:49.637Z"
   },
   {
    "duration": 36,
    "start_time": "2022-01-17T21:53:49.691Z"
   },
   {
    "duration": 4,
    "start_time": "2022-01-17T21:53:49.729Z"
   },
   {
    "duration": 38,
    "start_time": "2022-01-17T21:53:49.734Z"
   },
   {
    "duration": 12,
    "start_time": "2022-01-17T21:53:49.773Z"
   },
   {
    "duration": 12,
    "start_time": "2022-01-17T21:53:49.787Z"
   },
   {
    "duration": 15,
    "start_time": "2022-01-17T21:53:49.801Z"
   },
   {
    "duration": 13,
    "start_time": "2022-01-17T21:53:49.818Z"
   },
   {
    "duration": 43,
    "start_time": "2022-01-17T21:53:49.832Z"
   },
   {
    "duration": 16,
    "start_time": "2022-01-17T21:53:49.878Z"
   },
   {
    "duration": 15,
    "start_time": "2022-01-17T21:53:49.895Z"
   },
   {
    "duration": 14,
    "start_time": "2022-01-17T21:53:49.911Z"
   },
   {
    "duration": 9,
    "start_time": "2022-01-17T21:53:49.926Z"
   },
   {
    "duration": 42,
    "start_time": "2022-01-17T21:53:49.937Z"
   },
   {
    "duration": 7,
    "start_time": "2022-01-17T21:53:49.982Z"
   },
   {
    "duration": 3108,
    "start_time": "2022-01-17T21:53:49.991Z"
   },
   {
    "duration": 3,
    "start_time": "2022-01-17T21:53:53.102Z"
   },
   {
    "duration": 24,
    "start_time": "2022-01-17T21:53:53.107Z"
   },
   {
    "duration": 7,
    "start_time": "2022-01-17T21:53:53.133Z"
   },
   {
    "duration": 33,
    "start_time": "2022-01-17T21:53:53.141Z"
   },
   {
    "duration": 5,
    "start_time": "2022-01-17T21:53:53.176Z"
   },
   {
    "duration": 11,
    "start_time": "2022-01-17T21:53:53.182Z"
   },
   {
    "duration": 12,
    "start_time": "2022-01-17T21:53:53.195Z"
   },
   {
    "duration": 10,
    "start_time": "2022-01-17T21:53:53.209Z"
   },
   {
    "duration": 21,
    "start_time": "2022-01-17T21:53:53.221Z"
   },
   {
    "duration": 9,
    "start_time": "2022-01-17T21:53:53.244Z"
   },
   {
    "duration": 28,
    "start_time": "2022-01-17T21:53:53.254Z"
   },
   {
    "duration": 7,
    "start_time": "2022-01-17T21:53:53.283Z"
   },
   {
    "duration": 12,
    "start_time": "2022-01-17T21:53:53.291Z"
   },
   {
    "duration": 4,
    "start_time": "2022-01-17T21:53:53.305Z"
   },
   {
    "duration": 11,
    "start_time": "2022-01-17T21:53:53.311Z"
   },
   {
    "duration": 6,
    "start_time": "2022-01-17T21:53:53.323Z"
   },
   {
    "duration": 55,
    "start_time": "2022-01-17T21:53:53.331Z"
   },
   {
    "duration": 4,
    "start_time": "2022-01-17T21:53:53.388Z"
   },
   {
    "duration": 7,
    "start_time": "2022-01-17T21:53:53.393Z"
   },
   {
    "duration": 15,
    "start_time": "2022-01-17T21:53:53.401Z"
   },
   {
    "duration": 3,
    "start_time": "2022-01-17T21:53:53.418Z"
   },
   {
    "duration": 11,
    "start_time": "2022-01-17T21:53:53.423Z"
   },
   {
    "duration": 37,
    "start_time": "2022-01-17T21:53:53.435Z"
   },
   {
    "duration": 6,
    "start_time": "2022-01-17T21:53:53.474Z"
   },
   {
    "duration": 23,
    "start_time": "2022-01-17T21:53:53.481Z"
   },
   {
    "duration": 7,
    "start_time": "2022-01-17T21:53:53.505Z"
   },
   {
    "duration": 12,
    "start_time": "2022-01-17T21:53:53.513Z"
   },
   {
    "duration": 10,
    "start_time": "2022-01-17T21:53:53.527Z"
   },
   {
    "duration": 84,
    "start_time": "2022-01-17T21:53:53.539Z"
   },
   {
    "duration": 8,
    "start_time": "2022-01-17T21:53:53.624Z"
   },
   {
    "duration": 10,
    "start_time": "2022-01-17T21:53:53.634Z"
   },
   {
    "duration": 28,
    "start_time": "2022-01-17T21:53:53.646Z"
   },
   {
    "duration": 17,
    "start_time": "2022-01-17T21:53:53.676Z"
   },
   {
    "duration": 12,
    "start_time": "2022-01-17T21:53:53.694Z"
   },
   {
    "duration": 7,
    "start_time": "2022-01-17T21:53:53.708Z"
   },
   {
    "duration": 3,
    "start_time": "2022-01-17T21:53:53.716Z"
   },
   {
    "duration": 12,
    "start_time": "2022-01-17T21:53:53.720Z"
   },
   {
    "duration": 13,
    "start_time": "2022-01-17T21:53:53.733Z"
   },
   {
    "duration": 7,
    "start_time": "2022-01-17T21:53:53.772Z"
   },
   {
    "duration": 4,
    "start_time": "2022-01-17T21:54:38.316Z"
   },
   {
    "duration": 8,
    "start_time": "2022-01-17T21:55:22.512Z"
   },
   {
    "duration": 2,
    "start_time": "2022-01-17T21:55:27.209Z"
   },
   {
    "duration": 50,
    "start_time": "2022-01-17T21:55:27.213Z"
   },
   {
    "duration": 12,
    "start_time": "2022-01-17T21:55:27.265Z"
   },
   {
    "duration": 10,
    "start_time": "2022-01-17T21:55:27.279Z"
   },
   {
    "duration": 8,
    "start_time": "2022-01-17T21:55:27.290Z"
   },
   {
    "duration": 5,
    "start_time": "2022-01-17T21:55:27.300Z"
   },
   {
    "duration": 4,
    "start_time": "2022-01-17T21:55:27.307Z"
   },
   {
    "duration": 5,
    "start_time": "2022-01-17T21:55:27.313Z"
   },
   {
    "duration": 9,
    "start_time": "2022-01-17T21:55:27.319Z"
   },
   {
    "duration": 58,
    "start_time": "2022-01-17T21:55:27.329Z"
   },
   {
    "duration": 36,
    "start_time": "2022-01-17T21:55:27.389Z"
   },
   {
    "duration": 4,
    "start_time": "2022-01-17T21:55:27.426Z"
   },
   {
    "duration": 15,
    "start_time": "2022-01-17T21:55:27.432Z"
   },
   {
    "duration": 33,
    "start_time": "2022-01-17T21:55:27.448Z"
   },
   {
    "duration": 13,
    "start_time": "2022-01-17T21:55:27.483Z"
   },
   {
    "duration": 16,
    "start_time": "2022-01-17T21:55:27.497Z"
   },
   {
    "duration": 14,
    "start_time": "2022-01-17T21:55:27.515Z"
   },
   {
    "duration": 14,
    "start_time": "2022-01-17T21:55:27.531Z"
   },
   {
    "duration": 17,
    "start_time": "2022-01-17T21:55:27.572Z"
   },
   {
    "duration": 16,
    "start_time": "2022-01-17T21:55:27.591Z"
   },
   {
    "duration": 13,
    "start_time": "2022-01-17T21:55:27.608Z"
   },
   {
    "duration": 8,
    "start_time": "2022-01-17T21:55:27.623Z"
   },
   {
    "duration": 40,
    "start_time": "2022-01-17T21:55:27.632Z"
   },
   {
    "duration": 7,
    "start_time": "2022-01-17T21:55:27.674Z"
   },
   {
    "duration": 3338,
    "start_time": "2022-01-17T21:55:27.682Z"
   },
   {
    "duration": 2,
    "start_time": "2022-01-17T21:55:31.022Z"
   },
   {
    "duration": 27,
    "start_time": "2022-01-17T21:55:31.026Z"
   },
   {
    "duration": 18,
    "start_time": "2022-01-17T21:55:31.054Z"
   },
   {
    "duration": 7,
    "start_time": "2022-01-17T21:55:31.073Z"
   },
   {
    "duration": 5,
    "start_time": "2022-01-17T21:55:31.081Z"
   },
   {
    "duration": 12,
    "start_time": "2022-01-17T21:55:31.087Z"
   },
   {
    "duration": 14,
    "start_time": "2022-01-17T21:55:31.100Z"
   },
   {
    "duration": 8,
    "start_time": "2022-01-17T21:55:31.116Z"
   },
   {
    "duration": 16,
    "start_time": "2022-01-17T21:55:31.125Z"
   },
   {
    "duration": 31,
    "start_time": "2022-01-17T21:55:31.143Z"
   },
   {
    "duration": 22,
    "start_time": "2022-01-17T21:55:31.175Z"
   },
   {
    "duration": 7,
    "start_time": "2022-01-17T21:55:31.198Z"
   },
   {
    "duration": 19,
    "start_time": "2022-01-17T21:55:31.207Z"
   },
   {
    "duration": 8,
    "start_time": "2022-01-17T21:55:31.227Z"
   },
   {
    "duration": 20,
    "start_time": "2022-01-17T21:55:31.236Z"
   },
   {
    "duration": 16,
    "start_time": "2022-01-17T21:55:31.257Z"
   },
   {
    "duration": 22,
    "start_time": "2022-01-17T21:55:31.274Z"
   },
   {
    "duration": 4,
    "start_time": "2022-01-17T21:55:31.298Z"
   },
   {
    "duration": 13,
    "start_time": "2022-01-17T21:55:31.303Z"
   },
   {
    "duration": 27,
    "start_time": "2022-01-17T21:55:31.317Z"
   },
   {
    "duration": 4,
    "start_time": "2022-01-17T21:55:31.346Z"
   },
   {
    "duration": 23,
    "start_time": "2022-01-17T21:55:31.352Z"
   },
   {
    "duration": 15,
    "start_time": "2022-01-17T21:55:31.376Z"
   },
   {
    "duration": 11,
    "start_time": "2022-01-17T21:55:31.393Z"
   },
   {
    "duration": 23,
    "start_time": "2022-01-17T21:55:31.405Z"
   },
   {
    "duration": 11,
    "start_time": "2022-01-17T21:55:31.430Z"
   },
   {
    "duration": 12,
    "start_time": "2022-01-17T21:55:31.443Z"
   },
   {
    "duration": 12,
    "start_time": "2022-01-17T21:55:31.456Z"
   },
   {
    "duration": 26,
    "start_time": "2022-01-17T21:55:31.469Z"
   },
   {
    "duration": 7,
    "start_time": "2022-01-17T21:55:31.499Z"
   },
   {
    "duration": 12,
    "start_time": "2022-01-17T21:55:31.508Z"
   },
   {
    "duration": 9,
    "start_time": "2022-01-17T21:55:31.522Z"
   },
   {
    "duration": 27,
    "start_time": "2022-01-17T21:55:31.532Z"
   },
   {
    "duration": 17,
    "start_time": "2022-01-17T21:55:31.560Z"
   },
   {
    "duration": 8,
    "start_time": "2022-01-17T21:55:31.579Z"
   },
   {
    "duration": 11,
    "start_time": "2022-01-17T21:55:31.589Z"
   },
   {
    "duration": 11,
    "start_time": "2022-01-17T21:55:31.601Z"
   },
   {
    "duration": 10,
    "start_time": "2022-01-17T21:55:31.614Z"
   },
   {
    "duration": 7,
    "start_time": "2022-01-17T21:56:13.623Z"
   },
   {
    "duration": 3,
    "start_time": "2022-01-17T21:56:16.917Z"
   },
   {
    "duration": 49,
    "start_time": "2022-01-17T21:56:16.922Z"
   },
   {
    "duration": 11,
    "start_time": "2022-01-17T21:56:16.973Z"
   },
   {
    "duration": 10,
    "start_time": "2022-01-17T21:56:16.986Z"
   },
   {
    "duration": 11,
    "start_time": "2022-01-17T21:56:16.998Z"
   },
   {
    "duration": 6,
    "start_time": "2022-01-17T21:56:17.010Z"
   },
   {
    "duration": 8,
    "start_time": "2022-01-17T21:56:17.018Z"
   },
   {
    "duration": 8,
    "start_time": "2022-01-17T21:56:17.027Z"
   },
   {
    "duration": 9,
    "start_time": "2022-01-17T21:56:17.038Z"
   },
   {
    "duration": 40,
    "start_time": "2022-01-17T21:56:17.048Z"
   },
   {
    "duration": 40,
    "start_time": "2022-01-17T21:56:17.089Z"
   },
   {
    "duration": 4,
    "start_time": "2022-01-17T21:56:17.131Z"
   },
   {
    "duration": 36,
    "start_time": "2022-01-17T21:56:17.136Z"
   },
   {
    "duration": 16,
    "start_time": "2022-01-17T21:56:17.174Z"
   },
   {
    "duration": 13,
    "start_time": "2022-01-17T21:56:17.191Z"
   },
   {
    "duration": 15,
    "start_time": "2022-01-17T21:56:17.205Z"
   },
   {
    "duration": 13,
    "start_time": "2022-01-17T21:56:17.221Z"
   },
   {
    "duration": 42,
    "start_time": "2022-01-17T21:56:17.236Z"
   },
   {
    "duration": 16,
    "start_time": "2022-01-17T21:56:17.280Z"
   },
   {
    "duration": 15,
    "start_time": "2022-01-17T21:56:17.297Z"
   },
   {
    "duration": 13,
    "start_time": "2022-01-17T21:56:17.314Z"
   },
   {
    "duration": 8,
    "start_time": "2022-01-17T21:56:17.328Z"
   },
   {
    "duration": 44,
    "start_time": "2022-01-17T21:56:17.337Z"
   },
   {
    "duration": 7,
    "start_time": "2022-01-17T21:56:17.382Z"
   },
   {
    "duration": 3798,
    "start_time": "2022-01-17T21:56:17.390Z"
   },
   {
    "duration": 3,
    "start_time": "2022-01-17T21:56:21.189Z"
   },
   {
    "duration": 30,
    "start_time": "2022-01-17T21:56:21.196Z"
   },
   {
    "duration": 6,
    "start_time": "2022-01-17T21:56:21.229Z"
   },
   {
    "duration": 8,
    "start_time": "2022-01-17T21:56:21.236Z"
   },
   {
    "duration": 30,
    "start_time": "2022-01-17T21:56:21.246Z"
   },
   {
    "duration": 263,
    "start_time": "2022-01-17T21:56:21.277Z"
   },
   {
    "duration": 29,
    "start_time": "2022-01-17T21:56:21.542Z"
   },
   {
    "duration": 36,
    "start_time": "2022-01-17T21:56:21.573Z"
   },
   {
    "duration": 14,
    "start_time": "2022-01-17T21:56:21.611Z"
   },
   {
    "duration": 9,
    "start_time": "2022-01-17T21:56:21.627Z"
   },
   {
    "duration": 31,
    "start_time": "2022-01-17T21:56:21.638Z"
   },
   {
    "duration": 7,
    "start_time": "2022-01-17T21:56:21.670Z"
   },
   {
    "duration": 183,
    "start_time": "2022-01-17T21:56:21.679Z"
   },
   {
    "duration": 13,
    "start_time": "2022-01-17T21:56:21.864Z"
   },
   {
    "duration": 43,
    "start_time": "2022-01-17T21:56:21.879Z"
   },
   {
    "duration": 117,
    "start_time": "2022-01-17T21:56:21.924Z"
   },
   {
    "duration": 39,
    "start_time": "2022-01-17T21:56:22.043Z"
   },
   {
    "duration": 9,
    "start_time": "2022-01-17T21:56:22.084Z"
   },
   {
    "duration": 12,
    "start_time": "2022-01-17T21:56:22.095Z"
   },
   {
    "duration": 22,
    "start_time": "2022-01-17T21:56:22.109Z"
   },
   {
    "duration": 4,
    "start_time": "2022-01-17T21:56:22.133Z"
   },
   {
    "duration": 19,
    "start_time": "2022-01-17T21:56:22.138Z"
   },
   {
    "duration": 16,
    "start_time": "2022-01-17T21:56:22.158Z"
   },
   {
    "duration": 22,
    "start_time": "2022-01-17T21:56:22.176Z"
   },
   {
    "duration": 21,
    "start_time": "2022-01-17T21:56:22.200Z"
   },
   {
    "duration": 7,
    "start_time": "2022-01-17T21:56:22.223Z"
   },
   {
    "duration": 13,
    "start_time": "2022-01-17T21:56:22.232Z"
   },
   {
    "duration": 27,
    "start_time": "2022-01-17T21:56:22.247Z"
   },
   {
    "duration": 28,
    "start_time": "2022-01-17T21:56:22.276Z"
   },
   {
    "duration": 8,
    "start_time": "2022-01-17T21:56:22.306Z"
   },
   {
    "duration": 12,
    "start_time": "2022-01-17T21:56:22.315Z"
   },
   {
    "duration": 7,
    "start_time": "2022-01-17T21:56:22.329Z"
   },
   {
    "duration": 37,
    "start_time": "2022-01-17T21:56:22.338Z"
   },
   {
    "duration": 12,
    "start_time": "2022-01-17T21:56:22.376Z"
   },
   {
    "duration": 8,
    "start_time": "2022-01-17T21:56:22.390Z"
   },
   {
    "duration": 8,
    "start_time": "2022-01-17T21:56:22.400Z"
   },
   {
    "duration": 13,
    "start_time": "2022-01-17T21:56:22.409Z"
   },
   {
    "duration": 15,
    "start_time": "2022-01-17T21:56:22.423Z"
   },
   {
    "duration": 10,
    "start_time": "2022-01-17T22:14:38.799Z"
   },
   {
    "duration": 2,
    "start_time": "2022-01-17T22:42:16.347Z"
   },
   {
    "duration": 47,
    "start_time": "2022-01-17T22:42:16.353Z"
   },
   {
    "duration": 13,
    "start_time": "2022-01-17T22:42:16.401Z"
   },
   {
    "duration": 13,
    "start_time": "2022-01-17T22:42:16.416Z"
   },
   {
    "duration": 9,
    "start_time": "2022-01-17T22:42:16.431Z"
   },
   {
    "duration": 33,
    "start_time": "2022-01-17T22:42:16.442Z"
   },
   {
    "duration": 5,
    "start_time": "2022-01-17T22:42:16.477Z"
   },
   {
    "duration": 5,
    "start_time": "2022-01-17T22:42:16.484Z"
   },
   {
    "duration": 5,
    "start_time": "2022-01-17T22:42:16.492Z"
   },
   {
    "duration": 21,
    "start_time": "2022-01-17T22:42:16.500Z"
   },
   {
    "duration": 83,
    "start_time": "2022-01-17T22:42:16.524Z"
   },
   {
    "duration": 3,
    "start_time": "2022-01-17T22:42:16.609Z"
   },
   {
    "duration": 8,
    "start_time": "2022-01-17T22:42:16.614Z"
   },
   {
    "duration": 11,
    "start_time": "2022-01-17T22:42:16.624Z"
   },
   {
    "duration": 37,
    "start_time": "2022-01-17T22:42:16.637Z"
   },
   {
    "duration": 16,
    "start_time": "2022-01-17T22:42:16.676Z"
   },
   {
    "duration": 15,
    "start_time": "2022-01-17T22:42:16.693Z"
   },
   {
    "duration": 11,
    "start_time": "2022-01-17T22:42:16.710Z"
   },
   {
    "duration": 17,
    "start_time": "2022-01-17T22:42:16.722Z"
   },
   {
    "duration": 45,
    "start_time": "2022-01-17T22:42:16.740Z"
   },
   {
    "duration": 14,
    "start_time": "2022-01-17T22:42:16.787Z"
   },
   {
    "duration": 10,
    "start_time": "2022-01-17T22:42:16.803Z"
   },
   {
    "duration": 15,
    "start_time": "2022-01-17T22:42:16.815Z"
   },
   {
    "duration": 38,
    "start_time": "2022-01-17T22:42:16.835Z"
   },
   {
    "duration": 3534,
    "start_time": "2022-01-17T22:42:16.876Z"
   },
   {
    "duration": 3,
    "start_time": "2022-01-17T22:42:20.412Z"
   },
   {
    "duration": 69,
    "start_time": "2022-01-17T22:42:20.416Z"
   },
   {
    "duration": 10,
    "start_time": "2022-01-17T22:42:20.487Z"
   },
   {
    "duration": 11,
    "start_time": "2022-01-17T22:42:20.499Z"
   },
   {
    "duration": 5,
    "start_time": "2022-01-17T22:42:20.512Z"
   },
   {
    "duration": 16,
    "start_time": "2022-01-17T22:42:20.572Z"
   },
   {
    "duration": 15,
    "start_time": "2022-01-17T22:42:20.590Z"
   },
   {
    "duration": 7,
    "start_time": "2022-01-17T22:42:20.607Z"
   },
   {
    "duration": 64,
    "start_time": "2022-01-17T22:42:20.616Z"
   },
   {
    "duration": 7,
    "start_time": "2022-01-17T22:42:20.682Z"
   },
   {
    "duration": 20,
    "start_time": "2022-01-17T22:42:20.691Z"
   },
   {
    "duration": 61,
    "start_time": "2022-01-17T22:42:20.712Z"
   },
   {
    "duration": 12,
    "start_time": "2022-01-17T22:42:20.774Z"
   },
   {
    "duration": 6,
    "start_time": "2022-01-17T22:42:20.788Z"
   },
   {
    "duration": 10,
    "start_time": "2022-01-17T22:42:20.796Z"
   },
   {
    "duration": 8,
    "start_time": "2022-01-17T22:42:20.807Z"
   },
   {
    "duration": 73,
    "start_time": "2022-01-17T22:42:20.816Z"
   },
   {
    "duration": 5,
    "start_time": "2022-01-17T22:42:20.890Z"
   },
   {
    "duration": 8,
    "start_time": "2022-01-17T22:42:20.897Z"
   },
   {
    "duration": 24,
    "start_time": "2022-01-17T22:42:20.906Z"
   },
   {
    "duration": 4,
    "start_time": "2022-01-17T22:42:20.932Z"
   },
   {
    "duration": 12,
    "start_time": "2022-01-17T22:42:20.937Z"
   },
   {
    "duration": 16,
    "start_time": "2022-01-17T22:42:20.950Z"
   },
   {
    "duration": 13,
    "start_time": "2022-01-17T22:42:20.967Z"
   },
   {
    "duration": 21,
    "start_time": "2022-01-17T22:42:20.981Z"
   },
   {
    "duration": 8,
    "start_time": "2022-01-17T22:42:21.003Z"
   },
   {
    "duration": 14,
    "start_time": "2022-01-17T22:42:21.012Z"
   },
   {
    "duration": 13,
    "start_time": "2022-01-17T22:42:21.027Z"
   },
   {
    "duration": 25,
    "start_time": "2022-01-17T22:42:21.042Z"
   },
   {
    "duration": 7,
    "start_time": "2022-01-17T22:42:21.068Z"
   },
   {
    "duration": 14,
    "start_time": "2022-01-17T22:42:21.079Z"
   },
   {
    "duration": 10,
    "start_time": "2022-01-17T22:42:21.094Z"
   },
   {
    "duration": 19,
    "start_time": "2022-01-17T22:42:21.106Z"
   },
   {
    "duration": 11,
    "start_time": "2022-01-17T22:42:21.126Z"
   },
   {
    "duration": 13,
    "start_time": "2022-01-17T22:42:21.138Z"
   },
   {
    "duration": 6,
    "start_time": "2022-01-17T22:42:21.152Z"
   },
   {
    "duration": 11,
    "start_time": "2022-01-17T22:42:21.160Z"
   },
   {
    "duration": 13,
    "start_time": "2022-01-17T22:42:21.172Z"
   },
   {
    "duration": 790,
    "start_time": "2022-01-21T08:41:20.805Z"
   },
   {
    "duration": 58,
    "start_time": "2022-01-21T08:41:21.598Z"
   },
   {
    "duration": 29,
    "start_time": "2022-01-21T08:41:21.658Z"
   },
   {
    "duration": 38,
    "start_time": "2022-01-21T08:41:21.690Z"
   },
   {
    "duration": 12,
    "start_time": "2022-01-21T08:41:21.731Z"
   },
   {
    "duration": 8,
    "start_time": "2022-01-21T08:41:21.745Z"
   },
   {
    "duration": 8,
    "start_time": "2022-01-21T08:41:21.756Z"
   },
   {
    "duration": 7,
    "start_time": "2022-01-21T08:41:21.766Z"
   },
   {
    "duration": 46,
    "start_time": "2022-01-21T08:41:21.779Z"
   },
   {
    "duration": 38,
    "start_time": "2022-01-21T08:41:21.829Z"
   },
   {
    "duration": 85,
    "start_time": "2022-01-21T08:41:21.869Z"
   },
   {
    "duration": 8,
    "start_time": "2022-01-21T08:41:21.957Z"
   },
   {
    "duration": 12,
    "start_time": "2022-01-21T08:41:21.968Z"
   },
   {
    "duration": 41,
    "start_time": "2022-01-21T08:41:21.982Z"
   },
   {
    "duration": 30,
    "start_time": "2022-01-21T08:41:22.026Z"
   },
   {
    "duration": 25,
    "start_time": "2022-01-21T08:41:22.059Z"
   },
   {
    "duration": 56,
    "start_time": "2022-01-21T08:41:22.086Z"
   },
   {
    "duration": 16,
    "start_time": "2022-01-21T08:41:22.144Z"
   },
   {
    "duration": 33,
    "start_time": "2022-01-21T08:41:22.164Z"
   },
   {
    "duration": 21,
    "start_time": "2022-01-21T08:41:22.223Z"
   },
   {
    "duration": 20,
    "start_time": "2022-01-21T08:41:22.246Z"
   },
   {
    "duration": 11,
    "start_time": "2022-01-21T08:41:22.268Z"
   },
   {
    "duration": 51,
    "start_time": "2022-01-21T08:41:22.281Z"
   },
   {
    "duration": 9,
    "start_time": "2022-01-21T08:41:22.334Z"
   },
   {
    "duration": 5564,
    "start_time": "2022-01-21T08:41:22.345Z"
   },
   {
    "duration": 16,
    "start_time": "2022-01-21T08:41:27.911Z"
   },
   {
    "duration": 51,
    "start_time": "2022-01-21T08:41:27.937Z"
   },
   {
    "duration": 38,
    "start_time": "2022-01-21T08:41:27.992Z"
   },
   {
    "duration": 17,
    "start_time": "2022-01-21T08:41:28.033Z"
   },
   {
    "duration": 7,
    "start_time": "2022-01-21T08:41:28.052Z"
   },
   {
    "duration": 21,
    "start_time": "2022-01-21T08:41:28.062Z"
   },
   {
    "duration": 22,
    "start_time": "2022-01-21T08:41:28.122Z"
   },
   {
    "duration": 14,
    "start_time": "2022-01-21T08:41:28.146Z"
   },
   {
    "duration": 23,
    "start_time": "2022-01-21T08:41:28.163Z"
   },
   {
    "duration": 45,
    "start_time": "2022-01-21T08:41:28.189Z"
   },
   {
    "duration": 39,
    "start_time": "2022-01-21T08:41:28.237Z"
   },
   {
    "duration": 13,
    "start_time": "2022-01-21T08:41:28.278Z"
   },
   {
    "duration": 53,
    "start_time": "2022-01-21T08:41:28.294Z"
   },
   {
    "duration": 8,
    "start_time": "2022-01-21T08:41:28.349Z"
   },
   {
    "duration": 21,
    "start_time": "2022-01-21T08:41:28.360Z"
   },
   {
    "duration": 41,
    "start_time": "2022-01-21T08:41:28.383Z"
   },
   {
    "duration": 41,
    "start_time": "2022-01-21T08:41:28.427Z"
   },
   {
    "duration": 7,
    "start_time": "2022-01-21T08:41:28.471Z"
   },
   {
    "duration": 66,
    "start_time": "2022-01-21T08:41:28.481Z"
   },
   {
    "duration": 37,
    "start_time": "2022-01-21T08:41:28.550Z"
   },
   {
    "duration": 17,
    "start_time": "2022-01-21T08:41:28.589Z"
   },
   {
    "duration": 20,
    "start_time": "2022-01-21T08:41:28.609Z"
   },
   {
    "duration": 18,
    "start_time": "2022-01-21T08:41:28.632Z"
   },
   {
    "duration": 12,
    "start_time": "2022-01-21T08:41:28.653Z"
   },
   {
    "duration": 25,
    "start_time": "2022-01-21T08:41:28.668Z"
   },
   {
    "duration": 13,
    "start_time": "2022-01-21T08:41:28.723Z"
   },
   {
    "duration": 18,
    "start_time": "2022-01-21T08:41:28.739Z"
   },
   {
    "duration": 13,
    "start_time": "2022-01-21T08:41:28.760Z"
   },
   {
    "duration": 65,
    "start_time": "2022-01-21T08:41:28.776Z"
   },
   {
    "duration": 15,
    "start_time": "2022-01-21T08:41:28.844Z"
   },
   {
    "duration": 26,
    "start_time": "2022-01-21T08:41:28.861Z"
   },
   {
    "duration": 38,
    "start_time": "2022-01-21T08:41:28.889Z"
   },
   {
    "duration": 26,
    "start_time": "2022-01-21T08:41:28.929Z"
   },
   {
    "duration": 28,
    "start_time": "2022-01-21T08:41:28.958Z"
   },
   {
    "duration": 43,
    "start_time": "2022-01-21T08:41:28.989Z"
   },
   {
    "duration": 10,
    "start_time": "2022-01-21T08:41:29.034Z"
   },
   {
    "duration": 13,
    "start_time": "2022-01-21T08:41:29.046Z"
   },
   {
    "duration": 15,
    "start_time": "2022-01-21T08:41:29.062Z"
   },
   {
    "duration": 21,
    "start_time": "2022-01-21T09:11:26.938Z"
   },
   {
    "duration": 451,
    "start_time": "2022-01-22T09:53:01.611Z"
   },
   {
    "duration": 610,
    "start_time": "2022-01-22T09:53:06.041Z"
   },
   {
    "duration": 47,
    "start_time": "2022-01-22T09:53:06.653Z"
   },
   {
    "duration": 16,
    "start_time": "2022-01-22T09:53:06.702Z"
   },
   {
    "duration": 10,
    "start_time": "2022-01-22T09:53:06.720Z"
   },
   {
    "duration": 45,
    "start_time": "2022-01-22T09:53:06.731Z"
   },
   {
    "duration": 9,
    "start_time": "2022-01-22T09:53:06.777Z"
   },
   {
    "duration": 5,
    "start_time": "2022-01-22T09:53:06.787Z"
   },
   {
    "duration": 5,
    "start_time": "2022-01-22T09:53:06.794Z"
   },
   {
    "duration": 4,
    "start_time": "2022-01-22T09:53:06.800Z"
   },
   {
    "duration": 5,
    "start_time": "2022-01-22T09:53:06.806Z"
   },
   {
    "duration": 17,
    "start_time": "2022-01-22T09:53:06.812Z"
   },
   {
    "duration": 68,
    "start_time": "2022-01-22T09:53:06.831Z"
   },
   {
    "duration": 4,
    "start_time": "2022-01-22T09:53:06.901Z"
   },
   {
    "duration": 7,
    "start_time": "2022-01-22T09:53:06.906Z"
   },
   {
    "duration": 17,
    "start_time": "2022-01-22T09:53:06.915Z"
   },
   {
    "duration": 12,
    "start_time": "2022-01-22T09:53:06.933Z"
   },
   {
    "duration": 30,
    "start_time": "2022-01-22T09:53:06.947Z"
   },
   {
    "duration": 14,
    "start_time": "2022-01-22T09:53:06.978Z"
   },
   {
    "duration": 11,
    "start_time": "2022-01-22T09:53:06.993Z"
   },
   {
    "duration": 31,
    "start_time": "2022-01-22T09:53:07.005Z"
   },
   {
    "duration": 15,
    "start_time": "2022-01-22T09:53:07.037Z"
   },
   {
    "duration": 25,
    "start_time": "2022-01-22T09:53:07.053Z"
   },
   {
    "duration": 8,
    "start_time": "2022-01-22T09:53:07.082Z"
   },
   {
    "duration": 15,
    "start_time": "2022-01-22T09:53:07.092Z"
   },
   {
    "duration": 7,
    "start_time": "2022-01-22T09:53:07.108Z"
   },
   {
    "duration": 3121,
    "start_time": "2022-01-22T09:53:07.117Z"
   },
   {
    "duration": 3,
    "start_time": "2022-01-22T09:53:10.239Z"
   },
   {
    "duration": 34,
    "start_time": "2022-01-22T09:53:10.244Z"
   },
   {
    "duration": 6,
    "start_time": "2022-01-22T09:53:10.279Z"
   },
   {
    "duration": 15,
    "start_time": "2022-01-22T09:53:10.287Z"
   },
   {
    "duration": 9,
    "start_time": "2022-01-22T09:53:10.304Z"
   },
   {
    "duration": 15,
    "start_time": "2022-01-22T09:53:10.314Z"
   },
   {
    "duration": 13,
    "start_time": "2022-01-22T09:53:10.330Z"
   },
   {
    "duration": 28,
    "start_time": "2022-01-22T09:53:10.344Z"
   },
   {
    "duration": 11,
    "start_time": "2022-01-22T09:53:10.373Z"
   },
   {
    "duration": 14,
    "start_time": "2022-01-22T09:53:10.386Z"
   },
   {
    "duration": 18,
    "start_time": "2022-01-22T09:53:10.402Z"
   },
   {
    "duration": 9,
    "start_time": "2022-01-22T09:53:10.422Z"
   },
   {
    "duration": 27,
    "start_time": "2022-01-22T09:53:10.432Z"
   },
   {
    "duration": 11,
    "start_time": "2022-01-22T09:53:10.460Z"
   },
   {
    "duration": 14,
    "start_time": "2022-01-22T09:53:10.473Z"
   },
   {
    "duration": 9,
    "start_time": "2022-01-22T09:53:10.488Z"
   },
   {
    "duration": 28,
    "start_time": "2022-01-22T09:53:10.499Z"
   },
   {
    "duration": 10,
    "start_time": "2022-01-22T09:53:10.528Z"
   },
   {
    "duration": 16,
    "start_time": "2022-01-22T09:53:10.539Z"
   },
   {
    "duration": 22,
    "start_time": "2022-01-22T09:53:10.557Z"
   },
   {
    "duration": 16,
    "start_time": "2022-01-22T09:53:10.580Z"
   },
   {
    "duration": 13,
    "start_time": "2022-01-22T09:53:10.597Z"
   },
   {
    "duration": 17,
    "start_time": "2022-01-22T09:53:10.611Z"
   },
   {
    "duration": 19,
    "start_time": "2022-01-22T09:53:10.629Z"
   },
   {
    "duration": 31,
    "start_time": "2022-01-22T09:53:10.649Z"
   },
   {
    "duration": 6,
    "start_time": "2022-01-22T09:53:10.682Z"
   },
   {
    "duration": 19,
    "start_time": "2022-01-22T09:53:10.689Z"
   },
   {
    "duration": 18,
    "start_time": "2022-01-22T09:53:10.709Z"
   },
   {
    "duration": 28,
    "start_time": "2022-01-22T09:53:10.729Z"
   },
   {
    "duration": 12,
    "start_time": "2022-01-22T09:53:10.759Z"
   },
   {
    "duration": 18,
    "start_time": "2022-01-22T09:53:10.772Z"
   },
   {
    "duration": 19,
    "start_time": "2022-01-22T09:53:10.791Z"
   },
   {
    "duration": 31,
    "start_time": "2022-01-22T09:53:10.812Z"
   },
   {
    "duration": 12,
    "start_time": "2022-01-22T09:53:10.844Z"
   },
   {
    "duration": 15,
    "start_time": "2022-01-22T09:53:10.858Z"
   },
   {
    "duration": 17,
    "start_time": "2022-01-22T09:53:10.875Z"
   },
   {
    "duration": 16,
    "start_time": "2022-01-22T09:53:10.893Z"
   },
   {
    "duration": 21,
    "start_time": "2022-01-22T09:53:10.911Z"
   },
   {
    "duration": 86,
    "start_time": "2022-01-22T09:56:55.665Z"
   },
   {
    "duration": 80,
    "start_time": "2022-01-22T09:57:06.924Z"
   },
   {
    "duration": 532,
    "start_time": "2022-01-22T10:00:41.521Z"
   },
   {
    "duration": 3,
    "start_time": "2022-01-22T10:00:45.646Z"
   },
   {
    "duration": 52,
    "start_time": "2022-01-22T10:00:45.652Z"
   },
   {
    "duration": 14,
    "start_time": "2022-01-22T10:00:45.706Z"
   },
   {
    "duration": 13,
    "start_time": "2022-01-22T10:00:45.723Z"
   },
   {
    "duration": 45,
    "start_time": "2022-01-22T10:00:45.772Z"
   },
   {
    "duration": 14,
    "start_time": "2022-01-22T10:00:45.820Z"
   },
   {
    "duration": 36,
    "start_time": "2022-01-22T10:00:45.837Z"
   },
   {
    "duration": 13,
    "start_time": "2022-01-22T10:00:45.875Z"
   },
   {
    "duration": 257,
    "start_time": "2022-01-22T10:00:45.889Z"
   },
   {
    "duration": 1376,
    "start_time": "2022-01-22T10:00:44.773Z"
   },
   {
    "duration": 1370,
    "start_time": "2022-01-22T10:00:44.780Z"
   },
   {
    "duration": 1366,
    "start_time": "2022-01-22T10:00:44.785Z"
   },
   {
    "duration": 1361,
    "start_time": "2022-01-22T10:00:44.791Z"
   },
   {
    "duration": 1356,
    "start_time": "2022-01-22T10:00:44.797Z"
   },
   {
    "duration": 1351,
    "start_time": "2022-01-22T10:00:44.803Z"
   },
   {
    "duration": 1347,
    "start_time": "2022-01-22T10:00:44.808Z"
   },
   {
    "duration": 1343,
    "start_time": "2022-01-22T10:00:44.813Z"
   },
   {
    "duration": 1338,
    "start_time": "2022-01-22T10:00:44.819Z"
   },
   {
    "duration": 1333,
    "start_time": "2022-01-22T10:00:44.825Z"
   },
   {
    "duration": 1329,
    "start_time": "2022-01-22T10:00:44.830Z"
   },
   {
    "duration": 1325,
    "start_time": "2022-01-22T10:00:44.835Z"
   },
   {
    "duration": 1320,
    "start_time": "2022-01-22T10:00:44.841Z"
   },
   {
    "duration": 1315,
    "start_time": "2022-01-22T10:00:44.847Z"
   },
   {
    "duration": 1310,
    "start_time": "2022-01-22T10:00:44.852Z"
   },
   {
    "duration": 1305,
    "start_time": "2022-01-22T10:00:44.858Z"
   },
   {
    "duration": 1300,
    "start_time": "2022-01-22T10:00:44.864Z"
   },
   {
    "duration": 1205,
    "start_time": "2022-01-22T10:00:44.960Z"
   },
   {
    "duration": 1201,
    "start_time": "2022-01-22T10:00:44.965Z"
   },
   {
    "duration": 1196,
    "start_time": "2022-01-22T10:00:44.971Z"
   },
   {
    "duration": 1185,
    "start_time": "2022-01-22T10:00:44.983Z"
   },
   {
    "duration": 1180,
    "start_time": "2022-01-22T10:00:44.989Z"
   },
   {
    "duration": 1175,
    "start_time": "2022-01-22T10:00:44.995Z"
   },
   {
    "duration": 1170,
    "start_time": "2022-01-22T10:00:45.001Z"
   },
   {
    "duration": 1166,
    "start_time": "2022-01-22T10:00:45.006Z"
   },
   {
    "duration": 1160,
    "start_time": "2022-01-22T10:00:45.013Z"
   },
   {
    "duration": 1155,
    "start_time": "2022-01-22T10:00:45.019Z"
   },
   {
    "duration": 1150,
    "start_time": "2022-01-22T10:00:45.025Z"
   },
   {
    "duration": 1144,
    "start_time": "2022-01-22T10:00:45.031Z"
   },
   {
    "duration": 1139,
    "start_time": "2022-01-22T10:00:45.037Z"
   },
   {
    "duration": 1134,
    "start_time": "2022-01-22T10:00:45.043Z"
   },
   {
    "duration": 1130,
    "start_time": "2022-01-22T10:00:45.048Z"
   },
   {
    "duration": 1125,
    "start_time": "2022-01-22T10:00:45.054Z"
   },
   {
    "duration": 1120,
    "start_time": "2022-01-22T10:00:45.060Z"
   },
   {
    "duration": 1090,
    "start_time": "2022-01-22T10:00:45.091Z"
   },
   {
    "duration": 1085,
    "start_time": "2022-01-22T10:00:45.097Z"
   },
   {
    "duration": 1079,
    "start_time": "2022-01-22T10:00:45.103Z"
   },
   {
    "duration": 1074,
    "start_time": "2022-01-22T10:00:45.109Z"
   },
   {
    "duration": 1069,
    "start_time": "2022-01-22T10:00:45.115Z"
   },
   {
    "duration": 1065,
    "start_time": "2022-01-22T10:00:45.120Z"
   },
   {
    "duration": 1060,
    "start_time": "2022-01-22T10:00:45.126Z"
   },
   {
    "duration": 1044,
    "start_time": "2022-01-22T10:00:45.143Z"
   },
   {
    "duration": 1039,
    "start_time": "2022-01-22T10:00:45.149Z"
   },
   {
    "duration": 1033,
    "start_time": "2022-01-22T10:00:45.155Z"
   },
   {
    "duration": 1029,
    "start_time": "2022-01-22T10:00:45.160Z"
   },
   {
    "duration": 1024,
    "start_time": "2022-01-22T10:00:45.166Z"
   },
   {
    "duration": 1020,
    "start_time": "2022-01-22T10:00:45.171Z"
   },
   {
    "duration": 1015,
    "start_time": "2022-01-22T10:00:45.177Z"
   },
   {
    "duration": 1011,
    "start_time": "2022-01-22T10:00:45.182Z"
   },
   {
    "duration": 978,
    "start_time": "2022-01-22T10:00:45.216Z"
   },
   {
    "duration": 970,
    "start_time": "2022-01-22T10:00:45.224Z"
   },
   {
    "duration": 966,
    "start_time": "2022-01-22T10:00:45.229Z"
   },
   {
    "duration": 961,
    "start_time": "2022-01-22T10:00:45.235Z"
   },
   {
    "duration": 942,
    "start_time": "2022-01-22T10:00:45.255Z"
   },
   {
    "duration": 936,
    "start_time": "2022-01-22T10:00:45.262Z"
   },
   {
    "duration": 920,
    "start_time": "2022-01-22T10:00:45.279Z"
   },
   {
    "duration": 5,
    "start_time": "2022-01-22T10:01:39.255Z"
   },
   {
    "duration": 7,
    "start_time": "2022-01-22T10:02:18.973Z"
   },
   {
    "duration": 7,
    "start_time": "2022-01-22T10:02:24.661Z"
   },
   {
    "duration": 4,
    "start_time": "2022-01-22T10:02:27.901Z"
   },
   {
    "duration": 5,
    "start_time": "2022-01-22T10:03:03.541Z"
   },
   {
    "duration": 336,
    "start_time": "2022-01-22T10:05:20.965Z"
   },
   {
    "duration": 8,
    "start_time": "2022-01-22T10:06:55.635Z"
   },
   {
    "duration": 12,
    "start_time": "2022-01-22T10:07:20.316Z"
   },
   {
    "duration": 29,
    "start_time": "2022-01-22T10:08:36.034Z"
   },
   {
    "duration": 28,
    "start_time": "2022-01-22T10:08:41.434Z"
   },
   {
    "duration": 83,
    "start_time": "2022-01-22T10:10:10.075Z"
   },
   {
    "duration": 22,
    "start_time": "2022-01-22T10:10:22.304Z"
   },
   {
    "duration": 13,
    "start_time": "2022-01-22T10:10:24.402Z"
   },
   {
    "duration": 2,
    "start_time": "2022-01-22T10:10:28.081Z"
   },
   {
    "duration": 49,
    "start_time": "2022-01-22T10:10:28.085Z"
   },
   {
    "duration": 12,
    "start_time": "2022-01-22T10:10:28.136Z"
   },
   {
    "duration": 10,
    "start_time": "2022-01-22T10:10:28.150Z"
   },
   {
    "duration": 33,
    "start_time": "2022-01-22T10:10:28.162Z"
   },
   {
    "duration": 9,
    "start_time": "2022-01-22T10:10:28.196Z"
   },
   {
    "duration": 5,
    "start_time": "2022-01-22T10:10:28.207Z"
   },
   {
    "duration": 4,
    "start_time": "2022-01-22T10:10:28.214Z"
   },
   {
    "duration": 9,
    "start_time": "2022-01-22T10:10:28.219Z"
   },
   {
    "duration": 61,
    "start_time": "2022-01-22T10:10:28.230Z"
   },
   {
    "duration": 13,
    "start_time": "2022-01-22T10:10:28.293Z"
   },
   {
    "duration": 5,
    "start_time": "2022-01-22T10:10:28.308Z"
   },
   {
    "duration": 8,
    "start_time": "2022-01-22T10:10:28.314Z"
   },
   {
    "duration": 48,
    "start_time": "2022-01-22T10:10:28.324Z"
   },
   {
    "duration": 37,
    "start_time": "2022-01-22T10:10:28.373Z"
   },
   {
    "duration": 4,
    "start_time": "2022-01-22T10:10:28.412Z"
   },
   {
    "duration": 7,
    "start_time": "2022-01-22T10:10:28.417Z"
   },
   {
    "duration": 12,
    "start_time": "2022-01-22T10:10:28.426Z"
   },
   {
    "duration": 14,
    "start_time": "2022-01-22T10:10:28.473Z"
   },
   {
    "duration": 15,
    "start_time": "2022-01-22T10:10:28.490Z"
   },
   {
    "duration": 14,
    "start_time": "2022-01-22T10:10:28.507Z"
   },
   {
    "duration": 9,
    "start_time": "2022-01-22T10:10:28.523Z"
   },
   {
    "duration": 42,
    "start_time": "2022-01-22T10:10:28.534Z"
   },
   {
    "duration": 16,
    "start_time": "2022-01-22T10:10:28.577Z"
   },
   {
    "duration": 15,
    "start_time": "2022-01-22T10:10:28.594Z"
   },
   {
    "duration": 9,
    "start_time": "2022-01-22T10:10:28.610Z"
   },
   {
    "duration": 18,
    "start_time": "2022-01-22T10:10:28.621Z"
   },
   {
    "duration": 35,
    "start_time": "2022-01-22T10:10:28.641Z"
   },
   {
    "duration": 3205,
    "start_time": "2022-01-22T10:10:28.678Z"
   },
   {
    "duration": 3,
    "start_time": "2022-01-22T10:10:31.885Z"
   },
   {
    "duration": 24,
    "start_time": "2022-01-22T10:10:31.889Z"
   },
   {
    "duration": 6,
    "start_time": "2022-01-22T10:10:31.915Z"
   },
   {
    "duration": 9,
    "start_time": "2022-01-22T10:10:31.922Z"
   },
   {
    "duration": 4,
    "start_time": "2022-01-22T10:10:31.932Z"
   },
   {
    "duration": 41,
    "start_time": "2022-01-22T10:10:31.937Z"
   },
   {
    "duration": 16,
    "start_time": "2022-01-22T10:10:31.979Z"
   },
   {
    "duration": 7,
    "start_time": "2022-01-22T10:10:31.997Z"
   },
   {
    "duration": 12,
    "start_time": "2022-01-22T10:10:32.005Z"
   },
   {
    "duration": 9,
    "start_time": "2022-01-22T10:10:32.018Z"
   },
   {
    "duration": 21,
    "start_time": "2022-01-22T10:10:32.029Z"
   },
   {
    "duration": 26,
    "start_time": "2022-01-22T10:10:32.051Z"
   },
   {
    "duration": 11,
    "start_time": "2022-01-22T10:10:32.079Z"
   },
   {
    "duration": 5,
    "start_time": "2022-01-22T10:10:32.091Z"
   },
   {
    "duration": 15,
    "start_time": "2022-01-22T10:10:32.097Z"
   },
   {
    "duration": 7,
    "start_time": "2022-01-22T10:10:32.113Z"
   },
   {
    "duration": 26,
    "start_time": "2022-01-22T10:10:32.121Z"
   },
   {
    "duration": 6,
    "start_time": "2022-01-22T10:10:32.172Z"
   },
   {
    "duration": 6,
    "start_time": "2022-01-22T10:10:32.179Z"
   },
   {
    "duration": 17,
    "start_time": "2022-01-22T10:10:32.187Z"
   },
   {
    "duration": 4,
    "start_time": "2022-01-22T10:10:32.205Z"
   },
   {
    "duration": 11,
    "start_time": "2022-01-22T10:10:32.210Z"
   },
   {
    "duration": 14,
    "start_time": "2022-01-22T10:10:32.222Z"
   },
   {
    "duration": 12,
    "start_time": "2022-01-22T10:10:32.237Z"
   },
   {
    "duration": 35,
    "start_time": "2022-01-22T10:10:32.250Z"
   },
   {
    "duration": 7,
    "start_time": "2022-01-22T10:10:32.288Z"
   },
   {
    "duration": 12,
    "start_time": "2022-01-22T10:10:32.296Z"
   },
   {
    "duration": 11,
    "start_time": "2022-01-22T10:10:32.309Z"
   },
   {
    "duration": 23,
    "start_time": "2022-01-22T10:10:32.321Z"
   },
   {
    "duration": 7,
    "start_time": "2022-01-22T10:10:32.346Z"
   },
   {
    "duration": 9,
    "start_time": "2022-01-22T10:10:32.372Z"
   },
   {
    "duration": 7,
    "start_time": "2022-01-22T10:10:32.383Z"
   },
   {
    "duration": 19,
    "start_time": "2022-01-22T10:10:32.392Z"
   },
   {
    "duration": 11,
    "start_time": "2022-01-22T10:10:32.412Z"
   },
   {
    "duration": 10,
    "start_time": "2022-01-22T10:10:32.425Z"
   },
   {
    "duration": 8,
    "start_time": "2022-01-22T10:10:32.436Z"
   },
   {
    "duration": 30,
    "start_time": "2022-01-22T10:10:32.445Z"
   },
   {
    "duration": 10,
    "start_time": "2022-01-22T10:10:32.476Z"
   },
   {
    "duration": 21,
    "start_time": "2022-01-22T10:10:47.782Z"
   },
   {
    "duration": 1412,
    "start_time": "2022-01-22T10:11:26.202Z"
   },
   {
    "duration": 1407,
    "start_time": "2022-01-22T10:11:26.208Z"
   },
   {
    "duration": 1402,
    "start_time": "2022-01-22T10:11:26.214Z"
   },
   {
    "duration": 1398,
    "start_time": "2022-01-22T10:11:26.219Z"
   },
   {
    "duration": 1392,
    "start_time": "2022-01-22T10:11:26.225Z"
   },
   {
    "duration": 1387,
    "start_time": "2022-01-22T10:11:26.231Z"
   },
   {
    "duration": 1382,
    "start_time": "2022-01-22T10:11:26.237Z"
   },
   {
    "duration": 1377,
    "start_time": "2022-01-22T10:11:26.243Z"
   },
   {
    "duration": 1372,
    "start_time": "2022-01-22T10:11:26.249Z"
   },
   {
    "duration": 1368,
    "start_time": "2022-01-22T10:11:26.254Z"
   },
   {
    "duration": 1362,
    "start_time": "2022-01-22T10:11:26.260Z"
   },
   {
    "duration": 1357,
    "start_time": "2022-01-22T10:11:26.266Z"
   },
   {
    "duration": 1353,
    "start_time": "2022-01-22T10:11:26.271Z"
   },
   {
    "duration": 1348,
    "start_time": "2022-01-22T10:11:26.277Z"
   },
   {
    "duration": 1343,
    "start_time": "2022-01-22T10:11:26.283Z"
   },
   {
    "duration": 1328,
    "start_time": "2022-01-22T10:11:26.298Z"
   },
   {
    "duration": 1323,
    "start_time": "2022-01-22T10:11:26.304Z"
   },
   {
    "duration": 1319,
    "start_time": "2022-01-22T10:11:26.309Z"
   },
   {
    "duration": 1314,
    "start_time": "2022-01-22T10:11:26.315Z"
   },
   {
    "duration": 1310,
    "start_time": "2022-01-22T10:11:26.320Z"
   },
   {
    "duration": 1304,
    "start_time": "2022-01-22T10:11:26.326Z"
   },
   {
    "duration": 1300,
    "start_time": "2022-01-22T10:11:26.331Z"
   },
   {
    "duration": 1296,
    "start_time": "2022-01-22T10:11:26.337Z"
   },
   {
    "duration": 1291,
    "start_time": "2022-01-22T10:11:26.342Z"
   },
   {
    "duration": 1286,
    "start_time": "2022-01-22T10:11:26.348Z"
   },
   {
    "duration": 1281,
    "start_time": "2022-01-22T10:11:26.354Z"
   },
   {
    "duration": 1276,
    "start_time": "2022-01-22T10:11:26.360Z"
   },
   {
    "duration": 1272,
    "start_time": "2022-01-22T10:11:26.365Z"
   },
   {
    "duration": 1267,
    "start_time": "2022-01-22T10:11:26.371Z"
   },
   {
    "duration": 1263,
    "start_time": "2022-01-22T10:11:26.376Z"
   },
   {
    "duration": 1258,
    "start_time": "2022-01-22T10:11:26.381Z"
   },
   {
    "duration": 1250,
    "start_time": "2022-01-22T10:11:26.390Z"
   },
   {
    "duration": 1246,
    "start_time": "2022-01-22T10:11:26.395Z"
   },
   {
    "duration": 1234,
    "start_time": "2022-01-22T10:11:26.408Z"
   },
   {
    "duration": 1228,
    "start_time": "2022-01-22T10:11:26.414Z"
   },
   {
    "duration": 1224,
    "start_time": "2022-01-22T10:11:26.419Z"
   },
   {
    "duration": 1219,
    "start_time": "2022-01-22T10:11:26.425Z"
   },
   {
    "duration": 1214,
    "start_time": "2022-01-22T10:11:26.431Z"
   },
   {
    "duration": 1210,
    "start_time": "2022-01-22T10:11:26.436Z"
   },
   {
    "duration": 1205,
    "start_time": "2022-01-22T10:11:26.442Z"
   },
   {
    "duration": 1200,
    "start_time": "2022-01-22T10:11:26.447Z"
   },
   {
    "duration": 1196,
    "start_time": "2022-01-22T10:11:26.452Z"
   },
   {
    "duration": 1191,
    "start_time": "2022-01-22T10:11:26.458Z"
   },
   {
    "duration": 1187,
    "start_time": "2022-01-22T10:11:26.463Z"
   },
   {
    "duration": 1181,
    "start_time": "2022-01-22T10:11:26.470Z"
   },
   {
    "duration": 1177,
    "start_time": "2022-01-22T10:11:26.475Z"
   },
   {
    "duration": 1173,
    "start_time": "2022-01-22T10:11:26.480Z"
   },
   {
    "duration": 1169,
    "start_time": "2022-01-22T10:11:26.485Z"
   },
   {
    "duration": 1180,
    "start_time": "2022-01-22T10:11:26.491Z"
   },
   {
    "duration": 1176,
    "start_time": "2022-01-22T10:11:26.496Z"
   },
   {
    "duration": 1172,
    "start_time": "2022-01-22T10:11:26.501Z"
   },
   {
    "duration": 1168,
    "start_time": "2022-01-22T10:11:26.506Z"
   },
   {
    "duration": 1153,
    "start_time": "2022-01-22T10:11:26.522Z"
   },
   {
    "duration": 1148,
    "start_time": "2022-01-22T10:11:26.527Z"
   },
   {
    "duration": 1143,
    "start_time": "2022-01-22T10:11:26.533Z"
   },
   {
    "duration": 1138,
    "start_time": "2022-01-22T10:11:26.539Z"
   },
   {
    "duration": 1133,
    "start_time": "2022-01-22T10:11:26.545Z"
   },
   {
    "duration": 1128,
    "start_time": "2022-01-22T10:11:26.550Z"
   },
   {
    "duration": 1123,
    "start_time": "2022-01-22T10:11:26.556Z"
   },
   {
    "duration": 1119,
    "start_time": "2022-01-22T10:11:26.561Z"
   },
   {
    "duration": 1115,
    "start_time": "2022-01-22T10:11:26.566Z"
   },
   {
    "duration": 1096,
    "start_time": "2022-01-22T10:11:26.586Z"
   },
   {
    "duration": 1090,
    "start_time": "2022-01-22T10:11:26.593Z"
   },
   {
    "duration": 1079,
    "start_time": "2022-01-22T10:11:26.605Z"
   },
   {
    "duration": 1073,
    "start_time": "2022-01-22T10:11:26.612Z"
   },
   {
    "duration": 1060,
    "start_time": "2022-01-22T10:11:26.625Z"
   },
   {
    "duration": 1048,
    "start_time": "2022-01-22T10:11:26.638Z"
   },
   {
    "duration": 13,
    "start_time": "2022-01-22T10:11:48.984Z"
   },
   {
    "duration": 21,
    "start_time": "2022-01-22T10:11:58.240Z"
   },
   {
    "duration": 6914,
    "start_time": "2022-01-22T10:12:01.992Z"
   },
   {
    "duration": 1385,
    "start_time": "2022-01-22T10:12:07.523Z"
   },
   {
    "duration": 7038,
    "start_time": "2022-01-22T10:12:22.993Z"
   },
   {
    "duration": 2,
    "start_time": "2022-01-22T10:12:37.048Z"
   },
   {
    "duration": 60,
    "start_time": "2022-01-22T10:12:37.052Z"
   },
   {
    "duration": 11,
    "start_time": "2022-01-22T10:12:37.114Z"
   },
   {
    "duration": 21,
    "start_time": "2022-01-22T10:12:37.127Z"
   },
   {
    "duration": 36,
    "start_time": "2022-01-22T10:12:37.150Z"
   },
   {
    "duration": 9,
    "start_time": "2022-01-22T10:12:37.187Z"
   },
   {
    "duration": 8,
    "start_time": "2022-01-22T10:12:37.198Z"
   },
   {
    "duration": 27,
    "start_time": "2022-01-22T10:12:37.207Z"
   },
   {
    "duration": 17,
    "start_time": "2022-01-22T10:12:37.235Z"
   },
   {
    "duration": 31,
    "start_time": "2022-01-22T10:12:37.253Z"
   },
   {
    "duration": 25,
    "start_time": "2022-01-22T10:12:37.285Z"
   },
   {
    "duration": 20,
    "start_time": "2022-01-22T10:12:37.312Z"
   },
   {
    "duration": 6856,
    "start_time": "2022-01-22T10:12:37.334Z"
   },
   {
    "duration": 1387,
    "start_time": "2022-01-22T10:12:42.807Z"
   },
   {
    "duration": 1384,
    "start_time": "2022-01-22T10:12:42.812Z"
   },
   {
    "duration": 1379,
    "start_time": "2022-01-22T10:12:42.818Z"
   },
   {
    "duration": 1375,
    "start_time": "2022-01-22T10:12:42.823Z"
   },
   {
    "duration": 1371,
    "start_time": "2022-01-22T10:12:42.829Z"
   },
   {
    "duration": 1366,
    "start_time": "2022-01-22T10:12:42.835Z"
   },
   {
    "duration": 1362,
    "start_time": "2022-01-22T10:12:42.840Z"
   },
   {
    "duration": 1358,
    "start_time": "2022-01-22T10:12:42.846Z"
   },
   {
    "duration": 1353,
    "start_time": "2022-01-22T10:12:42.852Z"
   },
   {
    "duration": 1323,
    "start_time": "2022-01-22T10:12:42.884Z"
   },
   {
    "duration": 1318,
    "start_time": "2022-01-22T10:12:42.890Z"
   },
   {
    "duration": 1313,
    "start_time": "2022-01-22T10:12:42.896Z"
   },
   {
    "duration": 1308,
    "start_time": "2022-01-22T10:12:42.903Z"
   },
   {
    "duration": 1303,
    "start_time": "2022-01-22T10:12:42.909Z"
   },
   {
    "duration": 1300,
    "start_time": "2022-01-22T10:12:42.914Z"
   },
   {
    "duration": 1295,
    "start_time": "2022-01-22T10:12:42.920Z"
   },
   {
    "duration": 1291,
    "start_time": "2022-01-22T10:12:42.925Z"
   },
   {
    "duration": 1287,
    "start_time": "2022-01-22T10:12:42.931Z"
   },
   {
    "duration": 1283,
    "start_time": "2022-01-22T10:12:42.936Z"
   },
   {
    "duration": 1277,
    "start_time": "2022-01-22T10:12:42.943Z"
   },
   {
    "duration": 1274,
    "start_time": "2022-01-22T10:12:42.948Z"
   },
   {
    "duration": 1269,
    "start_time": "2022-01-22T10:12:42.954Z"
   },
   {
    "duration": 1266,
    "start_time": "2022-01-22T10:12:42.959Z"
   },
   {
    "duration": 1260,
    "start_time": "2022-01-22T10:12:42.966Z"
   },
   {
    "duration": 1256,
    "start_time": "2022-01-22T10:12:42.971Z"
   },
   {
    "duration": 1252,
    "start_time": "2022-01-22T10:12:42.977Z"
   },
   {
    "duration": 1240,
    "start_time": "2022-01-22T10:12:42.990Z"
   },
   {
    "duration": 1236,
    "start_time": "2022-01-22T10:12:42.996Z"
   },
   {
    "duration": 1232,
    "start_time": "2022-01-22T10:12:43.001Z"
   },
   {
    "duration": 1227,
    "start_time": "2022-01-22T10:12:43.007Z"
   },
   {
    "duration": 1259,
    "start_time": "2022-01-22T10:12:43.012Z"
   },
   {
    "duration": 1255,
    "start_time": "2022-01-22T10:12:43.018Z"
   },
   {
    "duration": 1251,
    "start_time": "2022-01-22T10:12:43.023Z"
   },
   {
    "duration": 1246,
    "start_time": "2022-01-22T10:12:43.029Z"
   },
   {
    "duration": 1243,
    "start_time": "2022-01-22T10:12:43.034Z"
   },
   {
    "duration": 1238,
    "start_time": "2022-01-22T10:12:43.040Z"
   },
   {
    "duration": 1235,
    "start_time": "2022-01-22T10:12:43.045Z"
   },
   {
    "duration": 1231,
    "start_time": "2022-01-22T10:12:43.050Z"
   },
   {
    "duration": 1227,
    "start_time": "2022-01-22T10:12:43.055Z"
   },
   {
    "duration": 1223,
    "start_time": "2022-01-22T10:12:43.061Z"
   },
   {
    "duration": 1219,
    "start_time": "2022-01-22T10:12:43.066Z"
   },
   {
    "duration": 1215,
    "start_time": "2022-01-22T10:12:43.071Z"
   },
   {
    "duration": 1211,
    "start_time": "2022-01-22T10:12:43.076Z"
   },
   {
    "duration": 1206,
    "start_time": "2022-01-22T10:12:43.082Z"
   },
   {
    "duration": 1202,
    "start_time": "2022-01-22T10:12:43.087Z"
   },
   {
    "duration": 1189,
    "start_time": "2022-01-22T10:12:43.101Z"
   },
   {
    "duration": 1185,
    "start_time": "2022-01-22T10:12:43.106Z"
   },
   {
    "duration": 1180,
    "start_time": "2022-01-22T10:12:43.112Z"
   },
   {
    "duration": 1176,
    "start_time": "2022-01-22T10:12:43.117Z"
   },
   {
    "duration": 1171,
    "start_time": "2022-01-22T10:12:43.123Z"
   },
   {
    "duration": 1166,
    "start_time": "2022-01-22T10:12:43.128Z"
   },
   {
    "duration": 1161,
    "start_time": "2022-01-22T10:12:43.134Z"
   },
   {
    "duration": 1157,
    "start_time": "2022-01-22T10:12:43.139Z"
   },
   {
    "duration": 1153,
    "start_time": "2022-01-22T10:12:43.144Z"
   },
   {
    "duration": 1148,
    "start_time": "2022-01-22T10:12:43.150Z"
   },
   {
    "duration": 4,
    "start_time": "2022-01-22T10:12:58.985Z"
   },
   {
    "duration": 9,
    "start_time": "2022-01-22T10:14:19.044Z"
   },
   {
    "duration": 12,
    "start_time": "2022-01-22T10:14:28.247Z"
   },
   {
    "duration": 487,
    "start_time": "2022-01-22T10:15:05.039Z"
   },
   {
    "duration": 393,
    "start_time": "2022-01-22T10:15:26.208Z"
   },
   {
    "duration": 12,
    "start_time": "2022-01-22T10:15:28.007Z"
   },
   {
    "duration": 2,
    "start_time": "2022-01-22T10:16:15.647Z"
   },
   {
    "duration": 55,
    "start_time": "2022-01-22T10:16:15.651Z"
   },
   {
    "duration": 14,
    "start_time": "2022-01-22T10:16:15.708Z"
   },
   {
    "duration": 14,
    "start_time": "2022-01-22T10:16:15.724Z"
   },
   {
    "duration": 68,
    "start_time": "2022-01-22T10:16:15.740Z"
   },
   {
    "duration": 9,
    "start_time": "2022-01-22T10:16:15.811Z"
   },
   {
    "duration": 6,
    "start_time": "2022-01-22T10:16:15.823Z"
   },
   {
    "duration": 6,
    "start_time": "2022-01-22T10:16:15.832Z"
   },
   {
    "duration": 16,
    "start_time": "2022-01-22T10:16:15.871Z"
   },
   {
    "duration": 9,
    "start_time": "2022-01-22T10:16:15.889Z"
   },
   {
    "duration": 4,
    "start_time": "2022-01-22T10:16:15.900Z"
   },
   {
    "duration": 20,
    "start_time": "2022-01-22T10:16:15.907Z"
   },
   {
    "duration": 50,
    "start_time": "2022-01-22T10:16:15.929Z"
   },
   {
    "duration": 22,
    "start_time": "2022-01-22T10:16:15.981Z"
   },
   {
    "duration": 5,
    "start_time": "2022-01-22T10:16:16.005Z"
   },
   {
    "duration": 6,
    "start_time": "2022-01-22T10:16:16.012Z"
   },
   {
    "duration": 68,
    "start_time": "2022-01-22T10:16:16.020Z"
   },
   {
    "duration": 42,
    "start_time": "2022-01-22T10:16:16.090Z"
   },
   {
    "duration": 4,
    "start_time": "2022-01-22T10:16:16.136Z"
   },
   {
    "duration": 297,
    "start_time": "2022-01-22T10:16:16.143Z"
   },
   {
    "duration": 702,
    "start_time": "2022-01-22T10:16:15.741Z"
   },
   {
    "duration": 697,
    "start_time": "2022-01-22T10:16:15.747Z"
   },
   {
    "duration": 693,
    "start_time": "2022-01-22T10:16:15.752Z"
   },
   {
    "duration": 688,
    "start_time": "2022-01-22T10:16:15.758Z"
   },
   {
    "duration": 683,
    "start_time": "2022-01-22T10:16:15.764Z"
   },
   {
    "duration": 679,
    "start_time": "2022-01-22T10:16:15.769Z"
   },
   {
    "duration": 674,
    "start_time": "2022-01-22T10:16:15.775Z"
   },
   {
    "duration": 669,
    "start_time": "2022-01-22T10:16:15.781Z"
   },
   {
    "duration": 665,
    "start_time": "2022-01-22T10:16:15.786Z"
   },
   {
    "duration": 660,
    "start_time": "2022-01-22T10:16:15.792Z"
   },
   {
    "duration": 634,
    "start_time": "2022-01-22T10:16:15.819Z"
   },
   {
    "duration": 628,
    "start_time": "2022-01-22T10:16:15.826Z"
   },
   {
    "duration": 613,
    "start_time": "2022-01-22T10:16:15.842Z"
   },
   {
    "duration": 597,
    "start_time": "2022-01-22T10:16:15.859Z"
   },
   {
    "duration": 582,
    "start_time": "2022-01-22T10:16:15.875Z"
   },
   {
    "duration": 566,
    "start_time": "2022-01-22T10:16:15.892Z"
   },
   {
    "duration": 551,
    "start_time": "2022-01-22T10:16:15.908Z"
   },
   {
    "duration": 536,
    "start_time": "2022-01-22T10:16:15.924Z"
   },
   {
    "duration": 520,
    "start_time": "2022-01-22T10:16:15.941Z"
   },
   {
    "duration": 505,
    "start_time": "2022-01-22T10:16:15.957Z"
   },
   {
    "duration": 490,
    "start_time": "2022-01-22T10:16:15.973Z"
   },
   {
    "duration": 471,
    "start_time": "2022-01-22T10:16:15.993Z"
   },
   {
    "duration": 456,
    "start_time": "2022-01-22T10:16:16.008Z"
   },
   {
    "duration": 440,
    "start_time": "2022-01-22T10:16:16.025Z"
   },
   {
    "duration": 425,
    "start_time": "2022-01-22T10:16:16.041Z"
   },
   {
    "duration": 410,
    "start_time": "2022-01-22T10:16:16.057Z"
   },
   {
    "duration": 394,
    "start_time": "2022-01-22T10:16:16.074Z"
   },
   {
    "duration": 378,
    "start_time": "2022-01-22T10:16:16.091Z"
   },
   {
    "duration": 373,
    "start_time": "2022-01-22T10:16:16.097Z"
   },
   {
    "duration": 369,
    "start_time": "2022-01-22T10:16:16.102Z"
   },
   {
    "duration": 364,
    "start_time": "2022-01-22T10:16:16.108Z"
   },
   {
    "duration": 358,
    "start_time": "2022-01-22T10:16:16.114Z"
   },
   {
    "duration": 354,
    "start_time": "2022-01-22T10:16:16.119Z"
   },
   {
    "duration": 351,
    "start_time": "2022-01-22T10:16:16.124Z"
   },
   {
    "duration": 345,
    "start_time": "2022-01-22T10:16:16.130Z"
   },
   {
    "duration": 342,
    "start_time": "2022-01-22T10:16:16.135Z"
   },
   {
    "duration": 338,
    "start_time": "2022-01-22T10:16:16.140Z"
   },
   {
    "duration": 332,
    "start_time": "2022-01-22T10:16:16.146Z"
   },
   {
    "duration": 328,
    "start_time": "2022-01-22T10:16:16.151Z"
   },
   {
    "duration": 324,
    "start_time": "2022-01-22T10:16:16.156Z"
   },
   {
    "duration": 320,
    "start_time": "2022-01-22T10:16:16.161Z"
   },
   {
    "duration": 316,
    "start_time": "2022-01-22T10:16:16.167Z"
   },
   {
    "duration": 312,
    "start_time": "2022-01-22T10:16:16.172Z"
   },
   {
    "duration": 307,
    "start_time": "2022-01-22T10:16:16.178Z"
   },
   {
    "duration": 304,
    "start_time": "2022-01-22T10:16:16.183Z"
   },
   {
    "duration": 286,
    "start_time": "2022-01-22T10:16:16.202Z"
   },
   {
    "duration": 281,
    "start_time": "2022-01-22T10:16:16.208Z"
   },
   {
    "duration": 277,
    "start_time": "2022-01-22T10:16:16.214Z"
   },
   {
    "duration": 273,
    "start_time": "2022-01-22T10:16:16.219Z"
   },
   {
    "duration": 252,
    "start_time": "2022-01-22T10:16:16.241Z"
   },
   {
    "duration": 10,
    "start_time": "2022-01-22T10:16:32.927Z"
   },
   {
    "duration": 3,
    "start_time": "2022-01-22T10:19:18.606Z"
   },
   {
    "duration": 3754,
    "start_time": "2022-01-22T10:19:45.902Z"
   },
   {
    "duration": 3,
    "start_time": "2022-01-22T10:19:49.869Z"
   },
   {
    "duration": 4407,
    "start_time": "2022-01-22T10:19:50.941Z"
   },
   {
    "duration": 2,
    "start_time": "2022-01-22T10:20:26.917Z"
   },
   {
    "duration": 69,
    "start_time": "2022-01-22T10:20:28.214Z"
   },
   {
    "duration": 3,
    "start_time": "2022-01-22T10:20:58.060Z"
   },
   {
    "duration": 18,
    "start_time": "2022-01-22T10:20:58.725Z"
   },
   {
    "duration": 3,
    "start_time": "2022-01-22T10:21:02.108Z"
   },
   {
    "duration": 20,
    "start_time": "2022-01-22T10:21:02.837Z"
   },
   {
    "duration": 130,
    "start_time": "2022-01-22T10:24:50.210Z"
   },
   {
    "duration": 4,
    "start_time": "2022-01-22T10:24:58.490Z"
   },
   {
    "duration": 3,
    "start_time": "2022-01-22T10:25:28.426Z"
   },
   {
    "duration": 3,
    "start_time": "2022-01-22T10:25:57.059Z"
   },
   {
    "duration": 28,
    "start_time": "2022-01-22T10:25:58.099Z"
   },
   {
    "duration": 2,
    "start_time": "2022-01-22T10:26:09.673Z"
   },
   {
    "duration": 46,
    "start_time": "2022-01-22T10:26:09.678Z"
   },
   {
    "duration": 11,
    "start_time": "2022-01-22T10:26:09.726Z"
   },
   {
    "duration": 12,
    "start_time": "2022-01-22T10:26:09.739Z"
   },
   {
    "duration": 43,
    "start_time": "2022-01-22T10:26:09.753Z"
   },
   {
    "duration": 8,
    "start_time": "2022-01-22T10:26:09.797Z"
   },
   {
    "duration": 5,
    "start_time": "2022-01-22T10:26:09.806Z"
   },
   {
    "duration": 5,
    "start_time": "2022-01-22T10:26:09.813Z"
   },
   {
    "duration": 8,
    "start_time": "2022-01-22T10:26:09.821Z"
   },
   {
    "duration": 41,
    "start_time": "2022-01-22T10:26:09.831Z"
   },
   {
    "duration": 3,
    "start_time": "2022-01-22T10:26:09.873Z"
   },
   {
    "duration": 15,
    "start_time": "2022-01-22T10:26:09.877Z"
   },
   {
    "duration": 3,
    "start_time": "2022-01-22T10:26:09.893Z"
   },
   {
    "duration": 35,
    "start_time": "2022-01-22T10:26:09.897Z"
   },
   {
    "duration": 4,
    "start_time": "2022-01-22T10:26:09.934Z"
   },
   {
    "duration": 32,
    "start_time": "2022-01-22T10:26:09.940Z"
   },
   {
    "duration": 20,
    "start_time": "2022-01-22T10:26:09.974Z"
   },
   {
    "duration": 40,
    "start_time": "2022-01-22T10:26:09.995Z"
   },
   {
    "duration": 35,
    "start_time": "2022-01-22T10:26:10.037Z"
   },
   {
    "duration": 260,
    "start_time": "2022-01-22T10:26:10.074Z"
   },
   {
    "duration": 654,
    "start_time": "2022-01-22T10:26:09.683Z"
   },
   {
    "duration": 648,
    "start_time": "2022-01-22T10:26:09.690Z"
   },
   {
    "duration": 644,
    "start_time": "2022-01-22T10:26:09.695Z"
   },
   {
    "duration": 639,
    "start_time": "2022-01-22T10:26:09.701Z"
   },
   {
    "duration": 624,
    "start_time": "2022-01-22T10:26:09.717Z"
   },
   {
    "duration": 617,
    "start_time": "2022-01-22T10:26:09.724Z"
   },
   {
    "duration": 612,
    "start_time": "2022-01-22T10:26:09.730Z"
   },
   {
    "duration": 607,
    "start_time": "2022-01-22T10:26:09.736Z"
   },
   {
    "duration": 603,
    "start_time": "2022-01-22T10:26:09.741Z"
   },
   {
    "duration": 597,
    "start_time": "2022-01-22T10:26:09.748Z"
   },
   {
    "duration": 592,
    "start_time": "2022-01-22T10:26:09.754Z"
   },
   {
    "duration": 587,
    "start_time": "2022-01-22T10:26:09.760Z"
   },
   {
    "duration": 583,
    "start_time": "2022-01-22T10:26:09.765Z"
   },
   {
    "duration": 577,
    "start_time": "2022-01-22T10:26:09.771Z"
   },
   {
    "duration": 574,
    "start_time": "2022-01-22T10:26:09.776Z"
   },
   {
    "duration": 568,
    "start_time": "2022-01-22T10:26:09.782Z"
   },
   {
    "duration": 563,
    "start_time": "2022-01-22T10:26:09.788Z"
   },
   {
    "duration": 556,
    "start_time": "2022-01-22T10:26:09.796Z"
   },
   {
    "duration": 551,
    "start_time": "2022-01-22T10:26:09.802Z"
   },
   {
    "duration": 546,
    "start_time": "2022-01-22T10:26:09.808Z"
   },
   {
    "duration": 541,
    "start_time": "2022-01-22T10:26:09.814Z"
   },
   {
    "duration": 522,
    "start_time": "2022-01-22T10:26:09.833Z"
   },
   {
    "duration": 509,
    "start_time": "2022-01-22T10:26:09.847Z"
   },
   {
    "duration": 492,
    "start_time": "2022-01-22T10:26:09.865Z"
   },
   {
    "duration": 477,
    "start_time": "2022-01-22T10:26:09.881Z"
   },
   {
    "duration": 453,
    "start_time": "2022-01-22T10:26:09.906Z"
   },
   {
    "duration": 447,
    "start_time": "2022-01-22T10:26:09.913Z"
   },
   {
    "duration": 431,
    "start_time": "2022-01-22T10:26:09.930Z"
   },
   {
    "duration": 414,
    "start_time": "2022-01-22T10:26:09.947Z"
   },
   {
    "duration": 399,
    "start_time": "2022-01-22T10:26:09.964Z"
   },
   {
    "duration": 383,
    "start_time": "2022-01-22T10:26:09.981Z"
   },
   {
    "duration": 366,
    "start_time": "2022-01-22T10:26:09.998Z"
   },
   {
    "duration": 361,
    "start_time": "2022-01-22T10:26:10.004Z"
   },
   {
    "duration": 355,
    "start_time": "2022-01-22T10:26:10.011Z"
   },
   {
    "duration": 351,
    "start_time": "2022-01-22T10:26:10.016Z"
   },
   {
    "duration": 346,
    "start_time": "2022-01-22T10:26:10.022Z"
   },
   {
    "duration": 341,
    "start_time": "2022-01-22T10:26:10.027Z"
   },
   {
    "duration": 336,
    "start_time": "2022-01-22T10:26:10.033Z"
   },
   {
    "duration": 332,
    "start_time": "2022-01-22T10:26:10.038Z"
   },
   {
    "duration": 326,
    "start_time": "2022-01-22T10:26:10.045Z"
   },
   {
    "duration": 321,
    "start_time": "2022-01-22T10:26:10.051Z"
   },
   {
    "duration": 316,
    "start_time": "2022-01-22T10:26:10.056Z"
   },
   {
    "duration": 312,
    "start_time": "2022-01-22T10:26:10.062Z"
   },
   {
    "duration": 307,
    "start_time": "2022-01-22T10:26:10.068Z"
   },
   {
    "duration": 302,
    "start_time": "2022-01-22T10:26:10.073Z"
   },
   {
    "duration": 298,
    "start_time": "2022-01-22T10:26:10.078Z"
   },
   {
    "duration": 293,
    "start_time": "2022-01-22T10:26:10.084Z"
   },
   {
    "duration": 289,
    "start_time": "2022-01-22T10:26:10.089Z"
   },
   {
    "duration": 283,
    "start_time": "2022-01-22T10:26:10.095Z"
   },
   {
    "duration": 264,
    "start_time": "2022-01-22T10:26:10.115Z"
   },
   {
    "duration": 4,
    "start_time": "2022-01-22T10:26:24.002Z"
   },
   {
    "duration": 17,
    "start_time": "2022-01-22T10:26:25.611Z"
   },
   {
    "duration": 86,
    "start_time": "2022-01-22T10:26:52.208Z"
   },
   {
    "duration": 88,
    "start_time": "2022-01-22T10:26:58.120Z"
   },
   {
    "duration": 81,
    "start_time": "2022-01-22T10:27:15.041Z"
   },
   {
    "duration": 3,
    "start_time": "2022-01-22T10:35:07.453Z"
   },
   {
    "duration": 4548,
    "start_time": "2022-01-22T10:35:08.229Z"
   },
   {
    "duration": 2,
    "start_time": "2022-01-22T10:35:35.574Z"
   },
   {
    "duration": 55,
    "start_time": "2022-01-22T10:35:35.578Z"
   },
   {
    "duration": 11,
    "start_time": "2022-01-22T10:35:35.635Z"
   },
   {
    "duration": 12,
    "start_time": "2022-01-22T10:35:35.647Z"
   },
   {
    "duration": 34,
    "start_time": "2022-01-22T10:35:35.661Z"
   },
   {
    "duration": 9,
    "start_time": "2022-01-22T10:35:35.697Z"
   },
   {
    "duration": 6,
    "start_time": "2022-01-22T10:35:35.708Z"
   },
   {
    "duration": 5,
    "start_time": "2022-01-22T10:35:35.715Z"
   },
   {
    "duration": 14,
    "start_time": "2022-01-22T10:35:35.722Z"
   },
   {
    "duration": 3,
    "start_time": "2022-01-22T10:35:35.737Z"
   },
   {
    "duration": 32,
    "start_time": "2022-01-22T10:35:35.742Z"
   },
   {
    "duration": 4,
    "start_time": "2022-01-22T10:35:35.776Z"
   },
   {
    "duration": 35,
    "start_time": "2022-01-22T10:35:35.782Z"
   },
   {
    "duration": 4,
    "start_time": "2022-01-22T10:35:35.819Z"
   },
   {
    "duration": 4,
    "start_time": "2022-01-22T10:35:35.825Z"
   },
   {
    "duration": 52,
    "start_time": "2022-01-22T10:35:35.830Z"
   },
   {
    "duration": 36,
    "start_time": "2022-01-22T10:35:35.884Z"
   },
   {
    "duration": 3,
    "start_time": "2022-01-22T10:35:35.922Z"
   },
   {
    "duration": 2458,
    "start_time": "2022-01-22T10:35:35.927Z"
   },
   {
    "duration": 1383,
    "start_time": "2022-01-22T10:35:37.005Z"
   },
   {
    "duration": 1367,
    "start_time": "2022-01-22T10:35:37.023Z"
   },
   {
    "duration": 1352,
    "start_time": "2022-01-22T10:35:37.039Z"
   },
   {
    "duration": 1336,
    "start_time": "2022-01-22T10:35:37.056Z"
   },
   {
    "duration": 1319,
    "start_time": "2022-01-22T10:35:37.073Z"
   },
   {
    "duration": 1302,
    "start_time": "2022-01-22T10:35:37.091Z"
   },
   {
    "duration": 1288,
    "start_time": "2022-01-22T10:35:37.107Z"
   },
   {
    "duration": 1271,
    "start_time": "2022-01-22T10:35:37.124Z"
   },
   {
    "duration": 1256,
    "start_time": "2022-01-22T10:35:37.140Z"
   },
   {
    "duration": 1239,
    "start_time": "2022-01-22T10:35:37.158Z"
   },
   {
    "duration": 1224,
    "start_time": "2022-01-22T10:35:37.174Z"
   },
   {
    "duration": 1207,
    "start_time": "2022-01-22T10:35:37.192Z"
   },
   {
    "duration": 1192,
    "start_time": "2022-01-22T10:35:37.207Z"
   },
   {
    "duration": 1176,
    "start_time": "2022-01-22T10:35:37.224Z"
   },
   {
    "duration": 1161,
    "start_time": "2022-01-22T10:35:37.240Z"
   },
   {
    "duration": 1146,
    "start_time": "2022-01-22T10:35:37.256Z"
   },
   {
    "duration": 1140,
    "start_time": "2022-01-22T10:35:37.262Z"
   },
   {
    "duration": 1135,
    "start_time": "2022-01-22T10:35:37.268Z"
   },
   {
    "duration": 1130,
    "start_time": "2022-01-22T10:35:37.274Z"
   },
   {
    "duration": 1125,
    "start_time": "2022-01-22T10:35:37.280Z"
   },
   {
    "duration": 1120,
    "start_time": "2022-01-22T10:35:37.286Z"
   },
   {
    "duration": 1116,
    "start_time": "2022-01-22T10:35:37.291Z"
   },
   {
    "duration": 1111,
    "start_time": "2022-01-22T10:35:37.296Z"
   },
   {
    "duration": 1106,
    "start_time": "2022-01-22T10:35:37.302Z"
   },
   {
    "duration": 1102,
    "start_time": "2022-01-22T10:35:37.307Z"
   },
   {
    "duration": 1096,
    "start_time": "2022-01-22T10:35:37.313Z"
   },
   {
    "duration": 1093,
    "start_time": "2022-01-22T10:35:37.317Z"
   },
   {
    "duration": 1088,
    "start_time": "2022-01-22T10:35:37.323Z"
   },
   {
    "duration": 1083,
    "start_time": "2022-01-22T10:35:37.328Z"
   },
   {
    "duration": 1078,
    "start_time": "2022-01-22T10:35:37.334Z"
   },
   {
    "duration": 1069,
    "start_time": "2022-01-22T10:35:37.344Z"
   },
   {
    "duration": 1064,
    "start_time": "2022-01-22T10:35:37.349Z"
   },
   {
    "duration": 1047,
    "start_time": "2022-01-22T10:35:37.367Z"
   },
   {
    "duration": 1041,
    "start_time": "2022-01-22T10:35:37.374Z"
   },
   {
    "duration": 1036,
    "start_time": "2022-01-22T10:35:37.379Z"
   },
   {
    "duration": 1031,
    "start_time": "2022-01-22T10:35:37.385Z"
   },
   {
    "duration": 1026,
    "start_time": "2022-01-22T10:35:37.391Z"
   },
   {
    "duration": 1022,
    "start_time": "2022-01-22T10:35:37.396Z"
   },
   {
    "duration": 1015,
    "start_time": "2022-01-22T10:35:37.403Z"
   },
   {
    "duration": 1010,
    "start_time": "2022-01-22T10:35:37.409Z"
   },
   {
    "duration": 1004,
    "start_time": "2022-01-22T10:35:37.415Z"
   },
   {
    "duration": 980,
    "start_time": "2022-01-22T10:35:37.440Z"
   },
   {
    "duration": 964,
    "start_time": "2022-01-22T10:35:37.457Z"
   },
   {
    "duration": 920,
    "start_time": "2022-01-22T10:35:37.502Z"
   },
   {
    "duration": 914,
    "start_time": "2022-01-22T10:35:37.509Z"
   },
   {
    "duration": 887,
    "start_time": "2022-01-22T10:35:37.536Z"
   },
   {
    "duration": 871,
    "start_time": "2022-01-22T10:35:37.553Z"
   },
   {
    "duration": 854,
    "start_time": "2022-01-22T10:35:37.571Z"
   },
   {
    "duration": 883,
    "start_time": "2022-01-22T10:35:37.588Z"
   },
   {
    "duration": 866,
    "start_time": "2022-01-22T10:35:37.606Z"
   },
   {
    "duration": 3,
    "start_time": "2022-01-22T10:35:51.830Z"
   },
   {
    "duration": 17,
    "start_time": "2022-01-22T10:35:52.293Z"
   },
   {
    "duration": 4,
    "start_time": "2022-01-22T10:36:55.586Z"
   },
   {
    "duration": 3,
    "start_time": "2022-01-22T10:39:30.859Z"
   },
   {
    "duration": 15,
    "start_time": "2022-01-22T10:39:31.684Z"
   },
   {
    "duration": 4,
    "start_time": "2022-01-22T10:39:50.891Z"
   },
   {
    "duration": 4,
    "start_time": "2022-01-22T10:39:53.658Z"
   },
   {
    "duration": 19,
    "start_time": "2022-01-22T10:39:57.143Z"
   },
   {
    "duration": 38,
    "start_time": "2022-01-22T10:40:07.170Z"
   },
   {
    "duration": 4,
    "start_time": "2022-01-22T10:40:15.827Z"
   },
   {
    "duration": 264,
    "start_time": "2022-01-22T10:40:18.898Z"
   },
   {
    "duration": 4,
    "start_time": "2022-01-22T10:40:35.204Z"
   },
   {
    "duration": 10,
    "start_time": "2022-01-22T10:40:38.330Z"
   },
   {
    "duration": 86,
    "start_time": "2022-01-22T10:44:10.449Z"
   },
   {
    "duration": 5,
    "start_time": "2022-01-22T10:46:52.394Z"
   },
   {
    "duration": 4,
    "start_time": "2022-01-22T10:47:05.825Z"
   },
   {
    "duration": 4,
    "start_time": "2022-01-22T10:47:28.431Z"
   },
   {
    "duration": 4,
    "start_time": "2022-01-22T10:47:29.587Z"
   },
   {
    "duration": 10,
    "start_time": "2022-01-22T10:47:42.327Z"
   },
   {
    "duration": 5,
    "start_time": "2022-01-22T10:48:35.202Z"
   },
   {
    "duration": 11,
    "start_time": "2022-01-22T10:48:52.176Z"
   },
   {
    "duration": 6,
    "start_time": "2022-01-22T10:49:37.771Z"
   },
   {
    "duration": 10,
    "start_time": "2022-01-22T10:49:49.681Z"
   },
   {
    "duration": 6,
    "start_time": "2022-01-22T10:50:08.958Z"
   },
   {
    "duration": 12,
    "start_time": "2022-01-22T10:50:09.622Z"
   },
   {
    "duration": 6,
    "start_time": "2022-01-22T10:50:13.693Z"
   },
   {
    "duration": 12,
    "start_time": "2022-01-22T10:50:15.206Z"
   },
   {
    "duration": 5,
    "start_time": "2022-01-22T10:50:19.887Z"
   },
   {
    "duration": 11,
    "start_time": "2022-01-22T10:50:20.486Z"
   },
   {
    "duration": 275,
    "start_time": "2022-01-22T10:50:35.005Z"
   },
   {
    "duration": 10,
    "start_time": "2022-01-22T10:50:35.345Z"
   },
   {
    "duration": 3,
    "start_time": "2022-01-22T10:50:53.482Z"
   },
   {
    "duration": 50,
    "start_time": "2022-01-22T10:50:53.487Z"
   },
   {
    "duration": 12,
    "start_time": "2022-01-22T10:50:53.540Z"
   },
   {
    "duration": 11,
    "start_time": "2022-01-22T10:50:53.553Z"
   },
   {
    "duration": 32,
    "start_time": "2022-01-22T10:50:53.566Z"
   },
   {
    "duration": 9,
    "start_time": "2022-01-22T10:50:53.599Z"
   },
   {
    "duration": 4,
    "start_time": "2022-01-22T10:50:53.609Z"
   },
   {
    "duration": 5,
    "start_time": "2022-01-22T10:50:53.616Z"
   },
   {
    "duration": 7,
    "start_time": "2022-01-22T10:50:53.623Z"
   },
   {
    "duration": 3,
    "start_time": "2022-01-22T10:50:53.631Z"
   },
   {
    "duration": 43,
    "start_time": "2022-01-22T10:50:53.635Z"
   },
   {
    "duration": 4,
    "start_time": "2022-01-22T10:50:53.679Z"
   },
   {
    "duration": 19,
    "start_time": "2022-01-22T10:50:53.685Z"
   },
   {
    "duration": 3,
    "start_time": "2022-01-22T10:50:53.706Z"
   },
   {
    "duration": 6,
    "start_time": "2022-01-22T10:50:53.711Z"
   },
   {
    "duration": 23,
    "start_time": "2022-01-22T10:50:53.719Z"
   },
   {
    "duration": 63,
    "start_time": "2022-01-22T10:50:53.743Z"
   },
   {
    "duration": 4,
    "start_time": "2022-01-22T10:50:53.807Z"
   },
   {
    "duration": 3,
    "start_time": "2022-01-22T10:50:53.813Z"
   },
   {
    "duration": 5,
    "start_time": "2022-01-22T10:50:53.817Z"
   },
   {
    "duration": 9,
    "start_time": "2022-01-22T10:50:53.824Z"
   },
   {
    "duration": 12,
    "start_time": "2022-01-22T10:50:53.835Z"
   },
   {
    "duration": 244,
    "start_time": "2022-01-22T10:50:53.874Z"
   },
   {
    "duration": 916,
    "start_time": "2022-01-22T10:50:53.204Z"
   },
   {
    "duration": 911,
    "start_time": "2022-01-22T10:50:53.210Z"
   },
   {
    "duration": 906,
    "start_time": "2022-01-22T10:50:53.215Z"
   },
   {
    "duration": 867,
    "start_time": "2022-01-22T10:50:53.255Z"
   },
   {
    "duration": 856,
    "start_time": "2022-01-22T10:50:53.267Z"
   },
   {
    "duration": 851,
    "start_time": "2022-01-22T10:50:53.273Z"
   },
   {
    "duration": 846,
    "start_time": "2022-01-22T10:50:53.279Z"
   },
   {
    "duration": 842,
    "start_time": "2022-01-22T10:50:53.284Z"
   },
   {
    "duration": 837,
    "start_time": "2022-01-22T10:50:53.290Z"
   },
   {
    "duration": 832,
    "start_time": "2022-01-22T10:50:53.296Z"
   },
   {
    "duration": 798,
    "start_time": "2022-01-22T10:50:53.331Z"
   },
   {
    "duration": 794,
    "start_time": "2022-01-22T10:50:53.336Z"
   },
   {
    "duration": 790,
    "start_time": "2022-01-22T10:50:53.342Z"
   },
   {
    "duration": 786,
    "start_time": "2022-01-22T10:50:53.347Z"
   },
   {
    "duration": 777,
    "start_time": "2022-01-22T10:50:53.357Z"
   },
   {
    "duration": 772,
    "start_time": "2022-01-22T10:50:53.363Z"
   },
   {
    "duration": 760,
    "start_time": "2022-01-22T10:50:53.376Z"
   },
   {
    "duration": 755,
    "start_time": "2022-01-22T10:50:53.382Z"
   },
   {
    "duration": 749,
    "start_time": "2022-01-22T10:50:53.389Z"
   },
   {
    "duration": 744,
    "start_time": "2022-01-22T10:50:53.395Z"
   },
   {
    "duration": 739,
    "start_time": "2022-01-22T10:50:53.401Z"
   },
   {
    "duration": 735,
    "start_time": "2022-01-22T10:50:53.406Z"
   },
   {
    "duration": 730,
    "start_time": "2022-01-22T10:50:53.412Z"
   },
   {
    "duration": 725,
    "start_time": "2022-01-22T10:50:53.418Z"
   },
   {
    "duration": 720,
    "start_time": "2022-01-22T10:50:53.424Z"
   },
   {
    "duration": 716,
    "start_time": "2022-01-22T10:50:53.430Z"
   },
   {
    "duration": 708,
    "start_time": "2022-01-22T10:50:53.439Z"
   },
   {
    "duration": 482,
    "start_time": "2022-01-22T10:50:53.666Z"
   },
   {
    "duration": 476,
    "start_time": "2022-01-22T10:50:53.673Z"
   },
   {
    "duration": 469,
    "start_time": "2022-01-22T10:50:53.681Z"
   },
   {
    "duration": 455,
    "start_time": "2022-01-22T10:50:53.696Z"
   },
   {
    "duration": 421,
    "start_time": "2022-01-22T10:50:53.731Z"
   },
   {
    "duration": 403,
    "start_time": "2022-01-22T10:50:53.750Z"
   },
   {
    "duration": 387,
    "start_time": "2022-01-22T10:50:53.767Z"
   },
   {
    "duration": 370,
    "start_time": "2022-01-22T10:50:53.785Z"
   },
   {
    "duration": 341,
    "start_time": "2022-01-22T10:50:53.815Z"
   },
   {
    "duration": 348,
    "start_time": "2022-01-22T10:50:53.823Z"
   },
   {
    "duration": 330,
    "start_time": "2022-01-22T10:50:53.842Z"
   },
   {
    "duration": 287,
    "start_time": "2022-01-22T10:50:53.886Z"
   },
   {
    "duration": 270,
    "start_time": "2022-01-22T10:50:53.903Z"
   },
   {
    "duration": 237,
    "start_time": "2022-01-22T10:50:53.937Z"
   },
   {
    "duration": 221,
    "start_time": "2022-01-22T10:50:53.954Z"
   },
   {
    "duration": 205,
    "start_time": "2022-01-22T10:50:53.971Z"
   },
   {
    "duration": 199,
    "start_time": "2022-01-22T10:50:53.977Z"
   },
   {
    "duration": 194,
    "start_time": "2022-01-22T10:50:53.983Z"
   },
   {
    "duration": 189,
    "start_time": "2022-01-22T10:50:53.989Z"
   },
   {
    "duration": 184,
    "start_time": "2022-01-22T10:50:53.995Z"
   },
   {
    "duration": 179,
    "start_time": "2022-01-22T10:50:54.000Z"
   },
   {
    "duration": 174,
    "start_time": "2022-01-22T10:50:54.006Z"
   },
   {
    "duration": 170,
    "start_time": "2022-01-22T10:50:54.011Z"
   },
   {
    "duration": 3,
    "start_time": "2022-01-22T10:53:19.669Z"
   },
   {
    "duration": 57,
    "start_time": "2022-01-22T10:53:19.673Z"
   },
   {
    "duration": 12,
    "start_time": "2022-01-22T10:53:19.733Z"
   },
   {
    "duration": 19,
    "start_time": "2022-01-22T10:53:19.747Z"
   },
   {
    "duration": 34,
    "start_time": "2022-01-22T10:53:19.772Z"
   },
   {
    "duration": 10,
    "start_time": "2022-01-22T10:53:19.808Z"
   },
   {
    "duration": 17,
    "start_time": "2022-01-22T10:53:19.821Z"
   },
   {
    "duration": 13,
    "start_time": "2022-01-22T10:53:19.840Z"
   },
   {
    "duration": 19,
    "start_time": "2022-01-22T10:53:19.854Z"
   },
   {
    "duration": 12,
    "start_time": "2022-01-22T10:53:19.875Z"
   },
   {
    "duration": 14,
    "start_time": "2022-01-22T10:53:19.889Z"
   },
   {
    "duration": 14,
    "start_time": "2022-01-22T10:53:19.905Z"
   },
   {
    "duration": 28,
    "start_time": "2022-01-22T10:53:19.920Z"
   },
   {
    "duration": 5,
    "start_time": "2022-01-22T10:53:19.950Z"
   },
   {
    "duration": 7,
    "start_time": "2022-01-22T10:53:19.972Z"
   },
   {
    "duration": 26,
    "start_time": "2022-01-22T10:53:19.981Z"
   },
   {
    "duration": 41,
    "start_time": "2022-01-22T10:53:20.008Z"
   },
   {
    "duration": 22,
    "start_time": "2022-01-22T10:53:20.050Z"
   },
   {
    "duration": 2,
    "start_time": "2022-01-22T10:53:20.077Z"
   },
   {
    "duration": 21,
    "start_time": "2022-01-22T10:53:20.082Z"
   },
   {
    "duration": 12,
    "start_time": "2022-01-22T10:53:20.104Z"
   },
   {
    "duration": 18,
    "start_time": "2022-01-22T10:53:20.117Z"
   },
   {
    "duration": 22,
    "start_time": "2022-01-22T10:53:20.137Z"
   },
   {
    "duration": 20,
    "start_time": "2022-01-22T10:53:20.160Z"
   },
   {
    "duration": 20,
    "start_time": "2022-01-22T10:53:20.182Z"
   },
   {
    "duration": 23,
    "start_time": "2022-01-22T10:53:20.204Z"
   },
   {
    "duration": 21,
    "start_time": "2022-01-22T10:53:20.229Z"
   },
   {
    "duration": 11,
    "start_time": "2022-01-22T10:53:20.252Z"
   },
   {
    "duration": 26,
    "start_time": "2022-01-22T10:53:20.264Z"
   },
   {
    "duration": 20,
    "start_time": "2022-01-22T10:53:20.292Z"
   },
   {
    "duration": 14,
    "start_time": "2022-01-22T10:53:20.313Z"
   },
   {
    "duration": 14,
    "start_time": "2022-01-22T10:53:20.328Z"
   },
   {
    "duration": 37,
    "start_time": "2022-01-22T10:53:20.343Z"
   },
   {
    "duration": 6,
    "start_time": "2022-01-22T10:53:20.382Z"
   },
   {
    "duration": 3440,
    "start_time": "2022-01-22T10:53:20.390Z"
   },
   {
    "duration": 3,
    "start_time": "2022-01-22T10:53:23.832Z"
   },
   {
    "duration": 35,
    "start_time": "2022-01-22T10:53:23.837Z"
   },
   {
    "duration": 6,
    "start_time": "2022-01-22T10:53:23.874Z"
   },
   {
    "duration": 8,
    "start_time": "2022-01-22T10:53:23.882Z"
   },
   {
    "duration": 5,
    "start_time": "2022-01-22T10:53:23.892Z"
   },
   {
    "duration": 12,
    "start_time": "2022-01-22T10:53:23.898Z"
   },
   {
    "duration": 15,
    "start_time": "2022-01-22T10:53:23.911Z"
   },
   {
    "duration": 7,
    "start_time": "2022-01-22T10:53:23.928Z"
   },
   {
    "duration": 12,
    "start_time": "2022-01-22T10:53:23.972Z"
   },
   {
    "duration": 10,
    "start_time": "2022-01-22T10:53:23.985Z"
   },
   {
    "duration": 18,
    "start_time": "2022-01-22T10:53:23.997Z"
   },
   {
    "duration": 7,
    "start_time": "2022-01-22T10:53:24.016Z"
   },
   {
    "duration": 14,
    "start_time": "2022-01-22T10:53:24.025Z"
   },
   {
    "duration": 31,
    "start_time": "2022-01-22T10:53:24.041Z"
   },
   {
    "duration": 11,
    "start_time": "2022-01-22T10:53:24.074Z"
   },
   {
    "duration": 7,
    "start_time": "2022-01-22T10:53:24.086Z"
   },
   {
    "duration": 24,
    "start_time": "2022-01-22T10:53:24.095Z"
   },
   {
    "duration": 5,
    "start_time": "2022-01-22T10:53:24.120Z"
   },
   {
    "duration": 9,
    "start_time": "2022-01-22T10:53:24.127Z"
   },
   {
    "duration": 17,
    "start_time": "2022-01-22T10:53:24.172Z"
   },
   {
    "duration": 4,
    "start_time": "2022-01-22T10:53:24.191Z"
   },
   {
    "duration": 9,
    "start_time": "2022-01-22T10:53:24.196Z"
   },
   {
    "duration": 11,
    "start_time": "2022-01-22T10:53:24.207Z"
   },
   {
    "duration": 10,
    "start_time": "2022-01-22T10:53:24.220Z"
   },
   {
    "duration": 39,
    "start_time": "2022-01-22T10:53:24.232Z"
   },
   {
    "duration": 9,
    "start_time": "2022-01-22T10:53:24.273Z"
   },
   {
    "duration": 12,
    "start_time": "2022-01-22T10:53:24.283Z"
   },
   {
    "duration": 8,
    "start_time": "2022-01-22T10:53:24.297Z"
   },
   {
    "duration": 20,
    "start_time": "2022-01-22T10:53:24.306Z"
   },
   {
    "duration": 9,
    "start_time": "2022-01-22T10:53:24.328Z"
   },
   {
    "duration": 42,
    "start_time": "2022-01-22T10:53:24.338Z"
   },
   {
    "duration": 5,
    "start_time": "2022-01-22T10:53:24.382Z"
   },
   {
    "duration": 17,
    "start_time": "2022-01-22T10:53:24.389Z"
   },
   {
    "duration": 12,
    "start_time": "2022-01-22T10:53:24.407Z"
   },
   {
    "duration": 10,
    "start_time": "2022-01-22T10:53:24.421Z"
   },
   {
    "duration": 6,
    "start_time": "2022-01-22T10:53:24.433Z"
   },
   {
    "duration": 36,
    "start_time": "2022-01-22T10:53:24.441Z"
   },
   {
    "duration": 11,
    "start_time": "2022-01-22T10:53:24.479Z"
   },
   {
    "duration": 3,
    "start_time": "2022-01-22T11:01:53.585Z"
   },
   {
    "duration": 19,
    "start_time": "2022-01-22T11:01:54.186Z"
   },
   {
    "duration": 2,
    "start_time": "2022-01-22T11:02:01.105Z"
   },
   {
    "duration": 56,
    "start_time": "2022-01-22T11:02:01.110Z"
   },
   {
    "duration": 12,
    "start_time": "2022-01-22T11:02:01.168Z"
   },
   {
    "duration": 16,
    "start_time": "2022-01-22T11:02:01.182Z"
   },
   {
    "duration": 30,
    "start_time": "2022-01-22T11:02:01.200Z"
   },
   {
    "duration": 9,
    "start_time": "2022-01-22T11:02:01.232Z"
   },
   {
    "duration": 30,
    "start_time": "2022-01-22T11:02:01.242Z"
   },
   {
    "duration": 6,
    "start_time": "2022-01-22T11:02:01.274Z"
   },
   {
    "duration": 7,
    "start_time": "2022-01-22T11:02:01.282Z"
   },
   {
    "duration": 3,
    "start_time": "2022-01-22T11:02:01.291Z"
   },
   {
    "duration": 13,
    "start_time": "2022-01-22T11:02:01.295Z"
   },
   {
    "duration": 4,
    "start_time": "2022-01-22T11:02:01.309Z"
   },
   {
    "duration": 24,
    "start_time": "2022-01-22T11:02:01.314Z"
   },
   {
    "duration": 34,
    "start_time": "2022-01-22T11:02:01.339Z"
   },
   {
    "duration": 10,
    "start_time": "2022-01-22T11:02:01.374Z"
   },
   {
    "duration": 22,
    "start_time": "2022-01-22T11:02:01.385Z"
   },
   {
    "duration": 37,
    "start_time": "2022-01-22T11:02:01.409Z"
   },
   {
    "duration": 25,
    "start_time": "2022-01-22T11:02:01.447Z"
   },
   {
    "duration": 3,
    "start_time": "2022-01-22T11:02:01.474Z"
   },
   {
    "duration": 13,
    "start_time": "2022-01-22T11:02:01.478Z"
   },
   {
    "duration": 14,
    "start_time": "2022-01-22T11:02:01.493Z"
   },
   {
    "duration": 12,
    "start_time": "2022-01-22T11:02:01.508Z"
   },
   {
    "duration": 10,
    "start_time": "2022-01-22T11:02:01.521Z"
   },
   {
    "duration": 15,
    "start_time": "2022-01-22T11:02:01.534Z"
   },
   {
    "duration": 21,
    "start_time": "2022-01-22T11:02:01.551Z"
   },
   {
    "duration": 15,
    "start_time": "2022-01-22T11:02:01.573Z"
   },
   {
    "duration": 13,
    "start_time": "2022-01-22T11:02:01.589Z"
   },
   {
    "duration": 9,
    "start_time": "2022-01-22T11:02:01.604Z"
   },
   {
    "duration": 28,
    "start_time": "2022-01-22T11:02:01.615Z"
   },
   {
    "duration": 32,
    "start_time": "2022-01-22T11:02:01.644Z"
   },
   {
    "duration": 12,
    "start_time": "2022-01-22T11:02:01.678Z"
   },
   {
    "duration": 7,
    "start_time": "2022-01-22T11:02:01.692Z"
   },
   {
    "duration": 16,
    "start_time": "2022-01-22T11:02:01.701Z"
   },
   {
    "duration": 6,
    "start_time": "2022-01-22T11:02:01.718Z"
   },
   {
    "duration": 3517,
    "start_time": "2022-01-22T11:02:01.726Z"
   },
   {
    "duration": 3,
    "start_time": "2022-01-22T11:02:05.244Z"
   },
   {
    "duration": 39,
    "start_time": "2022-01-22T11:02:05.249Z"
   },
   {
    "duration": 7,
    "start_time": "2022-01-22T11:02:05.290Z"
   },
   {
    "duration": 11,
    "start_time": "2022-01-22T11:02:05.298Z"
   },
   {
    "duration": 5,
    "start_time": "2022-01-22T11:02:05.310Z"
   },
   {
    "duration": 13,
    "start_time": "2022-01-22T11:02:05.317Z"
   },
   {
    "duration": 43,
    "start_time": "2022-01-22T11:02:05.332Z"
   },
   {
    "duration": 8,
    "start_time": "2022-01-22T11:02:05.377Z"
   },
   {
    "duration": 13,
    "start_time": "2022-01-22T11:02:05.386Z"
   },
   {
    "duration": 10,
    "start_time": "2022-01-22T11:02:05.401Z"
   },
   {
    "duration": 23,
    "start_time": "2022-01-22T11:02:05.413Z"
   },
   {
    "duration": 37,
    "start_time": "2022-01-22T11:02:05.437Z"
   },
   {
    "duration": 12,
    "start_time": "2022-01-22T11:02:05.476Z"
   },
   {
    "duration": 5,
    "start_time": "2022-01-22T11:02:05.490Z"
   },
   {
    "duration": 17,
    "start_time": "2022-01-22T11:02:05.497Z"
   },
   {
    "duration": 8,
    "start_time": "2022-01-22T11:02:05.515Z"
   },
   {
    "duration": 55,
    "start_time": "2022-01-22T11:02:05.524Z"
   },
   {
    "duration": 5,
    "start_time": "2022-01-22T11:02:05.581Z"
   },
   {
    "duration": 8,
    "start_time": "2022-01-22T11:02:05.588Z"
   },
   {
    "duration": 38,
    "start_time": "2022-01-22T11:02:05.597Z"
   },
   {
    "duration": 4,
    "start_time": "2022-01-22T11:02:05.637Z"
   },
   {
    "duration": 13,
    "start_time": "2022-01-22T11:02:05.643Z"
   },
   {
    "duration": 19,
    "start_time": "2022-01-22T11:02:05.658Z"
   },
   {
    "duration": 9,
    "start_time": "2022-01-22T11:02:05.678Z"
   },
   {
    "duration": 20,
    "start_time": "2022-01-22T11:02:05.689Z"
   },
   {
    "duration": 7,
    "start_time": "2022-01-22T11:02:05.711Z"
   },
   {
    "duration": 11,
    "start_time": "2022-01-22T11:02:05.723Z"
   },
   {
    "duration": 38,
    "start_time": "2022-01-22T11:02:05.736Z"
   },
   {
    "duration": 19,
    "start_time": "2022-01-22T11:02:05.776Z"
   },
   {
    "duration": 9,
    "start_time": "2022-01-22T11:02:05.796Z"
   },
   {
    "duration": 12,
    "start_time": "2022-01-22T11:02:05.807Z"
   },
   {
    "duration": 11,
    "start_time": "2022-01-22T11:02:05.821Z"
   },
   {
    "duration": 50,
    "start_time": "2022-01-22T11:02:05.834Z"
   },
   {
    "duration": 15,
    "start_time": "2022-01-22T11:02:05.886Z"
   },
   {
    "duration": 9,
    "start_time": "2022-01-22T11:02:05.903Z"
   },
   {
    "duration": 8,
    "start_time": "2022-01-22T11:02:05.914Z"
   },
   {
    "duration": 17,
    "start_time": "2022-01-22T11:02:05.924Z"
   },
   {
    "duration": 37,
    "start_time": "2022-01-22T11:02:05.943Z"
   },
   {
    "duration": 13,
    "start_time": "2022-01-22T11:03:34.376Z"
   },
   {
    "duration": 19,
    "start_time": "2022-01-22T11:03:47.294Z"
   },
   {
    "duration": 3,
    "start_time": "2022-01-22T11:04:01.240Z"
   },
   {
    "duration": 17,
    "start_time": "2022-01-22T11:04:02.272Z"
   },
   {
    "duration": 3,
    "start_time": "2022-01-22T11:04:37.096Z"
   },
   {
    "duration": 16,
    "start_time": "2022-01-22T11:04:37.696Z"
   },
   {
    "duration": 2,
    "start_time": "2022-01-22T11:05:00.713Z"
   },
   {
    "duration": 51,
    "start_time": "2022-01-22T11:05:00.719Z"
   },
   {
    "duration": 12,
    "start_time": "2022-01-22T11:05:00.772Z"
   },
   {
    "duration": 14,
    "start_time": "2022-01-22T11:05:00.786Z"
   },
   {
    "duration": 35,
    "start_time": "2022-01-22T11:05:00.802Z"
   },
   {
    "duration": 44,
    "start_time": "2022-01-22T11:05:00.839Z"
   },
   {
    "duration": 6,
    "start_time": "2022-01-22T11:05:00.885Z"
   },
   {
    "duration": 5,
    "start_time": "2022-01-22T11:05:00.893Z"
   },
   {
    "duration": 10,
    "start_time": "2022-01-22T11:05:00.900Z"
   },
   {
    "duration": 3,
    "start_time": "2022-01-22T11:05:00.912Z"
   },
   {
    "duration": 15,
    "start_time": "2022-01-22T11:05:00.917Z"
   },
   {
    "duration": 7,
    "start_time": "2022-01-22T11:05:00.933Z"
   },
   {
    "duration": 26,
    "start_time": "2022-01-22T11:05:00.972Z"
   },
   {
    "duration": 4,
    "start_time": "2022-01-22T11:05:01.000Z"
   },
   {
    "duration": 16,
    "start_time": "2022-01-22T11:05:01.006Z"
   },
   {
    "duration": 28,
    "start_time": "2022-01-22T11:05:01.023Z"
   },
   {
    "duration": 54,
    "start_time": "2022-01-22T11:05:01.053Z"
   },
   {
    "duration": 4,
    "start_time": "2022-01-22T11:05:01.109Z"
   },
   {
    "duration": 5,
    "start_time": "2022-01-22T11:05:01.114Z"
   },
   {
    "duration": 7,
    "start_time": "2022-01-22T11:05:01.120Z"
   },
   {
    "duration": 9,
    "start_time": "2022-01-22T11:05:01.129Z"
   },
   {
    "duration": 35,
    "start_time": "2022-01-22T11:05:01.139Z"
   },
   {
    "duration": 8,
    "start_time": "2022-01-22T11:05:01.176Z"
   },
   {
    "duration": 16,
    "start_time": "2022-01-22T11:05:01.187Z"
   },
   {
    "duration": 13,
    "start_time": "2022-01-22T11:05:01.206Z"
   },
   {
    "duration": 15,
    "start_time": "2022-01-22T11:05:01.221Z"
   },
   {
    "duration": 38,
    "start_time": "2022-01-22T11:05:01.238Z"
   },
   {
    "duration": 10,
    "start_time": "2022-01-22T11:05:01.277Z"
   },
   {
    "duration": 22,
    "start_time": "2022-01-22T11:05:01.288Z"
   },
   {
    "duration": 15,
    "start_time": "2022-01-22T11:05:01.311Z"
   },
   {
    "duration": 13,
    "start_time": "2022-01-22T11:05:01.327Z"
   },
   {
    "duration": 8,
    "start_time": "2022-01-22T11:05:01.341Z"
   },
   {
    "duration": 36,
    "start_time": "2022-01-22T11:05:01.350Z"
   },
   {
    "duration": 7,
    "start_time": "2022-01-22T11:05:01.387Z"
   },
   {
    "duration": 3688,
    "start_time": "2022-01-22T11:05:01.396Z"
   },
   {
    "duration": 4,
    "start_time": "2022-01-22T11:05:05.086Z"
   },
   {
    "duration": 26,
    "start_time": "2022-01-22T11:05:05.091Z"
   },
   {
    "duration": 7,
    "start_time": "2022-01-22T11:05:05.118Z"
   },
   {
    "duration": 7,
    "start_time": "2022-01-22T11:05:05.127Z"
   },
   {
    "duration": 5,
    "start_time": "2022-01-22T11:05:05.136Z"
   },
   {
    "duration": 40,
    "start_time": "2022-01-22T11:05:05.142Z"
   },
   {
    "duration": 15,
    "start_time": "2022-01-22T11:05:05.183Z"
   },
   {
    "duration": 6,
    "start_time": "2022-01-22T11:05:05.200Z"
   },
   {
    "duration": 13,
    "start_time": "2022-01-22T11:05:05.208Z"
   },
   {
    "duration": 9,
    "start_time": "2022-01-22T11:05:05.222Z"
   },
   {
    "duration": 46,
    "start_time": "2022-01-22T11:05:05.233Z"
   },
   {
    "duration": 8,
    "start_time": "2022-01-22T11:05:05.280Z"
   },
   {
    "duration": 15,
    "start_time": "2022-01-22T11:05:05.290Z"
   },
   {
    "duration": 5,
    "start_time": "2022-01-22T11:05:05.307Z"
   },
   {
    "duration": 13,
    "start_time": "2022-01-22T11:05:05.313Z"
   },
   {
    "duration": 7,
    "start_time": "2022-01-22T11:05:05.328Z"
   },
   {
    "duration": 54,
    "start_time": "2022-01-22T11:05:05.337Z"
   },
   {
    "duration": 5,
    "start_time": "2022-01-22T11:05:05.393Z"
   },
   {
    "duration": 6,
    "start_time": "2022-01-22T11:05:05.400Z"
   },
   {
    "duration": 18,
    "start_time": "2022-01-22T11:05:05.408Z"
   },
   {
    "duration": 5,
    "start_time": "2022-01-22T11:05:05.427Z"
   },
   {
    "duration": 43,
    "start_time": "2022-01-22T11:05:05.433Z"
   },
   {
    "duration": 10,
    "start_time": "2022-01-22T11:05:05.478Z"
   },
   {
    "duration": 10,
    "start_time": "2022-01-22T11:05:05.489Z"
   },
   {
    "duration": 18,
    "start_time": "2022-01-22T11:05:05.501Z"
   },
   {
    "duration": 7,
    "start_time": "2022-01-22T11:05:05.521Z"
   },
   {
    "duration": 13,
    "start_time": "2022-01-22T11:05:05.530Z"
   },
   {
    "duration": 33,
    "start_time": "2022-01-22T11:05:05.544Z"
   },
   {
    "duration": 20,
    "start_time": "2022-01-22T11:05:05.578Z"
   },
   {
    "duration": 7,
    "start_time": "2022-01-22T11:05:05.600Z"
   },
   {
    "duration": 12,
    "start_time": "2022-01-22T11:05:05.609Z"
   },
   {
    "duration": 19,
    "start_time": "2022-01-22T11:05:05.623Z"
   },
   {
    "duration": 31,
    "start_time": "2022-01-22T11:05:05.643Z"
   },
   {
    "duration": 12,
    "start_time": "2022-01-22T11:05:05.679Z"
   },
   {
    "duration": 10,
    "start_time": "2022-01-22T11:05:05.693Z"
   },
   {
    "duration": 6,
    "start_time": "2022-01-22T11:05:05.705Z"
   },
   {
    "duration": 11,
    "start_time": "2022-01-22T11:05:05.712Z"
   },
   {
    "duration": 14,
    "start_time": "2022-01-22T11:05:05.725Z"
   },
   {
    "duration": 3,
    "start_time": "2022-01-22T11:05:14.535Z"
   },
   {
    "duration": 20,
    "start_time": "2022-01-22T11:05:15.120Z"
   },
   {
    "duration": 3,
    "start_time": "2022-01-22T11:05:31.207Z"
   },
   {
    "duration": 5087,
    "start_time": "2022-01-22T11:05:31.863Z"
   },
   {
    "duration": 3,
    "start_time": "2022-01-22T11:05:42.736Z"
   },
   {
    "duration": 17,
    "start_time": "2022-01-22T11:05:43.272Z"
   },
   {
    "duration": 3,
    "start_time": "2022-01-22T11:05:47.415Z"
   },
   {
    "duration": 17,
    "start_time": "2022-01-22T11:05:47.936Z"
   },
   {
    "duration": 2,
    "start_time": "2022-01-22T11:05:52.095Z"
   },
   {
    "duration": 56,
    "start_time": "2022-01-22T11:05:52.099Z"
   },
   {
    "duration": 12,
    "start_time": "2022-01-22T11:05:52.157Z"
   },
   {
    "duration": 25,
    "start_time": "2022-01-22T11:05:52.170Z"
   },
   {
    "duration": 42,
    "start_time": "2022-01-22T11:05:52.196Z"
   },
   {
    "duration": 10,
    "start_time": "2022-01-22T11:05:52.240Z"
   },
   {
    "duration": 10,
    "start_time": "2022-01-22T11:05:52.253Z"
   },
   {
    "duration": 23,
    "start_time": "2022-01-22T11:05:52.271Z"
   },
   {
    "duration": 15,
    "start_time": "2022-01-22T11:05:52.296Z"
   },
   {
    "duration": 19,
    "start_time": "2022-01-22T11:05:52.313Z"
   },
   {
    "duration": 23,
    "start_time": "2022-01-22T11:05:52.333Z"
   },
   {
    "duration": 18,
    "start_time": "2022-01-22T11:05:52.357Z"
   },
   {
    "duration": 34,
    "start_time": "2022-01-22T11:05:52.376Z"
   },
   {
    "duration": 9,
    "start_time": "2022-01-22T11:05:52.412Z"
   },
   {
    "duration": 27,
    "start_time": "2022-01-22T11:05:52.423Z"
   },
   {
    "duration": 29,
    "start_time": "2022-01-22T11:05:52.451Z"
   },
   {
    "duration": 43,
    "start_time": "2022-01-22T11:05:52.481Z"
   },
   {
    "duration": 5,
    "start_time": "2022-01-22T11:05:52.525Z"
   },
   {
    "duration": 15,
    "start_time": "2022-01-22T11:05:52.534Z"
   },
   {
    "duration": 17,
    "start_time": "2022-01-22T11:05:52.552Z"
   },
   {
    "duration": 19,
    "start_time": "2022-01-22T11:05:52.571Z"
   },
   {
    "duration": 21,
    "start_time": "2022-01-22T11:05:52.592Z"
   },
   {
    "duration": 20,
    "start_time": "2022-01-22T11:05:52.614Z"
   },
   {
    "duration": 36,
    "start_time": "2022-01-22T11:05:52.636Z"
   },
   {
    "duration": 19,
    "start_time": "2022-01-22T11:05:52.674Z"
   },
   {
    "duration": 27,
    "start_time": "2022-01-22T11:05:52.694Z"
   },
   {
    "duration": 16,
    "start_time": "2022-01-22T11:05:52.723Z"
   },
   {
    "duration": 35,
    "start_time": "2022-01-22T11:05:52.740Z"
   },
   {
    "duration": 38,
    "start_time": "2022-01-22T11:05:52.777Z"
   },
   {
    "duration": 29,
    "start_time": "2022-01-22T11:05:52.816Z"
   },
   {
    "duration": 23,
    "start_time": "2022-01-22T11:05:52.847Z"
   },
   {
    "duration": 18,
    "start_time": "2022-01-22T11:05:52.872Z"
   },
   {
    "duration": 37,
    "start_time": "2022-01-22T11:05:52.892Z"
   },
   {
    "duration": 22,
    "start_time": "2022-01-22T11:05:52.931Z"
   },
   {
    "duration": 3599,
    "start_time": "2022-01-22T11:05:52.954Z"
   },
   {
    "duration": 3,
    "start_time": "2022-01-22T11:05:56.554Z"
   },
   {
    "duration": 38,
    "start_time": "2022-01-22T11:05:56.558Z"
   },
   {
    "duration": 8,
    "start_time": "2022-01-22T11:05:56.598Z"
   },
   {
    "duration": 8,
    "start_time": "2022-01-22T11:05:56.608Z"
   },
   {
    "duration": 4,
    "start_time": "2022-01-22T11:05:56.618Z"
   },
   {
    "duration": 15,
    "start_time": "2022-01-22T11:05:56.623Z"
   },
   {
    "duration": 16,
    "start_time": "2022-01-22T11:05:56.640Z"
   },
   {
    "duration": 12,
    "start_time": "2022-01-22T11:05:56.658Z"
   },
   {
    "duration": 18,
    "start_time": "2022-01-22T11:05:56.671Z"
   },
   {
    "duration": 12,
    "start_time": "2022-01-22T11:05:56.691Z"
   },
   {
    "duration": 27,
    "start_time": "2022-01-22T11:05:56.705Z"
   },
   {
    "duration": 7,
    "start_time": "2022-01-22T11:05:56.733Z"
   },
   {
    "duration": 15,
    "start_time": "2022-01-22T11:05:56.742Z"
   },
   {
    "duration": 7,
    "start_time": "2022-01-22T11:05:56.758Z"
   },
   {
    "duration": 25,
    "start_time": "2022-01-22T11:05:56.766Z"
   },
   {
    "duration": 7,
    "start_time": "2022-01-22T11:05:56.792Z"
   },
   {
    "duration": 26,
    "start_time": "2022-01-22T11:05:56.801Z"
   },
   {
    "duration": 5,
    "start_time": "2022-01-22T11:05:56.829Z"
   },
   {
    "duration": 10,
    "start_time": "2022-01-22T11:05:56.835Z"
   },
   {
    "duration": 25,
    "start_time": "2022-01-22T11:05:56.850Z"
   },
   {
    "duration": 3,
    "start_time": "2022-01-22T11:05:56.877Z"
   },
   {
    "duration": 12,
    "start_time": "2022-01-22T11:05:56.882Z"
   },
   {
    "duration": 13,
    "start_time": "2022-01-22T11:05:56.896Z"
   },
   {
    "duration": 10,
    "start_time": "2022-01-22T11:05:56.910Z"
   },
   {
    "duration": 19,
    "start_time": "2022-01-22T11:05:56.922Z"
   },
   {
    "duration": 35,
    "start_time": "2022-01-22T11:05:56.942Z"
   },
   {
    "duration": 15,
    "start_time": "2022-01-22T11:05:56.979Z"
   },
   {
    "duration": 10,
    "start_time": "2022-01-22T11:05:56.996Z"
   },
   {
    "duration": 76,
    "start_time": "2022-01-22T11:05:57.007Z"
   },
   {
    "duration": 7,
    "start_time": "2022-01-22T11:05:57.084Z"
   },
   {
    "duration": 10,
    "start_time": "2022-01-22T11:05:57.093Z"
   },
   {
    "duration": 6,
    "start_time": "2022-01-22T11:05:57.104Z"
   },
   {
    "duration": 65,
    "start_time": "2022-01-22T11:05:57.112Z"
   },
   {
    "duration": 13,
    "start_time": "2022-01-22T11:05:57.179Z"
   },
   {
    "duration": 8,
    "start_time": "2022-01-22T11:05:57.194Z"
   },
   {
    "duration": 5,
    "start_time": "2022-01-22T11:05:57.204Z"
   },
   {
    "duration": 7,
    "start_time": "2022-01-22T11:05:57.211Z"
   },
   {
    "duration": 11,
    "start_time": "2022-01-22T11:05:57.219Z"
   },
   {
    "duration": 12,
    "start_time": "2022-01-22T11:06:58.479Z"
   },
   {
    "duration": 2,
    "start_time": "2022-01-22T11:07:02.861Z"
   },
   {
    "duration": 49,
    "start_time": "2022-01-22T11:07:02.865Z"
   },
   {
    "duration": 12,
    "start_time": "2022-01-22T11:07:02.916Z"
   },
   {
    "duration": 10,
    "start_time": "2022-01-22T11:07:02.930Z"
   },
   {
    "duration": 40,
    "start_time": "2022-01-22T11:07:02.942Z"
   },
   {
    "duration": 9,
    "start_time": "2022-01-22T11:07:02.983Z"
   },
   {
    "duration": 5,
    "start_time": "2022-01-22T11:07:02.993Z"
   },
   {
    "duration": 4,
    "start_time": "2022-01-22T11:07:03.000Z"
   },
   {
    "duration": 6,
    "start_time": "2022-01-22T11:07:03.007Z"
   },
   {
    "duration": 2,
    "start_time": "2022-01-22T11:07:03.015Z"
   },
   {
    "duration": 13,
    "start_time": "2022-01-22T11:07:03.019Z"
   },
   {
    "duration": 661,
    "start_time": "2022-01-22T11:07:03.033Z"
   },
   {
    "duration": 12,
    "start_time": "2022-01-22T11:07:03.696Z"
   },
   {
    "duration": 5,
    "start_time": "2022-01-22T11:07:03.709Z"
   },
   {
    "duration": 4,
    "start_time": "2022-01-22T11:07:03.716Z"
   },
   {
    "duration": 19,
    "start_time": "2022-01-22T11:07:03.721Z"
   },
   {
    "duration": 64,
    "start_time": "2022-01-22T11:07:03.742Z"
   },
   {
    "duration": 4,
    "start_time": "2022-01-22T11:07:03.808Z"
   },
   {
    "duration": 5,
    "start_time": "2022-01-22T11:07:03.813Z"
   },
   {
    "duration": 5,
    "start_time": "2022-01-22T11:07:03.820Z"
   },
   {
    "duration": 5,
    "start_time": "2022-01-22T11:07:03.827Z"
   },
   {
    "duration": 15,
    "start_time": "2022-01-22T11:07:03.833Z"
   },
   {
    "duration": 23,
    "start_time": "2022-01-22T11:07:03.850Z"
   },
   {
    "duration": 11,
    "start_time": "2022-01-22T11:07:03.875Z"
   },
   {
    "duration": 13,
    "start_time": "2022-01-22T11:07:03.888Z"
   },
   {
    "duration": 16,
    "start_time": "2022-01-22T11:07:03.902Z"
   },
   {
    "duration": 14,
    "start_time": "2022-01-22T11:07:03.923Z"
   },
   {
    "duration": 40,
    "start_time": "2022-01-22T11:07:03.940Z"
   },
   {
    "duration": 19,
    "start_time": "2022-01-22T11:07:03.982Z"
   },
   {
    "duration": 15,
    "start_time": "2022-01-22T11:07:04.002Z"
   },
   {
    "duration": 13,
    "start_time": "2022-01-22T11:07:04.018Z"
   },
   {
    "duration": 8,
    "start_time": "2022-01-22T11:07:04.032Z"
   },
   {
    "duration": 41,
    "start_time": "2022-01-22T11:07:04.042Z"
   },
   {
    "duration": 6,
    "start_time": "2022-01-22T11:07:04.085Z"
   },
   {
    "duration": 3438,
    "start_time": "2022-01-22T11:07:04.093Z"
   },
   {
    "duration": 3,
    "start_time": "2022-01-22T11:07:07.533Z"
   },
   {
    "duration": 35,
    "start_time": "2022-01-22T11:07:07.538Z"
   },
   {
    "duration": 7,
    "start_time": "2022-01-22T11:07:07.575Z"
   },
   {
    "duration": 10,
    "start_time": "2022-01-22T11:07:07.583Z"
   },
   {
    "duration": 4,
    "start_time": "2022-01-22T11:07:07.594Z"
   },
   {
    "duration": 12,
    "start_time": "2022-01-22T11:07:07.600Z"
   },
   {
    "duration": 16,
    "start_time": "2022-01-22T11:07:07.613Z"
   },
   {
    "duration": 10,
    "start_time": "2022-01-22T11:07:07.630Z"
   },
   {
    "duration": 41,
    "start_time": "2022-01-22T11:07:07.642Z"
   },
   {
    "duration": 9,
    "start_time": "2022-01-22T11:07:07.685Z"
   },
   {
    "duration": 19,
    "start_time": "2022-01-22T11:07:07.696Z"
   },
   {
    "duration": 8,
    "start_time": "2022-01-22T11:07:07.717Z"
   },
   {
    "duration": 14,
    "start_time": "2022-01-22T11:07:07.727Z"
   },
   {
    "duration": 29,
    "start_time": "2022-01-22T11:07:07.743Z"
   },
   {
    "duration": 11,
    "start_time": "2022-01-22T11:07:07.774Z"
   },
   {
    "duration": 7,
    "start_time": "2022-01-22T11:07:07.787Z"
   },
   {
    "duration": 24,
    "start_time": "2022-01-22T11:07:07.796Z"
   },
   {
    "duration": 5,
    "start_time": "2022-01-22T11:07:07.821Z"
   },
   {
    "duration": 8,
    "start_time": "2022-01-22T11:07:07.827Z"
   },
   {
    "duration": 17,
    "start_time": "2022-01-22T11:07:07.871Z"
   },
   {
    "duration": 5,
    "start_time": "2022-01-22T11:07:07.890Z"
   },
   {
    "duration": 10,
    "start_time": "2022-01-22T11:07:07.896Z"
   },
   {
    "duration": 13,
    "start_time": "2022-01-22T11:07:07.907Z"
   },
   {
    "duration": 14,
    "start_time": "2022-01-22T11:07:07.921Z"
   },
   {
    "duration": 35,
    "start_time": "2022-01-22T11:07:07.937Z"
   },
   {
    "duration": 8,
    "start_time": "2022-01-22T11:07:07.974Z"
   },
   {
    "duration": 11,
    "start_time": "2022-01-22T11:07:07.983Z"
   },
   {
    "duration": 10,
    "start_time": "2022-01-22T11:07:07.996Z"
   },
   {
    "duration": 22,
    "start_time": "2022-01-22T11:07:08.008Z"
   },
   {
    "duration": 8,
    "start_time": "2022-01-22T11:07:08.032Z"
   },
   {
    "duration": 36,
    "start_time": "2022-01-22T11:07:08.041Z"
   },
   {
    "duration": 5,
    "start_time": "2022-01-22T11:07:08.079Z"
   },
   {
    "duration": 19,
    "start_time": "2022-01-22T11:07:08.086Z"
   },
   {
    "duration": 12,
    "start_time": "2022-01-22T11:07:08.107Z"
   },
   {
    "duration": 15,
    "start_time": "2022-01-22T11:07:08.120Z"
   },
   {
    "duration": 10,
    "start_time": "2022-01-22T11:07:08.136Z"
   },
   {
    "duration": 30,
    "start_time": "2022-01-22T11:07:08.147Z"
   },
   {
    "duration": 9,
    "start_time": "2022-01-22T11:07:08.179Z"
   },
   {
    "duration": 361,
    "start_time": "2022-01-22T11:08:16.677Z"
   },
   {
    "duration": 3,
    "start_time": "2022-01-22T11:08:41.326Z"
   },
   {
    "duration": 13,
    "start_time": "2022-01-22T11:08:42.206Z"
   },
   {
    "duration": 3,
    "start_time": "2022-01-22T11:08:51.357Z"
   },
   {
    "duration": 46,
    "start_time": "2022-01-22T11:08:51.362Z"
   },
   {
    "duration": 12,
    "start_time": "2022-01-22T11:08:51.409Z"
   },
   {
    "duration": 10,
    "start_time": "2022-01-22T11:08:51.423Z"
   },
   {
    "duration": 44,
    "start_time": "2022-01-22T11:08:51.435Z"
   },
   {
    "duration": 8,
    "start_time": "2022-01-22T11:08:51.481Z"
   },
   {
    "duration": 5,
    "start_time": "2022-01-22T11:08:51.490Z"
   },
   {
    "duration": 4,
    "start_time": "2022-01-22T11:08:51.496Z"
   },
   {
    "duration": 6,
    "start_time": "2022-01-22T11:08:51.502Z"
   },
   {
    "duration": 3,
    "start_time": "2022-01-22T11:08:51.510Z"
   },
   {
    "duration": 12,
    "start_time": "2022-01-22T11:08:51.514Z"
   },
   {
    "duration": 44,
    "start_time": "2022-01-22T11:08:51.527Z"
   },
   {
    "duration": 13,
    "start_time": "2022-01-22T11:08:51.573Z"
   },
   {
    "duration": 4,
    "start_time": "2022-01-22T11:08:51.587Z"
   },
   {
    "duration": 6,
    "start_time": "2022-01-22T11:08:51.593Z"
   },
   {
    "duration": 24,
    "start_time": "2022-01-22T11:08:51.600Z"
   },
   {
    "duration": 57,
    "start_time": "2022-01-22T11:08:51.625Z"
   },
   {
    "duration": 4,
    "start_time": "2022-01-22T11:08:51.683Z"
   },
   {
    "duration": 4,
    "start_time": "2022-01-22T11:08:51.688Z"
   },
   {
    "duration": 4,
    "start_time": "2022-01-22T11:08:51.694Z"
   },
   {
    "duration": 8,
    "start_time": "2022-01-22T11:08:51.700Z"
   },
   {
    "duration": 12,
    "start_time": "2022-01-22T11:08:51.710Z"
   },
   {
    "duration": 4,
    "start_time": "2022-01-22T11:08:51.723Z"
   },
   {
    "duration": 43,
    "start_time": "2022-01-22T11:08:51.730Z"
   },
   {
    "duration": 13,
    "start_time": "2022-01-22T11:08:51.775Z"
   },
   {
    "duration": 15,
    "start_time": "2022-01-22T11:08:51.790Z"
   },
   {
    "duration": 14,
    "start_time": "2022-01-22T11:08:51.806Z"
   },
   {
    "duration": 11,
    "start_time": "2022-01-22T11:08:51.822Z"
   },
   {
    "duration": 48,
    "start_time": "2022-01-22T11:08:51.835Z"
   },
   {
    "duration": 15,
    "start_time": "2022-01-22T11:08:51.885Z"
   },
   {
    "duration": 14,
    "start_time": "2022-01-22T11:08:51.902Z"
   },
   {
    "duration": 8,
    "start_time": "2022-01-22T11:08:51.917Z"
   },
   {
    "duration": 14,
    "start_time": "2022-01-22T11:08:51.927Z"
   },
   {
    "duration": 35,
    "start_time": "2022-01-22T11:08:51.942Z"
   },
   {
    "duration": 3312,
    "start_time": "2022-01-22T11:08:51.979Z"
   },
   {
    "duration": 3,
    "start_time": "2022-01-22T11:08:55.292Z"
   },
   {
    "duration": 28,
    "start_time": "2022-01-22T11:08:55.297Z"
   },
   {
    "duration": 7,
    "start_time": "2022-01-22T11:08:55.326Z"
   },
   {
    "duration": 9,
    "start_time": "2022-01-22T11:08:55.335Z"
   },
   {
    "duration": 26,
    "start_time": "2022-01-22T11:08:55.346Z"
   },
   {
    "duration": 12,
    "start_time": "2022-01-22T11:08:55.374Z"
   },
   {
    "duration": 15,
    "start_time": "2022-01-22T11:08:55.388Z"
   },
   {
    "duration": 7,
    "start_time": "2022-01-22T11:08:55.405Z"
   },
   {
    "duration": 12,
    "start_time": "2022-01-22T11:08:55.414Z"
   },
   {
    "duration": 10,
    "start_time": "2022-01-22T11:08:55.428Z"
   },
   {
    "duration": 48,
    "start_time": "2022-01-22T11:08:55.440Z"
   },
   {
    "duration": 7,
    "start_time": "2022-01-22T11:08:55.490Z"
   },
   {
    "duration": 14,
    "start_time": "2022-01-22T11:08:55.498Z"
   },
   {
    "duration": 6,
    "start_time": "2022-01-22T11:08:55.514Z"
   },
   {
    "duration": 18,
    "start_time": "2022-01-22T11:08:55.522Z"
   },
   {
    "duration": 35,
    "start_time": "2022-01-22T11:08:55.542Z"
   },
   {
    "duration": 24,
    "start_time": "2022-01-22T11:08:55.579Z"
   },
   {
    "duration": 6,
    "start_time": "2022-01-22T11:08:55.604Z"
   },
   {
    "duration": 9,
    "start_time": "2022-01-22T11:08:55.612Z"
   },
   {
    "duration": 23,
    "start_time": "2022-01-22T11:08:55.622Z"
   },
   {
    "duration": 26,
    "start_time": "2022-01-22T11:08:55.647Z"
   },
   {
    "duration": 9,
    "start_time": "2022-01-22T11:08:55.675Z"
   },
   {
    "duration": 11,
    "start_time": "2022-01-22T11:08:55.686Z"
   },
   {
    "duration": 14,
    "start_time": "2022-01-22T11:08:55.698Z"
   },
   {
    "duration": 22,
    "start_time": "2022-01-22T11:08:55.713Z"
   },
   {
    "duration": 7,
    "start_time": "2022-01-22T11:08:55.737Z"
   },
   {
    "duration": 31,
    "start_time": "2022-01-22T11:08:55.746Z"
   },
   {
    "duration": 7,
    "start_time": "2022-01-22T11:08:55.779Z"
   },
   {
    "duration": 20,
    "start_time": "2022-01-22T11:08:55.788Z"
   },
   {
    "duration": 8,
    "start_time": "2022-01-22T11:08:55.812Z"
   },
   {
    "duration": 11,
    "start_time": "2022-01-22T11:08:55.823Z"
   },
   {
    "duration": 41,
    "start_time": "2022-01-22T11:08:55.836Z"
   },
   {
    "duration": 17,
    "start_time": "2022-01-22T11:08:55.879Z"
   },
   {
    "duration": 13,
    "start_time": "2022-01-22T11:08:55.897Z"
   },
   {
    "duration": 7,
    "start_time": "2022-01-22T11:08:55.912Z"
   },
   {
    "duration": 6,
    "start_time": "2022-01-22T11:08:55.921Z"
   },
   {
    "duration": 46,
    "start_time": "2022-01-22T11:08:55.929Z"
   },
   {
    "duration": 10,
    "start_time": "2022-01-22T11:08:55.976Z"
   },
   {
    "duration": 4,
    "start_time": "2022-01-22T11:09:20.237Z"
   },
   {
    "duration": 13,
    "start_time": "2022-01-22T11:09:20.757Z"
   },
   {
    "duration": 3,
    "start_time": "2022-01-22T11:09:23.757Z"
   },
   {
    "duration": 14,
    "start_time": "2022-01-22T11:09:25.421Z"
   },
   {
    "duration": 3,
    "start_time": "2022-01-22T11:10:09.262Z"
   },
   {
    "duration": 13,
    "start_time": "2022-01-22T11:10:10.070Z"
   },
   {
    "duration": 3,
    "start_time": "2022-01-22T11:10:23.050Z"
   },
   {
    "duration": 12,
    "start_time": "2022-01-22T11:10:23.972Z"
   },
   {
    "duration": 3,
    "start_time": "2022-01-22T11:10:27.492Z"
   },
   {
    "duration": 52,
    "start_time": "2022-01-22T11:10:27.497Z"
   },
   {
    "duration": 11,
    "start_time": "2022-01-22T11:10:27.550Z"
   },
   {
    "duration": 10,
    "start_time": "2022-01-22T11:10:27.563Z"
   },
   {
    "duration": 28,
    "start_time": "2022-01-22T11:10:27.574Z"
   },
   {
    "duration": 8,
    "start_time": "2022-01-22T11:10:27.604Z"
   },
   {
    "duration": 5,
    "start_time": "2022-01-22T11:10:27.613Z"
   },
   {
    "duration": 5,
    "start_time": "2022-01-22T11:10:27.620Z"
   },
   {
    "duration": 6,
    "start_time": "2022-01-22T11:10:27.628Z"
   },
   {
    "duration": 39,
    "start_time": "2022-01-22T11:10:27.635Z"
   },
   {
    "duration": 13,
    "start_time": "2022-01-22T11:10:27.676Z"
   },
   {
    "duration": 4,
    "start_time": "2022-01-22T11:10:27.691Z"
   },
   {
    "duration": 16,
    "start_time": "2022-01-22T11:10:27.697Z"
   },
   {
    "duration": 8,
    "start_time": "2022-01-22T11:10:27.714Z"
   },
   {
    "duration": 8,
    "start_time": "2022-01-22T11:10:27.723Z"
   },
   {
    "duration": 54,
    "start_time": "2022-01-22T11:10:27.733Z"
   },
   {
    "duration": 36,
    "start_time": "2022-01-22T11:10:27.788Z"
   },
   {
    "duration": 4,
    "start_time": "2022-01-22T11:10:27.826Z"
   },
   {
    "duration": 4,
    "start_time": "2022-01-22T11:10:27.831Z"
   },
   {
    "duration": 36,
    "start_time": "2022-01-22T11:10:27.836Z"
   },
   {
    "duration": 5,
    "start_time": "2022-01-22T11:10:27.874Z"
   },
   {
    "duration": 11,
    "start_time": "2022-01-22T11:10:27.881Z"
   },
   {
    "duration": 10,
    "start_time": "2022-01-22T11:10:27.894Z"
   },
   {
    "duration": 14,
    "start_time": "2022-01-22T11:10:27.907Z"
   },
   {
    "duration": 12,
    "start_time": "2022-01-22T11:10:27.923Z"
   },
   {
    "duration": 38,
    "start_time": "2022-01-22T11:10:27.936Z"
   },
   {
    "duration": 12,
    "start_time": "2022-01-22T11:10:27.976Z"
   },
   {
    "duration": 10,
    "start_time": "2022-01-22T11:10:27.990Z"
   },
   {
    "duration": 15,
    "start_time": "2022-01-22T11:10:28.002Z"
   },
   {
    "duration": 13,
    "start_time": "2022-01-22T11:10:28.019Z"
   },
   {
    "duration": 14,
    "start_time": "2022-01-22T11:10:28.033Z"
   },
   {
    "duration": 7,
    "start_time": "2022-01-22T11:10:28.072Z"
   },
   {
    "duration": 16,
    "start_time": "2022-01-22T11:10:28.080Z"
   },
   {
    "duration": 6,
    "start_time": "2022-01-22T11:10:28.097Z"
   },
   {
    "duration": 3394,
    "start_time": "2022-01-22T11:10:28.105Z"
   },
   {
    "duration": 4,
    "start_time": "2022-01-22T11:10:31.501Z"
   },
   {
    "duration": 46,
    "start_time": "2022-01-22T11:10:31.507Z"
   },
   {
    "duration": 6,
    "start_time": "2022-01-22T11:10:31.555Z"
   },
   {
    "duration": 26,
    "start_time": "2022-01-22T11:10:31.563Z"
   },
   {
    "duration": 18,
    "start_time": "2022-01-22T11:10:31.591Z"
   },
   {
    "duration": 19,
    "start_time": "2022-01-22T11:10:31.611Z"
   },
   {
    "duration": 29,
    "start_time": "2022-01-22T11:10:31.631Z"
   },
   {
    "duration": 7,
    "start_time": "2022-01-22T11:10:31.662Z"
   },
   {
    "duration": 18,
    "start_time": "2022-01-22T11:10:31.671Z"
   },
   {
    "duration": 18,
    "start_time": "2022-01-22T11:10:31.691Z"
   },
   {
    "duration": 39,
    "start_time": "2022-01-22T11:10:31.711Z"
   },
   {
    "duration": 9,
    "start_time": "2022-01-22T11:10:31.751Z"
   },
   {
    "duration": 22,
    "start_time": "2022-01-22T11:10:31.761Z"
   },
   {
    "duration": 14,
    "start_time": "2022-01-22T11:10:31.785Z"
   },
   {
    "duration": 26,
    "start_time": "2022-01-22T11:10:31.800Z"
   },
   {
    "duration": 15,
    "start_time": "2022-01-22T11:10:31.827Z"
   },
   {
    "duration": 29,
    "start_time": "2022-01-22T11:10:31.844Z"
   },
   {
    "duration": 5,
    "start_time": "2022-01-22T11:10:31.875Z"
   },
   {
    "duration": 16,
    "start_time": "2022-01-22T11:10:31.882Z"
   },
   {
    "duration": 41,
    "start_time": "2022-01-22T11:10:31.899Z"
   },
   {
    "duration": 6,
    "start_time": "2022-01-22T11:10:31.942Z"
   },
   {
    "duration": 21,
    "start_time": "2022-01-22T11:10:31.950Z"
   },
   {
    "duration": 31,
    "start_time": "2022-01-22T11:10:31.973Z"
   },
   {
    "duration": 8,
    "start_time": "2022-01-22T11:10:32.006Z"
   },
   {
    "duration": 31,
    "start_time": "2022-01-22T11:10:32.016Z"
   },
   {
    "duration": 10,
    "start_time": "2022-01-22T11:10:32.049Z"
   },
   {
    "duration": 22,
    "start_time": "2022-01-22T11:10:32.061Z"
   },
   {
    "duration": 19,
    "start_time": "2022-01-22T11:10:32.084Z"
   },
   {
    "duration": 34,
    "start_time": "2022-01-22T11:10:32.105Z"
   },
   {
    "duration": 12,
    "start_time": "2022-01-22T11:10:32.141Z"
   },
   {
    "duration": 19,
    "start_time": "2022-01-22T11:10:32.155Z"
   },
   {
    "duration": 15,
    "start_time": "2022-01-22T11:10:32.176Z"
   },
   {
    "duration": 33,
    "start_time": "2022-01-22T11:10:32.192Z"
   },
   {
    "duration": 12,
    "start_time": "2022-01-22T11:10:32.230Z"
   },
   {
    "duration": 14,
    "start_time": "2022-01-22T11:10:32.244Z"
   },
   {
    "duration": 16,
    "start_time": "2022-01-22T11:10:32.260Z"
   },
   {
    "duration": 17,
    "start_time": "2022-01-22T11:10:32.277Z"
   },
   {
    "duration": 14,
    "start_time": "2022-01-22T11:10:32.296Z"
   },
   {
    "duration": 75,
    "start_time": "2022-01-22T11:10:57.581Z"
   },
   {
    "duration": 3,
    "start_time": "2022-01-22T11:11:01.309Z"
   },
   {
    "duration": 57,
    "start_time": "2022-01-22T11:11:02.845Z"
   },
   {
    "duration": 3,
    "start_time": "2022-01-22T11:11:05.555Z"
   },
   {
    "duration": 49,
    "start_time": "2022-01-22T11:11:05.560Z"
   },
   {
    "duration": 12,
    "start_time": "2022-01-22T11:11:05.611Z"
   },
   {
    "duration": 13,
    "start_time": "2022-01-22T11:11:05.625Z"
   },
   {
    "duration": 47,
    "start_time": "2022-01-22T11:11:05.640Z"
   },
   {
    "duration": 9,
    "start_time": "2022-01-22T11:11:05.688Z"
   },
   {
    "duration": 5,
    "start_time": "2022-01-22T11:11:05.700Z"
   },
   {
    "duration": 5,
    "start_time": "2022-01-22T11:11:05.706Z"
   },
   {
    "duration": 6,
    "start_time": "2022-01-22T11:11:05.713Z"
   },
   {
    "duration": 3,
    "start_time": "2022-01-22T11:11:05.721Z"
   },
   {
    "duration": 49,
    "start_time": "2022-01-22T11:11:05.726Z"
   },
   {
    "duration": 4,
    "start_time": "2022-01-22T11:11:05.777Z"
   },
   {
    "duration": 61,
    "start_time": "2022-01-22T11:11:05.782Z"
   },
   {
    "duration": 29,
    "start_time": "2022-01-22T11:11:05.844Z"
   },
   {
    "duration": 5,
    "start_time": "2022-01-22T11:11:05.874Z"
   },
   {
    "duration": 20,
    "start_time": "2022-01-22T11:11:05.880Z"
   },
   {
    "duration": 36,
    "start_time": "2022-01-22T11:11:05.902Z"
   },
   {
    "duration": 32,
    "start_time": "2022-01-22T11:11:05.940Z"
   },
   {
    "duration": 3,
    "start_time": "2022-01-22T11:11:05.975Z"
   },
   {
    "duration": 6,
    "start_time": "2022-01-22T11:11:05.981Z"
   },
   {
    "duration": 8,
    "start_time": "2022-01-22T11:11:05.988Z"
   },
   {
    "duration": 10,
    "start_time": "2022-01-22T11:11:05.998Z"
   },
   {
    "duration": 8,
    "start_time": "2022-01-22T11:11:06.010Z"
   },
   {
    "duration": 15,
    "start_time": "2022-01-22T11:11:06.020Z"
   },
   {
    "duration": 43,
    "start_time": "2022-01-22T11:11:06.036Z"
   },
   {
    "duration": 15,
    "start_time": "2022-01-22T11:11:06.080Z"
   },
   {
    "duration": 13,
    "start_time": "2022-01-22T11:11:06.097Z"
   },
   {
    "duration": 10,
    "start_time": "2022-01-22T11:11:06.112Z"
   },
   {
    "duration": 18,
    "start_time": "2022-01-22T11:11:06.124Z"
   },
   {
    "duration": 41,
    "start_time": "2022-01-22T11:11:06.143Z"
   },
   {
    "duration": 14,
    "start_time": "2022-01-22T11:11:06.186Z"
   },
   {
    "duration": 8,
    "start_time": "2022-01-22T11:11:06.201Z"
   },
   {
    "duration": 17,
    "start_time": "2022-01-22T11:11:06.210Z"
   },
   {
    "duration": 7,
    "start_time": "2022-01-22T11:11:06.228Z"
   },
   {
    "duration": 3348,
    "start_time": "2022-01-22T11:11:06.236Z"
   },
   {
    "duration": 3,
    "start_time": "2022-01-22T11:11:09.585Z"
   },
   {
    "duration": 23,
    "start_time": "2022-01-22T11:11:09.590Z"
   },
   {
    "duration": 6,
    "start_time": "2022-01-22T11:11:09.615Z"
   },
   {
    "duration": 7,
    "start_time": "2022-01-22T11:11:09.623Z"
   },
   {
    "duration": 5,
    "start_time": "2022-01-22T11:11:09.631Z"
   },
   {
    "duration": 40,
    "start_time": "2022-01-22T11:11:09.637Z"
   },
   {
    "duration": 12,
    "start_time": "2022-01-22T11:11:09.679Z"
   },
   {
    "duration": 7,
    "start_time": "2022-01-22T11:11:09.693Z"
   },
   {
    "duration": 14,
    "start_time": "2022-01-22T11:11:09.702Z"
   },
   {
    "duration": 10,
    "start_time": "2022-01-22T11:11:09.717Z"
   },
   {
    "duration": 44,
    "start_time": "2022-01-22T11:11:09.728Z"
   },
   {
    "duration": 9,
    "start_time": "2022-01-22T11:11:09.773Z"
   },
   {
    "duration": 14,
    "start_time": "2022-01-22T11:11:09.784Z"
   },
   {
    "duration": 6,
    "start_time": "2022-01-22T11:11:09.800Z"
   },
   {
    "duration": 12,
    "start_time": "2022-01-22T11:11:09.808Z"
   },
   {
    "duration": 8,
    "start_time": "2022-01-22T11:11:09.822Z"
   },
   {
    "duration": 51,
    "start_time": "2022-01-22T11:11:09.831Z"
   },
   {
    "duration": 4,
    "start_time": "2022-01-22T11:11:09.884Z"
   },
   {
    "duration": 8,
    "start_time": "2022-01-22T11:11:09.890Z"
   },
   {
    "duration": 17,
    "start_time": "2022-01-22T11:11:09.902Z"
   },
   {
    "duration": 3,
    "start_time": "2022-01-22T11:11:09.921Z"
   },
   {
    "duration": 10,
    "start_time": "2022-01-22T11:11:09.926Z"
   },
   {
    "duration": 42,
    "start_time": "2022-01-22T11:11:09.937Z"
   },
   {
    "duration": 9,
    "start_time": "2022-01-22T11:11:09.981Z"
   },
   {
    "duration": 18,
    "start_time": "2022-01-22T11:11:09.992Z"
   },
   {
    "duration": 8,
    "start_time": "2022-01-22T11:11:10.012Z"
   },
   {
    "duration": 13,
    "start_time": "2022-01-22T11:11:10.021Z"
   },
   {
    "duration": 15,
    "start_time": "2022-01-22T11:11:10.035Z"
   },
   {
    "duration": 37,
    "start_time": "2022-01-22T11:11:10.052Z"
   },
   {
    "duration": 8,
    "start_time": "2022-01-22T11:11:10.090Z"
   },
   {
    "duration": 13,
    "start_time": "2022-01-22T11:11:10.100Z"
   },
   {
    "duration": 9,
    "start_time": "2022-01-22T11:11:10.115Z"
   },
   {
    "duration": 17,
    "start_time": "2022-01-22T11:11:10.126Z"
   },
   {
    "duration": 38,
    "start_time": "2022-01-22T11:11:10.144Z"
   },
   {
    "duration": 9,
    "start_time": "2022-01-22T11:11:10.183Z"
   },
   {
    "duration": 6,
    "start_time": "2022-01-22T11:11:10.193Z"
   },
   {
    "duration": 11,
    "start_time": "2022-01-22T11:11:10.201Z"
   },
   {
    "duration": 14,
    "start_time": "2022-01-22T11:11:10.214Z"
   },
   {
    "duration": 4,
    "start_time": "2022-01-22T11:12:21.420Z"
   },
   {
    "duration": 5468,
    "start_time": "2022-01-22T11:12:21.852Z"
   },
   {
    "duration": 3,
    "start_time": "2022-01-22T11:12:30.779Z"
   },
   {
    "duration": 64,
    "start_time": "2022-01-22T11:12:30.784Z"
   },
   {
    "duration": 12,
    "start_time": "2022-01-22T11:12:30.850Z"
   },
   {
    "duration": 20,
    "start_time": "2022-01-22T11:12:30.863Z"
   },
   {
    "duration": 37,
    "start_time": "2022-01-22T11:12:30.884Z"
   },
   {
    "duration": 10,
    "start_time": "2022-01-22T11:12:30.922Z"
   },
   {
    "duration": 5,
    "start_time": "2022-01-22T11:12:30.935Z"
   },
   {
    "duration": 4,
    "start_time": "2022-01-22T11:12:30.942Z"
   },
   {
    "duration": 6,
    "start_time": "2022-01-22T11:12:30.972Z"
   },
   {
    "duration": 4,
    "start_time": "2022-01-22T11:12:30.980Z"
   },
   {
    "duration": 23,
    "start_time": "2022-01-22T11:12:30.986Z"
   },
   {
    "duration": 5,
    "start_time": "2022-01-22T11:12:31.011Z"
   },
   {
    "duration": 4683,
    "start_time": "2022-01-22T11:12:31.017Z"
   },
   {
    "duration": 3,
    "start_time": "2022-01-22T11:12:35.702Z"
   },
   {
    "duration": 6,
    "start_time": "2022-01-22T11:12:35.707Z"
   },
   {
    "duration": 19,
    "start_time": "2022-01-22T11:12:35.714Z"
   },
   {
    "duration": 60,
    "start_time": "2022-01-22T11:12:35.734Z"
   },
   {
    "duration": 4,
    "start_time": "2022-01-22T11:12:35.796Z"
   },
   {
    "duration": 3,
    "start_time": "2022-01-22T11:12:35.803Z"
   },
   {
    "duration": 6,
    "start_time": "2022-01-22T11:12:35.808Z"
   },
   {
    "duration": 6,
    "start_time": "2022-01-22T11:12:35.815Z"
   },
   {
    "duration": 10,
    "start_time": "2022-01-22T11:12:35.822Z"
   },
   {
    "duration": 6,
    "start_time": "2022-01-22T11:12:35.833Z"
   },
   {
    "duration": 38,
    "start_time": "2022-01-22T11:12:35.840Z"
   },
   {
    "duration": 13,
    "start_time": "2022-01-22T11:12:35.880Z"
   },
   {
    "duration": 15,
    "start_time": "2022-01-22T11:12:35.894Z"
   },
   {
    "duration": 14,
    "start_time": "2022-01-22T11:12:35.910Z"
   },
   {
    "duration": 10,
    "start_time": "2022-01-22T11:12:35.925Z"
   },
   {
    "duration": 48,
    "start_time": "2022-01-22T11:12:35.937Z"
   },
   {
    "duration": 16,
    "start_time": "2022-01-22T11:12:35.987Z"
   },
   {
    "duration": 13,
    "start_time": "2022-01-22T11:12:36.005Z"
   },
   {
    "duration": 7,
    "start_time": "2022-01-22T11:12:36.020Z"
   },
   {
    "duration": 15,
    "start_time": "2022-01-22T11:12:36.029Z"
   },
   {
    "duration": 32,
    "start_time": "2022-01-22T11:12:36.045Z"
   },
   {
    "duration": 3222,
    "start_time": "2022-01-22T11:12:36.078Z"
   },
   {
    "duration": 3,
    "start_time": "2022-01-22T11:12:39.302Z"
   },
   {
    "duration": 23,
    "start_time": "2022-01-22T11:12:39.307Z"
   },
   {
    "duration": 6,
    "start_time": "2022-01-22T11:12:39.332Z"
   },
   {
    "duration": 7,
    "start_time": "2022-01-22T11:12:39.340Z"
   },
   {
    "duration": 4,
    "start_time": "2022-01-22T11:12:39.372Z"
   },
   {
    "duration": 12,
    "start_time": "2022-01-22T11:12:39.377Z"
   },
   {
    "duration": 13,
    "start_time": "2022-01-22T11:12:39.391Z"
   },
   {
    "duration": 7,
    "start_time": "2022-01-22T11:12:39.405Z"
   },
   {
    "duration": 13,
    "start_time": "2022-01-22T11:12:39.413Z"
   },
   {
    "duration": 15,
    "start_time": "2022-01-22T11:12:39.427Z"
   },
   {
    "duration": 44,
    "start_time": "2022-01-22T11:12:39.443Z"
   },
   {
    "duration": 7,
    "start_time": "2022-01-22T11:12:39.489Z"
   },
   {
    "duration": 14,
    "start_time": "2022-01-22T11:12:39.497Z"
   },
   {
    "duration": 5,
    "start_time": "2022-01-22T11:12:39.513Z"
   },
   {
    "duration": 14,
    "start_time": "2022-01-22T11:12:39.519Z"
   },
   {
    "duration": 7,
    "start_time": "2022-01-22T11:12:39.535Z"
   },
   {
    "duration": 49,
    "start_time": "2022-01-22T11:12:39.543Z"
   },
   {
    "duration": 4,
    "start_time": "2022-01-22T11:12:39.594Z"
   },
   {
    "duration": 20,
    "start_time": "2022-01-22T11:12:39.600Z"
   },
   {
    "duration": 33,
    "start_time": "2022-01-22T11:12:39.624Z"
   },
   {
    "duration": 16,
    "start_time": "2022-01-22T11:12:39.659Z"
   },
   {
    "duration": 20,
    "start_time": "2022-01-22T11:12:39.677Z"
   },
   {
    "duration": 33,
    "start_time": "2022-01-22T11:12:39.698Z"
   },
   {
    "duration": 33,
    "start_time": "2022-01-22T11:12:39.733Z"
   },
   {
    "duration": 31,
    "start_time": "2022-01-22T11:12:39.767Z"
   },
   {
    "duration": 20,
    "start_time": "2022-01-22T11:12:39.799Z"
   },
   {
    "duration": 21,
    "start_time": "2022-01-22T11:12:39.820Z"
   },
   {
    "duration": 32,
    "start_time": "2022-01-22T11:12:39.843Z"
   },
   {
    "duration": 36,
    "start_time": "2022-01-22T11:12:39.877Z"
   },
   {
    "duration": 37,
    "start_time": "2022-01-22T11:12:39.915Z"
   },
   {
    "duration": 30,
    "start_time": "2022-01-22T11:12:39.953Z"
   },
   {
    "duration": 20,
    "start_time": "2022-01-22T11:12:39.984Z"
   },
   {
    "duration": 33,
    "start_time": "2022-01-22T11:12:40.005Z"
   },
   {
    "duration": 12,
    "start_time": "2022-01-22T11:12:40.040Z"
   },
   {
    "duration": 9,
    "start_time": "2022-01-22T11:12:40.053Z"
   },
   {
    "duration": 5,
    "start_time": "2022-01-22T11:12:40.063Z"
   },
   {
    "duration": 11,
    "start_time": "2022-01-22T11:12:40.070Z"
   },
   {
    "duration": 15,
    "start_time": "2022-01-22T11:12:40.082Z"
   },
   {
    "duration": 408,
    "start_time": "2022-01-22T11:15:12.147Z"
   },
   {
    "duration": 370,
    "start_time": "2022-01-22T11:16:00.987Z"
   },
   {
    "duration": 3,
    "start_time": "2022-01-22T11:16:43.299Z"
   },
   {
    "duration": 5264,
    "start_time": "2022-01-22T11:16:44.187Z"
   },
   {
    "duration": 2,
    "start_time": "2022-01-22T11:16:54.547Z"
   },
   {
    "duration": 51,
    "start_time": "2022-01-22T11:16:54.551Z"
   },
   {
    "duration": 12,
    "start_time": "2022-01-22T11:16:54.603Z"
   },
   {
    "duration": 11,
    "start_time": "2022-01-22T11:16:54.617Z"
   },
   {
    "duration": 51,
    "start_time": "2022-01-22T11:16:54.629Z"
   },
   {
    "duration": 8,
    "start_time": "2022-01-22T11:16:54.681Z"
   },
   {
    "duration": 4,
    "start_time": "2022-01-22T11:16:54.691Z"
   },
   {
    "duration": 6,
    "start_time": "2022-01-22T11:16:54.696Z"
   },
   {
    "duration": 7,
    "start_time": "2022-01-22T11:16:54.704Z"
   },
   {
    "duration": 3,
    "start_time": "2022-01-22T11:16:54.713Z"
   },
   {
    "duration": 13,
    "start_time": "2022-01-22T11:16:54.718Z"
   },
   {
    "duration": 8,
    "start_time": "2022-01-22T11:16:54.732Z"
   },
   {
    "duration": 4507,
    "start_time": "2022-01-22T11:16:54.772Z"
   },
   {
    "duration": 5,
    "start_time": "2022-01-22T11:16:59.281Z"
   },
   {
    "duration": 5,
    "start_time": "2022-01-22T11:16:59.288Z"
   },
   {
    "duration": 19,
    "start_time": "2022-01-22T11:16:59.295Z"
   },
   {
    "duration": 65,
    "start_time": "2022-01-22T11:16:59.316Z"
   },
   {
    "duration": 4,
    "start_time": "2022-01-22T11:16:59.383Z"
   },
   {
    "duration": 4,
    "start_time": "2022-01-22T11:16:59.389Z"
   },
   {
    "duration": 5,
    "start_time": "2022-01-22T11:16:59.394Z"
   },
   {
    "duration": 5,
    "start_time": "2022-01-22T11:16:59.401Z"
   },
   {
    "duration": 11,
    "start_time": "2022-01-22T11:16:59.408Z"
   },
   {
    "duration": 5,
    "start_time": "2022-01-22T11:16:59.420Z"
   },
   {
    "duration": 47,
    "start_time": "2022-01-22T11:16:59.429Z"
   },
   {
    "duration": 15,
    "start_time": "2022-01-22T11:16:59.479Z"
   },
   {
    "duration": 16,
    "start_time": "2022-01-22T11:16:59.496Z"
   },
   {
    "duration": 15,
    "start_time": "2022-01-22T11:16:59.514Z"
   },
   {
    "duration": 44,
    "start_time": "2022-01-22T11:16:59.531Z"
   },
   {
    "duration": 17,
    "start_time": "2022-01-22T11:16:59.577Z"
   },
   {
    "duration": 17,
    "start_time": "2022-01-22T11:16:59.596Z"
   },
   {
    "duration": 15,
    "start_time": "2022-01-22T11:16:59.614Z"
   },
   {
    "duration": 9,
    "start_time": "2022-01-22T11:16:59.631Z"
   },
   {
    "duration": 42,
    "start_time": "2022-01-22T11:16:59.641Z"
   },
   {
    "duration": 9,
    "start_time": "2022-01-22T11:16:59.685Z"
   },
   {
    "duration": 3457,
    "start_time": "2022-01-22T11:16:59.696Z"
   },
   {
    "duration": 3,
    "start_time": "2022-01-22T11:17:03.155Z"
   },
   {
    "duration": 23,
    "start_time": "2022-01-22T11:17:03.171Z"
   },
   {
    "duration": 6,
    "start_time": "2022-01-22T11:17:03.195Z"
   },
   {
    "duration": 8,
    "start_time": "2022-01-22T11:17:03.203Z"
   },
   {
    "duration": 5,
    "start_time": "2022-01-22T11:17:03.212Z"
   },
   {
    "duration": 12,
    "start_time": "2022-01-22T11:17:03.219Z"
   },
   {
    "duration": 46,
    "start_time": "2022-01-22T11:17:03.233Z"
   },
   {
    "duration": 7,
    "start_time": "2022-01-22T11:17:03.281Z"
   },
   {
    "duration": 11,
    "start_time": "2022-01-22T11:17:03.290Z"
   },
   {
    "duration": 7,
    "start_time": "2022-01-22T11:17:03.303Z"
   },
   {
    "duration": 22,
    "start_time": "2022-01-22T11:17:03.312Z"
   },
   {
    "duration": 37,
    "start_time": "2022-01-22T11:17:03.336Z"
   },
   {
    "duration": 13,
    "start_time": "2022-01-22T11:17:03.374Z"
   },
   {
    "duration": 4,
    "start_time": "2022-01-22T11:17:03.388Z"
   },
   {
    "duration": 12,
    "start_time": "2022-01-22T11:17:03.393Z"
   },
   {
    "duration": 7,
    "start_time": "2022-01-22T11:17:03.407Z"
   },
   {
    "duration": 24,
    "start_time": "2022-01-22T11:17:03.415Z"
   },
   {
    "duration": 31,
    "start_time": "2022-01-22T11:17:03.441Z"
   },
   {
    "duration": 8,
    "start_time": "2022-01-22T11:17:03.474Z"
   },
   {
    "duration": 17,
    "start_time": "2022-01-22T11:17:03.483Z"
   },
   {
    "duration": 3,
    "start_time": "2022-01-22T11:17:03.502Z"
   },
   {
    "duration": 11,
    "start_time": "2022-01-22T11:17:03.507Z"
   },
   {
    "duration": 13,
    "start_time": "2022-01-22T11:17:03.519Z"
   },
   {
    "duration": 11,
    "start_time": "2022-01-22T11:17:03.533Z"
   },
   {
    "duration": 35,
    "start_time": "2022-01-22T11:17:03.545Z"
   },
   {
    "duration": 6,
    "start_time": "2022-01-22T11:17:03.582Z"
   },
   {
    "duration": 14,
    "start_time": "2022-01-22T11:17:03.589Z"
   },
   {
    "duration": 10,
    "start_time": "2022-01-22T11:17:03.604Z"
   },
   {
    "duration": 27,
    "start_time": "2022-01-22T11:17:03.616Z"
   },
   {
    "duration": 7,
    "start_time": "2022-01-22T11:17:03.644Z"
   },
   {
    "duration": 23,
    "start_time": "2022-01-22T11:17:03.653Z"
   },
   {
    "duration": 5,
    "start_time": "2022-01-22T11:17:03.677Z"
   },
   {
    "duration": 17,
    "start_time": "2022-01-22T11:17:03.683Z"
   },
   {
    "duration": 13,
    "start_time": "2022-01-22T11:17:03.704Z"
   },
   {
    "duration": 12,
    "start_time": "2022-01-22T11:17:03.719Z"
   },
   {
    "duration": 6,
    "start_time": "2022-01-22T11:17:03.733Z"
   },
   {
    "duration": 36,
    "start_time": "2022-01-22T11:17:03.741Z"
   },
   {
    "duration": 10,
    "start_time": "2022-01-22T11:17:03.779Z"
   },
   {
    "duration": 3,
    "start_time": "2022-01-22T11:17:55.771Z"
   },
   {
    "duration": 804,
    "start_time": "2022-01-22T11:17:56.459Z"
   },
   {
    "duration": 3,
    "start_time": "2022-01-22T11:18:07.272Z"
   },
   {
    "duration": 554,
    "start_time": "2022-01-22T11:18:07.914Z"
   },
   {
    "duration": 290,
    "start_time": "2022-01-22T11:18:42.457Z"
   },
   {
    "duration": 244,
    "start_time": "2022-01-22T11:19:58.098Z"
   },
   {
    "duration": 833,
    "start_time": "2022-01-22T11:20:13.497Z"
   },
   {
    "duration": 279,
    "start_time": "2022-01-22T11:20:23.072Z"
   },
   {
    "duration": 7,
    "start_time": "2022-01-22T11:20:36.801Z"
   },
   {
    "duration": 94,
    "start_time": "2022-01-22T11:20:57.412Z"
   },
   {
    "duration": 3,
    "start_time": "2022-01-22T11:21:03.888Z"
   },
   {
    "duration": 7,
    "start_time": "2022-01-22T11:21:08.017Z"
   },
   {
    "duration": 36,
    "start_time": "2022-01-22T11:21:08.026Z"
   },
   {
    "duration": 3,
    "start_time": "2022-01-22T11:21:15.313Z"
   },
   {
    "duration": 55,
    "start_time": "2022-01-22T11:21:15.318Z"
   },
   {
    "duration": 17,
    "start_time": "2022-01-22T11:21:15.376Z"
   },
   {
    "duration": 15,
    "start_time": "2022-01-22T11:21:15.395Z"
   },
   {
    "duration": 65,
    "start_time": "2022-01-22T11:21:15.412Z"
   },
   {
    "duration": 12,
    "start_time": "2022-01-22T11:21:15.479Z"
   },
   {
    "duration": 6,
    "start_time": "2022-01-22T11:21:15.494Z"
   },
   {
    "duration": 5,
    "start_time": "2022-01-22T11:21:15.501Z"
   },
   {
    "duration": 8,
    "start_time": "2022-01-22T11:21:15.508Z"
   },
   {
    "duration": 4,
    "start_time": "2022-01-22T11:21:15.518Z"
   },
   {
    "duration": 49,
    "start_time": "2022-01-22T11:21:15.524Z"
   },
   {
    "duration": 4,
    "start_time": "2022-01-22T11:21:15.574Z"
   },
   {
    "duration": 20,
    "start_time": "2022-01-22T11:21:15.580Z"
   },
   {
    "duration": 5,
    "start_time": "2022-01-22T11:21:15.602Z"
   },
   {
    "duration": 6,
    "start_time": "2022-01-22T11:21:15.609Z"
   },
   {
    "duration": 58,
    "start_time": "2022-01-22T11:21:15.617Z"
   },
   {
    "duration": 38,
    "start_time": "2022-01-22T11:21:15.677Z"
   },
   {
    "duration": 6,
    "start_time": "2022-01-22T11:21:15.717Z"
   },
   {
    "duration": 3,
    "start_time": "2022-01-22T11:21:15.728Z"
   },
   {
    "duration": 36,
    "start_time": "2022-01-22T11:21:15.735Z"
   },
   {
    "duration": 6,
    "start_time": "2022-01-22T11:21:15.774Z"
   },
   {
    "duration": 13,
    "start_time": "2022-01-22T11:21:15.782Z"
   },
   {
    "duration": 7,
    "start_time": "2022-01-22T11:21:15.797Z"
   },
   {
    "duration": 19,
    "start_time": "2022-01-22T11:21:15.806Z"
   },
   {
    "duration": 55,
    "start_time": "2022-01-22T11:21:15.827Z"
   },
   {
    "duration": 20,
    "start_time": "2022-01-22T11:21:15.884Z"
   },
   {
    "duration": 18,
    "start_time": "2022-01-22T11:21:15.906Z"
   },
   {
    "duration": 15,
    "start_time": "2022-01-22T11:21:15.926Z"
   },
   {
    "duration": 42,
    "start_time": "2022-01-22T11:21:15.943Z"
   },
   {
    "duration": 17,
    "start_time": "2022-01-22T11:21:15.988Z"
   },
   {
    "duration": 15,
    "start_time": "2022-01-22T11:21:16.007Z"
   },
   {
    "duration": 8,
    "start_time": "2022-01-22T11:21:16.024Z"
   },
   {
    "duration": 40,
    "start_time": "2022-01-22T11:21:16.034Z"
   },
   {
    "duration": 6,
    "start_time": "2022-01-22T11:21:16.076Z"
   },
   {
    "duration": 3663,
    "start_time": "2022-01-22T11:21:16.084Z"
   },
   {
    "duration": 4,
    "start_time": "2022-01-22T11:21:19.750Z"
   },
   {
    "duration": 45,
    "start_time": "2022-01-22T11:21:19.756Z"
   },
   {
    "duration": 8,
    "start_time": "2022-01-22T11:21:19.803Z"
   },
   {
    "duration": 10,
    "start_time": "2022-01-22T11:21:19.813Z"
   },
   {
    "duration": 5,
    "start_time": "2022-01-22T11:21:19.825Z"
   },
   {
    "duration": 13,
    "start_time": "2022-01-22T11:21:19.831Z"
   },
   {
    "duration": 13,
    "start_time": "2022-01-22T11:21:19.872Z"
   },
   {
    "duration": 10,
    "start_time": "2022-01-22T11:21:19.887Z"
   },
   {
    "duration": 13,
    "start_time": "2022-01-22T11:21:19.899Z"
   },
   {
    "duration": 8,
    "start_time": "2022-01-22T11:21:19.914Z"
   },
   {
    "duration": 19,
    "start_time": "2022-01-22T11:21:19.923Z"
   },
   {
    "duration": 8,
    "start_time": "2022-01-22T11:21:19.972Z"
   },
   {
    "duration": 14,
    "start_time": "2022-01-22T11:21:19.981Z"
   },
   {
    "duration": 5,
    "start_time": "2022-01-22T11:21:19.996Z"
   },
   {
    "duration": 12,
    "start_time": "2022-01-22T11:21:20.002Z"
   },
   {
    "duration": 8,
    "start_time": "2022-01-22T11:21:20.015Z"
   },
   {
    "duration": 71,
    "start_time": "2022-01-22T11:21:20.025Z"
   },
   {
    "duration": 6,
    "start_time": "2022-01-22T11:21:20.098Z"
   },
   {
    "duration": 7,
    "start_time": "2022-01-22T11:21:20.106Z"
   },
   {
    "duration": 17,
    "start_time": "2022-01-22T11:21:20.117Z"
   },
   {
    "duration": 5,
    "start_time": "2022-01-22T11:21:20.136Z"
   },
   {
    "duration": 36,
    "start_time": "2022-01-22T11:21:20.142Z"
   },
   {
    "duration": 11,
    "start_time": "2022-01-22T11:21:20.180Z"
   },
   {
    "duration": 7,
    "start_time": "2022-01-22T11:21:20.193Z"
   },
   {
    "duration": 17,
    "start_time": "2022-01-22T11:21:20.202Z"
   },
   {
    "duration": 7,
    "start_time": "2022-01-22T11:21:20.221Z"
   },
   {
    "duration": 45,
    "start_time": "2022-01-22T11:21:20.230Z"
   },
   {
    "duration": 7,
    "start_time": "2022-01-22T11:21:20.277Z"
   },
   {
    "duration": 19,
    "start_time": "2022-01-22T11:21:20.286Z"
   },
   {
    "duration": 8,
    "start_time": "2022-01-22T11:21:20.307Z"
   },
   {
    "duration": 13,
    "start_time": "2022-01-22T11:21:20.316Z"
   },
   {
    "duration": 8,
    "start_time": "2022-01-22T11:21:20.330Z"
   },
   {
    "duration": 45,
    "start_time": "2022-01-22T11:21:20.340Z"
   },
   {
    "duration": 12,
    "start_time": "2022-01-22T11:21:20.387Z"
   },
   {
    "duration": 10,
    "start_time": "2022-01-22T11:21:20.401Z"
   },
   {
    "duration": 7,
    "start_time": "2022-01-22T11:21:20.413Z"
   },
   {
    "duration": 12,
    "start_time": "2022-01-22T11:21:20.421Z"
   },
   {
    "duration": 13,
    "start_time": "2022-01-22T11:21:20.435Z"
   },
   {
    "duration": 3,
    "start_time": "2022-01-22T11:21:41.160Z"
   },
   {
    "duration": 20,
    "start_time": "2022-01-22T11:21:41.696Z"
   },
   {
    "duration": 4,
    "start_time": "2022-01-22T11:21:44.800Z"
   },
   {
    "duration": 26,
    "start_time": "2022-01-22T11:21:45.247Z"
   },
   {
    "duration": 3,
    "start_time": "2022-01-22T11:21:58.240Z"
   },
   {
    "duration": 67,
    "start_time": "2022-01-22T11:21:58.246Z"
   },
   {
    "duration": 16,
    "start_time": "2022-01-22T11:21:58.316Z"
   },
   {
    "duration": 14,
    "start_time": "2022-01-22T11:21:58.334Z"
   },
   {
    "duration": 40,
    "start_time": "2022-01-22T11:21:58.372Z"
   },
   {
    "duration": 13,
    "start_time": "2022-01-22T11:21:58.414Z"
   },
   {
    "duration": 12,
    "start_time": "2022-01-22T11:21:58.429Z"
   },
   {
    "duration": 29,
    "start_time": "2022-01-22T11:21:58.443Z"
   },
   {
    "duration": 7,
    "start_time": "2022-01-22T11:21:58.474Z"
   },
   {
    "duration": 5,
    "start_time": "2022-01-22T11:21:58.483Z"
   },
   {
    "duration": 16,
    "start_time": "2022-01-22T11:21:58.489Z"
   },
   {
    "duration": 24,
    "start_time": "2022-01-22T11:21:58.507Z"
   },
   {
    "duration": 40,
    "start_time": "2022-01-22T11:21:58.533Z"
   },
   {
    "duration": 4,
    "start_time": "2022-01-22T11:21:58.575Z"
   },
   {
    "duration": 29,
    "start_time": "2022-01-22T11:21:58.580Z"
   },
   {
    "duration": 77,
    "start_time": "2022-01-22T11:21:58.611Z"
   },
   {
    "duration": 5,
    "start_time": "2022-01-22T11:21:58.690Z"
   },
   {
    "duration": 13,
    "start_time": "2022-01-22T11:21:58.697Z"
   },
   {
    "duration": 16,
    "start_time": "2022-01-22T11:21:58.715Z"
   },
   {
    "duration": 12,
    "start_time": "2022-01-22T11:21:58.733Z"
   },
   {
    "duration": 18,
    "start_time": "2022-01-22T11:21:58.747Z"
   },
   {
    "duration": 7,
    "start_time": "2022-01-22T11:21:58.767Z"
   },
   {
    "duration": 14,
    "start_time": "2022-01-22T11:21:58.776Z"
   },
   {
    "duration": 17,
    "start_time": "2022-01-22T11:21:58.792Z"
   },
   {
    "duration": 19,
    "start_time": "2022-01-22T11:21:58.811Z"
   },
   {
    "duration": 19,
    "start_time": "2022-01-22T11:21:58.831Z"
   },
   {
    "duration": 14,
    "start_time": "2022-01-22T11:21:58.872Z"
   },
   {
    "duration": 26,
    "start_time": "2022-01-22T11:21:58.888Z"
   },
   {
    "duration": 19,
    "start_time": "2022-01-22T11:21:58.916Z"
   },
   {
    "duration": 17,
    "start_time": "2022-01-22T11:21:58.937Z"
   },
   {
    "duration": 13,
    "start_time": "2022-01-22T11:21:58.971Z"
   },
   {
    "duration": 29,
    "start_time": "2022-01-22T11:21:58.985Z"
   },
   {
    "duration": 7,
    "start_time": "2022-01-22T11:21:59.015Z"
   },
   {
    "duration": 3708,
    "start_time": "2022-01-22T11:21:59.024Z"
   },
   {
    "duration": 4,
    "start_time": "2022-01-22T11:22:02.734Z"
   },
   {
    "duration": 39,
    "start_time": "2022-01-22T11:22:02.739Z"
   },
   {
    "duration": 7,
    "start_time": "2022-01-22T11:22:02.780Z"
   },
   {
    "duration": 9,
    "start_time": "2022-01-22T11:22:02.789Z"
   },
   {
    "duration": 5,
    "start_time": "2022-01-22T11:22:02.800Z"
   },
   {
    "duration": 19,
    "start_time": "2022-01-22T11:22:02.807Z"
   },
   {
    "duration": 22,
    "start_time": "2022-01-22T11:22:02.828Z"
   },
   {
    "duration": 31,
    "start_time": "2022-01-22T11:22:02.851Z"
   },
   {
    "duration": 24,
    "start_time": "2022-01-22T11:22:02.883Z"
   },
   {
    "duration": 17,
    "start_time": "2022-01-22T11:22:02.908Z"
   },
   {
    "duration": 23,
    "start_time": "2022-01-22T11:22:02.927Z"
   },
   {
    "duration": 14,
    "start_time": "2022-01-22T11:22:02.952Z"
   },
   {
    "duration": 13,
    "start_time": "2022-01-22T11:22:02.968Z"
   },
   {
    "duration": 13,
    "start_time": "2022-01-22T11:22:02.983Z"
   },
   {
    "duration": 19,
    "start_time": "2022-01-22T11:22:02.997Z"
   },
   {
    "duration": 13,
    "start_time": "2022-01-22T11:22:03.017Z"
   },
   {
    "duration": 52,
    "start_time": "2022-01-22T11:22:03.032Z"
   },
   {
    "duration": 5,
    "start_time": "2022-01-22T11:22:03.085Z"
   },
   {
    "duration": 21,
    "start_time": "2022-01-22T11:22:03.092Z"
   },
   {
    "duration": 31,
    "start_time": "2022-01-22T11:22:03.115Z"
   },
   {
    "duration": 5,
    "start_time": "2022-01-22T11:22:03.152Z"
   },
   {
    "duration": 24,
    "start_time": "2022-01-22T11:22:03.159Z"
   },
   {
    "duration": 26,
    "start_time": "2022-01-22T11:22:03.185Z"
   },
   {
    "duration": 9,
    "start_time": "2022-01-22T11:22:03.212Z"
   },
   {
    "duration": 34,
    "start_time": "2022-01-22T11:22:03.223Z"
   },
   {
    "duration": 8,
    "start_time": "2022-01-22T11:22:03.259Z"
   },
   {
    "duration": 21,
    "start_time": "2022-01-22T11:22:03.268Z"
   },
   {
    "duration": 13,
    "start_time": "2022-01-22T11:22:03.291Z"
   },
   {
    "duration": 27,
    "start_time": "2022-01-22T11:22:03.305Z"
   },
   {
    "duration": 8,
    "start_time": "2022-01-22T11:22:03.334Z"
   },
   {
    "duration": 17,
    "start_time": "2022-01-22T11:22:03.343Z"
   },
   {
    "duration": 20,
    "start_time": "2022-01-22T11:22:03.362Z"
   },
   {
    "duration": 31,
    "start_time": "2022-01-22T11:22:03.384Z"
   },
   {
    "duration": 16,
    "start_time": "2022-01-22T11:22:03.417Z"
   },
   {
    "duration": 19,
    "start_time": "2022-01-22T11:22:03.435Z"
   },
   {
    "duration": 6,
    "start_time": "2022-01-22T11:22:03.455Z"
   },
   {
    "duration": 13,
    "start_time": "2022-01-22T11:22:03.462Z"
   },
   {
    "duration": 14,
    "start_time": "2022-01-22T11:22:03.476Z"
   },
   {
    "duration": 3732,
    "start_time": "2022-01-22T11:22:48.625Z"
   },
   {
    "duration": 2,
    "start_time": "2022-01-22T11:23:02.975Z"
   },
   {
    "duration": 61,
    "start_time": "2022-01-22T11:23:02.979Z"
   },
   {
    "duration": 12,
    "start_time": "2022-01-22T11:23:03.041Z"
   },
   {
    "duration": 25,
    "start_time": "2022-01-22T11:23:03.055Z"
   },
   {
    "duration": 38,
    "start_time": "2022-01-22T11:23:03.081Z"
   },
   {
    "duration": 9,
    "start_time": "2022-01-22T11:23:03.121Z"
   },
   {
    "duration": 15,
    "start_time": "2022-01-22T11:23:03.132Z"
   },
   {
    "duration": 33,
    "start_time": "2022-01-22T11:23:03.149Z"
   },
   {
    "duration": 11,
    "start_time": "2022-01-22T11:23:03.184Z"
   },
   {
    "duration": 16,
    "start_time": "2022-01-22T11:23:03.197Z"
   },
   {
    "duration": 27,
    "start_time": "2022-01-22T11:23:03.214Z"
   },
   {
    "duration": 3544,
    "start_time": "2022-01-22T11:23:03.243Z"
   },
   {
    "duration": 1364,
    "start_time": "2022-01-22T11:23:05.427Z"
   },
   {
    "duration": 1357,
    "start_time": "2022-01-22T11:23:05.435Z"
   },
   {
    "duration": 1352,
    "start_time": "2022-01-22T11:23:05.441Z"
   },
   {
    "duration": 1346,
    "start_time": "2022-01-22T11:23:05.447Z"
   },
   {
    "duration": 1342,
    "start_time": "2022-01-22T11:23:05.452Z"
   },
   {
    "duration": 1337,
    "start_time": "2022-01-22T11:23:05.458Z"
   },
   {
    "duration": 1333,
    "start_time": "2022-01-22T11:23:05.463Z"
   },
   {
    "duration": 1328,
    "start_time": "2022-01-22T11:23:05.469Z"
   },
   {
    "duration": 1323,
    "start_time": "2022-01-22T11:23:05.475Z"
   },
   {
    "duration": 1318,
    "start_time": "2022-01-22T11:23:05.481Z"
   },
   {
    "duration": 1313,
    "start_time": "2022-01-22T11:23:05.487Z"
   },
   {
    "duration": 1307,
    "start_time": "2022-01-22T11:23:05.494Z"
   },
   {
    "duration": 1303,
    "start_time": "2022-01-22T11:23:05.499Z"
   },
   {
    "duration": 1297,
    "start_time": "2022-01-22T11:23:05.506Z"
   },
   {
    "duration": 1293,
    "start_time": "2022-01-22T11:23:05.511Z"
   },
   {
    "duration": 1279,
    "start_time": "2022-01-22T11:23:05.526Z"
   },
   {
    "duration": 1275,
    "start_time": "2022-01-22T11:23:05.531Z"
   },
   {
    "duration": 1269,
    "start_time": "2022-01-22T11:23:05.538Z"
   },
   {
    "duration": 1264,
    "start_time": "2022-01-22T11:23:05.544Z"
   },
   {
    "duration": 1259,
    "start_time": "2022-01-22T11:23:05.550Z"
   },
   {
    "duration": 1255,
    "start_time": "2022-01-22T11:23:05.555Z"
   },
   {
    "duration": 1250,
    "start_time": "2022-01-22T11:23:05.561Z"
   },
   {
    "duration": 1246,
    "start_time": "2022-01-22T11:23:05.567Z"
   },
   {
    "duration": 1240,
    "start_time": "2022-01-22T11:23:05.573Z"
   },
   {
    "duration": 1231,
    "start_time": "2022-01-22T11:23:05.583Z"
   },
   {
    "duration": 1226,
    "start_time": "2022-01-22T11:23:05.589Z"
   },
   {
    "duration": 1222,
    "start_time": "2022-01-22T11:23:05.594Z"
   },
   {
    "duration": 1217,
    "start_time": "2022-01-22T11:23:05.600Z"
   },
   {
    "duration": 1213,
    "start_time": "2022-01-22T11:23:05.605Z"
   },
   {
    "duration": 1208,
    "start_time": "2022-01-22T11:23:05.611Z"
   },
   {
    "duration": 1204,
    "start_time": "2022-01-22T11:23:05.616Z"
   },
   {
    "duration": 1199,
    "start_time": "2022-01-22T11:23:05.622Z"
   },
   {
    "duration": 1186,
    "start_time": "2022-01-22T11:23:05.636Z"
   },
   {
    "duration": 1181,
    "start_time": "2022-01-22T11:23:05.642Z"
   },
   {
    "duration": 1176,
    "start_time": "2022-01-22T11:23:05.648Z"
   },
   {
    "duration": 1169,
    "start_time": "2022-01-22T11:23:05.655Z"
   },
   {
    "duration": 1165,
    "start_time": "2022-01-22T11:23:05.660Z"
   },
   {
    "duration": 1160,
    "start_time": "2022-01-22T11:23:05.666Z"
   },
   {
    "duration": 1154,
    "start_time": "2022-01-22T11:23:05.673Z"
   },
   {
    "duration": 1150,
    "start_time": "2022-01-22T11:23:05.678Z"
   },
   {
    "duration": 1145,
    "start_time": "2022-01-22T11:23:05.684Z"
   },
   {
    "duration": 1139,
    "start_time": "2022-01-22T11:23:05.691Z"
   },
   {
    "duration": 1135,
    "start_time": "2022-01-22T11:23:05.696Z"
   },
   {
    "duration": 1169,
    "start_time": "2022-01-22T11:23:05.702Z"
   },
   {
    "duration": 1164,
    "start_time": "2022-01-22T11:23:05.708Z"
   },
   {
    "duration": 1160,
    "start_time": "2022-01-22T11:23:05.713Z"
   },
   {
    "duration": 1155,
    "start_time": "2022-01-22T11:23:05.719Z"
   },
   {
    "duration": 1150,
    "start_time": "2022-01-22T11:23:05.725Z"
   },
   {
    "duration": 1145,
    "start_time": "2022-01-22T11:23:05.731Z"
   },
   {
    "duration": 1131,
    "start_time": "2022-01-22T11:23:05.745Z"
   },
   {
    "duration": 1126,
    "start_time": "2022-01-22T11:23:05.751Z"
   },
   {
    "duration": 1120,
    "start_time": "2022-01-22T11:23:05.758Z"
   },
   {
    "duration": 1116,
    "start_time": "2022-01-22T11:23:05.763Z"
   },
   {
    "duration": 1110,
    "start_time": "2022-01-22T11:23:05.770Z"
   },
   {
    "duration": 1105,
    "start_time": "2022-01-22T11:23:05.776Z"
   },
   {
    "duration": 1101,
    "start_time": "2022-01-22T11:23:05.781Z"
   },
   {
    "duration": 1096,
    "start_time": "2022-01-22T11:23:05.787Z"
   },
   {
    "duration": 1091,
    "start_time": "2022-01-22T11:23:05.793Z"
   },
   {
    "duration": 1086,
    "start_time": "2022-01-22T11:23:05.799Z"
   },
   {
    "duration": 1081,
    "start_time": "2022-01-22T11:23:05.805Z"
   },
   {
    "duration": 4,
    "start_time": "2022-01-22T11:23:55.383Z"
   },
   {
    "duration": 3421,
    "start_time": "2022-01-22T11:24:15.162Z"
   },
   {
    "duration": 413,
    "start_time": "2022-01-22T11:24:28.688Z"
   },
   {
    "duration": 594,
    "start_time": "2022-01-22T11:25:06.326Z"
   },
   {
    "duration": 3663,
    "start_time": "2022-01-22T11:25:33.165Z"
   },
   {
    "duration": 415,
    "start_time": "2022-01-22T11:26:25.582Z"
   },
   {
    "duration": 371,
    "start_time": "2022-01-22T11:26:30.592Z"
   },
   {
    "duration": 6197,
    "start_time": "2022-01-22T11:27:23.461Z"
   },
   {
    "duration": 381,
    "start_time": "2022-01-22T11:27:54.998Z"
   },
   {
    "duration": 4170,
    "start_time": "2022-01-22T11:29:56.924Z"
   },
   {
    "duration": 3442,
    "start_time": "2022-01-22T11:30:15.660Z"
   },
   {
    "duration": 362,
    "start_time": "2022-01-22T11:30:59.777Z"
   },
   {
    "duration": 370,
    "start_time": "2022-01-22T11:31:09.947Z"
   },
   {
    "duration": 369,
    "start_time": "2022-01-22T11:31:18.843Z"
   },
   {
    "duration": 373,
    "start_time": "2022-01-22T11:31:30.332Z"
   },
   {
    "duration": 3,
    "start_time": "2022-01-22T11:31:34.117Z"
   },
   {
    "duration": 53,
    "start_time": "2022-01-22T11:31:34.122Z"
   },
   {
    "duration": 13,
    "start_time": "2022-01-22T11:31:34.177Z"
   },
   {
    "duration": 11,
    "start_time": "2022-01-22T11:31:34.192Z"
   },
   {
    "duration": 30,
    "start_time": "2022-01-22T11:31:34.205Z"
   },
   {
    "duration": 41,
    "start_time": "2022-01-22T11:31:34.237Z"
   },
   {
    "duration": 5,
    "start_time": "2022-01-22T11:31:34.280Z"
   },
   {
    "duration": 5,
    "start_time": "2022-01-22T11:31:34.287Z"
   },
   {
    "duration": 5,
    "start_time": "2022-01-22T11:31:34.293Z"
   },
   {
    "duration": 2,
    "start_time": "2022-01-22T11:31:34.300Z"
   },
   {
    "duration": 15,
    "start_time": "2022-01-22T11:31:34.304Z"
   },
   {
    "duration": 757,
    "start_time": "2022-01-22T11:31:34.320Z"
   },
   {
    "duration": 5,
    "start_time": "2022-01-22T11:31:35.079Z"
   },
   {
    "duration": 10,
    "start_time": "2022-01-22T11:31:35.085Z"
   },
   {
    "duration": 31,
    "start_time": "2022-01-22T11:31:35.096Z"
   },
   {
    "duration": 53,
    "start_time": "2022-01-22T11:31:35.129Z"
   },
   {
    "duration": 5,
    "start_time": "2022-01-22T11:31:35.184Z"
   },
   {
    "duration": 12,
    "start_time": "2022-01-22T11:31:35.190Z"
   },
   {
    "duration": 17,
    "start_time": "2022-01-22T11:31:35.205Z"
   },
   {
    "duration": 12,
    "start_time": "2022-01-22T11:31:35.225Z"
   },
   {
    "duration": 17,
    "start_time": "2022-01-22T11:31:35.239Z"
   },
   {
    "duration": 20,
    "start_time": "2022-01-22T11:31:35.258Z"
   },
   {
    "duration": 23,
    "start_time": "2022-01-22T11:31:35.280Z"
   },
   {
    "duration": 14,
    "start_time": "2022-01-22T11:31:35.305Z"
   },
   {
    "duration": 16,
    "start_time": "2022-01-22T11:31:35.320Z"
   },
   {
    "duration": 18,
    "start_time": "2022-01-22T11:31:35.338Z"
   },
   {
    "duration": 22,
    "start_time": "2022-01-22T11:31:35.358Z"
   },
   {
    "duration": 17,
    "start_time": "2022-01-22T11:31:35.381Z"
   },
   {
    "duration": 24,
    "start_time": "2022-01-22T11:31:35.400Z"
   },
   {
    "duration": 20,
    "start_time": "2022-01-22T11:31:35.426Z"
   },
   {
    "duration": 26,
    "start_time": "2022-01-22T11:31:35.448Z"
   },
   {
    "duration": 22,
    "start_time": "2022-01-22T11:31:35.477Z"
   },
   {
    "duration": 10,
    "start_time": "2022-01-22T11:31:35.501Z"
   },
   {
    "duration": 3377,
    "start_time": "2022-01-22T11:31:35.513Z"
   },
   {
    "duration": 3,
    "start_time": "2022-01-22T11:31:38.891Z"
   },
   {
    "duration": 23,
    "start_time": "2022-01-22T11:31:38.896Z"
   },
   {
    "duration": 6,
    "start_time": "2022-01-22T11:31:38.920Z"
   },
   {
    "duration": 7,
    "start_time": "2022-01-22T11:31:38.928Z"
   },
   {
    "duration": 3,
    "start_time": "2022-01-22T11:31:38.937Z"
   },
   {
    "duration": 35,
    "start_time": "2022-01-22T11:31:38.942Z"
   },
   {
    "duration": 13,
    "start_time": "2022-01-22T11:31:38.979Z"
   },
   {
    "duration": 7,
    "start_time": "2022-01-22T11:31:38.994Z"
   },
   {
    "duration": 14,
    "start_time": "2022-01-22T11:31:39.002Z"
   },
   {
    "duration": 11,
    "start_time": "2022-01-22T11:31:39.018Z"
   },
   {
    "duration": 41,
    "start_time": "2022-01-22T11:31:39.031Z"
   },
   {
    "duration": 7,
    "start_time": "2022-01-22T11:31:39.074Z"
   },
   {
    "duration": 13,
    "start_time": "2022-01-22T11:31:39.082Z"
   },
   {
    "duration": 8,
    "start_time": "2022-01-22T11:31:39.096Z"
   },
   {
    "duration": 12,
    "start_time": "2022-01-22T11:31:39.106Z"
   },
   {
    "duration": 9,
    "start_time": "2022-01-22T11:31:39.120Z"
   },
   {
    "duration": 45,
    "start_time": "2022-01-22T11:31:39.130Z"
   },
   {
    "duration": 4,
    "start_time": "2022-01-22T11:31:39.177Z"
   },
   {
    "duration": 7,
    "start_time": "2022-01-22T11:31:39.183Z"
   },
   {
    "duration": 19,
    "start_time": "2022-01-22T11:31:39.191Z"
   },
   {
    "duration": 4,
    "start_time": "2022-01-22T11:31:39.214Z"
   },
   {
    "duration": 10,
    "start_time": "2022-01-22T11:31:39.220Z"
   },
   {
    "duration": 13,
    "start_time": "2022-01-22T11:31:39.231Z"
   },
   {
    "duration": 32,
    "start_time": "2022-01-22T11:31:39.245Z"
   },
   {
    "duration": 16,
    "start_time": "2022-01-22T11:31:39.278Z"
   },
   {
    "duration": 7,
    "start_time": "2022-01-22T11:31:39.296Z"
   },
   {
    "duration": 12,
    "start_time": "2022-01-22T11:31:39.305Z"
   },
   {
    "duration": 15,
    "start_time": "2022-01-22T11:31:39.318Z"
   },
   {
    "duration": 37,
    "start_time": "2022-01-22T11:31:39.335Z"
   },
   {
    "duration": 8,
    "start_time": "2022-01-22T11:31:39.374Z"
   },
   {
    "duration": 13,
    "start_time": "2022-01-22T11:31:39.383Z"
   },
   {
    "duration": 11,
    "start_time": "2022-01-22T11:31:39.397Z"
   },
   {
    "duration": 22,
    "start_time": "2022-01-22T11:31:39.409Z"
   },
   {
    "duration": 12,
    "start_time": "2022-01-22T11:31:39.432Z"
   },
   {
    "duration": 7,
    "start_time": "2022-01-22T11:31:39.446Z"
   },
   {
    "duration": 5,
    "start_time": "2022-01-22T11:31:39.472Z"
   },
   {
    "duration": 11,
    "start_time": "2022-01-22T11:31:39.479Z"
   },
   {
    "duration": 13,
    "start_time": "2022-01-22T11:31:39.492Z"
   },
   {
    "duration": 395,
    "start_time": "2022-01-22T11:35:54.954Z"
   },
   {
    "duration": 2,
    "start_time": "2022-01-22T11:35:57.410Z"
   },
   {
    "duration": 48,
    "start_time": "2022-01-22T11:35:57.414Z"
   },
   {
    "duration": 11,
    "start_time": "2022-01-22T11:35:57.464Z"
   },
   {
    "duration": 9,
    "start_time": "2022-01-22T11:35:57.477Z"
   },
   {
    "duration": 28,
    "start_time": "2022-01-22T11:35:57.488Z"
   },
   {
    "duration": 8,
    "start_time": "2022-01-22T11:35:57.517Z"
   },
   {
    "duration": 5,
    "start_time": "2022-01-22T11:35:57.527Z"
   },
   {
    "duration": 39,
    "start_time": "2022-01-22T11:35:57.534Z"
   },
   {
    "duration": 11,
    "start_time": "2022-01-22T11:35:57.576Z"
   },
   {
    "duration": 9,
    "start_time": "2022-01-22T11:35:57.589Z"
   },
   {
    "duration": 24,
    "start_time": "2022-01-22T11:35:57.599Z"
   },
   {
    "duration": 635,
    "start_time": "2022-01-22T11:35:57.624Z"
   },
   {
    "duration": 13,
    "start_time": "2022-01-22T11:35:58.260Z"
   },
   {
    "duration": 5,
    "start_time": "2022-01-22T11:35:58.275Z"
   },
   {
    "duration": 19,
    "start_time": "2022-01-22T11:35:58.282Z"
   },
   {
    "duration": 38,
    "start_time": "2022-01-22T11:35:58.302Z"
   },
   {
    "duration": 4,
    "start_time": "2022-01-22T11:35:58.341Z"
   },
   {
    "duration": 3,
    "start_time": "2022-01-22T11:35:58.371Z"
   },
   {
    "duration": 5,
    "start_time": "2022-01-22T11:35:58.376Z"
   },
   {
    "duration": 6,
    "start_time": "2022-01-22T11:35:58.382Z"
   },
   {
    "duration": 10,
    "start_time": "2022-01-22T11:35:58.389Z"
   },
   {
    "duration": 7,
    "start_time": "2022-01-22T11:35:58.400Z"
   },
   {
    "duration": 15,
    "start_time": "2022-01-22T11:35:58.409Z"
   },
   {
    "duration": 12,
    "start_time": "2022-01-22T11:35:58.428Z"
   },
   {
    "duration": 42,
    "start_time": "2022-01-22T11:35:58.442Z"
   },
   {
    "duration": 13,
    "start_time": "2022-01-22T11:35:58.485Z"
   },
   {
    "duration": 10,
    "start_time": "2022-01-22T11:35:58.499Z"
   },
   {
    "duration": 17,
    "start_time": "2022-01-22T11:35:58.510Z"
   },
   {
    "duration": 14,
    "start_time": "2022-01-22T11:35:58.529Z"
   },
   {
    "duration": 33,
    "start_time": "2022-01-22T11:35:58.544Z"
   },
   {
    "duration": 7,
    "start_time": "2022-01-22T11:35:58.579Z"
   },
   {
    "duration": 15,
    "start_time": "2022-01-22T11:35:58.587Z"
   },
   {
    "duration": 6,
    "start_time": "2022-01-22T11:35:58.604Z"
   },
   {
    "duration": 3675,
    "start_time": "2022-01-22T11:35:58.611Z"
   },
   {
    "duration": 3,
    "start_time": "2022-01-22T11:36:02.288Z"
   },
   {
    "duration": 40,
    "start_time": "2022-01-22T11:36:02.292Z"
   },
   {
    "duration": 6,
    "start_time": "2022-01-22T11:36:02.334Z"
   },
   {
    "duration": 16,
    "start_time": "2022-01-22T11:36:02.341Z"
   },
   {
    "duration": 10,
    "start_time": "2022-01-22T11:36:02.358Z"
   },
   {
    "duration": 31,
    "start_time": "2022-01-22T11:36:02.370Z"
   },
   {
    "duration": 25,
    "start_time": "2022-01-22T11:36:02.402Z"
   },
   {
    "duration": 12,
    "start_time": "2022-01-22T11:36:02.429Z"
   },
   {
    "duration": 27,
    "start_time": "2022-01-22T11:36:02.443Z"
   },
   {
    "duration": 23,
    "start_time": "2022-01-22T11:36:02.472Z"
   },
   {
    "duration": 30,
    "start_time": "2022-01-22T11:36:02.497Z"
   },
   {
    "duration": 13,
    "start_time": "2022-01-22T11:36:02.528Z"
   },
   {
    "duration": 29,
    "start_time": "2022-01-22T11:36:02.543Z"
   },
   {
    "duration": 14,
    "start_time": "2022-01-22T11:36:02.574Z"
   },
   {
    "duration": 33,
    "start_time": "2022-01-22T11:36:02.590Z"
   },
   {
    "duration": 10,
    "start_time": "2022-01-22T11:36:02.624Z"
   },
   {
    "duration": 36,
    "start_time": "2022-01-22T11:36:02.635Z"
   },
   {
    "duration": 6,
    "start_time": "2022-01-22T11:36:02.673Z"
   },
   {
    "duration": 24,
    "start_time": "2022-01-22T11:36:02.681Z"
   },
   {
    "duration": 24,
    "start_time": "2022-01-22T11:36:02.706Z"
   },
   {
    "duration": 7,
    "start_time": "2022-01-22T11:36:02.732Z"
   },
   {
    "duration": 19,
    "start_time": "2022-01-22T11:36:02.741Z"
   },
   {
    "duration": 22,
    "start_time": "2022-01-22T11:36:02.762Z"
   },
   {
    "duration": 23,
    "start_time": "2022-01-22T11:36:02.785Z"
   },
   {
    "duration": 22,
    "start_time": "2022-01-22T11:36:02.810Z"
   },
   {
    "duration": 8,
    "start_time": "2022-01-22T11:36:02.834Z"
   },
   {
    "duration": 23,
    "start_time": "2022-01-22T11:36:02.844Z"
   },
   {
    "duration": 15,
    "start_time": "2022-01-22T11:36:02.869Z"
   },
   {
    "duration": 47,
    "start_time": "2022-01-22T11:36:02.885Z"
   },
   {
    "duration": 10,
    "start_time": "2022-01-22T11:36:02.934Z"
   },
   {
    "duration": 23,
    "start_time": "2022-01-22T11:36:02.946Z"
   },
   {
    "duration": 25,
    "start_time": "2022-01-22T11:36:02.971Z"
   },
   {
    "duration": 31,
    "start_time": "2022-01-22T11:36:02.998Z"
   },
   {
    "duration": 14,
    "start_time": "2022-01-22T11:36:03.031Z"
   },
   {
    "duration": 15,
    "start_time": "2022-01-22T11:36:03.049Z"
   },
   {
    "duration": 14,
    "start_time": "2022-01-22T11:36:03.066Z"
   },
   {
    "duration": 16,
    "start_time": "2022-01-22T11:36:03.082Z"
   },
   {
    "duration": 22,
    "start_time": "2022-01-22T11:36:03.099Z"
   },
   {
    "duration": 1201,
    "start_time": "2022-01-22T13:35:27.044Z"
   },
   {
    "duration": 54,
    "start_time": "2022-01-22T13:35:28.247Z"
   },
   {
    "duration": 21,
    "start_time": "2022-01-22T13:35:28.304Z"
   },
   {
    "duration": 32,
    "start_time": "2022-01-22T13:35:28.327Z"
   },
   {
    "duration": 45,
    "start_time": "2022-01-22T13:35:28.360Z"
   },
   {
    "duration": 14,
    "start_time": "2022-01-22T13:35:28.407Z"
   },
   {
    "duration": 9,
    "start_time": "2022-01-22T13:35:28.423Z"
   },
   {
    "duration": 31,
    "start_time": "2022-01-22T13:35:28.434Z"
   },
   {
    "duration": 10,
    "start_time": "2022-01-22T13:35:28.469Z"
   },
   {
    "duration": 5,
    "start_time": "2022-01-22T13:35:28.482Z"
   },
   {
    "duration": 17,
    "start_time": "2022-01-22T13:35:28.489Z"
   },
   {
    "duration": 1214,
    "start_time": "2022-01-22T13:35:28.508Z"
   },
   {
    "duration": 6,
    "start_time": "2022-01-22T13:35:29.724Z"
   },
   {
    "duration": 37,
    "start_time": "2022-01-22T13:35:29.732Z"
   },
   {
    "duration": 90,
    "start_time": "2022-01-22T13:35:29.771Z"
   },
   {
    "duration": 40,
    "start_time": "2022-01-22T13:35:29.864Z"
   },
   {
    "duration": 4,
    "start_time": "2022-01-22T13:35:29.906Z"
   },
   {
    "duration": 28,
    "start_time": "2022-01-22T13:35:29.912Z"
   },
   {
    "duration": 23,
    "start_time": "2022-01-22T13:35:29.943Z"
   },
   {
    "duration": 26,
    "start_time": "2022-01-22T13:35:29.968Z"
   },
   {
    "duration": 35,
    "start_time": "2022-01-22T13:35:29.996Z"
   },
   {
    "duration": 19,
    "start_time": "2022-01-22T13:35:30.034Z"
   },
   {
    "duration": 31,
    "start_time": "2022-01-22T13:35:30.055Z"
   },
   {
    "duration": 42,
    "start_time": "2022-01-22T13:35:30.089Z"
   },
   {
    "duration": 42,
    "start_time": "2022-01-22T13:35:30.133Z"
   },
   {
    "duration": 34,
    "start_time": "2022-01-22T13:35:30.177Z"
   },
   {
    "duration": 23,
    "start_time": "2022-01-22T13:35:30.215Z"
   },
   {
    "duration": 48,
    "start_time": "2022-01-22T13:35:30.241Z"
   },
   {
    "duration": 45,
    "start_time": "2022-01-22T13:35:30.291Z"
   },
   {
    "duration": 41,
    "start_time": "2022-01-22T13:35:30.338Z"
   },
   {
    "duration": 44,
    "start_time": "2022-01-22T13:35:30.381Z"
   },
   {
    "duration": 30,
    "start_time": "2022-01-22T13:35:30.427Z"
   },
   {
    "duration": 27,
    "start_time": "2022-01-22T13:35:30.459Z"
   },
   {
    "duration": 4276,
    "start_time": "2022-01-22T13:35:30.488Z"
   },
   {
    "duration": 3,
    "start_time": "2022-01-22T13:35:34.766Z"
   },
   {
    "duration": 36,
    "start_time": "2022-01-22T13:35:34.771Z"
   },
   {
    "duration": 15,
    "start_time": "2022-01-22T13:35:34.809Z"
   },
   {
    "duration": 16,
    "start_time": "2022-01-22T13:35:34.826Z"
   },
   {
    "duration": 10,
    "start_time": "2022-01-22T13:35:34.844Z"
   },
   {
    "duration": 29,
    "start_time": "2022-01-22T13:35:34.856Z"
   },
   {
    "duration": 31,
    "start_time": "2022-01-22T13:35:34.887Z"
   },
   {
    "duration": 21,
    "start_time": "2022-01-22T13:35:34.920Z"
   },
   {
    "duration": 23,
    "start_time": "2022-01-22T13:35:34.943Z"
   },
   {
    "duration": 22,
    "start_time": "2022-01-22T13:35:34.968Z"
   },
   {
    "duration": 45,
    "start_time": "2022-01-22T13:35:34.992Z"
   },
   {
    "duration": 9,
    "start_time": "2022-01-22T13:35:35.039Z"
   },
   {
    "duration": 35,
    "start_time": "2022-01-22T13:35:35.050Z"
   },
   {
    "duration": 8,
    "start_time": "2022-01-22T13:35:35.087Z"
   },
   {
    "duration": 20,
    "start_time": "2022-01-22T13:35:35.097Z"
   },
   {
    "duration": 16,
    "start_time": "2022-01-22T13:35:35.119Z"
   },
   {
    "duration": 31,
    "start_time": "2022-01-22T13:35:35.137Z"
   },
   {
    "duration": 7,
    "start_time": "2022-01-22T13:35:35.170Z"
   },
   {
    "duration": 10,
    "start_time": "2022-01-22T13:35:35.179Z"
   },
   {
    "duration": 27,
    "start_time": "2022-01-22T13:35:35.190Z"
   },
   {
    "duration": 6,
    "start_time": "2022-01-22T13:35:35.219Z"
   },
   {
    "duration": 35,
    "start_time": "2022-01-22T13:35:35.227Z"
   },
   {
    "duration": 28,
    "start_time": "2022-01-22T13:35:35.264Z"
   },
   {
    "duration": 31,
    "start_time": "2022-01-22T13:35:35.294Z"
   },
   {
    "duration": 39,
    "start_time": "2022-01-22T13:35:35.327Z"
   },
   {
    "duration": 14,
    "start_time": "2022-01-22T13:35:35.368Z"
   },
   {
    "duration": 40,
    "start_time": "2022-01-22T13:35:35.384Z"
   },
   {
    "duration": 33,
    "start_time": "2022-01-22T13:35:35.426Z"
   },
   {
    "duration": 42,
    "start_time": "2022-01-22T13:35:35.461Z"
   },
   {
    "duration": 36,
    "start_time": "2022-01-22T13:35:35.505Z"
   },
   {
    "duration": 31,
    "start_time": "2022-01-22T13:35:35.542Z"
   },
   {
    "duration": 38,
    "start_time": "2022-01-22T13:35:35.575Z"
   },
   {
    "duration": 57,
    "start_time": "2022-01-22T13:35:35.615Z"
   },
   {
    "duration": 23,
    "start_time": "2022-01-22T13:35:35.674Z"
   },
   {
    "duration": 29,
    "start_time": "2022-01-22T13:35:35.699Z"
   },
   {
    "duration": 21,
    "start_time": "2022-01-22T13:35:35.730Z"
   },
   {
    "duration": 26,
    "start_time": "2022-01-22T13:35:35.753Z"
   },
   {
    "duration": 21,
    "start_time": "2022-01-22T13:35:35.781Z"
   }
  ],
  "kernelspec": {
   "display_name": "Python 3",
   "language": "python",
   "name": "python3"
  },
  "language_info": {
   "codemirror_mode": {
    "name": "ipython",
    "version": 3
   },
   "file_extension": ".py",
   "mimetype": "text/x-python",
   "name": "python",
   "nbconvert_exporter": "python",
   "pygments_lexer": "ipython3",
   "version": "3.8.8"
  },
  "toc": {
   "base_numbering": 1,
   "nav_menu": {},
   "number_sections": true,
   "sideBar": true,
   "skip_h1_title": true,
   "title_cell": "Table of Contents",
   "title_sidebar": "Contents",
   "toc_cell": false,
   "toc_position": {},
   "toc_section_display": true,
   "toc_window_display": false
  }
 },
 "nbformat": 4,
 "nbformat_minor": 2
}
