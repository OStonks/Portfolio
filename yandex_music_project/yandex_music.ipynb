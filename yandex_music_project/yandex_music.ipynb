{
 "cells": [
  {
   "cell_type": "markdown",
   "metadata": {
    "id": "E0vqbgi9ay0H"
   },
   "source": [
    "# Яндекс.Музыка"
   ]
  },
  {
   "cell_type": "markdown",
   "metadata": {
    "id": "VUC88oWjTJw2"
   },
   "source": [
    "В нашей стране сложилась такая интересная тенденция, согласно которой граждане очень часто сравнивают два крупнейших центра России - Москву и Санкт-Петербург. Сравнение же культурной и политической столиц нашего государство окружено немалым количеством мифов. Например:\n",
    "\n",
    " * Москва — мегаполис, подчинённый жёсткому ритму рабочей недели;\n",
    " * Петербург — культурная столица, со своими вкусами.\n",
    "\n",
    "У нас имеется датасет с данными Яндекс.Музыки. С помощью них мы сравним поведение пользователей двух столиц.\n",
    "\n",
    "**Цель исследования** — проверим три гипотезы:\n",
    "1. Активность пользователей зависит от дня недели. Причём в Москве и Петербурге это проявляется по-разному.\n",
    "2. В понедельник утром в Москве преобладают одни жанры, а в Петербурге — другие. Так же и вечером пятницы преобладают разные жанры — в зависимости от города. \n",
    "3. Москва и Петербург предпочитают разные жанры музыки. В Москве чаще слушают поп-музыку, в Петербурге — русский рэп.\n",
    "\n",
    "**Ход исследования**\n",
    "\n",
    "\n",
    "Мы импортируем данные, проверим их на ошибки и оценим их влияние на исследование. На этапе предобработки данных мы постараемся избавиться от ошибок и неточностей датасета.\n",
    "\n",
    "Таким образом, исследование пройдёт в три этапа:\n",
    " 1. Обзор данных.\n",
    " 2. Предобработка данных.\n",
    " 3. Проверка гипотез.\n",
    "\n"
   ]
  },
  {
   "cell_type": "markdown",
   "metadata": {
    "id": "Ml1hmfXC_Zcs"
   },
   "source": [
    "## Обзор данных\n",
    "\n",
    "На этом этапе мы должны изучить данные.\n",
    "\n"
   ]
  },
  {
   "cell_type": "markdown",
   "metadata": {
    "id": "57eAOGIz_Zcs"
   },
   "source": [
    "Прежде всего воспользуемся основной библиотекой для работы с данными в Python - pandas. Мы импортируем эту библиотеку и с помощью ее методов прочитаем датасет файла, сохранив его в переменную df. Затем мы выведем первые 10 строк датасета на экран с помощью указанной переменной."
   ]
  },
  {
   "cell_type": "code",
   "execution_count": 1,
   "metadata": {
    "id": "AXN7PHPN_Zcs"
   },
   "outputs": [],
   "source": [
    "# импорт библиотеки pandas\n",
    "import pandas as pd"
   ]
  },
  {
   "cell_type": "code",
   "execution_count": 2,
   "metadata": {
    "id": "fFVu7vqh_Zct"
   },
   "outputs": [],
   "source": [
    "# чтение файла с данными и сохранение в df\n",
    "df=pd.read_csv('/datasets/yandex_music_project.csv')"
   ]
  },
  {
   "cell_type": "code",
   "execution_count": 3,
   "metadata": {
    "id": "oWTVX3gW_Zct"
   },
   "outputs": [
    {
     "data": {
      "text/html": [
       "<div>\n",
       "<style scoped>\n",
       "    .dataframe tbody tr th:only-of-type {\n",
       "        vertical-align: middle;\n",
       "    }\n",
       "\n",
       "    .dataframe tbody tr th {\n",
       "        vertical-align: top;\n",
       "    }\n",
       "\n",
       "    .dataframe thead th {\n",
       "        text-align: right;\n",
       "    }\n",
       "</style>\n",
       "<table border=\"1\" class=\"dataframe\">\n",
       "  <thead>\n",
       "    <tr style=\"text-align: right;\">\n",
       "      <th></th>\n",
       "      <th>userID</th>\n",
       "      <th>Track</th>\n",
       "      <th>artist</th>\n",
       "      <th>genre</th>\n",
       "      <th>City</th>\n",
       "      <th>time</th>\n",
       "      <th>Day</th>\n",
       "    </tr>\n",
       "  </thead>\n",
       "  <tbody>\n",
       "    <tr>\n",
       "      <td>0</td>\n",
       "      <td>FFB692EC</td>\n",
       "      <td>Kamigata To Boots</td>\n",
       "      <td>The Mass Missile</td>\n",
       "      <td>rock</td>\n",
       "      <td>Saint-Petersburg</td>\n",
       "      <td>20:28:33</td>\n",
       "      <td>Wednesday</td>\n",
       "    </tr>\n",
       "    <tr>\n",
       "      <td>1</td>\n",
       "      <td>55204538</td>\n",
       "      <td>Delayed Because of Accident</td>\n",
       "      <td>Andreas Rönnberg</td>\n",
       "      <td>rock</td>\n",
       "      <td>Moscow</td>\n",
       "      <td>14:07:09</td>\n",
       "      <td>Friday</td>\n",
       "    </tr>\n",
       "    <tr>\n",
       "      <td>2</td>\n",
       "      <td>20EC38</td>\n",
       "      <td>Funiculì funiculà</td>\n",
       "      <td>Mario Lanza</td>\n",
       "      <td>pop</td>\n",
       "      <td>Saint-Petersburg</td>\n",
       "      <td>20:58:07</td>\n",
       "      <td>Wednesday</td>\n",
       "    </tr>\n",
       "    <tr>\n",
       "      <td>3</td>\n",
       "      <td>A3DD03C9</td>\n",
       "      <td>Dragons in the Sunset</td>\n",
       "      <td>Fire + Ice</td>\n",
       "      <td>folk</td>\n",
       "      <td>Saint-Petersburg</td>\n",
       "      <td>08:37:09</td>\n",
       "      <td>Monday</td>\n",
       "    </tr>\n",
       "    <tr>\n",
       "      <td>4</td>\n",
       "      <td>E2DC1FAE</td>\n",
       "      <td>Soul People</td>\n",
       "      <td>Space Echo</td>\n",
       "      <td>dance</td>\n",
       "      <td>Moscow</td>\n",
       "      <td>08:34:34</td>\n",
       "      <td>Monday</td>\n",
       "    </tr>\n",
       "    <tr>\n",
       "      <td>5</td>\n",
       "      <td>842029A1</td>\n",
       "      <td>Преданная</td>\n",
       "      <td>IMPERVTOR</td>\n",
       "      <td>rusrap</td>\n",
       "      <td>Saint-Petersburg</td>\n",
       "      <td>13:09:41</td>\n",
       "      <td>Friday</td>\n",
       "    </tr>\n",
       "    <tr>\n",
       "      <td>6</td>\n",
       "      <td>4CB90AA5</td>\n",
       "      <td>True</td>\n",
       "      <td>Roman Messer</td>\n",
       "      <td>dance</td>\n",
       "      <td>Moscow</td>\n",
       "      <td>13:00:07</td>\n",
       "      <td>Wednesday</td>\n",
       "    </tr>\n",
       "    <tr>\n",
       "      <td>7</td>\n",
       "      <td>F03E1C1F</td>\n",
       "      <td>Feeling This Way</td>\n",
       "      <td>Polina Griffith</td>\n",
       "      <td>dance</td>\n",
       "      <td>Moscow</td>\n",
       "      <td>20:47:49</td>\n",
       "      <td>Wednesday</td>\n",
       "    </tr>\n",
       "    <tr>\n",
       "      <td>8</td>\n",
       "      <td>8FA1D3BE</td>\n",
       "      <td>И вновь продолжается бой</td>\n",
       "      <td>NaN</td>\n",
       "      <td>ruspop</td>\n",
       "      <td>Moscow</td>\n",
       "      <td>09:17:40</td>\n",
       "      <td>Friday</td>\n",
       "    </tr>\n",
       "    <tr>\n",
       "      <td>9</td>\n",
       "      <td>E772D5C0</td>\n",
       "      <td>Pessimist</td>\n",
       "      <td>NaN</td>\n",
       "      <td>dance</td>\n",
       "      <td>Saint-Petersburg</td>\n",
       "      <td>21:20:49</td>\n",
       "      <td>Wednesday</td>\n",
       "    </tr>\n",
       "  </tbody>\n",
       "</table>\n",
       "</div>"
      ],
      "text/plain": [
       "     userID                        Track            artist   genre  \\\n",
       "0  FFB692EC            Kamigata To Boots  The Mass Missile    rock   \n",
       "1  55204538  Delayed Because of Accident  Andreas Rönnberg    rock   \n",
       "2    20EC38            Funiculì funiculà       Mario Lanza     pop   \n",
       "3  A3DD03C9        Dragons in the Sunset        Fire + Ice    folk   \n",
       "4  E2DC1FAE                  Soul People        Space Echo   dance   \n",
       "5  842029A1                    Преданная         IMPERVTOR  rusrap   \n",
       "6  4CB90AA5                         True      Roman Messer   dance   \n",
       "7  F03E1C1F             Feeling This Way   Polina Griffith   dance   \n",
       "8  8FA1D3BE     И вновь продолжается бой               NaN  ruspop   \n",
       "9  E772D5C0                    Pessimist               NaN   dance   \n",
       "\n",
       "             City        time        Day  \n",
       "0  Saint-Petersburg  20:28:33  Wednesday  \n",
       "1            Moscow  14:07:09     Friday  \n",
       "2  Saint-Petersburg  20:58:07  Wednesday  \n",
       "3  Saint-Petersburg  08:37:09     Monday  \n",
       "4            Moscow  08:34:34     Monday  \n",
       "5  Saint-Petersburg  13:09:41     Friday  \n",
       "6            Moscow  13:00:07  Wednesday  \n",
       "7            Moscow  20:47:49  Wednesday  \n",
       "8            Moscow  09:17:40     Friday  \n",
       "9  Saint-Petersburg  21:20:49  Wednesday  "
      ]
     },
     "execution_count": 3,
     "metadata": {},
     "output_type": "execute_result"
    }
   ],
   "source": [
    "# получение первых 10 строк таблицы df\n",
    "df.head(10)"
   ]
  },
  {
   "cell_type": "markdown",
   "metadata": {
    "id": "EO73Kwic_Zct"
   },
   "source": [
    "Теперь мы имеем представление о том, как выглядит датасет, а теперь нам бы не помешало получить общую информацию об этой таблице."
   ]
  },
  {
   "cell_type": "code",
   "execution_count": 4,
   "metadata": {
    "id": "DSf2kIb-_Zct"
   },
   "outputs": [
    {
     "name": "stdout",
     "output_type": "stream",
     "text": [
      "<class 'pandas.core.frame.DataFrame'>\n",
      "RangeIndex: 65079 entries, 0 to 65078\n",
      "Data columns (total 7 columns):\n",
      "  userID    65079 non-null object\n",
      "Track       63848 non-null object\n",
      "artist      57876 non-null object\n",
      "genre       63881 non-null object\n",
      "  City      65079 non-null object\n",
      "time        65079 non-null object\n",
      "Day         65079 non-null object\n",
      "dtypes: object(7)\n",
      "memory usage: 3.5+ MB\n"
     ]
    }
   ],
   "source": [
    "# получение общей информации о данных в таблице df\n",
    "df.info()"
   ]
  },
  {
   "cell_type": "markdown",
   "metadata": {
    "id": "TaQ2Iwbr_Zct"
   },
   "source": [
    "**Итог:**\n",
    "\n",
    "Итак, в таблице семь столбцов. Тип данных во всех столбцах — `object`.\n",
    "\n",
    "Согласно документации к данным:\n",
    "* `userID` — идентификатор пользователя;\n",
    "* `Track` — название трека;  \n",
    "* `artist` — имя исполнителя;\n",
    "* `genre` — название жанра;\n",
    "* `City` — город пользователя;\n",
    "* `time` — время начала прослушивания;\n",
    "* `Day` — день недели.\n",
    "\n",
    "В названиях колонок видны три нарушения стиля:\n",
    "1. Строчные буквы сочетаются с прописными.\n",
    "2. Встречаются пробелы.\n",
    "3. Встречаются слова, написанные в \"верблюжьем регистре\", а по правилам хорошего стиля желательно использовать \"змеиный регистр\"\n",
    "\n",
    "\n",
    "\n",
    "Количество значений в столбцах различается. Значит, в данных есть пропущенные значения.\n"
   ]
  },
  {
   "cell_type": "markdown",
   "metadata": {
    "id": "MCB6-dXG_Zct"
   },
   "source": [
    "**Выводы**\n",
    "\n",
    "В каждой строке таблицы — данные о прослушанном треке. Часть колонок описывает саму композицию: название, исполнителя и жанр. Остальные данные рассказывают о пользователе: из какого он города, когда он слушал музыку. \n",
    "\n",
    "Предварительно можно утверждать, что, данных достаточно для проверки гипотез. Но встречаются пропуски в данных, а в названиях колонок — расхождения с хорошим стилем.\n",
    "\n",
    "Чтобы двигаться дальше, нужно устранить проблемы в данных."
   ]
  },
  {
   "cell_type": "markdown",
   "metadata": {
    "id": "SjYF6Ub9_Zct"
   },
   "source": [
    "## Предобработка данных\n",
    "\n",
    "Исправим стиль в заголовках столбцов, исключим пропуски, затем проверим данные на дубликаты и в случае необходимости избавимся от них."
   ]
  },
  {
   "cell_type": "markdown",
   "metadata": {
    "id": "dIaKXr29_Zct"
   },
   "source": [
    "### Стиль заголовков\n",
    "Выводим на экран названия столбцов:"
   ]
  },
  {
   "cell_type": "code",
   "execution_count": 5,
   "metadata": {
    "id": "oKOTdF_Q_Zct"
   },
   "outputs": [
    {
     "data": {
      "text/plain": [
       "Index(['  userID', 'Track', 'artist', 'genre', '  City  ', 'time', 'Day'], dtype='object')"
      ]
     },
     "execution_count": 5,
     "metadata": {},
     "output_type": "execute_result"
    }
   ],
   "source": [
    "# перечень названий столбцов таблицы df\n",
    "df.columns"
   ]
  },
  {
   "cell_type": "markdown",
   "metadata": {
    "id": "zj5534cv_Zct"
   },
   "source": [
    "Привидем названия в соответствие с хорошим стилем:\n",
    "* несколько слов в названии запишем в «змеином_регистре»,\n",
    "* все символы сделаем строчными,\n",
    "* устраним пробелы.\n",
    "\n",
    "Для этого переименуем колонки так:\n",
    "* `'  userID'` → **'user_id'**;\n",
    "* `'Track'` → **'track'**;\n",
    "* `'  City  '` → **'city'**;\n",
    "* `'Day'` → **'day'**."
   ]
  },
  {
   "cell_type": "code",
   "execution_count": 6,
   "metadata": {
    "id": "ISlFqs5y_Zct"
   },
   "outputs": [],
   "source": [
    "# переименование столбцов\n",
    "df = df.rename(columns={'  userID':'user_id', 'Track':'track', '  City  ':'city', 'Day':'day'})"
   ]
  },
  {
   "cell_type": "markdown",
   "metadata": {
    "id": "1dqbh00J_Zct"
   },
   "source": [
    "Проверим результат нашей работы - для этого ещё раз выведем на экран названия столбцов:"
   ]
  },
  {
   "cell_type": "code",
   "execution_count": 7,
   "metadata": {
    "id": "d4NOAmTW_Zct"
   },
   "outputs": [
    {
     "data": {
      "text/plain": [
       "Index(['user_id', 'track', 'artist', 'genre', 'city', 'time', 'day'], dtype='object')"
      ]
     },
     "execution_count": 7,
     "metadata": {},
     "output_type": "execute_result"
    }
   ],
   "source": [
    "# проверка результатов - перечень названий столбцов\n",
    "df.columns"
   ]
  },
  {
   "cell_type": "markdown",
   "metadata": {
    "id": "5ISfbcfY_Zct"
   },
   "source": [
    "### Пропуски значений\n",
    "\n",
    "Прежде, чем начать работать с пропусками, нужно понять, есть ли они вообще и сколько пропусков в каждом столбце таблицы."
   ]
  },
  {
   "cell_type": "code",
   "execution_count": 8,
   "metadata": {
    "id": "RskX29qr_Zct"
   },
   "outputs": [
    {
     "data": {
      "text/plain": [
       "user_id       0\n",
       "track      1231\n",
       "artist     7203\n",
       "genre      1198\n",
       "city          0\n",
       "time          0\n",
       "day           0\n",
       "dtype: int64"
      ]
     },
     "execution_count": 8,
     "metadata": {},
     "output_type": "execute_result"
    }
   ],
   "source": [
    "# подсчёт пропусков\n",
    "df.isna().sum()"
   ]
  },
  {
   "cell_type": "markdown",
   "metadata": {
    "id": "qubhgnlO_Zct"
   },
   "source": [
    "Не все пропущенные значения влияют на исследование. Так, в `track` и `artist` пропуски не важны для вашей работы. Достаточно заменить их явными обозначениями.\n",
    "\n",
    "Но пропуски в `genre` могут помешать сравнению музыкальных вкусов в Москве и Санкт-Петербурге. На практике было бы правильно установить причину пропусков и восстановить данные, однако в данной ситуации данных недостаточно для этого, а потому нам придётся:\n",
    "* заполнить и эти пропуски явными обозначениями,\n",
    "* оценить, насколько они повредят расчётам. "
   ]
  },
  {
   "cell_type": "markdown",
   "metadata": {
    "id": "fSv2laPA_Zct"
   },
   "source": [
    "Заменим пропущенные значения в столбцах `track`, `artist` и `genre` на строку `'unknown'`. Для этого мы создадим список `columns_to_replace`, переберем его элементы циклом `for` и для каждого столбца выполним замену пропущенных значений:"
   ]
  },
  {
   "cell_type": "code",
   "execution_count": 9,
   "metadata": {
    "id": "KplB5qWs_Zct"
   },
   "outputs": [],
   "source": [
    "# перебор названий столбцов в цикле и замена пропущенных значений на 'unknown'\n",
    "columns_to_replace = ['track', 'artist', 'genre']\n",
    "for elem in columns_to_replace:\n",
    "    df[elem] = df[elem].fillna('unknown')"
   ]
  },
  {
   "cell_type": "markdown",
   "metadata": {
    "id": "Ilsm-MZo_Zct"
   },
   "source": [
    "Работа по устранению пропусковы выполнена. Нам нужно убедиться в том, что в таблице не осталось пропусков. Для этого мы ещё раз посчитаем пропущенные значения."
   ]
  },
  {
   "cell_type": "code",
   "execution_count": 10,
   "metadata": {
    "id": "Tq4nYRX4_Zct"
   },
   "outputs": [
    {
     "data": {
      "text/plain": [
       "user_id    0\n",
       "track      0\n",
       "artist     0\n",
       "genre      0\n",
       "city       0\n",
       "time       0\n",
       "day        0\n",
       "dtype: int64"
      ]
     },
     "execution_count": 10,
     "metadata": {},
     "output_type": "execute_result"
    }
   ],
   "source": [
    "# подсчёт пропусков\n",
    "df.isna().sum()"
   ]
  },
  {
   "cell_type": "markdown",
   "metadata": {
    "id": "BWKRtBJ3_Zct"
   },
   "source": [
    "### Дубликаты\n",
    "\n",
    "Следующим этапом является поиск явных дубликатов в таблице."
   ]
  },
  {
   "cell_type": "code",
   "execution_count": 11,
   "metadata": {
    "id": "36eES_S0_Zct"
   },
   "outputs": [
    {
     "data": {
      "text/plain": [
       "3826"
      ]
     },
     "execution_count": 11,
     "metadata": {},
     "output_type": "execute_result"
    }
   ],
   "source": [
    "# подсчёт явных дубликатов\n",
    "df.duplicated().sum()"
   ]
  },
  {
   "cell_type": "markdown",
   "metadata": {
    "id": "Ot25h6XR_Zct"
   },
   "source": [
    "Теперь специальным методом избавимся ото всех дубликатов."
   ]
  },
  {
   "cell_type": "code",
   "execution_count": 12,
   "metadata": {
    "id": "exFHq6tt_Zct"
   },
   "outputs": [],
   "source": [
    "# удаление явных дубликатов (с удалением старых индексов и формированием новых)\n",
    "df = df.drop_duplicates().reset_index(drop=True)"
   ]
  },
  {
   "cell_type": "markdown",
   "metadata": {
    "id": "Im2YwBEG_Zct"
   },
   "source": [
    "Перепроверяем результат нашей работы и считаем количество дубликатов еще раз"
   ]
  },
  {
   "cell_type": "code",
   "execution_count": 13,
   "metadata": {
    "id": "-8PuNWQ0_Zct"
   },
   "outputs": [
    {
     "name": "stdout",
     "output_type": "stream",
     "text": [
      "0\n"
     ]
    }
   ],
   "source": [
    "# проверка на отсутствие дубликатов\n",
    "print(df.duplicated().sum())"
   ]
  },
  {
   "cell_type": "markdown",
   "metadata": {
    "id": "QlFBsxAr_Zct"
   },
   "source": [
    "Теперь избавимся от неявных дубликатов в колонке `genre`. Например, название одного и того же жанра может быть записано немного по-разному. Такие ошибки тоже повлияют на результат исследования."
   ]
  },
  {
   "cell_type": "markdown",
   "metadata": {
    "id": "eSjWwsOh_Zct"
   },
   "source": [
    "Выведем на экран список уникальных названий жанров, отсортированный в алфавитном порядке. Для этого:\n",
    "* извлечем нужный столбец датафрейма, \n",
    "* применим к нему метод сортировки,\n",
    "* для отсортированного столбца вызовем метод, который вернёт уникальные значения из столбца."
   ]
  },
  {
   "cell_type": "code",
   "execution_count": 14,
   "metadata": {
    "id": "JIUcqzZN_Zct"
   },
   "outputs": [
    {
     "data": {
      "text/plain": [
       "array(['acid', 'acoustic', 'action', 'adult', 'africa', 'afrikaans',\n",
       "       'alternative', 'alternativepunk', 'ambient', 'americana',\n",
       "       'animated', 'anime', 'arabesk', 'arabic', 'arena',\n",
       "       'argentinetango', 'art', 'audiobook', 'author', 'avantgarde',\n",
       "       'axé', 'baile', 'balkan', 'beats', 'bigroom', 'black', 'bluegrass',\n",
       "       'blues', 'bollywood', 'bossa', 'brazilian', 'breakbeat', 'breaks',\n",
       "       'broadway', 'cantautori', 'cantopop', 'canzone', 'caribbean',\n",
       "       'caucasian', 'celtic', 'chamber', 'chanson', 'children', 'chill',\n",
       "       'chinese', 'choral', 'christian', 'christmas', 'classical',\n",
       "       'classicmetal', 'club', 'colombian', 'comedy', 'conjazz',\n",
       "       'contemporary', 'country', 'cuban', 'dance', 'dancehall',\n",
       "       'dancepop', 'dark', 'death', 'deep', 'deutschrock', 'deutschspr',\n",
       "       'dirty', 'disco', 'dnb', 'documentary', 'downbeat', 'downtempo',\n",
       "       'drum', 'dub', 'dubstep', 'eastern', 'easy', 'electronic',\n",
       "       'electropop', 'emo', 'entehno', 'epicmetal', 'estrada', 'ethnic',\n",
       "       'eurofolk', 'european', 'experimental', 'extrememetal', 'fado',\n",
       "       'fairytail', 'film', 'fitness', 'flamenco', 'folk', 'folklore',\n",
       "       'folkmetal', 'folkrock', 'folktronica', 'forró', 'frankreich',\n",
       "       'französisch', 'french', 'funk', 'future', 'gangsta', 'garage',\n",
       "       'german', 'ghazal', 'gitarre', 'glitch', 'gospel', 'gothic',\n",
       "       'grime', 'grunge', 'gypsy', 'handsup', \"hard'n'heavy\", 'hardcore',\n",
       "       'hardstyle', 'hardtechno', 'hip', 'hip-hop', 'hiphop',\n",
       "       'historisch', 'holiday', 'hop', 'horror', 'house', 'hymn', 'idm',\n",
       "       'independent', 'indian', 'indie', 'indipop', 'industrial',\n",
       "       'inspirational', 'instrumental', 'international', 'irish', 'jam',\n",
       "       'japanese', 'jazz', 'jewish', 'jpop', 'jungle', 'k-pop',\n",
       "       'karadeniz', 'karaoke', 'kayokyoku', 'korean', 'laiko', 'latin',\n",
       "       'latino', 'leftfield', 'local', 'lounge', 'loungeelectronic',\n",
       "       'lovers', 'malaysian', 'mandopop', 'marschmusik', 'meditative',\n",
       "       'mediterranean', 'melodic', 'metal', 'metalcore', 'mexican',\n",
       "       'middle', 'minimal', 'miscellaneous', 'modern', 'mood', 'mpb',\n",
       "       'muslim', 'native', 'neoklassik', 'neue', 'new', 'newage',\n",
       "       'newwave', 'nu', 'nujazz', 'numetal', 'oceania', 'old', 'opera',\n",
       "       'orchestral', 'other', 'piano', 'podcasts', 'pop', 'popdance',\n",
       "       'popelectronic', 'popeurodance', 'poprussian', 'post',\n",
       "       'posthardcore', 'postrock', 'power', 'progmetal', 'progressive',\n",
       "       'psychedelic', 'punjabi', 'punk', 'quebecois', 'ragga', 'ram',\n",
       "       'rancheras', 'rap', 'rave', 'reggae', 'reggaeton', 'regional',\n",
       "       'relax', 'religious', 'retro', 'rhythm', 'rnb', 'rnr', 'rock',\n",
       "       'rockabilly', 'rockalternative', 'rockindie', 'rockother',\n",
       "       'romance', 'roots', 'ruspop', 'rusrap', 'rusrock', 'russian',\n",
       "       'salsa', 'samba', 'scenic', 'schlager', 'self', 'sertanejo',\n",
       "       'shanson', 'shoegazing', 'showtunes', 'singer', 'ska', 'skarock',\n",
       "       'slow', 'smooth', 'soft', 'soul', 'soulful', 'sound', 'soundtrack',\n",
       "       'southern', 'specialty', 'speech', 'spiritual', 'sport',\n",
       "       'stonerrock', 'surf', 'swing', 'synthpop', 'synthrock',\n",
       "       'sängerportrait', 'tango', 'tanzorchester', 'taraftar', 'tatar',\n",
       "       'tech', 'techno', 'teen', 'thrash', 'top', 'traditional',\n",
       "       'tradjazz', 'trance', 'tribal', 'trip', 'triphop', 'tropical',\n",
       "       'türk', 'türkçe', 'ukrrock', 'unknown', 'urban', 'uzbek',\n",
       "       'variété', 'vi', 'videogame', 'vocal', 'western', 'world',\n",
       "       'worldbeat', 'ïîï', 'электроника'], dtype=object)"
      ]
     },
     "execution_count": 14,
     "metadata": {},
     "output_type": "execute_result"
    }
   ],
   "source": [
    "# Просмотр уникальных названий жанров\n",
    "unique = df['genre'].unique()\n",
    "unique.sort()\n",
    "unique"
   ]
  },
  {
   "cell_type": "markdown",
   "metadata": {
    "id": "qej-Qmuo_Zct"
   },
   "source": [
    "Просмотрим список и найдем неявные дубликаты названия `hiphop`. Это могут быть названия с ошибками или альтернативные названия того же жанра.\n",
    "\n",
    "Мы увидим следующие неявные дубликаты:\n",
    "* *hip*,\n",
    "* *hop*,\n",
    "* *hip-hop*.\n",
    "\n",
    "Чтобы очистить от них таблицу, напишем функцию `replace_wrong_genres()` с двумя параметрами: \n",
    "* `wrong_genres` — список дубликатов,\n",
    "* `correct_genre` — строка с правильным значением.\n",
    "\n",
    "Функция должна исправить колонку `genre` в таблице `df`: заменить каждое значение из списка `wrong_genres` на значение из `correct_genre`."
   ]
  },
  {
   "cell_type": "code",
   "execution_count": 15,
   "metadata": {
    "id": "ErNDkmns_Zct"
   },
   "outputs": [],
   "source": [
    "# Функция для замены неявных дубликатов\n",
    "def replace_wrong_genres(wrong, correct):\n",
    "    for elem in wrong:\n",
    "        df['genre'] = df['genre'].replace(elem, correct)"
   ]
  },
  {
   "cell_type": "markdown",
   "metadata": {
    "id": "aDoBJxbA_Zct"
   },
   "source": [
    "Вызовем `replace_wrong_genres()` и передадим ей такие аргументы, чтобы она устранила неявные дубликаты: вместо `hip`, `hop` и `hip-hop` в таблице должно быть значение `hiphop`:"
   ]
  },
  {
   "cell_type": "code",
   "execution_count": 16,
   "metadata": {
    "id": "YN5i2hpmSo09"
   },
   "outputs": [],
   "source": [
    "# Устранение неявных дубликатов\n",
    "replace_wrong_genres(['hip', 'hop', 'hip-hop'], 'hiphop')"
   ]
  },
  {
   "cell_type": "markdown",
   "metadata": {
    "id": "zQKF16_RG15m"
   },
   "source": [
    "Проверим, что заменили неправильные названия:\n",
    "\n",
    "*   hip\n",
    "*   hop\n",
    "*   hip-hop\n",
    "\n",
    "Выведем отсортированный список уникальных значений столбца `genre`:"
   ]
  },
  {
   "cell_type": "code",
   "execution_count": 17,
   "metadata": {
    "id": "wvixALnFG15m"
   },
   "outputs": [
    {
     "data": {
      "text/plain": [
       "array(['acid', 'acoustic', 'action', 'adult', 'africa', 'afrikaans',\n",
       "       'alternative', 'alternativepunk', 'ambient', 'americana',\n",
       "       'animated', 'anime', 'arabesk', 'arabic', 'arena',\n",
       "       'argentinetango', 'art', 'audiobook', 'author', 'avantgarde',\n",
       "       'axé', 'baile', 'balkan', 'beats', 'bigroom', 'black', 'bluegrass',\n",
       "       'blues', 'bollywood', 'bossa', 'brazilian', 'breakbeat', 'breaks',\n",
       "       'broadway', 'cantautori', 'cantopop', 'canzone', 'caribbean',\n",
       "       'caucasian', 'celtic', 'chamber', 'chanson', 'children', 'chill',\n",
       "       'chinese', 'choral', 'christian', 'christmas', 'classical',\n",
       "       'classicmetal', 'club', 'colombian', 'comedy', 'conjazz',\n",
       "       'contemporary', 'country', 'cuban', 'dance', 'dancehall',\n",
       "       'dancepop', 'dark', 'death', 'deep', 'deutschrock', 'deutschspr',\n",
       "       'dirty', 'disco', 'dnb', 'documentary', 'downbeat', 'downtempo',\n",
       "       'drum', 'dub', 'dubstep', 'eastern', 'easy', 'electronic',\n",
       "       'electropop', 'emo', 'entehno', 'epicmetal', 'estrada', 'ethnic',\n",
       "       'eurofolk', 'european', 'experimental', 'extrememetal', 'fado',\n",
       "       'fairytail', 'film', 'fitness', 'flamenco', 'folk', 'folklore',\n",
       "       'folkmetal', 'folkrock', 'folktronica', 'forró', 'frankreich',\n",
       "       'französisch', 'french', 'funk', 'future', 'gangsta', 'garage',\n",
       "       'german', 'ghazal', 'gitarre', 'glitch', 'gospel', 'gothic',\n",
       "       'grime', 'grunge', 'gypsy', 'handsup', \"hard'n'heavy\", 'hardcore',\n",
       "       'hardstyle', 'hardtechno', 'hiphop', 'historisch', 'holiday',\n",
       "       'horror', 'house', 'hymn', 'idm', 'independent', 'indian', 'indie',\n",
       "       'indipop', 'industrial', 'inspirational', 'instrumental',\n",
       "       'international', 'irish', 'jam', 'japanese', 'jazz', 'jewish',\n",
       "       'jpop', 'jungle', 'k-pop', 'karadeniz', 'karaoke', 'kayokyoku',\n",
       "       'korean', 'laiko', 'latin', 'latino', 'leftfield', 'local',\n",
       "       'lounge', 'loungeelectronic', 'lovers', 'malaysian', 'mandopop',\n",
       "       'marschmusik', 'meditative', 'mediterranean', 'melodic', 'metal',\n",
       "       'metalcore', 'mexican', 'middle', 'minimal', 'miscellaneous',\n",
       "       'modern', 'mood', 'mpb', 'muslim', 'native', 'neoklassik', 'neue',\n",
       "       'new', 'newage', 'newwave', 'nu', 'nujazz', 'numetal', 'oceania',\n",
       "       'old', 'opera', 'orchestral', 'other', 'piano', 'podcasts', 'pop',\n",
       "       'popdance', 'popelectronic', 'popeurodance', 'poprussian', 'post',\n",
       "       'posthardcore', 'postrock', 'power', 'progmetal', 'progressive',\n",
       "       'psychedelic', 'punjabi', 'punk', 'quebecois', 'ragga', 'ram',\n",
       "       'rancheras', 'rap', 'rave', 'reggae', 'reggaeton', 'regional',\n",
       "       'relax', 'religious', 'retro', 'rhythm', 'rnb', 'rnr', 'rock',\n",
       "       'rockabilly', 'rockalternative', 'rockindie', 'rockother',\n",
       "       'romance', 'roots', 'ruspop', 'rusrap', 'rusrock', 'russian',\n",
       "       'salsa', 'samba', 'scenic', 'schlager', 'self', 'sertanejo',\n",
       "       'shanson', 'shoegazing', 'showtunes', 'singer', 'ska', 'skarock',\n",
       "       'slow', 'smooth', 'soft', 'soul', 'soulful', 'sound', 'soundtrack',\n",
       "       'southern', 'specialty', 'speech', 'spiritual', 'sport',\n",
       "       'stonerrock', 'surf', 'swing', 'synthpop', 'synthrock',\n",
       "       'sängerportrait', 'tango', 'tanzorchester', 'taraftar', 'tatar',\n",
       "       'tech', 'techno', 'teen', 'thrash', 'top', 'traditional',\n",
       "       'tradjazz', 'trance', 'tribal', 'trip', 'triphop', 'tropical',\n",
       "       'türk', 'türkçe', 'ukrrock', 'unknown', 'urban', 'uzbek',\n",
       "       'variété', 'vi', 'videogame', 'vocal', 'western', 'world',\n",
       "       'worldbeat', 'ïîï', 'электроника'], dtype=object)"
      ]
     },
     "execution_count": 17,
     "metadata": {},
     "output_type": "execute_result"
    }
   ],
   "source": [
    "# Проверка на неявные дубликаты\n",
    "unique = df['genre'].unique()\n",
    "unique.sort()\n",
    "unique"
   ]
  },
  {
   "cell_type": "markdown",
   "metadata": {
    "id": "jz6a9-7HQUDd"
   },
   "source": [
    "**Выводы**\n",
    "\n",
    "Предобработка обнаружила три проблемы в данных:\n",
    "\n",
    "- нарушения в стиле заголовков,\n",
    "- пропущенные значения,\n",
    "- дубликаты — явные и неявные.\n",
    "\n",
    "Мы исправили заголовки, чтобы упростить работу с таблицей. Без дубликатов исследование станет более точным.\n",
    "\n",
    "Пропущенные значения мы заменили на `'unknown'`. \n",
    "Теперь можно перейти к проверке гипотез. "
   ]
  },
  {
   "cell_type": "markdown",
   "metadata": {
    "id": "WttZHXH0SqKk"
   },
   "source": [
    "## Проверка гипотез"
   ]
  },
  {
   "cell_type": "markdown",
   "metadata": {
    "id": "Im936VVi_Zcu"
   },
   "source": [
    "### Сравнение поведения пользователей двух столиц"
   ]
  },
  {
   "cell_type": "markdown",
   "metadata": {
    "id": "nwt_MuaL_Zcu"
   },
   "source": [
    "Первая гипотеза утверждает, что пользователи по-разному слушают музыку в Москве и Санкт-Петербурге. Проверим это предположение по данным о трёх днях недели — понедельнике, среде и пятнице. Для этого:\n",
    "\n",
    "* Разделим пользователей Москвы и Санкт-Петербурга\n",
    "* Сравним, сколько треков послушала каждая группа пользователей в понедельник, среду и пятницу.\n"
   ]
  },
  {
   "cell_type": "markdown",
   "metadata": {
    "id": "8Dw_YMmT_Zcu"
   },
   "source": [
    "Для тренировки сначала выполним каждый из расчётов по отдельности. \n",
    "\n",
    "Оценим активность пользователей в каждом городе. Сгруппируем данные по городу и посчитаем прослушивания в каждой группе.\n",
    "\n"
   ]
  },
  {
   "cell_type": "code",
   "execution_count": 18,
   "metadata": {
    "id": "0_Qs96oh_Zcu"
   },
   "outputs": [
    {
     "data": {
      "text/plain": [
       "city\n",
       "Moscow              42741\n",
       "Saint-Petersburg    18512\n",
       "Name: user_id, dtype: int64"
      ]
     },
     "execution_count": 18,
     "metadata": {},
     "output_type": "execute_result"
    }
   ],
   "source": [
    "# Подсчёт прослушиваний в каждом городе\n",
    "city_group = df.groupby('city')['user_id'].count()\n",
    "city_group"
   ]
  },
  {
   "cell_type": "markdown",
   "metadata": {
    "id": "dzli3w8o_Zcu"
   },
   "source": [
    "В Москве прослушиваний больше, чем в Петербурге. Из этого не следует, что московские пользователи чаще слушают музыку. Просто самих пользователей в Москве больше.\n",
    "\n",
    "Теперь сгруппируем данные по дню недели и подсчитаем прослушивания в понедельник, среду и пятницу. Нужно учитывать, что в данных есть информация только о прослушиваниях только за эти дни.\n"
   ]
  },
  {
   "cell_type": "code",
   "execution_count": 19,
   "metadata": {
    "id": "uZMKjiJz_Zcu"
   },
   "outputs": [
    {
     "data": {
      "text/plain": [
       "day\n",
       "Friday       21840\n",
       "Monday       21354\n",
       "Wednesday    18059\n",
       "Name: user_id, dtype: int64"
      ]
     },
     "metadata": {},
     "output_type": "display_data"
    }
   ],
   "source": [
    "# Подсчёт прослушиваний в каждый из трёх дней\n",
    "week_group = df.groupby('day')['user_id'].count()\n",
    "display(week_group)"
   ]
  },
  {
   "cell_type": "markdown",
   "metadata": {
    "id": "cC2tNrlL_Zcu"
   },
   "source": [
    "В среднем пользователи из двух городов менее активны по средам. Но картина может измениться, если рассмотреть каждый город в отдельности."
   ]
  },
  {
   "cell_type": "markdown",
   "metadata": {
    "id": "POzs8bGa_Zcu"
   },
   "source": [
    "Мы видели, как работает группировка по городу и по дням недели. Теперь создадим функцию, которая объединит два этих расчёта.\n",
    "\n",
    "Создаем функцию `number_tracks()`, которая посчитает прослушивания для заданного дня и города. Ей понадобятся два параметра:\n",
    "* день недели,\n",
    "* название города.\n",
    "\n",
    "В функции сохраним в переменную строки исходной таблицы, у которых значение:\n",
    "  * в колонке `day` равно параметру `day`,\n",
    "  * в колонке `city` равно параметру `city`.\n",
    "\n",
    "Для этого применим последовательную фильтрацию с логической индексацией.\n",
    "\n",
    "Затем посчитаем значения в столбце `user_id` получившейся таблицы. Результат сохраним в новую переменную. Вернем эту переменную из функции."
   ]
  },
  {
   "cell_type": "code",
   "execution_count": 20,
   "metadata": {
    "id": "Nz3GdQB1_Zcu"
   },
   "outputs": [],
   "source": [
    "# <создание функции number_tracks()>\n",
    "# Объявляется функция с двумя параметрами: day, city.\n",
    "# В переменной track_list сохраняются те строки таблицы df, для которых \n",
    "# значение в столбце 'day' равно параметру day и одновременно значение\n",
    "# в столбце 'city' равно параметру city (используем последовательную фильтрацию\n",
    "# с помощью логической индексации).\n",
    "# В переменной track_list_count сохраняется число значений столбца 'user_id',\n",
    "# рассчитанное методом count() для таблицы track_list.\n",
    "# Функция возвращает число - значение track_list_count.\n",
    "# Функция для подсчёта прослушиваний для конкретного города и дня.\n",
    "# С помощью последовательной фильтрации с логической индексацией она \n",
    "# сначала получит из исходной таблицы строки с нужным днём,\n",
    "# затем из результата отфильтрует строки с нужным городом,\n",
    "# методом count() посчитает количество значений в колонке user_id. \n",
    "# Это количество функция вернёт в качестве результата\n",
    "def number_tracks(day, city):\n",
    "    track_list = df[(df['day'] == day) & (df['city'] == city)]\n",
    "    track_list_count = track_list['user_id'].count()\n",
    "    return track_list_count"
   ]
  },
  {
   "cell_type": "markdown",
   "metadata": {
    "id": "ytf7xFrFJQ2r"
   },
   "source": [
    "Вызываем `number_tracks()` шесть раз, меняя значение параметров — так, чтобы получить данные для каждого города в каждый из трёх дней."
   ]
  },
  {
   "cell_type": "code",
   "execution_count": 21,
   "metadata": {
    "id": "rJcRATNQ_Zcu"
   },
   "outputs": [
    {
     "data": {
      "text/plain": [
       "15740"
      ]
     },
     "execution_count": 21,
     "metadata": {},
     "output_type": "execute_result"
    }
   ],
   "source": [
    "# количество прослушиваний в Москве по понедельникам\n",
    "number_tracks('Monday', 'Moscow')"
   ]
  },
  {
   "cell_type": "code",
   "execution_count": 22,
   "metadata": {
    "id": "hq_ncZ5T_Zcu"
   },
   "outputs": [
    {
     "data": {
      "text/plain": [
       "5614"
      ]
     },
     "execution_count": 22,
     "metadata": {},
     "output_type": "execute_result"
    }
   ],
   "source": [
    "# количество прослушиваний в Санкт-Петербурге по понедельникам\n",
    "number_tracks('Monday', 'Saint-Petersburg')"
   ]
  },
  {
   "cell_type": "code",
   "execution_count": 23,
   "metadata": {
    "id": "_NTy2VPU_Zcu"
   },
   "outputs": [
    {
     "data": {
      "text/plain": [
       "11056"
      ]
     },
     "execution_count": 23,
     "metadata": {},
     "output_type": "execute_result"
    }
   ],
   "source": [
    "# количество прослушиваний в Москве по средам\n",
    "number_tracks('Wednesday', 'Moscow')"
   ]
  },
  {
   "cell_type": "code",
   "execution_count": 24,
   "metadata": {
    "id": "j2y3TAwo_Zcu"
   },
   "outputs": [
    {
     "data": {
      "text/plain": [
       "7003"
      ]
     },
     "execution_count": 24,
     "metadata": {},
     "output_type": "execute_result"
    }
   ],
   "source": [
    "# количество прослушиваний в Санкт-Петербурге по средам\n",
    "number_tracks('Wednesday', 'Saint-Petersburg')"
   ]
  },
  {
   "cell_type": "code",
   "execution_count": 25,
   "metadata": {
    "id": "vYDw5u_K_Zcu"
   },
   "outputs": [
    {
     "data": {
      "text/plain": [
       "15945"
      ]
     },
     "execution_count": 25,
     "metadata": {},
     "output_type": "execute_result"
    }
   ],
   "source": [
    "# количество прослушиваний в Москве по пятницам\n",
    "number_tracks('Friday', 'Moscow')"
   ]
  },
  {
   "cell_type": "code",
   "execution_count": 26,
   "metadata": {
    "id": "8_yzFtW3_Zcu"
   },
   "outputs": [
    {
     "data": {
      "text/plain": [
       "5895"
      ]
     },
     "execution_count": 26,
     "metadata": {},
     "output_type": "execute_result"
    }
   ],
   "source": [
    "# количество прослушиваний в Санкт-Петербурге по пятницам\n",
    "number_tracks('Friday', 'Saint-Petersburg')"
   ]
  },
  {
   "cell_type": "markdown",
   "metadata": {
    "id": "7QXffbO-_Zcu"
   },
   "source": [
    "Создадим c помощью конструктора `pd.DataFrame` таблицу, где\n",
    "* названия колонок — `['city', 'monday', 'wednesday', 'friday']`;\n",
    "\n",
    "\n",
    "* данные — результаты, которые вы получили с помощью `number_tracks`."
   ]
  },
  {
   "cell_type": "code",
   "execution_count": 27,
   "metadata": {
    "id": "APAcLpOr_Zcu"
   },
   "outputs": [
    {
     "data": {
      "text/html": [
       "<div>\n",
       "<style scoped>\n",
       "    .dataframe tbody tr th:only-of-type {\n",
       "        vertical-align: middle;\n",
       "    }\n",
       "\n",
       "    .dataframe tbody tr th {\n",
       "        vertical-align: top;\n",
       "    }\n",
       "\n",
       "    .dataframe thead th {\n",
       "        text-align: right;\n",
       "    }\n",
       "</style>\n",
       "<table border=\"1\" class=\"dataframe\">\n",
       "  <thead>\n",
       "    <tr style=\"text-align: right;\">\n",
       "      <th></th>\n",
       "      <th>city</th>\n",
       "      <th>monday</th>\n",
       "      <th>wednesday</th>\n",
       "      <th>friday</th>\n",
       "    </tr>\n",
       "  </thead>\n",
       "  <tbody>\n",
       "    <tr>\n",
       "      <td>0</td>\n",
       "      <td>Moscow</td>\n",
       "      <td>15740</td>\n",
       "      <td>11056</td>\n",
       "      <td>15945</td>\n",
       "    </tr>\n",
       "    <tr>\n",
       "      <td>1</td>\n",
       "      <td>Saint-Petersburg</td>\n",
       "      <td>5614</td>\n",
       "      <td>7003</td>\n",
       "      <td>5895</td>\n",
       "    </tr>\n",
       "  </tbody>\n",
       "</table>\n",
       "</div>"
      ],
      "text/plain": [
       "               city  monday  wednesday  friday\n",
       "0            Moscow   15740      11056   15945\n",
       "1  Saint-Petersburg    5614       7003    5895"
      ]
     },
     "execution_count": 27,
     "metadata": {},
     "output_type": "execute_result"
    }
   ],
   "source": [
    "# Таблица с результатами\n",
    "column = ['city', 'monday', 'wednesday', 'friday']\n",
    "data = [\n",
    "    ['Moscow', number_tracks('Monday', 'Moscow'), number_tracks('Wednesday', 'Moscow'), number_tracks('Friday', 'Moscow')],\n",
    "    ['Saint-Petersburg', number_tracks('Monday', 'Saint-Petersburg'), number_tracks('Wednesday', 'Saint-Petersburg'), number_tracks('Friday', 'Saint-Petersburg')]\n",
    "]\n",
    "city_df = pd.DataFrame(data = data, columns = column)\n",
    "city_df"
   ]
  },
  {
   "cell_type": "markdown",
   "metadata": {
    "id": "-EgPIHYu_Zcu"
   },
   "source": [
    "**Выводы**\n",
    "\n",
    "Данные показывают разницу поведения пользователей:\n",
    "\n",
    "- В Москве пик прослушиваний приходится на понедельник и пятницу, а в среду заметен спад.\n",
    "- В Петербурге, наоборот, больше слушают музыку по средам. Активность в понедельник и пятницу здесь почти в равной мере уступает среде.\n",
    "\n",
    "Значит, данные говорят в пользу первой гипотезы."
   ]
  },
  {
   "cell_type": "markdown",
   "metadata": {
    "id": "atZAxtq4_Zcu"
   },
   "source": [
    "### Музыка в начале и в конце недели"
   ]
  },
  {
   "cell_type": "markdown",
   "metadata": {
    "id": "eXrQqXFH_Zcu"
   },
   "source": [
    "Согласно второй гипотезе, утром в понедельник в Москве преобладают одни жанры, а в Петербурге — другие. Так же и вечером пятницы преобладают разные жанры — в зависимости от города."
   ]
  },
  {
   "cell_type": "markdown",
   "metadata": {
    "id": "S8UcW6Hw_Zcu"
   },
   "source": [
    "Сохраним таблицы с данными в две переменные:\n",
    "* по Москве — в `moscow_general`;\n",
    "* по Санкт-Петербургу — в `spb_general`."
   ]
  },
  {
   "cell_type": "code",
   "execution_count": 28,
   "metadata": {
    "id": "qeaFfM_P_Zcu"
   },
   "outputs": [],
   "source": [
    "# получение таблицы moscow_general из тех строк таблицы df, \n",
    "# для которых значение в столбце 'city' равно 'Moscow'\n",
    "moscow_general = df[df['city'] == 'Moscow']"
   ]
  },
  {
   "cell_type": "code",
   "execution_count": 29,
   "metadata": {
    "id": "ORaVRKto_Zcu"
   },
   "outputs": [],
   "source": [
    "# получение таблицы spb_general из тех строк таблицы df,\n",
    "# для которых значение в столбце 'city' равно 'Saint-Petersburg'\n",
    "spb_general = df[df['city'] == 'Saint-Petersburg']"
   ]
  },
  {
   "cell_type": "markdown",
   "metadata": {
    "id": "MEJV-CX2_Zcu"
   },
   "source": [
    "Создаем функцию `genre_weekday()` с четырьмя параметрами:\n",
    "* таблица (датафрейм) с данными,\n",
    "* день недели,\n",
    "* начальная временная метка в формате 'hh:mm', \n",
    "* последняя временная метка в формате 'hh:mm'.\n",
    "\n",
    "Функция должна вернуть информацию о топ-10 жанров тех треков, которые прослушивали в указанный день, в промежутке между двумя отметками времени."
   ]
  },
  {
   "cell_type": "code",
   "execution_count": 30,
   "metadata": {
    "id": "laJT9BYl_Zcu"
   },
   "outputs": [],
   "source": [
    "# Объявление функции genre_weekday() с параметрами table, day, time1, time2,\n",
    "# которая возвращает информацию о самых популярных жанрах в указанный день в\n",
    "# заданное время:\n",
    "# 1) в переменную genre_df сохраняются те строки переданного датафрейма table, для\n",
    "#    которых одновременно:\n",
    "#    - значение в столбце day равно значению аргумента day\n",
    "#    - значение в столбце time больше значения аргумента time1\n",
    "#    - значение в столбце time меньше значения аргумента time2\n",
    "#    Используем последовательную фильтрацию с помощью логической индексации.\n",
    "# 2) сгруппировать датафрейм genre_df по столбцу genre, взять один из его\n",
    "#    столбцов и посчитать методом count() количество записей для каждого из\n",
    "#    присутствующих жанров, получившийся Series записать в переменную\n",
    "#    genre_df_count\n",
    "# 3) отсортировать genre_df_count по убыванию встречаемости и сохранить\n",
    "#    в переменную genre_df_sorted\n",
    "# 4) вернуть Series из 10 первых значений genre_df_sorted, это будут топ-10\n",
    "#    популярных жанров (в указанный день, в заданное время)\n",
    "def genre_weekday(data, day_week, time1, time2):\n",
    "    genre_df = data[data['day']==day_week]\n",
    "    genre_df = genre_df[genre_df['time'] > time1]\n",
    "    genre_df = genre_df[genre_df['time'] < time2]\n",
    "    genre_df_count = genre_df.groupby('genre')['genre'].count()\n",
    "    genre_df_sorted = genre_df_count.sort_values(ascending=False)\n",
    "    return genre_df_sorted.head(10)"
   ]
  },
  {
   "cell_type": "markdown",
   "metadata": {
    "id": "la2s2_PF_Zcu"
   },
   "source": [
    "Сравним результаты функции `genre_weekday()` для Москвы и Санкт-Петербурга в понедельник утром (с 7:00 до 11:00) и в пятницу вечером (с 17:00 до 23:00):"
   ]
  },
  {
   "cell_type": "code",
   "execution_count": 31,
   "metadata": {
    "id": "yz7itPUQ_Zcu"
   },
   "outputs": [
    {
     "data": {
      "text/plain": [
       "genre\n",
       "pop            781\n",
       "dance          549\n",
       "electronic     480\n",
       "rock           474\n",
       "hiphop         286\n",
       "ruspop         186\n",
       "world          181\n",
       "rusrap         175\n",
       "alternative    164\n",
       "unknown        161\n",
       "Name: genre, dtype: int64"
      ]
     },
     "execution_count": 31,
     "metadata": {},
     "output_type": "execute_result"
    }
   ],
   "source": [
    "# вызов функции для утра понедельника в Москве (вместо df — таблица moscow_general)\n",
    "# объекты, хранящие время, являются строками и сравниваются как строки\n",
    "# пример вызова: genre_weekday(moscow_general, 'Monday', '07:00', '11:00')\n",
    "genre_weekday(moscow_general, 'Monday', '07:00', '11:00')"
   ]
  },
  {
   "cell_type": "code",
   "execution_count": 32,
   "metadata": {
    "id": "kwUcHPdy_Zcu"
   },
   "outputs": [
    {
     "data": {
      "text/plain": [
       "genre\n",
       "pop            218\n",
       "dance          182\n",
       "rock           162\n",
       "electronic     147\n",
       "hiphop          80\n",
       "ruspop          64\n",
       "alternative     58\n",
       "rusrap          55\n",
       "jazz            44\n",
       "classical       40\n",
       "Name: genre, dtype: int64"
      ]
     },
     "execution_count": 32,
     "metadata": {},
     "output_type": "execute_result"
    }
   ],
   "source": [
    "# вызов функции для утра понедельника в Петербурге (вместо df — таблица spb_general)\n",
    "genre_weekday(spb_general, 'Monday', '07:00', '11:00')"
   ]
  },
  {
   "cell_type": "code",
   "execution_count": 33,
   "metadata": {
    "id": "EzXVRE1o_Zcu"
   },
   "outputs": [
    {
     "data": {
      "text/plain": [
       "genre\n",
       "pop            713\n",
       "rock           517\n",
       "dance          495\n",
       "electronic     482\n",
       "hiphop         273\n",
       "world          208\n",
       "ruspop         170\n",
       "alternative    163\n",
       "classical      163\n",
       "rusrap         142\n",
       "Name: genre, dtype: int64"
      ]
     },
     "execution_count": 33,
     "metadata": {},
     "output_type": "execute_result"
    }
   ],
   "source": [
    "# вызов функции для вечера пятницы в Москве\n",
    "genre_weekday(moscow_general, 'Friday', '17:00', '23:00')"
   ]
  },
  {
   "cell_type": "code",
   "execution_count": 34,
   "metadata": {
    "id": "JZaEKu5v_Zcu"
   },
   "outputs": [
    {
     "data": {
      "text/plain": [
       "genre\n",
       "pop            256\n",
       "rock           216\n",
       "electronic     216\n",
       "dance          210\n",
       "hiphop          97\n",
       "alternative     63\n",
       "jazz            61\n",
       "classical       60\n",
       "rusrap          59\n",
       "world           54\n",
       "Name: genre, dtype: int64"
      ]
     },
     "execution_count": 34,
     "metadata": {},
     "output_type": "execute_result"
    }
   ],
   "source": [
    "# вызов функции для вечера пятницы в Петербурге\n",
    "genre_weekday(spb_general, 'Friday', '17:00', '23:00')"
   ]
  },
  {
   "cell_type": "markdown",
   "metadata": {
    "id": "wrCe4MNX_Zcu"
   },
   "source": [
    "**Выводы**\n",
    "\n",
    "Если сравнить топ-10 жанров в понедельник утром, можно сделать такие выводы:\n",
    "\n",
    "1. В Москве и Петербурге слушают похожую музыку. Единственное отличие — в московский рейтинг вошёл жанр “world”, а в петербургский — джаз и классика.\n",
    "\n",
    "2. В Москве пропущенных значений оказалось так много, что значение `'unknown'` заняло десятое место среди самых популярных жанров. Значит, пропущенные значения занимают существенную долю в данных и угрожают достоверности исследования.\n",
    "\n",
    "Вечер пятницы не меняет эту картину. Некоторые жанры поднимаются немного выше, другие спускаются, но в целом топ-10 остаётся тем же самым.\n",
    "\n",
    "Таким образом, вторая гипотеза подтвердилась лишь частично:\n",
    "* Пользователи слушают похожую музыку в начале недели и в конце.\n",
    "* Разница между Москвой и Петербургом не слишком выражена. В Москве чаще слушают русскую популярную музыку, в Петербурге — джаз.\n",
    "\n",
    "Однако пропуски в данных ставят под сомнение этот результат. В Москве их так много, что рейтинг топ-10 мог бы выглядеть иначе, если бы не утерянные  данные о жанрах."
   ]
  },
  {
   "cell_type": "markdown",
   "metadata": {
    "id": "JolODAqr_Zcu"
   },
   "source": [
    "### Жанровые предпочтения в Москве и Петербурге\n",
    "\n",
    "Гипотеза: Петербург — столица рэпа, музыку этого жанра там слушают чаще, чем в Москве.  А Москва — город контрастов, в котором, тем не менее, преобладает поп-музыка."
   ]
  },
  {
   "cell_type": "markdown",
   "metadata": {
    "id": "DlegSvaT_Zcu"
   },
   "source": [
    "Сгруппируем таблицу `moscow_general` по жанру и посчитаем прослушивания треков каждого жанра методом `count()`. Затем отсортируем результат в порядке убывания и сохраним его в таблице `moscow_genres`."
   ]
  },
  {
   "cell_type": "code",
   "execution_count": 35,
   "metadata": {
    "id": "r19lIPke_Zcu"
   },
   "outputs": [],
   "source": [
    "# одной строкой: группировка таблицы moscow_general по столбцу 'genre', \n",
    "# подсчёт числа значений 'genre' в этой группировке методом count(), \n",
    "# сортировка получившегося Series в порядке убывания и сохранение в moscow_genres\n",
    "moscow_general = moscow_general.groupby('genre')['genre'].count().sort_values(ascending=False)"
   ]
  },
  {
   "cell_type": "markdown",
   "metadata": {
    "id": "6kMuomxTiIr8"
   },
   "source": [
    "Выводим на экран первые десять строк `moscow_genres`:"
   ]
  },
  {
   "cell_type": "code",
   "execution_count": 39,
   "metadata": {
    "id": "WhCSooF8_Zcv"
   },
   "outputs": [
    {
     "data": {
      "text/plain": [
       "genre\n",
       "pop            5892\n",
       "dance          4435\n",
       "rock           3965\n",
       "electronic     3786\n",
       "hiphop         2096\n",
       "classical      1616\n",
       "world          1432\n",
       "alternative    1379\n",
       "ruspop         1372\n",
       "rusrap         1161\n",
       "Name: genre, dtype: int64"
      ]
     },
     "execution_count": 39,
     "metadata": {},
     "output_type": "execute_result"
    }
   ],
   "source": [
    "# просмотр первых 10 строк moscow_genres\n",
    "moscow_general.head(10)"
   ]
  },
  {
   "cell_type": "markdown",
   "metadata": {
    "id": "cnPG2vnN_Zcv"
   },
   "source": [
    "Теперь повторим то же и для Петербурга.\n",
    "\n",
    "Сгруппируем таблицу `spb_general` по жанру. Посчитаем прослушивания треков каждого жанра. Результат отсортируем в порядке убывания и сохраним в таблице `spb_genres`:\n"
   ]
  },
  {
   "cell_type": "code",
   "execution_count": 37,
   "metadata": {
    "id": "gluLIpE7_Zcv"
   },
   "outputs": [],
   "source": [
    "# одной строкой: группировка таблицы spb_general по столбцу 'genre', \n",
    "# подсчёт числа значений 'genre' в этой группировке методом count(), \n",
    "# сортировка получившегося Series в порядке убывания и сохранение в spb_genres\n",
    "spb_general = spb_general.groupby('genre')['genre'].count().sort_values(ascending=False)"
   ]
  },
  {
   "cell_type": "markdown",
   "metadata": {
    "id": "5Doha_ODgyQ8"
   },
   "source": [
    "Выводим на экран первые десять строк `spb_genres`:"
   ]
  },
  {
   "cell_type": "code",
   "execution_count": 38,
   "metadata": {
    "id": "uaGJHjVU_Zcv"
   },
   "outputs": [
    {
     "data": {
      "text/plain": [
       "genre\n",
       "pop            2431\n",
       "dance          1932\n",
       "rock           1879\n",
       "electronic     1736\n",
       "hiphop          960\n",
       "alternative     649\n",
       "classical       646\n",
       "rusrap          564\n",
       "ruspop          538\n",
       "world           515\n",
       "Name: genre, dtype: int64"
      ]
     },
     "execution_count": 38,
     "metadata": {},
     "output_type": "execute_result"
    }
   ],
   "source": [
    "# просмотр первых 10 строк spb_genres\n",
    "spb_general.head(10)"
   ]
  },
  {
   "cell_type": "markdown",
   "metadata": {
    "id": "RY51YJYu_Zcv"
   },
   "source": [
    "**Выводы**"
   ]
  },
  {
   "cell_type": "markdown",
   "metadata": {
    "id": "nVhnJEm__Zcv"
   },
   "source": [
    "Гипотеза частично подтвердилась:\n",
    "* Поп-музыка — самый популярный жанр в Москве, как и предполагала гипотеза. Более того, в топ-10 жанров встречается близкий жанр — русская популярная музыка.\n",
    "* Вопреки ожиданиям, рэп одинаково популярен в Москве и Петербурге. \n"
   ]
  },
  {
   "cell_type": "markdown",
   "metadata": {
    "id": "ykKQ0N65_Zcv"
   },
   "source": [
    "## Итоги исследования"
   ]
  },
  {
   "cell_type": "markdown",
   "metadata": {
    "id": "tjUwbHb3_Zcv"
   },
   "source": [
    "Мы проверили три гипотезы и установили:\n",
    "\n",
    "1. День недели по-разному влияет на активность пользователей в Москве и Петербурге. \n",
    "\n",
    "Первая гипотеза полностью подтвердилась.\n",
    "\n",
    "2. Музыкальные предпочтения не сильно меняются в течение недели — будь то Москва или Петербург. Небольшие различия заметны в начале недели, по понедельникам:\n",
    "* в Москве слушают музыку жанра “world”,\n",
    "* в Петербурге — джаз и классику.\n",
    "\n",
    "Таким образом, вторая гипотеза подтвердилась лишь отчасти. Этот результат мог оказаться иным, если бы не пропуски в данных.\n",
    "\n",
    "3. Во вкусах пользователей Москвы и Петербурга больше общего чем различий. Вопреки ожиданиям, предпочтения жанров в Петербурге напоминают московские.\n",
    "\n",
    "Третья гипотеза не подтвердилась. Если различия в предпочтениях и существуют, на основной массе пользователей они незаметны.\n"
   ]
  }
 ],
 "metadata": {
  "ExecuteTimeLog": [
   {
    "duration": 236,
    "start_time": "2021-12-28T13:43:28.885Z"
   },
   {
    "duration": 210,
    "start_time": "2021-12-28T13:43:43.106Z"
   },
   {
    "duration": 555,
    "start_time": "2021-12-28T13:43:47.274Z"
   },
   {
    "duration": 123,
    "start_time": "2021-12-28T13:43:51.378Z"
   },
   {
    "duration": 7,
    "start_time": "2021-12-28T13:43:54.417Z"
   },
   {
    "duration": 25,
    "start_time": "2021-12-28T13:44:34.554Z"
   },
   {
    "duration": 232,
    "start_time": "2021-12-28T13:46:46.008Z"
   },
   {
    "duration": 69,
    "start_time": "2021-12-28T13:46:57.336Z"
   },
   {
    "duration": 3,
    "start_time": "2021-12-28T13:47:03.496Z"
   },
   {
    "duration": 3,
    "start_time": "2021-12-28T13:53:01.703Z"
   },
   {
    "duration": 3,
    "start_time": "2021-12-28T13:53:04.579Z"
   },
   {
    "duration": 3,
    "start_time": "2021-12-28T13:53:11.501Z"
   },
   {
    "duration": 21,
    "start_time": "2021-12-28T13:53:14.149Z"
   },
   {
    "duration": 3,
    "start_time": "2021-12-28T13:53:16.532Z"
   },
   {
    "duration": 21,
    "start_time": "2021-12-28T14:02:34.873Z"
   },
   {
    "duration": 1000,
    "start_time": "2021-12-28T14:08:59.553Z"
   },
   {
    "duration": 14,
    "start_time": "2021-12-28T14:09:13.737Z"
   },
   {
    "duration": 22,
    "start_time": "2021-12-28T14:09:15.700Z"
   },
   {
    "duration": 31,
    "start_time": "2021-12-28T14:09:53.181Z"
   },
   {
    "duration": 34,
    "start_time": "2021-12-28T14:10:36.725Z"
   },
   {
    "duration": 21,
    "start_time": "2021-12-28T14:10:43.732Z"
   },
   {
    "duration": 72,
    "start_time": "2021-12-28T14:12:55.884Z"
   },
   {
    "duration": 79,
    "start_time": "2021-12-28T14:14:23.827Z"
   },
   {
    "duration": 56,
    "start_time": "2021-12-28T14:14:26.547Z"
   },
   {
    "duration": 11,
    "start_time": "2021-12-28T14:17:09.778Z"
   },
   {
    "duration": 250,
    "start_time": "2021-12-28T14:19:03.205Z"
   },
   {
    "duration": 5,
    "start_time": "2021-12-28T14:19:18.361Z"
   },
   {
    "duration": 5,
    "start_time": "2021-12-28T14:19:20.992Z"
   },
   {
    "duration": 6,
    "start_time": "2021-12-28T14:19:28.634Z"
   },
   {
    "duration": 5,
    "start_time": "2021-12-28T14:19:55.585Z"
   },
   {
    "duration": 5,
    "start_time": "2021-12-28T14:19:59.432Z"
   },
   {
    "duration": 6,
    "start_time": "2021-12-28T14:20:11.160Z"
   },
   {
    "duration": 13,
    "start_time": "2021-12-28T14:20:18.924Z"
   },
   {
    "duration": 7,
    "start_time": "2021-12-28T14:20:24.512Z"
   },
   {
    "duration": 6,
    "start_time": "2021-12-28T14:20:53.584Z"
   },
   {
    "duration": 68,
    "start_time": "2021-12-28T14:28:48.598Z"
   },
   {
    "duration": 75,
    "start_time": "2021-12-28T14:30:49.404Z"
   },
   {
    "duration": 3,
    "start_time": "2021-12-28T14:31:04.659Z"
   },
   {
    "duration": 75,
    "start_time": "2021-12-28T14:32:28.979Z"
   },
   {
    "duration": 70,
    "start_time": "2021-12-28T14:32:40.539Z"
   },
   {
    "duration": 65,
    "start_time": "2021-12-28T14:32:47.274Z"
   },
   {
    "duration": 3,
    "start_time": "2021-12-28T14:32:58.403Z"
   },
   {
    "duration": 12,
    "start_time": "2021-12-28T14:34:24.178Z"
   },
   {
    "duration": 3,
    "start_time": "2021-12-28T14:34:39.257Z"
   },
   {
    "duration": 9,
    "start_time": "2021-12-28T14:34:42.505Z"
   },
   {
    "duration": 7,
    "start_time": "2021-12-28T14:34:57.905Z"
   },
   {
    "duration": 303,
    "start_time": "2021-12-28T14:52:40.530Z"
   },
   {
    "duration": 10,
    "start_time": "2021-12-28T14:54:38.241Z"
   },
   {
    "duration": 11,
    "start_time": "2021-12-28T14:55:11.600Z"
   },
   {
    "duration": 14,
    "start_time": "2021-12-28T14:55:21.265Z"
   },
   {
    "duration": 12,
    "start_time": "2021-12-28T14:55:23.744Z"
   },
   {
    "duration": 11,
    "start_time": "2021-12-28T14:56:00.793Z"
   },
   {
    "duration": 11,
    "start_time": "2021-12-28T14:56:22.768Z"
   },
   {
    "duration": 37,
    "start_time": "2021-12-28T14:58:15.697Z"
   },
   {
    "duration": 12,
    "start_time": "2021-12-28T15:04:47.685Z"
   },
   {
    "duration": 12,
    "start_time": "2021-12-28T15:06:49.322Z"
   },
   {
    "duration": 4,
    "start_time": "2021-12-28T15:20:03.503Z"
   },
   {
    "duration": 192,
    "start_time": "2021-12-28T15:22:35.797Z"
   },
   {
    "duration": 21,
    "start_time": "2021-12-28T15:23:38.859Z"
   },
   {
    "duration": 4,
    "start_time": "2021-12-28T15:24:01.044Z"
   },
   {
    "duration": 2220,
    "start_time": "2021-12-28T15:24:06.532Z"
   },
   {
    "duration": 2202,
    "start_time": "2021-12-28T15:24:13.048Z"
   },
   {
    "duration": 246,
    "start_time": "2021-12-28T15:24:24.898Z"
   },
   {
    "duration": 4,
    "start_time": "2021-12-28T15:24:30.946Z"
   },
   {
    "duration": 426,
    "start_time": "2021-12-28T15:24:34.026Z"
   },
   {
    "duration": 3,
    "start_time": "2021-12-28T15:27:58.888Z"
   },
   {
    "duration": 425,
    "start_time": "2021-12-28T15:28:01.673Z"
   },
   {
    "duration": 198,
    "start_time": "2021-12-28T15:28:12.184Z"
   },
   {
    "duration": 562,
    "start_time": "2021-12-28T15:28:19.689Z"
   },
   {
    "duration": 145,
    "start_time": "2021-12-28T15:28:20.792Z"
   },
   {
    "duration": 8,
    "start_time": "2021-12-28T15:28:22.983Z"
   },
   {
    "duration": 24,
    "start_time": "2021-12-28T15:28:23.944Z"
   },
   {
    "duration": 3,
    "start_time": "2021-12-28T15:28:26.991Z"
   },
   {
    "duration": 21,
    "start_time": "2021-12-28T15:28:28.399Z"
   },
   {
    "duration": 3,
    "start_time": "2021-12-28T15:28:29.271Z"
   },
   {
    "duration": 28,
    "start_time": "2021-12-28T15:28:33.103Z"
   },
   {
    "duration": 16,
    "start_time": "2021-12-28T15:28:35.064Z"
   },
   {
    "duration": 17,
    "start_time": "2021-12-28T15:28:38.375Z"
   },
   {
    "duration": 20,
    "start_time": "2021-12-28T15:28:54.529Z"
   },
   {
    "duration": 53,
    "start_time": "2021-12-28T15:29:06.728Z"
   },
   {
    "duration": 66,
    "start_time": "2021-12-28T15:29:09.423Z"
   },
   {
    "duration": 47,
    "start_time": "2021-12-28T15:29:10.510Z"
   },
   {
    "duration": 7,
    "start_time": "2021-12-28T15:29:14.055Z"
   },
   {
    "duration": 3,
    "start_time": "2021-12-28T15:29:15.856Z"
   },
   {
    "duration": 13,
    "start_time": "2021-12-28T15:29:17.223Z"
   },
   {
    "duration": 6,
    "start_time": "2021-12-28T15:29:18.423Z"
   },
   {
    "duration": 11,
    "start_time": "2021-12-28T15:29:21.454Z"
   },
   {
    "duration": 10,
    "start_time": "2021-12-28T15:29:24.111Z"
   },
   {
    "duration": 3,
    "start_time": "2021-12-28T15:29:27.775Z"
   },
   {
    "duration": 11,
    "start_time": "2021-12-28T15:29:30.079Z"
   },
   {
    "duration": 429,
    "start_time": "2021-12-28T15:29:45.096Z"
   },
   {
    "duration": 3,
    "start_time": "2021-12-28T15:29:59.783Z"
   },
   {
    "duration": 23,
    "start_time": "2021-12-28T15:30:02.631Z"
   },
   {
    "duration": 18,
    "start_time": "2021-12-28T15:31:06.527Z"
   },
   {
    "duration": 25,
    "start_time": "2021-12-28T15:31:30.975Z"
   },
   {
    "duration": 22,
    "start_time": "2021-12-28T15:33:16.575Z"
   },
   {
    "duration": 4,
    "start_time": "2021-12-28T15:33:58.453Z"
   },
   {
    "duration": 30,
    "start_time": "2021-12-28T15:33:59.437Z"
   },
   {
    "duration": 4,
    "start_time": "2021-12-28T15:34:21.758Z"
   },
   {
    "duration": 26,
    "start_time": "2021-12-28T15:34:24.445Z"
   },
   {
    "duration": 24,
    "start_time": "2021-12-28T15:34:38.557Z"
   },
   {
    "duration": 27,
    "start_time": "2021-12-28T15:37:17.731Z"
   },
   {
    "duration": 3,
    "start_time": "2021-12-28T15:37:23.108Z"
   },
   {
    "duration": 13,
    "start_time": "2021-12-28T15:37:24.483Z"
   },
   {
    "duration": 3,
    "start_time": "2021-12-28T15:38:13.211Z"
   },
   {
    "duration": 13,
    "start_time": "2021-12-28T15:38:14.292Z"
   },
   {
    "duration": 13,
    "start_time": "2021-12-28T15:43:03.706Z"
   },
   {
    "duration": 3,
    "start_time": "2021-12-28T15:43:06.074Z"
   },
   {
    "duration": 23,
    "start_time": "2021-12-28T15:43:07.201Z"
   },
   {
    "duration": 66,
    "start_time": "2021-12-28T15:44:05.033Z"
   },
   {
    "duration": 3,
    "start_time": "2021-12-28T15:44:23.329Z"
   },
   {
    "duration": 414,
    "start_time": "2021-12-28T15:44:24.704Z"
   },
   {
    "duration": 3,
    "start_time": "2021-12-28T15:45:59.752Z"
   },
   {
    "duration": 480,
    "start_time": "2021-12-28T15:46:00.969Z"
   },
   {
    "duration": 4,
    "start_time": "2021-12-28T15:48:01.223Z"
   },
   {
    "duration": 19,
    "start_time": "2021-12-28T15:48:02.584Z"
   },
   {
    "duration": 15,
    "start_time": "2021-12-28T15:48:05.679Z"
   },
   {
    "duration": 15,
    "start_time": "2021-12-28T15:48:08.104Z"
   },
   {
    "duration": 15,
    "start_time": "2021-12-28T15:50:08.190Z"
   },
   {
    "duration": 16,
    "start_time": "2021-12-28T15:50:10.462Z"
   },
   {
    "duration": 15,
    "start_time": "2021-12-28T15:50:13.790Z"
   },
   {
    "duration": 16,
    "start_time": "2021-12-28T15:50:16.106Z"
   },
   {
    "duration": 14,
    "start_time": "2021-12-28T15:50:17.550Z"
   },
   {
    "duration": 15,
    "start_time": "2021-12-28T15:50:25.750Z"
   },
   {
    "duration": 15,
    "start_time": "2021-12-28T16:23:14.984Z"
   },
   {
    "duration": 15,
    "start_time": "2021-12-28T16:23:15.656Z"
   },
   {
    "duration": 15,
    "start_time": "2021-12-28T16:23:16.223Z"
   },
   {
    "duration": 19,
    "start_time": "2021-12-28T16:23:16.775Z"
   },
   {
    "duration": 16,
    "start_time": "2021-12-28T16:23:17.768Z"
   },
   {
    "duration": 16,
    "start_time": "2021-12-28T16:23:25.815Z"
   },
   {
    "duration": 15,
    "start_time": "2021-12-28T16:23:26.681Z"
   },
   {
    "duration": 68,
    "start_time": "2021-12-28T16:40:08.072Z"
   },
   {
    "duration": 5,
    "start_time": "2021-12-28T17:30:47.529Z"
   },
   {
    "duration": 69,
    "start_time": "2021-12-28T17:32:57.440Z"
   },
   {
    "duration": 201,
    "start_time": "2021-12-28T17:33:11.136Z"
   },
   {
    "duration": 11,
    "start_time": "2021-12-28T17:33:18.535Z"
   },
   {
    "duration": 11,
    "start_time": "2021-12-28T17:33:19.056Z"
   },
   {
    "duration": 3,
    "start_time": "2021-12-28T17:33:20.416Z"
   },
   {
    "duration": 401,
    "start_time": "2021-12-28T17:33:21.447Z"
   },
   {
    "duration": 5,
    "start_time": "2021-12-28T17:33:39.592Z"
   },
   {
    "duration": 19,
    "start_time": "2021-12-28T17:33:40.704Z"
   },
   {
    "duration": 199,
    "start_time": "2021-12-28T17:34:39.566Z"
   },
   {
    "duration": 9,
    "start_time": "2021-12-28T17:34:49.063Z"
   },
   {
    "duration": 4,
    "start_time": "2021-12-28T17:34:50.367Z"
   },
   {
    "duration": 15,
    "start_time": "2021-12-28T17:34:51.815Z"
   },
   {
    "duration": 14,
    "start_time": "2021-12-28T17:34:56.567Z"
   },
   {
    "duration": 12,
    "start_time": "2021-12-28T17:34:57.766Z"
   },
   {
    "duration": 4,
    "start_time": "2021-12-28T17:34:59.015Z"
   },
   {
    "duration": 26,
    "start_time": "2021-12-28T17:35:00.334Z"
   },
   {
    "duration": 18,
    "start_time": "2021-12-28T17:35:03.479Z"
   },
   {
    "duration": 27,
    "start_time": "2021-12-28T17:35:58.902Z"
   },
   {
    "duration": 16,
    "start_time": "2021-12-28T17:36:18.392Z"
   },
   {
    "duration": 4,
    "start_time": "2021-12-28T17:39:57.222Z"
   },
   {
    "duration": 27,
    "start_time": "2021-12-28T17:40:00.117Z"
   },
   {
    "duration": 26,
    "start_time": "2021-12-28T17:40:05.333Z"
   },
   {
    "duration": 17,
    "start_time": "2021-12-28T17:40:08.173Z"
   },
   {
    "duration": 28,
    "start_time": "2021-12-28T17:40:10.589Z"
   },
   {
    "duration": 17,
    "start_time": "2021-12-28T17:40:11.381Z"
   },
   {
    "duration": 3,
    "start_time": "2021-12-28T17:42:48.221Z"
   },
   {
    "duration": 18,
    "start_time": "2021-12-28T17:42:50.683Z"
   },
   {
    "duration": 12,
    "start_time": "2021-12-28T17:42:54.340Z"
   },
   {
    "duration": 18,
    "start_time": "2021-12-28T17:42:55.861Z"
   },
   {
    "duration": 11,
    "start_time": "2021-12-28T17:42:58.315Z"
   },
   {
    "duration": 71,
    "start_time": "2021-12-28T17:50:35.960Z"
   },
   {
    "duration": 11,
    "start_time": "2021-12-28T17:50:42.312Z"
   },
   {
    "duration": 4,
    "start_time": "2021-12-28T17:50:43.848Z"
   },
   {
    "duration": 9,
    "start_time": "2021-12-28T17:51:30.551Z"
   },
   {
    "duration": 203,
    "start_time": "2021-12-28T17:51:32.999Z"
   },
   {
    "duration": 195,
    "start_time": "2021-12-28T17:51:46.111Z"
   },
   {
    "duration": 3,
    "start_time": "2021-12-28T17:51:57.965Z"
   },
   {
    "duration": 147,
    "start_time": "2021-12-28T17:51:57.969Z"
   },
   {
    "duration": 7,
    "start_time": "2021-12-28T17:51:58.118Z"
   },
   {
    "duration": 32,
    "start_time": "2021-12-28T17:51:58.127Z"
   },
   {
    "duration": 3,
    "start_time": "2021-12-28T17:51:58.161Z"
   },
   {
    "duration": 23,
    "start_time": "2021-12-28T17:51:58.166Z"
   },
   {
    "duration": 3,
    "start_time": "2021-12-28T17:51:58.192Z"
   },
   {
    "duration": 45,
    "start_time": "2021-12-28T17:51:58.197Z"
   },
   {
    "duration": 17,
    "start_time": "2021-12-28T17:51:58.244Z"
   },
   {
    "duration": 26,
    "start_time": "2021-12-28T17:51:58.263Z"
   },
   {
    "duration": 105,
    "start_time": "2021-12-28T17:51:58.291Z"
   },
   {
    "duration": 104,
    "start_time": "2021-12-28T17:51:58.398Z"
   },
   {
    "duration": 74,
    "start_time": "2021-12-28T17:51:58.504Z"
   },
   {
    "duration": 9,
    "start_time": "2021-12-28T17:51:58.580Z"
   },
   {
    "duration": 4,
    "start_time": "2021-12-28T17:51:58.591Z"
   },
   {
    "duration": 15,
    "start_time": "2021-12-28T17:51:58.597Z"
   },
   {
    "duration": 29,
    "start_time": "2021-12-28T17:51:58.614Z"
   },
   {
    "duration": 11,
    "start_time": "2021-12-28T17:51:58.645Z"
   },
   {
    "duration": 11,
    "start_time": "2021-12-28T17:51:58.659Z"
   },
   {
    "duration": 3,
    "start_time": "2021-12-28T17:51:58.672Z"
   },
   {
    "duration": 22,
    "start_time": "2021-12-28T17:51:58.677Z"
   },
   {
    "duration": 50,
    "start_time": "2021-12-28T17:51:58.700Z"
   },
   {
    "duration": 15,
    "start_time": "2021-12-28T17:51:58.752Z"
   },
   {
    "duration": 18,
    "start_time": "2021-12-28T17:51:58.769Z"
   },
   {
    "duration": 23,
    "start_time": "2021-12-28T17:51:58.789Z"
   },
   {
    "duration": 46,
    "start_time": "2021-12-28T17:51:58.814Z"
   },
   {
    "duration": 119,
    "start_time": "2021-12-28T17:51:58.862Z"
   },
   {
    "duration": 13,
    "start_time": "2021-12-28T17:51:58.984Z"
   },
   {
    "duration": 12,
    "start_time": "2021-12-28T17:51:58.999Z"
   },
   {
    "duration": 6,
    "start_time": "2021-12-28T17:51:59.013Z"
   },
   {
    "duration": 45,
    "start_time": "2021-12-28T17:51:59.020Z"
   },
   {
    "duration": 16,
    "start_time": "2021-12-28T17:51:59.067Z"
   },
   {
    "duration": 21,
    "start_time": "2021-12-28T17:51:59.085Z"
   },
   {
    "duration": 42,
    "start_time": "2021-12-28T17:51:59.108Z"
   },
   {
    "duration": 15,
    "start_time": "2021-12-28T17:51:59.152Z"
   },
   {
    "duration": 5,
    "start_time": "2021-12-28T17:51:59.169Z"
   },
   {
    "duration": 12,
    "start_time": "2021-12-28T17:51:59.176Z"
   },
   {
    "duration": 2,
    "start_time": "2021-12-28T17:51:59.190Z"
   },
   {
    "duration": 5,
    "start_time": "2021-12-28T17:52:27.847Z"
   },
   {
    "duration": 5,
    "start_time": "2021-12-28T17:52:37.363Z"
   },
   {
    "duration": 233,
    "start_time": "2021-12-28T17:56:13.622Z"
   },
   {
    "duration": 200,
    "start_time": "2021-12-28T17:56:28.158Z"
   },
   {
    "duration": 215,
    "start_time": "2021-12-28T17:56:59.878Z"
   },
   {
    "duration": 3,
    "start_time": "2021-12-28T17:57:04.707Z"
   },
   {
    "duration": 159,
    "start_time": "2021-12-28T17:57:04.712Z"
   },
   {
    "duration": 6,
    "start_time": "2021-12-28T17:57:04.873Z"
   },
   {
    "duration": 30,
    "start_time": "2021-12-28T17:57:04.881Z"
   },
   {
    "duration": 4,
    "start_time": "2021-12-28T17:57:04.913Z"
   },
   {
    "duration": 31,
    "start_time": "2021-12-28T17:57:04.918Z"
   },
   {
    "duration": 3,
    "start_time": "2021-12-28T17:57:04.951Z"
   },
   {
    "duration": 27,
    "start_time": "2021-12-28T17:57:04.956Z"
   },
   {
    "duration": 18,
    "start_time": "2021-12-28T17:57:04.984Z"
   },
   {
    "duration": 43,
    "start_time": "2021-12-28T17:57:05.004Z"
   },
   {
    "duration": 58,
    "start_time": "2021-12-28T17:57:05.049Z"
   },
   {
    "duration": 82,
    "start_time": "2021-12-28T17:57:05.109Z"
   },
   {
    "duration": 63,
    "start_time": "2021-12-28T17:57:05.193Z"
   },
   {
    "duration": 6,
    "start_time": "2021-12-28T17:57:05.258Z"
   },
   {
    "duration": 5,
    "start_time": "2021-12-28T17:57:05.266Z"
   },
   {
    "duration": 17,
    "start_time": "2021-12-28T17:57:05.273Z"
   },
   {
    "duration": 9,
    "start_time": "2021-12-28T17:57:05.291Z"
   },
   {
    "duration": 14,
    "start_time": "2021-12-28T17:57:05.301Z"
   },
   {
    "duration": 24,
    "start_time": "2021-12-28T17:57:05.318Z"
   },
   {
    "duration": 3,
    "start_time": "2021-12-28T17:57:05.343Z"
   },
   {
    "duration": 21,
    "start_time": "2021-12-28T17:57:05.348Z"
   },
   {
    "duration": 14,
    "start_time": "2021-12-28T17:57:05.371Z"
   },
   {
    "duration": 15,
    "start_time": "2021-12-28T17:57:05.386Z"
   },
   {
    "duration": 20,
    "start_time": "2021-12-28T17:57:05.402Z"
   },
   {
    "duration": 17,
    "start_time": "2021-12-28T17:57:05.441Z"
   },
   {
    "duration": 13,
    "start_time": "2021-12-28T17:57:05.459Z"
   },
   {
    "duration": 85,
    "start_time": "2021-12-28T17:57:05.473Z"
   },
   {
    "duration": 12,
    "start_time": "2021-12-28T17:57:05.559Z"
   },
   {
    "duration": 16,
    "start_time": "2021-12-28T17:57:05.573Z"
   },
   {
    "duration": 5,
    "start_time": "2021-12-28T17:57:05.591Z"
   },
   {
    "duration": 28,
    "start_time": "2021-12-28T17:57:05.598Z"
   },
   {
    "duration": 13,
    "start_time": "2021-12-28T17:57:05.641Z"
   },
   {
    "duration": 17,
    "start_time": "2021-12-28T17:57:05.656Z"
   },
   {
    "duration": 13,
    "start_time": "2021-12-28T17:57:05.674Z"
   },
   {
    "duration": 11,
    "start_time": "2021-12-28T17:57:05.688Z"
   },
   {
    "duration": 5,
    "start_time": "2021-12-28T17:57:05.701Z"
   },
   {
    "duration": 42,
    "start_time": "2021-12-28T17:57:05.707Z"
   },
   {
    "duration": 5,
    "start_time": "2021-12-28T17:57:05.750Z"
   },
   {
    "duration": 255,
    "start_time": "2021-12-28T17:57:20.588Z"
   },
   {
    "duration": 3,
    "start_time": "2021-12-28T17:57:23.658Z"
   },
   {
    "duration": 148,
    "start_time": "2021-12-28T17:57:23.662Z"
   },
   {
    "duration": 6,
    "start_time": "2021-12-28T17:57:23.811Z"
   },
   {
    "duration": 30,
    "start_time": "2021-12-28T17:57:23.819Z"
   },
   {
    "duration": 3,
    "start_time": "2021-12-28T17:57:23.851Z"
   },
   {
    "duration": 25,
    "start_time": "2021-12-28T17:57:23.855Z"
   },
   {
    "duration": 3,
    "start_time": "2021-12-28T17:57:23.883Z"
   },
   {
    "duration": 29,
    "start_time": "2021-12-28T17:57:23.888Z"
   },
   {
    "duration": 30,
    "start_time": "2021-12-28T17:57:23.918Z"
   },
   {
    "duration": 28,
    "start_time": "2021-12-28T17:57:23.950Z"
   },
   {
    "duration": 54,
    "start_time": "2021-12-28T17:57:23.980Z"
   },
   {
    "duration": 64,
    "start_time": "2021-12-28T17:57:24.035Z"
   },
   {
    "duration": 59,
    "start_time": "2021-12-28T17:57:24.100Z"
   },
   {
    "duration": 6,
    "start_time": "2021-12-28T17:57:24.160Z"
   },
   {
    "duration": 9,
    "start_time": "2021-12-28T17:57:24.167Z"
   },
   {
    "duration": 12,
    "start_time": "2021-12-28T17:57:24.177Z"
   },
   {
    "duration": 6,
    "start_time": "2021-12-28T17:57:24.190Z"
   },
   {
    "duration": 11,
    "start_time": "2021-12-28T17:57:24.198Z"
   },
   {
    "duration": 30,
    "start_time": "2021-12-28T17:57:24.212Z"
   },
   {
    "duration": 3,
    "start_time": "2021-12-28T17:57:24.244Z"
   },
   {
    "duration": 25,
    "start_time": "2021-12-28T17:57:24.249Z"
   },
   {
    "duration": 14,
    "start_time": "2021-12-28T17:57:24.276Z"
   },
   {
    "duration": 15,
    "start_time": "2021-12-28T17:57:24.292Z"
   },
   {
    "duration": 34,
    "start_time": "2021-12-28T17:57:24.309Z"
   },
   {
    "duration": 20,
    "start_time": "2021-12-28T17:57:24.345Z"
   },
   {
    "duration": 14,
    "start_time": "2021-12-28T17:57:24.367Z"
   },
   {
    "duration": 93,
    "start_time": "2021-12-28T17:57:24.383Z"
   },
   {
    "duration": 11,
    "start_time": "2021-12-28T17:57:24.478Z"
   },
   {
    "duration": 20,
    "start_time": "2021-12-28T17:57:24.491Z"
   },
   {
    "duration": 5,
    "start_time": "2021-12-28T17:57:24.513Z"
   },
   {
    "duration": 28,
    "start_time": "2021-12-28T17:57:24.520Z"
   },
   {
    "duration": 12,
    "start_time": "2021-12-28T17:57:24.550Z"
   },
   {
    "duration": 17,
    "start_time": "2021-12-28T17:57:24.564Z"
   },
   {
    "duration": 11,
    "start_time": "2021-12-28T17:57:24.583Z"
   },
   {
    "duration": 10,
    "start_time": "2021-12-28T17:57:24.596Z"
   },
   {
    "duration": 37,
    "start_time": "2021-12-28T17:57:24.608Z"
   },
   {
    "duration": 12,
    "start_time": "2021-12-28T17:57:24.647Z"
   },
   {
    "duration": 5,
    "start_time": "2021-12-28T17:57:24.661Z"
   },
   {
    "duration": 795,
    "start_time": "2021-12-29T14:35:54.528Z"
   },
   {
    "duration": 179,
    "start_time": "2021-12-29T14:35:55.326Z"
   },
   {
    "duration": 10,
    "start_time": "2021-12-29T14:35:55.509Z"
   },
   {
    "duration": 45,
    "start_time": "2021-12-29T14:35:55.522Z"
   },
   {
    "duration": 5,
    "start_time": "2021-12-29T14:35:55.569Z"
   },
   {
    "duration": 29,
    "start_time": "2021-12-29T14:35:55.576Z"
   },
   {
    "duration": 8,
    "start_time": "2021-12-29T14:35:55.607Z"
   },
   {
    "duration": 73,
    "start_time": "2021-12-29T14:35:55.619Z"
   },
   {
    "duration": 22,
    "start_time": "2021-12-29T14:35:55.694Z"
   },
   {
    "duration": 45,
    "start_time": "2021-12-29T14:35:55.719Z"
   },
   {
    "duration": 93,
    "start_time": "2021-12-29T14:35:55.766Z"
   },
   {
    "duration": 106,
    "start_time": "2021-12-29T14:35:55.862Z"
   },
   {
    "duration": 74,
    "start_time": "2021-12-29T14:35:55.971Z"
   },
   {
    "duration": 9,
    "start_time": "2021-12-29T14:35:56.060Z"
   },
   {
    "duration": 4,
    "start_time": "2021-12-29T14:35:56.072Z"
   },
   {
    "duration": 16,
    "start_time": "2021-12-29T14:35:56.078Z"
   },
   {
    "duration": 9,
    "start_time": "2021-12-29T14:35:56.096Z"
   },
   {
    "duration": 55,
    "start_time": "2021-12-29T14:35:56.108Z"
   },
   {
    "duration": 15,
    "start_time": "2021-12-29T14:35:56.166Z"
   },
   {
    "duration": 5,
    "start_time": "2021-12-29T14:35:56.183Z"
   },
   {
    "duration": 26,
    "start_time": "2021-12-29T14:35:56.191Z"
   },
   {
    "duration": 48,
    "start_time": "2021-12-29T14:35:56.219Z"
   },
   {
    "duration": 19,
    "start_time": "2021-12-29T14:35:56.272Z"
   },
   {
    "duration": 17,
    "start_time": "2021-12-29T14:35:56.293Z"
   },
   {
    "duration": 58,
    "start_time": "2021-12-29T14:35:56.313Z"
   },
   {
    "duration": 19,
    "start_time": "2021-12-29T14:35:56.373Z"
   },
   {
    "duration": 120,
    "start_time": "2021-12-29T14:35:56.394Z"
   },
   {
    "duration": 15,
    "start_time": "2021-12-29T14:35:56.517Z"
   },
   {
    "duration": 25,
    "start_time": "2021-12-29T14:35:56.535Z"
   },
   {
    "duration": 6,
    "start_time": "2021-12-29T14:35:56.562Z"
   },
   {
    "duration": 30,
    "start_time": "2021-12-29T14:35:56.570Z"
   },
   {
    "duration": 18,
    "start_time": "2021-12-29T14:35:56.602Z"
   },
   {
    "duration": 55,
    "start_time": "2021-12-29T14:35:56.623Z"
   },
   {
    "duration": 21,
    "start_time": "2021-12-29T14:35:56.681Z"
   },
   {
    "duration": 19,
    "start_time": "2021-12-29T14:35:56.705Z"
   },
   {
    "duration": 33,
    "start_time": "2021-12-29T14:35:56.726Z"
   },
   {
    "duration": 11,
    "start_time": "2021-12-29T14:35:56.762Z"
   },
   {
    "duration": 7,
    "start_time": "2021-12-29T14:35:56.776Z"
   },
   {
    "duration": 123,
    "start_time": "2021-12-29T21:36:51.922Z"
   },
   {
    "duration": 120,
    "start_time": "2021-12-29T21:36:55.809Z"
   },
   {
    "duration": 475,
    "start_time": "2021-12-29T21:40:26.592Z"
   },
   {
    "duration": 781,
    "start_time": "2021-12-29T21:40:31.725Z"
   },
   {
    "duration": 184,
    "start_time": "2021-12-29T21:40:34.557Z"
   },
   {
    "duration": 25,
    "start_time": "2021-12-29T21:40:38.063Z"
   },
   {
    "duration": 134,
    "start_time": "2021-12-29T21:43:37.443Z"
   },
   {
    "duration": 113,
    "start_time": "2021-12-29T21:49:26.717Z"
   },
   {
    "duration": 31,
    "start_time": "2021-12-29T21:50:49.245Z"
   },
   {
    "duration": 32,
    "start_time": "2021-12-29T21:50:55.994Z"
   },
   {
    "duration": 36,
    "start_time": "2021-12-29T21:52:03.689Z"
   },
   {
    "duration": 91,
    "start_time": "2021-12-29T21:52:16.735Z"
   },
   {
    "duration": 5,
    "start_time": "2021-12-29T21:53:22.703Z"
   },
   {
    "duration": 81,
    "start_time": "2021-12-29T21:54:31.406Z"
   },
   {
    "duration": 359,
    "start_time": "2021-12-29T21:54:56.399Z"
   },
   {
    "duration": 931,
    "start_time": "2021-12-29T21:55:06.066Z"
   },
   {
    "duration": 4,
    "start_time": "2021-12-29T21:55:13.568Z"
   },
   {
    "duration": 211,
    "start_time": "2021-12-29T21:55:13.575Z"
   },
   {
    "duration": 16,
    "start_time": "2021-12-29T21:55:13.789Z"
   },
   {
    "duration": 53,
    "start_time": "2021-12-29T21:55:13.807Z"
   },
   {
    "duration": 6,
    "start_time": "2021-12-29T21:55:13.862Z"
   },
   {
    "duration": 31,
    "start_time": "2021-12-29T21:55:13.870Z"
   },
   {
    "duration": 6,
    "start_time": "2021-12-29T21:55:13.903Z"
   },
   {
    "duration": 63,
    "start_time": "2021-12-29T21:55:13.911Z"
   },
   {
    "duration": 22,
    "start_time": "2021-12-29T21:55:13.978Z"
   },
   {
    "duration": 29,
    "start_time": "2021-12-29T21:55:14.003Z"
   },
   {
    "duration": 98,
    "start_time": "2021-12-29T21:55:14.040Z"
   },
   {
    "duration": 118,
    "start_time": "2021-12-29T21:55:14.141Z"
   },
   {
    "duration": 73,
    "start_time": "2021-12-29T21:55:14.261Z"
   },
   {
    "duration": 24,
    "start_time": "2021-12-29T21:55:14.336Z"
   },
   {
    "duration": 3,
    "start_time": "2021-12-29T21:55:14.363Z"
   },
   {
    "duration": 15,
    "start_time": "2021-12-29T21:55:14.369Z"
   },
   {
    "duration": 11,
    "start_time": "2021-12-29T21:55:14.386Z"
   },
   {
    "duration": 14,
    "start_time": "2021-12-29T21:55:14.400Z"
   },
   {
    "duration": 55,
    "start_time": "2021-12-29T21:55:14.416Z"
   },
   {
    "duration": 4,
    "start_time": "2021-12-29T21:55:14.473Z"
   },
   {
    "duration": 24,
    "start_time": "2021-12-29T21:55:14.480Z"
   },
   {
    "duration": 18,
    "start_time": "2021-12-29T21:55:14.507Z"
   },
   {
    "duration": 48,
    "start_time": "2021-12-29T21:55:14.528Z"
   },
   {
    "duration": 17,
    "start_time": "2021-12-29T21:55:14.580Z"
   },
   {
    "duration": 20,
    "start_time": "2021-12-29T21:55:14.600Z"
   },
   {
    "duration": 52,
    "start_time": "2021-12-29T21:55:14.622Z"
   },
   {
    "duration": 108,
    "start_time": "2021-12-29T21:55:14.676Z"
   },
   {
    "duration": 14,
    "start_time": "2021-12-29T21:55:14.787Z"
   },
   {
    "duration": 11,
    "start_time": "2021-12-29T21:55:14.803Z"
   },
   {
    "duration": 6,
    "start_time": "2021-12-29T21:55:14.817Z"
   },
   {
    "duration": 51,
    "start_time": "2021-12-29T21:55:14.825Z"
   },
   {
    "duration": 16,
    "start_time": "2021-12-29T21:55:14.879Z"
   },
   {
    "duration": 20,
    "start_time": "2021-12-29T21:55:14.897Z"
   },
   {
    "duration": 43,
    "start_time": "2021-12-29T21:55:14.920Z"
   },
   {
    "duration": 14,
    "start_time": "2021-12-29T21:55:14.966Z"
   },
   {
    "duration": 5,
    "start_time": "2021-12-29T21:55:14.983Z"
   },
   {
    "duration": 11,
    "start_time": "2021-12-29T21:55:14.991Z"
   },
   {
    "duration": 6,
    "start_time": "2021-12-29T21:55:15.004Z"
   },
   {
    "duration": 4,
    "start_time": "2021-12-29T21:56:44.870Z"
   },
   {
    "duration": 14,
    "start_time": "2021-12-29T21:56:57.533Z"
   },
   {
    "duration": 3,
    "start_time": "2021-12-29T21:57:09.282Z"
   },
   {
    "duration": 211,
    "start_time": "2021-12-29T21:57:09.290Z"
   },
   {
    "duration": 20,
    "start_time": "2021-12-29T21:57:09.504Z"
   },
   {
    "duration": 55,
    "start_time": "2021-12-29T21:57:09.528Z"
   },
   {
    "duration": 5,
    "start_time": "2021-12-29T21:57:09.585Z"
   },
   {
    "duration": 20,
    "start_time": "2021-12-29T21:57:09.592Z"
   },
   {
    "duration": 5,
    "start_time": "2021-12-29T21:57:09.614Z"
   },
   {
    "duration": 63,
    "start_time": "2021-12-29T21:57:09.621Z"
   },
   {
    "duration": 27,
    "start_time": "2021-12-29T21:57:09.688Z"
   },
   {
    "duration": 51,
    "start_time": "2021-12-29T21:57:09.719Z"
   },
   {
    "duration": 99,
    "start_time": "2021-12-29T21:57:09.772Z"
   },
   {
    "duration": 103,
    "start_time": "2021-12-29T21:57:09.874Z"
   },
   {
    "duration": 80,
    "start_time": "2021-12-29T21:57:09.979Z"
   },
   {
    "duration": 11,
    "start_time": "2021-12-29T21:57:10.061Z"
   },
   {
    "duration": 3,
    "start_time": "2021-12-29T21:57:10.074Z"
   },
   {
    "duration": 18,
    "start_time": "2021-12-29T21:57:10.079Z"
   },
   {
    "duration": 12,
    "start_time": "2021-12-29T21:57:10.100Z"
   },
   {
    "duration": 48,
    "start_time": "2021-12-29T21:57:10.114Z"
   },
   {
    "duration": 17,
    "start_time": "2021-12-29T21:57:10.164Z"
   },
   {
    "duration": 6,
    "start_time": "2021-12-29T21:57:10.184Z"
   },
   {
    "duration": 25,
    "start_time": "2021-12-29T21:57:10.193Z"
   },
   {
    "duration": 58,
    "start_time": "2021-12-29T21:57:10.221Z"
   },
   {
    "duration": 20,
    "start_time": "2021-12-29T21:57:10.281Z"
   },
   {
    "duration": 54,
    "start_time": "2021-12-29T21:57:10.308Z"
   },
   {
    "duration": 23,
    "start_time": "2021-12-29T21:57:10.366Z"
   },
   {
    "duration": 20,
    "start_time": "2021-12-29T21:57:10.392Z"
   },
   {
    "duration": 126,
    "start_time": "2021-12-29T21:57:10.415Z"
   },
   {
    "duration": 23,
    "start_time": "2021-12-29T21:57:10.544Z"
   },
   {
    "duration": 14,
    "start_time": "2021-12-29T21:57:10.570Z"
   },
   {
    "duration": 7,
    "start_time": "2021-12-29T21:57:10.586Z"
   },
   {
    "duration": 64,
    "start_time": "2021-12-29T21:57:10.596Z"
   },
   {
    "duration": 19,
    "start_time": "2021-12-29T21:57:10.663Z"
   },
   {
    "duration": 23,
    "start_time": "2021-12-29T21:57:10.685Z"
   },
   {
    "duration": 58,
    "start_time": "2021-12-29T21:57:10.711Z"
   },
   {
    "duration": 15,
    "start_time": "2021-12-29T21:57:10.772Z"
   },
   {
    "duration": 7,
    "start_time": "2021-12-29T21:57:10.790Z"
   },
   {
    "duration": 12,
    "start_time": "2021-12-29T21:57:10.800Z"
   },
   {
    "duration": 47,
    "start_time": "2021-12-29T21:57:10.814Z"
   },
   {
    "duration": 106,
    "start_time": "2021-12-29T21:58:24.944Z"
   },
   {
    "duration": 21,
    "start_time": "2021-12-29T21:58:56.852Z"
   },
   {
    "duration": 20,
    "start_time": "2021-12-29T21:59:13.620Z"
   },
   {
    "duration": 14,
    "start_time": "2021-12-29T21:59:39.452Z"
   },
   {
    "duration": 9,
    "start_time": "2021-12-29T22:00:04.035Z"
   },
   {
    "duration": 15,
    "start_time": "2021-12-29T22:00:56.964Z"
   },
   {
    "duration": 10,
    "start_time": "2021-12-29T22:01:04.852Z"
   },
   {
    "duration": 5,
    "start_time": "2021-12-29T22:02:33.293Z"
   },
   {
    "duration": 4,
    "start_time": "2021-12-29T22:03:47.386Z"
   },
   {
    "duration": 22,
    "start_time": "2021-12-29T22:03:51.104Z"
   },
   {
    "duration": 18,
    "start_time": "2021-12-29T22:06:19.553Z"
   },
   {
    "duration": 23,
    "start_time": "2021-12-29T22:06:23.743Z"
   },
   {
    "duration": 89,
    "start_time": "2021-12-29T22:07:22.228Z"
   },
   {
    "duration": -157,
    "start_time": "2021-12-29T22:10:44.084Z"
   },
   {
    "duration": -159,
    "start_time": "2021-12-29T22:10:44.088Z"
   },
   {
    "duration": -161,
    "start_time": "2021-12-29T22:10:44.092Z"
   },
   {
    "duration": 3,
    "start_time": "2021-12-29T22:10:47.703Z"
   },
   {
    "duration": 222,
    "start_time": "2021-12-29T22:10:47.713Z"
   },
   {
    "duration": 25,
    "start_time": "2021-12-29T22:10:47.938Z"
   },
   {
    "duration": 34,
    "start_time": "2021-12-29T22:10:47.967Z"
   },
   {
    "duration": 5,
    "start_time": "2021-12-29T22:10:48.005Z"
   },
   {
    "duration": 68,
    "start_time": "2021-12-29T22:10:48.013Z"
   },
   {
    "duration": 9,
    "start_time": "2021-12-29T22:10:48.084Z"
   },
   {
    "duration": 34,
    "start_time": "2021-12-29T22:10:48.095Z"
   },
   {
    "duration": 45,
    "start_time": "2021-12-29T22:10:48.132Z"
   },
   {
    "duration": 30,
    "start_time": "2021-12-29T22:10:48.180Z"
   },
   {
    "duration": 103,
    "start_time": "2021-12-29T22:10:48.213Z"
   },
   {
    "duration": 105,
    "start_time": "2021-12-29T22:10:48.319Z"
   },
   {
    "duration": 83,
    "start_time": "2021-12-29T22:10:48.427Z"
   },
   {
    "duration": 10,
    "start_time": "2021-12-29T22:10:48.512Z"
   },
   {
    "duration": 5,
    "start_time": "2021-12-29T22:10:48.525Z"
   },
   {
    "duration": 38,
    "start_time": "2021-12-29T22:10:48.533Z"
   },
   {
    "duration": 10,
    "start_time": "2021-12-29T22:10:48.574Z"
   },
   {
    "duration": 15,
    "start_time": "2021-12-29T22:10:48.587Z"
   },
   {
    "duration": 15,
    "start_time": "2021-12-29T22:10:48.604Z"
   },
   {
    "duration": 5,
    "start_time": "2021-12-29T22:10:48.659Z"
   },
   {
    "duration": 26,
    "start_time": "2021-12-29T22:10:48.666Z"
   },
   {
    "duration": 18,
    "start_time": "2021-12-29T22:10:48.695Z"
   },
   {
    "duration": 48,
    "start_time": "2021-12-29T22:10:48.715Z"
   },
   {
    "duration": 18,
    "start_time": "2021-12-29T22:10:48.767Z"
   },
   {
    "duration": 20,
    "start_time": "2021-12-29T22:10:48.787Z"
   },
   {
    "duration": 17,
    "start_time": "2021-12-29T22:10:48.809Z"
   },
   {
    "duration": 99,
    "start_time": "2021-12-29T22:10:48.860Z"
   },
   {
    "duration": 15,
    "start_time": "2021-12-29T22:10:48.961Z"
   },
   {
    "duration": 12,
    "start_time": "2021-12-29T22:10:48.978Z"
   },
   {
    "duration": 6,
    "start_time": "2021-12-29T22:10:48.992Z"
   },
   {
    "duration": 59,
    "start_time": "2021-12-29T22:10:49.000Z"
   },
   {
    "duration": 19,
    "start_time": "2021-12-29T22:10:49.062Z"
   },
   {
    "duration": 24,
    "start_time": "2021-12-29T22:10:49.084Z"
   },
   {
    "duration": 54,
    "start_time": "2021-12-29T22:10:49.110Z"
   },
   {
    "duration": 14,
    "start_time": "2021-12-29T22:10:49.168Z"
   },
   {
    "duration": 6,
    "start_time": "2021-12-29T22:10:49.184Z"
   },
   {
    "duration": 10,
    "start_time": "2021-12-29T22:10:49.192Z"
   },
   {
    "duration": 5,
    "start_time": "2021-12-29T22:10:49.204Z"
   },
   {
    "duration": 337,
    "start_time": "2021-12-29T22:12:45.229Z"
   },
   {
    "duration": 4,
    "start_time": "2021-12-29T22:12:53.294Z"
   },
   {
    "duration": 205,
    "start_time": "2021-12-29T22:12:53.304Z"
   },
   {
    "duration": 15,
    "start_time": "2021-12-29T22:12:53.512Z"
   },
   {
    "duration": 51,
    "start_time": "2021-12-29T22:12:53.530Z"
   },
   {
    "duration": 5,
    "start_time": "2021-12-29T22:12:53.584Z"
   },
   {
    "duration": 14,
    "start_time": "2021-12-29T22:12:53.592Z"
   },
   {
    "duration": 6,
    "start_time": "2021-12-29T22:12:53.608Z"
   },
   {
    "duration": 69,
    "start_time": "2021-12-29T22:12:53.616Z"
   },
   {
    "duration": 23,
    "start_time": "2021-12-29T22:12:53.689Z"
   },
   {
    "duration": 46,
    "start_time": "2021-12-29T22:12:53.714Z"
   },
   {
    "duration": 97,
    "start_time": "2021-12-29T22:12:53.763Z"
   },
   {
    "duration": 105,
    "start_time": "2021-12-29T22:12:53.863Z"
   },
   {
    "duration": 74,
    "start_time": "2021-12-29T22:12:53.970Z"
   },
   {
    "duration": 19,
    "start_time": "2021-12-29T22:12:54.046Z"
   },
   {
    "duration": 6,
    "start_time": "2021-12-29T22:12:54.067Z"
   },
   {
    "duration": 20,
    "start_time": "2021-12-29T22:12:54.075Z"
   },
   {
    "duration": 11,
    "start_time": "2021-12-29T22:12:54.097Z"
   },
   {
    "duration": 56,
    "start_time": "2021-12-29T22:12:54.110Z"
   },
   {
    "duration": 16,
    "start_time": "2021-12-29T22:12:54.168Z"
   },
   {
    "duration": 4,
    "start_time": "2021-12-29T22:12:54.186Z"
   },
   {
    "duration": 24,
    "start_time": "2021-12-29T22:12:54.192Z"
   },
   {
    "duration": 47,
    "start_time": "2021-12-29T22:12:54.218Z"
   },
   {
    "duration": 22,
    "start_time": "2021-12-29T22:12:54.268Z"
   },
   {
    "duration": 19,
    "start_time": "2021-12-29T22:12:54.296Z"
   },
   {
    "duration": 57,
    "start_time": "2021-12-29T22:12:54.319Z"
   },
   {
    "duration": 19,
    "start_time": "2021-12-29T22:12:54.379Z"
   },
   {
    "duration": 114,
    "start_time": "2021-12-29T22:12:54.401Z"
   },
   {
    "duration": 17,
    "start_time": "2021-12-29T22:12:54.518Z"
   },
   {
    "duration": 35,
    "start_time": "2021-12-29T22:12:54.537Z"
   },
   {
    "duration": 6,
    "start_time": "2021-12-29T22:12:54.574Z"
   },
   {
    "duration": 30,
    "start_time": "2021-12-29T22:12:54.582Z"
   },
   {
    "duration": 46,
    "start_time": "2021-12-29T22:12:54.614Z"
   },
   {
    "duration": 23,
    "start_time": "2021-12-29T22:12:54.662Z"
   },
   {
    "duration": 16,
    "start_time": "2021-12-29T22:12:54.687Z"
   },
   {
    "duration": 13,
    "start_time": "2021-12-29T22:12:54.705Z"
   },
   {
    "duration": 43,
    "start_time": "2021-12-29T22:12:54.721Z"
   },
   {
    "duration": 11,
    "start_time": "2021-12-29T22:12:54.767Z"
   },
   {
    "duration": 6,
    "start_time": "2021-12-29T22:12:54.780Z"
   },
   {
    "duration": 320,
    "start_time": "2021-12-29T22:13:57.052Z"
   },
   {
    "duration": 9,
    "start_time": "2021-12-29T22:14:13.018Z"
   },
   {
    "duration": 4,
    "start_time": "2021-12-29T22:14:16.134Z"
   },
   {
    "duration": 291,
    "start_time": "2021-12-29T22:14:16.141Z"
   },
   {
    "duration": 26,
    "start_time": "2021-12-29T22:14:16.436Z"
   },
   {
    "duration": 47,
    "start_time": "2021-12-29T22:14:16.466Z"
   },
   {
    "duration": 7,
    "start_time": "2021-12-29T22:14:16.516Z"
   },
   {
    "duration": 50,
    "start_time": "2021-12-29T22:14:16.526Z"
   },
   {
    "duration": 7,
    "start_time": "2021-12-29T22:14:16.581Z"
   },
   {
    "duration": 33,
    "start_time": "2021-12-29T22:14:16.592Z"
   },
   {
    "duration": 23,
    "start_time": "2021-12-29T22:14:16.660Z"
   },
   {
    "duration": 28,
    "start_time": "2021-12-29T22:14:16.685Z"
   },
   {
    "duration": 105,
    "start_time": "2021-12-29T22:14:16.716Z"
   },
   {
    "duration": 99,
    "start_time": "2021-12-29T22:14:16.823Z"
   },
   {
    "duration": 81,
    "start_time": "2021-12-29T22:14:16.925Z"
   },
   {
    "duration": 10,
    "start_time": "2021-12-29T22:14:17.008Z"
   },
   {
    "duration": 4,
    "start_time": "2021-12-29T22:14:17.020Z"
   },
   {
    "duration": 37,
    "start_time": "2021-12-29T22:14:17.026Z"
   },
   {
    "duration": 10,
    "start_time": "2021-12-29T22:14:17.065Z"
   },
   {
    "duration": 15,
    "start_time": "2021-12-29T22:14:17.078Z"
   },
   {
    "duration": 14,
    "start_time": "2021-12-29T22:14:17.097Z"
   },
   {
    "duration": 4,
    "start_time": "2021-12-29T22:14:17.114Z"
   },
   {
    "duration": 58,
    "start_time": "2021-12-29T22:14:17.121Z"
   },
   {
    "duration": 18,
    "start_time": "2021-12-29T22:14:17.181Z"
   },
   {
    "duration": 18,
    "start_time": "2021-12-29T22:14:17.201Z"
   },
   {
    "duration": 50,
    "start_time": "2021-12-29T22:14:17.221Z"
   },
   {
    "duration": 19,
    "start_time": "2021-12-29T22:14:17.274Z"
   },
   {
    "duration": 17,
    "start_time": "2021-12-29T22:14:17.295Z"
   },
   {
    "duration": 120,
    "start_time": "2021-12-29T22:14:17.314Z"
   },
   {
    "duration": 25,
    "start_time": "2021-12-29T22:14:17.436Z"
   },
   {
    "duration": 12,
    "start_time": "2021-12-29T22:14:17.464Z"
   },
   {
    "duration": 5,
    "start_time": "2021-12-29T22:14:17.479Z"
   },
   {
    "duration": 34,
    "start_time": "2021-12-29T22:14:17.487Z"
   },
   {
    "duration": 45,
    "start_time": "2021-12-29T22:14:17.523Z"
   },
   {
    "duration": 23,
    "start_time": "2021-12-29T22:14:17.570Z"
   },
   {
    "duration": 17,
    "start_time": "2021-12-29T22:14:17.596Z"
   },
   {
    "duration": 50,
    "start_time": "2021-12-29T22:14:17.616Z"
   },
   {
    "duration": 5,
    "start_time": "2021-12-29T22:14:17.669Z"
   },
   {
    "duration": 10,
    "start_time": "2021-12-29T22:14:17.676Z"
   },
   {
    "duration": 5,
    "start_time": "2021-12-29T22:14:17.688Z"
   },
   {
    "duration": 116,
    "start_time": "2021-12-29T22:15:09.719Z"
   },
   {
    "duration": 119,
    "start_time": "2021-12-29T22:17:11.572Z"
   },
   {
    "duration": 3,
    "start_time": "2021-12-29T22:20:13.678Z"
   },
   {
    "duration": 199,
    "start_time": "2021-12-29T22:20:13.687Z"
   },
   {
    "duration": 17,
    "start_time": "2021-12-29T22:20:13.888Z"
   },
   {
    "duration": 53,
    "start_time": "2021-12-29T22:20:13.908Z"
   },
   {
    "duration": 5,
    "start_time": "2021-12-29T22:20:13.964Z"
   },
   {
    "duration": 18,
    "start_time": "2021-12-29T22:20:13.971Z"
   },
   {
    "duration": 5,
    "start_time": "2021-12-29T22:20:13.991Z"
   },
   {
    "duration": 62,
    "start_time": "2021-12-29T22:20:13.998Z"
   },
   {
    "duration": 22,
    "start_time": "2021-12-29T22:20:14.064Z"
   },
   {
    "duration": 29,
    "start_time": "2021-12-29T22:20:14.089Z"
   },
   {
    "duration": 110,
    "start_time": "2021-12-29T22:20:14.120Z"
   },
   {
    "duration": 123,
    "start_time": "2021-12-29T22:20:14.232Z"
   },
   {
    "duration": 149,
    "start_time": "2021-12-29T22:20:14.358Z"
   },
   {
    "duration": 46,
    "start_time": "2021-12-29T22:20:14.516Z"
   },
   {
    "duration": 66,
    "start_time": "2021-12-29T22:20:14.572Z"
   },
   {
    "duration": 72,
    "start_time": "2021-12-29T22:20:14.641Z"
   },
   {
    "duration": 109,
    "start_time": "2021-12-29T22:20:14.716Z"
   },
   {
    "duration": 51,
    "start_time": "2021-12-29T22:20:14.828Z"
   },
   {
    "duration": 17,
    "start_time": "2021-12-29T22:20:14.882Z"
   },
   {
    "duration": 5,
    "start_time": "2021-12-29T22:20:14.902Z"
   },
   {
    "duration": 49,
    "start_time": "2021-12-29T22:20:14.910Z"
   },
   {
    "duration": 17,
    "start_time": "2021-12-29T22:20:14.962Z"
   },
   {
    "duration": 18,
    "start_time": "2021-12-29T22:20:14.982Z"
   },
   {
    "duration": 18,
    "start_time": "2021-12-29T22:20:15.005Z"
   },
   {
    "duration": 54,
    "start_time": "2021-12-29T22:20:15.026Z"
   },
   {
    "duration": 17,
    "start_time": "2021-12-29T22:20:15.082Z"
   },
   {
    "duration": 114,
    "start_time": "2021-12-29T22:20:15.102Z"
   },
   {
    "duration": 14,
    "start_time": "2021-12-29T22:20:15.218Z"
   },
   {
    "duration": 25,
    "start_time": "2021-12-29T22:20:15.234Z"
   },
   {
    "duration": 6,
    "start_time": "2021-12-29T22:20:15.261Z"
   },
   {
    "duration": 26,
    "start_time": "2021-12-29T22:20:15.269Z"
   },
   {
    "duration": 15,
    "start_time": "2021-12-29T22:20:15.298Z"
   },
   {
    "duration": 55,
    "start_time": "2021-12-29T22:20:15.315Z"
   },
   {
    "duration": 16,
    "start_time": "2021-12-29T22:20:15.372Z"
   },
   {
    "duration": 13,
    "start_time": "2021-12-29T22:20:15.390Z"
   },
   {
    "duration": 6,
    "start_time": "2021-12-29T22:20:15.405Z"
   },
   {
    "duration": 53,
    "start_time": "2021-12-29T22:20:15.413Z"
   },
   {
    "duration": 7,
    "start_time": "2021-12-29T22:20:15.468Z"
   },
   {
    "duration": 21,
    "start_time": "2021-12-29T22:34:19.795Z"
   },
   {
    "duration": 89,
    "start_time": "2021-12-29T22:34:26.944Z"
   },
   {
    "duration": -169,
    "start_time": "2021-12-29T22:35:21.264Z"
   },
   {
    "duration": -172,
    "start_time": "2021-12-29T22:35:21.269Z"
   },
   {
    "duration": -175,
    "start_time": "2021-12-29T22:35:21.274Z"
   },
   {
    "duration": -179,
    "start_time": "2021-12-29T22:35:21.280Z"
   },
   {
    "duration": -182,
    "start_time": "2021-12-29T22:35:21.285Z"
   },
   {
    "duration": -190,
    "start_time": "2021-12-29T22:35:21.295Z"
   },
   {
    "duration": -193,
    "start_time": "2021-12-29T22:35:21.300Z"
   },
   {
    "duration": -198,
    "start_time": "2021-12-29T22:35:21.307Z"
   },
   {
    "duration": -201,
    "start_time": "2021-12-29T22:35:21.312Z"
   },
   {
    "duration": -206,
    "start_time": "2021-12-29T22:35:21.318Z"
   },
   {
    "duration": -209,
    "start_time": "2021-12-29T22:35:21.324Z"
   },
   {
    "duration": -212,
    "start_time": "2021-12-29T22:35:21.328Z"
   },
   {
    "duration": -221,
    "start_time": "2021-12-29T22:35:21.339Z"
   },
   {
    "duration": -239,
    "start_time": "2021-12-29T22:35:21.359Z"
   },
   {
    "duration": -250,
    "start_time": "2021-12-29T22:35:21.372Z"
   },
   {
    "duration": -260,
    "start_time": "2021-12-29T22:35:21.384Z"
   },
   {
    "duration": -270,
    "start_time": "2021-12-29T22:35:21.396Z"
   },
   {
    "duration": -281,
    "start_time": "2021-12-29T22:35:21.409Z"
   },
   {
    "duration": -258,
    "start_time": "2021-12-29T22:35:21.416Z"
   },
   {
    "duration": -264,
    "start_time": "2021-12-29T22:35:21.424Z"
   },
   {
    "duration": -270,
    "start_time": "2021-12-29T22:35:21.431Z"
   },
   {
    "duration": -276,
    "start_time": "2021-12-29T22:35:21.439Z"
   },
   {
    "duration": -288,
    "start_time": "2021-12-29T22:35:21.452Z"
   },
   {
    "duration": -294,
    "start_time": "2021-12-29T22:35:21.459Z"
   },
   {
    "duration": -309,
    "start_time": "2021-12-29T22:35:21.476Z"
   },
   {
    "duration": -315,
    "start_time": "2021-12-29T22:35:21.483Z"
   },
   {
    "duration": -319,
    "start_time": "2021-12-29T22:35:21.488Z"
   },
   {
    "duration": -322,
    "start_time": "2021-12-29T22:35:21.493Z"
   },
   {
    "duration": -325,
    "start_time": "2021-12-29T22:35:21.497Z"
   },
   {
    "duration": -329,
    "start_time": "2021-12-29T22:35:21.502Z"
   },
   {
    "duration": -347,
    "start_time": "2021-12-29T22:35:21.523Z"
   },
   {
    "duration": -368,
    "start_time": "2021-12-29T22:35:21.545Z"
   },
   {
    "duration": -394,
    "start_time": "2021-12-29T22:35:21.573Z"
   },
   {
    "duration": -399,
    "start_time": "2021-12-29T22:35:21.579Z"
   },
   {
    "duration": -402,
    "start_time": "2021-12-29T22:35:21.583Z"
   },
   {
    "duration": -404,
    "start_time": "2021-12-29T22:35:21.587Z"
   },
   {
    "duration": -407,
    "start_time": "2021-12-29T22:35:21.591Z"
   },
   {
    "duration": -410,
    "start_time": "2021-12-29T22:35:21.595Z"
   },
   {
    "duration": 6,
    "start_time": "2021-12-29T22:35:23.225Z"
   },
   {
    "duration": 12206,
    "start_time": "2021-12-29T22:35:26.242Z"
   },
   {
    "duration": 7,
    "start_time": "2021-12-29T22:35:39.962Z"
   },
   {
    "duration": -171,
    "start_time": "2021-12-29T22:35:55.453Z"
   },
   {
    "duration": -173,
    "start_time": "2021-12-29T22:35:55.457Z"
   },
   {
    "duration": -182,
    "start_time": "2021-12-29T22:35:55.467Z"
   },
   {
    "duration": -184,
    "start_time": "2021-12-29T22:35:55.471Z"
   },
   {
    "duration": -186,
    "start_time": "2021-12-29T22:35:55.475Z"
   },
   {
    "duration": -189,
    "start_time": "2021-12-29T22:35:55.480Z"
   },
   {
    "duration": -192,
    "start_time": "2021-12-29T22:35:55.485Z"
   },
   {
    "duration": -193,
    "start_time": "2021-12-29T22:35:55.488Z"
   },
   {
    "duration": -197,
    "start_time": "2021-12-29T22:35:55.493Z"
   },
   {
    "duration": -199,
    "start_time": "2021-12-29T22:35:55.497Z"
   },
   {
    "duration": -203,
    "start_time": "2021-12-29T22:35:55.502Z"
   },
   {
    "duration": -209,
    "start_time": "2021-12-29T22:35:55.512Z"
   },
   {
    "duration": -213,
    "start_time": "2021-12-29T22:35:55.517Z"
   },
   {
    "duration": -216,
    "start_time": "2021-12-29T22:35:55.521Z"
   },
   {
    "duration": -220,
    "start_time": "2021-12-29T22:35:55.527Z"
   },
   {
    "duration": -229,
    "start_time": "2021-12-29T22:35:55.537Z"
   },
   {
    "duration": -232,
    "start_time": "2021-12-29T22:35:55.542Z"
   },
   {
    "duration": -235,
    "start_time": "2021-12-29T22:35:55.546Z"
   },
   {
    "duration": -238,
    "start_time": "2021-12-29T22:35:55.551Z"
   },
   {
    "duration": -240,
    "start_time": "2021-12-29T22:35:55.555Z"
   },
   {
    "duration": -244,
    "start_time": "2021-12-29T22:35:55.560Z"
   },
   {
    "duration": -204,
    "start_time": "2021-12-29T22:35:55.564Z"
   },
   {
    "duration": -206,
    "start_time": "2021-12-29T22:35:55.568Z"
   },
   {
    "duration": -208,
    "start_time": "2021-12-29T22:35:55.572Z"
   },
   {
    "duration": -209,
    "start_time": "2021-12-29T22:35:55.576Z"
   },
   {
    "duration": -210,
    "start_time": "2021-12-29T22:35:55.579Z"
   },
   {
    "duration": -213,
    "start_time": "2021-12-29T22:35:55.584Z"
   },
   {
    "duration": -215,
    "start_time": "2021-12-29T22:35:55.588Z"
   },
   {
    "duration": -217,
    "start_time": "2021-12-29T22:35:55.592Z"
   },
   {
    "duration": -226,
    "start_time": "2021-12-29T22:35:55.603Z"
   },
   {
    "duration": -228,
    "start_time": "2021-12-29T22:35:55.607Z"
   },
   {
    "duration": -230,
    "start_time": "2021-12-29T22:35:55.611Z"
   },
   {
    "duration": -242,
    "start_time": "2021-12-29T22:35:55.625Z"
   },
   {
    "duration": -289,
    "start_time": "2021-12-29T22:35:55.673Z"
   },
   {
    "duration": -292,
    "start_time": "2021-12-29T22:35:55.678Z"
   },
   {
    "duration": -295,
    "start_time": "2021-12-29T22:35:55.682Z"
   },
   {
    "duration": -298,
    "start_time": "2021-12-29T22:35:55.686Z"
   },
   {
    "duration": -300,
    "start_time": "2021-12-29T22:35:55.690Z"
   },
   {
    "duration": 737,
    "start_time": "2021-12-29T22:37:12.909Z"
   },
   {
    "duration": 192,
    "start_time": "2021-12-29T22:37:13.648Z"
   },
   {
    "duration": 31,
    "start_time": "2021-12-29T22:37:13.843Z"
   },
   {
    "duration": 31,
    "start_time": "2021-12-29T22:37:13.877Z"
   },
   {
    "duration": 6,
    "start_time": "2021-12-29T22:37:13.910Z"
   },
   {
    "duration": 64,
    "start_time": "2021-12-29T22:37:13.918Z"
   },
   {
    "duration": 5,
    "start_time": "2021-12-29T22:37:13.984Z"
   },
   {
    "duration": 29,
    "start_time": "2021-12-29T22:37:13.993Z"
   },
   {
    "duration": 47,
    "start_time": "2021-12-29T22:37:14.025Z"
   },
   {
    "duration": 29,
    "start_time": "2021-12-29T22:37:14.074Z"
   },
   {
    "duration": 109,
    "start_time": "2021-12-29T22:37:14.105Z"
   },
   {
    "duration": 101,
    "start_time": "2021-12-29T22:37:14.217Z"
   },
   {
    "duration": 81,
    "start_time": "2021-12-29T22:37:14.320Z"
   },
   {
    "duration": 10,
    "start_time": "2021-12-29T22:37:14.403Z"
   },
   {
    "duration": 3,
    "start_time": "2021-12-29T22:37:14.416Z"
   },
   {
    "duration": 40,
    "start_time": "2021-12-29T22:37:14.421Z"
   },
   {
    "duration": 11,
    "start_time": "2021-12-29T22:37:14.463Z"
   },
   {
    "duration": 14,
    "start_time": "2021-12-29T22:37:14.477Z"
   },
   {
    "duration": 14,
    "start_time": "2021-12-29T22:37:14.493Z"
   },
   {
    "duration": 4,
    "start_time": "2021-12-29T22:37:14.509Z"
   },
   {
    "duration": 61,
    "start_time": "2021-12-29T22:37:14.516Z"
   },
   {
    "duration": 17,
    "start_time": "2021-12-29T22:37:14.579Z"
   },
   {
    "duration": 18,
    "start_time": "2021-12-29T22:37:14.601Z"
   },
   {
    "duration": 44,
    "start_time": "2021-12-29T22:37:14.622Z"
   },
   {
    "duration": 20,
    "start_time": "2021-12-29T22:37:14.668Z"
   },
   {
    "duration": 17,
    "start_time": "2021-12-29T22:37:14.690Z"
   },
   {
    "duration": 118,
    "start_time": "2021-12-29T22:37:14.709Z"
   },
   {
    "duration": 14,
    "start_time": "2021-12-29T22:37:14.829Z"
   },
   {
    "duration": 24,
    "start_time": "2021-12-29T22:37:14.845Z"
   },
   {
    "duration": 6,
    "start_time": "2021-12-29T22:37:14.871Z"
   },
   {
    "duration": 31,
    "start_time": "2021-12-29T22:37:14.879Z"
   },
   {
    "duration": 16,
    "start_time": "2021-12-29T22:37:14.912Z"
   },
   {
    "duration": 50,
    "start_time": "2021-12-29T22:37:14.930Z"
   },
   {
    "duration": 16,
    "start_time": "2021-12-29T22:37:14.982Z"
   },
   {
    "duration": 13,
    "start_time": "2021-12-29T22:37:15.000Z"
   },
   {
    "duration": 44,
    "start_time": "2021-12-29T22:37:15.016Z"
   },
   {
    "duration": 11,
    "start_time": "2021-12-29T22:37:15.062Z"
   },
   {
    "duration": 6,
    "start_time": "2021-12-29T22:37:15.075Z"
   },
   {
    "duration": 6,
    "start_time": "2021-12-29T22:48:54.923Z"
   }
  ],
  "colab": {
   "collapsed_sections": [
    "E0vqbgi9ay0H",
    "VUC88oWjTJw2"
   ],
   "name": "yandex_music_project_2021.2.ipynb",
   "provenance": []
  },
  "kernelspec": {
   "display_name": "Python 3",
   "language": "python",
   "name": "python3"
  },
  "language_info": {
   "codemirror_mode": {
    "name": "ipython",
    "version": 3
   },
   "file_extension": ".py",
   "mimetype": "text/x-python",
   "name": "python",
   "nbconvert_exporter": "python",
   "pygments_lexer": "ipython3",
   "version": "3.8.8"
  },
  "toc": {
   "base_numbering": 1,
   "nav_menu": {},
   "number_sections": true,
   "sideBar": true,
   "skip_h1_title": true,
   "title_cell": "Table of Contents",
   "title_sidebar": "Contents",
   "toc_cell": false,
   "toc_position": {},
   "toc_section_display": true,
   "toc_window_display": false
  }
 },
 "nbformat": 4,
 "nbformat_minor": 1
}
