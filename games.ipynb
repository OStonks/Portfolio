{
 "cells": [
  {
   "cell_type": "markdown",
   "metadata": {},
   "source": [
    "<div style=\"border:solid lightblue 3px; padding: 20px\">\n",
    "\n",
    "**Привет!**\n",
    "\n",
    "Меня зовут Алексей Манелюк, я буду проверять твой проект. Предлагаю общаться на \"ты\" 😉, но если неудобно - скажи и будем на \"вы\".\n",
    "\n",
    "Моя основная цель - не указать на совершенные тобой ошибки, а поделиться своим опытом и помочь тебе стать крутым аналитиком данных. Тобой проделана большая работа над проектом, \n",
    "но давай сделаем его еще лучше. В тексте проекта ты увидишь мои комментарии, пожалуйста не удаляй и не изменяй их. У комментариев могут быть приписки **V2**, **V3** и т.д., которые соответствуют версии проверки. Я буду использовать цветовую разметку:\n",
    "<p>\n",
    "<div class=\"alert-danger\">\n",
    "<b>Комментарий ревьюера ❌</b>\n",
    "\n",
    "Так выделены самые важные замечания. Без их отработки я не смогу принять проект. </div>\n",
    "\n",
    "<div class=\"alert-warning\">\n",
    "<b>Комментарий ревьюера ⚠️</b>\n",
    "\n",
    "Так выделены небольшие замечания. Не более трёх таких замечаний допустимы. Если их много - постарайся исправить их.</div>\n",
    "<p>\n",
    "<div class=\"alert-success\">\n",
    "<b>Комментарий ревьюера ✔️</b>\n",
    "\n",
    "Так выделены все остальные комментарии.</div>\n",
    "\n",
    "Предлагаю работать в диалоге: если что-то дорабатываешь или отвечаешь на мой комментарий - пиши об этом и мне будет удобней, если ты выделишь свои комментарии:\n",
    "<p>\n",
    "<div class=\"alert-info\">\n",
    "<b>Комментарий студента</b>\n",
    "\n",
    "Например, так.</div>\n",
    "\n",
    "Все это поможет мне быстрее принять твой проект.</div>"
   ]
  },
  {
   "cell_type": "markdown",
   "metadata": {},
   "source": [
    "# Сборный проект"
   ]
  },
  {
   "cell_type": "markdown",
   "metadata": {},
   "source": [
    "Мы работаете в интернет-магазине «Стримчик», который продаёт по всему миру компьютерные игры. Из открытых источников доступны исторические данные о продажах игр, оценки пользователей и экспертов, жанры и платформы (например, Xbox или PlayStation). Нам нужно выявить определяющие успешность игры закономерности. Это позволит сделать ставку на потенциально популярный продукт и спланировать рекламные кампании.\n",
    "\n",
    "Перед Нами данные до 2016 года. Представим, что сейчас декабрь 2016 г., и мы планируете кампанию на 2017-й. Нужно отработать принцип работы с данными. \n",
    "\n",
    "При этом нам предстоит выполнить следующие шаги:\n",
    "\n",
    "**1)** Открыть файл с данными и изучить общую информацию\n",
    "\n",
    "**2)** Подготовить данные (заменить названия, избавиться от пропусков, привести к нужному типу данных, посчитать суммарные продажи во всех регионах и записать их в отдельный столбец)\n",
    "\n",
    "**3)** Провести исследовательский анализ данных:\n",
    "\n",
    "•\tПосмотрите, `сколько игр выпускалось в разные годы`. Важны ли данные за все периоды?\n",
    "\n",
    "•\tПосмотрите, `как менялись продажи по платформам`. Выберите платформы с `наибольшими суммарными продажами и постройте распределение по годам`. За какой характерный срок появляются новые и исчезают старые платформы?\n",
    "\n",
    "•\tВозьмите `данные за соответствующий актуальный период`. Актуальный период определите самостоятельно в результате исследования предыдущих вопросов. Основной фактор — эти данные помогут построить прогноз на 2017 год. Не учитывайте в работе данные за предыдущие годы.\n",
    "\n",
    "•\tКакие `платформы лидируют по продажам, растут или падают`? Выберите несколько потенциально прибыльных платформ.\n",
    "\n",
    "•\tПостройте `график «ящик с усами» по глобальным продажам игр в разбивке по платформам`. Опишите результат.\n",
    "\n",
    "•\tПосмотрите, `как влияют на продажи внутри одной популярной платформы отзывы пользователей и критиков`. Постройте `диаграмму рассеяния и посчитайте корреляцию между отзывами и продажами`. Сформулируйте выводы.\n",
    "\n",
    "•\tСоотнесите `выводы с продажами игр на других платформах`.\n",
    "\n",
    "•\tПосмотрите на `общее распределение игр по жанрам`. Что можно сказать о самых прибыльных жанрах? Выделяются ли жанры с высокими и низкими продажами?\n",
    "\n",
    "**4)** Составим портрет пользователя\n",
    "Определим для пользователя каждого региона (NA, EU, JP):\n",
    "\n",
    "•\tСамые популярные платформы (топ-5). Опишите различия в долях продаж.\n",
    "\n",
    "•\tСамые популярные жанры (топ-5). Поясните разницу.\n",
    "\n",
    "•\tВлияет ли рейтинг ESRB на продажи в отдельном регионе?\n",
    "\n",
    "\n",
    "**5)** Проверим гипотезы:\n",
    "\n",
    "•\tСредние пользовательские рейтинги платформ Xbox One и PC одинаковые;\n",
    "\n",
    "•\tСредние пользовательские рейтинги жанров Action (англ. «действие», экшен-игры) и Sports (англ. «спортивные соревнования») разные.\n",
    "\n",
    "\n",
    "\n",
    "\n",
    "**Примечание:**\n",
    "\n",
    "В наборе данных попадается аббревиатура ESRB (Entertainment Software Rating Board) — это ассоциация, определяющая возрастной рейтинг компьютерных игр. ESRB оценивает игровой контент и присваивает ему подходящую возрастную категорию, например, «Для взрослых», «Для детей младшего возраста» или «Для подростков».\n"
   ]
  },
  {
   "cell_type": "markdown",
   "metadata": {},
   "source": [
    "<div class=\"alert-success\">\n",
    "<b>Комментарий ревьюера ✔️</b>\n",
    "\n",
    "Отлично что во вступлении пишешь бриф, цели исследования и план работы. 👍</div>"
   ]
  },
  {
   "cell_type": "markdown",
   "metadata": {},
   "source": [
    "<p>\n",
    "<div class=\"alert-info\">\n",
    "<b>Спасибо!</b>\n"
   ]
  },
  {
   "cell_type": "markdown",
   "metadata": {},
   "source": [
    "# Шаг 1. Открываем файл с данными и изучаем общую информацию"
   ]
  },
  {
   "cell_type": "markdown",
   "metadata": {},
   "source": [
    "Для работы с данными нам нужно импортировать библиотеки, которые понадобятся нам для дальнейшей работы."
   ]
  },
  {
   "cell_type": "code",
   "execution_count": 33,
   "metadata": {},
   "outputs": [],
   "source": [
    "# импорт библиотеки pandas\n",
    "import pandas as pd\n",
    "# импорт библиотеки matplotlib\n",
    "import matplotlib.pyplot as plt \n",
    "# импорт библиотеки seaborn\n",
    "import seaborn as sns\n",
    "# импорт библиотеки numpy\n",
    "import numpy as np\n",
    "# импорт библиотеки scipy\n",
    "from scipy import stats as st"
   ]
  },
  {
   "cell_type": "code",
   "execution_count": 34,
   "metadata": {},
   "outputs": [],
   "source": [
    "# чтение файла с данными и сохранение его в переменной\n",
    "games =pd.read_csv('/datasets/games.csv')"
   ]
  },
  {
   "cell_type": "code",
   "execution_count": 35,
   "metadata": {},
   "outputs": [
    {
     "data": {
      "text/html": [
       "<div>\n",
       "<style scoped>\n",
       "    .dataframe tbody tr th:only-of-type {\n",
       "        vertical-align: middle;\n",
       "    }\n",
       "\n",
       "    .dataframe tbody tr th {\n",
       "        vertical-align: top;\n",
       "    }\n",
       "\n",
       "    .dataframe thead th {\n",
       "        text-align: right;\n",
       "    }\n",
       "</style>\n",
       "<table border=\"1\" class=\"dataframe\">\n",
       "  <thead>\n",
       "    <tr style=\"text-align: right;\">\n",
       "      <th></th>\n",
       "      <th>Name</th>\n",
       "      <th>Platform</th>\n",
       "      <th>Year_of_Release</th>\n",
       "      <th>Genre</th>\n",
       "      <th>NA_sales</th>\n",
       "      <th>EU_sales</th>\n",
       "      <th>JP_sales</th>\n",
       "      <th>Other_sales</th>\n",
       "      <th>Critic_Score</th>\n",
       "      <th>User_Score</th>\n",
       "      <th>Rating</th>\n",
       "    </tr>\n",
       "  </thead>\n",
       "  <tbody>\n",
       "    <tr>\n",
       "      <td>0</td>\n",
       "      <td>Wii Sports</td>\n",
       "      <td>Wii</td>\n",
       "      <td>2006.0</td>\n",
       "      <td>Sports</td>\n",
       "      <td>41.36</td>\n",
       "      <td>28.96</td>\n",
       "      <td>3.77</td>\n",
       "      <td>8.45</td>\n",
       "      <td>76.0</td>\n",
       "      <td>8</td>\n",
       "      <td>E</td>\n",
       "    </tr>\n",
       "    <tr>\n",
       "      <td>1</td>\n",
       "      <td>Super Mario Bros.</td>\n",
       "      <td>NES</td>\n",
       "      <td>1985.0</td>\n",
       "      <td>Platform</td>\n",
       "      <td>29.08</td>\n",
       "      <td>3.58</td>\n",
       "      <td>6.81</td>\n",
       "      <td>0.77</td>\n",
       "      <td>NaN</td>\n",
       "      <td>NaN</td>\n",
       "      <td>NaN</td>\n",
       "    </tr>\n",
       "    <tr>\n",
       "      <td>2</td>\n",
       "      <td>Mario Kart Wii</td>\n",
       "      <td>Wii</td>\n",
       "      <td>2008.0</td>\n",
       "      <td>Racing</td>\n",
       "      <td>15.68</td>\n",
       "      <td>12.76</td>\n",
       "      <td>3.79</td>\n",
       "      <td>3.29</td>\n",
       "      <td>82.0</td>\n",
       "      <td>8.3</td>\n",
       "      <td>E</td>\n",
       "    </tr>\n",
       "    <tr>\n",
       "      <td>3</td>\n",
       "      <td>Wii Sports Resort</td>\n",
       "      <td>Wii</td>\n",
       "      <td>2009.0</td>\n",
       "      <td>Sports</td>\n",
       "      <td>15.61</td>\n",
       "      <td>10.93</td>\n",
       "      <td>3.28</td>\n",
       "      <td>2.95</td>\n",
       "      <td>80.0</td>\n",
       "      <td>8</td>\n",
       "      <td>E</td>\n",
       "    </tr>\n",
       "    <tr>\n",
       "      <td>4</td>\n",
       "      <td>Pokemon Red/Pokemon Blue</td>\n",
       "      <td>GB</td>\n",
       "      <td>1996.0</td>\n",
       "      <td>Role-Playing</td>\n",
       "      <td>11.27</td>\n",
       "      <td>8.89</td>\n",
       "      <td>10.22</td>\n",
       "      <td>1.00</td>\n",
       "      <td>NaN</td>\n",
       "      <td>NaN</td>\n",
       "      <td>NaN</td>\n",
       "    </tr>\n",
       "    <tr>\n",
       "      <td>5</td>\n",
       "      <td>Tetris</td>\n",
       "      <td>GB</td>\n",
       "      <td>1989.0</td>\n",
       "      <td>Puzzle</td>\n",
       "      <td>23.20</td>\n",
       "      <td>2.26</td>\n",
       "      <td>4.22</td>\n",
       "      <td>0.58</td>\n",
       "      <td>NaN</td>\n",
       "      <td>NaN</td>\n",
       "      <td>NaN</td>\n",
       "    </tr>\n",
       "    <tr>\n",
       "      <td>6</td>\n",
       "      <td>New Super Mario Bros.</td>\n",
       "      <td>DS</td>\n",
       "      <td>2006.0</td>\n",
       "      <td>Platform</td>\n",
       "      <td>11.28</td>\n",
       "      <td>9.14</td>\n",
       "      <td>6.50</td>\n",
       "      <td>2.88</td>\n",
       "      <td>89.0</td>\n",
       "      <td>8.5</td>\n",
       "      <td>E</td>\n",
       "    </tr>\n",
       "    <tr>\n",
       "      <td>7</td>\n",
       "      <td>Wii Play</td>\n",
       "      <td>Wii</td>\n",
       "      <td>2006.0</td>\n",
       "      <td>Misc</td>\n",
       "      <td>13.96</td>\n",
       "      <td>9.18</td>\n",
       "      <td>2.93</td>\n",
       "      <td>2.84</td>\n",
       "      <td>58.0</td>\n",
       "      <td>6.6</td>\n",
       "      <td>E</td>\n",
       "    </tr>\n",
       "    <tr>\n",
       "      <td>8</td>\n",
       "      <td>New Super Mario Bros. Wii</td>\n",
       "      <td>Wii</td>\n",
       "      <td>2009.0</td>\n",
       "      <td>Platform</td>\n",
       "      <td>14.44</td>\n",
       "      <td>6.94</td>\n",
       "      <td>4.70</td>\n",
       "      <td>2.24</td>\n",
       "      <td>87.0</td>\n",
       "      <td>8.4</td>\n",
       "      <td>E</td>\n",
       "    </tr>\n",
       "    <tr>\n",
       "      <td>9</td>\n",
       "      <td>Duck Hunt</td>\n",
       "      <td>NES</td>\n",
       "      <td>1984.0</td>\n",
       "      <td>Shooter</td>\n",
       "      <td>26.93</td>\n",
       "      <td>0.63</td>\n",
       "      <td>0.28</td>\n",
       "      <td>0.47</td>\n",
       "      <td>NaN</td>\n",
       "      <td>NaN</td>\n",
       "      <td>NaN</td>\n",
       "    </tr>\n",
       "  </tbody>\n",
       "</table>\n",
       "</div>"
      ],
      "text/plain": [
       "                        Name Platform  Year_of_Release         Genre  \\\n",
       "0                 Wii Sports      Wii           2006.0        Sports   \n",
       "1          Super Mario Bros.      NES           1985.0      Platform   \n",
       "2             Mario Kart Wii      Wii           2008.0        Racing   \n",
       "3          Wii Sports Resort      Wii           2009.0        Sports   \n",
       "4   Pokemon Red/Pokemon Blue       GB           1996.0  Role-Playing   \n",
       "5                     Tetris       GB           1989.0        Puzzle   \n",
       "6      New Super Mario Bros.       DS           2006.0      Platform   \n",
       "7                   Wii Play      Wii           2006.0          Misc   \n",
       "8  New Super Mario Bros. Wii      Wii           2009.0      Platform   \n",
       "9                  Duck Hunt      NES           1984.0       Shooter   \n",
       "\n",
       "   NA_sales  EU_sales  JP_sales  Other_sales  Critic_Score User_Score Rating  \n",
       "0     41.36     28.96      3.77         8.45          76.0          8      E  \n",
       "1     29.08      3.58      6.81         0.77           NaN        NaN    NaN  \n",
       "2     15.68     12.76      3.79         3.29          82.0        8.3      E  \n",
       "3     15.61     10.93      3.28         2.95          80.0          8      E  \n",
       "4     11.27      8.89     10.22         1.00           NaN        NaN    NaN  \n",
       "5     23.20      2.26      4.22         0.58           NaN        NaN    NaN  \n",
       "6     11.28      9.14      6.50         2.88          89.0        8.5      E  \n",
       "7     13.96      9.18      2.93         2.84          58.0        6.6      E  \n",
       "8     14.44      6.94      4.70         2.24          87.0        8.4      E  \n",
       "9     26.93      0.63      0.28         0.47           NaN        NaN    NaN  "
      ]
     },
     "execution_count": 35,
     "metadata": {},
     "output_type": "execute_result"
    }
   ],
   "source": [
    "# получение первых 10 строк таблицы \n",
    "games.head(10)"
   ]
  },
  {
   "cell_type": "code",
   "execution_count": 36,
   "metadata": {},
   "outputs": [
    {
     "name": "stdout",
     "output_type": "stream",
     "text": [
      "<class 'pandas.core.frame.DataFrame'>\n",
      "RangeIndex: 16715 entries, 0 to 16714\n",
      "Data columns (total 11 columns):\n",
      "Name               16713 non-null object\n",
      "Platform           16715 non-null object\n",
      "Year_of_Release    16446 non-null float64\n",
      "Genre              16713 non-null object\n",
      "NA_sales           16715 non-null float64\n",
      "EU_sales           16715 non-null float64\n",
      "JP_sales           16715 non-null float64\n",
      "Other_sales        16715 non-null float64\n",
      "Critic_Score       8137 non-null float64\n",
      "User_Score         10014 non-null object\n",
      "Rating             9949 non-null object\n",
      "dtypes: float64(6), object(5)\n",
      "memory usage: 1.4+ MB\n"
     ]
    }
   ],
   "source": [
    "# получение общей информации о данных в таблице \n",
    "games.info()"
   ]
  },
  {
   "cell_type": "code",
   "execution_count": 37,
   "metadata": {},
   "outputs": [
    {
     "data": {
      "text/html": [
       "<div>\n",
       "<style scoped>\n",
       "    .dataframe tbody tr th:only-of-type {\n",
       "        vertical-align: middle;\n",
       "    }\n",
       "\n",
       "    .dataframe tbody tr th {\n",
       "        vertical-align: top;\n",
       "    }\n",
       "\n",
       "    .dataframe thead th {\n",
       "        text-align: right;\n",
       "    }\n",
       "</style>\n",
       "<table border=\"1\" class=\"dataframe\">\n",
       "  <thead>\n",
       "    <tr style=\"text-align: right;\">\n",
       "      <th></th>\n",
       "      <th>Year_of_Release</th>\n",
       "      <th>NA_sales</th>\n",
       "      <th>EU_sales</th>\n",
       "      <th>JP_sales</th>\n",
       "      <th>Other_sales</th>\n",
       "      <th>Critic_Score</th>\n",
       "    </tr>\n",
       "  </thead>\n",
       "  <tbody>\n",
       "    <tr>\n",
       "      <td>count</td>\n",
       "      <td>16446.000000</td>\n",
       "      <td>16715.000000</td>\n",
       "      <td>16715.000000</td>\n",
       "      <td>16715.000000</td>\n",
       "      <td>16715.000000</td>\n",
       "      <td>8137.000000</td>\n",
       "    </tr>\n",
       "    <tr>\n",
       "      <td>mean</td>\n",
       "      <td>2006.484616</td>\n",
       "      <td>0.263377</td>\n",
       "      <td>0.145060</td>\n",
       "      <td>0.077617</td>\n",
       "      <td>0.047342</td>\n",
       "      <td>68.967679</td>\n",
       "    </tr>\n",
       "    <tr>\n",
       "      <td>std</td>\n",
       "      <td>5.877050</td>\n",
       "      <td>0.813604</td>\n",
       "      <td>0.503339</td>\n",
       "      <td>0.308853</td>\n",
       "      <td>0.186731</td>\n",
       "      <td>13.938165</td>\n",
       "    </tr>\n",
       "    <tr>\n",
       "      <td>min</td>\n",
       "      <td>1980.000000</td>\n",
       "      <td>0.000000</td>\n",
       "      <td>0.000000</td>\n",
       "      <td>0.000000</td>\n",
       "      <td>0.000000</td>\n",
       "      <td>13.000000</td>\n",
       "    </tr>\n",
       "    <tr>\n",
       "      <td>25%</td>\n",
       "      <td>2003.000000</td>\n",
       "      <td>0.000000</td>\n",
       "      <td>0.000000</td>\n",
       "      <td>0.000000</td>\n",
       "      <td>0.000000</td>\n",
       "      <td>60.000000</td>\n",
       "    </tr>\n",
       "    <tr>\n",
       "      <td>50%</td>\n",
       "      <td>2007.000000</td>\n",
       "      <td>0.080000</td>\n",
       "      <td>0.020000</td>\n",
       "      <td>0.000000</td>\n",
       "      <td>0.010000</td>\n",
       "      <td>71.000000</td>\n",
       "    </tr>\n",
       "    <tr>\n",
       "      <td>75%</td>\n",
       "      <td>2010.000000</td>\n",
       "      <td>0.240000</td>\n",
       "      <td>0.110000</td>\n",
       "      <td>0.040000</td>\n",
       "      <td>0.030000</td>\n",
       "      <td>79.000000</td>\n",
       "    </tr>\n",
       "    <tr>\n",
       "      <td>max</td>\n",
       "      <td>2016.000000</td>\n",
       "      <td>41.360000</td>\n",
       "      <td>28.960000</td>\n",
       "      <td>10.220000</td>\n",
       "      <td>10.570000</td>\n",
       "      <td>98.000000</td>\n",
       "    </tr>\n",
       "  </tbody>\n",
       "</table>\n",
       "</div>"
      ],
      "text/plain": [
       "       Year_of_Release      NA_sales      EU_sales      JP_sales  \\\n",
       "count     16446.000000  16715.000000  16715.000000  16715.000000   \n",
       "mean       2006.484616      0.263377      0.145060      0.077617   \n",
       "std           5.877050      0.813604      0.503339      0.308853   \n",
       "min        1980.000000      0.000000      0.000000      0.000000   \n",
       "25%        2003.000000      0.000000      0.000000      0.000000   \n",
       "50%        2007.000000      0.080000      0.020000      0.000000   \n",
       "75%        2010.000000      0.240000      0.110000      0.040000   \n",
       "max        2016.000000     41.360000     28.960000     10.220000   \n",
       "\n",
       "        Other_sales  Critic_Score  \n",
       "count  16715.000000   8137.000000  \n",
       "mean       0.047342     68.967679  \n",
       "std        0.186731     13.938165  \n",
       "min        0.000000     13.000000  \n",
       "25%        0.000000     60.000000  \n",
       "50%        0.010000     71.000000  \n",
       "75%        0.030000     79.000000  \n",
       "max       10.570000     98.000000  "
      ]
     },
     "execution_count": 37,
     "metadata": {},
     "output_type": "execute_result"
    }
   ],
   "source": [
    "# получение дполнительной информации о данных в таблице \n",
    "games.describe()"
   ]
  },
  {
   "cell_type": "markdown",
   "metadata": {},
   "source": [
    "<div class=\"alert-success\">\n",
    "<b>Комментарий ревьюера ✔️</b>\n",
    "\n",
    "Данные загружены верно, получена первая общая информация о датасете. \n",
    "    \n",
    "Правильно, что загружаешь библиотеки и данные отдельными блоками. \n",
    "\n",
    "Отлично назвал датафрейм.</div>"
   ]
  },
  {
   "cell_type": "markdown",
   "metadata": {},
   "source": [
    "<p>\n",
    "<div class=\"alert-info\">\n",
    "<b>Спасибо!</b>\n"
   ]
  },
  {
   "cell_type": "markdown",
   "metadata": {},
   "source": [
    "**Вывод:**"
   ]
  },
  {
   "cell_type": "markdown",
   "metadata": {},
   "source": [
    "Итак, в таблице одиннадцать столбцов. Тип данных в столбцах различается.\n",
    "\n",
    "Согласно документации к данным:\n",
    "    \n",
    "* `Name` — название игры\n",
    "\n",
    "* `Platform` — платформа\n",
    "\n",
    "* `Year_of_Release` — год выпуска\n",
    "\n",
    "* `Genre` — жанр игры\n",
    "\n",
    "* `NA_sales` — продажи в Северной Америке (миллионы проданных копий)\n",
    "\n",
    "* `EU_sales` — продажи в Европе (миллионы проданных копий)\n",
    "\n",
    "* `JP_sales` — продажи в Японии (миллионы проданных копий)\n",
    "\n",
    "* `Other_sales` — продажи в других странах (миллионы проданных копий)\n",
    "\n",
    "* `Critic_Score` — оценка критиков (максимум 100)\n",
    "\n",
    "* `User_Score` — оценка пользователей (максимум 10)\n",
    "\n",
    "* `Rating` — рейтинг от организации ESRB (англ. Entertainment Software Rating Board). Эта ассоциация определяет рейтинг компьютерных игр и присваивает им подходящую возрастную категорию.\n"
   ]
  },
  {
   "cell_type": "markdown",
   "metadata": {},
   "source": [
    "В каждой строке таблицы — данные об играх. Каждая из колонок содержит определенные данные об играх. Одна строка - одна игра и, соответственно, данные о ней. \n",
    "\n",
    "Мы видим, что названия столбцев не соответствуют правилам хорошего стиля - желательно использовать только строчные буквы.\n",
    "\n",
    "Тип данных в столбцах различается - нужно будет тип float заменить на тип int.\n",
    "\n",
    "В данных присутсвуют пропуски, от которых нужно будет избавиться. В частности они присутсвуют в столбцах Name, Year_of_Release, Critic_Score, User_Score, Rating, Genre.             \n",
    "\n",
    "Возможно в данных есть дубликаты.\n",
    "\n",
    "Чтобы двигаться дальше, нужно устранить проблемы в данных."
   ]
  },
  {
   "cell_type": "markdown",
   "metadata": {},
   "source": [
    "<div class=\"alert-success\">\n",
    "<b>Комментарий ревьюера ✔️</b>\n",
    "\n",
    "Правильно, что пишешь краткий вывод в конце шага!</div>"
   ]
  },
  {
   "cell_type": "markdown",
   "metadata": {},
   "source": [
    "<p>\n",
    "<div class=\"alert-info\">\n",
    "<b>Это для того, чтобы потом можно было проще сделать общий вывод! Спасибо!\n",
    "</b>\n"
   ]
  },
  {
   "cell_type": "markdown",
   "metadata": {},
   "source": [
    "# Шаг 2. Подготовим данные"
   ]
  },
  {
   "cell_type": "markdown",
   "metadata": {},
   "source": [
    "## Имена столбцев"
   ]
  },
  {
   "cell_type": "markdown",
   "metadata": {},
   "source": [
    "Для начала заменим названия в столбцах. Поскольку нас интересуют все столбцы, то мы можем воспользоваться атрибутом columns, который как раз и нужен для случаев, когды мы хотим заменить названия всех столбцев"
   ]
  },
  {
   "cell_type": "code",
   "execution_count": 38,
   "metadata": {},
   "outputs": [
    {
     "data": {
      "text/html": [
       "<div>\n",
       "<style scoped>\n",
       "    .dataframe tbody tr th:only-of-type {\n",
       "        vertical-align: middle;\n",
       "    }\n",
       "\n",
       "    .dataframe tbody tr th {\n",
       "        vertical-align: top;\n",
       "    }\n",
       "\n",
       "    .dataframe thead th {\n",
       "        text-align: right;\n",
       "    }\n",
       "</style>\n",
       "<table border=\"1\" class=\"dataframe\">\n",
       "  <thead>\n",
       "    <tr style=\"text-align: right;\">\n",
       "      <th></th>\n",
       "      <th>name</th>\n",
       "      <th>platform</th>\n",
       "      <th>year</th>\n",
       "      <th>genre</th>\n",
       "      <th>na_sales</th>\n",
       "      <th>eu_sales</th>\n",
       "      <th>jp_sales</th>\n",
       "      <th>other_sales</th>\n",
       "      <th>critic_score</th>\n",
       "      <th>user_score</th>\n",
       "      <th>rating</th>\n",
       "    </tr>\n",
       "  </thead>\n",
       "  <tbody>\n",
       "    <tr>\n",
       "      <td>0</td>\n",
       "      <td>Wii Sports</td>\n",
       "      <td>Wii</td>\n",
       "      <td>2006.0</td>\n",
       "      <td>Sports</td>\n",
       "      <td>41.36</td>\n",
       "      <td>28.96</td>\n",
       "      <td>3.77</td>\n",
       "      <td>8.45</td>\n",
       "      <td>76.0</td>\n",
       "      <td>8</td>\n",
       "      <td>E</td>\n",
       "    </tr>\n",
       "    <tr>\n",
       "      <td>1</td>\n",
       "      <td>Super Mario Bros.</td>\n",
       "      <td>NES</td>\n",
       "      <td>1985.0</td>\n",
       "      <td>Platform</td>\n",
       "      <td>29.08</td>\n",
       "      <td>3.58</td>\n",
       "      <td>6.81</td>\n",
       "      <td>0.77</td>\n",
       "      <td>NaN</td>\n",
       "      <td>NaN</td>\n",
       "      <td>NaN</td>\n",
       "    </tr>\n",
       "    <tr>\n",
       "      <td>2</td>\n",
       "      <td>Mario Kart Wii</td>\n",
       "      <td>Wii</td>\n",
       "      <td>2008.0</td>\n",
       "      <td>Racing</td>\n",
       "      <td>15.68</td>\n",
       "      <td>12.76</td>\n",
       "      <td>3.79</td>\n",
       "      <td>3.29</td>\n",
       "      <td>82.0</td>\n",
       "      <td>8.3</td>\n",
       "      <td>E</td>\n",
       "    </tr>\n",
       "    <tr>\n",
       "      <td>3</td>\n",
       "      <td>Wii Sports Resort</td>\n",
       "      <td>Wii</td>\n",
       "      <td>2009.0</td>\n",
       "      <td>Sports</td>\n",
       "      <td>15.61</td>\n",
       "      <td>10.93</td>\n",
       "      <td>3.28</td>\n",
       "      <td>2.95</td>\n",
       "      <td>80.0</td>\n",
       "      <td>8</td>\n",
       "      <td>E</td>\n",
       "    </tr>\n",
       "    <tr>\n",
       "      <td>4</td>\n",
       "      <td>Pokemon Red/Pokemon Blue</td>\n",
       "      <td>GB</td>\n",
       "      <td>1996.0</td>\n",
       "      <td>Role-Playing</td>\n",
       "      <td>11.27</td>\n",
       "      <td>8.89</td>\n",
       "      <td>10.22</td>\n",
       "      <td>1.00</td>\n",
       "      <td>NaN</td>\n",
       "      <td>NaN</td>\n",
       "      <td>NaN</td>\n",
       "    </tr>\n",
       "    <tr>\n",
       "      <td>5</td>\n",
       "      <td>Tetris</td>\n",
       "      <td>GB</td>\n",
       "      <td>1989.0</td>\n",
       "      <td>Puzzle</td>\n",
       "      <td>23.20</td>\n",
       "      <td>2.26</td>\n",
       "      <td>4.22</td>\n",
       "      <td>0.58</td>\n",
       "      <td>NaN</td>\n",
       "      <td>NaN</td>\n",
       "      <td>NaN</td>\n",
       "    </tr>\n",
       "    <tr>\n",
       "      <td>6</td>\n",
       "      <td>New Super Mario Bros.</td>\n",
       "      <td>DS</td>\n",
       "      <td>2006.0</td>\n",
       "      <td>Platform</td>\n",
       "      <td>11.28</td>\n",
       "      <td>9.14</td>\n",
       "      <td>6.50</td>\n",
       "      <td>2.88</td>\n",
       "      <td>89.0</td>\n",
       "      <td>8.5</td>\n",
       "      <td>E</td>\n",
       "    </tr>\n",
       "    <tr>\n",
       "      <td>7</td>\n",
       "      <td>Wii Play</td>\n",
       "      <td>Wii</td>\n",
       "      <td>2006.0</td>\n",
       "      <td>Misc</td>\n",
       "      <td>13.96</td>\n",
       "      <td>9.18</td>\n",
       "      <td>2.93</td>\n",
       "      <td>2.84</td>\n",
       "      <td>58.0</td>\n",
       "      <td>6.6</td>\n",
       "      <td>E</td>\n",
       "    </tr>\n",
       "    <tr>\n",
       "      <td>8</td>\n",
       "      <td>New Super Mario Bros. Wii</td>\n",
       "      <td>Wii</td>\n",
       "      <td>2009.0</td>\n",
       "      <td>Platform</td>\n",
       "      <td>14.44</td>\n",
       "      <td>6.94</td>\n",
       "      <td>4.70</td>\n",
       "      <td>2.24</td>\n",
       "      <td>87.0</td>\n",
       "      <td>8.4</td>\n",
       "      <td>E</td>\n",
       "    </tr>\n",
       "    <tr>\n",
       "      <td>9</td>\n",
       "      <td>Duck Hunt</td>\n",
       "      <td>NES</td>\n",
       "      <td>1984.0</td>\n",
       "      <td>Shooter</td>\n",
       "      <td>26.93</td>\n",
       "      <td>0.63</td>\n",
       "      <td>0.28</td>\n",
       "      <td>0.47</td>\n",
       "      <td>NaN</td>\n",
       "      <td>NaN</td>\n",
       "      <td>NaN</td>\n",
       "    </tr>\n",
       "  </tbody>\n",
       "</table>\n",
       "</div>"
      ],
      "text/plain": [
       "                        name platform    year         genre  na_sales  \\\n",
       "0                 Wii Sports      Wii  2006.0        Sports     41.36   \n",
       "1          Super Mario Bros.      NES  1985.0      Platform     29.08   \n",
       "2             Mario Kart Wii      Wii  2008.0        Racing     15.68   \n",
       "3          Wii Sports Resort      Wii  2009.0        Sports     15.61   \n",
       "4   Pokemon Red/Pokemon Blue       GB  1996.0  Role-Playing     11.27   \n",
       "5                     Tetris       GB  1989.0        Puzzle     23.20   \n",
       "6      New Super Mario Bros.       DS  2006.0      Platform     11.28   \n",
       "7                   Wii Play      Wii  2006.0          Misc     13.96   \n",
       "8  New Super Mario Bros. Wii      Wii  2009.0      Platform     14.44   \n",
       "9                  Duck Hunt      NES  1984.0       Shooter     26.93   \n",
       "\n",
       "   eu_sales  jp_sales  other_sales  critic_score user_score rating  \n",
       "0     28.96      3.77         8.45          76.0          8      E  \n",
       "1      3.58      6.81         0.77           NaN        NaN    NaN  \n",
       "2     12.76      3.79         3.29          82.0        8.3      E  \n",
       "3     10.93      3.28         2.95          80.0          8      E  \n",
       "4      8.89     10.22         1.00           NaN        NaN    NaN  \n",
       "5      2.26      4.22         0.58           NaN        NaN    NaN  \n",
       "6      9.14      6.50         2.88          89.0        8.5      E  \n",
       "7      9.18      2.93         2.84          58.0        6.6      E  \n",
       "8      6.94      4.70         2.24          87.0        8.4      E  \n",
       "9      0.63      0.28         0.47           NaN        NaN    NaN  "
      ]
     },
     "execution_count": 38,
     "metadata": {},
     "output_type": "execute_result"
    }
   ],
   "source": [
    "#меняем названия столбцев\n",
    "games.columns = (['name', 'platform', 'year', 'genre', 'na_sales', 'eu_sales',\n",
    "                  'jp_sales','other_sales', 'critic_score', 'user_score', 'rating'])\n",
    "# получение первых 10 строк таблицы \n",
    "games.head(10)"
   ]
  },
  {
   "cell_type": "markdown",
   "metadata": {},
   "source": [
    "Теперь имена соответсвуют правилам хорошего стиля. "
   ]
  },
  {
   "cell_type": "markdown",
   "metadata": {},
   "source": [
    "<div class=\"alert-success\">\n",
    "<b>Комментарий ревьюера ✔️</b>\n",
    "\n",
    "Более простое приведение названий к нижнему регистру `games.columns = games.columns.str.lower()`</div>"
   ]
  },
  {
   "cell_type": "markdown",
   "metadata": {},
   "source": [
    "<p>\n",
    "<div class=\"alert-info\">\n",
    "<b>Спасибо за совет, я почему-то о забыл о данном методе (</b>\n"
   ]
  },
  {
   "cell_type": "markdown",
   "metadata": {},
   "source": [
    "## Пропуски"
   ]
  },
  {
   "cell_type": "markdown",
   "metadata": {},
   "source": [
    "Пропуски у нас были в столбцах year, critic_score, user_score, rating, genre Посчитаем их количество."
   ]
  },
  {
   "cell_type": "code",
   "execution_count": 39,
   "metadata": {
    "scrolled": true
   },
   "outputs": [
    {
     "data": {
      "text/plain": [
       "name               2\n",
       "platform           0\n",
       "year             269\n",
       "genre              2\n",
       "na_sales           0\n",
       "eu_sales           0\n",
       "jp_sales           0\n",
       "other_sales        0\n",
       "critic_score    8578\n",
       "user_score      6701\n",
       "rating          6766\n",
       "dtype: int64"
      ]
     },
     "execution_count": 39,
     "metadata": {},
     "output_type": "execute_result"
    }
   ],
   "source": [
    "#считаем количество пропусков\n",
    "games.isna().sum()"
   ]
  },
  {
   "cell_type": "markdown",
   "metadata": {},
   "source": [
    "2 пропуска в названии игры и ее жанре. Посмотрим, что они из себя представляют."
   ]
  },
  {
   "cell_type": "markdown",
   "metadata": {},
   "source": [
    "Пропуски в столбца `name` не представляется возможным заполнить, поскольку нет никакой связи между названием игры и предоставленными в датасете данными. Возможно эти пропуски стали результатом человеческого фактора (кто-то забыл указать название) или технической неисправности (компьютер не внес данные об имени). Однако нас волнует не качественный критерий игр, а количественный. Поэтому можно будет заменить на `no_name`. Название игр не понадобится нам.\n",
    "\n",
    "Так же дела обстоят и со столбцем `genre`. Мы не сможем никак восстановить пропуски в данном столбце, поскольку жан не привязан к платформе, названию и иным данным. Однако нас будут интересовать количественный фактор. Поэтому заменим данные пропуски на `no_genre`. Возможно эти пропуски стали результатом человеческого фактора (кто-то забыл указать название) или технической неисправности (компьютер не внес данные об имени). Однако нас волнует не качественный критерий игр, а количественный. \n",
    "\n",
    "Пропуски в столбце `year` так же кажутся сложно заменимыми. Возможно эти пропуски стали результатом человеческого фактора (кто-то забыл указать название) или технической неисправности (компьютер не внес данные об имени). Определить год считается невозможным и заменить его тоже нельзя, поскольку он важен для результатов исследования. Сложно представить, что год будет связан с каким либо показателем из датасета. Предлагается удалить пропуски, чтобы результаты исследования не были искажены. Рассчитаем, какой процент мы удалим."
   ]
  },
  {
   "cell_type": "code",
   "execution_count": 40,
   "metadata": {
    "scrolled": true
   },
   "outputs": [
    {
     "data": {
      "text/plain": [
       "0.01609332934489979"
      ]
     },
     "execution_count": 40,
     "metadata": {},
     "output_type": "execute_result"
    }
   ],
   "source": [
    "#считаем, какой процент занимают пропуски от всех данных\n",
    "games['year'].isna().sum()/len(games)"
   ]
  },
  {
   "cell_type": "markdown",
   "metadata": {},
   "source": [
    "Меньше 2%. Полагается, что можно их будет убрать. Можно, конечно, было бы заменить их с помощью группироваки по платформе, но разные платформы выпускали игры в разные годы. Такой же показатель как год очень чувсвтителен к измененям."
   ]
  },
  {
   "cell_type": "markdown",
   "metadata": {},
   "source": [
    "<div class=\"alert-success\">\n",
    "<b>Комментарий ревьюера ✔️</b>\n",
    "\n",
    "Верное решение - удалить строки с пропусками в этих столбцах - их немного и на конечный результат анализа они не повлияют.</div>"
   ]
  },
  {
   "cell_type": "markdown",
   "metadata": {},
   "source": [
    "<p>\n",
    "<div class=\"alert-info\">\n",
    "<b>Спасибо!</b>\n"
   ]
  },
  {
   "cell_type": "code",
   "execution_count": 41,
   "metadata": {},
   "outputs": [
    {
     "data": {
      "text/plain": [
       "0"
      ]
     },
     "execution_count": 41,
     "metadata": {},
     "output_type": "execute_result"
    }
   ],
   "source": [
    "#заменяем пропуски\n",
    "games.loc[games['name'].isna(), 'name'] = 'no_name'\n",
    "#считаем количество пропусков\n",
    "games['name'].isna().sum()"
   ]
  },
  {
   "cell_type": "code",
   "execution_count": 42,
   "metadata": {},
   "outputs": [
    {
     "data": {
      "text/plain": [
       "0"
      ]
     },
     "execution_count": 42,
     "metadata": {},
     "output_type": "execute_result"
    }
   ],
   "source": [
    "#заменяем пропуски\n",
    "games.loc[games['genre'].isna(), 'genre'] = 'no_genre'\n",
    "#считаем количество пропусков\n",
    "games['genre'].isna().sum()"
   ]
  },
  {
   "cell_type": "code",
   "execution_count": 43,
   "metadata": {
    "scrolled": false
   },
   "outputs": [
    {
     "data": {
      "text/plain": [
       "0"
      ]
     },
     "execution_count": 43,
     "metadata": {},
     "output_type": "execute_result"
    }
   ],
   "source": [
    "#удаляем пропуски в году\n",
    "games = games.dropna(subset =['year'])\n",
    "#считаем количество пропусков\n",
    "games['year'].isna().sum()"
   ]
  },
  {
   "cell_type": "markdown",
   "metadata": {},
   "source": [
    "Теперь посмотрим на многочисленные пропуски в столбцах critic_score, user_score и rating. Для начала посмотрим, какие значения встречаются в данном столбце."
   ]
  },
  {
   "cell_type": "code",
   "execution_count": 44,
   "metadata": {
    "scrolled": false
   },
   "outputs": [
    {
     "data": {
      "text/plain": [
       "array([76., nan, 82., 80., 89., 58., 87., 91., 61., 97., 95., 77., 88.,\n",
       "       83., 94., 93., 85., 86., 98., 96., 90., 84., 73., 74., 78., 92.,\n",
       "       71., 72., 68., 62., 49., 67., 81., 66., 56., 79., 70., 59., 64.,\n",
       "       75., 60., 63., 69., 50., 25., 42., 44., 55., 48., 57., 29., 47.,\n",
       "       65., 54., 20., 53., 37., 38., 33., 52., 30., 32., 43., 45., 51.,\n",
       "       40., 46., 39., 34., 41., 36., 31., 27., 35., 26., 19., 28., 23.,\n",
       "       24., 21., 17., 13.])"
      ]
     },
     "execution_count": 44,
     "metadata": {},
     "output_type": "execute_result"
    }
   ],
   "source": [
    "#считаем уникальные значения столбца\n",
    "games['critic_score'].unique()"
   ]
  },
  {
   "cell_type": "markdown",
   "metadata": {},
   "source": [
    "Мы видим, что рейтинг колеблется. Сложно связать рейтинг критиков с иными данными датасета. Связано это с тем, что критики и пользователи могут выставлять игре абсолютно разные оценки, которые будут значительно друг от друга отличаться. Поэтому нам нужно будет заменить пропуски на какое-либо нейтральное значение, указывающее на факт того, что оценка еще не опрделена."
   ]
  },
  {
   "cell_type": "code",
   "execution_count": 45,
   "metadata": {
    "scrolled": false
   },
   "outputs": [
    {
     "data": {
      "text/plain": [
       "array(['8', nan, '8.3', '8.5', '6.6', '8.4', '8.6', '7.7', '6.3', '7.4',\n",
       "       '8.2', '9', '7.9', '8.1', '8.7', '7.1', '3.4', '5.3', '4.8', '3.2',\n",
       "       '8.9', '6.4', '7.8', '7.5', '2.6', '7.2', '9.2', '7', '7.3', '4.3',\n",
       "       '7.6', '5.7', '5', '9.1', '6.5', 'tbd', '8.8', '6.9', '9.4', '6.8',\n",
       "       '6.1', '6.7', '5.4', '4', '4.9', '4.5', '9.3', '6.2', '4.2', '6',\n",
       "       '3.7', '4.1', '5.8', '5.6', '5.5', '4.4', '4.6', '5.9', '3.9',\n",
       "       '3.1', '2.9', '5.2', '3.3', '4.7', '5.1', '3.5', '2.5', '1.9', '3',\n",
       "       '2.7', '2.2', '2', '9.5', '2.1', '3.6', '2.8', '1.8', '3.8', '0',\n",
       "       '1.6', '9.6', '2.4', '1.7', '1.1', '0.3', '1.5', '0.7', '1.2',\n",
       "       '2.3', '0.5', '1.3', '0.2', '0.6', '1.4', '0.9', '1', '9.7'],\n",
       "      dtype=object)"
      ]
     },
     "execution_count": 45,
     "metadata": {},
     "output_type": "execute_result"
    }
   ],
   "source": [
    "#считаем уникальные значения столбца\n",
    "games['user_score'].unique()"
   ]
  },
  {
   "cell_type": "markdown",
   "metadata": {},
   "source": [
    "Мы заметили помимо значения nan значение `tbd`. Старый добрый Яндекс подсказывает нам, что это аббревиатура, которая расшифровывается очень просто - To Be Determined, то есть \"Будет определено\". Следовательно рейтинг данных игр еще не определен. Заменить данное значение путем группировки или подбора невозможно, потому что его просто не существует. Кажется, что пропуски в столбцах возникли по той же причине, что и появились значения tbd - оценки просто еще не выставлены. Угадать, какую оценку получит игра нет возможности, поэтому заменим пропуски и значение tbd на заглушку. Для удобство работы с данным, в частности для удобства замены типа данных в столбцах, заменим пропуски и `tbd` на значение `-1`, которое будет подразумевать, что оценка этой игре еще не выставлена. \n",
    "\n",
    "Мы возьмем в качестве заглушки -1, потому что нам в дальшейшем нужно будет привести столбцы к типу данных `int`. Чтобы сделать это с меньшим количеством заморочек, мы сделаем так, чтобы все значения в столбце были числовыми, а не типа object."
   ]
  },
  {
   "cell_type": "markdown",
   "metadata": {},
   "source": [
    "<div class=\"alert-success\">\n",
    "<b>Комментарий ревьюера ✔️</b>\n",
    "\n",
    "</div>"
   ]
  },
  {
   "cell_type": "markdown",
   "metadata": {},
   "source": [
    "<p>\n",
    "<div class=\"alert-info\">\n",
    "<b>Спасибо!</b>\n"
   ]
  },
  {
   "cell_type": "code",
   "execution_count": 46,
   "metadata": {},
   "outputs": [
    {
     "data": {
      "text/plain": [
       "array(['E', nan, 'M', 'T', 'E10+', 'K-A', 'AO', 'EC', 'RP'], dtype=object)"
      ]
     },
     "execution_count": 46,
     "metadata": {},
     "output_type": "execute_result"
    }
   ],
   "source": [
    "#считаем уникальные значения столбца\n",
    "games['rating'].unique()"
   ]
  },
  {
   "cell_type": "markdown",
   "metadata": {},
   "source": [
    "В данном случае можно предположеить, что пропуски появились в связи с тем, что организация ESRB просто не выставила им возрастной рейтинг. Заменить рейтинги путем группировки данных и поиска связи данного столбца с другими навряд ли получится, потому что возрастной рейтинг не заивисит от других столбцев - название игры или компании навряд ли нам даст представление о возростном ограничении игры, а оценки уж тем более. Полагается заменить значение на заглушку, в качетсве которой возьмем, например, `no_rating`"
   ]
  },
  {
   "cell_type": "markdown",
   "metadata": {},
   "source": [
    "Мы пришли к выводу о том, что заменить на предполагаемые значения мы не сможем в данных случаях пропуски. Поэтому будем использовать заглушки. Заглушка tbd кажется неудачной, поскольку является не самой понятной."
   ]
  },
  {
   "cell_type": "markdown",
   "metadata": {},
   "source": [
    "Так, для игр, которым критики или пользователи еще не выставили оценки, мы укажем в столбце с оценкой -1, а не tbd, а для игр, которым организация ESRB не выставила рейтинг, мы как раз и укажем `no_rating`"
   ]
  },
  {
   "cell_type": "code",
   "execution_count": 47,
   "metadata": {
    "scrolled": true
   },
   "outputs": [
    {
     "name": "stdout",
     "output_type": "stream",
     "text": [
      "Пропусков в critic_score: 0\n",
      "Пропусков в user_score: 0\n",
      "Пропусков в rating: 0\n"
     ]
    }
   ],
   "source": [
    "#заменяем пропуски\n",
    "games.loc[games['critic_score'].isna(), 'critic_score'] = -1\n",
    "#заменяем пропуски\n",
    "games.loc[games['user_score'].isna(), 'user_score'] = -1\n",
    "games.loc[games['user_score']=='tbd', 'user_score'] = -1\n",
    "#заменяем пропуски\n",
    "games.loc[games['rating'].isna(), 'rating'] = 'no_rating'\n",
    "#считаем количество пропусков\n",
    "print('Пропусков в critic_score:', games['critic_score'].isna().sum())\n",
    "print('Пропусков в user_score:', games['user_score'].isna().sum())\n",
    "print('Пропусков в rating:', games['rating'].isna().sum())"
   ]
  },
  {
   "cell_type": "markdown",
   "metadata": {},
   "source": [
    "<div class=\"alert-warning\">\n",
    "<b>Комментарий ревьюера ⚠️</b>\n",
    "\n",
    "Почему ты считаешь такую обработку tbd и пропусков в столбцах с оценками оптимальной?</div>"
   ]
  },
  {
   "cell_type": "markdown",
   "metadata": {},
   "source": [
    "<p>\n",
    "<div class=\"alert-info\">\n",
    "<b>Она не самая оптимальная, но самая удобная и простая в выполнении. Мне просто нужно же будет данные приводить к типу int, а с -1 это сделать проще, чем со значением типа str!</b>\n"
   ]
  },
  {
   "cell_type": "markdown",
   "metadata": {},
   "source": [
    "<div class=\"alert-success\">\n",
    "<b>Комментарий ревьюера V2 ✔️</b>\n",
    "\n",
    "Принимается такой вариант. Тут имело смысл заменить tbd нулями, так как это и есть по сути - отсутствие рейтинга.</div>"
   ]
  },
  {
   "cell_type": "code",
   "execution_count": 48,
   "metadata": {
    "scrolled": true
   },
   "outputs": [
    {
     "data": {
      "text/plain": [
       "name            0\n",
       "platform        0\n",
       "year            0\n",
       "genre           0\n",
       "na_sales        0\n",
       "eu_sales        0\n",
       "jp_sales        0\n",
       "other_sales     0\n",
       "critic_score    0\n",
       "user_score      0\n",
       "rating          0\n",
       "dtype: int64"
      ]
     },
     "execution_count": 48,
     "metadata": {},
     "output_type": "execute_result"
    }
   ],
   "source": [
    "#считаем количество пропусков\n",
    "games.isna().sum()"
   ]
  },
  {
   "cell_type": "markdown",
   "metadata": {},
   "source": [
    "Теперь, когда мы избавились от пропусков, то можно заменить типы данных"
   ]
  },
  {
   "cell_type": "markdown",
   "metadata": {},
   "source": [
    "## Замена типа данных"
   ]
  },
  {
   "cell_type": "markdown",
   "metadata": {},
   "source": [
    "Для удобства работы с некоторыми столбцами теперь нужно тип данных float заменить на тип данных int. Для всех столбцев это будет сделать просто, за исключением столбца `user_score`, в котором указаны числа в типе object. Поэтому для данного столбца мы сначала переведем строку в число типа float, а затем переведем в тип int."
   ]
  },
  {
   "cell_type": "markdown",
   "metadata": {},
   "source": [
    "Заменять тип данных в столбцах `na_sales`, `eu_sales`, `jp_sales`, `other_sales` мы не станем, поскольку в датасете присутсвует большое количество игр, которые продавались в количестве меньше миллиона. Приведение же к целочисленному типу приведе к тому, что мы просто превратим их продажи в нули. М"
   ]
  },
  {
   "cell_type": "code",
   "execution_count": 49,
   "metadata": {
    "scrolled": true
   },
   "outputs": [
    {
     "data": {
      "text/html": [
       "<div>\n",
       "<style scoped>\n",
       "    .dataframe tbody tr th:only-of-type {\n",
       "        vertical-align: middle;\n",
       "    }\n",
       "\n",
       "    .dataframe tbody tr th {\n",
       "        vertical-align: top;\n",
       "    }\n",
       "\n",
       "    .dataframe thead th {\n",
       "        text-align: right;\n",
       "    }\n",
       "</style>\n",
       "<table border=\"1\" class=\"dataframe\">\n",
       "  <thead>\n",
       "    <tr style=\"text-align: right;\">\n",
       "      <th></th>\n",
       "      <th>name</th>\n",
       "      <th>platform</th>\n",
       "      <th>year</th>\n",
       "      <th>genre</th>\n",
       "      <th>na_sales</th>\n",
       "      <th>eu_sales</th>\n",
       "      <th>jp_sales</th>\n",
       "      <th>other_sales</th>\n",
       "      <th>critic_score</th>\n",
       "      <th>user_score</th>\n",
       "      <th>rating</th>\n",
       "    </tr>\n",
       "  </thead>\n",
       "  <tbody>\n",
       "    <tr>\n",
       "      <td>0</td>\n",
       "      <td>Wii Sports</td>\n",
       "      <td>Wii</td>\n",
       "      <td>2006</td>\n",
       "      <td>Sports</td>\n",
       "      <td>41.36</td>\n",
       "      <td>28.96</td>\n",
       "      <td>3.77</td>\n",
       "      <td>8.45</td>\n",
       "      <td>76</td>\n",
       "      <td>8</td>\n",
       "      <td>E</td>\n",
       "    </tr>\n",
       "    <tr>\n",
       "      <td>1</td>\n",
       "      <td>Super Mario Bros.</td>\n",
       "      <td>NES</td>\n",
       "      <td>1985</td>\n",
       "      <td>Platform</td>\n",
       "      <td>29.08</td>\n",
       "      <td>3.58</td>\n",
       "      <td>6.81</td>\n",
       "      <td>0.77</td>\n",
       "      <td>-1</td>\n",
       "      <td>-1</td>\n",
       "      <td>no_rating</td>\n",
       "    </tr>\n",
       "    <tr>\n",
       "      <td>2</td>\n",
       "      <td>Mario Kart Wii</td>\n",
       "      <td>Wii</td>\n",
       "      <td>2008</td>\n",
       "      <td>Racing</td>\n",
       "      <td>15.68</td>\n",
       "      <td>12.76</td>\n",
       "      <td>3.79</td>\n",
       "      <td>3.29</td>\n",
       "      <td>82</td>\n",
       "      <td>8</td>\n",
       "      <td>E</td>\n",
       "    </tr>\n",
       "    <tr>\n",
       "      <td>3</td>\n",
       "      <td>Wii Sports Resort</td>\n",
       "      <td>Wii</td>\n",
       "      <td>2009</td>\n",
       "      <td>Sports</td>\n",
       "      <td>15.61</td>\n",
       "      <td>10.93</td>\n",
       "      <td>3.28</td>\n",
       "      <td>2.95</td>\n",
       "      <td>80</td>\n",
       "      <td>8</td>\n",
       "      <td>E</td>\n",
       "    </tr>\n",
       "    <tr>\n",
       "      <td>4</td>\n",
       "      <td>Pokemon Red/Pokemon Blue</td>\n",
       "      <td>GB</td>\n",
       "      <td>1996</td>\n",
       "      <td>Role-Playing</td>\n",
       "      <td>11.27</td>\n",
       "      <td>8.89</td>\n",
       "      <td>10.22</td>\n",
       "      <td>1.00</td>\n",
       "      <td>-1</td>\n",
       "      <td>-1</td>\n",
       "      <td>no_rating</td>\n",
       "    </tr>\n",
       "  </tbody>\n",
       "</table>\n",
       "</div>"
      ],
      "text/plain": [
       "                       name platform  year         genre  na_sales  eu_sales  \\\n",
       "0                Wii Sports      Wii  2006        Sports     41.36     28.96   \n",
       "1         Super Mario Bros.      NES  1985      Platform     29.08      3.58   \n",
       "2            Mario Kart Wii      Wii  2008        Racing     15.68     12.76   \n",
       "3         Wii Sports Resort      Wii  2009        Sports     15.61     10.93   \n",
       "4  Pokemon Red/Pokemon Blue       GB  1996  Role-Playing     11.27      8.89   \n",
       "\n",
       "   jp_sales  other_sales  critic_score  user_score     rating  \n",
       "0      3.77         8.45            76           8          E  \n",
       "1      6.81         0.77            -1          -1  no_rating  \n",
       "2      3.79         3.29            82           8          E  \n",
       "3      3.28         2.95            80           8          E  \n",
       "4     10.22         1.00            -1          -1  no_rating  "
      ]
     },
     "execution_count": 49,
     "metadata": {},
     "output_type": "execute_result"
    }
   ],
   "source": [
    "#меняем тип данных\n",
    "games[['year','critic_score']] = games[['year', 'critic_score']].astype('int')\n",
    "games['user_score'] = pd.to_numeric(games['user_score']).astype('int')\n",
    "#выводим первые 5 строк таблицы\n",
    "games.head()"
   ]
  },
  {
   "cell_type": "markdown",
   "metadata": {},
   "source": [
    "Все прекрасно выглядит. Посмотрим, как изменилась таблица."
   ]
  },
  {
   "cell_type": "code",
   "execution_count": 50,
   "metadata": {
    "scrolled": true
   },
   "outputs": [
    {
     "name": "stdout",
     "output_type": "stream",
     "text": [
      "<class 'pandas.core.frame.DataFrame'>\n",
      "Int64Index: 16446 entries, 0 to 16714\n",
      "Data columns (total 11 columns):\n",
      "name            16446 non-null object\n",
      "platform        16446 non-null object\n",
      "year            16446 non-null int64\n",
      "genre           16446 non-null object\n",
      "na_sales        16446 non-null float64\n",
      "eu_sales        16446 non-null float64\n",
      "jp_sales        16446 non-null float64\n",
      "other_sales     16446 non-null float64\n",
      "critic_score    16446 non-null int64\n",
      "user_score      16446 non-null int64\n",
      "rating          16446 non-null object\n",
      "dtypes: float64(4), int64(3), object(4)\n",
      "memory usage: 1.5+ MB\n"
     ]
    }
   ],
   "source": [
    "# получение общей информации о данных в таблице \n",
    "games.info()"
   ]
  },
  {
   "cell_type": "markdown",
   "metadata": {},
   "source": [
    "Мы потеряли только только 269 значений с годами, который мы удалили, что в принципе довольно не много. Остальные же значения остались на месте, благодаря заглушкам. Пропусков в датасете не осталось. Во всех столбцах теперь тип данных соответсвует ожиданиям."
   ]
  },
  {
   "cell_type": "markdown",
   "metadata": {},
   "source": [
    "<div class=\"alert-warning\">\n",
    "<b>Комментарий ревьюера ⚠️</b>\n",
    "\n",
    "Имеет смысл в конце предобработки вывести несколько строк датафрейма, общую информацию - все ли типы данных приведены к нужным, и сравнить первоначальную таблицу с обработанной на предмет того, сколько данных мы выбросили. </div>"
   ]
  },
  {
   "cell_type": "markdown",
   "metadata": {},
   "source": [
    "<p>\n",
    "<div class=\"alert-info\">\n",
    "<b>Хорошо, сделаю</b>"
   ]
  },
  {
   "cell_type": "markdown",
   "metadata": {},
   "source": [
    "## Суммарные продажи"
   ]
  },
  {
   "cell_type": "markdown",
   "metadata": {},
   "source": [
    "Теперь, согласно плану, нам предстоит посчитать суммарные продажи во всех регионах и записать их в отдельный столбец. Создадим столбец `total_number`, в который поместим результат суммирования продаж по различным регионам для каждой игры."
   ]
  },
  {
   "cell_type": "code",
   "execution_count": 51,
   "metadata": {},
   "outputs": [
    {
     "data": {
      "text/html": [
       "<div>\n",
       "<style scoped>\n",
       "    .dataframe tbody tr th:only-of-type {\n",
       "        vertical-align: middle;\n",
       "    }\n",
       "\n",
       "    .dataframe tbody tr th {\n",
       "        vertical-align: top;\n",
       "    }\n",
       "\n",
       "    .dataframe thead th {\n",
       "        text-align: right;\n",
       "    }\n",
       "</style>\n",
       "<table border=\"1\" class=\"dataframe\">\n",
       "  <thead>\n",
       "    <tr style=\"text-align: right;\">\n",
       "      <th></th>\n",
       "      <th>name</th>\n",
       "      <th>platform</th>\n",
       "      <th>year</th>\n",
       "      <th>genre</th>\n",
       "      <th>na_sales</th>\n",
       "      <th>eu_sales</th>\n",
       "      <th>jp_sales</th>\n",
       "      <th>other_sales</th>\n",
       "      <th>critic_score</th>\n",
       "      <th>user_score</th>\n",
       "      <th>rating</th>\n",
       "      <th>total_number</th>\n",
       "    </tr>\n",
       "  </thead>\n",
       "  <tbody>\n",
       "    <tr>\n",
       "      <td>0</td>\n",
       "      <td>Wii Sports</td>\n",
       "      <td>Wii</td>\n",
       "      <td>2006</td>\n",
       "      <td>Sports</td>\n",
       "      <td>41.36</td>\n",
       "      <td>28.96</td>\n",
       "      <td>3.77</td>\n",
       "      <td>8.45</td>\n",
       "      <td>76</td>\n",
       "      <td>8</td>\n",
       "      <td>E</td>\n",
       "      <td>82.54</td>\n",
       "    </tr>\n",
       "    <tr>\n",
       "      <td>1</td>\n",
       "      <td>Super Mario Bros.</td>\n",
       "      <td>NES</td>\n",
       "      <td>1985</td>\n",
       "      <td>Platform</td>\n",
       "      <td>29.08</td>\n",
       "      <td>3.58</td>\n",
       "      <td>6.81</td>\n",
       "      <td>0.77</td>\n",
       "      <td>-1</td>\n",
       "      <td>-1</td>\n",
       "      <td>no_rating</td>\n",
       "      <td>40.24</td>\n",
       "    </tr>\n",
       "    <tr>\n",
       "      <td>2</td>\n",
       "      <td>Mario Kart Wii</td>\n",
       "      <td>Wii</td>\n",
       "      <td>2008</td>\n",
       "      <td>Racing</td>\n",
       "      <td>15.68</td>\n",
       "      <td>12.76</td>\n",
       "      <td>3.79</td>\n",
       "      <td>3.29</td>\n",
       "      <td>82</td>\n",
       "      <td>8</td>\n",
       "      <td>E</td>\n",
       "      <td>35.52</td>\n",
       "    </tr>\n",
       "    <tr>\n",
       "      <td>3</td>\n",
       "      <td>Wii Sports Resort</td>\n",
       "      <td>Wii</td>\n",
       "      <td>2009</td>\n",
       "      <td>Sports</td>\n",
       "      <td>15.61</td>\n",
       "      <td>10.93</td>\n",
       "      <td>3.28</td>\n",
       "      <td>2.95</td>\n",
       "      <td>80</td>\n",
       "      <td>8</td>\n",
       "      <td>E</td>\n",
       "      <td>32.77</td>\n",
       "    </tr>\n",
       "    <tr>\n",
       "      <td>4</td>\n",
       "      <td>Pokemon Red/Pokemon Blue</td>\n",
       "      <td>GB</td>\n",
       "      <td>1996</td>\n",
       "      <td>Role-Playing</td>\n",
       "      <td>11.27</td>\n",
       "      <td>8.89</td>\n",
       "      <td>10.22</td>\n",
       "      <td>1.00</td>\n",
       "      <td>-1</td>\n",
       "      <td>-1</td>\n",
       "      <td>no_rating</td>\n",
       "      <td>31.38</td>\n",
       "    </tr>\n",
       "  </tbody>\n",
       "</table>\n",
       "</div>"
      ],
      "text/plain": [
       "                       name platform  year         genre  na_sales  eu_sales  \\\n",
       "0                Wii Sports      Wii  2006        Sports     41.36     28.96   \n",
       "1         Super Mario Bros.      NES  1985      Platform     29.08      3.58   \n",
       "2            Mario Kart Wii      Wii  2008        Racing     15.68     12.76   \n",
       "3         Wii Sports Resort      Wii  2009        Sports     15.61     10.93   \n",
       "4  Pokemon Red/Pokemon Blue       GB  1996  Role-Playing     11.27      8.89   \n",
       "\n",
       "   jp_sales  other_sales  critic_score  user_score     rating  total_number  \n",
       "0      3.77         8.45            76           8          E         82.54  \n",
       "1      6.81         0.77            -1          -1  no_rating         40.24  \n",
       "2      3.79         3.29            82           8          E         35.52  \n",
       "3      3.28         2.95            80           8          E         32.77  \n",
       "4     10.22         1.00            -1          -1  no_rating         31.38  "
      ]
     },
     "execution_count": 51,
     "metadata": {},
     "output_type": "execute_result"
    }
   ],
   "source": [
    "#добавляем новый столбец\n",
    "games['total_number'] = games['na_sales']+games['eu_sales']+games['jp_sales']+games['other_sales']\n",
    "#выводим первые 5 строк таблицы\n",
    "games.head()"
   ]
  },
  {
   "cell_type": "markdown",
   "metadata": {},
   "source": [
    "<div class=\"alert-success\">\n",
    "<b>Комментарий ревьюера ✔️</b>\n",
    "\n",
    "Общие продажи посчитаны верно!\n",
    "\n",
    "Можно также использовать такой вариант: `df['total_sales'] = df[['na_sales','eu_sales','jp_sales', 'other_sales']].sum(axis = 1)`</div>"
   ]
  },
  {
   "cell_type": "markdown",
   "metadata": {},
   "source": [
    "<p>\n",
    "<div class=\"alert-info\">\n",
    "<b>Хорошо, спасибо за совет</b>"
   ]
  },
  {
   "cell_type": "markdown",
   "metadata": {},
   "source": [
    "# Шаг 3. Проведем исследовательский анализ данных"
   ]
  },
  {
   "cell_type": "markdown",
   "metadata": {},
   "source": [
    "## Количество игр, выпущенных в разные годы"
   ]
  },
  {
   "cell_type": "markdown",
   "metadata": {},
   "source": [
    "Посмотрим, сколько игр выпускалось в разные годы. Важны ли данные за все периоды?"
   ]
  },
  {
   "cell_type": "code",
   "execution_count": 52,
   "metadata": {
    "scrolled": true
   },
   "outputs": [
    {
     "data": {
      "text/plain": [
       "<matplotlib.axes._subplots.AxesSubplot at 0x7fbede5b5cd0>"
      ]
     },
     "execution_count": 52,
     "metadata": {},
     "output_type": "execute_result"
    },
    {
     "data": {
      "image/png": "[encoded data removed]",
      "text/plain": [
       "<Figure size 432x288 with 1 Axes>"
      ]
     },
     "metadata": {
      "needs_background": "light"
     },
     "output_type": "display_data"
    }
   ],
   "source": [
    "#строим сводную таблицу, чтобы по ней построить график\n",
    "year_p=games.pivot_table(index='year', values='name', aggfunc ='count') \n",
    "#строим общий график\n",
    "year_p.plot(style='o-', grid=True) "
   ]
  },
  {
   "cell_type": "markdown",
   "metadata": {},
   "source": [
    "Что мы видим? А видим мы, что больше всего игр было выпущено в 2008-2009 годах.\n",
    "В целом, можно сказать следующее: \n",
    "\n",
    "1) В период с 1980 по 1995 год игромая индустрия только начинала свое восхождение на Олимп\n",
    "\n",
    "2) С 1995 по 2000 годы игровая индустрия начала набирать обороты, и различные платформы стали намного чаще выпускать игры.\n",
    "\n",
    "3) С 2000 по 2009 годы наблюдался практически непрерывный рост количества выпущенных игр (без учета небольшого спада в 2003-2004 годах)\n",
    "\n",
    "4) После 2009 года наблюдается резкий спад по выпуску игр. Его можно объяснить тем, что компании, разрабатывающие игры стали больше их прорабатывать и делать их более сложными, что приводит к увеличению времени, необходимого для разработки игр. Начиная с 90-ых рынок перенасытился играми, но с 2009 начинается борьба за пользователя - компании начинают делать свои игры более уникальными и интересующими пользователей.\n",
    "\n",
    "5) Тренд на падение продолжался вплоть до 2013 года, после которого начался рост. С 2014 по 2015 год количество выпускаем за год игр немного возросло. Однако это продолжалось немного - в 2016 году снова было выпущено игр меньше, чем в прошлом году. В целом 2014-2015 годы незаметно отличались от прошлых, поэтому сложно назвать их сменой тренда. "
   ]
  },
  {
   "cell_type": "markdown",
   "metadata": {},
   "source": [
    "Поскольку нам нужен будет прогноз для 2017 года, то нас интересуют не все года, а только последние со схожей тенденцией - таковыми являются 2013-2016 год."
   ]
  },
  {
   "cell_type": "markdown",
   "metadata": {},
   "source": [
    "<div class=\"alert-success\">\n",
    "<b>Комментарий ревьюера ✔️</b>\n",
    "\n",
    "Отличные выводы и правильный выбор актуального периода для прогноза.</div>"
   ]
  },
  {
   "cell_type": "markdown",
   "metadata": {},
   "source": [
    "<p>\n",
    "<div class=\"alert-info\">\n",
    "<b>Спасибо!</b>"
   ]
  },
  {
   "cell_type": "markdown",
   "metadata": {},
   "source": [
    "## Продажи игр в зависимости от платформы"
   ]
  },
  {
   "cell_type": "markdown",
   "metadata": {},
   "source": [
    "Посмотрим, как менялись продажи по платформам. Выберем платформы с наибольшими суммарными продажами и построим распределение по годам. Это нужно для того, чтобы ответить на вопрос, за какой характерный срок появляются новые и исчезают старые платформы?"
   ]
  },
  {
   "cell_type": "markdown",
   "metadata": {},
   "source": [
    "Сначала посмотрим на суммарные продажи платформ за все время их существования и выберем самые популярные. Для этого построим сводную таблицу. Поскольку мы уже выяснили, что рост продаж игр стал наиболее заметен с 1995 года, то не будем учитывать данные до 1995 года."
   ]
  },
  {
   "cell_type": "code",
   "execution_count": 53,
   "metadata": {
    "scrolled": true
   },
   "outputs": [
    {
     "data": {
      "text/html": [
       "<div>\n",
       "<style scoped>\n",
       "    .dataframe tbody tr th:only-of-type {\n",
       "        vertical-align: middle;\n",
       "    }\n",
       "\n",
       "    .dataframe tbody tr th {\n",
       "        vertical-align: top;\n",
       "    }\n",
       "\n",
       "    .dataframe thead th {\n",
       "        text-align: right;\n",
       "    }\n",
       "</style>\n",
       "<table border=\"1\" class=\"dataframe\">\n",
       "  <thead>\n",
       "    <tr style=\"text-align: right;\">\n",
       "      <th></th>\n",
       "      <th>total_number</th>\n",
       "    </tr>\n",
       "    <tr>\n",
       "      <th>platform</th>\n",
       "      <th></th>\n",
       "    </tr>\n",
       "  </thead>\n",
       "  <tbody>\n",
       "    <tr>\n",
       "      <td>PS2</td>\n",
       "      <td>1233.56</td>\n",
       "    </tr>\n",
       "    <tr>\n",
       "      <td>X360</td>\n",
       "      <td>961.24</td>\n",
       "    </tr>\n",
       "    <tr>\n",
       "      <td>PS3</td>\n",
       "      <td>931.34</td>\n",
       "    </tr>\n",
       "    <tr>\n",
       "      <td>Wii</td>\n",
       "      <td>891.18</td>\n",
       "    </tr>\n",
       "    <tr>\n",
       "      <td>DS</td>\n",
       "      <td>802.76</td>\n",
       "    </tr>\n",
       "    <tr>\n",
       "      <td>PS</td>\n",
       "      <td>721.55</td>\n",
       "    </tr>\n",
       "    <tr>\n",
       "      <td>PS4</td>\n",
       "      <td>314.14</td>\n",
       "    </tr>\n",
       "    <tr>\n",
       "      <td>GBA</td>\n",
       "      <td>312.88</td>\n",
       "    </tr>\n",
       "    <tr>\n",
       "      <td>PSP</td>\n",
       "      <td>289.53</td>\n",
       "    </tr>\n",
       "    <tr>\n",
       "      <td>3DS</td>\n",
       "      <td>257.81</td>\n",
       "    </tr>\n",
       "    <tr>\n",
       "      <td>XB</td>\n",
       "      <td>251.57</td>\n",
       "    </tr>\n",
       "    <tr>\n",
       "      <td>PC</td>\n",
       "      <td>239.79</td>\n",
       "    </tr>\n",
       "    <tr>\n",
       "      <td>N64</td>\n",
       "      <td>218.01</td>\n",
       "    </tr>\n",
       "    <tr>\n",
       "      <td>GC</td>\n",
       "      <td>196.73</td>\n",
       "    </tr>\n",
       "    <tr>\n",
       "      <td>XOne</td>\n",
       "      <td>159.32</td>\n",
       "    </tr>\n",
       "    <tr>\n",
       "      <td>GB</td>\n",
       "      <td>139.90</td>\n",
       "    </tr>\n",
       "    <tr>\n",
       "      <td>WiiU</td>\n",
       "      <td>82.19</td>\n",
       "    </tr>\n",
       "    <tr>\n",
       "      <td>PSV</td>\n",
       "      <td>53.81</td>\n",
       "    </tr>\n",
       "    <tr>\n",
       "      <td>SNES</td>\n",
       "      <td>49.59</td>\n",
       "    </tr>\n",
       "    <tr>\n",
       "      <td>SAT</td>\n",
       "      <td>29.94</td>\n",
       "    </tr>\n",
       "    <tr>\n",
       "      <td>DC</td>\n",
       "      <td>15.95</td>\n",
       "    </tr>\n",
       "    <tr>\n",
       "      <td>WS</td>\n",
       "      <td>1.42</td>\n",
       "    </tr>\n",
       "    <tr>\n",
       "      <td>NG</td>\n",
       "      <td>0.43</td>\n",
       "    </tr>\n",
       "    <tr>\n",
       "      <td>TG16</td>\n",
       "      <td>0.16</td>\n",
       "    </tr>\n",
       "    <tr>\n",
       "      <td>3DO</td>\n",
       "      <td>0.08</td>\n",
       "    </tr>\n",
       "    <tr>\n",
       "      <td>PCFX</td>\n",
       "      <td>0.03</td>\n",
       "    </tr>\n",
       "  </tbody>\n",
       "</table>\n",
       "</div>"
      ],
      "text/plain": [
       "          total_number\n",
       "platform              \n",
       "PS2            1233.56\n",
       "X360            961.24\n",
       "PS3             931.34\n",
       "Wii             891.18\n",
       "DS              802.76\n",
       "PS              721.55\n",
       "PS4             314.14\n",
       "GBA             312.88\n",
       "PSP             289.53\n",
       "3DS             257.81\n",
       "XB              251.57\n",
       "PC              239.79\n",
       "N64             218.01\n",
       "GC              196.73\n",
       "XOne            159.32\n",
       "GB              139.90\n",
       "WiiU             82.19\n",
       "PSV              53.81\n",
       "SNES             49.59\n",
       "SAT              29.94\n",
       "DC               15.95\n",
       "WS                1.42\n",
       "NG                0.43\n",
       "TG16              0.16\n",
       "3DO               0.08\n",
       "PCFX              0.03"
      ]
     },
     "execution_count": 53,
     "metadata": {},
     "output_type": "execute_result"
    }
   ],
   "source": [
    "#строим сводную таблицу, отсортировав ее по убыванию\n",
    "new_games = games.query('year>=1995')\n",
    "new_games.pivot_table(index='platform', values='total_number', aggfunc ='sum').sort_values(by = 'total_number', ascending = False)\n"
   ]
  },
  {
   "cell_type": "markdown",
   "metadata": {},
   "source": [
    "Мы видим, сколько продала игр каждая платформа. Самой популярной платформой оказалась PS2, следом за ней X360 и PS3. Меньше всего продаж игр было для платформ TG16, 3DO, PCFX, продажи для которых в совокупности не составили и миллиона. Возьмем самые популярные платформы и построим для них распределение."
   ]
  },
  {
   "cell_type": "markdown",
   "metadata": {},
   "source": [
    "<div class=\"alert-warning\">\n",
    "<b>Комментарий ревьюера ⚠️</b>\n",
    "\n",
    "Здесь уже имеет смысл не учитывать данные до 1995 года.</div>"
   ]
  },
  {
   "cell_type": "markdown",
   "metadata": {},
   "source": [
    "<p>\n",
    "<div class=\"alert-info\">\n",
    "<b>Понял, сделаю!</b>"
   ]
  },
  {
   "cell_type": "code",
   "execution_count": 54,
   "metadata": {
    "scrolled": false
   },
   "outputs": [
    {
     "data": {
      "text/plain": [
       "<matplotlib.axes._subplots.AxesSubplot at 0x7fbede531390>"
      ]
     },
     "execution_count": 54,
     "metadata": {},
     "output_type": "execute_result"
    },
    {
     "data": {
      "image/png": "[encoded data removed]",
      "text/plain": [
       "<Figure size 720x576 with 1 Axes>"
      ]
     },
     "metadata": {
      "needs_background": "light"
     },
     "output_type": "display_data"
    }
   ],
   "source": [
    "#делаем срез для нужных платформ, по нему строим сводную таблицу, на основе которой строим графики\n",
    "new_games.query('platform == \"PS2\" or platform == \"X360\" or platform == \"PS3\" or platform == \"Wii\" or platform == \"DS\" or platform == \"PS\" or platform == \"PS4\" or platform == \"GBA\" ').pivot_table(index='year', columns ='platform', values='total_number', aggfunc ='sum').plot(figsize =(10, 8))  "
   ]
  },
  {
   "cell_type": "markdown",
   "metadata": {},
   "source": [
    "<div class=\"alert-warning\">\n",
    "<b>Комментарий ревьюера ⚠️</b>\n",
    "\n",
    "Чтобы график стал идеальным - нужно отбросить данные до 1995 года и увеличить размер графика параметром `figsize`</div>"
   ]
  },
  {
   "cell_type": "markdown",
   "metadata": {},
   "source": [
    "<p>\n",
    "<div class=\"alert-info\">\n",
    "<b>Понял, сделаю!</b>"
   ]
  },
  {
   "cell_type": "markdown",
   "metadata": {},
   "source": [
    "Мы видим, что практически каждая платформа проходит один и тот же путь:\n",
    "\n",
    "1) Появление платформы, которое как правило характеризуется низкими продажами. (первые 1-2 года)\n",
    "\n",
    "2) Развитие платформы и достижение пиков продаж \n",
    "\n",
    "3) Закат платформы, характеризующийся падением спроса и появлением новых платформ.\n",
    "\n",
    "Так, падение спроса на одни платформа порождается появлением спроса на другие. Мы видим, что количество игр для PS резко снизилось после того, как появилась PS2. Продажи игр для PS2 резко снизились после появления PS3. Продажи игр для PS3 снизились после появление PS4. При этом нужно помнить, что продажи на новые платформы не сразу достигают своих пиков и крайне высоких результатов, а примерно находятся на том же уровне, что и продажи более старых платформ, которые вытесняются новыми. \n",
    "\n",
    "Мы видим, что среднестатистическая платформа примерно за 3-5 лет достигает своих пиковых результатов, а затем на протяжении продажи игр для платформы 4-5 лет падают, практически приближаясь к 0. В итоге время жизни платформы в среднем равно 7-9 лет."
   ]
  },
  {
   "cell_type": "markdown",
   "metadata": {},
   "source": [
    "Рассчитаем среднее время жизни одной платформы, а так же посмотрим, на ситуацию с новизной платформ."
   ]
  },
  {
   "cell_type": "code",
   "execution_count": 55,
   "metadata": {
    "scrolled": true
   },
   "outputs": [
    {
     "data": {
      "text/html": [
       "<div>\n",
       "<style scoped>\n",
       "    .dataframe tbody tr th:only-of-type {\n",
       "        vertical-align: middle;\n",
       "    }\n",
       "\n",
       "    .dataframe tbody tr th {\n",
       "        vertical-align: top;\n",
       "    }\n",
       "\n",
       "    .dataframe thead th {\n",
       "        text-align: right;\n",
       "    }\n",
       "</style>\n",
       "<table border=\"1\" class=\"dataframe\">\n",
       "  <thead>\n",
       "    <tr style=\"text-align: right;\">\n",
       "      <th></th>\n",
       "      <th>max</th>\n",
       "      <th>min</th>\n",
       "      <th>live</th>\n",
       "    </tr>\n",
       "    <tr>\n",
       "      <th>platform</th>\n",
       "      <th></th>\n",
       "      <th></th>\n",
       "      <th></th>\n",
       "    </tr>\n",
       "  </thead>\n",
       "  <tbody>\n",
       "    <tr>\n",
       "      <td>2600</td>\n",
       "      <td>1989</td>\n",
       "      <td>1980</td>\n",
       "      <td>9</td>\n",
       "    </tr>\n",
       "    <tr>\n",
       "      <td>3DO</td>\n",
       "      <td>1995</td>\n",
       "      <td>1994</td>\n",
       "      <td>1</td>\n",
       "    </tr>\n",
       "    <tr>\n",
       "      <td>3DS</td>\n",
       "      <td>2016</td>\n",
       "      <td>2011</td>\n",
       "      <td>5</td>\n",
       "    </tr>\n",
       "    <tr>\n",
       "      <td>DC</td>\n",
       "      <td>2008</td>\n",
       "      <td>1998</td>\n",
       "      <td>10</td>\n",
       "    </tr>\n",
       "    <tr>\n",
       "      <td>DS</td>\n",
       "      <td>2013</td>\n",
       "      <td>1985</td>\n",
       "      <td>28</td>\n",
       "    </tr>\n",
       "    <tr>\n",
       "      <td>GB</td>\n",
       "      <td>2001</td>\n",
       "      <td>1988</td>\n",
       "      <td>13</td>\n",
       "    </tr>\n",
       "    <tr>\n",
       "      <td>GBA</td>\n",
       "      <td>2007</td>\n",
       "      <td>2000</td>\n",
       "      <td>7</td>\n",
       "    </tr>\n",
       "    <tr>\n",
       "      <td>GC</td>\n",
       "      <td>2007</td>\n",
       "      <td>2001</td>\n",
       "      <td>6</td>\n",
       "    </tr>\n",
       "    <tr>\n",
       "      <td>GEN</td>\n",
       "      <td>1994</td>\n",
       "      <td>1990</td>\n",
       "      <td>4</td>\n",
       "    </tr>\n",
       "    <tr>\n",
       "      <td>GG</td>\n",
       "      <td>1992</td>\n",
       "      <td>1992</td>\n",
       "      <td>0</td>\n",
       "    </tr>\n",
       "    <tr>\n",
       "      <td>N64</td>\n",
       "      <td>2002</td>\n",
       "      <td>1996</td>\n",
       "      <td>6</td>\n",
       "    </tr>\n",
       "    <tr>\n",
       "      <td>NES</td>\n",
       "      <td>1994</td>\n",
       "      <td>1983</td>\n",
       "      <td>11</td>\n",
       "    </tr>\n",
       "    <tr>\n",
       "      <td>NG</td>\n",
       "      <td>1996</td>\n",
       "      <td>1993</td>\n",
       "      <td>3</td>\n",
       "    </tr>\n",
       "    <tr>\n",
       "      <td>PC</td>\n",
       "      <td>2016</td>\n",
       "      <td>1985</td>\n",
       "      <td>31</td>\n",
       "    </tr>\n",
       "    <tr>\n",
       "      <td>PCFX</td>\n",
       "      <td>1996</td>\n",
       "      <td>1996</td>\n",
       "      <td>0</td>\n",
       "    </tr>\n",
       "    <tr>\n",
       "      <td>PS</td>\n",
       "      <td>2003</td>\n",
       "      <td>1994</td>\n",
       "      <td>9</td>\n",
       "    </tr>\n",
       "    <tr>\n",
       "      <td>PS2</td>\n",
       "      <td>2011</td>\n",
       "      <td>2000</td>\n",
       "      <td>11</td>\n",
       "    </tr>\n",
       "    <tr>\n",
       "      <td>PS3</td>\n",
       "      <td>2016</td>\n",
       "      <td>2006</td>\n",
       "      <td>10</td>\n",
       "    </tr>\n",
       "    <tr>\n",
       "      <td>PS4</td>\n",
       "      <td>2016</td>\n",
       "      <td>2013</td>\n",
       "      <td>3</td>\n",
       "    </tr>\n",
       "    <tr>\n",
       "      <td>PSP</td>\n",
       "      <td>2015</td>\n",
       "      <td>2004</td>\n",
       "      <td>11</td>\n",
       "    </tr>\n",
       "    <tr>\n",
       "      <td>PSV</td>\n",
       "      <td>2016</td>\n",
       "      <td>2011</td>\n",
       "      <td>5</td>\n",
       "    </tr>\n",
       "    <tr>\n",
       "      <td>SAT</td>\n",
       "      <td>1999</td>\n",
       "      <td>1994</td>\n",
       "      <td>5</td>\n",
       "    </tr>\n",
       "    <tr>\n",
       "      <td>SCD</td>\n",
       "      <td>1994</td>\n",
       "      <td>1993</td>\n",
       "      <td>1</td>\n",
       "    </tr>\n",
       "    <tr>\n",
       "      <td>SNES</td>\n",
       "      <td>1999</td>\n",
       "      <td>1990</td>\n",
       "      <td>9</td>\n",
       "    </tr>\n",
       "    <tr>\n",
       "      <td>TG16</td>\n",
       "      <td>1995</td>\n",
       "      <td>1995</td>\n",
       "      <td>0</td>\n",
       "    </tr>\n",
       "    <tr>\n",
       "      <td>WS</td>\n",
       "      <td>2001</td>\n",
       "      <td>1999</td>\n",
       "      <td>2</td>\n",
       "    </tr>\n",
       "    <tr>\n",
       "      <td>Wii</td>\n",
       "      <td>2016</td>\n",
       "      <td>2006</td>\n",
       "      <td>10</td>\n",
       "    </tr>\n",
       "    <tr>\n",
       "      <td>WiiU</td>\n",
       "      <td>2016</td>\n",
       "      <td>2012</td>\n",
       "      <td>4</td>\n",
       "    </tr>\n",
       "    <tr>\n",
       "      <td>X360</td>\n",
       "      <td>2016</td>\n",
       "      <td>2005</td>\n",
       "      <td>11</td>\n",
       "    </tr>\n",
       "    <tr>\n",
       "      <td>XB</td>\n",
       "      <td>2008</td>\n",
       "      <td>2000</td>\n",
       "      <td>8</td>\n",
       "    </tr>\n",
       "    <tr>\n",
       "      <td>XOne</td>\n",
       "      <td>2016</td>\n",
       "      <td>2013</td>\n",
       "      <td>3</td>\n",
       "    </tr>\n",
       "  </tbody>\n",
       "</table>\n",
       "</div>"
      ],
      "text/plain": [
       "           max   min  live\n",
       "platform                  \n",
       "2600      1989  1980     9\n",
       "3DO       1995  1994     1\n",
       "3DS       2016  2011     5\n",
       "DC        2008  1998    10\n",
       "DS        2013  1985    28\n",
       "GB        2001  1988    13\n",
       "GBA       2007  2000     7\n",
       "GC        2007  2001     6\n",
       "GEN       1994  1990     4\n",
       "GG        1992  1992     0\n",
       "N64       2002  1996     6\n",
       "NES       1994  1983    11\n",
       "NG        1996  1993     3\n",
       "PC        2016  1985    31\n",
       "PCFX      1996  1996     0\n",
       "PS        2003  1994     9\n",
       "PS2       2011  2000    11\n",
       "PS3       2016  2006    10\n",
       "PS4       2016  2013     3\n",
       "PSP       2015  2004    11\n",
       "PSV       2016  2011     5\n",
       "SAT       1999  1994     5\n",
       "SCD       1994  1993     1\n",
       "SNES      1999  1990     9\n",
       "TG16      1995  1995     0\n",
       "WS        2001  1999     2\n",
       "Wii       2016  2006    10\n",
       "WiiU      2016  2012     4\n",
       "X360      2016  2005    11\n",
       "XB        2008  2000     8\n",
       "XOne      2016  2013     3"
      ]
     },
     "execution_count": 55,
     "metadata": {},
     "output_type": "execute_result"
    }
   ],
   "source": [
    "#строим сводную таблицу\n",
    "pl_piv = games.pivot_table(index='platform', values='year', aggfunc =['max','min'])\n",
    "#переименовываем столбцы\n",
    "pl_piv.columns = ['max', 'min']\n",
    "#ищем время жизни платформы\n",
    "pl_piv['live'] = pl_piv['max']- pl_piv['min']\n",
    "#выводим таблицу на экран\n",
    "pl_piv"
   ]
  },
  {
   "cell_type": "markdown",
   "metadata": {},
   "source": [
    "Теперь рассчитываем среднее время жизни платформы с помощью методов mean() и median()"
   ]
  },
  {
   "cell_type": "code",
   "execution_count": 56,
   "metadata": {},
   "outputs": [
    {
     "data": {
      "text/plain": [
       "7.612903225806452"
      ]
     },
     "execution_count": 56,
     "metadata": {},
     "output_type": "execute_result"
    }
   ],
   "source": [
    "#среднее время жизни\n",
    "pl_piv['live'].mean()"
   ]
  },
  {
   "cell_type": "code",
   "execution_count": 57,
   "metadata": {},
   "outputs": [
    {
     "data": {
      "text/plain": [
       "6.0"
      ]
     },
     "execution_count": 57,
     "metadata": {},
     "output_type": "execute_result"
    }
   ],
   "source": [
    "#медианное время жизни\n",
    "pl_piv['live'].median()"
   ]
  },
  {
   "cell_type": "markdown",
   "metadata": {},
   "source": [
    "Наши предположения, которые мы высказали при работе с графиками в целом подтвердились - среднее время существования одной платформы составляет около 6-8 лет. По истечению же этого срока появляется новая платформа, которая перетягивает игры на себя."
   ]
  },
  {
   "cell_type": "markdown",
   "metadata": {},
   "source": [
    "<div class=\"alert-success\">\n",
    "<b>Комментарий ревьюера ✔️</b>\n",
    "\n",
    "Средний жизненный цикл платформ определен верно! </div>"
   ]
  },
  {
   "cell_type": "markdown",
   "metadata": {},
   "source": [
    "<p>\n",
    "<div class=\"alert-info\">\n",
    "<b>Спасибо!</b>"
   ]
  },
  {
   "cell_type": "code",
   "execution_count": 58,
   "metadata": {},
   "outputs": [
    {
     "data": {
      "text/html": [
       "<div>\n",
       "<style scoped>\n",
       "    .dataframe tbody tr th:only-of-type {\n",
       "        vertical-align: middle;\n",
       "    }\n",
       "\n",
       "    .dataframe tbody tr th {\n",
       "        vertical-align: top;\n",
       "    }\n",
       "\n",
       "    .dataframe thead th {\n",
       "        text-align: right;\n",
       "    }\n",
       "</style>\n",
       "<table border=\"1\" class=\"dataframe\">\n",
       "  <thead>\n",
       "    <tr style=\"text-align: right;\">\n",
       "      <th></th>\n",
       "      <th>max</th>\n",
       "      <th>min</th>\n",
       "      <th>live</th>\n",
       "    </tr>\n",
       "    <tr>\n",
       "      <th>platform</th>\n",
       "      <th></th>\n",
       "      <th></th>\n",
       "      <th></th>\n",
       "    </tr>\n",
       "  </thead>\n",
       "  <tbody>\n",
       "    <tr>\n",
       "      <td>3DS</td>\n",
       "      <td>2016</td>\n",
       "      <td>2011</td>\n",
       "      <td>5</td>\n",
       "    </tr>\n",
       "    <tr>\n",
       "      <td>PC</td>\n",
       "      <td>2016</td>\n",
       "      <td>1985</td>\n",
       "      <td>31</td>\n",
       "    </tr>\n",
       "    <tr>\n",
       "      <td>PS3</td>\n",
       "      <td>2016</td>\n",
       "      <td>2006</td>\n",
       "      <td>10</td>\n",
       "    </tr>\n",
       "    <tr>\n",
       "      <td>PS4</td>\n",
       "      <td>2016</td>\n",
       "      <td>2013</td>\n",
       "      <td>3</td>\n",
       "    </tr>\n",
       "    <tr>\n",
       "      <td>PSV</td>\n",
       "      <td>2016</td>\n",
       "      <td>2011</td>\n",
       "      <td>5</td>\n",
       "    </tr>\n",
       "    <tr>\n",
       "      <td>Wii</td>\n",
       "      <td>2016</td>\n",
       "      <td>2006</td>\n",
       "      <td>10</td>\n",
       "    </tr>\n",
       "    <tr>\n",
       "      <td>WiiU</td>\n",
       "      <td>2016</td>\n",
       "      <td>2012</td>\n",
       "      <td>4</td>\n",
       "    </tr>\n",
       "    <tr>\n",
       "      <td>X360</td>\n",
       "      <td>2016</td>\n",
       "      <td>2005</td>\n",
       "      <td>11</td>\n",
       "    </tr>\n",
       "    <tr>\n",
       "      <td>XOne</td>\n",
       "      <td>2016</td>\n",
       "      <td>2013</td>\n",
       "      <td>3</td>\n",
       "    </tr>\n",
       "  </tbody>\n",
       "</table>\n",
       "</div>"
      ],
      "text/plain": [
       "           max   min  live\n",
       "platform                  \n",
       "3DS       2016  2011     5\n",
       "PC        2016  1985    31\n",
       "PS3       2016  2006    10\n",
       "PS4       2016  2013     3\n",
       "PSV       2016  2011     5\n",
       "Wii       2016  2006    10\n",
       "WiiU      2016  2012     4\n",
       "X360      2016  2005    11\n",
       "XOne      2016  2013     3"
      ]
     },
     "execution_count": 58,
     "metadata": {},
     "output_type": "execute_result"
    }
   ],
   "source": [
    "#найдем актуальные до 2016 года платформы\n",
    "new = pl_piv['max'].max()\n",
    "pl_piv.loc[pl_piv['max']==new]"
   ]
  },
  {
   "cell_type": "markdown",
   "metadata": {},
   "source": [
    "Как мы видим, практически все платформы, актуальные для 2016 года являются либо еще молодыми, не прошедшими и половину жизненного цикла платформы, либо очень старыми, которые держатся на рынке в 2 раза дольше обычных платформ. Поэтому появление новой платформы, которая может исказить результаты исследования для 2017 года не предвидится, как и исчезновение старой, ну или это исчезновение будет незаметным. Так же как мы помним, новая платформа в первый год своего появления не сразу достигает пика. Поэтому можно предположить, что в 2017 году будет актуален тренд, который был характерен для 2016. "
   ]
  },
  {
   "cell_type": "markdown",
   "metadata": {},
   "source": [
    "## Выбор актуального периода"
   ]
  },
  {
   "cell_type": "markdown",
   "metadata": {},
   "source": [
    "Исходя из графика, показывающего количество выпущенных игр в различные годы, и анализа продаж игр по платформам, можно определить актуальный период, который нам спланировать кампанию за 2017 год и сделать прогноз для него."
   ]
  },
  {
   "cell_type": "markdown",
   "metadata": {},
   "source": [
    "Возьмем за актуальный период 2014-2016 годы. Вот почему:\n",
    "1) На графике количества выпускаемых игр период от 2014 года до 2016 года характеризовался сменой тренда непрерывного падения количества выпускаемых игр, который завершился появлением нового тренда на падение.\n",
    "\n",
    "2) Одна из самых популярных платформ PS4 появилась в 2013 году и никак не меняла тренд падения продаж игр, поскольку в первый год появления платформы, она не так много охватывает игр, но в последующие начинает активно развиваться. PS4 еще не прошла свой жизненный цикл и в 2017 году еще будет занимать большую долю игр. Снижение же количества проданных игр обосновано тем, что их стало меньше выпускаться. Полагается, что до конца жизненного цикла PS4 еще далеко и 2017 год пройдет под эгидой данной платформы. Появление же новых игровых платформ не предвидится. В 2014 году так же ушли или практически ушли все крупные платформы, занимавшие рынок с 2005 по 2014.\n",
    "\n",
    "3) Для прогноза нового года не нужно много данных - нужно небольшое количества \"свежих\" данных."
   ]
  },
  {
   "cell_type": "markdown",
   "metadata": {},
   "source": [
    "<div class=\"alert-success\">\n",
    "<b>Комментарий ревьюера ✔️</b>\n",
    "\n",
    "Да, для такой динамичной отрасли как видеоигры, брать для прогноза период более 3-4 лет не имеет смысла.</div>"
   ]
  },
  {
   "cell_type": "markdown",
   "metadata": {},
   "source": [
    "<p>\n",
    "<div class=\"alert-info\">\n",
    "<b>Я так и сделал! Сначала сомневался, брать ли данные за 2013 и 2014 год. Решил оставить только 2014, чтобы была сформирована тенденция</b>"
   ]
  },
  {
   "cell_type": "markdown",
   "metadata": {},
   "source": [
    "Теперь сделаем срез по актуальным годам."
   ]
  },
  {
   "cell_type": "code",
   "execution_count": 59,
   "metadata": {},
   "outputs": [],
   "source": [
    "#срез по актуальным данным\n",
    "df =games.query('year>2013')"
   ]
  },
  {
   "cell_type": "markdown",
   "metadata": {},
   "source": [
    "## Изучение актуального период"
   ]
  },
  {
   "cell_type": "markdown",
   "metadata": {},
   "source": [
    "На данному этапе нам предстоит более детально поработать с актуальным периодом и:\n",
    "\n",
    "1) выявить, какие платформы лидируют по продажам, растут или падают. Среди них найти наиболее прибыльные.\n",
    "\n",
    "2) построить график «ящик с усами» по глобальным продажам игр в разбивке по платформам, который позволит избавиться от выбросов, которые могут исказить прогноз на 2017 год.\n",
    "\n",
    "3) изучить влияние внутри одной популярной платформы отзывы пользователей и критиков на продажи игры с помощью диаграммы рассеяния и нахождения коэффициента корреляции. Затем соотнести выводы с другими платформами.\n",
    "\n",
    "4) изучить общее распределение игр по жанрам и найти самые прибыльные из них."
   ]
  },
  {
   "cell_type": "markdown",
   "metadata": {},
   "source": [
    "### Прибыль платформ"
   ]
  },
  {
   "cell_type": "markdown",
   "metadata": {},
   "source": [
    "Начнем с первого пункта задуманного плана и изучим продажи игр по платформам за актуальный период."
   ]
  },
  {
   "cell_type": "code",
   "execution_count": 60,
   "metadata": {
    "scrolled": false
   },
   "outputs": [
    {
     "data": {
      "text/plain": [
       "<matplotlib.axes._subplots.AxesSubplot at 0x7fbede450fd0>"
      ]
     },
     "execution_count": 60,
     "metadata": {},
     "output_type": "execute_result"
    },
    {
     "data": {
      "image/png": "[encoded data removed]",
      "text/plain": [
       "<Figure size 720x360 with 1 Axes>"
      ]
     },
     "metadata": {
      "needs_background": "light"
     },
     "output_type": "display_data"
    }
   ],
   "source": [
    "#смотрим на распределение продаж\n",
    "df.pivot_table(index='platform', values='total_number', aggfunc='sum').sort_values(by = 'total_number', ascending = False).plot(y ='total_number', kind='bar', figsize = (10, 5))"
   ]
  },
  {
   "cell_type": "markdown",
   "metadata": {},
   "source": [
    "<div class=\"alert-warning\">\n",
    "<b>Комментарий ревьюера ⚠️</b>\n",
    "\n",
    "Я бы тут на графике отсортировал их по убыванию, для удобства восприятия.</div>"
   ]
  },
  {
   "cell_type": "markdown",
   "metadata": {},
   "source": [
    "<p>\n",
    "<div class=\"alert-info\">\n",
    "<b>Будет сделано!</b>"
   ]
  },
  {
   "cell_type": "markdown",
   "metadata": {},
   "source": [
    "<div class=\"alert-success\">\n",
    "<b>Комментарий ревьюера V2 ✔️</b>\n",
    "\n",
    "Отлично! 👍</div>"
   ]
  },
  {
   "cell_type": "code",
   "execution_count": 91,
   "metadata": {
    "scrolled": false
   },
   "outputs": [
    {
     "data": {
      "text/plain": [
       "<matplotlib.axes._subplots.AxesSubplot at 0x7fbeddf1a5d0>"
      ]
     },
     "execution_count": 91,
     "metadata": {},
     "output_type": "execute_result"
    },
    {
     "data": {
      "image/png": "[encoded data removed]",
      "text/plain": [
       "<Figure size 720x432 with 1 Axes>"
      ]
     },
     "metadata": {},
     "output_type": "display_data"
    }
   ],
   "source": [
    "#смотрим на распределение продаж\n",
    "df.pivot_table(index='platform', values='total_number', aggfunc='sum').plot(y ='total_number', kind='pie', figsize = (10, 6), autopct='%.0f%%')"
   ]
  },
  {
   "cell_type": "markdown",
   "metadata": {},
   "source": [
    "<div class=\"alert-success\">\n",
    "<b>Комментарий ревьюера ✔️</b>\n",
    "\n",
    "Здесь можно добавить проценты параметром `autopct`</div>"
   ]
  },
  {
   "cell_type": "markdown",
   "metadata": {},
   "source": [
    "<p>\n",
    "<div class=\"alert-info\">\n",
    "<b>Спасибо за совет!</b>"
   ]
  },
  {
   "cell_type": "markdown",
   "metadata": {},
   "source": [
    "Мы видим, какие платформы занимают большую долю по проданным играм. Теперь смотрим на то, как изменились продажи платформ по годам"
   ]
  },
  {
   "cell_type": "code",
   "execution_count": 62,
   "metadata": {
    "scrolled": true
   },
   "outputs": [
    {
     "data": {
      "text/plain": [
       "<matplotlib.axes._subplots.AxesSubplot at 0x7fbede339310>"
      ]
     },
     "execution_count": 62,
     "metadata": {},
     "output_type": "execute_result"
    },
    {
     "data": {
      "image/png": "[encoded data removed]",
      "text/plain": [
       "<Figure size 432x288 with 1 Axes>"
      ]
     },
     "metadata": {
      "needs_background": "light"
     },
     "output_type": "display_data"
    }
   ],
   "source": [
    "#строим график распределения продаж по платформам\n",
    "df.pivot_table(index='year', columns ='platform', values='total_number', aggfunc ='sum').plot() "
   ]
  },
  {
   "cell_type": "markdown",
   "metadata": {},
   "source": [
    "Также построим более подробный график"
   ]
  },
  {
   "cell_type": "code",
   "execution_count": 63,
   "metadata": {
    "scrolled": true
   },
   "outputs": [
    {
     "data": {
      "image/png": "[encoded data removed]",
      "text/plain": [
       "<Figure size 432x288 with 1 Axes>"
      ]
     },
     "metadata": {
      "needs_background": "light"
     },
     "output_type": "display_data"
    }
   ],
   "source": [
    "#строим каждый график по-отдельности, отмечая года точками\n",
    "for x in df['platform'].unique():\n",
    "    df.loc[df['platform'] == x].groupby('year')['total_number'].sum().plot(style='o--',  grid=True, label=x, legend=True) "
   ]
  },
  {
   "cell_type": "markdown",
   "metadata": {},
   "source": [
    "**Вывод**"
   ]
  },
  {
   "cell_type": "markdown",
   "metadata": {},
   "source": [
    "На первый взгляд мы видим, что все платформы за актуальный период падают по продажам игр, что свидетельствует о том, что они уже достигли своих пиков и теяют популярность. Ни одна из платформ не растет по продажам. Однако все не так просто! Данные за 2016 год могут быть неполными, значит о падении продаж мы говорить не можем. Мы можем лишь проследить самые продаваемые платформы.\n",
    "\n",
    "Мы видим, что самыми потенциально прибыльными среди всех представленных платформ являются:\n",
    "1) `PS4` (120 миллионов проданных игр на пике)\n",
    "\n",
    "2) `XOne` (60 миллионов проданных игр на пике) \n",
    "\n",
    "3) `3DS` (30 миллионов проданных игр на пике).\n",
    "\n",
    "Продажи на этих платформах отличаются ото всех других платформ. Остальные же платформы продавали примерно одинаковое количество игр за актуальный период. Поэтому можно предположить, что данные 3 платформы в 2017 году будут показывать более высокие продажи, чем остальные платформы."
   ]
  },
  {
   "cell_type": "markdown",
   "metadata": {},
   "source": [
    "<div class=\"alert-warning\">\n",
    "<b>Комментарий ревьюера ⚠️</b>\n",
    "\n",
    "В задании сказано, что данные за 2016 год могут быть неполными, значит о падении продаж мы говорить не можем.</div>"
   ]
  },
  {
   "cell_type": "markdown",
   "metadata": {},
   "source": [
    "<p>\n",
    "<div class=\"alert-info\">\n",
    "<b>Понял, принял!</b>"
   ]
  },
  {
   "cell_type": "markdown",
   "metadata": {},
   "source": [
    "### Работа с выбросами "
   ]
  },
  {
   "cell_type": "markdown",
   "metadata": {},
   "source": [
    "Теперь нам предстоит построить график «ящик с усами» по глобальным продажам игр в разбивке по платформам."
   ]
  },
  {
   "cell_type": "code",
   "execution_count": 64,
   "metadata": {},
   "outputs": [
    {
     "data": {
      "text/plain": [
       "(0, 2)"
      ]
     },
     "execution_count": 64,
     "metadata": {},
     "output_type": "execute_result"
    },
    {
     "data": {
      "image/png": "[encoded data removed]",
      "text/plain": [
       "<Figure size 1080x576 with 1 Axes>"
      ]
     },
     "metadata": {
      "needs_background": "light"
     },
     "output_type": "display_data"
    }
   ],
   "source": [
    "# строим диаграмму размаха\n",
    "plt.figure(figsize=(15,8))\n",
    "(sns.boxplot(data = df, y = 'total_number', x='platform').set(title ='RTR'))\n",
    "plt.ylim(0, 2)"
   ]
  },
  {
   "cell_type": "markdown",
   "metadata": {},
   "source": [
    "**Вывод**"
   ]
  },
  {
   "cell_type": "markdown",
   "metadata": {},
   "source": [
    "Мы видим, что большая часть значений для всех платформ лежит в диапазоне до 1 миллиона проданных игр. Так же видны выбросы, от которых можно избавиться.\n",
    "\n",
    "Верхний ус для `PS4` заканчивается около **1.55** миллионов проданных игр — это 1,5 межквартильного размаха, добавленного к 3-му квартилю. Это ориентировочная граница нормального размаха. Всё, что лежит за ней, считается выбросом. Более высокие значения рисуются отдельными точками, но сливаются в единую жирную линию: таких выбросов очень много. И всё же значения, которые отсёк верхний «ус», — редкие. Видно, насколько медиана (линия) не стремится к длинному хвосту высоких значений. Медианное количество проданных игр составляет около **0.2** миллиона игр. Следовательно в среднем данная платформа продавала именно столько игр.\n",
    "\n",
    "Верхний ус для `3DS` заканчивается около **0.6** миллионов проданных игр — это 1,5 межквартильного размаха, добавленного к 3-му квартилю. Это ориентировочная граница нормального размаха. Всё, что лежит за ней, считается выбросом. Более высокие значения рисуются отдельными точками, но сливаются в единую жирную линию: таких выбросов очень много. И всё же значения, которые отсёк верхний «ус», — редкие. Видно, насколько медиана (линия) не стремится к длинному хвосту высоких значений.Медианное количество проданных игр составляет около 0.15 миллиона игр. Следовательно в среднем данная платформа продавала именно столько игр.\n",
    "\n",
    "Верхний ус для `XOne` заканчивается около **1.5** миллионов проданных игр — это 1,5 межквартильного размаха, добавленного к 3-му квартилю. Это ориентировочная граница нормального размаха. Всё, что лежит за ней, считается выбросом. Более высокие значения рисуются отдельными точками, но сливаются в единую жирную линию: таких выбросов очень много. И всё же значения, которые отсёк верхний «ус», — редкие. Видно, насколько медиана (линия) не стремится к длинному хвосту высоких значений.Медианное количество проданных игр составляет около **0.2** миллиона игр. Следовательно в среднем данная платформа продавала именно столько игр.\n",
    "\n",
    "Верхний ус для `WiiU` заканчивается около **1.3** миллионов проданных игр — это 1,5 межквартильного размаха, добавленного к 3-му квартилю. Это ориентировочная граница нормального размаха. Всё, что лежит за ней, считается выбросом. Более высокие значения рисуются отдельными точками, но сливаются в единую жирную линию: таких выбросов очень много. И всё же значения, которые отсёк верхний «ус», — редкие. Видно, насколько медиана (линия) не стремится к длинному хвосту высоких значений.Медианное количество проданных игр составляет около **0.2** миллиона игр. Следовательно в среднем данная платформа продавала именно столько игр.\n",
    "\n",
    "Верхний ус для `PS3` заканчивается около **0.75** миллионов проданных игр — это 1,5 межквартильного размаха, добавленного к 3-му квартилю. Это ориентировочная граница нормального размаха. Всё, что лежит за ней, считается выбросом. Более высокие значения рисуются отдельными точками, но сливаются в единую жирную линию: таких выбросов очень много. И всё же значения, которые отсёк верхний «ус», — редкие. Видно, насколько медиана (линия) не стремится к длинному хвосту высоких значений.Медианное количество проданных игр составляет около **0.15** миллиона игр. Следовательно в среднем данная платформа продавала именно столько игр.\n",
    "\n",
    "Верхний ус для `X360` заканчивается около **1.2** миллионов проданных игр — это 1,5 межквартильного размаха, добавленного к 3-му квартилю. Это ориентировочная граница нормального размаха. Всё, что лежит за ней, считается выбросом. Более высокие значения рисуются отдельными точками, но сливаются в единую жирную линию: таких выбросов очень много. И всё же значения, которые отсёк верхний «ус», — редкие. Видно, насколько медиана (линия) не стремится к длинному хвосту высоких значений.Медианное количество проданных игр составляет около **0.2** миллиона игр. Следовательно в среднем данная платформа продавала именно столько игр.\n",
    "\n",
    "Верхний ус для `PC` заканчивается около **0.5** миллионов проданных игр — это 1,5 межквартильного размаха, добавленного к 3-му квартилю. Это ориентировочная граница нормального размаха. Всё, что лежит за ней, считается выбросом. Более высокие значения рисуются отдельными точками, но сливаются в единую жирную линию: таких выбросов очень много. И всё же значения, которые отсёк верхний «ус», — редкие. Видно, насколько медиана (линия) не стремится к длинному хвосту высоких значений.Медианное количество проданных игр составляет около **0.15** миллиона игр. Следовательно в среднем данная платформа продавала именно столько игр.\n",
    "\n",
    "Верхний ус для `Wii` заканчивается около **1.0** миллиона проданных игр — это 1,5 межквартильного размаха, добавленного к 3-му квартилю. Это ориентировочная граница нормального размаха. Всё, что лежит за ней, считается выбросом. Более высокие значения рисуются отдельными точками, но сливаются в единую жирную линию: таких выбросов очень много. И всё же значения, которые отсёк верхний «ус», — редкие. Видно, насколько медиана (линия) не стремится к длинному хвосту высоких значений.Медианное количество проданных игр составляет около **0.2** миллиона игр. Следовательно в среднем данная платформа продавала именно столько игр.\n",
    "\n",
    "Верхний ус для `PSV` заканчивается около **0.25** миллионов проданных игр — это 1,5 межквартильного размаха, добавленного к 3-му квартилю. Это ориентировочная граница нормального размаха. Всё, что лежит за ней, считается выбросом. Более высокие значения рисуются отдельными точками, но сливаются в единую жирную линию: таких выбросов очень много. И всё же значения, которые отсёк верхний «ус», — редкие. Видно, насколько медиана (линия) не стремится к длинному хвосту высоких значений.Медианное количество проданных игр составляет около **0.14** миллиона игр. Следовательно в среднем данная платформа продавала именно столько игр.\n",
    "\n",
    "Верхний ус для `PSP` заканчивается около **0.1** миллиона проданных игр — это 1,5 межквартильного размаха, добавленного к 3-му квартилю. Это ориентировочная граница нормального размаха. Всё, что лежит за ней, считается выбросом. Более высокие значения рисуются отдельными точками, но сливаются в единую жирную линию: таких выбросов очень много. И всё же значения, которые отсёк верхний «ус», — редкие. Видно, насколько медиана (линия) не стремится к длинному хвосту высоких значений.Медианное количество проданных игр составляет около **0.1** миллиона игр. Следовательно в среднем данная платформа продавала именно столько игр."
   ]
  },
  {
   "cell_type": "markdown",
   "metadata": {},
   "source": [
    "Мы видим, что в среднем платформы за актуальный период продали одинаковое количество игр, если не считатать некоторые исключения. Избавимся от выбросов."
   ]
  },
  {
   "cell_type": "markdown",
   "metadata": {},
   "source": [
    "<div class=\"alert-success\">\n",
    "<b>Комментарий ревьюера ✔️</b>\n",
    "\n",
    "График ящики с усами построен верно и получился достаточно наглядным. Описание графика правильное.</div>"
   ]
  },
  {
   "cell_type": "markdown",
   "metadata": {},
   "source": [
    "<p>\n",
    "<div class=\"alert-info\">\n",
    "<b>Благодарю!</b>"
   ]
  },
  {
   "cell_type": "markdown",
   "metadata": {},
   "source": [
    "### Зависимость продаж игр от оценок критиков и пользователей"
   ]
  },
  {
   "cell_type": "markdown",
   "metadata": {},
   "source": [
    "Теперь нам нужно изучить влияние отзывов пользователей и критиков на продажи игр."
   ]
  },
  {
   "cell_type": "markdown",
   "metadata": {},
   "source": [
    "Самой популярной платформой является PS4. Поэтому будем изучать зависимость продаж игр для этой платформы в зависимости от оценок пользователей и критиков. Сначала построим диаграмму рассеяния, а затем высчитаем коэффициент корреляции. При этом не будем учитывать игры, которые остались без оценки."
   ]
  },
  {
   "cell_type": "code",
   "execution_count": 65,
   "metadata": {
    "scrolled": true
   },
   "outputs": [
    {
     "data": {
      "text/plain": [
       "<matplotlib.axes._subplots.AxesSubplot at 0x7fbeddd894d0>"
      ]
     },
     "execution_count": 65,
     "metadata": {},
     "output_type": "execute_result"
    },
    {
     "data": {
      "image/png": "[encoded data removed]",
      "text/plain": [
       "<Figure size 432x288 with 1 Axes>"
      ]
     },
     "metadata": {
      "needs_background": "light"
     },
     "output_type": "display_data"
    }
   ],
   "source": [
    "#таблица для PS4\n",
    "df3 = df.query('platform == \"PS4\" and critic_score!=-1 and user_score!=-1')\n",
    "#строим диаграмму рассеяния\n",
    "df.plot(x='critic_score', y='total_number', kind='scatter', alpha=0.2) "
   ]
  },
  {
   "cell_type": "markdown",
   "metadata": {},
   "source": [
    "Сложно говорить о наличии зависимости в связи с небольшим количеством рассматриваемых игр. Однако, мы видим, что игры с низкими оценками критиков крайне редко превышали по продажам 0.4 миллиноа. В то время как игры с более высокими оценками продавались больше, в частности многие из них продавались в количестве более 0.4 миллинона. Посмотрим, что нам скажет коэффициент корреляции. Значит, зависимость есть, но она не очень сильная."
   ]
  },
  {
   "cell_type": "code",
   "execution_count": 66,
   "metadata": {
    "scrolled": true
   },
   "outputs": [
    {
     "data": {
      "text/plain": [
       "0.40190287811475334"
      ]
     },
     "execution_count": 66,
     "metadata": {},
     "output_type": "execute_result"
    }
   ],
   "source": [
    "#рассчитываем коэффициент корреляции\n",
    "df3['critic_score'].corr(df3['total_number'])"
   ]
  },
  {
   "cell_type": "markdown",
   "metadata": {},
   "source": [
    "Наши предположения подтвердились. Продажа игр зависят от оценки критиков, но этзависимость эта не сильная. "
   ]
  },
  {
   "cell_type": "markdown",
   "metadata": {},
   "source": [
    "Теперь посмотрим на зависимость продаж игр от оценок пользователей."
   ]
  },
  {
   "cell_type": "code",
   "execution_count": 67,
   "metadata": {},
   "outputs": [
    {
     "data": {
      "text/plain": [
       "<matplotlib.axes._subplots.AxesSubplot at 0x7fbeddfab8d0>"
      ]
     },
     "execution_count": 67,
     "metadata": {},
     "output_type": "execute_result"
    },
    {
     "data": {
      "image/png": "[encoded data removed]",
      "text/plain": [
       "<Figure size 432x288 with 1 Axes>"
      ]
     },
     "metadata": {
      "needs_background": "light"
     },
     "output_type": "display_data"
    }
   ],
   "source": [
    "#строим диаграмму рассеяния\n",
    "df3.plot(x='user_score', y='total_number', kind='scatter', alpha=0.3) "
   ]
  },
  {
   "cell_type": "markdown",
   "metadata": {},
   "source": [
    "Мы видим, что самые продаваемые игры имели оценку от 6 и до 8. При этом же игры, получившие оценку 8 могли продаваться и очень плохо. Если и есть зависимость между данными величинами, то она крайне слабая, потому что игры с высокими оценками могли плохо продаваться, а игры с низкими оценками могли продаваться неплохо. Например, большинство игр, получивших 7 баллов подавались лучше, чем игры, получившие 8 баллов. Посмотрим на коэффициент корреляции."
   ]
  },
  {
   "cell_type": "code",
   "execution_count": 68,
   "metadata": {},
   "outputs": [
    {
     "data": {
      "text/plain": [
       "-0.03084430868979202"
      ]
     },
     "execution_count": 68,
     "metadata": {},
     "output_type": "execute_result"
    }
   ],
   "source": [
    "#рассчитываем коэффициент корреляции\n",
    "df3['user_score'].corr(df3['total_number'])"
   ]
  },
  {
   "cell_type": "markdown",
   "metadata": {},
   "source": [
    "Да, зависимость продаж игр от оценок пользователей крайне мала - можно сказать, что ее практически нет."
   ]
  },
  {
   "cell_type": "markdown",
   "metadata": {},
   "source": [
    "<div class=\"alert-success\">\n",
    "<b>Комментарий ревьюера ✔️</b>\n",
    "\n",
    "Вывод верный.</div>"
   ]
  },
  {
   "cell_type": "markdown",
   "metadata": {},
   "source": [
    "<p>\n",
    "<div class=\"alert-info\">\n",
    "<b>Благодарю!</b>"
   ]
  },
  {
   "cell_type": "markdown",
   "metadata": {},
   "source": [
    "<div class=\"alert-warning\">\n",
    "<b>Комментарий ревьюера V2 ⚠️</b>\n",
    "\n",
    "Что-то я проглядел на первом ревью, обрати внимание с чем ты смотришь корреляцию. Нужно смотреть продажи.</div>"
   ]
  },
  {
   "cell_type": "markdown",
   "metadata": {},
   "source": [
    "<div class=\"alert-info\">\n",
    "<b>Комментарий студента</b>\n",
    "\n",
    "Так я и и нашел зависимость между количеством проданных игр и оценок пользователей. Столбец 'total_number' содержит суммарные продажи! </div>"
   ]
  },
  {
   "cell_type": "markdown",
   "metadata": {},
   "source": [
    "**Вывод**"
   ]
  },
  {
   "cell_type": "markdown",
   "metadata": {},
   "source": [
    "Продажи игр для PS4 зависят от оценок критиков, но слабо. Можно это объяснить тем, что определенная часть игроков при покупке игры опирается на мнение критиков. В это же время продажи практически не зависят от оценок пользователей. Обяъясняется это тем, что пользователи ставят оценку уже после того, как купят игру, поэтому их оценка не повлияет на продажи игр."
   ]
  },
  {
   "cell_type": "markdown",
   "metadata": {},
   "source": [
    "Теперь сравним зависимость продаж для PS4 с продажи для остальных платформ."
   ]
  },
  {
   "cell_type": "code",
   "execution_count": 69,
   "metadata": {},
   "outputs": [],
   "source": [
    "#строим таблицу для остальных платформ\n",
    "df4 = df.query('platform != \"PS4\" and critic_score!=-1 and user_score!=-1')"
   ]
  },
  {
   "cell_type": "code",
   "execution_count": 70,
   "metadata": {},
   "outputs": [
    {
     "data": {
      "text/plain": [
       "<matplotlib.axes._subplots.AxesSubplot at 0x7fbeddf09f90>"
      ]
     },
     "execution_count": 70,
     "metadata": {},
     "output_type": "execute_result"
    },
    {
     "data": {
      "image/png": "[encoded data removed]",
      "text/plain": [
       "<Figure size 432x288 with 1 Axes>"
      ]
     },
     "metadata": {
      "needs_background": "light"
     },
     "output_type": "display_data"
    }
   ],
   "source": [
    "#строим диаграмму рассеяния\n",
    "df4.plot(x='critic_score', y='total_number', kind='scatter', alpha=0.3) "
   ]
  },
  {
   "cell_type": "markdown",
   "metadata": {},
   "source": [
    "Так же как и в случа с PS4  видна небольшая зависимость - только игры, получившие оценку более 65 баллов продавались более 0.8 миллиона. Однако мы видим, что и среди высоко оцененных игр есть те, что продавались даже хуже чем игры, оцененные в несколько раз хуже. Посмотрим на коэффициент корреляции."
   ]
  },
  {
   "cell_type": "code",
   "execution_count": 71,
   "metadata": {},
   "outputs": [
    {
     "data": {
      "text/plain": [
       "0.3047894679009596"
      ]
     },
     "execution_count": 71,
     "metadata": {},
     "output_type": "execute_result"
    }
   ],
   "source": [
    "#рассчитываем коэффициент корреляции\n",
    "df4['critic_score'].corr(df4['total_number'])"
   ]
  },
  {
   "cell_type": "markdown",
   "metadata": {},
   "source": [
    "Зависимость продаж игр для платформ, отличных от PS4, от оценок критиков есть, но она довольно слабая. В целом ситуация похожа на ту, что характерна для PS4, одна в отличии от нее, для остальных платформ данная зависимость будет чуть ниже."
   ]
  },
  {
   "cell_type": "markdown",
   "metadata": {},
   "source": [
    "Посмотрим, как обстоят дела с оценками пользователей."
   ]
  },
  {
   "cell_type": "code",
   "execution_count": 72,
   "metadata": {},
   "outputs": [
    {
     "data": {
      "text/plain": [
       "<matplotlib.axes._subplots.AxesSubplot at 0x7fbede13e890>"
      ]
     },
     "execution_count": 72,
     "metadata": {},
     "output_type": "execute_result"
    },
    {
     "data": {
      "image/png": "[encoded data removed]",
      "text/plain": [
       "<Figure size 432x288 with 1 Axes>"
      ]
     },
     "metadata": {
      "needs_background": "light"
     },
     "output_type": "display_data"
    }
   ],
   "source": [
    "#строим диаграмму рассеяния\n",
    "df4.plot(x='user_score', y='total_number', kind='scatter', alpha=0.3) "
   ]
  },
  {
   "cell_type": "markdown",
   "metadata": {},
   "source": [
    "Для платформ, отличных от PS4 зависимость от оценок пользователей кажется более явной, чем та же самая зависимость у PS4. Однако игры, оцененные в 9 баллов были настолько немногочисленны, что сложно сделать вывод о зависимость продаж от ценок пользователей конкретно для них. Посмотрим на коэффициент корреляции."
   ]
  },
  {
   "cell_type": "code",
   "execution_count": 73,
   "metadata": {},
   "outputs": [
    {
     "data": {
      "text/plain": [
       "0.040834284216788495"
      ]
     },
     "execution_count": 73,
     "metadata": {},
     "output_type": "execute_result"
    }
   ],
   "source": [
    "#рассчитываем коэффициент корреляции\n",
    "df4['user_score'].corr(df4['total_number'])"
   ]
  },
  {
   "cell_type": "markdown",
   "metadata": {},
   "source": [
    "Да, зависимость на других платформах продаж от оценок пользователей выше, чем на PS4. Однако это все такая же небольшая зависимость. Всего 8 игроков из 100 купят игру, опираясь на оценки других игроков."
   ]
  },
  {
   "cell_type": "markdown",
   "metadata": {},
   "source": [
    "**Вывод**"
   ]
  },
  {
   "cell_type": "markdown",
   "metadata": {},
   "source": [
    "Зависимость продаж игр от оценок критиков есть, но она слабая. Данная зависимость немного ярче проявляется для PS4 **(0.4)**, нежели для других платформ **(0.3)**.\n",
    "\n",
    "Зависимости же между продажами игр и оценками пользователей практически нет. Данная зависимость для PS4 **(-0.03)** слабее, чем для других платформ **(0.04)**. Однако как для PS4, так и для других платформ она остается слабой."
   ]
  },
  {
   "cell_type": "markdown",
   "metadata": {},
   "source": [
    "<div class=\"alert-success\">\n",
    "<b>Комментарий ревьюера ✔️</b>\n",
    "\n",
    "Оценки критиков, судя по всему, более сильно влияют на успешность игры.</div>"
   ]
  },
  {
   "cell_type": "markdown",
   "metadata": {},
   "source": [
    "<p>\n",
    "<div class=\"alert-info\">\n",
    "<b>Да!</b>"
   ]
  },
  {
   "cell_type": "markdown",
   "metadata": {},
   "source": [
    "<div class=\"alert-warning\">\n",
    "<b>Комментарий ревьюера V2 ⚠️</b>\n",
    "\n",
    "Аналогично и тут. Поправь в финальном варианте - для портфолио.</div>"
   ]
  },
  {
   "cell_type": "markdown",
   "metadata": {},
   "source": [
    "<div class=\"alert-info\">\n",
    "<b>Комментарий студента</b>\n",
    "\n",
    "В столбце `'total_number'` у меня содержатся суммарные продажи по всем регионам.</div>"
   ]
  },
  {
   "cell_type": "markdown",
   "metadata": {},
   "source": [
    "### Распределение жанров"
   ]
  },
  {
   "cell_type": "markdown",
   "metadata": {},
   "source": [
    "Теперь нам предстоит изучить общее распределение игр по жанрам и найти самые прибыльные жанры."
   ]
  },
  {
   "cell_type": "code",
   "execution_count": 74,
   "metadata": {
    "scrolled": true
   },
   "outputs": [
    {
     "data": {
      "text/plain": [
       "<matplotlib.axes._subplots.AxesSubplot at 0x7fbede258cd0>"
      ]
     },
     "execution_count": 74,
     "metadata": {},
     "output_type": "execute_result"
    },
    {
     "data": {
      "image/png": "[encoded data removed]",
      "text/plain": [
       "<Figure size 720x360 with 1 Axes>"
      ]
     },
     "metadata": {
      "needs_background": "light"
     },
     "output_type": "display_data"
    }
   ],
   "source": [
    "#смотрим на распределение жанров\n",
    "df.pivot_table(index='genre', values='name', aggfunc='count').sort_values(by ='name', ascending = False).plot(y ='name', kind='bar', figsize = (10, 5))"
   ]
  },
  {
   "cell_type": "markdown",
   "metadata": {},
   "source": [
    "**Вывод**"
   ]
  },
  {
   "cell_type": "markdown",
   "metadata": {},
   "source": [
    "Мы видим, что самым распространенным жанром игр за актуальный период являлся экшен (**Action**). Игр данного жанра было выпущено в 3 раза больше (600 игр), чем игр жанра, следующего по количеству выпущенных игр сразу же после него. В процентном соотношений игры данного жанра составляют около 1/3 ото всех выпущенных игр (33%). Следом за ним идут ролевые игры (**Role-Playing**) (13%) и приключенческий жанр (**Adventure**) (12%). Самыми же нераспространенными жанрами оказались пазл (**Puzzle**) и платформенные игры (**Strategy**). \n",
    "\n",
    "При этом нужно понимать, что данные графики характеризуют не спрос на жанры, а их предложение - то есть, сколько игр каждого жанра было выпущено за актуальный период. Посмотрим теперь, как обстоят дела с продажами - спросом на жанры. Для объективноси оценивания продаж игр найдем жанр, где игры стабильно приносят высокий доход - для этого стоит рассмотреть медианные продажи."
   ]
  },
  {
   "cell_type": "code",
   "execution_count": 75,
   "metadata": {},
   "outputs": [
    {
     "data": {
      "text/plain": [
       "<matplotlib.axes._subplots.AxesSubplot at 0x7fbede9ee450>"
      ]
     },
     "execution_count": 75,
     "metadata": {},
     "output_type": "execute_result"
    },
    {
     "data": {
      "image/png": "[encoded data removed]",
      "text/plain": [
       "<Figure size 720x360 with 1 Axes>"
      ]
     },
     "metadata": {
      "needs_background": "light"
     },
     "output_type": "display_data"
    }
   ],
   "source": [
    "#смотрим на распределение продаж\n",
    "df.pivot_table(index='genre', values='total_number', aggfunc='median').sort_values(by ='total_number', ascending = False).plot(y ='total_number', kind='bar', figsize = (10, 5))"
   ]
  },
  {
   "cell_type": "markdown",
   "metadata": {},
   "source": [
    "**Вывод**"
   ]
  },
  {
   "cell_type": "markdown",
   "metadata": {},
   "source": [
    "На графиках видно, что в среднем больше всех продаются шутеры **(Shooter)**. В среднем одна игра такого жанра продается в количестве около 500 тысяч экземпляров. Следом идут шутеры (**Sports**), которые в среднем продаются в количестве 190 тысяч экземпляров, платформенные игры (**Platform**), которые в среднем приосят по 150 тысяч с каждой игры занимают 3 место в топе продаваемых жанров. \n",
    "\n",
    "Самыми непопулярными жанрами являются пазл (**Puzzle**) и приключения (**Adventure**), одна игра которых в среднем в совокупности не приносит и 100 тысяч продаж."
   ]
  },
  {
   "cell_type": "markdown",
   "metadata": {},
   "source": [
    "<div class=\"alert-danger\">\n",
    "<b>Комментарий ревьюера ❌</b>\n",
    "\n",
    "Общие продажи - плохая метрика для поиска наиболее прибыльного жанра. За высокими показателями общих продаж может скрываться множество мелких игр с низкими продажами. Или 2-3 звезды и куча провалов. Лучше найти жанр, где игры стабильно приносят высокий доход - для этого стоит рассмотреть средние или медианные продажи.</div>"
   ]
  },
  {
   "cell_type": "markdown",
   "metadata": {},
   "source": [
    "<p>\n",
    "<div class=\"alert-info\">\n",
    "<b>Исправлю!</b>"
   ]
  },
  {
   "cell_type": "markdown",
   "metadata": {},
   "source": [
    "<div class=\"alert-success\">\n",
    "<b>Комментарий ревьюера V2 ✔️</b>\n",
    "\n",
    "Верно, теперь и лидер прибыльности поменялся.</div>"
   ]
  },
  {
   "cell_type": "markdown",
   "metadata": {},
   "source": [
    "## Шаг 4. Составим портрет пользователя каждого региона"
   ]
  },
  {
   "cell_type": "markdown",
   "metadata": {},
   "source": [
    "Теперь нам нужно определить для пользователя каждого региона (NA, EU, JP):\n",
    "\n",
    "•\tСамые популярные платформы (топ-5). Опишем  различия в долях продаж.\n",
    "\n",
    "•\tСамые популярные жанры (топ-5). Поясним разницу.\n",
    "\n",
    "•\tВлияет ли рейтинг ESRB на продажи в отдельном регионе?\n"
   ]
  },
  {
   "cell_type": "markdown",
   "metadata": {},
   "source": [
    "### Самые популярные платформы"
   ]
  },
  {
   "cell_type": "markdown",
   "metadata": {},
   "source": [
    "Посмотрим на самые популярные платформы для **Северной Америки**."
   ]
  },
  {
   "cell_type": "code",
   "execution_count": 76,
   "metadata": {
    "scrolled": true
   },
   "outputs": [
    {
     "data": {
      "text/plain": [
       "<matplotlib.axes._subplots.AxesSubplot at 0x7fbede197710>"
      ]
     },
     "execution_count": 76,
     "metadata": {},
     "output_type": "execute_result"
    },
    {
     "data": {
      "image/png": "[encoded data removed]",
      "text/plain": [
       "<Figure size 576x288 with 1 Axes>"
      ]
     },
     "metadata": {
      "needs_background": "light"
     },
     "output_type": "display_data"
    }
   ],
   "source": [
    "#смотрим на распределение продаж для NA\n",
    "df.pivot_table(index='platform', values='na_sales', aggfunc='sum').sort_values(by ='na_sales', ascending = False).plot(y ='na_sales', kind='bar', figsize = (8, 4))"
   ]
  },
  {
   "cell_type": "markdown",
   "metadata": {},
   "source": [
    "**Промежуточный вывод**"
   ]
  },
  {
   "cell_type": "markdown",
   "metadata": {},
   "source": [
    "Мы видим, что в топ-5 самых популярных платформ в Северной Америке входят следующие:\n",
    "\n",
    "1) **PS4** (100 миллионов) \n",
    "\n",
    "2) **Xone** (80 миллионов)\n",
    "\n",
    "3) **X360** (30 миллионов) \n",
    "\n",
    "4) **3DS** (29 миллионов) \n",
    "\n",
    "5) **PS3** (28.5 миллионов) "
   ]
  },
  {
   "cell_type": "markdown",
   "metadata": {},
   "source": [
    "Крайне не популярной платформой является платформа PSP, игр для которой в Северной Америке за актуальный период не было продано! Низкие результаты показали так же платформы Wii, PSV и PC.\n"
   ]
  },
  {
   "cell_type": "markdown",
   "metadata": {},
   "source": [
    "Теперь посмотрим на популярность платформ в **Европе**."
   ]
  },
  {
   "cell_type": "code",
   "execution_count": 77,
   "metadata": {
    "scrolled": false
   },
   "outputs": [
    {
     "data": {
      "text/plain": [
       "<matplotlib.axes._subplots.AxesSubplot at 0x7fbede1531d0>"
      ]
     },
     "execution_count": 77,
     "metadata": {},
     "output_type": "execute_result"
    },
    {
     "data": {
      "image/png": "[encoded data removed]",
      "text/plain": [
       "<Figure size 576x360 with 1 Axes>"
      ]
     },
     "metadata": {
      "needs_background": "light"
     },
     "output_type": "display_data"
    }
   ],
   "source": [
    "#смотрим на распределение продаж для EA\n",
    "df.pivot_table(index='platform', values='eu_sales', aggfunc='sum').sort_values(by ='eu_sales', ascending = False).plot(y ='eu_sales', kind='bar', figsize = (8, 5))"
   ]
  },
  {
   "cell_type": "markdown",
   "metadata": {},
   "source": [
    "**Промежуточный вывод**"
   ]
  },
  {
   "cell_type": "markdown",
   "metadata": {},
   "source": [
    "Мы видим, что в топ-5 самых популярных платформ в Европе входят следующие:\n",
    "\n",
    "1) **PS4**(130 миллионов)\n",
    "\n",
    "2) **Xone**  (45 миллионов) \n",
    "\n",
    "3) **PS3** (25 миллионов) \n",
    "\n",
    "4) **PC** (19.5 миллионов) \n",
    "\n",
    "5) **3DC** (19 миллионов) "
   ]
  },
  {
   "cell_type": "markdown",
   "metadata": {},
   "source": [
    "В Европе так же крайне непопулярна платформа PSP, для которой было не продано ни одной игры. Низкие результаты показали так же платформы Wii, PSV."
   ]
  },
  {
   "cell_type": "markdown",
   "metadata": {},
   "source": [
    "Теперь посмотрим, как дела обстоят в **Японии**."
   ]
  },
  {
   "cell_type": "code",
   "execution_count": 78,
   "metadata": {},
   "outputs": [
    {
     "data": {
      "text/plain": [
       "<matplotlib.axes._subplots.AxesSubplot at 0x7fbede098bd0>"
      ]
     },
     "execution_count": 78,
     "metadata": {},
     "output_type": "execute_result"
    },
    {
     "data": {
      "image/png": "[encoded data removed]",
      "text/plain": [
       "<Figure size 576x360 with 1 Axes>"
      ]
     },
     "metadata": {
      "needs_background": "light"
     },
     "output_type": "display_data"
    }
   ],
   "source": [
    "#смотрим на распределение продаж для JP\n",
    "df.pivot_table(index='platform', values='jp_sales', aggfunc='sum').sort_values(by ='jp_sales', ascending = False).plot(y ='jp_sales', kind='bar', figsize = (8, 5))"
   ]
  },
  {
   "cell_type": "markdown",
   "metadata": {},
   "source": [
    "**Промежуточный вывод**"
   ]
  },
  {
   "cell_type": "markdown",
   "metadata": {},
   "source": [
    "Мы видим, что в топ-5 самых популярных платформ в Японии входят следующие:\n",
    "\n",
    "1) **3DS**(45 миллионов)\n",
    "\n",
    "2) **PS4**  (15 миллионов) \n",
    "\n",
    "3) **PSV** (14.9 миллионов) \n",
    "\n",
    "4) **PS3** (13 миллионов) \n",
    "\n",
    "5) **WiiU** (8.9 миллионов) "
   ]
  },
  {
   "cell_type": "markdown",
   "metadata": {},
   "source": [
    "В Японии крайне непопулярны PC и Wii, игр для которых не было продано. Низкие результаты показали так же платформы X360, XOne и PSP."
   ]
  },
  {
   "cell_type": "markdown",
   "metadata": {},
   "source": [
    "**Вывод**"
   ]
  },
  {
   "cell_type": "markdown",
   "metadata": {},
   "source": [
    "Мы видим, что ситуация с платформами в Америке и Европе довольно схожа. Первые два места в данных регионах занимают такие плафтормы, как PS4 и XOne. Отличаются данные регионы лишь тем, что в топ-5 Америки входит платформа X360, а в топ-5 Европы PC. \n",
    "\n",
    "Для Японии же XOne вообще отсутствует в топе, а самая популярная платформа для Европы и Америки PS4 занимает лишь 2 место с большим отрывом от первого места. PSV в Европе и Америке не пользовалась большой популярность, а в Японии игры данной платформы занимают 3 место. PC и Wii в Японии вообще не продаются, хотя в Европе и Америке имеют своих фанатов, а PC даже входи в топ по Европе."
   ]
  },
  {
   "cell_type": "markdown",
   "metadata": {},
   "source": [
    "### Самые популярные жанры"
   ]
  },
  {
   "cell_type": "markdown",
   "metadata": {},
   "source": [
    "Посмотрим на самые популярные жанры для **Северной Америки**."
   ]
  },
  {
   "cell_type": "code",
   "execution_count": 79,
   "metadata": {
    "scrolled": true
   },
   "outputs": [
    {
     "data": {
      "text/plain": [
       "<matplotlib.axes._subplots.AxesSubplot at 0x7fbf078fb250>"
      ]
     },
     "execution_count": 79,
     "metadata": {},
     "output_type": "execute_result"
    },
    {
     "data": {
      "image/png": "[encoded data removed]",
      "text/plain": [
       "<Figure size 576x288 with 1 Axes>"
      ]
     },
     "metadata": {
      "needs_background": "light"
     },
     "output_type": "display_data"
    }
   ],
   "source": [
    "#смотрим на распределение продаж для NA\n",
    "df.pivot_table(index='genre', values='na_sales', aggfunc='sum').sort_values(by ='na_sales', ascending = False).plot(y ='na_sales', kind='bar', figsize = (8, 4))"
   ]
  },
  {
   "cell_type": "markdown",
   "metadata": {},
   "source": [
    "**Промежуточный вывод**"
   ]
  },
  {
   "cell_type": "markdown",
   "metadata": {},
   "source": [
    "Мы видим, что в топ-5 для Северной Америки выходят следующие жанры:\n",
    "\n",
    "1) Shooter(80 миллионов)\n",
    "\n",
    "2) Action  (70 миллионов)\n",
    "\n",
    "3) Sports (45 миллионов)\n",
    "\n",
    "4) Role-Playing (30 миллионов)\n",
    "\n",
    "5) Misc (15 миллионов)"
   ]
  },
  {
   "cell_type": "markdown",
   "metadata": {},
   "source": [
    "Самыми непродаваемыми жанрами для Северной Америки являются Puzzle и Strategy и Simulation."
   ]
  },
  {
   "cell_type": "markdown",
   "metadata": {},
   "source": [
    "Теперь посмотрим на популярность жанров в **Европе**."
   ]
  },
  {
   "cell_type": "code",
   "execution_count": 80,
   "metadata": {
    "scrolled": false
   },
   "outputs": [
    {
     "data": {
      "text/plain": [
       "<matplotlib.axes._subplots.AxesSubplot at 0x7fbedddca690>"
      ]
     },
     "execution_count": 80,
     "metadata": {},
     "output_type": "execute_result"
    },
    {
     "data": {
      "image/png": "[encoded data removed]",
      "text/plain": [
       "<Figure size 576x360 with 1 Axes>"
      ]
     },
     "metadata": {
      "needs_background": "light"
     },
     "output_type": "display_data"
    }
   ],
   "source": [
    "#смотрим на распределение продаж для EA\n",
    "df.pivot_table(index='genre', values='eu_sales', aggfunc='sum').sort_values(by ='eu_sales', ascending = False).plot(y ='eu_sales', kind='bar', figsize = (8, 5))"
   ]
  },
  {
   "cell_type": "markdown",
   "metadata": {},
   "source": [
    "**Промежуточный вывод**"
   ]
  },
  {
   "cell_type": "markdown",
   "metadata": {},
   "source": [
    "Мы видим, что в топ-5 для Европы выходят следующие жанры:\n",
    "\n",
    "1) Action (75 миллионов)\n",
    "\n",
    "2) Shooter (65 миллионов)\n",
    "\n",
    "3) Sports (45 миллионов)\n",
    "\n",
    "4) Role-Playing (29 миллионов)\n",
    "\n",
    "5) Racing (15 миллионов)"
   ]
  },
  {
   "cell_type": "markdown",
   "metadata": {},
   "source": [
    "Самыми непродаваемыми жанрами для Европы являются Puzzle и Strategy."
   ]
  },
  {
   "cell_type": "markdown",
   "metadata": {},
   "source": [
    "Теперь посмотрим, как дела обстоят в **Японии**."
   ]
  },
  {
   "cell_type": "code",
   "execution_count": 81,
   "metadata": {
    "scrolled": true
   },
   "outputs": [
    {
     "data": {
      "text/plain": [
       "<matplotlib.axes._subplots.AxesSubplot at 0x7fbeddd0af90>"
      ]
     },
     "execution_count": 81,
     "metadata": {},
     "output_type": "execute_result"
    },
    {
     "data": {
      "image/png": "[encoded data removed]",
      "text/plain": [
       "<Figure size 576x360 with 1 Axes>"
      ]
     },
     "metadata": {
      "needs_background": "light"
     },
     "output_type": "display_data"
    }
   ],
   "source": [
    "#смотрим на распределение продаж для JP\n",
    "df.pivot_table(index='genre', values='jp_sales', aggfunc='sum').sort_values(by ='jp_sales', ascending = False).plot(y ='jp_sales', kind='bar', figsize = (8, 5))"
   ]
  },
  {
   "cell_type": "markdown",
   "metadata": {},
   "source": [
    "**Промежуточный вывод**"
   ]
  },
  {
   "cell_type": "markdown",
   "metadata": {},
   "source": [
    "Мы видим, что в топ-5 для Японии выходят следующие жанры:\n",
    "\n",
    "1) Role-Playing (32 миллионов)\n",
    "\n",
    "2) Action (29 миллионов)\n",
    "\n",
    "3) Fighting (6 миллионов)\n",
    "\n",
    "4) Misc (5 миллионов)\n",
    "\n",
    "5) Shooter (5 миллионов)"
   ]
  },
  {
   "cell_type": "markdown",
   "metadata": {},
   "source": [
    "Самыми непродаваемыми жанрами для Японии являются Racing, Puzzle и Strategy."
   ]
  },
  {
   "cell_type": "markdown",
   "metadata": {},
   "source": [
    "**Вывод**"
   ]
  },
  {
   "cell_type": "markdown",
   "metadata": {},
   "source": [
    "Мы видим, что Европа и Северная Амерка снова имеют схожие топ-5. В данном случае в Европе и Америке имеются 4 общих самых популярных жанра - у них даже практическипорядок одинаков. Так же в данных регионах совпадаются и наиболее непопулярные жанры - так же порядок одинаков. \n",
    "\n",
    "Япония же в данном плане снова отличилась. Это наталкивает на мысль о том, что рынок Японии довольно специфичен и объясняется разницей менталитетов Востока и Запада, поскольку только так можно объяснить существенную разницу в предпочтении платформ и жанров. Однако даже здесь очень популярны игры жанра Action, которые занимают первое и второе места среди всех жанров в других регионах. Также общим является жанр Role-Playing, который на Западе занимает 4 место по популярности, а в Японии первое. Самыми непопулярными жанрами в Японии являются Racing, Puzzle и Strategy. Если последние два так же непопулярны на ЗАпаде, то гонки всегда имели довольно немалую популярность на Западе. Также примечательно само распределение - если на западе мы видим более плавный переход от жанра к жанру, то в Японии всего два жанра - Role-Playing и Action - по популярности занимают в совокупность более 60% от общих продаж."
   ]
  },
  {
   "cell_type": "markdown",
   "metadata": {},
   "source": [
    "<div class=\"alert-success\">\n",
    "<b>Комментарий ревьюера ✔️</b>\n",
    "\n",
    "Портреты пользователей по регионам составлены верно и выводы правильные! 👌</div>"
   ]
  },
  {
   "cell_type": "markdown",
   "metadata": {},
   "source": [
    "<p>\n",
    "<div class=\"alert-info\">\n",
    "<b>Благодарю!</b>"
   ]
  },
  {
   "cell_type": "markdown",
   "metadata": {},
   "source": [
    "### Влияние рейтинга ESRB"
   ]
  },
  {
   "cell_type": "markdown",
   "metadata": {},
   "source": [
    "Посмотрим на влияние рейтинга для продаж в **Северной Америке**."
   ]
  },
  {
   "cell_type": "code",
   "execution_count": 82,
   "metadata": {},
   "outputs": [
    {
     "data": {
      "text/plain": [
       "<matplotlib.axes._subplots.AxesSubplot at 0x7fbeddc28bd0>"
      ]
     },
     "execution_count": 82,
     "metadata": {},
     "output_type": "execute_result"
    },
    {
     "data": {
      "image/png": "[encoded data removed]",
      "text/plain": [
       "<Figure size 576x288 with 1 Axes>"
      ]
     },
     "metadata": {
      "needs_background": "light"
     },
     "output_type": "display_data"
    }
   ],
   "source": [
    "#смотрим на распределение продаж для NA\n",
    "df.pivot_table(index='rating', values='na_sales', aggfunc='sum').sort_values(by ='na_sales', ascending = False).plot(y ='na_sales', kind='bar', figsize = (8, 4))"
   ]
  },
  {
   "cell_type": "markdown",
   "metadata": {},
   "source": [
    "Мы видим, что больше всего в Севреной Америке продавалось игр рейтинга `M` (около 95 миллионов). Меньше всего же продалось игр рейтинга `E10+` (около 40 миллионов). Довольно большой процент игр в Северной Америке оказался без рейтинга (около 65 миллионов) - целых 21%.\n",
    "\n",
    "В целом можно сказать, что рейтинг в Северной Америке так или иначе влияет на продажи игр."
   ]
  },
  {
   "cell_type": "markdown",
   "metadata": {},
   "source": [
    "Посмотрим на влияние рейтинга для продаж в **Европе**."
   ]
  },
  {
   "cell_type": "code",
   "execution_count": 83,
   "metadata": {
    "scrolled": false
   },
   "outputs": [
    {
     "data": {
      "text/plain": [
       "<matplotlib.axes._subplots.AxesSubplot at 0x7fbeddc44910>"
      ]
     },
     "execution_count": 83,
     "metadata": {},
     "output_type": "execute_result"
    },
    {
     "data": {
      "image/png": "[encoded data removed]",
      "text/plain": [
       "<Figure size 576x360 with 1 Axes>"
      ]
     },
     "metadata": {
      "needs_background": "light"
     },
     "output_type": "display_data"
    }
   ],
   "source": [
    "#смотрим на распределение продаж для EA\n",
    "df.pivot_table(index='rating', values='eu_sales', aggfunc='sum').sort_values(by ='eu_sales', ascending = False).plot(y ='eu_sales', kind='bar', figsize = (8, 5))"
   ]
  },
  {
   "cell_type": "markdown",
   "metadata": {},
   "source": [
    "Мы видим, что больше всего в Европе продавалось игр рейтинга `M` (около 85 миллионов). Меньше всего же продалось игр рейтинга `E10+` (около 25 миллионов). Довольно большой процент игр в Европе оказался без рейтинга (около 59 миллионов) - около 23%.\n",
    "\n",
    "Мы видим, что влияние рейтинга на продажами игр в Европе существует, но оно не самое сильное и яркое. На графике мы видим, что для Северной Америки это влияние ярче, поскольку столбцы сильнее отличаются - для Европы они более-менее равны."
   ]
  },
  {
   "cell_type": "markdown",
   "metadata": {},
   "source": [
    "Теперь посмотрим, как обстоят дела в **Японии**."
   ]
  },
  {
   "cell_type": "code",
   "execution_count": 84,
   "metadata": {},
   "outputs": [
    {
     "data": {
      "text/plain": [
       "<matplotlib.axes._subplots.AxesSubplot at 0x7fbeddba35d0>"
      ]
     },
     "execution_count": 84,
     "metadata": {},
     "output_type": "execute_result"
    },
    {
     "data": {
      "image/png": "[encoded data removed]",
      "text/plain": [
       "<Figure size 576x360 with 1 Axes>"
      ]
     },
     "metadata": {
      "needs_background": "light"
     },
     "output_type": "display_data"
    }
   ],
   "source": [
    "#смотрим на распределение продаж для JP\n",
    "df.pivot_table(index='rating', values='jp_sales', aggfunc='sum').sort_values(by ='jp_sales', ascending = False).plot(y ='jp_sales', kind='bar', figsize = (8, 5))"
   ]
  },
  {
   "cell_type": "markdown",
   "metadata": {},
   "source": [
    "Мы видим, что больше всего в Японии продавалось игр, рейтинг которых не определен (около 55 миллионов) - целых 57%. Меньше всего же продалось игр рейтинга `E10+` (около 5 миллионов) и рейтинга `М` (около 9 миллионов каждый). "
   ]
  },
  {
   "cell_type": "markdown",
   "metadata": {},
   "source": [
    "В целом, можно сказать, что рейтинг игры не влияет на ее продажами в Японии. Возможно это объясняется тем, что огромный процент игр остался без рейтинга. Тут же мы снова наблюдаем различия ЗАпада и Востока. Категория М, которая является безумно популярной на Западе, на Востоке не так популярна. Однако игры E10+ непопулярны у всех регионов."
   ]
  },
  {
   "cell_type": "markdown",
   "metadata": {},
   "source": [
    "<div class=\"alert-success\">\n",
    "<b>Комментарий ревьюера ✔️</b>\n",
    "\n",
    "Все правильно, у японцев свои стандарты рейтинга.\n",
    "\n",
    "Я бы только заглушку поставил не `tbd`, а `no_rating` например.</div>"
   ]
  },
  {
   "cell_type": "markdown",
   "metadata": {},
   "source": [
    "<p>\n",
    "<div class=\"alert-info\">\n",
    "<b>Исправлю!</b>"
   ]
  },
  {
   "cell_type": "markdown",
   "metadata": {},
   "source": [
    "<div class=\"alert-success\">\n",
    "<b>Комментарий ревьюера V2 ✔️</b>\n",
    "\n",
    "Отлично!</div>"
   ]
  },
  {
   "cell_type": "markdown",
   "metadata": {},
   "source": [
    "**Вывод**"
   ]
  },
  {
   "cell_type": "markdown",
   "metadata": {},
   "source": [
    "Мы видим, что рейтинг игры влияет на продажи больше всего в Северной Америке (там столбцы графиков более разнообразны), затем идет Европа, и на последнем месте по влиянию на продажи игр рейтинга расположилась Япония. Рейтинги в Америке и Европе расположились в одной последовательности по значимости. В Японии же среди всех игр, для которых был выставлен рейтинг, наибольшим спросом обладают игры с рейтингом `T`, а все остальные рейтинги пользуются одинаковой популярностью, что говорит о том, что в Японии влияние рейтинга на продажи настолько мало, что можно говорить о его отсутствии."
   ]
  },
  {
   "cell_type": "markdown",
   "metadata": {},
   "source": [
    "Анализируя все проведенные на данном шаге исследования, можно сделать вывод о том, что игровые рынки Северной Америки и Европы очень схожи и отличаются незначительными показателями. Игровой же рынок Японии в силу менталитета и, видимо, не проникновения на рынок многих игр, которые популярны на Западе и компаний по выставлению возрастного рейтинга, заметно отличается от рынков Запада."
   ]
  },
  {
   "cell_type": "markdown",
   "metadata": {},
   "source": [
    "# Шаг 5. Проверьте гипотезы"
   ]
  },
  {
   "cell_type": "markdown",
   "metadata": {},
   "source": [
    "Нам предстоит проверить две гипотезы на данном шаге:"
   ]
  },
  {
   "cell_type": "markdown",
   "metadata": {},
   "source": [
    "1) Средние пользовательские рейтинги платформ Xbox One и PC одинаковые;\n",
    "\n",
    "2) Средние пользовательские рейтинги жанров Action (англ. «действие», экшен-игры) и Sports (англ. «спортивные соревнования») разные.\n"
   ]
  },
  {
   "cell_type": "markdown",
   "metadata": {},
   "source": [
    "За критический уровень статистической значимости возьмем менее строгое значение - 0.05"
   ]
  },
  {
   "cell_type": "markdown",
   "metadata": {},
   "source": [
    "## Гипотеза \"Средние пользовательские рейтинги платформ Xbox One и PC одинаковые\""
   ]
  },
  {
   "cell_type": "markdown",
   "metadata": {},
   "source": [
    "Проверять гипотезу мы будем с помощью t-теста"
   ]
  },
  {
   "cell_type": "markdown",
   "metadata": {},
   "source": [
    "Для этого мы сначала выделим датасеты для каждой из платформ из общей таблицы, при этом избавимся от игр, оценки для которых не выставлены."
   ]
  },
  {
   "cell_type": "code",
   "execution_count": 85,
   "metadata": {},
   "outputs": [],
   "source": [
    "#выделяем датасет XOne\n",
    "xone = df.query('platform ==\"XOne\" and user_score!=-1')\n",
    "#выделяем датасет PC\n",
    "pc = df.query('platform ==\"PC\" and user_score!=-1')"
   ]
  },
  {
   "cell_type": "markdown",
   "metadata": {},
   "source": [
    "Для того, чтобы проверить данную гипотезу мы должны понять, различаются ли размеры выборки или нет. Для этого используем метод len()"
   ]
  },
  {
   "cell_type": "code",
   "execution_count": 86,
   "metadata": {},
   "outputs": [
    {
     "name": "stdout",
     "output_type": "stream",
     "text": [
      "Размер выборки для Xbox One: 165\n",
      "Размер выборки для PC: 122\n"
     ]
    }
   ],
   "source": [
    "print('Размер выборки для Xbox One:', len(xone))\n",
    "print('Размер выборки для PC:', len(pc))"
   ]
  },
  {
   "cell_type": "markdown",
   "metadata": {},
   "source": [
    "Размеры выборки различаются. Следовательно дисперсии тоже отличаются."
   ]
  },
  {
   "cell_type": "markdown",
   "metadata": {},
   "source": [
    "С учетом полученных данных можем сделать вывод, что в  аргументе метода scipy.stats.ttest_ind(), необходимого для проведения t-теста мы укажем аргумент equal_var, равный False."
   ]
  },
  {
   "cell_type": "markdown",
   "metadata": {},
   "source": [
    "<div class=\"alert-warning\">\n",
    "<b>Комментарий ревьюера ⚠️</b>\n",
    "\n",
    "Этот параметр `equal_var = False` говорит о том, что дисперсия у выборок разная, а не размер. </div>"
   ]
  },
  {
   "cell_type": "markdown",
   "metadata": {},
   "source": [
    "<p>\n",
    "<div class=\"alert-info\">\n",
    "<b>Это я знаю! Просто если размеры выборок отличаются, то и дисперсия генеральных совокупностей будет отличаться! Я неправильно выразился, видимо.</b>"
   ]
  },
  {
   "cell_type": "markdown",
   "metadata": {},
   "source": [
    "Теперь можно формулировать нулевую и альтернативную гипотезы."
   ]
  },
  {
   "cell_type": "markdown",
   "metadata": {},
   "source": [
    "**Нулевая гипотеза звучит так:**\n",
    "\n",
    "Средние пользовательские рейтинги платформ Xbox One и PC равны\n",
    "\n",
    "**Альтернативная же гипотеза будет звучать так:**\n",
    "\n",
    "Средние пользовательские рейтинги платформ Xbox One и PC различаются"
   ]
  },
  {
   "cell_type": "code",
   "execution_count": 87,
   "metadata": {},
   "outputs": [
    {
     "name": "stdout",
     "output_type": "stream",
     "text": [
      "p-значение:  0.047722473435612776\n",
      "Отвергаем нулевую гипотезу. Средние пользовательские рейтинги различается.\n"
     ]
    }
   ],
   "source": [
    "# критический уровень статистической значимости - если p-value окажется меньше него - отвегнем гипотезу\n",
    "alpha = .05\n",
    "#применяем t-тест \n",
    "result = st.ttest_ind(\n",
    "    xone['user_score'],\n",
    "    pc['user_score'],\n",
    "    equal_var = False)\n",
    "\n",
    "#выводим на экран уровень значимости для этой статистики \n",
    "print('p-значение: ', result.pvalue)\n",
    "\n",
    "#проверяем гипотезу\n",
    "if result.pvalue < alpha:\n",
    "    print(\"Отвергаем нулевую гипотезу. Средние пользовательские рейтинги различается.\")\n",
    "else:\n",
    "    print(\"Не получилось отвергнуть нулевую гипотезу. Средние пользовательские рейтинги не различается.\")\n"
   ]
  },
  {
   "cell_type": "markdown",
   "metadata": {},
   "source": [
    "**Вывод**"
   ]
  },
  {
   "cell_type": "markdown",
   "metadata": {},
   "source": [
    "Мы видим, что значение p-value не самое большое и составляет всего 4%, что ниже выбранного нами уровня значимости. Следовательно, вероятность получить наблюдаемый или еще более далекий от предполагаемого результат при условии, что нулевая гипотеза верна, равен 4%, что довольно маловероятно. По этой причине мы опровергаем нулевую гипотезу, говорящей нам о том, что, средние пользовательские рейтинги платформ Xbox One и PC равны.\n",
    "\n",
    "Следовательно, гипотеза о том, что средние пользовательские рейтинги платформ Xbox One и PC равны - будет опровергнута! Мы  смогли найти данные, опровергающие ее."
   ]
  },
  {
   "cell_type": "markdown",
   "metadata": {},
   "source": [
    "## Гипотеза \"Средние пользовательские рейтинги жанров Action (англ. «действие», экшен-игры) и Sports (англ. «спортивные соревнования») разные\""
   ]
  },
  {
   "cell_type": "markdown",
   "metadata": {},
   "source": [
    "Для проверки данной гипотезы нам нужно будет выделить два датасета из одного: для жанра Action и жанра Sports."
   ]
  },
  {
   "cell_type": "code",
   "execution_count": 88,
   "metadata": {},
   "outputs": [],
   "source": [
    "#выделяем датасет XOne\n",
    "action = df.query('genre ==\"Action\" and user_score!=-1')\n",
    "#выделяем датасет PC\n",
    "sports = df.query('genre ==\"Sports\" and user_score!=-1')"
   ]
  },
  {
   "cell_type": "markdown",
   "metadata": {},
   "source": [
    "Для того, чтобы проверить данную гипотезу мы должны понять, различаются ли размеры выборки или нет. Для этого используем метод len()"
   ]
  },
  {
   "cell_type": "code",
   "execution_count": 89,
   "metadata": {},
   "outputs": [
    {
     "name": "stdout",
     "output_type": "stream",
     "text": [
      "Размер выборки для Xbox One: 297\n",
      "Размер выборки для PC: 127\n"
     ]
    }
   ],
   "source": [
    "print('Размер выборки для Xbox One:', len(action))\n",
    "print('Размер выборки для PC:', len(sports))"
   ]
  },
  {
   "cell_type": "markdown",
   "metadata": {},
   "source": [
    "Размеры выборки различаются. Следовательно дисперсии тоже отличаются. Поэтому мы можем сделать вывод, что в аргументе метода scipy.stats.ttest_ind(), необходимого для проведения t-теста мы укажем аргумент equal_var, равный False."
   ]
  },
  {
   "cell_type": "markdown",
   "metadata": {},
   "source": [
    "Теперь можно формулировать нулевую и альтернативную гипотезы."
   ]
  },
  {
   "cell_type": "markdown",
   "metadata": {},
   "source": [
    "**Нулевая гипотеза звучит так:**\n",
    "\n",
    "Средние пользовательские рейтинги жанров Action и Sports равны\n",
    "\n",
    "**Альтернативная же гипотеза будет звучать так:**\n",
    "\n",
    "Средние пользовательские рейтинги жанров Action и Sports не равны"
   ]
  },
  {
   "cell_type": "code",
   "execution_count": 90,
   "metadata": {},
   "outputs": [
    {
     "name": "stdout",
     "output_type": "stream",
     "text": [
      "p-значение:  2.1579210941835162e-13\n",
      "Отвергаем нулевую гипотезу. Средние пользовательские рейтинги различается.\n"
     ]
    }
   ],
   "source": [
    "# критический уровень статистической значимости - если p-value окажется меньше него - отвегнем гипотезу\n",
    "alpha = .05 \n",
    "#применяем t-тест д\n",
    "result = st.ttest_ind(\n",
    "    action['user_score'],\n",
    "    sports['user_score'],\n",
    "    equal_var = False)\n",
    "\n",
    "#выводим на экран уровень значимости для этой статистики \n",
    "print('p-значение: ', result.pvalue)\n",
    "\n",
    "#проверяем гипотезу\n",
    "if result.pvalue < alpha:\n",
    "    print(\"Отвергаем нулевую гипотезу. Средние пользовательские рейтинги различается.\")\n",
    "else:\n",
    "    print(\"Не получилось отвергнуть нулевую гипотезу. Средние пользовательские рейтинги не различается.\")\n"
   ]
  },
  {
   "cell_type": "markdown",
   "metadata": {},
   "source": [
    "<div class=\"alert-success\">\n",
    "<b>Комментарий ревьюера ✔️</b>\n",
    "\n",
    "Гипотезы сформулированы верно, метод проверки тоже выбран правильно. Проверить можно сравнив средние по выборкам.</div>"
   ]
  },
  {
   "cell_type": "markdown",
   "metadata": {},
   "source": [
    "<p>\n",
    "<div class=\"alert-info\">\n",
    "<b>Благодарю</b>"
   ]
  },
  {
   "cell_type": "markdown",
   "metadata": {},
   "source": [
    "**Вывод**"
   ]
  },
  {
   "cell_type": "markdown",
   "metadata": {},
   "source": [
    "Мы видим, насколько мало значение p-value. p-value -это вероятность получить наблюдаемый или еще более далекий от предполагаемого результат при условии, что нулевая гипотеза верна. А мы видим, что вероятность настолько мала, что ее можно назвать невозможной. По этой причине мы можем отвергнуть нулевую гипотезу о равенстве средних пользовательских рейтингов жанров Action и Sports.\n",
    "\n",
    "Следовательно, гипотеза о том, что седние пользовательские рейтинги жанров Action (англ. «действие», экшен-игры) и Sports (англ. «спортивные соревнования») разные - не опровергается! Мы не смогли предоставить данные её опровергающие."
   ]
  },
  {
   "cell_type": "markdown",
   "metadata": {},
   "source": [
    "# Общий вывод:"
   ]
  },
  {
   "cell_type": "markdown",
   "metadata": {},
   "source": [
    "**В ходе выполнения исследования мы выполнили следующие задачи:**\n",
    "\n",
    "`1) Открыли файл с данными и изучили общую информацию`\n",
    "\n",
    "В этом нам помогла библиотека pandas и методы info() и describe(). Мы нашли проблемы в датасете, которые нужно было устранить.\n",
    "\n",
    "`2) Подготовить данные (заменить названия, избавиться от пропусков, привести к нужному типу данных, посчитать суммарные продажи во всех регионах и записать их в отдельный столбец)`\n",
    "\n",
    "Привели названия столбцев к правилам хорошего стиля; избавились от пропусков - где-то удалили, где-то просто присвоили им категорию \"не выставлено\"; привели типы данных к нужному типу там, где это было необходимо, поскольку в некоторых случаях это могло исказить реузльтаты исследования; посчитали суммарные продажи во всех регионах и записать их в отдельный столбец.\n",
    "\n",
    "`3) Провели исследовательский анализ данных:`\n",
    "\n",
    "• Посмотрели, сколько игр выпускалось в разные годы и выяснили, что до 1995 года их выпускалось очень мало, а в 2008-2009 годах количество выпускаемых игр достигло своего пика, после чего начало стремительно снижаться. Поэтому, полагается, что в 2017 году этот тренд сохраниться.\n",
    "\n",
    "• Посмотрите, как менялись продажи по платформам и пришли к выводу о том, что среднее время существования одной платформы составляет около 6-8 лет. За этот период количество продаж достигает своего пика и затем уже стремится к 0.\n",
    "\n",
    "• Исходя из прошлых двух исследований мы определили актуальный период, который мы будем использоваться для построения прогноза на 2017 год. Этим актуальным периодом стал временной промежуток между 2014 и 2016 годами.\n",
    "\n",
    "• Нашли самые прибыльные платформы за актуальный период, которыми оказались PS4, XOne и 3DS. При этом продажи PS4 является абсолютным лидером по продажам. Полагается, что в 2017 году платформа не растеряет лидирство.\n",
    "\n",
    "• Построили график «ящик с усами» по глобальным продажам игр в разбивке по платформам.\n",
    "\n",
    "• Проследили зависимость продаж игр от отзывов критиков и пользователей. Зависимость продаж игр от оценок критиков есть, но она слабая. Данная зависимость немного ярче проявляется для PS4 (0.40), нежели для других платформ (0.304). Зависимости же между продажами игр и оценками пользователей практически нет. Данная зависимость для PS4 (-0.03) слабее, чем для других платформ (0.04). Однако как для PS4, так и для других платформ она остается слабой.\n",
    "\n",
    "\n",
    "• Проследили распределение игр по жанрам. Больше всего выпускало игр жанра Action (примерно 1/3 ото всех выпущенных игр). Однако в среднем игра данного жанра не пользуется большой популярностью. В среднем наиболее количество экземпляров игры продается жанра Shooters.\n",
    "\n",
    "`4) Составли портрет пользователя Определим для пользователя каждого региона (NA, EU, JP):`\n",
    "\n",
    "• Самыми популярными платформами в Европе и Северной Америке оказались PS4 и XOne. Важно отметить, что PS4 является абсолютным лидером в данных регионах. Игры для PSP же в свою очередь совсем не продавались в этих регионах. В Японии дела обстояли чуть иначе. Больший успех получила платформа 3DS, которые в несколько раз превышает платформу, расположившуюся на 2 месте - PS4. Если на Западе PSP вообще не продавались, то в Японии не продавались игры для PC и Wii, а PSP так или иначе получила внимание.\n",
    "\n",
    "• Самыми популярными жанрами в Европе и Америке стали Action и Shooter. Такие же жанры, как Puzzle и Strategy оказались за бортом и популярности не сыскали в данных регионах. В Японии же лидирство заняли Action и Role-Playing, которые занимают практически весь объем продаж, в то время как остальные жанры в совокупность наберут и половину их продаж. а аутсайдерами оказались Racing и Puzzle и Strategy. Мы видим как некоторые сходства, которые объясняются мировыми тенденциями, так и различия, объясняемые менталитетами.\n",
    "\n",
    "• Рейтинг игры влияет на продажи больше всего в Северной Америке, затем идет Европа, и на последнем месте по влиянию на продажи игр рейтинга расположилась Япония. Рейтинги в Америке и Европе расположились в одной последовательности по значимости. В Японии же можно сказать, что рейтинг практически никак не влияет на продажи игр.\n",
    "\n",
    "`5) Проверим гипотезы и пришли к выводам:`\n",
    "\n",
    "•  Гипотеза о том, что средние пользовательские рейтинги платформ Xbox One и PC равны - будет опровергнута! Мы смогли найти данные, опровергающие ее;\n",
    "\n",
    "• Гипотеза о том, что седние пользовательские рейтинги жанров Action (англ. «действие», экшен-игры) и Sports (англ. «спортивные соревнования») разные - не опровергается! Мы не смогли предоставить данные её опровергающие."
   ]
  },
  {
   "cell_type": "markdown",
   "metadata": {},
   "source": [
    "**Рекомендация отделу маркетинга от будущего аналитика**"
   ]
  },
  {
   "cell_type": "markdown",
   "metadata": {},
   "source": [
    "Потенциально прибыльными в 2017 году, согласно проведенному анализу, будут являться:\n",
    "\n",
    "1) Жанр Action. Одна игра данного жанра в среднем приносит намного больше продаж, чем остальные жанры.\n",
    "\n",
    "2) Среди платформ можно выделить PS4, которая является абсолютным рекордсменом по прибыли за актуальный период. Также не стоит забывать и об XOne\n",
    "\n",
    "Если же говорить о региональном распределении, то оно будет выглядеть так:\n",
    "\n",
    "1) Северная Америка: платформы - PS4 и XOne, жанры - Shooter и Action.\n",
    "\n",
    "2) Европа: платформы - PS4 и XOne, жанры - Action и Shooter.\n",
    "\n",
    "3) Япония: платформы - 3DS и PS4, жанры - Role-Playing и Action.\n",
    "\n"
   ]
  },
  {
   "cell_type": "markdown",
   "metadata": {},
   "source": [
    "<div class=\"alert-warning\">\n",
    "<b>Комментарий ревьюера ⚠️</b>\n",
    "\n",
    "Правильно, что в общий вывод погрузил выводы, полученные в предыдущих шагах работы. Но еще по заданию надо дать рекомендации отделу маркетинга для продвижения потенциально прибыльных платформ и жанров.</div>"
   ]
  },
  {
   "cell_type": "markdown",
   "metadata": {},
   "source": [
    "<p>\n",
    "<div class=\"alert-info\">\n",
    "<b>Понял, сделаю!</b>"
   ]
  },
  {
   "cell_type": "markdown",
   "metadata": {},
   "source": [
    "<div class=\"alert-success\">\n",
    "<b>Комментарий ревьюера V2 ✔️</b>\n",
    "\n",
    "Получился отличный общий вывод! 👏</div>"
   ]
  },
  {
   "cell_type": "markdown",
   "metadata": {},
   "source": [
    "<div style=\"border:solid lightblue 3px; padding: 20px\">\n",
    "<b>Общий комментарий ревьюера:</b>\n",
    "\n",
    "Ты проделал большую работу, но давай сделаем ее еще лучше!\n",
    "    \n",
    "Есть критическое замечание по оценке прибыльности жанров.\n",
    "    \n",
    "Также, постарайся учесть желтые комментарии.\n",
    "    \n",
    "Буду ждать твой доработанный проект.</div>"
   ]
  },
  {
   "cell_type": "markdown",
   "metadata": {},
   "source": [
    "<div style=\"border:solid lightblue 3px; padding: 20px\">\n",
    "<b>Общий комментарий ревьюера V2</b>\n",
    "\n",
    "Ты исправил критическое замечания и многое улучшил дополнительно. Теперь твой проект выглядит хорошо! \n",
    "Обрати только внимание - корреляцию мы проверяем с продажами а не с количеством игр. Исправь это пожалуйста в последней версии своего проекта.\n",
    "\n",
    "Успехов в дальнейшем обучении! 🤝\n",
    "\n",
    "</div>"
   ]
  },
  {
   "cell_type": "markdown",
   "metadata": {},
   "source": [
    "<div class=\"alert-info\">\n",
    "<b>Комментарий студента</b>\n",
    "\n",
    "В столбце `'total_number'` у меня содержится не количество выпущенных игр, а именно продажи.</div>"
   ]
  },
  {
   "cell_type": "code",
   "execution_count": null,
   "metadata": {},
   "outputs": [],
   "source": []
  }
 ],
 "metadata": {
  "ExecuteTimeLog": [
   {
    "duration": 734,
    "start_time": "2022-02-24T16:49:50.211Z"
   },
   {
    "duration": 45,
    "start_time": "2022-02-24T16:50:33.826Z"
   },
   {
    "duration": 30,
    "start_time": "2022-02-24T16:51:53.360Z"
   },
   {
    "duration": 15,
    "start_time": "2022-02-24T16:52:53.393Z"
   },
   {
    "duration": 43,
    "start_time": "2022-02-24T16:55:14.687Z"
   },
   {
    "duration": 116,
    "start_time": "2022-02-24T18:38:22.623Z"
   },
   {
    "duration": 4,
    "start_time": "2022-02-24T19:45:15.963Z"
   },
   {
    "duration": 25,
    "start_time": "2022-02-24T19:45:44.073Z"
   },
   {
    "duration": 114,
    "start_time": "2022-02-24T20:21:43.729Z"
   },
   {
    "duration": 12,
    "start_time": "2022-02-24T20:22:00.609Z"
   },
   {
    "duration": 376,
    "start_time": "2022-02-25T14:50:54.912Z"
   },
   {
    "duration": 782,
    "start_time": "2022-02-25T14:51:00.352Z"
   },
   {
    "duration": 50,
    "start_time": "2022-02-25T14:51:01.138Z"
   },
   {
    "duration": 45,
    "start_time": "2022-02-25T14:51:01.192Z"
   },
   {
    "duration": 15,
    "start_time": "2022-02-25T14:51:01.240Z"
   },
   {
    "duration": 70,
    "start_time": "2022-02-25T14:51:01.258Z"
   },
   {
    "duration": 22,
    "start_time": "2022-02-25T14:51:01.331Z"
   },
   {
    "duration": 16,
    "start_time": "2022-02-25T14:51:01.355Z"
   },
   {
    "duration": 30,
    "start_time": "2022-02-25T14:51:01.375Z"
   },
   {
    "duration": 34,
    "start_time": "2022-02-25T14:53:18.976Z"
   },
   {
    "duration": 30,
    "start_time": "2022-02-25T14:57:40.465Z"
   },
   {
    "duration": 403,
    "start_time": "2022-02-25T15:05:57.275Z"
   },
   {
    "duration": 11,
    "start_time": "2022-02-25T15:06:11.755Z"
   },
   {
    "duration": 8,
    "start_time": "2022-02-25T15:10:14.281Z"
   },
   {
    "duration": 7,
    "start_time": "2022-02-25T15:12:04.944Z"
   },
   {
    "duration": 7,
    "start_time": "2022-02-25T15:20:29.723Z"
   },
   {
    "duration": 5,
    "start_time": "2022-02-25T15:46:21.467Z"
   },
   {
    "duration": 6,
    "start_time": "2022-02-25T15:58:50.737Z"
   },
   {
    "duration": 9,
    "start_time": "2022-02-25T16:06:50.557Z"
   },
   {
    "duration": 13,
    "start_time": "2022-02-25T16:09:31.027Z"
   },
   {
    "duration": 12,
    "start_time": "2022-02-25T16:10:03.502Z"
   },
   {
    "duration": 14,
    "start_time": "2022-02-25T16:10:27.332Z"
   },
   {
    "duration": 3,
    "start_time": "2022-02-25T16:10:38.054Z"
   },
   {
    "duration": 1718,
    "start_time": "2022-02-25T16:10:38.060Z"
   },
   {
    "duration": 20,
    "start_time": "2022-02-25T16:10:39.781Z"
   },
   {
    "duration": 13,
    "start_time": "2022-02-25T16:10:39.805Z"
   },
   {
    "duration": 44,
    "start_time": "2022-02-25T16:10:39.827Z"
   },
   {
    "duration": 24,
    "start_time": "2022-02-25T16:10:39.874Z"
   },
   {
    "duration": 13,
    "start_time": "2022-02-25T16:10:39.927Z"
   },
   {
    "duration": 6,
    "start_time": "2022-02-25T16:10:39.942Z"
   },
   {
    "duration": 16,
    "start_time": "2022-02-25T16:10:39.951Z"
   },
   {
    "duration": 12,
    "start_time": "2022-02-25T16:10:39.969Z"
   },
   {
    "duration": 7,
    "start_time": "2022-02-25T16:10:40.027Z"
   },
   {
    "duration": 8,
    "start_time": "2022-02-25T16:10:40.036Z"
   },
   {
    "duration": 7,
    "start_time": "2022-02-25T16:10:40.046Z"
   },
   {
    "duration": 34,
    "start_time": "2022-02-25T16:16:49.633Z"
   },
   {
    "duration": 13,
    "start_time": "2022-02-25T16:17:09.392Z"
   },
   {
    "duration": 12,
    "start_time": "2022-02-25T16:17:18.641Z"
   },
   {
    "duration": 3,
    "start_time": "2022-02-25T16:17:24.875Z"
   },
   {
    "duration": 45,
    "start_time": "2022-02-25T16:17:24.881Z"
   },
   {
    "duration": 20,
    "start_time": "2022-02-25T16:17:24.929Z"
   },
   {
    "duration": 13,
    "start_time": "2022-02-25T16:17:24.952Z"
   },
   {
    "duration": 70,
    "start_time": "2022-02-25T16:17:24.968Z"
   },
   {
    "duration": 22,
    "start_time": "2022-02-25T16:17:25.041Z"
   },
   {
    "duration": 12,
    "start_time": "2022-02-25T16:17:25.065Z"
   },
   {
    "duration": 5,
    "start_time": "2022-02-25T16:17:25.081Z"
   },
   {
    "duration": 45,
    "start_time": "2022-02-25T16:17:25.089Z"
   },
   {
    "duration": 11,
    "start_time": "2022-02-25T16:17:25.137Z"
   },
   {
    "duration": 12,
    "start_time": "2022-02-25T16:17:25.150Z"
   },
   {
    "duration": 7,
    "start_time": "2022-02-25T16:17:25.164Z"
   },
   {
    "duration": 6,
    "start_time": "2022-02-25T16:17:25.173Z"
   },
   {
    "duration": 46,
    "start_time": "2022-02-25T16:17:25.182Z"
   },
   {
    "duration": 13,
    "start_time": "2022-02-25T16:17:40.937Z"
   },
   {
    "duration": 13,
    "start_time": "2022-02-25T16:17:52.649Z"
   },
   {
    "duration": 28,
    "start_time": "2022-02-25T16:19:50.865Z"
   },
   {
    "duration": 23,
    "start_time": "2022-02-25T16:20:06.831Z"
   },
   {
    "duration": 119,
    "start_time": "2022-02-25T16:20:53.727Z"
   },
   {
    "duration": 22,
    "start_time": "2022-02-25T16:21:17.927Z"
   },
   {
    "duration": 1370,
    "start_time": "2022-02-25T16:22:22.016Z"
   },
   {
    "duration": 3,
    "start_time": "2022-02-25T16:22:33.024Z"
   },
   {
    "duration": 49,
    "start_time": "2022-02-25T16:22:33.030Z"
   },
   {
    "duration": 20,
    "start_time": "2022-02-25T16:22:33.082Z"
   },
   {
    "duration": 30,
    "start_time": "2022-02-25T16:22:33.105Z"
   },
   {
    "duration": 45,
    "start_time": "2022-02-25T16:22:33.138Z"
   },
   {
    "duration": 56,
    "start_time": "2022-02-25T16:22:33.186Z"
   },
   {
    "duration": 318,
    "start_time": "2022-02-25T16:22:33.245Z"
   },
   {
    "duration": 843,
    "start_time": "2022-02-25T16:22:32.723Z"
   },
   {
    "duration": 842,
    "start_time": "2022-02-25T16:22:32.725Z"
   },
   {
    "duration": 841,
    "start_time": "2022-02-25T16:22:32.728Z"
   },
   {
    "duration": 840,
    "start_time": "2022-02-25T16:22:32.730Z"
   },
   {
    "duration": 840,
    "start_time": "2022-02-25T16:22:32.732Z"
   },
   {
    "duration": 840,
    "start_time": "2022-02-25T16:22:32.733Z"
   },
   {
    "duration": 839,
    "start_time": "2022-02-25T16:22:32.735Z"
   },
   {
    "duration": 840,
    "start_time": "2022-02-25T16:22:32.736Z"
   },
   {
    "duration": 839,
    "start_time": "2022-02-25T16:22:32.738Z"
   },
   {
    "duration": 3,
    "start_time": "2022-02-25T16:22:49.312Z"
   },
   {
    "duration": 43,
    "start_time": "2022-02-25T16:22:49.318Z"
   },
   {
    "duration": 21,
    "start_time": "2022-02-25T16:22:49.364Z"
   },
   {
    "duration": 14,
    "start_time": "2022-02-25T16:22:49.388Z"
   },
   {
    "duration": 43,
    "start_time": "2022-02-25T16:22:49.427Z"
   },
   {
    "duration": 23,
    "start_time": "2022-02-25T16:22:49.473Z"
   },
   {
    "duration": 38,
    "start_time": "2022-02-25T16:22:49.499Z"
   },
   {
    "duration": 5,
    "start_time": "2022-02-25T16:22:49.540Z"
   },
   {
    "duration": 12,
    "start_time": "2022-02-25T16:22:49.548Z"
   },
   {
    "duration": 10,
    "start_time": "2022-02-25T16:22:49.563Z"
   },
   {
    "duration": 56,
    "start_time": "2022-02-25T16:22:49.576Z"
   },
   {
    "duration": 6,
    "start_time": "2022-02-25T16:22:49.635Z"
   },
   {
    "duration": 7,
    "start_time": "2022-02-25T16:22:49.643Z"
   },
   {
    "duration": 6,
    "start_time": "2022-02-25T16:22:49.652Z"
   },
   {
    "duration": 29,
    "start_time": "2022-02-25T16:22:49.660Z"
   },
   {
    "duration": 21,
    "start_time": "2022-02-25T17:14:23.739Z"
   },
   {
    "duration": 14,
    "start_time": "2022-02-25T17:14:32.667Z"
   },
   {
    "duration": 15,
    "start_time": "2022-02-25T17:14:35.813Z"
   },
   {
    "duration": 22,
    "start_time": "2022-02-25T17:14:46.755Z"
   },
   {
    "duration": 357,
    "start_time": "2022-02-25T17:15:01.045Z"
   },
   {
    "duration": 22,
    "start_time": "2022-02-25T17:15:08.965Z"
   },
   {
    "duration": 20,
    "start_time": "2022-02-25T17:15:28.016Z"
   },
   {
    "duration": 19,
    "start_time": "2022-02-25T17:16:15.636Z"
   },
   {
    "duration": 398,
    "start_time": "2022-02-25T17:18:05.573Z"
   },
   {
    "duration": 6,
    "start_time": "2022-02-25T17:18:15.156Z"
   },
   {
    "duration": 4,
    "start_time": "2022-02-25T17:19:01.923Z"
   },
   {
    "duration": 29,
    "start_time": "2022-02-25T17:19:08.812Z"
   },
   {
    "duration": 5,
    "start_time": "2022-02-25T17:25:19.631Z"
   },
   {
    "duration": 701,
    "start_time": "2022-02-25T17:25:47.624Z"
   },
   {
    "duration": 11,
    "start_time": "2022-02-25T17:26:57.399Z"
   },
   {
    "duration": 31,
    "start_time": "2022-02-25T17:27:10.864Z"
   },
   {
    "duration": 3,
    "start_time": "2022-02-25T17:27:17.858Z"
   },
   {
    "duration": 54,
    "start_time": "2022-02-25T17:27:17.865Z"
   },
   {
    "duration": 22,
    "start_time": "2022-02-25T17:27:17.923Z"
   },
   {
    "duration": 16,
    "start_time": "2022-02-25T17:27:17.947Z"
   },
   {
    "duration": 63,
    "start_time": "2022-02-25T17:27:17.965Z"
   },
   {
    "duration": 24,
    "start_time": "2022-02-25T17:27:18.031Z"
   },
   {
    "duration": 14,
    "start_time": "2022-02-25T17:27:18.061Z"
   },
   {
    "duration": 7,
    "start_time": "2022-02-25T17:27:18.079Z"
   },
   {
    "duration": 14,
    "start_time": "2022-02-25T17:27:18.127Z"
   },
   {
    "duration": 12,
    "start_time": "2022-02-25T17:27:18.143Z"
   },
   {
    "duration": 11,
    "start_time": "2022-02-25T17:27:18.158Z"
   },
   {
    "duration": 7,
    "start_time": "2022-02-25T17:27:18.172Z"
   },
   {
    "duration": 47,
    "start_time": "2022-02-25T17:27:18.181Z"
   },
   {
    "duration": 7,
    "start_time": "2022-02-25T17:27:18.230Z"
   },
   {
    "duration": 32,
    "start_time": "2022-02-25T17:27:18.240Z"
   },
   {
    "duration": 69,
    "start_time": "2022-02-25T17:27:18.274Z"
   },
   {
    "duration": 4,
    "start_time": "2022-02-25T17:27:18.346Z"
   },
   {
    "duration": 673,
    "start_time": "2022-02-25T17:27:18.352Z"
   },
   {
    "duration": 8,
    "start_time": "2022-02-25T17:27:35.800Z"
   },
   {
    "duration": 9925,
    "start_time": "2022-02-25T17:28:01.560Z"
   },
   {
    "duration": 6173,
    "start_time": "2022-02-25T17:28:14.786Z"
   },
   {
    "duration": 4357,
    "start_time": "2022-02-25T17:28:40.759Z"
   },
   {
    "duration": 3,
    "start_time": "2022-02-25T17:28:51.161Z"
   },
   {
    "duration": 53,
    "start_time": "2022-02-25T17:28:51.167Z"
   },
   {
    "duration": 21,
    "start_time": "2022-02-25T17:28:51.223Z"
   },
   {
    "duration": 14,
    "start_time": "2022-02-25T17:28:51.248Z"
   },
   {
    "duration": 68,
    "start_time": "2022-02-25T17:28:51.265Z"
   },
   {
    "duration": 22,
    "start_time": "2022-02-25T17:28:51.335Z"
   },
   {
    "duration": 13,
    "start_time": "2022-02-25T17:28:51.360Z"
   },
   {
    "duration": 6,
    "start_time": "2022-02-25T17:28:51.377Z"
   },
   {
    "duration": 47,
    "start_time": "2022-02-25T17:28:51.385Z"
   },
   {
    "duration": 12,
    "start_time": "2022-02-25T17:28:51.434Z"
   },
   {
    "duration": 12,
    "start_time": "2022-02-25T17:28:51.449Z"
   },
   {
    "duration": 7,
    "start_time": "2022-02-25T17:28:51.463Z"
   },
   {
    "duration": 7,
    "start_time": "2022-02-25T17:28:51.472Z"
   },
   {
    "duration": 47,
    "start_time": "2022-02-25T17:28:51.482Z"
   },
   {
    "duration": 28,
    "start_time": "2022-02-25T17:28:51.531Z"
   },
   {
    "duration": 9,
    "start_time": "2022-02-25T17:28:51.561Z"
   },
   {
    "duration": 805,
    "start_time": "2022-02-25T17:29:05.839Z"
   },
   {
    "duration": 800,
    "start_time": "2022-02-25T17:29:05.845Z"
   },
   {
    "duration": 800,
    "start_time": "2022-02-25T17:29:05.847Z"
   },
   {
    "duration": 799,
    "start_time": "2022-02-25T17:29:05.850Z"
   },
   {
    "duration": 798,
    "start_time": "2022-02-25T17:29:05.852Z"
   },
   {
    "duration": 799,
    "start_time": "2022-02-25T17:29:05.853Z"
   },
   {
    "duration": 798,
    "start_time": "2022-02-25T17:29:05.855Z"
   },
   {
    "duration": 795,
    "start_time": "2022-02-25T17:29:05.860Z"
   },
   {
    "duration": 794,
    "start_time": "2022-02-25T17:29:05.862Z"
   },
   {
    "duration": 794,
    "start_time": "2022-02-25T17:29:05.864Z"
   },
   {
    "duration": 794,
    "start_time": "2022-02-25T17:29:05.865Z"
   },
   {
    "duration": 795,
    "start_time": "2022-02-25T17:29:05.866Z"
   },
   {
    "duration": 4267,
    "start_time": "2022-02-25T17:29:06.664Z"
   },
   {
    "duration": 794,
    "start_time": "2022-02-25T17:29:10.139Z"
   },
   {
    "duration": 795,
    "start_time": "2022-02-25T17:29:10.140Z"
   },
   {
    "duration": 795,
    "start_time": "2022-02-25T17:29:10.142Z"
   },
   {
    "duration": 3,
    "start_time": "2022-02-25T17:29:18.057Z"
   },
   {
    "duration": 42,
    "start_time": "2022-02-25T17:29:18.063Z"
   },
   {
    "duration": 22,
    "start_time": "2022-02-25T17:29:18.109Z"
   },
   {
    "duration": 14,
    "start_time": "2022-02-25T17:29:18.133Z"
   },
   {
    "duration": 43,
    "start_time": "2022-02-25T17:29:18.150Z"
   },
   {
    "duration": 52,
    "start_time": "2022-02-25T17:29:18.196Z"
   },
   {
    "duration": 11,
    "start_time": "2022-02-25T17:29:18.251Z"
   },
   {
    "duration": 5,
    "start_time": "2022-02-25T17:29:18.266Z"
   },
   {
    "duration": 13,
    "start_time": "2022-02-25T17:29:18.275Z"
   },
   {
    "duration": 17,
    "start_time": "2022-02-25T17:29:18.328Z"
   },
   {
    "duration": 16,
    "start_time": "2022-02-25T17:29:18.348Z"
   },
   {
    "duration": 6,
    "start_time": "2022-02-25T17:29:18.367Z"
   },
   {
    "duration": 7,
    "start_time": "2022-02-25T17:29:18.376Z"
   },
   {
    "duration": 44,
    "start_time": "2022-02-25T17:29:18.385Z"
   },
   {
    "duration": 28,
    "start_time": "2022-02-25T17:29:18.431Z"
   },
   {
    "duration": 65,
    "start_time": "2022-02-25T17:29:18.461Z"
   },
   {
    "duration": 35,
    "start_time": "2022-02-25T17:29:35.486Z"
   },
   {
    "duration": 807,
    "start_time": "2022-02-25T17:31:22.077Z"
   },
   {
    "duration": 3,
    "start_time": "2022-02-25T17:31:27.839Z"
   },
   {
    "duration": 49,
    "start_time": "2022-02-25T17:31:27.845Z"
   },
   {
    "duration": 21,
    "start_time": "2022-02-25T17:31:27.897Z"
   },
   {
    "duration": 14,
    "start_time": "2022-02-25T17:31:27.927Z"
   },
   {
    "duration": 46,
    "start_time": "2022-02-25T17:31:27.944Z"
   },
   {
    "duration": 48,
    "start_time": "2022-02-25T17:31:27.992Z"
   },
   {
    "duration": 12,
    "start_time": "2022-02-25T17:31:28.043Z"
   },
   {
    "duration": 7,
    "start_time": "2022-02-25T17:31:28.057Z"
   },
   {
    "duration": 12,
    "start_time": "2022-02-25T17:31:28.067Z"
   },
   {
    "duration": 53,
    "start_time": "2022-02-25T17:31:28.083Z"
   },
   {
    "duration": 14,
    "start_time": "2022-02-25T17:31:28.139Z"
   },
   {
    "duration": 9,
    "start_time": "2022-02-25T17:31:28.156Z"
   },
   {
    "duration": 8,
    "start_time": "2022-02-25T17:31:28.168Z"
   },
   {
    "duration": 53,
    "start_time": "2022-02-25T17:31:28.179Z"
   },
   {
    "duration": 32,
    "start_time": "2022-02-25T17:31:28.235Z"
   },
   {
    "duration": 17858,
    "start_time": "2022-02-25T17:31:28.270Z"
   },
   {
    "duration": 30,
    "start_time": "2022-02-25T17:31:58.453Z"
   },
   {
    "duration": 5,
    "start_time": "2022-02-25T17:37:40.283Z"
   },
   {
    "duration": 647,
    "start_time": "2022-02-25T17:38:11.938Z"
   },
   {
    "duration": 341,
    "start_time": "2022-02-25T17:39:10.369Z"
   },
   {
    "duration": 335,
    "start_time": "2022-02-25T17:39:20.058Z"
   },
   {
    "duration": 327,
    "start_time": "2022-02-25T17:39:28.666Z"
   },
   {
    "duration": 4,
    "start_time": "2022-02-25T17:40:38.513Z"
   },
   {
    "duration": 592,
    "start_time": "2022-02-25T17:40:39.568Z"
   },
   {
    "duration": 3,
    "start_time": "2022-02-25T17:41:44.449Z"
   },
   {
    "duration": 3601,
    "start_time": "2022-02-25T17:41:45.177Z"
   },
   {
    "duration": 5,
    "start_time": "2022-02-25T17:42:22.968Z"
   },
   {
    "duration": 620,
    "start_time": "2022-02-25T17:42:23.928Z"
   },
   {
    "duration": 15,
    "start_time": "2022-02-25T17:43:00.231Z"
   },
   {
    "duration": 4,
    "start_time": "2022-02-25T17:43:04.786Z"
   },
   {
    "duration": 54,
    "start_time": "2022-02-25T17:43:04.793Z"
   },
   {
    "duration": 22,
    "start_time": "2022-02-25T17:43:04.850Z"
   },
   {
    "duration": 16,
    "start_time": "2022-02-25T17:43:04.875Z"
   },
   {
    "duration": 68,
    "start_time": "2022-02-25T17:43:04.894Z"
   },
   {
    "duration": 23,
    "start_time": "2022-02-25T17:43:04.964Z"
   },
   {
    "duration": 35,
    "start_time": "2022-02-25T17:43:04.990Z"
   },
   {
    "duration": 7,
    "start_time": "2022-02-25T17:43:05.031Z"
   },
   {
    "duration": 16,
    "start_time": "2022-02-25T17:43:05.042Z"
   },
   {
    "duration": 13,
    "start_time": "2022-02-25T17:43:05.061Z"
   },
   {
    "duration": 59,
    "start_time": "2022-02-25T17:43:05.077Z"
   },
   {
    "duration": 7,
    "start_time": "2022-02-25T17:43:05.139Z"
   },
   {
    "duration": 6,
    "start_time": "2022-02-25T17:43:05.149Z"
   },
   {
    "duration": 7,
    "start_time": "2022-02-25T17:43:05.157Z"
   },
   {
    "duration": 75,
    "start_time": "2022-02-25T17:43:05.167Z"
   },
   {
    "duration": 15,
    "start_time": "2022-02-25T17:43:05.245Z"
   },
   {
    "duration": 32,
    "start_time": "2022-02-25T17:43:05.263Z"
   },
   {
    "duration": 31,
    "start_time": "2022-02-25T17:43:05.298Z"
   },
   {
    "duration": 775,
    "start_time": "2022-02-25T17:43:05.332Z"
   },
   {
    "duration": 7,
    "start_time": "2022-02-25T17:45:17.404Z"
   },
   {
    "duration": 29,
    "start_time": "2022-02-25T17:45:21.118Z"
   },
   {
    "duration": 17,
    "start_time": "2022-02-25T17:45:32.622Z"
   },
   {
    "duration": 1807,
    "start_time": "2022-02-25T17:45:49.782Z"
   },
   {
    "duration": 382,
    "start_time": "2022-02-25T17:46:05.079Z"
   },
   {
    "duration": 663,
    "start_time": "2022-02-25T17:46:18.382Z"
   },
   {
    "duration": 3,
    "start_time": "2022-02-25T17:46:33.225Z"
   },
   {
    "duration": 45,
    "start_time": "2022-02-25T17:46:33.231Z"
   },
   {
    "duration": 21,
    "start_time": "2022-02-25T17:46:33.279Z"
   },
   {
    "duration": 14,
    "start_time": "2022-02-25T17:46:33.326Z"
   },
   {
    "duration": 47,
    "start_time": "2022-02-25T17:46:33.343Z"
   },
   {
    "duration": 51,
    "start_time": "2022-02-25T17:46:33.394Z"
   },
   {
    "duration": 13,
    "start_time": "2022-02-25T17:46:33.448Z"
   },
   {
    "duration": 6,
    "start_time": "2022-02-25T17:46:33.464Z"
   },
   {
    "duration": 51,
    "start_time": "2022-02-25T17:46:33.474Z"
   },
   {
    "duration": 12,
    "start_time": "2022-02-25T17:46:33.528Z"
   },
   {
    "duration": 13,
    "start_time": "2022-02-25T17:46:33.542Z"
   },
   {
    "duration": 7,
    "start_time": "2022-02-25T17:46:33.558Z"
   },
   {
    "duration": 7,
    "start_time": "2022-02-25T17:46:33.567Z"
   },
   {
    "duration": 52,
    "start_time": "2022-02-25T17:46:33.576Z"
   },
   {
    "duration": 31,
    "start_time": "2022-02-25T17:46:33.631Z"
   },
   {
    "duration": 14,
    "start_time": "2022-02-25T17:46:33.665Z"
   },
   {
    "duration": 68,
    "start_time": "2022-02-25T17:46:33.682Z"
   },
   {
    "duration": 4,
    "start_time": "2022-02-25T17:46:33.752Z"
   },
   {
    "duration": 383,
    "start_time": "2022-02-25T17:46:33.759Z"
   },
   {
    "duration": 795,
    "start_time": "2022-02-25T17:46:33.349Z"
   },
   {
    "duration": 15,
    "start_time": "2022-02-25T17:46:46.573Z"
   },
   {
    "duration": 4,
    "start_time": "2022-02-25T17:47:30.931Z"
   },
   {
    "duration": 9120,
    "start_time": "2022-02-25T17:47:35.189Z"
   },
   {
    "duration": 4352,
    "start_time": "2022-02-25T17:47:51.478Z"
   },
   {
    "duration": 3,
    "start_time": "2022-02-25T17:48:08.233Z"
   },
   {
    "duration": 44,
    "start_time": "2022-02-25T17:48:08.238Z"
   },
   {
    "duration": 41,
    "start_time": "2022-02-25T17:48:08.285Z"
   },
   {
    "duration": 14,
    "start_time": "2022-02-25T17:48:08.329Z"
   },
   {
    "duration": 44,
    "start_time": "2022-02-25T17:48:08.345Z"
   },
   {
    "duration": 47,
    "start_time": "2022-02-25T17:48:08.391Z"
   },
   {
    "duration": 11,
    "start_time": "2022-02-25T17:48:08.441Z"
   },
   {
    "duration": 6,
    "start_time": "2022-02-25T17:48:08.454Z"
   },
   {
    "duration": 12,
    "start_time": "2022-02-25T17:48:08.463Z"
   },
   {
    "duration": 53,
    "start_time": "2022-02-25T17:48:08.479Z"
   },
   {
    "duration": 13,
    "start_time": "2022-02-25T17:48:08.535Z"
   },
   {
    "duration": 6,
    "start_time": "2022-02-25T17:48:08.550Z"
   },
   {
    "duration": 5,
    "start_time": "2022-02-25T17:48:08.559Z"
   },
   {
    "duration": 6,
    "start_time": "2022-02-25T17:48:08.566Z"
   },
   {
    "duration": 75,
    "start_time": "2022-02-25T17:48:08.574Z"
   },
   {
    "duration": 11,
    "start_time": "2022-02-25T17:48:08.651Z"
   },
   {
    "duration": 30,
    "start_time": "2022-02-25T17:48:08.665Z"
   },
   {
    "duration": 30,
    "start_time": "2022-02-25T17:48:08.697Z"
   },
   {
    "duration": 4840,
    "start_time": "2022-02-25T17:48:08.730Z"
   },
   {
    "duration": 4,
    "start_time": "2022-02-25T17:48:33.301Z"
   },
   {
    "duration": 4455,
    "start_time": "2022-02-25T17:48:33.925Z"
   },
   {
    "duration": 4,
    "start_time": "2022-02-25T17:50:45.323Z"
   },
   {
    "duration": 4223,
    "start_time": "2022-02-25T17:50:48.035Z"
   },
   {
    "duration": 104,
    "start_time": "2022-02-25T17:52:16.489Z"
   },
   {
    "duration": 4,
    "start_time": "2022-02-25T17:52:22.403Z"
   },
   {
    "duration": 1626,
    "start_time": "2022-02-25T17:52:24.371Z"
   },
   {
    "duration": 1395,
    "start_time": "2022-02-25T17:56:29.984Z"
   },
   {
    "duration": 4,
    "start_time": "2022-02-25T17:56:34.643Z"
   },
   {
    "duration": 45,
    "start_time": "2022-02-25T17:56:34.651Z"
   },
   {
    "duration": 34,
    "start_time": "2022-02-25T17:56:34.700Z"
   },
   {
    "duration": 15,
    "start_time": "2022-02-25T17:56:34.738Z"
   },
   {
    "duration": 77,
    "start_time": "2022-02-25T17:56:34.755Z"
   },
   {
    "duration": 23,
    "start_time": "2022-02-25T17:56:34.835Z"
   },
   {
    "duration": 15,
    "start_time": "2022-02-25T17:56:34.862Z"
   },
   {
    "duration": 7,
    "start_time": "2022-02-25T17:56:34.880Z"
   },
   {
    "duration": 46,
    "start_time": "2022-02-25T17:56:34.890Z"
   },
   {
    "duration": 11,
    "start_time": "2022-02-25T17:56:34.939Z"
   },
   {
    "duration": 12,
    "start_time": "2022-02-25T17:56:34.953Z"
   },
   {
    "duration": 9,
    "start_time": "2022-02-25T17:56:34.968Z"
   },
   {
    "duration": 48,
    "start_time": "2022-02-25T17:56:34.980Z"
   },
   {
    "duration": 7,
    "start_time": "2022-02-25T17:56:35.030Z"
   },
   {
    "duration": 29,
    "start_time": "2022-02-25T17:56:35.039Z"
   },
   {
    "duration": 13,
    "start_time": "2022-02-25T17:56:35.071Z"
   },
   {
    "duration": 46,
    "start_time": "2022-02-25T17:56:35.127Z"
   },
   {
    "duration": 5,
    "start_time": "2022-02-25T17:56:35.176Z"
   },
   {
    "duration": 1228,
    "start_time": "2022-02-25T17:56:35.185Z"
   },
   {
    "duration": 1523,
    "start_time": "2022-02-25T17:56:46.249Z"
   },
   {
    "duration": 32,
    "start_time": "2022-02-25T17:58:20.568Z"
   },
   {
    "duration": 10,
    "start_time": "2022-02-25T17:58:40.496Z"
   },
   {
    "duration": 8,
    "start_time": "2022-02-25T17:58:45.065Z"
   },
   {
    "duration": 8,
    "start_time": "2022-02-25T17:58:45.994Z"
   },
   {
    "duration": 42,
    "start_time": "2022-02-25T17:59:00.028Z"
   },
   {
    "duration": 27,
    "start_time": "2022-02-25T17:59:09.440Z"
   },
   {
    "duration": 674,
    "start_time": "2022-02-25T17:59:57.007Z"
   },
   {
    "duration": 5,
    "start_time": "2022-02-25T17:59:59.792Z"
   },
   {
    "duration": 637,
    "start_time": "2022-02-25T18:00:00.207Z"
   },
   {
    "duration": 4,
    "start_time": "2022-02-25T18:00:52.167Z"
   },
   {
    "duration": 3490,
    "start_time": "2022-02-25T18:00:53.015Z"
   },
   {
    "duration": 8,
    "start_time": "2022-02-25T18:01:21.222Z"
   },
   {
    "duration": 7,
    "start_time": "2022-02-25T18:01:49.424Z"
   },
   {
    "duration": 3,
    "start_time": "2022-02-25T18:01:54.729Z"
   },
   {
    "duration": 41,
    "start_time": "2022-02-25T18:01:54.735Z"
   },
   {
    "duration": 20,
    "start_time": "2022-02-25T18:01:54.780Z"
   },
   {
    "duration": 17,
    "start_time": "2022-02-25T18:01:54.828Z"
   },
   {
    "duration": 44,
    "start_time": "2022-02-25T18:01:54.848Z"
   },
   {
    "duration": 50,
    "start_time": "2022-02-25T18:01:54.894Z"
   },
   {
    "duration": 12,
    "start_time": "2022-02-25T18:01:54.946Z"
   },
   {
    "duration": 7,
    "start_time": "2022-02-25T18:01:54.961Z"
   },
   {
    "duration": 56,
    "start_time": "2022-02-25T18:01:54.973Z"
   },
   {
    "duration": 12,
    "start_time": "2022-02-25T18:01:55.031Z"
   },
   {
    "duration": 12,
    "start_time": "2022-02-25T18:01:55.045Z"
   },
   {
    "duration": 6,
    "start_time": "2022-02-25T18:01:55.059Z"
   },
   {
    "duration": 6,
    "start_time": "2022-02-25T18:01:55.068Z"
   },
   {
    "duration": 6,
    "start_time": "2022-02-25T18:01:55.076Z"
   },
   {
    "duration": 29,
    "start_time": "2022-02-25T18:01:55.127Z"
   },
   {
    "duration": 12,
    "start_time": "2022-02-25T18:01:55.158Z"
   },
   {
    "duration": 62,
    "start_time": "2022-02-25T18:01:55.173Z"
   },
   {
    "duration": 9,
    "start_time": "2022-02-25T18:01:55.237Z"
   },
   {
    "duration": 7,
    "start_time": "2022-02-25T18:01:55.248Z"
   },
   {
    "duration": 4,
    "start_time": "2022-02-25T18:01:55.258Z"
   },
   {
    "duration": 624,
    "start_time": "2022-02-25T18:01:55.264Z"
   },
   {
    "duration": 5,
    "start_time": "2022-02-25T18:02:28.958Z"
   },
   {
    "duration": 28,
    "start_time": "2022-02-25T18:02:34.310Z"
   },
   {
    "duration": 4,
    "start_time": "2022-02-25T18:02:46.870Z"
   },
   {
    "duration": 626,
    "start_time": "2022-02-25T18:02:47.478Z"
   },
   {
    "duration": 4,
    "start_time": "2022-02-25T18:03:10.557Z"
   },
   {
    "duration": 610,
    "start_time": "2022-02-25T18:03:10.925Z"
   },
   {
    "duration": 1282,
    "start_time": "2022-02-25T18:04:12.685Z"
   },
   {
    "duration": 3,
    "start_time": "2022-02-25T18:08:07.190Z"
   },
   {
    "duration": 67,
    "start_time": "2022-02-25T18:08:07.196Z"
   },
   {
    "duration": 21,
    "start_time": "2022-02-25T18:08:07.267Z"
   },
   {
    "duration": 15,
    "start_time": "2022-02-25T18:08:07.291Z"
   },
   {
    "duration": 52,
    "start_time": "2022-02-25T18:08:07.326Z"
   },
   {
    "duration": 23,
    "start_time": "2022-02-25T18:08:07.380Z"
   },
   {
    "duration": 27,
    "start_time": "2022-02-25T18:08:07.407Z"
   },
   {
    "duration": 6,
    "start_time": "2022-02-25T18:08:07.437Z"
   },
   {
    "duration": 11,
    "start_time": "2022-02-25T18:08:07.445Z"
   },
   {
    "duration": 11,
    "start_time": "2022-02-25T18:08:07.459Z"
   },
   {
    "duration": 56,
    "start_time": "2022-02-25T18:08:07.472Z"
   },
   {
    "duration": 6,
    "start_time": "2022-02-25T18:08:07.530Z"
   },
   {
    "duration": 6,
    "start_time": "2022-02-25T18:08:07.538Z"
   },
   {
    "duration": 5,
    "start_time": "2022-02-25T18:08:07.547Z"
   },
   {
    "duration": 519,
    "start_time": "2022-02-25T18:08:07.554Z"
   },
   {
    "duration": 770,
    "start_time": "2022-02-25T18:08:07.306Z"
   },
   {
    "duration": 772,
    "start_time": "2022-02-25T18:08:07.307Z"
   },
   {
    "duration": 772,
    "start_time": "2022-02-25T18:08:07.309Z"
   },
   {
    "duration": 773,
    "start_time": "2022-02-25T18:08:07.310Z"
   },
   {
    "duration": 4,
    "start_time": "2022-02-25T18:10:35.699Z"
   },
   {
    "duration": 3,
    "start_time": "2022-02-25T18:10:37.630Z"
   },
   {
    "duration": 47,
    "start_time": "2022-02-25T18:10:37.635Z"
   },
   {
    "duration": 22,
    "start_time": "2022-02-25T18:10:37.686Z"
   },
   {
    "duration": 27,
    "start_time": "2022-02-25T18:10:37.710Z"
   },
   {
    "duration": 47,
    "start_time": "2022-02-25T18:10:37.740Z"
   },
   {
    "duration": 57,
    "start_time": "2022-02-25T18:10:37.789Z"
   },
   {
    "duration": 12,
    "start_time": "2022-02-25T18:10:37.850Z"
   },
   {
    "duration": 6,
    "start_time": "2022-02-25T18:10:37.865Z"
   },
   {
    "duration": 12,
    "start_time": "2022-02-25T18:10:37.874Z"
   },
   {
    "duration": 44,
    "start_time": "2022-02-25T18:10:37.889Z"
   },
   {
    "duration": 13,
    "start_time": "2022-02-25T18:10:37.936Z"
   },
   {
    "duration": 8,
    "start_time": "2022-02-25T18:10:37.952Z"
   },
   {
    "duration": 8,
    "start_time": "2022-02-25T18:10:37.964Z"
   },
   {
    "duration": 8,
    "start_time": "2022-02-25T18:10:38.027Z"
   },
   {
    "duration": 3,
    "start_time": "2022-02-25T18:10:38.038Z"
   },
   {
    "duration": 28,
    "start_time": "2022-02-25T18:10:38.044Z"
   },
   {
    "duration": 12,
    "start_time": "2022-02-25T18:10:38.074Z"
   },
   {
    "duration": 70,
    "start_time": "2022-02-25T18:10:38.088Z"
   },
   {
    "duration": 34,
    "start_time": "2022-02-25T18:10:38.162Z"
   },
   {
    "duration": 27,
    "start_time": "2022-02-25T18:10:38.199Z"
   },
   {
    "duration": 3918,
    "start_time": "2022-02-25T18:11:11.709Z"
   },
   {
    "duration": 4,
    "start_time": "2022-02-25T18:11:45.316Z"
   },
   {
    "duration": 637,
    "start_time": "2022-02-25T18:11:45.337Z"
   },
   {
    "duration": 5,
    "start_time": "2022-02-25T18:11:58.394Z"
   },
   {
    "duration": 624,
    "start_time": "2022-02-25T18:11:58.994Z"
   },
   {
    "duration": 5,
    "start_time": "2022-02-25T18:12:20.365Z"
   },
   {
    "duration": 4,
    "start_time": "2022-02-25T18:12:42.971Z"
   },
   {
    "duration": 4647,
    "start_time": "2022-02-25T18:12:43.372Z"
   },
   {
    "duration": 4,
    "start_time": "2022-02-25T18:14:25.645Z"
   },
   {
    "duration": 46,
    "start_time": "2022-02-25T18:14:25.653Z"
   },
   {
    "duration": 30,
    "start_time": "2022-02-25T18:14:25.702Z"
   },
   {
    "duration": 14,
    "start_time": "2022-02-25T18:14:25.735Z"
   },
   {
    "duration": 45,
    "start_time": "2022-02-25T18:14:25.752Z"
   },
   {
    "duration": 24,
    "start_time": "2022-02-25T18:14:25.827Z"
   },
   {
    "duration": 12,
    "start_time": "2022-02-25T18:14:25.854Z"
   },
   {
    "duration": 7,
    "start_time": "2022-02-25T18:14:25.870Z"
   },
   {
    "duration": 50,
    "start_time": "2022-02-25T18:14:25.880Z"
   },
   {
    "duration": 12,
    "start_time": "2022-02-25T18:14:25.932Z"
   },
   {
    "duration": 12,
    "start_time": "2022-02-25T18:14:25.947Z"
   },
   {
    "duration": 6,
    "start_time": "2022-02-25T18:14:25.962Z"
   },
   {
    "duration": 8,
    "start_time": "2022-02-25T18:14:25.971Z"
   },
   {
    "duration": 47,
    "start_time": "2022-02-25T18:14:25.981Z"
   },
   {
    "duration": 28,
    "start_time": "2022-02-25T18:14:26.031Z"
   },
   {
    "duration": 13,
    "start_time": "2022-02-25T18:14:26.061Z"
   },
   {
    "duration": 72,
    "start_time": "2022-02-25T18:14:26.077Z"
   },
   {
    "duration": 35,
    "start_time": "2022-02-25T18:14:26.152Z"
   },
   {
    "duration": 5,
    "start_time": "2022-02-25T18:14:26.189Z"
   },
   {
    "duration": 650,
    "start_time": "2022-02-25T18:14:26.196Z"
   },
   {
    "duration": 105,
    "start_time": "2022-02-25T18:14:54.041Z"
   },
   {
    "duration": 4,
    "start_time": "2022-02-25T18:15:01.435Z"
   },
   {
    "duration": 3565,
    "start_time": "2022-02-25T18:15:04.186Z"
   },
   {
    "duration": 8405,
    "start_time": "2022-02-25T18:15:34.697Z"
   },
   {
    "duration": 7,
    "start_time": "2022-02-25T18:15:59.832Z"
   },
   {
    "duration": 6,
    "start_time": "2022-02-25T18:16:09.763Z"
   },
   {
    "duration": 4,
    "start_time": "2022-02-25T18:16:22.530Z"
   },
   {
    "duration": 43,
    "start_time": "2022-02-25T18:16:22.536Z"
   },
   {
    "duration": 44,
    "start_time": "2022-02-25T18:16:22.582Z"
   },
   {
    "duration": 13,
    "start_time": "2022-02-25T18:16:22.629Z"
   },
   {
    "duration": 44,
    "start_time": "2022-02-25T18:16:22.645Z"
   },
   {
    "duration": 53,
    "start_time": "2022-02-25T18:16:22.692Z"
   },
   {
    "duration": 14,
    "start_time": "2022-02-25T18:16:22.749Z"
   },
   {
    "duration": 6,
    "start_time": "2022-02-25T18:16:22.768Z"
   },
   {
    "duration": 50,
    "start_time": "2022-02-25T18:16:22.779Z"
   },
   {
    "duration": 10,
    "start_time": "2022-02-25T18:16:22.832Z"
   },
   {
    "duration": 12,
    "start_time": "2022-02-25T18:16:22.844Z"
   },
   {
    "duration": 9,
    "start_time": "2022-02-25T18:16:22.859Z"
   },
   {
    "duration": 8,
    "start_time": "2022-02-25T18:16:22.871Z"
   },
   {
    "duration": 6,
    "start_time": "2022-02-25T18:16:22.926Z"
   },
   {
    "duration": 26,
    "start_time": "2022-02-25T18:16:22.935Z"
   },
   {
    "duration": 14,
    "start_time": "2022-02-25T18:16:22.964Z"
   },
   {
    "duration": 45,
    "start_time": "2022-02-25T18:16:22.981Z"
   },
   {
    "duration": 34,
    "start_time": "2022-02-25T18:16:23.029Z"
   },
   {
    "duration": 34,
    "start_time": "2022-02-25T18:16:23.066Z"
   },
   {
    "duration": 4,
    "start_time": "2022-02-25T18:16:23.127Z"
   },
   {
    "duration": 3602,
    "start_time": "2022-02-25T18:16:23.133Z"
   },
   {
    "duration": 6,
    "start_time": "2022-02-25T18:16:26.737Z"
   },
   {
    "duration": 5,
    "start_time": "2022-02-25T18:16:42.089Z"
   },
   {
    "duration": 3,
    "start_time": "2022-02-25T18:17:40.650Z"
   },
   {
    "duration": 48,
    "start_time": "2022-02-25T18:17:40.655Z"
   },
   {
    "duration": 34,
    "start_time": "2022-02-25T18:17:40.707Z"
   },
   {
    "duration": 16,
    "start_time": "2022-02-25T18:17:40.745Z"
   },
   {
    "duration": 81,
    "start_time": "2022-02-25T18:17:40.765Z"
   },
   {
    "duration": 32,
    "start_time": "2022-02-25T18:17:40.848Z"
   },
   {
    "duration": 14,
    "start_time": "2022-02-25T18:17:40.882Z"
   },
   {
    "duration": 8,
    "start_time": "2022-02-25T18:17:40.927Z"
   },
   {
    "duration": 14,
    "start_time": "2022-02-25T18:17:40.939Z"
   },
   {
    "duration": 12,
    "start_time": "2022-02-25T18:17:40.956Z"
   },
   {
    "duration": 55,
    "start_time": "2022-02-25T18:17:40.973Z"
   },
   {
    "duration": 9,
    "start_time": "2022-02-25T18:17:41.031Z"
   },
   {
    "duration": 8,
    "start_time": "2022-02-25T18:17:41.043Z"
   },
   {
    "duration": 7,
    "start_time": "2022-02-25T18:17:41.054Z"
   },
   {
    "duration": 79,
    "start_time": "2022-02-25T18:17:41.064Z"
   },
   {
    "duration": 15,
    "start_time": "2022-02-25T18:17:41.146Z"
   },
   {
    "duration": 64,
    "start_time": "2022-02-25T18:17:41.164Z"
   },
   {
    "duration": 35,
    "start_time": "2022-02-25T18:17:41.230Z"
   },
   {
    "duration": 4,
    "start_time": "2022-02-25T18:17:41.267Z"
   },
   {
    "duration": 6054,
    "start_time": "2022-02-25T18:17:41.274Z"
   },
   {
    "duration": 7,
    "start_time": "2022-02-25T18:17:47.331Z"
   },
   {
    "duration": 4624,
    "start_time": "2022-02-25T18:18:00.192Z"
   },
   {
    "duration": 6,
    "start_time": "2022-02-25T18:18:08.631Z"
   },
   {
    "duration": 301,
    "start_time": "2022-02-25T18:18:57.488Z"
   },
   {
    "duration": 3,
    "start_time": "2022-02-25T18:19:13.123Z"
   },
   {
    "duration": 50,
    "start_time": "2022-02-25T18:19:13.129Z"
   },
   {
    "duration": 20,
    "start_time": "2022-02-25T18:19:13.182Z"
   },
   {
    "duration": 31,
    "start_time": "2022-02-25T18:19:13.205Z"
   },
   {
    "duration": 43,
    "start_time": "2022-02-25T18:19:13.239Z"
   },
   {
    "duration": 49,
    "start_time": "2022-02-25T18:19:13.285Z"
   },
   {
    "duration": 11,
    "start_time": "2022-02-25T18:19:13.336Z"
   },
   {
    "duration": 6,
    "start_time": "2022-02-25T18:19:13.351Z"
   },
   {
    "duration": 13,
    "start_time": "2022-02-25T18:19:13.359Z"
   },
   {
    "duration": 50,
    "start_time": "2022-02-25T18:19:13.375Z"
   },
   {
    "duration": 12,
    "start_time": "2022-02-25T18:19:13.428Z"
   },
   {
    "duration": 6,
    "start_time": "2022-02-25T18:19:13.443Z"
   },
   {
    "duration": 7,
    "start_time": "2022-02-25T18:19:13.452Z"
   },
   {
    "duration": 6,
    "start_time": "2022-02-25T18:19:13.462Z"
   },
   {
    "duration": 76,
    "start_time": "2022-02-25T18:19:13.470Z"
   },
   {
    "duration": 13,
    "start_time": "2022-02-25T18:19:13.548Z"
   },
   {
    "duration": 33,
    "start_time": "2022-02-25T18:19:13.563Z"
   },
   {
    "duration": 34,
    "start_time": "2022-02-25T18:19:13.627Z"
   },
   {
    "duration": 4,
    "start_time": "2022-02-25T18:19:13.664Z"
   },
   {
    "duration": 4835,
    "start_time": "2022-02-25T18:19:13.671Z"
   },
   {
    "duration": 3,
    "start_time": "2022-02-25T18:19:36.269Z"
   },
   {
    "duration": 49,
    "start_time": "2022-02-25T18:19:36.275Z"
   },
   {
    "duration": 21,
    "start_time": "2022-02-25T18:19:36.327Z"
   },
   {
    "duration": 14,
    "start_time": "2022-02-25T18:19:36.351Z"
   },
   {
    "duration": 68,
    "start_time": "2022-02-25T18:19:36.367Z"
   },
   {
    "duration": 24,
    "start_time": "2022-02-25T18:19:36.438Z"
   },
   {
    "duration": 12,
    "start_time": "2022-02-25T18:19:36.465Z"
   },
   {
    "duration": 6,
    "start_time": "2022-02-25T18:19:36.479Z"
   },
   {
    "duration": 48,
    "start_time": "2022-02-25T18:19:36.491Z"
   },
   {
    "duration": 11,
    "start_time": "2022-02-25T18:19:36.542Z"
   },
   {
    "duration": 12,
    "start_time": "2022-02-25T18:19:36.556Z"
   },
   {
    "duration": 7,
    "start_time": "2022-02-25T18:19:36.570Z"
   },
   {
    "duration": 47,
    "start_time": "2022-02-25T18:19:36.580Z"
   },
   {
    "duration": 7,
    "start_time": "2022-02-25T18:19:36.630Z"
   },
   {
    "duration": 30,
    "start_time": "2022-02-25T18:19:36.639Z"
   },
   {
    "duration": 14,
    "start_time": "2022-02-25T18:19:36.672Z"
   },
   {
    "duration": 31,
    "start_time": "2022-02-25T18:19:36.727Z"
   },
   {
    "duration": 33,
    "start_time": "2022-02-25T18:19:36.761Z"
   },
   {
    "duration": 5,
    "start_time": "2022-02-25T18:19:36.797Z"
   },
   {
    "duration": 4488,
    "start_time": "2022-02-25T18:19:36.828Z"
   },
   {
    "duration": 6,
    "start_time": "2022-02-25T18:20:16.015Z"
   },
   {
    "duration": 4,
    "start_time": "2022-02-25T18:20:28.202Z"
   },
   {
    "duration": 51,
    "start_time": "2022-02-25T18:20:28.209Z"
   },
   {
    "duration": 22,
    "start_time": "2022-02-25T18:20:28.264Z"
   },
   {
    "duration": 40,
    "start_time": "2022-02-25T18:20:28.290Z"
   },
   {
    "duration": 42,
    "start_time": "2022-02-25T18:20:28.333Z"
   },
   {
    "duration": 22,
    "start_time": "2022-02-25T18:20:28.377Z"
   },
   {
    "duration": 33,
    "start_time": "2022-02-25T18:20:28.402Z"
   },
   {
    "duration": 5,
    "start_time": "2022-02-25T18:20:28.438Z"
   },
   {
    "duration": 12,
    "start_time": "2022-02-25T18:20:28.447Z"
   },
   {
    "duration": 10,
    "start_time": "2022-02-25T18:20:28.462Z"
   },
   {
    "duration": 56,
    "start_time": "2022-02-25T18:20:28.475Z"
   },
   {
    "duration": 6,
    "start_time": "2022-02-25T18:20:28.533Z"
   },
   {
    "duration": 7,
    "start_time": "2022-02-25T18:20:28.542Z"
   },
   {
    "duration": 5,
    "start_time": "2022-02-25T18:20:28.551Z"
   },
   {
    "duration": 67,
    "start_time": "2022-02-25T18:20:28.559Z"
   },
   {
    "duration": 14,
    "start_time": "2022-02-25T18:20:28.628Z"
   },
   {
    "duration": 30,
    "start_time": "2022-02-25T18:20:28.644Z"
   },
   {
    "duration": 56,
    "start_time": "2022-02-25T18:20:28.677Z"
   },
   {
    "duration": 4,
    "start_time": "2022-02-25T18:20:28.736Z"
   },
   {
    "duration": 5616,
    "start_time": "2022-02-25T18:20:28.743Z"
   },
   {
    "duration": 6,
    "start_time": "2022-02-25T18:20:34.362Z"
   },
   {
    "duration": 6,
    "start_time": "2022-02-25T18:20:44.175Z"
   },
   {
    "duration": 3,
    "start_time": "2022-02-25T18:23:21.865Z"
   },
   {
    "duration": 706,
    "start_time": "2022-02-25T18:23:23.024Z"
   },
   {
    "duration": 4,
    "start_time": "2022-02-25T18:24:01.958Z"
   },
   {
    "duration": 4,
    "start_time": "2022-02-25T18:24:07.845Z"
   },
   {
    "duration": 1475,
    "start_time": "2022-02-25T18:24:08.165Z"
   },
   {
    "duration": 5,
    "start_time": "2022-02-25T18:24:13.421Z"
   },
   {
    "duration": 664,
    "start_time": "2022-02-25T18:24:14.352Z"
   },
   {
    "duration": 4,
    "start_time": "2022-02-25T18:24:32.069Z"
   },
   {
    "duration": 3851,
    "start_time": "2022-02-25T18:24:32.725Z"
   },
   {
    "duration": 4,
    "start_time": "2022-02-25T18:24:58.711Z"
   },
   {
    "duration": 4461,
    "start_time": "2022-02-25T18:24:59.055Z"
   },
   {
    "duration": 5,
    "start_time": "2022-02-25T18:25:15.325Z"
   },
   {
    "duration": 6,
    "start_time": "2022-02-25T18:25:22.844Z"
   },
   {
    "duration": 4,
    "start_time": "2022-02-25T18:25:26.199Z"
   },
   {
    "duration": 45,
    "start_time": "2022-02-25T18:25:26.205Z"
   },
   {
    "duration": 20,
    "start_time": "2022-02-25T18:25:26.254Z"
   },
   {
    "duration": 14,
    "start_time": "2022-02-25T18:25:26.277Z"
   },
   {
    "duration": 71,
    "start_time": "2022-02-25T18:25:26.294Z"
   },
   {
    "duration": 21,
    "start_time": "2022-02-25T18:25:26.368Z"
   },
   {
    "duration": 35,
    "start_time": "2022-02-25T18:25:26.391Z"
   },
   {
    "duration": 7,
    "start_time": "2022-02-25T18:25:26.430Z"
   },
   {
    "duration": 12,
    "start_time": "2022-02-25T18:25:26.440Z"
   },
   {
    "duration": 13,
    "start_time": "2022-02-25T18:25:26.455Z"
   },
   {
    "duration": 12,
    "start_time": "2022-02-25T18:25:26.471Z"
   },
   {
    "duration": 10,
    "start_time": "2022-02-25T18:25:26.527Z"
   },
   {
    "duration": 8,
    "start_time": "2022-02-25T18:25:26.539Z"
   },
   {
    "duration": 8,
    "start_time": "2022-02-25T18:25:26.550Z"
   },
   {
    "duration": 78,
    "start_time": "2022-02-25T18:25:26.561Z"
   },
   {
    "duration": 12,
    "start_time": "2022-02-25T18:25:26.641Z"
   },
   {
    "duration": 32,
    "start_time": "2022-02-25T18:25:26.656Z"
   },
   {
    "duration": 64,
    "start_time": "2022-02-25T18:25:26.691Z"
   },
   {
    "duration": 6,
    "start_time": "2022-02-25T18:25:26.758Z"
   },
   {
    "duration": 4821,
    "start_time": "2022-02-25T18:25:26.767Z"
   },
   {
    "duration": 7,
    "start_time": "2022-02-25T18:25:31.590Z"
   },
   {
    "duration": 15,
    "start_time": "2022-02-25T18:25:31.599Z"
   },
   {
    "duration": 5,
    "start_time": "2022-02-25T18:25:52.733Z"
   },
   {
    "duration": 4810,
    "start_time": "2022-02-25T18:25:53.396Z"
   },
   {
    "duration": 5,
    "start_time": "2022-02-25T18:26:00.846Z"
   },
   {
    "duration": 14,
    "start_time": "2022-02-25T18:26:06.463Z"
   },
   {
    "duration": 3,
    "start_time": "2022-02-25T18:26:14.152Z"
   },
   {
    "duration": 44,
    "start_time": "2022-02-25T18:26:14.158Z"
   },
   {
    "duration": 20,
    "start_time": "2022-02-25T18:26:14.205Z"
   },
   {
    "duration": 13,
    "start_time": "2022-02-25T18:26:14.228Z"
   },
   {
    "duration": 44,
    "start_time": "2022-02-25T18:26:14.243Z"
   },
   {
    "duration": 45,
    "start_time": "2022-02-25T18:26:14.289Z"
   },
   {
    "duration": 12,
    "start_time": "2022-02-25T18:26:14.336Z"
   },
   {
    "duration": 7,
    "start_time": "2022-02-25T18:26:14.351Z"
   },
   {
    "duration": 12,
    "start_time": "2022-02-25T18:26:14.362Z"
   },
   {
    "duration": 52,
    "start_time": "2022-02-25T18:26:14.376Z"
   },
   {
    "duration": 12,
    "start_time": "2022-02-25T18:26:14.430Z"
   },
   {
    "duration": 9,
    "start_time": "2022-02-25T18:26:14.445Z"
   },
   {
    "duration": 7,
    "start_time": "2022-02-25T18:26:14.456Z"
   },
   {
    "duration": 6,
    "start_time": "2022-02-25T18:26:14.465Z"
   },
   {
    "duration": 76,
    "start_time": "2022-02-25T18:26:14.474Z"
   },
   {
    "duration": 12,
    "start_time": "2022-02-25T18:26:14.553Z"
   },
   {
    "duration": 31,
    "start_time": "2022-02-25T18:26:14.568Z"
   },
   {
    "duration": 53,
    "start_time": "2022-02-25T18:26:14.602Z"
   },
   {
    "duration": 4,
    "start_time": "2022-02-25T18:26:14.658Z"
   },
   {
    "duration": 4755,
    "start_time": "2022-02-25T18:26:14.665Z"
   },
   {
    "duration": 5,
    "start_time": "2022-02-25T18:26:19.423Z"
   },
   {
    "duration": 5,
    "start_time": "2022-02-25T18:26:46.860Z"
   },
   {
    "duration": 3,
    "start_time": "2022-02-25T18:27:29.254Z"
   },
   {
    "duration": 46,
    "start_time": "2022-02-25T18:27:29.260Z"
   },
   {
    "duration": 22,
    "start_time": "2022-02-25T18:27:29.309Z"
   },
   {
    "duration": 14,
    "start_time": "2022-02-25T18:27:29.334Z"
   },
   {
    "duration": 85,
    "start_time": "2022-02-25T18:27:29.352Z"
   },
   {
    "duration": 22,
    "start_time": "2022-02-25T18:27:29.439Z"
   },
   {
    "duration": 12,
    "start_time": "2022-02-25T18:27:29.463Z"
   },
   {
    "duration": 6,
    "start_time": "2022-02-25T18:27:29.479Z"
   },
   {
    "duration": 11,
    "start_time": "2022-02-25T18:27:29.488Z"
   },
   {
    "duration": 26,
    "start_time": "2022-02-25T18:27:29.502Z"
   },
   {
    "duration": 13,
    "start_time": "2022-02-25T18:27:29.531Z"
   },
   {
    "duration": 7,
    "start_time": "2022-02-25T18:27:29.546Z"
   },
   {
    "duration": 6,
    "start_time": "2022-02-25T18:27:29.555Z"
   },
   {
    "duration": 6,
    "start_time": "2022-02-25T18:27:29.563Z"
   },
   {
    "duration": 26,
    "start_time": "2022-02-25T18:27:29.627Z"
   },
   {
    "duration": 13,
    "start_time": "2022-02-25T18:27:29.655Z"
   },
   {
    "duration": 76,
    "start_time": "2022-02-25T18:27:29.671Z"
   },
   {
    "duration": 35,
    "start_time": "2022-02-25T18:27:29.749Z"
   },
   {
    "duration": 6,
    "start_time": "2022-02-25T18:27:29.787Z"
   },
   {
    "duration": 1081,
    "start_time": "2022-02-25T18:27:29.795Z"
   },
   {
    "duration": 28,
    "start_time": "2022-02-25T18:27:30.850Z"
   },
   {
    "duration": 27,
    "start_time": "2022-02-25T18:27:30.853Z"
   },
   {
    "duration": 99,
    "start_time": "2022-02-25T18:29:42.019Z"
   },
   {
    "duration": 8,
    "start_time": "2022-02-25T18:29:47.115Z"
   },
   {
    "duration": 730,
    "start_time": "2022-02-25T18:29:48.003Z"
   },
   {
    "duration": 4,
    "start_time": "2022-02-25T18:30:27.678Z"
   },
   {
    "duration": 46,
    "start_time": "2022-02-25T18:30:27.686Z"
   },
   {
    "duration": 22,
    "start_time": "2022-02-25T18:30:27.736Z"
   },
   {
    "duration": 16,
    "start_time": "2022-02-25T18:30:27.762Z"
   },
   {
    "duration": 74,
    "start_time": "2022-02-25T18:30:27.780Z"
   },
   {
    "duration": 22,
    "start_time": "2022-02-25T18:30:27.857Z"
   },
   {
    "duration": 11,
    "start_time": "2022-02-25T18:30:27.882Z"
   },
   {
    "duration": 7,
    "start_time": "2022-02-25T18:30:27.926Z"
   },
   {
    "duration": 15,
    "start_time": "2022-02-25T18:30:27.937Z"
   },
   {
    "duration": 11,
    "start_time": "2022-02-25T18:30:27.954Z"
   },
   {
    "duration": 11,
    "start_time": "2022-02-25T18:30:27.968Z"
   },
   {
    "duration": 46,
    "start_time": "2022-02-25T18:30:27.981Z"
   },
   {
    "duration": 6,
    "start_time": "2022-02-25T18:30:28.030Z"
   },
   {
    "duration": 6,
    "start_time": "2022-02-25T18:30:28.038Z"
   },
   {
    "duration": 28,
    "start_time": "2022-02-25T18:30:28.046Z"
   },
   {
    "duration": 54,
    "start_time": "2022-02-25T18:30:28.076Z"
   },
   {
    "duration": 31,
    "start_time": "2022-02-25T18:30:28.132Z"
   },
   {
    "duration": 33,
    "start_time": "2022-02-25T18:30:28.165Z"
   },
   {
    "duration": 315,
    "start_time": "2022-02-25T18:30:31.027Z"
   },
   {
    "duration": 5,
    "start_time": "2022-02-25T18:31:17.283Z"
   },
   {
    "duration": 643,
    "start_time": "2022-02-25T18:31:40.035Z"
   },
   {
    "duration": 3,
    "start_time": "2022-02-25T18:31:44.909Z"
   },
   {
    "duration": 43,
    "start_time": "2022-02-25T18:31:44.915Z"
   },
   {
    "duration": 22,
    "start_time": "2022-02-25T18:31:44.962Z"
   },
   {
    "duration": 43,
    "start_time": "2022-02-25T18:31:44.987Z"
   },
   {
    "duration": 44,
    "start_time": "2022-02-25T18:31:45.033Z"
   },
   {
    "duration": 22,
    "start_time": "2022-02-25T18:31:45.079Z"
   },
   {
    "duration": 12,
    "start_time": "2022-02-25T18:31:45.127Z"
   },
   {
    "duration": 7,
    "start_time": "2022-02-25T18:31:45.143Z"
   },
   {
    "duration": 13,
    "start_time": "2022-02-25T18:31:45.153Z"
   },
   {
    "duration": 11,
    "start_time": "2022-02-25T18:31:45.168Z"
   },
   {
    "duration": 53,
    "start_time": "2022-02-25T18:31:45.182Z"
   },
   {
    "duration": 7,
    "start_time": "2022-02-25T18:31:45.238Z"
   },
   {
    "duration": 7,
    "start_time": "2022-02-25T18:31:45.247Z"
   },
   {
    "duration": 6,
    "start_time": "2022-02-25T18:31:45.256Z"
   },
   {
    "duration": 70,
    "start_time": "2022-02-25T18:31:45.265Z"
   },
   {
    "duration": 12,
    "start_time": "2022-02-25T18:31:45.337Z"
   },
   {
    "duration": 31,
    "start_time": "2022-02-25T18:31:45.351Z"
   },
   {
    "duration": 58,
    "start_time": "2022-02-25T18:31:45.385Z"
   },
   {
    "duration": 5,
    "start_time": "2022-02-25T18:31:45.446Z"
   },
   {
    "duration": 728,
    "start_time": "2022-02-25T18:31:45.454Z"
   },
   {
    "duration": 1263,
    "start_time": "2022-02-25T18:32:28.714Z"
   },
   {
    "duration": 4,
    "start_time": "2022-02-25T18:33:22.740Z"
   },
   {
    "duration": 46,
    "start_time": "2022-02-25T18:33:22.747Z"
   },
   {
    "duration": 34,
    "start_time": "2022-02-25T18:33:22.796Z"
   },
   {
    "duration": 14,
    "start_time": "2022-02-25T18:33:22.832Z"
   },
   {
    "duration": 42,
    "start_time": "2022-02-25T18:33:22.848Z"
   },
   {
    "duration": 53,
    "start_time": "2022-02-25T18:33:22.893Z"
   },
   {
    "duration": 16,
    "start_time": "2022-02-25T18:33:22.949Z"
   },
   {
    "duration": 6,
    "start_time": "2022-02-25T18:33:22.970Z"
   },
   {
    "duration": 49,
    "start_time": "2022-02-25T18:33:22.979Z"
   },
   {
    "duration": 11,
    "start_time": "2022-02-25T18:33:23.030Z"
   },
   {
    "duration": 13,
    "start_time": "2022-02-25T18:33:23.043Z"
   },
   {
    "duration": 6,
    "start_time": "2022-02-25T18:33:23.059Z"
   },
   {
    "duration": 6,
    "start_time": "2022-02-25T18:33:23.067Z"
   },
   {
    "duration": 52,
    "start_time": "2022-02-25T18:33:23.075Z"
   },
   {
    "duration": 21,
    "start_time": "2022-02-25T18:33:23.130Z"
   },
   {
    "duration": 11,
    "start_time": "2022-02-25T18:33:23.153Z"
   },
   {
    "duration": 64,
    "start_time": "2022-02-25T18:33:23.166Z"
   },
   {
    "duration": 31,
    "start_time": "2022-02-25T18:33:23.232Z"
   },
   {
    "duration": 1288,
    "start_time": "2022-02-25T18:33:23.266Z"
   },
   {
    "duration": 759,
    "start_time": "2022-02-25T18:33:23.798Z"
   },
   {
    "duration": 1284,
    "start_time": "2022-02-25T18:33:48.754Z"
   },
   {
    "duration": 6,
    "start_time": "2022-02-25T18:35:16.772Z"
   },
   {
    "duration": 2147,
    "start_time": "2022-02-25T18:35:24.905Z"
   },
   {
    "duration": 4,
    "start_time": "2022-02-25T18:35:37.420Z"
   },
   {
    "duration": 48,
    "start_time": "2022-02-25T18:35:37.426Z"
   },
   {
    "duration": 21,
    "start_time": "2022-02-25T18:35:37.478Z"
   },
   {
    "duration": 35,
    "start_time": "2022-02-25T18:35:37.502Z"
   },
   {
    "duration": 88,
    "start_time": "2022-02-25T18:35:37.540Z"
   },
   {
    "duration": 34,
    "start_time": "2022-02-25T18:35:37.632Z"
   },
   {
    "duration": 16,
    "start_time": "2022-02-25T18:35:37.669Z"
   },
   {
    "duration": 6,
    "start_time": "2022-02-25T18:35:37.687Z"
   },
   {
    "duration": 13,
    "start_time": "2022-02-25T18:35:37.728Z"
   },
   {
    "duration": 11,
    "start_time": "2022-02-25T18:35:37.744Z"
   },
   {
    "duration": 12,
    "start_time": "2022-02-25T18:35:37.757Z"
   },
   {
    "duration": 6,
    "start_time": "2022-02-25T18:35:37.772Z"
   },
   {
    "duration": 47,
    "start_time": "2022-02-25T18:35:37.781Z"
   },
   {
    "duration": 6,
    "start_time": "2022-02-25T18:35:37.831Z"
   },
   {
    "duration": 21,
    "start_time": "2022-02-25T18:35:37.839Z"
   },
   {
    "duration": 11,
    "start_time": "2022-02-25T18:35:37.863Z"
   },
   {
    "duration": 73,
    "start_time": "2022-02-25T18:35:37.876Z"
   },
   {
    "duration": 3414,
    "start_time": "2022-02-25T18:35:37.951Z"
   },
   {
    "duration": 765,
    "start_time": "2022-02-25T18:35:40.603Z"
   },
   {
    "duration": 25,
    "start_time": "2022-02-25T18:36:36.384Z"
   },
   {
    "duration": 3,
    "start_time": "2022-02-25T18:36:39.315Z"
   },
   {
    "duration": 43,
    "start_time": "2022-02-25T18:36:39.322Z"
   },
   {
    "duration": 21,
    "start_time": "2022-02-25T18:36:39.368Z"
   },
   {
    "duration": 34,
    "start_time": "2022-02-25T18:36:39.392Z"
   },
   {
    "duration": 47,
    "start_time": "2022-02-25T18:36:39.429Z"
   },
   {
    "duration": 22,
    "start_time": "2022-02-25T18:36:39.478Z"
   },
   {
    "duration": 33,
    "start_time": "2022-02-25T18:36:39.502Z"
   },
   {
    "duration": 7,
    "start_time": "2022-02-25T18:36:39.538Z"
   },
   {
    "duration": 13,
    "start_time": "2022-02-25T18:36:39.549Z"
   },
   {
    "duration": 11,
    "start_time": "2022-02-25T18:36:39.564Z"
   },
   {
    "duration": 58,
    "start_time": "2022-02-25T18:36:39.578Z"
   },
   {
    "duration": 7,
    "start_time": "2022-02-25T18:36:39.638Z"
   },
   {
    "duration": 6,
    "start_time": "2022-02-25T18:36:39.648Z"
   },
   {
    "duration": 6,
    "start_time": "2022-02-25T18:36:39.656Z"
   },
   {
    "duration": 66,
    "start_time": "2022-02-25T18:36:39.664Z"
   },
   {
    "duration": 11,
    "start_time": "2022-02-25T18:36:39.732Z"
   },
   {
    "duration": 33,
    "start_time": "2022-02-25T18:36:39.746Z"
   },
   {
    "duration": 2076,
    "start_time": "2022-02-25T18:36:39.781Z"
   },
   {
    "duration": 768,
    "start_time": "2022-02-25T18:36:41.092Z"
   },
   {
    "duration": 4,
    "start_time": "2022-02-25T18:37:00.188Z"
   },
   {
    "duration": 44,
    "start_time": "2022-02-25T18:37:00.195Z"
   },
   {
    "duration": 24,
    "start_time": "2022-02-25T18:37:00.243Z"
   },
   {
    "duration": 14,
    "start_time": "2022-02-25T18:37:00.270Z"
   },
   {
    "duration": 75,
    "start_time": "2022-02-25T18:37:00.287Z"
   },
   {
    "duration": 22,
    "start_time": "2022-02-25T18:37:00.364Z"
   },
   {
    "duration": 38,
    "start_time": "2022-02-25T18:37:00.389Z"
   },
   {
    "duration": 5,
    "start_time": "2022-02-25T18:37:00.431Z"
   },
   {
    "duration": 11,
    "start_time": "2022-02-25T18:37:00.439Z"
   },
   {
    "duration": 12,
    "start_time": "2022-02-25T18:37:00.452Z"
   },
   {
    "duration": 16,
    "start_time": "2022-02-25T18:37:00.467Z"
   },
   {
    "duration": 46,
    "start_time": "2022-02-25T18:37:00.486Z"
   },
   {
    "duration": 6,
    "start_time": "2022-02-25T18:37:00.535Z"
   },
   {
    "duration": 6,
    "start_time": "2022-02-25T18:37:00.544Z"
   },
   {
    "duration": 26,
    "start_time": "2022-02-25T18:37:00.552Z"
   },
   {
    "duration": 54,
    "start_time": "2022-02-25T18:37:00.581Z"
   },
   {
    "duration": 31,
    "start_time": "2022-02-25T18:37:00.637Z"
   },
   {
    "duration": 10,
    "start_time": "2022-02-25T18:37:00.671Z"
   },
   {
    "duration": 47,
    "start_time": "2022-02-25T18:37:00.684Z"
   },
   {
    "duration": 6,
    "start_time": "2022-02-25T18:37:31.712Z"
   },
   {
    "duration": 3,
    "start_time": "2022-02-25T18:38:32.858Z"
   },
   {
    "duration": 43,
    "start_time": "2022-02-25T18:38:32.864Z"
   },
   {
    "duration": 23,
    "start_time": "2022-02-25T18:38:32.910Z"
   },
   {
    "duration": 22,
    "start_time": "2022-02-25T18:38:32.937Z"
   },
   {
    "duration": 97,
    "start_time": "2022-02-25T18:38:32.963Z"
   },
   {
    "duration": 35,
    "start_time": "2022-02-25T18:38:33.064Z"
   },
   {
    "duration": 34,
    "start_time": "2022-02-25T18:38:33.103Z"
   },
   {
    "duration": 8,
    "start_time": "2022-02-25T18:38:33.144Z"
   },
   {
    "duration": 18,
    "start_time": "2022-02-25T18:38:33.156Z"
   },
   {
    "duration": 51,
    "start_time": "2022-02-25T18:38:33.178Z"
   },
   {
    "duration": 17,
    "start_time": "2022-02-25T18:38:33.232Z"
   },
   {
    "duration": 10,
    "start_time": "2022-02-25T18:38:33.253Z"
   },
   {
    "duration": 10,
    "start_time": "2022-02-25T18:38:33.266Z"
   },
   {
    "duration": 49,
    "start_time": "2022-02-25T18:38:33.279Z"
   },
   {
    "duration": 42,
    "start_time": "2022-02-25T18:38:33.331Z"
   },
   {
    "duration": 18,
    "start_time": "2022-02-25T18:38:33.376Z"
   },
   {
    "duration": 1594,
    "start_time": "2022-02-25T18:38:33.428Z"
   },
   {
    "duration": 748,
    "start_time": "2022-02-25T18:38:34.277Z"
   },
   {
    "duration": 34,
    "start_time": "2022-02-25T18:38:57.856Z"
   },
   {
    "duration": 5,
    "start_time": "2022-02-25T18:39:28.183Z"
   },
   {
    "duration": 30,
    "start_time": "2022-02-25T18:39:35.439Z"
   },
   {
    "duration": 8,
    "start_time": "2022-02-25T18:40:04.818Z"
   },
   {
    "duration": 4,
    "start_time": "2022-02-25T18:40:19.337Z"
   },
   {
    "duration": 46,
    "start_time": "2022-02-25T18:40:19.345Z"
   },
   {
    "duration": 43,
    "start_time": "2022-02-25T18:40:19.395Z"
   },
   {
    "duration": 17,
    "start_time": "2022-02-25T18:40:19.442Z"
   },
   {
    "duration": 74,
    "start_time": "2022-02-25T18:40:19.463Z"
   },
   {
    "duration": 34,
    "start_time": "2022-02-25T18:40:19.541Z"
   },
   {
    "duration": 17,
    "start_time": "2022-02-25T18:40:19.578Z"
   },
   {
    "duration": 8,
    "start_time": "2022-02-25T18:40:19.628Z"
   },
   {
    "duration": 14,
    "start_time": "2022-02-25T18:40:19.640Z"
   },
   {
    "duration": 11,
    "start_time": "2022-02-25T18:40:19.657Z"
   },
   {
    "duration": 12,
    "start_time": "2022-02-25T18:40:19.671Z"
   },
   {
    "duration": 44,
    "start_time": "2022-02-25T18:40:19.685Z"
   },
   {
    "duration": 7,
    "start_time": "2022-02-25T18:40:19.731Z"
   },
   {
    "duration": 6,
    "start_time": "2022-02-25T18:40:19.741Z"
   },
   {
    "duration": 26,
    "start_time": "2022-02-25T18:40:19.750Z"
   },
   {
    "duration": 51,
    "start_time": "2022-02-25T18:40:19.779Z"
   },
   {
    "duration": 31,
    "start_time": "2022-02-25T18:40:19.833Z"
   },
   {
    "duration": 1334,
    "start_time": "2022-02-25T18:40:19.867Z"
   },
   {
    "duration": 741,
    "start_time": "2022-02-25T18:40:20.463Z"
   },
   {
    "duration": 741,
    "start_time": "2022-02-25T18:40:20.465Z"
   },
   {
    "duration": 36,
    "start_time": "2022-02-25T18:40:45.791Z"
   },
   {
    "duration": 6,
    "start_time": "2022-02-25T18:41:03.750Z"
   },
   {
    "duration": 15,
    "start_time": "2022-02-25T18:41:13.466Z"
   },
   {
    "duration": 1204,
    "start_time": "2022-02-25T18:41:23.735Z"
   },
   {
    "duration": 732,
    "start_time": "2022-02-25T18:41:24.210Z"
   },
   {
    "duration": 3,
    "start_time": "2022-02-25T18:41:27.118Z"
   },
   {
    "duration": 42,
    "start_time": "2022-02-25T18:41:27.123Z"
   },
   {
    "duration": 20,
    "start_time": "2022-02-25T18:41:27.168Z"
   },
   {
    "duration": 37,
    "start_time": "2022-02-25T18:41:27.191Z"
   },
   {
    "duration": 46,
    "start_time": "2022-02-25T18:41:27.231Z"
   },
   {
    "duration": 23,
    "start_time": "2022-02-25T18:41:27.280Z"
   },
   {
    "duration": 29,
    "start_time": "2022-02-25T18:41:27.306Z"
   },
   {
    "duration": 6,
    "start_time": "2022-02-25T18:41:27.337Z"
   },
   {
    "duration": 13,
    "start_time": "2022-02-25T18:41:27.347Z"
   },
   {
    "duration": 12,
    "start_time": "2022-02-25T18:41:27.362Z"
   },
   {
    "duration": 56,
    "start_time": "2022-02-25T18:41:27.377Z"
   },
   {
    "duration": 8,
    "start_time": "2022-02-25T18:41:27.436Z"
   },
   {
    "duration": 8,
    "start_time": "2022-02-25T18:41:27.447Z"
   },
   {
    "duration": 8,
    "start_time": "2022-02-25T18:41:27.458Z"
   },
   {
    "duration": 74,
    "start_time": "2022-02-25T18:41:27.469Z"
   },
   {
    "duration": 13,
    "start_time": "2022-02-25T18:41:27.546Z"
   },
   {
    "duration": 67,
    "start_time": "2022-02-25T18:41:27.562Z"
   },
   {
    "duration": 27,
    "start_time": "2022-02-25T18:41:27.633Z"
   },
   {
    "duration": 16,
    "start_time": "2022-02-25T18:41:27.663Z"
   },
   {
    "duration": 61,
    "start_time": "2022-02-25T18:41:27.682Z"
   },
   {
    "duration": 5,
    "start_time": "2022-02-25T19:33:33.425Z"
   },
   {
    "duration": 53,
    "start_time": "2022-02-25T19:33:33.434Z"
   },
   {
    "duration": 45,
    "start_time": "2022-02-25T19:33:33.491Z"
   },
   {
    "duration": 20,
    "start_time": "2022-02-25T19:33:33.540Z"
   },
   {
    "duration": 79,
    "start_time": "2022-02-25T19:33:33.563Z"
   },
   {
    "duration": 25,
    "start_time": "2022-02-25T19:33:33.646Z"
   },
   {
    "duration": 22,
    "start_time": "2022-02-25T19:33:33.675Z"
   },
   {
    "duration": 9,
    "start_time": "2022-02-25T19:33:33.729Z"
   },
   {
    "duration": 15,
    "start_time": "2022-02-25T19:33:33.741Z"
   },
   {
    "duration": 11,
    "start_time": "2022-02-25T19:33:33.760Z"
   },
   {
    "duration": 56,
    "start_time": "2022-02-25T19:33:33.774Z"
   },
   {
    "duration": 7,
    "start_time": "2022-02-25T19:33:33.832Z"
   },
   {
    "duration": 7,
    "start_time": "2022-02-25T19:33:33.841Z"
   },
   {
    "duration": 7,
    "start_time": "2022-02-25T19:33:33.850Z"
   },
   {
    "duration": 77,
    "start_time": "2022-02-25T19:33:33.860Z"
   },
   {
    "duration": 20,
    "start_time": "2022-02-25T19:33:33.941Z"
   },
   {
    "duration": 77,
    "start_time": "2022-02-25T19:33:33.966Z"
   },
   {
    "duration": 38,
    "start_time": "2022-02-25T19:33:34.047Z"
   },
   {
    "duration": 3,
    "start_time": "2022-02-25T19:38:41.319Z"
   },
   {
    "duration": 42,
    "start_time": "2022-02-25T19:38:41.325Z"
   },
   {
    "duration": 20,
    "start_time": "2022-02-25T19:38:41.370Z"
   },
   {
    "duration": 39,
    "start_time": "2022-02-25T19:38:41.393Z"
   },
   {
    "duration": 45,
    "start_time": "2022-02-25T19:38:41.434Z"
   },
   {
    "duration": 45,
    "start_time": "2022-02-25T19:38:41.481Z"
   },
   {
    "duration": 11,
    "start_time": "2022-02-25T19:38:41.529Z"
   },
   {
    "duration": 6,
    "start_time": "2022-02-25T19:38:41.543Z"
   },
   {
    "duration": 12,
    "start_time": "2022-02-25T19:38:41.553Z"
   },
   {
    "duration": 11,
    "start_time": "2022-02-25T19:38:41.568Z"
   },
   {
    "duration": 52,
    "start_time": "2022-02-25T19:38:41.582Z"
   },
   {
    "duration": 6,
    "start_time": "2022-02-25T19:38:41.636Z"
   },
   {
    "duration": 6,
    "start_time": "2022-02-25T19:38:41.645Z"
   },
   {
    "duration": 6,
    "start_time": "2022-02-25T19:38:41.654Z"
   },
   {
    "duration": 73,
    "start_time": "2022-02-25T19:38:41.663Z"
   },
   {
    "duration": 11,
    "start_time": "2022-02-25T19:38:41.738Z"
   },
   {
    "duration": 31,
    "start_time": "2022-02-25T19:38:41.752Z"
   },
   {
    "duration": 11,
    "start_time": "2022-02-25T19:38:41.786Z"
   },
   {
    "duration": 3,
    "start_time": "2022-02-25T19:38:57.926Z"
   },
   {
    "duration": 43,
    "start_time": "2022-02-25T19:38:57.932Z"
   },
   {
    "duration": 21,
    "start_time": "2022-02-25T19:38:57.979Z"
   },
   {
    "duration": 16,
    "start_time": "2022-02-25T19:38:58.028Z"
   },
   {
    "duration": 41,
    "start_time": "2022-02-25T19:38:58.047Z"
   },
   {
    "duration": 50,
    "start_time": "2022-02-25T19:38:58.090Z"
   },
   {
    "duration": 10,
    "start_time": "2022-02-25T19:38:58.143Z"
   },
   {
    "duration": 6,
    "start_time": "2022-02-25T19:38:58.157Z"
   },
   {
    "duration": 13,
    "start_time": "2022-02-25T19:38:58.165Z"
   },
   {
    "duration": 48,
    "start_time": "2022-02-25T19:38:58.180Z"
   },
   {
    "duration": 12,
    "start_time": "2022-02-25T19:38:58.231Z"
   },
   {
    "duration": 6,
    "start_time": "2022-02-25T19:38:58.246Z"
   },
   {
    "duration": 6,
    "start_time": "2022-02-25T19:38:58.255Z"
   },
   {
    "duration": 6,
    "start_time": "2022-02-25T19:38:58.264Z"
   },
   {
    "duration": 76,
    "start_time": "2022-02-25T19:38:58.273Z"
   },
   {
    "duration": 16,
    "start_time": "2022-02-25T19:38:58.352Z"
   },
   {
    "duration": 73,
    "start_time": "2022-02-25T19:38:58.371Z"
   },
   {
    "duration": 11,
    "start_time": "2022-02-25T19:38:58.446Z"
   },
   {
    "duration": 3,
    "start_time": "2022-02-25T19:39:17.111Z"
   },
   {
    "duration": 42,
    "start_time": "2022-02-25T19:39:17.121Z"
   },
   {
    "duration": 20,
    "start_time": "2022-02-25T19:39:17.166Z"
   },
   {
    "duration": 13,
    "start_time": "2022-02-25T19:39:17.189Z"
   },
   {
    "duration": 43,
    "start_time": "2022-02-25T19:39:17.227Z"
   },
   {
    "duration": 22,
    "start_time": "2022-02-25T19:39:17.272Z"
   },
   {
    "duration": 36,
    "start_time": "2022-02-25T19:39:17.297Z"
   },
   {
    "duration": 5,
    "start_time": "2022-02-25T19:39:17.335Z"
   },
   {
    "duration": 13,
    "start_time": "2022-02-25T19:39:17.344Z"
   },
   {
    "duration": 12,
    "start_time": "2022-02-25T19:39:17.361Z"
   },
   {
    "duration": 54,
    "start_time": "2022-02-25T19:39:17.377Z"
   },
   {
    "duration": 6,
    "start_time": "2022-02-25T19:39:17.434Z"
   },
   {
    "duration": 6,
    "start_time": "2022-02-25T19:39:17.443Z"
   },
   {
    "duration": 6,
    "start_time": "2022-02-25T19:39:17.452Z"
   },
   {
    "duration": 71,
    "start_time": "2022-02-25T19:39:17.460Z"
   },
   {
    "duration": 12,
    "start_time": "2022-02-25T19:39:17.534Z"
   },
   {
    "duration": 19,
    "start_time": "2022-02-25T19:39:17.549Z"
   },
   {
    "duration": 59,
    "start_time": "2022-02-25T19:39:17.571Z"
   },
   {
    "duration": 3,
    "start_time": "2022-02-25T19:44:08.959Z"
   },
   {
    "duration": 44,
    "start_time": "2022-02-25T19:44:08.965Z"
   },
   {
    "duration": 29,
    "start_time": "2022-02-25T19:44:09.012Z"
   },
   {
    "duration": 20,
    "start_time": "2022-02-25T19:44:09.044Z"
   },
   {
    "duration": 13,
    "start_time": "2022-02-25T19:44:09.067Z"
   },
   {
    "duration": 73,
    "start_time": "2022-02-25T19:44:09.083Z"
   },
   {
    "duration": 22,
    "start_time": "2022-02-25T19:44:09.158Z"
   },
   {
    "duration": 11,
    "start_time": "2022-02-25T19:44:09.183Z"
   },
   {
    "duration": 6,
    "start_time": "2022-02-25T19:44:09.226Z"
   },
   {
    "duration": 12,
    "start_time": "2022-02-25T19:44:09.235Z"
   },
   {
    "duration": 11,
    "start_time": "2022-02-25T19:44:09.249Z"
   },
   {
    "duration": 13,
    "start_time": "2022-02-25T19:44:09.264Z"
   },
   {
    "duration": 49,
    "start_time": "2022-02-25T19:44:09.280Z"
   },
   {
    "duration": 7,
    "start_time": "2022-02-25T19:44:09.332Z"
   },
   {
    "duration": 6,
    "start_time": "2022-02-25T19:44:09.342Z"
   },
   {
    "duration": 27,
    "start_time": "2022-02-25T19:44:09.351Z"
   },
   {
    "duration": 53,
    "start_time": "2022-02-25T19:44:09.380Z"
   },
   {
    "duration": 18,
    "start_time": "2022-02-25T19:44:09.436Z"
   },
   {
    "duration": 28,
    "start_time": "2022-02-25T19:44:09.457Z"
   },
   {
    "duration": 27,
    "start_time": "2022-02-25T19:45:42.372Z"
   },
   {
    "duration": 24,
    "start_time": "2022-02-25T19:46:18.761Z"
   },
   {
    "duration": 12,
    "start_time": "2022-02-25T19:49:31.084Z"
   },
   {
    "duration": 9,
    "start_time": "2022-02-25T19:49:32.087Z"
   },
   {
    "duration": 25,
    "start_time": "2022-02-25T19:49:36.464Z"
   },
   {
    "duration": 4,
    "start_time": "2022-02-25T19:49:41.137Z"
   },
   {
    "duration": 45,
    "start_time": "2022-02-25T19:49:41.143Z"
   },
   {
    "duration": 40,
    "start_time": "2022-02-25T19:49:41.191Z"
   },
   {
    "duration": 20,
    "start_time": "2022-02-25T19:49:41.234Z"
   },
   {
    "duration": 12,
    "start_time": "2022-02-25T19:49:41.257Z"
   },
   {
    "duration": 75,
    "start_time": "2022-02-25T19:49:41.272Z"
   },
   {
    "duration": 22,
    "start_time": "2022-02-25T19:49:41.349Z"
   },
   {
    "duration": 12,
    "start_time": "2022-02-25T19:49:41.374Z"
   },
   {
    "duration": 6,
    "start_time": "2022-02-25T19:49:41.390Z"
   },
   {
    "duration": 13,
    "start_time": "2022-02-25T19:49:41.427Z"
   },
   {
    "duration": 10,
    "start_time": "2022-02-25T19:49:41.442Z"
   },
   {
    "duration": 14,
    "start_time": "2022-02-25T19:49:41.455Z"
   },
   {
    "duration": 7,
    "start_time": "2022-02-25T19:49:41.471Z"
   },
   {
    "duration": 46,
    "start_time": "2022-02-25T19:49:41.480Z"
   },
   {
    "duration": 6,
    "start_time": "2022-02-25T19:49:41.529Z"
   },
   {
    "duration": 27,
    "start_time": "2022-02-25T19:49:41.537Z"
   },
   {
    "duration": 14,
    "start_time": "2022-02-25T19:49:41.566Z"
   },
   {
    "duration": 49,
    "start_time": "2022-02-25T19:49:41.583Z"
   },
   {
    "duration": 18,
    "start_time": "2022-02-25T19:49:41.635Z"
   },
   {
    "duration": 27,
    "start_time": "2022-02-25T19:49:41.656Z"
   },
   {
    "duration": 10,
    "start_time": "2022-02-25T19:57:56.850Z"
   },
   {
    "duration": 24,
    "start_time": "2022-02-25T19:57:57.523Z"
   },
   {
    "duration": 3,
    "start_time": "2022-02-25T19:58:01.581Z"
   },
   {
    "duration": 47,
    "start_time": "2022-02-25T19:58:01.587Z"
   },
   {
    "duration": 28,
    "start_time": "2022-02-25T19:58:01.637Z"
   },
   {
    "duration": 21,
    "start_time": "2022-02-25T19:58:01.668Z"
   },
   {
    "duration": 42,
    "start_time": "2022-02-25T19:58:01.692Z"
   },
   {
    "duration": 43,
    "start_time": "2022-02-25T19:58:01.736Z"
   },
   {
    "duration": 47,
    "start_time": "2022-02-25T19:58:01.781Z"
   },
   {
    "duration": 13,
    "start_time": "2022-02-25T19:58:01.832Z"
   },
   {
    "duration": 6,
    "start_time": "2022-02-25T19:58:01.848Z"
   },
   {
    "duration": 13,
    "start_time": "2022-02-25T19:58:01.857Z"
   },
   {
    "duration": 55,
    "start_time": "2022-02-25T19:58:01.873Z"
   },
   {
    "duration": 13,
    "start_time": "2022-02-25T19:58:01.930Z"
   },
   {
    "duration": 7,
    "start_time": "2022-02-25T19:58:01.946Z"
   },
   {
    "duration": 6,
    "start_time": "2022-02-25T19:58:01.956Z"
   },
   {
    "duration": 7,
    "start_time": "2022-02-25T19:58:01.964Z"
   },
   {
    "duration": 76,
    "start_time": "2022-02-25T19:58:01.973Z"
   },
   {
    "duration": 12,
    "start_time": "2022-02-25T19:58:02.052Z"
   },
   {
    "duration": 20,
    "start_time": "2022-02-25T19:58:02.066Z"
   },
   {
    "duration": 62,
    "start_time": "2022-02-25T19:58:02.089Z"
   },
   {
    "duration": 4,
    "start_time": "2022-02-25T20:02:59.989Z"
   },
   {
    "duration": 54,
    "start_time": "2022-02-25T20:02:59.996Z"
   },
   {
    "duration": 29,
    "start_time": "2022-02-25T20:03:00.054Z"
   },
   {
    "duration": 21,
    "start_time": "2022-02-25T20:03:00.086Z"
   },
   {
    "duration": 14,
    "start_time": "2022-02-25T20:03:00.127Z"
   },
   {
    "duration": 43,
    "start_time": "2022-02-25T20:03:00.143Z"
   },
   {
    "duration": 57,
    "start_time": "2022-02-25T20:03:00.189Z"
   },
   {
    "duration": 14,
    "start_time": "2022-02-25T20:03:00.252Z"
   },
   {
    "duration": 5,
    "start_time": "2022-02-25T20:03:00.269Z"
   },
   {
    "duration": 12,
    "start_time": "2022-02-25T20:03:00.277Z"
   },
   {
    "duration": 14,
    "start_time": "2022-02-25T20:03:00.327Z"
   },
   {
    "duration": 14,
    "start_time": "2022-02-25T20:03:00.344Z"
   },
   {
    "duration": 8,
    "start_time": "2022-02-25T20:03:00.360Z"
   },
   {
    "duration": 6,
    "start_time": "2022-02-25T20:03:00.371Z"
   },
   {
    "duration": 6,
    "start_time": "2022-02-25T20:03:00.427Z"
   },
   {
    "duration": 30,
    "start_time": "2022-02-25T20:03:00.435Z"
   },
   {
    "duration": 14,
    "start_time": "2022-02-25T20:03:00.467Z"
   },
   {
    "duration": 54,
    "start_time": "2022-02-25T20:03:00.483Z"
   },
   {
    "duration": 30,
    "start_time": "2022-02-25T20:03:00.540Z"
   },
   {
    "duration": 39,
    "start_time": "2022-02-25T20:04:13.169Z"
   },
   {
    "duration": 4,
    "start_time": "2022-02-25T20:04:25.812Z"
   },
   {
    "duration": 48,
    "start_time": "2022-02-25T20:04:25.820Z"
   },
   {
    "duration": 21,
    "start_time": "2022-02-25T20:04:25.871Z"
   },
   {
    "duration": 31,
    "start_time": "2022-02-25T20:04:25.895Z"
   },
   {
    "duration": 44,
    "start_time": "2022-02-25T20:04:25.929Z"
   },
   {
    "duration": 21,
    "start_time": "2022-02-25T20:04:25.975Z"
   },
   {
    "duration": 33,
    "start_time": "2022-02-25T20:04:25.998Z"
   },
   {
    "duration": 6,
    "start_time": "2022-02-25T20:04:26.033Z"
   },
   {
    "duration": 14,
    "start_time": "2022-02-25T20:04:26.044Z"
   },
   {
    "duration": 12,
    "start_time": "2022-02-25T20:04:26.062Z"
   },
   {
    "duration": 57,
    "start_time": "2022-02-25T20:04:26.077Z"
   },
   {
    "duration": 6,
    "start_time": "2022-02-25T20:04:26.136Z"
   },
   {
    "duration": 6,
    "start_time": "2022-02-25T20:04:26.145Z"
   },
   {
    "duration": 7,
    "start_time": "2022-02-25T20:04:26.153Z"
   },
   {
    "duration": 69,
    "start_time": "2022-02-25T20:04:26.162Z"
   },
   {
    "duration": 11,
    "start_time": "2022-02-25T20:04:26.234Z"
   },
   {
    "duration": 30,
    "start_time": "2022-02-25T20:04:26.248Z"
   },
   {
    "duration": 98,
    "start_time": "2022-02-25T20:17:48.361Z"
   },
   {
    "duration": 6,
    "start_time": "2022-02-25T20:24:58.975Z"
   },
   {
    "duration": 21,
    "start_time": "2022-02-25T20:25:43.547Z"
   },
   {
    "duration": 23,
    "start_time": "2022-02-25T20:25:58.011Z"
   },
   {
    "duration": 23,
    "start_time": "2022-02-25T20:26:04.446Z"
   },
   {
    "duration": 9,
    "start_time": "2022-02-25T20:35:28.751Z"
   },
   {
    "duration": 9,
    "start_time": "2022-02-25T20:35:32.737Z"
   },
   {
    "duration": 431,
    "start_time": "2022-02-25T20:35:38.028Z"
   },
   {
    "duration": 51,
    "start_time": "2022-02-25T20:39:28.619Z"
   },
   {
    "duration": 56,
    "start_time": "2022-02-25T20:39:35.841Z"
   },
   {
    "duration": 22,
    "start_time": "2022-02-25T20:39:47.699Z"
   },
   {
    "duration": 387,
    "start_time": "2022-02-25T20:39:55.462Z"
   },
   {
    "duration": 310,
    "start_time": "2022-02-25T20:40:49.048Z"
   },
   {
    "duration": 98,
    "start_time": "2022-02-25T20:41:35.896Z"
   },
   {
    "duration": 318,
    "start_time": "2022-02-25T20:41:41.408Z"
   },
   {
    "duration": 365,
    "start_time": "2022-02-25T20:42:28.081Z"
   },
   {
    "duration": 339,
    "start_time": "2022-02-25T20:42:49.191Z"
   },
   {
    "duration": 329,
    "start_time": "2022-02-25T21:14:42.889Z"
   },
   {
    "duration": 330,
    "start_time": "2022-02-25T21:28:30.267Z"
   },
   {
    "duration": 321,
    "start_time": "2022-02-25T21:28:34.650Z"
   },
   {
    "duration": 317,
    "start_time": "2022-02-25T21:28:46.378Z"
   },
   {
    "duration": 311,
    "start_time": "2022-02-25T21:28:52.243Z"
   },
   {
    "duration": 23,
    "start_time": "2022-02-25T21:35:32.344Z"
   },
   {
    "duration": 316,
    "start_time": "2022-02-25T21:35:58.691Z"
   },
   {
    "duration": 350,
    "start_time": "2022-02-25T21:36:17.871Z"
   },
   {
    "duration": 337,
    "start_time": "2022-02-25T21:36:32.427Z"
   },
   {
    "duration": 375,
    "start_time": "2022-02-25T21:36:40.015Z"
   },
   {
    "duration": 22,
    "start_time": "2022-02-25T21:37:32.695Z"
   },
   {
    "duration": 425,
    "start_time": "2022-02-25T21:44:09.128Z"
   },
   {
    "duration": 504,
    "start_time": "2022-02-25T21:47:54.820Z"
   },
   {
    "duration": 337,
    "start_time": "2022-02-25T21:48:06.725Z"
   },
   {
    "duration": 365,
    "start_time": "2022-02-25T21:48:47.715Z"
   },
   {
    "duration": 6,
    "start_time": "2022-02-25T21:48:52.186Z"
   },
   {
    "duration": 320,
    "start_time": "2022-02-25T21:48:52.722Z"
   },
   {
    "duration": 312,
    "start_time": "2022-02-25T21:49:08.514Z"
   },
   {
    "duration": 7882,
    "start_time": "2022-02-25T21:49:36.651Z"
   },
   {
    "duration": 36,
    "start_time": "2022-02-25T21:52:04.490Z"
   },
   {
    "duration": 25,
    "start_time": "2022-02-25T21:52:34.777Z"
   },
   {
    "duration": 6,
    "start_time": "2022-02-25T21:53:34.507Z"
   },
   {
    "duration": 9,
    "start_time": "2022-02-25T21:54:00.165Z"
   },
   {
    "duration": 33,
    "start_time": "2022-02-25T21:54:17.334Z"
   },
   {
    "duration": 10,
    "start_time": "2022-02-25T21:54:21.648Z"
   },
   {
    "duration": 9,
    "start_time": "2022-02-25T21:54:25.287Z"
   },
   {
    "duration": 22,
    "start_time": "2022-02-25T21:54:34.072Z"
   },
   {
    "duration": 425,
    "start_time": "2022-02-25T21:55:06.005Z"
   },
   {
    "duration": 3,
    "start_time": "2022-02-25T21:55:15.211Z"
   },
   {
    "duration": 50,
    "start_time": "2022-02-25T21:55:15.217Z"
   },
   {
    "duration": 21,
    "start_time": "2022-02-25T21:55:15.270Z"
   },
   {
    "duration": 38,
    "start_time": "2022-02-25T21:55:15.293Z"
   },
   {
    "duration": 42,
    "start_time": "2022-02-25T21:55:15.334Z"
   },
   {
    "duration": 22,
    "start_time": "2022-02-25T21:55:15.378Z"
   },
   {
    "duration": 12,
    "start_time": "2022-02-25T21:55:15.426Z"
   },
   {
    "duration": 5,
    "start_time": "2022-02-25T21:55:15.442Z"
   },
   {
    "duration": 11,
    "start_time": "2022-02-25T21:55:15.450Z"
   },
   {
    "duration": 11,
    "start_time": "2022-02-25T21:55:15.463Z"
   },
   {
    "duration": 51,
    "start_time": "2022-02-25T21:55:15.476Z"
   },
   {
    "duration": 6,
    "start_time": "2022-02-25T21:55:15.530Z"
   },
   {
    "duration": 6,
    "start_time": "2022-02-25T21:55:15.538Z"
   },
   {
    "duration": 5,
    "start_time": "2022-02-25T21:55:15.546Z"
   },
   {
    "duration": 24,
    "start_time": "2022-02-25T21:55:15.553Z"
   },
   {
    "duration": 49,
    "start_time": "2022-02-25T21:55:15.579Z"
   },
   {
    "duration": 28,
    "start_time": "2022-02-25T21:55:15.630Z"
   },
   {
    "duration": 23,
    "start_time": "2022-02-25T21:55:15.661Z"
   },
   {
    "duration": 365,
    "start_time": "2022-02-25T21:55:15.686Z"
   },
   {
    "duration": 338,
    "start_time": "2022-02-25T21:55:16.053Z"
   },
   {
    "duration": 643,
    "start_time": "2022-02-25T21:55:15.751Z"
   },
   {
    "duration": 21,
    "start_time": "2022-02-25T21:55:37.815Z"
   },
   {
    "duration": 63,
    "start_time": "2022-02-25T21:55:45.496Z"
   },
   {
    "duration": 27,
    "start_time": "2022-02-25T21:56:10.727Z"
   },
   {
    "duration": 721,
    "start_time": "2022-02-25T21:56:26.072Z"
   },
   {
    "duration": 6519,
    "start_time": "2022-02-25T21:56:49.063Z"
   },
   {
    "duration": 22,
    "start_time": "2022-02-25T21:57:03.952Z"
   },
   {
    "duration": 310,
    "start_time": "2022-02-25T21:59:21.478Z"
   },
   {
    "duration": 302,
    "start_time": "2022-02-25T21:59:35.309Z"
   },
   {
    "duration": 9,
    "start_time": "2022-02-25T22:00:21.021Z"
   },
   {
    "duration": 22,
    "start_time": "2022-02-25T22:00:42.197Z"
   },
   {
    "duration": 336,
    "start_time": "2022-02-25T22:00:52.461Z"
   },
   {
    "duration": 11,
    "start_time": "2022-02-25T22:01:01.237Z"
   },
   {
    "duration": 106,
    "start_time": "2022-02-25T22:02:49.563Z"
   },
   {
    "duration": 97,
    "start_time": "2022-02-25T22:03:00.868Z"
   },
   {
    "duration": 207,
    "start_time": "2022-02-25T22:03:19.140Z"
   },
   {
    "duration": 106,
    "start_time": "2022-02-25T22:03:22.988Z"
   },
   {
    "duration": 118,
    "start_time": "2022-02-25T22:03:31.237Z"
   },
   {
    "duration": 118,
    "start_time": "2022-02-25T22:03:59.939Z"
   },
   {
    "duration": 821,
    "start_time": "2022-02-25T22:04:07.355Z"
   },
   {
    "duration": 28,
    "start_time": "2022-02-25T22:05:08.212Z"
   },
   {
    "duration": 8,
    "start_time": "2022-02-25T22:05:56.772Z"
   },
   {
    "duration": 306,
    "start_time": "2022-02-25T22:08:41.882Z"
   },
   {
    "duration": 25,
    "start_time": "2022-02-25T22:08:48.585Z"
   },
   {
    "duration": 48,
    "start_time": "2022-02-25T22:08:54.913Z"
   },
   {
    "duration": 431,
    "start_time": "2022-02-25T22:10:11.658Z"
   },
   {
    "duration": 3,
    "start_time": "2022-02-25T22:11:17.324Z"
   },
   {
    "duration": 46,
    "start_time": "2022-02-25T22:11:17.330Z"
   },
   {
    "duration": 21,
    "start_time": "2022-02-25T22:11:17.380Z"
   },
   {
    "duration": 13,
    "start_time": "2022-02-25T22:11:17.428Z"
   },
   {
    "duration": 43,
    "start_time": "2022-02-25T22:11:17.444Z"
   },
   {
    "duration": 52,
    "start_time": "2022-02-25T22:11:17.489Z"
   },
   {
    "duration": 12,
    "start_time": "2022-02-25T22:11:17.543Z"
   },
   {
    "duration": 6,
    "start_time": "2022-02-25T22:11:17.557Z"
   },
   {
    "duration": 11,
    "start_time": "2022-02-25T22:11:17.567Z"
   },
   {
    "duration": 47,
    "start_time": "2022-02-25T22:11:17.581Z"
   },
   {
    "duration": 12,
    "start_time": "2022-02-25T22:11:17.630Z"
   },
   {
    "duration": 6,
    "start_time": "2022-02-25T22:11:17.644Z"
   },
   {
    "duration": 7,
    "start_time": "2022-02-25T22:11:17.652Z"
   },
   {
    "duration": 6,
    "start_time": "2022-02-25T22:11:17.661Z"
   },
   {
    "duration": 70,
    "start_time": "2022-02-25T22:11:17.669Z"
   },
   {
    "duration": 10,
    "start_time": "2022-02-25T22:11:17.742Z"
   },
   {
    "duration": 29,
    "start_time": "2022-02-25T22:11:17.755Z"
   },
   {
    "duration": 47,
    "start_time": "2022-02-25T22:11:17.786Z"
   },
   {
    "duration": 333,
    "start_time": "2022-02-25T22:11:17.835Z"
   },
   {
    "duration": 21,
    "start_time": "2022-02-25T22:11:18.171Z"
   },
   {
    "duration": 42,
    "start_time": "2022-02-25T22:11:18.195Z"
   },
   {
    "duration": 8,
    "start_time": "2022-02-25T22:11:18.239Z"
   },
   {
    "duration": 396,
    "start_time": "2022-02-25T22:11:18.250Z"
   },
   {
    "duration": 394,
    "start_time": "2022-02-25T22:11:35.408Z"
   },
   {
    "duration": 499,
    "start_time": "2022-02-25T22:11:43.592Z"
   },
   {
    "duration": 379,
    "start_time": "2022-02-25T22:11:49.544Z"
   },
   {
    "duration": 390,
    "start_time": "2022-02-25T22:12:18.296Z"
   },
   {
    "duration": 378,
    "start_time": "2022-02-25T22:12:24.457Z"
   },
   {
    "duration": 3,
    "start_time": "2022-02-25T22:12:29.395Z"
   },
   {
    "duration": 45,
    "start_time": "2022-02-25T22:12:29.401Z"
   },
   {
    "duration": 20,
    "start_time": "2022-02-25T22:12:29.449Z"
   },
   {
    "duration": 14,
    "start_time": "2022-02-25T22:12:29.471Z"
   },
   {
    "duration": 68,
    "start_time": "2022-02-25T22:12:29.487Z"
   },
   {
    "duration": 22,
    "start_time": "2022-02-25T22:12:29.558Z"
   },
   {
    "duration": 12,
    "start_time": "2022-02-25T22:12:29.583Z"
   },
   {
    "duration": 7,
    "start_time": "2022-02-25T22:12:29.627Z"
   },
   {
    "duration": 12,
    "start_time": "2022-02-25T22:12:29.638Z"
   },
   {
    "duration": 12,
    "start_time": "2022-02-25T22:12:29.652Z"
   },
   {
    "duration": 12,
    "start_time": "2022-02-25T22:12:29.666Z"
   },
   {
    "duration": 46,
    "start_time": "2022-02-25T22:12:29.680Z"
   },
   {
    "duration": 7,
    "start_time": "2022-02-25T22:12:29.729Z"
   },
   {
    "duration": 6,
    "start_time": "2022-02-25T22:12:29.739Z"
   },
   {
    "duration": 25,
    "start_time": "2022-02-25T22:12:29.747Z"
   },
   {
    "duration": 51,
    "start_time": "2022-02-25T22:12:29.775Z"
   },
   {
    "duration": 31,
    "start_time": "2022-02-25T22:12:29.829Z"
   },
   {
    "duration": 21,
    "start_time": "2022-02-25T22:12:29.863Z"
   },
   {
    "duration": 381,
    "start_time": "2022-02-25T22:12:29.886Z"
   },
   {
    "duration": 22,
    "start_time": "2022-02-25T22:12:30.270Z"
   },
   {
    "duration": 40,
    "start_time": "2022-02-25T22:12:30.294Z"
   },
   {
    "duration": 8,
    "start_time": "2022-02-25T22:12:30.336Z"
   },
   {
    "duration": 406,
    "start_time": "2022-02-25T22:12:30.348Z"
   },
   {
    "duration": 386,
    "start_time": "2022-02-25T22:12:41.648Z"
   },
   {
    "duration": 388,
    "start_time": "2022-02-25T22:13:12.680Z"
   },
   {
    "duration": 732,
    "start_time": "2022-02-25T22:13:27.471Z"
   },
   {
    "duration": 391,
    "start_time": "2022-02-25T22:13:40.552Z"
   },
   {
    "duration": 3,
    "start_time": "2022-02-25T22:14:12.787Z"
   },
   {
    "duration": 51,
    "start_time": "2022-02-25T22:14:12.793Z"
   },
   {
    "duration": 21,
    "start_time": "2022-02-25T22:14:12.847Z"
   },
   {
    "duration": 13,
    "start_time": "2022-02-25T22:14:12.871Z"
   },
   {
    "duration": 75,
    "start_time": "2022-02-25T22:14:12.887Z"
   },
   {
    "duration": 22,
    "start_time": "2022-02-25T22:14:12.964Z"
   },
   {
    "duration": 12,
    "start_time": "2022-02-25T22:14:12.988Z"
   },
   {
    "duration": 26,
    "start_time": "2022-02-25T22:14:13.002Z"
   },
   {
    "duration": 14,
    "start_time": "2022-02-25T22:14:13.032Z"
   },
   {
    "duration": 12,
    "start_time": "2022-02-25T22:14:13.049Z"
   },
   {
    "duration": 12,
    "start_time": "2022-02-25T22:14:13.064Z"
   },
   {
    "duration": 50,
    "start_time": "2022-02-25T22:14:13.078Z"
   },
   {
    "duration": 7,
    "start_time": "2022-02-25T22:14:13.130Z"
   },
   {
    "duration": 5,
    "start_time": "2022-02-25T22:14:13.139Z"
   },
   {
    "duration": 26,
    "start_time": "2022-02-25T22:14:13.147Z"
   },
   {
    "duration": 52,
    "start_time": "2022-02-25T22:14:13.176Z"
   },
   {
    "duration": 33,
    "start_time": "2022-02-25T22:14:13.231Z"
   },
   {
    "duration": 24,
    "start_time": "2022-02-25T22:14:13.267Z"
   },
   {
    "duration": 388,
    "start_time": "2022-02-25T22:14:13.294Z"
   },
   {
    "duration": 22,
    "start_time": "2022-02-25T22:14:13.686Z"
   },
   {
    "duration": 32,
    "start_time": "2022-02-25T22:14:13.710Z"
   },
   {
    "duration": 7,
    "start_time": "2022-02-25T22:14:13.744Z"
   },
   {
    "duration": 637,
    "start_time": "2022-02-25T22:14:13.754Z"
   },
   {
    "duration": 22,
    "start_time": "2022-02-25T22:15:11.543Z"
   },
   {
    "duration": 8,
    "start_time": "2022-02-25T22:15:55.376Z"
   },
   {
    "duration": 8,
    "start_time": "2022-02-25T22:15:59.078Z"
   },
   {
    "duration": 6,
    "start_time": "2022-02-25T22:17:22.424Z"
   },
   {
    "duration": 9,
    "start_time": "2022-02-25T22:17:26.711Z"
   },
   {
    "duration": 6,
    "start_time": "2022-02-25T22:17:27.205Z"
   },
   {
    "duration": 2,
    "start_time": "2022-02-25T22:17:30.965Z"
   },
   {
    "duration": 45,
    "start_time": "2022-02-25T22:17:30.970Z"
   },
   {
    "duration": 21,
    "start_time": "2022-02-25T22:17:31.018Z"
   },
   {
    "duration": 13,
    "start_time": "2022-02-25T22:17:31.042Z"
   },
   {
    "duration": 43,
    "start_time": "2022-02-25T22:17:31.057Z"
   },
   {
    "duration": 43,
    "start_time": "2022-02-25T22:17:31.102Z"
   },
   {
    "duration": 15,
    "start_time": "2022-02-25T22:17:31.148Z"
   },
   {
    "duration": 8,
    "start_time": "2022-02-25T22:17:31.166Z"
   },
   {
    "duration": 49,
    "start_time": "2022-02-25T22:17:31.178Z"
   },
   {
    "duration": 11,
    "start_time": "2022-02-25T22:17:31.230Z"
   },
   {
    "duration": 12,
    "start_time": "2022-02-25T22:17:31.243Z"
   },
   {
    "duration": 6,
    "start_time": "2022-02-25T22:17:31.257Z"
   },
   {
    "duration": 7,
    "start_time": "2022-02-25T22:17:31.265Z"
   },
   {
    "duration": 5,
    "start_time": "2022-02-25T22:17:31.275Z"
   },
   {
    "duration": 25,
    "start_time": "2022-02-25T22:17:31.326Z"
   },
   {
    "duration": 11,
    "start_time": "2022-02-25T22:17:31.354Z"
   },
   {
    "duration": 59,
    "start_time": "2022-02-25T22:17:31.367Z"
   },
   {
    "duration": 22,
    "start_time": "2022-02-25T22:17:31.428Z"
   },
   {
    "duration": 350,
    "start_time": "2022-02-25T22:17:31.452Z"
   },
   {
    "duration": 31,
    "start_time": "2022-02-25T22:17:31.805Z"
   },
   {
    "duration": 24,
    "start_time": "2022-02-25T22:17:31.838Z"
   },
   {
    "duration": 441,
    "start_time": "2022-02-25T22:17:31.865Z"
   },
   {
    "duration": 17,
    "start_time": "2022-02-25T22:17:32.309Z"
   },
   {
    "duration": 5,
    "start_time": "2022-02-25T22:17:32.329Z"
   },
   {
    "duration": 35,
    "start_time": "2022-02-25T22:17:46.222Z"
   },
   {
    "duration": 10,
    "start_time": "2022-02-25T22:18:02.583Z"
   },
   {
    "duration": 689,
    "start_time": "2022-02-25T22:18:12.981Z"
   },
   {
    "duration": 381,
    "start_time": "2022-02-25T22:18:21.469Z"
   },
   {
    "duration": 3,
    "start_time": "2022-02-25T22:18:59.104Z"
   },
   {
    "duration": 44,
    "start_time": "2022-02-25T22:18:59.110Z"
   },
   {
    "duration": 21,
    "start_time": "2022-02-25T22:18:59.158Z"
   },
   {
    "duration": 14,
    "start_time": "2022-02-25T22:18:59.183Z"
   },
   {
    "duration": 42,
    "start_time": "2022-02-25T22:18:59.227Z"
   },
   {
    "duration": 22,
    "start_time": "2022-02-25T22:18:59.271Z"
   },
   {
    "duration": 36,
    "start_time": "2022-02-25T22:18:59.295Z"
   },
   {
    "duration": 6,
    "start_time": "2022-02-25T22:18:59.333Z"
   },
   {
    "duration": 12,
    "start_time": "2022-02-25T22:18:59.342Z"
   },
   {
    "duration": 11,
    "start_time": "2022-02-25T22:18:59.356Z"
   },
   {
    "duration": 12,
    "start_time": "2022-02-25T22:18:59.369Z"
   },
   {
    "duration": 7,
    "start_time": "2022-02-25T22:18:59.427Z"
   },
   {
    "duration": 6,
    "start_time": "2022-02-25T22:18:59.437Z"
   },
   {
    "duration": 7,
    "start_time": "2022-02-25T22:18:59.445Z"
   },
   {
    "duration": 25,
    "start_time": "2022-02-25T22:18:59.454Z"
   },
   {
    "duration": 55,
    "start_time": "2022-02-25T22:18:59.481Z"
   },
   {
    "duration": 32,
    "start_time": "2022-02-25T22:18:59.538Z"
   },
   {
    "duration": 21,
    "start_time": "2022-02-25T22:18:59.573Z"
   },
   {
    "duration": 349,
    "start_time": "2022-02-25T22:18:59.627Z"
   },
   {
    "duration": 22,
    "start_time": "2022-02-25T22:18:59.978Z"
   },
   {
    "duration": 38,
    "start_time": "2022-02-25T22:19:00.002Z"
   },
   {
    "duration": 511,
    "start_time": "2022-02-25T22:19:00.043Z"
   },
   {
    "duration": 310,
    "start_time": "2022-02-25T22:19:00.556Z"
   },
   {
    "duration": 326,
    "start_time": "2022-02-25T22:19:20.268Z"
   },
   {
    "duration": 301,
    "start_time": "2022-02-25T22:19:26.327Z"
   },
   {
    "duration": 301,
    "start_time": "2022-02-25T22:19:31.468Z"
   },
   {
    "duration": 289,
    "start_time": "2022-02-25T22:19:37.844Z"
   },
   {
    "duration": 345,
    "start_time": "2022-02-25T22:19:53.325Z"
   },
   {
    "duration": 383,
    "start_time": "2022-02-25T22:20:00.221Z"
   },
   {
    "duration": 413,
    "start_time": "2022-02-25T22:20:23.772Z"
   },
   {
    "duration": 547,
    "start_time": "2022-02-25T22:20:33.349Z"
   },
   {
    "duration": 320,
    "start_time": "2022-02-25T22:21:12.684Z"
   },
   {
    "duration": 381,
    "start_time": "2022-02-25T22:21:35.214Z"
   },
   {
    "duration": 408,
    "start_time": "2022-02-25T22:22:06.075Z"
   },
   {
    "duration": 19,
    "start_time": "2022-02-25T22:22:25.164Z"
   },
   {
    "duration": 361,
    "start_time": "2022-02-25T22:22:25.731Z"
   },
   {
    "duration": 467,
    "start_time": "2022-02-25T22:22:54.699Z"
   },
   {
    "duration": 468,
    "start_time": "2022-02-25T22:23:02.363Z"
   },
   {
    "duration": 367,
    "start_time": "2022-02-25T22:23:21.627Z"
   },
   {
    "duration": 380,
    "start_time": "2022-02-25T22:23:26.515Z"
   },
   {
    "duration": 419,
    "start_time": "2022-02-25T22:23:28.035Z"
   },
   {
    "duration": 469,
    "start_time": "2022-02-25T22:24:16.284Z"
   },
   {
    "duration": 378,
    "start_time": "2022-02-25T22:24:58.683Z"
   },
   {
    "duration": 22,
    "start_time": "2022-02-25T22:26:17.780Z"
   },
   {
    "duration": 23,
    "start_time": "2022-02-25T22:26:24.786Z"
   },
   {
    "duration": 384,
    "start_time": "2022-02-25T22:26:25.281Z"
   },
   {
    "duration": 552,
    "start_time": "2022-02-25T22:26:57.842Z"
   },
   {
    "duration": 400,
    "start_time": "2022-02-25T22:27:12.226Z"
   },
   {
    "duration": 567,
    "start_time": "2022-02-25T22:27:20.353Z"
   },
   {
    "duration": 5,
    "start_time": "2022-02-25T22:28:14.411Z"
   },
   {
    "duration": 10,
    "start_time": "2022-02-25T22:29:12.723Z"
   },
   {
    "duration": 10,
    "start_time": "2022-02-25T22:29:21.393Z"
   },
   {
    "duration": 10,
    "start_time": "2022-02-25T22:29:31.208Z"
   },
   {
    "duration": 26,
    "start_time": "2022-02-25T22:31:02.255Z"
   },
   {
    "duration": 37,
    "start_time": "2022-02-25T22:31:13.263Z"
   },
   {
    "duration": 34,
    "start_time": "2022-02-25T22:31:23.047Z"
   },
   {
    "duration": 333,
    "start_time": "2022-02-25T22:42:07.877Z"
   },
   {
    "duration": 573,
    "start_time": "2022-02-25T22:42:12.177Z"
   },
   {
    "duration": 46,
    "start_time": "2022-02-25T22:42:12.752Z"
   },
   {
    "duration": 16,
    "start_time": "2022-02-25T22:42:12.800Z"
   },
   {
    "duration": 14,
    "start_time": "2022-02-25T22:42:12.818Z"
   },
   {
    "duration": 27,
    "start_time": "2022-02-25T22:42:12.833Z"
   },
   {
    "duration": 11,
    "start_time": "2022-02-25T22:42:12.862Z"
   },
   {
    "duration": 12,
    "start_time": "2022-02-25T22:42:12.874Z"
   },
   {
    "duration": 4,
    "start_time": "2022-02-25T22:42:12.888Z"
   },
   {
    "duration": 8,
    "start_time": "2022-02-25T22:42:12.894Z"
   },
   {
    "duration": 9,
    "start_time": "2022-02-25T22:42:12.904Z"
   },
   {
    "duration": 8,
    "start_time": "2022-02-25T22:42:12.914Z"
   },
   {
    "duration": 24,
    "start_time": "2022-02-25T22:42:12.924Z"
   },
   {
    "duration": 4,
    "start_time": "2022-02-25T22:42:12.950Z"
   },
   {
    "duration": 6,
    "start_time": "2022-02-25T22:42:12.955Z"
   },
   {
    "duration": 18,
    "start_time": "2022-02-25T22:42:12.962Z"
   },
   {
    "duration": 7,
    "start_time": "2022-02-25T22:42:12.982Z"
   },
   {
    "duration": 17,
    "start_time": "2022-02-25T22:42:12.991Z"
   },
   {
    "duration": 47,
    "start_time": "2022-02-25T22:42:13.010Z"
   },
   {
    "duration": 260,
    "start_time": "2022-02-25T22:42:13.058Z"
   },
   {
    "duration": 13,
    "start_time": "2022-02-25T22:42:13.319Z"
   },
   {
    "duration": 25,
    "start_time": "2022-02-25T22:42:13.334Z"
   },
   {
    "duration": 224,
    "start_time": "2022-02-25T22:42:13.360Z"
   },
   {
    "duration": 323,
    "start_time": "2022-02-25T22:42:13.587Z"
   },
   {
    "duration": 21,
    "start_time": "2022-02-25T22:42:13.912Z"
   },
   {
    "duration": 18,
    "start_time": "2022-02-25T22:43:47.516Z"
   },
   {
    "duration": 237,
    "start_time": "2022-02-25T22:43:50.869Z"
   },
   {
    "duration": 16,
    "start_time": "2022-02-25T22:44:15.391Z"
   },
   {
    "duration": 233,
    "start_time": "2022-02-25T22:44:15.845Z"
   },
   {
    "duration": 15,
    "start_time": "2022-02-25T22:44:30.493Z"
   },
   {
    "duration": 205,
    "start_time": "2022-02-25T22:44:31.148Z"
   },
   {
    "duration": 14,
    "start_time": "2022-02-25T22:44:55.533Z"
   },
   {
    "duration": 207,
    "start_time": "2022-02-25T22:44:56.172Z"
   },
   {
    "duration": 14,
    "start_time": "2022-02-25T22:46:05.419Z"
   },
   {
    "duration": 198,
    "start_time": "2022-02-25T22:46:05.868Z"
   },
   {
    "duration": 12,
    "start_time": "2022-02-25T22:46:29.494Z"
   },
   {
    "duration": 212,
    "start_time": "2022-02-25T22:46:31.084Z"
   },
   {
    "duration": 265,
    "start_time": "2022-02-25T22:46:48.701Z"
   },
   {
    "duration": 170,
    "start_time": "2022-02-26T17:59:39.709Z"
   },
   {
    "duration": 507,
    "start_time": "2022-02-26T17:59:42.865Z"
   },
   {
    "duration": 37,
    "start_time": "2022-02-26T17:59:43.374Z"
   },
   {
    "duration": 19,
    "start_time": "2022-02-26T17:59:43.413Z"
   },
   {
    "duration": 9,
    "start_time": "2022-02-26T17:59:43.434Z"
   },
   {
    "duration": 26,
    "start_time": "2022-02-26T17:59:43.445Z"
   },
   {
    "duration": 13,
    "start_time": "2022-02-26T17:59:43.472Z"
   },
   {
    "duration": 9,
    "start_time": "2022-02-26T17:59:43.487Z"
   },
   {
    "duration": 6,
    "start_time": "2022-02-26T17:59:43.498Z"
   },
   {
    "duration": 33,
    "start_time": "2022-02-26T17:59:43.506Z"
   },
   {
    "duration": 7,
    "start_time": "2022-02-26T17:59:43.541Z"
   },
   {
    "duration": 7,
    "start_time": "2022-02-26T17:59:43.550Z"
   },
   {
    "duration": 4,
    "start_time": "2022-02-26T17:59:43.558Z"
   },
   {
    "duration": 5,
    "start_time": "2022-02-26T17:59:43.564Z"
   },
   {
    "duration": 7,
    "start_time": "2022-02-26T17:59:43.570Z"
   },
   {
    "duration": 16,
    "start_time": "2022-02-26T17:59:43.579Z"
   },
   {
    "duration": 42,
    "start_time": "2022-02-26T17:59:43.597Z"
   },
   {
    "duration": 19,
    "start_time": "2022-02-26T17:59:43.640Z"
   },
   {
    "duration": 13,
    "start_time": "2022-02-26T17:59:43.661Z"
   },
   {
    "duration": 280,
    "start_time": "2022-02-26T17:59:43.676Z"
   },
   {
    "duration": 14,
    "start_time": "2022-02-26T17:59:43.957Z"
   },
   {
    "duration": 239,
    "start_time": "2022-02-26T17:59:43.973Z"
   },
   {
    "duration": 146,
    "start_time": "2022-02-26T17:59:44.214Z"
   },
   {
    "duration": -46,
    "start_time": "2022-02-26T17:59:44.407Z"
   },
   {
    "duration": -47,
    "start_time": "2022-02-26T17:59:44.409Z"
   },
   {
    "duration": 339,
    "start_time": "2022-02-26T18:03:25.538Z"
   },
   {
    "duration": 398,
    "start_time": "2022-02-26T18:05:02.610Z"
   },
   {
    "duration": 20,
    "start_time": "2022-02-26T18:14:04.975Z"
   },
   {
    "duration": 13,
    "start_time": "2022-02-26T18:22:14.343Z"
   },
   {
    "duration": 23,
    "start_time": "2022-02-26T18:22:37.015Z"
   },
   {
    "duration": 20,
    "start_time": "2022-02-26T18:23:37.976Z"
   },
   {
    "duration": 20,
    "start_time": "2022-02-26T18:24:25.522Z"
   },
   {
    "duration": 22,
    "start_time": "2022-02-26T18:26:02.367Z"
   },
   {
    "duration": 22,
    "start_time": "2022-02-26T18:26:16.415Z"
   },
   {
    "duration": 4,
    "start_time": "2022-02-26T18:27:05.761Z"
   },
   {
    "duration": 5,
    "start_time": "2022-02-26T18:28:45.771Z"
   },
   {
    "duration": 140,
    "start_time": "2022-02-26T18:31:06.150Z"
   },
   {
    "duration": 157,
    "start_time": "2022-02-26T18:31:28.651Z"
   },
   {
    "duration": 10,
    "start_time": "2022-02-26T18:32:40.137Z"
   },
   {
    "duration": 3,
    "start_time": "2022-02-26T18:34:49.294Z"
   },
   {
    "duration": 35,
    "start_time": "2022-02-26T18:34:49.299Z"
   },
   {
    "duration": 14,
    "start_time": "2022-02-26T18:34:49.336Z"
   },
   {
    "duration": 11,
    "start_time": "2022-02-26T18:34:49.351Z"
   },
   {
    "duration": 26,
    "start_time": "2022-02-26T18:34:49.363Z"
   },
   {
    "duration": 12,
    "start_time": "2022-02-26T18:34:49.390Z"
   },
   {
    "duration": 36,
    "start_time": "2022-02-26T18:34:49.403Z"
   },
   {
    "duration": 4,
    "start_time": "2022-02-26T18:34:49.441Z"
   },
   {
    "duration": 9,
    "start_time": "2022-02-26T18:34:49.447Z"
   },
   {
    "duration": 8,
    "start_time": "2022-02-26T18:34:49.457Z"
   },
   {
    "duration": 7,
    "start_time": "2022-02-26T18:34:49.466Z"
   },
   {
    "duration": 4,
    "start_time": "2022-02-26T18:34:49.475Z"
   },
   {
    "duration": 6,
    "start_time": "2022-02-26T18:34:49.480Z"
   },
   {
    "duration": 5,
    "start_time": "2022-02-26T18:34:49.487Z"
   },
   {
    "duration": 17,
    "start_time": "2022-02-26T18:34:49.533Z"
   },
   {
    "duration": 7,
    "start_time": "2022-02-26T18:34:49.551Z"
   },
   {
    "duration": 18,
    "start_time": "2022-02-26T18:34:49.560Z"
   },
   {
    "duration": 13,
    "start_time": "2022-02-26T18:34:49.579Z"
   },
   {
    "duration": 219,
    "start_time": "2022-02-26T18:34:49.594Z"
   },
   {
    "duration": 23,
    "start_time": "2022-02-26T18:34:49.814Z"
   },
   {
    "duration": 240,
    "start_time": "2022-02-26T18:34:49.838Z"
   },
   {
    "duration": 296,
    "start_time": "2022-02-26T18:34:50.079Z"
   },
   {
    "duration": 22,
    "start_time": "2022-02-26T18:34:50.378Z"
   },
   {
    "duration": 4,
    "start_time": "2022-02-26T18:34:50.401Z"
   },
   {
    "duration": 29,
    "start_time": "2022-02-26T18:34:50.406Z"
   },
   {
    "duration": 8,
    "start_time": "2022-02-26T18:34:50.436Z"
   },
   {
    "duration": 47,
    "start_time": "2022-02-26T18:34:50.446Z"
   },
   {
    "duration": 8,
    "start_time": "2022-02-26T18:35:25.610Z"
   },
   {
    "duration": 230,
    "start_time": "2022-02-26T19:49:18.967Z"
   },
   {
    "duration": 223,
    "start_time": "2022-02-26T19:49:52.671Z"
   },
   {
    "duration": 226,
    "start_time": "2022-02-26T19:50:00.600Z"
   },
   {
    "duration": 43,
    "start_time": "2022-02-26T20:03:30.290Z"
   },
   {
    "duration": 5,
    "start_time": "2022-02-26T20:14:08.975Z"
   },
   {
    "duration": 233,
    "start_time": "2022-02-26T20:37:49.353Z"
   },
   {
    "duration": 143,
    "start_time": "2022-02-26T20:40:13.721Z"
   },
   {
    "duration": 163,
    "start_time": "2022-02-26T20:40:25.985Z"
   },
   {
    "duration": 197,
    "start_time": "2022-02-26T20:40:42.953Z"
   },
   {
    "duration": 315,
    "start_time": "2022-02-26T20:41:16.952Z"
   },
   {
    "duration": 329,
    "start_time": "2022-02-26T20:41:27.872Z"
   },
   {
    "duration": 317,
    "start_time": "2022-02-26T20:43:04.968Z"
   },
   {
    "duration": 319,
    "start_time": "2022-02-26T20:43:13.960Z"
   },
   {
    "duration": 276,
    "start_time": "2022-02-26T20:43:25.711Z"
   },
   {
    "duration": 324,
    "start_time": "2022-02-26T20:43:30.217Z"
   },
   {
    "duration": 73,
    "start_time": "2022-02-27T18:17:29.036Z"
   },
   {
    "duration": 271,
    "start_time": "2022-02-27T18:17:52.001Z"
   },
   {
    "duration": 486,
    "start_time": "2022-02-27T18:18:06.785Z"
   },
   {
    "duration": 274,
    "start_time": "2022-02-27T18:18:07.328Z"
   },
   {
    "duration": 252,
    "start_time": "2022-02-27T18:18:42.601Z"
   },
   {
    "duration": 226,
    "start_time": "2022-02-27T18:19:44.527Z"
   },
   {
    "duration": 270,
    "start_time": "2022-02-27T18:22:35.090Z"
   },
   {
    "duration": 214,
    "start_time": "2022-02-27T18:22:40.074Z"
   },
   {
    "duration": 40,
    "start_time": "2022-02-27T18:22:40.290Z"
   },
   {
    "duration": 16,
    "start_time": "2022-02-27T18:22:40.332Z"
   },
   {
    "duration": 12,
    "start_time": "2022-02-27T18:22:40.350Z"
   },
   {
    "duration": 32,
    "start_time": "2022-02-27T18:22:40.377Z"
   },
   {
    "duration": 15,
    "start_time": "2022-02-27T18:22:40.410Z"
   },
   {
    "duration": 10,
    "start_time": "2022-02-27T18:22:40.427Z"
   },
   {
    "duration": 5,
    "start_time": "2022-02-27T18:22:40.440Z"
   },
   {
    "duration": 13,
    "start_time": "2022-02-27T18:22:40.476Z"
   },
   {
    "duration": 12,
    "start_time": "2022-02-27T18:22:40.491Z"
   },
   {
    "duration": 8,
    "start_time": "2022-02-27T18:22:40.504Z"
   },
   {
    "duration": 5,
    "start_time": "2022-02-27T18:22:40.514Z"
   },
   {
    "duration": 6,
    "start_time": "2022-02-27T18:22:40.521Z"
   },
   {
    "duration": 7,
    "start_time": "2022-02-27T18:22:40.529Z"
   },
   {
    "duration": 57,
    "start_time": "2022-02-27T18:22:40.537Z"
   },
   {
    "duration": 8,
    "start_time": "2022-02-27T18:22:40.596Z"
   },
   {
    "duration": 20,
    "start_time": "2022-02-27T18:22:40.606Z"
   },
   {
    "duration": 15,
    "start_time": "2022-02-27T18:22:40.628Z"
   },
   {
    "duration": 273,
    "start_time": "2022-02-27T18:22:40.645Z"
   },
   {
    "duration": 16,
    "start_time": "2022-02-27T18:22:40.920Z"
   },
   {
    "duration": 350,
    "start_time": "2022-02-27T18:22:40.938Z"
   },
   {
    "duration": 364,
    "start_time": "2022-02-27T18:22:41.290Z"
   },
   {
    "duration": 33,
    "start_time": "2022-02-27T18:22:41.657Z"
   },
   {
    "duration": 4,
    "start_time": "2022-02-27T18:22:41.692Z"
   },
   {
    "duration": 11,
    "start_time": "2022-02-27T18:22:41.697Z"
   },
   {
    "duration": 9,
    "start_time": "2022-02-27T18:22:41.710Z"
   },
   {
    "duration": 7,
    "start_time": "2022-02-27T18:22:41.721Z"
   },
   {
    "duration": 338,
    "start_time": "2022-02-27T18:22:41.730Z"
   },
   {
    "duration": 422,
    "start_time": "2022-02-27T18:22:42.070Z"
   },
   {
    "duration": 1100,
    "start_time": "2022-02-27T18:22:42.493Z"
   },
   {
    "duration": 5,
    "start_time": "2022-02-27T18:22:43.595Z"
   },
   {
    "duration": 315,
    "start_time": "2022-02-27T18:22:43.602Z"
   },
   {
    "duration": 1144,
    "start_time": "2022-02-27T18:23:22.006Z"
   },
   {
    "duration": 256,
    "start_time": "2022-02-27T18:24:43.588Z"
   },
   {
    "duration": 228,
    "start_time": "2022-02-27T18:24:48.549Z"
   },
   {
    "duration": 6,
    "start_time": "2022-02-27T18:26:58.996Z"
   },
   {
    "duration": 245,
    "start_time": "2022-02-27T18:26:59.492Z"
   },
   {
    "duration": 3,
    "start_time": "2022-02-27T18:27:59.108Z"
   },
   {
    "duration": 278,
    "start_time": "2022-02-27T18:31:30.779Z"
   },
   {
    "duration": 568,
    "start_time": "2022-02-27T18:32:34.570Z"
   },
   {
    "duration": 481,
    "start_time": "2022-02-27T18:32:35.140Z"
   },
   {
    "duration": 374,
    "start_time": "2022-02-27T18:33:06.849Z"
   },
   {
    "duration": 357,
    "start_time": "2022-02-27T18:33:19.586Z"
   },
   {
    "duration": 250,
    "start_time": "2022-02-27T18:35:56.881Z"
   },
   {
    "duration": 3,
    "start_time": "2022-02-27T18:36:44.001Z"
   },
   {
    "duration": 177,
    "start_time": "2022-02-27T18:39:10.457Z"
   },
   {
    "duration": 353,
    "start_time": "2022-02-27T18:39:23.732Z"
   },
   {
    "duration": 179,
    "start_time": "2022-02-27T18:41:09.487Z"
   },
   {
    "duration": 318,
    "start_time": "2022-02-27T18:46:48.484Z"
   },
   {
    "duration": 504,
    "start_time": "2022-02-27T18:47:02.885Z"
   },
   {
    "duration": 158,
    "start_time": "2022-02-27T18:52:15.510Z"
   },
   {
    "duration": 3,
    "start_time": "2022-02-27T18:57:24.884Z"
   },
   {
    "duration": 113,
    "start_time": "2022-02-27T18:57:34.651Z"
   },
   {
    "duration": 657,
    "start_time": "2022-02-27T18:58:16.146Z"
   },
   {
    "duration": 432,
    "start_time": "2022-02-27T18:58:38.786Z"
   },
   {
    "duration": 610,
    "start_time": "2022-02-27T18:59:14.546Z"
   },
   {
    "duration": 702,
    "start_time": "2022-02-27T18:59:23.738Z"
   },
   {
    "duration": 637,
    "start_time": "2022-02-27T18:59:51.866Z"
   },
   {
    "duration": 626,
    "start_time": "2022-02-27T19:00:06.022Z"
   },
   {
    "duration": 434,
    "start_time": "2022-02-27T19:00:12.386Z"
   },
   {
    "duration": 459,
    "start_time": "2022-02-27T19:00:18.994Z"
   },
   {
    "duration": 163,
    "start_time": "2022-02-27T19:00:46.418Z"
   },
   {
    "duration": 92,
    "start_time": "2022-02-27T19:52:56.546Z"
   },
   {
    "duration": 28,
    "start_time": "2022-02-27T19:53:05.346Z"
   },
   {
    "duration": 38,
    "start_time": "2022-02-27T20:01:53.265Z"
   },
   {
    "duration": 20,
    "start_time": "2022-02-27T20:02:12.264Z"
   },
   {
    "duration": 331,
    "start_time": "2022-02-27T20:21:57.350Z"
   },
   {
    "duration": 292,
    "start_time": "2022-02-27T20:22:07.712Z"
   },
   {
    "duration": 304,
    "start_time": "2022-02-27T20:22:11.791Z"
   },
   {
    "duration": 341,
    "start_time": "2022-02-27T20:22:17.968Z"
   },
   {
    "duration": 442,
    "start_time": "2022-02-27T20:22:29.359Z"
   },
   {
    "duration": 298,
    "start_time": "2022-02-27T20:31:30.022Z"
   },
   {
    "duration": 293,
    "start_time": "2022-02-27T20:34:48.827Z"
   },
   {
    "duration": 304,
    "start_time": "2022-02-27T20:48:05.433Z"
   },
   {
    "duration": 273,
    "start_time": "2022-02-27T20:56:40.569Z"
   },
   {
    "duration": 338,
    "start_time": "2022-02-27T20:56:44.377Z"
   },
   {
    "duration": 226,
    "start_time": "2022-02-27T20:56:46.017Z"
   },
   {
    "duration": 302,
    "start_time": "2022-02-27T20:56:58.506Z"
   },
   {
    "duration": 236,
    "start_time": "2022-02-27T20:56:59.585Z"
   },
   {
    "duration": 3,
    "start_time": "2022-02-27T20:57:03.983Z"
   },
   {
    "duration": 40,
    "start_time": "2022-02-27T20:57:03.988Z"
   },
   {
    "duration": 17,
    "start_time": "2022-02-27T20:57:04.030Z"
   },
   {
    "duration": 32,
    "start_time": "2022-02-27T20:57:04.049Z"
   },
   {
    "duration": 34,
    "start_time": "2022-02-27T20:57:04.083Z"
   },
   {
    "duration": 14,
    "start_time": "2022-02-27T20:57:04.119Z"
   },
   {
    "duration": 10,
    "start_time": "2022-02-27T20:57:04.135Z"
   },
   {
    "duration": 33,
    "start_time": "2022-02-27T20:57:04.148Z"
   },
   {
    "duration": 14,
    "start_time": "2022-02-27T20:57:04.183Z"
   },
   {
    "duration": 8,
    "start_time": "2022-02-27T20:57:04.199Z"
   },
   {
    "duration": 11,
    "start_time": "2022-02-27T20:57:04.208Z"
   },
   {
    "duration": 5,
    "start_time": "2022-02-27T20:57:04.221Z"
   },
   {
    "duration": 6,
    "start_time": "2022-02-27T20:57:04.228Z"
   },
   {
    "duration": 44,
    "start_time": "2022-02-27T20:57:04.236Z"
   },
   {
    "duration": 27,
    "start_time": "2022-02-27T20:57:04.282Z"
   },
   {
    "duration": 9,
    "start_time": "2022-02-27T20:57:04.310Z"
   },
   {
    "duration": 21,
    "start_time": "2022-02-27T20:57:04.320Z"
   },
   {
    "duration": 41,
    "start_time": "2022-02-27T20:57:04.343Z"
   },
   {
    "duration": 234,
    "start_time": "2022-02-27T20:57:04.386Z"
   },
   {
    "duration": 16,
    "start_time": "2022-02-27T20:57:04.623Z"
   },
   {
    "duration": 290,
    "start_time": "2022-02-27T20:57:04.642Z"
   },
   {
    "duration": 381,
    "start_time": "2022-02-27T20:57:04.934Z"
   },
   {
    "duration": 24,
    "start_time": "2022-02-27T20:57:05.320Z"
   },
   {
    "duration": 6,
    "start_time": "2022-02-27T20:57:05.346Z"
   },
   {
    "duration": 26,
    "start_time": "2022-02-27T20:57:05.353Z"
   },
   {
    "duration": 26,
    "start_time": "2022-02-27T20:57:05.381Z"
   },
   {
    "duration": 9,
    "start_time": "2022-02-27T20:57:05.409Z"
   },
   {
    "duration": 245,
    "start_time": "2022-02-27T20:57:05.420Z"
   },
   {
    "duration": 194,
    "start_time": "2022-02-27T20:57:05.667Z"
   },
   {
    "duration": 316,
    "start_time": "2022-02-27T20:57:05.863Z"
   },
   {
    "duration": 410,
    "start_time": "2022-02-27T20:57:06.181Z"
   },
   {
    "duration": 576,
    "start_time": "2022-02-27T20:57:06.593Z"
   },
   {
    "duration": 23,
    "start_time": "2022-02-27T20:57:07.171Z"
   },
   {
    "duration": 84,
    "start_time": "2022-02-27T20:57:07.195Z"
   },
   {
    "duration": -119,
    "start_time": "2022-02-27T20:57:07.400Z"
   },
   {
    "duration": -120,
    "start_time": "2022-02-27T20:57:07.403Z"
   },
   {
    "duration": 3,
    "start_time": "2022-02-27T20:57:15.182Z"
   },
   {
    "duration": 41,
    "start_time": "2022-02-27T20:57:15.187Z"
   },
   {
    "duration": 15,
    "start_time": "2022-02-27T20:57:15.230Z"
   },
   {
    "duration": 30,
    "start_time": "2022-02-27T20:57:15.247Z"
   },
   {
    "duration": 30,
    "start_time": "2022-02-27T20:57:15.279Z"
   },
   {
    "duration": 15,
    "start_time": "2022-02-27T20:57:15.310Z"
   },
   {
    "duration": 15,
    "start_time": "2022-02-27T20:57:15.326Z"
   },
   {
    "duration": 5,
    "start_time": "2022-02-27T20:57:15.343Z"
   },
   {
    "duration": 34,
    "start_time": "2022-02-27T20:57:15.349Z"
   },
   {
    "duration": 8,
    "start_time": "2022-02-27T20:57:15.386Z"
   },
   {
    "duration": 9,
    "start_time": "2022-02-27T20:57:15.396Z"
   },
   {
    "duration": 4,
    "start_time": "2022-02-27T20:57:15.407Z"
   },
   {
    "duration": 6,
    "start_time": "2022-02-27T20:57:15.413Z"
   },
   {
    "duration": 8,
    "start_time": "2022-02-27T20:57:15.421Z"
   },
   {
    "duration": 57,
    "start_time": "2022-02-27T20:57:15.430Z"
   },
   {
    "duration": 9,
    "start_time": "2022-02-27T20:57:15.489Z"
   },
   {
    "duration": 24,
    "start_time": "2022-02-27T20:57:15.500Z"
   },
   {
    "duration": 15,
    "start_time": "2022-02-27T20:57:15.526Z"
   },
   {
    "duration": 271,
    "start_time": "2022-02-27T20:57:15.543Z"
   },
   {
    "duration": 19,
    "start_time": "2022-02-27T20:57:15.816Z"
   },
   {
    "duration": 313,
    "start_time": "2022-02-27T20:57:15.837Z"
   },
   {
    "duration": 361,
    "start_time": "2022-02-27T20:57:16.151Z"
   },
   {
    "duration": 24,
    "start_time": "2022-02-27T20:57:16.514Z"
   },
   {
    "duration": 4,
    "start_time": "2022-02-27T20:57:16.540Z"
   },
   {
    "duration": 7,
    "start_time": "2022-02-27T20:57:16.545Z"
   },
   {
    "duration": 30,
    "start_time": "2022-02-27T20:57:16.554Z"
   },
   {
    "duration": 9,
    "start_time": "2022-02-27T20:57:16.585Z"
   },
   {
    "duration": 264,
    "start_time": "2022-02-27T20:57:16.597Z"
   },
   {
    "duration": 189,
    "start_time": "2022-02-27T20:57:16.863Z"
   },
   {
    "duration": 313,
    "start_time": "2022-02-27T20:57:17.054Z"
   },
   {
    "duration": 422,
    "start_time": "2022-02-27T20:57:17.369Z"
   },
   {
    "duration": 463,
    "start_time": "2022-02-27T20:57:17.793Z"
   },
   {
    "duration": 25,
    "start_time": "2022-02-27T20:57:18.257Z"
   },
   {
    "duration": 333,
    "start_time": "2022-02-27T20:57:18.284Z"
   },
   {
    "duration": 211,
    "start_time": "2022-02-27T20:57:18.619Z"
   },
   {
    "duration": 4,
    "start_time": "2022-02-27T20:57:28.408Z"
   },
   {
    "duration": 330,
    "start_time": "2022-02-27T20:57:50.588Z"
   },
   {
    "duration": 21,
    "start_time": "2022-02-27T20:57:52.345Z"
   },
   {
    "duration": 5,
    "start_time": "2022-02-27T20:57:53.441Z"
   },
   {
    "duration": 326,
    "start_time": "2022-02-27T21:43:00.396Z"
   },
   {
    "duration": 6,
    "start_time": "2022-02-27T21:43:02.723Z"
   },
   {
    "duration": 305,
    "start_time": "2022-02-27T21:43:15.412Z"
   },
   {
    "duration": 6,
    "start_time": "2022-02-27T21:45:29.052Z"
   },
   {
    "duration": 86,
    "start_time": "2022-02-27T21:52:43.080Z"
   },
   {
    "duration": 82,
    "start_time": "2022-02-27T21:52:49.720Z"
   },
   {
    "duration": 10,
    "start_time": "2022-02-27T21:54:45.754Z"
   },
   {
    "duration": 1276,
    "start_time": "2022-02-27T21:54:46.361Z"
   },
   {
    "duration": 294,
    "start_time": "2022-02-27T21:55:34.823Z"
   },
   {
    "duration": 318,
    "start_time": "2022-02-27T21:55:45.809Z"
   },
   {
    "duration": 7,
    "start_time": "2022-02-27T21:56:23.056Z"
   },
   {
    "duration": 348,
    "start_time": "2022-02-27T21:57:55.549Z"
   },
   {
    "duration": 6,
    "start_time": "2022-02-27T22:00:02.862Z"
   },
   {
    "duration": 6,
    "start_time": "2022-02-27T22:00:12.486Z"
   },
   {
    "duration": 320,
    "start_time": "2022-02-27T22:05:46.290Z"
   },
   {
    "duration": 5,
    "start_time": "2022-02-27T22:33:26.310Z"
   },
   {
    "duration": 189,
    "start_time": "2022-02-28T15:12:13.512Z"
   },
   {
    "duration": 1059,
    "start_time": "2022-02-28T15:12:16.637Z"
   },
   {
    "duration": 36,
    "start_time": "2022-02-28T15:12:17.697Z"
   },
   {
    "duration": 16,
    "start_time": "2022-02-28T15:12:17.735Z"
   },
   {
    "duration": 9,
    "start_time": "2022-02-28T15:12:17.752Z"
   },
   {
    "duration": 27,
    "start_time": "2022-02-28T15:12:17.763Z"
   },
   {
    "duration": 14,
    "start_time": "2022-02-28T15:12:17.791Z"
   },
   {
    "duration": 32,
    "start_time": "2022-02-28T15:12:17.807Z"
   },
   {
    "duration": 5,
    "start_time": "2022-02-28T15:12:17.842Z"
   },
   {
    "duration": 10,
    "start_time": "2022-02-28T15:12:17.849Z"
   },
   {
    "duration": 8,
    "start_time": "2022-02-28T15:12:17.860Z"
   },
   {
    "duration": 10,
    "start_time": "2022-02-28T15:12:17.869Z"
   },
   {
    "duration": 5,
    "start_time": "2022-02-28T15:12:17.881Z"
   },
   {
    "duration": 8,
    "start_time": "2022-02-28T15:12:17.887Z"
   },
   {
    "duration": 43,
    "start_time": "2022-02-28T15:12:17.896Z"
   },
   {
    "duration": 17,
    "start_time": "2022-02-28T15:12:17.941Z"
   },
   {
    "duration": 8,
    "start_time": "2022-02-28T15:12:17.960Z"
   },
   {
    "duration": 20,
    "start_time": "2022-02-28T15:12:17.970Z"
   },
   {
    "duration": 15,
    "start_time": "2022-02-28T15:12:17.991Z"
   },
   {
    "duration": 239,
    "start_time": "2022-02-28T15:12:18.008Z"
   },
   {
    "duration": 14,
    "start_time": "2022-02-28T15:12:18.249Z"
   },
   {
    "duration": 256,
    "start_time": "2022-02-28T15:12:18.265Z"
   },
   {
    "duration": 317,
    "start_time": "2022-02-28T15:12:18.523Z"
   },
   {
    "duration": 23,
    "start_time": "2022-02-28T15:12:18.843Z"
   },
   {
    "duration": 3,
    "start_time": "2022-02-28T15:12:18.868Z"
   },
   {
    "duration": 9,
    "start_time": "2022-02-28T15:12:18.873Z"
   },
   {
    "duration": 11,
    "start_time": "2022-02-28T15:12:18.884Z"
   },
   {
    "duration": 7,
    "start_time": "2022-02-28T15:12:18.897Z"
   },
   {
    "duration": 249,
    "start_time": "2022-02-28T15:12:18.905Z"
   },
   {
    "duration": 175,
    "start_time": "2022-02-28T15:12:19.156Z"
   },
   {
    "duration": 276,
    "start_time": "2022-02-28T15:12:19.332Z"
   },
   {
    "duration": 421,
    "start_time": "2022-02-28T15:12:19.610Z"
   },
   {
    "duration": 417,
    "start_time": "2022-02-28T15:12:20.038Z"
   },
   {
    "duration": 20,
    "start_time": "2022-02-28T15:12:20.456Z"
   },
   {
    "duration": 310,
    "start_time": "2022-02-28T15:12:20.478Z"
   },
   {
    "duration": 5,
    "start_time": "2022-02-28T15:12:20.789Z"
   },
   {
    "duration": 322,
    "start_time": "2022-02-28T15:12:20.795Z"
   },
   {
    "duration": 5,
    "start_time": "2022-02-28T15:12:21.118Z"
   },
   {
    "duration": 17,
    "start_time": "2022-02-28T15:12:21.125Z"
   },
   {
    "duration": 333,
    "start_time": "2022-02-28T15:12:21.143Z"
   },
   {
    "duration": 5,
    "start_time": "2022-02-28T15:12:21.478Z"
   },
   {
    "duration": 303,
    "start_time": "2022-02-28T15:12:21.485Z"
   },
   {
    "duration": 4,
    "start_time": "2022-02-28T15:12:21.790Z"
   },
   {
    "duration": 255,
    "start_time": "2022-02-28T15:12:21.796Z"
   },
   {
    "duration": 197,
    "start_time": "2022-02-28T15:12:22.053Z"
   },
   {
    "duration": 194,
    "start_time": "2022-02-28T15:19:36.029Z"
   },
   {
    "duration": 242,
    "start_time": "2022-02-28T15:19:52.732Z"
   },
   {
    "duration": 319,
    "start_time": "2022-02-28T15:37:45.327Z"
   },
   {
    "duration": 186,
    "start_time": "2022-02-28T15:38:08.485Z"
   },
   {
    "duration": 236,
    "start_time": "2022-02-28T16:00:46.226Z"
   },
   {
    "duration": 228,
    "start_time": "2022-02-28T16:48:26.687Z"
   },
   {
    "duration": 180,
    "start_time": "2022-02-28T16:48:32.782Z"
   },
   {
    "duration": 20,
    "start_time": "2022-02-28T17:01:48.399Z"
   },
   {
    "duration": 204,
    "start_time": "2022-02-28T17:02:56.559Z"
   },
   {
    "duration": 83,
    "start_time": "2022-02-28T17:05:27.594Z"
   },
   {
    "duration": 215,
    "start_time": "2022-02-28T17:09:16.007Z"
   },
   {
    "duration": 199,
    "start_time": "2022-02-28T17:15:27.577Z"
   },
   {
    "duration": 204,
    "start_time": "2022-02-28T17:15:32.218Z"
   },
   {
    "duration": 15,
    "start_time": "2022-02-28T17:15:58.759Z"
   },
   {
    "duration": 47,
    "start_time": "2022-02-28T17:20:32.086Z"
   },
   {
    "duration": 184,
    "start_time": "2022-02-28T17:20:47.248Z"
   },
   {
    "duration": 181,
    "start_time": "2022-02-28T17:20:57.545Z"
   },
   {
    "duration": 193,
    "start_time": "2022-02-28T17:21:03.417Z"
   },
   {
    "duration": 307,
    "start_time": "2022-02-28T17:21:30.608Z"
   },
   {
    "duration": 201,
    "start_time": "2022-02-28T17:41:55.471Z"
   },
   {
    "duration": 46,
    "start_time": "2022-02-28T17:52:10.293Z"
   },
   {
    "duration": 228,
    "start_time": "2022-02-28T18:16:01.455Z"
   },
   {
    "duration": 221,
    "start_time": "2022-02-28T18:16:49.385Z"
   },
   {
    "duration": 43,
    "start_time": "2022-02-28T18:17:14.591Z"
   },
   {
    "duration": 192,
    "start_time": "2022-02-28T18:17:18.358Z"
   },
   {
    "duration": 40,
    "start_time": "2022-02-28T18:47:52.114Z"
   },
   {
    "duration": 225,
    "start_time": "2022-02-28T18:48:26.185Z"
   },
   {
    "duration": 269,
    "start_time": "2022-02-28T18:54:39.855Z"
   },
   {
    "duration": 55,
    "start_time": "2022-02-28T18:55:16.752Z"
   },
   {
    "duration": 205,
    "start_time": "2022-02-28T19:10:23.896Z"
   },
   {
    "duration": 21,
    "start_time": "2022-02-28T19:11:22.151Z"
   },
   {
    "duration": 259,
    "start_time": "2022-02-28T19:11:50.240Z"
   },
   {
    "duration": 666,
    "start_time": "2022-02-28T19:12:22.201Z"
   },
   {
    "duration": 178,
    "start_time": "2022-02-28T19:16:22.623Z"
   },
   {
    "duration": 176,
    "start_time": "2022-02-28T19:16:55.342Z"
   },
   {
    "duration": 171,
    "start_time": "2022-02-28T19:17:17.750Z"
   },
   {
    "duration": 52,
    "start_time": "2022-02-28T20:30:07.092Z"
   },
   {
    "duration": 8,
    "start_time": "2022-02-28T20:32:13.433Z"
   },
   {
    "duration": 4,
    "start_time": "2022-02-28T20:34:44.685Z"
   },
   {
    "duration": 8,
    "start_time": "2022-02-28T20:34:59.912Z"
   },
   {
    "duration": 4,
    "start_time": "2022-02-28T20:35:01.184Z"
   },
   {
    "duration": 10,
    "start_time": "2022-02-28T20:39:23.742Z"
   },
   {
    "duration": 4,
    "start_time": "2022-02-28T20:39:24.622Z"
   },
   {
    "duration": 12,
    "start_time": "2022-02-28T20:40:33.134Z"
   },
   {
    "duration": 5,
    "start_time": "2022-02-28T20:40:34.213Z"
   },
   {
    "duration": 14,
    "start_time": "2022-02-28T20:40:37.007Z"
   },
   {
    "duration": 6,
    "start_time": "2022-02-28T20:40:37.549Z"
   },
   {
    "duration": 8,
    "start_time": "2022-02-28T20:42:13.293Z"
   },
   {
    "duration": 4,
    "start_time": "2022-02-28T20:42:14.132Z"
   },
   {
    "duration": 3,
    "start_time": "2022-02-28T20:48:59.680Z"
   },
   {
    "duration": 6,
    "start_time": "2022-02-28T20:49:05.689Z"
   },
   {
    "duration": 6,
    "start_time": "2022-02-28T20:49:57.938Z"
   },
   {
    "duration": 46,
    "start_time": "2022-02-28T20:53:33.658Z"
   },
   {
    "duration": 11,
    "start_time": "2022-02-28T20:55:36.383Z"
   },
   {
    "duration": 11,
    "start_time": "2022-02-28T20:56:10.366Z"
   },
   {
    "duration": 5,
    "start_time": "2022-02-28T20:56:12.453Z"
   },
   {
    "duration": 6,
    "start_time": "2022-02-28T20:56:26.085Z"
   },
   {
    "duration": 3,
    "start_time": "2022-02-28T20:57:20.879Z"
   },
   {
    "duration": 43,
    "start_time": "2022-02-28T20:57:20.884Z"
   },
   {
    "duration": 13,
    "start_time": "2022-02-28T20:57:20.929Z"
   },
   {
    "duration": 16,
    "start_time": "2022-02-28T20:57:20.944Z"
   },
   {
    "duration": 30,
    "start_time": "2022-02-28T20:57:20.961Z"
   },
   {
    "duration": 15,
    "start_time": "2022-02-28T20:57:20.992Z"
   },
   {
    "duration": 31,
    "start_time": "2022-02-28T20:57:21.010Z"
   },
   {
    "duration": 5,
    "start_time": "2022-02-28T20:57:21.043Z"
   },
   {
    "duration": 19,
    "start_time": "2022-02-28T20:57:21.049Z"
   },
   {
    "duration": 8,
    "start_time": "2022-02-28T20:57:21.069Z"
   },
   {
    "duration": 14,
    "start_time": "2022-02-28T20:57:21.078Z"
   },
   {
    "duration": 4,
    "start_time": "2022-02-28T20:57:21.094Z"
   },
   {
    "duration": 5,
    "start_time": "2022-02-28T20:57:21.100Z"
   },
   {
    "duration": 33,
    "start_time": "2022-02-28T20:57:21.106Z"
   },
   {
    "duration": 20,
    "start_time": "2022-02-28T20:57:21.140Z"
   },
   {
    "duration": 8,
    "start_time": "2022-02-28T20:57:21.161Z"
   },
   {
    "duration": 22,
    "start_time": "2022-02-28T20:57:21.170Z"
   },
   {
    "duration": 15,
    "start_time": "2022-02-28T20:57:21.193Z"
   },
   {
    "duration": 232,
    "start_time": "2022-02-28T20:57:21.211Z"
   },
   {
    "duration": 13,
    "start_time": "2022-02-28T20:57:21.445Z"
   },
   {
    "duration": 248,
    "start_time": "2022-02-28T20:57:21.460Z"
   },
   {
    "duration": 309,
    "start_time": "2022-02-28T20:57:21.710Z"
   },
   {
    "duration": 26,
    "start_time": "2022-02-28T20:57:22.021Z"
   },
   {
    "duration": 4,
    "start_time": "2022-02-28T20:57:22.048Z"
   },
   {
    "duration": 8,
    "start_time": "2022-02-28T20:57:22.054Z"
   },
   {
    "duration": 14,
    "start_time": "2022-02-28T20:57:22.064Z"
   },
   {
    "duration": 12,
    "start_time": "2022-02-28T20:57:22.080Z"
   },
   {
    "duration": 233,
    "start_time": "2022-02-28T20:57:22.095Z"
   },
   {
    "duration": 278,
    "start_time": "2022-02-28T20:57:22.330Z"
   },
   {
    "duration": 277,
    "start_time": "2022-02-28T20:57:22.610Z"
   },
   {
    "duration": 357,
    "start_time": "2022-02-28T20:57:22.889Z"
   },
   {
    "duration": 404,
    "start_time": "2022-02-28T20:57:23.248Z"
   },
   {
    "duration": 18,
    "start_time": "2022-02-28T20:57:23.653Z"
   },
   {
    "duration": 295,
    "start_time": "2022-02-28T20:57:23.673Z"
   },
   {
    "duration": 5,
    "start_time": "2022-02-28T20:57:23.970Z"
   },
   {
    "duration": 296,
    "start_time": "2022-02-28T20:57:23.977Z"
   },
   {
    "duration": 5,
    "start_time": "2022-02-28T20:57:24.275Z"
   },
   {
    "duration": 10,
    "start_time": "2022-02-28T20:57:24.282Z"
   },
   {
    "duration": 285,
    "start_time": "2022-02-28T20:57:24.294Z"
   },
   {
    "duration": 5,
    "start_time": "2022-02-28T20:57:24.581Z"
   },
   {
    "duration": 316,
    "start_time": "2022-02-28T20:57:24.587Z"
   },
   {
    "duration": 5,
    "start_time": "2022-02-28T20:57:24.904Z"
   },
   {
    "duration": 246,
    "start_time": "2022-02-28T20:57:24.910Z"
   },
   {
    "duration": 185,
    "start_time": "2022-02-28T20:57:25.157Z"
   },
   {
    "duration": 238,
    "start_time": "2022-02-28T20:57:25.343Z"
   },
   {
    "duration": 184,
    "start_time": "2022-02-28T20:57:25.583Z"
   },
   {
    "duration": 201,
    "start_time": "2022-02-28T20:57:25.769Z"
   },
   {
    "duration": 210,
    "start_time": "2022-02-28T20:57:25.971Z"
   },
   {
    "duration": 207,
    "start_time": "2022-02-28T20:57:26.183Z"
   },
   {
    "duration": 224,
    "start_time": "2022-02-28T20:57:26.391Z"
   },
   {
    "duration": 373,
    "start_time": "2022-02-28T20:57:26.619Z"
   },
   {
    "duration": 243,
    "start_time": "2022-02-28T20:57:26.994Z"
   },
   {
    "duration": 177,
    "start_time": "2022-02-28T20:57:27.239Z"
   },
   {
    "duration": 183,
    "start_time": "2022-02-28T20:57:27.417Z"
   },
   {
    "duration": 175,
    "start_time": "2022-02-28T20:57:27.602Z"
   },
   {
    "duration": 11,
    "start_time": "2022-02-28T20:57:27.778Z"
   },
   {
    "duration": 8,
    "start_time": "2022-02-28T20:57:27.791Z"
   },
   {
    "duration": 14,
    "start_time": "2022-02-28T20:57:27.800Z"
   },
   {
    "duration": 139,
    "start_time": "2022-02-28T21:01:49.564Z"
   },
   {
    "duration": 4,
    "start_time": "2022-02-28T21:02:19.859Z"
   },
   {
    "duration": 239,
    "start_time": "2022-02-28T21:02:33.747Z"
   },
   {
    "duration": 5,
    "start_time": "2022-02-28T21:02:56.188Z"
   },
   {
    "duration": 5,
    "start_time": "2022-02-28T21:08:34.057Z"
   },
   {
    "duration": 429,
    "start_time": "2022-02-28T21:16:06.781Z"
   },
   {
    "duration": 9,
    "start_time": "2022-02-28T21:24:30.378Z"
   },
   {
    "duration": 4,
    "start_time": "2022-02-28T21:24:32.249Z"
   },
   {
    "duration": 6,
    "start_time": "2022-02-28T21:46:06.880Z"
   },
   {
    "duration": 9,
    "start_time": "2022-02-28T22:00:12.938Z"
   },
   {
    "duration": 3,
    "start_time": "2022-02-28T22:01:12.164Z"
   },
   {
    "duration": 9,
    "start_time": "2022-02-28T22:01:20.376Z"
   },
   {
    "duration": 3,
    "start_time": "2022-02-28T22:01:21.153Z"
   },
   {
    "duration": 5,
    "start_time": "2022-02-28T22:03:50.993Z"
   },
   {
    "duration": 5,
    "start_time": "2022-02-28T22:09:43.618Z"
   },
   {
    "duration": 5,
    "start_time": "2022-02-28T22:09:47.150Z"
   },
   {
    "duration": 5,
    "start_time": "2022-02-28T22:14:25.292Z"
   },
   {
    "duration": 6,
    "start_time": "2022-02-28T22:14:58.159Z"
   },
   {
    "duration": 5,
    "start_time": "2022-02-28T22:16:04.419Z"
   },
   {
    "duration": 1925,
    "start_time": "2022-03-09T11:45:29.946Z"
   },
   {
    "duration": 61,
    "start_time": "2022-03-09T11:45:31.874Z"
   },
   {
    "duration": 37,
    "start_time": "2022-03-09T11:45:31.939Z"
   },
   {
    "duration": 19,
    "start_time": "2022-03-09T11:45:31.980Z"
   },
   {
    "duration": 89,
    "start_time": "2022-03-09T11:45:32.002Z"
   },
   {
    "duration": 31,
    "start_time": "2022-03-09T11:45:32.095Z"
   },
   {
    "duration": 33,
    "start_time": "2022-03-09T11:45:32.129Z"
   },
   {
    "duration": 8,
    "start_time": "2022-03-09T11:45:32.165Z"
   },
   {
    "duration": 13,
    "start_time": "2022-03-09T11:45:32.178Z"
   },
   {
    "duration": 12,
    "start_time": "2022-03-09T11:45:32.194Z"
   },
   {
    "duration": 11,
    "start_time": "2022-03-09T11:45:32.251Z"
   },
   {
    "duration": 7,
    "start_time": "2022-03-09T11:45:32.264Z"
   },
   {
    "duration": 10,
    "start_time": "2022-03-09T11:45:32.274Z"
   },
   {
    "duration": 9,
    "start_time": "2022-03-09T11:45:32.286Z"
   },
   {
    "duration": 71,
    "start_time": "2022-03-09T11:45:32.298Z"
   },
   {
    "duration": 17,
    "start_time": "2022-03-09T11:45:32.373Z"
   },
   {
    "duration": 59,
    "start_time": "2022-03-09T11:45:32.392Z"
   },
   {
    "duration": 26,
    "start_time": "2022-03-09T11:45:32.454Z"
   },
   {
    "duration": 331,
    "start_time": "2022-03-09T11:45:32.482Z"
   },
   {
    "duration": 43,
    "start_time": "2022-03-09T11:45:32.816Z"
   },
   {
    "duration": 402,
    "start_time": "2022-03-09T11:45:32.861Z"
   },
   {
    "duration": 505,
    "start_time": "2022-03-09T11:45:33.266Z"
   },
   {
    "duration": 35,
    "start_time": "2022-03-09T11:45:33.774Z"
   },
   {
    "duration": 6,
    "start_time": "2022-03-09T11:45:33.811Z"
   },
   {
    "duration": 34,
    "start_time": "2022-03-09T11:45:33.820Z"
   },
   {
    "duration": 13,
    "start_time": "2022-03-09T11:45:33.856Z"
   },
   {
    "duration": 6,
    "start_time": "2022-03-09T11:45:33.875Z"
   },
   {
    "duration": 371,
    "start_time": "2022-03-09T11:45:33.884Z"
   },
   {
    "duration": 273,
    "start_time": "2022-03-09T11:45:34.258Z"
   },
   {
    "duration": 414,
    "start_time": "2022-03-09T11:45:34.533Z"
   },
   {
    "duration": 618,
    "start_time": "2022-03-09T11:45:34.952Z"
   },
   {
    "duration": 657,
    "start_time": "2022-03-09T11:45:35.573Z"
   },
   {
    "duration": 40,
    "start_time": "2022-03-09T11:45:36.233Z"
   },
   {
    "duration": 414,
    "start_time": "2022-03-09T11:45:36.276Z"
   },
   {
    "duration": 6,
    "start_time": "2022-03-09T11:45:36.693Z"
   },
   {
    "duration": 472,
    "start_time": "2022-03-09T11:45:36.702Z"
   },
   {
    "duration": 6,
    "start_time": "2022-03-09T11:45:37.177Z"
   },
   {
    "duration": 18,
    "start_time": "2022-03-09T11:45:37.185Z"
   },
   {
    "duration": 434,
    "start_time": "2022-03-09T11:45:37.205Z"
   },
   {
    "duration": 11,
    "start_time": "2022-03-09T11:45:37.641Z"
   },
   {
    "duration": 421,
    "start_time": "2022-03-09T11:45:37.655Z"
   },
   {
    "duration": 7,
    "start_time": "2022-03-09T11:45:38.080Z"
   },
   {
    "duration": 401,
    "start_time": "2022-03-09T11:45:38.090Z"
   },
   {
    "duration": 316,
    "start_time": "2022-03-09T11:45:38.494Z"
   },
   {
    "duration": 393,
    "start_time": "2022-03-09T11:45:38.813Z"
   },
   {
    "duration": 399,
    "start_time": "2022-03-09T11:45:39.209Z"
   },
   {
    "duration": 362,
    "start_time": "2022-03-09T11:45:39.610Z"
   },
   {
    "duration": 409,
    "start_time": "2022-03-09T11:45:39.976Z"
   },
   {
    "duration": 336,
    "start_time": "2022-03-09T11:45:40.388Z"
   },
   {
    "duration": 369,
    "start_time": "2022-03-09T11:45:40.727Z"
   },
   {
    "duration": 374,
    "start_time": "2022-03-09T11:45:41.098Z"
   },
   {
    "duration": 376,
    "start_time": "2022-03-09T11:45:41.475Z"
   },
   {
    "duration": 273,
    "start_time": "2022-03-09T11:45:41.853Z"
   },
   {
    "duration": 293,
    "start_time": "2022-03-09T11:45:42.128Z"
   },
   {
    "duration": 297,
    "start_time": "2022-03-09T11:45:42.424Z"
   },
   {
    "duration": 12,
    "start_time": "2022-03-09T11:45:42.724Z"
   },
   {
    "duration": 15,
    "start_time": "2022-03-09T11:45:42.739Z"
   },
   {
    "duration": 7,
    "start_time": "2022-03-09T11:45:42.757Z"
   },
   {
    "duration": 19,
    "start_time": "2022-03-09T11:45:42.766Z"
   },
   {
    "duration": 5,
    "start_time": "2022-03-09T11:45:42.787Z"
   },
   {
    "duration": 8,
    "start_time": "2022-03-09T11:45:42.794Z"
   },
   {
    "duration": 85,
    "start_time": "2022-03-10T14:17:39.300Z"
   },
   {
    "duration": 289,
    "start_time": "2022-03-10T14:33:52.876Z"
   },
   {
    "duration": 1075,
    "start_time": "2022-03-10T14:33:56.764Z"
   },
   {
    "duration": 35,
    "start_time": "2022-03-10T14:33:57.841Z"
   },
   {
    "duration": 16,
    "start_time": "2022-03-10T14:33:57.878Z"
   },
   {
    "duration": 10,
    "start_time": "2022-03-10T14:33:57.896Z"
   },
   {
    "duration": 25,
    "start_time": "2022-03-10T14:33:57.908Z"
   },
   {
    "duration": 12,
    "start_time": "2022-03-10T14:33:57.934Z"
   },
   {
    "duration": 8,
    "start_time": "2022-03-10T14:33:57.948Z"
   },
   {
    "duration": 4,
    "start_time": "2022-03-10T14:33:57.958Z"
   },
   {
    "duration": 9,
    "start_time": "2022-03-10T14:33:57.963Z"
   },
   {
    "duration": 34,
    "start_time": "2022-03-10T14:33:57.973Z"
   },
   {
    "duration": 11,
    "start_time": "2022-03-10T14:33:58.008Z"
   },
   {
    "duration": 4,
    "start_time": "2022-03-10T14:33:58.020Z"
   },
   {
    "duration": 8,
    "start_time": "2022-03-10T14:33:58.026Z"
   },
   {
    "duration": 12,
    "start_time": "2022-03-10T14:33:58.036Z"
   },
   {
    "duration": 20,
    "start_time": "2022-03-10T14:33:58.049Z"
   },
   {
    "duration": 79,
    "start_time": "2022-03-10T14:58:33.090Z"
   },
   {
    "duration": 20,
    "start_time": "2022-03-10T15:03:39.518Z"
   },
   {
    "duration": 9,
    "start_time": "2022-03-10T15:06:17.600Z"
   },
   {
    "duration": 17,
    "start_time": "2022-03-10T15:06:17.610Z"
   },
   {
    "duration": 15,
    "start_time": "2022-03-10T15:06:17.629Z"
   },
   {
    "duration": 337,
    "start_time": "2022-03-10T15:06:17.646Z"
   },
   {
    "duration": 23,
    "start_time": "2022-03-10T15:06:17.985Z"
   },
   {
    "duration": 225,
    "start_time": "2022-03-10T15:06:18.010Z"
   },
   {
    "duration": 275,
    "start_time": "2022-03-10T15:06:18.237Z"
   },
   {
    "duration": 20,
    "start_time": "2022-03-10T15:06:18.513Z"
   },
   {
    "duration": 3,
    "start_time": "2022-03-10T15:06:18.535Z"
   },
   {
    "duration": 13,
    "start_time": "2022-03-10T15:06:18.539Z"
   },
   {
    "duration": 20,
    "start_time": "2022-03-10T15:06:18.554Z"
   },
   {
    "duration": 10,
    "start_time": "2022-03-10T15:06:18.575Z"
   },
   {
    "duration": 200,
    "start_time": "2022-03-10T15:06:18.586Z"
   },
   {
    "duration": 152,
    "start_time": "2022-03-10T15:06:18.789Z"
   },
   {
    "duration": 236,
    "start_time": "2022-03-10T15:06:18.943Z"
   },
   {
    "duration": 358,
    "start_time": "2022-03-10T15:06:19.180Z"
   },
   {
    "duration": 364,
    "start_time": "2022-03-10T15:06:19.540Z"
   },
   {
    "duration": 20,
    "start_time": "2022-03-10T15:06:19.905Z"
   },
   {
    "duration": 289,
    "start_time": "2022-03-10T15:06:19.926Z"
   },
   {
    "duration": 5,
    "start_time": "2022-03-10T15:06:20.216Z"
   },
   {
    "duration": 281,
    "start_time": "2022-03-10T15:06:20.222Z"
   },
   {
    "duration": 5,
    "start_time": "2022-03-10T15:06:20.505Z"
   },
   {
    "duration": 7,
    "start_time": "2022-03-10T15:06:20.511Z"
   },
   {
    "duration": 285,
    "start_time": "2022-03-10T15:06:20.520Z"
   },
   {
    "duration": 6,
    "start_time": "2022-03-10T15:06:20.807Z"
   },
   {
    "duration": 365,
    "start_time": "2022-03-10T15:06:20.814Z"
   },
   {
    "duration": 5,
    "start_time": "2022-03-10T15:06:21.181Z"
   },
   {
    "duration": 220,
    "start_time": "2022-03-10T15:06:21.188Z"
   },
   {
    "duration": 179,
    "start_time": "2022-03-10T15:06:21.410Z"
   },
   {
    "duration": 225,
    "start_time": "2022-03-10T15:06:21.590Z"
   },
   {
    "duration": 251,
    "start_time": "2022-03-10T15:06:21.816Z"
   },
   {
    "duration": 187,
    "start_time": "2022-03-10T15:06:22.069Z"
   },
   {
    "duration": 194,
    "start_time": "2022-03-10T15:06:22.258Z"
   },
   {
    "duration": 184,
    "start_time": "2022-03-10T15:06:22.453Z"
   },
   {
    "duration": 313,
    "start_time": "2022-03-10T15:06:22.638Z"
   },
   {
    "duration": 310,
    "start_time": "2022-03-10T15:06:22.953Z"
   },
   {
    "duration": 215,
    "start_time": "2022-03-10T15:06:23.265Z"
   },
   {
    "duration": 167,
    "start_time": "2022-03-10T15:06:23.483Z"
   },
   {
    "duration": 161,
    "start_time": "2022-03-10T15:06:23.652Z"
   },
   {
    "duration": 166,
    "start_time": "2022-03-10T15:06:23.814Z"
   },
   {
    "duration": 8,
    "start_time": "2022-03-10T15:06:23.981Z"
   },
   {
    "duration": 13,
    "start_time": "2022-03-10T15:06:23.990Z"
   },
   {
    "duration": 5,
    "start_time": "2022-03-10T15:06:24.004Z"
   },
   {
    "duration": 9,
    "start_time": "2022-03-10T15:06:24.010Z"
   },
   {
    "duration": 2,
    "start_time": "2022-03-10T15:06:24.021Z"
   },
   {
    "duration": 5,
    "start_time": "2022-03-10T15:06:24.025Z"
   },
   {
    "duration": 9,
    "start_time": "2022-03-10T15:10:46.474Z"
   },
   {
    "duration": 79,
    "start_time": "2022-03-10T15:11:08.265Z"
   },
   {
    "duration": 79,
    "start_time": "2022-03-10T15:32:54.266Z"
   },
   {
    "duration": 189,
    "start_time": "2022-03-10T15:36:22.346Z"
   },
   {
    "duration": 85,
    "start_time": "2022-03-10T15:40:15.408Z"
   },
   {
    "duration": 18,
    "start_time": "2022-03-10T15:49:16.907Z"
   },
   {
    "duration": 294,
    "start_time": "2022-03-10T15:49:25.116Z"
   },
   {
    "duration": 644,
    "start_time": "2022-03-10T15:50:23.676Z"
   },
   {
    "duration": 85,
    "start_time": "2022-03-10T15:50:59.675Z"
   },
   {
    "duration": 334,
    "start_time": "2022-03-10T15:51:10.730Z"
   },
   {
    "duration": 271,
    "start_time": "2022-03-10T15:53:02.170Z"
   },
   {
    "duration": 89,
    "start_time": "2022-03-10T15:53:22.330Z"
   },
   {
    "duration": 82,
    "start_time": "2022-03-10T15:53:28.948Z"
   },
   {
    "duration": 17,
    "start_time": "2022-03-10T15:53:52.649Z"
   },
   {
    "duration": 362,
    "start_time": "2022-03-10T15:53:55.179Z"
   },
   {
    "duration": 190,
    "start_time": "2022-03-10T16:03:17.502Z"
   },
   {
    "duration": 147,
    "start_time": "2022-03-10T16:04:20.362Z"
   },
   {
    "duration": 186,
    "start_time": "2022-03-10T16:04:27.780Z"
   },
   {
    "duration": 178,
    "start_time": "2022-03-10T16:04:33.520Z"
   },
   {
    "duration": 159,
    "start_time": "2022-03-10T16:04:38.005Z"
   },
   {
    "duration": 84,
    "start_time": "2022-03-10T16:05:26.649Z"
   },
   {
    "duration": 98,
    "start_time": "2022-03-10T16:09:20.174Z"
   },
   {
    "duration": 86,
    "start_time": "2022-03-10T16:13:47.010Z"
   },
   {
    "duration": 274,
    "start_time": "2022-03-10T16:14:39.160Z"
   },
   {
    "duration": 284,
    "start_time": "2022-03-10T16:14:46.009Z"
   },
   {
    "duration": 3,
    "start_time": "2022-03-10T16:14:53.602Z"
   },
   {
    "duration": 42,
    "start_time": "2022-03-10T16:14:53.608Z"
   },
   {
    "duration": 14,
    "start_time": "2022-03-10T16:14:53.652Z"
   },
   {
    "duration": 17,
    "start_time": "2022-03-10T16:14:53.668Z"
   },
   {
    "duration": 30,
    "start_time": "2022-03-10T16:14:53.688Z"
   },
   {
    "duration": 13,
    "start_time": "2022-03-10T16:14:53.720Z"
   },
   {
    "duration": 12,
    "start_time": "2022-03-10T16:14:53.735Z"
   },
   {
    "duration": 5,
    "start_time": "2022-03-10T16:14:53.749Z"
   },
   {
    "duration": 9,
    "start_time": "2022-03-10T16:14:53.756Z"
   },
   {
    "duration": 36,
    "start_time": "2022-03-10T16:14:53.767Z"
   },
   {
    "duration": 14,
    "start_time": "2022-03-10T16:14:53.805Z"
   },
   {
    "duration": 10,
    "start_time": "2022-03-10T16:14:53.820Z"
   },
   {
    "duration": 11,
    "start_time": "2022-03-10T16:14:53.831Z"
   },
   {
    "duration": 12,
    "start_time": "2022-03-10T16:14:53.844Z"
   },
   {
    "duration": 20,
    "start_time": "2022-03-10T16:14:53.857Z"
   },
   {
    "duration": 24,
    "start_time": "2022-03-10T16:14:53.878Z"
   },
   {
    "duration": 18,
    "start_time": "2022-03-10T16:14:53.904Z"
   },
   {
    "duration": 10,
    "start_time": "2022-03-10T16:14:53.923Z"
   },
   {
    "duration": 21,
    "start_time": "2022-03-10T16:14:53.934Z"
   },
   {
    "duration": 208,
    "start_time": "2022-03-10T16:14:53.957Z"
   },
   {
    "duration": 15,
    "start_time": "2022-03-10T16:14:54.167Z"
   },
   {
    "duration": 311,
    "start_time": "2022-03-10T16:14:54.184Z"
   },
   {
    "duration": 21,
    "start_time": "2022-03-10T16:14:54.500Z"
   },
   {
    "duration": 4,
    "start_time": "2022-03-10T16:14:54.525Z"
   },
   {
    "duration": 14,
    "start_time": "2022-03-10T16:14:54.531Z"
   },
   {
    "duration": 21,
    "start_time": "2022-03-10T16:14:54.546Z"
   },
   {
    "duration": 19,
    "start_time": "2022-03-10T16:14:54.569Z"
   },
   {
    "duration": 195,
    "start_time": "2022-03-10T16:14:54.590Z"
   },
   {
    "duration": 167,
    "start_time": "2022-03-10T16:14:54.787Z"
   },
   {
    "duration": 231,
    "start_time": "2022-03-10T16:14:54.956Z"
   },
   {
    "duration": 397,
    "start_time": "2022-03-10T16:14:55.188Z"
   },
   {
    "duration": 364,
    "start_time": "2022-03-10T16:14:55.586Z"
   },
   {
    "duration": 278,
    "start_time": "2022-03-10T16:14:55.952Z"
   },
   {
    "duration": 4,
    "start_time": "2022-03-10T16:14:56.231Z"
   },
   {
    "duration": 258,
    "start_time": "2022-03-10T16:14:56.236Z"
   },
   {
    "duration": 4,
    "start_time": "2022-03-10T16:14:56.501Z"
   },
   {
    "duration": 9,
    "start_time": "2022-03-10T16:14:56.507Z"
   },
   {
    "duration": 273,
    "start_time": "2022-03-10T16:14:56.517Z"
   },
   {
    "duration": 11,
    "start_time": "2022-03-10T16:14:56.792Z"
   },
   {
    "duration": 314,
    "start_time": "2022-03-10T16:14:56.805Z"
   },
   {
    "duration": 5,
    "start_time": "2022-03-10T16:14:57.121Z"
   },
   {
    "duration": 221,
    "start_time": "2022-03-10T16:14:57.128Z"
   },
   {
    "duration": 167,
    "start_time": "2022-03-10T16:14:57.351Z"
   },
   {
    "duration": 221,
    "start_time": "2022-03-10T16:14:57.520Z"
   },
   {
    "duration": 173,
    "start_time": "2022-03-10T16:14:57.742Z"
   },
   {
    "duration": 183,
    "start_time": "2022-03-10T16:14:57.916Z"
   },
   {
    "duration": 340,
    "start_time": "2022-03-10T16:14:58.101Z"
   },
   {
    "duration": 253,
    "start_time": "2022-03-10T16:14:58.442Z"
   },
   {
    "duration": 197,
    "start_time": "2022-03-10T16:14:58.697Z"
   },
   {
    "duration": 207,
    "start_time": "2022-03-10T16:14:58.896Z"
   },
   {
    "duration": 206,
    "start_time": "2022-03-10T16:14:59.104Z"
   },
   {
    "duration": 170,
    "start_time": "2022-03-10T16:14:59.312Z"
   },
   {
    "duration": 171,
    "start_time": "2022-03-10T16:14:59.485Z"
   },
   {
    "duration": 278,
    "start_time": "2022-03-10T16:14:59.658Z"
   },
   {
    "duration": 8,
    "start_time": "2022-03-10T16:14:59.937Z"
   },
   {
    "duration": 4,
    "start_time": "2022-03-10T16:14:59.946Z"
   },
   {
    "duration": 4,
    "start_time": "2022-03-10T16:14:59.952Z"
   },
   {
    "duration": 10,
    "start_time": "2022-03-10T16:14:59.958Z"
   },
   {
    "duration": 4,
    "start_time": "2022-03-10T16:14:59.969Z"
   },
   {
    "duration": 26,
    "start_time": "2022-03-10T16:14:59.975Z"
   },
   {
    "duration": 6,
    "start_time": "2022-03-10T16:17:20.200Z"
   },
   {
    "duration": 3,
    "start_time": "2022-03-10T16:18:35.607Z"
   },
   {
    "duration": 55,
    "start_time": "2022-03-10T16:18:35.612Z"
   },
   {
    "duration": 25,
    "start_time": "2022-03-10T16:18:35.669Z"
   },
   {
    "duration": 29,
    "start_time": "2022-03-10T16:18:35.696Z"
   },
   {
    "duration": 46,
    "start_time": "2022-03-10T16:18:35.727Z"
   },
   {
    "duration": 18,
    "start_time": "2022-03-10T16:18:35.774Z"
   },
   {
    "duration": 41,
    "start_time": "2022-03-10T16:18:35.793Z"
   },
   {
    "duration": 37,
    "start_time": "2022-03-10T16:18:35.835Z"
   },
   {
    "duration": 40,
    "start_time": "2022-03-10T16:18:35.874Z"
   },
   {
    "duration": 30,
    "start_time": "2022-03-10T16:18:35.916Z"
   },
   {
    "duration": 27,
    "start_time": "2022-03-10T16:18:35.947Z"
   },
   {
    "duration": 9,
    "start_time": "2022-03-10T16:18:35.975Z"
   },
   {
    "duration": 18,
    "start_time": "2022-03-10T16:18:35.985Z"
   },
   {
    "duration": 23,
    "start_time": "2022-03-10T16:18:36.004Z"
   },
   {
    "duration": 29,
    "start_time": "2022-03-10T16:18:36.029Z"
   },
   {
    "duration": 20,
    "start_time": "2022-03-10T16:18:36.059Z"
   },
   {
    "duration": 31,
    "start_time": "2022-03-10T16:18:36.080Z"
   },
   {
    "duration": 8,
    "start_time": "2022-03-10T16:18:36.112Z"
   },
   {
    "duration": 17,
    "start_time": "2022-03-10T16:18:36.121Z"
   },
   {
    "duration": 189,
    "start_time": "2022-03-10T16:18:36.140Z"
   },
   {
    "duration": 18,
    "start_time": "2022-03-10T16:18:36.331Z"
   },
   {
    "duration": 292,
    "start_time": "2022-03-10T16:18:36.351Z"
   },
   {
    "duration": 21,
    "start_time": "2022-03-10T16:18:36.645Z"
   },
   {
    "duration": 3,
    "start_time": "2022-03-10T16:18:36.670Z"
   },
   {
    "duration": 27,
    "start_time": "2022-03-10T16:18:36.675Z"
   },
   {
    "duration": 27,
    "start_time": "2022-03-10T16:18:36.703Z"
   },
   {
    "duration": 8,
    "start_time": "2022-03-10T16:18:36.732Z"
   },
   {
    "duration": 214,
    "start_time": "2022-03-10T16:18:36.741Z"
   },
   {
    "duration": 177,
    "start_time": "2022-03-10T16:18:36.956Z"
   },
   {
    "duration": 251,
    "start_time": "2022-03-10T16:18:37.135Z"
   },
   {
    "duration": 300,
    "start_time": "2022-03-10T16:18:37.387Z"
   },
   {
    "duration": 361,
    "start_time": "2022-03-10T16:18:37.689Z"
   },
   {
    "duration": 283,
    "start_time": "2022-03-10T16:18:38.051Z"
   },
   {
    "duration": 3,
    "start_time": "2022-03-10T16:18:38.336Z"
   },
   {
    "duration": 254,
    "start_time": "2022-03-10T16:18:38.341Z"
   },
   {
    "duration": 4,
    "start_time": "2022-03-10T16:18:38.601Z"
   },
   {
    "duration": 10,
    "start_time": "2022-03-10T16:18:38.606Z"
   },
   {
    "duration": 271,
    "start_time": "2022-03-10T16:18:38.618Z"
   },
   {
    "duration": 9,
    "start_time": "2022-03-10T16:18:38.892Z"
   },
   {
    "duration": 287,
    "start_time": "2022-03-10T16:18:38.903Z"
   },
   {
    "duration": 10,
    "start_time": "2022-03-10T16:18:39.192Z"
   },
   {
    "duration": 211,
    "start_time": "2022-03-10T16:18:39.204Z"
   },
   {
    "duration": 177,
    "start_time": "2022-03-10T16:18:39.416Z"
   },
   {
    "duration": 226,
    "start_time": "2022-03-10T16:18:39.595Z"
   },
   {
    "duration": 172,
    "start_time": "2022-03-10T16:18:39.822Z"
   },
   {
    "duration": 187,
    "start_time": "2022-03-10T16:18:39.995Z"
   },
   {
    "duration": 189,
    "start_time": "2022-03-10T16:18:40.184Z"
   },
   {
    "duration": 182,
    "start_time": "2022-03-10T16:18:40.375Z"
   },
   {
    "duration": 344,
    "start_time": "2022-03-10T16:18:40.559Z"
   },
   {
    "duration": 312,
    "start_time": "2022-03-10T16:18:40.905Z"
   },
   {
    "duration": 539,
    "start_time": "2022-03-10T16:18:41.219Z"
   },
   {
    "duration": 191,
    "start_time": "2022-03-10T16:18:41.760Z"
   },
   {
    "duration": 162,
    "start_time": "2022-03-10T16:18:41.953Z"
   },
   {
    "duration": 167,
    "start_time": "2022-03-10T16:18:42.116Z"
   },
   {
    "duration": 8,
    "start_time": "2022-03-10T16:18:42.285Z"
   },
   {
    "duration": 5,
    "start_time": "2022-03-10T16:18:42.301Z"
   },
   {
    "duration": 6,
    "start_time": "2022-03-10T16:18:42.307Z"
   },
   {
    "duration": 9,
    "start_time": "2022-03-10T16:18:42.314Z"
   },
   {
    "duration": 5,
    "start_time": "2022-03-10T16:18:42.325Z"
   },
   {
    "duration": 5,
    "start_time": "2022-03-10T16:18:42.331Z"
   },
   {
    "duration": 80,
    "start_time": "2022-03-10T16:29:29.972Z"
   },
   {
    "duration": 163,
    "start_time": "2022-03-10T16:30:28.741Z"
   },
   {
    "duration": 270,
    "start_time": "2022-03-10T16:41:14.465Z"
   },
   {
    "duration": 268,
    "start_time": "2022-03-10T16:41:31.189Z"
   },
   {
    "duration": 290,
    "start_time": "2022-03-10T16:41:38.253Z"
   },
   {
    "duration": 264,
    "start_time": "2022-03-10T16:42:07.933Z"
   },
   {
    "duration": 214,
    "start_time": "2022-03-10T16:42:18.677Z"
   },
   {
    "duration": 206,
    "start_time": "2022-03-10T16:45:45.019Z"
   },
   {
    "duration": 203,
    "start_time": "2022-03-10T16:46:14.028Z"
   },
   {
    "duration": 203,
    "start_time": "2022-03-10T16:47:56.603Z"
   },
   {
    "duration": 138,
    "start_time": "2022-03-10T18:05:50.459Z"
   },
   {
    "duration": 3,
    "start_time": "2022-03-10T19:17:39.378Z"
   },
   {
    "duration": 48,
    "start_time": "2022-03-10T19:17:39.383Z"
   },
   {
    "duration": 13,
    "start_time": "2022-03-10T19:17:39.433Z"
   },
   {
    "duration": 19,
    "start_time": "2022-03-10T19:17:39.447Z"
   },
   {
    "duration": 40,
    "start_time": "2022-03-10T19:17:39.467Z"
   },
   {
    "duration": 13,
    "start_time": "2022-03-10T19:17:39.509Z"
   },
   {
    "duration": 24,
    "start_time": "2022-03-10T19:17:39.523Z"
   },
   {
    "duration": 21,
    "start_time": "2022-03-10T19:17:39.549Z"
   },
   {
    "duration": 15,
    "start_time": "2022-03-10T19:17:39.573Z"
   },
   {
    "duration": 31,
    "start_time": "2022-03-10T19:17:39.590Z"
   },
   {
    "duration": 21,
    "start_time": "2022-03-10T19:17:39.623Z"
   },
   {
    "duration": 7,
    "start_time": "2022-03-10T19:17:39.646Z"
   },
   {
    "duration": 15,
    "start_time": "2022-03-10T19:17:39.655Z"
   },
   {
    "duration": 24,
    "start_time": "2022-03-10T19:17:39.672Z"
   },
   {
    "duration": 28,
    "start_time": "2022-03-10T19:17:39.698Z"
   },
   {
    "duration": 16,
    "start_time": "2022-03-10T19:17:39.728Z"
   },
   {
    "duration": 35,
    "start_time": "2022-03-10T19:17:39.745Z"
   },
   {
    "duration": 27,
    "start_time": "2022-03-10T19:17:39.781Z"
   },
   {
    "duration": 26,
    "start_time": "2022-03-10T19:17:39.809Z"
   },
   {
    "duration": 175,
    "start_time": "2022-03-10T19:17:39.837Z"
   },
   {
    "duration": 17,
    "start_time": "2022-03-10T19:17:40.014Z"
   },
   {
    "duration": 296,
    "start_time": "2022-03-10T19:17:40.033Z"
   },
   {
    "duration": 21,
    "start_time": "2022-03-10T19:17:40.331Z"
   },
   {
    "duration": 3,
    "start_time": "2022-03-10T19:17:40.353Z"
   },
   {
    "duration": 27,
    "start_time": "2022-03-10T19:17:40.358Z"
   },
   {
    "duration": 13,
    "start_time": "2022-03-10T19:17:40.387Z"
   },
   {
    "duration": 14,
    "start_time": "2022-03-10T19:17:40.404Z"
   },
   {
    "duration": 188,
    "start_time": "2022-03-10T19:17:40.419Z"
   },
   {
    "duration": 167,
    "start_time": "2022-03-10T19:17:40.608Z"
   },
   {
    "duration": 242,
    "start_time": "2022-03-10T19:17:40.776Z"
   },
   {
    "duration": 312,
    "start_time": "2022-03-10T19:17:41.020Z"
   },
   {
    "duration": 350,
    "start_time": "2022-03-10T19:17:41.334Z"
   },
   {
    "duration": 323,
    "start_time": "2022-03-10T19:17:41.686Z"
   },
   {
    "duration": 5,
    "start_time": "2022-03-10T19:17:42.010Z"
   },
   {
    "duration": 270,
    "start_time": "2022-03-10T19:17:42.016Z"
   },
   {
    "duration": 13,
    "start_time": "2022-03-10T19:17:42.288Z"
   },
   {
    "duration": 25,
    "start_time": "2022-03-10T19:17:42.302Z"
   },
   {
    "duration": 284,
    "start_time": "2022-03-10T19:17:42.329Z"
   },
   {
    "duration": 5,
    "start_time": "2022-03-10T19:17:42.614Z"
   },
   {
    "duration": 281,
    "start_time": "2022-03-10T19:17:42.620Z"
   },
   {
    "duration": 4,
    "start_time": "2022-03-10T19:17:42.902Z"
   },
   {
    "duration": 216,
    "start_time": "2022-03-10T19:17:42.908Z"
   },
   {
    "duration": 215,
    "start_time": "2022-03-10T19:17:43.125Z"
   },
   {
    "duration": 363,
    "start_time": "2022-03-10T19:17:43.341Z"
   },
   {
    "duration": 197,
    "start_time": "2022-03-10T19:17:43.706Z"
   },
   {
    "duration": 182,
    "start_time": "2022-03-10T19:17:43.905Z"
   },
   {
    "duration": 206,
    "start_time": "2022-03-10T19:17:44.089Z"
   },
   {
    "duration": 219,
    "start_time": "2022-03-10T19:17:44.297Z"
   },
   {
    "duration": 208,
    "start_time": "2022-03-10T19:17:44.518Z"
   },
   {
    "duration": 153,
    "start_time": "2022-03-10T19:17:44.727Z"
   },
   {
    "duration": 160,
    "start_time": "2022-03-10T19:17:44.881Z"
   },
   {
    "duration": 159,
    "start_time": "2022-03-10T19:17:45.043Z"
   },
   {
    "duration": 9,
    "start_time": "2022-03-10T19:17:45.204Z"
   },
   {
    "duration": 13,
    "start_time": "2022-03-10T19:17:45.214Z"
   },
   {
    "duration": 16,
    "start_time": "2022-03-10T19:17:45.229Z"
   },
   {
    "duration": 31,
    "start_time": "2022-03-10T19:17:45.247Z"
   },
   {
    "duration": 16,
    "start_time": "2022-03-10T19:17:45.279Z"
   },
   {
    "duration": 14,
    "start_time": "2022-03-10T19:17:45.296Z"
   },
   {
    "duration": 1519,
    "start_time": "2022-03-11T07:08:47.829Z"
   },
   {
    "duration": 48,
    "start_time": "2022-03-11T07:08:49.351Z"
   },
   {
    "duration": 25,
    "start_time": "2022-03-11T07:08:49.403Z"
   },
   {
    "duration": 14,
    "start_time": "2022-03-11T07:08:49.431Z"
   },
   {
    "duration": 65,
    "start_time": "2022-03-11T07:08:49.448Z"
   },
   {
    "duration": 22,
    "start_time": "2022-03-11T07:08:49.515Z"
   },
   {
    "duration": 39,
    "start_time": "2022-03-11T07:08:49.539Z"
   },
   {
    "duration": 6,
    "start_time": "2022-03-11T07:08:49.581Z"
   },
   {
    "duration": 22,
    "start_time": "2022-03-11T07:08:49.591Z"
   },
   {
    "duration": 16,
    "start_time": "2022-03-11T07:08:49.616Z"
   },
   {
    "duration": 45,
    "start_time": "2022-03-11T07:08:49.634Z"
   },
   {
    "duration": 8,
    "start_time": "2022-03-11T07:08:49.682Z"
   },
   {
    "duration": 11,
    "start_time": "2022-03-11T07:08:49.693Z"
   },
   {
    "duration": 16,
    "start_time": "2022-03-11T07:08:49.706Z"
   },
   {
    "duration": 58,
    "start_time": "2022-03-11T07:08:49.725Z"
   },
   {
    "duration": 11,
    "start_time": "2022-03-11T07:08:49.786Z"
   },
   {
    "duration": 30,
    "start_time": "2022-03-11T07:08:49.800Z"
   },
   {
    "duration": 42,
    "start_time": "2022-03-11T07:08:49.832Z"
   },
   {
    "duration": 28,
    "start_time": "2022-03-11T07:08:49.879Z"
   },
   {
    "duration": 363,
    "start_time": "2022-03-11T07:08:49.910Z"
   },
   {
    "duration": 30,
    "start_time": "2022-03-11T07:08:50.276Z"
   },
   {
    "duration": 577,
    "start_time": "2022-03-11T07:08:50.309Z"
   },
   {
    "duration": 39,
    "start_time": "2022-03-11T07:08:50.889Z"
   },
   {
    "duration": 6,
    "start_time": "2022-03-11T07:08:50.930Z"
   },
   {
    "duration": 8,
    "start_time": "2022-03-11T07:08:50.973Z"
   },
   {
    "duration": 18,
    "start_time": "2022-03-11T07:08:50.984Z"
   },
   {
    "duration": 7,
    "start_time": "2022-03-11T07:08:51.010Z"
   },
   {
    "duration": 393,
    "start_time": "2022-03-11T07:08:51.020Z"
   },
   {
    "duration": 318,
    "start_time": "2022-03-11T07:08:51.415Z"
   },
   {
    "duration": 438,
    "start_time": "2022-03-11T07:08:51.735Z"
   },
   {
    "duration": 593,
    "start_time": "2022-03-11T07:08:52.175Z"
   },
   {
    "duration": 817,
    "start_time": "2022-03-11T07:08:52.770Z"
   },
   {
    "duration": 408,
    "start_time": "2022-03-11T07:08:53.590Z"
   },
   {
    "duration": 8,
    "start_time": "2022-03-11T07:08:54.000Z"
   },
   {
    "duration": 416,
    "start_time": "2022-03-11T07:08:54.010Z"
   },
   {
    "duration": 6,
    "start_time": "2022-03-11T07:08:54.429Z"
   },
   {
    "duration": 12,
    "start_time": "2022-03-11T07:08:54.438Z"
   },
   {
    "duration": 453,
    "start_time": "2022-03-11T07:08:54.453Z"
   },
   {
    "duration": 6,
    "start_time": "2022-03-11T07:08:54.908Z"
   },
   {
    "duration": 488,
    "start_time": "2022-03-11T07:08:54.917Z"
   },
   {
    "duration": 6,
    "start_time": "2022-03-11T07:08:55.407Z"
   },
   {
    "duration": 439,
    "start_time": "2022-03-11T07:08:55.416Z"
   },
   {
    "duration": 400,
    "start_time": "2022-03-11T07:08:55.858Z"
   },
   {
    "duration": 331,
    "start_time": "2022-03-11T07:08:56.261Z"
   },
   {
    "duration": 352,
    "start_time": "2022-03-11T07:08:56.595Z"
   },
   {
    "duration": 354,
    "start_time": "2022-03-11T07:08:56.949Z"
   },
   {
    "duration": 475,
    "start_time": "2022-03-11T07:08:57.306Z"
   },
   {
    "duration": 494,
    "start_time": "2022-03-11T07:08:57.783Z"
   },
   {
    "duration": 489,
    "start_time": "2022-03-11T07:08:58.279Z"
   },
   {
    "duration": 295,
    "start_time": "2022-03-11T07:08:58.773Z"
   },
   {
    "duration": 307,
    "start_time": "2022-03-11T07:08:59.071Z"
   },
   {
    "duration": 316,
    "start_time": "2022-03-11T07:08:59.380Z"
   },
   {
    "duration": 14,
    "start_time": "2022-03-11T07:08:59.699Z"
   },
   {
    "duration": 7,
    "start_time": "2022-03-11T07:08:59.716Z"
   },
   {
    "duration": 11,
    "start_time": "2022-03-11T07:08:59.726Z"
   },
   {
    "duration": 40,
    "start_time": "2022-03-11T07:08:59.740Z"
   },
   {
    "duration": 10,
    "start_time": "2022-03-11T07:08:59.782Z"
   },
   {
    "duration": 12,
    "start_time": "2022-03-11T07:08:59.794Z"
   },
   {
    "duration": 1162,
    "start_time": "2022-03-11T15:17:41.146Z"
   },
   {
    "duration": 34,
    "start_time": "2022-03-11T15:17:42.309Z"
   },
   {
    "duration": 17,
    "start_time": "2022-03-11T15:17:42.346Z"
   },
   {
    "duration": 10,
    "start_time": "2022-03-11T15:17:42.364Z"
   },
   {
    "duration": 31,
    "start_time": "2022-03-11T15:17:42.376Z"
   },
   {
    "duration": 35,
    "start_time": "2022-03-11T15:17:42.408Z"
   },
   {
    "duration": 10,
    "start_time": "2022-03-11T15:17:42.445Z"
   },
   {
    "duration": 9,
    "start_time": "2022-03-11T15:17:42.457Z"
   },
   {
    "duration": 13,
    "start_time": "2022-03-11T15:17:42.468Z"
   },
   {
    "duration": 9,
    "start_time": "2022-03-11T15:17:42.483Z"
   },
   {
    "duration": 12,
    "start_time": "2022-03-11T15:17:42.493Z"
   },
   {
    "duration": 5,
    "start_time": "2022-03-11T15:17:42.507Z"
   },
   {
    "duration": 6,
    "start_time": "2022-03-11T15:17:42.538Z"
   },
   {
    "duration": 13,
    "start_time": "2022-03-11T15:17:42.545Z"
   },
   {
    "duration": 26,
    "start_time": "2022-03-11T15:17:42.560Z"
   },
   {
    "duration": 8,
    "start_time": "2022-03-11T15:17:42.588Z"
   },
   {
    "duration": 42,
    "start_time": "2022-03-11T15:17:42.598Z"
   },
   {
    "duration": 10,
    "start_time": "2022-03-11T15:17:42.642Z"
   },
   {
    "duration": 15,
    "start_time": "2022-03-11T15:17:42.654Z"
   },
   {
    "duration": 242,
    "start_time": "2022-03-11T15:17:42.671Z"
   },
   {
    "duration": 28,
    "start_time": "2022-03-11T15:17:42.915Z"
   },
   {
    "duration": 345,
    "start_time": "2022-03-11T15:17:42.945Z"
   },
   {
    "duration": 24,
    "start_time": "2022-03-11T15:17:43.293Z"
   },
   {
    "duration": 19,
    "start_time": "2022-03-11T15:17:43.320Z"
   },
   {
    "duration": 4,
    "start_time": "2022-03-11T15:17:43.340Z"
   },
   {
    "duration": 11,
    "start_time": "2022-03-11T15:17:43.346Z"
   },
   {
    "duration": 7,
    "start_time": "2022-03-11T15:17:43.358Z"
   },
   {
    "duration": 245,
    "start_time": "2022-03-11T15:17:43.366Z"
   },
   {
    "duration": 426,
    "start_time": "2022-03-11T15:17:43.612Z"
   },
   {
    "duration": 1284,
    "start_time": "2022-03-11T15:17:42.757Z"
   },
   {
    "duration": 1278,
    "start_time": "2022-03-11T15:17:42.764Z"
   },
   {
    "duration": 1273,
    "start_time": "2022-03-11T15:17:42.770Z"
   },
   {
    "duration": 1268,
    "start_time": "2022-03-11T15:17:42.776Z"
   },
   {
    "duration": 1263,
    "start_time": "2022-03-11T15:17:42.782Z"
   },
   {
    "duration": 1259,
    "start_time": "2022-03-11T15:17:42.787Z"
   },
   {
    "duration": 1254,
    "start_time": "2022-03-11T15:17:42.793Z"
   },
   {
    "duration": 1250,
    "start_time": "2022-03-11T15:17:42.798Z"
   },
   {
    "duration": 1246,
    "start_time": "2022-03-11T15:17:42.803Z"
   },
   {
    "duration": 1241,
    "start_time": "2022-03-11T15:17:42.809Z"
   },
   {
    "duration": 1237,
    "start_time": "2022-03-11T15:17:42.814Z"
   },
   {
    "duration": 1230,
    "start_time": "2022-03-11T15:17:42.822Z"
   },
   {
    "duration": 1225,
    "start_time": "2022-03-11T15:17:42.828Z"
   },
   {
    "duration": 1220,
    "start_time": "2022-03-11T15:17:42.834Z"
   },
   {
    "duration": 1216,
    "start_time": "2022-03-11T15:17:42.839Z"
   },
   {
    "duration": 1211,
    "start_time": "2022-03-11T15:17:42.845Z"
   },
   {
    "duration": 1208,
    "start_time": "2022-03-11T15:17:42.849Z"
   },
   {
    "duration": 1197,
    "start_time": "2022-03-11T15:17:42.861Z"
   },
   {
    "duration": 1192,
    "start_time": "2022-03-11T15:17:42.867Z"
   },
   {
    "duration": 1188,
    "start_time": "2022-03-11T15:17:42.872Z"
   },
   {
    "duration": 1183,
    "start_time": "2022-03-11T15:17:42.878Z"
   },
   {
    "duration": 1179,
    "start_time": "2022-03-11T15:17:42.883Z"
   },
   {
    "duration": 1175,
    "start_time": "2022-03-11T15:17:42.888Z"
   },
   {
    "duration": 1170,
    "start_time": "2022-03-11T15:17:42.894Z"
   },
   {
    "duration": 1166,
    "start_time": "2022-03-11T15:17:42.899Z"
   },
   {
    "duration": 1161,
    "start_time": "2022-03-11T15:17:42.905Z"
   },
   {
    "duration": 1157,
    "start_time": "2022-03-11T15:17:42.910Z"
   },
   {
    "duration": 1152,
    "start_time": "2022-03-11T15:17:42.916Z"
   },
   {
    "duration": 1149,
    "start_time": "2022-03-11T15:17:42.920Z"
   },
   {
    "duration": 324,
    "start_time": "2022-03-11T15:17:55.457Z"
   },
   {
    "duration": 357,
    "start_time": "2022-03-11T15:18:01.545Z"
   },
   {
    "duration": 209,
    "start_time": "2022-03-11T15:18:06.537Z"
   },
   {
    "duration": 3,
    "start_time": "2022-03-11T15:18:28.637Z"
   },
   {
    "duration": 43,
    "start_time": "2022-03-11T15:18:28.642Z"
   },
   {
    "duration": 15,
    "start_time": "2022-03-11T15:18:28.687Z"
   },
   {
    "duration": 21,
    "start_time": "2022-03-11T15:18:28.704Z"
   },
   {
    "duration": 42,
    "start_time": "2022-03-11T15:18:28.726Z"
   },
   {
    "duration": 15,
    "start_time": "2022-03-11T15:18:28.770Z"
   },
   {
    "duration": 10,
    "start_time": "2022-03-11T15:18:28.787Z"
   },
   {
    "duration": 33,
    "start_time": "2022-03-11T15:18:28.799Z"
   },
   {
    "duration": 35,
    "start_time": "2022-03-11T15:18:28.837Z"
   },
   {
    "duration": 13,
    "start_time": "2022-03-11T15:18:28.874Z"
   },
   {
    "duration": 103,
    "start_time": "2022-03-11T15:18:28.888Z"
   },
   {
    "duration": 21,
    "start_time": "2022-03-11T15:18:28.993Z"
   },
   {
    "duration": 25,
    "start_time": "2022-03-11T15:18:29.016Z"
   },
   {
    "duration": 16,
    "start_time": "2022-03-11T15:18:29.043Z"
   },
   {
    "duration": 39,
    "start_time": "2022-03-11T15:18:29.060Z"
   },
   {
    "duration": 19,
    "start_time": "2022-03-11T15:18:29.101Z"
   },
   {
    "duration": 41,
    "start_time": "2022-03-11T15:18:29.122Z"
   },
   {
    "duration": 9,
    "start_time": "2022-03-11T15:18:29.166Z"
   },
   {
    "duration": 21,
    "start_time": "2022-03-11T15:18:29.179Z"
   },
   {
    "duration": 213,
    "start_time": "2022-03-11T15:18:29.203Z"
   },
   {
    "duration": 28,
    "start_time": "2022-03-11T15:18:29.418Z"
   },
   {
    "duration": 335,
    "start_time": "2022-03-11T15:18:29.448Z"
   },
   {
    "duration": 24,
    "start_time": "2022-03-11T15:18:29.784Z"
   },
   {
    "duration": 5,
    "start_time": "2022-03-11T15:18:29.809Z"
   },
   {
    "duration": 27,
    "start_time": "2022-03-11T15:18:29.815Z"
   },
   {
    "duration": 21,
    "start_time": "2022-03-11T15:18:29.844Z"
   },
   {
    "duration": 7,
    "start_time": "2022-03-11T15:18:29.866Z"
   },
   {
    "duration": 248,
    "start_time": "2022-03-11T15:18:29.875Z"
   },
   {
    "duration": 200,
    "start_time": "2022-03-11T15:18:30.126Z"
   },
   {
    "duration": 293,
    "start_time": "2022-03-11T15:18:30.328Z"
   },
   {
    "duration": 381,
    "start_time": "2022-03-11T15:18:30.623Z"
   },
   {
    "duration": 417,
    "start_time": "2022-03-11T15:18:31.006Z"
   },
   {
    "duration": 333,
    "start_time": "2022-03-11T15:18:31.425Z"
   },
   {
    "duration": 5,
    "start_time": "2022-03-11T15:18:31.759Z"
   },
   {
    "duration": 299,
    "start_time": "2022-03-11T15:18:31.766Z"
   },
   {
    "duration": 4,
    "start_time": "2022-03-11T15:18:32.067Z"
   },
   {
    "duration": 16,
    "start_time": "2022-03-11T15:18:32.072Z"
   },
   {
    "duration": 485,
    "start_time": "2022-03-11T15:18:32.089Z"
   },
   {
    "duration": 4,
    "start_time": "2022-03-11T15:18:32.576Z"
   },
   {
    "duration": 300,
    "start_time": "2022-03-11T15:18:32.581Z"
   },
   {
    "duration": 5,
    "start_time": "2022-03-11T15:18:32.882Z"
   },
   {
    "duration": 247,
    "start_time": "2022-03-11T15:18:32.888Z"
   },
   {
    "duration": 414,
    "start_time": "2022-03-11T15:18:33.136Z"
   },
   {
    "duration": 246,
    "start_time": "2022-03-11T15:18:33.552Z"
   },
   {
    "duration": 231,
    "start_time": "2022-03-11T15:18:33.800Z"
   },
   {
    "duration": 219,
    "start_time": "2022-03-11T15:18:34.032Z"
   },
   {
    "duration": 240,
    "start_time": "2022-03-11T15:18:34.253Z"
   },
   {
    "duration": 252,
    "start_time": "2022-03-11T15:18:34.495Z"
   },
   {
    "duration": 241,
    "start_time": "2022-03-11T15:18:34.749Z"
   },
   {
    "duration": 184,
    "start_time": "2022-03-11T15:18:34.991Z"
   },
   {
    "duration": 196,
    "start_time": "2022-03-11T15:18:35.177Z"
   },
   {
    "duration": 190,
    "start_time": "2022-03-11T15:18:35.375Z"
   },
   {
    "duration": 9,
    "start_time": "2022-03-11T15:18:35.567Z"
   },
   {
    "duration": 7,
    "start_time": "2022-03-11T15:18:35.578Z"
   },
   {
    "duration": 16,
    "start_time": "2022-03-11T15:18:35.589Z"
   },
   {
    "duration": 13,
    "start_time": "2022-03-11T15:18:35.607Z"
   },
   {
    "duration": 31,
    "start_time": "2022-03-11T15:18:35.622Z"
   },
   {
    "duration": 7,
    "start_time": "2022-03-11T15:18:35.655Z"
   },
   {
    "duration": 316,
    "start_time": "2022-03-11T16:43:04.482Z"
   }
  ],
  "kernelspec": {
   "display_name": "Python 3 (ipykernel)",
   "language": "python",
   "name": "python3"
  },
  "language_info": {
   "codemirror_mode": {
    "name": "ipython",
    "version": 3
   },
   "file_extension": ".py",
   "mimetype": "text/x-python",
   "name": "python",
   "nbconvert_exporter": "python",
   "pygments_lexer": "ipython3",
   "version": "3.9.5"
  },
  "toc": {
   "base_numbering": 1,
   "nav_menu": {},
   "number_sections": false,
   "sideBar": true,
   "skip_h1_title": false,
   "title_cell": "Table of Contents",
   "title_sidebar": "Contents",
   "toc_cell": false,
   "toc_position": {
    "height": "calc(100% - 180px)",
    "left": "10px",
    "top": "150px",
    "width": "344.391px"
   },
   "toc_section_display": true,
   "toc_window_display": true
  }
 },
 "nbformat": 4,
 "nbformat_minor": 2
}
