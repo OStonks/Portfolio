{
 "cells": [
  {
   "cell_type": "markdown",
   "metadata": {},
   "source": [
    "# Определение перспективного тарифа для телеком-компании"
   ]
  },
  {
   "cell_type": "markdown",
   "metadata": {},
   "source": [
    "Мы аналитик компании «Мегалайн» — федерального оператора сотовой связи. Наша задача состоит в том, чтобы скорректировать рекламный бюджет, коммерческий департамент хочет понять, какой тариф приносит больше денег.\n",
    "\n",
    "\n",
    "Нам предстоит сделать предварительный анализ тарифов на небольшой выборке клиентов. В нашем распоряжении данные 500 пользователей «Мегалайна»: кто они, откуда, каким тарифом пользуются, сколько звонков и сообщений каждый отправил за 2018 год. Нужно проанализировать поведение клиентов и сделать вывод — какой тариф из двух представленых лучше - «Смарт» или «Ультра».\n"
   ]
  },
  {
   "cell_type": "markdown",
   "metadata": {},
   "source": [
    "***Описание тарифов***\n",
    "\n",
    "**Тариф «Смарт»**\n",
    "\n",
    "Ежемесячная плата: 550 рублей\n",
    "\n",
    "Включено 500 минут разговора, 50 сообщений и 15 Гб интернет-трафика\n",
    "\n",
    "Стоимость услуг сверх тарифного пакета: 1. минута разговора: 3 рубля («Мегалайн» всегда округляет вверх значения минут и мегабайтов. Если пользователь проговорил всего 1 секунду, в тарифе засчитывается целая минута); 2. сообщение: 3 рубля; 3. 1 Гб интернет-трафика: 200 рублей.\n",
    "\n",
    "\n",
    "**Тариф «Ультра»**\n",
    "\n",
    "Ежемесячная плата: 1950 рублей\n",
    "\n",
    "Включено 3000 минут разговора, 1000 сообщений и 30 Гб интернет-трафика\n",
    "\n",
    "Стоимость услуг сверх тарифного пакета: 1. минута разговора: 1 рубль; 2. сообщение: 1 рубль; 3. 1 Гб интернет-трафика: 150 рублей."
   ]
  },
  {
   "cell_type": "markdown",
   "metadata": {},
   "source": [
    "\n",
    "Примечание:\n",
    "\n",
    "«Мегалайн» всегда округляет секунды до минут, а мегабайты — до гигабайт. Каждый звонок округляется отдельно: даже если он длился всего 1 секунду, будет засчитан как 1 минута.\n",
    "Для веб-трафика отдельные сессии не считаются. Вместо этого общая сумма за месяц округляется в бо́льшую сторону. Если абонент использует 1025 мегабайт в этом месяце, с него возьмут плату за 2 гигабайта."
   ]
  },
  {
   "cell_type": "markdown",
   "metadata": {},
   "source": [
    "Таким образом, делаем вывод о том, что **цель исследования** — проверить, какой тариф приносит больше денег, проанализировав поведение клиентов.\n"
   ]
  },
  {
   "cell_type": "markdown",
   "metadata": {},
   "source": [
    "В ходе достижения цели нам будет необходимо выполнить следующие задачи:\n",
    "\n",
    "1. Найти помесячную выручку с каждого пользователя\n",
    "\n",
    "\n",
    "2. Описать поведение клиентов оператора, исходя из выборки. Сколько минут разговора, сколько сообщений и какой объём интернет-трафика требуется пользователям каждого тарифа в месяц? \n",
    "\n",
    "\n",
    "3. Посчитать среднее количество, дисперсию и стандартное отклонение\n",
    "\n",
    "\n",
    "4. Построить гистограммы. Опишите распределения\n",
    "\n",
    "\n",
    "5. Проверить гипотезу: \"средняя выручка пользователей тарифов «Ультра» и «Смарт» различаются\"\n",
    "\n",
    "\n",
    "6. \"средняя выручка пользователей из Москвы отличается от выручки пользователей из других регионов\"\n"
   ]
  },
  {
   "cell_type": "markdown",
   "metadata": {},
   "source": [
    "# Шаг 1. Откроем файл с данными и изучим общую информацию"
   ]
  },
  {
   "cell_type": "markdown",
   "metadata": {},
   "source": [
    "Для работы с гипотезами необходима работа с данными. Для работы же сданными нам необходимо с помощью `библиотеки` pandas прочитать датасет. Также импортируем сразу все необходимые модули"
   ]
  },
  {
   "cell_type": "code",
   "execution_count": 117,
   "metadata": {},
   "outputs": [],
   "source": [
    "# импорт библиотеки pandas\n",
    "import pandas as pd\n",
    "#импортируем библиотеку numpy\n",
    "import numpy as np \n",
    "#импортируем библиотеку warnings\n",
    "import warnings\n",
    "#импортируем модуль, отвечающий за t-тест\n",
    "from scipy import stats as st"
   ]
  },
  {
   "cell_type": "code",
   "execution_count": 118,
   "metadata": {},
   "outputs": [],
   "source": [
    "# чтение файлов с данными и сохранение их в переменных\n",
    "calls = pd.read_csv('/datasets/calls.csv')\n",
    "internet = pd.read_csv('/datasets/internet.csv')\n",
    "messages = pd.read_csv('/datasets/messages.csv')\n",
    "tariffs = pd.read_csv('/datasets/tariffs.csv')\n",
    "users = pd.read_csv('/datasets/users.csv')"
   ]
  },
  {
   "cell_type": "markdown",
   "metadata": {},
   "source": [
    "## Изучаем информацию о звонках"
   ]
  },
  {
   "cell_type": "code",
   "execution_count": 119,
   "metadata": {},
   "outputs": [
    {
     "data": {
      "text/html": [
       "<div>\n",
       "<style scoped>\n",
       "    .dataframe tbody tr th:only-of-type {\n",
       "        vertical-align: middle;\n",
       "    }\n",
       "\n",
       "    .dataframe tbody tr th {\n",
       "        vertical-align: top;\n",
       "    }\n",
       "\n",
       "    .dataframe thead th {\n",
       "        text-align: right;\n",
       "    }\n",
       "</style>\n",
       "<table border=\"1\" class=\"dataframe\">\n",
       "  <thead>\n",
       "    <tr style=\"text-align: right;\">\n",
       "      <th></th>\n",
       "      <th>id</th>\n",
       "      <th>call_date</th>\n",
       "      <th>duration</th>\n",
       "      <th>user_id</th>\n",
       "    </tr>\n",
       "  </thead>\n",
       "  <tbody>\n",
       "    <tr>\n",
       "      <td>0</td>\n",
       "      <td>1000_0</td>\n",
       "      <td>2018-07-25</td>\n",
       "      <td>0.00</td>\n",
       "      <td>1000</td>\n",
       "    </tr>\n",
       "    <tr>\n",
       "      <td>1</td>\n",
       "      <td>1000_1</td>\n",
       "      <td>2018-08-17</td>\n",
       "      <td>0.00</td>\n",
       "      <td>1000</td>\n",
       "    </tr>\n",
       "    <tr>\n",
       "      <td>2</td>\n",
       "      <td>1000_2</td>\n",
       "      <td>2018-06-11</td>\n",
       "      <td>2.85</td>\n",
       "      <td>1000</td>\n",
       "    </tr>\n",
       "    <tr>\n",
       "      <td>3</td>\n",
       "      <td>1000_3</td>\n",
       "      <td>2018-09-21</td>\n",
       "      <td>13.80</td>\n",
       "      <td>1000</td>\n",
       "    </tr>\n",
       "    <tr>\n",
       "      <td>4</td>\n",
       "      <td>1000_4</td>\n",
       "      <td>2018-12-15</td>\n",
       "      <td>5.18</td>\n",
       "      <td>1000</td>\n",
       "    </tr>\n",
       "    <tr>\n",
       "      <td>5</td>\n",
       "      <td>1000_5</td>\n",
       "      <td>2018-11-02</td>\n",
       "      <td>0.00</td>\n",
       "      <td>1000</td>\n",
       "    </tr>\n",
       "    <tr>\n",
       "      <td>6</td>\n",
       "      <td>1000_6</td>\n",
       "      <td>2018-10-18</td>\n",
       "      <td>0.00</td>\n",
       "      <td>1000</td>\n",
       "    </tr>\n",
       "    <tr>\n",
       "      <td>7</td>\n",
       "      <td>1000_7</td>\n",
       "      <td>2018-08-22</td>\n",
       "      <td>18.31</td>\n",
       "      <td>1000</td>\n",
       "    </tr>\n",
       "    <tr>\n",
       "      <td>8</td>\n",
       "      <td>1000_8</td>\n",
       "      <td>2018-09-15</td>\n",
       "      <td>18.44</td>\n",
       "      <td>1000</td>\n",
       "    </tr>\n",
       "    <tr>\n",
       "      <td>9</td>\n",
       "      <td>1000_9</td>\n",
       "      <td>2018-08-15</td>\n",
       "      <td>0.00</td>\n",
       "      <td>1000</td>\n",
       "    </tr>\n",
       "  </tbody>\n",
       "</table>\n",
       "</div>"
      ],
      "text/plain": [
       "       id   call_date  duration  user_id\n",
       "0  1000_0  2018-07-25      0.00     1000\n",
       "1  1000_1  2018-08-17      0.00     1000\n",
       "2  1000_2  2018-06-11      2.85     1000\n",
       "3  1000_3  2018-09-21     13.80     1000\n",
       "4  1000_4  2018-12-15      5.18     1000\n",
       "5  1000_5  2018-11-02      0.00     1000\n",
       "6  1000_6  2018-10-18      0.00     1000\n",
       "7  1000_7  2018-08-22     18.31     1000\n",
       "8  1000_8  2018-09-15     18.44     1000\n",
       "9  1000_9  2018-08-15      0.00     1000"
      ]
     },
     "execution_count": 119,
     "metadata": {},
     "output_type": "execute_result"
    }
   ],
   "source": [
    "# получение первых 10 строк таблицы calls\n",
    "calls.head(10)"
   ]
  },
  {
   "cell_type": "markdown",
   "metadata": {},
   "source": [
    "На вид с таблицей все в порядке. Получим общую информацию о звонках:"
   ]
  },
  {
   "cell_type": "code",
   "execution_count": 120,
   "metadata": {},
   "outputs": [
    {
     "name": "stdout",
     "output_type": "stream",
     "text": [
      "<class 'pandas.core.frame.DataFrame'>\n",
      "RangeIndex: 202607 entries, 0 to 202606\n",
      "Data columns (total 4 columns):\n",
      "id           202607 non-null object\n",
      "call_date    202607 non-null object\n",
      "duration     202607 non-null float64\n",
      "user_id      202607 non-null int64\n",
      "dtypes: float64(1), int64(1), object(2)\n",
      "memory usage: 6.2+ MB\n"
     ]
    }
   ],
   "source": [
    "#получаем информацию о датасете\n",
    "calls.info()"
   ]
  },
  {
   "cell_type": "code",
   "execution_count": 121,
   "metadata": {},
   "outputs": [
    {
     "data": {
      "text/html": [
       "<div>\n",
       "<style scoped>\n",
       "    .dataframe tbody tr th:only-of-type {\n",
       "        vertical-align: middle;\n",
       "    }\n",
       "\n",
       "    .dataframe tbody tr th {\n",
       "        vertical-align: top;\n",
       "    }\n",
       "\n",
       "    .dataframe thead th {\n",
       "        text-align: right;\n",
       "    }\n",
       "</style>\n",
       "<table border=\"1\" class=\"dataframe\">\n",
       "  <thead>\n",
       "    <tr style=\"text-align: right;\">\n",
       "      <th></th>\n",
       "      <th>duration</th>\n",
       "      <th>user_id</th>\n",
       "    </tr>\n",
       "  </thead>\n",
       "  <tbody>\n",
       "    <tr>\n",
       "      <td>count</td>\n",
       "      <td>202607.000000</td>\n",
       "      <td>202607.000000</td>\n",
       "    </tr>\n",
       "    <tr>\n",
       "      <td>mean</td>\n",
       "      <td>6.755887</td>\n",
       "      <td>1253.940619</td>\n",
       "    </tr>\n",
       "    <tr>\n",
       "      <td>std</td>\n",
       "      <td>5.843365</td>\n",
       "      <td>144.722751</td>\n",
       "    </tr>\n",
       "    <tr>\n",
       "      <td>min</td>\n",
       "      <td>0.000000</td>\n",
       "      <td>1000.000000</td>\n",
       "    </tr>\n",
       "    <tr>\n",
       "      <td>25%</td>\n",
       "      <td>1.300000</td>\n",
       "      <td>1126.000000</td>\n",
       "    </tr>\n",
       "    <tr>\n",
       "      <td>50%</td>\n",
       "      <td>6.000000</td>\n",
       "      <td>1260.000000</td>\n",
       "    </tr>\n",
       "    <tr>\n",
       "      <td>75%</td>\n",
       "      <td>10.700000</td>\n",
       "      <td>1379.000000</td>\n",
       "    </tr>\n",
       "    <tr>\n",
       "      <td>max</td>\n",
       "      <td>38.000000</td>\n",
       "      <td>1499.000000</td>\n",
       "    </tr>\n",
       "  </tbody>\n",
       "</table>\n",
       "</div>"
      ],
      "text/plain": [
       "            duration        user_id\n",
       "count  202607.000000  202607.000000\n",
       "mean        6.755887    1253.940619\n",
       "std         5.843365     144.722751\n",
       "min         0.000000    1000.000000\n",
       "25%         1.300000    1126.000000\n",
       "50%         6.000000    1260.000000\n",
       "75%        10.700000    1379.000000\n",
       "max        38.000000    1499.000000"
      ]
     },
     "execution_count": 121,
     "metadata": {},
     "output_type": "execute_result"
    }
   ],
   "source": [
    "#получаем информацию о датасете\n",
    "calls.describe()"
   ]
  },
  {
   "cell_type": "markdown",
   "metadata": {},
   "source": [
    "**Вывод**"
   ]
  },
  {
   "cell_type": "markdown",
   "metadata": {},
   "source": [
    "Итак, в таблице 4 столбца. Тип данных в них различается.\n",
    "\n",
    "Согласно документации к данным:\n",
    "\n",
    "* id — уникальный номер звонка\n",
    "* call_date — дата звонка\n",
    "* duration — длительность звонка в минутах\n",
    "* user_id — идентификатор пользователя, сделавшего звонок"
   ]
  },
  {
   "cell_type": "markdown",
   "metadata": {},
   "source": [
    "Пропуски в данных отсутсвуют - есть только звонки, длившиеся 0 минут. На практике это возможно, поскольку клиенты, совершавшие звонок могли не дозвониться до человека. \n",
    "\n",
    "Стиль столбцев соответсует правилам хорошего стиля.\n",
    "\n",
    "Тип данных в столбце call_date необходимо будет заменить на понятный для Python datetime64.\n",
    "\n",
    "Значения в столбце duration нужно будет округлить в большую сторону.\n",
    "\n",
    "Других проблем в данных пока что не видно."
   ]
  },
  {
   "cell_type": "markdown",
   "metadata": {},
   "source": [
    "В каждой строке таблицы — данные о звонках. Каждая из колонок содержит определенные данные о звонках (идентификатор звонка, дата звонка, идентификатор клиента, совершившиго звонок, время разговора). Одна строка - один звонок и, соответственно, данные о нем. Несколько строк могут содержать данные об одном и том же клиенте, но не могут содержать данные об одинаковых звонках."
   ]
  },
  {
   "cell_type": "markdown",
   "metadata": {},
   "source": [
    "## Изучаем информацию об интернет-сессиях"
   ]
  },
  {
   "cell_type": "code",
   "execution_count": 122,
   "metadata": {},
   "outputs": [
    {
     "data": {
      "text/html": [
       "<div>\n",
       "<style scoped>\n",
       "    .dataframe tbody tr th:only-of-type {\n",
       "        vertical-align: middle;\n",
       "    }\n",
       "\n",
       "    .dataframe tbody tr th {\n",
       "        vertical-align: top;\n",
       "    }\n",
       "\n",
       "    .dataframe thead th {\n",
       "        text-align: right;\n",
       "    }\n",
       "</style>\n",
       "<table border=\"1\" class=\"dataframe\">\n",
       "  <thead>\n",
       "    <tr style=\"text-align: right;\">\n",
       "      <th></th>\n",
       "      <th>Unnamed: 0</th>\n",
       "      <th>id</th>\n",
       "      <th>mb_used</th>\n",
       "      <th>session_date</th>\n",
       "      <th>user_id</th>\n",
       "    </tr>\n",
       "  </thead>\n",
       "  <tbody>\n",
       "    <tr>\n",
       "      <td>0</td>\n",
       "      <td>0</td>\n",
       "      <td>1000_0</td>\n",
       "      <td>112.95</td>\n",
       "      <td>2018-11-25</td>\n",
       "      <td>1000</td>\n",
       "    </tr>\n",
       "    <tr>\n",
       "      <td>1</td>\n",
       "      <td>1</td>\n",
       "      <td>1000_1</td>\n",
       "      <td>1052.81</td>\n",
       "      <td>2018-09-07</td>\n",
       "      <td>1000</td>\n",
       "    </tr>\n",
       "    <tr>\n",
       "      <td>2</td>\n",
       "      <td>2</td>\n",
       "      <td>1000_2</td>\n",
       "      <td>1197.26</td>\n",
       "      <td>2018-06-25</td>\n",
       "      <td>1000</td>\n",
       "    </tr>\n",
       "    <tr>\n",
       "      <td>3</td>\n",
       "      <td>3</td>\n",
       "      <td>1000_3</td>\n",
       "      <td>550.27</td>\n",
       "      <td>2018-08-22</td>\n",
       "      <td>1000</td>\n",
       "    </tr>\n",
       "    <tr>\n",
       "      <td>4</td>\n",
       "      <td>4</td>\n",
       "      <td>1000_4</td>\n",
       "      <td>302.56</td>\n",
       "      <td>2018-09-24</td>\n",
       "      <td>1000</td>\n",
       "    </tr>\n",
       "    <tr>\n",
       "      <td>5</td>\n",
       "      <td>5</td>\n",
       "      <td>1000_5</td>\n",
       "      <td>399.97</td>\n",
       "      <td>2018-10-02</td>\n",
       "      <td>1000</td>\n",
       "    </tr>\n",
       "    <tr>\n",
       "      <td>6</td>\n",
       "      <td>6</td>\n",
       "      <td>1000_6</td>\n",
       "      <td>540.08</td>\n",
       "      <td>2018-09-07</td>\n",
       "      <td>1000</td>\n",
       "    </tr>\n",
       "    <tr>\n",
       "      <td>7</td>\n",
       "      <td>7</td>\n",
       "      <td>1000_7</td>\n",
       "      <td>415.70</td>\n",
       "      <td>2018-07-11</td>\n",
       "      <td>1000</td>\n",
       "    </tr>\n",
       "    <tr>\n",
       "      <td>8</td>\n",
       "      <td>8</td>\n",
       "      <td>1000_8</td>\n",
       "      <td>505.40</td>\n",
       "      <td>2018-10-08</td>\n",
       "      <td>1000</td>\n",
       "    </tr>\n",
       "    <tr>\n",
       "      <td>9</td>\n",
       "      <td>9</td>\n",
       "      <td>1000_9</td>\n",
       "      <td>345.54</td>\n",
       "      <td>2018-09-03</td>\n",
       "      <td>1000</td>\n",
       "    </tr>\n",
       "  </tbody>\n",
       "</table>\n",
       "</div>"
      ],
      "text/plain": [
       "   Unnamed: 0      id  mb_used session_date  user_id\n",
       "0           0  1000_0   112.95   2018-11-25     1000\n",
       "1           1  1000_1  1052.81   2018-09-07     1000\n",
       "2           2  1000_2  1197.26   2018-06-25     1000\n",
       "3           3  1000_3   550.27   2018-08-22     1000\n",
       "4           4  1000_4   302.56   2018-09-24     1000\n",
       "5           5  1000_5   399.97   2018-10-02     1000\n",
       "6           6  1000_6   540.08   2018-09-07     1000\n",
       "7           7  1000_7   415.70   2018-07-11     1000\n",
       "8           8  1000_8   505.40   2018-10-08     1000\n",
       "9           9  1000_9   345.54   2018-09-03     1000"
      ]
     },
     "execution_count": 122,
     "metadata": {},
     "output_type": "execute_result"
    }
   ],
   "source": [
    "# получение первых 10 строк таблицы internet\n",
    "internet.head(10)"
   ]
  },
  {
   "cell_type": "markdown",
   "metadata": {},
   "source": [
    "На вид с таблицей практически все в порядке, за исключением подозрительного столбца `Unnamed: 0`. Получим общую информацию об интернет-сессиях:"
   ]
  },
  {
   "cell_type": "code",
   "execution_count": 123,
   "metadata": {},
   "outputs": [
    {
     "name": "stdout",
     "output_type": "stream",
     "text": [
      "<class 'pandas.core.frame.DataFrame'>\n",
      "RangeIndex: 149396 entries, 0 to 149395\n",
      "Data columns (total 5 columns):\n",
      "Unnamed: 0      149396 non-null int64\n",
      "id              149396 non-null object\n",
      "mb_used         149396 non-null float64\n",
      "session_date    149396 non-null object\n",
      "user_id         149396 non-null int64\n",
      "dtypes: float64(1), int64(2), object(2)\n",
      "memory usage: 5.7+ MB\n"
     ]
    }
   ],
   "source": [
    "#получаем информацию о датасете\n",
    "internet.info()"
   ]
  },
  {
   "cell_type": "code",
   "execution_count": 124,
   "metadata": {},
   "outputs": [
    {
     "data": {
      "text/html": [
       "<div>\n",
       "<style scoped>\n",
       "    .dataframe tbody tr th:only-of-type {\n",
       "        vertical-align: middle;\n",
       "    }\n",
       "\n",
       "    .dataframe tbody tr th {\n",
       "        vertical-align: top;\n",
       "    }\n",
       "\n",
       "    .dataframe thead th {\n",
       "        text-align: right;\n",
       "    }\n",
       "</style>\n",
       "<table border=\"1\" class=\"dataframe\">\n",
       "  <thead>\n",
       "    <tr style=\"text-align: right;\">\n",
       "      <th></th>\n",
       "      <th>Unnamed: 0</th>\n",
       "      <th>mb_used</th>\n",
       "      <th>user_id</th>\n",
       "    </tr>\n",
       "  </thead>\n",
       "  <tbody>\n",
       "    <tr>\n",
       "      <td>count</td>\n",
       "      <td>149396.000000</td>\n",
       "      <td>149396.000000</td>\n",
       "      <td>149396.000000</td>\n",
       "    </tr>\n",
       "    <tr>\n",
       "      <td>mean</td>\n",
       "      <td>74697.500000</td>\n",
       "      <td>370.192426</td>\n",
       "      <td>1252.099842</td>\n",
       "    </tr>\n",
       "    <tr>\n",
       "      <td>std</td>\n",
       "      <td>43127.054745</td>\n",
       "      <td>278.300951</td>\n",
       "      <td>144.050823</td>\n",
       "    </tr>\n",
       "    <tr>\n",
       "      <td>min</td>\n",
       "      <td>0.000000</td>\n",
       "      <td>0.000000</td>\n",
       "      <td>1000.000000</td>\n",
       "    </tr>\n",
       "    <tr>\n",
       "      <td>25%</td>\n",
       "      <td>37348.750000</td>\n",
       "      <td>138.187500</td>\n",
       "      <td>1130.000000</td>\n",
       "    </tr>\n",
       "    <tr>\n",
       "      <td>50%</td>\n",
       "      <td>74697.500000</td>\n",
       "      <td>348.015000</td>\n",
       "      <td>1251.000000</td>\n",
       "    </tr>\n",
       "    <tr>\n",
       "      <td>75%</td>\n",
       "      <td>112046.250000</td>\n",
       "      <td>559.552500</td>\n",
       "      <td>1380.000000</td>\n",
       "    </tr>\n",
       "    <tr>\n",
       "      <td>max</td>\n",
       "      <td>149395.000000</td>\n",
       "      <td>1724.830000</td>\n",
       "      <td>1499.000000</td>\n",
       "    </tr>\n",
       "  </tbody>\n",
       "</table>\n",
       "</div>"
      ],
      "text/plain": [
       "          Unnamed: 0        mb_used        user_id\n",
       "count  149396.000000  149396.000000  149396.000000\n",
       "mean    74697.500000     370.192426    1252.099842\n",
       "std     43127.054745     278.300951     144.050823\n",
       "min         0.000000       0.000000    1000.000000\n",
       "25%     37348.750000     138.187500    1130.000000\n",
       "50%     74697.500000     348.015000    1251.000000\n",
       "75%    112046.250000     559.552500    1380.000000\n",
       "max    149395.000000    1724.830000    1499.000000"
      ]
     },
     "execution_count": 124,
     "metadata": {},
     "output_type": "execute_result"
    }
   ],
   "source": [
    "#получаем информацию о датасете\n",
    "internet.describe()"
   ]
  },
  {
   "cell_type": "markdown",
   "metadata": {},
   "source": [
    "**Вывод**"
   ]
  },
  {
   "cell_type": "markdown",
   "metadata": {},
   "source": [
    "Итак, в таблице 5 столбцев. Тип данных в них различается.\n",
    "\n",
    "Согласно документации к данным:\n",
    "* id — уникальный номер сессии\n",
    "* mb_used — объём потраченного за сессию интернет-трафика (в мегабайтах)\n",
    "* session_date — дата интернет-сессии\n",
    "* user_id — идентификатор пользователя"
   ]
  },
  {
   "cell_type": "markdown",
   "metadata": {},
   "source": [
    "Пропуски в данных отсутсвуют - есть только интернет-сессии, длившиеся 0 минут. На практике это возможно.\n",
    "\n",
    "Стиль столбцев соответсует правилам хорошего стиля.\n",
    "\n",
    "Тип данных в столбце session_date необходимо будет заменить на понятный для Python datetime64.\n",
    "\n",
    "Значения в столбце mb_used нужно будет округлить в большую сторону.\n",
    "\n",
    "Также нужно будет разобраться с подозрительным столбцев Unnamed: 0, поскольку информацию о нем в документации к данным отсутствует. Есть предположение, что данный столбец дублирует индексы датасета.\n",
    "\n",
    "Других проблем в данных пока что не видно."
   ]
  },
  {
   "cell_type": "markdown",
   "metadata": {},
   "source": [
    "В каждой строке таблицы — данные об интернет-сессиях. Каждая из колонок содержит определенные данные о интернет-сессиях (идентификатор сессии, дата сессии, идентификатор клиента, совершившиго сессию, объем потраченного трафика). Одна строка - одна сессия и, соответственно, данные о ней. Несколько строк могут содержать данные об одном и том же клиенте, но не могут содержать данные об одинаковых сессиях."
   ]
  },
  {
   "cell_type": "markdown",
   "metadata": {},
   "source": [
    "## Изучаем информацию о сообщениях"
   ]
  },
  {
   "cell_type": "code",
   "execution_count": 125,
   "metadata": {},
   "outputs": [
    {
     "data": {
      "text/html": [
       "<div>\n",
       "<style scoped>\n",
       "    .dataframe tbody tr th:only-of-type {\n",
       "        vertical-align: middle;\n",
       "    }\n",
       "\n",
       "    .dataframe tbody tr th {\n",
       "        vertical-align: top;\n",
       "    }\n",
       "\n",
       "    .dataframe thead th {\n",
       "        text-align: right;\n",
       "    }\n",
       "</style>\n",
       "<table border=\"1\" class=\"dataframe\">\n",
       "  <thead>\n",
       "    <tr style=\"text-align: right;\">\n",
       "      <th></th>\n",
       "      <th>id</th>\n",
       "      <th>message_date</th>\n",
       "      <th>user_id</th>\n",
       "    </tr>\n",
       "  </thead>\n",
       "  <tbody>\n",
       "    <tr>\n",
       "      <td>0</td>\n",
       "      <td>1000_0</td>\n",
       "      <td>2018-06-27</td>\n",
       "      <td>1000</td>\n",
       "    </tr>\n",
       "    <tr>\n",
       "      <td>1</td>\n",
       "      <td>1000_1</td>\n",
       "      <td>2018-10-08</td>\n",
       "      <td>1000</td>\n",
       "    </tr>\n",
       "    <tr>\n",
       "      <td>2</td>\n",
       "      <td>1000_2</td>\n",
       "      <td>2018-08-04</td>\n",
       "      <td>1000</td>\n",
       "    </tr>\n",
       "    <tr>\n",
       "      <td>3</td>\n",
       "      <td>1000_3</td>\n",
       "      <td>2018-06-16</td>\n",
       "      <td>1000</td>\n",
       "    </tr>\n",
       "    <tr>\n",
       "      <td>4</td>\n",
       "      <td>1000_4</td>\n",
       "      <td>2018-12-05</td>\n",
       "      <td>1000</td>\n",
       "    </tr>\n",
       "    <tr>\n",
       "      <td>5</td>\n",
       "      <td>1000_5</td>\n",
       "      <td>2018-06-20</td>\n",
       "      <td>1000</td>\n",
       "    </tr>\n",
       "    <tr>\n",
       "      <td>6</td>\n",
       "      <td>1000_6</td>\n",
       "      <td>2018-11-19</td>\n",
       "      <td>1000</td>\n",
       "    </tr>\n",
       "    <tr>\n",
       "      <td>7</td>\n",
       "      <td>1000_7</td>\n",
       "      <td>2018-10-29</td>\n",
       "      <td>1000</td>\n",
       "    </tr>\n",
       "    <tr>\n",
       "      <td>8</td>\n",
       "      <td>1000_8</td>\n",
       "      <td>2018-06-25</td>\n",
       "      <td>1000</td>\n",
       "    </tr>\n",
       "    <tr>\n",
       "      <td>9</td>\n",
       "      <td>1000_9</td>\n",
       "      <td>2018-12-18</td>\n",
       "      <td>1000</td>\n",
       "    </tr>\n",
       "  </tbody>\n",
       "</table>\n",
       "</div>"
      ],
      "text/plain": [
       "       id message_date  user_id\n",
       "0  1000_0   2018-06-27     1000\n",
       "1  1000_1   2018-10-08     1000\n",
       "2  1000_2   2018-08-04     1000\n",
       "3  1000_3   2018-06-16     1000\n",
       "4  1000_4   2018-12-05     1000\n",
       "5  1000_5   2018-06-20     1000\n",
       "6  1000_6   2018-11-19     1000\n",
       "7  1000_7   2018-10-29     1000\n",
       "8  1000_8   2018-06-25     1000\n",
       "9  1000_9   2018-12-18     1000"
      ]
     },
     "execution_count": 125,
     "metadata": {},
     "output_type": "execute_result"
    }
   ],
   "source": [
    "# получение первых 10 строк таблицы messages\n",
    "messages.head(10)"
   ]
  },
  {
   "cell_type": "markdown",
   "metadata": {},
   "source": [
    "На вид с таблицей все в порядке. Получим общую информацию о сообщениях:"
   ]
  },
  {
   "cell_type": "markdown",
   "metadata": {},
   "source": [
    "#получаем информацию о датасете\n",
    "messages.info()"
   ]
  },
  {
   "cell_type": "markdown",
   "metadata": {},
   "source": [
    "#получаем информацию о датасете\n",
    "messages.describe()"
   ]
  },
  {
   "cell_type": "markdown",
   "metadata": {},
   "source": [
    "**Вывод**"
   ]
  },
  {
   "cell_type": "markdown",
   "metadata": {},
   "source": [
    "Итак, в таблице 3 столбца. Тип данных в них различается.\n",
    "\n",
    "Согласно документации к данным:\n",
    "* id — уникальный номер звонка\n",
    "* message_date — дата сообщения\n",
    "* user_id — идентификатор пользователя, отправившего сообщение"
   ]
  },
  {
   "cell_type": "markdown",
   "metadata": {},
   "source": [
    "Пропуски в данных отсутсвуют. Стиль столбцев соответсует правилам хорошего стиля.\n",
    "\n",
    "Тип данных в столбце message_date необходимо будет заменить на понятный для Python datetime64.\n",
    "\n",
    "Других проблем в данных пока что не видно."
   ]
  },
  {
   "cell_type": "markdown",
   "metadata": {},
   "source": [
    "## Изучаем информацию о тарифах"
   ]
  },
  {
   "cell_type": "code",
   "execution_count": 126,
   "metadata": {},
   "outputs": [
    {
     "data": {
      "text/html": [
       "<div>\n",
       "<style scoped>\n",
       "    .dataframe tbody tr th:only-of-type {\n",
       "        vertical-align: middle;\n",
       "    }\n",
       "\n",
       "    .dataframe tbody tr th {\n",
       "        vertical-align: top;\n",
       "    }\n",
       "\n",
       "    .dataframe thead th {\n",
       "        text-align: right;\n",
       "    }\n",
       "</style>\n",
       "<table border=\"1\" class=\"dataframe\">\n",
       "  <thead>\n",
       "    <tr style=\"text-align: right;\">\n",
       "      <th></th>\n",
       "      <th>messages_included</th>\n",
       "      <th>mb_per_month_included</th>\n",
       "      <th>minutes_included</th>\n",
       "      <th>rub_monthly_fee</th>\n",
       "      <th>rub_per_gb</th>\n",
       "      <th>rub_per_message</th>\n",
       "      <th>rub_per_minute</th>\n",
       "      <th>tariff_name</th>\n",
       "    </tr>\n",
       "  </thead>\n",
       "  <tbody>\n",
       "    <tr>\n",
       "      <td>0</td>\n",
       "      <td>50</td>\n",
       "      <td>15360</td>\n",
       "      <td>500</td>\n",
       "      <td>550</td>\n",
       "      <td>200</td>\n",
       "      <td>3</td>\n",
       "      <td>3</td>\n",
       "      <td>smart</td>\n",
       "    </tr>\n",
       "    <tr>\n",
       "      <td>1</td>\n",
       "      <td>1000</td>\n",
       "      <td>30720</td>\n",
       "      <td>3000</td>\n",
       "      <td>1950</td>\n",
       "      <td>150</td>\n",
       "      <td>1</td>\n",
       "      <td>1</td>\n",
       "      <td>ultra</td>\n",
       "    </tr>\n",
       "  </tbody>\n",
       "</table>\n",
       "</div>"
      ],
      "text/plain": [
       "   messages_included  mb_per_month_included  minutes_included  \\\n",
       "0                 50                  15360               500   \n",
       "1               1000                  30720              3000   \n",
       "\n",
       "   rub_monthly_fee  rub_per_gb  rub_per_message  rub_per_minute tariff_name  \n",
       "0              550         200                3               3       smart  \n",
       "1             1950         150                1               1       ultra  "
      ]
     },
     "execution_count": 126,
     "metadata": {},
     "output_type": "execute_result"
    }
   ],
   "source": [
    "# получение таблицы tariffs\n",
    "tariffs"
   ]
  },
  {
   "cell_type": "markdown",
   "metadata": {},
   "source": [
    "На вид с таблицей все в порядке. Получим общую информацию о тарифах:"
   ]
  },
  {
   "cell_type": "code",
   "execution_count": 127,
   "metadata": {},
   "outputs": [
    {
     "name": "stdout",
     "output_type": "stream",
     "text": [
      "<class 'pandas.core.frame.DataFrame'>\n",
      "RangeIndex: 2 entries, 0 to 1\n",
      "Data columns (total 8 columns):\n",
      "messages_included        2 non-null int64\n",
      "mb_per_month_included    2 non-null int64\n",
      "minutes_included         2 non-null int64\n",
      "rub_monthly_fee          2 non-null int64\n",
      "rub_per_gb               2 non-null int64\n",
      "rub_per_message          2 non-null int64\n",
      "rub_per_minute           2 non-null int64\n",
      "tariff_name              2 non-null object\n",
      "dtypes: int64(7), object(1)\n",
      "memory usage: 256.0+ bytes\n"
     ]
    }
   ],
   "source": [
    "#получаем информацию о датасете\n",
    "tariffs.info()"
   ]
  },
  {
   "cell_type": "markdown",
   "metadata": {},
   "source": [
    "Итак, в таблице 8 столбцев. Тип данных в них различается.\n",
    "\n",
    "Согласно документации к данным:\n",
    "\n",
    "* tariff_name — название тарифа\n",
    "* rub_monthly_fee — ежемесячная абонентская плата в рублях\n",
    "* minutes_included — количество минут разговора в месяц, включённых в абонентскую плату\n",
    "* messages_included — количество сообщений в месяц, включённых в абонентскую плату\n",
    "* mb_per_month_included — объём интернет-трафика, включённого в абонентскую плату (в мегабайтах)\n",
    "* rub_per_minute — стоимость минуты разговора сверх тарифного пакета (например, если в тарифе 100 минут разговора в месяц, то со 101 минуты будет взиматься плата)\n",
    "* rub_per_message — стоимость отправки сообщения сверх тарифного пакета\n",
    "* rub_per_gb — стоимость дополнительного гигабайта интернет-трафика сверх тарифного пакета (1 гигабайт = 1024 мегабайта)"
   ]
  },
  {
   "cell_type": "markdown",
   "metadata": {},
   "source": [
    "Пропуски в данных отсутсвуют. Стиль столбцев соответсует правилам хорошего стиля.\n",
    "\n",
    "Никаких проблем с данными в этом датасете нет. Оно и не мудрено - всего 2 строки.\n",
    "\n",
    "Однако стоить заменить мегабайты на гигабайты"
   ]
  },
  {
   "cell_type": "markdown",
   "metadata": {},
   "source": [
    "## Изучаем информацию о пользователях"
   ]
  },
  {
   "cell_type": "code",
   "execution_count": 128,
   "metadata": {},
   "outputs": [
    {
     "data": {
      "text/html": [
       "<div>\n",
       "<style scoped>\n",
       "    .dataframe tbody tr th:only-of-type {\n",
       "        vertical-align: middle;\n",
       "    }\n",
       "\n",
       "    .dataframe tbody tr th {\n",
       "        vertical-align: top;\n",
       "    }\n",
       "\n",
       "    .dataframe thead th {\n",
       "        text-align: right;\n",
       "    }\n",
       "</style>\n",
       "<table border=\"1\" class=\"dataframe\">\n",
       "  <thead>\n",
       "    <tr style=\"text-align: right;\">\n",
       "      <th></th>\n",
       "      <th>user_id</th>\n",
       "      <th>age</th>\n",
       "      <th>churn_date</th>\n",
       "      <th>city</th>\n",
       "      <th>first_name</th>\n",
       "      <th>last_name</th>\n",
       "      <th>reg_date</th>\n",
       "      <th>tariff</th>\n",
       "    </tr>\n",
       "  </thead>\n",
       "  <tbody>\n",
       "    <tr>\n",
       "      <td>0</td>\n",
       "      <td>1000</td>\n",
       "      <td>52</td>\n",
       "      <td>NaN</td>\n",
       "      <td>Краснодар</td>\n",
       "      <td>Рафаил</td>\n",
       "      <td>Верещагин</td>\n",
       "      <td>2018-05-25</td>\n",
       "      <td>ultra</td>\n",
       "    </tr>\n",
       "    <tr>\n",
       "      <td>1</td>\n",
       "      <td>1001</td>\n",
       "      <td>41</td>\n",
       "      <td>NaN</td>\n",
       "      <td>Москва</td>\n",
       "      <td>Иван</td>\n",
       "      <td>Ежов</td>\n",
       "      <td>2018-11-01</td>\n",
       "      <td>smart</td>\n",
       "    </tr>\n",
       "    <tr>\n",
       "      <td>2</td>\n",
       "      <td>1002</td>\n",
       "      <td>59</td>\n",
       "      <td>NaN</td>\n",
       "      <td>Стерлитамак</td>\n",
       "      <td>Евгений</td>\n",
       "      <td>Абрамович</td>\n",
       "      <td>2018-06-17</td>\n",
       "      <td>smart</td>\n",
       "    </tr>\n",
       "    <tr>\n",
       "      <td>3</td>\n",
       "      <td>1003</td>\n",
       "      <td>23</td>\n",
       "      <td>NaN</td>\n",
       "      <td>Москва</td>\n",
       "      <td>Белла</td>\n",
       "      <td>Белякова</td>\n",
       "      <td>2018-08-17</td>\n",
       "      <td>ultra</td>\n",
       "    </tr>\n",
       "    <tr>\n",
       "      <td>4</td>\n",
       "      <td>1004</td>\n",
       "      <td>68</td>\n",
       "      <td>NaN</td>\n",
       "      <td>Новокузнецк</td>\n",
       "      <td>Татьяна</td>\n",
       "      <td>Авдеенко</td>\n",
       "      <td>2018-05-14</td>\n",
       "      <td>ultra</td>\n",
       "    </tr>\n",
       "    <tr>\n",
       "      <td>5</td>\n",
       "      <td>1005</td>\n",
       "      <td>67</td>\n",
       "      <td>NaN</td>\n",
       "      <td>Набережные Челны</td>\n",
       "      <td>Афанасий</td>\n",
       "      <td>Горлов</td>\n",
       "      <td>2018-01-25</td>\n",
       "      <td>smart</td>\n",
       "    </tr>\n",
       "    <tr>\n",
       "      <td>6</td>\n",
       "      <td>1006</td>\n",
       "      <td>21</td>\n",
       "      <td>NaN</td>\n",
       "      <td>Ульяновск</td>\n",
       "      <td>Леонид</td>\n",
       "      <td>Ермолаев</td>\n",
       "      <td>2018-02-26</td>\n",
       "      <td>smart</td>\n",
       "    </tr>\n",
       "    <tr>\n",
       "      <td>7</td>\n",
       "      <td>1007</td>\n",
       "      <td>65</td>\n",
       "      <td>NaN</td>\n",
       "      <td>Москва</td>\n",
       "      <td>Юна</td>\n",
       "      <td>Березина</td>\n",
       "      <td>2018-04-19</td>\n",
       "      <td>smart</td>\n",
       "    </tr>\n",
       "    <tr>\n",
       "      <td>8</td>\n",
       "      <td>1008</td>\n",
       "      <td>63</td>\n",
       "      <td>NaN</td>\n",
       "      <td>Челябинск</td>\n",
       "      <td>Рустэм</td>\n",
       "      <td>Пономарёв</td>\n",
       "      <td>2018-12-19</td>\n",
       "      <td>smart</td>\n",
       "    </tr>\n",
       "    <tr>\n",
       "      <td>9</td>\n",
       "      <td>1009</td>\n",
       "      <td>24</td>\n",
       "      <td>NaN</td>\n",
       "      <td>Пермь</td>\n",
       "      <td>Василиса</td>\n",
       "      <td>Блинова</td>\n",
       "      <td>2018-03-22</td>\n",
       "      <td>smart</td>\n",
       "    </tr>\n",
       "  </tbody>\n",
       "</table>\n",
       "</div>"
      ],
      "text/plain": [
       "   user_id  age churn_date              city first_name  last_name  \\\n",
       "0     1000   52        NaN         Краснодар     Рафаил  Верещагин   \n",
       "1     1001   41        NaN            Москва       Иван       Ежов   \n",
       "2     1002   59        NaN       Стерлитамак    Евгений  Абрамович   \n",
       "3     1003   23        NaN            Москва      Белла   Белякова   \n",
       "4     1004   68        NaN       Новокузнецк    Татьяна   Авдеенко   \n",
       "5     1005   67        NaN  Набережные Челны   Афанасий     Горлов   \n",
       "6     1006   21        NaN         Ульяновск     Леонид   Ермолаев   \n",
       "7     1007   65        NaN            Москва        Юна   Березина   \n",
       "8     1008   63        NaN         Челябинск     Рустэм  Пономарёв   \n",
       "9     1009   24        NaN             Пермь   Василиса    Блинова   \n",
       "\n",
       "     reg_date tariff  \n",
       "0  2018-05-25  ultra  \n",
       "1  2018-11-01  smart  \n",
       "2  2018-06-17  smart  \n",
       "3  2018-08-17  ultra  \n",
       "4  2018-05-14  ultra  \n",
       "5  2018-01-25  smart  \n",
       "6  2018-02-26  smart  \n",
       "7  2018-04-19  smart  \n",
       "8  2018-12-19  smart  \n",
       "9  2018-03-22  smart  "
      ]
     },
     "execution_count": 128,
     "metadata": {},
     "output_type": "execute_result"
    }
   ],
   "source": [
    "# получение первых 10 строк таблицы users\n",
    "users.head(10)"
   ]
  },
  {
   "cell_type": "markdown",
   "metadata": {},
   "source": [
    "На вид с таблицей НЕ все в порядке - видны некоторые проблемы. Получим общую информацию о пользователях:"
   ]
  },
  {
   "cell_type": "code",
   "execution_count": 129,
   "metadata": {},
   "outputs": [
    {
     "name": "stdout",
     "output_type": "stream",
     "text": [
      "<class 'pandas.core.frame.DataFrame'>\n",
      "RangeIndex: 500 entries, 0 to 499\n",
      "Data columns (total 8 columns):\n",
      "user_id       500 non-null int64\n",
      "age           500 non-null int64\n",
      "churn_date    38 non-null object\n",
      "city          500 non-null object\n",
      "first_name    500 non-null object\n",
      "last_name     500 non-null object\n",
      "reg_date      500 non-null object\n",
      "tariff        500 non-null object\n",
      "dtypes: int64(2), object(6)\n",
      "memory usage: 31.4+ KB\n"
     ]
    }
   ],
   "source": [
    "#получаем информацию о датасете\n",
    "users.info()"
   ]
  },
  {
   "cell_type": "code",
   "execution_count": 130,
   "metadata": {},
   "outputs": [
    {
     "data": {
      "text/html": [
       "<div>\n",
       "<style scoped>\n",
       "    .dataframe tbody tr th:only-of-type {\n",
       "        vertical-align: middle;\n",
       "    }\n",
       "\n",
       "    .dataframe tbody tr th {\n",
       "        vertical-align: top;\n",
       "    }\n",
       "\n",
       "    .dataframe thead th {\n",
       "        text-align: right;\n",
       "    }\n",
       "</style>\n",
       "<table border=\"1\" class=\"dataframe\">\n",
       "  <thead>\n",
       "    <tr style=\"text-align: right;\">\n",
       "      <th></th>\n",
       "      <th>user_id</th>\n",
       "      <th>age</th>\n",
       "    </tr>\n",
       "  </thead>\n",
       "  <tbody>\n",
       "    <tr>\n",
       "      <td>count</td>\n",
       "      <td>500.000000</td>\n",
       "      <td>500.00000</td>\n",
       "    </tr>\n",
       "    <tr>\n",
       "      <td>mean</td>\n",
       "      <td>1249.500000</td>\n",
       "      <td>46.58800</td>\n",
       "    </tr>\n",
       "    <tr>\n",
       "      <td>std</td>\n",
       "      <td>144.481833</td>\n",
       "      <td>16.66763</td>\n",
       "    </tr>\n",
       "    <tr>\n",
       "      <td>min</td>\n",
       "      <td>1000.000000</td>\n",
       "      <td>18.00000</td>\n",
       "    </tr>\n",
       "    <tr>\n",
       "      <td>25%</td>\n",
       "      <td>1124.750000</td>\n",
       "      <td>32.00000</td>\n",
       "    </tr>\n",
       "    <tr>\n",
       "      <td>50%</td>\n",
       "      <td>1249.500000</td>\n",
       "      <td>46.00000</td>\n",
       "    </tr>\n",
       "    <tr>\n",
       "      <td>75%</td>\n",
       "      <td>1374.250000</td>\n",
       "      <td>62.00000</td>\n",
       "    </tr>\n",
       "    <tr>\n",
       "      <td>max</td>\n",
       "      <td>1499.000000</td>\n",
       "      <td>75.00000</td>\n",
       "    </tr>\n",
       "  </tbody>\n",
       "</table>\n",
       "</div>"
      ],
      "text/plain": [
       "           user_id        age\n",
       "count   500.000000  500.00000\n",
       "mean   1249.500000   46.58800\n",
       "std     144.481833   16.66763\n",
       "min    1000.000000   18.00000\n",
       "25%    1124.750000   32.00000\n",
       "50%    1249.500000   46.00000\n",
       "75%    1374.250000   62.00000\n",
       "max    1499.000000   75.00000"
      ]
     },
     "execution_count": 130,
     "metadata": {},
     "output_type": "execute_result"
    }
   ],
   "source": [
    "#получаем информацию о датасете\n",
    "users.describe()"
   ]
  },
  {
   "cell_type": "markdown",
   "metadata": {},
   "source": [
    "Итак, в таблице 8 столбцев. Тип данных в них различается.\n",
    "\n",
    "Согласно документации к данным:\n",
    "    \n",
    "* user_id — уникальный идентификатор пользователя\n",
    "* first_name — имя пользователя\n",
    "* last_name — фамилия пользователя\n",
    "* age — возраст пользователя (годы)\n",
    "* reg_date — дата подключения тарифа (день, месяц, год)\n",
    "* churn_date — дата прекращения пользования тарифом (если значение пропущено, то тариф ещё действовал на момент выгрузки данных)\n",
    "* city — город проживания пользователя\n",
    "* tarif — название тарифного плана"
   ]
  },
  {
   "cell_type": "markdown",
   "metadata": {},
   "source": [
    "В данных есть пропуски, а именно в столбце `churn_date`. Однако,  согласно документации, если значение пропущено, то тариф ещё действовал на момент выгрузки данных.\n",
    "\n",
    "Тип данных в столбце reg_date необходимо будет заменить на понятный для Python datetime64.\n",
    "\n",
    "Других проблем в данных пока что не видно."
   ]
  },
  {
   "cell_type": "markdown",
   "metadata": {},
   "source": [
    "## Вывод:"
   ]
  },
  {
   "cell_type": "markdown",
   "metadata": {},
   "source": [
    "Мы открыли файлф с данными, присвоив их отдельным переменным. Затем вывели подробную информацию о каждом датасете с помощью info() и describe(). Изучили информацию о каждом из этих датасетов и нашли неточности и ошибки, которые нужно будет исправить на следующем этапе, чтобы можно было работать с данными."
   ]
  },
  {
   "cell_type": "markdown",
   "metadata": {},
   "source": [
    "# Шаг 2. Подготовка данных"
   ]
  },
  {
   "cell_type": "markdown",
   "metadata": {},
   "source": [
    "Для работы с данными нам необходимо будет их округлить и привести к нужным типам, объединить в сводные таблицы, а затем все полученные датасеты привести к одной таблице.\n"
   ]
  },
  {
   "cell_type": "markdown",
   "metadata": {},
   "source": [
    "## Датасет tariffs"
   ]
  },
  {
   "cell_type": "markdown",
   "metadata": {},
   "source": [
    "Вспомним, как он выглядит"
   ]
  },
  {
   "cell_type": "code",
   "execution_count": 131,
   "metadata": {
    "scrolled": true
   },
   "outputs": [
    {
     "data": {
      "text/html": [
       "<div>\n",
       "<style scoped>\n",
       "    .dataframe tbody tr th:only-of-type {\n",
       "        vertical-align: middle;\n",
       "    }\n",
       "\n",
       "    .dataframe tbody tr th {\n",
       "        vertical-align: top;\n",
       "    }\n",
       "\n",
       "    .dataframe thead th {\n",
       "        text-align: right;\n",
       "    }\n",
       "</style>\n",
       "<table border=\"1\" class=\"dataframe\">\n",
       "  <thead>\n",
       "    <tr style=\"text-align: right;\">\n",
       "      <th></th>\n",
       "      <th>messages_included</th>\n",
       "      <th>mb_per_month_included</th>\n",
       "      <th>minutes_included</th>\n",
       "      <th>rub_monthly_fee</th>\n",
       "      <th>rub_per_gb</th>\n",
       "      <th>rub_per_message</th>\n",
       "      <th>rub_per_minute</th>\n",
       "      <th>tariff_name</th>\n",
       "    </tr>\n",
       "  </thead>\n",
       "  <tbody>\n",
       "    <tr>\n",
       "      <td>0</td>\n",
       "      <td>50</td>\n",
       "      <td>15360</td>\n",
       "      <td>500</td>\n",
       "      <td>550</td>\n",
       "      <td>200</td>\n",
       "      <td>3</td>\n",
       "      <td>3</td>\n",
       "      <td>smart</td>\n",
       "    </tr>\n",
       "    <tr>\n",
       "      <td>1</td>\n",
       "      <td>1000</td>\n",
       "      <td>30720</td>\n",
       "      <td>3000</td>\n",
       "      <td>1950</td>\n",
       "      <td>150</td>\n",
       "      <td>1</td>\n",
       "      <td>1</td>\n",
       "      <td>ultra</td>\n",
       "    </tr>\n",
       "  </tbody>\n",
       "</table>\n",
       "</div>"
      ],
      "text/plain": [
       "   messages_included  mb_per_month_included  minutes_included  \\\n",
       "0                 50                  15360               500   \n",
       "1               1000                  30720              3000   \n",
       "\n",
       "   rub_monthly_fee  rub_per_gb  rub_per_message  rub_per_minute tariff_name  \n",
       "0              550         200                3               3       smart  \n",
       "1             1950         150                1               1       ultra  "
      ]
     },
     "execution_count": 131,
     "metadata": {},
     "output_type": "execute_result"
    }
   ],
   "source": [
    "#выводим датасет на экран\n",
    "tariffs"
   ]
  },
  {
   "cell_type": "markdown",
   "metadata": {},
   "source": [
    "Заменим мб на гб в таблице, зная, что в 1гб 1024 мб.\n",
    "Также для рассчетов нам будут необходимы ссылки на ячейки данного датасета, поэтому его нужно будет объединить с датасетом users. Для этого нам нужен общий столбец - название тарифа. Унифицируем название столбца tariff_name - сделаем его таким же, как в users."
   ]
  },
  {
   "cell_type": "code",
   "execution_count": 132,
   "metadata": {
    "scrolled": true
   },
   "outputs": [
    {
     "data": {
      "text/html": [
       "<div>\n",
       "<style scoped>\n",
       "    .dataframe tbody tr th:only-of-type {\n",
       "        vertical-align: middle;\n",
       "    }\n",
       "\n",
       "    .dataframe tbody tr th {\n",
       "        vertical-align: top;\n",
       "    }\n",
       "\n",
       "    .dataframe thead th {\n",
       "        text-align: right;\n",
       "    }\n",
       "</style>\n",
       "<table border=\"1\" class=\"dataframe\">\n",
       "  <thead>\n",
       "    <tr style=\"text-align: right;\">\n",
       "      <th></th>\n",
       "      <th>messages_included</th>\n",
       "      <th>gb_per_month_included</th>\n",
       "      <th>minutes_included</th>\n",
       "      <th>rub_monthly_fee</th>\n",
       "      <th>rub_per_gb</th>\n",
       "      <th>rub_per_message</th>\n",
       "      <th>rub_per_minute</th>\n",
       "      <th>tariff</th>\n",
       "    </tr>\n",
       "  </thead>\n",
       "  <tbody>\n",
       "    <tr>\n",
       "      <td>0</td>\n",
       "      <td>50</td>\n",
       "      <td>15</td>\n",
       "      <td>500</td>\n",
       "      <td>550</td>\n",
       "      <td>200</td>\n",
       "      <td>3</td>\n",
       "      <td>3</td>\n",
       "      <td>smart</td>\n",
       "    </tr>\n",
       "    <tr>\n",
       "      <td>1</td>\n",
       "      <td>1000</td>\n",
       "      <td>30</td>\n",
       "      <td>3000</td>\n",
       "      <td>1950</td>\n",
       "      <td>150</td>\n",
       "      <td>1</td>\n",
       "      <td>1</td>\n",
       "      <td>ultra</td>\n",
       "    </tr>\n",
       "  </tbody>\n",
       "</table>\n",
       "</div>"
      ],
      "text/plain": [
       "   messages_included  gb_per_month_included  minutes_included  \\\n",
       "0                 50                     15               500   \n",
       "1               1000                     30              3000   \n",
       "\n",
       "   rub_monthly_fee  rub_per_gb  rub_per_message  rub_per_minute tariff  \n",
       "0              550         200                3               3  smart  \n",
       "1             1950         150                1               1  ultra  "
      ]
     },
     "execution_count": 132,
     "metadata": {},
     "output_type": "execute_result"
    }
   ],
   "source": [
    "#мб меняем на гб\n",
    "tariffs['mb_per_month_included'] = (tariffs['mb_per_month_included']/1024).astype(int)\n",
    "#переименум столбце\n",
    "tariffs = tariffs.rename(columns={'tariff_name':'tariff', 'mb_per_month_included': 'gb_per_month_included'}) \n",
    "#выводим датасет на экран\n",
    "tariffs"
   ]
  },
  {
   "cell_type": "markdown",
   "metadata": {},
   "source": [
    "## Датасет users"
   ]
  },
  {
   "cell_type": "markdown",
   "metadata": {},
   "source": [
    "Для наглядности выведем первые 5 строк таблицы `users` на экран."
   ]
  },
  {
   "cell_type": "code",
   "execution_count": 133,
   "metadata": {},
   "outputs": [
    {
     "data": {
      "text/html": [
       "<div>\n",
       "<style scoped>\n",
       "    .dataframe tbody tr th:only-of-type {\n",
       "        vertical-align: middle;\n",
       "    }\n",
       "\n",
       "    .dataframe tbody tr th {\n",
       "        vertical-align: top;\n",
       "    }\n",
       "\n",
       "    .dataframe thead th {\n",
       "        text-align: right;\n",
       "    }\n",
       "</style>\n",
       "<table border=\"1\" class=\"dataframe\">\n",
       "  <thead>\n",
       "    <tr style=\"text-align: right;\">\n",
       "      <th></th>\n",
       "      <th>user_id</th>\n",
       "      <th>age</th>\n",
       "      <th>churn_date</th>\n",
       "      <th>city</th>\n",
       "      <th>first_name</th>\n",
       "      <th>last_name</th>\n",
       "      <th>reg_date</th>\n",
       "      <th>tariff</th>\n",
       "    </tr>\n",
       "  </thead>\n",
       "  <tbody>\n",
       "    <tr>\n",
       "      <td>0</td>\n",
       "      <td>1000</td>\n",
       "      <td>52</td>\n",
       "      <td>NaN</td>\n",
       "      <td>Краснодар</td>\n",
       "      <td>Рафаил</td>\n",
       "      <td>Верещагин</td>\n",
       "      <td>2018-05-25</td>\n",
       "      <td>ultra</td>\n",
       "    </tr>\n",
       "    <tr>\n",
       "      <td>1</td>\n",
       "      <td>1001</td>\n",
       "      <td>41</td>\n",
       "      <td>NaN</td>\n",
       "      <td>Москва</td>\n",
       "      <td>Иван</td>\n",
       "      <td>Ежов</td>\n",
       "      <td>2018-11-01</td>\n",
       "      <td>smart</td>\n",
       "    </tr>\n",
       "    <tr>\n",
       "      <td>2</td>\n",
       "      <td>1002</td>\n",
       "      <td>59</td>\n",
       "      <td>NaN</td>\n",
       "      <td>Стерлитамак</td>\n",
       "      <td>Евгений</td>\n",
       "      <td>Абрамович</td>\n",
       "      <td>2018-06-17</td>\n",
       "      <td>smart</td>\n",
       "    </tr>\n",
       "    <tr>\n",
       "      <td>3</td>\n",
       "      <td>1003</td>\n",
       "      <td>23</td>\n",
       "      <td>NaN</td>\n",
       "      <td>Москва</td>\n",
       "      <td>Белла</td>\n",
       "      <td>Белякова</td>\n",
       "      <td>2018-08-17</td>\n",
       "      <td>ultra</td>\n",
       "    </tr>\n",
       "    <tr>\n",
       "      <td>4</td>\n",
       "      <td>1004</td>\n",
       "      <td>68</td>\n",
       "      <td>NaN</td>\n",
       "      <td>Новокузнецк</td>\n",
       "      <td>Татьяна</td>\n",
       "      <td>Авдеенко</td>\n",
       "      <td>2018-05-14</td>\n",
       "      <td>ultra</td>\n",
       "    </tr>\n",
       "  </tbody>\n",
       "</table>\n",
       "</div>"
      ],
      "text/plain": [
       "   user_id  age churn_date         city first_name  last_name    reg_date  \\\n",
       "0     1000   52        NaN    Краснодар     Рафаил  Верещагин  2018-05-25   \n",
       "1     1001   41        NaN       Москва       Иван       Ежов  2018-11-01   \n",
       "2     1002   59        NaN  Стерлитамак    Евгений  Абрамович  2018-06-17   \n",
       "3     1003   23        NaN       Москва      Белла   Белякова  2018-08-17   \n",
       "4     1004   68        NaN  Новокузнецк    Татьяна   Авдеенко  2018-05-14   \n",
       "\n",
       "  tariff  \n",
       "0  ultra  \n",
       "1  smart  \n",
       "2  smart  \n",
       "3  ultra  \n",
       "4  ultra  "
      ]
     },
     "execution_count": 133,
     "metadata": {},
     "output_type": "execute_result"
    }
   ],
   "source": [
    "# получение первых 5 строк таблицы users\n",
    "users.head()"
   ]
  },
  {
   "cell_type": "markdown",
   "metadata": {},
   "source": [
    "Интересуют нас данные только в столбцах `user_id`, `city`, `tariff`."
   ]
  },
  {
   "cell_type": "code",
   "execution_count": 134,
   "metadata": {},
   "outputs": [
    {
     "data": {
      "text/html": [
       "<div>\n",
       "<style scoped>\n",
       "    .dataframe tbody tr th:only-of-type {\n",
       "        vertical-align: middle;\n",
       "    }\n",
       "\n",
       "    .dataframe tbody tr th {\n",
       "        vertical-align: top;\n",
       "    }\n",
       "\n",
       "    .dataframe thead th {\n",
       "        text-align: right;\n",
       "    }\n",
       "</style>\n",
       "<table border=\"1\" class=\"dataframe\">\n",
       "  <thead>\n",
       "    <tr style=\"text-align: right;\">\n",
       "      <th></th>\n",
       "      <th>user_id</th>\n",
       "      <th>city</th>\n",
       "      <th>tariff</th>\n",
       "    </tr>\n",
       "  </thead>\n",
       "  <tbody>\n",
       "    <tr>\n",
       "      <td>0</td>\n",
       "      <td>1000</td>\n",
       "      <td>Краснодар</td>\n",
       "      <td>ultra</td>\n",
       "    </tr>\n",
       "    <tr>\n",
       "      <td>1</td>\n",
       "      <td>1001</td>\n",
       "      <td>Москва</td>\n",
       "      <td>smart</td>\n",
       "    </tr>\n",
       "    <tr>\n",
       "      <td>2</td>\n",
       "      <td>1002</td>\n",
       "      <td>Стерлитамак</td>\n",
       "      <td>smart</td>\n",
       "    </tr>\n",
       "    <tr>\n",
       "      <td>3</td>\n",
       "      <td>1003</td>\n",
       "      <td>Москва</td>\n",
       "      <td>ultra</td>\n",
       "    </tr>\n",
       "    <tr>\n",
       "      <td>4</td>\n",
       "      <td>1004</td>\n",
       "      <td>Новокузнецк</td>\n",
       "      <td>ultra</td>\n",
       "    </tr>\n",
       "  </tbody>\n",
       "</table>\n",
       "</div>"
      ],
      "text/plain": [
       "   user_id         city tariff\n",
       "0     1000    Краснодар  ultra\n",
       "1     1001       Москва  smart\n",
       "2     1002  Стерлитамак  smart\n",
       "3     1003       Москва  ultra\n",
       "4     1004  Новокузнецк  ultra"
      ]
     },
     "execution_count": 134,
     "metadata": {},
     "output_type": "execute_result"
    }
   ],
   "source": [
    "#сокращаем таблицу\n",
    "users2 = users[['user_id', 'city', 'tariff']]\n",
    "# получение первых 5 строк таблицы users\n",
    "users2.head()"
   ]
  },
  {
   "cell_type": "markdown",
   "metadata": {},
   "source": [
    "Теперь нужно объединить эту таблицу с таблицей tariffs"
   ]
  },
  {
   "cell_type": "code",
   "execution_count": 135,
   "metadata": {},
   "outputs": [],
   "source": [
    "#объединяем таблицы\n",
    "users2 = users2.merge(tariffs, on='tariff', how='outer') "
   ]
  },
  {
   "cell_type": "markdown",
   "metadata": {},
   "source": [
    "Поскольку мы планируем вдальнейшем создавать сводные таблицы, где user_id будет индексом, то нужно сразу превартить этот столбец в индекс, чтобы затем объединить данный датасет с получившимися сводными таблицами. Поможет нам в этом метод set_index()."
   ]
  },
  {
   "cell_type": "code",
   "execution_count": 136,
   "metadata": {},
   "outputs": [],
   "source": [
    "#меняем индексы в датасете\n",
    "users2.set_index('user_id', inplace=True)"
   ]
  },
  {
   "cell_type": "code",
   "execution_count": 137,
   "metadata": {},
   "outputs": [
    {
     "data": {
      "text/html": [
       "<div>\n",
       "<style scoped>\n",
       "    .dataframe tbody tr th:only-of-type {\n",
       "        vertical-align: middle;\n",
       "    }\n",
       "\n",
       "    .dataframe tbody tr th {\n",
       "        vertical-align: top;\n",
       "    }\n",
       "\n",
       "    .dataframe thead th {\n",
       "        text-align: right;\n",
       "    }\n",
       "</style>\n",
       "<table border=\"1\" class=\"dataframe\">\n",
       "  <thead>\n",
       "    <tr style=\"text-align: right;\">\n",
       "      <th></th>\n",
       "      <th>city</th>\n",
       "      <th>tariff</th>\n",
       "      <th>messages_included</th>\n",
       "      <th>gb_per_month_included</th>\n",
       "      <th>minutes_included</th>\n",
       "      <th>rub_monthly_fee</th>\n",
       "      <th>rub_per_gb</th>\n",
       "      <th>rub_per_message</th>\n",
       "      <th>rub_per_minute</th>\n",
       "    </tr>\n",
       "    <tr>\n",
       "      <th>user_id</th>\n",
       "      <th></th>\n",
       "      <th></th>\n",
       "      <th></th>\n",
       "      <th></th>\n",
       "      <th></th>\n",
       "      <th></th>\n",
       "      <th></th>\n",
       "      <th></th>\n",
       "      <th></th>\n",
       "    </tr>\n",
       "  </thead>\n",
       "  <tbody>\n",
       "    <tr>\n",
       "      <td>1000</td>\n",
       "      <td>Краснодар</td>\n",
       "      <td>ultra</td>\n",
       "      <td>1000</td>\n",
       "      <td>30</td>\n",
       "      <td>3000</td>\n",
       "      <td>1950</td>\n",
       "      <td>150</td>\n",
       "      <td>1</td>\n",
       "      <td>1</td>\n",
       "    </tr>\n",
       "    <tr>\n",
       "      <td>1003</td>\n",
       "      <td>Москва</td>\n",
       "      <td>ultra</td>\n",
       "      <td>1000</td>\n",
       "      <td>30</td>\n",
       "      <td>3000</td>\n",
       "      <td>1950</td>\n",
       "      <td>150</td>\n",
       "      <td>1</td>\n",
       "      <td>1</td>\n",
       "    </tr>\n",
       "    <tr>\n",
       "      <td>1004</td>\n",
       "      <td>Новокузнецк</td>\n",
       "      <td>ultra</td>\n",
       "      <td>1000</td>\n",
       "      <td>30</td>\n",
       "      <td>3000</td>\n",
       "      <td>1950</td>\n",
       "      <td>150</td>\n",
       "      <td>1</td>\n",
       "      <td>1</td>\n",
       "    </tr>\n",
       "    <tr>\n",
       "      <td>1013</td>\n",
       "      <td>Иваново</td>\n",
       "      <td>ultra</td>\n",
       "      <td>1000</td>\n",
       "      <td>30</td>\n",
       "      <td>3000</td>\n",
       "      <td>1950</td>\n",
       "      <td>150</td>\n",
       "      <td>1</td>\n",
       "      <td>1</td>\n",
       "    </tr>\n",
       "    <tr>\n",
       "      <td>1016</td>\n",
       "      <td>Омск</td>\n",
       "      <td>ultra</td>\n",
       "      <td>1000</td>\n",
       "      <td>30</td>\n",
       "      <td>3000</td>\n",
       "      <td>1950</td>\n",
       "      <td>150</td>\n",
       "      <td>1</td>\n",
       "      <td>1</td>\n",
       "    </tr>\n",
       "  </tbody>\n",
       "</table>\n",
       "</div>"
      ],
      "text/plain": [
       "                city tariff  messages_included  gb_per_month_included  \\\n",
       "user_id                                                                 \n",
       "1000       Краснодар  ultra               1000                     30   \n",
       "1003          Москва  ultra               1000                     30   \n",
       "1004     Новокузнецк  ultra               1000                     30   \n",
       "1013         Иваново  ultra               1000                     30   \n",
       "1016            Омск  ultra               1000                     30   \n",
       "\n",
       "         minutes_included  rub_monthly_fee  rub_per_gb  rub_per_message  \\\n",
       "user_id                                                                   \n",
       "1000                 3000             1950         150                1   \n",
       "1003                 3000             1950         150                1   \n",
       "1004                 3000             1950         150                1   \n",
       "1013                 3000             1950         150                1   \n",
       "1016                 3000             1950         150                1   \n",
       "\n",
       "         rub_per_minute  \n",
       "user_id                  \n",
       "1000                  1  \n",
       "1003                  1  \n",
       "1004                  1  \n",
       "1013                  1  \n",
       "1016                  1  "
      ]
     },
     "execution_count": 137,
     "metadata": {},
     "output_type": "execute_result"
    }
   ],
   "source": [
    "# получение первых 5 строк таблицы users\n",
    "users2.head()"
   ]
  },
  {
   "cell_type": "markdown",
   "metadata": {},
   "source": [
    "## Датасет calls"
   ]
  },
  {
   "cell_type": "markdown",
   "metadata": {},
   "source": [
    "Для наглядности выведем первые 5 строк таблицы `calls` на экран."
   ]
  },
  {
   "cell_type": "code",
   "execution_count": 138,
   "metadata": {},
   "outputs": [
    {
     "data": {
      "text/html": [
       "<div>\n",
       "<style scoped>\n",
       "    .dataframe tbody tr th:only-of-type {\n",
       "        vertical-align: middle;\n",
       "    }\n",
       "\n",
       "    .dataframe tbody tr th {\n",
       "        vertical-align: top;\n",
       "    }\n",
       "\n",
       "    .dataframe thead th {\n",
       "        text-align: right;\n",
       "    }\n",
       "</style>\n",
       "<table border=\"1\" class=\"dataframe\">\n",
       "  <thead>\n",
       "    <tr style=\"text-align: right;\">\n",
       "      <th></th>\n",
       "      <th>id</th>\n",
       "      <th>call_date</th>\n",
       "      <th>duration</th>\n",
       "      <th>user_id</th>\n",
       "    </tr>\n",
       "  </thead>\n",
       "  <tbody>\n",
       "    <tr>\n",
       "      <td>0</td>\n",
       "      <td>1000_0</td>\n",
       "      <td>2018-07-25</td>\n",
       "      <td>0.00</td>\n",
       "      <td>1000</td>\n",
       "    </tr>\n",
       "    <tr>\n",
       "      <td>1</td>\n",
       "      <td>1000_1</td>\n",
       "      <td>2018-08-17</td>\n",
       "      <td>0.00</td>\n",
       "      <td>1000</td>\n",
       "    </tr>\n",
       "    <tr>\n",
       "      <td>2</td>\n",
       "      <td>1000_2</td>\n",
       "      <td>2018-06-11</td>\n",
       "      <td>2.85</td>\n",
       "      <td>1000</td>\n",
       "    </tr>\n",
       "    <tr>\n",
       "      <td>3</td>\n",
       "      <td>1000_3</td>\n",
       "      <td>2018-09-21</td>\n",
       "      <td>13.80</td>\n",
       "      <td>1000</td>\n",
       "    </tr>\n",
       "    <tr>\n",
       "      <td>4</td>\n",
       "      <td>1000_4</td>\n",
       "      <td>2018-12-15</td>\n",
       "      <td>5.18</td>\n",
       "      <td>1000</td>\n",
       "    </tr>\n",
       "  </tbody>\n",
       "</table>\n",
       "</div>"
      ],
      "text/plain": [
       "       id   call_date  duration  user_id\n",
       "0  1000_0  2018-07-25      0.00     1000\n",
       "1  1000_1  2018-08-17      0.00     1000\n",
       "2  1000_2  2018-06-11      2.85     1000\n",
       "3  1000_3  2018-09-21     13.80     1000\n",
       "4  1000_4  2018-12-15      5.18     1000"
      ]
     },
     "execution_count": 138,
     "metadata": {},
     "output_type": "execute_result"
    }
   ],
   "source": [
    "#выводим первые 5 строк на экран\n",
    "calls.head()"
   ]
  },
  {
   "cell_type": "markdown",
   "metadata": {},
   "source": [
    "Разберемся с датасетом **calls**.\n",
    "\n",
    "Мы уже выяснили, что пропусков в таблице нет. Проверим датасет на наличие дубликатов и заменим типы данных в столбцах durtion и call_date."
   ]
  },
  {
   "cell_type": "markdown",
   "metadata": {},
   "source": [
    "Работая со столбцем `call_date` нам нужно будет перевести значения столбца в нужный формат и вывести не конкретную дату, а только месяц.\n",
    "\n",
    "Данные в данном столбце представлены в формате Год-Месяц-День. \n",
    "\n",
    "Используем конструкцию pd.to_datetime(), чтобы перевести значения в формат datetime64. Затем с помощью атрибута dt.month выведем месяц звонка. Атрибут dt указывает, что тип данных, к которым будут применены методы, — datetime. А значит, pandas не примет их за строки или числа.\n"
   ]
  },
  {
   "cell_type": "code",
   "execution_count": 139,
   "metadata": {},
   "outputs": [],
   "source": [
    "#меняем формат данных и выводим месяц звонка\n",
    "calls['call_date'] = pd.to_datetime(calls['call_date'], format='%Y-%m-%d').dt.month"
   ]
  },
  {
   "cell_type": "code",
   "execution_count": 140,
   "metadata": {},
   "outputs": [],
   "source": [
    "#переименовываем название столбца\n",
    "calls = calls.rename(columns={'call_date':'month'})"
   ]
  },
  {
   "cell_type": "markdown",
   "metadata": {},
   "source": [
    "Теперь разберемся со столбцем `duration`. Нужно будет округлить все значения в большую сторону и затем привести значения к типу int.\n",
    "\n",
    "В первом случае нам поможет метод ceil() из библиотеки numpy, а во втором - конструкция .astype('int')"
   ]
  },
  {
   "cell_type": "code",
   "execution_count": 141,
   "metadata": {},
   "outputs": [],
   "source": [
    "#округляем в большую сторону и заменяем тип данных\n",
    "calls['duration'] = np.ceil(calls['duration']).astype('int')"
   ]
  },
  {
   "cell_type": "code",
   "execution_count": 142,
   "metadata": {},
   "outputs": [
    {
     "data": {
      "text/html": [
       "<div>\n",
       "<style scoped>\n",
       "    .dataframe tbody tr th:only-of-type {\n",
       "        vertical-align: middle;\n",
       "    }\n",
       "\n",
       "    .dataframe tbody tr th {\n",
       "        vertical-align: top;\n",
       "    }\n",
       "\n",
       "    .dataframe thead th {\n",
       "        text-align: right;\n",
       "    }\n",
       "</style>\n",
       "<table border=\"1\" class=\"dataframe\">\n",
       "  <thead>\n",
       "    <tr style=\"text-align: right;\">\n",
       "      <th></th>\n",
       "      <th>id</th>\n",
       "      <th>month</th>\n",
       "      <th>duration</th>\n",
       "      <th>user_id</th>\n",
       "    </tr>\n",
       "  </thead>\n",
       "  <tbody>\n",
       "    <tr>\n",
       "      <td>0</td>\n",
       "      <td>1000_0</td>\n",
       "      <td>7</td>\n",
       "      <td>0</td>\n",
       "      <td>1000</td>\n",
       "    </tr>\n",
       "    <tr>\n",
       "      <td>1</td>\n",
       "      <td>1000_1</td>\n",
       "      <td>8</td>\n",
       "      <td>0</td>\n",
       "      <td>1000</td>\n",
       "    </tr>\n",
       "    <tr>\n",
       "      <td>2</td>\n",
       "      <td>1000_2</td>\n",
       "      <td>6</td>\n",
       "      <td>3</td>\n",
       "      <td>1000</td>\n",
       "    </tr>\n",
       "    <tr>\n",
       "      <td>3</td>\n",
       "      <td>1000_3</td>\n",
       "      <td>9</td>\n",
       "      <td>14</td>\n",
       "      <td>1000</td>\n",
       "    </tr>\n",
       "    <tr>\n",
       "      <td>4</td>\n",
       "      <td>1000_4</td>\n",
       "      <td>12</td>\n",
       "      <td>6</td>\n",
       "      <td>1000</td>\n",
       "    </tr>\n",
       "  </tbody>\n",
       "</table>\n",
       "</div>"
      ],
      "text/plain": [
       "       id  month  duration  user_id\n",
       "0  1000_0      7         0     1000\n",
       "1  1000_1      8         0     1000\n",
       "2  1000_2      6         3     1000\n",
       "3  1000_3      9        14     1000\n",
       "4  1000_4     12         6     1000"
      ]
     },
     "execution_count": 142,
     "metadata": {},
     "output_type": "execute_result"
    }
   ],
   "source": [
    "#выводим первые 5 строк таблицы\n",
    "calls.head()"
   ]
  },
  {
   "cell_type": "markdown",
   "metadata": {},
   "source": [
    "Таблица прекрасна! Из первого шага мы помним, что пропусков в ней нет. Проверим наличие дубликатов."
   ]
  },
  {
   "cell_type": "code",
   "execution_count": 143,
   "metadata": {},
   "outputs": [
    {
     "data": {
      "text/plain": [
       "0"
      ]
     },
     "execution_count": 143,
     "metadata": {},
     "output_type": "execute_result"
    }
   ],
   "source": [
    "#считаем дубликаты\n",
    "calls.duplicated().sum()"
   ]
  },
  {
   "cell_type": "markdown",
   "metadata": {},
   "source": [
    "Дубликатов тоже нет. Теперь можно на основе этого датасета создать сводную таблицу по айди пользователя и месяцам, внутри которой будут представлено суммарное время звонков. Так мы получим таблицу, из которой увидим, сколько потратил каждый пользователь на звонок за каждый месяц."
   ]
  },
  {
   "cell_type": "code",
   "execution_count": 144,
   "metadata": {
    "scrolled": false
   },
   "outputs": [
    {
     "data": {
      "text/html": [
       "<div>\n",
       "<style scoped>\n",
       "    .dataframe tbody tr th:only-of-type {\n",
       "        vertical-align: middle;\n",
       "    }\n",
       "\n",
       "    .dataframe tbody tr th {\n",
       "        vertical-align: top;\n",
       "    }\n",
       "\n",
       "    .dataframe thead th {\n",
       "        text-align: right;\n",
       "    }\n",
       "</style>\n",
       "<table border=\"1\" class=\"dataframe\">\n",
       "  <thead>\n",
       "    <tr style=\"text-align: right;\">\n",
       "      <th></th>\n",
       "      <th></th>\n",
       "      <th>call_time</th>\n",
       "    </tr>\n",
       "    <tr>\n",
       "      <th>user_id</th>\n",
       "      <th>month</th>\n",
       "      <th></th>\n",
       "    </tr>\n",
       "  </thead>\n",
       "  <tbody>\n",
       "    <tr>\n",
       "      <td rowspan=\"8\" valign=\"top\">1000</td>\n",
       "      <td>5</td>\n",
       "      <td>159</td>\n",
       "    </tr>\n",
       "    <tr>\n",
       "      <td>6</td>\n",
       "      <td>172</td>\n",
       "    </tr>\n",
       "    <tr>\n",
       "      <td>7</td>\n",
       "      <td>340</td>\n",
       "    </tr>\n",
       "    <tr>\n",
       "      <td>8</td>\n",
       "      <td>408</td>\n",
       "    </tr>\n",
       "    <tr>\n",
       "      <td>9</td>\n",
       "      <td>466</td>\n",
       "    </tr>\n",
       "    <tr>\n",
       "      <td>10</td>\n",
       "      <td>350</td>\n",
       "    </tr>\n",
       "    <tr>\n",
       "      <td>11</td>\n",
       "      <td>338</td>\n",
       "    </tr>\n",
       "    <tr>\n",
       "      <td>12</td>\n",
       "      <td>333</td>\n",
       "    </tr>\n",
       "    <tr>\n",
       "      <td rowspan=\"2\" valign=\"top\">1001</td>\n",
       "      <td>11</td>\n",
       "      <td>430</td>\n",
       "    </tr>\n",
       "    <tr>\n",
       "      <td>12</td>\n",
       "      <td>414</td>\n",
       "    </tr>\n",
       "  </tbody>\n",
       "</table>\n",
       "</div>"
      ],
      "text/plain": [
       "               call_time\n",
       "user_id month           \n",
       "1000    5            159\n",
       "        6            172\n",
       "        7            340\n",
       "        8            408\n",
       "        9            466\n",
       "        10           350\n",
       "        11           338\n",
       "        12           333\n",
       "1001    11           430\n",
       "        12           414"
      ]
     },
     "execution_count": 144,
     "metadata": {},
     "output_type": "execute_result"
    }
   ],
   "source": [
    "#создаем сводную таблицу\n",
    "calls_pivot = calls.pivot_table(index=['user_id', 'month'], values='duration', aggfunc='sum')\n",
    "#переименуем столбец\n",
    "calls_pivot.columns = ['call_time'] \n",
    "#выводим первые 10 строк на экран\n",
    "calls_pivot.head(10)"
   ]
  },
  {
   "cell_type": "markdown",
   "metadata": {},
   "source": [
    "## Датасет internet"
   ]
  },
  {
   "cell_type": "markdown",
   "metadata": {},
   "source": [
    "Для наглядности выведем первые 5 строк таблицы `internet` на экран."
   ]
  },
  {
   "cell_type": "code",
   "execution_count": 145,
   "metadata": {},
   "outputs": [
    {
     "data": {
      "text/html": [
       "<div>\n",
       "<style scoped>\n",
       "    .dataframe tbody tr th:only-of-type {\n",
       "        vertical-align: middle;\n",
       "    }\n",
       "\n",
       "    .dataframe tbody tr th {\n",
       "        vertical-align: top;\n",
       "    }\n",
       "\n",
       "    .dataframe thead th {\n",
       "        text-align: right;\n",
       "    }\n",
       "</style>\n",
       "<table border=\"1\" class=\"dataframe\">\n",
       "  <thead>\n",
       "    <tr style=\"text-align: right;\">\n",
       "      <th></th>\n",
       "      <th>Unnamed: 0</th>\n",
       "      <th>id</th>\n",
       "      <th>mb_used</th>\n",
       "      <th>session_date</th>\n",
       "      <th>user_id</th>\n",
       "    </tr>\n",
       "  </thead>\n",
       "  <tbody>\n",
       "    <tr>\n",
       "      <td>0</td>\n",
       "      <td>0</td>\n",
       "      <td>1000_0</td>\n",
       "      <td>112.95</td>\n",
       "      <td>2018-11-25</td>\n",
       "      <td>1000</td>\n",
       "    </tr>\n",
       "    <tr>\n",
       "      <td>1</td>\n",
       "      <td>1</td>\n",
       "      <td>1000_1</td>\n",
       "      <td>1052.81</td>\n",
       "      <td>2018-09-07</td>\n",
       "      <td>1000</td>\n",
       "    </tr>\n",
       "    <tr>\n",
       "      <td>2</td>\n",
       "      <td>2</td>\n",
       "      <td>1000_2</td>\n",
       "      <td>1197.26</td>\n",
       "      <td>2018-06-25</td>\n",
       "      <td>1000</td>\n",
       "    </tr>\n",
       "    <tr>\n",
       "      <td>3</td>\n",
       "      <td>3</td>\n",
       "      <td>1000_3</td>\n",
       "      <td>550.27</td>\n",
       "      <td>2018-08-22</td>\n",
       "      <td>1000</td>\n",
       "    </tr>\n",
       "    <tr>\n",
       "      <td>4</td>\n",
       "      <td>4</td>\n",
       "      <td>1000_4</td>\n",
       "      <td>302.56</td>\n",
       "      <td>2018-09-24</td>\n",
       "      <td>1000</td>\n",
       "    </tr>\n",
       "  </tbody>\n",
       "</table>\n",
       "</div>"
      ],
      "text/plain": [
       "   Unnamed: 0      id  mb_used session_date  user_id\n",
       "0           0  1000_0   112.95   2018-11-25     1000\n",
       "1           1  1000_1  1052.81   2018-09-07     1000\n",
       "2           2  1000_2  1197.26   2018-06-25     1000\n",
       "3           3  1000_3   550.27   2018-08-22     1000\n",
       "4           4  1000_4   302.56   2018-09-24     1000"
      ]
     },
     "execution_count": 145,
     "metadata": {},
     "output_type": "execute_result"
    }
   ],
   "source": [
    "#выводим первые 5 строк на экран\n",
    "internet.head()"
   ]
  },
  {
   "cell_type": "markdown",
   "metadata": {},
   "source": [
    "Нам необходимо по аналогии со звонками изменить столбец `session_date`, приведя его к нужному типу и выведя месяц, а затем округлить и привести к нужному типу значения столбца `mb_used`. \n",
    "\n",
    "Данные в  столбце `session_date` так же представлены в формате Год-Месяц-День."
   ]
  },
  {
   "cell_type": "code",
   "execution_count": 146,
   "metadata": {},
   "outputs": [],
   "source": [
    "#меняем формат данных и выводим месяц интернет-сессии\n",
    "internet['session_date'] = pd.to_datetime(internet['session_date'], format='%Y-%m-%d').dt.month"
   ]
  },
  {
   "cell_type": "code",
   "execution_count": 147,
   "metadata": {},
   "outputs": [],
   "source": [
    "#переименовываем название столбца\n",
    "internet = internet.rename(columns={'session_date':'month'})"
   ]
  },
  {
   "cell_type": "markdown",
   "metadata": {},
   "source": [
    "Округлять `mb_used` еще рано, поскольку окргуление происходит в месяц, а не за сессию"
   ]
  },
  {
   "cell_type": "code",
   "execution_count": 148,
   "metadata": {},
   "outputs": [
    {
     "data": {
      "text/html": [
       "<div>\n",
       "<style scoped>\n",
       "    .dataframe tbody tr th:only-of-type {\n",
       "        vertical-align: middle;\n",
       "    }\n",
       "\n",
       "    .dataframe tbody tr th {\n",
       "        vertical-align: top;\n",
       "    }\n",
       "\n",
       "    .dataframe thead th {\n",
       "        text-align: right;\n",
       "    }\n",
       "</style>\n",
       "<table border=\"1\" class=\"dataframe\">\n",
       "  <thead>\n",
       "    <tr style=\"text-align: right;\">\n",
       "      <th></th>\n",
       "      <th>Unnamed: 0</th>\n",
       "      <th>id</th>\n",
       "      <th>mb_used</th>\n",
       "      <th>month</th>\n",
       "      <th>user_id</th>\n",
       "    </tr>\n",
       "  </thead>\n",
       "  <tbody>\n",
       "    <tr>\n",
       "      <td>0</td>\n",
       "      <td>0</td>\n",
       "      <td>1000_0</td>\n",
       "      <td>112.95</td>\n",
       "      <td>11</td>\n",
       "      <td>1000</td>\n",
       "    </tr>\n",
       "    <tr>\n",
       "      <td>1</td>\n",
       "      <td>1</td>\n",
       "      <td>1000_1</td>\n",
       "      <td>1052.81</td>\n",
       "      <td>9</td>\n",
       "      <td>1000</td>\n",
       "    </tr>\n",
       "    <tr>\n",
       "      <td>2</td>\n",
       "      <td>2</td>\n",
       "      <td>1000_2</td>\n",
       "      <td>1197.26</td>\n",
       "      <td>6</td>\n",
       "      <td>1000</td>\n",
       "    </tr>\n",
       "    <tr>\n",
       "      <td>3</td>\n",
       "      <td>3</td>\n",
       "      <td>1000_3</td>\n",
       "      <td>550.27</td>\n",
       "      <td>8</td>\n",
       "      <td>1000</td>\n",
       "    </tr>\n",
       "    <tr>\n",
       "      <td>4</td>\n",
       "      <td>4</td>\n",
       "      <td>1000_4</td>\n",
       "      <td>302.56</td>\n",
       "      <td>9</td>\n",
       "      <td>1000</td>\n",
       "    </tr>\n",
       "  </tbody>\n",
       "</table>\n",
       "</div>"
      ],
      "text/plain": [
       "   Unnamed: 0      id  mb_used  month  user_id\n",
       "0           0  1000_0   112.95     11     1000\n",
       "1           1  1000_1  1052.81      9     1000\n",
       "2           2  1000_2  1197.26      6     1000\n",
       "3           3  1000_3   550.27      8     1000\n",
       "4           4  1000_4   302.56      9     1000"
      ]
     },
     "execution_count": 148,
     "metadata": {},
     "output_type": "execute_result"
    }
   ],
   "source": [
    "#выводим первые 5 строк таблицы\n",
    "internet.head()"
   ]
  },
  {
   "cell_type": "markdown",
   "metadata": {},
   "source": [
    "Таблица прекрасна! Из первого шага мы помним, что пропусков в ней нет. Проверим наличие дубликатов."
   ]
  },
  {
   "cell_type": "code",
   "execution_count": 149,
   "metadata": {},
   "outputs": [
    {
     "data": {
      "text/plain": [
       "0"
      ]
     },
     "execution_count": 149,
     "metadata": {},
     "output_type": "execute_result"
    }
   ],
   "source": [
    "#считаем дубликаты\n",
    "internet.duplicated().sum()"
   ]
  },
  {
   "cell_type": "markdown",
   "metadata": {},
   "source": [
    "Дубликатов тоже нет. Теперь можно на основе этого датасета создать сводную таблицу по айди пользователя и месяцам, внутри которой будут представлено суммарное количество расстраченных гигабайт. Так мы получим таблицу, из которой увидим, сколько гб потратил каждый пользователь за каждый месяц.  Столбец же `Unnamed: 0` мы трогать не будем, поскольку нам он и не нужен в сводной таблице.\n",
    "\n",
    "Также в самой сводной таблице переведем мегабайты в гигабайты. В одном гб 1024 мб. Поэтому поделим суммарное использование пользователем за месяц количества мб на 1024, а затем полученный результат округлим в большую сторону, приведя значения к типу int."
   ]
  },
  {
   "cell_type": "code",
   "execution_count": 150,
   "metadata": {
    "scrolled": true
   },
   "outputs": [
    {
     "data": {
      "text/html": [
       "<div>\n",
       "<style scoped>\n",
       "    .dataframe tbody tr th:only-of-type {\n",
       "        vertical-align: middle;\n",
       "    }\n",
       "\n",
       "    .dataframe tbody tr th {\n",
       "        vertical-align: top;\n",
       "    }\n",
       "\n",
       "    .dataframe thead th {\n",
       "        text-align: right;\n",
       "    }\n",
       "</style>\n",
       "<table border=\"1\" class=\"dataframe\">\n",
       "  <thead>\n",
       "    <tr style=\"text-align: right;\">\n",
       "      <th></th>\n",
       "      <th></th>\n",
       "      <th>gb_used</th>\n",
       "    </tr>\n",
       "    <tr>\n",
       "      <th>user_id</th>\n",
       "      <th>month</th>\n",
       "      <th></th>\n",
       "    </tr>\n",
       "  </thead>\n",
       "  <tbody>\n",
       "    <tr>\n",
       "      <td rowspan=\"8\" valign=\"top\">1000</td>\n",
       "      <td>5</td>\n",
       "      <td>3</td>\n",
       "    </tr>\n",
       "    <tr>\n",
       "      <td>6</td>\n",
       "      <td>23</td>\n",
       "    </tr>\n",
       "    <tr>\n",
       "      <td>7</td>\n",
       "      <td>14</td>\n",
       "    </tr>\n",
       "    <tr>\n",
       "      <td>8</td>\n",
       "      <td>14</td>\n",
       "    </tr>\n",
       "    <tr>\n",
       "      <td>9</td>\n",
       "      <td>15</td>\n",
       "    </tr>\n",
       "    <tr>\n",
       "      <td>10</td>\n",
       "      <td>15</td>\n",
       "    </tr>\n",
       "    <tr>\n",
       "      <td>11</td>\n",
       "      <td>15</td>\n",
       "    </tr>\n",
       "    <tr>\n",
       "      <td>12</td>\n",
       "      <td>10</td>\n",
       "    </tr>\n",
       "    <tr>\n",
       "      <td rowspan=\"2\" valign=\"top\">1001</td>\n",
       "      <td>11</td>\n",
       "      <td>18</td>\n",
       "    </tr>\n",
       "    <tr>\n",
       "      <td>12</td>\n",
       "      <td>14</td>\n",
       "    </tr>\n",
       "  </tbody>\n",
       "</table>\n",
       "</div>"
      ],
      "text/plain": [
       "               gb_used\n",
       "user_id month         \n",
       "1000    5            3\n",
       "        6           23\n",
       "        7           14\n",
       "        8           14\n",
       "        9           15\n",
       "        10          15\n",
       "        11          15\n",
       "        12          10\n",
       "1001    11          18\n",
       "        12          14"
      ]
     },
     "execution_count": 150,
     "metadata": {},
     "output_type": "execute_result"
    }
   ],
   "source": [
    "#создаем сводную таблицу\n",
    "internet_pivot = internet.pivot_table(index=['user_id', 'month'], values='mb_used', aggfunc='sum')\n",
    "#переименуем столбец\n",
    "internet_pivot.columns = ['gb_used'] \n",
    "#переводим мегабайты в гигабайты\n",
    "internet_pivot['gb_used'] = np.ceil((internet_pivot['gb_used']/1024)).astype('int')\n",
    "#выводим первые 10 строк на экран\n",
    "internet_pivot.head(10)"
   ]
  },
  {
   "cell_type": "markdown",
   "metadata": {},
   "source": [
    "## Датасет messages"
   ]
  },
  {
   "cell_type": "markdown",
   "metadata": {},
   "source": [
    "Для наглядности выведем первые 5 строк таблицы `messages` на экран."
   ]
  },
  {
   "cell_type": "code",
   "execution_count": 151,
   "metadata": {},
   "outputs": [
    {
     "data": {
      "text/html": [
       "<div>\n",
       "<style scoped>\n",
       "    .dataframe tbody tr th:only-of-type {\n",
       "        vertical-align: middle;\n",
       "    }\n",
       "\n",
       "    .dataframe tbody tr th {\n",
       "        vertical-align: top;\n",
       "    }\n",
       "\n",
       "    .dataframe thead th {\n",
       "        text-align: right;\n",
       "    }\n",
       "</style>\n",
       "<table border=\"1\" class=\"dataframe\">\n",
       "  <thead>\n",
       "    <tr style=\"text-align: right;\">\n",
       "      <th></th>\n",
       "      <th>id</th>\n",
       "      <th>message_date</th>\n",
       "      <th>user_id</th>\n",
       "    </tr>\n",
       "  </thead>\n",
       "  <tbody>\n",
       "    <tr>\n",
       "      <td>0</td>\n",
       "      <td>1000_0</td>\n",
       "      <td>2018-06-27</td>\n",
       "      <td>1000</td>\n",
       "    </tr>\n",
       "    <tr>\n",
       "      <td>1</td>\n",
       "      <td>1000_1</td>\n",
       "      <td>2018-10-08</td>\n",
       "      <td>1000</td>\n",
       "    </tr>\n",
       "    <tr>\n",
       "      <td>2</td>\n",
       "      <td>1000_2</td>\n",
       "      <td>2018-08-04</td>\n",
       "      <td>1000</td>\n",
       "    </tr>\n",
       "    <tr>\n",
       "      <td>3</td>\n",
       "      <td>1000_3</td>\n",
       "      <td>2018-06-16</td>\n",
       "      <td>1000</td>\n",
       "    </tr>\n",
       "    <tr>\n",
       "      <td>4</td>\n",
       "      <td>1000_4</td>\n",
       "      <td>2018-12-05</td>\n",
       "      <td>1000</td>\n",
       "    </tr>\n",
       "  </tbody>\n",
       "</table>\n",
       "</div>"
      ],
      "text/plain": [
       "       id message_date  user_id\n",
       "0  1000_0   2018-06-27     1000\n",
       "1  1000_1   2018-10-08     1000\n",
       "2  1000_2   2018-08-04     1000\n",
       "3  1000_3   2018-06-16     1000\n",
       "4  1000_4   2018-12-05     1000"
      ]
     },
     "execution_count": 151,
     "metadata": {},
     "output_type": "execute_result"
    }
   ],
   "source": [
    "#выводим первые 5 строк на экран\n",
    "messages.head()"
   ]
  },
  {
   "cell_type": "markdown",
   "metadata": {},
   "source": [
    "Нам необходимо по аналогии со звонками изменить столбец `message_date`, приведя его к нужному типу и выведя месяц.\n",
    "\n",
    "Данные в  столбце `message_date` так же представлены в формате Год-Месяц-День."
   ]
  },
  {
   "cell_type": "code",
   "execution_count": 152,
   "metadata": {},
   "outputs": [],
   "source": [
    "#меняем формат данных и выводим месяц отправки сообщения\n",
    "messages['message_date'] = pd.to_datetime(messages['message_date'], format='%Y-%m-%d').dt.month\n",
    "#переименовываем название столбца\n",
    "messages = messages.rename(columns={'message_date':'month'})"
   ]
  },
  {
   "cell_type": "code",
   "execution_count": 153,
   "metadata": {},
   "outputs": [
    {
     "data": {
      "text/html": [
       "<div>\n",
       "<style scoped>\n",
       "    .dataframe tbody tr th:only-of-type {\n",
       "        vertical-align: middle;\n",
       "    }\n",
       "\n",
       "    .dataframe tbody tr th {\n",
       "        vertical-align: top;\n",
       "    }\n",
       "\n",
       "    .dataframe thead th {\n",
       "        text-align: right;\n",
       "    }\n",
       "</style>\n",
       "<table border=\"1\" class=\"dataframe\">\n",
       "  <thead>\n",
       "    <tr style=\"text-align: right;\">\n",
       "      <th></th>\n",
       "      <th>id</th>\n",
       "      <th>month</th>\n",
       "      <th>user_id</th>\n",
       "    </tr>\n",
       "  </thead>\n",
       "  <tbody>\n",
       "    <tr>\n",
       "      <td>0</td>\n",
       "      <td>1000_0</td>\n",
       "      <td>6</td>\n",
       "      <td>1000</td>\n",
       "    </tr>\n",
       "    <tr>\n",
       "      <td>1</td>\n",
       "      <td>1000_1</td>\n",
       "      <td>10</td>\n",
       "      <td>1000</td>\n",
       "    </tr>\n",
       "    <tr>\n",
       "      <td>2</td>\n",
       "      <td>1000_2</td>\n",
       "      <td>8</td>\n",
       "      <td>1000</td>\n",
       "    </tr>\n",
       "    <tr>\n",
       "      <td>3</td>\n",
       "      <td>1000_3</td>\n",
       "      <td>6</td>\n",
       "      <td>1000</td>\n",
       "    </tr>\n",
       "    <tr>\n",
       "      <td>4</td>\n",
       "      <td>1000_4</td>\n",
       "      <td>12</td>\n",
       "      <td>1000</td>\n",
       "    </tr>\n",
       "  </tbody>\n",
       "</table>\n",
       "</div>"
      ],
      "text/plain": [
       "       id  month  user_id\n",
       "0  1000_0      6     1000\n",
       "1  1000_1     10     1000\n",
       "2  1000_2      8     1000\n",
       "3  1000_3      6     1000\n",
       "4  1000_4     12     1000"
      ]
     },
     "execution_count": 153,
     "metadata": {},
     "output_type": "execute_result"
    }
   ],
   "source": [
    "#выводим первые 5 строк таблицы\n",
    "messages.head()"
   ]
  },
  {
   "cell_type": "markdown",
   "metadata": {},
   "source": [
    "Таблица прекрасна! Из первого шага мы помним, что пропусков в ней нет. Проверим наличие дубликатов."
   ]
  },
  {
   "cell_type": "code",
   "execution_count": 154,
   "metadata": {},
   "outputs": [
    {
     "data": {
      "text/plain": [
       "0"
      ]
     },
     "execution_count": 154,
     "metadata": {},
     "output_type": "execute_result"
    }
   ],
   "source": [
    "#считаем дубликаты\n",
    "messages.duplicated().sum()"
   ]
  },
  {
   "cell_type": "markdown",
   "metadata": {},
   "source": [
    "Дубликатов тоже нет. Теперь можно на основе этого датасета создать сводную таблицу по айди пользователя и месяцам, внутри которой будут представлено суммарное количество отправленных сообщений. Так мы получим таблицу, из которой увидим, сколько сообщений отправил каждый пользователь за каждый месяц. "
   ]
  },
  {
   "cell_type": "code",
   "execution_count": 155,
   "metadata": {
    "scrolled": true
   },
   "outputs": [
    {
     "data": {
      "text/html": [
       "<div>\n",
       "<style scoped>\n",
       "    .dataframe tbody tr th:only-of-type {\n",
       "        vertical-align: middle;\n",
       "    }\n",
       "\n",
       "    .dataframe tbody tr th {\n",
       "        vertical-align: top;\n",
       "    }\n",
       "\n",
       "    .dataframe thead th {\n",
       "        text-align: right;\n",
       "    }\n",
       "</style>\n",
       "<table border=\"1\" class=\"dataframe\">\n",
       "  <thead>\n",
       "    <tr style=\"text-align: right;\">\n",
       "      <th></th>\n",
       "      <th></th>\n",
       "      <th>messages</th>\n",
       "    </tr>\n",
       "    <tr>\n",
       "      <th>user_id</th>\n",
       "      <th>month</th>\n",
       "      <th></th>\n",
       "    </tr>\n",
       "  </thead>\n",
       "  <tbody>\n",
       "    <tr>\n",
       "      <td rowspan=\"8\" valign=\"top\">1000</td>\n",
       "      <td>5</td>\n",
       "      <td>22</td>\n",
       "    </tr>\n",
       "    <tr>\n",
       "      <td>6</td>\n",
       "      <td>60</td>\n",
       "    </tr>\n",
       "    <tr>\n",
       "      <td>7</td>\n",
       "      <td>75</td>\n",
       "    </tr>\n",
       "    <tr>\n",
       "      <td>8</td>\n",
       "      <td>81</td>\n",
       "    </tr>\n",
       "    <tr>\n",
       "      <td>9</td>\n",
       "      <td>57</td>\n",
       "    </tr>\n",
       "    <tr>\n",
       "      <td>10</td>\n",
       "      <td>73</td>\n",
       "    </tr>\n",
       "    <tr>\n",
       "      <td>11</td>\n",
       "      <td>58</td>\n",
       "    </tr>\n",
       "    <tr>\n",
       "      <td>12</td>\n",
       "      <td>70</td>\n",
       "    </tr>\n",
       "    <tr>\n",
       "      <td rowspan=\"2\" valign=\"top\">1002</td>\n",
       "      <td>6</td>\n",
       "      <td>4</td>\n",
       "    </tr>\n",
       "    <tr>\n",
       "      <td>7</td>\n",
       "      <td>11</td>\n",
       "    </tr>\n",
       "  </tbody>\n",
       "</table>\n",
       "</div>"
      ],
      "text/plain": [
       "               messages\n",
       "user_id month          \n",
       "1000    5            22\n",
       "        6            60\n",
       "        7            75\n",
       "        8            81\n",
       "        9            57\n",
       "        10           73\n",
       "        11           58\n",
       "        12           70\n",
       "1002    6             4\n",
       "        7            11"
      ]
     },
     "execution_count": 155,
     "metadata": {},
     "output_type": "execute_result"
    }
   ],
   "source": [
    "#создаем сводную таблицу\n",
    "messages_pivot = messages.pivot_table(index=['user_id', 'month'], values='id', aggfunc='count')\n",
    "#переименуем столбец\n",
    "messages_pivot.columns = ['messages'] \n",
    "#выводим первые 10 строк на экран\n",
    "messages_pivot.head(10)"
   ]
  },
  {
   "cell_type": "markdown",
   "metadata": {},
   "source": [
    "## Создание одной таблицы"
   ]
  },
  {
   "cell_type": "markdown",
   "metadata": {},
   "source": [
    "Для дальнейшей работы с данными нужно объединить полученные сводные таблицы. Поскольку в определенные месяцы пользователи могли не тратить гб, не писать смс или не звонить, а нам необходимы все данные, то зададим методу join() парамет how ='outer', который объединяет данные из внешней общей области — такие, которые есть хотя бы в одном из датафреймов. "
   ]
  },
  {
   "cell_type": "code",
   "execution_count": 156,
   "metadata": {},
   "outputs": [],
   "source": [
    "#объединяем таблицы со звонками, интернетом и сообщениями\n",
    "df = calls_pivot.join([internet_pivot,messages_pivot], how ='outer')"
   ]
  },
  {
   "cell_type": "markdown",
   "metadata": {},
   "source": [
    "Теперь объединяем получившийся датасет с датасетом users2. Делаем это мы после, потому что у первых трех таблиц есть два типа индексов, а у таблицы users2 - всего один. "
   ]
  },
  {
   "cell_type": "code",
   "execution_count": 157,
   "metadata": {},
   "outputs": [],
   "source": [
    "#объединяем таблицы со звонками, интернетом и сообщениями\n",
    "df = df.join(users2, how ='outer')"
   ]
  },
  {
   "cell_type": "markdown",
   "metadata": {},
   "source": [
    "Теперь мы получили одну целую таблицу с данными, которые нам пригодятся в исследовании. Однако, создается впечатление, что в ней есть пропуски, которые нужно устранить."
   ]
  },
  {
   "cell_type": "code",
   "execution_count": 158,
   "metadata": {},
   "outputs": [
    {
     "data": {
      "text/plain": [
       "call_time                 40\n",
       "gb_used                   11\n",
       "messages                 497\n",
       "city                       0\n",
       "tariff                     0\n",
       "messages_included          0\n",
       "gb_per_month_included      0\n",
       "minutes_included           0\n",
       "rub_monthly_fee            0\n",
       "rub_per_gb                 0\n",
       "rub_per_message            0\n",
       "rub_per_minute             0\n",
       "dtype: int64"
      ]
     },
     "execution_count": 158,
     "metadata": {},
     "output_type": "execute_result"
    }
   ],
   "source": [
    "#считаем пропуски\n",
    "df.isna().sum()"
   ]
  },
  {
   "cell_type": "markdown",
   "metadata": {},
   "source": [
    "Это связано с тем, что мы объединили все значения, а не только схожие. Поэтому получилось, что некоторые пользователи(497) не отправляли сообщения в какой-либо из месяцев, другие(11) вовсем не пользовались интернетом в какой-либо из месяцев, и третья группа(40) не звонили никому в один из месяцев. Это может быть связано со сменой оператора, потерей сим-карты и тд. В любом случае эти значения можно спокойно заменить на 0!"
   ]
  },
  {
   "cell_type": "code",
   "execution_count": 159,
   "metadata": {},
   "outputs": [],
   "source": [
    "#заменяем пропуски единицей\n",
    "df= df.fillna(0)\n",
    "#меняем тип данных, сбившийся после исбавления от пропусков\n",
    "df[['call_time', 'gb_used', 'messages']] = df[['call_time', 'gb_used', 'messages']].astype('int')"
   ]
  },
  {
   "cell_type": "code",
   "execution_count": 160,
   "metadata": {
    "scrolled": true
   },
   "outputs": [
    {
     "data": {
      "text/plain": [
       "call_time                0\n",
       "gb_used                  0\n",
       "messages                 0\n",
       "city                     0\n",
       "tariff                   0\n",
       "messages_included        0\n",
       "gb_per_month_included    0\n",
       "minutes_included         0\n",
       "rub_monthly_fee          0\n",
       "rub_per_gb               0\n",
       "rub_per_message          0\n",
       "rub_per_minute           0\n",
       "dtype: int64"
      ]
     },
     "execution_count": 160,
     "metadata": {},
     "output_type": "execute_result"
    }
   ],
   "source": [
    "#считаем пропуски\n",
    "df.isna().sum()"
   ]
  },
  {
   "cell_type": "markdown",
   "metadata": {},
   "source": [
    "Теперь наш датасет готов к работе!"
   ]
  },
  {
   "cell_type": "markdown",
   "metadata": {},
   "source": [
    "Теперь нам нужно рассчитать помесячную выручку с каждого пользователя (вычтим бесплатный лимит из суммарного количества звонков, сообщений и интернет-трафика; остаток умножим на значение из тарифного плана; прибавим абонентскую плату, соответствующую тарифному плану).\n",
    "\n",
    "Сделать это проще всего с помощью собственной функции."
   ]
  },
  {
   "cell_type": "code",
   "execution_count": 161,
   "metadata": {},
   "outputs": [],
   "source": [
    "#создаем собственную функцию\n",
    "def profit(row):\n",
    "    if row['call_time'] > row['minutes_included']:\n",
    "        x = (row['call_time'] - row['minutes_included'])*row['rub_per_minute']\n",
    "    else:\n",
    "        x = 0\n",
    "        \n",
    "    if row['gb_used'] > row['gb_per_month_included']:\n",
    "        y = (row['gb_used'] - row['gb_per_month_included'])*row['rub_per_gb']\n",
    "    else:\n",
    "        y = 0\n",
    "        \n",
    "    if row['messages'] > row['messages_included']:\n",
    "        z = (row['messages'] - row['messages_included'])*row['rub_per_message']\n",
    "    else:\n",
    "        z = 0        \n",
    "        \n",
    "    income = row['rub_monthly_fee']+y+x+z\n",
    "    warnings.filterwarnings(\"ignore\")\n",
    "    return income"
   ]
  },
  {
   "cell_type": "code",
   "execution_count": 162,
   "metadata": {},
   "outputs": [],
   "source": [
    "#применяем собственную функцию к датасету\n",
    "df['profit'] = df.apply(profit, axis =1)"
   ]
  },
  {
   "cell_type": "markdown",
   "metadata": {},
   "source": [
    "Теперь столбцы с рассчетными данными тарифов нам не нужны - их можно удалить."
   ]
  },
  {
   "cell_type": "code",
   "execution_count": 163,
   "metadata": {
    "scrolled": false
   },
   "outputs": [
    {
     "data": {
      "text/html": [
       "<div>\n",
       "<style scoped>\n",
       "    .dataframe tbody tr th:only-of-type {\n",
       "        vertical-align: middle;\n",
       "    }\n",
       "\n",
       "    .dataframe tbody tr th {\n",
       "        vertical-align: top;\n",
       "    }\n",
       "\n",
       "    .dataframe thead th {\n",
       "        text-align: right;\n",
       "    }\n",
       "</style>\n",
       "<table border=\"1\" class=\"dataframe\">\n",
       "  <thead>\n",
       "    <tr style=\"text-align: right;\">\n",
       "      <th></th>\n",
       "      <th></th>\n",
       "      <th>call_time</th>\n",
       "      <th>gb_used</th>\n",
       "      <th>messages</th>\n",
       "      <th>city</th>\n",
       "      <th>tariff</th>\n",
       "      <th>profit</th>\n",
       "    </tr>\n",
       "    <tr>\n",
       "      <th>user_id</th>\n",
       "      <th>month</th>\n",
       "      <th></th>\n",
       "      <th></th>\n",
       "      <th></th>\n",
       "      <th></th>\n",
       "      <th></th>\n",
       "      <th></th>\n",
       "    </tr>\n",
       "  </thead>\n",
       "  <tbody>\n",
       "    <tr>\n",
       "      <td rowspan=\"5\" valign=\"top\">1000</td>\n",
       "      <td>5</td>\n",
       "      <td>159</td>\n",
       "      <td>3</td>\n",
       "      <td>22</td>\n",
       "      <td>Краснодар</td>\n",
       "      <td>ultra</td>\n",
       "      <td>1950</td>\n",
       "    </tr>\n",
       "    <tr>\n",
       "      <td>6</td>\n",
       "      <td>172</td>\n",
       "      <td>23</td>\n",
       "      <td>60</td>\n",
       "      <td>Краснодар</td>\n",
       "      <td>ultra</td>\n",
       "      <td>1950</td>\n",
       "    </tr>\n",
       "    <tr>\n",
       "      <td>7</td>\n",
       "      <td>340</td>\n",
       "      <td>14</td>\n",
       "      <td>75</td>\n",
       "      <td>Краснодар</td>\n",
       "      <td>ultra</td>\n",
       "      <td>1950</td>\n",
       "    </tr>\n",
       "    <tr>\n",
       "      <td>8</td>\n",
       "      <td>408</td>\n",
       "      <td>14</td>\n",
       "      <td>81</td>\n",
       "      <td>Краснодар</td>\n",
       "      <td>ultra</td>\n",
       "      <td>1950</td>\n",
       "    </tr>\n",
       "    <tr>\n",
       "      <td>9</td>\n",
       "      <td>466</td>\n",
       "      <td>15</td>\n",
       "      <td>57</td>\n",
       "      <td>Краснодар</td>\n",
       "      <td>ultra</td>\n",
       "      <td>1950</td>\n",
       "    </tr>\n",
       "  </tbody>\n",
       "</table>\n",
       "</div>"
      ],
      "text/plain": [
       "               call_time  gb_used  messages       city tariff  profit\n",
       "user_id month                                                        \n",
       "1000    5            159        3        22  Краснодар  ultra    1950\n",
       "        6            172       23        60  Краснодар  ultra    1950\n",
       "        7            340       14        75  Краснодар  ultra    1950\n",
       "        8            408       14        81  Краснодар  ultra    1950\n",
       "        9            466       15        57  Краснодар  ultra    1950"
      ]
     },
     "execution_count": 163,
     "metadata": {},
     "output_type": "execute_result"
    }
   ],
   "source": [
    "#удалим ненужные теперь столбцы\n",
    "df = df.drop(['messages_included', 'gb_per_month_included', 'minutes_included', 'rub_monthly_fee', 'rub_per_gb', 'rub_per_message', 'rub_per_minute'], axis=1)\n",
    "#выводим таблицу на экран\n",
    "df.head()"
   ]
  },
  {
   "cell_type": "markdown",
   "metadata": {},
   "source": [
    "## Вывод:"
   ]
  },
  {
   "cell_type": "markdown",
   "metadata": {},
   "source": [
    "В ходе это выполнения данного этапа исследования мы выполнили следующие задачи:\n",
    "\n",
    "• округлили время звонка для пользователя и количество использованных гигабайт по правилам, которые характерны для заказчика.\n",
    "\n",
    "• количество сделанных звонков и израсходованных минут разговора по месяцам;\n",
    "\n",
    "• количество отправленных сообщений по месяцам;\n",
    "\n",
    "• объем израсходованного интернет-трафика по месяцам;\n",
    "\n",
    "• помесячную выручку с каждого пользователя.\n",
    "\n",
    "Сделали мы это с помощью сводных таблиц, где в качестве мультииндексов выбрали айди пользователя и месяцы. \n",
    "\n",
    "Для информации о звонках, сообщениях и интрнет-сессиях мы создали отдельные сводные таблицы, а затем объединили их в одну, используя способ `outer`, чтобы не потерять часть данных. Все образовавшиеся пропуски мы заменили на 0. Затем предварительно объединенные таблицы с информацией о пользователях и тарифе мы соединили с полученной сводной таблицей. Важную роль здесь сыграл метод set_index(). После этого мы написали собственную функцию, которая рассчитала прибыль для каждого пользователя по месяцам и поместили данное значение в новый столбец `profit`. На последнем этапе мы удалили столбцы, которые нужны были лишь для рассчета выручки."
   ]
  },
  {
   "cell_type": "markdown",
   "metadata": {},
   "source": [
    "# Шаг 3. Проанализируем данные"
   ]
  },
  {
   "cell_type": "markdown",
   "metadata": {},
   "source": [
    "На данном этапе нам необходимо описать поведение клиентов оператора, исходя из выборки. Ответить на вопрос : \"Сколько минут разговора, сколько сообщений и какой объём интернет-трафика требуется пользователям каждого тарифа в месяц?\"\n",
    "\n",
    "Нужно рассчитать среднее количество, дисперсию и стандартное отклонение. Затем построить гистограммы и описать распределения."
   ]
  },
  {
   "cell_type": "markdown",
   "metadata": {},
   "source": [
    "## Время разговора в минутах для пользователей"
   ]
  },
  {
   "cell_type": "markdown",
   "metadata": {},
   "source": [
    "Посмотрим на то, сколько минут разговора требуется в пользователям в месяц для обоих тарифов."
   ]
  },
  {
   "cell_type": "code",
   "execution_count": 164,
   "metadata": {
    "scrolled": false
   },
   "outputs": [
    {
     "data": {
      "text/plain": [
       "<matplotlib.axes._subplots.AxesSubplot at 0x7feb9df92790>"
      ]
     },
     "execution_count": 164,
     "metadata": {},
     "output_type": "execute_result"
    },
    {
     "data": {
      "image/png": "[encoded data removed]",
      "text/plain": [
       "<Figure size 432x288 with 1 Axes>"
      ]
     },
     "metadata": {
      "needs_background": "light"
     },
     "output_type": "display_data"
    }
   ],
   "source": [
    "#строим гистограмму\n",
    "df['call_time'].hist(bins = 100)"
   ]
  },
  {
   "cell_type": "markdown",
   "metadata": {},
   "source": [
    "Мы видим, что данные распределены не нормально с небольшой скошенностью вправо и небольшим пиком с левой стороны - нулевые значения. Увеличим масштаб и посмотрим на наиболее частое количество израсходованных минут и на наименее частое - как с больше, так и с меньшей стороны."
   ]
  },
  {
   "cell_type": "code",
   "execution_count": 165,
   "metadata": {
    "scrolled": false
   },
   "outputs": [
    {
     "data": {
      "text/plain": [
       "<matplotlib.axes._subplots.AxesSubplot at 0x7feb9f18f210>"
      ]
     },
     "execution_count": 165,
     "metadata": {},
     "output_type": "execute_result"
    },
    {
     "data": {
      "image/png": "[encoded data removed]",
      "text/plain": [
       "<Figure size 432x288 with 1 Axes>"
      ]
     },
     "metadata": {
      "needs_background": "light"
     },
     "output_type": "display_data"
    }
   ],
   "source": [
    "#строим гистограмму для среднего количества израсходованных минут\n",
    "df['call_time'].hist(bins = 100, range = (200, 650))"
   ]
  },
  {
   "cell_type": "markdown",
   "metadata": {},
   "source": [
    "Чаще всего пользователи обоих тарифов в среднем расходуют от 200 до 650 минут в месяц"
   ]
  },
  {
   "cell_type": "code",
   "execution_count": 166,
   "metadata": {
    "scrolled": true
   },
   "outputs": [
    {
     "data": {
      "text/plain": [
       "<matplotlib.axes._subplots.AxesSubplot at 0x7feb9efb5150>"
      ]
     },
     "execution_count": 166,
     "metadata": {},
     "output_type": "execute_result"
    },
    {
     "data": {
      "image/png": "[encoded data removed]",
      "text/plain": [
       "<Figure size 432x288 with 1 Axes>"
      ]
     },
     "metadata": {
      "needs_background": "light"
     },
     "output_type": "display_data"
    }
   ],
   "source": [
    "#строим гистограмму для аномально небольшого расхода минут\n",
    "df['call_time'].hist(range = (0, 20))"
   ]
  },
  {
   "cell_type": "code",
   "execution_count": 167,
   "metadata": {
    "scrolled": false
   },
   "outputs": [
    {
     "data": {
      "text/plain": [
       "<matplotlib.axes._subplots.AxesSubplot at 0x7feb9ef3fd90>"
      ]
     },
     "execution_count": 167,
     "metadata": {},
     "output_type": "execute_result"
    },
    {
     "data": {
      "image/png": "[encoded data removed]",
      "text/plain": [
       "<Figure size 432x288 with 1 Axes>"
      ]
     },
     "metadata": {
      "needs_background": "light"
     },
     "output_type": "display_data"
    }
   ],
   "source": [
    "#строим гистограмму для аномально большого расхода минут\n",
    "df['call_time'].hist(range = (1200, 1750))"
   ]
  },
  {
   "cell_type": "markdown",
   "metadata": {},
   "source": [
    "Меньше всего пользователей среди обоих тарифов в среднем расходуют в месяц менее 20 и более 1200 минут в месяц. Однако около 50 пользователей вовсе не расходуют минуты."
   ]
  },
  {
   "cell_type": "markdown",
   "metadata": {},
   "source": [
    "Для выполнения данного шага нам нужно будет поделить таблицу на две группы:\n",
    "- ultra - для тарифа \"Ультра\"\n",
    "- smart - для тарифа \"Смарт\"\n",
    "\n",
    "В этом нам помогут срезы."
   ]
  },
  {
   "cell_type": "code",
   "execution_count": 168,
   "metadata": {},
   "outputs": [],
   "source": [
    "#строим датасет для тарифа ультра\n",
    "ultra = df.query('tariff == \"ultra\"')\n",
    "#строим датасет для тарифа смарт\n",
    "smart = df.query('tariff == \"smart\"')"
   ]
  },
  {
   "cell_type": "markdown",
   "metadata": {},
   "source": [
    "**Звонки - тариф \"Ультра\"**"
   ]
  },
  {
   "cell_type": "markdown",
   "metadata": {},
   "source": [
    "Посмотрим на распределение звонков для тарифа ультра"
   ]
  },
  {
   "cell_type": "code",
   "execution_count": 169,
   "metadata": {
    "scrolled": false
   },
   "outputs": [
    {
     "data": {
      "text/plain": [
       "<matplotlib.axes._subplots.AxesSubplot at 0x7feb9ef0e890>"
      ]
     },
     "execution_count": 169,
     "metadata": {},
     "output_type": "execute_result"
    },
    {
     "data": {
      "image/png": "[encoded data removed]",
      "text/plain": [
       "<Figure size 432x288 with 1 Axes>"
      ]
     },
     "metadata": {
      "needs_background": "light"
     },
     "output_type": "display_data"
    }
   ],
   "source": [
    "#строим гистограмму для тарифа ультра\n",
    "ultra['call_time'].hist(bins = 70)"
   ]
  },
  {
   "cell_type": "markdown",
   "metadata": {},
   "source": [
    "Мы видим, что именно пользователи тарифа Ультра любят пропущенные звонки больше остальных"
   ]
  },
  {
   "cell_type": "markdown",
   "metadata": {},
   "source": [
    "Данные распределены нормально с незначительной скошенностью направо и нулевым пиком слева. Однако для анализа нам этого недостаточно. Увеличим масштаб"
   ]
  },
  {
   "cell_type": "code",
   "execution_count": 170,
   "metadata": {
    "scrolled": true
   },
   "outputs": [
    {
     "data": {
      "text/plain": [
       "<matplotlib.axes._subplots.AxesSubplot at 0x7feb9edc42d0>"
      ]
     },
     "execution_count": 170,
     "metadata": {},
     "output_type": "execute_result"
    },
    {
     "data": {
      "image/png": "[encoded data removed]",
      "text/plain": [
       "<Figure size 432x288 with 1 Axes>"
      ]
     },
     "metadata": {
      "needs_background": "light"
     },
     "output_type": "display_data"
    }
   ],
   "source": [
    "#строим гистограмму для тарифа ультра и смотрим на аномально небольшое расходование минут\n",
    "ultra['call_time'].hist(range = (0,100))"
   ]
  },
  {
   "cell_type": "markdown",
   "metadata": {},
   "source": [
    "Посмотрим на очень большое количество израсходованных минут"
   ]
  },
  {
   "cell_type": "code",
   "execution_count": 171,
   "metadata": {
    "scrolled": false
   },
   "outputs": [
    {
     "data": {
      "text/plain": [
       "<matplotlib.axes._subplots.AxesSubplot at 0x7febbc833c90>"
      ]
     },
     "execution_count": 171,
     "metadata": {},
     "output_type": "execute_result"
    },
    {
     "data": {
      "image/png": "[encoded data removed]",
      "text/plain": [
       "<Figure size 432x288 with 1 Axes>"
      ]
     },
     "metadata": {
      "needs_background": "light"
     },
     "output_type": "display_data"
    }
   ],
   "source": [
    "#строим гистограмму для тарифа ультра и смотрим на аномально большое расходование минут\n",
    "ultra['call_time'].hist(range = (1000,1750))"
   ]
  },
  {
   "cell_type": "markdown",
   "metadata": {},
   "source": [
    "Теперь посмотрим на среднее расходование минут"
   ]
  },
  {
   "cell_type": "code",
   "execution_count": 172,
   "metadata": {},
   "outputs": [
    {
     "data": {
      "text/plain": [
       "<matplotlib.axes._subplots.AxesSubplot at 0x7febbc7ee9d0>"
      ]
     },
     "execution_count": 172,
     "metadata": {},
     "output_type": "execute_result"
    },
    {
     "data": {
      "image/png": "[encoded data removed]",
      "text/plain": [
       "<Figure size 432x288 with 1 Axes>"
      ]
     },
     "metadata": {
      "needs_background": "light"
     },
     "output_type": "display_data"
    }
   ],
   "source": [
    "#строим гистограмму для тарифа ультра и смотрим на среднее расходование минут\n",
    "ultra['call_time'].hist(range = (250,800))"
   ]
  },
  {
   "cell_type": "markdown",
   "metadata": {},
   "source": [
    "Что мы видим? \n",
    "\n",
    "Мы видим, что гистограмма распределена нормально с небольшой скошенностью направо. \n",
    "\n",
    "В основном пользователи тратят от 80 до 1000 минут в месяц. Очень редко пользователи за месяц тратят менее 80 минут, за исключением случаев, когда они вовсе не расходуют свой пакет минут, и более 1000 минут.\n",
    "\n",
    "Чаще всего пользователи тарифа \"Ультра\" за месяц расходуют количество минут, находящееся в диапазоне от 250 до 800 минут за месяц. При этом тарифный план включает в себя 3000 минут разговора. А мы видим, что из предложенной нам выборки ни один из пользователей не превысил данную величину, а некоторые и вовсе ни одной минуты не потратили. Можно предположить, что в среднем пользователи данного тарифа тратят в 2-3 раза меньше предоставленных минут разговора, что наталкивает на мысль о сокращении пакета минут для увеличения прибыли."
   ]
  },
  {
   "cell_type": "markdown",
   "metadata": {},
   "source": [
    "**Примечание**\n",
    "\n",
    "\n",
    "Для поиска дисперсии и стандартного отклонения мы будем использовать конструкции библиотеки Numpy(np.var и np.std).\n",
    "\n",
    "\n",
    "При поиске дисперсии и стандарного отклонения мы всегда будет указывать ddof=1, поскольку у нас имеется выборка, а не вся генеральная совокупность."
   ]
  },
  {
   "cell_type": "markdown",
   "metadata": {},
   "source": [
    "Посмотрим, на среднюю, дисперсию и стандартное отклонение."
   ]
  },
  {
   "cell_type": "code",
   "execution_count": 173,
   "metadata": {
    "scrolled": true
   },
   "outputs": [
    {
     "name": "stdout",
     "output_type": "stream",
     "text": [
      "Медианное значение - 518.0\n",
      "Среднее значение - 526.6233502538071\n",
      "Дисперсия - 100873.63339730098\n",
      "Стандартное отклонение - 317.6060978591264\n"
     ]
    }
   ],
   "source": [
    "median_call = ultra['call_time'].median()\n",
    "print('Медианное значение -', median_call)\n",
    "\n",
    "mean_call = ultra['call_time'].mean()\n",
    "print('Среднее значение -', mean_call)\n",
    "\n",
    "variance = np.var(ultra['call_time'], ddof=1)\n",
    "print('Дисперсия -', variance)\n",
    "\n",
    "standard_deviation = np.std(ultra['call_time'], ddof=1)\n",
    "print ('Стандартное отклонение -',standard_deviation) \n"
   ]
  },
  {
   "cell_type": "markdown",
   "metadata": {},
   "source": [
    "Среднее и медиана практически схожи. Следовательно, в среднем пользователю тарифа ультра хватает всего 550 минут в месяц из 3000 предложенных.\n",
    "Стандартное отклонение равно 317 минутам, что довольно много. Дисперсия равна 100873.\n",
    "\n",
    "Можем рассчитать интервал, куда попадут 99% пользователей с помощью правила 3 сигм:"
   ]
  },
  {
   "cell_type": "code",
   "execution_count": 174,
   "metadata": {},
   "outputs": [
    {
     "name": "stdout",
     "output_type": "stream",
     "text": [
      "Диапазон, в который попадут 99% всех пользователей: -426.19494332357215-1479.4416438311864\n"
     ]
    }
   ],
   "source": [
    "#применяем правило 3 сигм\n",
    "min_call = mean_call - 3*standard_deviation\n",
    "max_call = mean_call + 3*standard_deviation\n",
    "print(f'Диапазон, в который попадут 99% всех пользователей: {min_call}-{max_call}')"
   ]
  },
  {
   "cell_type": "markdown",
   "metadata": {},
   "source": [
    "**Вывод:**"
   ]
  },
  {
   "cell_type": "markdown",
   "metadata": {},
   "source": [
    "Поскольку израсходовать - 426 минут представляется невозможным, то сделаем вывод о том, что практически всем пользователям будет достаточно максимума в 1500 минут, что в 2 раза меньше предусмотренного тарифом. Делаем вывод о том, что в редком исключении пользователям понадобится более половины пакета минут, предоставленного тарифом."
   ]
  },
  {
   "cell_type": "markdown",
   "metadata": {},
   "source": [
    "**Звонки - тариф \"Смарт\"**"
   ]
  },
  {
   "cell_type": "markdown",
   "metadata": {},
   "source": [
    "Теперь посмотрим, как обстоят дела с тарифом \"Смарт\""
   ]
  },
  {
   "cell_type": "code",
   "execution_count": 175,
   "metadata": {},
   "outputs": [
    {
     "data": {
      "text/plain": [
       "<matplotlib.axes._subplots.AxesSubplot at 0x7feb9ec0c790>"
      ]
     },
     "execution_count": 175,
     "metadata": {},
     "output_type": "execute_result"
    },
    {
     "data": {
      "image/png": "[encoded data removed]",
      "text/plain": [
       "<Figure size 432x288 with 1 Axes>"
      ]
     },
     "metadata": {
      "needs_background": "light"
     },
     "output_type": "display_data"
    }
   ],
   "source": [
    "#строим гистограмму для тарифа смарт\n",
    "smart['call_time'].hist(bins = 100)"
   ]
  },
  {
   "cell_type": "markdown",
   "metadata": {},
   "source": [
    "Перед нами нормальное распределение с небольшой скошенностью вправо. \n",
    "Большинство значений располагается в диапазоне от 0 до 800 минут. Посмотрим на аномально большие, небольшие значения, а также на средние значения."
   ]
  },
  {
   "cell_type": "code",
   "execution_count": 176,
   "metadata": {},
   "outputs": [
    {
     "data": {
      "text/plain": [
       "<matplotlib.axes._subplots.AxesSubplot at 0x7feb9ed40d10>"
      ]
     },
     "execution_count": 176,
     "metadata": {},
     "output_type": "execute_result"
    },
    {
     "data": {
      "image/png": "[encoded data removed]",
      "text/plain": [
       "<Figure size 432x288 with 1 Axes>"
      ]
     },
     "metadata": {
      "needs_background": "light"
     },
     "output_type": "display_data"
    }
   ],
   "source": [
    "#строим гистограмму для тарифа смарт и смотрим на аномально небольшое расходование минут\n",
    "smart['call_time'].hist(range = (0,100), bins = 70)"
   ]
  },
  {
   "cell_type": "code",
   "execution_count": 177,
   "metadata": {},
   "outputs": [
    {
     "data": {
      "text/plain": [
       "<matplotlib.axes._subplots.AxesSubplot at 0x7feb9e8f6150>"
      ]
     },
     "execution_count": 177,
     "metadata": {},
     "output_type": "execute_result"
    },
    {
     "data": {
      "image/png": "[encoded data removed]",
      "text/plain": [
       "<Figure size 432x288 with 1 Axes>"
      ]
     },
     "metadata": {
      "needs_background": "light"
     },
     "output_type": "display_data"
    }
   ],
   "source": [
    "#строим гистограмму для тарифа смарт и смотрим на аномально большое расходование минут\n",
    "smart['call_time'].hist(range = (800,1500), bins = 100)"
   ]
  },
  {
   "cell_type": "markdown",
   "metadata": {},
   "source": [
    "Мы видим, что пользователи тарифа смарт крайне редко тратят за месяц менее 100 и более 800 минут. Встречаются редкие случаи, когда пользователи нарушают это правило, но на фоне общего числа пользователей это кажется незначительным."
   ]
  },
  {
   "cell_type": "code",
   "execution_count": 178,
   "metadata": {},
   "outputs": [
    {
     "data": {
      "text/plain": [
       "<matplotlib.axes._subplots.AxesSubplot at 0x7feb9e78a150>"
      ]
     },
     "execution_count": 178,
     "metadata": {},
     "output_type": "execute_result"
    },
    {
     "data": {
      "image/png": "[encoded data removed]",
      "text/plain": [
       "<Figure size 432x288 with 1 Axes>"
      ]
     },
     "metadata": {
      "needs_background": "light"
     },
     "output_type": "display_data"
    }
   ],
   "source": [
    "#строим гистограмму для тарифа смарт и смотрим на среднее расходование минут\n",
    "smart['call_time'].hist(range = (100,800))"
   ]
  },
  {
   "cell_type": "markdown",
   "metadata": {},
   "source": [
    "Мы видим, что пользователи тарифа смарт в основном тратят от 100 до 800 минут в месяц при доступных 500 минутах.\n",
    "\n",
    "Чаще всего же пользователи расходуют 450-500 минут, т.е. весь доступный пакет, и примерно 30-35% пользователей тратят дополнительные деньги на дополнительные минуты.\n",
    "\n",
    "Также стоит заметить, что в отличие от пользоватлей тарифа ультра, пользователи тарифа сматр редко не расходуют сови минуты."
   ]
  },
  {
   "cell_type": "markdown",
   "metadata": {},
   "source": [
    "Посмотрим, на среднюю, дисперсию и стандартное отклонение."
   ]
  },
  {
   "cell_type": "code",
   "execution_count": 179,
   "metadata": {},
   "outputs": [
    {
     "name": "stdout",
     "output_type": "stream",
     "text": [
      "Медианное значение - 422.0\n",
      "Среднее значение - 417.9349484073576\n",
      "Дисперсия - 36219.31578434428\n",
      "Стандартное отклонение - 190.31372988921288\n"
     ]
    }
   ],
   "source": [
    "#рассчитываем необходимые значения\n",
    "\n",
    "median_call_sm = smart['call_time'].median()\n",
    "print('Медианное значение -', median_call_sm)\n",
    "\n",
    "mean_call_sm = smart['call_time'].mean()\n",
    "print('Среднее значение -', mean_call_sm)\n",
    "\n",
    "variance_sm = np.var(smart['call_time'], ddof=1)\n",
    "print('Дисперсия -', variance_sm)\n",
    "\n",
    "standard_deviation_sm = np.std(smart['call_time'], ddof=1)\n",
    "print ('Стандартное отклонение -',standard_deviation_sm) \n"
   ]
  },
  {
   "cell_type": "markdown",
   "metadata": {},
   "source": [
    "Мы видим, что среднее и медианное значения практически равны. Следовательно, можно сказать, что среднестатистический пользователь тарифа смарт тратит в месяц около 450 минут.\n",
    "Стандартное отклонение равно 190 минутам, что довольно много, но в сравнении с отклонением для тарифа ультра кажется не таким уж и значительным. Дисперсия равна 36219.\n",
    "Можем рассчитать интервал, куда попадут 99% пользователей с помощью правила 3 сигм:"
   ]
  },
  {
   "cell_type": "code",
   "execution_count": 180,
   "metadata": {
    "scrolled": true
   },
   "outputs": [
    {
     "name": "stdout",
     "output_type": "stream",
     "text": [
      "Диапазон, в который попадут 99% всех пользователей: -153.006241260281-988.8761380749961\n"
     ]
    }
   ],
   "source": [
    "#применяем правило 3 сигм\n",
    "min_call_sm = mean_call_sm - 3*standard_deviation_sm\n",
    "max_call_sm = mean_call_sm + 3*standard_deviation_sm\n",
    "print(f'Диапазон, в который попадут 99% всех пользователей: {min_call_sm}-{max_call_sm}')"
   ]
  },
  {
   "cell_type": "markdown",
   "metadata": {},
   "source": [
    "**Вывод:**"
   ]
  },
  {
   "cell_type": "markdown",
   "metadata": {},
   "source": [
    "Поскольку мы не сможем получить за месяц значиние минус 153, то можно сказать, что пользователям тарифа смарт может понадобиться от 0 до 1000 минут в месяц. Мы видим обратную тарифу ультра картину. Если тариф Ультра предусматривает очень большой пакет минут, даже половину которого не расходуют пользователи, то тариф смарт предусматривает небольшой, но оптимальный пакет минут, который для значительной части пользователей оказывается недостаточным, почему они и покупают дополнительные минуты."
   ]
  },
  {
   "cell_type": "markdown",
   "metadata": {},
   "source": [
    "## Количество отправленных сообщений для пользователей"
   ]
  },
  {
   "cell_type": "markdown",
   "metadata": {},
   "source": [
    "Посмотрим на то, сколько сообщений требуется в пользователям в месяц для обоих тарифов."
   ]
  },
  {
   "cell_type": "code",
   "execution_count": 181,
   "metadata": {},
   "outputs": [
    {
     "data": {
      "text/plain": [
       "<matplotlib.axes._subplots.AxesSubplot at 0x7feb9df56d50>"
      ]
     },
     "execution_count": 181,
     "metadata": {},
     "output_type": "execute_result"
    },
    {
     "data": {
      "image/png": "[encoded data removed]",
      "text/plain": [
       "<Figure size 432x288 with 1 Axes>"
      ]
     },
     "metadata": {
      "needs_background": "light"
     },
     "output_type": "display_data"
    }
   ],
   "source": [
    "#строим гистограмму\n",
    "df['messages'].hist(bins = 50)"
   ]
  },
  {
   "cell_type": "markdown",
   "metadata": {},
   "source": [
    "Да уж, смс у нас нынче не в почете. Мы видим, что почти все сообщения располагаются в диапазоне от 0 до 100. Так же мы видим большой хвост в районе нуля. Данная гистограмма не напоминает нормальное распределение. Увеличим масштаб, чтобы посмотреть нагляднее на это распределение."
   ]
  },
  {
   "cell_type": "code",
   "execution_count": 182,
   "metadata": {},
   "outputs": [
    {
     "data": {
      "text/plain": [
       "<matplotlib.axes._subplots.AxesSubplot at 0x7feb9d19be10>"
      ]
     },
     "execution_count": 182,
     "metadata": {},
     "output_type": "execute_result"
    },
    {
     "data": {
      "image/png": "[encoded data removed]",
      "text/plain": [
       "<Figure size 432x288 with 1 Axes>"
      ]
     },
     "metadata": {
      "needs_background": "light"
     },
     "output_type": "display_data"
    }
   ],
   "source": [
    "#строим гистограмму для аномально небольшого количества отправленных сообщений для обоих тарифов\n",
    "df['messages'].hist(range =(0,20))"
   ]
  },
  {
   "cell_type": "markdown",
   "metadata": {},
   "source": [
    "Мы видим, что образовавшийся хвост - это лица, которые не отправили ни одного сообщения и таких лиц очень много. Можно сделать вывод, что много пользователей отправляет от 0 до 20 сообщений."
   ]
  },
  {
   "cell_type": "code",
   "execution_count": 183,
   "metadata": {},
   "outputs": [
    {
     "data": {
      "text/plain": [
       "<matplotlib.axes._subplots.AxesSubplot at 0x7feb9d158090>"
      ]
     },
     "execution_count": 183,
     "metadata": {},
     "output_type": "execute_result"
    },
    {
     "data": {
      "image/png": "[encoded data removed]",
      "text/plain": [
       "<Figure size 432x288 with 1 Axes>"
      ]
     },
     "metadata": {
      "needs_background": "light"
     },
     "output_type": "display_data"
    }
   ],
   "source": [
    "#строим гистограмму для аномально небольшого количества отправленных сообщений для обоих тарифов\n",
    "df['messages'].hist(range =(110,300),bins = 100)"
   ]
  },
  {
   "cell_type": "markdown",
   "metadata": {},
   "source": [
    "Мы видим, что крайне редко пользователи обоих тарифов отправляли более 175 сообщений"
   ]
  },
  {
   "cell_type": "code",
   "execution_count": 184,
   "metadata": {},
   "outputs": [
    {
     "data": {
      "text/plain": [
       "<matplotlib.axes._subplots.AxesSubplot at 0x7feb9d08c7d0>"
      ]
     },
     "execution_count": 184,
     "metadata": {},
     "output_type": "execute_result"
    },
    {
     "data": {
      "image/png": "[encoded data removed]",
      "text/plain": [
       "<Figure size 432x288 with 1 Axes>"
      ]
     },
     "metadata": {
      "needs_background": "light"
     },
     "output_type": "display_data"
    }
   ],
   "source": [
    "#строим гистограмму для среднего количества отправленных минут без учета пикового 0\n",
    "df['messages'].hist(bins = 100, range = (1, 175))"
   ]
  },
  {
   "cell_type": "markdown",
   "metadata": {},
   "source": [
    "Мы видим, что в основном пользователи обоих тарифов отправляют от 0 до 50 сообщений за месяц, что довольно мало, но объясняется активной ролью социальных сетей, которые постепенно вытесняют сообщения"
   ]
  },
  {
   "cell_type": "markdown",
   "metadata": {},
   "source": [
    "**Сообщения - тариф \"Ультра\"**"
   ]
  },
  {
   "cell_type": "markdown",
   "metadata": {},
   "source": [
    "Посмотрим на распределение сообщений для тарифа ультра"
   ]
  },
  {
   "cell_type": "code",
   "execution_count": 185,
   "metadata": {},
   "outputs": [
    {
     "data": {
      "text/plain": [
       "<matplotlib.axes._subplots.AxesSubplot at 0x7feb9cdfb590>"
      ]
     },
     "execution_count": 185,
     "metadata": {},
     "output_type": "execute_result"
    },
    {
     "data": {
      "image/png": "[encoded data removed]",
      "text/plain": [
       "<Figure size 432x288 with 1 Axes>"
      ]
     },
     "metadata": {
      "needs_background": "light"
     },
     "output_type": "display_data"
    }
   ],
   "source": [
    "#строим гистограмму для тарифа ультра\n",
    "ultra['messages'].hist(bins = 70)"
   ]
  },
  {
   "cell_type": "markdown",
   "metadata": {},
   "source": [
    "Вот и нашлись те, кто совсем не любит отправлять сообщения. Пользователи тарифа ультра, которые имеют в запасе 1000 сообщений часто (более 200 пользователей) вовсе не отправляют ни одного сообщения.\n",
    "\n",
    "Сложно назвать данное распределение номральным, возможно всему виной пик у 0."
   ]
  },
  {
   "cell_type": "markdown",
   "metadata": {},
   "source": [
    "Посмотрим на аномально большие, небольшие значения, а также на средние значения."
   ]
  },
  {
   "cell_type": "code",
   "execution_count": 186,
   "metadata": {},
   "outputs": [
    {
     "data": {
      "text/plain": [
       "<matplotlib.axes._subplots.AxesSubplot at 0x7feb9cd008d0>"
      ]
     },
     "execution_count": 186,
     "metadata": {},
     "output_type": "execute_result"
    },
    {
     "data": {
      "image/png": "[encoded data removed]",
      "text/plain": [
       "<Figure size 432x288 with 1 Axes>"
      ]
     },
     "metadata": {
      "needs_background": "light"
     },
     "output_type": "display_data"
    }
   ],
   "source": [
    "#строим гистограмму для тарифа ультра и смотрим на аномально небольшое количество отправленных сообщений без учета 0\n",
    "ultra['messages'].hist(range = (1,20))"
   ]
  },
  {
   "cell_type": "markdown",
   "metadata": {},
   "source": [
    "На общем фоне данное количество отправленных сообщений кажется довольно значительным. Многие пользователи все-таки отправляют от 0 до 20 сообщений в месяц."
   ]
  },
  {
   "cell_type": "code",
   "execution_count": 187,
   "metadata": {},
   "outputs": [
    {
     "data": {
      "text/plain": [
       "<matplotlib.axes._subplots.AxesSubplot at 0x7feb9cc2d9d0>"
      ]
     },
     "execution_count": 187,
     "metadata": {},
     "output_type": "execute_result"
    },
    {
     "data": {
      "image/png": "[encoded data removed]",
      "text/plain": [
       "<Figure size 432x288 with 1 Axes>"
      ]
     },
     "metadata": {
      "needs_background": "light"
     },
     "output_type": "display_data"
    }
   ],
   "source": [
    "#строим гистограмму для тарифа ультра и смотрим на среднее расходование сообщений\n",
    "ultra['messages'].hist(range = (20,200))"
   ]
  },
  {
   "cell_type": "markdown",
   "metadata": {},
   "source": [
    "Большинство пользователей за месяц расзодуют от 25 до 175 сообщений."
   ]
  },
  {
   "cell_type": "code",
   "execution_count": 188,
   "metadata": {},
   "outputs": [
    {
     "data": {
      "text/plain": [
       "<matplotlib.axes._subplots.AxesSubplot at 0x7feb9cc10350>"
      ]
     },
     "execution_count": 188,
     "metadata": {},
     "output_type": "execute_result"
    },
    {
     "data": {
      "image/png": "[encoded data removed]",
      "text/plain": [
       "<Figure size 432x288 with 1 Axes>"
      ]
     },
     "metadata": {
      "needs_background": "light"
     },
     "output_type": "display_data"
    }
   ],
   "source": [
    "#строим гистограмму для тарифа ультра и смотрим на аномально большое расходование сообщений\n",
    "ultra['messages'].hist(range = (175,300), bins = 100)"
   ]
  },
  {
   "cell_type": "markdown",
   "metadata": {},
   "source": [
    "Кранйе редко пользователи данного тарифа отправляют более 175 сообщений. При этом же им представлен пакет в 1000 сообщений, но пользователи же все равно тратят за месяц около 0-175 сообщений. Чаще же всего пользователи либо совсем не тратят сообщения, либо тратят от 25 до 50 сообщений в месяц. "
   ]
  },
  {
   "cell_type": "markdown",
   "metadata": {},
   "source": [
    "Посмотрим, на среднюю, дисперсию и стандартное отклонение."
   ]
  },
  {
   "cell_type": "code",
   "execution_count": 189,
   "metadata": {},
   "outputs": [
    {
     "name": "stdout",
     "output_type": "stream",
     "text": [
      "Медианное значение - 38.0\n",
      "Среднее значение - 49.36345177664975\n",
      "Дисперсия - 2285.266142544674\n",
      "Стандартное отклонение - 47.80445735017472\n"
     ]
    }
   ],
   "source": [
    "#рассчитываем интересующие нас величины\n",
    "median_messages= ultra['messages'].median()\n",
    "print('Медианное значение -', median_messages)\n",
    "\n",
    "mean_messages = ultra['messages'].mean()\n",
    "print('Среднее значение -', mean_messages)\n",
    "\n",
    "variance_messages = np.var(ultra['messages'], ddof=1)\n",
    "print('Дисперсия -', variance_messages)\n",
    "\n",
    "standard_messages = np.std(ultra['messages'], ddof=1)\n",
    "print ('Стандартное отклонение -',standard_messages) \n"
   ]
  },
  {
   "cell_type": "markdown",
   "metadata": {},
   "source": [
    "Медиана и среднее практически равны - можно сказать, что среднестатистический пользователь в месяц отправляет от 38 до 50 сообщений\n",
    "Дисперсия равна 2285, а стандартное отклонение - 47, что объясняется наличием хвоста и нулевого пика."
   ]
  },
  {
   "cell_type": "markdown",
   "metadata": {},
   "source": [
    "Можем рассчитать интервал, куда попадут 99% пользователей с помощью правила 3 сигм:"
   ]
  },
  {
   "cell_type": "code",
   "execution_count": 190,
   "metadata": {},
   "outputs": [
    {
     "name": "stdout",
     "output_type": "stream",
     "text": [
      "Диапазон, в который попадут 99% всех пользователей: -94.04992027387442-192.77682382717393\n"
     ]
    }
   ],
   "source": [
    "#применяем правило 3 сигм\n",
    "min_messages = mean_messages - 3*standard_messages\n",
    "max_messages = mean_messages + 3*standard_messages\n",
    "print(f'Диапазон, в который попадут 99% всех пользователей: {min_messages}-{max_messages}')"
   ]
  },
  {
   "cell_type": "markdown",
   "metadata": {},
   "source": [
    "**Вывод:**"
   ]
  },
  {
   "cell_type": "markdown",
   "metadata": {},
   "source": [
    "Так как отправить минус 94 сообщения представляется невозможным, то можно сделать вывод, что пользователи тарифа ультра отправляют от 0 до 200 сообщений в месяц. Это же в 5 раз меньше, чем они имеют в рамках тарифа. В который раз убеждаемся, что пользователи не нуждаются в таком большом количестве предоставленных тарифом ультра ресурсов."
   ]
  },
  {
   "cell_type": "markdown",
   "metadata": {},
   "source": [
    "**Сообщения - тариф \"Смарт\"**"
   ]
  },
  {
   "cell_type": "markdown",
   "metadata": {},
   "source": [
    "Теперь посмотрим, как дела обстоят с тарифом смарт."
   ]
  },
  {
   "cell_type": "code",
   "execution_count": 191,
   "metadata": {},
   "outputs": [
    {
     "data": {
      "text/plain": [
       "<matplotlib.axes._subplots.AxesSubplot at 0x7feb9ca4a490>"
      ]
     },
     "execution_count": 191,
     "metadata": {},
     "output_type": "execute_result"
    },
    {
     "data": {
      "image/png": "[encoded data removed]",
      "text/plain": [
       "<Figure size 432x288 with 1 Axes>"
      ]
     },
     "metadata": {
      "needs_background": "light"
     },
     "output_type": "display_data"
    }
   ],
   "source": [
    "#строим гистограмму для тарифа смарт\n",
    "smart['messages'].hist(bins = 70)"
   ]
  },
  {
   "cell_type": "markdown",
   "metadata": {},
   "source": [
    "Мы также видим большое количество пользователей, которые не отправляли вовсе сообщения. В целом распределение напоминает нормально, но с пиком у 0 и скошенностью вправо. Большинство значений лежат в промежутке от 0 до 110 сообщений. Рассмотрим распредление поподробнее - увеличим масштаб."
   ]
  },
  {
   "cell_type": "code",
   "execution_count": 192,
   "metadata": {
    "scrolled": true
   },
   "outputs": [
    {
     "data": {
      "text/plain": [
       "<matplotlib.axes._subplots.AxesSubplot at 0x7feb9c8f1190>"
      ]
     },
     "execution_count": 192,
     "metadata": {},
     "output_type": "execute_result"
    },
    {
     "data": {
      "image/png": "[encoded data removed]",
      "text/plain": [
       "<Figure size 432x288 with 1 Axes>"
      ]
     },
     "metadata": {
      "needs_background": "light"
     },
     "output_type": "display_data"
    }
   ],
   "source": [
    "#строим гистограмму для тарифа смарт и смотрим на аномально небольшое количество отправленных сообщений без учета 0\n",
    "smart['messages'].hist(range = (1,20))"
   ]
  },
  {
   "cell_type": "markdown",
   "metadata": {},
   "source": [
    "Ситуация схожа с тарифом ультра - многие пользователи отправляют от 1 до 20 сообщений в месяц. Только в отличие от тарифа ультра здесь количество таких малообщительных пользователей намного больше - они занимают значительную долю."
   ]
  },
  {
   "cell_type": "code",
   "execution_count": 193,
   "metadata": {},
   "outputs": [
    {
     "data": {
      "text/plain": [
       "<matplotlib.axes._subplots.AxesSubplot at 0x7feb9cbbb810>"
      ]
     },
     "execution_count": 193,
     "metadata": {},
     "output_type": "execute_result"
    },
    {
     "data": {
      "image/png": "[encoded data removed]",
      "text/plain": [
       "<Figure size 432x288 with 1 Axes>"
      ]
     },
     "metadata": {
      "needs_background": "light"
     },
     "output_type": "display_data"
    }
   ],
   "source": [
    "#строим гистограмму для тарифа смарт и смотрим на аномально большое количество отправленных сообщений \n",
    "smart['messages'].hist(range = (110,150))"
   ]
  },
  {
   "cell_type": "markdown",
   "metadata": {},
   "source": [
    "Очень мало пользователей отправляют более 110 сообщений"
   ]
  },
  {
   "cell_type": "code",
   "execution_count": 194,
   "metadata": {},
   "outputs": [
    {
     "data": {
      "text/plain": [
       "<matplotlib.axes._subplots.AxesSubplot at 0x7feb9c7c5a10>"
      ]
     },
     "execution_count": 194,
     "metadata": {},
     "output_type": "execute_result"
    },
    {
     "data": {
      "image/png": "[encoded data removed]",
      "text/plain": [
       "<Figure size 432x288 with 1 Axes>"
      ]
     },
     "metadata": {
      "needs_background": "light"
     },
     "output_type": "display_data"
    }
   ],
   "source": [
    "#строим гистограмму для тарифа смарт и смотрим на аномально большое количество отправленных сообщений \n",
    "smart['messages'].hist(range = (1,110))"
   ]
  },
  {
   "cell_type": "markdown",
   "metadata": {},
   "source": [
    "Мы видим, что чаще всего пользователи тарифа смарт расходуют от 0 до 30 сообщений за месяц. Однако и довольно велика доля тех, кто расходует от 30 до 110 сообщений за месяц. В тариф же включено 50 сообщений. Следовально довольно большая часть пользователей платить за дополнительное количество отправленных сообщений(3 рубля за одно сообщение)."
   ]
  },
  {
   "cell_type": "markdown",
   "metadata": {},
   "source": [
    "Посмотрим, на среднюю, дисперсию и стандартное отклонение."
   ]
  },
  {
   "cell_type": "code",
   "execution_count": 195,
   "metadata": {},
   "outputs": [
    {
     "name": "stdout",
     "output_type": "stream",
     "text": [
      "Медианное значение - 28.0\n",
      "Среднее значение - 33.384028712427096\n",
      "Дисперсия - 796.8129584480083\n",
      "Стандартное отклонение - 28.22787555676141\n"
     ]
    }
   ],
   "source": [
    "#рассчитываем интересующие нас величины\n",
    "median_messages_sm= smart['messages'].median()\n",
    "print('Медианное значение -', median_messages_sm)\n",
    "\n",
    "mean_messages_sm = smart['messages'].mean()\n",
    "print('Среднее значение -', mean_messages_sm)\n",
    "\n",
    "variance_messages_sm = np.var(smart['messages'], ddof=1)\n",
    "print('Дисперсия -', variance_messages_sm)\n",
    "\n",
    "standard_messages_sm = np.std(smart['messages'], ddof=1)\n",
    "print ('Стандартное отклонение -',standard_messages_sm) "
   ]
  },
  {
   "cell_type": "markdown",
   "metadata": {},
   "source": [
    "Медиана и среднее практически равны - можно сказать, что среднестатистический пользователь в месяц отправляет от 28 до 33 сообщений, что меньше, чем в тарифе ультра.\n",
    "Дисперсия равна 797, а стандартное отклонение - 28, что объясняется наличием хвоста и нулевого пика.\n",
    "Можем рассчитать интервал, куда попадут 99% пользователей с помощью правила 3 сигм:"
   ]
  },
  {
   "cell_type": "code",
   "execution_count": 196,
   "metadata": {
    "scrolled": true
   },
   "outputs": [
    {
     "name": "stdout",
     "output_type": "stream",
     "text": [
      "Диапазон, в который попадут 99% всех пользователей: -51.299597957857145-118.06765538271134\n"
     ]
    }
   ],
   "source": [
    "#применяем правило 3 сигм\n",
    "min_messages_sm = mean_messages_sm - 3*standard_messages_sm\n",
    "max_messages_sm = mean_messages_sm + 3*standard_messages_sm\n",
    "print(f'Диапазон, в который попадут 99% всех пользователей: {min_messages_sm}-{max_messages_sm}')"
   ]
  },
  {
   "cell_type": "markdown",
   "metadata": {},
   "source": [
    "**Вывод:**"
   ]
  },
  {
   "cell_type": "markdown",
   "metadata": {},
   "source": [
    "Так как отправить минус 51 сообщение кажется невозможным, то делаем вывод о том, что пользователи тарифа смарт отправляют от 0 до 120 сообщений. При этом максимальная планка в 2 раза больше пакета сообщений, предусмотренного тарифом. Мы снова видим ситуацию, когда пользователям тарифа смарт не хватает ресурсов."
   ]
  },
  {
   "cell_type": "markdown",
   "metadata": {},
   "source": [
    "## Количество израсходованных гб для пользователей"
   ]
  },
  {
   "cell_type": "markdown",
   "metadata": {},
   "source": [
    "Посмотрим на то, сколько гб требуется в пользователям в месяц для обоих тарифов."
   ]
  },
  {
   "cell_type": "code",
   "execution_count": 197,
   "metadata": {},
   "outputs": [
    {
     "data": {
      "text/plain": [
       "<matplotlib.axes._subplots.AxesSubplot at 0x7feb9c7558d0>"
      ]
     },
     "execution_count": 197,
     "metadata": {},
     "output_type": "execute_result"
    },
    {
     "data": {
      "image/png": "[encoded data removed]",
      "text/plain": [
       "<Figure size 432x288 with 1 Axes>"
      ]
     },
     "metadata": {
      "needs_background": "light"
     },
     "output_type": "display_data"
    }
   ],
   "source": [
    "#строим гистограмму\n",
    "df['gb_used'].hist(bins = 50)"
   ]
  },
  {
   "cell_type": "markdown",
   "metadata": {},
   "source": [
    "Перед нами самое настоящее нормальное распределение с практически незаметной скошенностью вправо. Посмотрим на аномально большие, небольшие значения, а также на наиболее часто встречающиеся - увеличим масштаб."
   ]
  },
  {
   "cell_type": "code",
   "execution_count": 198,
   "metadata": {},
   "outputs": [
    {
     "data": {
      "text/plain": [
       "<matplotlib.axes._subplots.AxesSubplot at 0x7feb9c6baa10>"
      ]
     },
     "execution_count": 198,
     "metadata": {},
     "output_type": "execute_result"
    },
    {
     "data": {
      "image/png": "[encoded data removed]",
      "text/plain": [
       "<Figure size 432x288 with 1 Axes>"
      ]
     },
     "metadata": {
      "needs_background": "light"
     },
     "output_type": "display_data"
    }
   ],
   "source": [
    "#строим гистограмму для наиболее распространенного расходования трафика для обоих тарифов\n",
    "df['gb_used'].hist(range = (10, 25))"
   ]
  },
  {
   "cell_type": "markdown",
   "metadata": {},
   "source": [
    "Мы видим, что пользователи обоих тарифов в среднем расходуют от 10 до 15 гб за месяц. Чаще же всего они расходуют 16-17 гб."
   ]
  },
  {
   "cell_type": "code",
   "execution_count": 199,
   "metadata": {},
   "outputs": [
    {
     "data": {
      "text/plain": [
       "<matplotlib.axes._subplots.AxesSubplot at 0x7feb9c10ef90>"
      ]
     },
     "execution_count": 199,
     "metadata": {},
     "output_type": "execute_result"
    },
    {
     "data": {
      "image/png": "[encoded data removed]",
      "text/plain": [
       "<Figure size 432x288 with 1 Axes>"
      ]
     },
     "metadata": {
      "needs_background": "light"
     },
     "output_type": "display_data"
    }
   ],
   "source": [
    "#строим гистограмму для аномально большого расходования трафика для обоих тарифов\n",
    "df['gb_used'].hist(range = (40, 50))"
   ]
  },
  {
   "cell_type": "code",
   "execution_count": 200,
   "metadata": {},
   "outputs": [
    {
     "data": {
      "text/plain": [
       "<matplotlib.axes._subplots.AxesSubplot at 0x7feb9c093dd0>"
      ]
     },
     "execution_count": 200,
     "metadata": {},
     "output_type": "execute_result"
    },
    {
     "data": {
      "image/png": "[encoded data removed]",
      "text/plain": [
       "<Figure size 432x288 with 1 Axes>"
      ]
     },
     "metadata": {
      "needs_background": "light"
     },
     "output_type": "display_data"
    }
   ],
   "source": [
    "#строим гистограмму для аномально небольшого расходования трафика для обоих тарифов\n",
    "df['gb_used'].hist(range = (0, 10))"
   ]
  },
  {
   "cell_type": "markdown",
   "metadata": {},
   "source": [
    "Мы видим, что крайне редко пользователи расходуют за месяц более 40 гб и менее 2 гб. Однако такие результаты справедливы для общего количества пользователей. Посмотрим, как обстоят дела у пользователей различных тарифов."
   ]
  },
  {
   "cell_type": "markdown",
   "metadata": {},
   "source": [
    "**Трафик - тариф \"Ультра\"**"
   ]
  },
  {
   "cell_type": "markdown",
   "metadata": {},
   "source": [
    "Посмотрим на распределение трафика для тарифа ультра"
   ]
  },
  {
   "cell_type": "code",
   "execution_count": 201,
   "metadata": {},
   "outputs": [
    {
     "data": {
      "text/plain": [
       "<matplotlib.axes._subplots.AxesSubplot at 0x7feb9bfac6d0>"
      ]
     },
     "execution_count": 201,
     "metadata": {},
     "output_type": "execute_result"
    },
    {
     "data": {
      "image/png": "[encoded data removed]",
      "text/plain": [
       "<Figure size 432x288 with 1 Axes>"
      ]
     },
     "metadata": {
      "needs_background": "light"
     },
     "output_type": "display_data"
    }
   ],
   "source": [
    "#строим гистограмму для тарифа ультра\n",
    "ultra['gb_used'].hist(bins = 50)"
   ]
  },
  {
   "cell_type": "markdown",
   "metadata": {},
   "source": [
    "Перед нами все то же нормальное распределение с практически незначительным скосом вправо. В целом распределение трафика для тарифа ультра крайне похож на общее распределение. Увеличим масштаб и посмотрим на данные подробнее."
   ]
  },
  {
   "cell_type": "code",
   "execution_count": 202,
   "metadata": {},
   "outputs": [
    {
     "data": {
      "text/plain": [
       "<matplotlib.axes._subplots.AxesSubplot at 0x7feb9c078150>"
      ]
     },
     "execution_count": 202,
     "metadata": {},
     "output_type": "execute_result"
    },
    {
     "data": {
      "image/png": "[encoded data removed]",
      "text/plain": [
       "<Figure size 432x288 with 1 Axes>"
      ]
     },
     "metadata": {
      "needs_background": "light"
     },
     "output_type": "display_data"
    }
   ],
   "source": [
    "#строим гистограмму для тарифа ультра и смотрим на аномально небольшое количество использованного трафика\n",
    "ultra['gb_used'].hist(range = (0,10))"
   ]
  },
  {
   "cell_type": "markdown",
   "metadata": {},
   "source": [
    "Довольно немного пользователей тарифа ультра тратили 4 гб за месяц. Были и те, кто вовсе не расходовал интрнет-трафик, но их мало."
   ]
  },
  {
   "cell_type": "code",
   "execution_count": 203,
   "metadata": {},
   "outputs": [
    {
     "data": {
      "text/plain": [
       "<matplotlib.axes._subplots.AxesSubplot at 0x7feb9be233d0>"
      ]
     },
     "execution_count": 203,
     "metadata": {},
     "output_type": "execute_result"
    },
    {
     "data": {
      "image/png": "[encoded data removed]",
      "text/plain": [
       "<Figure size 432x288 with 1 Axes>"
      ]
     },
     "metadata": {
      "needs_background": "light"
     },
     "output_type": "display_data"
    }
   ],
   "source": [
    "#строим гистограмму для тарифа ультра и смотрим на аномально большое количество использованного трафика\n",
    "ultra['gb_used'].hist(range = (40,50))"
   ]
  },
  {
   "cell_type": "markdown",
   "metadata": {},
   "source": [
    "Очень мало пользователей тратило более 40 гб трафика за месяц."
   ]
  },
  {
   "cell_type": "code",
   "execution_count": 204,
   "metadata": {},
   "outputs": [
    {
     "data": {
      "text/plain": [
       "<matplotlib.axes._subplots.AxesSubplot at 0x7feb9bdaea90>"
      ]
     },
     "execution_count": 204,
     "metadata": {},
     "output_type": "execute_result"
    },
    {
     "data": {
      "image/png": "[encoded data removed]",
      "text/plain": [
       "<Figure size 432x288 with 1 Axes>"
      ]
     },
     "metadata": {
      "needs_background": "light"
     },
     "output_type": "display_data"
    }
   ],
   "source": [
    "#строим гистограмму для тарифа ультра и смотрим на наиболее частое расходование трафика\n",
    "ultra['gb_used'].hist(range = (8,40), bins = 30)"
   ]
  },
  {
   "cell_type": "markdown",
   "metadata": {},
   "source": [
    "Мы видим, что чаще всего пользователям нужно около 15-25гб трафика, также значительна доля тех, кому нужно всего 8-10 гб.\n",
    "При этом тарифом предусмотрено 30 гб трафика. В целом можно сказать, что данного пакета вполне хватате пользователям, часть из которых даже тратит больше. Это примечательно, поскольку сообщений и минут, доступных по условиям тарифа ультра для пользователей кажется довольно большим, а вот объем трафика им кажется вполне оптимальным."
   ]
  },
  {
   "cell_type": "markdown",
   "metadata": {},
   "source": [
    "Посмотрим, на среднюю, дисперсию и стандартное отклонение."
   ]
  },
  {
   "cell_type": "code",
   "execution_count": 205,
   "metadata": {},
   "outputs": [
    {
     "name": "stdout",
     "output_type": "stream",
     "text": [
      "Медианное значение - 19.0\n",
      "Среднее значение - 19.494416243654822\n",
      "Дисперсия - 97.09168626965459\n",
      "Стандартное отклонение - 9.853511367510293\n"
     ]
    }
   ],
   "source": [
    "#рассчитываем интересующие нас величины\n",
    "median_gb_used= ultra['gb_used'].median()\n",
    "print('Медианное значение -', median_gb_used)\n",
    "\n",
    "mean_gb_used = ultra['gb_used'].mean()\n",
    "print('Среднее значение -', mean_gb_used)\n",
    "\n",
    "variance_gb_used = np.var(ultra['gb_used'], ddof=1)\n",
    "print('Дисперсия -', variance_gb_used)\n",
    "\n",
    "standard_gb_used = np.std(ultra['gb_used'], ddof=1)\n",
    "print ('Стандартное отклонение -',standard_gb_used) \n"
   ]
  },
  {
   "cell_type": "markdown",
   "metadata": {},
   "source": [
    "Мы видим, что среднее и медиана равны. Значит, среднестатистический пользователь тратит около 19 гб за месяц. Дисперсия равна 97, а стандартное отклонение примерно равно 10, что характеризует довольно широкий разброс данных. "
   ]
  },
  {
   "cell_type": "markdown",
   "metadata": {},
   "source": [
    "Можем рассчитать интервал, куда попадут 99% пользователей с помощью правила 3 сигм:"
   ]
  },
  {
   "cell_type": "code",
   "execution_count": 206,
   "metadata": {},
   "outputs": [
    {
     "name": "stdout",
     "output_type": "stream",
     "text": [
      "Диапазон, в который попадут 99% всех пользователей: -10.066117858876058-49.054950346185706\n"
     ]
    }
   ],
   "source": [
    "#применяем правило 3 сигм\n",
    "min_gb_used = mean_gb_used - 3*standard_gb_used\n",
    "max_gb_used = mean_gb_used + 3*standard_gb_used\n",
    "print(f'Диапазон, в который попадут 99% всех пользователей: {min_gb_used}-{max_gb_used}')"
   ]
  },
  {
   "cell_type": "markdown",
   "metadata": {},
   "source": [
    "**Вывод:**"
   ]
  },
  {
   "cell_type": "markdown",
   "metadata": {},
   "source": [
    "Поскольку потратить минус 10гб невозможно, то можно смело заявить, что 99% пользователей тарифа ультра расходуют за месяц от 0 до 50 гб. При этом тариф предусматривает бесплатный доступ к 30 гб. Следовательн очасть пользователей тратит на 66% больше, чем предусмотрено тарифом. Как уже было сказано ранее - это единственная часть ресурсов тарифа, которой кажется недостаточно для некоторых пользователей. Объясняется это тем, что функция звнков и отправки сообщений уже давно интегрирована в приложения, использующие интрнет-трафик."
   ]
  },
  {
   "cell_type": "markdown",
   "metadata": {},
   "source": [
    "**Трафик - тариф \"Смарт\"**\n"
   ]
  },
  {
   "cell_type": "markdown",
   "metadata": {},
   "source": [
    "Теперь посмотрим, как дела обстоят с тарифом смарт."
   ]
  },
  {
   "cell_type": "code",
   "execution_count": 207,
   "metadata": {},
   "outputs": [
    {
     "data": {
      "text/plain": [
       "<matplotlib.axes._subplots.AxesSubplot at 0x7feb9bcea310>"
      ]
     },
     "execution_count": 207,
     "metadata": {},
     "output_type": "execute_result"
    },
    {
     "data": {
      "image/png": "[encoded data removed]",
      "text/plain": [
       "<Figure size 432x288 with 1 Axes>"
      ]
     },
     "metadata": {
      "needs_background": "light"
     },
     "output_type": "display_data"
    }
   ],
   "source": [
    "#строим гистограмму для тарифа смарт\n",
    "smart['gb_used'].hist(bins = 30)"
   ]
  },
  {
   "cell_type": "markdown",
   "metadata": {},
   "source": [
    "Мы видим нормальное распределение, которое скошенно влево. Большая часть значений лежит в диапазоне от 9 до 25 гб. Для более детального анализа распределения нужно увеличить масштаб"
   ]
  },
  {
   "cell_type": "code",
   "execution_count": 208,
   "metadata": {},
   "outputs": [
    {
     "data": {
      "text/plain": [
       "<matplotlib.axes._subplots.AxesSubplot at 0x7feb9bc88290>"
      ]
     },
     "execution_count": 208,
     "metadata": {},
     "output_type": "execute_result"
    },
    {
     "data": {
      "image/png": "[encoded data removed]",
      "text/plain": [
       "<Figure size 432x288 with 1 Axes>"
      ]
     },
     "metadata": {
      "needs_background": "light"
     },
     "output_type": "display_data"
    }
   ],
   "source": [
    "#строим гистограмму для тарифа смарт и смотрим на аномально небольшое количество использованного трафика\n",
    "smart['gb_used'].hist(range = (0,10))"
   ]
  },
  {
   "cell_type": "markdown",
   "metadata": {},
   "source": [
    "Довольно немного пользователей тратят менее 8гб интрнет-трафика."
   ]
  },
  {
   "cell_type": "code",
   "execution_count": 209,
   "metadata": {},
   "outputs": [
    {
     "data": {
      "text/plain": [
       "<matplotlib.axes._subplots.AxesSubplot at 0x7feba191fe10>"
      ]
     },
     "execution_count": 209,
     "metadata": {},
     "output_type": "execute_result"
    },
    {
     "data": {
      "image/png": "[encoded data removed]",
      "text/plain": [
       "<Figure size 432x288 with 1 Axes>"
      ]
     },
     "metadata": {
      "needs_background": "light"
     },
     "output_type": "display_data"
    }
   ],
   "source": [
    "#строим гистограмму для тарифа смарт и смотрим на аномально большое количество использованного трафика\n",
    "smart['gb_used'].hist(range = (28,40))"
   ]
  },
  {
   "cell_type": "markdown",
   "metadata": {},
   "source": [
    "Мы видим, что очень редко пользователи тратят более 30 гб интернет-трафика за месяц"
   ]
  },
  {
   "cell_type": "code",
   "execution_count": 210,
   "metadata": {},
   "outputs": [
    {
     "data": {
      "text/plain": [
       "<matplotlib.axes._subplots.AxesSubplot at 0x7feb9bb4bd50>"
      ]
     },
     "execution_count": 210,
     "metadata": {},
     "output_type": "execute_result"
    },
    {
     "data": {
      "image/png": "[encoded data removed]",
      "text/plain": [
       "<Figure size 432x288 with 1 Axes>"
      ]
     },
     "metadata": {
      "needs_background": "light"
     },
     "output_type": "display_data"
    }
   ],
   "source": [
    "#строим гистограмму для тарифа смарт и смотрим на наиболее частое расходование трафика\n",
    "smart['gb_used'].hist(range = (8,30), bins = 22)"
   ]
  },
  {
   "cell_type": "markdown",
   "metadata": {},
   "source": [
    "Мы видим, что чаще всего пользователи тратят от 10 до 25 гб интрнет-трафика. Наиболее часто встречающимся является вариант, когда пользователи тарифа смарт тратят от 16 до 18 гб интрнет-трафика. Это крайне забавно, поскольку тариф смарт предусматривает 15 гб доступного трафика, за большее количество пользователи доплачивают. Следовательно около 50% пользователей не хватает доступного, согласно условиям тарифа, объема интернет-трафика."
   ]
  },
  {
   "cell_type": "markdown",
   "metadata": {},
   "source": [
    "Посмотрим, на среднюю, дисперсию и стандартное отклонение."
   ]
  },
  {
   "cell_type": "code",
   "execution_count": 211,
   "metadata": {},
   "outputs": [
    {
     "name": "stdout",
     "output_type": "stream",
     "text": [
      "Медианное значение - 17.0\n",
      "Среднее значение - 16.328847016599372\n",
      "Дисперсия - 33.02870517811161\n",
      "Стандартное отклонение - 5.7470605685090534\n"
     ]
    }
   ],
   "source": [
    "#рассчитываем интересующие нас величины\n",
    "median_gb_used_sm= smart['gb_used'].median()\n",
    "print('Медианное значение -', median_gb_used_sm)\n",
    "\n",
    "mean_gb_used_sm = smart['gb_used'].mean()\n",
    "print('Среднее значение -', mean_gb_used_sm)\n",
    "\n",
    "variance_gb_used_sm = np.var(smart['gb_used'], ddof=1)\n",
    "print('Дисперсия -', variance_gb_used_sm)\n",
    "\n",
    "standard_gb_used_sm = np.std(smart['gb_used'], ddof=1)\n",
    "print ('Стандартное отклонение -',standard_gb_used_sm) \n"
   ]
  },
  {
   "cell_type": "markdown",
   "metadata": {},
   "source": [
    "Ожидаемый результат. Среднестатистический пользователь тратит около 17гб в месяц при доступных бесплатно 15гб. Значит, за 2 гб среднестатистический пользователь доплачивает. Дисперсия равна 33 и стандартное отклонение равно 5, что говорит о не самом большом разбросе данных. "
   ]
  },
  {
   "cell_type": "markdown",
   "metadata": {},
   "source": [
    "Можем рассчитать интервал, куда попадут 99% пользователей с помощью правила 3 сигм:"
   ]
  },
  {
   "cell_type": "code",
   "execution_count": 212,
   "metadata": {},
   "outputs": [
    {
     "name": "stdout",
     "output_type": "stream",
     "text": [
      "Диапазон, в который попадут 99% всех пользователей: -0.912334688927789-33.57002872212654\n"
     ]
    }
   ],
   "source": [
    "#применяем правило 3 сигм\n",
    "min_gb_used_sm = mean_gb_used_sm - 3*standard_gb_used_sm\n",
    "max_gb_used_sm = mean_gb_used_sm + 3*standard_gb_used_sm\n",
    "print(f'Диапазон, в который попадут 99% всех пользователей: {min_gb_used_sm}-{max_gb_used_sm}')"
   ]
  },
  {
   "cell_type": "markdown",
   "metadata": {},
   "source": [
    "**Вывод:**"
   ]
  },
  {
   "cell_type": "markdown",
   "metadata": {},
   "source": [
    "Поскольку потратить минус 1 гб сложно, то мы делаем вывод о том, что пользователи тарифа смарт расходуют от 0 до 34гб за месяц. При этом тариф им предоставляет бесплатные 15 гб. Получается, что верхняя планка спроса на интернет-трафик среди пользователей тарифа смарт в 2 раза выше предложения. Это в общем характерно для тарифа смарт - все ресурсы, которые предоставлены тарифом всегда кажутся части пользователей недостаточным, и эта часть дополнительно платит за ресурсы сверх нормы."
   ]
  },
  {
   "cell_type": "markdown",
   "metadata": {},
   "source": [
    "## Прибыль"
   ]
  },
  {
   "cell_type": "markdown",
   "metadata": {},
   "source": [
    "Также рассмотри прибыль для обоих тарифов. \n",
    "Напомним, что плата за тариф смарт равна 550 рублей, а за тариф ультра - 1950 рублей"
   ]
  },
  {
   "cell_type": "markdown",
   "metadata": {},
   "source": [
    "**Прибыль - Тариф \"Смарт\"**"
   ]
  },
  {
   "cell_type": "code",
   "execution_count": 213,
   "metadata": {
    "scrolled": false
   },
   "outputs": [
    {
     "data": {
      "text/plain": [
       "<matplotlib.axes._subplots.AxesSubplot at 0x7feb9ba782d0>"
      ]
     },
     "execution_count": 213,
     "metadata": {},
     "output_type": "execute_result"
    },
    {
     "data": {
      "image/png": "[encoded data removed]",
      "text/plain": [
       "<Figure size 432x288 with 1 Axes>"
      ]
     },
     "metadata": {
      "needs_background": "light"
     },
     "output_type": "display_data"
    }
   ],
   "source": [
    "#строим гистограмму для тарифа смарт\n",
    "smart['profit'].hist(bins=50)"
   ]
  },
  {
   "cell_type": "markdown",
   "metadata": {},
   "source": [
    "Мы видим, что чаще всего пользователи тарифа смарт приносят прибыль оператору в размере от 550 до 2000. Увеличим масштаб."
   ]
  },
  {
   "cell_type": "code",
   "execution_count": 214,
   "metadata": {
    "scrolled": true
   },
   "outputs": [
    {
     "data": {
      "text/plain": [
       "<matplotlib.axes._subplots.AxesSubplot at 0x7feb9bb38790>"
      ]
     },
     "execution_count": 214,
     "metadata": {},
     "output_type": "execute_result"
    },
    {
     "data": {
      "image/png": "[encoded data removed]",
      "text/plain": [
       "<Figure size 432x288 with 1 Axes>"
      ]
     },
     "metadata": {
      "needs_background": "light"
     },
     "output_type": "display_data"
    }
   ],
   "source": [
    "#строим гистограмму для тарифа смарт\n",
    "smart['profit'].hist(range=(550, 2000))"
   ]
  },
  {
   "cell_type": "markdown",
   "metadata": {},
   "source": [
    "Мы видим, что около 700 людям из выборки в большей степени достаточно предложенного пакета услуг. Будем считать, что лица, которые платят за тариф от 550 до 600 рублей практически не переплачивают."
   ]
  },
  {
   "cell_type": "code",
   "execution_count": 215,
   "metadata": {
    "scrolled": true
   },
   "outputs": [
    {
     "data": {
      "text/plain": [
       "<matplotlib.axes._subplots.AxesSubplot at 0x7feb9bb4b910>"
      ]
     },
     "execution_count": 215,
     "metadata": {},
     "output_type": "execute_result"
    },
    {
     "data": {
      "image/png": "[encoded data removed]",
      "text/plain": [
       "<Figure size 432x288 with 1 Axes>"
      ]
     },
     "metadata": {
      "needs_background": "light"
     },
     "output_type": "display_data"
    }
   ],
   "source": [
    "#строим гистограмму для тарифа смарт\n",
    "smart['profit'].hist(range=(600, 7000))"
   ]
  },
  {
   "cell_type": "markdown",
   "metadata": {},
   "source": [
    "Лица, которым же не хватает ресурсов тарифа смарт примерно составляю 1600 человек. Это примерно в 2 раза больше, чем количество лиц, которым достаточно предложенных услуг."
   ]
  },
  {
   "cell_type": "markdown",
   "metadata": {},
   "source": [
    "Следовательно около 2/3 пользователей тариф смарт переплачивают за тариф как минимум на 50 рублей! Получается, что пользователи устанавливают данный тариф и затем доплачивают за дополнительный пакет. Проверим наши предположения, найдя медиану и среднее."
   ]
  },
  {
   "cell_type": "code",
   "execution_count": 216,
   "metadata": {
    "scrolled": true
   },
   "outputs": [
    {
     "name": "stdout",
     "output_type": "stream",
     "text": [
      "Медианное значение - 1023.0\n",
      "Среднее значение - 1289.9735307312696\n",
      "Дисперсия - 669785.7080064242\n",
      "Стандартное отклонение - 818.4043670499469\n"
     ]
    }
   ],
   "source": [
    "#рассчитываем интересующие нас величины\n",
    "median_profit_sm= smart['profit'].median()\n",
    "print('Медианное значение -', median_profit_sm)\n",
    "\n",
    "mean_profit_sm = smart['profit'].mean()\n",
    "print('Среднее значение -', mean_profit_sm)\n",
    "\n",
    "variance_profit_sm = np.var(smart['profit'], ddof=1)\n",
    "print('Дисперсия -', variance_profit_sm)\n",
    "\n",
    "standard_profit_sm = np.std(smart['profit'], ddof=1)\n",
    "print ('Стандартное отклонение -',standard_profit_sm) "
   ]
  },
  {
   "cell_type": "markdown",
   "metadata": {},
   "source": [
    "Мы видим, что среднестатистический пользователь тарифа смарт платит в 2 раза больше, чем тарифная плата. Условно говоря, 1 пользователь тарифа смарт платит за 2 тарифа смарт."
   ]
  },
  {
   "cell_type": "code",
   "execution_count": 217,
   "metadata": {
    "scrolled": true
   },
   "outputs": [
    {
     "name": "stdout",
     "output_type": "stream",
     "text": [
      "Диапазон, в который попадут 99% всех пользователей: -1165.2395704185712-3745.1866318811108\n"
     ]
    }
   ],
   "source": [
    "#применяем правило 3 сигм\n",
    "min_profit_sm = mean_profit_sm - 3*standard_profit_sm\n",
    "max_profit_sm = mean_profit_sm + 3*standard_profit_sm\n",
    "print(f'Диапазон, в который попадут 99% всех пользователей: {min_profit_sm}-{max_profit_sm}')"
   ]
  },
  {
   "cell_type": "markdown",
   "metadata": {},
   "source": [
    "**Вывод:**"
   ]
  },
  {
   "cell_type": "markdown",
   "metadata": {},
   "source": [
    "Поскольку минимальная плата за тариф равна 550 рублей, то можно сделать вывод о том, что один пользователь тарифа смарт может принести оператору от 550 до 3700 рублей. При этом в среднем один пользователь приносит около 1000-1200 рублей в месяц, что в 2 раза выше тарифной платы."
   ]
  },
  {
   "cell_type": "markdown",
   "metadata": {},
   "source": [
    "**Прибыль - Тариф \"Ультра\"**"
   ]
  },
  {
   "cell_type": "code",
   "execution_count": 218,
   "metadata": {
    "scrolled": true
   },
   "outputs": [
    {
     "data": {
      "text/plain": [
       "<matplotlib.axes._subplots.AxesSubplot at 0x7feb9b87ebd0>"
      ]
     },
     "execution_count": 218,
     "metadata": {},
     "output_type": "execute_result"
    },
    {
     "data": {
      "image/png": "[encoded data removed]",
      "text/plain": [
       "<Figure size 432x288 with 1 Axes>"
      ]
     },
     "metadata": {
      "needs_background": "light"
     },
     "output_type": "display_data"
    }
   ],
   "source": [
    "#строим гистограмму для тарифа ультра\n",
    "ultra['profit'].hist(bins =100)"
   ]
  },
  {
   "cell_type": "markdown",
   "metadata": {},
   "source": [
    "Мы видим, что пользователи тарифа ультра в основном платят 1950 рублей и крайне редко платят за дополнительные услуги. В целом это подтверждается и ранее сделанными исследованиями - пользователяям тарифа ультра не хвататет только интрнет-трафика. Минут и сообщений пользователям тарифа кажется даже слишком большим."
   ]
  },
  {
   "cell_type": "code",
   "execution_count": 219,
   "metadata": {},
   "outputs": [
    {
     "data": {
      "text/plain": [
       "<matplotlib.axes._subplots.AxesSubplot at 0x7feb9b84b5d0>"
      ]
     },
     "execution_count": 219,
     "metadata": {},
     "output_type": "execute_result"
    },
    {
     "data": {
      "image/png": "[encoded data removed]",
      "text/plain": [
       "<Figure size 432x288 with 1 Axes>"
      ]
     },
     "metadata": {
      "needs_background": "light"
     },
     "output_type": "display_data"
    }
   ],
   "source": [
    "#строим гистограмму для тарифа ультра\n",
    "ultra['profit'].hist(range=(2000, 4500))"
   ]
  },
  {
   "cell_type": "markdown",
   "metadata": {},
   "source": [
    "Если около 850 пользователей не прибегают к дополнительным гб, минутам или сообщениям, то около 120 пользователей переплачивают за тариф - вероятнее всего за интернет-трафик. Около 10-12% пользователей тарифа ультра приносят больше дохода, чем предусмотрено условиями тарифа."
   ]
  },
  {
   "cell_type": "markdown",
   "metadata": {},
   "source": [
    "Проверим наши предположения, найдя медиану и среднее."
   ]
  },
  {
   "cell_type": "code",
   "execution_count": 220,
   "metadata": {},
   "outputs": [
    {
     "name": "stdout",
     "output_type": "stream",
     "text": [
      "Медианное значение - 1950.0\n",
      "Среднее значение - 2070.1522842639592\n",
      "Дисперсия - 141516.7450786183\n",
      "Стандартное отклонение - 376.1871144505328\n"
     ]
    }
   ],
   "source": [
    "#рассчитываем интересующие нас величины\n",
    "median_profit= ultra['profit'].median()\n",
    "print('Медианное значение -', median_profit)\n",
    "\n",
    "mean_profit = ultra['profit'].mean()\n",
    "print('Среднее значение -', mean_profit)\n",
    "\n",
    "variance_profit = np.var(ultra['profit'], ddof=1)\n",
    "print('Дисперсия -', variance_profit)\n",
    "\n",
    "standard_profit = np.std(ultra['profit'], ddof=1)\n",
    "print ('Стандартное отклонение -',standard_profit) "
   ]
  },
  {
   "cell_type": "markdown",
   "metadata": {},
   "source": [
    "Мы видим, что в среднем пользователи тарифа ультра платят 1950-2000 рублей, что соответствует тарифной плате."
   ]
  },
  {
   "cell_type": "code",
   "execution_count": 221,
   "metadata": {},
   "outputs": [
    {
     "name": "stdout",
     "output_type": "stream",
     "text": [
      "Диапазон, в который попадут 99% всех пользователей: 941.5909409123608-3198.713627615558\n"
     ]
    }
   ],
   "source": [
    "#применяем правило 3 сигм\n",
    "min_profit = mean_profit- 3*standard_profit\n",
    "max_profit = mean_profit + 3*standard_profit\n",
    "print(f'Диапазон, в который попадут 99% всех пользователей: {min_profit}-{max_profit}')"
   ]
  },
  {
   "cell_type": "markdown",
   "metadata": {},
   "source": [
    "**Вывод:**"
   ]
  },
  {
   "cell_type": "markdown",
   "metadata": {},
   "source": [
    "В целом, можно сказать, что пользователи тарифа ультра приносят оператору от 1950 до 3200 рублей. Примерно такую же сумму приносят и пользователи тарифа смарт."
   ]
  },
  {
   "cell_type": "markdown",
   "metadata": {},
   "source": [
    "## Вывод для всего шага:"
   ]
  },
  {
   "cell_type": "markdown",
   "metadata": {},
   "source": [
    "В ходе выполнения этого шага мы описали поведение клиентов оператора, исходя из выборки, ответили на вопрос : \"Сколько минут разговора, сколько сообщений и какой объём интернет-трафика требуется пользователям каждого тарифа в месяц?\". Также мы смогли рассчитать среднее количество, дисперсию и стандартное отклонение, а затем построили гистограммы и описали распределения. Помогли нам в этом метод hist() для построения диаграмм, библиотека Numpy  и ее конструкции и методы mean() и median()."
   ]
  },
  {
   "cell_type": "markdown",
   "metadata": {},
   "source": [
    "Результатом исследования стали такие выводы:"
   ]
  },
  {
   "cell_type": "markdown",
   "metadata": {},
   "source": [
    "**Звонки**\n",
    "\n",
    "\n",
    "Для тарифа `ультра` мы определили, что среднестатистический пользователь тратит 550 из 3000 предложенных минут за месяц. В целом же пользователи данного тарифа расходуют от 0 до 1500 минут за месяц. Как мы видим максимальная планка спроса ниже в 2 раза предложенного размера минут.\n",
    "\n",
    "\n",
    "Для тарифа `смарт` мы определили, что среднестатистический пользователь тратит 450 из 500 предложенных минут, что не выходит за рамки тарифа. Однако мы также рассчитали, что в целом же пользователи данного тарифа расходуют от 0 до 1000 минут за месяц. Это означает, что для части пользователей необходимо в 2 раза больше минут, чем предложено тарифом.\n",
    "\n",
    "Мы видим, что для пользователей тарифа ультра предложенный пакет услуг кажется слишком большим, в то время как для части пользователей тарифа смарт их пакет услуг кажется недостаточным."
   ]
  },
  {
   "cell_type": "markdown",
   "metadata": {},
   "source": [
    "**Сообщения**\n",
    "\n",
    "\n",
    "Для тарифа `ультра` мы определили, что среднестатистический пользователь отправляет от 38 до 50 сообщений из 1000 доступных за месяц. В целом же пользователи данного тарифа отправляют от 0 до 200 собщений за месяц. Как мы видим максимальная планка спроса ниже в 5 раза предложенного количества сообщений.\n",
    "\n",
    "\n",
    "Для тарифа `смарт` мы определили, что среднестатистический пользователь отправляет от 28 до 33 сообщений из 50 предложенных сообщений, что не выходит за рамки тарифа. Однако мы также рассчитали, что в целом же пользователи данного тарифа отправляют от 0 до 120 сообщений за месяц. Это означает, что для части пользователей необходимо в 2 раза больше сообщений, чем предложено тарифом.\n",
    "\n",
    "Мы видим, что для пользователей тарифа ультра предложенный пакет услуг кажется слишком большим, в то время как для части пользователей тарифа смарт их пакет услуг кажется недостаточным."
   ]
  },
  {
   "cell_type": "markdown",
   "metadata": {},
   "source": [
    "**Интернет-трафик**\n",
    "\n",
    "\n",
    "Для тарифа `ультра` мы определили, что среднестатистический пользователь тратит 19гб  из 30 доступных в месяц, что не выходит за рамки тарифа. В целом же пользователи данного тарифа расходуют от 0 до 50гб собщений за месяц. Здесь же мы видим, что спрос выше предложения примерно в 1.5 раза. \n",
    "\n",
    "Для тарифа `смарт` мы определили, что среднестатистический пользователь тратит от 17гб  из 15 доступных в месяц, что выходит за рамки тарифа. Также мы также рассчитали, что в целом же пользователи данного тарифа отправляют от 0 до 34гб за месяц. Это означает, что для части пользователей необходимо в 2 раза больше трафика, чем предложено тарифом.\n",
    "\n",
    "В целом мы видим большой спрос на интернет-трафик среди пользователей обоих тарифов. Ни один из тарифов не может полностью удовлетворить спрос пользователей своим бесплатным пакетом. Для тарифа смарт это выражается боллее заметно, поскольку средняя трата гб за месяц у всех пользователей тарифа превышает доступный пакет."
   ]
  },
  {
   "cell_type": "markdown",
   "metadata": {},
   "source": [
    "**Прибыль**\n",
    "\n",
    "\n",
    "Для тарифа `ультра` мы определили, что среднестатистический пользователь приносит оператору 1950-2000 рублей. В целом же пользователи данного тарифа могут принести оператору от 1950 до 3200 рублей за месяц. \n",
    "\n",
    "\n",
    "Для тарифа `смарт` мы определили, что среднестатистический пользователь приносит оператору 1000-1200 рублей. В целом же пользователи данного тарифа могут принести оператору от 550 до 3700 рублей за месяц. \n",
    "\n",
    "Мы видим, что пользователи тарифа ультра редко прибегают к дополнительным услугам, в то время как пользователи тарифа смарт практически в 2 из 3 случаев нуждаются в дополнительных ресурсах. Также примечательно, что тариф смарт может в перспективе  максимально принести больше денег, чем тариф ультра."
   ]
  },
  {
   "cell_type": "markdown",
   "metadata": {},
   "source": [
    "# Шаг 4. Проверка гипотезы"
   ]
  },
  {
   "cell_type": "markdown",
   "metadata": {},
   "source": [
    "Теперь нам предстоит проверить 2 гипотезы:\n",
    "\n",
    "•\tсредняя выручка пользователей тарифов «Ультра» и «Смарт» различаются;\n",
    "\n",
    "\n",
    "•\tсредняя выручка пользователей из Москвы отличается от выручки пользователей из других регионов.\n"
   ]
  },
  {
   "cell_type": "markdown",
   "metadata": {},
   "source": [
    "## Гипотеза \"Средняя выручка пользователей тарифов «Ультра» и «Смарт» различаются\""
   ]
  },
  {
   "cell_type": "markdown",
   "metadata": {},
   "source": [
    "Начнем с проверки гипотезы по выручке разных тарифов. В прошлом шаге мы забежали вперед и рассмотрели данный параметр. Посмотри, что нам скажет на это питон."
   ]
  },
  {
   "cell_type": "markdown",
   "metadata": {},
   "source": [
    "Проверять гипотезу мы будем с помощью t-теста"
   ]
  },
  {
   "cell_type": "markdown",
   "metadata": {},
   "source": [
    "Для того, чтобы проверить данную гипотезу мы должны понять, различаются ли размеры выборки или нет. Для этого используем метод len()"
   ]
  },
  {
   "cell_type": "code",
   "execution_count": 222,
   "metadata": {
    "scrolled": true
   },
   "outputs": [
    {
     "data": {
      "text/plain": [
       "985"
      ]
     },
     "execution_count": 222,
     "metadata": {},
     "output_type": "execute_result"
    }
   ],
   "source": [
    "#рассчитываем количество значений в выборке тарифа ультра\n",
    "len(ultra)"
   ]
  },
  {
   "cell_type": "code",
   "execution_count": 223,
   "metadata": {
    "scrolled": true
   },
   "outputs": [
    {
     "data": {
      "text/plain": [
       "2229"
      ]
     },
     "execution_count": 223,
     "metadata": {},
     "output_type": "execute_result"
    }
   ],
   "source": [
    "#рассчитываем количество значений в выборке тарифа смарт\n",
    "len(smart)"
   ]
  },
  {
   "cell_type": "markdown",
   "metadata": {},
   "source": [
    "Таким образом, мы выяснили, что выборки неравны. А значит, в аргументе метода scipy.stats.ttest_ind(), необходимого для проведения t-теста мы укажем аргумент equal_var, равный False, поскольку есть основания думать, что дисперсии выборок неравны. Также на прошлом шаге мы выяснили, что дисперсии выборок неравны (669785 для тарифа \"смарт\" и 141516 для тарифа \"ультра\")"
   ]
  },
  {
   "cell_type": "markdown",
   "metadata": {},
   "source": [
    "**Нулевая гипотеза будет звучать так:**\n",
    "\n",
    "Средняя выручка пользователей тарифов «Ультра» и «Смарт» равны."
   ]
  },
  {
   "cell_type": "markdown",
   "metadata": {},
   "source": [
    "**Альтернативная же гипотеза будет звучать так:**\n",
    "\n",
    "Средняя выручка пользователей тарифов «Ультра» и «Смарт» различаются."
   ]
  },
  {
   "cell_type": "code",
   "execution_count": 224,
   "metadata": {},
   "outputs": [
    {
     "name": "stdout",
     "output_type": "stream",
     "text": [
      "p-значение:  4.2606313931076085e-250\n",
      "Отвергаем нулевую гипотезу. Средняя выручка различается.\n"
     ]
    }
   ],
   "source": [
    "# критический уровень статистической значимости - если p-value окажется меньше него - отвегнем гипотезу\n",
    "alpha = .01 \n",
    "#применяем t-тест\n",
    "result = st.ttest_ind(\n",
    "    ultra['profit'], \n",
    "    smart['profit'],\n",
    "    equal_var = False)\n",
    "\n",
    "#выводим на экран уровень значимости для этой статистики \n",
    "print('p-значение: ', result.pvalue)\n",
    "\n",
    "#проверяем гипотезу\n",
    "if result.pvalue < alpha:\n",
    "    print(\"Отвергаем нулевую гипотезу. Средняя выручка различается.\")\n",
    "else:\n",
    "    print(\"Не получилось отвергнуть нулевую гипотезу. Средняя выручка не различается.\")\n"
   ]
  },
  {
   "cell_type": "markdown",
   "metadata": {},
   "source": [
    "**Вывод**"
   ]
  },
  {
   "cell_type": "markdown",
   "metadata": {},
   "source": [
    "Мы видим, насколько мало значение p-value. p-value -это вероятность получить наблюдаемый или еще более далекий от предполагаемого результат при условии, что нулевая гипотеза верна. А мы видим, что вероятность настолько мала, что ее можно назвать невозможной. По этой причине мы можем отвергнуть нулевую гипотезу о равенстве средней выручки. \n",
    "\n",
    "Следовательно, гипотеза о том, что средняя выручка пользователей тарифов «Ультра» и «Смарт» различаются - не опровергается! Мы не смогли предоставить данные её опровергающие."
   ]
  },
  {
   "cell_type": "markdown",
   "metadata": {},
   "source": [
    "## Гипотеза \"Средняя выручка пользователей из Москвы отличается от выручки пользователей из других регионов\""
   ]
  },
  {
   "cell_type": "markdown",
   "metadata": {},
   "source": [
    "Для проверки данной гипотезы нам нужно будет выделить два датасета из одного: для Москвы и для других регионов."
   ]
  },
  {
   "cell_type": "code",
   "execution_count": 225,
   "metadata": {},
   "outputs": [],
   "source": [
    "#датасет с Москвой\n",
    "moscow = df.query('city == \"Москва\"')"
   ]
  },
  {
   "cell_type": "code",
   "execution_count": 231,
   "metadata": {},
   "outputs": [],
   "source": [
    "#датасет не с Москвой\n",
    "non_moscow = df.query('city != \"Москва\"')"
   ]
  },
  {
   "cell_type": "markdown",
   "metadata": {},
   "source": [
    "Для проверки гипотезы нам снова понадобится t-тест. Для того, чтобы использовать t-тест мы должны понять, различаются ли размеры выборки или нет. Для этого используем метод len() и заодно перестрахуемся и найдем дисперсии выборок."
   ]
  },
  {
   "cell_type": "code",
   "execution_count": 227,
   "metadata": {
    "scrolled": true
   },
   "outputs": [
    {
     "data": {
      "text/plain": [
       "611"
      ]
     },
     "execution_count": 227,
     "metadata": {},
     "output_type": "execute_result"
    }
   ],
   "source": [
    "#считаем размер выборки для Москвы\n",
    "len(moscow['profit'])"
   ]
  },
  {
   "cell_type": "code",
   "execution_count": 228,
   "metadata": {
    "scrolled": false
   },
   "outputs": [
    {
     "data": {
      "text/plain": [
       "2603"
      ]
     },
     "execution_count": 228,
     "metadata": {},
     "output_type": "execute_result"
    }
   ],
   "source": [
    "#считаем размер выборки для других регионов\n",
    "len(non_moscow['profit'])"
   ]
  },
  {
   "cell_type": "code",
   "execution_count": 229,
   "metadata": {},
   "outputs": [
    {
     "name": "stdout",
     "output_type": "stream",
     "text": [
      "Дисперсия для Москвы - 565636.467011886\n",
      "Дисперсия для других регионов- 654137.6285218114\n"
     ]
    }
   ],
   "source": [
    "#считаем дисперсию для Москвы\n",
    "variance_profit_m = np.var(moscow['profit'], ddof=1)\n",
    "print('Дисперсия для Москвы -', variance_profit_m)\n",
    "\n",
    "#считаем дисперсию для Москвы\n",
    "variance_profit_nm = np.var(non_moscow['profit'], ddof=1)\n",
    "print('Дисперсия для других регионов-', variance_profit_nm)"
   ]
  },
  {
   "cell_type": "markdown",
   "metadata": {},
   "source": [
    "Мы видим, что размеры выборок отвечают, а дисперсии неравны. Поэтому в  аргументе метода scipy.stats.ttest_ind(), необходимого для проведения t-теста мы укажем аргумент equal_var, равный False."
   ]
  },
  {
   "cell_type": "markdown",
   "metadata": {},
   "source": [
    "**Нулевая гипотеза звучит так:**\n",
    "    \n",
    "Средняя выручка пользователей из Москвы равна выручке пользователей из других регионов"
   ]
  },
  {
   "cell_type": "markdown",
   "metadata": {},
   "source": [
    "**Альтернативная же гипотеза будет звучать так:**\n",
    "    \n",
    "Средняя выручка пользователей из Москвы отличается от выручки пользователей из других регионов"
   ]
  },
  {
   "cell_type": "code",
   "execution_count": 230,
   "metadata": {},
   "outputs": [
    {
     "name": "stdout",
     "output_type": "stream",
     "text": [
      "p-значение:  0.5257376663729298\n",
      "Не получилось отвергнуть нулевую гипотезу. Средняя выручка не различается.\n"
     ]
    }
   ],
   "source": [
    "# критический уровень статистической значимости - если p-value окажется меньше него - отвегнем гипотезу\n",
    "alpha = .01 \n",
    "#применяем t-тест\n",
    "result = st.ttest_ind(\n",
    "    moscow['profit'], \n",
    "    non_moscow['profit'],\n",
    "    equal_var = False)\n",
    "\n",
    "#выводим на экран уровень значимости для этой статистики \n",
    "print('p-значение: ', result.pvalue)\n",
    "\n",
    "#проверяем гипотезу\n",
    "if result.pvalue < alpha:\n",
    "    print(\"Отвергаем нулевую гипотезу. Средняя выручка различается.\")\n",
    "else:\n",
    "    print(\"Не получилось отвергнуть нулевую гипотезу. Средняя выручка не различается.\")\n"
   ]
  },
  {
   "cell_type": "markdown",
   "metadata": {},
   "source": [
    "**Вывод**"
   ]
  },
  {
   "cell_type": "markdown",
   "metadata": {},
   "source": [
    "Мы видим, что значение p-value довольно велико и составляет 53%. Следовательно, вероятность получить наблюдаемый или еще более далекий от предполагаемого результат при условии, что нулевая гипотеза верна, равен 52%. \n",
    "По этой причине мы не опровергаем нулевую гипотезу, говорящей нам о том, что, средняя выручка пользователей из Москвы равна выручке пользователей из других регионов. \n",
    "\n",
    "Следовательно, гипотеза о том, что средняя выручка пользователей из Москвы отличается от выручки пользователей из других регионов - будет опровергнута! Мы смогли найти данные, опровергающие ее."
   ]
  },
  {
   "cell_type": "markdown",
   "metadata": {},
   "source": [
    "# Общий вывод:"
   ]
  },
  {
   "cell_type": "markdown",
   "metadata": {},
   "source": [
    "**В ходе выполнения исследования мы выполнили следующие задачи:**\n",
    "\n",
    "`1. Найти помесячную выручку с каждого пользователя.`\n",
    "\n",
    "Сделали мы это с помощью сводной таблицы, полученной с помощью метода join(), и собственной функции.\n",
    "\n",
    "\n",
    "`2. Описать поведение клиентов оператора, исходя из выборки. `\n",
    "\n",
    "Мы пришли к выводу о том, что поведение клиентов в зависимости от тарифа значительно разнится - помимо потребностей, у них различатся спрос на услуги тарифа. Единственная схожая черта для клиентов - высокая потребность в интернет-трафике\n",
    "\n",
    "\n",
    "`3. Посчитать среднее количество, дисперсию и стандартное отклонение для каждого показателя и каждого тарифа. `\n",
    "\n",
    "Мы это рассчитали, а в дальнейшем использовали для исследования поведения клиентов - выявляли среднестатистические потребности и потребности в общем. Для тарифа смарт замечена нехватка ресурсов, а для тарифа ультра - их переизбыток (за исключением интрнет-трафика)\n",
    "\n",
    "\n",
    "`4. Построить гистограммы. Опишите распределения. `\n",
    "\n",
    "С помощью гистограмм мы аналилизировали выборки и изучали поведение пользователей.\n",
    "\n",
    "\n",
    "`5. Проверить гипотезу: \"средняя выручка пользователей тарифов «Ультра» и «Смарт» различаются\".`\n",
    "\n",
    "Мы проверили гипотезу и пришли к выводу, что она ВЕРНА.\n",
    "\n",
    "`6. Проверить гипотезу: \"средняя выручка пользователей из Москвы отличается от выручки пользователей из других регионов\".`\n",
    "\n",
    "Мы проверили гипотезу и пришли к выводу, что она НЕВЕРНА."
   ]
  },
  {
   "cell_type": "markdown",
   "metadata": {},
   "source": [
    "**Финальный вывод**"
   ]
  },
  {
   "cell_type": "markdown",
   "metadata": {},
   "source": [
    "Анализируя все вышесказанное, можно сделать вывод о том, что тариф \"Ультра\" в среднем приносит больше прибыли, чем тариф \"Смарт\". Также в пользу тарифа \"Ультра\" свидетельствует и то, что его пользователи, как правило, не расходуют весь предоставленный им пакет услуг - следовательно, они просто переплачивают за услуги. Поэтому тарифа \"ультра\" является более прибыльным для оператора. Как уже было сказано ранее, один пользователь тарифа в среднем приносит около 2000 рублей оператору, в то время как один среднестатистический пользователь тарифа \"смарт\" приносит около 1200 оператору. Результат на лицо!"
   ]
  }
 ],
 "metadata": {
  "ExecuteTimeLog": [
   {
    "duration": 627,
    "start_time": "2022-02-10T07:46:45.127Z"
   },
   {
    "duration": 382,
    "start_time": "2022-02-10T07:50:22.247Z"
   },
   {
    "duration": 15,
    "start_time": "2022-02-10T07:50:52.133Z"
   },
   {
    "duration": 23,
    "start_time": "2022-02-10T07:51:10.886Z"
   },
   {
    "duration": 29,
    "start_time": "2022-02-10T07:52:59.781Z"
   },
   {
    "duration": 9,
    "start_time": "2022-02-10T07:54:08.180Z"
   },
   {
    "duration": 17,
    "start_time": "2022-02-10T07:55:18.156Z"
   },
   {
    "duration": 27,
    "start_time": "2022-02-10T07:55:24.515Z"
   },
   {
    "duration": 69,
    "start_time": "2022-02-10T07:55:32.651Z"
   },
   {
    "duration": 8,
    "start_time": "2022-02-10T07:56:24.380Z"
   },
   {
    "duration": 9,
    "start_time": "2022-02-10T08:00:11.402Z"
   },
   {
    "duration": 7,
    "start_time": "2022-02-10T08:01:00.018Z"
   },
   {
    "duration": 11,
    "start_time": "2022-02-10T08:01:40.370Z"
   },
   {
    "duration": 7,
    "start_time": "2022-02-10T08:02:02.555Z"
   },
   {
    "duration": 14,
    "start_time": "2022-02-10T08:02:09.969Z"
   },
   {
    "duration": 299,
    "start_time": "2022-02-13T17:47:49.343Z"
   },
   {
    "duration": 549,
    "start_time": "2022-02-13T17:47:57.342Z"
   },
   {
    "duration": 2,
    "start_time": "2022-02-13T17:47:59.822Z"
   },
   {
    "duration": 1953,
    "start_time": "2022-02-13T17:47:59.826Z"
   },
   {
    "duration": 14,
    "start_time": "2022-02-13T17:48:01.781Z"
   },
   {
    "duration": 19,
    "start_time": "2022-02-13T17:48:01.797Z"
   },
   {
    "duration": 27,
    "start_time": "2022-02-13T17:48:01.818Z"
   },
   {
    "duration": 8,
    "start_time": "2022-02-13T17:48:01.847Z"
   },
   {
    "duration": 24,
    "start_time": "2022-02-13T17:48:01.856Z"
   },
   {
    "duration": 26,
    "start_time": "2022-02-13T17:48:01.883Z"
   },
   {
    "duration": 19,
    "start_time": "2022-02-13T17:48:01.910Z"
   },
   {
    "duration": 8,
    "start_time": "2022-02-13T17:48:01.931Z"
   },
   {
    "duration": 7,
    "start_time": "2022-02-13T17:48:01.940Z"
   },
   {
    "duration": 11,
    "start_time": "2022-02-13T17:48:01.949Z"
   },
   {
    "duration": 6,
    "start_time": "2022-02-13T17:48:01.961Z"
   },
   {
    "duration": 19,
    "start_time": "2022-02-13T17:48:01.969Z"
   },
   {
    "duration": 49,
    "start_time": "2022-02-13T17:48:01.990Z"
   },
   {
    "duration": 92,
    "start_time": "2022-02-13T17:49:23.938Z"
   },
   {
    "duration": 24,
    "start_time": "2022-02-13T17:49:31.510Z"
   },
   {
    "duration": 7,
    "start_time": "2022-02-13T17:49:39.659Z"
   },
   {
    "duration": 5,
    "start_time": "2022-02-13T17:52:36.622Z"
   },
   {
    "duration": 281,
    "start_time": "2022-02-13T17:53:15.267Z"
   },
   {
    "duration": 17,
    "start_time": "2022-02-13T17:53:22.797Z"
   },
   {
    "duration": 15,
    "start_time": "2022-02-13T17:53:30.556Z"
   },
   {
    "duration": 7,
    "start_time": "2022-02-13T17:53:31.084Z"
   },
   {
    "duration": 5,
    "start_time": "2022-02-13T18:02:24.974Z"
   },
   {
    "duration": 7,
    "start_time": "2022-02-13T18:02:38.472Z"
   },
   {
    "duration": 84,
    "start_time": "2022-02-13T18:03:20.560Z"
   },
   {
    "duration": 282,
    "start_time": "2022-02-13T18:04:29.439Z"
   },
   {
    "duration": 15,
    "start_time": "2022-02-13T18:04:38.519Z"
   },
   {
    "duration": 67,
    "start_time": "2022-02-13T18:05:54.856Z"
   },
   {
    "duration": 69,
    "start_time": "2022-02-13T18:06:25.965Z"
   },
   {
    "duration": 22,
    "start_time": "2022-02-13T18:09:07.382Z"
   },
   {
    "duration": 30,
    "start_time": "2022-02-13T18:09:15.566Z"
   },
   {
    "duration": 89,
    "start_time": "2022-02-13T18:10:12.621Z"
   },
   {
    "duration": 25,
    "start_time": "2022-02-13T18:10:21.006Z"
   },
   {
    "duration": 23,
    "start_time": "2022-02-13T18:10:29.973Z"
   },
   {
    "duration": 21,
    "start_time": "2022-02-13T18:11:04.162Z"
   },
   {
    "duration": 22,
    "start_time": "2022-02-13T18:11:10.010Z"
   },
   {
    "duration": 23,
    "start_time": "2022-02-13T18:11:21.758Z"
   },
   {
    "duration": 22,
    "start_time": "2022-02-13T18:14:03.228Z"
   },
   {
    "duration": 3,
    "start_time": "2022-02-13T18:21:00.577Z"
   },
   {
    "duration": 382,
    "start_time": "2022-02-13T18:21:00.581Z"
   },
   {
    "duration": 8,
    "start_time": "2022-02-13T18:21:00.965Z"
   },
   {
    "duration": 22,
    "start_time": "2022-02-13T18:21:00.975Z"
   },
   {
    "duration": 24,
    "start_time": "2022-02-13T18:21:00.998Z"
   },
   {
    "duration": 8,
    "start_time": "2022-02-13T18:21:01.024Z"
   },
   {
    "duration": 19,
    "start_time": "2022-02-13T18:21:01.033Z"
   },
   {
    "duration": 24,
    "start_time": "2022-02-13T18:21:01.054Z"
   },
   {
    "duration": 6,
    "start_time": "2022-02-13T18:21:01.081Z"
   },
   {
    "duration": 9,
    "start_time": "2022-02-13T18:21:01.088Z"
   },
   {
    "duration": 14,
    "start_time": "2022-02-13T18:21:01.099Z"
   },
   {
    "duration": 21,
    "start_time": "2022-02-13T18:21:01.114Z"
   },
   {
    "duration": 7,
    "start_time": "2022-02-13T18:21:01.137Z"
   },
   {
    "duration": 16,
    "start_time": "2022-02-13T18:21:01.146Z"
   },
   {
    "duration": 44,
    "start_time": "2022-02-13T18:21:01.163Z"
   },
   {
    "duration": 35,
    "start_time": "2022-02-13T18:21:01.209Z"
   },
   {
    "duration": 4,
    "start_time": "2022-02-13T18:21:01.246Z"
   },
   {
    "duration": 10,
    "start_time": "2022-02-13T18:21:01.252Z"
   },
   {
    "duration": 89,
    "start_time": "2022-02-13T18:21:01.264Z"
   },
   {
    "duration": 27,
    "start_time": "2022-02-13T18:21:01.354Z"
   },
   {
    "duration": 7,
    "start_time": "2022-02-13T18:21:56.282Z"
   },
   {
    "duration": 34,
    "start_time": "2022-02-13T18:24:59.040Z"
   },
   {
    "duration": 11,
    "start_time": "2022-02-13T18:25:17.455Z"
   },
   {
    "duration": 4,
    "start_time": "2022-02-13T18:30:02.885Z"
   },
   {
    "duration": 7,
    "start_time": "2022-02-13T18:30:14.276Z"
   },
   {
    "duration": 85,
    "start_time": "2022-02-13T18:32:10.548Z"
   },
   {
    "duration": 30,
    "start_time": "2022-02-13T18:32:23.692Z"
   },
   {
    "duration": 15,
    "start_time": "2022-02-13T18:32:37.718Z"
   },
   {
    "duration": 4,
    "start_time": "2022-02-13T18:35:21.307Z"
   },
   {
    "duration": 6,
    "start_time": "2022-02-13T18:35:21.891Z"
   },
   {
    "duration": 31,
    "start_time": "2022-02-13T18:35:27.162Z"
   },
   {
    "duration": 2,
    "start_time": "2022-02-13T18:35:32.064Z"
   },
   {
    "duration": 356,
    "start_time": "2022-02-13T18:35:32.068Z"
   },
   {
    "duration": 9,
    "start_time": "2022-02-13T18:35:32.426Z"
   },
   {
    "duration": 20,
    "start_time": "2022-02-13T18:35:32.437Z"
   },
   {
    "duration": 24,
    "start_time": "2022-02-13T18:35:32.459Z"
   },
   {
    "duration": 7,
    "start_time": "2022-02-13T18:35:32.484Z"
   },
   {
    "duration": 40,
    "start_time": "2022-02-13T18:35:32.493Z"
   },
   {
    "duration": 24,
    "start_time": "2022-02-13T18:35:32.534Z"
   },
   {
    "duration": 6,
    "start_time": "2022-02-13T18:35:32.559Z"
   },
   {
    "duration": 7,
    "start_time": "2022-02-13T18:35:32.567Z"
   },
   {
    "duration": 6,
    "start_time": "2022-02-13T18:35:32.576Z"
   },
   {
    "duration": 12,
    "start_time": "2022-02-13T18:35:32.583Z"
   },
   {
    "duration": 32,
    "start_time": "2022-02-13T18:35:32.596Z"
   },
   {
    "duration": 17,
    "start_time": "2022-02-13T18:35:32.630Z"
   },
   {
    "duration": 40,
    "start_time": "2022-02-13T18:35:32.648Z"
   },
   {
    "duration": 14,
    "start_time": "2022-02-13T18:35:32.690Z"
   },
   {
    "duration": 20,
    "start_time": "2022-02-13T18:35:32.706Z"
   },
   {
    "duration": 6,
    "start_time": "2022-02-13T18:35:32.728Z"
   },
   {
    "duration": 60,
    "start_time": "2022-02-13T18:35:32.737Z"
   },
   {
    "duration": 39,
    "start_time": "2022-02-13T18:35:32.799Z"
   },
   {
    "duration": 7,
    "start_time": "2022-02-13T18:35:32.839Z"
   },
   {
    "duration": 30,
    "start_time": "2022-02-13T18:35:32.848Z"
   },
   {
    "duration": 9,
    "start_time": "2022-02-13T18:35:32.880Z"
   },
   {
    "duration": 3,
    "start_time": "2022-02-13T18:35:32.891Z"
   },
   {
    "duration": 36,
    "start_time": "2022-02-13T18:35:32.895Z"
   },
   {
    "duration": 30,
    "start_time": "2022-02-13T18:35:32.932Z"
   },
   {
    "duration": 23,
    "start_time": "2022-02-13T18:41:37.560Z"
   },
   {
    "duration": 10,
    "start_time": "2022-02-13T18:41:45.658Z"
   },
   {
    "duration": 308,
    "start_time": "2022-02-13T18:44:12.815Z"
   },
   {
    "duration": 291,
    "start_time": "2022-02-13T18:44:25.103Z"
   },
   {
    "duration": 30,
    "start_time": "2022-02-13T18:45:55.126Z"
   },
   {
    "duration": 23,
    "start_time": "2022-02-13T18:46:11.374Z"
   },
   {
    "duration": 21,
    "start_time": "2022-02-13T18:46:55.553Z"
   },
   {
    "duration": 88,
    "start_time": "2022-02-13T18:50:03.248Z"
   },
   {
    "duration": 7,
    "start_time": "2022-02-13T18:50:15.584Z"
   },
   {
    "duration": 7,
    "start_time": "2022-02-13T18:50:41.451Z"
   },
   {
    "duration": 88,
    "start_time": "2022-02-13T18:50:52.552Z"
   },
   {
    "duration": 10,
    "start_time": "2022-02-13T18:51:02.675Z"
   },
   {
    "duration": 3,
    "start_time": "2022-02-13T18:54:45.657Z"
   },
   {
    "duration": 357,
    "start_time": "2022-02-13T18:54:45.661Z"
   },
   {
    "duration": 8,
    "start_time": "2022-02-13T18:54:46.020Z"
   },
   {
    "duration": 21,
    "start_time": "2022-02-13T18:54:46.030Z"
   },
   {
    "duration": 24,
    "start_time": "2022-02-13T18:54:46.052Z"
   },
   {
    "duration": 8,
    "start_time": "2022-02-13T18:54:46.078Z"
   },
   {
    "duration": 19,
    "start_time": "2022-02-13T18:54:46.087Z"
   },
   {
    "duration": 25,
    "start_time": "2022-02-13T18:54:46.127Z"
   },
   {
    "duration": 7,
    "start_time": "2022-02-13T18:54:46.154Z"
   },
   {
    "duration": 9,
    "start_time": "2022-02-13T18:54:46.163Z"
   },
   {
    "duration": 9,
    "start_time": "2022-02-13T18:54:46.174Z"
   },
   {
    "duration": 13,
    "start_time": "2022-02-13T18:54:46.184Z"
   },
   {
    "duration": 32,
    "start_time": "2022-02-13T18:54:46.199Z"
   },
   {
    "duration": 18,
    "start_time": "2022-02-13T18:54:46.233Z"
   },
   {
    "duration": 9,
    "start_time": "2022-02-13T18:54:46.254Z"
   },
   {
    "duration": 41,
    "start_time": "2022-02-13T18:54:46.264Z"
   },
   {
    "duration": 16,
    "start_time": "2022-02-13T18:54:46.326Z"
   },
   {
    "duration": 5,
    "start_time": "2022-02-13T18:54:46.344Z"
   },
   {
    "duration": 7,
    "start_time": "2022-02-13T18:54:46.350Z"
   },
   {
    "duration": 91,
    "start_time": "2022-02-13T18:54:46.359Z"
   },
   {
    "duration": 23,
    "start_time": "2022-02-13T18:54:46.452Z"
   },
   {
    "duration": 7,
    "start_time": "2022-02-13T18:54:46.477Z"
   },
   {
    "duration": 57,
    "start_time": "2022-02-13T18:54:46.485Z"
   },
   {
    "duration": 11,
    "start_time": "2022-02-13T18:54:46.543Z"
   },
   {
    "duration": 7,
    "start_time": "2022-02-13T18:54:46.556Z"
   },
   {
    "duration": 40,
    "start_time": "2022-02-13T18:54:46.565Z"
   },
   {
    "duration": 37,
    "start_time": "2022-02-13T18:54:46.608Z"
   },
   {
    "duration": 5,
    "start_time": "2022-02-13T18:54:46.647Z"
   },
   {
    "duration": 35,
    "start_time": "2022-02-13T18:54:46.654Z"
   },
   {
    "duration": 20,
    "start_time": "2022-02-13T18:55:15.339Z"
   },
   {
    "duration": 7,
    "start_time": "2022-02-13T18:55:16.042Z"
   },
   {
    "duration": 3,
    "start_time": "2022-02-13T18:55:38.871Z"
   },
   {
    "duration": 425,
    "start_time": "2022-02-13T18:55:38.875Z"
   },
   {
    "duration": 8,
    "start_time": "2022-02-13T18:55:39.302Z"
   },
   {
    "duration": 21,
    "start_time": "2022-02-13T18:55:39.311Z"
   },
   {
    "duration": 28,
    "start_time": "2022-02-13T18:55:39.334Z"
   },
   {
    "duration": 8,
    "start_time": "2022-02-13T18:55:39.364Z"
   },
   {
    "duration": 18,
    "start_time": "2022-02-13T18:55:39.374Z"
   },
   {
    "duration": 39,
    "start_time": "2022-02-13T18:55:39.394Z"
   },
   {
    "duration": 6,
    "start_time": "2022-02-13T18:55:39.436Z"
   },
   {
    "duration": 12,
    "start_time": "2022-02-13T18:55:39.443Z"
   },
   {
    "duration": 8,
    "start_time": "2022-02-13T18:55:39.456Z"
   },
   {
    "duration": 11,
    "start_time": "2022-02-13T18:55:39.466Z"
   },
   {
    "duration": 7,
    "start_time": "2022-02-13T18:55:39.479Z"
   },
   {
    "duration": 15,
    "start_time": "2022-02-13T18:55:39.488Z"
   },
   {
    "duration": 24,
    "start_time": "2022-02-13T18:55:39.504Z"
   },
   {
    "duration": 42,
    "start_time": "2022-02-13T18:55:39.529Z"
   },
   {
    "duration": 16,
    "start_time": "2022-02-13T18:55:39.572Z"
   },
   {
    "duration": 4,
    "start_time": "2022-02-13T18:55:39.589Z"
   },
   {
    "duration": 7,
    "start_time": "2022-02-13T18:55:39.595Z"
   },
   {
    "duration": 90,
    "start_time": "2022-02-13T18:55:39.603Z"
   },
   {
    "duration": 37,
    "start_time": "2022-02-13T18:55:39.694Z"
   },
   {
    "duration": 6,
    "start_time": "2022-02-13T18:55:39.733Z"
   },
   {
    "duration": 33,
    "start_time": "2022-02-13T18:55:39.742Z"
   },
   {
    "duration": 10,
    "start_time": "2022-02-13T18:55:39.776Z"
   },
   {
    "duration": 9,
    "start_time": "2022-02-13T18:55:39.788Z"
   },
   {
    "duration": 59,
    "start_time": "2022-02-13T18:55:39.799Z"
   },
   {
    "duration": 20,
    "start_time": "2022-02-13T18:55:39.859Z"
   },
   {
    "duration": 6,
    "start_time": "2022-02-13T18:55:39.881Z"
   },
   {
    "duration": 47,
    "start_time": "2022-02-13T18:55:39.888Z"
   },
   {
    "duration": 6,
    "start_time": "2022-02-13T18:55:39.936Z"
   },
   {
    "duration": 41,
    "start_time": "2022-02-13T18:56:07.234Z"
   },
   {
    "duration": 12,
    "start_time": "2022-02-13T18:56:11.521Z"
   },
   {
    "duration": 41,
    "start_time": "2022-02-13T18:56:17.073Z"
   },
   {
    "duration": 32,
    "start_time": "2022-02-13T18:56:22.116Z"
   },
   {
    "duration": 34,
    "start_time": "2022-02-13T19:00:54.176Z"
   },
   {
    "duration": 9,
    "start_time": "2022-02-13T19:01:43.905Z"
   },
   {
    "duration": 132,
    "start_time": "2022-02-13T19:03:18.423Z"
   },
   {
    "duration": 8,
    "start_time": "2022-02-13T19:03:23.378Z"
   },
   {
    "duration": 5,
    "start_time": "2022-02-13T19:07:35.314Z"
   },
   {
    "duration": 10,
    "start_time": "2022-02-13T19:08:35.878Z"
   },
   {
    "duration": 10,
    "start_time": "2022-02-13T19:08:52.701Z"
   },
   {
    "duration": 6780,
    "start_time": "2022-02-13T19:47:36.473Z"
   },
   {
    "duration": 4,
    "start_time": "2022-02-13T19:48:06.019Z"
   },
   {
    "duration": 8,
    "start_time": "2022-02-13T19:48:38.315Z"
   },
   {
    "duration": 264,
    "start_time": "2022-02-13T19:53:54.007Z"
   },
   {
    "duration": 292,
    "start_time": "2022-02-13T19:54:03.961Z"
   },
   {
    "duration": 289,
    "start_time": "2022-02-13T19:54:08.962Z"
   },
   {
    "duration": 2,
    "start_time": "2022-02-13T19:54:14.720Z"
   },
   {
    "duration": 370,
    "start_time": "2022-02-13T19:54:14.723Z"
   },
   {
    "duration": 7,
    "start_time": "2022-02-13T19:54:15.095Z"
   },
   {
    "duration": 19,
    "start_time": "2022-02-13T19:54:15.104Z"
   },
   {
    "duration": 22,
    "start_time": "2022-02-13T19:54:15.125Z"
   },
   {
    "duration": 7,
    "start_time": "2022-02-13T19:54:15.148Z"
   },
   {
    "duration": 18,
    "start_time": "2022-02-13T19:54:15.157Z"
   },
   {
    "duration": 25,
    "start_time": "2022-02-13T19:54:15.177Z"
   },
   {
    "duration": 26,
    "start_time": "2022-02-13T19:54:15.204Z"
   },
   {
    "duration": 8,
    "start_time": "2022-02-13T19:54:15.231Z"
   },
   {
    "duration": 6,
    "start_time": "2022-02-13T19:54:15.241Z"
   },
   {
    "duration": 10,
    "start_time": "2022-02-13T19:54:15.248Z"
   },
   {
    "duration": 7,
    "start_time": "2022-02-13T19:54:15.259Z"
   },
   {
    "duration": 12,
    "start_time": "2022-02-13T19:54:15.267Z"
   },
   {
    "duration": 5,
    "start_time": "2022-02-13T19:54:15.281Z"
   },
   {
    "duration": 68,
    "start_time": "2022-02-13T19:54:15.288Z"
   },
   {
    "duration": 14,
    "start_time": "2022-02-13T19:54:15.358Z"
   },
   {
    "duration": 4,
    "start_time": "2022-02-13T19:54:15.374Z"
   },
   {
    "duration": 7,
    "start_time": "2022-02-13T19:54:15.379Z"
   },
   {
    "duration": 78,
    "start_time": "2022-02-13T19:54:15.387Z"
   },
   {
    "duration": 24,
    "start_time": "2022-02-13T19:54:15.466Z"
   },
   {
    "duration": 6,
    "start_time": "2022-02-13T19:54:15.492Z"
   },
   {
    "duration": 51,
    "start_time": "2022-02-13T19:54:15.501Z"
   },
   {
    "duration": 10,
    "start_time": "2022-02-13T19:54:15.554Z"
   },
   {
    "duration": 10,
    "start_time": "2022-02-13T19:54:15.566Z"
   },
   {
    "duration": 51,
    "start_time": "2022-02-13T19:54:15.577Z"
   },
   {
    "duration": 21,
    "start_time": "2022-02-13T19:54:15.630Z"
   },
   {
    "duration": 6,
    "start_time": "2022-02-13T19:54:15.652Z"
   },
   {
    "duration": 31,
    "start_time": "2022-02-13T19:54:15.659Z"
   },
   {
    "duration": 5,
    "start_time": "2022-02-13T19:54:15.692Z"
   },
   {
    "duration": 50,
    "start_time": "2022-02-13T19:54:15.699Z"
   },
   {
    "duration": 21,
    "start_time": "2022-02-13T19:54:15.750Z"
   },
   {
    "duration": 7,
    "start_time": "2022-02-13T19:54:15.773Z"
   },
   {
    "duration": 9,
    "start_time": "2022-02-13T19:54:15.781Z"
   },
   {
    "duration": 265,
    "start_time": "2022-02-13T19:54:15.792Z"
   },
   {
    "duration": 16,
    "start_time": "2022-02-13T19:54:49.810Z"
   },
   {
    "duration": 29,
    "start_time": "2022-02-13T19:55:25.258Z"
   },
   {
    "duration": 25,
    "start_time": "2022-02-13T19:55:39.496Z"
   },
   {
    "duration": 39,
    "start_time": "2022-02-13T19:55:43.827Z"
   },
   {
    "duration": 58,
    "start_time": "2022-02-13T19:56:20.264Z"
   },
   {
    "duration": 3,
    "start_time": "2022-02-13T19:57:16.598Z"
   },
   {
    "duration": 395,
    "start_time": "2022-02-13T19:57:16.602Z"
   },
   {
    "duration": 7,
    "start_time": "2022-02-13T19:57:16.999Z"
   },
   {
    "duration": 20,
    "start_time": "2022-02-13T19:57:17.008Z"
   },
   {
    "duration": 22,
    "start_time": "2022-02-13T19:57:17.029Z"
   },
   {
    "duration": 7,
    "start_time": "2022-02-13T19:57:17.053Z"
   },
   {
    "duration": 17,
    "start_time": "2022-02-13T19:57:17.061Z"
   },
   {
    "duration": 24,
    "start_time": "2022-02-13T19:57:17.080Z"
   },
   {
    "duration": 22,
    "start_time": "2022-02-13T19:57:17.106Z"
   },
   {
    "duration": 7,
    "start_time": "2022-02-13T19:57:17.129Z"
   },
   {
    "duration": 6,
    "start_time": "2022-02-13T19:57:17.137Z"
   },
   {
    "duration": 11,
    "start_time": "2022-02-13T19:57:17.144Z"
   },
   {
    "duration": 12,
    "start_time": "2022-02-13T19:57:17.156Z"
   },
   {
    "duration": 14,
    "start_time": "2022-02-13T19:57:17.170Z"
   },
   {
    "duration": 6,
    "start_time": "2022-02-13T19:57:17.185Z"
   },
   {
    "duration": 68,
    "start_time": "2022-02-13T19:57:17.193Z"
   },
   {
    "duration": 14,
    "start_time": "2022-02-13T19:57:17.263Z"
   },
   {
    "duration": 5,
    "start_time": "2022-02-13T19:57:17.279Z"
   },
   {
    "duration": 7,
    "start_time": "2022-02-13T19:57:17.285Z"
   },
   {
    "duration": 89,
    "start_time": "2022-02-13T19:57:17.294Z"
   },
   {
    "duration": 25,
    "start_time": "2022-02-13T19:57:17.384Z"
   },
   {
    "duration": 20,
    "start_time": "2022-02-13T19:57:17.411Z"
   },
   {
    "duration": 9,
    "start_time": "2022-02-13T19:57:17.432Z"
   },
   {
    "duration": 31,
    "start_time": "2022-02-13T19:57:17.442Z"
   },
   {
    "duration": 10,
    "start_time": "2022-02-13T19:57:17.475Z"
   },
   {
    "duration": 6,
    "start_time": "2022-02-13T19:57:17.487Z"
   },
   {
    "duration": 64,
    "start_time": "2022-02-13T19:57:17.496Z"
   },
   {
    "duration": 19,
    "start_time": "2022-02-13T19:57:17.562Z"
   },
   {
    "duration": 9,
    "start_time": "2022-02-13T19:57:17.583Z"
   },
   {
    "duration": 7,
    "start_time": "2022-02-13T19:57:17.594Z"
   },
   {
    "duration": 50,
    "start_time": "2022-02-13T19:57:17.602Z"
   },
   {
    "duration": 5,
    "start_time": "2022-02-13T19:57:17.654Z"
   },
   {
    "duration": 32,
    "start_time": "2022-02-13T19:57:17.661Z"
   },
   {
    "duration": 33,
    "start_time": "2022-02-13T19:57:17.695Z"
   },
   {
    "duration": 10,
    "start_time": "2022-02-13T19:57:17.729Z"
   },
   {
    "duration": 9,
    "start_time": "2022-02-13T19:57:17.740Z"
   },
   {
    "duration": 8,
    "start_time": "2022-02-13T19:57:17.750Z"
   },
   {
    "duration": 11,
    "start_time": "2022-02-13T19:57:17.759Z"
   },
   {
    "duration": 27,
    "start_time": "2022-02-13T19:57:17.771Z"
   },
   {
    "duration": 9,
    "start_time": "2022-02-13T20:01:40.359Z"
   },
   {
    "duration": 1122,
    "start_time": "2022-02-13T20:01:53.336Z"
   },
   {
    "duration": 282,
    "start_time": "2022-02-13T20:02:22.087Z"
   },
   {
    "duration": 1188,
    "start_time": "2022-02-13T20:02:29.836Z"
   },
   {
    "duration": 27,
    "start_time": "2022-02-13T20:02:37.014Z"
   },
   {
    "duration": 8,
    "start_time": "2022-02-13T20:04:56.029Z"
   },
   {
    "duration": 8,
    "start_time": "2022-02-13T20:06:28.676Z"
   },
   {
    "duration": 25,
    "start_time": "2022-02-13T20:07:18.700Z"
   },
   {
    "duration": 18,
    "start_time": "2022-02-13T20:07:56.569Z"
   },
   {
    "duration": 29,
    "start_time": "2022-02-13T20:08:15.491Z"
   },
   {
    "duration": 306,
    "start_time": "2022-02-13T20:08:56.671Z"
   },
   {
    "duration": 9,
    "start_time": "2022-02-13T20:12:51.337Z"
   },
   {
    "duration": 7,
    "start_time": "2022-02-13T20:12:52.569Z"
   },
   {
    "duration": 7,
    "start_time": "2022-02-13T20:13:16.626Z"
   },
   {
    "duration": 137,
    "start_time": "2022-02-13T20:14:18.209Z"
   },
   {
    "duration": 4,
    "start_time": "2022-02-13T20:14:40.984Z"
   },
   {
    "duration": 7,
    "start_time": "2022-02-13T20:14:44.777Z"
   },
   {
    "duration": 15,
    "start_time": "2022-02-13T20:14:54.240Z"
   },
   {
    "duration": 87,
    "start_time": "2022-02-13T20:16:20.145Z"
   },
   {
    "duration": 5,
    "start_time": "2022-02-13T20:16:25.768Z"
   },
   {
    "duration": 11,
    "start_time": "2022-02-13T20:16:40.475Z"
   },
   {
    "duration": 8,
    "start_time": "2022-02-13T20:19:14.992Z"
   },
   {
    "duration": 89,
    "start_time": "2022-02-13T20:20:20.735Z"
   },
   {
    "duration": 10,
    "start_time": "2022-02-13T20:21:09.503Z"
   },
   {
    "duration": 7,
    "start_time": "2022-02-13T20:21:16.495Z"
   },
   {
    "duration": 6,
    "start_time": "2022-02-13T20:21:51.117Z"
   },
   {
    "duration": 277,
    "start_time": "2022-02-13T20:22:31.630Z"
   },
   {
    "duration": 36,
    "start_time": "2022-02-13T20:22:43.318Z"
   },
   {
    "duration": 6,
    "start_time": "2022-02-13T20:24:17.788Z"
   },
   {
    "duration": 11,
    "start_time": "2022-02-13T20:24:32.340Z"
   },
   {
    "duration": 5,
    "start_time": "2022-02-13T20:24:47.796Z"
   },
   {
    "duration": 3,
    "start_time": "2022-02-13T20:25:58.803Z"
   },
   {
    "duration": 395,
    "start_time": "2022-02-13T20:25:58.808Z"
   },
   {
    "duration": 8,
    "start_time": "2022-02-13T20:25:59.205Z"
   },
   {
    "duration": 22,
    "start_time": "2022-02-13T20:25:59.215Z"
   },
   {
    "duration": 31,
    "start_time": "2022-02-13T20:25:59.239Z"
   },
   {
    "duration": 10,
    "start_time": "2022-02-13T20:25:59.271Z"
   },
   {
    "duration": 26,
    "start_time": "2022-02-13T20:25:59.283Z"
   },
   {
    "duration": 26,
    "start_time": "2022-02-13T20:25:59.327Z"
   },
   {
    "duration": 7,
    "start_time": "2022-02-13T20:25:59.354Z"
   },
   {
    "duration": 8,
    "start_time": "2022-02-13T20:25:59.362Z"
   },
   {
    "duration": 6,
    "start_time": "2022-02-13T20:25:59.372Z"
   },
   {
    "duration": 16,
    "start_time": "2022-02-13T20:25:59.380Z"
   },
   {
    "duration": 12,
    "start_time": "2022-02-13T20:25:59.398Z"
   },
   {
    "duration": 14,
    "start_time": "2022-02-13T20:25:59.427Z"
   },
   {
    "duration": 9,
    "start_time": "2022-02-13T20:25:59.443Z"
   },
   {
    "duration": 6,
    "start_time": "2022-02-13T20:25:59.454Z"
   },
   {
    "duration": 11,
    "start_time": "2022-02-13T20:25:59.461Z"
   },
   {
    "duration": 13,
    "start_time": "2022-02-13T20:25:59.473Z"
   },
   {
    "duration": 8,
    "start_time": "2022-02-13T20:25:59.487Z"
   },
   {
    "duration": 30,
    "start_time": "2022-02-13T20:25:59.497Z"
   },
   {
    "duration": 10,
    "start_time": "2022-02-13T20:25:59.529Z"
   },
   {
    "duration": 8,
    "start_time": "2022-02-13T20:25:59.541Z"
   },
   {
    "duration": 42,
    "start_time": "2022-02-13T20:25:59.552Z"
   },
   {
    "duration": 34,
    "start_time": "2022-02-13T20:25:59.596Z"
   },
   {
    "duration": 3,
    "start_time": "2022-02-13T20:25:59.632Z"
   },
   {
    "duration": 9,
    "start_time": "2022-02-13T20:25:59.636Z"
   },
   {
    "duration": 82,
    "start_time": "2022-02-13T20:25:59.646Z"
   },
   {
    "duration": 27,
    "start_time": "2022-02-13T20:25:59.729Z"
   },
   {
    "duration": 6,
    "start_time": "2022-02-13T20:25:59.758Z"
   },
   {
    "duration": 31,
    "start_time": "2022-02-13T20:25:59.766Z"
   },
   {
    "duration": 35,
    "start_time": "2022-02-13T20:25:59.799Z"
   },
   {
    "duration": 8,
    "start_time": "2022-02-13T20:25:59.835Z"
   },
   {
    "duration": 43,
    "start_time": "2022-02-13T20:25:59.844Z"
   },
   {
    "duration": 40,
    "start_time": "2022-02-13T20:25:59.889Z"
   },
   {
    "duration": 5,
    "start_time": "2022-02-13T20:25:59.931Z"
   },
   {
    "duration": 31,
    "start_time": "2022-02-13T20:25:59.937Z"
   },
   {
    "duration": 7,
    "start_time": "2022-02-13T20:25:59.969Z"
   },
   {
    "duration": 50,
    "start_time": "2022-02-13T20:25:59.978Z"
   },
   {
    "duration": 22,
    "start_time": "2022-02-13T20:26:00.029Z"
   },
   {
    "duration": 61,
    "start_time": "2022-02-13T20:26:00.052Z"
   },
   {
    "duration": 18,
    "start_time": "2022-02-13T20:26:22.617Z"
   },
   {
    "duration": 20,
    "start_time": "2022-02-13T20:26:44.966Z"
   },
   {
    "duration": 9,
    "start_time": "2022-02-13T20:26:59.547Z"
   },
   {
    "duration": 8,
    "start_time": "2022-02-13T20:27:08.587Z"
   },
   {
    "duration": 3,
    "start_time": "2022-02-13T20:28:01.616Z"
   },
   {
    "duration": 3,
    "start_time": "2022-02-13T20:28:06.490Z"
   },
   {
    "duration": 2,
    "start_time": "2022-02-13T20:28:09.482Z"
   },
   {
    "duration": 263,
    "start_time": "2022-02-13T20:28:19.918Z"
   },
   {
    "duration": 2,
    "start_time": "2022-02-13T20:28:20.763Z"
   },
   {
    "duration": 2,
    "start_time": "2022-02-13T20:28:28.306Z"
   },
   {
    "duration": 384,
    "start_time": "2022-02-13T20:28:28.310Z"
   },
   {
    "duration": 7,
    "start_time": "2022-02-13T20:28:28.695Z"
   },
   {
    "duration": 20,
    "start_time": "2022-02-13T20:28:28.704Z"
   },
   {
    "duration": 24,
    "start_time": "2022-02-13T20:28:28.725Z"
   },
   {
    "duration": 8,
    "start_time": "2022-02-13T20:28:28.750Z"
   },
   {
    "duration": 15,
    "start_time": "2022-02-13T20:28:28.760Z"
   },
   {
    "duration": 24,
    "start_time": "2022-02-13T20:28:28.776Z"
   },
   {
    "duration": 6,
    "start_time": "2022-02-13T20:28:28.801Z"
   },
   {
    "duration": 7,
    "start_time": "2022-02-13T20:28:28.827Z"
   },
   {
    "duration": 6,
    "start_time": "2022-02-13T20:28:28.836Z"
   },
   {
    "duration": 10,
    "start_time": "2022-02-13T20:28:28.844Z"
   },
   {
    "duration": 6,
    "start_time": "2022-02-13T20:28:28.855Z"
   },
   {
    "duration": 14,
    "start_time": "2022-02-13T20:28:28.862Z"
   },
   {
    "duration": 6,
    "start_time": "2022-02-13T20:28:28.877Z"
   },
   {
    "duration": 6,
    "start_time": "2022-02-13T20:28:28.884Z"
   },
   {
    "duration": 41,
    "start_time": "2022-02-13T20:28:28.891Z"
   },
   {
    "duration": 11,
    "start_time": "2022-02-13T20:28:28.933Z"
   },
   {
    "duration": 7,
    "start_time": "2022-02-13T20:28:28.947Z"
   },
   {
    "duration": 5,
    "start_time": "2022-02-13T20:28:28.956Z"
   },
   {
    "duration": 10,
    "start_time": "2022-02-13T20:28:28.963Z"
   },
   {
    "duration": 7,
    "start_time": "2022-02-13T20:28:28.974Z"
   },
   {
    "duration": 66,
    "start_time": "2022-02-13T20:28:28.983Z"
   },
   {
    "duration": 18,
    "start_time": "2022-02-13T20:28:29.051Z"
   },
   {
    "duration": 4,
    "start_time": "2022-02-13T20:28:29.071Z"
   },
   {
    "duration": 8,
    "start_time": "2022-02-13T20:28:29.076Z"
   },
   {
    "duration": 92,
    "start_time": "2022-02-13T20:28:29.085Z"
   },
   {
    "duration": 26,
    "start_time": "2022-02-13T20:28:29.179Z"
   },
   {
    "duration": 21,
    "start_time": "2022-02-13T20:28:29.207Z"
   },
   {
    "duration": 31,
    "start_time": "2022-02-13T20:28:29.229Z"
   },
   {
    "duration": 10,
    "start_time": "2022-02-13T20:28:29.262Z"
   },
   {
    "duration": 7,
    "start_time": "2022-02-13T20:28:29.274Z"
   },
   {
    "duration": 68,
    "start_time": "2022-02-13T20:28:29.282Z"
   },
   {
    "duration": 20,
    "start_time": "2022-02-13T20:28:29.351Z"
   },
   {
    "duration": 5,
    "start_time": "2022-02-13T20:28:29.373Z"
   },
   {
    "duration": 49,
    "start_time": "2022-02-13T20:28:29.379Z"
   },
   {
    "duration": 6,
    "start_time": "2022-02-13T20:28:29.429Z"
   },
   {
    "duration": 31,
    "start_time": "2022-02-13T20:28:29.436Z"
   },
   {
    "duration": 20,
    "start_time": "2022-02-13T20:28:29.469Z"
   },
   {
    "duration": 39,
    "start_time": "2022-02-13T20:28:29.491Z"
   },
   {
    "duration": 8,
    "start_time": "2022-02-13T20:28:29.531Z"
   },
   {
    "duration": 8,
    "start_time": "2022-02-13T20:28:29.540Z"
   },
   {
    "duration": 4,
    "start_time": "2022-02-13T20:28:29.550Z"
   },
   {
    "duration": 11,
    "start_time": "2022-02-13T20:28:29.555Z"
   },
   {
    "duration": 282,
    "start_time": "2022-02-13T20:28:57.130Z"
   },
   {
    "duration": 20,
    "start_time": "2022-02-13T20:29:06.842Z"
   },
   {
    "duration": 2,
    "start_time": "2022-02-13T20:29:45.050Z"
   },
   {
    "duration": 375,
    "start_time": "2022-02-13T20:29:45.055Z"
   },
   {
    "duration": 8,
    "start_time": "2022-02-13T20:29:45.433Z"
   },
   {
    "duration": 28,
    "start_time": "2022-02-13T20:29:45.443Z"
   },
   {
    "duration": 24,
    "start_time": "2022-02-13T20:29:45.472Z"
   },
   {
    "duration": 8,
    "start_time": "2022-02-13T20:29:45.497Z"
   },
   {
    "duration": 34,
    "start_time": "2022-02-13T20:29:45.506Z"
   },
   {
    "duration": 23,
    "start_time": "2022-02-13T20:29:45.542Z"
   },
   {
    "duration": 5,
    "start_time": "2022-02-13T20:29:45.567Z"
   },
   {
    "duration": 10,
    "start_time": "2022-02-13T20:29:45.574Z"
   },
   {
    "duration": 7,
    "start_time": "2022-02-13T20:29:45.585Z"
   },
   {
    "duration": 20,
    "start_time": "2022-02-13T20:29:45.594Z"
   },
   {
    "duration": 5,
    "start_time": "2022-02-13T20:29:45.628Z"
   },
   {
    "duration": 14,
    "start_time": "2022-02-13T20:29:45.635Z"
   },
   {
    "duration": 8,
    "start_time": "2022-02-13T20:29:45.650Z"
   },
   {
    "duration": 5,
    "start_time": "2022-02-13T20:29:45.659Z"
   },
   {
    "duration": 8,
    "start_time": "2022-02-13T20:29:45.665Z"
   },
   {
    "duration": 10,
    "start_time": "2022-02-13T20:29:45.675Z"
   },
   {
    "duration": 41,
    "start_time": "2022-02-13T20:29:45.687Z"
   },
   {
    "duration": 6,
    "start_time": "2022-02-13T20:29:45.729Z"
   },
   {
    "duration": 9,
    "start_time": "2022-02-13T20:29:45.737Z"
   },
   {
    "duration": 8,
    "start_time": "2022-02-13T20:29:45.748Z"
   },
   {
    "duration": 41,
    "start_time": "2022-02-13T20:29:45.760Z"
   },
   {
    "duration": 20,
    "start_time": "2022-02-13T20:29:45.828Z"
   },
   {
    "duration": 5,
    "start_time": "2022-02-13T20:29:45.849Z"
   },
   {
    "duration": 8,
    "start_time": "2022-02-13T20:29:45.855Z"
   },
   {
    "duration": 85,
    "start_time": "2022-02-13T20:29:45.865Z"
   },
   {
    "duration": 27,
    "start_time": "2022-02-13T20:29:45.951Z"
   },
   {
    "duration": 7,
    "start_time": "2022-02-13T20:29:45.979Z"
   },
   {
    "duration": 45,
    "start_time": "2022-02-13T20:29:45.987Z"
   },
   {
    "duration": 10,
    "start_time": "2022-02-13T20:29:46.034Z"
   },
   {
    "duration": 7,
    "start_time": "2022-02-13T20:29:46.046Z"
   },
   {
    "duration": 53,
    "start_time": "2022-02-13T20:29:46.054Z"
   },
   {
    "duration": 47,
    "start_time": "2022-02-13T20:29:46.108Z"
   },
   {
    "duration": 7,
    "start_time": "2022-02-13T20:29:46.157Z"
   },
   {
    "duration": 42,
    "start_time": "2022-02-13T20:29:46.166Z"
   },
   {
    "duration": 22,
    "start_time": "2022-02-13T20:29:46.210Z"
   },
   {
    "duration": 44,
    "start_time": "2022-02-13T20:29:46.234Z"
   },
   {
    "duration": 30,
    "start_time": "2022-02-13T20:29:46.280Z"
   },
   {
    "duration": 1268,
    "start_time": "2022-02-13T20:29:46.312Z"
   },
   {
    "duration": -364,
    "start_time": "2022-02-13T20:29:47.946Z"
   },
   {
    "duration": -368,
    "start_time": "2022-02-13T20:29:47.950Z"
   },
   {
    "duration": -370,
    "start_time": "2022-02-13T20:29:47.953Z"
   },
   {
    "duration": -372,
    "start_time": "2022-02-13T20:29:47.956Z"
   },
   {
    "duration": -375,
    "start_time": "2022-02-13T20:29:47.959Z"
   },
   {
    "duration": 3,
    "start_time": "2022-02-13T20:29:54.048Z"
   },
   {
    "duration": 479,
    "start_time": "2022-02-13T20:29:54.053Z"
   },
   {
    "duration": 7,
    "start_time": "2022-02-13T20:29:54.534Z"
   },
   {
    "duration": 22,
    "start_time": "2022-02-13T20:29:54.542Z"
   },
   {
    "duration": 23,
    "start_time": "2022-02-13T20:29:54.565Z"
   },
   {
    "duration": 7,
    "start_time": "2022-02-13T20:29:54.589Z"
   },
   {
    "duration": 34,
    "start_time": "2022-02-13T20:29:54.597Z"
   },
   {
    "duration": 24,
    "start_time": "2022-02-13T20:29:54.633Z"
   },
   {
    "duration": 7,
    "start_time": "2022-02-13T20:29:54.658Z"
   },
   {
    "duration": 8,
    "start_time": "2022-02-13T20:29:54.666Z"
   },
   {
    "duration": 7,
    "start_time": "2022-02-13T20:29:54.675Z"
   },
   {
    "duration": 10,
    "start_time": "2022-02-13T20:29:54.683Z"
   },
   {
    "duration": 6,
    "start_time": "2022-02-13T20:29:54.695Z"
   },
   {
    "duration": 12,
    "start_time": "2022-02-13T20:29:54.727Z"
   },
   {
    "duration": 6,
    "start_time": "2022-02-13T20:29:54.740Z"
   },
   {
    "duration": 3,
    "start_time": "2022-02-13T20:29:54.748Z"
   },
   {
    "duration": 8,
    "start_time": "2022-02-13T20:29:54.752Z"
   },
   {
    "duration": 9,
    "start_time": "2022-02-13T20:29:54.761Z"
   },
   {
    "duration": 8,
    "start_time": "2022-02-13T20:29:54.771Z"
   },
   {
    "duration": 5,
    "start_time": "2022-02-13T20:29:54.781Z"
   },
   {
    "duration": 39,
    "start_time": "2022-02-13T20:29:54.788Z"
   },
   {
    "duration": 6,
    "start_time": "2022-02-13T20:29:54.829Z"
   },
   {
    "duration": 39,
    "start_time": "2022-02-13T20:29:54.838Z"
   },
   {
    "duration": 17,
    "start_time": "2022-02-13T20:29:54.879Z"
   },
   {
    "duration": 4,
    "start_time": "2022-02-13T20:29:54.897Z"
   },
   {
    "duration": 27,
    "start_time": "2022-02-13T20:29:54.903Z"
   },
   {
    "duration": 67,
    "start_time": "2022-02-13T20:29:54.932Z"
   },
   {
    "duration": 38,
    "start_time": "2022-02-13T20:29:55.000Z"
   },
   {
    "duration": 7,
    "start_time": "2022-02-13T20:29:55.040Z"
   },
   {
    "duration": 32,
    "start_time": "2022-02-13T20:29:55.048Z"
   },
   {
    "duration": 10,
    "start_time": "2022-02-13T20:29:55.081Z"
   },
   {
    "duration": 7,
    "start_time": "2022-02-13T20:29:55.093Z"
   },
   {
    "duration": 63,
    "start_time": "2022-02-13T20:29:55.101Z"
   },
   {
    "duration": 21,
    "start_time": "2022-02-13T20:29:55.165Z"
   },
   {
    "duration": 7,
    "start_time": "2022-02-13T20:29:55.187Z"
   },
   {
    "duration": 52,
    "start_time": "2022-02-13T20:29:55.196Z"
   },
   {
    "duration": 7,
    "start_time": "2022-02-13T20:29:55.249Z"
   },
   {
    "duration": 29,
    "start_time": "2022-02-13T20:29:55.257Z"
   },
   {
    "duration": 40,
    "start_time": "2022-02-13T20:29:55.288Z"
   },
   {
    "duration": 53,
    "start_time": "2022-02-13T20:29:55.329Z"
   },
   {
    "duration": 8,
    "start_time": "2022-02-13T20:29:55.384Z"
   },
   {
    "duration": 13,
    "start_time": "2022-02-13T20:29:55.393Z"
   },
   {
    "duration": 20,
    "start_time": "2022-02-13T20:29:55.407Z"
   },
   {
    "duration": 10,
    "start_time": "2022-02-13T20:29:55.428Z"
   },
   {
    "duration": 24,
    "start_time": "2022-02-13T20:29:55.439Z"
   },
   {
    "duration": 2,
    "start_time": "2022-02-13T20:33:33.879Z"
   },
   {
    "duration": 374,
    "start_time": "2022-02-13T20:33:33.883Z"
   },
   {
    "duration": 7,
    "start_time": "2022-02-13T20:33:34.260Z"
   },
   {
    "duration": 21,
    "start_time": "2022-02-13T20:33:34.269Z"
   },
   {
    "duration": 23,
    "start_time": "2022-02-13T20:33:34.291Z"
   },
   {
    "duration": 7,
    "start_time": "2022-02-13T20:33:34.316Z"
   },
   {
    "duration": 15,
    "start_time": "2022-02-13T20:33:34.325Z"
   },
   {
    "duration": 23,
    "start_time": "2022-02-13T20:33:34.342Z"
   },
   {
    "duration": 6,
    "start_time": "2022-02-13T20:33:34.367Z"
   },
   {
    "duration": 8,
    "start_time": "2022-02-13T20:33:34.374Z"
   },
   {
    "duration": 6,
    "start_time": "2022-02-13T20:33:34.383Z"
   },
   {
    "duration": 10,
    "start_time": "2022-02-13T20:33:34.391Z"
   },
   {
    "duration": 28,
    "start_time": "2022-02-13T20:33:34.402Z"
   },
   {
    "duration": 14,
    "start_time": "2022-02-13T20:33:34.432Z"
   },
   {
    "duration": 8,
    "start_time": "2022-02-13T20:33:34.447Z"
   },
   {
    "duration": 5,
    "start_time": "2022-02-13T20:33:34.456Z"
   },
   {
    "duration": 8,
    "start_time": "2022-02-13T20:33:34.463Z"
   },
   {
    "duration": 9,
    "start_time": "2022-02-13T20:33:34.473Z"
   },
   {
    "duration": 7,
    "start_time": "2022-02-13T20:33:34.485Z"
   },
   {
    "duration": 34,
    "start_time": "2022-02-13T20:33:34.493Z"
   },
   {
    "duration": 2,
    "start_time": "2022-02-13T20:33:34.529Z"
   },
   {
    "duration": 9,
    "start_time": "2022-02-13T20:33:34.533Z"
   },
   {
    "duration": 8,
    "start_time": "2022-02-13T20:33:34.544Z"
   },
   {
    "duration": 41,
    "start_time": "2022-02-13T20:33:34.553Z"
   },
   {
    "duration": 40,
    "start_time": "2022-02-13T20:33:34.595Z"
   },
   {
    "duration": 4,
    "start_time": "2022-02-13T20:33:34.636Z"
   },
   {
    "duration": 8,
    "start_time": "2022-02-13T20:33:34.641Z"
   },
   {
    "duration": 65,
    "start_time": "2022-02-13T20:33:34.650Z"
   },
   {
    "duration": 32,
    "start_time": "2022-02-13T20:33:34.716Z"
   },
   {
    "duration": 7,
    "start_time": "2022-02-13T20:33:34.749Z"
   },
   {
    "duration": 37,
    "start_time": "2022-02-13T20:33:34.758Z"
   },
   {
    "duration": 31,
    "start_time": "2022-02-13T20:33:34.796Z"
   },
   {
    "duration": 7,
    "start_time": "2022-02-13T20:33:34.829Z"
   },
   {
    "duration": 43,
    "start_time": "2022-02-13T20:33:34.837Z"
   },
   {
    "duration": 19,
    "start_time": "2022-02-13T20:33:34.882Z"
   },
   {
    "duration": 28,
    "start_time": "2022-02-13T20:33:34.903Z"
   },
   {
    "duration": 32,
    "start_time": "2022-02-13T20:33:34.933Z"
   },
   {
    "duration": 6,
    "start_time": "2022-02-13T20:33:34.967Z"
   },
   {
    "duration": 30,
    "start_time": "2022-02-13T20:33:34.975Z"
   },
   {
    "duration": 39,
    "start_time": "2022-02-13T20:33:35.007Z"
   },
   {
    "duration": 23,
    "start_time": "2022-02-13T20:33:35.048Z"
   },
   {
    "duration": 18,
    "start_time": "2022-02-13T20:33:35.073Z"
   },
   {
    "duration": 8,
    "start_time": "2022-02-13T20:35:26.143Z"
   },
   {
    "duration": 86,
    "start_time": "2022-02-13T20:36:43.365Z"
   },
   {
    "duration": 9,
    "start_time": "2022-02-13T20:37:04.883Z"
   },
   {
    "duration": 6,
    "start_time": "2022-02-13T20:37:25.959Z"
   },
   {
    "duration": 6,
    "start_time": "2022-02-13T20:37:30.110Z"
   },
   {
    "duration": 4,
    "start_time": "2022-02-13T20:40:41.149Z"
   },
   {
    "duration": 6,
    "start_time": "2022-02-13T20:40:45.749Z"
   },
   {
    "duration": 19,
    "start_time": "2022-02-13T20:40:53.581Z"
   },
   {
    "duration": 12,
    "start_time": "2022-02-13T20:42:01.567Z"
   },
   {
    "duration": 83,
    "start_time": "2022-02-13T20:43:13.516Z"
   },
   {
    "duration": 9,
    "start_time": "2022-02-13T20:45:55.488Z"
   },
   {
    "duration": 6,
    "start_time": "2022-02-13T20:46:02.080Z"
   },
   {
    "duration": 2,
    "start_time": "2022-02-13T20:46:08.733Z"
   },
   {
    "duration": 375,
    "start_time": "2022-02-13T20:46:08.737Z"
   },
   {
    "duration": 6,
    "start_time": "2022-02-13T20:46:09.114Z"
   },
   {
    "duration": 19,
    "start_time": "2022-02-13T20:46:09.122Z"
   },
   {
    "duration": 26,
    "start_time": "2022-02-13T20:46:09.142Z"
   },
   {
    "duration": 8,
    "start_time": "2022-02-13T20:46:09.170Z"
   },
   {
    "duration": 16,
    "start_time": "2022-02-13T20:46:09.180Z"
   },
   {
    "duration": 46,
    "start_time": "2022-02-13T20:46:09.199Z"
   },
   {
    "duration": 7,
    "start_time": "2022-02-13T20:46:09.247Z"
   },
   {
    "duration": 8,
    "start_time": "2022-02-13T20:46:09.256Z"
   },
   {
    "duration": 6,
    "start_time": "2022-02-13T20:46:09.266Z"
   },
   {
    "duration": 10,
    "start_time": "2022-02-13T20:46:09.274Z"
   },
   {
    "duration": 6,
    "start_time": "2022-02-13T20:46:09.286Z"
   },
   {
    "duration": 14,
    "start_time": "2022-02-13T20:46:09.327Z"
   },
   {
    "duration": 7,
    "start_time": "2022-02-13T20:46:09.343Z"
   },
   {
    "duration": 8,
    "start_time": "2022-02-13T20:46:09.352Z"
   },
   {
    "duration": 9,
    "start_time": "2022-02-13T20:46:09.361Z"
   },
   {
    "duration": 7,
    "start_time": "2022-02-13T20:46:09.372Z"
   },
   {
    "duration": 49,
    "start_time": "2022-02-13T20:46:09.381Z"
   },
   {
    "duration": 5,
    "start_time": "2022-02-13T20:46:09.431Z"
   },
   {
    "duration": 10,
    "start_time": "2022-02-13T20:46:09.437Z"
   },
   {
    "duration": 8,
    "start_time": "2022-02-13T20:46:09.448Z"
   },
   {
    "duration": 41,
    "start_time": "2022-02-13T20:46:09.460Z"
   },
   {
    "duration": 36,
    "start_time": "2022-02-13T20:46:09.503Z"
   },
   {
    "duration": 5,
    "start_time": "2022-02-13T20:46:09.540Z"
   },
   {
    "duration": 7,
    "start_time": "2022-02-13T20:46:09.547Z"
   },
   {
    "duration": 92,
    "start_time": "2022-02-13T20:46:09.556Z"
   },
   {
    "duration": 28,
    "start_time": "2022-02-13T20:46:09.649Z"
   },
   {
    "duration": 6,
    "start_time": "2022-02-13T20:46:09.679Z"
   },
   {
    "duration": 49,
    "start_time": "2022-02-13T20:46:09.687Z"
   },
   {
    "duration": 11,
    "start_time": "2022-02-13T20:46:09.737Z"
   },
   {
    "duration": 6,
    "start_time": "2022-02-13T20:46:09.750Z"
   },
   {
    "duration": 46,
    "start_time": "2022-02-13T20:46:09.758Z"
   },
   {
    "duration": 36,
    "start_time": "2022-02-13T20:46:09.806Z"
   },
   {
    "duration": 6,
    "start_time": "2022-02-13T20:46:09.844Z"
   },
   {
    "duration": 33,
    "start_time": "2022-02-13T20:46:09.851Z"
   },
   {
    "duration": 6,
    "start_time": "2022-02-13T20:46:09.886Z"
   },
   {
    "duration": 54,
    "start_time": "2022-02-13T20:46:09.893Z"
   },
   {
    "duration": 21,
    "start_time": "2022-02-13T20:46:09.948Z"
   },
   {
    "duration": 19,
    "start_time": "2022-02-13T20:46:09.971Z"
   },
   {
    "duration": 5,
    "start_time": "2022-02-13T20:46:09.991Z"
   },
   {
    "duration": 10,
    "start_time": "2022-02-13T20:46:09.997Z"
   },
   {
    "duration": 3,
    "start_time": "2022-02-13T20:46:10.027Z"
   },
   {
    "duration": 14,
    "start_time": "2022-02-13T20:46:10.032Z"
   },
   {
    "duration": 20,
    "start_time": "2022-02-13T20:46:10.048Z"
   },
   {
    "duration": 85,
    "start_time": "2022-02-13T20:46:10.069Z"
   },
   {
    "duration": 2,
    "start_time": "2022-02-13T20:46:23.955Z"
   },
   {
    "duration": 358,
    "start_time": "2022-02-13T20:46:23.959Z"
   },
   {
    "duration": 9,
    "start_time": "2022-02-13T20:46:24.319Z"
   },
   {
    "duration": 21,
    "start_time": "2022-02-13T20:46:24.329Z"
   },
   {
    "duration": 23,
    "start_time": "2022-02-13T20:46:24.352Z"
   },
   {
    "duration": 8,
    "start_time": "2022-02-13T20:46:24.377Z"
   },
   {
    "duration": 17,
    "start_time": "2022-02-13T20:46:24.388Z"
   },
   {
    "duration": 41,
    "start_time": "2022-02-13T20:46:24.407Z"
   },
   {
    "duration": 7,
    "start_time": "2022-02-13T20:46:24.450Z"
   },
   {
    "duration": 15,
    "start_time": "2022-02-13T20:46:24.459Z"
   },
   {
    "duration": 11,
    "start_time": "2022-02-13T20:46:24.476Z"
   },
   {
    "duration": 10,
    "start_time": "2022-02-13T20:46:24.489Z"
   },
   {
    "duration": 27,
    "start_time": "2022-02-13T20:46:24.501Z"
   },
   {
    "duration": 18,
    "start_time": "2022-02-13T20:46:24.529Z"
   },
   {
    "duration": 13,
    "start_time": "2022-02-13T20:46:24.548Z"
   },
   {
    "duration": 9,
    "start_time": "2022-02-13T20:46:24.563Z"
   },
   {
    "duration": 12,
    "start_time": "2022-02-13T20:46:24.573Z"
   },
   {
    "duration": 8,
    "start_time": "2022-02-13T20:46:24.587Z"
   },
   {
    "duration": 29,
    "start_time": "2022-02-13T20:46:24.598Z"
   },
   {
    "duration": 3,
    "start_time": "2022-02-13T20:46:24.629Z"
   },
   {
    "duration": 11,
    "start_time": "2022-02-13T20:46:24.633Z"
   },
   {
    "duration": 8,
    "start_time": "2022-02-13T20:46:24.645Z"
   },
   {
    "duration": 41,
    "start_time": "2022-02-13T20:46:24.654Z"
   },
   {
    "duration": 34,
    "start_time": "2022-02-13T20:46:24.696Z"
   },
   {
    "duration": 4,
    "start_time": "2022-02-13T20:46:24.731Z"
   },
   {
    "duration": 9,
    "start_time": "2022-02-13T20:46:24.737Z"
   },
   {
    "duration": 67,
    "start_time": "2022-02-13T20:46:24.748Z"
   },
   {
    "duration": 27,
    "start_time": "2022-02-13T20:46:24.828Z"
   },
   {
    "duration": 7,
    "start_time": "2022-02-13T20:46:24.856Z"
   },
   {
    "duration": 32,
    "start_time": "2022-02-13T20:46:24.864Z"
   },
   {
    "duration": 30,
    "start_time": "2022-02-13T20:46:24.898Z"
   },
   {
    "duration": 7,
    "start_time": "2022-02-13T20:46:24.929Z"
   },
   {
    "duration": 41,
    "start_time": "2022-02-13T20:46:24.938Z"
   },
   {
    "duration": 20,
    "start_time": "2022-02-13T20:46:24.981Z"
   },
   {
    "duration": 26,
    "start_time": "2022-02-13T20:46:25.002Z"
   },
   {
    "duration": 36,
    "start_time": "2022-02-13T20:46:25.030Z"
   },
   {
    "duration": 5,
    "start_time": "2022-02-13T20:46:25.068Z"
   },
   {
    "duration": 32,
    "start_time": "2022-02-13T20:46:25.075Z"
   },
   {
    "duration": 35,
    "start_time": "2022-02-13T20:46:25.108Z"
   },
   {
    "duration": 22,
    "start_time": "2022-02-13T20:46:25.144Z"
   },
   {
    "duration": 6,
    "start_time": "2022-02-13T20:46:25.167Z"
   },
   {
    "duration": 6,
    "start_time": "2022-02-13T20:46:25.174Z"
   },
   {
    "duration": 4,
    "start_time": "2022-02-13T20:46:25.181Z"
   },
   {
    "duration": 8,
    "start_time": "2022-02-13T20:46:25.186Z"
   },
   {
    "duration": 36,
    "start_time": "2022-02-13T20:46:25.195Z"
   },
   {
    "duration": 99,
    "start_time": "2022-02-13T20:46:25.232Z"
   },
   {
    "duration": 3,
    "start_time": "2022-02-13T20:55:44.204Z"
   },
   {
    "duration": 11,
    "start_time": "2022-02-13T20:55:52.971Z"
   },
   {
    "duration": 84,
    "start_time": "2022-02-13T20:56:13.857Z"
   },
   {
    "duration": 271,
    "start_time": "2022-02-13T20:57:40.871Z"
   },
   {
    "duration": 312,
    "start_time": "2022-02-13T20:57:52.027Z"
   },
   {
    "duration": 287,
    "start_time": "2022-02-13T20:58:07.598Z"
   },
   {
    "duration": 267,
    "start_time": "2022-02-13T20:58:18.165Z"
   },
   {
    "duration": 269,
    "start_time": "2022-02-13T20:58:27.006Z"
   },
   {
    "duration": 40,
    "start_time": "2022-02-13T20:58:48.670Z"
   },
   {
    "duration": 4,
    "start_time": "2022-02-13T20:59:11.869Z"
   },
   {
    "duration": 290,
    "start_time": "2022-02-13T21:00:02.632Z"
   },
   {
    "duration": 85,
    "start_time": "2022-02-13T21:00:10.901Z"
   },
   {
    "duration": 274,
    "start_time": "2022-02-13T21:00:19.556Z"
   },
   {
    "duration": 2,
    "start_time": "2022-02-13T21:03:26.235Z"
   },
   {
    "duration": 388,
    "start_time": "2022-02-13T21:03:26.239Z"
   },
   {
    "duration": 8,
    "start_time": "2022-02-13T21:03:26.629Z"
   },
   {
    "duration": 23,
    "start_time": "2022-02-13T21:03:26.639Z"
   },
   {
    "duration": 24,
    "start_time": "2022-02-13T21:03:26.664Z"
   },
   {
    "duration": 8,
    "start_time": "2022-02-13T21:03:26.689Z"
   },
   {
    "duration": 38,
    "start_time": "2022-02-13T21:03:26.699Z"
   },
   {
    "duration": 24,
    "start_time": "2022-02-13T21:03:26.739Z"
   },
   {
    "duration": 6,
    "start_time": "2022-02-13T21:03:26.764Z"
   },
   {
    "duration": 8,
    "start_time": "2022-02-13T21:03:26.772Z"
   },
   {
    "duration": 7,
    "start_time": "2022-02-13T21:03:26.781Z"
   },
   {
    "duration": 11,
    "start_time": "2022-02-13T21:03:26.789Z"
   },
   {
    "duration": 29,
    "start_time": "2022-02-13T21:03:26.802Z"
   },
   {
    "duration": 13,
    "start_time": "2022-02-13T21:03:26.833Z"
   },
   {
    "duration": 6,
    "start_time": "2022-02-13T21:03:26.848Z"
   },
   {
    "duration": 10,
    "start_time": "2022-02-13T21:03:26.856Z"
   },
   {
    "duration": 9,
    "start_time": "2022-02-13T21:03:26.867Z"
   },
   {
    "duration": 9,
    "start_time": "2022-02-13T21:03:26.878Z"
   },
   {
    "duration": 36,
    "start_time": "2022-02-13T21:03:26.891Z"
   },
   {
    "duration": 8,
    "start_time": "2022-02-13T21:03:26.930Z"
   },
   {
    "duration": 11,
    "start_time": "2022-02-13T21:03:26.939Z"
   },
   {
    "duration": 8,
    "start_time": "2022-02-13T21:03:26.951Z"
   },
   {
    "duration": 42,
    "start_time": "2022-02-13T21:03:26.961Z"
   },
   {
    "duration": 29,
    "start_time": "2022-02-13T21:03:27.004Z"
   },
   {
    "duration": 5,
    "start_time": "2022-02-13T21:03:27.034Z"
   },
   {
    "duration": 10,
    "start_time": "2022-02-13T21:03:27.040Z"
   },
   {
    "duration": 81,
    "start_time": "2022-02-13T21:03:27.051Z"
   },
   {
    "duration": 24,
    "start_time": "2022-02-13T21:03:27.133Z"
   },
   {
    "duration": 6,
    "start_time": "2022-02-13T21:03:27.159Z"
   },
   {
    "duration": 33,
    "start_time": "2022-02-13T21:03:27.167Z"
   },
   {
    "duration": 31,
    "start_time": "2022-02-13T21:03:27.201Z"
   },
   {
    "duration": 8,
    "start_time": "2022-02-13T21:03:27.234Z"
   },
   {
    "duration": 42,
    "start_time": "2022-02-13T21:03:27.243Z"
   },
   {
    "duration": 40,
    "start_time": "2022-02-13T21:03:27.287Z"
   },
   {
    "duration": 6,
    "start_time": "2022-02-13T21:03:27.329Z"
   },
   {
    "duration": 33,
    "start_time": "2022-02-13T21:03:27.336Z"
   },
   {
    "duration": 6,
    "start_time": "2022-02-13T21:03:27.371Z"
   },
   {
    "duration": 30,
    "start_time": "2022-02-13T21:03:27.379Z"
   },
   {
    "duration": 21,
    "start_time": "2022-02-13T21:03:27.427Z"
   },
   {
    "duration": 57,
    "start_time": "2022-02-13T21:03:27.449Z"
   },
   {
    "duration": 20,
    "start_time": "2022-02-13T21:03:27.507Z"
   },
   {
    "duration": 5,
    "start_time": "2022-02-13T21:03:27.528Z"
   },
   {
    "duration": 16,
    "start_time": "2022-02-13T21:03:27.535Z"
   },
   {
    "duration": 14,
    "start_time": "2022-02-13T21:03:27.552Z"
   },
   {
    "duration": 13,
    "start_time": "2022-02-13T21:03:27.568Z"
   },
   {
    "duration": 5,
    "start_time": "2022-02-13T21:03:27.583Z"
   },
   {
    "duration": 17,
    "start_time": "2022-02-13T21:03:27.590Z"
   },
   {
    "duration": 10,
    "start_time": "2022-02-13T21:03:27.608Z"
   },
   {
    "duration": 3,
    "start_time": "2022-02-13T21:05:55.483Z"
   },
   {
    "duration": 3,
    "start_time": "2022-02-13T21:06:07.618Z"
   },
   {
    "duration": 7,
    "start_time": "2022-02-13T21:07:11.589Z"
   },
   {
    "duration": 3,
    "start_time": "2022-02-13T21:07:38.433Z"
   },
   {
    "duration": 5,
    "start_time": "2022-02-13T21:07:38.944Z"
   },
   {
    "duration": 10,
    "start_time": "2022-02-13T21:07:41.824Z"
   },
   {
    "duration": 2,
    "start_time": "2022-02-13T21:11:45.832Z"
   },
   {
    "duration": 370,
    "start_time": "2022-02-13T21:11:45.836Z"
   },
   {
    "duration": 7,
    "start_time": "2022-02-13T21:11:46.208Z"
   },
   {
    "duration": 19,
    "start_time": "2022-02-13T21:11:46.217Z"
   },
   {
    "duration": 23,
    "start_time": "2022-02-13T21:11:46.237Z"
   },
   {
    "duration": 8,
    "start_time": "2022-02-13T21:11:46.261Z"
   },
   {
    "duration": 15,
    "start_time": "2022-02-13T21:11:46.271Z"
   },
   {
    "duration": 44,
    "start_time": "2022-02-13T21:11:46.288Z"
   },
   {
    "duration": 6,
    "start_time": "2022-02-13T21:11:46.333Z"
   },
   {
    "duration": 8,
    "start_time": "2022-02-13T21:11:46.341Z"
   },
   {
    "duration": 7,
    "start_time": "2022-02-13T21:11:46.350Z"
   },
   {
    "duration": 12,
    "start_time": "2022-02-13T21:11:46.358Z"
   },
   {
    "duration": 7,
    "start_time": "2022-02-13T21:11:46.371Z"
   },
   {
    "duration": 14,
    "start_time": "2022-02-13T21:11:46.379Z"
   },
   {
    "duration": 34,
    "start_time": "2022-02-13T21:11:46.394Z"
   },
   {
    "duration": 9,
    "start_time": "2022-02-13T21:11:46.429Z"
   },
   {
    "duration": 10,
    "start_time": "2022-02-13T21:11:46.439Z"
   },
   {
    "duration": 12,
    "start_time": "2022-02-13T21:11:46.450Z"
   },
   {
    "duration": 7,
    "start_time": "2022-02-13T21:11:46.465Z"
   },
   {
    "duration": 6,
    "start_time": "2022-02-13T21:11:46.474Z"
   },
   {
    "duration": 5,
    "start_time": "2022-02-13T21:11:46.481Z"
   },
   {
    "duration": 11,
    "start_time": "2022-02-13T21:11:46.487Z"
   },
   {
    "duration": 28,
    "start_time": "2022-02-13T21:11:46.499Z"
   },
   {
    "duration": 41,
    "start_time": "2022-02-13T21:11:46.529Z"
   },
   {
    "duration": 16,
    "start_time": "2022-02-13T21:11:46.571Z"
   },
   {
    "duration": 4,
    "start_time": "2022-02-13T21:11:46.589Z"
   },
   {
    "duration": 7,
    "start_time": "2022-02-13T21:11:46.594Z"
   },
   {
    "duration": 87,
    "start_time": "2022-02-13T21:11:46.602Z"
   },
   {
    "duration": 26,
    "start_time": "2022-02-13T21:11:46.690Z"
   },
   {
    "duration": 6,
    "start_time": "2022-02-13T21:11:46.727Z"
   },
   {
    "duration": 32,
    "start_time": "2022-02-13T21:11:46.735Z"
   },
   {
    "duration": 10,
    "start_time": "2022-02-13T21:11:46.768Z"
   },
   {
    "duration": 7,
    "start_time": "2022-02-13T21:11:46.780Z"
   },
   {
    "duration": 66,
    "start_time": "2022-02-13T21:11:46.788Z"
   },
   {
    "duration": 22,
    "start_time": "2022-02-13T21:11:46.856Z"
   },
   {
    "duration": 6,
    "start_time": "2022-02-13T21:11:46.879Z"
   },
   {
    "duration": 50,
    "start_time": "2022-02-13T21:11:46.886Z"
   },
   {
    "duration": 5,
    "start_time": "2022-02-13T21:11:46.938Z"
   },
   {
    "duration": 30,
    "start_time": "2022-02-13T21:11:46.945Z"
   },
   {
    "duration": 22,
    "start_time": "2022-02-13T21:11:46.977Z"
   },
   {
    "duration": 36,
    "start_time": "2022-02-13T21:11:47.000Z"
   },
   {
    "duration": 5,
    "start_time": "2022-02-13T21:11:47.038Z"
   },
   {
    "duration": 8,
    "start_time": "2022-02-13T21:11:47.044Z"
   },
   {
    "duration": 5,
    "start_time": "2022-02-13T21:11:47.054Z"
   },
   {
    "duration": 16,
    "start_time": "2022-02-13T21:11:47.060Z"
   },
   {
    "duration": 19,
    "start_time": "2022-02-13T21:11:47.077Z"
   },
   {
    "duration": 6,
    "start_time": "2022-02-13T21:11:47.097Z"
   },
   {
    "duration": 15,
    "start_time": "2022-02-13T21:11:47.105Z"
   },
   {
    "duration": 8,
    "start_time": "2022-02-13T21:11:47.121Z"
   },
   {
    "duration": 17,
    "start_time": "2022-02-13T21:11:47.131Z"
   },
   {
    "duration": 18,
    "start_time": "2022-02-13T21:11:47.150Z"
   },
   {
    "duration": 103,
    "start_time": "2022-02-13T21:11:47.169Z"
   },
   {
    "duration": 8,
    "start_time": "2022-02-13T21:11:57.606Z"
   },
   {
    "duration": 3,
    "start_time": "2022-02-13T21:12:33.103Z"
   },
   {
    "duration": 377,
    "start_time": "2022-02-13T21:12:33.107Z"
   },
   {
    "duration": 7,
    "start_time": "2022-02-13T21:12:33.486Z"
   },
   {
    "duration": 21,
    "start_time": "2022-02-13T21:12:33.494Z"
   },
   {
    "duration": 23,
    "start_time": "2022-02-13T21:12:33.516Z"
   },
   {
    "duration": 7,
    "start_time": "2022-02-13T21:12:33.541Z"
   },
   {
    "duration": 15,
    "start_time": "2022-02-13T21:12:33.550Z"
   },
   {
    "duration": 23,
    "start_time": "2022-02-13T21:12:33.567Z"
   },
   {
    "duration": 6,
    "start_time": "2022-02-13T21:12:33.592Z"
   },
   {
    "duration": 28,
    "start_time": "2022-02-13T21:12:33.600Z"
   },
   {
    "duration": 6,
    "start_time": "2022-02-13T21:12:33.629Z"
   },
   {
    "duration": 10,
    "start_time": "2022-02-13T21:12:33.637Z"
   },
   {
    "duration": 8,
    "start_time": "2022-02-13T21:12:33.648Z"
   },
   {
    "duration": 15,
    "start_time": "2022-02-13T21:12:33.658Z"
   },
   {
    "duration": 8,
    "start_time": "2022-02-13T21:12:33.674Z"
   },
   {
    "duration": 9,
    "start_time": "2022-02-13T21:12:33.683Z"
   },
   {
    "duration": 35,
    "start_time": "2022-02-13T21:12:33.693Z"
   },
   {
    "duration": 11,
    "start_time": "2022-02-13T21:12:33.729Z"
   },
   {
    "duration": 7,
    "start_time": "2022-02-13T21:12:33.743Z"
   },
   {
    "duration": 7,
    "start_time": "2022-02-13T21:12:33.752Z"
   },
   {
    "duration": 6,
    "start_time": "2022-02-13T21:12:33.760Z"
   },
   {
    "duration": 10,
    "start_time": "2022-02-13T21:12:33.768Z"
   },
   {
    "duration": 8,
    "start_time": "2022-02-13T21:12:33.780Z"
   },
   {
    "duration": 61,
    "start_time": "2022-02-13T21:12:33.789Z"
   },
   {
    "duration": 15,
    "start_time": "2022-02-13T21:12:33.852Z"
   },
   {
    "duration": 4,
    "start_time": "2022-02-13T21:12:33.868Z"
   },
   {
    "duration": 7,
    "start_time": "2022-02-13T21:12:33.874Z"
   },
   {
    "duration": 78,
    "start_time": "2022-02-13T21:12:33.882Z"
   },
   {
    "duration": 23,
    "start_time": "2022-02-13T21:12:33.962Z"
   },
   {
    "duration": 7,
    "start_time": "2022-02-13T21:12:33.987Z"
   },
   {
    "duration": 48,
    "start_time": "2022-02-13T21:12:33.995Z"
   },
   {
    "duration": 10,
    "start_time": "2022-02-13T21:12:34.045Z"
   },
   {
    "duration": 7,
    "start_time": "2022-02-13T21:12:34.056Z"
   },
   {
    "duration": 44,
    "start_time": "2022-02-13T21:12:34.065Z"
   },
   {
    "duration": 35,
    "start_time": "2022-02-13T21:12:34.111Z"
   },
   {
    "duration": 7,
    "start_time": "2022-02-13T21:12:34.148Z"
   },
   {
    "duration": 34,
    "start_time": "2022-02-13T21:12:34.157Z"
   },
   {
    "duration": 7,
    "start_time": "2022-02-13T21:12:34.192Z"
   },
   {
    "duration": 33,
    "start_time": "2022-02-13T21:12:34.228Z"
   },
   {
    "duration": 23,
    "start_time": "2022-02-13T21:12:34.263Z"
   },
   {
    "duration": 45,
    "start_time": "2022-02-13T21:12:34.287Z"
   },
   {
    "duration": 6,
    "start_time": "2022-02-13T21:12:34.333Z"
   },
   {
    "duration": 7,
    "start_time": "2022-02-13T21:12:34.340Z"
   },
   {
    "duration": 6,
    "start_time": "2022-02-13T21:12:34.349Z"
   },
   {
    "duration": 6,
    "start_time": "2022-02-13T21:12:34.356Z"
   },
   {
    "duration": 13,
    "start_time": "2022-02-13T21:12:34.363Z"
   },
   {
    "duration": 6,
    "start_time": "2022-02-13T21:12:34.378Z"
   },
   {
    "duration": 16,
    "start_time": "2022-02-13T21:12:34.385Z"
   },
   {
    "duration": 24,
    "start_time": "2022-02-13T21:12:34.403Z"
   },
   {
    "duration": 5,
    "start_time": "2022-02-13T21:12:34.428Z"
   },
   {
    "duration": 13,
    "start_time": "2022-02-13T21:12:34.435Z"
   },
   {
    "duration": 86,
    "start_time": "2022-02-13T21:12:34.449Z"
   },
   {
    "duration": 9,
    "start_time": "2022-02-13T21:12:53.641Z"
   },
   {
    "duration": 2,
    "start_time": "2022-02-13T21:12:58.807Z"
   },
   {
    "duration": 404,
    "start_time": "2022-02-13T21:12:58.811Z"
   },
   {
    "duration": 8,
    "start_time": "2022-02-13T21:12:59.217Z"
   },
   {
    "duration": 21,
    "start_time": "2022-02-13T21:12:59.226Z"
   },
   {
    "duration": 25,
    "start_time": "2022-02-13T21:12:59.249Z"
   },
   {
    "duration": 8,
    "start_time": "2022-02-13T21:12:59.276Z"
   },
   {
    "duration": 43,
    "start_time": "2022-02-13T21:12:59.286Z"
   },
   {
    "duration": 25,
    "start_time": "2022-02-13T21:12:59.331Z"
   },
   {
    "duration": 8,
    "start_time": "2022-02-13T21:12:59.358Z"
   },
   {
    "duration": 8,
    "start_time": "2022-02-13T21:12:59.368Z"
   },
   {
    "duration": 7,
    "start_time": "2022-02-13T21:12:59.378Z"
   },
   {
    "duration": 42,
    "start_time": "2022-02-13T21:12:59.386Z"
   },
   {
    "duration": 6,
    "start_time": "2022-02-13T21:12:59.429Z"
   },
   {
    "duration": 16,
    "start_time": "2022-02-13T21:12:59.436Z"
   },
   {
    "duration": 8,
    "start_time": "2022-02-13T21:12:59.454Z"
   },
   {
    "duration": 8,
    "start_time": "2022-02-13T21:12:59.464Z"
   },
   {
    "duration": 8,
    "start_time": "2022-02-13T21:12:59.474Z"
   },
   {
    "duration": 10,
    "start_time": "2022-02-13T21:12:59.483Z"
   },
   {
    "duration": 36,
    "start_time": "2022-02-13T21:12:59.496Z"
   },
   {
    "duration": 7,
    "start_time": "2022-02-13T21:12:59.534Z"
   },
   {
    "duration": 5,
    "start_time": "2022-02-13T21:12:59.542Z"
   },
   {
    "duration": 10,
    "start_time": "2022-02-13T21:12:59.548Z"
   },
   {
    "duration": 6,
    "start_time": "2022-02-13T21:12:59.560Z"
   },
   {
    "duration": 41,
    "start_time": "2022-02-13T21:12:59.567Z"
   },
   {
    "duration": 33,
    "start_time": "2022-02-13T21:12:59.609Z"
   },
   {
    "duration": 4,
    "start_time": "2022-02-13T21:12:59.644Z"
   },
   {
    "duration": 9,
    "start_time": "2022-02-13T21:12:59.649Z"
   },
   {
    "duration": 81,
    "start_time": "2022-02-13T21:12:59.659Z"
   },
   {
    "duration": 28,
    "start_time": "2022-02-13T21:12:59.742Z"
   },
   {
    "duration": 7,
    "start_time": "2022-02-13T21:12:59.772Z"
   },
   {
    "duration": 56,
    "start_time": "2022-02-13T21:12:59.781Z"
   },
   {
    "duration": 10,
    "start_time": "2022-02-13T21:12:59.838Z"
   },
   {
    "duration": 8,
    "start_time": "2022-02-13T21:12:59.850Z"
   },
   {
    "duration": 40,
    "start_time": "2022-02-13T21:12:59.859Z"
   },
   {
    "duration": 42,
    "start_time": "2022-02-13T21:12:59.901Z"
   },
   {
    "duration": 6,
    "start_time": "2022-02-13T21:12:59.944Z"
   },
   {
    "duration": 39,
    "start_time": "2022-02-13T21:12:59.952Z"
   },
   {
    "duration": 7,
    "start_time": "2022-02-13T21:12:59.992Z"
   },
   {
    "duration": 53,
    "start_time": "2022-02-13T21:13:00.001Z"
   },
   {
    "duration": 21,
    "start_time": "2022-02-13T21:13:00.056Z"
   },
   {
    "duration": 76,
    "start_time": "2022-02-13T21:13:00.079Z"
   },
   {
    "duration": 6,
    "start_time": "2022-02-13T21:13:00.156Z"
   },
   {
    "duration": 6,
    "start_time": "2022-02-13T21:13:00.164Z"
   },
   {
    "duration": 6,
    "start_time": "2022-02-13T21:13:00.172Z"
   },
   {
    "duration": 6,
    "start_time": "2022-02-13T21:13:00.180Z"
   },
   {
    "duration": 10,
    "start_time": "2022-02-13T21:13:00.187Z"
   },
   {
    "duration": 3,
    "start_time": "2022-02-13T21:13:00.227Z"
   },
   {
    "duration": 17,
    "start_time": "2022-02-13T21:13:00.231Z"
   },
   {
    "duration": 12,
    "start_time": "2022-02-13T21:13:00.250Z"
   },
   {
    "duration": 11,
    "start_time": "2022-02-13T21:13:00.263Z"
   },
   {
    "duration": 14,
    "start_time": "2022-02-13T21:13:00.275Z"
   },
   {
    "duration": 404,
    "start_time": "2022-02-13T21:13:00.291Z"
   },
   {
    "duration": 2,
    "start_time": "2022-02-13T21:14:23.119Z"
   },
   {
    "duration": 370,
    "start_time": "2022-02-13T21:14:23.123Z"
   },
   {
    "duration": 8,
    "start_time": "2022-02-13T21:14:23.495Z"
   },
   {
    "duration": 21,
    "start_time": "2022-02-13T21:14:23.504Z"
   },
   {
    "duration": 22,
    "start_time": "2022-02-13T21:14:23.526Z"
   },
   {
    "duration": 7,
    "start_time": "2022-02-13T21:14:23.549Z"
   },
   {
    "duration": 16,
    "start_time": "2022-02-13T21:14:23.557Z"
   },
   {
    "duration": 23,
    "start_time": "2022-02-13T21:14:23.575Z"
   },
   {
    "duration": 29,
    "start_time": "2022-02-13T21:14:23.599Z"
   },
   {
    "duration": 8,
    "start_time": "2022-02-13T21:14:23.629Z"
   },
   {
    "duration": 7,
    "start_time": "2022-02-13T21:14:23.638Z"
   },
   {
    "duration": 10,
    "start_time": "2022-02-13T21:14:23.647Z"
   },
   {
    "duration": 8,
    "start_time": "2022-02-13T21:14:23.659Z"
   },
   {
    "duration": 16,
    "start_time": "2022-02-13T21:14:23.669Z"
   },
   {
    "duration": 8,
    "start_time": "2022-02-13T21:14:23.686Z"
   },
   {
    "duration": 11,
    "start_time": "2022-02-13T21:14:23.695Z"
   },
   {
    "duration": 9,
    "start_time": "2022-02-13T21:14:23.727Z"
   },
   {
    "duration": 9,
    "start_time": "2022-02-13T21:14:23.737Z"
   },
   {
    "duration": 5,
    "start_time": "2022-02-13T21:14:23.749Z"
   },
   {
    "duration": 5,
    "start_time": "2022-02-13T21:14:23.756Z"
   },
   {
    "duration": 9,
    "start_time": "2022-02-13T21:14:23.762Z"
   },
   {
    "duration": 7,
    "start_time": "2022-02-13T21:14:23.772Z"
   },
   {
    "duration": 63,
    "start_time": "2022-02-13T21:14:23.781Z"
   },
   {
    "duration": 16,
    "start_time": "2022-02-13T21:14:23.845Z"
   },
   {
    "duration": 4,
    "start_time": "2022-02-13T21:14:23.863Z"
   },
   {
    "duration": 10,
    "start_time": "2022-02-13T21:14:23.869Z"
   },
   {
    "duration": 83,
    "start_time": "2022-02-13T21:14:23.880Z"
   },
   {
    "duration": 24,
    "start_time": "2022-02-13T21:14:23.965Z"
   },
   {
    "duration": 7,
    "start_time": "2022-02-13T21:14:23.990Z"
   },
   {
    "duration": 45,
    "start_time": "2022-02-13T21:14:23.998Z"
   },
   {
    "duration": 12,
    "start_time": "2022-02-13T21:14:24.045Z"
   },
   {
    "duration": 7,
    "start_time": "2022-02-13T21:14:24.059Z"
   },
   {
    "duration": 61,
    "start_time": "2022-02-13T21:14:24.067Z"
   },
   {
    "duration": 22,
    "start_time": "2022-02-13T21:14:24.130Z"
   },
   {
    "duration": 6,
    "start_time": "2022-02-13T21:14:24.153Z"
   },
   {
    "duration": 36,
    "start_time": "2022-02-13T21:14:24.161Z"
   },
   {
    "duration": 6,
    "start_time": "2022-02-13T21:14:24.198Z"
   },
   {
    "duration": 48,
    "start_time": "2022-02-13T21:14:24.205Z"
   },
   {
    "duration": 21,
    "start_time": "2022-02-13T21:14:24.254Z"
   },
   {
    "duration": 20,
    "start_time": "2022-02-13T21:14:24.276Z"
   },
   {
    "duration": 32,
    "start_time": "2022-02-13T21:14:24.297Z"
   },
   {
    "duration": 7,
    "start_time": "2022-02-13T21:14:24.331Z"
   },
   {
    "duration": 6,
    "start_time": "2022-02-13T21:14:24.339Z"
   },
   {
    "duration": 5,
    "start_time": "2022-02-13T21:14:24.346Z"
   },
   {
    "duration": 9,
    "start_time": "2022-02-13T21:14:24.353Z"
   },
   {
    "duration": 4,
    "start_time": "2022-02-13T21:14:24.364Z"
   },
   {
    "duration": 11,
    "start_time": "2022-02-13T21:14:24.369Z"
   },
   {
    "duration": 3,
    "start_time": "2022-02-13T21:14:24.382Z"
   },
   {
    "duration": 40,
    "start_time": "2022-02-13T21:14:24.387Z"
   },
   {
    "duration": 13,
    "start_time": "2022-02-13T21:14:24.429Z"
   },
   {
    "duration": 89,
    "start_time": "2022-02-13T21:14:24.443Z"
   },
   {
    "duration": 3,
    "start_time": "2022-02-13T21:15:52.597Z"
   },
   {
    "duration": 5,
    "start_time": "2022-02-13T21:15:53.166Z"
   },
   {
    "duration": 10,
    "start_time": "2022-02-13T21:15:53.877Z"
   },
   {
    "duration": 4,
    "start_time": "2022-02-13T21:16:39.653Z"
   },
   {
    "duration": 4,
    "start_time": "2022-02-13T21:16:40.356Z"
   },
   {
    "duration": 10,
    "start_time": "2022-02-13T21:17:00.080Z"
   },
   {
    "duration": 3,
    "start_time": "2022-02-13T21:17:24.384Z"
   },
   {
    "duration": 5,
    "start_time": "2022-02-13T21:17:25.108Z"
   },
   {
    "duration": 10,
    "start_time": "2022-02-13T21:17:25.829Z"
   },
   {
    "duration": 4,
    "start_time": "2022-02-13T21:17:41.140Z"
   },
   {
    "duration": 5,
    "start_time": "2022-02-13T21:17:41.812Z"
   },
   {
    "duration": 10,
    "start_time": "2022-02-13T21:17:42.356Z"
   },
   {
    "duration": 2,
    "start_time": "2022-02-13T21:17:47.332Z"
   },
   {
    "duration": 360,
    "start_time": "2022-02-13T21:17:47.336Z"
   },
   {
    "duration": 7,
    "start_time": "2022-02-13T21:17:47.697Z"
   },
   {
    "duration": 19,
    "start_time": "2022-02-13T21:17:47.706Z"
   },
   {
    "duration": 22,
    "start_time": "2022-02-13T21:17:47.727Z"
   },
   {
    "duration": 6,
    "start_time": "2022-02-13T21:17:47.751Z"
   },
   {
    "duration": 16,
    "start_time": "2022-02-13T21:17:47.759Z"
   },
   {
    "duration": 23,
    "start_time": "2022-02-13T21:17:47.778Z"
   },
   {
    "duration": 26,
    "start_time": "2022-02-13T21:17:47.803Z"
   },
   {
    "duration": 8,
    "start_time": "2022-02-13T21:17:47.831Z"
   },
   {
    "duration": 6,
    "start_time": "2022-02-13T21:17:47.840Z"
   },
   {
    "duration": 10,
    "start_time": "2022-02-13T21:17:47.848Z"
   },
   {
    "duration": 7,
    "start_time": "2022-02-13T21:17:47.859Z"
   },
   {
    "duration": 13,
    "start_time": "2022-02-13T21:17:47.867Z"
   },
   {
    "duration": 6,
    "start_time": "2022-02-13T21:17:47.882Z"
   },
   {
    "duration": 43,
    "start_time": "2022-02-13T21:17:47.889Z"
   },
   {
    "duration": 9,
    "start_time": "2022-02-13T21:17:47.933Z"
   },
   {
    "duration": 12,
    "start_time": "2022-02-13T21:17:47.943Z"
   },
   {
    "duration": 9,
    "start_time": "2022-02-13T21:17:47.957Z"
   },
   {
    "duration": 4,
    "start_time": "2022-02-13T21:17:47.967Z"
   },
   {
    "duration": 10,
    "start_time": "2022-02-13T21:17:47.973Z"
   },
   {
    "duration": 7,
    "start_time": "2022-02-13T21:17:47.984Z"
   },
   {
    "duration": 59,
    "start_time": "2022-02-13T21:17:47.995Z"
   },
   {
    "duration": 14,
    "start_time": "2022-02-13T21:17:48.056Z"
   },
   {
    "duration": 4,
    "start_time": "2022-02-13T21:17:48.072Z"
   },
   {
    "duration": 8,
    "start_time": "2022-02-13T21:17:48.077Z"
   },
   {
    "duration": 80,
    "start_time": "2022-02-13T21:17:48.087Z"
   },
   {
    "duration": 23,
    "start_time": "2022-02-13T21:17:48.169Z"
   },
   {
    "duration": 7,
    "start_time": "2022-02-13T21:17:48.193Z"
   },
   {
    "duration": 49,
    "start_time": "2022-02-13T21:17:48.201Z"
   },
   {
    "duration": 12,
    "start_time": "2022-02-13T21:17:48.252Z"
   },
   {
    "duration": 7,
    "start_time": "2022-02-13T21:17:48.265Z"
   },
   {
    "duration": 59,
    "start_time": "2022-02-13T21:17:48.274Z"
   },
   {
    "duration": 21,
    "start_time": "2022-02-13T21:17:48.335Z"
   },
   {
    "duration": 6,
    "start_time": "2022-02-13T21:17:48.358Z"
   },
   {
    "duration": 31,
    "start_time": "2022-02-13T21:17:48.366Z"
   },
   {
    "duration": 5,
    "start_time": "2022-02-13T21:17:48.398Z"
   },
   {
    "duration": 27,
    "start_time": "2022-02-13T21:17:48.427Z"
   },
   {
    "duration": 21,
    "start_time": "2022-02-13T21:17:48.455Z"
   },
   {
    "duration": 19,
    "start_time": "2022-02-13T21:17:48.477Z"
   },
   {
    "duration": 4,
    "start_time": "2022-02-13T21:17:48.498Z"
   },
   {
    "duration": 5,
    "start_time": "2022-02-13T21:17:48.527Z"
   },
   {
    "duration": 6,
    "start_time": "2022-02-13T21:17:48.533Z"
   },
   {
    "duration": 6,
    "start_time": "2022-02-13T21:17:48.540Z"
   },
   {
    "duration": 9,
    "start_time": "2022-02-13T21:17:48.548Z"
   },
   {
    "duration": 4,
    "start_time": "2022-02-13T21:17:48.559Z"
   },
   {
    "duration": 12,
    "start_time": "2022-02-13T21:17:48.564Z"
   },
   {
    "duration": 4,
    "start_time": "2022-02-13T21:17:48.577Z"
   },
   {
    "duration": 7,
    "start_time": "2022-02-13T21:17:48.582Z"
   },
   {
    "duration": 40,
    "start_time": "2022-02-13T21:17:48.590Z"
   },
   {
    "duration": 90,
    "start_time": "2022-02-13T21:17:48.631Z"
   },
   {
    "duration": 3,
    "start_time": "2022-02-13T21:18:40.548Z"
   },
   {
    "duration": 5,
    "start_time": "2022-02-13T21:18:41.052Z"
   },
   {
    "duration": 12,
    "start_time": "2022-02-13T21:18:41.509Z"
   },
   {
    "duration": 819,
    "start_time": "2022-02-14T11:20:57.149Z"
   },
   {
    "duration": 476,
    "start_time": "2022-02-14T11:20:57.971Z"
   },
   {
    "duration": 20,
    "start_time": "2022-02-14T11:20:58.450Z"
   },
   {
    "duration": 29,
    "start_time": "2022-02-14T11:20:58.473Z"
   },
   {
    "duration": 48,
    "start_time": "2022-02-14T11:20:58.504Z"
   },
   {
    "duration": 12,
    "start_time": "2022-02-14T11:20:58.555Z"
   },
   {
    "duration": 22,
    "start_time": "2022-02-14T11:20:58.569Z"
   },
   {
    "duration": 68,
    "start_time": "2022-02-14T11:20:58.595Z"
   },
   {
    "duration": 11,
    "start_time": "2022-02-14T11:20:58.666Z"
   },
   {
    "duration": 12,
    "start_time": "2022-02-14T11:20:58.679Z"
   },
   {
    "duration": 42,
    "start_time": "2022-02-14T11:20:58.693Z"
   },
   {
    "duration": 23,
    "start_time": "2022-02-14T11:20:58.737Z"
   },
   {
    "duration": 9,
    "start_time": "2022-02-14T11:20:58.762Z"
   },
   {
    "duration": 21,
    "start_time": "2022-02-14T11:20:58.774Z"
   },
   {
    "duration": 39,
    "start_time": "2022-02-14T11:20:58.798Z"
   },
   {
    "duration": 19,
    "start_time": "2022-02-14T11:20:58.839Z"
   },
   {
    "duration": 13,
    "start_time": "2022-02-14T11:20:58.860Z"
   },
   {
    "duration": 13,
    "start_time": "2022-02-14T11:20:58.876Z"
   },
   {
    "duration": 44,
    "start_time": "2022-02-14T11:20:58.891Z"
   },
   {
    "duration": 4,
    "start_time": "2022-02-14T11:20:58.938Z"
   },
   {
    "duration": 17,
    "start_time": "2022-02-14T11:20:58.944Z"
   },
   {
    "duration": 16,
    "start_time": "2022-02-14T11:20:58.964Z"
   },
   {
    "duration": 101,
    "start_time": "2022-02-14T11:20:58.986Z"
   },
   {
    "duration": 25,
    "start_time": "2022-02-14T11:20:59.090Z"
   },
   {
    "duration": 18,
    "start_time": "2022-02-14T11:20:59.118Z"
   },
   {
    "duration": 16,
    "start_time": "2022-02-14T11:20:59.138Z"
   },
   {
    "duration": 125,
    "start_time": "2022-02-14T11:20:59.157Z"
   },
   {
    "duration": 48,
    "start_time": "2022-02-14T11:20:59.285Z"
   },
   {
    "duration": 11,
    "start_time": "2022-02-14T11:20:59.336Z"
   },
   {
    "duration": 54,
    "start_time": "2022-02-14T11:20:59.349Z"
   },
   {
    "duration": 27,
    "start_time": "2022-02-14T11:20:59.405Z"
   },
   {
    "duration": 12,
    "start_time": "2022-02-14T11:20:59.436Z"
   },
   {
    "duration": 118,
    "start_time": "2022-02-14T11:20:59.451Z"
   },
   {
    "duration": 37,
    "start_time": "2022-02-14T11:20:59.572Z"
   },
   {
    "duration": 29,
    "start_time": "2022-02-14T11:20:59.612Z"
   },
   {
    "duration": 47,
    "start_time": "2022-02-14T11:20:59.644Z"
   },
   {
    "duration": 44,
    "start_time": "2022-02-14T11:20:59.694Z"
   },
   {
    "duration": 48,
    "start_time": "2022-02-14T11:20:59.741Z"
   },
   {
    "duration": 56,
    "start_time": "2022-02-14T11:20:59.792Z"
   },
   {
    "duration": 30,
    "start_time": "2022-02-14T11:20:59.850Z"
   },
   {
    "duration": 7,
    "start_time": "2022-02-14T11:20:59.882Z"
   },
   {
    "duration": 9,
    "start_time": "2022-02-14T11:20:59.891Z"
   },
   {
    "duration": 38,
    "start_time": "2022-02-14T11:20:59.902Z"
   },
   {
    "duration": 10,
    "start_time": "2022-02-14T11:20:59.943Z"
   },
   {
    "duration": 17,
    "start_time": "2022-02-14T11:20:59.955Z"
   },
   {
    "duration": 8,
    "start_time": "2022-02-14T11:20:59.974Z"
   },
   {
    "duration": 50,
    "start_time": "2022-02-14T11:20:59.984Z"
   },
   {
    "duration": 5,
    "start_time": "2022-02-14T11:21:00.036Z"
   },
   {
    "duration": 10,
    "start_time": "2022-02-14T11:21:00.044Z"
   },
   {
    "duration": 17,
    "start_time": "2022-02-14T11:21:00.056Z"
   },
   {
    "duration": 93,
    "start_time": "2022-02-14T11:21:00.075Z"
   },
   {
    "duration": 19,
    "start_time": "2022-02-14T11:21:39.326Z"
   },
   {
    "duration": 7,
    "start_time": "2022-02-14T11:21:41.237Z"
   },
   {
    "duration": 830,
    "start_time": "2022-02-14T11:21:42.223Z"
   },
   {
    "duration": 26,
    "start_time": "2022-02-14T11:21:43.069Z"
   },
   {
    "duration": 33,
    "start_time": "2022-02-14T11:22:34.672Z"
   },
   {
    "duration": 16,
    "start_time": "2022-02-14T11:42:17.682Z"
   },
   {
    "duration": 4,
    "start_time": "2022-02-14T11:54:37.068Z"
   },
   {
    "duration": 994,
    "start_time": "2022-02-14T12:24:50.442Z"
   },
   {
    "duration": 297,
    "start_time": "2022-02-14T12:28:33.873Z"
   },
   {
    "duration": 339,
    "start_time": "2022-02-14T12:28:41.987Z"
   },
   {
    "duration": 283,
    "start_time": "2022-02-14T12:29:01.499Z"
   },
   {
    "duration": 791,
    "start_time": "2022-02-14T12:32:24.836Z"
   },
   {
    "duration": 4,
    "start_time": "2022-02-14T12:32:28.975Z"
   },
   {
    "duration": 497,
    "start_time": "2022-02-14T12:32:28.981Z"
   },
   {
    "duration": 13,
    "start_time": "2022-02-14T12:32:29.480Z"
   },
   {
    "duration": 56,
    "start_time": "2022-02-14T12:32:29.497Z"
   },
   {
    "duration": 39,
    "start_time": "2022-02-14T12:32:29.556Z"
   },
   {
    "duration": 34,
    "start_time": "2022-02-14T12:32:29.598Z"
   },
   {
    "duration": 31,
    "start_time": "2022-02-14T12:32:29.636Z"
   },
   {
    "duration": 39,
    "start_time": "2022-02-14T12:32:29.670Z"
   },
   {
    "duration": 11,
    "start_time": "2022-02-14T12:32:29.732Z"
   },
   {
    "duration": 11,
    "start_time": "2022-02-14T12:32:29.746Z"
   },
   {
    "duration": 10,
    "start_time": "2022-02-14T12:32:29.760Z"
   },
   {
    "duration": 27,
    "start_time": "2022-02-14T12:32:29.772Z"
   },
   {
    "duration": 9,
    "start_time": "2022-02-14T12:32:29.833Z"
   },
   {
    "duration": 23,
    "start_time": "2022-02-14T12:32:29.844Z"
   },
   {
    "duration": 11,
    "start_time": "2022-02-14T12:32:29.870Z"
   },
   {
    "duration": 51,
    "start_time": "2022-02-14T12:32:29.883Z"
   },
   {
    "duration": 17,
    "start_time": "2022-02-14T12:32:29.937Z"
   },
   {
    "duration": 16,
    "start_time": "2022-02-14T12:32:29.957Z"
   },
   {
    "duration": 11,
    "start_time": "2022-02-14T12:32:29.976Z"
   },
   {
    "duration": 5,
    "start_time": "2022-02-14T12:32:30.038Z"
   },
   {
    "duration": 22,
    "start_time": "2022-02-14T12:32:30.047Z"
   },
   {
    "duration": 19,
    "start_time": "2022-02-14T12:32:30.072Z"
   },
   {
    "duration": 92,
    "start_time": "2022-02-14T12:32:30.093Z"
   },
   {
    "duration": 26,
    "start_time": "2022-02-14T12:32:30.187Z"
   },
   {
    "duration": 18,
    "start_time": "2022-02-14T12:32:30.216Z"
   },
   {
    "duration": 16,
    "start_time": "2022-02-14T12:32:30.237Z"
   },
   {
    "duration": 129,
    "start_time": "2022-02-14T12:32:30.255Z"
   },
   {
    "duration": 55,
    "start_time": "2022-02-14T12:32:30.386Z"
   },
   {
    "duration": 12,
    "start_time": "2022-02-14T12:32:30.443Z"
   },
   {
    "duration": 66,
    "start_time": "2022-02-14T12:32:30.457Z"
   },
   {
    "duration": 21,
    "start_time": "2022-02-14T12:32:30.526Z"
   },
   {
    "duration": 23,
    "start_time": "2022-02-14T12:32:30.550Z"
   },
   {
    "duration": 119,
    "start_time": "2022-02-14T12:32:30.576Z"
   },
   {
    "duration": 47,
    "start_time": "2022-02-14T12:32:30.698Z"
   },
   {
    "duration": 10,
    "start_time": "2022-02-14T12:32:30.747Z"
   },
   {
    "duration": 68,
    "start_time": "2022-02-14T12:32:30.759Z"
   },
   {
    "duration": 9,
    "start_time": "2022-02-14T12:32:30.833Z"
   },
   {
    "duration": 55,
    "start_time": "2022-02-14T12:32:30.845Z"
   },
   {
    "duration": 52,
    "start_time": "2022-02-14T12:32:30.903Z"
   },
   {
    "duration": 32,
    "start_time": "2022-02-14T12:32:30.958Z"
   },
   {
    "duration": 8,
    "start_time": "2022-02-14T12:32:30.993Z"
   },
   {
    "duration": 39,
    "start_time": "2022-02-14T12:32:31.004Z"
   },
   {
    "duration": 9,
    "start_time": "2022-02-14T12:32:31.045Z"
   },
   {
    "duration": 10,
    "start_time": "2022-02-14T12:32:31.057Z"
   },
   {
    "duration": 16,
    "start_time": "2022-02-14T12:32:31.069Z"
   },
   {
    "duration": 793,
    "start_time": "2022-02-14T12:32:31.087Z"
   },
   {
    "duration": 18,
    "start_time": "2022-02-14T12:32:31.883Z"
   },
   {
    "duration": 300,
    "start_time": "2022-02-14T12:32:31.904Z"
   },
   {
    "duration": 725,
    "start_time": "2022-02-14T12:34:02.643Z"
   },
   {
    "duration": 509,
    "start_time": "2022-02-14T12:34:03.371Z"
   },
   {
    "duration": 22,
    "start_time": "2022-02-14T12:34:03.884Z"
   },
   {
    "duration": 29,
    "start_time": "2022-02-14T12:34:03.908Z"
   },
   {
    "duration": 38,
    "start_time": "2022-02-14T12:34:03.939Z"
   },
   {
    "duration": 13,
    "start_time": "2022-02-14T12:34:03.980Z"
   },
   {
    "duration": 48,
    "start_time": "2022-02-14T12:34:03.995Z"
   },
   {
    "duration": 38,
    "start_time": "2022-02-14T12:34:04.045Z"
   },
   {
    "duration": 10,
    "start_time": "2022-02-14T12:34:04.086Z"
   },
   {
    "duration": 43,
    "start_time": "2022-02-14T12:34:04.099Z"
   },
   {
    "duration": 11,
    "start_time": "2022-02-14T12:34:04.144Z"
   },
   {
    "duration": 17,
    "start_time": "2022-02-14T12:34:04.158Z"
   },
   {
    "duration": 9,
    "start_time": "2022-02-14T12:34:04.177Z"
   },
   {
    "duration": 58,
    "start_time": "2022-02-14T12:34:04.189Z"
   },
   {
    "duration": 11,
    "start_time": "2022-02-14T12:34:04.249Z"
   },
   {
    "duration": 21,
    "start_time": "2022-02-14T12:34:04.262Z"
   },
   {
    "duration": 14,
    "start_time": "2022-02-14T12:34:04.285Z"
   },
   {
    "duration": 38,
    "start_time": "2022-02-14T12:34:04.301Z"
   },
   {
    "duration": 9,
    "start_time": "2022-02-14T12:34:04.342Z"
   },
   {
    "duration": 7,
    "start_time": "2022-02-14T12:34:04.353Z"
   },
   {
    "duration": 15,
    "start_time": "2022-02-14T12:34:04.362Z"
   },
   {
    "duration": 12,
    "start_time": "2022-02-14T12:34:04.379Z"
   },
   {
    "duration": 111,
    "start_time": "2022-02-14T12:34:04.394Z"
   },
   {
    "duration": 45,
    "start_time": "2022-02-14T12:34:04.508Z"
   },
   {
    "duration": 6,
    "start_time": "2022-02-14T12:34:04.556Z"
   },
   {
    "duration": 13,
    "start_time": "2022-02-14T12:34:04.565Z"
   },
   {
    "duration": 138,
    "start_time": "2022-02-14T12:34:04.584Z"
   },
   {
    "duration": 45,
    "start_time": "2022-02-14T12:34:04.725Z"
   },
   {
    "duration": 10,
    "start_time": "2022-02-14T12:34:04.772Z"
   },
   {
    "duration": 78,
    "start_time": "2022-02-14T12:34:04.785Z"
   },
   {
    "duration": 15,
    "start_time": "2022-02-14T12:34:04.866Z"
   },
   {
    "duration": 13,
    "start_time": "2022-02-14T12:34:04.884Z"
   },
   {
    "duration": 118,
    "start_time": "2022-02-14T12:34:04.900Z"
   },
   {
    "duration": 44,
    "start_time": "2022-02-14T12:34:05.021Z"
   },
   {
    "duration": 11,
    "start_time": "2022-02-14T12:34:05.068Z"
   },
   {
    "duration": 83,
    "start_time": "2022-02-14T12:34:05.082Z"
   },
   {
    "duration": 11,
    "start_time": "2022-02-14T12:34:05.168Z"
   },
   {
    "duration": 78,
    "start_time": "2022-02-14T12:34:05.182Z"
   },
   {
    "duration": 37,
    "start_time": "2022-02-14T12:34:05.263Z"
   },
   {
    "duration": 52,
    "start_time": "2022-02-14T12:34:05.303Z"
   },
   {
    "duration": 8,
    "start_time": "2022-02-14T12:34:05.357Z"
   },
   {
    "duration": 9,
    "start_time": "2022-02-14T12:34:05.367Z"
   },
   {
    "duration": 11,
    "start_time": "2022-02-14T12:34:05.379Z"
   },
   {
    "duration": 45,
    "start_time": "2022-02-14T12:34:05.392Z"
   },
   {
    "duration": 7,
    "start_time": "2022-02-14T12:34:05.439Z"
   },
   {
    "duration": 772,
    "start_time": "2022-02-14T12:34:05.448Z"
   },
   {
    "duration": 22,
    "start_time": "2022-02-14T12:34:06.223Z"
   },
   {
    "duration": 438,
    "start_time": "2022-02-14T12:34:06.247Z"
   },
   {
    "duration": 283,
    "start_time": "2022-02-14T12:34:23.458Z"
   },
   {
    "duration": 524,
    "start_time": "2022-02-14T12:37:49.297Z"
   },
   {
    "duration": 538,
    "start_time": "2022-02-14T12:38:20.579Z"
   },
   {
    "duration": 620,
    "start_time": "2022-02-14T12:38:27.221Z"
   },
   {
    "duration": 413,
    "start_time": "2022-02-14T12:38:41.116Z"
   },
   {
    "duration": 629,
    "start_time": "2022-02-14T12:38:52.658Z"
   },
   {
    "duration": 9,
    "start_time": "2022-02-14T12:39:39.709Z"
   },
   {
    "duration": 11,
    "start_time": "2022-02-14T12:39:58.908Z"
   },
   {
    "duration": 590,
    "start_time": "2022-02-14T12:40:13.474Z"
   },
   {
    "duration": 566,
    "start_time": "2022-02-14T12:40:27.451Z"
   },
   {
    "duration": 285,
    "start_time": "2022-02-14T12:41:03.179Z"
   },
   {
    "duration": 402,
    "start_time": "2022-02-14T12:41:07.146Z"
   },
   {
    "duration": 457,
    "start_time": "2022-02-14T12:41:11.466Z"
   },
   {
    "duration": 1962,
    "start_time": "2022-02-14T12:45:52.544Z"
   },
   {
    "duration": 448,
    "start_time": "2022-02-14T12:46:11.129Z"
   },
   {
    "duration": 529,
    "start_time": "2022-02-14T12:46:19.729Z"
   },
   {
    "duration": 809,
    "start_time": "2022-02-14T12:48:20.037Z"
   },
   {
    "duration": 542,
    "start_time": "2022-02-14T12:48:28.817Z"
   },
   {
    "duration": 574,
    "start_time": "2022-02-14T12:48:42.800Z"
   },
   {
    "duration": 696,
    "start_time": "2022-02-14T12:48:50.967Z"
   },
   {
    "duration": 535,
    "start_time": "2022-02-14T12:48:55.928Z"
   },
   {
    "duration": 581,
    "start_time": "2022-02-14T12:49:02.524Z"
   },
   {
    "duration": 530,
    "start_time": "2022-02-14T12:49:07.536Z"
   },
   {
    "duration": 552,
    "start_time": "2022-02-14T12:51:11.806Z"
   },
   {
    "duration": 681,
    "start_time": "2022-02-14T12:51:19.958Z"
   },
   {
    "duration": 301,
    "start_time": "2022-02-14T12:51:29.510Z"
   },
   {
    "duration": 276,
    "start_time": "2022-02-14T12:51:40.446Z"
   },
   {
    "duration": 278,
    "start_time": "2022-02-14T12:51:45.061Z"
   },
   {
    "duration": 10,
    "start_time": "2022-02-14T12:52:40.232Z"
   },
   {
    "duration": 312,
    "start_time": "2022-02-14T12:53:50.674Z"
   },
   {
    "duration": 266,
    "start_time": "2022-02-14T12:53:55.717Z"
   },
   {
    "duration": 96,
    "start_time": "2022-02-14T12:59:28.384Z"
   },
   {
    "duration": 9,
    "start_time": "2022-02-14T12:59:50.945Z"
   },
   {
    "duration": 481,
    "start_time": "2022-02-14T12:59:55.778Z"
   },
   {
    "duration": 526,
    "start_time": "2022-02-14T13:01:39.121Z"
   },
   {
    "duration": 481,
    "start_time": "2022-02-14T13:01:48.626Z"
   },
   {
    "duration": 304,
    "start_time": "2022-02-14T13:01:56.306Z"
   },
   {
    "duration": 327,
    "start_time": "2022-02-14T13:02:05.802Z"
   },
   {
    "duration": 475,
    "start_time": "2022-02-14T13:02:15.210Z"
   },
   {
    "duration": 487,
    "start_time": "2022-02-14T13:02:57.816Z"
   },
   {
    "duration": 788,
    "start_time": "2022-02-14T13:03:17.753Z"
   },
   {
    "duration": 644,
    "start_time": "2022-02-14T13:03:24.081Z"
   },
   {
    "duration": 568,
    "start_time": "2022-02-14T13:03:32.481Z"
   },
   {
    "duration": 461,
    "start_time": "2022-02-14T13:03:39.883Z"
   },
   {
    "duration": 463,
    "start_time": "2022-02-14T13:03:46.354Z"
   },
   {
    "duration": 500,
    "start_time": "2022-02-14T13:03:53.097Z"
   },
   {
    "duration": 522,
    "start_time": "2022-02-14T13:03:56.889Z"
   },
   {
    "duration": 473,
    "start_time": "2022-02-14T13:04:01.761Z"
   },
   {
    "duration": 297,
    "start_time": "2022-02-14T13:04:09.506Z"
   },
   {
    "duration": 560,
    "start_time": "2022-02-14T13:04:49.853Z"
   },
   {
    "duration": 1088,
    "start_time": "2022-02-14T13:04:57.361Z"
   },
   {
    "duration": 412,
    "start_time": "2022-02-14T13:05:35.104Z"
   },
   {
    "duration": 295,
    "start_time": "2022-02-14T13:05:44.105Z"
   },
   {
    "duration": 303,
    "start_time": "2022-02-14T13:06:00.792Z"
   },
   {
    "duration": 309,
    "start_time": "2022-02-14T13:06:24.923Z"
   },
   {
    "duration": 11,
    "start_time": "2022-02-14T13:06:36.159Z"
   },
   {
    "duration": 15,
    "start_time": "2022-02-14T13:06:38.071Z"
   },
   {
    "duration": 11,
    "start_time": "2022-02-14T13:10:51.704Z"
   },
   {
    "duration": 83,
    "start_time": "2022-02-14T13:11:32.453Z"
   },
   {
    "duration": 103,
    "start_time": "2022-02-14T13:12:10.917Z"
   },
   {
    "duration": 99,
    "start_time": "2022-02-14T13:12:49.112Z"
   },
   {
    "duration": 320,
    "start_time": "2022-02-14T13:13:05.773Z"
   },
   {
    "duration": 298,
    "start_time": "2022-02-14T13:13:23.288Z"
   },
   {
    "duration": 311,
    "start_time": "2022-02-14T13:13:27.285Z"
   },
   {
    "duration": 319,
    "start_time": "2022-02-14T13:13:37.524Z"
   },
   {
    "duration": 305,
    "start_time": "2022-02-14T13:15:55.611Z"
   },
   {
    "duration": 14,
    "start_time": "2022-02-14T13:17:48.980Z"
   },
   {
    "duration": 95,
    "start_time": "2022-02-14T13:20:27.654Z"
   },
   {
    "duration": 7,
    "start_time": "2022-02-14T13:21:39.625Z"
   },
   {
    "duration": 98,
    "start_time": "2022-02-14T13:22:28.849Z"
   },
   {
    "duration": 6,
    "start_time": "2022-02-14T13:22:35.394Z"
   },
   {
    "duration": 7,
    "start_time": "2022-02-14T13:23:28.391Z"
   },
   {
    "duration": 9,
    "start_time": "2022-02-14T13:24:21.928Z"
   },
   {
    "duration": 8,
    "start_time": "2022-02-14T13:24:36.601Z"
   },
   {
    "duration": 5,
    "start_time": "2022-02-14T13:30:52.670Z"
   },
   {
    "duration": 10,
    "start_time": "2022-02-14T13:31:37.868Z"
   },
   {
    "duration": 9,
    "start_time": "2022-02-14T13:38:59.900Z"
   },
   {
    "duration": 97,
    "start_time": "2022-02-14T13:40:55.457Z"
   },
   {
    "duration": 622,
    "start_time": "2022-02-14T13:41:24.166Z"
   },
   {
    "duration": 786,
    "start_time": "2022-02-15T07:40:47.154Z"
   },
   {
    "duration": 491,
    "start_time": "2022-02-15T07:40:47.943Z"
   },
   {
    "duration": 15,
    "start_time": "2022-02-15T07:40:48.437Z"
   },
   {
    "duration": 25,
    "start_time": "2022-02-15T07:40:48.454Z"
   },
   {
    "duration": 30,
    "start_time": "2022-02-15T07:40:48.481Z"
   },
   {
    "duration": 8,
    "start_time": "2022-02-15T07:40:48.514Z"
   },
   {
    "duration": 22,
    "start_time": "2022-02-15T07:40:48.524Z"
   },
   {
    "duration": 31,
    "start_time": "2022-02-15T07:40:48.548Z"
   },
   {
    "duration": 23,
    "start_time": "2022-02-15T07:40:48.581Z"
   },
   {
    "duration": 13,
    "start_time": "2022-02-15T07:40:48.606Z"
   },
   {
    "duration": 20,
    "start_time": "2022-02-15T07:40:48.621Z"
   },
   {
    "duration": 16,
    "start_time": "2022-02-15T07:40:48.642Z"
   },
   {
    "duration": 6,
    "start_time": "2022-02-15T07:40:48.660Z"
   },
   {
    "duration": 34,
    "start_time": "2022-02-15T07:40:48.668Z"
   },
   {
    "duration": 10,
    "start_time": "2022-02-15T07:40:48.704Z"
   },
   {
    "duration": 14,
    "start_time": "2022-02-15T07:40:48.716Z"
   },
   {
    "duration": 10,
    "start_time": "2022-02-15T07:40:48.731Z"
   },
   {
    "duration": 16,
    "start_time": "2022-02-15T07:40:48.742Z"
   },
   {
    "duration": 8,
    "start_time": "2022-02-15T07:40:48.759Z"
   },
   {
    "duration": 35,
    "start_time": "2022-02-15T07:40:48.769Z"
   },
   {
    "duration": 16,
    "start_time": "2022-02-15T07:40:48.806Z"
   },
   {
    "duration": 11,
    "start_time": "2022-02-15T07:40:48.824Z"
   },
   {
    "duration": 55,
    "start_time": "2022-02-15T07:40:48.837Z"
   },
   {
    "duration": 25,
    "start_time": "2022-02-15T07:40:48.893Z"
   },
   {
    "duration": 5,
    "start_time": "2022-02-15T07:40:48.920Z"
   },
   {
    "duration": 9,
    "start_time": "2022-02-15T07:40:48.926Z"
   },
   {
    "duration": 105,
    "start_time": "2022-02-15T07:40:48.939Z"
   },
   {
    "duration": 31,
    "start_time": "2022-02-15T07:40:49.046Z"
   },
   {
    "duration": 21,
    "start_time": "2022-02-15T07:40:49.079Z"
   },
   {
    "duration": 37,
    "start_time": "2022-02-15T07:40:49.102Z"
   },
   {
    "duration": 11,
    "start_time": "2022-02-15T07:40:49.141Z"
   },
   {
    "duration": 9,
    "start_time": "2022-02-15T07:40:49.154Z"
   },
   {
    "duration": 77,
    "start_time": "2022-02-15T07:40:49.164Z"
   },
   {
    "duration": 25,
    "start_time": "2022-02-15T07:40:49.242Z"
   },
   {
    "duration": 8,
    "start_time": "2022-02-15T07:40:49.268Z"
   },
   {
    "duration": 40,
    "start_time": "2022-02-15T07:40:49.299Z"
   },
   {
    "duration": 9,
    "start_time": "2022-02-15T07:40:49.341Z"
   },
   {
    "duration": 63,
    "start_time": "2022-02-15T07:40:49.352Z"
   },
   {
    "duration": 27,
    "start_time": "2022-02-15T07:40:49.418Z"
   },
   {
    "duration": 25,
    "start_time": "2022-02-15T07:40:49.448Z"
   },
   {
    "duration": 7,
    "start_time": "2022-02-15T07:40:49.499Z"
   },
   {
    "duration": 17,
    "start_time": "2022-02-15T07:40:49.508Z"
   },
   {
    "duration": 9,
    "start_time": "2022-02-15T07:40:49.527Z"
   },
   {
    "duration": 7,
    "start_time": "2022-02-15T07:40:49.538Z"
   },
   {
    "duration": 4,
    "start_time": "2022-02-15T07:40:49.548Z"
   },
   {
    "duration": 454,
    "start_time": "2022-02-15T07:40:49.554Z"
   },
   {
    "duration": 11,
    "start_time": "2022-02-15T07:40:50.010Z"
   },
   {
    "duration": 531,
    "start_time": "2022-02-15T07:40:50.023Z"
   },
   {
    "duration": 388,
    "start_time": "2022-02-15T07:40:50.556Z"
   },
   {
    "duration": 397,
    "start_time": "2022-02-15T07:40:50.945Z"
   },
   {
    "duration": 232,
    "start_time": "2022-02-15T07:40:51.344Z"
   },
   {
    "duration": 202,
    "start_time": "2022-02-15T07:40:51.578Z"
   },
   {
    "duration": 9,
    "start_time": "2022-02-15T07:40:51.781Z"
   },
   {
    "duration": 407,
    "start_time": "2022-02-15T07:40:51.791Z"
   },
   {
    "duration": 5,
    "start_time": "2022-02-15T07:40:52.201Z"
   },
   {
    "duration": 465,
    "start_time": "2022-02-15T07:40:52.208Z"
   },
   {
    "duration": 201,
    "start_time": "2022-02-15T07:40:52.674Z"
   },
   {
    "duration": 231,
    "start_time": "2022-02-15T07:40:52.876Z"
   },
   {
    "duration": 207,
    "start_time": "2022-02-15T07:40:53.108Z"
   },
   {
    "duration": 6,
    "start_time": "2022-02-15T07:40:53.317Z"
   },
   {
    "duration": 85,
    "start_time": "2022-02-15T07:40:53.325Z"
   },
   {
    "duration": -923,
    "start_time": "2022-02-15T07:40:54.335Z"
   },
   {
    "duration": -927,
    "start_time": "2022-02-15T07:40:54.340Z"
   },
   {
    "duration": 2,
    "start_time": "2022-02-15T07:41:27.066Z"
   },
   {
    "duration": 504,
    "start_time": "2022-02-15T07:41:27.073Z"
   },
   {
    "duration": 8,
    "start_time": "2022-02-15T07:41:27.579Z"
   },
   {
    "duration": 25,
    "start_time": "2022-02-15T07:41:27.589Z"
   },
   {
    "duration": 28,
    "start_time": "2022-02-15T07:41:27.616Z"
   },
   {
    "duration": 9,
    "start_time": "2022-02-15T07:41:27.645Z"
   },
   {
    "duration": 19,
    "start_time": "2022-02-15T07:41:27.655Z"
   },
   {
    "duration": 45,
    "start_time": "2022-02-15T07:41:27.676Z"
   },
   {
    "duration": 7,
    "start_time": "2022-02-15T07:41:27.723Z"
   },
   {
    "duration": 9,
    "start_time": "2022-02-15T07:41:27.733Z"
   },
   {
    "duration": 8,
    "start_time": "2022-02-15T07:41:27.744Z"
   },
   {
    "duration": 45,
    "start_time": "2022-02-15T07:41:27.754Z"
   },
   {
    "duration": 7,
    "start_time": "2022-02-15T07:41:27.801Z"
   },
   {
    "duration": 20,
    "start_time": "2022-02-15T07:41:27.809Z"
   },
   {
    "duration": 9,
    "start_time": "2022-02-15T07:41:27.831Z"
   },
   {
    "duration": 12,
    "start_time": "2022-02-15T07:41:27.841Z"
   },
   {
    "duration": 12,
    "start_time": "2022-02-15T07:41:27.854Z"
   },
   {
    "duration": 38,
    "start_time": "2022-02-15T07:41:27.868Z"
   },
   {
    "duration": 8,
    "start_time": "2022-02-15T07:41:27.908Z"
   },
   {
    "duration": 9,
    "start_time": "2022-02-15T07:41:27.917Z"
   },
   {
    "duration": 12,
    "start_time": "2022-02-15T07:41:27.928Z"
   },
   {
    "duration": 12,
    "start_time": "2022-02-15T07:41:27.941Z"
   },
   {
    "duration": 72,
    "start_time": "2022-02-15T07:41:27.955Z"
   },
   {
    "duration": 22,
    "start_time": "2022-02-15T07:41:28.029Z"
   },
   {
    "duration": 5,
    "start_time": "2022-02-15T07:41:28.053Z"
   },
   {
    "duration": 11,
    "start_time": "2022-02-15T07:41:28.059Z"
   },
   {
    "duration": 121,
    "start_time": "2022-02-15T07:41:28.072Z"
   },
   {
    "duration": 31,
    "start_time": "2022-02-15T07:41:28.201Z"
   },
   {
    "duration": 8,
    "start_time": "2022-02-15T07:41:28.234Z"
   },
   {
    "duration": 60,
    "start_time": "2022-02-15T07:41:28.244Z"
   },
   {
    "duration": 13,
    "start_time": "2022-02-15T07:41:28.306Z"
   },
   {
    "duration": 8,
    "start_time": "2022-02-15T07:41:28.322Z"
   },
   {
    "duration": 79,
    "start_time": "2022-02-15T07:41:28.332Z"
   },
   {
    "duration": 28,
    "start_time": "2022-02-15T07:41:28.412Z"
   },
   {
    "duration": 7,
    "start_time": "2022-02-15T07:41:28.442Z"
   },
   {
    "duration": 63,
    "start_time": "2022-02-15T07:41:28.451Z"
   },
   {
    "duration": 8,
    "start_time": "2022-02-15T07:41:28.516Z"
   },
   {
    "duration": 44,
    "start_time": "2022-02-15T07:41:28.525Z"
   },
   {
    "duration": 37,
    "start_time": "2022-02-15T07:41:28.571Z"
   },
   {
    "duration": 23,
    "start_time": "2022-02-15T07:41:28.610Z"
   },
   {
    "duration": 6,
    "start_time": "2022-02-15T07:41:28.634Z"
   },
   {
    "duration": 19,
    "start_time": "2022-02-15T07:41:28.641Z"
   },
   {
    "duration": 16,
    "start_time": "2022-02-15T07:41:28.662Z"
   },
   {
    "duration": 25,
    "start_time": "2022-02-15T07:41:28.679Z"
   },
   {
    "duration": 13,
    "start_time": "2022-02-15T07:41:28.705Z"
   },
   {
    "duration": 439,
    "start_time": "2022-02-15T07:41:28.720Z"
   },
   {
    "duration": 12,
    "start_time": "2022-02-15T07:41:29.160Z"
   },
   {
    "duration": 413,
    "start_time": "2022-02-15T07:41:29.174Z"
   },
   {
    "duration": 472,
    "start_time": "2022-02-15T07:41:29.590Z"
   },
   {
    "duration": 384,
    "start_time": "2022-02-15T07:41:30.064Z"
   },
   {
    "duration": 220,
    "start_time": "2022-02-15T07:41:30.450Z"
   },
   {
    "duration": 214,
    "start_time": "2022-02-15T07:41:30.672Z"
   },
   {
    "duration": 15,
    "start_time": "2022-02-15T07:41:30.887Z"
   },
   {
    "duration": 343,
    "start_time": "2022-02-15T07:41:30.903Z"
   },
   {
    "duration": 6,
    "start_time": "2022-02-15T07:41:31.248Z"
   },
   {
    "duration": 405,
    "start_time": "2022-02-15T07:41:31.255Z"
   },
   {
    "duration": 203,
    "start_time": "2022-02-15T07:41:31.662Z"
   },
   {
    "duration": 222,
    "start_time": "2022-02-15T07:41:31.866Z"
   },
   {
    "duration": 300,
    "start_time": "2022-02-15T07:41:32.098Z"
   },
   {
    "duration": 7,
    "start_time": "2022-02-15T07:41:32.400Z"
   },
   {
    "duration": 86,
    "start_time": "2022-02-15T07:41:32.408Z"
   },
   {
    "duration": -728,
    "start_time": "2022-02-15T07:41:33.224Z"
   },
   {
    "duration": -733,
    "start_time": "2022-02-15T07:41:33.230Z"
   },
   {
    "duration": 405,
    "start_time": "2022-02-15T07:42:01.116Z"
   },
   {
    "duration": 4,
    "start_time": "2022-02-15T07:42:12.218Z"
   },
   {
    "duration": 176,
    "start_time": "2022-02-15T14:22:58.923Z"
   },
   {
    "duration": 506,
    "start_time": "2022-02-15T14:23:03.182Z"
   },
   {
    "duration": 367,
    "start_time": "2022-02-15T14:23:03.690Z"
   },
   {
    "duration": 13,
    "start_time": "2022-02-15T14:23:04.059Z"
   },
   {
    "duration": 21,
    "start_time": "2022-02-15T14:23:04.073Z"
   },
   {
    "duration": 27,
    "start_time": "2022-02-15T14:23:04.096Z"
   },
   {
    "duration": 8,
    "start_time": "2022-02-15T14:23:04.124Z"
   },
   {
    "duration": 22,
    "start_time": "2022-02-15T14:23:04.133Z"
   },
   {
    "duration": 26,
    "start_time": "2022-02-15T14:23:04.157Z"
   },
   {
    "duration": 6,
    "start_time": "2022-02-15T14:23:04.185Z"
   },
   {
    "duration": 8,
    "start_time": "2022-02-15T14:23:04.193Z"
   },
   {
    "duration": 31,
    "start_time": "2022-02-15T14:23:04.203Z"
   },
   {
    "duration": 12,
    "start_time": "2022-02-15T14:23:04.236Z"
   },
   {
    "duration": 6,
    "start_time": "2022-02-15T14:23:04.249Z"
   },
   {
    "duration": 17,
    "start_time": "2022-02-15T14:23:04.257Z"
   },
   {
    "duration": 7,
    "start_time": "2022-02-15T14:23:04.275Z"
   },
   {
    "duration": 13,
    "start_time": "2022-02-15T14:23:04.283Z"
   },
   {
    "duration": 38,
    "start_time": "2022-02-15T14:23:04.297Z"
   },
   {
    "duration": 10,
    "start_time": "2022-02-15T14:23:04.337Z"
   },
   {
    "duration": 5,
    "start_time": "2022-02-15T14:23:04.349Z"
   },
   {
    "duration": 5,
    "start_time": "2022-02-15T14:23:04.356Z"
   },
   {
    "duration": 11,
    "start_time": "2022-02-15T14:23:04.362Z"
   },
   {
    "duration": 8,
    "start_time": "2022-02-15T14:23:04.374Z"
   },
   {
    "duration": 81,
    "start_time": "2022-02-15T14:23:04.386Z"
   },
   {
    "duration": 21,
    "start_time": "2022-02-15T14:23:04.469Z"
   },
   {
    "duration": 4,
    "start_time": "2022-02-15T14:23:04.491Z"
   },
   {
    "duration": 8,
    "start_time": "2022-02-15T14:23:04.497Z"
   },
   {
    "duration": 94,
    "start_time": "2022-02-15T14:23:04.507Z"
   },
   {
    "duration": 34,
    "start_time": "2022-02-15T14:23:04.602Z"
   },
   {
    "duration": 7,
    "start_time": "2022-02-15T14:23:04.638Z"
   },
   {
    "duration": 34,
    "start_time": "2022-02-15T14:23:04.646Z"
   },
   {
    "duration": 10,
    "start_time": "2022-02-15T14:23:04.682Z"
   },
   {
    "duration": 8,
    "start_time": "2022-02-15T14:23:04.694Z"
   },
   {
    "duration": 67,
    "start_time": "2022-02-15T14:23:04.703Z"
   },
   {
    "duration": 23,
    "start_time": "2022-02-15T14:23:04.771Z"
   },
   {
    "duration": 6,
    "start_time": "2022-02-15T14:23:04.796Z"
   },
   {
    "duration": 55,
    "start_time": "2022-02-15T14:23:04.803Z"
   },
   {
    "duration": 7,
    "start_time": "2022-02-15T14:23:04.859Z"
   },
   {
    "duration": 37,
    "start_time": "2022-02-15T14:23:04.867Z"
   },
   {
    "duration": 44,
    "start_time": "2022-02-15T14:23:04.905Z"
   },
   {
    "duration": 20,
    "start_time": "2022-02-15T14:23:04.950Z"
   },
   {
    "duration": 5,
    "start_time": "2022-02-15T14:23:04.972Z"
   },
   {
    "duration": 6,
    "start_time": "2022-02-15T14:23:04.979Z"
   },
   {
    "duration": 7,
    "start_time": "2022-02-15T14:23:04.986Z"
   },
   {
    "duration": 39,
    "start_time": "2022-02-15T14:23:04.994Z"
   },
   {
    "duration": 4,
    "start_time": "2022-02-15T14:23:05.035Z"
   },
   {
    "duration": 382,
    "start_time": "2022-02-15T14:23:05.041Z"
   },
   {
    "duration": 13,
    "start_time": "2022-02-15T14:23:05.424Z"
   },
   {
    "duration": 419,
    "start_time": "2022-02-15T14:23:05.438Z"
   },
   {
    "duration": 311,
    "start_time": "2022-02-15T14:23:05.859Z"
   },
   {
    "duration": 184,
    "start_time": "2022-02-15T14:23:06.171Z"
   },
   {
    "duration": 176,
    "start_time": "2022-02-15T14:23:06.356Z"
   },
   {
    "duration": 8,
    "start_time": "2022-02-15T14:23:06.534Z"
   },
   {
    "duration": 268,
    "start_time": "2022-02-15T14:23:06.544Z"
   },
   {
    "duration": 6,
    "start_time": "2022-02-15T14:23:06.813Z"
   },
   {
    "duration": 317,
    "start_time": "2022-02-15T14:23:06.820Z"
   },
   {
    "duration": 177,
    "start_time": "2022-02-15T14:23:07.139Z"
   },
   {
    "duration": 243,
    "start_time": "2022-02-15T14:23:07.317Z"
   },
   {
    "duration": 190,
    "start_time": "2022-02-15T14:23:07.562Z"
   },
   {
    "duration": 7,
    "start_time": "2022-02-15T14:23:07.754Z"
   },
   {
    "duration": 8,
    "start_time": "2022-02-15T14:23:07.762Z"
   },
   {
    "duration": 370,
    "start_time": "2022-02-15T14:23:07.771Z"
   },
   {
    "duration": 350,
    "start_time": "2022-02-15T14:23:08.143Z"
   },
   {
    "duration": 161,
    "start_time": "2022-02-15T14:27:56.893Z"
   },
   {
    "duration": 353,
    "start_time": "2022-02-15T14:28:23.185Z"
   },
   {
    "duration": 184,
    "start_time": "2022-02-15T14:28:33.396Z"
   },
   {
    "duration": 345,
    "start_time": "2022-02-15T14:29:10.864Z"
   },
   {
    "duration": 170,
    "start_time": "2022-02-15T14:29:25.766Z"
   },
   {
    "duration": 265,
    "start_time": "2022-02-15T14:30:17.698Z"
   },
   {
    "duration": 266,
    "start_time": "2022-02-15T14:30:45.616Z"
   },
   {
    "duration": 313,
    "start_time": "2022-02-15T14:30:48.791Z"
   },
   {
    "duration": 320,
    "start_time": "2022-02-15T14:31:45.520Z"
   },
   {
    "duration": 173,
    "start_time": "2022-02-15T14:33:17.231Z"
   },
   {
    "duration": 45,
    "start_time": "2022-02-15T14:37:12.547Z"
   },
   {
    "duration": 7,
    "start_time": "2022-02-15T14:37:58.213Z"
   },
   {
    "duration": 6,
    "start_time": "2022-02-15T14:41:17.611Z"
   },
   {
    "duration": 4,
    "start_time": "2022-02-15T14:41:35.635Z"
   },
   {
    "duration": 3,
    "start_time": "2022-02-15T14:45:57.002Z"
   },
   {
    "duration": 48,
    "start_time": "2022-02-15T14:46:44.412Z"
   },
   {
    "duration": 296,
    "start_time": "2022-02-15T14:50:06.288Z"
   },
   {
    "duration": 1469,
    "start_time": "2022-02-15T14:50:17.728Z"
   },
   {
    "duration": 262,
    "start_time": "2022-02-15T14:50:21.803Z"
   },
   {
    "duration": 1462,
    "start_time": "2022-02-15T14:50:28.577Z"
   },
   {
    "duration": 218,
    "start_time": "2022-02-15T14:50:33.936Z"
   },
   {
    "duration": 174,
    "start_time": "2022-02-15T14:57:54.017Z"
   },
   {
    "duration": 159,
    "start_time": "2022-02-15T14:58:12.037Z"
   },
   {
    "duration": 185,
    "start_time": "2022-02-15T14:58:24.633Z"
   },
   {
    "duration": 155,
    "start_time": "2022-02-15T14:58:32.449Z"
   },
   {
    "duration": 172,
    "start_time": "2022-02-15T14:58:37.358Z"
   },
   {
    "duration": 59,
    "start_time": "2022-02-15T14:59:37.615Z"
   },
   {
    "duration": 352,
    "start_time": "2022-02-15T15:00:19.659Z"
   },
   {
    "duration": 295,
    "start_time": "2022-02-15T15:01:45.305Z"
   },
   {
    "duration": 314,
    "start_time": "2022-02-15T15:02:11.179Z"
   },
   {
    "duration": 316,
    "start_time": "2022-02-15T15:02:32.891Z"
   },
   {
    "duration": 291,
    "start_time": "2022-02-15T15:02:55.156Z"
   },
   {
    "duration": 41,
    "start_time": "2022-02-15T15:04:37.943Z"
   },
   {
    "duration": 48,
    "start_time": "2022-02-15T15:08:56.394Z"
   },
   {
    "duration": 249,
    "start_time": "2022-02-15T15:11:58.861Z"
   },
   {
    "duration": 2,
    "start_time": "2022-02-15T15:15:24.441Z"
   },
   {
    "duration": 360,
    "start_time": "2022-02-15T15:15:24.446Z"
   },
   {
    "duration": 7,
    "start_time": "2022-02-15T15:15:24.808Z"
   },
   {
    "duration": 20,
    "start_time": "2022-02-15T15:15:24.817Z"
   },
   {
    "duration": 24,
    "start_time": "2022-02-15T15:15:24.839Z"
   },
   {
    "duration": 7,
    "start_time": "2022-02-15T15:15:24.864Z"
   },
   {
    "duration": 16,
    "start_time": "2022-02-15T15:15:24.873Z"
   },
   {
    "duration": 51,
    "start_time": "2022-02-15T15:15:24.891Z"
   },
   {
    "duration": 7,
    "start_time": "2022-02-15T15:15:24.945Z"
   },
   {
    "duration": 8,
    "start_time": "2022-02-15T15:15:24.954Z"
   },
   {
    "duration": 7,
    "start_time": "2022-02-15T15:15:24.963Z"
   },
   {
    "duration": 11,
    "start_time": "2022-02-15T15:15:24.971Z"
   },
   {
    "duration": 5,
    "start_time": "2022-02-15T15:15:24.984Z"
   },
   {
    "duration": 48,
    "start_time": "2022-02-15T15:15:24.990Z"
   },
   {
    "duration": 8,
    "start_time": "2022-02-15T15:15:25.040Z"
   },
   {
    "duration": 10,
    "start_time": "2022-02-15T15:15:25.049Z"
   },
   {
    "duration": 9,
    "start_time": "2022-02-15T15:15:25.061Z"
   },
   {
    "duration": 9,
    "start_time": "2022-02-15T15:15:25.072Z"
   },
   {
    "duration": 7,
    "start_time": "2022-02-15T15:15:25.083Z"
   },
   {
    "duration": 38,
    "start_time": "2022-02-15T15:15:25.092Z"
   },
   {
    "duration": 11,
    "start_time": "2022-02-15T15:15:25.132Z"
   },
   {
    "duration": 8,
    "start_time": "2022-02-15T15:15:25.145Z"
   },
   {
    "duration": 44,
    "start_time": "2022-02-15T15:15:25.155Z"
   },
   {
    "duration": 40,
    "start_time": "2022-02-15T15:15:25.204Z"
   },
   {
    "duration": 4,
    "start_time": "2022-02-15T15:15:25.247Z"
   },
   {
    "duration": 8,
    "start_time": "2022-02-15T15:15:25.252Z"
   },
   {
    "duration": 88,
    "start_time": "2022-02-15T15:15:25.261Z"
   },
   {
    "duration": 30,
    "start_time": "2022-02-15T15:15:25.351Z"
   },
   {
    "duration": 7,
    "start_time": "2022-02-15T15:15:25.382Z"
   },
   {
    "duration": 53,
    "start_time": "2022-02-15T15:15:25.391Z"
   },
   {
    "duration": 15,
    "start_time": "2022-02-15T15:15:25.446Z"
   },
   {
    "duration": 8,
    "start_time": "2022-02-15T15:15:25.462Z"
   },
   {
    "duration": 69,
    "start_time": "2022-02-15T15:15:25.472Z"
   },
   {
    "duration": 24,
    "start_time": "2022-02-15T15:15:25.543Z"
   },
   {
    "duration": 6,
    "start_time": "2022-02-15T15:15:25.569Z"
   },
   {
    "duration": 35,
    "start_time": "2022-02-15T15:15:25.576Z"
   },
   {
    "duration": 6,
    "start_time": "2022-02-15T15:15:25.631Z"
   },
   {
    "duration": 37,
    "start_time": "2022-02-15T15:15:25.639Z"
   },
   {
    "duration": 24,
    "start_time": "2022-02-15T15:15:25.678Z"
   },
   {
    "duration": 40,
    "start_time": "2022-02-15T15:15:25.704Z"
   },
   {
    "duration": 5,
    "start_time": "2022-02-15T15:15:25.746Z"
   },
   {
    "duration": 13,
    "start_time": "2022-02-15T15:15:25.752Z"
   },
   {
    "duration": 7,
    "start_time": "2022-02-15T15:15:25.767Z"
   },
   {
    "duration": 5,
    "start_time": "2022-02-15T15:15:25.776Z"
   },
   {
    "duration": 4,
    "start_time": "2022-02-15T15:15:25.783Z"
   },
   {
    "duration": 401,
    "start_time": "2022-02-15T15:15:25.789Z"
   },
   {
    "duration": 9,
    "start_time": "2022-02-15T15:15:26.192Z"
   },
   {
    "duration": 314,
    "start_time": "2022-02-15T15:15:26.203Z"
   },
   {
    "duration": 314,
    "start_time": "2022-02-15T15:15:26.518Z"
   },
   {
    "duration": 182,
    "start_time": "2022-02-15T15:15:26.833Z"
   },
   {
    "duration": 336,
    "start_time": "2022-02-15T15:15:27.017Z"
   },
   {
    "duration": 7,
    "start_time": "2022-02-15T15:15:27.355Z"
   },
   {
    "duration": 273,
    "start_time": "2022-02-15T15:15:27.364Z"
   },
   {
    "duration": 310,
    "start_time": "2022-02-15T15:15:27.639Z"
   },
   {
    "duration": 171,
    "start_time": "2022-02-15T15:15:27.950Z"
   },
   {
    "duration": 185,
    "start_time": "2022-02-15T15:15:28.123Z"
   },
   {
    "duration": 182,
    "start_time": "2022-02-15T15:15:28.309Z"
   },
   {
    "duration": 7,
    "start_time": "2022-02-15T15:15:28.492Z"
   },
   {
    "duration": 6,
    "start_time": "2022-02-15T15:15:28.500Z"
   },
   {
    "duration": 331,
    "start_time": "2022-02-15T15:15:28.507Z"
   },
   {
    "duration": 267,
    "start_time": "2022-02-15T15:15:28.840Z"
   },
   {
    "duration": 332,
    "start_time": "2022-02-15T15:15:29.108Z"
   },
   {
    "duration": 185,
    "start_time": "2022-02-15T15:15:29.442Z"
   },
   {
    "duration": 6,
    "start_time": "2022-02-15T15:15:29.630Z"
   },
   {
    "duration": 5,
    "start_time": "2022-02-15T15:15:29.638Z"
   },
   {
    "duration": 237,
    "start_time": "2022-02-15T15:15:29.645Z"
   },
   {
    "duration": 196,
    "start_time": "2022-02-15T15:15:29.884Z"
   },
   {
    "duration": 339,
    "start_time": "2022-02-15T15:15:30.082Z"
   },
   {
    "duration": 317,
    "start_time": "2022-02-15T15:15:30.429Z"
   },
   {
    "duration": 259,
    "start_time": "2022-02-15T15:15:30.748Z"
   },
   {
    "duration": 370,
    "start_time": "2022-02-15T15:19:07.373Z"
   },
   {
    "duration": 3,
    "start_time": "2022-02-15T15:21:36.078Z"
   },
   {
    "duration": 386,
    "start_time": "2022-02-15T15:21:36.083Z"
   },
   {
    "duration": 8,
    "start_time": "2022-02-15T15:21:36.471Z"
   },
   {
    "duration": 28,
    "start_time": "2022-02-15T15:21:36.480Z"
   },
   {
    "duration": 26,
    "start_time": "2022-02-15T15:21:36.510Z"
   },
   {
    "duration": 7,
    "start_time": "2022-02-15T15:21:36.538Z"
   },
   {
    "duration": 21,
    "start_time": "2022-02-15T15:21:36.547Z"
   },
   {
    "duration": 26,
    "start_time": "2022-02-15T15:21:36.570Z"
   },
   {
    "duration": 6,
    "start_time": "2022-02-15T15:21:36.597Z"
   },
   {
    "duration": 26,
    "start_time": "2022-02-15T15:21:36.605Z"
   },
   {
    "duration": 11,
    "start_time": "2022-02-15T15:21:36.633Z"
   },
   {
    "duration": 17,
    "start_time": "2022-02-15T15:21:36.645Z"
   },
   {
    "duration": 11,
    "start_time": "2022-02-15T15:21:36.663Z"
   },
   {
    "duration": 19,
    "start_time": "2022-02-15T15:21:36.675Z"
   },
   {
    "duration": 9,
    "start_time": "2022-02-15T15:21:36.695Z"
   },
   {
    "duration": 32,
    "start_time": "2022-02-15T15:21:36.706Z"
   },
   {
    "duration": 20,
    "start_time": "2022-02-15T15:21:36.740Z"
   },
   {
    "duration": 15,
    "start_time": "2022-02-15T15:21:36.762Z"
   },
   {
    "duration": 6,
    "start_time": "2022-02-15T15:21:36.782Z"
   },
   {
    "duration": 8,
    "start_time": "2022-02-15T15:21:36.790Z"
   },
   {
    "duration": 12,
    "start_time": "2022-02-15T15:21:36.800Z"
   },
   {
    "duration": 8,
    "start_time": "2022-02-15T15:21:36.830Z"
   },
   {
    "duration": 46,
    "start_time": "2022-02-15T15:21:36.840Z"
   },
   {
    "duration": 17,
    "start_time": "2022-02-15T15:21:36.888Z"
   },
   {
    "duration": 26,
    "start_time": "2022-02-15T15:21:36.907Z"
   },
   {
    "duration": 8,
    "start_time": "2022-02-15T15:21:36.935Z"
   },
   {
    "duration": 97,
    "start_time": "2022-02-15T15:21:36.945Z"
   },
   {
    "duration": 32,
    "start_time": "2022-02-15T15:21:37.044Z"
   },
   {
    "duration": 9,
    "start_time": "2022-02-15T15:21:37.078Z"
   },
   {
    "duration": 59,
    "start_time": "2022-02-15T15:21:37.089Z"
   },
   {
    "duration": 13,
    "start_time": "2022-02-15T15:21:37.150Z"
   },
   {
    "duration": 8,
    "start_time": "2022-02-15T15:21:37.164Z"
   },
   {
    "duration": 69,
    "start_time": "2022-02-15T15:21:37.174Z"
   },
   {
    "duration": 24,
    "start_time": "2022-02-15T15:21:37.245Z"
   },
   {
    "duration": 7,
    "start_time": "2022-02-15T15:21:37.271Z"
   },
   {
    "duration": 62,
    "start_time": "2022-02-15T15:21:37.280Z"
   },
   {
    "duration": 8,
    "start_time": "2022-02-15T15:21:37.344Z"
   },
   {
    "duration": 36,
    "start_time": "2022-02-15T15:21:37.353Z"
   },
   {
    "duration": 42,
    "start_time": "2022-02-15T15:21:37.391Z"
   },
   {
    "duration": 22,
    "start_time": "2022-02-15T15:21:37.435Z"
   },
   {
    "duration": 5,
    "start_time": "2022-02-15T15:21:37.458Z"
   },
   {
    "duration": 10,
    "start_time": "2022-02-15T15:21:37.465Z"
   },
   {
    "duration": 6,
    "start_time": "2022-02-15T15:21:37.477Z"
   },
   {
    "duration": 11,
    "start_time": "2022-02-15T15:21:37.485Z"
   },
   {
    "duration": 6,
    "start_time": "2022-02-15T15:21:37.497Z"
   },
   {
    "duration": 414,
    "start_time": "2022-02-15T15:21:37.505Z"
   },
   {
    "duration": 18,
    "start_time": "2022-02-15T15:21:37.921Z"
   },
   {
    "duration": 331,
    "start_time": "2022-02-15T15:21:37.941Z"
   },
   {
    "duration": 329,
    "start_time": "2022-02-15T15:21:38.274Z"
   },
   {
    "duration": 191,
    "start_time": "2022-02-15T15:21:38.605Z"
   },
   {
    "duration": 167,
    "start_time": "2022-02-15T15:21:38.797Z"
   },
   {
    "duration": 7,
    "start_time": "2022-02-15T15:21:38.966Z"
   },
   {
    "duration": 282,
    "start_time": "2022-02-15T15:21:38.974Z"
   },
   {
    "duration": 169,
    "start_time": "2022-02-15T15:21:39.257Z"
   },
   {
    "duration": 189,
    "start_time": "2022-02-15T15:21:39.433Z"
   },
   {
    "duration": 174,
    "start_time": "2022-02-15T15:21:39.624Z"
   },
   {
    "duration": 6,
    "start_time": "2022-02-15T15:21:39.800Z"
   },
   {
    "duration": 9,
    "start_time": "2022-02-15T15:21:39.807Z"
   },
   {
    "duration": 342,
    "start_time": "2022-02-15T15:21:39.817Z"
   },
   {
    "duration": 278,
    "start_time": "2022-02-15T15:21:40.160Z"
   },
   {
    "duration": 320,
    "start_time": "2022-02-15T15:21:40.440Z"
   },
   {
    "duration": 187,
    "start_time": "2022-02-15T15:21:40.761Z"
   },
   {
    "duration": 6,
    "start_time": "2022-02-15T15:21:40.950Z"
   },
   {
    "duration": 14,
    "start_time": "2022-02-15T15:21:40.957Z"
   },
   {
    "duration": 238,
    "start_time": "2022-02-15T15:21:40.973Z"
   },
   {
    "duration": 190,
    "start_time": "2022-02-15T15:21:41.213Z"
   },
   {
    "duration": 343,
    "start_time": "2022-02-15T15:21:41.405Z"
   },
   {
    "duration": 317,
    "start_time": "2022-02-15T15:21:41.750Z"
   },
   {
    "duration": 501,
    "start_time": "2022-02-15T15:21:42.068Z"
   },
   {
    "duration": 274,
    "start_time": "2022-02-15T15:22:09.018Z"
   },
   {
    "duration": 7,
    "start_time": "2022-02-15T15:25:38.696Z"
   },
   {
    "duration": 321,
    "start_time": "2022-02-15T15:27:29.745Z"
   },
   {
    "duration": 308,
    "start_time": "2022-02-15T15:27:36.781Z"
   },
   {
    "duration": 49,
    "start_time": "2022-02-15T15:30:56.221Z"
   },
   {
    "duration": 171,
    "start_time": "2022-02-15T15:31:40.866Z"
   },
   {
    "duration": 172,
    "start_time": "2022-02-15T15:31:56.037Z"
   },
   {
    "duration": 187,
    "start_time": "2022-02-15T15:32:01.291Z"
   },
   {
    "duration": 168,
    "start_time": "2022-02-15T15:32:07.136Z"
   },
   {
    "duration": 173,
    "start_time": "2022-02-15T15:32:11.554Z"
   },
   {
    "duration": 47,
    "start_time": "2022-02-15T15:32:50.057Z"
   },
   {
    "duration": 184,
    "start_time": "2022-02-15T15:33:42.654Z"
   },
   {
    "duration": 179,
    "start_time": "2022-02-15T15:33:53.532Z"
   },
   {
    "duration": 175,
    "start_time": "2022-02-15T15:34:00.645Z"
   },
   {
    "duration": 167,
    "start_time": "2022-02-15T15:34:21.036Z"
   },
   {
    "duration": 169,
    "start_time": "2022-02-15T15:34:28.281Z"
   },
   {
    "duration": 290,
    "start_time": "2022-02-15T15:35:51.473Z"
   },
   {
    "duration": 308,
    "start_time": "2022-02-15T15:36:16.736Z"
   },
   {
    "duration": 7,
    "start_time": "2022-02-15T15:39:47.522Z"
   },
   {
    "duration": 3,
    "start_time": "2022-02-15T15:42:18.644Z"
   },
   {
    "duration": 44,
    "start_time": "2022-02-15T15:44:50.683Z"
   },
   {
    "duration": 46,
    "start_time": "2022-02-15T15:45:08.532Z"
   },
   {
    "duration": 272,
    "start_time": "2022-02-15T15:45:35.944Z"
   },
   {
    "duration": 172,
    "start_time": "2022-02-15T15:47:51.902Z"
   },
   {
    "duration": 174,
    "start_time": "2022-02-15T15:48:57.654Z"
   },
   {
    "duration": 176,
    "start_time": "2022-02-15T15:49:38.558Z"
   },
   {
    "duration": 173,
    "start_time": "2022-02-15T15:49:57.462Z"
   },
   {
    "duration": 168,
    "start_time": "2022-02-15T15:50:03.595Z"
   },
   {
    "duration": 46,
    "start_time": "2022-02-15T15:50:07.014Z"
   },
   {
    "duration": 171,
    "start_time": "2022-02-15T16:06:37.439Z"
   },
   {
    "duration": 7,
    "start_time": "2022-02-15T16:12:44.453Z"
   },
   {
    "duration": 4,
    "start_time": "2022-02-15T16:14:42.837Z"
   },
   {
    "duration": 47,
    "start_time": "2022-02-15T16:16:23.881Z"
   },
   {
    "duration": 2,
    "start_time": "2022-02-15T16:17:02.885Z"
   },
   {
    "duration": 46,
    "start_time": "2022-02-15T16:17:22.170Z"
   },
   {
    "duration": 318,
    "start_time": "2022-02-15T16:17:52.523Z"
   },
   {
    "duration": 252,
    "start_time": "2022-02-15T16:18:00.695Z"
   },
   {
    "duration": 224,
    "start_time": "2022-02-15T16:18:04.623Z"
   },
   {
    "duration": 305,
    "start_time": "2022-02-15T16:19:55.319Z"
   },
   {
    "duration": 478,
    "start_time": "2022-02-15T16:20:00.832Z"
   },
   {
    "duration": 189,
    "start_time": "2022-02-15T16:21:15.885Z"
   },
   {
    "duration": 389,
    "start_time": "2022-02-15T16:21:22.980Z"
   },
   {
    "duration": 162,
    "start_time": "2022-02-15T16:21:29.728Z"
   },
   {
    "duration": 163,
    "start_time": "2022-02-15T16:21:50.395Z"
   },
   {
    "duration": 46,
    "start_time": "2022-02-15T16:23:15.294Z"
   },
   {
    "duration": 230,
    "start_time": "2022-02-15T16:25:54.160Z"
   },
   {
    "duration": 168,
    "start_time": "2022-02-15T16:28:01.381Z"
   },
   {
    "duration": 166,
    "start_time": "2022-02-15T16:28:06.039Z"
   },
   {
    "duration": 159,
    "start_time": "2022-02-15T16:28:25.366Z"
   },
   {
    "duration": 157,
    "start_time": "2022-02-15T16:29:33.974Z"
   },
   {
    "duration": 43,
    "start_time": "2022-02-15T16:29:53.328Z"
   },
   {
    "duration": 175,
    "start_time": "2022-02-15T16:30:26.424Z"
   },
   {
    "duration": 205,
    "start_time": "2022-02-15T16:31:21.709Z"
   },
   {
    "duration": 7,
    "start_time": "2022-02-15T16:35:11.590Z"
   },
   {
    "duration": 4,
    "start_time": "2022-02-15T16:37:53.014Z"
   },
   {
    "duration": 47,
    "start_time": "2022-02-15T16:41:30.307Z"
   },
   {
    "duration": 239,
    "start_time": "2022-02-15T16:42:08.221Z"
   },
   {
    "duration": 223,
    "start_time": "2022-02-15T16:42:11.610Z"
   },
   {
    "duration": 210,
    "start_time": "2022-02-15T16:42:14.515Z"
   },
   {
    "duration": 177,
    "start_time": "2022-02-15T16:45:31.105Z"
   },
   {
    "duration": 45,
    "start_time": "2022-02-15T16:46:25.245Z"
   },
   {
    "duration": 193,
    "start_time": "2022-02-15T16:46:55.158Z"
   },
   {
    "duration": 168,
    "start_time": "2022-02-15T16:47:01.040Z"
   },
   {
    "duration": 189,
    "start_time": "2022-02-15T16:48:11.283Z"
   },
   {
    "duration": 192,
    "start_time": "2022-02-15T16:50:40.025Z"
   },
   {
    "duration": 174,
    "start_time": "2022-02-15T16:50:46.144Z"
   },
   {
    "duration": 189,
    "start_time": "2022-02-15T16:50:51.984Z"
   },
   {
    "duration": 7,
    "start_time": "2022-02-15T16:52:56.112Z"
   },
   {
    "duration": 7,
    "start_time": "2022-02-15T16:53:15.373Z"
   },
   {
    "duration": 3,
    "start_time": "2022-02-15T16:55:57.085Z"
   },
   {
    "duration": 168,
    "start_time": "2022-02-15T17:02:33.592Z"
   },
   {
    "duration": 43,
    "start_time": "2022-02-15T17:03:08.945Z"
   },
   {
    "duration": 171,
    "start_time": "2022-02-15T17:03:34.657Z"
   },
   {
    "duration": 158,
    "start_time": "2022-02-15T17:03:50.539Z"
   },
   {
    "duration": 310,
    "start_time": "2022-02-15T17:04:10.531Z"
   },
   {
    "duration": 237,
    "start_time": "2022-02-15T17:07:32.150Z"
   },
   {
    "duration": 186,
    "start_time": "2022-02-15T17:08:53.004Z"
   },
   {
    "duration": 167,
    "start_time": "2022-02-15T17:09:42.745Z"
   },
   {
    "duration": 189,
    "start_time": "2022-02-15T17:09:50.094Z"
   },
   {
    "duration": 246,
    "start_time": "2022-02-15T17:09:59.839Z"
   },
   {
    "duration": 178,
    "start_time": "2022-02-15T17:10:10.038Z"
   },
   {
    "duration": 171,
    "start_time": "2022-02-15T17:10:55.094Z"
   },
   {
    "duration": 192,
    "start_time": "2022-02-15T17:11:12.323Z"
   },
   {
    "duration": 174,
    "start_time": "2022-02-15T17:11:17.060Z"
   },
   {
    "duration": 171,
    "start_time": "2022-02-15T17:14:13.366Z"
   },
   {
    "duration": 43,
    "start_time": "2022-02-15T17:17:08.252Z"
   },
   {
    "duration": 7,
    "start_time": "2022-02-15T17:19:20.214Z"
   },
   {
    "duration": 4,
    "start_time": "2022-02-15T17:21:28.881Z"
   },
   {
    "duration": 5,
    "start_time": "2022-02-15T17:22:46.377Z"
   },
   {
    "duration": 41,
    "start_time": "2022-02-15T17:23:04.714Z"
   },
   {
    "duration": 7,
    "start_time": "2022-02-15T17:23:34.484Z"
   },
   {
    "duration": 4,
    "start_time": "2022-02-15T17:24:06.371Z"
   },
   {
    "duration": 51,
    "start_time": "2022-02-15T17:25:39.980Z"
   },
   {
    "duration": 308,
    "start_time": "2022-02-15T17:26:10.063Z"
   },
   {
    "duration": 176,
    "start_time": "2022-02-15T17:27:54.789Z"
   },
   {
    "duration": 174,
    "start_time": "2022-02-15T17:28:06.437Z"
   },
   {
    "duration": 7,
    "start_time": "2022-02-15T17:32:06.101Z"
   },
   {
    "duration": 3,
    "start_time": "2022-02-15T17:33:09.676Z"
   },
   {
    "duration": 41,
    "start_time": "2022-02-15T17:34:16.858Z"
   },
   {
    "duration": 50,
    "start_time": "2022-02-15T18:05:34.437Z"
   },
   {
    "duration": 4,
    "start_time": "2022-02-15T18:05:47.927Z"
   },
   {
    "duration": 3379,
    "start_time": "2022-02-15T18:06:01.344Z"
   },
   {
    "duration": 4,
    "start_time": "2022-02-15T18:06:07.161Z"
   },
   {
    "duration": 4,
    "start_time": "2022-02-15T18:06:11.946Z"
   },
   {
    "duration": 4,
    "start_time": "2022-02-15T18:06:19.633Z"
   },
   {
    "duration": 17,
    "start_time": "2022-02-15T18:06:25.812Z"
   },
   {
    "duration": 43,
    "start_time": "2022-02-15T18:15:13.018Z"
   },
   {
    "duration": 457,
    "start_time": "2022-02-15T18:16:58.561Z"
   },
   {
    "duration": 6,
    "start_time": "2022-02-15T18:17:09.637Z"
   },
   {
    "duration": 6,
    "start_time": "2022-02-15T18:20:15.462Z"
   },
   {
    "duration": 6,
    "start_time": "2022-02-15T18:20:19.037Z"
   },
   {
    "duration": 6,
    "start_time": "2022-02-15T18:23:18.481Z"
   },
   {
    "duration": 5,
    "start_time": "2022-02-15T18:24:13.925Z"
   },
   {
    "duration": 17,
    "start_time": "2022-02-15T18:24:18.023Z"
   },
   {
    "duration": 17,
    "start_time": "2022-02-15T18:24:23.677Z"
   },
   {
    "duration": 4,
    "start_time": "2022-02-15T18:27:39.154Z"
   },
   {
    "duration": 4,
    "start_time": "2022-02-15T18:27:56.515Z"
   },
   {
    "duration": 6,
    "start_time": "2022-02-15T18:29:50.420Z"
   },
   {
    "duration": 43,
    "start_time": "2022-02-15T18:32:42.194Z"
   },
   {
    "duration": 47,
    "start_time": "2022-02-15T18:33:59.507Z"
   },
   {
    "duration": 5,
    "start_time": "2022-02-15T18:34:27.458Z"
   },
   {
    "duration": 3,
    "start_time": "2022-02-15T18:44:04.632Z"
   },
   {
    "duration": 421,
    "start_time": "2022-02-15T18:44:04.638Z"
   },
   {
    "duration": 8,
    "start_time": "2022-02-15T18:44:05.061Z"
   },
   {
    "duration": 24,
    "start_time": "2022-02-15T18:44:05.071Z"
   },
   {
    "duration": 26,
    "start_time": "2022-02-15T18:44:05.097Z"
   },
   {
    "duration": 8,
    "start_time": "2022-02-15T18:44:05.125Z"
   },
   {
    "duration": 22,
    "start_time": "2022-02-15T18:44:05.135Z"
   },
   {
    "duration": 25,
    "start_time": "2022-02-15T18:44:05.159Z"
   },
   {
    "duration": 8,
    "start_time": "2022-02-15T18:44:05.186Z"
   },
   {
    "duration": 9,
    "start_time": "2022-02-15T18:44:05.196Z"
   },
   {
    "duration": 7,
    "start_time": "2022-02-15T18:44:05.231Z"
   },
   {
    "duration": 13,
    "start_time": "2022-02-15T18:44:05.239Z"
   },
   {
    "duration": 8,
    "start_time": "2022-02-15T18:44:05.253Z"
   },
   {
    "duration": 16,
    "start_time": "2022-02-15T18:44:05.262Z"
   },
   {
    "duration": 14,
    "start_time": "2022-02-15T18:44:05.279Z"
   },
   {
    "duration": 12,
    "start_time": "2022-02-15T18:44:05.294Z"
   },
   {
    "duration": 9,
    "start_time": "2022-02-15T18:44:05.331Z"
   },
   {
    "duration": 10,
    "start_time": "2022-02-15T18:44:05.342Z"
   },
   {
    "duration": 7,
    "start_time": "2022-02-15T18:44:05.354Z"
   },
   {
    "duration": 9,
    "start_time": "2022-02-15T18:44:05.362Z"
   },
   {
    "duration": 14,
    "start_time": "2022-02-15T18:44:05.372Z"
   },
   {
    "duration": 8,
    "start_time": "2022-02-15T18:44:05.388Z"
   },
   {
    "duration": 66,
    "start_time": "2022-02-15T18:44:05.398Z"
   },
   {
    "duration": 18,
    "start_time": "2022-02-15T18:44:05.467Z"
   },
   {
    "duration": 4,
    "start_time": "2022-02-15T18:44:05.488Z"
   },
   {
    "duration": 8,
    "start_time": "2022-02-15T18:44:05.493Z"
   },
   {
    "duration": 100,
    "start_time": "2022-02-15T18:44:05.503Z"
   },
   {
    "duration": 42,
    "start_time": "2022-02-15T18:44:05.604Z"
   },
   {
    "duration": 8,
    "start_time": "2022-02-15T18:44:05.647Z"
   },
   {
    "duration": 35,
    "start_time": "2022-02-15T18:44:05.656Z"
   },
   {
    "duration": 11,
    "start_time": "2022-02-15T18:44:05.693Z"
   },
   {
    "duration": 29,
    "start_time": "2022-02-15T18:44:05.705Z"
   },
   {
    "duration": 50,
    "start_time": "2022-02-15T18:44:05.736Z"
   },
   {
    "duration": 45,
    "start_time": "2022-02-15T18:44:05.787Z"
   },
   {
    "duration": 8,
    "start_time": "2022-02-15T18:44:05.834Z"
   },
   {
    "duration": 35,
    "start_time": "2022-02-15T18:44:05.843Z"
   },
   {
    "duration": 7,
    "start_time": "2022-02-15T18:44:05.879Z"
   },
   {
    "duration": 65,
    "start_time": "2022-02-15T18:44:05.888Z"
   },
   {
    "duration": 23,
    "start_time": "2022-02-15T18:44:05.955Z"
   },
   {
    "duration": 396,
    "start_time": "2022-02-15T18:44:05.980Z"
   },
   {
    "duration": 5,
    "start_time": "2022-02-15T18:44:06.378Z"
   },
   {
    "duration": 12,
    "start_time": "2022-02-15T18:44:06.385Z"
   },
   {
    "duration": 6,
    "start_time": "2022-02-15T18:44:06.398Z"
   },
   {
    "duration": 5,
    "start_time": "2022-02-15T18:44:06.406Z"
   },
   {
    "duration": 5,
    "start_time": "2022-02-15T18:44:06.430Z"
   },
   {
    "duration": 405,
    "start_time": "2022-02-15T18:44:06.436Z"
   },
   {
    "duration": 10,
    "start_time": "2022-02-15T18:44:06.843Z"
   },
   {
    "duration": 333,
    "start_time": "2022-02-15T18:44:06.855Z"
   },
   {
    "duration": 334,
    "start_time": "2022-02-15T18:44:07.189Z"
   },
   {
    "duration": 236,
    "start_time": "2022-02-15T18:44:07.525Z"
   },
   {
    "duration": 174,
    "start_time": "2022-02-15T18:44:07.763Z"
   },
   {
    "duration": 8,
    "start_time": "2022-02-15T18:44:07.939Z"
   },
   {
    "duration": 278,
    "start_time": "2022-02-15T18:44:07.948Z"
   },
   {
    "duration": 171,
    "start_time": "2022-02-15T18:44:08.228Z"
   },
   {
    "duration": 192,
    "start_time": "2022-02-15T18:44:08.400Z"
   },
   {
    "duration": 179,
    "start_time": "2022-02-15T18:44:08.594Z"
   },
   {
    "duration": 6,
    "start_time": "2022-02-15T18:44:08.775Z"
   },
   {
    "duration": 6,
    "start_time": "2022-02-15T18:44:08.782Z"
   },
   {
    "duration": 341,
    "start_time": "2022-02-15T18:44:08.789Z"
   },
   {
    "duration": 290,
    "start_time": "2022-02-15T18:44:09.131Z"
   },
   {
    "duration": 314,
    "start_time": "2022-02-15T18:44:09.423Z"
   },
   {
    "duration": 181,
    "start_time": "2022-02-15T18:44:09.739Z"
   },
   {
    "duration": 11,
    "start_time": "2022-02-15T18:44:09.924Z"
   },
   {
    "duration": 3,
    "start_time": "2022-02-15T18:44:09.938Z"
   },
   {
    "duration": 237,
    "start_time": "2022-02-15T18:44:09.942Z"
   },
   {
    "duration": 182,
    "start_time": "2022-02-15T18:44:10.181Z"
   },
   {
    "duration": 352,
    "start_time": "2022-02-15T18:44:10.364Z"
   },
   {
    "duration": 314,
    "start_time": "2022-02-15T18:44:10.718Z"
   },
   {
    "duration": 261,
    "start_time": "2022-02-15T18:44:11.034Z"
   },
   {
    "duration": 175,
    "start_time": "2022-02-15T18:44:11.297Z"
   },
   {
    "duration": 179,
    "start_time": "2022-02-15T18:44:11.473Z"
   },
   {
    "duration": 309,
    "start_time": "2022-02-15T18:44:11.654Z"
   },
   {
    "duration": 7,
    "start_time": "2022-02-15T18:44:11.965Z"
   },
   {
    "duration": 9,
    "start_time": "2022-02-15T18:44:11.974Z"
   },
   {
    "duration": 293,
    "start_time": "2022-02-15T18:44:11.985Z"
   },
   {
    "duration": 188,
    "start_time": "2022-02-15T18:44:12.279Z"
   },
   {
    "duration": 178,
    "start_time": "2022-02-15T18:44:12.468Z"
   },
   {
    "duration": 173,
    "start_time": "2022-02-15T18:44:12.648Z"
   },
   {
    "duration": 11,
    "start_time": "2022-02-15T18:44:12.822Z"
   },
   {
    "duration": 5,
    "start_time": "2022-02-15T18:44:12.835Z"
   },
   {
    "duration": 233,
    "start_time": "2022-02-15T18:44:12.841Z"
   },
   {
    "duration": 172,
    "start_time": "2022-02-15T18:44:13.076Z"
   },
   {
    "duration": 163,
    "start_time": "2022-02-15T18:44:13.249Z"
   },
   {
    "duration": 173,
    "start_time": "2022-02-15T18:44:13.414Z"
   },
   {
    "duration": 230,
    "start_time": "2022-02-15T18:44:13.589Z"
   },
   {
    "duration": 172,
    "start_time": "2022-02-15T18:44:13.821Z"
   },
   {
    "duration": 167,
    "start_time": "2022-02-15T18:44:13.994Z"
   },
   {
    "duration": 200,
    "start_time": "2022-02-15T18:44:14.162Z"
   },
   {
    "duration": 7,
    "start_time": "2022-02-15T18:44:14.364Z"
   },
   {
    "duration": 54,
    "start_time": "2022-02-15T18:44:14.372Z"
   },
   {
    "duration": 824,
    "start_time": "2022-02-15T18:44:13.604Z"
   },
   {
    "duration": 816,
    "start_time": "2022-02-15T18:44:13.612Z"
   },
   {
    "duration": 810,
    "start_time": "2022-02-15T18:44:13.620Z"
   },
   {
    "duration": 804,
    "start_time": "2022-02-15T18:44:13.627Z"
   },
   {
    "duration": 796,
    "start_time": "2022-02-15T18:44:13.635Z"
   },
   {
    "duration": 792,
    "start_time": "2022-02-15T18:44:13.641Z"
   },
   {
    "duration": 785,
    "start_time": "2022-02-15T18:44:13.649Z"
   },
   {
    "duration": 779,
    "start_time": "2022-02-15T18:44:13.656Z"
   },
   {
    "duration": 772,
    "start_time": "2022-02-15T18:44:13.664Z"
   },
   {
    "duration": 766,
    "start_time": "2022-02-15T18:44:13.670Z"
   },
   {
    "duration": 759,
    "start_time": "2022-02-15T18:44:13.678Z"
   },
   {
    "duration": 753,
    "start_time": "2022-02-15T18:44:13.685Z"
   },
   {
    "duration": 747,
    "start_time": "2022-02-15T18:44:13.692Z"
   },
   {
    "duration": 718,
    "start_time": "2022-02-15T18:44:13.722Z"
   },
   {
    "duration": 711,
    "start_time": "2022-02-15T18:44:13.730Z"
   },
   {
    "duration": 705,
    "start_time": "2022-02-15T18:44:13.737Z"
   },
   {
    "duration": 698,
    "start_time": "2022-02-15T18:44:13.745Z"
   },
   {
    "duration": 692,
    "start_time": "2022-02-15T18:44:13.752Z"
   },
   {
    "duration": 685,
    "start_time": "2022-02-15T18:44:13.760Z"
   },
   {
    "duration": 678,
    "start_time": "2022-02-15T18:44:13.767Z"
   },
   {
    "duration": 671,
    "start_time": "2022-02-15T18:44:13.775Z"
   },
   {
    "duration": 665,
    "start_time": "2022-02-15T18:44:13.782Z"
   },
   {
    "duration": 659,
    "start_time": "2022-02-15T18:44:13.789Z"
   },
   {
    "duration": 653,
    "start_time": "2022-02-15T18:44:13.796Z"
   },
   {
    "duration": 646,
    "start_time": "2022-02-15T18:44:13.804Z"
   },
   {
    "duration": 3,
    "start_time": "2022-02-15T18:44:45.923Z"
   },
   {
    "duration": 230,
    "start_time": "2022-02-15T18:44:45.931Z"
   },
   {
    "duration": 177,
    "start_time": "2022-02-15T18:44:46.163Z"
   },
   {
    "duration": 177,
    "start_time": "2022-02-15T18:44:46.342Z"
   },
   {
    "duration": 200,
    "start_time": "2022-02-15T18:44:46.521Z"
   },
   {
    "duration": 11,
    "start_time": "2022-02-15T18:44:46.722Z"
   },
   {
    "duration": 6,
    "start_time": "2022-02-15T18:44:46.734Z"
   },
   {
    "duration": 246,
    "start_time": "2022-02-15T18:44:46.742Z"
   },
   {
    "duration": 191,
    "start_time": "2022-02-15T18:44:46.991Z"
   },
   {
    "duration": 173,
    "start_time": "2022-02-15T18:44:47.184Z"
   },
   {
    "duration": 6,
    "start_time": "2022-02-15T18:44:47.358Z"
   },
   {
    "duration": 11,
    "start_time": "2022-02-15T18:44:47.366Z"
   },
   {
    "duration": 740,
    "start_time": "2022-02-15T18:44:47.378Z"
   },
   {
    "duration": 178,
    "start_time": "2022-02-15T18:44:48.120Z"
   },
   {
    "duration": 6,
    "start_time": "2022-02-15T18:44:48.300Z"
   },
   {
    "duration": 5,
    "start_time": "2022-02-15T18:44:48.307Z"
   },
   {
    "duration": 20,
    "start_time": "2022-02-15T18:44:48.313Z"
   },
   {
    "duration": 5,
    "start_time": "2022-02-15T18:44:48.334Z"
   },
   {
    "duration": 7,
    "start_time": "2022-02-15T18:44:48.340Z"
   },
   {
    "duration": 6,
    "start_time": "2022-02-15T18:44:48.348Z"
   },
   {
    "duration": 6,
    "start_time": "2022-02-15T18:44:48.356Z"
   },
   {
    "duration": 6,
    "start_time": "2022-02-15T18:44:48.363Z"
   },
   {
    "duration": 8,
    "start_time": "2022-02-15T18:44:48.370Z"
   },
   {
    "duration": 5,
    "start_time": "2022-02-15T18:44:48.380Z"
   },
   {
    "duration": 4,
    "start_time": "2022-02-15T18:44:48.387Z"
   },
   {
    "duration": 869,
    "start_time": "2022-02-23T11:34:57.713Z"
   },
   {
    "duration": 544,
    "start_time": "2022-02-23T11:34:58.585Z"
   },
   {
    "duration": 26,
    "start_time": "2022-02-23T11:34:59.133Z"
   },
   {
    "duration": 29,
    "start_time": "2022-02-23T11:34:59.162Z"
   },
   {
    "duration": 66,
    "start_time": "2022-02-23T11:34:59.193Z"
   },
   {
    "duration": 14,
    "start_time": "2022-02-23T11:34:59.262Z"
   },
   {
    "duration": 53,
    "start_time": "2022-02-23T11:34:59.280Z"
   },
   {
    "duration": 37,
    "start_time": "2022-02-23T11:34:59.335Z"
   },
   {
    "duration": 10,
    "start_time": "2022-02-23T11:34:59.376Z"
   },
   {
    "duration": 41,
    "start_time": "2022-02-23T11:34:59.390Z"
   },
   {
    "duration": 13,
    "start_time": "2022-02-23T11:34:59.434Z"
   },
   {
    "duration": 21,
    "start_time": "2022-02-23T11:34:59.449Z"
   },
   {
    "duration": 11,
    "start_time": "2022-02-23T11:34:59.474Z"
   },
   {
    "duration": 60,
    "start_time": "2022-02-23T11:34:59.488Z"
   },
   {
    "duration": 13,
    "start_time": "2022-02-23T11:34:59.551Z"
   },
   {
    "duration": 25,
    "start_time": "2022-02-23T11:34:59.566Z"
   },
   {
    "duration": 44,
    "start_time": "2022-02-23T11:34:59.594Z"
   },
   {
    "duration": 18,
    "start_time": "2022-02-23T11:34:59.641Z"
   },
   {
    "duration": 19,
    "start_time": "2022-02-23T11:34:59.662Z"
   },
   {
    "duration": 22,
    "start_time": "2022-02-23T11:34:59.683Z"
   },
   {
    "duration": 31,
    "start_time": "2022-02-23T11:34:59.707Z"
   },
   {
    "duration": 21,
    "start_time": "2022-02-23T11:34:59.740Z"
   },
   {
    "duration": 87,
    "start_time": "2022-02-23T11:34:59.763Z"
   },
   {
    "duration": 30,
    "start_time": "2022-02-23T11:34:59.852Z"
   },
   {
    "duration": 7,
    "start_time": "2022-02-23T11:34:59.885Z"
   },
   {
    "duration": 42,
    "start_time": "2022-02-23T11:34:59.895Z"
   },
   {
    "duration": 159,
    "start_time": "2022-02-23T11:34:59.948Z"
   },
   {
    "duration": 53,
    "start_time": "2022-02-23T11:35:00.111Z"
   },
   {
    "duration": 12,
    "start_time": "2022-02-23T11:35:00.166Z"
   },
   {
    "duration": 78,
    "start_time": "2022-02-23T11:35:00.180Z"
   },
   {
    "duration": 18,
    "start_time": "2022-02-23T11:35:00.261Z"
   },
   {
    "duration": 12,
    "start_time": "2022-02-23T11:35:00.282Z"
   },
   {
    "duration": 148,
    "start_time": "2022-02-23T11:35:00.297Z"
   },
   {
    "duration": 39,
    "start_time": "2022-02-23T11:35:00.448Z"
   },
   {
    "duration": 36,
    "start_time": "2022-02-23T11:35:00.490Z"
   },
   {
    "duration": 54,
    "start_time": "2022-02-23T11:35:00.529Z"
   },
   {
    "duration": 10,
    "start_time": "2022-02-23T11:35:00.586Z"
   },
   {
    "duration": 91,
    "start_time": "2022-02-23T11:35:00.599Z"
   },
   {
    "duration": 47,
    "start_time": "2022-02-23T11:35:00.692Z"
   },
   {
    "duration": 33,
    "start_time": "2022-02-23T11:35:00.742Z"
   },
   {
    "duration": 11,
    "start_time": "2022-02-23T11:35:00.777Z"
   },
   {
    "duration": 34,
    "start_time": "2022-02-23T11:35:00.791Z"
   },
   {
    "duration": 36,
    "start_time": "2022-02-23T11:35:00.828Z"
   },
   {
    "duration": 37,
    "start_time": "2022-02-23T11:35:00.866Z"
   },
   {
    "duration": 9,
    "start_time": "2022-02-23T11:35:00.906Z"
   },
   {
    "duration": 856,
    "start_time": "2022-02-23T11:35:00.918Z"
   },
   {
    "duration": 20,
    "start_time": "2022-02-23T11:35:01.776Z"
   },
   {
    "duration": 763,
    "start_time": "2022-02-23T11:35:01.799Z"
   },
   {
    "duration": 577,
    "start_time": "2022-02-23T11:35:02.564Z"
   },
   {
    "duration": 337,
    "start_time": "2022-02-23T11:35:03.144Z"
   },
   {
    "duration": 324,
    "start_time": "2022-02-23T11:35:03.483Z"
   },
   {
    "duration": 23,
    "start_time": "2022-02-23T11:35:03.810Z"
   },
   {
    "duration": 513,
    "start_time": "2022-02-23T11:35:03.836Z"
   },
   {
    "duration": 295,
    "start_time": "2022-02-23T11:35:04.351Z"
   },
   {
    "duration": 370,
    "start_time": "2022-02-23T11:35:04.649Z"
   },
   {
    "duration": 350,
    "start_time": "2022-02-23T11:35:05.022Z"
   },
   {
    "duration": 13,
    "start_time": "2022-02-23T11:35:05.375Z"
   },
   {
    "duration": 38,
    "start_time": "2022-02-23T11:35:05.391Z"
   },
   {
    "duration": 698,
    "start_time": "2022-02-23T11:35:05.433Z"
   },
   {
    "duration": 499,
    "start_time": "2022-02-23T11:35:06.134Z"
   },
   {
    "duration": 606,
    "start_time": "2022-02-23T11:35:06.636Z"
   },
   {
    "duration": 337,
    "start_time": "2022-02-23T11:35:07.245Z"
   },
   {
    "duration": 10,
    "start_time": "2022-02-23T11:35:07.584Z"
   },
   {
    "duration": 5,
    "start_time": "2022-02-23T11:35:07.596Z"
   },
   {
    "duration": 430,
    "start_time": "2022-02-23T11:35:07.627Z"
   },
   {
    "duration": 345,
    "start_time": "2022-02-23T11:35:08.059Z"
   },
   {
    "duration": 612,
    "start_time": "2022-02-23T11:35:08.408Z"
   },
   {
    "duration": 681,
    "start_time": "2022-02-23T11:35:09.026Z"
   },
   {
    "duration": 475,
    "start_time": "2022-02-23T11:35:09.710Z"
   },
   {
    "duration": 328,
    "start_time": "2022-02-23T11:35:10.188Z"
   },
   {
    "duration": 321,
    "start_time": "2022-02-23T11:35:10.519Z"
   },
   {
    "duration": 597,
    "start_time": "2022-02-23T11:35:10.842Z"
   },
   {
    "duration": 11,
    "start_time": "2022-02-23T11:35:11.442Z"
   },
   {
    "duration": 9,
    "start_time": "2022-02-23T11:35:11.456Z"
   },
   {
    "duration": 542,
    "start_time": "2022-02-23T11:35:11.467Z"
   },
   {
    "duration": 431,
    "start_time": "2022-02-23T11:35:12.011Z"
   },
   {
    "duration": 438,
    "start_time": "2022-02-23T11:35:12.445Z"
   },
   {
    "duration": 314,
    "start_time": "2022-02-23T11:35:12.885Z"
   },
   {
    "duration": 10,
    "start_time": "2022-02-23T11:35:13.201Z"
   },
   {
    "duration": 6,
    "start_time": "2022-02-23T11:35:13.228Z"
   },
   {
    "duration": 418,
    "start_time": "2022-02-23T11:35:13.244Z"
   },
   {
    "duration": 323,
    "start_time": "2022-02-23T11:35:13.666Z"
   },
   {
    "duration": 308,
    "start_time": "2022-02-23T11:35:13.992Z"
   },
   {
    "duration": 320,
    "start_time": "2022-02-23T11:35:14.302Z"
   },
   {
    "duration": 416,
    "start_time": "2022-02-23T11:35:14.627Z"
   },
   {
    "duration": 335,
    "start_time": "2022-02-23T11:35:15.045Z"
   },
   {
    "duration": 384,
    "start_time": "2022-02-23T11:35:15.382Z"
   },
   {
    "duration": 390,
    "start_time": "2022-02-23T11:35:15.769Z"
   },
   {
    "duration": 11,
    "start_time": "2022-02-23T11:35:16.161Z"
   },
   {
    "duration": 22,
    "start_time": "2022-02-23T11:35:16.174Z"
   },
   {
    "duration": 391,
    "start_time": "2022-02-23T11:35:16.198Z"
   },
   {
    "duration": 312,
    "start_time": "2022-02-23T11:35:16.592Z"
   },
   {
    "duration": 320,
    "start_time": "2022-02-23T11:35:16.906Z"
   },
   {
    "duration": 351,
    "start_time": "2022-02-23T11:35:17.228Z"
   },
   {
    "duration": 10,
    "start_time": "2022-02-23T11:35:17.582Z"
   },
   {
    "duration": 5,
    "start_time": "2022-02-23T11:35:17.595Z"
   },
   {
    "duration": 466,
    "start_time": "2022-02-23T11:35:17.602Z"
   },
   {
    "duration": 468,
    "start_time": "2022-02-23T11:35:18.071Z"
   },
   {
    "duration": 332,
    "start_time": "2022-02-23T11:35:18.542Z"
   },
   {
    "duration": 9,
    "start_time": "2022-02-23T11:35:18.877Z"
   },
   {
    "duration": 9,
    "start_time": "2022-02-23T11:35:18.889Z"
   },
   {
    "duration": 595,
    "start_time": "2022-02-23T11:35:18.901Z"
   },
   {
    "duration": 323,
    "start_time": "2022-02-23T11:35:19.499Z"
   },
   {
    "duration": 10,
    "start_time": "2022-02-23T11:35:19.826Z"
   },
   {
    "duration": 15,
    "start_time": "2022-02-23T11:35:19.839Z"
   },
   {
    "duration": 10,
    "start_time": "2022-02-23T11:35:19.856Z"
   },
   {
    "duration": 11,
    "start_time": "2022-02-23T11:35:19.868Z"
   },
   {
    "duration": 502,
    "start_time": "2022-02-23T11:35:19.882Z"
   },
   {
    "duration": 8,
    "start_time": "2022-02-23T11:35:20.388Z"
   },
   {
    "duration": 31,
    "start_time": "2022-02-23T11:35:20.399Z"
   },
   {
    "duration": 33,
    "start_time": "2022-02-23T11:35:20.433Z"
   },
   {
    "duration": 21,
    "start_time": "2022-02-23T11:35:20.470Z"
   },
   {
    "duration": 19,
    "start_time": "2022-02-23T11:35:20.493Z"
   },
   {
    "duration": 30,
    "start_time": "2022-02-23T11:35:20.515Z"
   },
   {
    "duration": 13,
    "start_time": "2022-02-23T11:42:33.367Z"
   },
   {
    "duration": 69,
    "start_time": "2022-02-23T15:07:36.581Z"
   },
   {
    "duration": 678,
    "start_time": "2022-02-23T15:09:25.485Z"
   },
   {
    "duration": 425,
    "start_time": "2022-02-23T15:09:26.165Z"
   },
   {
    "duration": 16,
    "start_time": "2022-02-23T15:09:26.593Z"
   },
   {
    "duration": 23,
    "start_time": "2022-02-23T15:09:26.612Z"
   },
   {
    "duration": 32,
    "start_time": "2022-02-23T15:09:26.637Z"
   },
   {
    "duration": 36,
    "start_time": "2022-02-23T15:09:26.671Z"
   },
   {
    "duration": 20,
    "start_time": "2022-02-23T15:09:26.709Z"
   },
   {
    "duration": 32,
    "start_time": "2022-02-23T15:09:26.732Z"
   },
   {
    "duration": 9,
    "start_time": "2022-02-23T15:09:26.766Z"
   },
   {
    "duration": 9,
    "start_time": "2022-02-23T15:09:26.808Z"
   },
   {
    "duration": 8,
    "start_time": "2022-02-23T15:09:26.819Z"
   },
   {
    "duration": 13,
    "start_time": "2022-02-23T15:09:26.830Z"
   },
   {
    "duration": 9,
    "start_time": "2022-02-23T15:09:26.845Z"
   },
   {
    "duration": 54,
    "start_time": "2022-02-23T15:09:26.856Z"
   },
   {
    "duration": 10,
    "start_time": "2022-02-23T15:09:26.912Z"
   },
   {
    "duration": 18,
    "start_time": "2022-02-23T15:09:26.924Z"
   },
   {
    "duration": 11,
    "start_time": "2022-02-23T15:09:26.944Z"
   },
   {
    "duration": 14,
    "start_time": "2022-02-23T15:09:26.957Z"
   },
   {
    "duration": 37,
    "start_time": "2022-02-23T15:09:26.973Z"
   },
   {
    "duration": 4,
    "start_time": "2022-02-23T15:09:27.011Z"
   },
   {
    "duration": 14,
    "start_time": "2022-02-23T15:09:27.016Z"
   },
   {
    "duration": 10,
    "start_time": "2022-02-23T15:09:27.032Z"
   },
   {
    "duration": 75,
    "start_time": "2022-02-23T15:09:27.047Z"
   },
   {
    "duration": 22,
    "start_time": "2022-02-23T15:09:27.125Z"
   },
   {
    "duration": 5,
    "start_time": "2022-02-23T15:09:27.149Z"
   },
   {
    "duration": 8,
    "start_time": "2022-02-23T15:09:27.156Z"
   },
   {
    "duration": 118,
    "start_time": "2022-02-23T15:09:27.166Z"
   },
   {
    "duration": 40,
    "start_time": "2022-02-23T15:09:27.286Z"
   },
   {
    "duration": 9,
    "start_time": "2022-02-23T15:09:27.328Z"
   },
   {
    "duration": 42,
    "start_time": "2022-02-23T15:09:27.339Z"
   },
   {
    "duration": 29,
    "start_time": "2022-02-23T15:09:27.383Z"
   },
   {
    "duration": 10,
    "start_time": "2022-02-23T15:09:27.413Z"
   },
   {
    "duration": 78,
    "start_time": "2022-02-23T15:09:27.425Z"
   },
   {
    "duration": 29,
    "start_time": "2022-02-23T15:09:27.505Z"
   },
   {
    "duration": 8,
    "start_time": "2022-02-23T15:09:27.536Z"
   },
   {
    "duration": 43,
    "start_time": "2022-02-23T15:09:27.545Z"
   },
   {
    "duration": 8,
    "start_time": "2022-02-23T15:09:27.608Z"
   },
   {
    "duration": 58,
    "start_time": "2022-02-23T15:09:27.618Z"
   },
   {
    "duration": 32,
    "start_time": "2022-02-23T15:09:27.678Z"
   },
   {
    "duration": 24,
    "start_time": "2022-02-23T15:09:27.712Z"
   },
   {
    "duration": 7,
    "start_time": "2022-02-23T15:09:27.738Z"
   },
   {
    "duration": 11,
    "start_time": "2022-02-23T15:09:27.746Z"
   },
   {
    "duration": 10,
    "start_time": "2022-02-23T15:09:27.759Z"
   },
   {
    "duration": 11,
    "start_time": "2022-02-23T15:09:27.771Z"
   },
   {
    "duration": 6,
    "start_time": "2022-02-23T15:09:27.809Z"
   },
   {
    "duration": 475,
    "start_time": "2022-02-23T15:09:27.817Z"
   },
   {
    "duration": 16,
    "start_time": "2022-02-23T15:09:28.294Z"
   },
   {
    "duration": 688,
    "start_time": "2022-02-23T15:09:28.312Z"
   },
   {
    "duration": 352,
    "start_time": "2022-02-23T15:09:29.002Z"
   },
   {
    "duration": 210,
    "start_time": "2022-02-23T15:09:29.356Z"
   },
   {
    "duration": 207,
    "start_time": "2022-02-23T15:09:29.568Z"
   },
   {
    "duration": 10,
    "start_time": "2022-02-23T15:09:29.777Z"
   },
   {
    "duration": 329,
    "start_time": "2022-02-23T15:09:29.789Z"
   },
   {
    "duration": 206,
    "start_time": "2022-02-23T15:09:30.120Z"
   },
   {
    "duration": 227,
    "start_time": "2022-02-23T15:09:30.328Z"
   },
   {
    "duration": 216,
    "start_time": "2022-02-23T15:09:30.557Z"
   },
   {
    "duration": 8,
    "start_time": "2022-02-23T15:09:30.776Z"
   },
   {
    "duration": 22,
    "start_time": "2022-02-23T15:09:30.787Z"
   },
   {
    "duration": 432,
    "start_time": "2022-02-23T15:09:30.811Z"
   },
   {
    "duration": 437,
    "start_time": "2022-02-23T15:09:31.246Z"
   },
   {
    "duration": 371,
    "start_time": "2022-02-23T15:09:31.685Z"
   },
   {
    "duration": 235,
    "start_time": "2022-02-23T15:09:32.058Z"
   },
   {
    "duration": 16,
    "start_time": "2022-02-23T15:09:32.296Z"
   },
   {
    "duration": 13,
    "start_time": "2022-02-23T15:09:32.314Z"
   },
   {
    "duration": 304,
    "start_time": "2022-02-23T15:09:32.329Z"
   },
   {
    "duration": 229,
    "start_time": "2022-02-23T15:09:32.635Z"
   },
   {
    "duration": 378,
    "start_time": "2022-02-23T15:09:32.866Z"
   },
   {
    "duration": 450,
    "start_time": "2022-02-23T15:09:33.252Z"
   },
   {
    "duration": 311,
    "start_time": "2022-02-23T15:09:33.705Z"
   },
   {
    "duration": 222,
    "start_time": "2022-02-23T15:09:34.018Z"
   },
   {
    "duration": 295,
    "start_time": "2022-02-23T15:09:34.242Z"
   },
   {
    "duration": 373,
    "start_time": "2022-02-23T15:09:34.540Z"
   },
   {
    "duration": 8,
    "start_time": "2022-02-23T15:09:34.916Z"
   },
   {
    "duration": 6,
    "start_time": "2022-02-23T15:09:34.926Z"
   },
   {
    "duration": 343,
    "start_time": "2022-02-23T15:09:34.934Z"
   },
   {
    "duration": 214,
    "start_time": "2022-02-23T15:09:35.279Z"
   },
   {
    "duration": 305,
    "start_time": "2022-02-23T15:09:35.495Z"
   },
   {
    "duration": 204,
    "start_time": "2022-02-23T15:09:35.807Z"
   },
   {
    "duration": 8,
    "start_time": "2022-02-23T15:09:36.014Z"
   },
   {
    "duration": 18,
    "start_time": "2022-02-23T15:09:36.024Z"
   },
   {
    "duration": 277,
    "start_time": "2022-02-23T15:09:36.044Z"
   },
   {
    "duration": 208,
    "start_time": "2022-02-23T15:09:36.323Z"
   },
   {
    "duration": 201,
    "start_time": "2022-02-23T15:09:36.534Z"
   },
   {
    "duration": 219,
    "start_time": "2022-02-23T15:09:36.737Z"
   },
   {
    "duration": 369,
    "start_time": "2022-02-23T15:09:36.958Z"
   },
   {
    "duration": 235,
    "start_time": "2022-02-23T15:09:37.330Z"
   },
   {
    "duration": 203,
    "start_time": "2022-02-23T15:09:37.568Z"
   },
   {
    "duration": 237,
    "start_time": "2022-02-23T15:09:37.773Z"
   },
   {
    "duration": 7,
    "start_time": "2022-02-23T15:09:38.012Z"
   },
   {
    "duration": 6,
    "start_time": "2022-02-23T15:09:38.021Z"
   },
   {
    "duration": 252,
    "start_time": "2022-02-23T15:09:38.028Z"
   },
   {
    "duration": 197,
    "start_time": "2022-02-23T15:09:38.282Z"
   },
   {
    "duration": 202,
    "start_time": "2022-02-23T15:09:38.481Z"
   },
   {
    "duration": 229,
    "start_time": "2022-02-23T15:09:38.685Z"
   },
   {
    "duration": 8,
    "start_time": "2022-02-23T15:09:38.917Z"
   },
   {
    "duration": 20,
    "start_time": "2022-02-23T15:09:38.927Z"
   },
   {
    "duration": 287,
    "start_time": "2022-02-23T15:09:38.949Z"
   },
   {
    "duration": 344,
    "start_time": "2022-02-23T15:09:39.238Z"
   },
   {
    "duration": 233,
    "start_time": "2022-02-23T15:09:39.583Z"
   },
   {
    "duration": 8,
    "start_time": "2022-02-23T15:09:39.818Z"
   },
   {
    "duration": 32,
    "start_time": "2022-02-23T15:09:39.828Z"
   },
   {
    "duration": 383,
    "start_time": "2022-02-23T15:09:39.862Z"
   },
   {
    "duration": 225,
    "start_time": "2022-02-23T15:09:40.247Z"
   },
   {
    "duration": 8,
    "start_time": "2022-02-23T15:09:40.474Z"
   },
   {
    "duration": 23,
    "start_time": "2022-02-23T15:09:40.484Z"
   },
   {
    "duration": 37,
    "start_time": "2022-02-23T15:09:40.509Z"
   },
   {
    "duration": 16,
    "start_time": "2022-02-23T15:09:40.548Z"
   },
   {
    "duration": 403,
    "start_time": "2022-02-23T15:09:40.567Z"
   },
   {
    "duration": 6,
    "start_time": "2022-02-23T15:09:40.972Z"
   },
   {
    "duration": 22,
    "start_time": "2022-02-23T15:09:40.980Z"
   },
   {
    "duration": 26,
    "start_time": "2022-02-23T15:09:41.004Z"
   },
   {
    "duration": 6,
    "start_time": "2022-02-23T15:09:41.032Z"
   },
   {
    "duration": 14,
    "start_time": "2022-02-23T15:09:41.040Z"
   },
   {
    "duration": 9,
    "start_time": "2022-02-23T15:09:41.056Z"
   },
   {
    "duration": 68,
    "start_time": "2022-02-23T15:28:32.040Z"
   },
   {
    "duration": 4,
    "start_time": "2022-02-23T15:56:37.313Z"
   },
   {
    "duration": 463,
    "start_time": "2022-02-23T15:56:37.319Z"
   },
   {
    "duration": 9,
    "start_time": "2022-02-23T15:56:37.785Z"
   },
   {
    "duration": 24,
    "start_time": "2022-02-23T15:56:37.808Z"
   },
   {
    "duration": 30,
    "start_time": "2022-02-23T15:56:37.834Z"
   },
   {
    "duration": 43,
    "start_time": "2022-02-23T15:56:37.866Z"
   },
   {
    "duration": 24,
    "start_time": "2022-02-23T15:56:37.913Z"
   },
   {
    "duration": 68,
    "start_time": "2022-02-23T15:56:37.941Z"
   },
   {
    "duration": 11,
    "start_time": "2022-02-23T15:56:38.012Z"
   },
   {
    "duration": 12,
    "start_time": "2022-02-23T15:56:38.026Z"
   },
   {
    "duration": 10,
    "start_time": "2022-02-23T15:56:38.041Z"
   },
   {
    "duration": 54,
    "start_time": "2022-02-23T15:56:38.053Z"
   },
   {
    "duration": 7,
    "start_time": "2022-02-23T15:56:38.109Z"
   },
   {
    "duration": 20,
    "start_time": "2022-02-23T15:56:38.118Z"
   },
   {
    "duration": 13,
    "start_time": "2022-02-23T15:56:38.140Z"
   },
   {
    "duration": 13,
    "start_time": "2022-02-23T15:56:38.155Z"
   },
   {
    "duration": 38,
    "start_time": "2022-02-23T15:56:38.170Z"
   },
   {
    "duration": 18,
    "start_time": "2022-02-23T15:56:38.210Z"
   },
   {
    "duration": 7,
    "start_time": "2022-02-23T15:56:38.232Z"
   },
   {
    "duration": 7,
    "start_time": "2022-02-23T15:56:38.241Z"
   },
   {
    "duration": 15,
    "start_time": "2022-02-23T15:56:38.250Z"
   },
   {
    "duration": 14,
    "start_time": "2022-02-23T15:56:38.267Z"
   },
   {
    "duration": 66,
    "start_time": "2022-02-23T15:56:38.283Z"
   },
   {
    "duration": 19,
    "start_time": "2022-02-23T15:56:38.351Z"
   },
   {
    "duration": 6,
    "start_time": "2022-02-23T15:56:38.373Z"
   },
   {
    "duration": 29,
    "start_time": "2022-02-23T15:56:38.381Z"
   },
   {
    "duration": 99,
    "start_time": "2022-02-23T15:56:38.412Z"
   },
   {
    "duration": 32,
    "start_time": "2022-02-23T15:56:38.513Z"
   },
   {
    "duration": 9,
    "start_time": "2022-02-23T15:56:38.547Z"
   },
   {
    "duration": 68,
    "start_time": "2022-02-23T15:56:38.558Z"
   },
   {
    "duration": 17,
    "start_time": "2022-02-23T15:56:38.628Z"
   },
   {
    "duration": 12,
    "start_time": "2022-02-23T15:56:38.648Z"
   },
   {
    "duration": 79,
    "start_time": "2022-02-23T15:56:38.661Z"
   },
   {
    "duration": 29,
    "start_time": "2022-02-23T15:56:38.742Z"
   },
   {
    "duration": 7,
    "start_time": "2022-02-23T15:56:38.773Z"
   },
   {
    "duration": 58,
    "start_time": "2022-02-23T15:56:38.782Z"
   },
   {
    "duration": 7,
    "start_time": "2022-02-23T15:56:38.843Z"
   },
   {
    "duration": 64,
    "start_time": "2022-02-23T15:56:38.852Z"
   },
   {
    "duration": 29,
    "start_time": "2022-02-23T15:56:38.918Z"
   },
   {
    "duration": 27,
    "start_time": "2022-02-23T15:56:38.949Z"
   },
   {
    "duration": 29,
    "start_time": "2022-02-23T15:56:38.978Z"
   },
   {
    "duration": 7,
    "start_time": "2022-02-23T15:56:39.010Z"
   },
   {
    "duration": 11,
    "start_time": "2022-02-23T15:56:39.019Z"
   },
   {
    "duration": 9,
    "start_time": "2022-02-23T15:56:39.032Z"
   },
   {
    "duration": 6,
    "start_time": "2022-02-23T15:56:39.044Z"
   },
   {
    "duration": 508,
    "start_time": "2022-02-23T15:56:39.053Z"
   },
   {
    "duration": 14,
    "start_time": "2022-02-23T15:56:39.563Z"
   },
   {
    "duration": 408,
    "start_time": "2022-02-23T15:56:39.579Z"
   },
   {
    "duration": 537,
    "start_time": "2022-02-23T15:56:39.989Z"
   },
   {
    "duration": 235,
    "start_time": "2022-02-23T15:56:40.528Z"
   },
   {
    "duration": 208,
    "start_time": "2022-02-23T15:56:40.766Z"
   },
   {
    "duration": 9,
    "start_time": "2022-02-23T15:56:40.976Z"
   },
   {
    "duration": 351,
    "start_time": "2022-02-23T15:56:40.987Z"
   },
   {
    "duration": 219,
    "start_time": "2022-02-23T15:56:41.340Z"
   },
   {
    "duration": 347,
    "start_time": "2022-02-23T15:56:41.566Z"
   },
   {
    "duration": 222,
    "start_time": "2022-02-23T15:56:41.916Z"
   },
   {
    "duration": 8,
    "start_time": "2022-02-23T15:56:42.140Z"
   },
   {
    "duration": 14,
    "start_time": "2022-02-23T15:56:42.150Z"
   },
   {
    "duration": 407,
    "start_time": "2022-02-23T15:56:42.167Z"
   },
   {
    "duration": 345,
    "start_time": "2022-02-23T15:56:42.576Z"
   },
   {
    "duration": 393,
    "start_time": "2022-02-23T15:56:42.923Z"
   },
   {
    "duration": 220,
    "start_time": "2022-02-23T15:56:43.318Z"
   },
   {
    "duration": 7,
    "start_time": "2022-02-23T15:56:43.540Z"
   },
   {
    "duration": 9,
    "start_time": "2022-02-23T15:56:43.549Z"
   },
   {
    "duration": 300,
    "start_time": "2022-02-23T15:56:43.559Z"
   },
   {
    "duration": 218,
    "start_time": "2022-02-23T15:56:43.861Z"
   },
   {
    "duration": 384,
    "start_time": "2022-02-23T15:56:44.081Z"
   },
   {
    "duration": 561,
    "start_time": "2022-02-23T15:56:44.467Z"
   },
   {
    "duration": 322,
    "start_time": "2022-02-23T15:56:45.030Z"
   },
   {
    "duration": 268,
    "start_time": "2022-02-23T15:56:45.354Z"
   },
   {
    "duration": 248,
    "start_time": "2022-02-23T15:56:45.625Z"
   },
   {
    "duration": 435,
    "start_time": "2022-02-23T15:56:45.874Z"
   },
   {
    "duration": 7,
    "start_time": "2022-02-23T15:56:46.311Z"
   },
   {
    "duration": 12,
    "start_time": "2022-02-23T15:56:46.320Z"
   },
   {
    "duration": 336,
    "start_time": "2022-02-23T15:56:46.334Z"
   },
   {
    "duration": 228,
    "start_time": "2022-02-23T15:56:46.672Z"
   },
   {
    "duration": 221,
    "start_time": "2022-02-23T15:56:46.901Z"
   },
   {
    "duration": 224,
    "start_time": "2022-02-23T15:56:47.124Z"
   },
   {
    "duration": 8,
    "start_time": "2022-02-23T15:56:47.350Z"
   },
   {
    "duration": 13,
    "start_time": "2022-02-23T15:56:47.360Z"
   },
   {
    "duration": 292,
    "start_time": "2022-02-23T15:56:47.376Z"
   },
   {
    "duration": 233,
    "start_time": "2022-02-23T15:56:47.671Z"
   },
   {
    "duration": 214,
    "start_time": "2022-02-23T15:56:47.907Z"
   },
   {
    "duration": 259,
    "start_time": "2022-02-23T15:56:48.123Z"
   },
   {
    "duration": 452,
    "start_time": "2022-02-23T15:56:48.385Z"
   },
   {
    "duration": 225,
    "start_time": "2022-02-23T15:56:48.839Z"
   },
   {
    "duration": 476,
    "start_time": "2022-02-23T15:56:49.066Z"
   },
   {
    "duration": 367,
    "start_time": "2022-02-23T15:56:49.545Z"
   },
   {
    "duration": 9,
    "start_time": "2022-02-23T15:56:49.915Z"
   },
   {
    "duration": 9,
    "start_time": "2022-02-23T15:56:49.927Z"
   },
   {
    "duration": 382,
    "start_time": "2022-02-23T15:56:49.938Z"
   },
   {
    "duration": 216,
    "start_time": "2022-02-23T15:56:50.323Z"
   },
   {
    "duration": 220,
    "start_time": "2022-02-23T15:56:50.541Z"
   },
   {
    "duration": 237,
    "start_time": "2022-02-23T15:56:50.763Z"
   },
   {
    "duration": 9,
    "start_time": "2022-02-23T15:56:51.003Z"
   },
   {
    "duration": 9,
    "start_time": "2022-02-23T15:56:51.014Z"
   },
   {
    "duration": 508,
    "start_time": "2022-02-23T15:56:51.025Z"
   },
   {
    "duration": 231,
    "start_time": "2022-02-23T15:56:51.535Z"
   },
   {
    "duration": 339,
    "start_time": "2022-02-23T15:56:51.769Z"
   },
   {
    "duration": 10,
    "start_time": "2022-02-23T15:56:52.110Z"
   },
   {
    "duration": 8,
    "start_time": "2022-02-23T15:56:52.122Z"
   },
   {
    "duration": 641,
    "start_time": "2022-02-23T15:56:52.132Z"
   },
   {
    "duration": 342,
    "start_time": "2022-02-23T15:56:52.775Z"
   },
   {
    "duration": 10,
    "start_time": "2022-02-23T15:56:53.119Z"
   },
   {
    "duration": 5,
    "start_time": "2022-02-23T15:56:53.131Z"
   },
   {
    "duration": 8,
    "start_time": "2022-02-23T15:56:53.137Z"
   },
   {
    "duration": 11,
    "start_time": "2022-02-23T15:56:53.147Z"
   },
   {
    "duration": 9,
    "start_time": "2022-02-23T15:56:53.160Z"
   },
   {
    "duration": 12,
    "start_time": "2022-02-23T15:56:53.207Z"
   },
   {
    "duration": 14,
    "start_time": "2022-02-23T15:56:53.220Z"
   },
   {
    "duration": 7,
    "start_time": "2022-02-23T15:56:53.236Z"
   },
   {
    "duration": 10,
    "start_time": "2022-02-23T15:56:53.245Z"
   },
   {
    "duration": 14,
    "start_time": "2022-02-23T15:56:53.257Z"
   },
   {
    "duration": 14,
    "start_time": "2022-02-23T15:56:53.273Z"
   },
   {
    "duration": 8,
    "start_time": "2022-02-23T15:58:02.644Z"
   },
   {
    "duration": 68,
    "start_time": "2022-02-23T15:58:35.904Z"
   }
  ],
  "kernelspec": {
   "display_name": "Python 3",
   "language": "python",
   "name": "python3"
  },
  "language_info": {
   "codemirror_mode": {
    "name": "ipython",
    "version": 3
   },
   "file_extension": ".py",
   "mimetype": "text/x-python",
   "name": "python",
   "nbconvert_exporter": "python",
   "pygments_lexer": "ipython3",
   "version": "3.8.8"
  },
  "toc": {
   "base_numbering": 1,
   "nav_menu": {},
   "number_sections": false,
   "sideBar": true,
   "skip_h1_title": false,
   "title_cell": "Table of Contents",
   "title_sidebar": "Contents",
   "toc_cell": false,
   "toc_position": {
    "height": "757px",
    "left": "26px",
    "top": "137.125px",
    "width": "229.387px"
   },
   "toc_section_display": true,
   "toc_window_display": false
  }
 },
 "nbformat": 4,
 "nbformat_minor": 2
}
