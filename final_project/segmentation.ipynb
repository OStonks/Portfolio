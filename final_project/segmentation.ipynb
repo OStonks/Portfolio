{
 "cells": [
  {
   "cell_type": "markdown",
   "metadata": {},
   "source": [
    "<font color='red' size=5><b>Сегментирование пользователей банка</b></font>"
   ]
  },
  {
   "cell_type": "markdown",
   "metadata": {},
   "source": [
    "# Материалы"
   ]
  },
  {
   "cell_type": "markdown",
   "metadata": {},
   "source": [
    "Чтобы увидеть новую презентацию, нужно нажать на эту кнопочку -  **[ТУТЬ](https://drive.google.com/file/d/1uZseh6LpZblNjQSUQEptZ66ZlyT1FSDX/view?usp=sharing)**\n"
   ]
  },
  {
   "cell_type": "markdown",
   "metadata": {},
   "source": [
    "# Оглавление:"
   ]
  },
  {
   "cell_type": "markdown",
   "metadata": {},
   "source": [
    "1. [Шаг 1. Откроем файл с данными и изучим общую информацию](#one)\n",
    "\n",
    "\n",
    "2. [Шаг 2. Предобработка данных](#two)\n",
    "    * [Замена названий столбцев](#three)\n",
    "    * [Работа с дубликатами](#four)\n",
    "    * [Работа с пропусками](#six)\n",
    "    * [Меняем тип данных](#five)\n",
    "    \n",
    "    \n",
    "3. [Шаг 3. Исследовательский анализ данных](#seven)\n",
    "\n",
    "\n",
    "4. [Шаг 4. Статистический анализ данных](#eight)\n",
    "    * [Первая гипотеза](#nine)\n",
    "    * [Вторая гипотеза](#ten)\n",
    "\n",
    "\n",
    "5. [Шаг 5. Подведение итогов и формирование рекомендаций для банка](#eleven)"
   ]
  },
  {
   "cell_type": "markdown",
   "metadata": {},
   "source": [
    "# Шаг 1. Открыть файл с данными и изучить общую информацию\n",
    "<a id='one'></a>"
   ]
  },
  {
   "cell_type": "markdown",
   "metadata": {},
   "source": [
    "Для работы с данными нам нужно импортировать библиотеки, которые понадобятся нам для дальнейшей работы."
   ]
  },
  {
   "cell_type": "code",
   "execution_count": 1,
   "metadata": {},
   "outputs": [
    {
     "name": "stdout",
     "output_type": "stream",
     "text": [
      "Requirement already satisfied: phik in /opt/conda/lib/python3.9/site-packages (0.12.2)\r\n",
      "Requirement already satisfied: matplotlib>=2.2.3 in /opt/conda/lib/python3.9/site-packages (from phik) (3.3.4)\r\n",
      "Requirement already satisfied: scipy>=1.5.2 in /opt/conda/lib/python3.9/site-packages (from phik) (1.9.1)\r\n",
      "Requirement already satisfied: numpy>=1.18.0 in /opt/conda/lib/python3.9/site-packages (from phik) (1.21.1)\r\n",
      "Requirement already satisfied: pandas>=0.25.1 in /opt/conda/lib/python3.9/site-packages (from phik) (1.2.4)\r\n",
      "Requirement already satisfied: joblib>=0.14.1 in /opt/conda/lib/python3.9/site-packages (from phik) (1.1.0)\r\n",
      "Requirement already satisfied: kiwisolver>=1.0.1 in /opt/conda/lib/python3.9/site-packages (from matplotlib>=2.2.3->phik) (1.4.4)\r\n",
      "Requirement already satisfied: cycler>=0.10 in /opt/conda/lib/python3.9/site-packages (from matplotlib>=2.2.3->phik) (0.11.0)\r\n",
      "Requirement already satisfied: pyparsing!=2.0.4,!=2.1.2,!=2.1.6,>=2.0.3 in /opt/conda/lib/python3.9/site-packages (from matplotlib>=2.2.3->phik) (2.4.7)\r\n",
      "Requirement already satisfied: pillow>=6.2.0 in /opt/conda/lib/python3.9/site-packages (from matplotlib>=2.2.3->phik) (8.4.0)\r\n",
      "Requirement already satisfied: python-dateutil>=2.1 in /opt/conda/lib/python3.9/site-packages (from matplotlib>=2.2.3->phik) (2.8.1)\r\n",
      "Requirement already satisfied: pytz>=2017.3 in /opt/conda/lib/python3.9/site-packages (from pandas>=0.25.1->phik) (2021.1)\r\n",
      "Requirement already satisfied: six>=1.5 in /opt/conda/lib/python3.9/site-packages (from python-dateutil>=2.1->matplotlib>=2.2.3->phik) (1.16.0)\r\n"
     ]
    }
   ],
   "source": [
    "# импорт библиотеки pandas\n",
    "import pandas as pd\n",
    "# импорт библиотеки matplotlib\n",
    "import matplotlib.pyplot as plt\n",
    "# импорт библиотеки seaborn\n",
    "import seaborn as sns\n",
    "# импорт библиотеки scipy\n",
    "from scipy import stats as st\n",
    "# импорт библиотеки BytesIO\n",
    "from io import BytesIO\n",
    "# импорт библиотеки requests\n",
    "import requests\n",
    "# импорт библиотеки warnings\n",
    "import warnings\n",
    "warnings.filterwarnings(\"ignore\") \n",
    "# импорт библиотеки phik\n",
    "!pip install phik\n",
    "import phik\n",
    "from phik.report import plot_correlation_matrix\n",
    "from phik import report\n",
    "# импорт библиотеки sklearn\n",
    "from sklearn.preprocessing import LabelEncoder"
   ]
  },
  {
   "cell_type": "code",
   "execution_count": 2,
   "metadata": {},
   "outputs": [],
   "source": [
    "#добавление класса для шрифта\n",
    "class color:\n",
    "   BOLD = '\\033[1m'\n",
    "   END = '\\033[0m'"
   ]
  },
  {
   "cell_type": "markdown",
   "metadata": {},
   "source": [
    "Теперь мы можем приступить к чтению файла. Прежде всего нам необходимо встроить сторонний файл с данными в проект - мы загрузим его в гугл-таблицы, а затем прочтем ссылку на таблицу."
   ]
  },
  {
   "cell_type": "code",
   "execution_count": 3,
   "metadata": {},
   "outputs": [],
   "source": [
    "#встраиваем файл в проект\n",
    "spreadsheet_id = '1WLWpx_x7QT8Ig9K0Y7qfl6HgPDQ2Xa0bhTKLKhco6CE'\n",
    "file_name = 'https://docs.google.com/spreadsheets/d/{}/export?format=csv'.format(spreadsheet_id)\n",
    "r = requests.get(file_name)\n",
    "#присваиваем переменной значение датасета\n",
    "bank_df = pd.read_csv(BytesIO(r.content))"
   ]
  },
  {
   "cell_type": "markdown",
   "metadata": {},
   "source": [
    "Теперь посмотрим на сам датасет и общую информацию о нем, на основе полученных данных сделаем предварительные выводы."
   ]
  },
  {
   "cell_type": "code",
   "execution_count": 4,
   "metadata": {},
   "outputs": [
    {
     "data": {
      "text/html": [
       "<div>\n",
       "<style scoped>\n",
       "    .dataframe tbody tr th:only-of-type {\n",
       "        vertical-align: middle;\n",
       "    }\n",
       "\n",
       "    .dataframe tbody tr th {\n",
       "        vertical-align: top;\n",
       "    }\n",
       "\n",
       "    .dataframe thead th {\n",
       "        text-align: right;\n",
       "    }\n",
       "</style>\n",
       "<table border=\"1\" class=\"dataframe\">\n",
       "  <thead>\n",
       "    <tr style=\"text-align: right;\">\n",
       "      <th></th>\n",
       "      <th>userid</th>\n",
       "      <th>score</th>\n",
       "      <th>City</th>\n",
       "      <th>Gender</th>\n",
       "      <th>Age</th>\n",
       "      <th>Objects</th>\n",
       "      <th>Balance</th>\n",
       "      <th>Products</th>\n",
       "      <th>CreditCard</th>\n",
       "      <th>Loyalty</th>\n",
       "      <th>estimated_salary</th>\n",
       "      <th>Churn</th>\n",
       "    </tr>\n",
       "  </thead>\n",
       "  <tbody>\n",
       "    <tr>\n",
       "      <th>0</th>\n",
       "      <td>15677338</td>\n",
       "      <td>619</td>\n",
       "      <td>Ярославль</td>\n",
       "      <td>Ж</td>\n",
       "      <td>42</td>\n",
       "      <td>2</td>\n",
       "      <td>NaN</td>\n",
       "      <td>1</td>\n",
       "      <td>1</td>\n",
       "      <td>1</td>\n",
       "      <td>101348.88</td>\n",
       "      <td>1</td>\n",
       "    </tr>\n",
       "    <tr>\n",
       "      <th>1</th>\n",
       "      <td>15690047</td>\n",
       "      <td>608</td>\n",
       "      <td>Рыбинск</td>\n",
       "      <td>Ж</td>\n",
       "      <td>41</td>\n",
       "      <td>1</td>\n",
       "      <td>83807.86</td>\n",
       "      <td>1</td>\n",
       "      <td>0</td>\n",
       "      <td>1</td>\n",
       "      <td>112542.58</td>\n",
       "      <td>0</td>\n",
       "    </tr>\n",
       "    <tr>\n",
       "      <th>2</th>\n",
       "      <td>15662040</td>\n",
       "      <td>502</td>\n",
       "      <td>Ярославль</td>\n",
       "      <td>Ж</td>\n",
       "      <td>42</td>\n",
       "      <td>8</td>\n",
       "      <td>159660.80</td>\n",
       "      <td>3</td>\n",
       "      <td>1</td>\n",
       "      <td>0</td>\n",
       "      <td>113931.57</td>\n",
       "      <td>1</td>\n",
       "    </tr>\n",
       "    <tr>\n",
       "      <th>3</th>\n",
       "      <td>15744090</td>\n",
       "      <td>699</td>\n",
       "      <td>Ярославль</td>\n",
       "      <td>Ж</td>\n",
       "      <td>39</td>\n",
       "      <td>1</td>\n",
       "      <td>NaN</td>\n",
       "      <td>2</td>\n",
       "      <td>0</td>\n",
       "      <td>0</td>\n",
       "      <td>93826.63</td>\n",
       "      <td>0</td>\n",
       "    </tr>\n",
       "    <tr>\n",
       "      <th>4</th>\n",
       "      <td>15780624</td>\n",
       "      <td>850</td>\n",
       "      <td>Рыбинск</td>\n",
       "      <td>Ж</td>\n",
       "      <td>43</td>\n",
       "      <td>2</td>\n",
       "      <td>125510.82</td>\n",
       "      <td>1</td>\n",
       "      <td>1</td>\n",
       "      <td>1</td>\n",
       "      <td>79084.10</td>\n",
       "      <td>0</td>\n",
       "    </tr>\n",
       "  </tbody>\n",
       "</table>\n",
       "</div>"
      ],
      "text/plain": [
       "     userid  score       City Gender  Age  Objects    Balance  Products  \\\n",
       "0  15677338    619  Ярославль      Ж   42        2        NaN         1   \n",
       "1  15690047    608    Рыбинск      Ж   41        1   83807.86         1   \n",
       "2  15662040    502  Ярославль      Ж   42        8  159660.80         3   \n",
       "3  15744090    699  Ярославль      Ж   39        1        NaN         2   \n",
       "4  15780624    850    Рыбинск      Ж   43        2  125510.82         1   \n",
       "\n",
       "   CreditCard  Loyalty  estimated_salary  Churn  \n",
       "0           1        1         101348.88      1  \n",
       "1           0        1         112542.58      0  \n",
       "2           1        0         113931.57      1  \n",
       "3           0        0          93826.63      0  \n",
       "4           1        1          79084.10      0  "
      ]
     },
     "execution_count": 4,
     "metadata": {},
     "output_type": "execute_result"
    }
   ],
   "source": [
    "#выведем первые 5 строк таблицы на экран\n",
    "bank_df.head()"
   ]
  },
  {
   "cell_type": "markdown",
   "metadata": {},
   "source": [
    "В датасете 12 столбцев. Согласно документации к данным:\n",
    "\n",
    "**1)** ***`userid`*** — идентификатор пользователя,\n",
    "\n",
    "\n",
    "**2)** ***`score`*** — баллы кредитного скоринга,\n",
    "\n",
    "**3)** ***`City`*** — город,\n",
    "\n",
    "**4)** ***`Gender`*** — пол,\n",
    "\n",
    "**5)** ***`Age`*** — возраст,\n",
    "\n",
    "**6)** ***`Objects`*** — количество объектов в собственности,\n",
    "\n",
    "**7)** ***`Balance`*** — баланс на счёте,\n",
    "\n",
    "**8)** ***`Products`*** — количество продуктов, которыми пользуется клиент,\n",
    "\n",
    "**9)** ***`CreditCard`*** — есть ли кредитная карта,\n",
    "\n",
    "**10)** ***`Loyalty`*** — активный клиент,\n",
    "\n",
    "**11)** ***`estimated_salary`*** — заработная плата клиента,\n",
    "\n",
    "**12)** ***`Churn`*** — ушёл или нет.    "
   ]
  },
  {
   "cell_type": "markdown",
   "metadata": {},
   "source": [
    "В каждой строке таблицы представлены данные о клиентах банка."
   ]
  },
  {
   "cell_type": "markdown",
   "metadata": {},
   "source": [
    "Мы сразу видим, что названия столбцев не соответсвуют правилам хорошего стиля - нужно привести их к нижнему регистру."
   ]
  },
  {
   "cell_type": "code",
   "execution_count": 5,
   "metadata": {},
   "outputs": [
    {
     "name": "stdout",
     "output_type": "stream",
     "text": [
      "<class 'pandas.core.frame.DataFrame'>\n",
      "RangeIndex: 10000 entries, 0 to 9999\n",
      "Data columns (total 12 columns):\n",
      " #   Column            Non-Null Count  Dtype  \n",
      "---  ------            --------------  -----  \n",
      " 0   userid            10000 non-null  int64  \n",
      " 1   score             10000 non-null  int64  \n",
      " 2   City              10000 non-null  object \n",
      " 3   Gender            10000 non-null  object \n",
      " 4   Age               10000 non-null  int64  \n",
      " 5   Objects           10000 non-null  int64  \n",
      " 6   Balance           6383 non-null   float64\n",
      " 7   Products          10000 non-null  int64  \n",
      " 8   CreditCard        10000 non-null  int64  \n",
      " 9   Loyalty           10000 non-null  int64  \n",
      " 10  estimated_salary  10000 non-null  float64\n",
      " 11  Churn             10000 non-null  int64  \n",
      "dtypes: float64(2), int64(8), object(2)\n",
      "memory usage: 937.6+ KB\n"
     ]
    }
   ],
   "source": [
    "#получим общую информацию о датасете\n",
    "bank_df.info()"
   ]
  },
  {
   "cell_type": "markdown",
   "metadata": {},
   "source": [
    "Мы видим, что в столбце Balance около 37% пропусков - целых 3617. Тип данных в столбцах без деффектов - хотя для упрощение и стандартизации данных мы могли бы перевести пол в двоичную систему, а все значения типа float перевести в тип int."
   ]
  },
  {
   "cell_type": "code",
   "execution_count": 6,
   "metadata": {},
   "outputs": [
    {
     "data": {
      "text/html": [
       "<div>\n",
       "<style scoped>\n",
       "    .dataframe tbody tr th:only-of-type {\n",
       "        vertical-align: middle;\n",
       "    }\n",
       "\n",
       "    .dataframe tbody tr th {\n",
       "        vertical-align: top;\n",
       "    }\n",
       "\n",
       "    .dataframe thead th {\n",
       "        text-align: right;\n",
       "    }\n",
       "</style>\n",
       "<table border=\"1\" class=\"dataframe\">\n",
       "  <thead>\n",
       "    <tr style=\"text-align: right;\">\n",
       "      <th></th>\n",
       "      <th>userid</th>\n",
       "      <th>score</th>\n",
       "      <th>Age</th>\n",
       "      <th>Objects</th>\n",
       "      <th>Balance</th>\n",
       "      <th>Products</th>\n",
       "      <th>CreditCard</th>\n",
       "      <th>Loyalty</th>\n",
       "      <th>estimated_salary</th>\n",
       "      <th>Churn</th>\n",
       "    </tr>\n",
       "  </thead>\n",
       "  <tbody>\n",
       "    <tr>\n",
       "      <th>count</th>\n",
       "      <td>1.000000e+04</td>\n",
       "      <td>10000.000000</td>\n",
       "      <td>10000.000000</td>\n",
       "      <td>10000.000000</td>\n",
       "      <td>6383.000000</td>\n",
       "      <td>10000.000000</td>\n",
       "      <td>10000.00000</td>\n",
       "      <td>10000.000000</td>\n",
       "      <td>10000.000000</td>\n",
       "      <td>10000.000000</td>\n",
       "    </tr>\n",
       "    <tr>\n",
       "      <th>mean</th>\n",
       "      <td>1.573368e+07</td>\n",
       "      <td>650.528800</td>\n",
       "      <td>38.921800</td>\n",
       "      <td>5.012800</td>\n",
       "      <td>119827.493793</td>\n",
       "      <td>1.530200</td>\n",
       "      <td>0.70550</td>\n",
       "      <td>0.515100</td>\n",
       "      <td>100090.239881</td>\n",
       "      <td>0.203700</td>\n",
       "    </tr>\n",
       "    <tr>\n",
       "      <th>std</th>\n",
       "      <td>7.193619e+04</td>\n",
       "      <td>96.653299</td>\n",
       "      <td>10.487806</td>\n",
       "      <td>2.892174</td>\n",
       "      <td>30095.056462</td>\n",
       "      <td>0.581654</td>\n",
       "      <td>0.45584</td>\n",
       "      <td>0.499797</td>\n",
       "      <td>57510.492818</td>\n",
       "      <td>0.402769</td>\n",
       "    </tr>\n",
       "    <tr>\n",
       "      <th>min</th>\n",
       "      <td>1.560844e+07</td>\n",
       "      <td>350.000000</td>\n",
       "      <td>18.000000</td>\n",
       "      <td>0.000000</td>\n",
       "      <td>3768.690000</td>\n",
       "      <td>1.000000</td>\n",
       "      <td>0.00000</td>\n",
       "      <td>0.000000</td>\n",
       "      <td>11.580000</td>\n",
       "      <td>0.000000</td>\n",
       "    </tr>\n",
       "    <tr>\n",
       "      <th>25%</th>\n",
       "      <td>1.567126e+07</td>\n",
       "      <td>584.000000</td>\n",
       "      <td>32.000000</td>\n",
       "      <td>3.000000</td>\n",
       "      <td>100181.975000</td>\n",
       "      <td>1.000000</td>\n",
       "      <td>0.00000</td>\n",
       "      <td>0.000000</td>\n",
       "      <td>51002.110000</td>\n",
       "      <td>0.000000</td>\n",
       "    </tr>\n",
       "    <tr>\n",
       "      <th>50%</th>\n",
       "      <td>1.573347e+07</td>\n",
       "      <td>652.000000</td>\n",
       "      <td>37.000000</td>\n",
       "      <td>5.000000</td>\n",
       "      <td>119839.690000</td>\n",
       "      <td>1.000000</td>\n",
       "      <td>1.00000</td>\n",
       "      <td>1.000000</td>\n",
       "      <td>100193.915000</td>\n",
       "      <td>0.000000</td>\n",
       "    </tr>\n",
       "    <tr>\n",
       "      <th>75%</th>\n",
       "      <td>1.579597e+07</td>\n",
       "      <td>718.000000</td>\n",
       "      <td>44.000000</td>\n",
       "      <td>7.000000</td>\n",
       "      <td>139512.290000</td>\n",
       "      <td>2.000000</td>\n",
       "      <td>1.00000</td>\n",
       "      <td>1.000000</td>\n",
       "      <td>149388.247500</td>\n",
       "      <td>0.000000</td>\n",
       "    </tr>\n",
       "    <tr>\n",
       "      <th>max</th>\n",
       "      <td>1.585843e+07</td>\n",
       "      <td>850.000000</td>\n",
       "      <td>92.000000</td>\n",
       "      <td>10.000000</td>\n",
       "      <td>250898.090000</td>\n",
       "      <td>4.000000</td>\n",
       "      <td>1.00000</td>\n",
       "      <td>1.000000</td>\n",
       "      <td>199992.480000</td>\n",
       "      <td>1.000000</td>\n",
       "    </tr>\n",
       "  </tbody>\n",
       "</table>\n",
       "</div>"
      ],
      "text/plain": [
       "             userid         score           Age       Objects        Balance  \\\n",
       "count  1.000000e+04  10000.000000  10000.000000  10000.000000    6383.000000   \n",
       "mean   1.573368e+07    650.528800     38.921800      5.012800  119827.493793   \n",
       "std    7.193619e+04     96.653299     10.487806      2.892174   30095.056462   \n",
       "min    1.560844e+07    350.000000     18.000000      0.000000    3768.690000   \n",
       "25%    1.567126e+07    584.000000     32.000000      3.000000  100181.975000   \n",
       "50%    1.573347e+07    652.000000     37.000000      5.000000  119839.690000   \n",
       "75%    1.579597e+07    718.000000     44.000000      7.000000  139512.290000   \n",
       "max    1.585843e+07    850.000000     92.000000     10.000000  250898.090000   \n",
       "\n",
       "           Products   CreditCard       Loyalty  estimated_salary         Churn  \n",
       "count  10000.000000  10000.00000  10000.000000      10000.000000  10000.000000  \n",
       "mean       1.530200      0.70550      0.515100     100090.239881      0.203700  \n",
       "std        0.581654      0.45584      0.499797      57510.492818      0.402769  \n",
       "min        1.000000      0.00000      0.000000         11.580000      0.000000  \n",
       "25%        1.000000      0.00000      0.000000      51002.110000      0.000000  \n",
       "50%        1.000000      1.00000      1.000000     100193.915000      0.000000  \n",
       "75%        2.000000      1.00000      1.000000     149388.247500      0.000000  \n",
       "max        4.000000      1.00000      1.000000     199992.480000      1.000000  "
      ]
     },
     "execution_count": 6,
     "metadata": {},
     "output_type": "execute_result"
    }
   ],
   "source": [
    "# получение дполнительной информации о данных в таблице \n",
    "bank_df.describe()"
   ]
  },
  {
   "cell_type": "markdown",
   "metadata": {},
   "source": [
    "Мы видим средние значения столбцев:\n",
    "\n",
    "1) **score** (баллы кредитного скоринга) - 650 (минимум - 350, а максимум - 850). В среднем можно сказать, что клиенты банка довольно надежны.\n",
    "\n",
    "2)  **Age** (возраст) - 38 лет. Довольно высокий возрастной порог.\n",
    "\n",
    "3)  **Objects** (количество объектов в собственности) - 5 объектов в собственноости. \n",
    "\n",
    "4)  **Balance** (баланс на счёте) - 119827 у.е. При этом мы видим, что минимум - 3768.\n",
    "\n",
    "5)  **Products** (количество продуктов, которыми пользуется клиент) - 1.5  Минимум здесь - 1, а максимум - 4. Значит, мы получим 4 сегмента.\n",
    "\n",
    "6)  **CreditCard** (есть ли кредитная карта) - у 70% клиентов есть кредитки.  \n",
    "\n",
    "7)  **Loyalty** (активный клиент) - около 52% клиентов можно считать активными.\n",
    "\n",
    "8)  **estimated_salary** (заработная плата клиента) - 100090. Минимальный заработок - 11 у.е.\n",
    "\n",
    "9) **Churn** (отток) - всего ушло 20% клиентов, что относительно немного."
   ]
  },
  {
   "cell_type": "markdown",
   "metadata": {},
   "source": [
    "# Шаг 2. Предобработка данных\n",
    "<a id='two'></a>"
   ]
  },
  {
   "cell_type": "markdown",
   "metadata": {},
   "source": [
    "На данном этапе нам предстоит разобраться с данными. "
   ]
  },
  {
   "cell_type": "markdown",
   "metadata": {},
   "source": [
    "## Замена названий столбцев\n",
    "<a id='three'></a>"
   ]
  },
  {
   "cell_type": "markdown",
   "metadata": {},
   "source": [
    "Просто создадим список с новыми названиями столбцев. Мы могли бы просто привести данные к нулевому регистру специальной функцией, но в в названиях имеются проблемы не только с регистром, а потому более выгодным вариантом кажется обычный список с названиями."
   ]
  },
  {
   "cell_type": "code",
   "execution_count": 7,
   "metadata": {},
   "outputs": [
    {
     "data": {
      "text/html": [
       "<div>\n",
       "<style scoped>\n",
       "    .dataframe tbody tr th:only-of-type {\n",
       "        vertical-align: middle;\n",
       "    }\n",
       "\n",
       "    .dataframe tbody tr th {\n",
       "        vertical-align: top;\n",
       "    }\n",
       "\n",
       "    .dataframe thead th {\n",
       "        text-align: right;\n",
       "    }\n",
       "</style>\n",
       "<table border=\"1\" class=\"dataframe\">\n",
       "  <thead>\n",
       "    <tr style=\"text-align: right;\">\n",
       "      <th></th>\n",
       "      <th>user_id</th>\n",
       "      <th>score</th>\n",
       "      <th>city</th>\n",
       "      <th>gender</th>\n",
       "      <th>age</th>\n",
       "      <th>objects</th>\n",
       "      <th>balance</th>\n",
       "      <th>products</th>\n",
       "      <th>credit_card</th>\n",
       "      <th>loyalty</th>\n",
       "      <th>estimated_salary</th>\n",
       "      <th>churn</th>\n",
       "    </tr>\n",
       "  </thead>\n",
       "  <tbody>\n",
       "    <tr>\n",
       "      <th>0</th>\n",
       "      <td>15677338</td>\n",
       "      <td>619</td>\n",
       "      <td>Ярославль</td>\n",
       "      <td>Ж</td>\n",
       "      <td>42</td>\n",
       "      <td>2</td>\n",
       "      <td>NaN</td>\n",
       "      <td>1</td>\n",
       "      <td>1</td>\n",
       "      <td>1</td>\n",
       "      <td>101348.88</td>\n",
       "      <td>1</td>\n",
       "    </tr>\n",
       "    <tr>\n",
       "      <th>1</th>\n",
       "      <td>15690047</td>\n",
       "      <td>608</td>\n",
       "      <td>Рыбинск</td>\n",
       "      <td>Ж</td>\n",
       "      <td>41</td>\n",
       "      <td>1</td>\n",
       "      <td>83807.86</td>\n",
       "      <td>1</td>\n",
       "      <td>0</td>\n",
       "      <td>1</td>\n",
       "      <td>112542.58</td>\n",
       "      <td>0</td>\n",
       "    </tr>\n",
       "    <tr>\n",
       "      <th>2</th>\n",
       "      <td>15662040</td>\n",
       "      <td>502</td>\n",
       "      <td>Ярославль</td>\n",
       "      <td>Ж</td>\n",
       "      <td>42</td>\n",
       "      <td>8</td>\n",
       "      <td>159660.80</td>\n",
       "      <td>3</td>\n",
       "      <td>1</td>\n",
       "      <td>0</td>\n",
       "      <td>113931.57</td>\n",
       "      <td>1</td>\n",
       "    </tr>\n",
       "    <tr>\n",
       "      <th>3</th>\n",
       "      <td>15744090</td>\n",
       "      <td>699</td>\n",
       "      <td>Ярославль</td>\n",
       "      <td>Ж</td>\n",
       "      <td>39</td>\n",
       "      <td>1</td>\n",
       "      <td>NaN</td>\n",
       "      <td>2</td>\n",
       "      <td>0</td>\n",
       "      <td>0</td>\n",
       "      <td>93826.63</td>\n",
       "      <td>0</td>\n",
       "    </tr>\n",
       "    <tr>\n",
       "      <th>4</th>\n",
       "      <td>15780624</td>\n",
       "      <td>850</td>\n",
       "      <td>Рыбинск</td>\n",
       "      <td>Ж</td>\n",
       "      <td>43</td>\n",
       "      <td>2</td>\n",
       "      <td>125510.82</td>\n",
       "      <td>1</td>\n",
       "      <td>1</td>\n",
       "      <td>1</td>\n",
       "      <td>79084.10</td>\n",
       "      <td>0</td>\n",
       "    </tr>\n",
       "  </tbody>\n",
       "</table>\n",
       "</div>"
      ],
      "text/plain": [
       "    user_id  score       city gender  age  objects    balance  products  \\\n",
       "0  15677338    619  Ярославль      Ж   42        2        NaN         1   \n",
       "1  15690047    608    Рыбинск      Ж   41        1   83807.86         1   \n",
       "2  15662040    502  Ярославль      Ж   42        8  159660.80         3   \n",
       "3  15744090    699  Ярославль      Ж   39        1        NaN         2   \n",
       "4  15780624    850    Рыбинск      Ж   43        2  125510.82         1   \n",
       "\n",
       "   credit_card  loyalty  estimated_salary  churn  \n",
       "0            1        1         101348.88      1  \n",
       "1            0        1         112542.58      0  \n",
       "2            1        0         113931.57      1  \n",
       "3            0        0          93826.63      0  \n",
       "4            1        1          79084.10      0  "
      ]
     },
     "execution_count": 7,
     "metadata": {},
     "output_type": "execute_result"
    }
   ],
   "source": [
    "#меняем названия столбцев\n",
    "bank_df.columns = (['user_id', 'score', 'city', 'gender', 'age', 'objects', 'balance', 'products', 'credit_card', 'loyalty', 'estimated_salary', 'churn'])\n",
    "# получение первых 10 строк таблицы \n",
    "bank_df.head(5)"
   ]
  },
  {
   "cell_type": "markdown",
   "metadata": {},
   "source": [
    "Теперь названия нормализированы."
   ]
  },
  {
   "cell_type": "markdown",
   "metadata": {},
   "source": [
    "## Работа с дубликатами\n",
    "<a id='four'></a>"
   ]
  },
  {
   "cell_type": "markdown",
   "metadata": {},
   "source": [
    "Проверим, есть ли в датасете дубликаты"
   ]
  },
  {
   "cell_type": "code",
   "execution_count": 8,
   "metadata": {},
   "outputs": [
    {
     "data": {
      "text/plain": [
       "0"
      ]
     },
     "execution_count": 8,
     "metadata": {},
     "output_type": "execute_result"
    }
   ],
   "source": [
    "#считаем дубликаты\n",
    "bank_df.duplicated().sum()"
   ]
  },
  {
   "cell_type": "markdown",
   "metadata": {},
   "source": [
    "Дубликатов в датасете нет, что очень хорошо."
   ]
  },
  {
   "cell_type": "markdown",
   "metadata": {},
   "source": [
    "## Работа с пропусками\n",
    "<a id='six'></a>"
   ]
  },
  {
   "cell_type": "markdown",
   "metadata": {},
   "source": [
    "Мы уже знаем, что в данных есть пропуски - убедимся в этом."
   ]
  },
  {
   "cell_type": "code",
   "execution_count": 9,
   "metadata": {},
   "outputs": [
    {
     "data": {
      "text/plain": [
       "user_id                0\n",
       "score                  0\n",
       "city                   0\n",
       "gender                 0\n",
       "age                    0\n",
       "objects                0\n",
       "balance             3617\n",
       "products               0\n",
       "credit_card            0\n",
       "loyalty                0\n",
       "estimated_salary       0\n",
       "churn                  0\n",
       "dtype: int64"
      ]
     },
     "execution_count": 9,
     "metadata": {},
     "output_type": "execute_result"
    }
   ],
   "source": [
    "# подсчёт пропусков\n",
    "bank_df.isna().sum()"
   ]
  },
  {
   "cell_type": "markdown",
   "metadata": {},
   "source": [
    "Как мы и говорили, всего лишь в одном столбце есть пропуски, однако их довольно много. В данном случае мы говорим о столбце balance, который нам указывает то, сколько денег находится на карте у клиента. Однако почему-то у некоторых клиентов в данном поле стоит пропуск. Почему такое могло произойти? Можно попробовать выдвинуть различные гипотезы, но для начала попробуем проанализировать клиентов со пропусками в балансе на карте. Для этого мы сделаем срез."
   ]
  },
  {
   "cell_type": "code",
   "execution_count": 10,
   "metadata": {
    "scrolled": false
   },
   "outputs": [
    {
     "data": {
      "text/html": [
       "<div>\n",
       "<style scoped>\n",
       "    .dataframe tbody tr th:only-of-type {\n",
       "        vertical-align: middle;\n",
       "    }\n",
       "\n",
       "    .dataframe tbody tr th {\n",
       "        vertical-align: top;\n",
       "    }\n",
       "\n",
       "    .dataframe thead th {\n",
       "        text-align: right;\n",
       "    }\n",
       "</style>\n",
       "<table border=\"1\" class=\"dataframe\">\n",
       "  <thead>\n",
       "    <tr style=\"text-align: right;\">\n",
       "      <th></th>\n",
       "      <th>user_id</th>\n",
       "      <th>score</th>\n",
       "      <th>age</th>\n",
       "      <th>objects</th>\n",
       "      <th>balance</th>\n",
       "      <th>products</th>\n",
       "      <th>credit_card</th>\n",
       "      <th>loyalty</th>\n",
       "      <th>estimated_salary</th>\n",
       "      <th>churn</th>\n",
       "    </tr>\n",
       "  </thead>\n",
       "  <tbody>\n",
       "    <tr>\n",
       "      <th>count</th>\n",
       "      <td>3.617000e+03</td>\n",
       "      <td>3617.000000</td>\n",
       "      <td>3617.000000</td>\n",
       "      <td>3617.000000</td>\n",
       "      <td>0.0</td>\n",
       "      <td>3617.000000</td>\n",
       "      <td>3617.000000</td>\n",
       "      <td>3617.000000</td>\n",
       "      <td>3617.000000</td>\n",
       "      <td>3617.000000</td>\n",
       "    </tr>\n",
       "    <tr>\n",
       "      <th>mean</th>\n",
       "      <td>1.573469e+07</td>\n",
       "      <td>649.452861</td>\n",
       "      <td>38.434891</td>\n",
       "      <td>5.071330</td>\n",
       "      <td>NaN</td>\n",
       "      <td>1.784628</td>\n",
       "      <td>0.716616</td>\n",
       "      <td>0.517832</td>\n",
       "      <td>98983.559549</td>\n",
       "      <td>0.138236</td>\n",
       "    </tr>\n",
       "    <tr>\n",
       "      <th>std</th>\n",
       "      <td>7.194749e+04</td>\n",
       "      <td>96.158798</td>\n",
       "      <td>10.492002</td>\n",
       "      <td>2.860781</td>\n",
       "      <td>NaN</td>\n",
       "      <td>0.496455</td>\n",
       "      <td>0.450704</td>\n",
       "      <td>0.499751</td>\n",
       "      <td>57730.828955</td>\n",
       "      <td>0.345195</td>\n",
       "    </tr>\n",
       "    <tr>\n",
       "      <th>min</th>\n",
       "      <td>1.560844e+07</td>\n",
       "      <td>350.000000</td>\n",
       "      <td>18.000000</td>\n",
       "      <td>0.000000</td>\n",
       "      <td>NaN</td>\n",
       "      <td>1.000000</td>\n",
       "      <td>0.000000</td>\n",
       "      <td>0.000000</td>\n",
       "      <td>90.070000</td>\n",
       "      <td>0.000000</td>\n",
       "    </tr>\n",
       "    <tr>\n",
       "      <th>25%</th>\n",
       "      <td>1.567226e+07</td>\n",
       "      <td>583.000000</td>\n",
       "      <td>31.000000</td>\n",
       "      <td>3.000000</td>\n",
       "      <td>NaN</td>\n",
       "      <td>1.000000</td>\n",
       "      <td>0.000000</td>\n",
       "      <td>0.000000</td>\n",
       "      <td>49506.820000</td>\n",
       "      <td>0.000000</td>\n",
       "    </tr>\n",
       "    <tr>\n",
       "      <th>50%</th>\n",
       "      <td>1.573608e+07</td>\n",
       "      <td>651.000000</td>\n",
       "      <td>37.000000</td>\n",
       "      <td>5.000000</td>\n",
       "      <td>NaN</td>\n",
       "      <td>2.000000</td>\n",
       "      <td>1.000000</td>\n",
       "      <td>1.000000</td>\n",
       "      <td>98618.790000</td>\n",
       "      <td>0.000000</td>\n",
       "    </tr>\n",
       "    <tr>\n",
       "      <th>75%</th>\n",
       "      <td>1.579629e+07</td>\n",
       "      <td>717.000000</td>\n",
       "      <td>43.000000</td>\n",
       "      <td>7.000000</td>\n",
       "      <td>NaN</td>\n",
       "      <td>2.000000</td>\n",
       "      <td>1.000000</td>\n",
       "      <td>1.000000</td>\n",
       "      <td>148330.970000</td>\n",
       "      <td>0.000000</td>\n",
       "    </tr>\n",
       "    <tr>\n",
       "      <th>max</th>\n",
       "      <td>1.585810e+07</td>\n",
       "      <td>850.000000</td>\n",
       "      <td>88.000000</td>\n",
       "      <td>10.000000</td>\n",
       "      <td>NaN</td>\n",
       "      <td>4.000000</td>\n",
       "      <td>1.000000</td>\n",
       "      <td>1.000000</td>\n",
       "      <td>199992.480000</td>\n",
       "      <td>1.000000</td>\n",
       "    </tr>\n",
       "  </tbody>\n",
       "</table>\n",
       "</div>"
      ],
      "text/plain": [
       "            user_id        score          age      objects  balance  \\\n",
       "count  3.617000e+03  3617.000000  3617.000000  3617.000000      0.0   \n",
       "mean   1.573469e+07   649.452861    38.434891     5.071330      NaN   \n",
       "std    7.194749e+04    96.158798    10.492002     2.860781      NaN   \n",
       "min    1.560844e+07   350.000000    18.000000     0.000000      NaN   \n",
       "25%    1.567226e+07   583.000000    31.000000     3.000000      NaN   \n",
       "50%    1.573608e+07   651.000000    37.000000     5.000000      NaN   \n",
       "75%    1.579629e+07   717.000000    43.000000     7.000000      NaN   \n",
       "max    1.585810e+07   850.000000    88.000000    10.000000      NaN   \n",
       "\n",
       "          products  credit_card      loyalty  estimated_salary        churn  \n",
       "count  3617.000000  3617.000000  3617.000000       3617.000000  3617.000000  \n",
       "mean      1.784628     0.716616     0.517832      98983.559549     0.138236  \n",
       "std       0.496455     0.450704     0.499751      57730.828955     0.345195  \n",
       "min       1.000000     0.000000     0.000000         90.070000     0.000000  \n",
       "25%       1.000000     0.000000     0.000000      49506.820000     0.000000  \n",
       "50%       2.000000     1.000000     1.000000      98618.790000     0.000000  \n",
       "75%       2.000000     1.000000     1.000000     148330.970000     0.000000  \n",
       "max       4.000000     1.000000     1.000000     199992.480000     1.000000  "
      ]
     },
     "execution_count": 10,
     "metadata": {},
     "output_type": "execute_result"
    }
   ],
   "source": [
    "#клиенты с пропусками\n",
    "bank_nan = bank_df[bank_df['balance'].isna()]\n",
    "#посмотрим, есть ли какие-нибудь закономерности между пропуском и признаками клиентов\n",
    "bank_nan.describe()"
   ]
  },
  {
   "cell_type": "markdown",
   "metadata": {},
   "source": [
    "Каких-то нестандартных значений признаков мы не наблюдаем. Следовательно каких-то закономерностей нет. Посмотрим на значение категориальных переменных - начнем с города."
   ]
  },
  {
   "cell_type": "code",
   "execution_count": 11,
   "metadata": {
    "scrolled": true
   },
   "outputs": [
    {
     "data": {
      "text/plain": [
       "Ярославль         5014\n",
       "Ростов Великий    2509\n",
       "Рыбинск           2477\n",
       "Name: city, dtype: int64"
      ]
     },
     "execution_count": 11,
     "metadata": {},
     "output_type": "execute_result"
    }
   ],
   "source": [
    "#уникальные значения столбца city для всей таблицы\n",
    "bank_df['city'].value_counts()"
   ]
  },
  {
   "cell_type": "code",
   "execution_count": 12,
   "metadata": {
    "scrolled": false
   },
   "outputs": [
    {
     "data": {
      "text/plain": [
       "Ярославль    2418\n",
       "Рыбинск      1199\n",
       "Name: city, dtype: int64"
      ]
     },
     "execution_count": 12,
     "metadata": {},
     "output_type": "execute_result"
    }
   ],
   "source": [
    "#уникальные значения столбца city\n",
    "bank_nan['city'].value_counts()"
   ]
  },
  {
   "cell_type": "markdown",
   "metadata": {},
   "source": [
    "Посмотрим и на распределение по количеству продуктов перед сегментацией."
   ]
  },
  {
   "cell_type": "code",
   "execution_count": 13,
   "metadata": {},
   "outputs": [
    {
     "data": {
      "text/plain": [
       "1    5084\n",
       "2    4590\n",
       "3     266\n",
       "4      60\n",
       "Name: products, dtype: int64"
      ]
     },
     "execution_count": 13,
     "metadata": {},
     "output_type": "execute_result"
    }
   ],
   "source": [
    "#уникальные значения столбца products для всей таблицы\n",
    "bank_df['products'].value_counts()"
   ]
  },
  {
   "cell_type": "code",
   "execution_count": 14,
   "metadata": {
    "scrolled": true
   },
   "outputs": [
    {
     "data": {
      "text/plain": [
       "2    2600\n",
       "1     905\n",
       "3      98\n",
       "4      14\n",
       "Name: products, dtype: int64"
      ]
     },
     "execution_count": 14,
     "metadata": {},
     "output_type": "execute_result"
    }
   ],
   "source": [
    "#уникальные значения столбца products\n",
    "bank_nan['products'].value_counts()"
   ]
  },
  {
   "cell_type": "markdown",
   "metadata": {},
   "source": [
    "Посмотрим на такие данные по гендеру"
   ]
  },
  {
   "cell_type": "code",
   "execution_count": 15,
   "metadata": {},
   "outputs": [
    {
     "data": {
      "text/plain": [
       "М    5457\n",
       "Ж    4543\n",
       "Name: gender, dtype: int64"
      ]
     },
     "execution_count": 15,
     "metadata": {},
     "output_type": "execute_result"
    }
   ],
   "source": [
    "#уникальные значения столбца gender для всей таблицы\n",
    "bank_df['gender'].value_counts()"
   ]
  },
  {
   "cell_type": "code",
   "execution_count": 16,
   "metadata": {},
   "outputs": [
    {
     "data": {
      "text/plain": [
       "М    1963\n",
       "Ж    1654\n",
       "Name: gender, dtype: int64"
      ]
     },
     "execution_count": 16,
     "metadata": {},
     "output_type": "execute_result"
    }
   ],
   "source": [
    "#уникальные значения столбца gender\n",
    "bank_nan['gender'].value_counts()"
   ]
  },
  {
   "cell_type": "markdown",
   "metadata": {},
   "source": [
    "Теперь смотрим на объекты."
   ]
  },
  {
   "cell_type": "code",
   "execution_count": 17,
   "metadata": {
    "scrolled": true
   },
   "outputs": [
    {
     "data": {
      "text/plain": [
       "2     1048\n",
       "1     1035\n",
       "7     1028\n",
       "8     1025\n",
       "5     1012\n",
       "3     1009\n",
       "4      989\n",
       "9      984\n",
       "6      967\n",
       "10     490\n",
       "0      413\n",
       "Name: objects, dtype: int64"
      ]
     },
     "execution_count": 17,
     "metadata": {},
     "output_type": "execute_result"
    }
   ],
   "source": [
    "#уникальные значения столбца objects для всей таблицы\n",
    "bank_df['objects'].value_counts()"
   ]
  },
  {
   "cell_type": "code",
   "execution_count": 18,
   "metadata": {},
   "outputs": [
    {
     "data": {
      "text/plain": [
       "7     386\n",
       "2     382\n",
       "5     374\n",
       "4     369\n",
       "6     367\n",
       "8     363\n",
       "9     360\n",
       "3     352\n",
       "1     349\n",
       "10    178\n",
       "0     137\n",
       "Name: objects, dtype: int64"
      ]
     },
     "execution_count": 18,
     "metadata": {},
     "output_type": "execute_result"
    }
   ],
   "source": [
    "#уникальные значения столбца objects\n",
    "bank_nan['objects'].value_counts()"
   ]
  },
  {
   "cell_type": "markdown",
   "metadata": {},
   "source": [
    "Теперь посмотрим на кредитные карты"
   ]
  },
  {
   "cell_type": "code",
   "execution_count": 19,
   "metadata": {},
   "outputs": [
    {
     "data": {
      "text/plain": [
       "1    7055\n",
       "0    2945\n",
       "Name: credit_card, dtype: int64"
      ]
     },
     "execution_count": 19,
     "metadata": {},
     "output_type": "execute_result"
    }
   ],
   "source": [
    "#уникальные значения столбца credit_card для всей таблицы\n",
    "bank_df['credit_card'].value_counts()"
   ]
  },
  {
   "cell_type": "code",
   "execution_count": 20,
   "metadata": {},
   "outputs": [
    {
     "data": {
      "text/plain": [
       "1    2592\n",
       "0    1025\n",
       "Name: credit_card, dtype: int64"
      ]
     },
     "execution_count": 20,
     "metadata": {},
     "output_type": "execute_result"
    }
   ],
   "source": [
    "#уникальные значения столбца credit_card\n",
    "bank_nan['credit_card'].value_counts()"
   ]
  },
  {
   "cell_type": "markdown",
   "metadata": {},
   "source": [
    "Теперь посомотрим на лояльность"
   ]
  },
  {
   "cell_type": "code",
   "execution_count": 21,
   "metadata": {},
   "outputs": [
    {
     "data": {
      "text/plain": [
       "1    5151\n",
       "0    4849\n",
       "Name: loyalty, dtype: int64"
      ]
     },
     "execution_count": 21,
     "metadata": {},
     "output_type": "execute_result"
    }
   ],
   "source": [
    "#уникальные значения столбца loyalty для всей таблицы\n",
    "bank_df['loyalty'].value_counts()"
   ]
  },
  {
   "cell_type": "code",
   "execution_count": 22,
   "metadata": {},
   "outputs": [
    {
     "data": {
      "text/plain": [
       "1    1873\n",
       "0    1744\n",
       "Name: loyalty, dtype: int64"
      ]
     },
     "execution_count": 22,
     "metadata": {},
     "output_type": "execute_result"
    }
   ],
   "source": [
    "#уникальные значения столбца loyalty\n",
    "bank_nan['loyalty'].value_counts()"
   ]
  },
  {
   "cell_type": "markdown",
   "metadata": {},
   "source": [
    "Посмотрим на отток"
   ]
  },
  {
   "cell_type": "code",
   "execution_count": 23,
   "metadata": {},
   "outputs": [
    {
     "data": {
      "text/plain": [
       "0    7963\n",
       "1    2037\n",
       "Name: churn, dtype: int64"
      ]
     },
     "execution_count": 23,
     "metadata": {},
     "output_type": "execute_result"
    }
   ],
   "source": [
    "#уникальные значения столбца churn для всей таблицы\n",
    "bank_df['churn'].value_counts()"
   ]
  },
  {
   "cell_type": "code",
   "execution_count": 24,
   "metadata": {},
   "outputs": [
    {
     "data": {
      "text/plain": [
       "0    3117\n",
       "1     500\n",
       "Name: churn, dtype: int64"
      ]
     },
     "execution_count": 24,
     "metadata": {},
     "output_type": "execute_result"
    }
   ],
   "source": [
    "#уникальные значения столбца churn\n",
    "bank_nan['churn'].value_counts()"
   ]
  },
  {
   "cell_type": "markdown",
   "metadata": {},
   "source": [
    "Мы видим, что пропуски характерны для клиентов со всевозможным количеством продуктов."
   ]
  },
  {
   "cell_type": "markdown",
   "metadata": {},
   "source": [
    "Интересное замечание - в полученном датасете всего 2 города, в то время как банк функционирует в 3 городах. Пропусков в городе Ростов Великий мы не видим. В Рыбинске и Ярославле половина клиентов осталась без баланса. Крайне много пропусков для клиентов с 2 продуктами."
   ]
  },
  {
   "cell_type": "markdown",
   "metadata": {},
   "source": [
    "Можем попробовать выдвинуть следующие гипотезы:\n",
    "\n",
    "**1)** Произошел сбой в системе, собирующей информацию о клиентах, а потому и часть данных либо не собралась, либо была потеряна. Сбой имел локальный характер и произошел только в городах Ярославль и Рыбинск. Восстановить данные пропуски будет проблематично - можно, конечно, категоризировать данные и для каждой категории данныз попробовать найти среднее или медианное значение баланса, но баланс это индивидуальное значение - у клиента деньги могут храниться наличными или в какой-то момент не быть денег на карте. Невозможно хотя бы приблизительно рассчитать потерянные значения при подобной гипотезе.\n",
    "\n",
    "**2)** Как было замечено в датасете отстутсвуют клиенты, у которых баланс равнялся бы 0. Возможно пропуски в датасете появились по той причине, что баланс у данных клиентов был пустой. Эта гипотеза более гибкая. Если это так, то мы можем вполне уверенно заменить все пропуски нулями. Поскольку данная гипотеза более осуществима, мы ее и возьмем в качестве основной.\n",
    "\n",
    "**3)** Касаемо пола, тут нет каких-то особенностей - пропуски распределеились равномерно по полу. Значит, пропуски не зависят от пола.\n",
    "\n",
    "**4)** Говоря об объектах, мы можем заметить, что каких-то нестандартных проявлений незаметно. Много пропусков мы видим среди тех, кто обладает 0 и 10 объектами, но связано это с тем, что таких клиентов значительно меньше других. Как таковой зависимости нет.\n",
    "\n",
    "**5)** Среди клиентов, у которых были кредитки и тех, у кого не было кредиток, равномерно распределились пропуски и составили процентов 34-37.\n",
    "\n",
    "**6)** Касаемо активности, тоже мы видим, что нет никакой корреляции между существованием пропусков и активностью клиента.\n",
    "\n",
    "\n",
    "**7)** Среди тех, кто не попал в отток, больше пропусков, чем среди тех, кто попал в отток - не очень много, но заметно."
   ]
  },
  {
   "cell_type": "code",
   "execution_count": 25,
   "metadata": {},
   "outputs": [
    {
     "data": {
      "text/plain": [
       "user_id             0\n",
       "score               0\n",
       "city                0\n",
       "gender              0\n",
       "age                 0\n",
       "objects             0\n",
       "balance             0\n",
       "products            0\n",
       "credit_card         0\n",
       "loyalty             0\n",
       "estimated_salary    0\n",
       "churn               0\n",
       "dtype: int64"
      ]
     },
     "execution_count": 25,
     "metadata": {},
     "output_type": "execute_result"
    }
   ],
   "source": [
    "#заменим пропуски нулями\n",
    "bank_df = bank_df.fillna(0)\n",
    "# подсчёт пропусков\n",
    "bank_df.isna().sum()"
   ]
  },
  {
   "cell_type": "markdown",
   "metadata": {},
   "source": [
    "## Меняем тип данных\n",
    "<a id='five'></a>"
   ]
  },
  {
   "cell_type": "markdown",
   "metadata": {},
   "source": [
    "Сначала стандартизируем пол - переведем его в двоичную систему, где Мужской пол будет 1, а Женский 0."
   ]
  },
  {
   "cell_type": "code",
   "execution_count": 26,
   "metadata": {},
   "outputs": [],
   "source": [
    "#создадим собственную функцию для перевода\n",
    "def gender_kod(row):\n",
    "    if row == \"М\":\n",
    "        row = 1\n",
    "    else:\n",
    "        row = 0\n",
    "    return row"
   ]
  },
  {
   "cell_type": "code",
   "execution_count": 27,
   "metadata": {},
   "outputs": [
    {
     "data": {
      "text/plain": [
       "1    5457\n",
       "0    4543\n",
       "Name: gender, dtype: int64"
      ]
     },
     "execution_count": 27,
     "metadata": {},
     "output_type": "execute_result"
    }
   ],
   "source": [
    "#применяем функцию\n",
    "bank_df['gender'] = bank_df['gender'].apply(gender_kod)\n",
    "#выводим количество уникальных значений полученного столбца\n",
    "bank_df['gender'].value_counts()"
   ]
  },
  {
   "cell_type": "markdown",
   "metadata": {},
   "source": [
    "Все получилось. Теперь приведем все значения к целочисленному типу."
   ]
  },
  {
   "cell_type": "code",
   "execution_count": 28,
   "metadata": {},
   "outputs": [
    {
     "name": "stdout",
     "output_type": "stream",
     "text": [
      "<class 'pandas.core.frame.DataFrame'>\n",
      "RangeIndex: 10000 entries, 0 to 9999\n",
      "Data columns (total 12 columns):\n",
      " #   Column            Non-Null Count  Dtype \n",
      "---  ------            --------------  ----- \n",
      " 0   user_id           10000 non-null  int64 \n",
      " 1   score             10000 non-null  int64 \n",
      " 2   city              10000 non-null  object\n",
      " 3   gender            10000 non-null  int64 \n",
      " 4   age               10000 non-null  int64 \n",
      " 5   objects           10000 non-null  int64 \n",
      " 6   balance           10000 non-null  int64 \n",
      " 7   products          10000 non-null  int64 \n",
      " 8   credit_card       10000 non-null  int64 \n",
      " 9   loyalty           10000 non-null  int64 \n",
      " 10  estimated_salary  10000 non-null  int64 \n",
      " 11  churn             10000 non-null  int64 \n",
      "dtypes: int64(11), object(1)\n",
      "memory usage: 937.6+ KB\n"
     ]
    }
   ],
   "source": [
    "#приводим к целочисленному типу\n",
    "bank_df[['balance', 'estimated_salary']] = bank_df[['balance', 'estimated_salary']].astype('int')\n",
    "#проверим результат работы\n",
    "bank_df.info()"
   ]
  },
  {
   "cell_type": "markdown",
   "metadata": {},
   "source": [
    "Теперь этап предобрботки завершен. Данные готовы к анализу."
   ]
  },
  {
   "cell_type": "markdown",
   "metadata": {},
   "source": [
    "# Шаг 3. Исследовательский анализ данных\n",
    "<a id='seven'></a>"
   ]
  },
  {
   "cell_type": "markdown",
   "metadata": {},
   "source": [
    "На этом этапе мы проведем основную часть работы - проведем деление на сегменты."
   ]
  },
  {
   "cell_type": "code",
   "execution_count": 29,
   "metadata": {
    "scrolled": true
   },
   "outputs": [
    {
     "data": {
      "text/plain": [
       "1    5084\n",
       "2    4590\n",
       "3     266\n",
       "4      60\n",
       "Name: products, dtype: int64"
      ]
     },
     "execution_count": 29,
     "metadata": {},
     "output_type": "execute_result"
    }
   ],
   "source": [
    "#посмотрим, сколько получится сегментов\n",
    "bank_df['products'].value_counts()"
   ]
  },
  {
   "cell_type": "markdown",
   "metadata": {},
   "source": [
    "Сделаем эти цифры более визуальными:"
   ]
  },
  {
   "cell_type": "code",
   "execution_count": 30,
   "metadata": {
    "scrolled": false
   },
   "outputs": [
    {
     "data": {
      "image/png": "[encoded data removed]",
      "text/plain": [
       "<Figure size 1440x792 with 1 Axes>"
      ]
     },
     "metadata": {
      "needs_background": "light"
     },
     "output_type": "display_data"
    }
   ],
   "source": [
    "#посчитаем количество клиентов каждого сегмента\n",
    "bank_df1 = bank_df.groupby(\"products\", as_index=False).count()\n",
    "#размер фигуры\n",
    "plt.figure(figsize=(20, 11))\n",
    "#визуализируем!\n",
    "sns.barplot(x='products', y='objects', data=bank_df1) \n",
    "#указываем заглавие\n",
    "plt.show()\n",
    "\n"
   ]
  },
  {
   "cell_type": "markdown",
   "metadata": {},
   "source": [
    "Мы видим, что получилось 4 сегмента. Однако они не равны по размерам. Различие довольно велико."
   ]
  },
  {
   "cell_type": "markdown",
   "metadata": {},
   "source": [
    "Прежде всего мы начнем с группировки данных по количеству потребляемых прдуктов. Признаки в датасете можно условно разделить на 2 группы - категориальные и количественные, а уже для каждой из групп построить графики."
   ]
  },
  {
   "cell_type": "code",
   "execution_count": 31,
   "metadata": {},
   "outputs": [],
   "source": [
    "#создадим списки категориальных и количественных признаков для того, чтобы построить гистограммы и диаграммы распределения\n",
    "quality = ['score', 'age', 'objects', 'balance', 'estimated_salary']\n",
    "sign = ['city','gender', 'credit_card', 'loyalty', 'churn']"
   ]
  },
  {
   "cell_type": "markdown",
   "metadata": {},
   "source": [
    "Мы построим собственные функции, чтобы с их помощью сегментировать пользователей по количеству продуктов и заодно визуализировать распределение признаков для всех сегментов."
   ]
  },
  {
   "cell_type": "markdown",
   "metadata": {},
   "source": [
    "Начнем с функции для визуализации количественных признаков одновременной сгементизации клиентов."
   ]
  },
  {
   "cell_type": "code",
   "execution_count": 32,
   "metadata": {},
   "outputs": [],
   "source": [
    "#функция будет принимать датасет, список количественных признаков, размеры и количество ячеек\n",
    "def distribution(bank_df, quality, size_x, size_y, binss):\n",
    "    #делим датасет на сегменты\n",
    "    segment_1 = bank_df.query('products ==1')\n",
    "    segment_2 = bank_df.query('products ==2')\n",
    "    segment_3 = bank_df.query('products ==3')\n",
    "    segment_4 = bank_df.query('products ==4')\n",
    "    #строим для достаточной ясности датасет со средними значениями признаков для каждого сегмента\n",
    "    bank_segments_mean = bank_df[['score', 'age', 'objects', 'balance', 'estimated_salary', 'products']].groupby('products').mean()\n",
    "    print(color.BOLD +'Средние значения признаков' + color.END)\n",
    "    display(bank_segments_mean)\n",
    "    #строим для достаточной ясности датасет с медианными значениями признаков для каждого сегмента\n",
    "    bank_segments_median = bank_df[['score', 'age', 'objects', 'balance', 'estimated_salary', 'products']].groupby('products').median()\n",
    "    print(color.BOLD +'Медианные значения признаков' + color.END)\n",
    "    display(bank_segments_median)\n",
    "    #строим цикл для каждого признака\n",
    "    for k in quality:\n",
    "        print(color.BOLD +'Распределение оттока для признака:', k + color.END)\n",
    "        plt.figure(figsize=(size_x, size_y))\n",
    "        sns.distplot(segment_1[k], bins = binss, label = 'segment =1') \n",
    "        sns.distplot(segment_2[k], bins = binss, label = 'segment =2') \n",
    "        sns.distplot(segment_3[k], bins = binss, label = 'segment =3') \n",
    "        sns.distplot(segment_4[k], bins = binss, label = 'segment =4') \n",
    "        plt.legend()\n",
    "        plt.show()\n"
   ]
  },
  {
   "cell_type": "markdown",
   "metadata": {},
   "source": [
    "Теперь посмотрим на то, как распределены категориальные признаки."
   ]
  },
  {
   "cell_type": "code",
   "execution_count": 33,
   "metadata": {
    "scrolled": false
   },
   "outputs": [
    {
     "name": "stdout",
     "output_type": "stream",
     "text": [
      "\u001b[1mСредние значения признаков\u001b[0m\n"
     ]
    },
    {
     "data": {
      "text/html": [
       "<div>\n",
       "<style scoped>\n",
       "    .dataframe tbody tr th:only-of-type {\n",
       "        vertical-align: middle;\n",
       "    }\n",
       "\n",
       "    .dataframe tbody tr th {\n",
       "        vertical-align: top;\n",
       "    }\n",
       "\n",
       "    .dataframe thead th {\n",
       "        text-align: right;\n",
       "    }\n",
       "</style>\n",
       "<table border=\"1\" class=\"dataframe\">\n",
       "  <thead>\n",
       "    <tr style=\"text-align: right;\">\n",
       "      <th></th>\n",
       "      <th>score</th>\n",
       "      <th>age</th>\n",
       "      <th>objects</th>\n",
       "      <th>balance</th>\n",
       "      <th>estimated_salary</th>\n",
       "    </tr>\n",
       "    <tr>\n",
       "      <th>products</th>\n",
       "      <th></th>\n",
       "      <th></th>\n",
       "      <th></th>\n",
       "      <th></th>\n",
       "      <th></th>\n",
       "    </tr>\n",
       "  </thead>\n",
       "  <tbody>\n",
       "    <tr>\n",
       "      <th>1</th>\n",
       "      <td>649.120968</td>\n",
       "      <td>39.673092</td>\n",
       "      <td>4.974626</td>\n",
       "      <td>98551.457907</td>\n",
       "      <td>99486.761015</td>\n",
       "    </tr>\n",
       "    <tr>\n",
       "      <th>2</th>\n",
       "      <td>652.188671</td>\n",
       "      <td>37.753595</td>\n",
       "      <td>5.051852</td>\n",
       "      <td>51878.933987</td>\n",
       "      <td>100451.524183</td>\n",
       "    </tr>\n",
       "    <tr>\n",
       "      <th>3</th>\n",
       "      <td>648.105263</td>\n",
       "      <td>43.195489</td>\n",
       "      <td>5.003759</td>\n",
       "      <td>75458.000000</td>\n",
       "      <td>104317.684211</td>\n",
       "    </tr>\n",
       "    <tr>\n",
       "      <th>4</th>\n",
       "      <td>653.583333</td>\n",
       "      <td>45.683333</td>\n",
       "      <td>5.300000</td>\n",
       "      <td>93732.800000</td>\n",
       "      <td>104763.183333</td>\n",
       "    </tr>\n",
       "  </tbody>\n",
       "</table>\n",
       "</div>"
      ],
      "text/plain": [
       "               score        age   objects       balance  estimated_salary\n",
       "products                                                                 \n",
       "1         649.120968  39.673092  4.974626  98551.457907      99486.761015\n",
       "2         652.188671  37.753595  5.051852  51878.933987     100451.524183\n",
       "3         648.105263  43.195489  5.003759  75458.000000     104317.684211\n",
       "4         653.583333  45.683333  5.300000  93732.800000     104763.183333"
      ]
     },
     "metadata": {},
     "output_type": "display_data"
    },
    {
     "name": "stdout",
     "output_type": "stream",
     "text": [
      "\u001b[1mМедианные значения признаков\u001b[0m\n"
     ]
    },
    {
     "data": {
      "text/html": [
       "<div>\n",
       "<style scoped>\n",
       "    .dataframe tbody tr th:only-of-type {\n",
       "        vertical-align: middle;\n",
       "    }\n",
       "\n",
       "    .dataframe tbody tr th {\n",
       "        vertical-align: top;\n",
       "    }\n",
       "\n",
       "    .dataframe thead th {\n",
       "        text-align: right;\n",
       "    }\n",
       "</style>\n",
       "<table border=\"1\" class=\"dataframe\">\n",
       "  <thead>\n",
       "    <tr style=\"text-align: right;\">\n",
       "      <th></th>\n",
       "      <th>score</th>\n",
       "      <th>age</th>\n",
       "      <th>objects</th>\n",
       "      <th>balance</th>\n",
       "      <th>estimated_salary</th>\n",
       "    </tr>\n",
       "    <tr>\n",
       "      <th>products</th>\n",
       "      <th></th>\n",
       "      <th></th>\n",
       "      <th></th>\n",
       "      <th></th>\n",
       "      <th></th>\n",
       "    </tr>\n",
       "  </thead>\n",
       "  <tbody>\n",
       "    <tr>\n",
       "      <th>1</th>\n",
       "      <td>651.0</td>\n",
       "      <td>38.0</td>\n",
       "      <td>5.0</td>\n",
       "      <td>111885.5</td>\n",
       "      <td>99226.0</td>\n",
       "    </tr>\n",
       "    <tr>\n",
       "      <th>2</th>\n",
       "      <td>653.0</td>\n",
       "      <td>36.0</td>\n",
       "      <td>5.0</td>\n",
       "      <td>0.0</td>\n",
       "      <td>100738.5</td>\n",
       "    </tr>\n",
       "    <tr>\n",
       "      <th>3</th>\n",
       "      <td>650.0</td>\n",
       "      <td>42.0</td>\n",
       "      <td>5.0</td>\n",
       "      <td>95973.5</td>\n",
       "      <td>101046.5</td>\n",
       "    </tr>\n",
       "    <tr>\n",
       "      <th>4</th>\n",
       "      <td>643.0</td>\n",
       "      <td>45.0</td>\n",
       "      <td>5.0</td>\n",
       "      <td>116808.0</td>\n",
       "      <td>112162.5</td>\n",
       "    </tr>\n",
       "  </tbody>\n",
       "</table>\n",
       "</div>"
      ],
      "text/plain": [
       "          score   age  objects   balance  estimated_salary\n",
       "products                                                  \n",
       "1         651.0  38.0      5.0  111885.5           99226.0\n",
       "2         653.0  36.0      5.0       0.0          100738.5\n",
       "3         650.0  42.0      5.0   95973.5          101046.5\n",
       "4         643.0  45.0      5.0  116808.0          112162.5"
      ]
     },
     "metadata": {},
     "output_type": "display_data"
    },
    {
     "name": "stdout",
     "output_type": "stream",
     "text": [
      "\u001b[1mРаспределение оттока для признака: score\u001b[0m\n"
     ]
    },
    {
     "data": {
      "image/png": "[encoded data removed]",
      "text/plain": [
       "<Figure size 792x864 with 1 Axes>"
      ]
     },
     "metadata": {
      "needs_background": "light"
     },
     "output_type": "display_data"
    },
    {
     "name": "stdout",
     "output_type": "stream",
     "text": [
      "\u001b[1mРаспределение оттока для признака: age\u001b[0m\n"
     ]
    },
    {
     "data": {
      "image/png": "[encoded data removed]",
      "text/plain": [
       "<Figure size 792x864 with 1 Axes>"
      ]
     },
     "metadata": {
      "needs_background": "light"
     },
     "output_type": "display_data"
    },
    {
     "name": "stdout",
     "output_type": "stream",
     "text": [
      "\u001b[1mРаспределение оттока для признака: objects\u001b[0m\n"
     ]
    },
    {
     "data": {
      "image/png": "[encoded data removed]",
      "text/plain": [
       "<Figure size 792x864 with 1 Axes>"
      ]
     },
     "metadata": {
      "needs_background": "light"
     },
     "output_type": "display_data"
    },
    {
     "name": "stdout",
     "output_type": "stream",
     "text": [
      "\u001b[1mРаспределение оттока для признака: balance\u001b[0m\n"
     ]
    },
    {
     "data": {
      "image/png": "[encoded data removed]",
      "text/plain": [
       "<Figure size 792x864 with 1 Axes>"
      ]
     },
     "metadata": {
      "needs_background": "light"
     },
     "output_type": "display_data"
    },
    {
     "name": "stdout",
     "output_type": "stream",
     "text": [
      "\u001b[1mРаспределение оттока для признака: estimated_salary\u001b[0m\n"
     ]
    },
    {
     "data": {
      "image/png": "[encoded data removed]",
      "text/plain": [
       "<Figure size 792x864 with 1 Axes>"
      ]
     },
     "metadata": {
      "needs_background": "light"
     },
     "output_type": "display_data"
    }
   ],
   "source": [
    "#применяем функцию\n",
    "distribution(bank_df, quality, 11, 12, 10)"
   ]
  },
  {
   "cell_type": "markdown",
   "metadata": {},
   "source": [
    "Мы видим следующее:\n",
    "\n",
    "**1)** Признак **`score`** - баллы кредитного скоринга\n",
    "\n",
    "В целом для всех сегментов он довольно однообразен. Средние и межианные значения колеблятся в пределах 650. На графике распределения видно, что по данному покзаателю сегменты похожи.\n",
    "\n",
    "**2)** Признак **`age`** - возраст\n",
    "\n",
    "Сегменты различаются по данному признаку. Самый старый сегмент - 4 (пользователи, которые обладат 4 продуктами), для них средний и медианный возраст составляет 45 лет. Довольно мало людей среди данного сегмента, которые были бы младше 25-30 лет. Второй по старости сегмент - пользователи, обладающие 3 продуктами банка (средний и медианный возраст - 43 и 42 года). Третий по старости сегмент - пользователи, обладающие 1 продуктом (средний и медианный возраст для них 39 и 38 лет). В сравнении с двумя предыдущими сегментами заметен на графике сдвиг к границе 20 лет. Самый же молодой сгемент - клиенты, купившие 2 продукта (37 и 36 лет их средний и медианный возраст). Данный сегмент на графике схож с 1, однако у него чуть больше молодых клиентов, а на уровне 40 лет заметно падение количества клиентов.\n",
    "\n",
    "**3)** Признак **`objects`** -  количество объектов в собственности\n",
    "\n",
    "Средние и медианные показатели говорят о схожести сегментов по данному критерию. По графику тоже незаметно какого-либо аномального поведения клиентов в зависимости от сегмента.\n",
    "\n",
    "**4)** Признак **`balance`** -  баланс на счёте\n",
    "\n",
    "Средние и медианные значения баланса различаются по сегментам. Для 1 и 4 сегмента характерны высокие показатели баланса. 3 сегмент имеет чуть меньший баланс, а 2 сегмент имеет самый небольшой баланс. Медианные же значения такие же, однако медианные значения для 2 сегмента упали в 0 вообще, что оправдывается нашей заеной пропусков, что означает то, что больше половины клиентов 2 сегмента имели пропуски в значении баланса. Графики все это подтверждают. Можно также отметить, что все 4 сегмента имели пропуски, которые были заменены 0, но 2 сегмент имел их больше остальных, а 4 меньше остальных. 1 сегмент имел довльно много пропусков, однако он также имел большую часть клиентов, которые имеют высокий баланс. 2 сегмент ко всему прочему имеет не только больше всех пропусков, но и самый низкий уровень баланса.\n",
    "\n",
    "**5)** Признак **`estimated_salary`** -  заработная плата клиента\n",
    "\n",
    "По заработной плате сегменты примерно равны. 1 и 2 сегменты чуть хуже остальных. 4 сегмент имеет чуть больше клиентов, которые имели более высокую заработноую плату."
   ]
  },
  {
   "cell_type": "markdown",
   "metadata": {},
   "source": [
    "На баланс очень сильно повлияло наша работа с проусками, а потому построим график для баланса, но уже в срезе."
   ]
  },
  {
   "cell_type": "code",
   "execution_count": 34,
   "metadata": {
    "scrolled": false
   },
   "outputs": [
    {
     "data": {
      "text/plain": [
       "products\n",
       "1    119893.661642\n",
       "2    119660.455779\n",
       "3    119475.166667\n",
       "4    122260.173913\n",
       "Name: balance, dtype: float64"
      ]
     },
     "metadata": {},
     "output_type": "display_data"
    },
    {
     "data": {
      "image/png": "[encoded data removed]",
      "text/plain": [
       "<Figure size 1440x1080 with 1 Axes>"
      ]
     },
     "metadata": {
      "needs_background": "light"
     },
     "output_type": "display_data"
    }
   ],
   "source": [
    "bank_segments_means = bank_df.query('balance!=0').groupby('products')['balance'].mean()\n",
    "display(bank_segments_means)\n",
    "segment_1 = bank_df.query('products ==1 & balance!=0')\n",
    "segment_2 = bank_df.query('products ==2 & balance!=0')\n",
    "segment_3 = bank_df.query('products ==3 & balance!=0')\n",
    "segment_4 = bank_df.query('products ==4 & balance!=0')\n",
    "plt.figure(figsize=(20, 15))\n",
    "sns.distplot(segment_1['balance'], bins = 10, label = 'segment =1') \n",
    "sns.distplot(segment_2['balance'], bins = 10, label = 'segment =2') \n",
    "sns.distplot(segment_3['balance'], bins = 10, label = 'segment =3') \n",
    "sns.distplot(segment_4['balance'], bins = 10, label = 'segment =4') \n",
    "plt.legend()\n",
    "plt.show()\n"
   ]
  },
  {
   "cell_type": "markdown",
   "metadata": {},
   "source": [
    "Самый высокий баланс у 1 сегмента. Для 4 сегмента баланс находится на 2 месте по величине. 3 сегмент похуже 1 и 4 сегмента, но не самый низкий баланс имеет. Самый низкий баланс у 2 сегмента."
   ]
  },
  {
   "cell_type": "markdown",
   "metadata": {},
   "source": [
    "Создадим теперь функцию для визиализи количественных переменных."
   ]
  },
  {
   "cell_type": "code",
   "execution_count": 35,
   "metadata": {},
   "outputs": [],
   "source": [
    "#создаем собственную функцию для построения таблиц распределения признаков и их визуализации\n",
    "#задаем 4 входные перменные - таблицу, список, размер таблицы по горизонтали и вертикали\n",
    "def histograms(bank_df, sign, size_x, size_y):\n",
    "    #создаем таблицу для работы\n",
    "    bank_hist = bank_df.copy()\n",
    "    #создаем дополнительный столбец с данными продукте, чтобы при группировке мы не потеряли данные\n",
    "    bank_hist['segment_for_hist'] = bank_hist['products']\n",
    "    #создаем цикл для каждого признака из списка, чтобы можно было строить датасет по каждому признаку\n",
    "    for e in sign:\n",
    "        #группируем таблицу по признаку и сегменту, считая количество клиентов для каждой группы\n",
    "        bank_for_sign = bank_hist.groupby(['products', e], as_index=False)['segment_for_hist'].count()\n",
    "        #создаем столбец для записи туда процентов и заполняем его случайным числом - пусть будет единица\n",
    "        bank_for_sign['percent'] = 1\n",
    "        #переводим значения типа столбца в тип float, чтобы можно было получить проценты\n",
    "        bank_for_sign['percent'] = bank_for_sign['percent'].astype('float')\n",
    "        #строим еще один цикл для работы с ячейками, где переменная будет принимать номер строки\n",
    "        for x in range(len(bank_for_sign)):\n",
    "            #строим цикл, где переменная будет принимать уникальное значение качественной переменной.\n",
    "            #можно было бы обойтись без этого шага, но так мы автоматизировали функцию\n",
    "            for g in bank_df['products'].unique():\n",
    "                #если значение ячейки полученных групп равно одному из уникальных значений\n",
    "                if bank_for_sign['products'][x] ==g:\n",
    "                    #то мы рассчитываем переменную, в которую войдет общее количество клиентов группы, а затем уже находим доли\n",
    "                    c = bank_for_sign.groupby('products')['segment_for_hist'].sum()\n",
    "                    bank_for_sign['percent'][x] = round(bank_for_sign['segment_for_hist'][x]/c[g], 2)\n",
    "                else:\n",
    "                    #в противном случае оставляем переменную без изменения\n",
    "                    bank_for_sign['percent'][x] = bank_for_sign['percent'][x]\n",
    "        #выводим полученные таблицы\n",
    "        print('')\n",
    "        print(color.BOLD +'Доля пользователей по сегментам для принака:', e + color.END)\n",
    "        display(bank_for_sign)\n",
    "        print('')\n",
    "        #определяем размер таблицы\n",
    "        plt.figure(figsize=(size_x, size_y))\n",
    "        #визуализируем!\n",
    "        sns.barplot(x='products', y='percent', hue= e, data=bank_for_sign) \n",
    "        #указываем легенды\n",
    "        plt.legend()\n",
    "        #указываем заглавие\n",
    "        plt.title(f'Доля пользователей по сегментам для принака: {e}')\n",
    "        plt.show()"
   ]
  },
  {
   "cell_type": "markdown",
   "metadata": {},
   "source": [
    "Теперь посмотрим на то, что у нас получилось"
   ]
  },
  {
   "cell_type": "code",
   "execution_count": 36,
   "metadata": {
    "scrolled": false
   },
   "outputs": [
    {
     "name": "stdout",
     "output_type": "stream",
     "text": [
      "\n",
      "\u001b[1mДоля пользователей по сегментам для принака: city\u001b[0m\n"
     ]
    },
    {
     "data": {
      "text/html": [
       "<div>\n",
       "<style scoped>\n",
       "    .dataframe tbody tr th:only-of-type {\n",
       "        vertical-align: middle;\n",
       "    }\n",
       "\n",
       "    .dataframe tbody tr th {\n",
       "        vertical-align: top;\n",
       "    }\n",
       "\n",
       "    .dataframe thead th {\n",
       "        text-align: right;\n",
       "    }\n",
       "</style>\n",
       "<table border=\"1\" class=\"dataframe\">\n",
       "  <thead>\n",
       "    <tr style=\"text-align: right;\">\n",
       "      <th></th>\n",
       "      <th>products</th>\n",
       "      <th>city</th>\n",
       "      <th>segment_for_hist</th>\n",
       "      <th>percent</th>\n",
       "    </tr>\n",
       "  </thead>\n",
       "  <tbody>\n",
       "    <tr>\n",
       "      <th>0</th>\n",
       "      <td>1</td>\n",
       "      <td>Ростов Великий</td>\n",
       "      <td>1349</td>\n",
       "      <td>0.27</td>\n",
       "    </tr>\n",
       "    <tr>\n",
       "      <th>1</th>\n",
       "      <td>1</td>\n",
       "      <td>Рыбинск</td>\n",
       "      <td>1221</td>\n",
       "      <td>0.24</td>\n",
       "    </tr>\n",
       "    <tr>\n",
       "      <th>2</th>\n",
       "      <td>1</td>\n",
       "      <td>Ярославль</td>\n",
       "      <td>2514</td>\n",
       "      <td>0.49</td>\n",
       "    </tr>\n",
       "    <tr>\n",
       "      <th>3</th>\n",
       "      <td>2</td>\n",
       "      <td>Ростов Великий</td>\n",
       "      <td>1040</td>\n",
       "      <td>0.23</td>\n",
       "    </tr>\n",
       "    <tr>\n",
       "      <th>4</th>\n",
       "      <td>2</td>\n",
       "      <td>Рыбинск</td>\n",
       "      <td>1183</td>\n",
       "      <td>0.26</td>\n",
       "    </tr>\n",
       "    <tr>\n",
       "      <th>5</th>\n",
       "      <td>2</td>\n",
       "      <td>Ярославль</td>\n",
       "      <td>2367</td>\n",
       "      <td>0.52</td>\n",
       "    </tr>\n",
       "    <tr>\n",
       "      <th>6</th>\n",
       "      <td>3</td>\n",
       "      <td>Ростов Великий</td>\n",
       "      <td>96</td>\n",
       "      <td>0.36</td>\n",
       "    </tr>\n",
       "    <tr>\n",
       "      <th>7</th>\n",
       "      <td>3</td>\n",
       "      <td>Рыбинск</td>\n",
       "      <td>66</td>\n",
       "      <td>0.25</td>\n",
       "    </tr>\n",
       "    <tr>\n",
       "      <th>8</th>\n",
       "      <td>3</td>\n",
       "      <td>Ярославль</td>\n",
       "      <td>104</td>\n",
       "      <td>0.39</td>\n",
       "    </tr>\n",
       "    <tr>\n",
       "      <th>9</th>\n",
       "      <td>4</td>\n",
       "      <td>Ростов Великий</td>\n",
       "      <td>24</td>\n",
       "      <td>0.40</td>\n",
       "    </tr>\n",
       "    <tr>\n",
       "      <th>10</th>\n",
       "      <td>4</td>\n",
       "      <td>Рыбинск</td>\n",
       "      <td>7</td>\n",
       "      <td>0.12</td>\n",
       "    </tr>\n",
       "    <tr>\n",
       "      <th>11</th>\n",
       "      <td>4</td>\n",
       "      <td>Ярославль</td>\n",
       "      <td>29</td>\n",
       "      <td>0.48</td>\n",
       "    </tr>\n",
       "  </tbody>\n",
       "</table>\n",
       "</div>"
      ],
      "text/plain": [
       "    products            city  segment_for_hist  percent\n",
       "0          1  Ростов Великий              1349     0.27\n",
       "1          1         Рыбинск              1221     0.24\n",
       "2          1       Ярославль              2514     0.49\n",
       "3          2  Ростов Великий              1040     0.23\n",
       "4          2         Рыбинск              1183     0.26\n",
       "5          2       Ярославль              2367     0.52\n",
       "6          3  Ростов Великий                96     0.36\n",
       "7          3         Рыбинск                66     0.25\n",
       "8          3       Ярославль               104     0.39\n",
       "9          4  Ростов Великий                24     0.40\n",
       "10         4         Рыбинск                 7     0.12\n",
       "11         4       Ярославль                29     0.48"
      ]
     },
     "metadata": {},
     "output_type": "display_data"
    },
    {
     "name": "stdout",
     "output_type": "stream",
     "text": [
      "\n"
     ]
    },
    {
     "data": {
      "image/png": "[encoded data removed]",
      "text/plain": [
       "<Figure size 1440x864 with 1 Axes>"
      ]
     },
     "metadata": {
      "needs_background": "light"
     },
     "output_type": "display_data"
    },
    {
     "name": "stdout",
     "output_type": "stream",
     "text": [
      "\n",
      "\u001b[1mДоля пользователей по сегментам для принака: gender\u001b[0m\n"
     ]
    },
    {
     "data": {
      "text/html": [
       "<div>\n",
       "<style scoped>\n",
       "    .dataframe tbody tr th:only-of-type {\n",
       "        vertical-align: middle;\n",
       "    }\n",
       "\n",
       "    .dataframe tbody tr th {\n",
       "        vertical-align: top;\n",
       "    }\n",
       "\n",
       "    .dataframe thead th {\n",
       "        text-align: right;\n",
       "    }\n",
       "</style>\n",
       "<table border=\"1\" class=\"dataframe\">\n",
       "  <thead>\n",
       "    <tr style=\"text-align: right;\">\n",
       "      <th></th>\n",
       "      <th>products</th>\n",
       "      <th>gender</th>\n",
       "      <th>segment_for_hist</th>\n",
       "      <th>percent</th>\n",
       "    </tr>\n",
       "  </thead>\n",
       "  <tbody>\n",
       "    <tr>\n",
       "      <th>0</th>\n",
       "      <td>1</td>\n",
       "      <td>0</td>\n",
       "      <td>2296</td>\n",
       "      <td>0.45</td>\n",
       "    </tr>\n",
       "    <tr>\n",
       "      <th>1</th>\n",
       "      <td>1</td>\n",
       "      <td>1</td>\n",
       "      <td>2788</td>\n",
       "      <td>0.55</td>\n",
       "    </tr>\n",
       "    <tr>\n",
       "      <th>2</th>\n",
       "      <td>2</td>\n",
       "      <td>0</td>\n",
       "      <td>2060</td>\n",
       "      <td>0.45</td>\n",
       "    </tr>\n",
       "    <tr>\n",
       "      <th>3</th>\n",
       "      <td>2</td>\n",
       "      <td>1</td>\n",
       "      <td>2530</td>\n",
       "      <td>0.55</td>\n",
       "    </tr>\n",
       "    <tr>\n",
       "      <th>4</th>\n",
       "      <td>3</td>\n",
       "      <td>0</td>\n",
       "      <td>149</td>\n",
       "      <td>0.56</td>\n",
       "    </tr>\n",
       "    <tr>\n",
       "      <th>5</th>\n",
       "      <td>3</td>\n",
       "      <td>1</td>\n",
       "      <td>117</td>\n",
       "      <td>0.44</td>\n",
       "    </tr>\n",
       "    <tr>\n",
       "      <th>6</th>\n",
       "      <td>4</td>\n",
       "      <td>0</td>\n",
       "      <td>38</td>\n",
       "      <td>0.63</td>\n",
       "    </tr>\n",
       "    <tr>\n",
       "      <th>7</th>\n",
       "      <td>4</td>\n",
       "      <td>1</td>\n",
       "      <td>22</td>\n",
       "      <td>0.37</td>\n",
       "    </tr>\n",
       "  </tbody>\n",
       "</table>\n",
       "</div>"
      ],
      "text/plain": [
       "   products  gender  segment_for_hist  percent\n",
       "0         1       0              2296     0.45\n",
       "1         1       1              2788     0.55\n",
       "2         2       0              2060     0.45\n",
       "3         2       1              2530     0.55\n",
       "4         3       0               149     0.56\n",
       "5         3       1               117     0.44\n",
       "6         4       0                38     0.63\n",
       "7         4       1                22     0.37"
      ]
     },
     "metadata": {},
     "output_type": "display_data"
    },
    {
     "name": "stdout",
     "output_type": "stream",
     "text": [
      "\n"
     ]
    },
    {
     "data": {
      "image/png": "[encoded data removed]",
      "text/plain": [
       "<Figure size 1440x864 with 1 Axes>"
      ]
     },
     "metadata": {
      "needs_background": "light"
     },
     "output_type": "display_data"
    },
    {
     "name": "stdout",
     "output_type": "stream",
     "text": [
      "\n",
      "\u001b[1mДоля пользователей по сегментам для принака: credit_card\u001b[0m\n"
     ]
    },
    {
     "data": {
      "text/html": [
       "<div>\n",
       "<style scoped>\n",
       "    .dataframe tbody tr th:only-of-type {\n",
       "        vertical-align: middle;\n",
       "    }\n",
       "\n",
       "    .dataframe tbody tr th {\n",
       "        vertical-align: top;\n",
       "    }\n",
       "\n",
       "    .dataframe thead th {\n",
       "        text-align: right;\n",
       "    }\n",
       "</style>\n",
       "<table border=\"1\" class=\"dataframe\">\n",
       "  <thead>\n",
       "    <tr style=\"text-align: right;\">\n",
       "      <th></th>\n",
       "      <th>products</th>\n",
       "      <th>credit_card</th>\n",
       "      <th>segment_for_hist</th>\n",
       "      <th>percent</th>\n",
       "    </tr>\n",
       "  </thead>\n",
       "  <tbody>\n",
       "    <tr>\n",
       "      <th>0</th>\n",
       "      <td>1</td>\n",
       "      <td>0</td>\n",
       "      <td>1506</td>\n",
       "      <td>0.30</td>\n",
       "    </tr>\n",
       "    <tr>\n",
       "      <th>1</th>\n",
       "      <td>1</td>\n",
       "      <td>1</td>\n",
       "      <td>3578</td>\n",
       "      <td>0.70</td>\n",
       "    </tr>\n",
       "    <tr>\n",
       "      <th>2</th>\n",
       "      <td>2</td>\n",
       "      <td>0</td>\n",
       "      <td>1344</td>\n",
       "      <td>0.29</td>\n",
       "    </tr>\n",
       "    <tr>\n",
       "      <th>3</th>\n",
       "      <td>2</td>\n",
       "      <td>1</td>\n",
       "      <td>3246</td>\n",
       "      <td>0.71</td>\n",
       "    </tr>\n",
       "    <tr>\n",
       "      <th>4</th>\n",
       "      <td>3</td>\n",
       "      <td>0</td>\n",
       "      <td>76</td>\n",
       "      <td>0.29</td>\n",
       "    </tr>\n",
       "    <tr>\n",
       "      <th>5</th>\n",
       "      <td>3</td>\n",
       "      <td>1</td>\n",
       "      <td>190</td>\n",
       "      <td>0.71</td>\n",
       "    </tr>\n",
       "    <tr>\n",
       "      <th>6</th>\n",
       "      <td>4</td>\n",
       "      <td>0</td>\n",
       "      <td>19</td>\n",
       "      <td>0.32</td>\n",
       "    </tr>\n",
       "    <tr>\n",
       "      <th>7</th>\n",
       "      <td>4</td>\n",
       "      <td>1</td>\n",
       "      <td>41</td>\n",
       "      <td>0.68</td>\n",
       "    </tr>\n",
       "  </tbody>\n",
       "</table>\n",
       "</div>"
      ],
      "text/plain": [
       "   products  credit_card  segment_for_hist  percent\n",
       "0         1            0              1506     0.30\n",
       "1         1            1              3578     0.70\n",
       "2         2            0              1344     0.29\n",
       "3         2            1              3246     0.71\n",
       "4         3            0                76     0.29\n",
       "5         3            1               190     0.71\n",
       "6         4            0                19     0.32\n",
       "7         4            1                41     0.68"
      ]
     },
     "metadata": {},
     "output_type": "display_data"
    },
    {
     "name": "stdout",
     "output_type": "stream",
     "text": [
      "\n"
     ]
    },
    {
     "data": {
      "image/png": "[encoded data removed]",
      "text/plain": [
       "<Figure size 1440x864 with 1 Axes>"
      ]
     },
     "metadata": {
      "needs_background": "light"
     },
     "output_type": "display_data"
    },
    {
     "name": "stdout",
     "output_type": "stream",
     "text": [
      "\n",
      "\u001b[1mДоля пользователей по сегментам для принака: loyalty\u001b[0m\n"
     ]
    },
    {
     "data": {
      "text/html": [
       "<div>\n",
       "<style scoped>\n",
       "    .dataframe tbody tr th:only-of-type {\n",
       "        vertical-align: middle;\n",
       "    }\n",
       "\n",
       "    .dataframe tbody tr th {\n",
       "        vertical-align: top;\n",
       "    }\n",
       "\n",
       "    .dataframe thead th {\n",
       "        text-align: right;\n",
       "    }\n",
       "</style>\n",
       "<table border=\"1\" class=\"dataframe\">\n",
       "  <thead>\n",
       "    <tr style=\"text-align: right;\">\n",
       "      <th></th>\n",
       "      <th>products</th>\n",
       "      <th>loyalty</th>\n",
       "      <th>segment_for_hist</th>\n",
       "      <th>percent</th>\n",
       "    </tr>\n",
       "  </thead>\n",
       "  <tbody>\n",
       "    <tr>\n",
       "      <th>0</th>\n",
       "      <td>1</td>\n",
       "      <td>0</td>\n",
       "      <td>2521</td>\n",
       "      <td>0.50</td>\n",
       "    </tr>\n",
       "    <tr>\n",
       "      <th>1</th>\n",
       "      <td>1</td>\n",
       "      <td>1</td>\n",
       "      <td>2563</td>\n",
       "      <td>0.50</td>\n",
       "    </tr>\n",
       "    <tr>\n",
       "      <th>2</th>\n",
       "      <td>2</td>\n",
       "      <td>0</td>\n",
       "      <td>2144</td>\n",
       "      <td>0.47</td>\n",
       "    </tr>\n",
       "    <tr>\n",
       "      <th>3</th>\n",
       "      <td>2</td>\n",
       "      <td>1</td>\n",
       "      <td>2446</td>\n",
       "      <td>0.53</td>\n",
       "    </tr>\n",
       "    <tr>\n",
       "      <th>4</th>\n",
       "      <td>3</td>\n",
       "      <td>0</td>\n",
       "      <td>153</td>\n",
       "      <td>0.58</td>\n",
       "    </tr>\n",
       "    <tr>\n",
       "      <th>5</th>\n",
       "      <td>3</td>\n",
       "      <td>1</td>\n",
       "      <td>113</td>\n",
       "      <td>0.42</td>\n",
       "    </tr>\n",
       "    <tr>\n",
       "      <th>6</th>\n",
       "      <td>4</td>\n",
       "      <td>0</td>\n",
       "      <td>31</td>\n",
       "      <td>0.52</td>\n",
       "    </tr>\n",
       "    <tr>\n",
       "      <th>7</th>\n",
       "      <td>4</td>\n",
       "      <td>1</td>\n",
       "      <td>29</td>\n",
       "      <td>0.48</td>\n",
       "    </tr>\n",
       "  </tbody>\n",
       "</table>\n",
       "</div>"
      ],
      "text/plain": [
       "   products  loyalty  segment_for_hist  percent\n",
       "0         1        0              2521     0.50\n",
       "1         1        1              2563     0.50\n",
       "2         2        0              2144     0.47\n",
       "3         2        1              2446     0.53\n",
       "4         3        0               153     0.58\n",
       "5         3        1               113     0.42\n",
       "6         4        0                31     0.52\n",
       "7         4        1                29     0.48"
      ]
     },
     "metadata": {},
     "output_type": "display_data"
    },
    {
     "name": "stdout",
     "output_type": "stream",
     "text": [
      "\n"
     ]
    },
    {
     "data": {
      "image/png": "[encoded data removed]",
      "text/plain": [
       "<Figure size 1440x864 with 1 Axes>"
      ]
     },
     "metadata": {
      "needs_background": "light"
     },
     "output_type": "display_data"
    },
    {
     "name": "stdout",
     "output_type": "stream",
     "text": [
      "\n",
      "\u001b[1mДоля пользователей по сегментам для принака: churn\u001b[0m\n"
     ]
    },
    {
     "data": {
      "text/html": [
       "<div>\n",
       "<style scoped>\n",
       "    .dataframe tbody tr th:only-of-type {\n",
       "        vertical-align: middle;\n",
       "    }\n",
       "\n",
       "    .dataframe tbody tr th {\n",
       "        vertical-align: top;\n",
       "    }\n",
       "\n",
       "    .dataframe thead th {\n",
       "        text-align: right;\n",
       "    }\n",
       "</style>\n",
       "<table border=\"1\" class=\"dataframe\">\n",
       "  <thead>\n",
       "    <tr style=\"text-align: right;\">\n",
       "      <th></th>\n",
       "      <th>products</th>\n",
       "      <th>churn</th>\n",
       "      <th>segment_for_hist</th>\n",
       "      <th>percent</th>\n",
       "    </tr>\n",
       "  </thead>\n",
       "  <tbody>\n",
       "    <tr>\n",
       "      <th>0</th>\n",
       "      <td>1</td>\n",
       "      <td>0</td>\n",
       "      <td>3675</td>\n",
       "      <td>0.72</td>\n",
       "    </tr>\n",
       "    <tr>\n",
       "      <th>1</th>\n",
       "      <td>1</td>\n",
       "      <td>1</td>\n",
       "      <td>1409</td>\n",
       "      <td>0.28</td>\n",
       "    </tr>\n",
       "    <tr>\n",
       "      <th>2</th>\n",
       "      <td>2</td>\n",
       "      <td>0</td>\n",
       "      <td>4242</td>\n",
       "      <td>0.92</td>\n",
       "    </tr>\n",
       "    <tr>\n",
       "      <th>3</th>\n",
       "      <td>2</td>\n",
       "      <td>1</td>\n",
       "      <td>348</td>\n",
       "      <td>0.08</td>\n",
       "    </tr>\n",
       "    <tr>\n",
       "      <th>4</th>\n",
       "      <td>3</td>\n",
       "      <td>0</td>\n",
       "      <td>46</td>\n",
       "      <td>0.17</td>\n",
       "    </tr>\n",
       "    <tr>\n",
       "      <th>5</th>\n",
       "      <td>3</td>\n",
       "      <td>1</td>\n",
       "      <td>220</td>\n",
       "      <td>0.83</td>\n",
       "    </tr>\n",
       "    <tr>\n",
       "      <th>6</th>\n",
       "      <td>4</td>\n",
       "      <td>1</td>\n",
       "      <td>60</td>\n",
       "      <td>1.00</td>\n",
       "    </tr>\n",
       "  </tbody>\n",
       "</table>\n",
       "</div>"
      ],
      "text/plain": [
       "   products  churn  segment_for_hist  percent\n",
       "0         1      0              3675     0.72\n",
       "1         1      1              1409     0.28\n",
       "2         2      0              4242     0.92\n",
       "3         2      1               348     0.08\n",
       "4         3      0                46     0.17\n",
       "5         3      1               220     0.83\n",
       "6         4      1                60     1.00"
      ]
     },
     "metadata": {},
     "output_type": "display_data"
    },
    {
     "name": "stdout",
     "output_type": "stream",
     "text": [
      "\n"
     ]
    },
    {
     "data": {
      "image/png": "[encoded data removed]",
      "text/plain": [
       "<Figure size 1440x864 with 1 Axes>"
      ]
     },
     "metadata": {
      "needs_background": "light"
     },
     "output_type": "display_data"
    }
   ],
   "source": [
    "#применяем функцию\n",
    "histograms(bank_df, sign, 20, 12)"
   ]
  },
  {
   "cell_type": "markdown",
   "metadata": {},
   "source": [
    "Мы видим следующие закономерности:\n",
    "\n",
    "**1)** Признак **`city`** -  город\n",
    "\n",
    "Для всех сегментов наиболее распространенным городом является Ярославль. Для 1, 3 и 4 сегментов вторым по распространенности городом выступает Ростов Великий. Второй сегмент же чуть более распространен в Рыбинске.\n",
    "\n",
    "**2)** Признак **`gender`** -  пол\n",
    "\n",
    "Для 3 и 4 сегментов больше женщин, а для 1 и 2 сегментов - мужчины.\n",
    "\n",
    "**3)** Признак **`credit_card`** -  есть ли кредитная карта\n",
    "\n",
    "У всех сегментов преобладают клиенты, обладающие кредитными картами. Соотношение тех, у кого они есть, и тех, у кого их нет, для всех сегментов примерно одинаково - 70 на 30.\n",
    "\n",
    "**4)** Признак **`loyalty`** -  активный клиент\n",
    "\n",
    "Для 1-го сегмента количество активных и неактивных клиентов одинаково (соотношение 50 на 50). Для 2-го сегмента больше тех, кого можно назвать активными пользователями (53%). Клиенты 3 сегмента более неактивны (процент неактивности для них – 58).  Среди клиентов 4 сегмента чуть больше тех, кого можно назвать неактивными (52%). \n",
    "\n",
    "**5)** Признак **`churn`** -  ушёл или нет\n",
    "\n",
    "По поводу оттока можно сказать, что для 1-го сегмента уходят только 28% клиентов. Для 2-го сегмента это число снижается до 8%. 3 и 4 кластеры среди всех наиболее подвержены оттоку – если для 3 сегмента процент ушедших составляет 83, то для 4 сегмента все 100. Это нездорово. Очень странно, что клиенты с 4 и более продуктами всегда уходят."
   ]
  },
  {
   "cell_type": "markdown",
   "metadata": {},
   "source": [
    "В целом можем сделать вывод о том, что сегменты крайне слабо влияют на признаки клиентов, однако некоторые закономерности мы смогли обнаружить. Можем подтвердить это с помощью матрицы корреляций."
   ]
  },
  {
   "cell_type": "markdown",
   "metadata": {},
   "source": [
    "Чтобы не потерять столбец города, закодируем его и уже тогда выведем матрицу корреляции"
   ]
  },
  {
   "cell_type": "code",
   "execution_count": 38,
   "metadata": {},
   "outputs": [],
   "source": [
    "#перекодируем город\n",
    "encoder = LabelEncoder()\n",
    "bank_df['city'] = encoder.fit_transform(bank_df['city'])"
   ]
  },
  {
   "cell_type": "code",
   "execution_count": 39,
   "metadata": {
    "scrolled": false
   },
   "outputs": [
    {
     "data": {
      "image/png": "[encoded data removed]",
      "text/plain": [
       "<Figure size 1440x1080 with 2 Axes>"
      ]
     },
     "metadata": {
      "needs_background": "light"
     },
     "output_type": "display_data"
    }
   ],
   "source": [
    "#размер таблицы\n",
    "plt.figure(figsize = (20,15))\n",
    "#матрица корреляции\n",
    "corr_m = bank_df.drop(['user_id'], axis=1).corr()\n",
    "# нарисуем heatmap\n",
    "sns.heatmap(corr_m, square = True, annot = True, )\n",
    "plt.show()\n"
   ]
  },
  {
   "cell_type": "markdown",
   "metadata": {},
   "source": [
    "Как мы и говорили, какой-либо значимой зависимости между количество продуктов и иных признаков клиента нет. Есть лишь небольшая отрицательная зависимость с балансом, которая, скорее всего вызвана нашей заменой пропусков, которая привела к тому, что появились нули в балансе. Если наша гипотеза верна, то есть вероятность того, что у клиентов с большим количеством продуктов чаще встречаются 0 на счету. Однако это тоже не факт, поскольку сегменты крайне сильно различаются по количественному составу, а потому 14 нулей для 4 сегмента - это уже целых 23%, а для 1 сегмента эта же цифра - меньше 1%. Проблема банка - неумение заинтересовать клиента к покупке дополнительных продуктов компании. В остальных случаях зависимости крайне славбые.\n",
    "Кодировка города нам особо ничего не дала, поскольку зависимости между городом и сегментом нет - мы увидели только, что существует небольшая зависимость города и баланса - но это из-за пропусков, количество которых как раз-таки и зависит от города."
   ]
  },
  {
   "cell_type": "markdown",
   "metadata": {},
   "source": [
    "Теперь посмотрим на коэффициенты корреляции Phik:"
   ]
  },
  {
   "cell_type": "code",
   "execution_count": 40,
   "metadata": {
    "scrolled": false
   },
   "outputs": [
    {
     "name": "stdout",
     "output_type": "stream",
     "text": [
      "interval columns not set, guessing: ['user_id', 'score', 'city', 'gender', 'age', 'objects', 'balance', 'products', 'credit_card', 'loyalty', 'estimated_salary', 'churn']\n"
     ]
    },
    {
     "data": {
      "image/png": "[encoded data removed]",
      "text/plain": [
       "<Figure size 1080x720 with 2 Axes>"
      ]
     },
     "metadata": {
      "needs_background": "light"
     },
     "output_type": "display_data"
    }
   ],
   "source": [
    "#создаем продвинутую матрицу и визуализируем ее\n",
    "phik_overview = bank_df.phik_matrix().round(2)\n",
    "plot_correlation_matrix(phik_overview.values, \n",
    "                        x_labels=phik_overview.columns, \n",
    "                        y_labels=phik_overview.index, \n",
    "                        vmin=0, vmax=1, color_map=\"Greens\", \n",
    "                        title=r\"correlation $\\phi_K$\", \n",
    "                        fontsize_factor=1.5, \n",
    "                        figsize=(15, 10))\n",
    "plt.tight_layout()"
   ]
  },
  {
   "cell_type": "markdown",
   "metadata": {},
   "source": [
    "Более продвинутая визуализация дает нам представление все-таки о наличии зависимостей.\n",
    "Мы замечаем некоторую зависимость сегмента с:\n",
    "\n",
    "1) Возрастом (0.15). Звучит правдоподобно, поскольку мы видели, что была небольшая зависимость по сегментами.\n",
    "\n",
    "2) Балансом (0.37). Зависимость все еще не самая высокая, но существенная. Связано это с тем, что в датасете есть пропуски, которые искажают баланс, а количество их зависит от сегмента.\n",
    "\n",
    "3) Отток (0.57). Не самая сильная зависимость, но уже заметная. И это справедливо, поскольку пользователи 4 сегмента абсолютно полностью ушли. \n",
    "\n",
    "Эта матрица корреляции уже выглядит более правдоподобной. Значительной зависимости между сегментами и признакми нет, однако признак оттока все-таки имеет связь с сегментом, которую нельзя не заметить."
   ]
  },
  {
   "cell_type": "markdown",
   "metadata": {},
   "source": [
    "# Шаг 4. Статистический анализ данных\n",
    "<a id='eight'></a>"
   ]
  },
  {
   "cell_type": "markdown",
   "metadata": {},
   "source": [
    "Теперь нам предстоит проверка гипотез."
   ]
  },
  {
   "cell_type": "markdown",
   "metadata": {},
   "source": [
    "## Первая гипотеза\n",
    "<a id='nine'></a>"
   ]
  },
  {
   "cell_type": "markdown",
   "metadata": {},
   "source": [
    "Первая наша гипотеза задана ТЗ и выглядит так:\n",
    "Различие дохода между теми клиентами, которые пользуются двумя продуктами банка, и теми, которые пользуются одним."
   ]
  },
  {
   "cell_type": "markdown",
   "metadata": {},
   "source": [
    "Проверять гипотезу мы будем с помощью непараметрического теста Уилкоксона-Манна-Уитни"
   ]
  },
  {
   "cell_type": "markdown",
   "metadata": {},
   "source": [
    "**Нулевая гипотеза будет звучать так:**\n",
    "\n",
    "Доходы клиентов, которые пользуются одним продуктом банка и доходы клиентов, которые пользуются двумя продуктами банка, не различаются."
   ]
  },
  {
   "cell_type": "markdown",
   "metadata": {},
   "source": [
    "**Альтернативная же гипотеза будет звучать так:**\n",
    "\n",
    "Доходы клиентов, которые пользуются одним продуктом банка и доходы клиентов, которые пользуются двумя продуктами банка, различаются."
   ]
  },
  {
   "cell_type": "code",
   "execution_count": 41,
   "metadata": {},
   "outputs": [],
   "source": [
    "#выделяем отдельно сегменты с 1 и 2 продуктами\n",
    "bank_df_1 = bank_df.query('products == 1')['estimated_salary']\n",
    "bank_df_2 = bank_df.query('products == 2')['estimated_salary']"
   ]
  },
  {
   "cell_type": "code",
   "execution_count": 42,
   "metadata": {},
   "outputs": [
    {
     "name": "stdout",
     "output_type": "stream",
     "text": [
      "p-значение:  0.40796286066317733\n",
      "Не получилось отвергнуть нулевую гипотезу, вывод о различии сделать нельзя\n"
     ]
    }
   ],
   "source": [
    "# критический уровень статистической значимости - если p-value окажется меньше него - отвегнем гипотезу\n",
    "alpha = .01 \n",
    "#применяем t-тест\n",
    "result = st.mannwhitneyu(bank_df_1, bank_df_2)\n",
    "\n",
    "\n",
    "#выводим на экран уровень значимости для этой статистики \n",
    "print('p-значение: ', result.pvalue)\n",
    "\n",
    "#проверяем гипотезу\n",
    "if result.pvalue < alpha:\n",
    "    print('Отвергаем нулевую гипотезу: разница статистически значима')\n",
    "else:\n",
    "    print('Не получилось отвергнуть нулевую гипотезу, вывод о различии сделать нельзя')"
   ]
  },
  {
   "cell_type": "markdown",
   "metadata": {},
   "source": [
    "**Вывод**"
   ]
  },
  {
   "cell_type": "markdown",
   "metadata": {},
   "source": [
    "Мы видим, что значение p-value довольно велико и составляет 0.41. Следовательно, вероятность получить наблюдаемый или еще более далекий от предполагаемого результат при условии, что нулевая гипотеза верна, равен 41%. \n",
    "По этой причине мы не опровергаем нулевую гипотезу, говорящей нам о том, что, различия дохода между теми клиентами, которые пользуются двумя продуктами банка, и теми, которые пользуются одним **нет**. Мы не смогли найти данных, опровергающих ее.\n",
    "\n",
    "Следовательно, гипотеза о том, что доход клиентов, пользующихся одним продуктом, отличается от дохода, пользуещегося двумя продуктами -будет отвергнута. Мы смогли найти данные, опровергающие ее.\n"
   ]
  },
  {
   "cell_type": "markdown",
   "metadata": {},
   "source": [
    "## Вторая гипотеза\n",
    "<a id='ten'></a>"
   ]
  },
  {
   "cell_type": "markdown",
   "metadata": {},
   "source": [
    "Теперь нам предстоит сформировать вторую гипотезу."
   ]
  },
  {
   "cell_type": "markdown",
   "metadata": {},
   "source": [
    "Как мы уже сказали, заработные платы между сегментами равны. Проверим, есть ли разница между заработной платой тех, кто пользовался минимальным количеством продуктов, и теми, кто брал максимум от банка. Сравним заработные платы клиентов 1 и 4 сегмента."
   ]
  },
  {
   "cell_type": "markdown",
   "metadata": {},
   "source": [
    "Проверять гипотезу мы будем с помощью t-теста"
   ]
  },
  {
   "cell_type": "markdown",
   "metadata": {},
   "source": [
    "**Нулевая гипотеза будет звучать так:**\n",
    "\n",
    "Доходы клиентов, которые пользуются одним продуктом банка и доходы клиентов, которые пользуются четырьмя продуктами банка, не различаются."
   ]
  },
  {
   "cell_type": "markdown",
   "metadata": {},
   "source": [
    "**Альтернативная же гипотеза будет звучать так:**\n",
    "\n",
    "Доходы клиентов, которые пользуются одним продуктом банка и доходы клиентов, которые пользуются четырьмя продуктами банка, различаются."
   ]
  },
  {
   "cell_type": "code",
   "execution_count": 43,
   "metadata": {},
   "outputs": [],
   "source": [
    "#выделяем отдельно сегменты с 4 продуктами\n",
    "bank_df_4 = bank_df.query('products == 4')['estimated_salary']"
   ]
  },
  {
   "cell_type": "code",
   "execution_count": 44,
   "metadata": {},
   "outputs": [
    {
     "name": "stdout",
     "output_type": "stream",
     "text": [
      "p-значение:  0.47322472276274097\n",
      "Не получилось отвергнуть нулевую гипотезу, вывод о различии сделать нельзя\n"
     ]
    }
   ],
   "source": [
    "# критический уровень статистической значимости - если p-value окажется меньше него - отвегнем гипотезу\n",
    "alpha = .05 \n",
    "#применяем t-тест\n",
    "result = st.mannwhitneyu(\n",
    "    bank_df_1, \n",
    "    bank_df_4)\n",
    "#выводим на экран уровень значимости для этой статистики \n",
    "print('p-значение: ', result.pvalue)\n",
    "\n",
    "\n",
    "#проверяем гипотезу\n",
    "if result.pvalue < alpha:\n",
    "    print('Отвергаем нулевую гипотезу: разница статистически значима')\n",
    "else:\n",
    "    print('Не получилось отвергнуть нулевую гипотезу, вывод о различии сделать нельзя')"
   ]
  },
  {
   "cell_type": "markdown",
   "metadata": {},
   "source": [
    "**Вывод**"
   ]
  },
  {
   "cell_type": "markdown",
   "metadata": {},
   "source": [
    "Мы видим, что значение p-value довольно велико и составляет 0.47. Следовательно, вероятность получить наблюдаемый или еще более далекий от предполагаемого результат при условии, что нулевая гипотеза верна, равен 47%. \n",
    "По этой причине мы не опровергаем нулевую гипотезу, говорящей нам о том, что, различия дохода между теми клиентами, которые пользуются четырьмя продуктами банка, и теми, которые пользуются одним **нет**. Мы не смогли найти данных, опровергающих ее.\n",
    "\n",
    "Следовательно, гипотеза о том, что доход клиентов, пользующихся одним продуктом, отличается от дохода, пользуещегося четырьмя продуктами -будет отвергнута. Мы смогли найти данные, опровергающие ее.\n"
   ]
  },
  {
   "cell_type": "markdown",
   "metadata": {},
   "source": [
    "Какой вывод мы можем сделать?\n",
    "Заработные платы клиентов, которые пользовались 1 продуктом, 2 или 4 похожи. То есть, то, сколькими продуктами пользуется клиент, не зависит от сегмента, которые мы сформировали в Шаге 3. Об этом мы уже говорили ранее, но сейчас подтвердили окончательно."
   ]
  },
  {
   "cell_type": "markdown",
   "metadata": {},
   "source": [
    "# Шаг 5. Подведение итогов и формирование рекомендаций для банка\n",
    "<a id='eleven'></a>"
   ]
  },
  {
   "cell_type": "markdown",
   "metadata": {},
   "source": [
    "**В ходе выполнения работы, мы смогли решили следующие задачи:**\n",
    "    \n",
    "1) Встроили файл в проект и прочитали его, сделалав предварительные выводы относительно датасета.\n",
    "\n",
    "2) Провели предобработку данных, в ходе которой мы избавились от пропусков, привели данные к нужному типу, привели названия столбцев к правилам хорошего стиля, а также разобрались с типом данных.\n",
    "\n",
    "3) Провели исследовательский анализ данных, в ходе которого сегментировали пользователей и смогли посмотреть на то, как распределились признаки в зависимости от сегмента. В итоге мы поняли, что сегменты лишь отдельно взятым небольшим числом признаков отличается друг от друга. Во многом же они схожи.\n",
    "\n",
    "4) Провели статистический анализ данных, в ходе которого мы проверили две гипотезы, одна из которых была дана нам в ТЗ, а другую мы сами сформировали. Проверка гипотез подтвердила наши выводы, сделанные при исследовательском анализе данныхю\n"
   ]
  },
  {
   "cell_type": "markdown",
   "metadata": {},
   "source": [
    "Теперь мы можем сформировать каждый сегмент и дать рекомендации для него."
   ]
  },
  {
   "cell_type": "markdown",
   "metadata": {},
   "source": [
    "**Отдельные рекомендации для каждого сегмента:**"
   ]
  },
  {
   "cell_type": "markdown",
   "metadata": {},
   "source": [
    "Теперь мы можем построить портреты клиентов сегмента, опираясь на данные.\n",
    "\n",
    "**Segment 1**\n",
    "\n",
    "**Описание:**\n",
    "\n",
    "1) Наиболее распространены в Ярославле. В других городах представлены также. \n",
    "\n",
    "2) Больше Мужчин.\n",
    "\n",
    "3) У 70%  клиентов есть кредитные карты.\n",
    "\n",
    "4) Половина клиентов активна, а другая - нет.\n",
    "\n",
    "5) Отток довольно низкий - около 28%.\n",
    "\n",
    "6) Баллы кредитного скоринга в среднем на одного клиента составляют 650\n",
    "\n",
    "7) Клиенты в среднем в возарсте от 36 до 37 лет.\n",
    "\n",
    "8) В среднем 5 объектов в собственности находится \n",
    "\n",
    "9) Довольно высокий баланс в сравнении с предыдущими сегментами. Довольно велико значение пропусков, которые мы заменили 0. Без учета пропусков баланс такой же, как и остальных.\n",
    "\n",
    "\n",
    "10) Заработная плата чуть хуже остальных сегментов. Однако это чисто символическое различие.\n",
    "\n",
    "**Рекомендация:**\n",
    "\n",
    "\n",
    "1) Нужно омолаживать клиентов. Средний возраст для данного сегмента 36-37 лет. Это слишком много. Более молодых клиентов у сегмента немного.\n",
    "\n",
    "2) Нужно расширять представительство в Ростове и Рыбинске. Мы видим, что в сравнении с Ярослвлем, в этих городах клиентов первого сегмента не так много. Возможно проведение каких-либо акций.\n",
    "\n",
    "3) Целых 50% клиентов являютсянеактивными, а это большая цифра. Потому нужно повышать активность клиентов сегмента.\n",
    "\n",
    "4) Отток не самый высокий, но все-таки он есть - нужно так или иначе сокращать его.\n",
    "\n",
    "5) Нужно увеличивать процент владельцев кредиток.\n",
    "\n",
    "6) Привлекать нужно женщин к пользованием данным количеством продукции."
   ]
  },
  {
   "cell_type": "markdown",
   "metadata": {},
   "source": [
    "Теперь перейдем ко 2 сегменту"
   ]
  },
  {
   "cell_type": "markdown",
   "metadata": {},
   "source": [
    "**Segment 2**\n",
    "\n",
    "**Описание:**\n",
    "\n",
    "1) Наиболее распространены в Ярославле. В других городах представлены также. \n",
    "\n",
    "2) Больше Мужчин.\n",
    "\n",
    "3) У 70%  клиентов есть кредитные карты.\n",
    "\n",
    "4) Чуть больше активных клиентов - 53%.\n",
    "\n",
    "5) Отток крайне низкий - около 8%.\n",
    "\n",
    "6) Баллы кредитного скоринга в среднем на одного клиента составляют 650\n",
    "\n",
    "7) Клиенты в среднем в возарсте от 38 до 39 лет.\n",
    "\n",
    "8) В среднем 5 объектов в собственности находится - но в сравнении с другими кластерами - чуть меньше.\n",
    "\n",
    "9) Самый низкий баланс среди всех клиентов. Крайне большое количество клиентов, которые имели нулевой баланс (пропуски) и очень мало тех, кто имел высокий баланс. Без учета пропусков баланс такой же, как и остальных.\n",
    "\n",
    "\n",
    "10) Заработная плата чуть хуже сегментов 3 и 4, но лучше 1 сегмента.\n",
    "\n",
    "**Рекомендация:**\n",
    "\n",
    "\n",
    "1) Нужно также омолаживать клиентов. Клиенты 2 сегмента еще более стары, чем клиенты 1 сегмента.\n",
    "\n",
    "2) Отток совершенно низкий. Возможно для клиентов с 2 продуктами существуют определенные акции или промо, которые и влияют на низкий отток, который значительно ниже среди сегментов.\n",
    "\n",
    "3) Проблемы с пропусками или нулевым балансом. Самое большое количество пропусков находится в данном сегменте. Нужно привлекать клиентов к тому, чтобы он держал деньги на карте и не терял интереса к продукту.\n",
    "\n",
    "4) Активных клиентов, конечно, больше, но все-таки нужно повышать активность, поскольку 53% - не эталон.\n",
    "\n",
    "5) Нужно расширять представительство в Ростове и Рыбинске. Мы видим, что в сравнении с Ярослвлем, в этих городах клиентов первого сегмента не так много. Возможно проведение каких-либо акций.\n",
    "\n",
    "6) Привлекать нужно женщин к пользованием данным количеством продукции.\n",
    "\n",
    "7) Нужно увеличивать процент владельцев кредиток."
   ]
  },
  {
   "cell_type": "markdown",
   "metadata": {},
   "source": [
    "**Segment 3**\n",
    "\n",
    "**Описание:**\n",
    "\n",
    "1) Наиболее распространены в Ярославле. В других городах представлены также. \n",
    "\n",
    "2) Чуть больше женщин, чем мужчин.\n",
    "\n",
    "3) У 70%  клиентов есть кредитные карты.\n",
    "\n",
    "4) Больше неактивных клиентов - 58%.\n",
    "\n",
    "5) Отток крайне высокий - около 83%.\n",
    "\n",
    "6) Баллы кредитного скоринга в среднем на одного клиента составляют 650\n",
    "\n",
    "7) Клиенты в среднем в возарсте от 42 до 43 лет.\n",
    "\n",
    "8) В среднем 5 объектов в собственности находится - но в сравнении с другими кластерами - чуть меньше.\n",
    "\n",
    "9) Относительно немаленький баланс, но число клиентов с 0 тянет баланс на низкий уровень. Без учета пропусков баланс такой же, как и остальных.\n",
    "\n",
    "10) Заработная плата такая же, как и у остальных сегментов.\n",
    "\n",
    "\n",
    "**Рекомендация:**\n",
    "\n",
    "1) Если клиенты 1 и 2 сегмента довольно взрослые, то клиенты данного сегмента нуждаются в омоложении. Крайне невелик процент молодых клиентов - нужно их привлекать, создавать продукцию для более молодежного населения.\n",
    "\n",
    "2) Нужно распространить побольше продукции в Рыбинске. В остальных городах все равномерно.\n",
    "\n",
    "3) Ужасные проблемы с оттоком - 83% слишком велико. Лишь 17% клиентов остаются с банком. Так, банк теряет 83 клиента из 100, которые купили более 2 продуктов. Это очень странно. Безумный скачок от 2 сегмента к 3. Возможно у банка плохая поддержка продукции. Нужно с этим что-либо делать. \n",
    "\n",
    "4) Довольно много пропусков, которые тянут баланс на дно. Нужно сделать так, чтобы клиенты хранили деньги на картах.\n",
    "\n",
    "5) Нужно увеличивать процент владельцев кредиток.\n",
    "\n",
    "6) Нужно привлекать мужчин к большему количеству продуктов.\n",
    "\n",
    "7) Необходимо повышать активность пользователей."
   ]
  },
  {
   "cell_type": "markdown",
   "metadata": {},
   "source": [
    "**Segment 4**\n",
    "\n",
    "**Описание:**\n",
    "\n",
    "\n",
    "1) Наиболее распространены в Ярославле и Ростове Великом.\n",
    "\n",
    "2) Женщин значительно выше, чем мужчин.\n",
    "\n",
    "3) У 70%  клиентов есть кредитные карты.\n",
    "\n",
    "4) Чуть неактивных клиентов - 52%.\n",
    "\n",
    "5) Все пользователи уходят от банка.\n",
    "\n",
    "6) Баллы кредитного скоринга в среднем на одного клиента составляют 650\n",
    "\n",
    "7) Самые старые клиенты - 45 лет.\n",
    "\n",
    "8) В среднем 5 объектов в собственности находится.\n",
    "\n",
    "9) Самый высокий баланс, как с учетом, так и без учета пропусков.\n",
    "\n",
    "10) Самая высокая заработная плата.\n",
    "\n",
    "\n",
    "**Рекомендация:**\n",
    "\n",
    "1) Самые старые клиенты среди всех сегментов. Потому сегмент нуждается в срочном омолаживании.\n",
    "\n",
    "2) Нужно увеличивать процент кредитных карт\n",
    "\n",
    "3) Много неактивных пользователей, а потому нужно увеличивать активность.\n",
    "\n",
    "4) Необходимо увеличивать процент мужчин в пользовании продуктами, поскольку они реже пользуются более, чем 2 продуктами.\n",
    "\n",
    "5) Нужно распространить побольше продукции в Рыбинске. В остальных городах все равномерно.\n",
    "\n",
    "6) ВСЕ пользователи уходят. Это безумная статистика. Большее количество продуктов приносит больше прибыли только тогда, когда клиенты пользуются этими продуктами. В нашем банке это не так. Необходимо провести опросы и выяснить, почему клиенты уходят. После этого необходимо немедленно устранить существующие проблемы. Не может быть так, чтобы это была чистая случайность - тут закономерность, которая связана с каким-то сбоем в системе или некорректной работой сотрудников."
   ]
  },
  {
   "cell_type": "markdown",
   "metadata": {},
   "source": [
    "**В результате проведенного исследования мы можем сделать определенные рекомендации для банка:**\n",
    "\n",
    "**1)** Нужно распространять большее количество продуктов. Соотношение клиентов по количеству у них продуктов сильно различается в худшую сторону. Можно развивать “пакеты” продуктов, когда несколькими продуктами пользоваться удобнее, чем 1.\n",
    "\n",
    "**2)** Нужно разобраться с пропусками. Мы точно не можем сказать, как появились пропуски, но если это была ошибка системы, то нужно ее исправить. Если пропуски=0, то нужно сделать факт держания средств на счету более выгодным, поскольку, если клиенты не будут хранить деньги на счету, то у них может потеряться интерес к счету и банку.\n",
    "\n",
    "**3)** Нужно распространять продукты банка среди молодого населения. Мы видели, что средний возраст клиент для всех сегментов свыше 35 лет, а это граница “молодежного возраста”.\n",
    "\n",
    "**4)** Нужно распространять продукты банка в Рыбинске и Ростове Великом, поскольку в сравнении с распространением в Ярославле, в других городах их значительно мало. В большей степени это касается 1, 2 и особенно 4 сегментов. В 3 мы видим некоторую гармонию.\n",
    "\n",
    "**5)** Нужно распространять больше продукции среди мужчин – они в большей степени пользуются 1 и 2 продуктами.\n",
    "\n",
    "**6)** Нужно больше распространять кредитных карт – 70% для всех сегментов есть хороший результат, но можно его улучшить.\n",
    "\n",
    "**7)** Нужно работать над активность пользователей. Лишь среди клиентов с 2 продуктами активных клиентов больше. Во всех остальных случаев их либо равное число, либо неактивных больше. Нужно повышать активность различными акциями и т.д.\n",
    "\n",
    "**8)** Существует большая проблема с оттоком. Мы видим, что клиенты с 3 и 4 продуктами крайне сильно подвержены оттоку. Больше продуктов = больше прибыли для банка. А мы видим, что клиенты, которые могут принести больше прибыли банку, практически всегда уходят. Нужно их задерживать – предлагать акции, скидки и подарки. Возможно в системе банка существуют какие-то проблемы, приводящие к безумному оттоку. Если так, нужно их решить.\n"
   ]
  }
 ],
 "metadata": {
  "ExecuteTimeLog": [
   {
    "duration": 1315,
    "start_time": "2022-09-03T17:35:24.113Z"
   },
   {
    "duration": 2043,
    "start_time": "2022-09-03T17:37:11.366Z"
   },
   {
    "duration": 21,
    "start_time": "2022-09-03T17:40:15.934Z"
   },
   {
    "duration": 13,
    "start_time": "2022-09-03T17:40:26.269Z"
   },
   {
    "duration": 12,
    "start_time": "2022-09-03T18:06:45.518Z"
   },
   {
    "duration": 39,
    "start_time": "2022-09-03T18:09:25.811Z"
   },
   {
    "duration": 50,
    "start_time": "2022-09-03T19:07:17.846Z"
   },
   {
    "duration": 13,
    "start_time": "2022-09-03T19:15:06.142Z"
   },
   {
    "duration": 10,
    "start_time": "2022-09-03T19:24:43.447Z"
   },
   {
    "duration": 7,
    "start_time": "2022-09-03T19:35:32.649Z"
   },
   {
    "duration": 5,
    "start_time": "2022-09-03T19:46:23.044Z"
   },
   {
    "duration": 17,
    "start_time": "2022-09-03T19:46:29.322Z"
   },
   {
    "duration": 6,
    "start_time": "2022-09-03T19:47:49.524Z"
   },
   {
    "duration": 6,
    "start_time": "2022-09-03T19:48:03.657Z"
   },
   {
    "duration": 35,
    "start_time": "2022-09-03T19:51:12.724Z"
   },
   {
    "duration": 6,
    "start_time": "2022-09-03T19:54:50.705Z"
   },
   {
    "duration": 6,
    "start_time": "2022-09-03T19:56:27.579Z"
   },
   {
    "duration": 5,
    "start_time": "2022-09-03T19:56:41.007Z"
   },
   {
    "duration": 20,
    "start_time": "2022-09-03T20:40:19.270Z"
   },
   {
    "duration": 9,
    "start_time": "2022-09-03T20:40:49.182Z"
   },
   {
    "duration": 11,
    "start_time": "2022-09-03T20:40:59.364Z"
   },
   {
    "duration": 7,
    "start_time": "2022-09-03T20:45:09.033Z"
   },
   {
    "duration": 107,
    "start_time": "2022-09-03T20:45:44.826Z"
   },
   {
    "duration": 3,
    "start_time": "2022-09-03T20:47:39.501Z"
   },
   {
    "duration": 232,
    "start_time": "2022-09-03T20:48:20.504Z"
   },
   {
    "duration": 199,
    "start_time": "2022-09-03T20:48:27.662Z"
   },
   {
    "duration": 29,
    "start_time": "2022-09-03T20:50:19.011Z"
   },
   {
    "duration": 3,
    "start_time": "2022-09-03T20:50:55.896Z"
   },
   {
    "duration": 7,
    "start_time": "2022-09-03T20:51:03.105Z"
   },
   {
    "duration": 6,
    "start_time": "2022-09-03T20:51:14.387Z"
   },
   {
    "duration": 9,
    "start_time": "2022-09-03T20:53:24.314Z"
   },
   {
    "duration": 3,
    "start_time": "2022-09-03T20:54:41.881Z"
   },
   {
    "duration": 10,
    "start_time": "2022-09-03T20:54:49.351Z"
   },
   {
    "duration": 7,
    "start_time": "2022-09-03T20:57:47.991Z"
   },
   {
    "duration": 4,
    "start_time": "2022-09-03T20:58:10.794Z"
   },
   {
    "duration": 2201,
    "start_time": "2022-09-03T20:58:10.800Z"
   },
   {
    "duration": 15,
    "start_time": "2022-09-03T20:58:13.003Z"
   },
   {
    "duration": 12,
    "start_time": "2022-09-03T20:58:13.021Z"
   },
   {
    "duration": 53,
    "start_time": "2022-09-03T20:58:13.035Z"
   },
   {
    "duration": 12,
    "start_time": "2022-09-03T20:58:13.089Z"
   },
   {
    "duration": 13,
    "start_time": "2022-09-03T20:58:13.104Z"
   },
   {
    "duration": 11,
    "start_time": "2022-09-03T20:58:13.118Z"
   },
   {
    "duration": 62,
    "start_time": "2022-09-03T20:58:13.131Z"
   },
   {
    "duration": 6,
    "start_time": "2022-09-03T20:58:13.195Z"
   },
   {
    "duration": 15,
    "start_time": "2022-09-03T20:58:13.202Z"
   },
   {
    "duration": 14,
    "start_time": "2022-09-03T20:58:13.218Z"
   },
   {
    "duration": 5,
    "start_time": "2022-09-03T20:58:13.233Z"
   },
   {
    "duration": 20,
    "start_time": "2022-09-03T20:58:13.240Z"
   },
   {
    "duration": 27,
    "start_time": "2022-09-03T20:58:13.262Z"
   },
   {
    "duration": 13,
    "start_time": "2022-09-03T20:59:25.310Z"
   },
   {
    "duration": 49,
    "start_time": "2022-09-04T13:26:20.192Z"
   },
   {
    "duration": 1310,
    "start_time": "2022-09-04T13:26:24.410Z"
   },
   {
    "duration": 2203,
    "start_time": "2022-09-04T13:26:25.722Z"
   },
   {
    "duration": 14,
    "start_time": "2022-09-04T13:26:27.927Z"
   },
   {
    "duration": 16,
    "start_time": "2022-09-04T13:26:27.943Z"
   },
   {
    "duration": 39,
    "start_time": "2022-09-04T13:26:27.960Z"
   },
   {
    "duration": 9,
    "start_time": "2022-09-04T13:26:28.000Z"
   },
   {
    "duration": 11,
    "start_time": "2022-09-04T13:26:28.011Z"
   },
   {
    "duration": 6,
    "start_time": "2022-09-04T13:26:28.023Z"
   },
   {
    "duration": 39,
    "start_time": "2022-09-04T13:26:28.030Z"
   },
   {
    "duration": 5,
    "start_time": "2022-09-04T13:26:28.071Z"
   },
   {
    "duration": 22,
    "start_time": "2022-09-04T13:26:28.077Z"
   },
   {
    "duration": 9,
    "start_time": "2022-09-04T13:26:28.100Z"
   },
   {
    "duration": 3,
    "start_time": "2022-09-04T13:26:28.110Z"
   },
   {
    "duration": 10,
    "start_time": "2022-09-04T13:26:28.114Z"
   },
   {
    "duration": 12,
    "start_time": "2022-09-04T13:26:28.125Z"
   },
   {
    "duration": 5,
    "start_time": "2022-09-04T13:26:28.139Z"
   },
   {
    "duration": 10,
    "start_time": "2022-09-04T13:26:33.660Z"
   },
   {
    "duration": 6,
    "start_time": "2022-09-04T13:28:39.355Z"
   },
   {
    "duration": 12,
    "start_time": "2022-09-04T13:28:39.931Z"
   },
   {
    "duration": 66,
    "start_time": "2022-09-04T13:37:44.520Z"
   },
   {
    "duration": 3,
    "start_time": "2022-09-04T13:37:50.273Z"
   },
   {
    "duration": 3,
    "start_time": "2022-09-04T13:37:52.580Z"
   },
   {
    "duration": 4,
    "start_time": "2022-09-04T13:38:43.958Z"
   },
   {
    "duration": 2,
    "start_time": "2022-09-04T13:39:22.341Z"
   },
   {
    "duration": 44,
    "start_time": "2022-09-04T13:39:32.061Z"
   },
   {
    "duration": 83,
    "start_time": "2022-09-04T13:39:36.062Z"
   },
   {
    "duration": 3,
    "start_time": "2022-09-04T13:40:01.613Z"
   },
   {
    "duration": 9,
    "start_time": "2022-09-04T13:40:02.485Z"
   },
   {
    "duration": 4,
    "start_time": "2022-09-04T13:40:59.853Z"
   },
   {
    "duration": 758,
    "start_time": "2022-09-04T13:41:00.375Z"
   },
   {
    "duration": 87,
    "start_time": "2022-09-04T13:41:40.077Z"
   },
   {
    "duration": 783,
    "start_time": "2022-09-04T13:41:40.679Z"
   },
   {
    "duration": 43,
    "start_time": "2022-09-04T13:42:06.188Z"
   },
   {
    "duration": 716,
    "start_time": "2022-09-04T13:42:06.757Z"
   },
   {
    "duration": 3,
    "start_time": "2022-09-04T13:42:34.013Z"
   },
   {
    "duration": 711,
    "start_time": "2022-09-04T13:42:41.789Z"
   },
   {
    "duration": 46,
    "start_time": "2022-09-04T13:42:49.556Z"
   },
   {
    "duration": 782,
    "start_time": "2022-09-04T13:42:50.124Z"
   },
   {
    "duration": 62,
    "start_time": "2022-09-04T13:43:03.531Z"
   },
   {
    "duration": 799,
    "start_time": "2022-09-04T13:43:04.331Z"
   },
   {
    "duration": 4,
    "start_time": "2022-09-04T13:43:15.436Z"
   },
   {
    "duration": 715,
    "start_time": "2022-09-04T13:43:15.805Z"
   },
   {
    "duration": 2,
    "start_time": "2022-09-04T13:43:26.563Z"
   },
   {
    "duration": 4,
    "start_time": "2022-09-04T13:43:27.131Z"
   },
   {
    "duration": 1573,
    "start_time": "2022-09-04T13:43:27.819Z"
   },
   {
    "duration": 4,
    "start_time": "2022-09-04T13:44:48.862Z"
   },
   {
    "duration": 507,
    "start_time": "2022-09-04T13:44:49.355Z"
   },
   {
    "duration": 4,
    "start_time": "2022-09-04T13:46:01.962Z"
   },
   {
    "duration": 524,
    "start_time": "2022-09-04T13:46:02.386Z"
   },
   {
    "duration": 5,
    "start_time": "2022-09-04T13:46:44.626Z"
   },
   {
    "duration": 675,
    "start_time": "2022-09-04T13:46:44.986Z"
   },
   {
    "duration": 3,
    "start_time": "2022-09-04T13:47:24.105Z"
   },
   {
    "duration": 5,
    "start_time": "2022-09-04T13:47:24.602Z"
   },
   {
    "duration": 1254,
    "start_time": "2022-09-04T13:47:25.279Z"
   },
   {
    "duration": 3,
    "start_time": "2022-09-04T13:50:10.456Z"
   },
   {
    "duration": 4,
    "start_time": "2022-09-04T13:50:10.976Z"
   },
   {
    "duration": 1705,
    "start_time": "2022-09-04T13:50:11.809Z"
   },
   {
    "duration": 2,
    "start_time": "2022-09-04T13:51:06.920Z"
   },
   {
    "duration": 5,
    "start_time": "2022-09-04T13:51:46.727Z"
   },
   {
    "duration": 1533,
    "start_time": "2022-09-04T13:51:47.196Z"
   },
   {
    "duration": 5,
    "start_time": "2022-09-04T13:53:20.959Z"
   },
   {
    "duration": 121,
    "start_time": "2022-09-04T13:53:40.039Z"
   },
   {
    "duration": 195,
    "start_time": "2022-09-04T13:53:56.547Z"
   },
   {
    "duration": 142,
    "start_time": "2022-09-04T13:54:02.146Z"
   },
   {
    "duration": 118,
    "start_time": "2022-09-04T13:54:07.615Z"
   },
   {
    "duration": 7,
    "start_time": "2022-09-04T13:54:16.494Z"
   },
   {
    "duration": 162,
    "start_time": "2022-09-04T13:54:22.000Z"
   },
   {
    "duration": 151,
    "start_time": "2022-09-04T13:54:30.815Z"
   },
   {
    "duration": 112,
    "start_time": "2022-09-04T13:55:17.863Z"
   },
   {
    "duration": 182,
    "start_time": "2022-09-04T13:55:27.889Z"
   },
   {
    "duration": 15,
    "start_time": "2022-09-04T13:57:37.749Z"
   },
   {
    "duration": 3,
    "start_time": "2022-09-04T13:57:43.236Z"
   },
   {
    "duration": 454,
    "start_time": "2022-09-04T13:57:43.728Z"
   },
   {
    "duration": 619,
    "start_time": "2022-09-04T13:58:00.645Z"
   },
   {
    "duration": 148,
    "start_time": "2022-09-04T13:58:27.084Z"
   },
   {
    "duration": 163,
    "start_time": "2022-09-04T13:58:33.214Z"
   },
   {
    "duration": 162,
    "start_time": "2022-09-04T13:58:54.732Z"
   },
   {
    "duration": 159,
    "start_time": "2022-09-04T13:59:01.342Z"
   },
   {
    "duration": 708,
    "start_time": "2022-09-04T13:59:44.871Z"
   },
   {
    "duration": 13,
    "start_time": "2022-09-04T14:02:28.976Z"
   },
   {
    "duration": 3,
    "start_time": "2022-09-04T14:03:30.866Z"
   },
   {
    "duration": 7,
    "start_time": "2022-09-04T14:05:00.491Z"
   },
   {
    "duration": 33,
    "start_time": "2022-09-04T14:05:15.582Z"
   },
   {
    "duration": 10,
    "start_time": "2022-09-04T14:05:49.709Z"
   },
   {
    "duration": 39,
    "start_time": "2022-09-04T14:05:50.588Z"
   },
   {
    "duration": 6,
    "start_time": "2022-09-04T14:06:07.213Z"
   },
   {
    "duration": 879,
    "start_time": "2022-09-04T14:06:07.687Z"
   },
   {
    "duration": 2,
    "start_time": "2022-09-04T14:09:49.448Z"
   },
   {
    "duration": 15,
    "start_time": "2022-09-04T14:09:49.977Z"
   },
   {
    "duration": 6,
    "start_time": "2022-09-04T14:09:50.705Z"
   },
   {
    "duration": 1314,
    "start_time": "2022-09-04T14:09:51.840Z"
   },
   {
    "duration": 1268,
    "start_time": "2022-09-04T14:10:10.876Z"
   },
   {
    "duration": 1496,
    "start_time": "2022-09-04T14:10:20.376Z"
   },
   {
    "duration": 3,
    "start_time": "2022-09-04T14:10:35.176Z"
   },
   {
    "duration": 13,
    "start_time": "2022-09-04T14:10:35.671Z"
   },
   {
    "duration": 6,
    "start_time": "2022-09-04T14:10:39.871Z"
   },
   {
    "duration": 927,
    "start_time": "2022-09-04T14:10:57.330Z"
   },
   {
    "duration": 13,
    "start_time": "2022-09-04T14:11:37.773Z"
   },
   {
    "duration": 3,
    "start_time": "2022-09-04T14:11:54.354Z"
   },
   {
    "duration": 8,
    "start_time": "2022-09-04T14:12:00.599Z"
   },
   {
    "duration": 247,
    "start_time": "2022-09-04T14:12:02.976Z"
   },
   {
    "duration": 3,
    "start_time": "2022-09-04T14:12:15.462Z"
   },
   {
    "duration": 1291,
    "start_time": "2022-09-04T14:12:22.517Z"
   },
   {
    "duration": 6,
    "start_time": "2022-09-04T14:14:20.908Z"
   },
   {
    "duration": 6,
    "start_time": "2022-09-04T14:14:33.564Z"
   },
   {
    "duration": 6,
    "start_time": "2022-09-04T14:15:26.357Z"
   },
   {
    "duration": 6,
    "start_time": "2022-09-04T14:15:26.901Z"
   },
   {
    "duration": 12,
    "start_time": "2022-09-04T14:16:14.796Z"
   },
   {
    "duration": 1735,
    "start_time": "2022-09-04T14:16:19.376Z"
   },
   {
    "duration": 2,
    "start_time": "2022-09-04T14:16:35.276Z"
   },
   {
    "duration": 14,
    "start_time": "2022-09-04T14:18:34.026Z"
   },
   {
    "duration": 5,
    "start_time": "2022-09-04T14:21:19.482Z"
   },
   {
    "duration": 436,
    "start_time": "2022-09-04T14:21:20.249Z"
   },
   {
    "duration": 3,
    "start_time": "2022-09-04T14:22:00.537Z"
   },
   {
    "duration": 10,
    "start_time": "2022-09-04T14:22:00.898Z"
   },
   {
    "duration": 18,
    "start_time": "2022-09-04T14:22:01.677Z"
   },
   {
    "duration": 7,
    "start_time": "2022-09-04T14:22:10.225Z"
   },
   {
    "duration": 1948,
    "start_time": "2022-09-04T14:22:11.137Z"
   },
   {
    "duration": 4,
    "start_time": "2022-09-04T14:22:53.034Z"
   },
   {
    "duration": 1918,
    "start_time": "2022-09-04T14:22:53.476Z"
   },
   {
    "duration": 3,
    "start_time": "2022-09-04T14:23:33.087Z"
   },
   {
    "duration": 5,
    "start_time": "2022-09-04T14:23:33.714Z"
   },
   {
    "duration": 21,
    "start_time": "2022-09-04T14:23:34.634Z"
   },
   {
    "duration": 5,
    "start_time": "2022-09-04T14:24:25.413Z"
   },
   {
    "duration": 981,
    "start_time": "2022-09-04T14:24:26.144Z"
   },
   {
    "duration": 6,
    "start_time": "2022-09-04T14:24:35.696Z"
   },
   {
    "duration": 1604,
    "start_time": "2022-09-04T14:24:36.218Z"
   },
   {
    "duration": 5,
    "start_time": "2022-09-04T14:24:50.716Z"
   },
   {
    "duration": 1530,
    "start_time": "2022-09-04T14:24:51.265Z"
   },
   {
    "duration": 5,
    "start_time": "2022-09-04T14:25:43.663Z"
   },
   {
    "duration": 1697,
    "start_time": "2022-09-04T14:25:44.392Z"
   },
   {
    "duration": 6,
    "start_time": "2022-09-04T14:26:20.576Z"
   },
   {
    "duration": 1539,
    "start_time": "2022-09-04T14:26:21.716Z"
   },
   {
    "duration": 6,
    "start_time": "2022-09-04T14:28:21.919Z"
   },
   {
    "duration": 1599,
    "start_time": "2022-09-04T14:28:22.490Z"
   },
   {
    "duration": 2,
    "start_time": "2022-09-04T14:29:21.022Z"
   },
   {
    "duration": 6,
    "start_time": "2022-09-04T14:29:21.639Z"
   },
   {
    "duration": 1470,
    "start_time": "2022-09-04T14:29:22.688Z"
   },
   {
    "duration": 89,
    "start_time": "2022-09-04T14:29:30.558Z"
   },
   {
    "duration": 1197,
    "start_time": "2022-09-04T14:29:31.275Z"
   },
   {
    "duration": 14,
    "start_time": "2022-09-04T14:30:23.037Z"
   },
   {
    "duration": 14,
    "start_time": "2022-09-04T14:30:28.621Z"
   },
   {
    "duration": 2,
    "start_time": "2022-09-04T14:30:29.086Z"
   },
   {
    "duration": 5,
    "start_time": "2022-09-04T14:30:29.398Z"
   },
   {
    "duration": 1593,
    "start_time": "2022-09-04T14:30:29.757Z"
   },
   {
    "duration": 6,
    "start_time": "2022-09-04T14:30:31.352Z"
   },
   {
    "duration": 1272,
    "start_time": "2022-09-04T14:30:31.359Z"
   },
   {
    "duration": 1060,
    "start_time": "2022-09-04T14:40:10.072Z"
   },
   {
    "duration": 15,
    "start_time": "2022-09-04T14:58:25.729Z"
   },
   {
    "duration": 14,
    "start_time": "2022-09-04T14:58:37.888Z"
   },
   {
    "duration": 12,
    "start_time": "2022-09-04T14:58:44.945Z"
   },
   {
    "duration": 10,
    "start_time": "2022-09-04T14:59:30.496Z"
   },
   {
    "duration": 7,
    "start_time": "2022-09-04T15:00:53.993Z"
   },
   {
    "duration": 7,
    "start_time": "2022-09-04T15:00:56.291Z"
   },
   {
    "duration": 1345,
    "start_time": "2022-09-04T15:00:56.953Z"
   },
   {
    "duration": 100,
    "start_time": "2022-09-04T17:10:27.490Z"
   },
   {
    "duration": 43,
    "start_time": "2022-09-04T17:14:11.801Z"
   },
   {
    "duration": 1481,
    "start_time": "2022-09-04T17:14:18.139Z"
   },
   {
    "duration": 3,
    "start_time": "2022-09-04T17:14:19.622Z"
   },
   {
    "duration": 1891,
    "start_time": "2022-09-04T17:14:19.627Z"
   },
   {
    "duration": 22,
    "start_time": "2022-09-04T17:14:21.521Z"
   },
   {
    "duration": 35,
    "start_time": "2022-09-04T17:14:21.546Z"
   },
   {
    "duration": 62,
    "start_time": "2022-09-04T17:14:21.586Z"
   },
   {
    "duration": 13,
    "start_time": "2022-09-04T17:14:21.650Z"
   },
   {
    "duration": 41,
    "start_time": "2022-09-04T17:14:21.665Z"
   },
   {
    "duration": 8,
    "start_time": "2022-09-04T17:14:21.709Z"
   },
   {
    "duration": 61,
    "start_time": "2022-09-04T17:14:21.720Z"
   },
   {
    "duration": 8,
    "start_time": "2022-09-04T17:14:21.783Z"
   },
   {
    "duration": 13,
    "start_time": "2022-09-04T17:14:21.792Z"
   },
   {
    "duration": 23,
    "start_time": "2022-09-04T17:14:21.807Z"
   },
   {
    "duration": 3,
    "start_time": "2022-09-04T17:14:21.832Z"
   },
   {
    "duration": 15,
    "start_time": "2022-09-04T17:14:21.837Z"
   },
   {
    "duration": 41,
    "start_time": "2022-09-04T17:14:21.854Z"
   },
   {
    "duration": 5,
    "start_time": "2022-09-04T17:14:21.897Z"
   },
   {
    "duration": 15,
    "start_time": "2022-09-04T17:14:21.903Z"
   },
   {
    "duration": 11,
    "start_time": "2022-09-04T17:14:21.919Z"
   },
   {
    "duration": 2195,
    "start_time": "2022-09-04T17:14:21.931Z"
   },
   {
    "duration": 8,
    "start_time": "2022-09-04T17:14:24.128Z"
   },
   {
    "duration": 1572,
    "start_time": "2022-09-04T17:14:24.137Z"
   },
   {
    "duration": 1468,
    "start_time": "2022-09-04T17:14:25.711Z"
   },
   {
    "duration": 67,
    "start_time": "2022-09-04T18:30:17.580Z"
   },
   {
    "duration": 13,
    "start_time": "2022-09-04T18:30:37.818Z"
   },
   {
    "duration": 411,
    "start_time": "2022-09-04T18:32:01.850Z"
   },
   {
    "duration": 13,
    "start_time": "2022-09-04T18:33:20.129Z"
   },
   {
    "duration": 467,
    "start_time": "2022-09-04T18:33:28.193Z"
   },
   {
    "duration": 13,
    "start_time": "2022-09-04T18:35:44.345Z"
   },
   {
    "duration": 424,
    "start_time": "2022-09-04T18:36:01.386Z"
   },
   {
    "duration": 470,
    "start_time": "2022-09-04T18:36:16.514Z"
   },
   {
    "duration": 13,
    "start_time": "2022-09-04T18:36:22.882Z"
   },
   {
    "duration": 490,
    "start_time": "2022-09-04T18:39:44.935Z"
   },
   {
    "duration": 8,
    "start_time": "2022-09-04T19:46:58.751Z"
   },
   {
    "duration": 11,
    "start_time": "2022-09-04T19:47:15.593Z"
   },
   {
    "duration": 5,
    "start_time": "2022-09-04T19:48:02.340Z"
   },
   {
    "duration": 5,
    "start_time": "2022-09-04T19:50:29.160Z"
   },
   {
    "duration": 6,
    "start_time": "2022-09-04T19:50:38.233Z"
   },
   {
    "duration": 7,
    "start_time": "2022-09-04T19:50:42.779Z"
   },
   {
    "duration": 6,
    "start_time": "2022-09-04T20:37:11.946Z"
   },
   {
    "duration": 7,
    "start_time": "2022-09-04T20:37:38.606Z"
   },
   {
    "duration": 5,
    "start_time": "2022-09-04T20:37:55.325Z"
   },
   {
    "duration": 6,
    "start_time": "2022-09-04T20:40:15.995Z"
   },
   {
    "duration": 5,
    "start_time": "2022-09-04T20:40:16.437Z"
   },
   {
    "duration": 6,
    "start_time": "2022-09-04T20:40:24.147Z"
   },
   {
    "duration": 4,
    "start_time": "2022-09-04T20:40:32.839Z"
   },
   {
    "duration": 5,
    "start_time": "2022-09-04T20:40:33.339Z"
   },
   {
    "duration": 5,
    "start_time": "2022-09-04T20:41:00.858Z"
   },
   {
    "duration": 6,
    "start_time": "2022-09-04T20:41:01.100Z"
   },
   {
    "duration": 5,
    "start_time": "2022-09-04T20:41:06.419Z"
   },
   {
    "duration": 5,
    "start_time": "2022-09-04T20:41:06.859Z"
   },
   {
    "duration": 49,
    "start_time": "2022-09-05T11:08:28.953Z"
   },
   {
    "duration": 1297,
    "start_time": "2022-09-05T11:08:33.459Z"
   },
   {
    "duration": 3,
    "start_time": "2022-09-05T11:08:34.758Z"
   },
   {
    "duration": 1960,
    "start_time": "2022-09-05T11:08:34.763Z"
   },
   {
    "duration": 16,
    "start_time": "2022-09-05T11:08:36.728Z"
   },
   {
    "duration": 20,
    "start_time": "2022-09-05T11:08:36.745Z"
   },
   {
    "duration": 77,
    "start_time": "2022-09-05T11:08:36.767Z"
   },
   {
    "duration": 15,
    "start_time": "2022-09-05T11:08:36.846Z"
   },
   {
    "duration": 26,
    "start_time": "2022-09-05T11:08:36.862Z"
   },
   {
    "duration": 14,
    "start_time": "2022-09-05T11:08:36.890Z"
   },
   {
    "duration": 46,
    "start_time": "2022-09-05T11:08:36.909Z"
   },
   {
    "duration": 5,
    "start_time": "2022-09-05T11:08:36.956Z"
   },
   {
    "duration": 17,
    "start_time": "2022-09-05T11:08:36.963Z"
   },
   {
    "duration": 27,
    "start_time": "2022-09-05T11:08:36.981Z"
   },
   {
    "duration": 15,
    "start_time": "2022-09-05T11:08:37.010Z"
   },
   {
    "duration": 12,
    "start_time": "2022-09-05T11:08:37.026Z"
   },
   {
    "duration": 15,
    "start_time": "2022-09-05T11:08:37.039Z"
   },
   {
    "duration": 5,
    "start_time": "2022-09-05T11:08:37.055Z"
   },
   {
    "duration": 18,
    "start_time": "2022-09-05T11:08:37.061Z"
   },
   {
    "duration": 83,
    "start_time": "2022-09-05T11:09:16.556Z"
   },
   {
    "duration": 14,
    "start_time": "2022-09-05T11:09:22.919Z"
   },
   {
    "duration": 173,
    "start_time": "2022-09-05T11:09:32.923Z"
   },
   {
    "duration": 158,
    "start_time": "2022-09-05T11:10:13.796Z"
   },
   {
    "duration": 973,
    "start_time": "2022-09-05T11:21:05.987Z"
   },
   {
    "duration": 860,
    "start_time": "2022-09-05T11:21:23.016Z"
   },
   {
    "duration": 1011,
    "start_time": "2022-09-05T11:22:35.519Z"
   },
   {
    "duration": 973,
    "start_time": "2022-09-05T11:23:09.111Z"
   },
   {
    "duration": 5,
    "start_time": "2022-09-05T11:26:17.987Z"
   },
   {
    "duration": 19,
    "start_time": "2022-09-05T11:27:08.403Z"
   },
   {
    "duration": 175,
    "start_time": "2022-09-05T15:04:54.147Z"
   },
   {
    "duration": 1189,
    "start_time": "2022-09-05T15:06:35.477Z"
   },
   {
    "duration": 2,
    "start_time": "2022-09-05T15:06:36.668Z"
   },
   {
    "duration": 2082,
    "start_time": "2022-09-05T15:06:36.671Z"
   },
   {
    "duration": 14,
    "start_time": "2022-09-05T15:06:38.755Z"
   },
   {
    "duration": 13,
    "start_time": "2022-09-05T15:06:38.770Z"
   },
   {
    "duration": 33,
    "start_time": "2022-09-05T15:06:38.785Z"
   },
   {
    "duration": 11,
    "start_time": "2022-09-05T15:06:38.819Z"
   },
   {
    "duration": 13,
    "start_time": "2022-09-05T15:06:38.831Z"
   },
   {
    "duration": 6,
    "start_time": "2022-09-05T15:06:38.845Z"
   },
   {
    "duration": 53,
    "start_time": "2022-09-05T15:06:38.853Z"
   },
   {
    "duration": 5,
    "start_time": "2022-09-05T15:06:38.908Z"
   },
   {
    "duration": 11,
    "start_time": "2022-09-05T15:06:38.914Z"
   },
   {
    "duration": 6,
    "start_time": "2022-09-05T15:06:38.927Z"
   },
   {
    "duration": 8,
    "start_time": "2022-09-05T15:06:38.934Z"
   },
   {
    "duration": 11,
    "start_time": "2022-09-05T15:06:38.944Z"
   },
   {
    "duration": 3,
    "start_time": "2022-09-05T15:06:38.957Z"
   },
   {
    "duration": 17,
    "start_time": "2022-09-05T15:06:38.962Z"
   },
   {
    "duration": 34,
    "start_time": "2022-09-05T15:06:38.980Z"
   },
   {
    "duration": 5,
    "start_time": "2022-09-05T15:06:39.016Z"
   },
   {
    "duration": 217,
    "start_time": "2022-09-05T15:06:39.023Z"
   },
   {
    "duration": 3,
    "start_time": "2022-09-05T15:06:39.242Z"
   },
   {
    "duration": 8,
    "start_time": "2022-09-05T15:06:39.247Z"
   },
   {
    "duration": 1848,
    "start_time": "2022-09-05T15:06:39.256Z"
   },
   {
    "duration": 422,
    "start_time": "2022-09-05T15:06:41.106Z"
   },
   {
    "duration": 7,
    "start_time": "2022-09-05T15:06:41.530Z"
   },
   {
    "duration": 1345,
    "start_time": "2022-09-05T15:06:41.539Z"
   },
   {
    "duration": 995,
    "start_time": "2022-09-05T15:06:42.886Z"
   },
   {
    "duration": 8,
    "start_time": "2022-09-05T15:06:43.884Z"
   },
   {
    "duration": 6,
    "start_time": "2022-09-05T15:06:43.905Z"
   },
   {
    "duration": 7,
    "start_time": "2022-09-05T15:06:43.912Z"
   },
   {
    "duration": 6,
    "start_time": "2022-09-05T15:06:43.921Z"
   },
   {
    "duration": 172,
    "start_time": "2022-09-06T07:06:29.392Z"
   },
   {
    "duration": 1422,
    "start_time": "2022-09-06T07:06:42.774Z"
   },
   {
    "duration": 4,
    "start_time": "2022-09-06T07:06:44.199Z"
   },
   {
    "duration": 1889,
    "start_time": "2022-09-06T07:06:44.206Z"
   },
   {
    "duration": 16,
    "start_time": "2022-09-06T07:06:47.127Z"
   },
   {
    "duration": 17,
    "start_time": "2022-09-06T07:06:48.091Z"
   },
   {
    "duration": 4,
    "start_time": "2022-09-06T07:10:06.771Z"
   },
   {
    "duration": 105,
    "start_time": "2022-09-06T07:11:41.632Z"
   },
   {
    "duration": 1308,
    "start_time": "2022-09-06T15:00:29.564Z"
   },
   {
    "duration": 3,
    "start_time": "2022-09-06T15:00:30.874Z"
   },
   {
    "duration": 2288,
    "start_time": "2022-09-06T15:00:30.878Z"
   },
   {
    "duration": 14,
    "start_time": "2022-09-06T15:00:33.168Z"
   },
   {
    "duration": 12,
    "start_time": "2022-09-06T15:00:33.184Z"
   },
   {
    "duration": 39,
    "start_time": "2022-09-06T15:00:33.197Z"
   },
   {
    "duration": 11,
    "start_time": "2022-09-06T15:00:33.237Z"
   },
   {
    "duration": 13,
    "start_time": "2022-09-06T15:00:33.249Z"
   },
   {
    "duration": 6,
    "start_time": "2022-09-06T15:00:33.263Z"
   },
   {
    "duration": 37,
    "start_time": "2022-09-06T15:00:33.270Z"
   },
   {
    "duration": 23,
    "start_time": "2022-09-06T15:00:35.618Z"
   },
   {
    "duration": 5,
    "start_time": "2022-09-06T15:00:43.555Z"
   },
   {
    "duration": 6,
    "start_time": "2022-09-06T15:06:37.210Z"
   },
   {
    "duration": 97,
    "start_time": "2022-09-06T15:06:51.193Z"
   },
   {
    "duration": 4,
    "start_time": "2022-09-06T15:06:57.841Z"
   },
   {
    "duration": 8,
    "start_time": "2022-09-06T15:06:57.846Z"
   },
   {
    "duration": 1938,
    "start_time": "2022-09-06T15:06:57.855Z"
   },
   {
    "duration": 11,
    "start_time": "2022-09-06T15:06:59.795Z"
   },
   {
    "duration": 12,
    "start_time": "2022-09-06T15:06:59.808Z"
   },
   {
    "duration": 33,
    "start_time": "2022-09-06T15:06:59.821Z"
   },
   {
    "duration": 11,
    "start_time": "2022-09-06T15:06:59.856Z"
   },
   {
    "duration": 18,
    "start_time": "2022-09-06T15:06:59.869Z"
   },
   {
    "duration": 9,
    "start_time": "2022-09-06T15:06:59.890Z"
   },
   {
    "duration": 65,
    "start_time": "2022-09-06T15:06:59.901Z"
   },
   {
    "duration": 5,
    "start_time": "2022-09-06T15:06:59.968Z"
   },
   {
    "duration": 9,
    "start_time": "2022-09-06T15:06:59.975Z"
   },
   {
    "duration": 10,
    "start_time": "2022-09-06T15:06:59.985Z"
   },
   {
    "duration": 11,
    "start_time": "2022-09-06T15:06:59.997Z"
   },
   {
    "duration": 16,
    "start_time": "2022-09-06T15:07:00.010Z"
   },
   {
    "duration": 11,
    "start_time": "2022-09-06T15:07:00.028Z"
   },
   {
    "duration": 12,
    "start_time": "2022-09-06T15:07:00.040Z"
   },
   {
    "duration": 18,
    "start_time": "2022-09-06T15:07:00.054Z"
   },
   {
    "duration": 6,
    "start_time": "2022-09-06T15:07:00.073Z"
   },
   {
    "duration": 183,
    "start_time": "2022-09-06T15:07:00.080Z"
   },
   {
    "duration": 3,
    "start_time": "2022-09-06T15:07:00.265Z"
   },
   {
    "duration": 10,
    "start_time": "2022-09-06T15:07:00.270Z"
   },
   {
    "duration": 1732,
    "start_time": "2022-09-06T15:07:00.281Z"
   },
   {
    "duration": 398,
    "start_time": "2022-09-06T15:07:02.016Z"
   },
   {
    "duration": 6,
    "start_time": "2022-09-06T15:07:02.415Z"
   },
   {
    "duration": 1083,
    "start_time": "2022-09-06T15:07:02.423Z"
   },
   {
    "duration": 93,
    "start_time": "2022-09-06T15:10:27.117Z"
   },
   {
    "duration": 3250,
    "start_time": "2022-09-06T15:10:27.672Z"
   },
   {
    "duration": 6,
    "start_time": "2022-09-06T15:14:07.515Z"
   },
   {
    "duration": 1552,
    "start_time": "2022-09-06T15:14:08.020Z"
   },
   {
    "duration": 5,
    "start_time": "2022-09-06T15:14:26.692Z"
   },
   {
    "duration": 1364,
    "start_time": "2022-09-06T15:14:27.399Z"
   },
   {
    "duration": 6,
    "start_time": "2022-09-06T15:15:07.420Z"
   },
   {
    "duration": 3708,
    "start_time": "2022-09-06T15:15:08.189Z"
   },
   {
    "duration": 74,
    "start_time": "2022-09-06T15:17:39.537Z"
   },
   {
    "duration": 5,
    "start_time": "2022-09-06T15:19:35.282Z"
   },
   {
    "duration": 6,
    "start_time": "2022-09-06T15:19:49.337Z"
   },
   {
    "duration": 5,
    "start_time": "2022-09-06T15:20:58.608Z"
   },
   {
    "duration": 5,
    "start_time": "2022-09-06T15:20:59.456Z"
   },
   {
    "duration": 5,
    "start_time": "2022-09-06T15:21:39.480Z"
   },
   {
    "duration": 5,
    "start_time": "2022-09-06T15:21:40.361Z"
   },
   {
    "duration": 5,
    "start_time": "2022-09-06T15:22:35.447Z"
   },
   {
    "duration": 6,
    "start_time": "2022-09-06T15:22:49.639Z"
   },
   {
    "duration": 6,
    "start_time": "2022-09-06T15:22:49.995Z"
   },
   {
    "duration": 5,
    "start_time": "2022-09-06T15:23:36.609Z"
   },
   {
    "duration": 6,
    "start_time": "2022-09-06T15:23:37.255Z"
   },
   {
    "duration": 4,
    "start_time": "2022-09-06T15:24:12.727Z"
   },
   {
    "duration": 5,
    "start_time": "2022-09-06T15:24:13.187Z"
   },
   {
    "duration": 14,
    "start_time": "2022-09-06T15:44:48.934Z"
   },
   {
    "duration": 46,
    "start_time": "2022-09-06T15:45:06.045Z"
   },
   {
    "duration": 9,
    "start_time": "2022-09-06T15:47:49.196Z"
   },
   {
    "duration": 9,
    "start_time": "2022-09-06T15:48:09.959Z"
   },
   {
    "duration": 61,
    "start_time": "2022-09-06T15:48:36.538Z"
   },
   {
    "duration": 47,
    "start_time": "2022-09-06T15:48:41.556Z"
   },
   {
    "duration": 2481,
    "start_time": "2022-09-06T15:48:46.195Z"
   },
   {
    "duration": 39,
    "start_time": "2022-09-06T15:48:57.332Z"
   },
   {
    "duration": 441,
    "start_time": "2022-09-06T15:50:20.613Z"
   },
   {
    "duration": 20,
    "start_time": "2022-09-06T15:50:30.778Z"
   },
   {
    "duration": 17,
    "start_time": "2022-09-06T15:50:56.082Z"
   },
   {
    "duration": 954,
    "start_time": "2022-09-06T15:51:55.362Z"
   },
   {
    "duration": 1033,
    "start_time": "2022-09-06T15:52:07.213Z"
   },
   {
    "duration": 1628,
    "start_time": "2022-09-06T15:53:06.121Z"
   },
   {
    "duration": 1475,
    "start_time": "2022-09-06T15:58:29.614Z"
   },
   {
    "duration": 394,
    "start_time": "2022-09-06T16:35:15.494Z"
   },
   {
    "duration": 3,
    "start_time": "2022-09-06T16:35:25.990Z"
   },
   {
    "duration": 18,
    "start_time": "2022-09-06T16:36:17.294Z"
   },
   {
    "duration": 16,
    "start_time": "2022-09-06T16:36:32.231Z"
   },
   {
    "duration": 15,
    "start_time": "2022-09-06T16:36:39.417Z"
   },
   {
    "duration": 192,
    "start_time": "2022-09-06T16:36:46.599Z"
   },
   {
    "duration": 63,
    "start_time": "2022-09-06T16:36:53.439Z"
   },
   {
    "duration": 62,
    "start_time": "2022-09-06T16:37:03.238Z"
   },
   {
    "duration": 3,
    "start_time": "2022-09-06T16:37:10.729Z"
   },
   {
    "duration": 19,
    "start_time": "2022-09-06T16:37:10.734Z"
   },
   {
    "duration": 1777,
    "start_time": "2022-09-06T16:37:10.755Z"
   },
   {
    "duration": 14,
    "start_time": "2022-09-06T16:37:12.533Z"
   },
   {
    "duration": 22,
    "start_time": "2022-09-06T16:37:12.549Z"
   },
   {
    "duration": 40,
    "start_time": "2022-09-06T16:37:12.573Z"
   },
   {
    "duration": 12,
    "start_time": "2022-09-06T16:37:12.614Z"
   },
   {
    "duration": 14,
    "start_time": "2022-09-06T16:37:12.639Z"
   },
   {
    "duration": 10,
    "start_time": "2022-09-06T16:37:12.655Z"
   },
   {
    "duration": 44,
    "start_time": "2022-09-06T16:37:12.666Z"
   },
   {
    "duration": 5,
    "start_time": "2022-09-06T16:37:12.712Z"
   },
   {
    "duration": 20,
    "start_time": "2022-09-06T16:37:12.719Z"
   },
   {
    "duration": 9,
    "start_time": "2022-09-06T16:37:12.740Z"
   },
   {
    "duration": 15,
    "start_time": "2022-09-06T16:37:12.757Z"
   },
   {
    "duration": 13,
    "start_time": "2022-09-06T16:37:12.773Z"
   },
   {
    "duration": 7,
    "start_time": "2022-09-06T16:37:12.788Z"
   },
   {
    "duration": 12,
    "start_time": "2022-09-06T16:37:12.796Z"
   },
   {
    "duration": 14,
    "start_time": "2022-09-06T16:37:12.809Z"
   },
   {
    "duration": 8,
    "start_time": "2022-09-06T16:37:12.824Z"
   },
   {
    "duration": 21,
    "start_time": "2022-09-06T16:37:12.833Z"
   },
   {
    "duration": 7,
    "start_time": "2022-09-06T16:37:12.855Z"
   },
   {
    "duration": 7,
    "start_time": "2022-09-06T16:37:12.863Z"
   },
   {
    "duration": 10,
    "start_time": "2022-09-06T16:37:12.872Z"
   },
   {
    "duration": 10,
    "start_time": "2022-09-06T16:37:12.884Z"
   },
   {
    "duration": 15,
    "start_time": "2022-09-06T16:37:12.895Z"
   },
   {
    "duration": 20,
    "start_time": "2022-09-06T16:37:12.912Z"
   },
   {
    "duration": 29,
    "start_time": "2022-09-06T16:37:12.934Z"
   },
   {
    "duration": 15,
    "start_time": "2022-09-06T16:37:12.964Z"
   },
   {
    "duration": 4,
    "start_time": "2022-09-06T16:37:12.982Z"
   },
   {
    "duration": 158,
    "start_time": "2022-09-06T16:37:12.987Z"
   },
   {
    "duration": 4,
    "start_time": "2022-09-06T16:37:13.146Z"
   },
   {
    "duration": 9,
    "start_time": "2022-09-06T16:37:13.152Z"
   },
   {
    "duration": 1801,
    "start_time": "2022-09-06T16:37:13.163Z"
   },
   {
    "duration": 394,
    "start_time": "2022-09-06T16:37:14.966Z"
   },
   {
    "duration": 7,
    "start_time": "2022-09-06T16:37:15.361Z"
   },
   {
    "duration": 1308,
    "start_time": "2022-09-06T16:37:15.370Z"
   },
   {
    "duration": 983,
    "start_time": "2022-09-06T16:37:16.680Z"
   },
   {
    "duration": 2,
    "start_time": "2022-09-06T16:37:17.665Z"
   },
   {
    "duration": 2216,
    "start_time": "2022-09-06T16:37:17.668Z"
   },
   {
    "duration": 443,
    "start_time": "2022-09-06T16:37:19.886Z"
   },
   {
    "duration": 29,
    "start_time": "2022-09-06T16:37:20.331Z"
   },
   {
    "duration": 1698,
    "start_time": "2022-09-06T16:37:20.361Z"
   },
   {
    "duration": 1634,
    "start_time": "2022-09-06T16:37:22.367Z"
   },
   {
    "duration": 3,
    "start_time": "2022-09-06T16:37:24.003Z"
   },
   {
    "duration": 189,
    "start_time": "2022-09-06T16:37:24.376Z"
   },
   {
    "duration": 8,
    "start_time": "2022-09-06T16:37:28.446Z"
   },
   {
    "duration": 15,
    "start_time": "2022-09-06T16:37:45.485Z"
   },
   {
    "duration": 281,
    "start_time": "2022-09-06T16:37:51.013Z"
   },
   {
    "duration": 470,
    "start_time": "2022-09-06T16:38:49.014Z"
   },
   {
    "duration": 14,
    "start_time": "2022-09-06T16:39:47.214Z"
   },
   {
    "duration": 1598,
    "start_time": "2022-09-06T16:40:25.341Z"
   },
   {
    "duration": 16,
    "start_time": "2022-09-06T16:41:06.324Z"
   },
   {
    "duration": 15,
    "start_time": "2022-09-06T16:41:16.452Z"
   },
   {
    "duration": 5,
    "start_time": "2022-09-06T16:42:19.597Z"
   },
   {
    "duration": 5,
    "start_time": "2022-09-06T16:42:42.924Z"
   },
   {
    "duration": 24,
    "start_time": "2022-09-06T16:42:43.627Z"
   },
   {
    "duration": 9,
    "start_time": "2022-09-06T16:44:21.299Z"
   },
   {
    "duration": 14,
    "start_time": "2022-09-06T16:44:22.115Z"
   },
   {
    "duration": 4,
    "start_time": "2022-09-06T16:44:38.608Z"
   },
   {
    "duration": 19,
    "start_time": "2022-09-06T16:44:38.614Z"
   },
   {
    "duration": 2058,
    "start_time": "2022-09-06T16:44:38.634Z"
   },
   {
    "duration": 11,
    "start_time": "2022-09-06T16:44:40.693Z"
   },
   {
    "duration": 14,
    "start_time": "2022-09-06T16:44:40.706Z"
   },
   {
    "duration": 37,
    "start_time": "2022-09-06T16:44:40.721Z"
   },
   {
    "duration": 11,
    "start_time": "2022-09-06T16:44:40.760Z"
   },
   {
    "duration": 16,
    "start_time": "2022-09-06T16:44:40.772Z"
   },
   {
    "duration": 6,
    "start_time": "2022-09-06T16:44:40.789Z"
   },
   {
    "duration": 54,
    "start_time": "2022-09-06T16:44:40.797Z"
   },
   {
    "duration": 6,
    "start_time": "2022-09-06T16:44:40.853Z"
   },
   {
    "duration": 13,
    "start_time": "2022-09-06T16:44:40.860Z"
   },
   {
    "duration": 7,
    "start_time": "2022-09-06T16:44:40.875Z"
   },
   {
    "duration": 7,
    "start_time": "2022-09-06T16:44:40.883Z"
   },
   {
    "duration": 8,
    "start_time": "2022-09-06T16:44:40.892Z"
   },
   {
    "duration": 11,
    "start_time": "2022-09-06T16:44:40.901Z"
   },
   {
    "duration": 8,
    "start_time": "2022-09-06T16:44:40.913Z"
   },
   {
    "duration": 8,
    "start_time": "2022-09-06T16:44:40.923Z"
   },
   {
    "duration": 15,
    "start_time": "2022-09-06T16:44:40.932Z"
   },
   {
    "duration": 10,
    "start_time": "2022-09-06T16:44:40.950Z"
   },
   {
    "duration": 9,
    "start_time": "2022-09-06T16:44:40.961Z"
   },
   {
    "duration": 8,
    "start_time": "2022-09-06T16:44:40.971Z"
   },
   {
    "duration": 10,
    "start_time": "2022-09-06T16:44:40.980Z"
   },
   {
    "duration": 5,
    "start_time": "2022-09-06T16:44:40.992Z"
   },
   {
    "duration": 9,
    "start_time": "2022-09-06T16:44:40.999Z"
   },
   {
    "duration": 3,
    "start_time": "2022-09-06T16:44:41.010Z"
   },
   {
    "duration": 28,
    "start_time": "2022-09-06T16:44:41.015Z"
   },
   {
    "duration": 14,
    "start_time": "2022-09-06T16:44:41.045Z"
   },
   {
    "duration": 5,
    "start_time": "2022-09-06T16:44:41.061Z"
   },
   {
    "duration": 186,
    "start_time": "2022-09-06T16:44:41.068Z"
   },
   {
    "duration": 2,
    "start_time": "2022-09-06T16:44:41.256Z"
   },
   {
    "duration": 6,
    "start_time": "2022-09-06T16:44:41.260Z"
   },
   {
    "duration": 1722,
    "start_time": "2022-09-06T16:44:41.267Z"
   },
   {
    "duration": 411,
    "start_time": "2022-09-06T16:44:42.991Z"
   },
   {
    "duration": 8,
    "start_time": "2022-09-06T16:44:43.404Z"
   },
   {
    "duration": 1287,
    "start_time": "2022-09-06T16:44:43.413Z"
   },
   {
    "duration": 1030,
    "start_time": "2022-09-06T16:44:44.703Z"
   },
   {
    "duration": 7,
    "start_time": "2022-09-06T16:44:45.738Z"
   },
   {
    "duration": 2137,
    "start_time": "2022-09-06T16:44:45.747Z"
   },
   {
    "duration": 439,
    "start_time": "2022-09-06T16:44:47.885Z"
   },
   {
    "duration": 33,
    "start_time": "2022-09-06T16:44:48.326Z"
   },
   {
    "duration": 1670,
    "start_time": "2022-09-06T16:44:48.360Z"
   },
   {
    "duration": 14,
    "start_time": "2022-09-06T16:45:58.843Z"
   },
   {
    "duration": 7,
    "start_time": "2022-09-06T16:46:09.116Z"
   },
   {
    "duration": 3,
    "start_time": "2022-09-06T16:46:31.021Z"
   },
   {
    "duration": 21,
    "start_time": "2022-09-06T16:46:31.028Z"
   },
   {
    "duration": 1140,
    "start_time": "2022-09-06T16:46:31.053Z"
   },
   {
    "duration": 11,
    "start_time": "2022-09-06T16:46:32.194Z"
   },
   {
    "duration": 14,
    "start_time": "2022-09-06T16:46:32.206Z"
   },
   {
    "duration": 37,
    "start_time": "2022-09-06T16:46:32.221Z"
   },
   {
    "duration": 10,
    "start_time": "2022-09-06T16:46:32.260Z"
   },
   {
    "duration": 12,
    "start_time": "2022-09-06T16:46:32.272Z"
   },
   {
    "duration": 6,
    "start_time": "2022-09-06T16:46:32.285Z"
   },
   {
    "duration": 47,
    "start_time": "2022-09-06T16:46:32.292Z"
   },
   {
    "duration": 12,
    "start_time": "2022-09-06T16:46:32.342Z"
   },
   {
    "duration": 10,
    "start_time": "2022-09-06T16:46:32.355Z"
   },
   {
    "duration": 7,
    "start_time": "2022-09-06T16:46:32.367Z"
   },
   {
    "duration": 7,
    "start_time": "2022-09-06T16:46:32.375Z"
   },
   {
    "duration": 11,
    "start_time": "2022-09-06T16:46:32.383Z"
   },
   {
    "duration": 7,
    "start_time": "2022-09-06T16:46:32.395Z"
   },
   {
    "duration": 15,
    "start_time": "2022-09-06T16:46:32.404Z"
   },
   {
    "duration": 5,
    "start_time": "2022-09-06T16:46:32.422Z"
   },
   {
    "duration": 9,
    "start_time": "2022-09-06T16:46:32.438Z"
   },
   {
    "duration": 14,
    "start_time": "2022-09-06T16:46:32.449Z"
   },
   {
    "duration": 6,
    "start_time": "2022-09-06T16:46:32.464Z"
   },
   {
    "duration": 8,
    "start_time": "2022-09-06T16:46:32.471Z"
   },
   {
    "duration": 12,
    "start_time": "2022-09-06T16:46:32.480Z"
   },
   {
    "duration": 12,
    "start_time": "2022-09-06T16:46:32.494Z"
   },
   {
    "duration": 16,
    "start_time": "2022-09-06T16:46:32.507Z"
   },
   {
    "duration": 2,
    "start_time": "2022-09-06T16:46:32.525Z"
   },
   {
    "duration": 22,
    "start_time": "2022-09-06T16:46:32.529Z"
   },
   {
    "duration": 18,
    "start_time": "2022-09-06T16:46:32.554Z"
   },
   {
    "duration": 5,
    "start_time": "2022-09-06T16:46:32.576Z"
   },
   {
    "duration": 178,
    "start_time": "2022-09-06T16:46:32.583Z"
   },
   {
    "duration": 3,
    "start_time": "2022-09-06T16:46:32.763Z"
   },
   {
    "duration": 7,
    "start_time": "2022-09-06T16:46:32.768Z"
   },
   {
    "duration": 1640,
    "start_time": "2022-09-06T16:46:32.776Z"
   },
   {
    "duration": 491,
    "start_time": "2022-09-06T16:46:34.418Z"
   },
   {
    "duration": 8,
    "start_time": "2022-09-06T16:46:34.911Z"
   },
   {
    "duration": 1286,
    "start_time": "2022-09-06T16:46:34.921Z"
   },
   {
    "duration": 919,
    "start_time": "2022-09-06T16:46:36.208Z"
   },
   {
    "duration": 3,
    "start_time": "2022-09-06T16:46:37.128Z"
   },
   {
    "duration": 3049,
    "start_time": "2022-09-06T16:46:37.138Z"
   },
   {
    "duration": 439,
    "start_time": "2022-09-06T16:46:40.190Z"
   },
   {
    "duration": 33,
    "start_time": "2022-09-06T16:46:40.630Z"
   },
   {
    "duration": 1638,
    "start_time": "2022-09-06T16:46:40.665Z"
   },
   {
    "duration": 21,
    "start_time": "2022-09-06T16:46:54.048Z"
   },
   {
    "duration": 3,
    "start_time": "2022-09-06T16:47:07.113Z"
   },
   {
    "duration": 41,
    "start_time": "2022-09-06T16:47:07.118Z"
   },
   {
    "duration": 1379,
    "start_time": "2022-09-06T16:47:07.161Z"
   },
   {
    "duration": 19,
    "start_time": "2022-09-06T16:47:08.542Z"
   },
   {
    "duration": 30,
    "start_time": "2022-09-06T16:47:08.563Z"
   },
   {
    "duration": 140,
    "start_time": "2022-09-06T16:47:08.594Z"
   },
   {
    "duration": 24,
    "start_time": "2022-09-06T16:47:08.736Z"
   },
   {
    "duration": 15,
    "start_time": "2022-09-06T16:47:08.762Z"
   },
   {
    "duration": 7,
    "start_time": "2022-09-06T16:47:08.778Z"
   },
   {
    "duration": 34,
    "start_time": "2022-09-06T16:47:08.786Z"
   },
   {
    "duration": 5,
    "start_time": "2022-09-06T16:47:08.821Z"
   },
   {
    "duration": 20,
    "start_time": "2022-09-06T16:47:08.838Z"
   },
   {
    "duration": 21,
    "start_time": "2022-09-06T16:47:08.862Z"
   },
   {
    "duration": 11,
    "start_time": "2022-09-06T16:47:08.885Z"
   },
   {
    "duration": 30,
    "start_time": "2022-09-06T16:47:08.898Z"
   },
   {
    "duration": 38,
    "start_time": "2022-09-06T16:47:08.930Z"
   },
   {
    "duration": 16,
    "start_time": "2022-09-06T16:47:08.970Z"
   },
   {
    "duration": 19,
    "start_time": "2022-09-06T16:47:08.988Z"
   },
   {
    "duration": 15,
    "start_time": "2022-09-06T16:47:09.009Z"
   },
   {
    "duration": 35,
    "start_time": "2022-09-06T16:47:09.026Z"
   },
   {
    "duration": 12,
    "start_time": "2022-09-06T16:47:09.063Z"
   },
   {
    "duration": 11,
    "start_time": "2022-09-06T16:47:09.077Z"
   },
   {
    "duration": 8,
    "start_time": "2022-09-06T16:47:09.089Z"
   },
   {
    "duration": 12,
    "start_time": "2022-09-06T16:47:09.099Z"
   },
   {
    "duration": 23,
    "start_time": "2022-09-06T16:47:09.113Z"
   },
   {
    "duration": 3,
    "start_time": "2022-09-06T16:47:09.138Z"
   },
   {
    "duration": 30,
    "start_time": "2022-09-06T16:47:09.143Z"
   },
   {
    "duration": 20,
    "start_time": "2022-09-06T16:47:09.175Z"
   },
   {
    "duration": 10,
    "start_time": "2022-09-06T16:47:09.197Z"
   },
   {
    "duration": 168,
    "start_time": "2022-09-06T16:47:09.208Z"
   },
   {
    "duration": 3,
    "start_time": "2022-09-06T16:47:09.377Z"
   },
   {
    "duration": 20,
    "start_time": "2022-09-06T16:47:09.382Z"
   },
   {
    "duration": 1599,
    "start_time": "2022-09-06T16:47:09.403Z"
   },
   {
    "duration": 403,
    "start_time": "2022-09-06T16:47:11.004Z"
   },
   {
    "duration": 108,
    "start_time": "2022-09-06T16:47:11.410Z"
   },
   {
    "duration": 1344,
    "start_time": "2022-09-06T16:47:11.520Z"
   },
   {
    "duration": 893,
    "start_time": "2022-09-06T16:47:12.867Z"
   },
   {
    "duration": 3,
    "start_time": "2022-09-06T16:47:13.762Z"
   },
   {
    "duration": 2137,
    "start_time": "2022-09-06T16:47:13.767Z"
   },
   {
    "duration": 453,
    "start_time": "2022-09-06T16:47:15.906Z"
   },
   {
    "duration": 21,
    "start_time": "2022-09-06T16:47:16.361Z"
   },
   {
    "duration": 1644,
    "start_time": "2022-09-06T16:47:16.383Z"
   },
   {
    "duration": 31,
    "start_time": "2022-09-06T16:47:18.029Z"
   },
   {
    "duration": 0,
    "start_time": "2022-09-06T16:47:18.062Z"
   },
   {
    "duration": 0,
    "start_time": "2022-09-06T16:47:18.063Z"
   },
   {
    "duration": 0,
    "start_time": "2022-09-06T16:47:18.065Z"
   },
   {
    "duration": 0,
    "start_time": "2022-09-06T16:47:18.065Z"
   },
   {
    "duration": 492,
    "start_time": "2022-09-06T16:47:58.232Z"
   },
   {
    "duration": 10,
    "start_time": "2022-09-06T16:48:35.985Z"
   },
   {
    "duration": 4,
    "start_time": "2022-09-06T16:50:53.616Z"
   },
   {
    "duration": 6,
    "start_time": "2022-09-06T16:52:52.212Z"
   },
   {
    "duration": 6,
    "start_time": "2022-09-06T16:55:53.613Z"
   },
   {
    "duration": 4754,
    "start_time": "2022-09-06T16:56:31.117Z"
   },
   {
    "duration": 93,
    "start_time": "2022-09-06T16:57:24.912Z"
   },
   {
    "duration": 2156,
    "start_time": "2022-09-06T16:58:16.377Z"
   },
   {
    "duration": 2010,
    "start_time": "2022-09-06T16:58:28.396Z"
   },
   {
    "duration": 1006,
    "start_time": "2022-09-06T16:59:37.309Z"
   },
   {
    "duration": 4,
    "start_time": "2022-09-06T17:01:13.014Z"
   },
   {
    "duration": 1051,
    "start_time": "2022-09-06T17:01:14.005Z"
   },
   {
    "duration": 2233,
    "start_time": "2022-09-06T17:01:50.896Z"
   },
   {
    "duration": 3,
    "start_time": "2022-09-06T17:01:53.132Z"
   },
   {
    "duration": 1842,
    "start_time": "2022-09-06T17:01:53.139Z"
   },
   {
    "duration": 14,
    "start_time": "2022-09-06T17:01:54.983Z"
   },
   {
    "duration": 22,
    "start_time": "2022-09-06T17:01:55.000Z"
   },
   {
    "duration": 39,
    "start_time": "2022-09-06T17:01:55.024Z"
   },
   {
    "duration": 12,
    "start_time": "2022-09-06T17:01:55.065Z"
   },
   {
    "duration": 17,
    "start_time": "2022-09-06T17:01:55.078Z"
   },
   {
    "duration": 9,
    "start_time": "2022-09-06T17:01:55.096Z"
   },
   {
    "duration": 51,
    "start_time": "2022-09-06T17:01:55.107Z"
   },
   {
    "duration": 6,
    "start_time": "2022-09-06T17:01:55.160Z"
   },
   {
    "duration": 13,
    "start_time": "2022-09-06T17:01:55.167Z"
   },
   {
    "duration": 8,
    "start_time": "2022-09-06T17:01:55.182Z"
   },
   {
    "duration": 8,
    "start_time": "2022-09-06T17:01:55.193Z"
   },
   {
    "duration": 9,
    "start_time": "2022-09-06T17:01:55.203Z"
   },
   {
    "duration": 10,
    "start_time": "2022-09-06T17:01:55.213Z"
   },
   {
    "duration": 28,
    "start_time": "2022-09-06T17:01:55.225Z"
   },
   {
    "duration": 8,
    "start_time": "2022-09-06T17:01:55.255Z"
   },
   {
    "duration": 9,
    "start_time": "2022-09-06T17:01:55.264Z"
   },
   {
    "duration": 14,
    "start_time": "2022-09-06T17:01:55.275Z"
   },
   {
    "duration": 8,
    "start_time": "2022-09-06T17:01:55.291Z"
   },
   {
    "duration": 14,
    "start_time": "2022-09-06T17:01:55.301Z"
   },
   {
    "duration": 7,
    "start_time": "2022-09-06T17:01:55.317Z"
   },
   {
    "duration": 9,
    "start_time": "2022-09-06T17:01:55.326Z"
   },
   {
    "duration": 30,
    "start_time": "2022-09-06T17:01:55.336Z"
   },
   {
    "duration": 3,
    "start_time": "2022-09-06T17:01:55.367Z"
   },
   {
    "duration": 13,
    "start_time": "2022-09-06T17:01:55.372Z"
   },
   {
    "duration": 15,
    "start_time": "2022-09-06T17:01:55.386Z"
   },
   {
    "duration": 5,
    "start_time": "2022-09-06T17:01:55.402Z"
   },
   {
    "duration": 165,
    "start_time": "2022-09-06T17:01:55.408Z"
   },
   {
    "duration": 3,
    "start_time": "2022-09-06T17:01:55.574Z"
   },
   {
    "duration": 26,
    "start_time": "2022-09-06T17:01:55.579Z"
   },
   {
    "duration": 1808,
    "start_time": "2022-09-06T17:01:55.607Z"
   },
   {
    "duration": 385,
    "start_time": "2022-09-06T17:01:57.416Z"
   },
   {
    "duration": 7,
    "start_time": "2022-09-06T17:01:57.802Z"
   },
   {
    "duration": 1395,
    "start_time": "2022-09-06T17:01:57.810Z"
   },
   {
    "duration": 5,
    "start_time": "2022-09-06T17:01:59.206Z"
   },
   {
    "duration": 1074,
    "start_time": "2022-09-06T17:01:59.212Z"
   },
   {
    "duration": 2029,
    "start_time": "2022-09-06T17:02:00.288Z"
   },
   {
    "duration": 1095,
    "start_time": "2022-09-06T17:06:23.120Z"
   },
   {
    "duration": 14,
    "start_time": "2022-09-06T17:20:28.977Z"
   },
   {
    "duration": 9,
    "start_time": "2022-09-06T17:20:32.476Z"
   },
   {
    "duration": 17,
    "start_time": "2022-09-06T17:20:33.322Z"
   },
   {
    "duration": 2189,
    "start_time": "2022-09-06T17:20:50.678Z"
   },
   {
    "duration": 4,
    "start_time": "2022-09-06T17:20:52.870Z"
   },
   {
    "duration": 1748,
    "start_time": "2022-09-06T17:20:52.875Z"
   },
   {
    "duration": 12,
    "start_time": "2022-09-06T17:20:54.624Z"
   },
   {
    "duration": 33,
    "start_time": "2022-09-06T17:20:54.638Z"
   },
   {
    "duration": 36,
    "start_time": "2022-09-06T17:20:54.672Z"
   },
   {
    "duration": 11,
    "start_time": "2022-09-06T17:20:54.710Z"
   },
   {
    "duration": 20,
    "start_time": "2022-09-06T17:20:54.723Z"
   },
   {
    "duration": 10,
    "start_time": "2022-09-06T17:20:54.746Z"
   },
   {
    "duration": 44,
    "start_time": "2022-09-06T17:20:54.758Z"
   },
   {
    "duration": 5,
    "start_time": "2022-09-06T17:20:54.804Z"
   },
   {
    "duration": 41,
    "start_time": "2022-09-06T17:20:54.811Z"
   },
   {
    "duration": 7,
    "start_time": "2022-09-06T17:20:54.854Z"
   },
   {
    "duration": 8,
    "start_time": "2022-09-06T17:20:54.864Z"
   },
   {
    "duration": 9,
    "start_time": "2022-09-06T17:20:54.873Z"
   },
   {
    "duration": 7,
    "start_time": "2022-09-06T17:20:54.884Z"
   },
   {
    "duration": 7,
    "start_time": "2022-09-06T17:20:54.892Z"
   },
   {
    "duration": 6,
    "start_time": "2022-09-06T17:20:54.901Z"
   },
   {
    "duration": 8,
    "start_time": "2022-09-06T17:20:54.908Z"
   },
   {
    "duration": 30,
    "start_time": "2022-09-06T17:20:54.917Z"
   },
   {
    "duration": 8,
    "start_time": "2022-09-06T17:20:54.951Z"
   },
   {
    "duration": 9,
    "start_time": "2022-09-06T17:20:54.961Z"
   },
   {
    "duration": 10,
    "start_time": "2022-09-06T17:20:54.972Z"
   },
   {
    "duration": 8,
    "start_time": "2022-09-06T17:20:54.983Z"
   },
   {
    "duration": 12,
    "start_time": "2022-09-06T17:20:54.992Z"
   },
   {
    "duration": 5,
    "start_time": "2022-09-06T17:20:55.005Z"
   },
   {
    "duration": 32,
    "start_time": "2022-09-06T17:20:55.011Z"
   },
   {
    "duration": 18,
    "start_time": "2022-09-06T17:20:55.045Z"
   },
   {
    "duration": 5,
    "start_time": "2022-09-06T17:20:55.065Z"
   },
   {
    "duration": 202,
    "start_time": "2022-09-06T17:20:55.072Z"
   },
   {
    "duration": 3,
    "start_time": "2022-09-06T17:20:55.276Z"
   },
   {
    "duration": 142,
    "start_time": "2022-09-06T17:20:55.281Z"
   },
   {
    "duration": 1794,
    "start_time": "2022-09-06T17:20:55.425Z"
   },
   {
    "duration": 405,
    "start_time": "2022-09-06T17:20:57.221Z"
   },
   {
    "duration": 123,
    "start_time": "2022-09-06T17:20:57.628Z"
   },
   {
    "duration": 1273,
    "start_time": "2022-09-06T17:20:57.753Z"
   },
   {
    "duration": 21,
    "start_time": "2022-09-06T17:20:59.028Z"
   },
   {
    "duration": 1448,
    "start_time": "2022-09-06T17:20:59.051Z"
   },
   {
    "duration": 3475,
    "start_time": "2022-09-06T17:21:00.500Z"
   },
   {
    "duration": 8,
    "start_time": "2022-09-06T17:21:03.977Z"
   },
   {
    "duration": 8,
    "start_time": "2022-09-06T17:21:09.380Z"
   },
   {
    "duration": 19,
    "start_time": "2022-09-06T17:21:10.050Z"
   },
   {
    "duration": 10,
    "start_time": "2022-09-06T17:21:17.178Z"
   },
   {
    "duration": 11,
    "start_time": "2022-09-06T17:24:27.488Z"
   },
   {
    "duration": 8,
    "start_time": "2022-09-06T17:24:37.121Z"
   },
   {
    "duration": 17,
    "start_time": "2022-09-06T17:24:40.234Z"
   },
   {
    "duration": 5,
    "start_time": "2022-09-06T17:26:31.088Z"
   },
   {
    "duration": 5,
    "start_time": "2022-09-06T17:26:37.057Z"
   },
   {
    "duration": 9,
    "start_time": "2022-09-06T17:26:37.550Z"
   },
   {
    "duration": 235,
    "start_time": "2022-09-06T17:50:04.950Z"
   },
   {
    "duration": 57,
    "start_time": "2022-09-07T21:13:14.919Z"
   },
   {
    "duration": 48,
    "start_time": "2022-09-08T12:17:08.537Z"
   },
   {
    "duration": 1604,
    "start_time": "2022-09-08T12:17:12.695Z"
   },
   {
    "duration": 0,
    "start_time": "2022-09-08T12:17:14.301Z"
   },
   {
    "duration": 0,
    "start_time": "2022-09-08T12:17:14.302Z"
   },
   {
    "duration": 0,
    "start_time": "2022-09-08T12:17:14.303Z"
   },
   {
    "duration": 0,
    "start_time": "2022-09-08T12:17:14.304Z"
   },
   {
    "duration": 1,
    "start_time": "2022-09-08T12:17:14.305Z"
   },
   {
    "duration": 0,
    "start_time": "2022-09-08T12:17:14.306Z"
   },
   {
    "duration": 0,
    "start_time": "2022-09-08T12:17:14.308Z"
   },
   {
    "duration": 0,
    "start_time": "2022-09-08T12:17:14.309Z"
   },
   {
    "duration": 0,
    "start_time": "2022-09-08T12:17:14.310Z"
   },
   {
    "duration": 0,
    "start_time": "2022-09-08T12:17:14.311Z"
   },
   {
    "duration": 0,
    "start_time": "2022-09-08T12:17:14.312Z"
   },
   {
    "duration": 0,
    "start_time": "2022-09-08T12:17:14.313Z"
   },
   {
    "duration": 0,
    "start_time": "2022-09-08T12:17:14.314Z"
   },
   {
    "duration": 0,
    "start_time": "2022-09-08T12:17:14.315Z"
   },
   {
    "duration": 0,
    "start_time": "2022-09-08T12:17:14.316Z"
   },
   {
    "duration": 0,
    "start_time": "2022-09-08T12:17:14.317Z"
   },
   {
    "duration": 0,
    "start_time": "2022-09-08T12:17:14.318Z"
   },
   {
    "duration": 0,
    "start_time": "2022-09-08T12:17:14.318Z"
   },
   {
    "duration": 0,
    "start_time": "2022-09-08T12:17:14.319Z"
   },
   {
    "duration": 0,
    "start_time": "2022-09-08T12:17:14.320Z"
   },
   {
    "duration": 1,
    "start_time": "2022-09-08T12:17:14.321Z"
   },
   {
    "duration": 0,
    "start_time": "2022-09-08T12:17:14.322Z"
   },
   {
    "duration": 0,
    "start_time": "2022-09-08T12:17:14.354Z"
   },
   {
    "duration": 0,
    "start_time": "2022-09-08T12:17:14.355Z"
   },
   {
    "duration": 0,
    "start_time": "2022-09-08T12:17:14.356Z"
   },
   {
    "duration": 0,
    "start_time": "2022-09-08T12:17:14.357Z"
   },
   {
    "duration": 0,
    "start_time": "2022-09-08T12:17:14.359Z"
   },
   {
    "duration": 0,
    "start_time": "2022-09-08T12:17:14.360Z"
   },
   {
    "duration": 0,
    "start_time": "2022-09-08T12:17:14.361Z"
   },
   {
    "duration": 0,
    "start_time": "2022-09-08T12:17:14.362Z"
   },
   {
    "duration": 0,
    "start_time": "2022-09-08T12:17:14.363Z"
   },
   {
    "duration": 0,
    "start_time": "2022-09-08T12:17:14.364Z"
   },
   {
    "duration": 0,
    "start_time": "2022-09-08T12:17:14.365Z"
   },
   {
    "duration": 0,
    "start_time": "2022-09-08T12:17:14.366Z"
   },
   {
    "duration": 0,
    "start_time": "2022-09-08T12:17:14.367Z"
   },
   {
    "duration": 0,
    "start_time": "2022-09-08T12:17:14.368Z"
   },
   {
    "duration": 12,
    "start_time": "2022-09-08T12:17:32.367Z"
   },
   {
    "duration": 0,
    "start_time": "2022-09-08T12:17:32.381Z"
   },
   {
    "duration": 0,
    "start_time": "2022-09-08T12:17:32.382Z"
   },
   {
    "duration": 0,
    "start_time": "2022-09-08T12:17:32.384Z"
   },
   {
    "duration": 0,
    "start_time": "2022-09-08T12:17:32.385Z"
   },
   {
    "duration": 9,
    "start_time": "2022-09-08T12:17:32.386Z"
   },
   {
    "duration": 0,
    "start_time": "2022-09-08T12:17:32.397Z"
   },
   {
    "duration": 0,
    "start_time": "2022-09-08T12:17:32.398Z"
   },
   {
    "duration": 9,
    "start_time": "2022-09-08T12:17:32.403Z"
   },
   {
    "duration": 0,
    "start_time": "2022-09-08T12:17:32.413Z"
   },
   {
    "duration": 0,
    "start_time": "2022-09-08T12:17:32.414Z"
   },
   {
    "duration": 0,
    "start_time": "2022-09-08T12:17:32.415Z"
   },
   {
    "duration": 0,
    "start_time": "2022-09-08T12:17:32.416Z"
   },
   {
    "duration": 43,
    "start_time": "2022-09-08T12:17:32.418Z"
   },
   {
    "duration": 0,
    "start_time": "2022-09-08T12:17:32.463Z"
   },
   {
    "duration": 0,
    "start_time": "2022-09-08T12:17:32.465Z"
   },
   {
    "duration": 0,
    "start_time": "2022-09-08T12:17:32.465Z"
   },
   {
    "duration": 0,
    "start_time": "2022-09-08T12:17:32.466Z"
   },
   {
    "duration": 0,
    "start_time": "2022-09-08T12:17:32.467Z"
   },
   {
    "duration": 0,
    "start_time": "2022-09-08T12:17:32.468Z"
   },
   {
    "duration": 0,
    "start_time": "2022-09-08T12:17:32.469Z"
   },
   {
    "duration": 0,
    "start_time": "2022-09-08T12:17:32.469Z"
   },
   {
    "duration": 0,
    "start_time": "2022-09-08T12:17:32.470Z"
   },
   {
    "duration": 0,
    "start_time": "2022-09-08T12:17:32.471Z"
   },
   {
    "duration": 0,
    "start_time": "2022-09-08T12:17:32.472Z"
   },
   {
    "duration": 0,
    "start_time": "2022-09-08T12:17:32.473Z"
   },
   {
    "duration": 0,
    "start_time": "2022-09-08T12:17:32.474Z"
   },
   {
    "duration": 0,
    "start_time": "2022-09-08T12:17:32.475Z"
   },
   {
    "duration": 11,
    "start_time": "2022-09-08T12:17:32.477Z"
   },
   {
    "duration": 0,
    "start_time": "2022-09-08T12:17:32.489Z"
   },
   {
    "duration": 0,
    "start_time": "2022-09-08T12:17:32.490Z"
   },
   {
    "duration": 0,
    "start_time": "2022-09-08T12:17:32.491Z"
   },
   {
    "duration": 0,
    "start_time": "2022-09-08T12:17:32.493Z"
   },
   {
    "duration": 16,
    "start_time": "2022-09-08T12:17:32.555Z"
   },
   {
    "duration": 0,
    "start_time": "2022-09-08T12:17:32.574Z"
   },
   {
    "duration": 0,
    "start_time": "2022-09-08T12:17:32.575Z"
   },
   {
    "duration": 0,
    "start_time": "2022-09-08T12:17:32.577Z"
   },
   {
    "duration": 0,
    "start_time": "2022-09-08T12:17:32.578Z"
   },
   {
    "duration": 0,
    "start_time": "2022-09-08T12:17:32.579Z"
   },
   {
    "duration": 0,
    "start_time": "2022-09-08T12:17:32.582Z"
   },
   {
    "duration": 0,
    "start_time": "2022-09-08T12:17:32.583Z"
   },
   {
    "duration": 69,
    "start_time": "2022-09-08T12:17:32.586Z"
   },
   {
    "duration": 0,
    "start_time": "2022-09-08T12:17:32.657Z"
   },
   {
    "duration": 14,
    "start_time": "2022-09-08T12:18:03.567Z"
   },
   {
    "duration": 0,
    "start_time": "2022-09-08T12:18:03.584Z"
   },
   {
    "duration": 0,
    "start_time": "2022-09-08T12:18:03.585Z"
   },
   {
    "duration": 0,
    "start_time": "2022-09-08T12:18:03.587Z"
   },
   {
    "duration": 0,
    "start_time": "2022-09-08T12:18:03.589Z"
   },
   {
    "duration": 10,
    "start_time": "2022-09-08T12:18:03.591Z"
   },
   {
    "duration": 0,
    "start_time": "2022-09-08T12:18:03.604Z"
   },
   {
    "duration": 0,
    "start_time": "2022-09-08T12:18:03.605Z"
   },
   {
    "duration": 0,
    "start_time": "2022-09-08T12:18:03.606Z"
   },
   {
    "duration": 50,
    "start_time": "2022-09-08T12:18:03.609Z"
   },
   {
    "duration": 0,
    "start_time": "2022-09-08T12:18:03.661Z"
   },
   {
    "duration": 0,
    "start_time": "2022-09-08T12:18:03.662Z"
   },
   {
    "duration": 0,
    "start_time": "2022-09-08T12:18:03.664Z"
   },
   {
    "duration": 0,
    "start_time": "2022-09-08T12:18:03.664Z"
   },
   {
    "duration": 0,
    "start_time": "2022-09-08T12:18:03.666Z"
   },
   {
    "duration": 0,
    "start_time": "2022-09-08T12:18:03.666Z"
   },
   {
    "duration": 0,
    "start_time": "2022-09-08T12:18:03.668Z"
   },
   {
    "duration": 0,
    "start_time": "2022-09-08T12:18:03.669Z"
   },
   {
    "duration": 0,
    "start_time": "2022-09-08T12:18:03.670Z"
   },
   {
    "duration": 0,
    "start_time": "2022-09-08T12:18:03.671Z"
   },
   {
    "duration": 0,
    "start_time": "2022-09-08T12:18:03.673Z"
   },
   {
    "duration": 0,
    "start_time": "2022-09-08T12:18:03.674Z"
   },
   {
    "duration": 0,
    "start_time": "2022-09-08T12:18:03.675Z"
   },
   {
    "duration": 0,
    "start_time": "2022-09-08T12:18:03.676Z"
   },
   {
    "duration": 0,
    "start_time": "2022-09-08T12:18:03.677Z"
   },
   {
    "duration": 0,
    "start_time": "2022-09-08T12:18:03.679Z"
   },
   {
    "duration": 0,
    "start_time": "2022-09-08T12:18:03.680Z"
   },
   {
    "duration": 0,
    "start_time": "2022-09-08T12:18:03.681Z"
   },
   {
    "duration": 11,
    "start_time": "2022-09-08T12:18:03.684Z"
   },
   {
    "duration": 0,
    "start_time": "2022-09-08T12:18:03.754Z"
   },
   {
    "duration": 0,
    "start_time": "2022-09-08T12:18:03.756Z"
   },
   {
    "duration": 0,
    "start_time": "2022-09-08T12:18:03.757Z"
   },
   {
    "duration": 0,
    "start_time": "2022-09-08T12:18:03.758Z"
   },
   {
    "duration": 0,
    "start_time": "2022-09-08T12:18:03.759Z"
   },
   {
    "duration": 0,
    "start_time": "2022-09-08T12:18:03.760Z"
   },
   {
    "duration": 0,
    "start_time": "2022-09-08T12:18:03.762Z"
   },
   {
    "duration": 10,
    "start_time": "2022-09-08T12:18:03.765Z"
   },
   {
    "duration": 0,
    "start_time": "2022-09-08T12:18:03.776Z"
   },
   {
    "duration": 0,
    "start_time": "2022-09-08T12:18:03.778Z"
   },
   {
    "duration": 0,
    "start_time": "2022-09-08T12:18:03.779Z"
   },
   {
    "duration": 0,
    "start_time": "2022-09-08T12:18:03.780Z"
   },
   {
    "duration": 0,
    "start_time": "2022-09-08T12:18:03.781Z"
   },
   {
    "duration": 0,
    "start_time": "2022-09-08T12:18:03.782Z"
   },
   {
    "duration": 3492,
    "start_time": "2022-09-08T12:18:45.256Z"
   },
   {
    "duration": 3,
    "start_time": "2022-09-08T12:20:18.974Z"
   },
   {
    "duration": 3624,
    "start_time": "2022-09-08T12:20:49.830Z"
   },
   {
    "duration": 3,
    "start_time": "2022-09-08T12:20:53.456Z"
   },
   {
    "duration": 1925,
    "start_time": "2022-09-08T12:20:53.461Z"
   },
   {
    "duration": 17,
    "start_time": "2022-09-08T12:20:55.387Z"
   },
   {
    "duration": 37,
    "start_time": "2022-09-08T12:20:55.407Z"
   },
   {
    "duration": 37,
    "start_time": "2022-09-08T12:20:55.446Z"
   },
   {
    "duration": 12,
    "start_time": "2022-09-08T12:20:55.485Z"
   },
   {
    "duration": 15,
    "start_time": "2022-09-08T12:20:55.499Z"
   },
   {
    "duration": 12,
    "start_time": "2022-09-08T12:20:55.516Z"
   },
   {
    "duration": 60,
    "start_time": "2022-09-08T12:20:55.530Z"
   },
   {
    "duration": 5,
    "start_time": "2022-09-08T12:20:55.592Z"
   },
   {
    "duration": 14,
    "start_time": "2022-09-08T12:20:55.598Z"
   },
   {
    "duration": 17,
    "start_time": "2022-09-08T12:20:55.614Z"
   },
   {
    "duration": 11,
    "start_time": "2022-09-08T12:20:55.634Z"
   },
   {
    "duration": 15,
    "start_time": "2022-09-08T12:20:55.647Z"
   },
   {
    "duration": 16,
    "start_time": "2022-09-08T12:20:55.663Z"
   },
   {
    "duration": 21,
    "start_time": "2022-09-08T12:20:55.681Z"
   },
   {
    "duration": 14,
    "start_time": "2022-09-08T12:20:55.703Z"
   },
   {
    "duration": 18,
    "start_time": "2022-09-08T12:20:55.719Z"
   },
   {
    "duration": 24,
    "start_time": "2022-09-08T12:20:55.739Z"
   },
   {
    "duration": 16,
    "start_time": "2022-09-08T12:20:55.764Z"
   },
   {
    "duration": 10,
    "start_time": "2022-09-08T12:20:55.782Z"
   },
   {
    "duration": 10,
    "start_time": "2022-09-08T12:20:55.793Z"
   },
   {
    "duration": 23,
    "start_time": "2022-09-08T12:20:55.804Z"
   },
   {
    "duration": 22,
    "start_time": "2022-09-08T12:20:55.828Z"
   },
   {
    "duration": 8,
    "start_time": "2022-09-08T12:20:55.852Z"
   },
   {
    "duration": 11,
    "start_time": "2022-09-08T12:20:55.861Z"
   },
   {
    "duration": 25,
    "start_time": "2022-09-08T12:20:55.874Z"
   },
   {
    "duration": 5,
    "start_time": "2022-09-08T12:20:55.901Z"
   },
   {
    "duration": 190,
    "start_time": "2022-09-08T12:20:55.907Z"
   },
   {
    "duration": 3,
    "start_time": "2022-09-08T12:20:56.098Z"
   },
   {
    "duration": 21,
    "start_time": "2022-09-08T12:20:56.103Z"
   },
   {
    "duration": 1796,
    "start_time": "2022-09-08T12:20:56.125Z"
   },
   {
    "duration": 421,
    "start_time": "2022-09-08T12:20:57.923Z"
   },
   {
    "duration": 10,
    "start_time": "2022-09-08T12:20:58.345Z"
   },
   {
    "duration": 1451,
    "start_time": "2022-09-08T12:20:58.357Z"
   },
   {
    "duration": 123,
    "start_time": "2022-09-08T12:20:59.810Z"
   },
   {
    "duration": 0,
    "start_time": "2022-09-08T12:20:59.935Z"
   },
   {
    "duration": 0,
    "start_time": "2022-09-08T12:20:59.936Z"
   },
   {
    "duration": 0,
    "start_time": "2022-09-08T12:20:59.937Z"
   },
   {
    "duration": 0,
    "start_time": "2022-09-08T12:20:59.938Z"
   },
   {
    "duration": 0,
    "start_time": "2022-09-08T12:20:59.939Z"
   },
   {
    "duration": 0,
    "start_time": "2022-09-08T12:20:59.940Z"
   },
   {
    "duration": 6,
    "start_time": "2022-09-08T12:23:28.070Z"
   },
   {
    "duration": 1060,
    "start_time": "2022-09-08T12:23:28.854Z"
   },
   {
    "duration": 2076,
    "start_time": "2022-09-08T12:23:36.318Z"
   },
   {
    "duration": 8,
    "start_time": "2022-09-08T12:23:40.717Z"
   },
   {
    "duration": 12,
    "start_time": "2022-09-08T12:23:41.158Z"
   },
   {
    "duration": 6,
    "start_time": "2022-09-08T12:23:43.973Z"
   },
   {
    "duration": 10,
    "start_time": "2022-09-08T12:23:44.389Z"
   }
  ],
  "kernelspec": {
   "display_name": "Python 3",
   "language": "python",
   "name": "python3"
  },
  "language_info": {
   "codemirror_mode": {
    "name": "ipython",
    "version": 3
   },
   "file_extension": ".py",
   "mimetype": "text/x-python",
   "name": "python",
   "nbconvert_exporter": "python",
   "pygments_lexer": "ipython3",
   "version": "3.8.8"
  },
  "toc": {
   "base_numbering": 1,
   "nav_menu": {},
   "number_sections": false,
   "sideBar": true,
   "skip_h1_title": false,
   "title_cell": "Table of Contents",
   "title_sidebar": "Contents",
   "toc_cell": false,
   "toc_position": {},
   "toc_section_display": true,
   "toc_window_display": true
  }
 },
 "nbformat": 4,
 "nbformat_minor": 2
}
