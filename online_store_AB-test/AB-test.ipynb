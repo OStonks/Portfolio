{
 "cells": [
  {
   "cell_type": "markdown",
   "metadata": {},
   "source": [
    "# Принятие решений в бизнесе"
   ]
  },
  {
   "cell_type": "markdown",
   "metadata": {},
   "source": [
    "Мы — аналитик крупного интернет-магазина. Мы с помощью отдела маркетринга подготовили список гипотез для увеличения выручки.\n",
    "Приоритизируйте гипотезы, запустите A/B-тест и проанализируйте результаты.\n"
   ]
  },
  {
   "cell_type": "markdown",
   "metadata": {},
   "source": [
    "Для решения задачи нам необходимо выполнить следующие цели:\n",
    "\n",
    "1) `Загрузить данные и привести их в вид, подходящий для анализа`\n",
    "\n",
    "2) `Приоритизация гипотез. В данную цель входит 3 подцели`:\n",
    "\n",
    "•\tПрименить фреймворк ICE для приоритизации гипотез. Отсортировать их по убыванию приоритета.\n",
    "\n",
    "•\tПрименить фреймворк RICE для приоритизации гипотез. Отсортировать их по убыванию приоритета.\n",
    "\n",
    "•\tУказать, как изменилась приоритизация гипотез при применении RICE вместо ICE. Объяснить причины.\n",
    "\n",
    "\n",
    "3) `Анализ A/B-теста. В данную цель входит 14 подцелей`:\n",
    "\n",
    "а) **Постороить графики**:\n",
    "\n",
    "- Построить график кумулятивной выручки по группам. На основе графика сделать выводы и предположения.\n",
    "\n",
    "- Построить график кумулятивного среднего чека по группам. На основе графика сделать выводы и предположения.\n",
    "\n",
    "- Построить график относительного изменения кумулятивного среднего чека группы B к группе A. На основе графика сделать выводы и предположения.\n",
    "\n",
    "- Построить график кумулятивной конверсии по группам. На основе графика сделать выводы и предположения.\n",
    "\n",
    "- Построить график относительного изменения кумулятивной конверсии группы B к группе A. На основе графика сделать выводы и предположения.\n",
    "\n",
    "- Построить точечный график количества заказов по пользователям. На основе графика сделать выводы и предположения.\n",
    "\n",
    "- Построить 95-й и 99-й перцентили количества заказов на пользователя. На основе полученных данных нужно выбрать границу для определения аномальных пользователей.\n",
    "\n",
    "- Построить точечный график стоимостей заказов. На основе графика сделать выводы и предположения.\n",
    "\n",
    "- Посчитайте 95-й и 99-й перцентили стоимости заказов. На основе полученных данных нужно выбрать границу для определения аномальных пользователей.\n",
    "\n",
    "б) **Посчитать**:\n",
    "\n",
    "- Посчитать статистическую значимость различий в конверсии между группами по «сырым» данным. На основе полученных данных сделать выводы и предположения.\n",
    "\n",
    "- Посчитать статистическую значимость различий в среднем чеке заказа между группами по «сырым» данным. На основе полученных данных сделать выводы и предположения.\n",
    "\n",
    "- Посчитать статистическую значимость различий в конверсии между группами по «очищенным» данным. На основе полученных данных сделать выводы и предположения.\n",
    "\n",
    "- Посчитать статистическую значимость различий в среднем чеке заказа между группами по «очищенным» данным. На основе полученных данных сделать выводы и предположения.\n",
    "\n",
    "в) **Итог**:\n",
    "\n",
    "- Принять решение по результатам теста и объясните его. Варианты решений: \n",
    "\n",
    "1. Остановить тест, зафиксировать победу одной из групп. \n",
    "\n",
    "2. Остановить тест, зафиксировать отсутствие различий между группами. \n",
    "\n",
    "3. Продолжить тест.\n"
   ]
  },
  {
   "cell_type": "markdown",
   "metadata": {},
   "source": [
    "# Шаг 1. Загружаем данные и готовим их к анализу"
   ]
  },
  {
   "cell_type": "markdown",
   "metadata": {},
   "source": [
    "## Общая работа с данными"
   ]
  },
  {
   "cell_type": "markdown",
   "metadata": {},
   "source": [
    "Для работы с гипотезами необходима работа с данными. Для работы же сданными нам необходимо с помощью `библиотеки` pandas прочитать датасет. Также импортируем сразу все необходимые модули"
   ]
  },
  {
   "cell_type": "code",
   "execution_count": 1,
   "metadata": {},
   "outputs": [],
   "source": [
    "# импорт библиотеки pandas\n",
    "import pandas as pd\n",
    "import datetime as dt\n",
    "import numpy as np\n",
    "import matplotlib.pyplot as plt\n",
    "from pandas.plotting import register_matplotlib_converters\n",
    "import warnings\n",
    "import scipy.stats as stats"
   ]
  },
  {
   "cell_type": "code",
   "execution_count": 2,
   "metadata": {},
   "outputs": [],
   "source": [
    "# чтение файлов с данными и сохранение их в переменных\n",
    "hypothesis = pd.read_csv('/datasets/hypothesis.csv')\n",
    "orders = pd.read_csv('/datasets/orders.csv')\n",
    "visitors = pd.read_csv('/datasets/visitors.csv')"
   ]
  },
  {
   "cell_type": "markdown",
   "metadata": {},
   "source": [
    "Создадим собственную функцию для получения общей информации о датасете."
   ]
  },
  {
   "cell_type": "code",
   "execution_count": 3,
   "metadata": {},
   "outputs": [],
   "source": [
    "#создаем собственную функцию\n",
    "def inform(dt):\n",
    "    class font:\n",
    "       BOLD = '\\033[1m'\n",
    "       END = '\\033[0m'\n",
    "    print('\\n')\n",
    "    print(font.BOLD + 'Первые пять строк таблицы:' + font.END)\n",
    "    display(dt.head(5))\n",
    "    print('\\n'*2)\n",
    "    print(font.BOLD + 'Общая информация о таблице:' + font.END)\n",
    "    print('\\n')\n",
    "    dt.info()\n",
    "    print('\\n'*2)\n",
    "    print(font.BOLD + 'Данные таблицы:' + font.END)\n",
    "    print('\\n')\n",
    "    display(dt.describe())\n",
    "    print('\\n'*2)\n",
    "    print(f'Количество дубликатов {dt.duplicated().sum()}')"
   ]
  },
  {
   "cell_type": "markdown",
   "metadata": {},
   "source": [
    "## Датасет hypothesis"
   ]
  },
  {
   "cell_type": "code",
   "execution_count": 4,
   "metadata": {},
   "outputs": [
    {
     "name": "stdout",
     "output_type": "stream",
     "text": [
      "\n",
      "\n",
      "\u001b[1mПервые пять строк таблицы:\u001b[0m\n"
     ]
    },
    {
     "data": {
      "text/html": [
       "<div>\n",
       "<style scoped>\n",
       "    .dataframe tbody tr th:only-of-type {\n",
       "        vertical-align: middle;\n",
       "    }\n",
       "\n",
       "    .dataframe tbody tr th {\n",
       "        vertical-align: top;\n",
       "    }\n",
       "\n",
       "    .dataframe thead th {\n",
       "        text-align: right;\n",
       "    }\n",
       "</style>\n",
       "<table border=\"1\" class=\"dataframe\">\n",
       "  <thead>\n",
       "    <tr style=\"text-align: right;\">\n",
       "      <th></th>\n",
       "      <th>Hypothesis</th>\n",
       "      <th>Reach</th>\n",
       "      <th>Impact</th>\n",
       "      <th>Confidence</th>\n",
       "      <th>Efforts</th>\n",
       "    </tr>\n",
       "  </thead>\n",
       "  <tbody>\n",
       "    <tr>\n",
       "      <th>0</th>\n",
       "      <td>Добавить два новых канала привлечения трафика,...</td>\n",
       "      <td>3</td>\n",
       "      <td>10</td>\n",
       "      <td>8</td>\n",
       "      <td>6</td>\n",
       "    </tr>\n",
       "    <tr>\n",
       "      <th>1</th>\n",
       "      <td>Запустить собственную службу доставки, что сок...</td>\n",
       "      <td>2</td>\n",
       "      <td>5</td>\n",
       "      <td>4</td>\n",
       "      <td>10</td>\n",
       "    </tr>\n",
       "    <tr>\n",
       "      <th>2</th>\n",
       "      <td>Добавить блоки рекомендаций товаров на сайт ин...</td>\n",
       "      <td>8</td>\n",
       "      <td>3</td>\n",
       "      <td>7</td>\n",
       "      <td>3</td>\n",
       "    </tr>\n",
       "    <tr>\n",
       "      <th>3</th>\n",
       "      <td>Изменить структура категорий, что увеличит кон...</td>\n",
       "      <td>8</td>\n",
       "      <td>3</td>\n",
       "      <td>3</td>\n",
       "      <td>8</td>\n",
       "    </tr>\n",
       "    <tr>\n",
       "      <th>4</th>\n",
       "      <td>Изменить цвет фона главной страницы, чтобы уве...</td>\n",
       "      <td>3</td>\n",
       "      <td>1</td>\n",
       "      <td>1</td>\n",
       "      <td>1</td>\n",
       "    </tr>\n",
       "  </tbody>\n",
       "</table>\n",
       "</div>"
      ],
      "text/plain": [
       "                                          Hypothesis  Reach  Impact  \\\n",
       "0  Добавить два новых канала привлечения трафика,...      3      10   \n",
       "1  Запустить собственную службу доставки, что сок...      2       5   \n",
       "2  Добавить блоки рекомендаций товаров на сайт ин...      8       3   \n",
       "3  Изменить структура категорий, что увеличит кон...      8       3   \n",
       "4  Изменить цвет фона главной страницы, чтобы уве...      3       1   \n",
       "\n",
       "   Confidence  Efforts  \n",
       "0           8        6  \n",
       "1           4       10  \n",
       "2           7        3  \n",
       "3           3        8  \n",
       "4           1        1  "
      ]
     },
     "metadata": {},
     "output_type": "display_data"
    },
    {
     "name": "stdout",
     "output_type": "stream",
     "text": [
      "\n",
      "\n",
      "\n",
      "\u001b[1mОбщая информация о таблице:\u001b[0m\n",
      "\n",
      "\n",
      "<class 'pandas.core.frame.DataFrame'>\n",
      "RangeIndex: 9 entries, 0 to 8\n",
      "Data columns (total 5 columns):\n",
      " #   Column      Non-Null Count  Dtype \n",
      "---  ------      --------------  ----- \n",
      " 0   Hypothesis  9 non-null      object\n",
      " 1   Reach       9 non-null      int64 \n",
      " 2   Impact      9 non-null      int64 \n",
      " 3   Confidence  9 non-null      int64 \n",
      " 4   Efforts     9 non-null      int64 \n",
      "dtypes: int64(4), object(1)\n",
      "memory usage: 488.0+ bytes\n",
      "\n",
      "\n",
      "\n",
      "\u001b[1mДанные таблицы:\u001b[0m\n",
      "\n",
      "\n"
     ]
    },
    {
     "data": {
      "text/html": [
       "<div>\n",
       "<style scoped>\n",
       "    .dataframe tbody tr th:only-of-type {\n",
       "        vertical-align: middle;\n",
       "    }\n",
       "\n",
       "    .dataframe tbody tr th {\n",
       "        vertical-align: top;\n",
       "    }\n",
       "\n",
       "    .dataframe thead th {\n",
       "        text-align: right;\n",
       "    }\n",
       "</style>\n",
       "<table border=\"1\" class=\"dataframe\">\n",
       "  <thead>\n",
       "    <tr style=\"text-align: right;\">\n",
       "      <th></th>\n",
       "      <th>Reach</th>\n",
       "      <th>Impact</th>\n",
       "      <th>Confidence</th>\n",
       "      <th>Efforts</th>\n",
       "    </tr>\n",
       "  </thead>\n",
       "  <tbody>\n",
       "    <tr>\n",
       "      <th>count</th>\n",
       "      <td>9.000000</td>\n",
       "      <td>9.000000</td>\n",
       "      <td>9.000000</td>\n",
       "      <td>9.000000</td>\n",
       "    </tr>\n",
       "    <tr>\n",
       "      <th>mean</th>\n",
       "      <td>4.777778</td>\n",
       "      <td>4.777778</td>\n",
       "      <td>5.555556</td>\n",
       "      <td>4.888889</td>\n",
       "    </tr>\n",
       "    <tr>\n",
       "      <th>std</th>\n",
       "      <td>3.153481</td>\n",
       "      <td>3.192874</td>\n",
       "      <td>3.045944</td>\n",
       "      <td>2.803767</td>\n",
       "    </tr>\n",
       "    <tr>\n",
       "      <th>min</th>\n",
       "      <td>1.000000</td>\n",
       "      <td>1.000000</td>\n",
       "      <td>1.000000</td>\n",
       "      <td>1.000000</td>\n",
       "    </tr>\n",
       "    <tr>\n",
       "      <th>25%</th>\n",
       "      <td>3.000000</td>\n",
       "      <td>3.000000</td>\n",
       "      <td>3.000000</td>\n",
       "      <td>3.000000</td>\n",
       "    </tr>\n",
       "    <tr>\n",
       "      <th>50%</th>\n",
       "      <td>3.000000</td>\n",
       "      <td>3.000000</td>\n",
       "      <td>7.000000</td>\n",
       "      <td>5.000000</td>\n",
       "    </tr>\n",
       "    <tr>\n",
       "      <th>75%</th>\n",
       "      <td>8.000000</td>\n",
       "      <td>7.000000</td>\n",
       "      <td>8.000000</td>\n",
       "      <td>6.000000</td>\n",
       "    </tr>\n",
       "    <tr>\n",
       "      <th>max</th>\n",
       "      <td>10.000000</td>\n",
       "      <td>10.000000</td>\n",
       "      <td>9.000000</td>\n",
       "      <td>10.000000</td>\n",
       "    </tr>\n",
       "  </tbody>\n",
       "</table>\n",
       "</div>"
      ],
      "text/plain": [
       "           Reach     Impact  Confidence    Efforts\n",
       "count   9.000000   9.000000    9.000000   9.000000\n",
       "mean    4.777778   4.777778    5.555556   4.888889\n",
       "std     3.153481   3.192874    3.045944   2.803767\n",
       "min     1.000000   1.000000    1.000000   1.000000\n",
       "25%     3.000000   3.000000    3.000000   3.000000\n",
       "50%     3.000000   3.000000    7.000000   5.000000\n",
       "75%     8.000000   7.000000    8.000000   6.000000\n",
       "max    10.000000  10.000000    9.000000  10.000000"
      ]
     },
     "metadata": {},
     "output_type": "display_data"
    },
    {
     "name": "stdout",
     "output_type": "stream",
     "text": [
      "\n",
      "\n",
      "\n",
      "Количество дубликатов 0\n"
     ]
    }
   ],
   "source": [
    "#применяем полученную функцию\n",
    "inform(hypothesis)"
   ]
  },
  {
   "cell_type": "markdown",
   "metadata": {},
   "source": [
    "Мы видим, что в датасете `hypothesis` 9 строк, которым соответствуют 9 гипотез. Эти гипотезы мы будем приоритизировать. Для каждой гипотезы определены оценки параметров ICE и RICE. Названия столбцев необходимо привести к хорошему стилю. Пропусков и дубликатов нет. ПРоблем заключается лишь в том, что гипотезы нам не полностью видны. "
   ]
  },
  {
   "cell_type": "markdown",
   "metadata": {},
   "source": [
    "Сначала поменяем размер ячейки, чтобы внего уместилась гипотеза. Затем заменим названия столбцев."
   ]
  },
  {
   "cell_type": "code",
   "execution_count": 5,
   "metadata": {},
   "outputs": [],
   "source": [
    "#настраиваем размер ячейки\n",
    "pd.set_option('max_colwidth', 120)\n",
    "pd.set_option('display.width', 500)\n",
    "#меняем название столбцев\n",
    "hypothesis.columns =  hypothesis.columns.str.lower()"
   ]
  },
  {
   "cell_type": "code",
   "execution_count": 6,
   "metadata": {
    "scrolled": true
   },
   "outputs": [
    {
     "data": {
      "text/html": [
       "<div>\n",
       "<style scoped>\n",
       "    .dataframe tbody tr th:only-of-type {\n",
       "        vertical-align: middle;\n",
       "    }\n",
       "\n",
       "    .dataframe tbody tr th {\n",
       "        vertical-align: top;\n",
       "    }\n",
       "\n",
       "    .dataframe thead th {\n",
       "        text-align: right;\n",
       "    }\n",
       "</style>\n",
       "<table border=\"1\" class=\"dataframe\">\n",
       "  <thead>\n",
       "    <tr style=\"text-align: right;\">\n",
       "      <th></th>\n",
       "      <th>hypothesis</th>\n",
       "      <th>reach</th>\n",
       "      <th>impact</th>\n",
       "      <th>confidence</th>\n",
       "      <th>efforts</th>\n",
       "    </tr>\n",
       "  </thead>\n",
       "  <tbody>\n",
       "    <tr>\n",
       "      <th>0</th>\n",
       "      <td>Добавить два новых канала привлечения трафика, что позволит привлекать на 30% больше пользователей</td>\n",
       "      <td>3</td>\n",
       "      <td>10</td>\n",
       "      <td>8</td>\n",
       "      <td>6</td>\n",
       "    </tr>\n",
       "    <tr>\n",
       "      <th>1</th>\n",
       "      <td>Запустить собственную службу доставки, что сократит срок доставки заказов</td>\n",
       "      <td>2</td>\n",
       "      <td>5</td>\n",
       "      <td>4</td>\n",
       "      <td>10</td>\n",
       "    </tr>\n",
       "    <tr>\n",
       "      <th>2</th>\n",
       "      <td>Добавить блоки рекомендаций товаров на сайт интернет магазина, чтобы повысить конверсию и средний чек заказа</td>\n",
       "      <td>8</td>\n",
       "      <td>3</td>\n",
       "      <td>7</td>\n",
       "      <td>3</td>\n",
       "    </tr>\n",
       "    <tr>\n",
       "      <th>3</th>\n",
       "      <td>Изменить структура категорий, что увеличит конверсию, т.к. пользователи быстрее найдут нужный товар</td>\n",
       "      <td>8</td>\n",
       "      <td>3</td>\n",
       "      <td>3</td>\n",
       "      <td>8</td>\n",
       "    </tr>\n",
       "    <tr>\n",
       "      <th>4</th>\n",
       "      <td>Изменить цвет фона главной страницы, чтобы увеличить вовлеченность пользователей</td>\n",
       "      <td>3</td>\n",
       "      <td>1</td>\n",
       "      <td>1</td>\n",
       "      <td>1</td>\n",
       "    </tr>\n",
       "    <tr>\n",
       "      <th>5</th>\n",
       "      <td>Добавить страницу отзывов клиентов о магазине, что позволит увеличить количество заказов</td>\n",
       "      <td>3</td>\n",
       "      <td>2</td>\n",
       "      <td>2</td>\n",
       "      <td>3</td>\n",
       "    </tr>\n",
       "    <tr>\n",
       "      <th>6</th>\n",
       "      <td>Показать на главной странице баннеры с актуальными акциями и распродажами, чтобы увеличить конверсию</td>\n",
       "      <td>5</td>\n",
       "      <td>3</td>\n",
       "      <td>8</td>\n",
       "      <td>3</td>\n",
       "    </tr>\n",
       "    <tr>\n",
       "      <th>7</th>\n",
       "      <td>Добавить форму подписки на все основные страницы, чтобы собрать базу клиентов для email-рассылок</td>\n",
       "      <td>10</td>\n",
       "      <td>7</td>\n",
       "      <td>8</td>\n",
       "      <td>5</td>\n",
       "    </tr>\n",
       "    <tr>\n",
       "      <th>8</th>\n",
       "      <td>Запустить акцию, дающую скидку на товар в день рождения</td>\n",
       "      <td>1</td>\n",
       "      <td>9</td>\n",
       "      <td>9</td>\n",
       "      <td>5</td>\n",
       "    </tr>\n",
       "  </tbody>\n",
       "</table>\n",
       "</div>"
      ],
      "text/plain": [
       "                                                                                                     hypothesis  reach  impact  confidence  efforts\n",
       "0            Добавить два новых канала привлечения трафика, что позволит привлекать на 30% больше пользователей      3      10           8        6\n",
       "1                                     Запустить собственную службу доставки, что сократит срок доставки заказов      2       5           4       10\n",
       "2  Добавить блоки рекомендаций товаров на сайт интернет магазина, чтобы повысить конверсию и средний чек заказа      8       3           7        3\n",
       "3           Изменить структура категорий, что увеличит конверсию, т.к. пользователи быстрее найдут нужный товар      8       3           3        8\n",
       "4                              Изменить цвет фона главной страницы, чтобы увеличить вовлеченность пользователей      3       1           1        1\n",
       "5                      Добавить страницу отзывов клиентов о магазине, что позволит увеличить количество заказов      3       2           2        3\n",
       "6          Показать на главной странице баннеры с актуальными акциями и распродажами, чтобы увеличить конверсию      5       3           8        3\n",
       "7              Добавить форму подписки на все основные страницы, чтобы собрать базу клиентов для email-рассылок     10       7           8        5\n",
       "8                                                       Запустить акцию, дающую скидку на товар в день рождения      1       9           9        5"
      ]
     },
     "execution_count": 6,
     "metadata": {},
     "output_type": "execute_result"
    }
   ],
   "source": [
    "#смотрим на обновленную таблицу\n",
    "hypothesis"
   ]
  },
  {
   "cell_type": "markdown",
   "metadata": {},
   "source": [
    "Теперь все выглядит прекрасно!"
   ]
  },
  {
   "cell_type": "markdown",
   "metadata": {},
   "source": [
    "Согласно документации к данным, датасет hypothesis состоит из 5 столбцев:\n",
    "    \n",
    "•\t`hypothesis` — краткое описание гипотезы;\n",
    "\n",
    "•\t`reach` — охват пользователей по 10-балльной шкале;\n",
    "\n",
    "•\t`impact` — влияние на пользователей по 10-балльной шкале;\n",
    "\n",
    "•\t`confidence` — уверенность в гипотезе по 10-балльной шкале;\n",
    "\n",
    "•\t`efforts` — затраты ресурсов на проверку гипотезы по 10-балльной шкале. Чем больше значение Efforts, тем дороже проверка гипотезы.\n"
   ]
  },
  {
   "cell_type": "markdown",
   "metadata": {},
   "source": [
    "## Датасет orders"
   ]
  },
  {
   "cell_type": "code",
   "execution_count": 7,
   "metadata": {},
   "outputs": [
    {
     "name": "stdout",
     "output_type": "stream",
     "text": [
      "\n",
      "\n",
      "\u001b[1mПервые пять строк таблицы:\u001b[0m\n"
     ]
    },
    {
     "data": {
      "text/html": [
       "<div>\n",
       "<style scoped>\n",
       "    .dataframe tbody tr th:only-of-type {\n",
       "        vertical-align: middle;\n",
       "    }\n",
       "\n",
       "    .dataframe tbody tr th {\n",
       "        vertical-align: top;\n",
       "    }\n",
       "\n",
       "    .dataframe thead th {\n",
       "        text-align: right;\n",
       "    }\n",
       "</style>\n",
       "<table border=\"1\" class=\"dataframe\">\n",
       "  <thead>\n",
       "    <tr style=\"text-align: right;\">\n",
       "      <th></th>\n",
       "      <th>transactionId</th>\n",
       "      <th>visitorId</th>\n",
       "      <th>date</th>\n",
       "      <th>revenue</th>\n",
       "      <th>group</th>\n",
       "    </tr>\n",
       "  </thead>\n",
       "  <tbody>\n",
       "    <tr>\n",
       "      <th>0</th>\n",
       "      <td>3667963787</td>\n",
       "      <td>3312258926</td>\n",
       "      <td>2019-08-15</td>\n",
       "      <td>1650</td>\n",
       "      <td>B</td>\n",
       "    </tr>\n",
       "    <tr>\n",
       "      <th>1</th>\n",
       "      <td>2804400009</td>\n",
       "      <td>3642806036</td>\n",
       "      <td>2019-08-15</td>\n",
       "      <td>730</td>\n",
       "      <td>B</td>\n",
       "    </tr>\n",
       "    <tr>\n",
       "      <th>2</th>\n",
       "      <td>2961555356</td>\n",
       "      <td>4069496402</td>\n",
       "      <td>2019-08-15</td>\n",
       "      <td>400</td>\n",
       "      <td>A</td>\n",
       "    </tr>\n",
       "    <tr>\n",
       "      <th>3</th>\n",
       "      <td>3797467345</td>\n",
       "      <td>1196621759</td>\n",
       "      <td>2019-08-15</td>\n",
       "      <td>9759</td>\n",
       "      <td>B</td>\n",
       "    </tr>\n",
       "    <tr>\n",
       "      <th>4</th>\n",
       "      <td>2282983706</td>\n",
       "      <td>2322279887</td>\n",
       "      <td>2019-08-15</td>\n",
       "      <td>2308</td>\n",
       "      <td>B</td>\n",
       "    </tr>\n",
       "  </tbody>\n",
       "</table>\n",
       "</div>"
      ],
      "text/plain": [
       "   transactionId   visitorId        date  revenue group\n",
       "0     3667963787  3312258926  2019-08-15     1650     B\n",
       "1     2804400009  3642806036  2019-08-15      730     B\n",
       "2     2961555356  4069496402  2019-08-15      400     A\n",
       "3     3797467345  1196621759  2019-08-15     9759     B\n",
       "4     2282983706  2322279887  2019-08-15     2308     B"
      ]
     },
     "metadata": {},
     "output_type": "display_data"
    },
    {
     "name": "stdout",
     "output_type": "stream",
     "text": [
      "\n",
      "\n",
      "\n",
      "\u001b[1mОбщая информация о таблице:\u001b[0m\n",
      "\n",
      "\n",
      "<class 'pandas.core.frame.DataFrame'>\n",
      "RangeIndex: 1197 entries, 0 to 1196\n",
      "Data columns (total 5 columns):\n",
      " #   Column         Non-Null Count  Dtype \n",
      "---  ------         --------------  ----- \n",
      " 0   transactionId  1197 non-null   int64 \n",
      " 1   visitorId      1197 non-null   int64 \n",
      " 2   date           1197 non-null   object\n",
      " 3   revenue        1197 non-null   int64 \n",
      " 4   group          1197 non-null   object\n",
      "dtypes: int64(3), object(2)\n",
      "memory usage: 46.9+ KB\n",
      "\n",
      "\n",
      "\n",
      "\u001b[1mДанные таблицы:\u001b[0m\n",
      "\n",
      "\n"
     ]
    },
    {
     "data": {
      "text/html": [
       "<div>\n",
       "<style scoped>\n",
       "    .dataframe tbody tr th:only-of-type {\n",
       "        vertical-align: middle;\n",
       "    }\n",
       "\n",
       "    .dataframe tbody tr th {\n",
       "        vertical-align: top;\n",
       "    }\n",
       "\n",
       "    .dataframe thead th {\n",
       "        text-align: right;\n",
       "    }\n",
       "</style>\n",
       "<table border=\"1\" class=\"dataframe\">\n",
       "  <thead>\n",
       "    <tr style=\"text-align: right;\">\n",
       "      <th></th>\n",
       "      <th>transactionId</th>\n",
       "      <th>visitorId</th>\n",
       "      <th>revenue</th>\n",
       "    </tr>\n",
       "  </thead>\n",
       "  <tbody>\n",
       "    <tr>\n",
       "      <th>count</th>\n",
       "      <td>1.197000e+03</td>\n",
       "      <td>1.197000e+03</td>\n",
       "      <td>1.197000e+03</td>\n",
       "    </tr>\n",
       "    <tr>\n",
       "      <th>mean</th>\n",
       "      <td>2.155621e+09</td>\n",
       "      <td>2.165960e+09</td>\n",
       "      <td>8.348006e+03</td>\n",
       "    </tr>\n",
       "    <tr>\n",
       "      <th>std</th>\n",
       "      <td>1.229085e+09</td>\n",
       "      <td>1.236014e+09</td>\n",
       "      <td>3.919113e+04</td>\n",
       "    </tr>\n",
       "    <tr>\n",
       "      <th>min</th>\n",
       "      <td>1.062393e+06</td>\n",
       "      <td>5.114589e+06</td>\n",
       "      <td>5.000000e+01</td>\n",
       "    </tr>\n",
       "    <tr>\n",
       "      <th>25%</th>\n",
       "      <td>1.166776e+09</td>\n",
       "      <td>1.111826e+09</td>\n",
       "      <td>1.220000e+03</td>\n",
       "    </tr>\n",
       "    <tr>\n",
       "      <th>50%</th>\n",
       "      <td>2.145194e+09</td>\n",
       "      <td>2.217985e+09</td>\n",
       "      <td>2.978000e+03</td>\n",
       "    </tr>\n",
       "    <tr>\n",
       "      <th>75%</th>\n",
       "      <td>3.237740e+09</td>\n",
       "      <td>3.177606e+09</td>\n",
       "      <td>8.290000e+03</td>\n",
       "    </tr>\n",
       "    <tr>\n",
       "      <th>max</th>\n",
       "      <td>4.293856e+09</td>\n",
       "      <td>4.283872e+09</td>\n",
       "      <td>1.294500e+06</td>\n",
       "    </tr>\n",
       "  </tbody>\n",
       "</table>\n",
       "</div>"
      ],
      "text/plain": [
       "       transactionId     visitorId       revenue\n",
       "count   1.197000e+03  1.197000e+03  1.197000e+03\n",
       "mean    2.155621e+09  2.165960e+09  8.348006e+03\n",
       "std     1.229085e+09  1.236014e+09  3.919113e+04\n",
       "min     1.062393e+06  5.114589e+06  5.000000e+01\n",
       "25%     1.166776e+09  1.111826e+09  1.220000e+03\n",
       "50%     2.145194e+09  2.217985e+09  2.978000e+03\n",
       "75%     3.237740e+09  3.177606e+09  8.290000e+03\n",
       "max     4.293856e+09  4.283872e+09  1.294500e+06"
      ]
     },
     "metadata": {},
     "output_type": "display_data"
    },
    {
     "name": "stdout",
     "output_type": "stream",
     "text": [
      "\n",
      "\n",
      "\n",
      "Количество дубликатов 0\n"
     ]
    }
   ],
   "source": [
    "#применяем полученную функцию\n",
    "inform(orders)"
   ]
  },
  {
   "cell_type": "markdown",
   "metadata": {},
   "source": [
    "Названия не соответсвуют правилам хорошего стиля. Дубликатов и пропусков нет. Нужно будет только дату привести в порядок - к нужному типу данных."
   ]
  },
  {
   "cell_type": "code",
   "execution_count": 8,
   "metadata": {},
   "outputs": [
    {
     "name": "stdout",
     "output_type": "stream",
     "text": [
      "<class 'pandas.core.frame.DataFrame'>\n",
      "RangeIndex: 1197 entries, 0 to 1196\n",
      "Data columns (total 5 columns):\n",
      " #   Column          Non-Null Count  Dtype         \n",
      "---  ------          --------------  -----         \n",
      " 0   transaction_id  1197 non-null   int64         \n",
      " 1   visitor_id      1197 non-null   int64         \n",
      " 2   date            1197 non-null   datetime64[ns]\n",
      " 3   revenue         1197 non-null   int64         \n",
      " 4   group           1197 non-null   object        \n",
      "dtypes: datetime64[ns](1), int64(3), object(1)\n",
      "memory usage: 46.9+ KB\n"
     ]
    }
   ],
   "source": [
    "#меняем тип данных\n",
    "orders['date'] = orders['date'].astype('datetime64[D]')\n",
    "#переименум столбцы\n",
    "orders = orders.rename(columns={'transactionId':'transaction_id', 'visitorId': 'visitor_id'}) \n",
    "#смотрим на результат проверки\n",
    "orders.info()"
   ]
  },
  {
   "cell_type": "markdown",
   "metadata": {},
   "source": [
    "Таблица готова к анализу."
   ]
  },
  {
   "cell_type": "markdown",
   "metadata": {},
   "source": [
    "Согласно документации к данным, датасет orders состоит из 5 столбцев:\n",
    "\n",
    "•\t`transaction_id` — идентификатор заказа;\n",
    "\n",
    "•\t`visitor_id` — идентификатор пользователя, совершившего заказ;\n",
    "\n",
    "•\t`date` — дата, когда был совершён заказ;\n",
    "\n",
    "•\t`revenue` — выручка заказа;\n",
    "\n",
    "•\t`group` — группа A/B-теста, в которую попал заказ.\n",
    "   "
   ]
  },
  {
   "cell_type": "markdown",
   "metadata": {},
   "source": [
    "## Датасет visitors"
   ]
  },
  {
   "cell_type": "code",
   "execution_count": 9,
   "metadata": {},
   "outputs": [
    {
     "name": "stdout",
     "output_type": "stream",
     "text": [
      "\n",
      "\n",
      "\u001b[1mПервые пять строк таблицы:\u001b[0m\n"
     ]
    },
    {
     "data": {
      "text/html": [
       "<div>\n",
       "<style scoped>\n",
       "    .dataframe tbody tr th:only-of-type {\n",
       "        vertical-align: middle;\n",
       "    }\n",
       "\n",
       "    .dataframe tbody tr th {\n",
       "        vertical-align: top;\n",
       "    }\n",
       "\n",
       "    .dataframe thead th {\n",
       "        text-align: right;\n",
       "    }\n",
       "</style>\n",
       "<table border=\"1\" class=\"dataframe\">\n",
       "  <thead>\n",
       "    <tr style=\"text-align: right;\">\n",
       "      <th></th>\n",
       "      <th>date</th>\n",
       "      <th>group</th>\n",
       "      <th>visitors</th>\n",
       "    </tr>\n",
       "  </thead>\n",
       "  <tbody>\n",
       "    <tr>\n",
       "      <th>0</th>\n",
       "      <td>2019-08-01</td>\n",
       "      <td>A</td>\n",
       "      <td>719</td>\n",
       "    </tr>\n",
       "    <tr>\n",
       "      <th>1</th>\n",
       "      <td>2019-08-02</td>\n",
       "      <td>A</td>\n",
       "      <td>619</td>\n",
       "    </tr>\n",
       "    <tr>\n",
       "      <th>2</th>\n",
       "      <td>2019-08-03</td>\n",
       "      <td>A</td>\n",
       "      <td>507</td>\n",
       "    </tr>\n",
       "    <tr>\n",
       "      <th>3</th>\n",
       "      <td>2019-08-04</td>\n",
       "      <td>A</td>\n",
       "      <td>717</td>\n",
       "    </tr>\n",
       "    <tr>\n",
       "      <th>4</th>\n",
       "      <td>2019-08-05</td>\n",
       "      <td>A</td>\n",
       "      <td>756</td>\n",
       "    </tr>\n",
       "  </tbody>\n",
       "</table>\n",
       "</div>"
      ],
      "text/plain": [
       "         date group  visitors\n",
       "0  2019-08-01     A       719\n",
       "1  2019-08-02     A       619\n",
       "2  2019-08-03     A       507\n",
       "3  2019-08-04     A       717\n",
       "4  2019-08-05     A       756"
      ]
     },
     "metadata": {},
     "output_type": "display_data"
    },
    {
     "name": "stdout",
     "output_type": "stream",
     "text": [
      "\n",
      "\n",
      "\n",
      "\u001b[1mОбщая информация о таблице:\u001b[0m\n",
      "\n",
      "\n",
      "<class 'pandas.core.frame.DataFrame'>\n",
      "RangeIndex: 62 entries, 0 to 61\n",
      "Data columns (total 3 columns):\n",
      " #   Column    Non-Null Count  Dtype \n",
      "---  ------    --------------  ----- \n",
      " 0   date      62 non-null     object\n",
      " 1   group     62 non-null     object\n",
      " 2   visitors  62 non-null     int64 \n",
      "dtypes: int64(1), object(2)\n",
      "memory usage: 1.6+ KB\n",
      "\n",
      "\n",
      "\n",
      "\u001b[1mДанные таблицы:\u001b[0m\n",
      "\n",
      "\n"
     ]
    },
    {
     "data": {
      "text/html": [
       "<div>\n",
       "<style scoped>\n",
       "    .dataframe tbody tr th:only-of-type {\n",
       "        vertical-align: middle;\n",
       "    }\n",
       "\n",
       "    .dataframe tbody tr th {\n",
       "        vertical-align: top;\n",
       "    }\n",
       "\n",
       "    .dataframe thead th {\n",
       "        text-align: right;\n",
       "    }\n",
       "</style>\n",
       "<table border=\"1\" class=\"dataframe\">\n",
       "  <thead>\n",
       "    <tr style=\"text-align: right;\">\n",
       "      <th></th>\n",
       "      <th>visitors</th>\n",
       "    </tr>\n",
       "  </thead>\n",
       "  <tbody>\n",
       "    <tr>\n",
       "      <th>count</th>\n",
       "      <td>62.000000</td>\n",
       "    </tr>\n",
       "    <tr>\n",
       "      <th>mean</th>\n",
       "      <td>607.290323</td>\n",
       "    </tr>\n",
       "    <tr>\n",
       "      <th>std</th>\n",
       "      <td>114.400560</td>\n",
       "    </tr>\n",
       "    <tr>\n",
       "      <th>min</th>\n",
       "      <td>361.000000</td>\n",
       "    </tr>\n",
       "    <tr>\n",
       "      <th>25%</th>\n",
       "      <td>534.000000</td>\n",
       "    </tr>\n",
       "    <tr>\n",
       "      <th>50%</th>\n",
       "      <td>624.500000</td>\n",
       "    </tr>\n",
       "    <tr>\n",
       "      <th>75%</th>\n",
       "      <td>710.500000</td>\n",
       "    </tr>\n",
       "    <tr>\n",
       "      <th>max</th>\n",
       "      <td>770.000000</td>\n",
       "    </tr>\n",
       "  </tbody>\n",
       "</table>\n",
       "</div>"
      ],
      "text/plain": [
       "         visitors\n",
       "count   62.000000\n",
       "mean   607.290323\n",
       "std    114.400560\n",
       "min    361.000000\n",
       "25%    534.000000\n",
       "50%    624.500000\n",
       "75%    710.500000\n",
       "max    770.000000"
      ]
     },
     "metadata": {},
     "output_type": "display_data"
    },
    {
     "name": "stdout",
     "output_type": "stream",
     "text": [
      "\n",
      "\n",
      "\n",
      "Количество дубликатов 0\n"
     ]
    }
   ],
   "source": [
    "#применяем полученную функцию\n",
    "inform(visitors)"
   ]
  },
  {
   "cell_type": "markdown",
   "metadata": {},
   "source": [
    "В таблице нет дубликатов и пропусков. Названия таблиц соответствуют правилам хорошего стиля. Проблема только в дате - ей нужен правильный формат."
   ]
  },
  {
   "cell_type": "code",
   "execution_count": 10,
   "metadata": {},
   "outputs": [
    {
     "name": "stdout",
     "output_type": "stream",
     "text": [
      "<class 'pandas.core.frame.DataFrame'>\n",
      "RangeIndex: 62 entries, 0 to 61\n",
      "Data columns (total 3 columns):\n",
      " #   Column    Non-Null Count  Dtype         \n",
      "---  ------    --------------  -----         \n",
      " 0   date      62 non-null     datetime64[ns]\n",
      " 1   group     62 non-null     object        \n",
      " 2   visitors  62 non-null     int64         \n",
      "dtypes: datetime64[ns](1), int64(1), object(1)\n",
      "memory usage: 1.6+ KB\n"
     ]
    }
   ],
   "source": [
    "#меняем тип данных\n",
    "visitors['date'] = visitors['date'].astype('datetime64[D]')\n",
    "#смотрим на результат проверки\n",
    "visitors.info()"
   ]
  },
  {
   "cell_type": "markdown",
   "metadata": {},
   "source": [
    "Других проблем нет!"
   ]
  },
  {
   "cell_type": "markdown",
   "metadata": {},
   "source": [
    "Согласно документации к данным, датасет visitors состоит из 3 столбцев:\n",
    "\n",
    "•\t`date` — дата;\n",
    "\n",
    "•\t`group` — группа A/B-теста;\n",
    "\n",
    "•\t`visitors` — количество пользователей в указанную дату в указанной группе A/B-теста\n",
    "    "
   ]
  },
  {
   "cell_type": "markdown",
   "metadata": {},
   "source": [
    "Теперь можно переходить к следующему шагу."
   ]
  },
  {
   "cell_type": "markdown",
   "metadata": {},
   "source": [
    "Для точности исследования посмотрим, сколько пользователей попали в обе группы."
   ]
  },
  {
   "cell_type": "code",
   "execution_count": 11,
   "metadata": {},
   "outputs": [
    {
     "data": {
      "text/plain": [
       "58"
      ]
     },
     "execution_count": 11,
     "metadata": {},
     "output_type": "execute_result"
    }
   ],
   "source": [
    "#пользователи группы A\n",
    "ordersA = orders.query('group == \"A\"')['visitor_id']\n",
    "#пользователи группы B\n",
    "ordersB = orders.query('group == \"B\"')\n",
    "#выделяем пользователей, который входили в обе группы\n",
    "problem =ordersB.query('visitor_id in @ordersA')\n",
    "#считаем количество уникальных пользователей.\n",
    "problem['visitor_id'].nunique()"
   ]
  },
  {
   "cell_type": "code",
   "execution_count": 12,
   "metadata": {},
   "outputs": [],
   "source": [
    "#оставляем только уникальных пользователей.\n",
    "problem = problem['visitor_id'].unique()"
   ]
  },
  {
   "cell_type": "markdown",
   "metadata": {},
   "source": [
    "Всего 58 пользователей попали сразу в 2 группы. Для чисоты исслдований можно от них избавиться, чтобы они не искажали результат исследования."
   ]
  },
  {
   "cell_type": "code",
   "execution_count": 13,
   "metadata": {},
   "outputs": [],
   "source": [
    "#удаляем повторяющихся пользователей\n",
    "orders = orders.query('visitor_id not in @problem')"
   ]
  },
  {
   "cell_type": "markdown",
   "metadata": {},
   "source": [
    "Теперь можно работать с данными"
   ]
  },
  {
   "cell_type": "markdown",
   "metadata": {},
   "source": [
    "# Шаг 2. Приоритизируем гипотезы"
   ]
  },
  {
   "cell_type": "markdown",
   "metadata": {},
   "source": [
    "## Применяем фреймворк ICE для приоритизации гипотез. Сортируем их по убыванию приоритета.\n",
    "\n"
   ]
  },
  {
   "cell_type": "markdown",
   "metadata": {},
   "source": [
    "Напомним, что ICE рассчитывается по следующей формуле:\n",
    "    \n",
    "**(impact * confidence) / efforts**"
   ]
  },
  {
   "cell_type": "markdown",
   "metadata": {},
   "source": [
    "Посчитаем ICE для гипотез. Добавим полученные значения ICE в  `hypothesis` . Новый столбец назовите ICE. "
   ]
  },
  {
   "cell_type": "code",
   "execution_count": 14,
   "metadata": {
    "scrolled": true
   },
   "outputs": [
    {
     "data": {
      "text/html": [
       "<div>\n",
       "<style scoped>\n",
       "    .dataframe tbody tr th:only-of-type {\n",
       "        vertical-align: middle;\n",
       "    }\n",
       "\n",
       "    .dataframe tbody tr th {\n",
       "        vertical-align: top;\n",
       "    }\n",
       "\n",
       "    .dataframe thead th {\n",
       "        text-align: right;\n",
       "    }\n",
       "</style>\n",
       "<table border=\"1\" class=\"dataframe\">\n",
       "  <thead>\n",
       "    <tr style=\"text-align: right;\">\n",
       "      <th></th>\n",
       "      <th>hypothesis</th>\n",
       "      <th>ICE</th>\n",
       "    </tr>\n",
       "  </thead>\n",
       "  <tbody>\n",
       "    <tr>\n",
       "      <th>8</th>\n",
       "      <td>Запустить акцию, дающую скидку на товар в день рождения</td>\n",
       "      <td>16.2</td>\n",
       "    </tr>\n",
       "    <tr>\n",
       "      <th>0</th>\n",
       "      <td>Добавить два новых канала привлечения трафика, что позволит привлекать на 30% больше пользователей</td>\n",
       "      <td>13.3</td>\n",
       "    </tr>\n",
       "    <tr>\n",
       "      <th>7</th>\n",
       "      <td>Добавить форму подписки на все основные страницы, чтобы собрать базу клиентов для email-рассылок</td>\n",
       "      <td>11.2</td>\n",
       "    </tr>\n",
       "    <tr>\n",
       "      <th>6</th>\n",
       "      <td>Показать на главной странице баннеры с актуальными акциями и распродажами, чтобы увеличить конверсию</td>\n",
       "      <td>8.0</td>\n",
       "    </tr>\n",
       "    <tr>\n",
       "      <th>2</th>\n",
       "      <td>Добавить блоки рекомендаций товаров на сайт интернет магазина, чтобы повысить конверсию и средний чек заказа</td>\n",
       "      <td>7.0</td>\n",
       "    </tr>\n",
       "    <tr>\n",
       "      <th>1</th>\n",
       "      <td>Запустить собственную службу доставки, что сократит срок доставки заказов</td>\n",
       "      <td>2.0</td>\n",
       "    </tr>\n",
       "    <tr>\n",
       "      <th>5</th>\n",
       "      <td>Добавить страницу отзывов клиентов о магазине, что позволит увеличить количество заказов</td>\n",
       "      <td>1.3</td>\n",
       "    </tr>\n",
       "    <tr>\n",
       "      <th>3</th>\n",
       "      <td>Изменить структура категорий, что увеличит конверсию, т.к. пользователи быстрее найдут нужный товар</td>\n",
       "      <td>1.1</td>\n",
       "    </tr>\n",
       "    <tr>\n",
       "      <th>4</th>\n",
       "      <td>Изменить цвет фона главной страницы, чтобы увеличить вовлеченность пользователей</td>\n",
       "      <td>1.0</td>\n",
       "    </tr>\n",
       "  </tbody>\n",
       "</table>\n",
       "</div>"
      ],
      "text/plain": [
       "                                                                                                     hypothesis   ICE\n",
       "8                                                       Запустить акцию, дающую скидку на товар в день рождения  16.2\n",
       "0            Добавить два новых канала привлечения трафика, что позволит привлекать на 30% больше пользователей  13.3\n",
       "7              Добавить форму подписки на все основные страницы, чтобы собрать базу клиентов для email-рассылок  11.2\n",
       "6          Показать на главной странице баннеры с актуальными акциями и распродажами, чтобы увеличить конверсию   8.0\n",
       "2  Добавить блоки рекомендаций товаров на сайт интернет магазина, чтобы повысить конверсию и средний чек заказа   7.0\n",
       "1                                     Запустить собственную службу доставки, что сократит срок доставки заказов   2.0\n",
       "5                      Добавить страницу отзывов клиентов о магазине, что позволит увеличить количество заказов   1.3\n",
       "3           Изменить структура категорий, что увеличит конверсию, т.к. пользователи быстрее найдут нужный товар   1.1\n",
       "4                              Изменить цвет фона главной страницы, чтобы увеличить вовлеченность пользователей   1.0"
      ]
     },
     "execution_count": 14,
     "metadata": {},
     "output_type": "execute_result"
    }
   ],
   "source": [
    "#считаем ICE\n",
    "hypothesis['ICE'] =round((( hypothesis['impact'] * hypothesis['confidence'] ) / hypothesis['efforts']), 1) \n",
    "#сортируем гипотезы по убыванию приоритета\n",
    "hypothesis[['hypothesis', 'ICE']].sort_values(by='ICE', ascending = False)"
   ]
  },
  {
   "cell_type": "markdown",
   "metadata": {},
   "source": [
    "Самые перспективные:\n",
    "\n",
    "1) Мы видим, что самой перспективной гипотезой является **9 гипотеза**, которая говорит нам о том, что нужно запустить  акцию, дающую скидку на товар в день рождения. (ICE равен 16.2)\n",
    "\n",
    "2) На втором месте по перспективности расположилась **1 гипотеза**, которая предлагает добавить два новых канала привлечения трафика, что позволит привлекать на 30% больше пользователей.(ICE равен 13.3)\n",
    "\n",
    "3) Тройку закрывает **8 гипотеза**, которая предлагает добавить форму подписки на все основные страницы, чтобы собрать базу клиентов для email-рассылок.(ICE равен 11.2)\n",
    "\n",
    "Данные гипотезы попали в тройку лидеров, поскольку они являются лидерами по таким критериям, как влияние и уверенность, которые заметно выше критерия, характеризующего усилия, которые необходимо будет затратить на проверку гипотезы."
   ]
  },
  {
   "cell_type": "markdown",
   "metadata": {},
   "source": [
    "Самые неудачные:\n",
    "    \n",
    "1) Самой неперспективной оказалась **5 гипотеза**, говорящая нам о том, что изменение цвета фона главной страницы для увеличения вовлеченности пользователей поможет нам увеличить выручку.(ICE равен 1.0)\n",
    "\n",
    "2) Второй по неперспективности следует **4 гипотеза**, предлагающая нам изменить структуру категорий, чтобы увеличит конверсию, т.к. пользователи быстрее найдут нужный товар. (ICE равен 1.0)\n",
    "\n",
    "3) Тройку неудачников замыкает **6 гипотеза**, которая говорит нам о том, что выручку увеличит добавление страницы отзывов клиентов о магазине, чтобы позволит увеличить количество заказов (ICE равен 1.3)\n",
    "\n",
    "Сами гипотезы могут быть и неплохими, однако усилий на их проверку будет потрачено больше, чем критерий, отражающий то, насколько сильно изменение повлияет на охваченных пользователей. данных гипотез и уверенность в оценках параметров."
   ]
  },
  {
   "cell_type": "markdown",
   "metadata": {},
   "source": [
    "## Применяем фреймворк RICE для приоритизации гипотез. Сортируем их по убыванию приоритета.\n"
   ]
  },
  {
   "cell_type": "markdown",
   "metadata": {},
   "source": [
    "Напомним, что RICE рассчитывается по следующей формуле:\n",
    "\n",
    "**(impact * reach * confidence) / efforts**"
   ]
  },
  {
   "cell_type": "code",
   "execution_count": 15,
   "metadata": {},
   "outputs": [
    {
     "data": {
      "text/html": [
       "<div>\n",
       "<style scoped>\n",
       "    .dataframe tbody tr th:only-of-type {\n",
       "        vertical-align: middle;\n",
       "    }\n",
       "\n",
       "    .dataframe tbody tr th {\n",
       "        vertical-align: top;\n",
       "    }\n",
       "\n",
       "    .dataframe thead th {\n",
       "        text-align: right;\n",
       "    }\n",
       "</style>\n",
       "<table border=\"1\" class=\"dataframe\">\n",
       "  <thead>\n",
       "    <tr style=\"text-align: right;\">\n",
       "      <th></th>\n",
       "      <th>hypothesis</th>\n",
       "      <th>RICE</th>\n",
       "    </tr>\n",
       "  </thead>\n",
       "  <tbody>\n",
       "    <tr>\n",
       "      <th>7</th>\n",
       "      <td>Добавить форму подписки на все основные страницы, чтобы собрать базу клиентов для email-рассылок</td>\n",
       "      <td>112.0</td>\n",
       "    </tr>\n",
       "    <tr>\n",
       "      <th>2</th>\n",
       "      <td>Добавить блоки рекомендаций товаров на сайт интернет магазина, чтобы повысить конверсию и средний чек заказа</td>\n",
       "      <td>56.0</td>\n",
       "    </tr>\n",
       "    <tr>\n",
       "      <th>0</th>\n",
       "      <td>Добавить два новых канала привлечения трафика, что позволит привлекать на 30% больше пользователей</td>\n",
       "      <td>40.0</td>\n",
       "    </tr>\n",
       "    <tr>\n",
       "      <th>6</th>\n",
       "      <td>Показать на главной странице баннеры с актуальными акциями и распродажами, чтобы увеличить конверсию</td>\n",
       "      <td>40.0</td>\n",
       "    </tr>\n",
       "    <tr>\n",
       "      <th>8</th>\n",
       "      <td>Запустить акцию, дающую скидку на товар в день рождения</td>\n",
       "      <td>16.2</td>\n",
       "    </tr>\n",
       "    <tr>\n",
       "      <th>3</th>\n",
       "      <td>Изменить структура категорий, что увеличит конверсию, т.к. пользователи быстрее найдут нужный товар</td>\n",
       "      <td>9.0</td>\n",
       "    </tr>\n",
       "    <tr>\n",
       "      <th>1</th>\n",
       "      <td>Запустить собственную службу доставки, что сократит срок доставки заказов</td>\n",
       "      <td>4.0</td>\n",
       "    </tr>\n",
       "    <tr>\n",
       "      <th>5</th>\n",
       "      <td>Добавить страницу отзывов клиентов о магазине, что позволит увеличить количество заказов</td>\n",
       "      <td>4.0</td>\n",
       "    </tr>\n",
       "    <tr>\n",
       "      <th>4</th>\n",
       "      <td>Изменить цвет фона главной страницы, чтобы увеличить вовлеченность пользователей</td>\n",
       "      <td>3.0</td>\n",
       "    </tr>\n",
       "  </tbody>\n",
       "</table>\n",
       "</div>"
      ],
      "text/plain": [
       "                                                                                                     hypothesis   RICE\n",
       "7              Добавить форму подписки на все основные страницы, чтобы собрать базу клиентов для email-рассылок  112.0\n",
       "2  Добавить блоки рекомендаций товаров на сайт интернет магазина, чтобы повысить конверсию и средний чек заказа   56.0\n",
       "0            Добавить два новых канала привлечения трафика, что позволит привлекать на 30% больше пользователей   40.0\n",
       "6          Показать на главной странице баннеры с актуальными акциями и распродажами, чтобы увеличить конверсию   40.0\n",
       "8                                                       Запустить акцию, дающую скидку на товар в день рождения   16.2\n",
       "3           Изменить структура категорий, что увеличит конверсию, т.к. пользователи быстрее найдут нужный товар    9.0\n",
       "1                                     Запустить собственную службу доставки, что сократит срок доставки заказов    4.0\n",
       "5                      Добавить страницу отзывов клиентов о магазине, что позволит увеличить количество заказов    4.0\n",
       "4                              Изменить цвет фона главной страницы, чтобы увеличить вовлеченность пользователей    3.0"
      ]
     },
     "execution_count": 15,
     "metadata": {},
     "output_type": "execute_result"
    }
   ],
   "source": [
    "#считаем RICE\n",
    "hypothesis['RICE'] = (hypothesis['reach'] * hypothesis['impact'] * hypothesis['confidence']) / hypothesis['efforts']\n",
    "#сортируем гипотезы по убыванию приоритета\n",
    "hypothesis[['hypothesis', 'RICE']].sort_values(by='RICE', ascending = False)"
   ]
  },
  {
   "cell_type": "markdown",
   "metadata": {},
   "source": [
    "Самые перспективные:\n",
    "\n",
    "1) Мы видим, что самой перспективной гипотезой является **8 гипотеза**, которая говорит нам о том, что нужно добавить форму подписки на все основные страницы, чтобы собрать базу клиентов для email-рассылок. (RICE равен 112.0)\n",
    "\n",
    "2) На втором месте по перспективности расположилась **3 гипотеза**, которая предлагает добавить блоки рекомендаций товаров на сайт интернет магазина, чтобы повысить конверсию и средний чек заказа. (RICE равен 56.0)\n",
    "\n",
    "3) Тройку закрывает **1 гипотеза**, которая предлагает добавить два новых канала привлечения трафика, что позволит привлекать на 30% больше пользователей.(RICE равен 40.0)\n",
    "\n",
    "4) Третье место вместе с 1 гипотезой разделяет **7 гипотеза**, которая предлагает показывать на главной странице баннеры с актуальными акциями и распродажами, чтобы увеличить конверсию.(RICE равен 40.0)\n",
    "\n",
    "Данные гипотезы попали в тройку лидеров, поскольку они являются лидерами по таким критериям, как влияние и уверенность, а также охват пользователей, которые заметно выше критерия, характеризующего усилия, которые необходимо будет затратить на проверку гипотезы."
   ]
  },
  {
   "cell_type": "markdown",
   "metadata": {},
   "source": [
    "Самые неудачные:\n",
    "\n",
    "1) Самой неперспективной оказалась **5 гипотеза**, говорящая нам о том, что изменение цвета фона главной страницы для увеличения вовлеченности пользователей поможет нам увеличить выручку.(RICE равен 3.0)\n",
    "\n",
    "2) Второй по неперспективности следует **6 гипотеза**, предлагающая нам добавить страницу отзывов клиентов о магазине, чтобы  увеличить количество заказов. (RICE равен 4.0)\n",
    "\n",
    "3) Тройку неудачников замыкает **2 гипотеза**, которая говорит нам о том, что выручку увеличит запуск собственной службы доставки, чтобы сократит срок доставки заказов. (ICE равен 1.3)\n",
    "\n",
    "Сами гипотезы могут быть и неплохими, однако усилий на их проверку будет потрачено больше, чем критерий, отражающий то, насколько сильно изменение повлияет на охваченных пользователей данных гипотез, критерий, отражающий скольких пользователей затронет изменение, которое вы хотите внести и уверенность в оценках параметров."
   ]
  },
  {
   "cell_type": "markdown",
   "metadata": {},
   "source": [
    "## Указываем, как изменилась приоритизация гипотез при применении RICE вместо ICE. Объясняем причины."
   ]
  },
  {
   "cell_type": "markdown",
   "metadata": {},
   "source": [
    "Мы видим, что приоритизация гипотез не сильно изменилось при смене способа приоритизации задач.\n",
    "\n",
    "В частности, оба метода показали, что самыми перспективными гипотезами являются 8 и 1. Самыми же неперспективными являются гипотезы 5 и 6.\n",
    "\n",
    "Метод ICE в тройку перспективных влкючил еще и 9 гипотезу, которая при методе RICE занимает 5 место из 9. Метод RICE в тройку перспективных включил еще 7 и 3 гипотезы, которые для метода ICE занимают 4 и 5 место.\n",
    "\n",
    "Метод ICE в тройку неперспективных влкючил еще и 4 гипотезу, которая при методе RICE занимает 6 место и выходит в четверку самых неперспективных. Метод RICE в тройку перспективных включил еще и 2 гипотезу, которые для метода ICE занимают 5 место.\n",
    "\n",
    "В целом результаты у обоих методов схожи. Различия обяъсняются тем, что при использовании способа RICE учитывается так же и параметр reach, который характеризует то, скольких пользователей затронет изменение, которое вы хотите внести. Этот параметр смог сделать более приоритетными некоторые гипотезы, в результате чего и изменились топы. Способ ICE же не учитывает данный параметр, поэтому некоторые гипотезы, реализация которых смогла бы затронуть большое количество пользователей, просто оставались без внимания."
   ]
  },
  {
   "cell_type": "markdown",
   "metadata": {},
   "source": [
    "# Шаг 3. Анализ A/B-теста"
   ]
  },
  {
   "cell_type": "markdown",
   "metadata": {},
   "source": [
    "## 1. Построим график кумулятивной выручки по группам. На основе графика сделаем выводы и предположения.\n"
   ]
  },
  {
   "cell_type": "markdown",
   "metadata": {},
   "source": [
    "Для того, чтобы это сделать нам нужно сначала получить датасет с уникальными парами \"группа - дата\". После этого мы создадим датсаес с помощью датасета orders с накоплением количества транзакций, пользователей и суммированием выручки с каждым днем. После этого мы сделаем то же самое с датасетом visitors. Затем мы объединим оба датасета и разделим их на группы A и B, по которым уже построим график."
   ]
  },
  {
   "cell_type": "code",
   "execution_count": 16,
   "metadata": {},
   "outputs": [
    {
     "data": {
      "image/png": "[encoded data removed]",
      "text/plain": [
       "<Figure size 1080x360 with 1 Axes>"
      ]
     },
     "metadata": {
      "needs_background": "light"
     },
     "output_type": "display_data"
    }
   ],
   "source": [
    "# конвертеры, которые позволяют использовать типы pandas в matplotlib  \n",
    "register_matplotlib_converters()\n",
    "#создаем датасет с уникальными парами даты и группы\n",
    "datesGroups = orders[['date', 'group']].drop_duplicates()\n",
    "#получаем кумулятивную выручку, количество заказов и пользователей для каждой даты и группы\n",
    "ordersAggregated = datesGroups.apply(lambda x: \n",
    "                                     orders[np.logical_and(orders['date'] <= x['date'], orders['group'] == x['group'])].agg(\n",
    "        {'date': 'max','group': 'max','transaction_id': 'nunique','visitor_id': 'nunique','revenue': 'sum',}),\n",
    "                                     axis=1,).sort_values(by=['date', 'group'])\n",
    "\n",
    "#получаем кумулятивное количество посетителей\n",
    "visitorsAggregated = datesGroups.apply(lambda x: visitors[np.logical_and(visitors['date'] <= x['date'], \n",
    "visitors['group'] == x['group'])].agg({'date': 'max', 'group': 'max', 'visitors': 'sum'}), \n",
    "                                       axis=1,).sort_values(by=['date', 'group'])\n",
    "#объединяем датасеты\n",
    "cumulativeData = ordersAggregated.merge(\n",
    "    visitorsAggregated, left_on=['date', 'group'], right_on=['date', 'group']\n",
    ")\n",
    "#переименовываем столбцы\n",
    "cumulativeData.columns = [\n",
    "    'date',\n",
    "    'group',\n",
    "    'orders',\n",
    "    'buyers',\n",
    "    'revenue',\n",
    "    'visitors',\n",
    "]\n",
    "\n",
    "# датафрейм с кумулятивным количеством заказов и кумулятивной выручкой по дням в группе А\n",
    "cumulativeRevenueA = cumulativeData[cumulativeData['group']=='A'][['date','revenue', 'orders']]\n",
    "\n",
    "# датафрейм с кумулятивным количеством заказов и кумулятивной выручкой по дням в группе B\n",
    "cumulativeRevenueB = cumulativeData[cumulativeData['group']=='B'][['date','revenue', 'orders']]\n",
    "\n",
    "# задаём сетку отрисовки графиков\n",
    "plt.figure(figsize=(15, 5))\n",
    "\n",
    "# Строим график выручки группы А\n",
    "plt.plot(cumulativeRevenueA['date'], cumulativeRevenueA['revenue'], label='A')\n",
    "\n",
    "# Строим график выручки группы B\n",
    "plt.plot(cumulativeRevenueB['date'], cumulativeRevenueB['revenue'], label='B')\n",
    "\n",
    "plt.legend() \n",
    "plt.title(\"График кумулятивной выручки по группам\")\n",
    "plt.xlabel(\"Дата\")\n",
    "plt.ylabel(\"Выручка\")\n",
    "plt.show()"
   ]
  },
  {
   "cell_type": "markdown",
   "metadata": {},
   "source": [
    "### Вывод"
   ]
  },
  {
   "cell_type": "markdown",
   "metadata": {},
   "source": [
    "Мы видим, что примерно до середины теста сегменты имели одинаковый объем выручки. Однако примерно в середине теста сегмент B вырвался вперёд и продолжал лидировать весь остаток теста. Возможно, что аномально большие заказы всё-таки влияют на результаты. При заключительном анализе их нужно удалить. Однако стоит отметить, что сегмент B никогда по выручке не проигрывал сегменту A, поэтому можно предположить, что при устранении выбросов результат не сильно изменится."
   ]
  },
  {
   "cell_type": "markdown",
   "metadata": {},
   "source": [
    "## 2. Построим  график кумулятивного среднего чека по группам. На основе графика сделаем выводы и предположения."
   ]
  },
  {
   "cell_type": "markdown",
   "metadata": {},
   "source": [
    "Чтобы сделать это нам необходимо поделить выручку для каждой даты на количество заказов в эту дату для каждой из групп. Так мы получим средний чек для каждой из дат. По полученным данным уже будем строить графики."
   ]
  },
  {
   "cell_type": "code",
   "execution_count": 17,
   "metadata": {
    "scrolled": false
   },
   "outputs": [
    {
     "data": {
      "image/png": "[encoded data removed]",
      "text/plain": [
       "<Figure size 1080x360 with 1 Axes>"
      ]
     },
     "metadata": {
      "needs_background": "light"
     },
     "output_type": "display_data"
    }
   ],
   "source": [
    "# задаём сетку отрисовки графиков\n",
    "plt.figure(figsize=(15, 5))\n",
    "#делим выручку на количество заказов для каждой даты в группе A\n",
    "plt.plot(cumulativeRevenueA['date'], cumulativeRevenueA['revenue']/cumulativeRevenueA['orders'], label='A')\n",
    "#делим выручку на количество заказов для каждой даты в группе B\n",
    "plt.plot(cumulativeRevenueB['date'], cumulativeRevenueB['revenue']/cumulativeRevenueB['orders'], label='B')\n",
    "plt.legend() \n",
    "plt.title(\"График кумулятивного среднего чека по группам\")\n",
    "plt.xlabel(\"Дата\")\n",
    "plt.ylabel(\"Средний чек\")\n",
    "plt.show()"
   ]
  },
  {
   "cell_type": "markdown",
   "metadata": {},
   "source": [
    "### Вывод"
   ]
  },
  {
   "cell_type": "markdown",
   "metadata": {},
   "source": [
    "Кумулятивное значение среднего чека по сегментам продолжает колебаться. Скорее всего, принимать решение по этой метрике рано. Требуется дополнительный анализ выбросов, которые так сильно искажают результаты. Мы видим, что средний чек для сегмента B был в некоторые даты ниже, чем для сегмента A. Так же мы видим, резкий скачок среднего чека в середине теста, что в принципе означает наличие аномально больших заказов. При этом в дальнейшем средний чек для сегмента B начинает снижаться."
   ]
  },
  {
   "cell_type": "markdown",
   "metadata": {},
   "source": [
    "## 3. Построим график относительного изменения кумулятивного среднего чека группы B к группе A. На основе графика сделаем выводы и предположения."
   ]
  },
  {
   "cell_type": "markdown",
   "metadata": {},
   "source": [
    "Чтобы выполнить задание, мы должны объединить таблицы cumulativeRevenueA и cumulativeRevenueB методом merge() так, чтобы итоговая таблица содержала столбцы: `['date', 'revenueA', 'revenueB', 'ordersA', 'ordersB']`. "
   ]
  },
  {
   "cell_type": "code",
   "execution_count": 18,
   "metadata": {
    "scrolled": true
   },
   "outputs": [
    {
     "data": {
      "image/png": "[encoded data removed]",
      "text/plain": [
       "<Figure size 1080x360 with 1 Axes>"
      ]
     },
     "metadata": {
      "needs_background": "light"
     },
     "output_type": "display_data"
    }
   ],
   "source": [
    "# собираем данные в одном датафрейме, добавляя приписку в виде названия группы\n",
    "mergedCumulativeRevenue = cumulativeRevenueA.merge(cumulativeRevenueB, left_on='date', right_on='date', how='left', suffixes=['A', 'B'])\n",
    "\n",
    "# задаём сетку отрисовки графиков\n",
    "plt.figure(figsize=(15, 5))\n",
    "\n",
    "# cтроим отношение средних чеков\n",
    "plt.plot(mergedCumulativeRevenue['date'], (mergedCumulativeRevenue['revenueB']/mergedCumulativeRevenue['ordersB'])/(mergedCumulativeRevenue['revenueA']/mergedCumulativeRevenue['ordersA'])-1)\n",
    "\n",
    "# добавляем ось X\n",
    "plt.axhline(y=0, color='black', linestyle='--') \n",
    "plt.title(\"График относительного изменения кумулятивного среднего чека группы B к группе A\")\n",
    "plt.xlabel(\"Дата\")\n",
    "plt.ylabel(\"Относительное изменение\")\n",
    "plt.show()"
   ]
  },
  {
   "cell_type": "markdown",
   "metadata": {},
   "source": [
    "### Вывод"
   ]
  },
  {
   "cell_type": "markdown",
   "metadata": {},
   "source": [
    "Перед нами график относительного изменения кумулятивного среднего чека группы B к группе A. Он показывает то, как менялось отношение кумулятивного среднечего чека группы B к группе A. Мы видим, что результаты теста значительно и резко менялись в несколько дат. Как минимум происходило около 5 резких изменений тенденций отношения. Скорее всего, именно в даты резких изменений были совершены аномальные заказы. Также в середине исследования заметен резкий скачок для группы B."
   ]
  },
  {
   "cell_type": "markdown",
   "metadata": {},
   "source": [
    "## 4. Построим график кумулятивной конверсии по группам. На основе графика сделаем выводы и предположения."
   ]
  },
  {
   "cell_type": "markdown",
   "metadata": {},
   "source": [
    "Для этого мы добавляем столбец `conversion` в общий датасет для рассчета конверсии (количество заказов делим на количество пользователей). Затем общий датасет мы делим по группам, по которым мы уже строим графики."
   ]
  },
  {
   "cell_type": "code",
   "execution_count": 19,
   "metadata": {
    "scrolled": true
   },
   "outputs": [
    {
     "data": {
      "image/png": "[encoded data removed]",
      "text/plain": [
       "<Figure size 1080x360 with 1 Axes>"
      ]
     },
     "metadata": {
      "needs_background": "light"
     },
     "output_type": "display_data"
    }
   ],
   "source": [
    "# считаем кумулятивную конверсию\n",
    "cumulativeData['conversion'] = cumulativeData['orders']/cumulativeData['visitors']\n",
    "\n",
    "# отделяем данные по группе A\n",
    "cumulativeDataA = cumulativeData[cumulativeData['group']=='A']\n",
    "\n",
    "# отделяем данные по группе B\n",
    "cumulativeDataB = cumulativeData[cumulativeData['group']=='B']\n",
    "# задаём сетку отрисовки графиков\n",
    "plt.figure(figsize=(15, 5))\n",
    "# строим графики\n",
    "plt.plot(cumulativeDataA['date'], cumulativeDataA['conversion'], label='A')\n",
    "plt.plot(cumulativeDataB['date'], cumulativeDataB['conversion'], label='B')\n",
    "plt.legend()\n",
    "plt.title(\"График кумулятивной конверсии по группам\")\n",
    "plt.xlabel(\"Дата\")\n",
    "plt.ylabel(\"Конверсия\")\n",
    "plt.show()\n"
   ]
  },
  {
   "cell_type": "markdown",
   "metadata": {},
   "source": [
    "### Вывод"
   ]
  },
  {
   "cell_type": "markdown",
   "metadata": {},
   "source": [
    "В начале теста сегмент A имел намного большую конверсию, чем сегмент B, но затем сегмент A резко упал, после чего оставлался примерно на одном уровне. Сегмент B сначала был заметно меньше сегмента A, затем резко вырос, после резко упал и снова резко вырос, стабилизировавшись к середине теста. Так мы видим, что сегмент B имел большую кумулятивную конверсию, чем сегмент А практически на протяжении всего теста. График подтвержадет наличие выбросов, от которых желательно избавиться, чтобы объективно оценивать результаты теста.\n",
    "Конверсия сегмента A могла иметь аномалии в начале теста, после чего стабилизировалась, в то время как конверсия сегмента B, скорее всего, имела аномалии в середине теста, после чего начала стабилизироваться."
   ]
  },
  {
   "cell_type": "markdown",
   "metadata": {},
   "source": [
    "## 5. Построим график относительного изменения кумулятивной конверсии группы B к группе A. На основе графика сделаем выводы и предположения."
   ]
  },
  {
   "cell_type": "markdown",
   "metadata": {},
   "source": [
    "Для этого мы объединим таблицы cumulativeDataA и cumulativeDataB методом merge() так, чтобы итоговая таблица содержала столбцы: `['date', 'conversionA', 'conversionB']`. Затем же рассчитаем относительную конверсию, для которой и построим график."
   ]
  },
  {
   "cell_type": "code",
   "execution_count": 20,
   "metadata": {
    "scrolled": true
   },
   "outputs": [
    {
     "data": {
      "image/png": "[encoded data removed]",
      "text/plain": [
       "<Figure size 1080x360 with 1 Axes>"
      ]
     },
     "metadata": {
      "needs_background": "light"
     },
     "output_type": "display_data"
    }
   ],
   "source": [
    "#собираем данные в одном датафрейме, добавляя приписку в виде названия группы\n",
    "mergedCumulativeConversions = cumulativeDataA[['date','conversion']].merge(cumulativeDataB[['date','conversion']], left_on='date', right_on='date', how='left', suffixes=['A', 'B'])\n",
    "# задаём сетку отрисовки графиков\n",
    "plt.figure(figsize=(15, 5))\n",
    "#строим график относительного изменения кумулятивной конверсии группы B к группе A\n",
    "plt.plot(mergedCumulativeConversions['date'], mergedCumulativeConversions['conversionB']/mergedCumulativeConversions['conversionA']-1, label=\"Относительный прирост конверсии группы B относительно группы A\")\n",
    "plt.legend()\n",
    "#добавляем пунктирные линии оси\n",
    "plt.axhline(y=0, color='black', linestyle='--')\n",
    "plt.axhline(y=0.21, color='grey', linestyle='--')\n",
    "plt.axhline(y=0.13, color='red', linestyle='--')\n",
    "plt.title(\"График относительного изменения кумулятивной конверсии группы B к группе A\")\n",
    "plt.xlabel(\"Дата\")\n",
    "plt.ylabel(\"Относительное изменение\")\n",
    "plt.show()"
   ]
  },
  {
   "cell_type": "markdown",
   "metadata": {},
   "source": [
    "### Вывод"
   ]
  },
  {
   "cell_type": "markdown",
   "metadata": {},
   "source": [
    "Перед нами график относительного изменения кумулятивной конверсии группы B к группе A.\n",
    "С самого начала лидирует сегмент А, однако спустя несколько дней конверсия сегмента B резко растет и дохоходит до прироста в 21%, однако после чего опускается до уровня 10-15%, оставаясь при этом выше сегмента A. В целом сырые данные показывают, что практически по всем показателям сегмента B лидирует. Однако выбросы все же искажают данные. В связи с аномалиями появляются резкие точки роста и падения относительной конверсии, поскольку после резки точек роста идет спад, и наоборот после резких падений идет рост."
   ]
  },
  {
   "cell_type": "markdown",
   "metadata": {},
   "source": [
    "## 6. Построим точечный график количества заказов по пользователям. На основе графика сделаем выводы и предположения."
   ]
  },
  {
   "cell_type": "markdown",
   "metadata": {},
   "source": [
    "Для того, чтобы построить данный график, нам необходимо сгруппировать датасет `orders` по пользователям, рассчитамв для каждого пользователя количество заказов. Затем уже строим график, при этом определив ось X."
   ]
  },
  {
   "cell_type": "code",
   "execution_count": 21,
   "metadata": {},
   "outputs": [
    {
     "data": {
      "image/png": "[encoded data removed]",
      "text/plain": [
       "<Figure size 1080x360 with 1 Axes>"
      ]
     },
     "metadata": {
      "needs_background": "light"
     },
     "output_type": "display_data"
    }
   ],
   "source": [
    "#рассчитываем для каждого пользователя количество заказов\n",
    "ordersByUsers = (orders.groupby('visitor_id', as_index=False).agg({'transaction_id': 'nunique'}))\n",
    "#переименовываем столбцы для удобства\n",
    "ordersByUsers.columns = ['visitor_id', 'orders']\n",
    "# серия из чисел от 0 до количества наблюдений в ordersByUsers\n",
    "x_values = pd.Series(range(0, len(ordersByUsers)))\n",
    "# задаём сетку отрисовки графиков\n",
    "plt.figure(figsize=(15, 5))\n",
    "#строим график\n",
    "plt.scatter(x_values, ordersByUsers['orders']) \n",
    "plt.title(\"Точечный график количества заказов по пользователям\")\n",
    "plt.xlabel(\"Количество наблюдений\")\n",
    "plt.ylabel(\"Количество заказов\")\n",
    "plt.show()"
   ]
  },
  {
   "cell_type": "markdown",
   "metadata": {},
   "source": [
    "### Вывод"
   ]
  },
  {
   "cell_type": "markdown",
   "metadata": {},
   "source": [
    "Мы видим, что большинство пользователей имели 1-2 заказа. Заметно меньше пользователей имели 2 заказа. Больше 2 заказов - абсолютная редкость. Возможно выбросы начинаются свыше 3 заказов. Чтобы это проверить нужно рассчитать перцентили."
   ]
  },
  {
   "cell_type": "markdown",
   "metadata": {},
   "source": [
    "## 7. Построим 95-й и 99-й перцентили количества заказов на пользователя. На основе полученных данных выберем границу для определения аномальных пользователей."
   ]
  },
  {
   "cell_type": "markdown",
   "metadata": {},
   "source": [
    "Для рассчета перцентилей применяют метод percentile() библиотеки Numpy. Применим его, найдем аномальных пользователей и избавимся от них!"
   ]
  },
  {
   "cell_type": "code",
   "execution_count": 22,
   "metadata": {
    "scrolled": true
   },
   "outputs": [
    {
     "data": {
      "text/plain": [
       "array([1., 2.])"
      ]
     },
     "execution_count": 22,
     "metadata": {},
     "output_type": "execute_result"
    }
   ],
   "source": [
    "#считаем 95 и 99 перцентили\n",
    "np.percentile(ordersByUsers['orders'], [95, 99])"
   ]
  },
  {
   "cell_type": "code",
   "execution_count": 23,
   "metadata": {},
   "outputs": [],
   "source": [
    "order_an = 2"
   ]
  },
  {
   "cell_type": "markdown",
   "metadata": {},
   "source": [
    "### Вывод"
   ]
  },
  {
   "cell_type": "markdown",
   "metadata": {},
   "source": [
    "Мы видим, что не более 5% пользователей совершили более 1 заказов и не более 1% пользователей совершили более 2 заказов.  Принято отсеивать от 1% до 5% наблюдений с крайними значениями. Поэтому отсеим тех, кто сделал более 2 заказов, отсеив при этом  1% пользователей с аномально большим количеством заказов.\n",
    "\n",
    "**Выбранная граница для определения аномальных пользователей** - `более 2 заказов`."
   ]
  },
  {
   "cell_type": "markdown",
   "metadata": {},
   "source": [
    "## 8. Построим точечный график стоимостей заказов.  На основе графика сделаем выводы и предположения."
   ]
  },
  {
   "cell_type": "markdown",
   "metadata": {},
   "source": [
    "Для того, чтобы построить точечный график стоимостей заказов, нам нужно определить ось X, а затем просто в качестве оси Y передать значения revenue"
   ]
  },
  {
   "cell_type": "code",
   "execution_count": 24,
   "metadata": {
    "scrolled": true
   },
   "outputs": [
    {
     "data": {
      "image/png": "[encoded data removed]",
      "text/plain": [
       "<Figure size 1080x360 with 1 Axes>"
      ]
     },
     "metadata": {
      "needs_background": "light"
     },
     "output_type": "display_data"
    }
   ],
   "source": [
    "# серия из чисел от 0 до количества наблюдений orders\n",
    "x_values = pd.Series(range(0, len(orders['revenue'])))\n",
    "# задаём сетку отрисовки графиков\n",
    "plt.figure(figsize=(15, 5))\n",
    "#строим график\n",
    "plt.scatter(x_values, orders['revenue']) \n",
    "plt.title(\"Точечный график стоимостей заказов\")\n",
    "plt.xlabel(\"Количество наблюдений\")\n",
    "plt.ylabel(\"Стоимость заказов\")\n",
    "plt.show()"
   ]
  },
  {
   "cell_type": "markdown",
   "metadata": {},
   "source": [
    "### Вывод"
   ]
  },
  {
   "cell_type": "markdown",
   "metadata": {},
   "source": [
    "Мы видим, что стоимость заказа свыше 200 тысяч условных единиц крайне редка. При этом видны аномально дорогие заказы, которые дороже средних в 5-6 раз, что двольно много. В целом это объясняет искажение результатов выше."
   ]
  },
  {
   "cell_type": "markdown",
   "metadata": {},
   "source": [
    "## 9. Посчитаем 95-й и 99-й перцентили стоимости заказов. На основе полученных данных  выберем границу для определения аномальных пользователей."
   ]
  },
  {
   "cell_type": "markdown",
   "metadata": {},
   "source": [
    "Для рассчета перцентилей применяют метод percentile() библиотеки Numpy. Применим его, найдем аномальных пользователей и избавимся от них!"
   ]
  },
  {
   "cell_type": "code",
   "execution_count": 25,
   "metadata": {},
   "outputs": [
    {
     "data": {
      "text/plain": [
       "array([26785., 53904.])"
      ]
     },
     "execution_count": 25,
     "metadata": {},
     "output_type": "execute_result"
    }
   ],
   "source": [
    "#считаем 95 и 99 перцентили\n",
    "np.percentile(orders['revenue'], [95, 99])"
   ]
  },
  {
   "cell_type": "code",
   "execution_count": 26,
   "metadata": {},
   "outputs": [],
   "source": [
    "order_rev = 53904"
   ]
  },
  {
   "cell_type": "markdown",
   "metadata": {},
   "source": [
    "### Вывод"
   ]
  },
  {
   "cell_type": "markdown",
   "metadata": {},
   "source": [
    "Мы видим, что не более 5% пользователей сделало заказ на сумму свыше 26785 у.е., в то время как не более 1% пользователей сделало заказ на сумму свыше 53904 у.е.. Учитывая, что максимальная сумма заказа - свыше миллиона у.е., то аномалии очень сильно влияли на результаты. Выберем границу границу для определения аномальных пользователей в 53904 у.е.\n",
    "\n",
    "**Выбранная граница для определения аномальных пользователей** - `более 53904 у.е.`."
   ]
  },
  {
   "cell_type": "markdown",
   "metadata": {},
   "source": [
    "## 10. Посчитаем статистическую значимость различий в конверсии между группами по «сырым» данным. На основе полученных данных сделаем выводы и предположения.\n"
   ]
  },
  {
   "cell_type": "markdown",
   "metadata": {},
   "source": [
    "Сформулируем гипотезы. \n",
    "\n",
    "**Нулевая:** различий в конверсии между группами нет.\n",
    "\n",
    "**Альтернативная:** различия в конверсии между группами есть."
   ]
  },
  {
   "cell_type": "markdown",
   "metadata": {},
   "source": [
    "Начнём с подготовки данных."
   ]
  },
  {
   "cell_type": "markdown",
   "metadata": {},
   "source": [
    "**Шаг 1.**\n",
    "Сначала создадим датасеты с куммулятивным количеством пользователей для каждой из дат по группам"
   ]
  },
  {
   "cell_type": "code",
   "execution_count": 27,
   "metadata": {},
   "outputs": [],
   "source": [
    "#ГРУППА A\n",
    "#датасет с датой и количество посетителей для группы A\n",
    "visitorsADaily = visitors[visitors['group'] == 'A'][['date', 'visitors']]\n",
    "#переименовываем столбцы для данного датасета\n",
    "visitorsADaily.columns = ['date', 'visitorsPerDateA']\n",
    "#создаем датасет для расчета куммулятивныго количества посетителей для каждой из дат для группы A\n",
    "visitorsACummulative = visitorsADaily.apply(lambda x: visitorsADaily[visitorsADaily['date'] <= x['date']]\n",
    "                                            .agg({'date': 'max', 'visitorsPerDateA': 'sum'}), axis=1,)\n",
    "#переименовываем столбцы для данного датасета\n",
    "visitorsACummulative.columns = ['date', 'visitorsCummulativeA']\n",
    "\n",
    "\n",
    "#ГРУППА B (проделываем все то же)\n",
    "#датасет с датой и количество посетителей для группы B\n",
    "visitorsBDaily = visitors[visitors['group'] == 'B'][['date', 'visitors']]\n",
    "#переименовываем столбцы для данного датасета\n",
    "visitorsBDaily.columns = ['date', 'visitorsPerDateB']\n",
    "#создаем датасет для расчета куммулятивныго количества посетителей для каждой из дат для группы B\n",
    "visitorsBCummulative = visitorsBDaily.apply(lambda x: visitorsBDaily[visitorsBDaily['date'] <= x['date']]\n",
    "                                            .agg({'date': 'max', 'visitorsPerDateB': 'sum'}),axis=1,)\n",
    "#переименовываем столбцы для данного датасета\n",
    "visitorsBCummulative.columns = ['date', 'visitorsCummulativeB']"
   ]
  },
  {
   "cell_type": "markdown",
   "metadata": {},
   "source": [
    "**Шаг 2.**\n",
    "Теперь создадим датасеты с куммулятивными количеством заказов и выручкой для каждой из дат по группам"
   ]
  },
  {
   "cell_type": "code",
   "execution_count": 28,
   "metadata": {},
   "outputs": [],
   "source": [
    "#ГРУППА A\n",
    "#группируем данные по дате и для каждой даты рассчитываем количество уникальных заказов и сумму выручки для группы A\n",
    "ordersADaily = (orders[orders['group'] == 'A'][['date', 'transaction_id', 'visitor_id', 'revenue']]\n",
    "    .groupby('date', as_index=False)\n",
    "    .agg({'transaction_id': pd.Series.nunique, 'revenue': 'sum'}))\n",
    "#переименовываем столбцы для данного датасета\n",
    "ordersADaily.columns = ['date', 'ordersPerDateA', 'revenuePerDateA']\n",
    "#создаем датасет, в котором будут рассчитаны куммулятивные количество заказов и выручка для каждой даты\n",
    "ordersACummulative = ordersADaily.apply(lambda x: ordersADaily[ordersADaily['date'] <= x['date']]\n",
    ".agg({'date': 'max', 'ordersPerDateA': 'sum', 'revenuePerDateA': 'sum'}), axis=1,).sort_values(by=['date'])\n",
    "#переименовываем столбцы для данного датасета    \n",
    "ordersACummulative.columns = [ 'date', 'ordersCummulativeA', 'revenueCummulativeA']\n",
    "\n",
    "\n",
    "#ГРУППА B (проделываем все то же)\n",
    "#группируем данные по дате и для каждой даты рассчитываем количество уникальных заказов и сумму выручки для группы B\n",
    "ordersBDaily = (orders[orders['group'] == 'B'][['date', 'transaction_id', 'visitor_id', 'revenue']]\n",
    "    .groupby('date', as_index=False)\n",
    "    .agg({'transaction_id': pd.Series.nunique, 'revenue': 'sum'}))\n",
    "#переименовываем столбцы для данного датасета\n",
    "ordersBDaily.columns = ['date', 'ordersPerDateB', 'revenuePerDateB']\n",
    "#создаем датасет, в котором будут рассчитаны куммулятивные количество заказов и выручка для каждой даты\n",
    "ordersBCummulative = ordersBDaily.apply(lambda x: ordersBDaily[ordersBDaily['date'] <= x['date']]\n",
    ".agg({'date': 'max', 'ordersPerDateB': 'sum', 'revenuePerDateB': 'sum'}),axis=1,).sort_values(by=['date'])\n",
    "#переименовываем столбцы для данного датасета    \n",
    "ordersBCummulative.columns = [ 'date', 'ordersCummulativeB', 'revenueCummulativeB',]"
   ]
  },
  {
   "cell_type": "markdown",
   "metadata": {},
   "source": [
    "**Шаг 3.** Объединяем полученные датасеты в один"
   ]
  },
  {
   "cell_type": "code",
   "execution_count": 29,
   "metadata": {},
   "outputs": [],
   "source": [
    "#объединяем полученные таблицы по дате\n",
    "data = (\n",
    "    ordersADaily.merge(\n",
    "        ordersBDaily, left_on='date', right_on='date', how='left'\n",
    "    )\n",
    "    .merge(ordersACummulative, left_on='date', right_on='date', how='left')\n",
    "    .merge(ordersBCummulative, left_on='date', right_on='date', how='left')\n",
    "    .merge(visitorsADaily, left_on='date', right_on='date', how='left')\n",
    "    .merge(visitorsBDaily, left_on='date', right_on='date', how='left')\n",
    "    .merge(visitorsACummulative, left_on='date', right_on='date', how='left')\n",
    "    .merge(visitorsBCummulative, left_on='date', right_on='date', how='left')\n",
    ")"
   ]
  },
  {
   "cell_type": "markdown",
   "metadata": {},
   "source": [
    "**Шаг 4.** Смотрим, что у нас получилось"
   ]
  },
  {
   "cell_type": "code",
   "execution_count": 30,
   "metadata": {
    "scrolled": true
   },
   "outputs": [
    {
     "data": {
      "text/html": [
       "<div>\n",
       "<style scoped>\n",
       "    .dataframe tbody tr th:only-of-type {\n",
       "        vertical-align: middle;\n",
       "    }\n",
       "\n",
       "    .dataframe tbody tr th {\n",
       "        vertical-align: top;\n",
       "    }\n",
       "\n",
       "    .dataframe thead th {\n",
       "        text-align: right;\n",
       "    }\n",
       "</style>\n",
       "<table border=\"1\" class=\"dataframe\">\n",
       "  <thead>\n",
       "    <tr style=\"text-align: right;\">\n",
       "      <th></th>\n",
       "      <th>date</th>\n",
       "      <th>ordersPerDateA</th>\n",
       "      <th>revenuePerDateA</th>\n",
       "      <th>ordersPerDateB</th>\n",
       "      <th>revenuePerDateB</th>\n",
       "      <th>ordersCummulativeA</th>\n",
       "      <th>revenueCummulativeA</th>\n",
       "      <th>ordersCummulativeB</th>\n",
       "      <th>revenueCummulativeB</th>\n",
       "      <th>visitorsPerDateA</th>\n",
       "      <th>visitorsPerDateB</th>\n",
       "      <th>visitorsCummulativeA</th>\n",
       "      <th>visitorsCummulativeB</th>\n",
       "    </tr>\n",
       "  </thead>\n",
       "  <tbody>\n",
       "    <tr>\n",
       "      <th>0</th>\n",
       "      <td>2019-08-01</td>\n",
       "      <td>23</td>\n",
       "      <td>142779</td>\n",
       "      <td>17</td>\n",
       "      <td>59758</td>\n",
       "      <td>23</td>\n",
       "      <td>142779</td>\n",
       "      <td>17</td>\n",
       "      <td>59758</td>\n",
       "      <td>719</td>\n",
       "      <td>713</td>\n",
       "      <td>719</td>\n",
       "      <td>713</td>\n",
       "    </tr>\n",
       "    <tr>\n",
       "      <th>1</th>\n",
       "      <td>2019-08-02</td>\n",
       "      <td>19</td>\n",
       "      <td>91602</td>\n",
       "      <td>23</td>\n",
       "      <td>162043</td>\n",
       "      <td>42</td>\n",
       "      <td>234381</td>\n",
       "      <td>40</td>\n",
       "      <td>221801</td>\n",
       "      <td>619</td>\n",
       "      <td>581</td>\n",
       "      <td>1338</td>\n",
       "      <td>1294</td>\n",
       "    </tr>\n",
       "    <tr>\n",
       "      <th>2</th>\n",
       "      <td>2019-08-03</td>\n",
       "      <td>24</td>\n",
       "      <td>112473</td>\n",
       "      <td>14</td>\n",
       "      <td>67049</td>\n",
       "      <td>66</td>\n",
       "      <td>346854</td>\n",
       "      <td>54</td>\n",
       "      <td>288850</td>\n",
       "      <td>507</td>\n",
       "      <td>509</td>\n",
       "      <td>1845</td>\n",
       "      <td>1803</td>\n",
       "    </tr>\n",
       "    <tr>\n",
       "      <th>3</th>\n",
       "      <td>2019-08-04</td>\n",
       "      <td>11</td>\n",
       "      <td>41176</td>\n",
       "      <td>14</td>\n",
       "      <td>96890</td>\n",
       "      <td>77</td>\n",
       "      <td>388030</td>\n",
       "      <td>68</td>\n",
       "      <td>385740</td>\n",
       "      <td>717</td>\n",
       "      <td>770</td>\n",
       "      <td>2562</td>\n",
       "      <td>2573</td>\n",
       "    </tr>\n",
       "    <tr>\n",
       "      <th>4</th>\n",
       "      <td>2019-08-05</td>\n",
       "      <td>22</td>\n",
       "      <td>86383</td>\n",
       "      <td>21</td>\n",
       "      <td>89908</td>\n",
       "      <td>99</td>\n",
       "      <td>474413</td>\n",
       "      <td>89</td>\n",
       "      <td>475648</td>\n",
       "      <td>756</td>\n",
       "      <td>707</td>\n",
       "      <td>3318</td>\n",
       "      <td>3280</td>\n",
       "    </tr>\n",
       "  </tbody>\n",
       "</table>\n",
       "</div>"
      ],
      "text/plain": [
       "        date  ordersPerDateA  revenuePerDateA  ordersPerDateB  revenuePerDateB  ordersCummulativeA  revenueCummulativeA  ordersCummulativeB  revenueCummulativeB  visitorsPerDateA  visitorsPerDateB  visitorsCummulativeA  visitorsCummulativeB\n",
       "0 2019-08-01              23           142779              17            59758                  23               142779                  17                59758               719               713                   719                   713\n",
       "1 2019-08-02              19            91602              23           162043                  42               234381                  40               221801               619               581                  1338                  1294\n",
       "2 2019-08-03              24           112473              14            67049                  66               346854                  54               288850               507               509                  1845                  1803\n",
       "3 2019-08-04              11            41176              14            96890                  77               388030                  68               385740               717               770                  2562                  2573\n",
       "4 2019-08-05              22            86383              21            89908                  99               474413                  89               475648               756               707                  3318                  3280"
      ]
     },
     "execution_count": 30,
     "metadata": {},
     "output_type": "execute_result"
    }
   ],
   "source": [
    "#выводим первые 5 строк полученной таблицы\n",
    "data.head()"
   ]
  },
  {
   "cell_type": "markdown",
   "metadata": {},
   "source": [
    "Расшифруем значения столбцев:\n",
    "    \n",
    "- `date` — дата;\n",
    "\n",
    "\n",
    "- `ordersPerDateA` — количество заказов в выбранную дату в группе A;\n",
    "\n",
    "\n",
    "- `revenuePerDateA` — суммарная выручка в выбранную дату в группе A;\n",
    "\n",
    "\n",
    "- `ordersPerDateB` — количество заказов в выбранную дату в группе B;\n",
    "\n",
    "\n",
    "- `revenuePerDateB` — суммарная выручка в выбранную дату в группе B;\n",
    "\n",
    "\n",
    "- `ordersCummulativeA` — суммарное число заказов до выбранной даты включительно в группе A;\n",
    "\n",
    "\n",
    "- `revenueCummulativeA` — суммарная выручка до выбранной даты включительно в группе A;\n",
    "\n",
    "\n",
    "- `ordersCummulativeB` — суммарное количество заказов до выбранной даты включительно в группе B;\n",
    "\n",
    "\n",
    "- `revenueCummulativeB` — суммарная выручка до выбранной даты включительно в группе B;\n",
    "\n",
    "\n",
    "- `visitorsPerDateA` — количество пользователей в выбранную дату в группе A;\n",
    "\n",
    "\n",
    "- `visitorsPerDateB` — количество пользователей в выбранную дату в группе B;\n",
    "\n",
    "\n",
    "- `visitorsCummulativeA` — количество пользователей до выбранной даты включительно в группе A;\n",
    "\n",
    "\n",
    "- `visitorsCummulativeB` — количество пользователей до выбранной даты включительно в группе B."
   ]
  },
  {
   "cell_type": "markdown",
   "metadata": {},
   "source": [
    "**Шаг 5.**\n",
    "Создаем переменные, в которые поместим пользователей и количество заказов для них. В них для пользователей, которые заказывали хотя бы 1 раз, укажем число совершённых заказов.\n"
   ]
  },
  {
   "cell_type": "code",
   "execution_count": 31,
   "metadata": {},
   "outputs": [],
   "source": [
    "#ГРУППА A\n",
    "#группируем пользователей из группы A и считаем количество уникальных заказов для каждого пользователя\n",
    "ordersByUsersA = (\n",
    "    orders[orders['group'] == 'A']\n",
    "    .groupby('visitor_id', as_index=False)\n",
    "    .agg({'transaction_id': pd.Series.nunique})\n",
    ")\n",
    "#переименовываем столбцы\n",
    "ordersByUsersA.columns = ['visitor_id', 'orders']\n",
    "\n",
    "\n",
    "#ГРУППА B\n",
    "#группируем пользователей из группы B и считаем количество уникальных заказов для каждого пользователя\n",
    "ordersByUsersB = (\n",
    "    orders[orders['group'] == 'B']\n",
    "    .groupby('visitor_id', as_index=False)\n",
    "    .agg({'transaction_id': pd.Series.nunique})\n",
    ")\n",
    "#переименовываем столбцы\n",
    "ordersByUsersB.columns = ['visitor_id', 'orders']"
   ]
  },
  {
   "cell_type": "markdown",
   "metadata": {},
   "source": [
    "**Шаг 6.** Создаем Series, которые будут содержать нули для пользователей, не совершивших ни одного заказа"
   ]
  },
  {
   "cell_type": "code",
   "execution_count": 32,
   "metadata": {},
   "outputs": [],
   "source": [
    "#пользователи из группы А, которые не совершили ни одного заказа\n",
    "rowA =  pd.Series(0, index=np.arange(data['visitorsPerDateA'].sum() - len(ordersByUsersA['orders'])), name ='orders')\n",
    "#пользователи из группы B, которые не совершили ни одного заказа\n",
    "rowB =  pd.Series(0, index=np.arange(data['visitorsPerDateB'].sum() - len(ordersByUsersB['orders'])), name ='orders')"
   ]
  },
  {
   "cell_type": "markdown",
   "metadata": {},
   "source": [
    "**Шаг 7.** Создаем Series, в которые войдут количество заказов для каждого пользователя, в том числе и для тех, кто не своершил ни одного заказа"
   ]
  },
  {
   "cell_type": "code",
   "execution_count": 33,
   "metadata": {
    "scrolled": true
   },
   "outputs": [],
   "source": [
    "#ГРУППА А\n",
    "#создаем ряд, в котором будут представлены количество заказов для каждого пользователя, в т.ч. и нули\n",
    "sampleA = pd.concat(\n",
    "    [ordersByUsersA['orders'],\n",
    "     rowA], axis=0)\n",
    "\n",
    "#ГРУППА B\n",
    "#создаем ряд, в котором будут представлены количество заказов для каждого пользователя, в т.ч. и нули\n",
    "sampleB = pd.concat(\n",
    "    [ordersByUsersB['orders'],\n",
    "     rowA], axis=0)"
   ]
  },
  {
   "cell_type": "markdown",
   "metadata": {},
   "source": [
    "**Шаг 8.** Считаем статистическую значимость различий в конверсии между группами по «сырым» данным. Проверяем нулевую гипотезу. Также посчитаем относительный прирост конверсии группы B."
   ]
  },
  {
   "cell_type": "code",
   "execution_count": 34,
   "metadata": {},
   "outputs": [
    {
     "name": "stdout",
     "output_type": "stream",
     "text": [
      "p-значение:  0.00871\n",
      "Относительный прирост конверсии группы B. 0.166\n",
      "Отвергаем нулевую гипотезу: разница статистически значима\n"
     ]
    }
   ],
   "source": [
    "alpha = 0.05  # критический уровень статистической значимости\n",
    "#p-value\n",
    "results = round(stats.mannwhitneyu(sampleA, sampleB)[1], 5)\n",
    "print('p-значение: ', results)\n",
    "#относительный прирост конверсии группы\n",
    "growth = round((sampleB.mean() / sampleA.mean() - 1), 3)\n",
    "print(\"Относительный прирост конверсии группы B.\", growth)\n",
    "#проверка гипотезы\n",
    "if results < alpha:\n",
    "    print('Отвергаем нулевую гипотезу: разница статистически значима')\n",
    "else:\n",
    "    print(\n",
    "        'Не получилось отвергнуть нулевую гипотезу, вывод о различии сделать нельзя'\n",
    "    ) "
   ]
  },
  {
   "cell_type": "markdown",
   "metadata": {},
   "source": [
    "### Вывод"
   ]
  },
  {
   "cell_type": "markdown",
   "metadata": {},
   "source": [
    "P-value меньше выбранного нами критического уровня статистической значимости в 0.05,потому нулевую гипотезу отвергаем. Анализ «сырых данных» сообщает, что в конверсии между группами есть статистически значимые различия. Также p-value ниже 0.1 (составляет **0.0087**), поэтому можно говорить о том, что эти различия довольно явные и большие.\n",
    "\n",
    "Относительный прирост конверсии группы B к конверсии группы A равен **16.6%**.\n"
   ]
  },
  {
   "cell_type": "markdown",
   "metadata": {},
   "source": [
    "\n",
    "## 11. Посчитаем статистическую значимость различий в среднем чеке заказа между группами по «сырым» данным. На основе полученных данных сделаем выводы и предположения."
   ]
  },
  {
   "cell_type": "markdown",
   "metadata": {},
   "source": [
    "Дополнительных объемных рассчетов здесь не понадобится. Воспользуемся уже готовысм данными из таблицы `orders`. Для этого вольмем столбец с `revenue` из каждой из групп и сравним их."
   ]
  },
  {
   "cell_type": "markdown",
   "metadata": {},
   "source": [
    "Нулевая гипотеза: различий в среднем чеке между группами нет. Альтернативная гипотеза: различия в среднем чеке между группами есть."
   ]
  },
  {
   "cell_type": "code",
   "execution_count": 35,
   "metadata": {
    "scrolled": true
   },
   "outputs": [
    {
     "name": "stdout",
     "output_type": "stream",
     "text": [
      "p-значение:  0.82949\n",
      "Относительный прирост конверсии группы B. 0.287\n",
      "Не получилось отвергнуть нулевую гипотезу, вывод о различии сделать нельзя\n"
     ]
    }
   ],
   "source": [
    "alpha = 0.05  # критический уровень статистической значимости\n",
    "#p-value\n",
    "results = round(stats.mannwhitneyu(orders[orders['group']=='A']['revenue'], orders[orders['group']=='B']['revenue'])[1], 5)\n",
    "print('p-значение: ', results)\n",
    "#относительный прирост конверсии группы\n",
    "growth = round((orders[orders['group']=='B']['revenue'].mean()/orders[orders['group']=='A']['revenue'].mean()-1), 3)\n",
    "print(\"Относительный прирост конверсии группы B.\", growth)\n",
    "#проверка гипотезы\n",
    "if results < alpha:\n",
    "    print('Отвергаем нулевую гипотезу: разница статистически значима')\n",
    "else:\n",
    "    print(\n",
    "        'Не получилось отвергнуть нулевую гипотезу, вывод о различии сделать нельзя'\n",
    "    ) "
   ]
  },
  {
   "cell_type": "markdown",
   "metadata": {},
   "source": [
    "### Вывод"
   ]
  },
  {
   "cell_type": "markdown",
   "metadata": {},
   "source": [
    "P-value больше 0.05 (составляет целых **0.83**)  — статистически значимых отличий в среднем чеке между группами нет. Однако относительное различие среднего чека между сегментами составляет около **29%**, что довольно велико. Скорее всего результат искажают аномалии. Очень странно, что статистически значимых различий нет, а  относительное различие среднего чека между сегментами довольно велико. Нужно избавляться от аномалий."
   ]
  },
  {
   "cell_type": "markdown",
   "metadata": {},
   "source": [
    "## 12. Посчитаем статистическую значимость различий в конверсии между группами по «очищенным» данным. На основе полученных данных сделаем выводы и предположения.\n"
   ]
  },
  {
   "cell_type": "markdown",
   "metadata": {},
   "source": [
    "Нулевая: различий в конверсии между группами нет. Альтернативная: различия в конверсии между группами есть."
   ]
  },
  {
   "cell_type": "markdown",
   "metadata": {},
   "source": [
    "Напоминаем, что выбранная граница для определения аномальных пользователей -составляет `более 30000 у.е`. и `более 3 заказов`."
   ]
  },
  {
   "cell_type": "markdown",
   "metadata": {},
   "source": [
    "Создаем перменные для хранения аномальных пользователей. При этом перменные будут хранить не количество заказов или их стоимость, а id аномальных пользователей."
   ]
  },
  {
   "cell_type": "code",
   "execution_count": 36,
   "metadata": {},
   "outputs": [],
   "source": [
    "#пользователи с аномальным количество заказов\n",
    "usersWithManyOrders = pd.concat([\n",
    "        ordersByUsersA[ordersByUsersA['orders'] > order_an]['visitor_id'],\n",
    "        ordersByUsersB[ordersByUsersB['orders'] > order_an]['visitor_id'],\n",
    "    ],axis=0,)\n",
    "#пользователи с аномально дорогими заказами\n",
    "usersWithExpensiveOrders = orders[orders['revenue'] > order_rev]['visitor_id']\n",
    "#все аномальные пользователи\n",
    "abnormalUsers =pd.concat([usersWithManyOrders, usersWithExpensiveOrders], axis=0).drop_duplicates().sort_values()"
   ]
  },
  {
   "cell_type": "markdown",
   "metadata": {},
   "source": [
    "Создадим переменные для хранения не аномальных пользователей."
   ]
  },
  {
   "cell_type": "code",
   "execution_count": 37,
   "metadata": {},
   "outputs": [],
   "source": [
    "#пользователи для группы А без аномалий\n",
    "good_usersA = ordersByUsersA[np.logical_not(ordersByUsersA['visitor_id'].isin(abnormalUsers))]['orders']\n",
    "#пользователи для группы B без аномалий\n",
    "good_usersB = ordersByUsersB[np.logical_not(ordersByUsersB['visitor_id'].isin(abnormalUsers))]['orders']"
   ]
  },
  {
   "cell_type": "markdown",
   "metadata": {},
   "source": [
    "Теперь формируем ряды без выбросов"
   ]
  },
  {
   "cell_type": "code",
   "execution_count": 38,
   "metadata": {},
   "outputs": [],
   "source": [
    "#количество заказов для неаномальных пользователей группы А\n",
    "sampleAFiltered = pd.concat([good_usersA, rowA],axis=0,)\n",
    "#количество заказов для неаномальных пользователей группы B\n",
    "sampleBFiltered = pd.concat([good_usersB, rowB],axis=0,)"
   ]
  },
  {
   "cell_type": "markdown",
   "metadata": {},
   "source": [
    "Считаем статистическую значимость различий в конверсии между группами по «сырым» данным. Проверяем нулевую гипотезу. Также посчитаем относительный прирост конверсии группы B."
   ]
  },
  {
   "cell_type": "code",
   "execution_count": 39,
   "metadata": {
    "scrolled": true
   },
   "outputs": [
    {
     "name": "stdout",
     "output_type": "stream",
     "text": [
      "p-значение:  0.00702\n",
      "Относительный прирост конверсии группы B: 0.189\n",
      "Отвергаем нулевую гипотезу: разница статистически значима\n"
     ]
    }
   ],
   "source": [
    "alpha = 0.01  # критический уровень статистической значимости\n",
    "#p-value\n",
    "results = round(stats.mannwhitneyu(sampleAFiltered, sampleBFiltered)[1], 5)\n",
    "print('p-значение: ', results)\n",
    "#относительный прирост конверсии группы\n",
    "growth = round((sampleBFiltered.mean() / sampleAFiltered.mean() - 1), 3)\n",
    "print(\"Относительный прирост конверсии группы B:\", growth)\n",
    "#проверка гипотезы\n",
    "if results < alpha:\n",
    "    print('Отвергаем нулевую гипотезу: разница статистически значима')\n",
    "else:\n",
    "    print(\n",
    "        'Не получилось отвергнуть нулевую гипотезу, вывод о различии сделать нельзя'\n",
    "    ) "
   ]
  },
  {
   "cell_type": "markdown",
   "metadata": {},
   "source": [
    "### Вывод"
   ]
  },
  {
   "cell_type": "markdown",
   "metadata": {},
   "source": [
    "P-value меньше выбранного нами критического уровня статистической значимости в 0.05,потому нулевую гипотезу отвергаем. Как и в случае с сырыми данными анализ отфильтрованныех данных нам сообщает, что в конверсии между группами есть статистически значимые различия. Также p-value ниже 0.1 (составляет **0.007**), поэтому можно говорить о том, что эти различия довольно явные и большие.\n",
    "\n",
    "Относительный прирост конверсии группы B к конверсии группы A равен **18.9%**, что довольно много.\n",
    "\n",
    "Результаты по конверсии практически не изменились."
   ]
  },
  {
   "cell_type": "markdown",
   "metadata": {},
   "source": [
    "## 13. Посчитаем статистическую значимость различий в среднем чеке заказа между группами по «очищенным» данным. На основе полученных данных сделаем выводы и предположения."
   ]
  },
  {
   "cell_type": "markdown",
   "metadata": {},
   "source": [
    "Нулевая гипотеза: различий в среднем чеке между группами нет. Альтернативная гипотеза: различия в среднем чеке между группами есть."
   ]
  },
  {
   "cell_type": "markdown",
   "metadata": {},
   "source": [
    "Отфильтруем датасет `orders`, убрав аномалии."
   ]
  },
  {
   "cell_type": "code",
   "execution_count": 40,
   "metadata": {},
   "outputs": [],
   "source": [
    "#неаномальные пользователи группы А\n",
    "filtr_ordersA = (orders[np.logical_and(orders['group'] == 'A', np.logical_not(orders['visitor_id']\n",
    "                                                                             .isin(abnormalUsers)))]['revenue'])\n",
    "#неаномальные пользователи группы B\n",
    "filtr_ordersB = (orders[np.logical_and(orders['group'] == 'B', np.logical_not(orders['visitor_id']\n",
    "                                                                             .isin(abnormalUsers)))]['revenue'])"
   ]
  },
  {
   "cell_type": "code",
   "execution_count": 41,
   "metadata": {
    "scrolled": true
   },
   "outputs": [
    {
     "name": "stdout",
     "output_type": "stream",
     "text": [
      "p-значение:  0.7877\n",
      "Относительный прирост конверсии группы B. -0.032\n",
      "Не получилось отвергнуть нулевую гипотезу, вывод о различии сделать нельзя\n"
     ]
    }
   ],
   "source": [
    "alpha = 0.05  # критический уровень статистической значимости\n",
    "#p-value\n",
    "results = round(stats.mannwhitneyu(filtr_ordersA, filtr_ordersB)[1], 5)\n",
    "print('p-значение: ', results)\n",
    "#относительный прирост конверсии группы\n",
    "growth = round((filtr_ordersB.mean()/filtr_ordersA.mean()-1), 3)\n",
    "print(\"Относительный прирост конверсии группы B.\", growth)\n",
    "#проверка гипотезы\n",
    "if results < alpha:\n",
    "    print('Отвергаем нулевую гипотезу: разница статистически значима')\n",
    "else:\n",
    "    print(\n",
    "        'Не получилось отвергнуть нулевую гипотезу, вывод о различии сделать нельзя'\n",
    "    ) "
   ]
  },
  {
   "cell_type": "markdown",
   "metadata": {},
   "source": [
    "### Вывод"
   ]
  },
  {
   "cell_type": "markdown",
   "metadata": {},
   "source": [
    "P-value, как и в случае с сырыми данными, больше 0.05 (составляет целых **0.78**)  — статистически значимых отличий в среднем чеке между группами нет. Кроме того, относительное различие среднего чека между сегментами составляет около 3% с проигрышем группы B.\n",
    "P-value увеличился, но и разница между сегментами сократилась с 25% до 3%.\n",
    "\n",
    "Поэтому можно говорить, что статистически значимых отличий в среднем чеке между группами нет."
   ]
  },
  {
   "cell_type": "markdown",
   "metadata": {},
   "source": [
    "## 14. Принимаем решение по результатам теста и объясняем его."
   ]
  },
  {
   "cell_type": "markdown",
   "metadata": {},
   "source": [
    "Что мы имеем в итоге?\n",
    "\n",
    "Имеющиеся факты:\n",
    "\n",
    "- Нет статистически значимого различия по конверсии между группами ни по «сырым», ни по данным после фильтрации аномалий;\n",
    "\n",
    "- Нет статистически значимого различия по среднему чеку между группами ни по «сырым», ни по данным после фильтрации аномалий;\n"
   ]
  },
  {
   "cell_type": "markdown",
   "metadata": {},
   "source": [
    "Посмотрим на графики отфильтрованных данных."
   ]
  },
  {
   "cell_type": "code",
   "execution_count": 42,
   "metadata": {},
   "outputs": [],
   "source": [
    "#отфильтрованные пользователи\n",
    "orders2 = orders.query('visitor_id not in @abnormalUsers')"
   ]
  },
  {
   "cell_type": "code",
   "execution_count": 43,
   "metadata": {
    "scrolled": true
   },
   "outputs": [
    {
     "data": {
      "image/png": "[encoded data removed]",
      "text/plain": [
       "<Figure size 1080x360 with 1 Axes>"
      ]
     },
     "metadata": {
      "needs_background": "light"
     },
     "output_type": "display_data"
    }
   ],
   "source": [
    "# конвертеры, которые позволяют использовать типы pandas в matplotlib  \n",
    "register_matplotlib_converters()\n",
    "#создаем датасет с уникальными парами даты и группы\n",
    "datesGroups2 = orders2[['date', 'group']].drop_duplicates()\n",
    "#получаем кумулятивную выручку, количество заказов и пользователей для каждой даты и группы\n",
    "ordersAggregated2 = datesGroups2.apply(lambda x: \n",
    "                                     orders2[np.logical_and(orders2['date'] <= x['date'], orders2['group'] == x['group'])].agg(\n",
    "        {'date': 'max','group': 'max','transaction_id': 'nunique','visitor_id': 'nunique','revenue': 'sum',}),\n",
    "                                     axis=1,).sort_values(by=['date', 'group'])\n",
    "\n",
    "#получаем кумулятивное количество посетителей\n",
    "visitorsAggregated2 = datesGroups2.apply(lambda x: visitors[np.logical_and(visitors['date'] <= x['date'], \n",
    "visitors['group'] == x['group'])].agg({'date': 'max', 'group': 'max', 'visitors': 'sum'}), \n",
    "                                       axis=1,).sort_values(by=['date', 'group'])\n",
    "#объединяем датасеты\n",
    "cumulativeData2 = ordersAggregated2.merge(\n",
    "    visitorsAggregated2, on=['date', 'group'])\n",
    "#переименовываем столбцы\n",
    "cumulativeData2.columns = [\n",
    "    'date',\n",
    "    'group',\n",
    "    'orders',\n",
    "    'buyers',\n",
    "    'revenue',\n",
    "    'visitors',\n",
    "]\n",
    "\n",
    "# датафрейм с кумулятивным количеством заказов и кумулятивной выручкой по дням в группе А\n",
    "cumulativeRevenueA2 = cumulativeData2[cumulativeData['group']=='A'][['date','revenue', 'orders']]\n",
    "\n",
    "# датафрейм с кумулятивным количеством заказов и кумулятивной выручкой по дням в группе B\n",
    "cumulativeRevenueB2 = cumulativeData2[cumulativeData['group']=='B'][['date','revenue', 'orders']]\n",
    "\n",
    "# собираем данные в одном датафрейме, добавляя приписку в виде названия группы\n",
    "mergedCumulativeRevenue2 = cumulativeRevenueA2.merge(cumulativeRevenueB2, left_on='date', right_on='date', how='left', suffixes=['A', 'B'])\n",
    "\n",
    "# задаём сетку отрисовки графиков\n",
    "plt.figure(figsize=(15, 5))\n",
    "\n",
    "# cтроим отношение средних чеков\n",
    "plt.plot(mergedCumulativeRevenue2['date'], (mergedCumulativeRevenue2['revenueB']/mergedCumulativeRevenue2['ordersB'])/(mergedCumulativeRevenue2['revenueA']/mergedCumulativeRevenue2['ordersA'])-1)\n",
    "\n",
    "# добавляем ось X\n",
    "plt.axhline(y=0, color='black', linestyle='--') \n",
    "plt.title(\"Отфильтрованный график относительного изменения кумулятивного среднего чека группы B к группе A\")\n",
    "plt.xlabel(\"Дата\")\n",
    "plt.ylabel(\"Относительное изменение\")\n",
    "plt.show()"
   ]
  },
  {
   "cell_type": "markdown",
   "metadata": {},
   "source": [
    "График различия среднего чека говорит о том, что результаты группы B крайне редко были выше, чем результаты группы B, а на данный момент они ниже на 2-3%. \n",
    " "
   ]
  },
  {
   "cell_type": "code",
   "execution_count": 44,
   "metadata": {
    "scrolled": true
   },
   "outputs": [
    {
     "data": {
      "image/png": "[encoded data removed]",
      "text/plain": [
       "<Figure size 1080x360 with 1 Axes>"
      ]
     },
     "metadata": {
      "needs_background": "light"
     },
     "output_type": "display_data"
    }
   ],
   "source": [
    "# задаём сетку отрисовки графиков\n",
    "plt.figure(figsize=(15, 5))\n",
    "# Строим график выручки группы А\n",
    "plt.plot(cumulativeRevenueA2['date'], cumulativeRevenueA2['revenue'], label='A')\n",
    "\n",
    "# Строим график выручки группы B\n",
    "plt.plot(cumulativeRevenueB2['date'], cumulativeRevenueB2['revenue'], label='B')\n",
    "\n",
    "plt.legend() \n",
    "plt.title(\"График кумулятивного среднего чека по группам\")\n",
    "plt.xlabel(\"Дата\")\n",
    "plt.ylabel(\"Средний чек\")\n",
    "plt.show()"
   ]
  },
  {
   "cell_type": "markdown",
   "metadata": {},
   "source": [
    "В отфильтрованных данных выручка группы B слегка выше выручки группы A, но различия незначительные."
   ]
  },
  {
   "cell_type": "code",
   "execution_count": 45,
   "metadata": {
    "scrolled": true
   },
   "outputs": [
    {
     "data": {
      "image/png": "[encoded data removed]",
      "text/plain": [
       "<Figure size 1080x360 with 1 Axes>"
      ]
     },
     "metadata": {
      "needs_background": "light"
     },
     "output_type": "display_data"
    }
   ],
   "source": [
    "# задаём сетку отрисовки графиков\n",
    "plt.figure(figsize=(15, 5))\n",
    "#делим выручку на количество заказов для каждой даты в группе A\n",
    "plt.plot(cumulativeRevenueA2['date'], cumulativeRevenueA2['revenue']/cumulativeRevenueA2['orders'], label='A')\n",
    "#делим выручку на количество заказов для каждой даты в группе B\n",
    "plt.plot(cumulativeRevenueB2['date'], cumulativeRevenueB2['revenue']/cumulativeRevenueB2['orders'], label='B')\n",
    "plt.legend() \n",
    "plt.title(\"График кумулятивного среднего чека по группам\")\n",
    "plt.xlabel(\"Дата\")\n",
    "plt.ylabel(\"Средний чек\")\n",
    "plt.show()"
   ]
  },
  {
   "cell_type": "markdown",
   "metadata": {},
   "source": [
    "График кумулятивного среднего чека по группам при фильтрации показывает нам, что группа B и группа A имеют сходные чеки (группа B слегка уступает группе A)"
   ]
  },
  {
   "cell_type": "code",
   "execution_count": 46,
   "metadata": {
    "scrolled": true
   },
   "outputs": [
    {
     "data": {
      "image/png": "[encoded data removed]",
      "text/plain": [
       "<Figure size 1080x360 with 1 Axes>"
      ]
     },
     "metadata": {
      "needs_background": "light"
     },
     "output_type": "display_data"
    }
   ],
   "source": [
    "# считаем кумулятивную конверсию\n",
    "cumulativeData2['conversion'] = cumulativeData2['orders']/cumulativeData2['visitors']\n",
    "\n",
    "# отделяем данные по группе A\n",
    "cumulativeDataA2 = cumulativeData2[cumulativeData['group']=='A']\n",
    "\n",
    "# отделяем данные по группе B\n",
    "cumulativeDataB2 = cumulativeData2[cumulativeData['group']=='B']\n",
    "#собираем данные в одном датафрейме, добавляя приписку в виде названия группы\n",
    "mergedCumulativeConversions2 = cumulativeDataA2[['date','conversion']].merge(cumulativeDataB2[['date','conversion']], left_on='date', right_on='date', how='left', suffixes=['A', 'B'])\n",
    "# задаём сетку отрисовки графиков\n",
    "plt.figure(figsize=(15, 5))\n",
    "#строим график относительного изменения кумулятивной конверсии группы B к группе A\n",
    "plt.plot(mergedCumulativeConversions2['date'], mergedCumulativeConversions2['conversionB']/mergedCumulativeConversions2['conversionA']-1, label=\"Относительный прирост конверсии группы B относительно группы A\")\n",
    "plt.legend()\n",
    "#добавляем пунктирные линии оси\n",
    "plt.axhline(y=0, color='black', linestyle='--')\n",
    "plt.axhline(y=0.21, color='grey', linestyle='--')\n",
    "plt.title(\"График относительного изменения кумулятивной конверсии группы B к группе A\")\n",
    "plt.xlabel(\"Дата\")\n",
    "plt.ylabel(\"Относительное изменение\")\n",
    "plt.show()"
   ]
  },
  {
   "cell_type": "markdown",
   "metadata": {},
   "source": [
    "Что же до графика различия конверсии, то она у группы B лучше на процентов 15% и только в начале была ниже, чем конверсия группы A."
   ]
  },
  {
   "cell_type": "code",
   "execution_count": 47,
   "metadata": {
    "scrolled": true
   },
   "outputs": [
    {
     "data": {
      "image/png": "[encoded data removed]",
      "text/plain": [
       "<Figure size 1080x360 with 1 Axes>"
      ]
     },
     "metadata": {
      "needs_background": "light"
     },
     "output_type": "display_data"
    }
   ],
   "source": [
    "plt.figure(figsize=(15, 5))\n",
    "# строим графики\n",
    "plt.plot(cumulativeDataA2['date'], cumulativeDataA2['conversion'], label='A')\n",
    "plt.plot(cumulativeDataB2['date'], cumulativeDataB2['conversion'], label='B')\n",
    "plt.legend()\n",
    "plt.title(\"График кумулятивной конверсии по группам\")\n",
    "plt.xlabel(\"Дата\")\n",
    "plt.ylabel(\"Конверсия\")\n",
    "plt.show()\n"
   ]
  },
  {
   "cell_type": "markdown",
   "metadata": {},
   "source": [
    "На графике видно доминирование группы B. Группа A имеет крайне плоху конверсию."
   ]
  },
  {
   "cell_type": "markdown",
   "metadata": {},
   "source": [
    "### Вывод"
   ]
  },
  {
   "cell_type": "markdown",
   "metadata": {},
   "source": [
    "Так мы видим, что:\n",
    "- Есть статистически значимое различие по конверсии между группами как по сырым данным, так и после фильтрации аномалий (лидерство группы B).\n",
    "- Нет статистически значимых различий по среднему чеку между группами как по сырым данным, так и после фильтрации аномалий.\n",
    "- График различия конверсий говорит о том, что результаты группы B лучше группы A \n",
    "- График различия средних чеков говорит о том, что результаты группы B примерно равны результатам группы A."
   ]
  },
  {
   "cell_type": "markdown",
   "metadata": {},
   "source": [
    "Если говорить о дальнейшей судьбе A/B-теста, то можно, конечно, его продолжить, чтобы понять, что будет со средним чеком у группы B, хотя в целом предполагается, что он останется на одном и том же уровне (будет равен среднему чеку группы A)."
   ]
  },
  {
   "cell_type": "markdown",
   "metadata": {},
   "source": [
    "И если рассуждать логически, то мы имеем в группе B преимущество по конверсии на 15% и одинаковые результаты среднего чека. Так мы получаем то, что среднний чек покупателей останется неизменным, но количество покупаетелей увеличится на 15%, что в конечно итоге принесет интернет-магазину большу прибыль. Поэтому логично было бы остановить тест, зафиксировава победу группы B. Однако, если интернет-магазину нужен рост среднего чека, то лучше продолжить тест и посмотреть, как будет вести себя группа B."
   ]
  },
  {
   "cell_type": "markdown",
   "metadata": {},
   "source": [
    "# Общий вывод"
   ]
  },
  {
   "cell_type": "markdown",
   "metadata": {},
   "source": [
    "В ходе анализа мы пришли к следующим выводам:\n",
    "\n",
    "1) Нашли самые перспективные гипотезы. По результатам проверки двумя методами (ICE, RICE) ими являются гипотезы 8 и 1.\n",
    "\n",
    "2) Нашли самые неперспективные гипотезы. По результатам проверки двумя методами (ICE, RICE) ими являются гипотезы 5 и 6.\n",
    "\n",
    "3) Проанализировали результаты A/B-теста и пришли к выводу о том, что средний чек у двух групп одинаков, в то время как конверсия группы B выше на 15%, что в принципе означает, что пользователи магазина чаще становятся покупателями и приносят прибыль. Поэтому предлагается завершить тест в пользу группы B, однако если интернет-магазин посчитает, что необходимо преимущество по обоим критериям, то предлагается продолжить тестирование."
   ]
  }
 ],
 "metadata": {
  "ExecuteTimeLog": [
   {
    "duration": 419,
    "start_time": "2022-04-12T16:23:07.363Z"
   },
   {
    "duration": 60,
    "start_time": "2022-04-12T16:24:24.986Z"
   },
   {
    "duration": 4,
    "start_time": "2022-04-12T16:25:13.025Z"
   },
   {
    "duration": 44,
    "start_time": "2022-04-12T16:25:21.814Z"
   },
   {
    "duration": 4,
    "start_time": "2022-04-12T16:25:47.221Z"
   },
   {
    "duration": 29,
    "start_time": "2022-04-12T16:25:47.641Z"
   },
   {
    "duration": 4,
    "start_time": "2022-04-12T16:26:06.286Z"
   },
   {
    "duration": 30,
    "start_time": "2022-04-12T16:26:08.542Z"
   },
   {
    "duration": 3,
    "start_time": "2022-04-12T16:26:58.102Z"
   },
   {
    "duration": 60,
    "start_time": "2022-04-12T16:26:58.856Z"
   },
   {
    "duration": 3,
    "start_time": "2022-04-12T16:27:14.718Z"
   },
   {
    "duration": 4,
    "start_time": "2022-04-12T16:27:30.329Z"
   },
   {
    "duration": 29,
    "start_time": "2022-04-12T16:27:30.934Z"
   },
   {
    "duration": 3,
    "start_time": "2022-04-12T16:29:05.933Z"
   },
   {
    "duration": 29,
    "start_time": "2022-04-12T16:29:06.501Z"
   },
   {
    "duration": 4,
    "start_time": "2022-04-12T16:29:33.277Z"
   },
   {
    "duration": 27,
    "start_time": "2022-04-12T16:29:34.109Z"
   },
   {
    "duration": 4,
    "start_time": "2022-04-12T16:30:03.460Z"
   },
   {
    "duration": 30,
    "start_time": "2022-04-12T16:30:03.900Z"
   },
   {
    "duration": 4,
    "start_time": "2022-04-12T16:30:56.573Z"
   },
   {
    "duration": 27,
    "start_time": "2022-04-12T16:30:57.316Z"
   },
   {
    "duration": 3,
    "start_time": "2022-04-12T16:31:30.260Z"
   },
   {
    "duration": 31,
    "start_time": "2022-04-12T16:31:30.957Z"
   },
   {
    "duration": 4,
    "start_time": "2022-04-12T16:31:46.892Z"
   },
   {
    "duration": 29,
    "start_time": "2022-04-12T16:31:47.684Z"
   },
   {
    "duration": 5,
    "start_time": "2022-04-12T16:32:28.947Z"
   },
   {
    "duration": 27,
    "start_time": "2022-04-12T16:32:29.596Z"
   },
   {
    "duration": 28,
    "start_time": "2022-04-12T16:32:53.212Z"
   },
   {
    "duration": 5,
    "start_time": "2022-04-12T17:09:27.716Z"
   },
   {
    "duration": 4,
    "start_time": "2022-04-12T17:09:36.083Z"
   },
   {
    "duration": 4,
    "start_time": "2022-04-12T17:09:41.658Z"
   },
   {
    "duration": 4,
    "start_time": "2022-04-12T17:09:45.466Z"
   },
   {
    "duration": 513,
    "start_time": "2022-04-12T17:15:12.665Z"
   },
   {
    "duration": 17,
    "start_time": "2022-04-12T17:15:24.657Z"
   },
   {
    "duration": 7,
    "start_time": "2022-04-12T17:15:31.673Z"
   },
   {
    "duration": 10,
    "start_time": "2022-04-12T17:15:34.928Z"
   },
   {
    "duration": 7,
    "start_time": "2022-04-12T17:15:43.313Z"
   },
   {
    "duration": 2,
    "start_time": "2022-04-12T17:15:45.465Z"
   },
   {
    "duration": 61,
    "start_time": "2022-04-12T17:15:45.469Z"
   },
   {
    "duration": 5,
    "start_time": "2022-04-12T17:15:45.531Z"
   },
   {
    "duration": 31,
    "start_time": "2022-04-12T17:15:45.538Z"
   },
   {
    "duration": 11,
    "start_time": "2022-04-12T17:15:45.571Z"
   },
   {
    "duration": 8,
    "start_time": "2022-04-12T17:15:52.154Z"
   },
   {
    "duration": 2,
    "start_time": "2022-04-12T17:15:54.562Z"
   },
   {
    "duration": 62,
    "start_time": "2022-04-12T17:15:54.567Z"
   },
   {
    "duration": 4,
    "start_time": "2022-04-12T17:15:54.630Z"
   },
   {
    "duration": 43,
    "start_time": "2022-04-12T17:15:54.636Z"
   },
   {
    "duration": 12,
    "start_time": "2022-04-12T17:15:54.681Z"
   },
   {
    "duration": 4,
    "start_time": "2022-04-12T17:16:39.152Z"
   },
   {
    "duration": 17,
    "start_time": "2022-04-12T17:16:43.560Z"
   },
   {
    "duration": 2,
    "start_time": "2022-04-12T17:16:49.297Z"
   },
   {
    "duration": 61,
    "start_time": "2022-04-12T17:16:49.301Z"
   },
   {
    "duration": 4,
    "start_time": "2022-04-12T17:16:49.364Z"
   },
   {
    "duration": 36,
    "start_time": "2022-04-12T17:16:49.369Z"
   },
   {
    "duration": 2,
    "start_time": "2022-04-12T17:16:49.407Z"
   },
   {
    "duration": 20,
    "start_time": "2022-04-12T17:16:49.411Z"
   },
   {
    "duration": 12,
    "start_time": "2022-04-12T17:16:49.433Z"
   },
   {
    "duration": 2,
    "start_time": "2022-04-12T17:16:57.601Z"
   },
   {
    "duration": 60,
    "start_time": "2022-04-12T17:16:57.605Z"
   },
   {
    "duration": 4,
    "start_time": "2022-04-12T17:16:57.666Z"
   },
   {
    "duration": 30,
    "start_time": "2022-04-12T17:16:57.671Z"
   },
   {
    "duration": 3,
    "start_time": "2022-04-12T17:16:57.703Z"
   },
   {
    "duration": 11,
    "start_time": "2022-04-12T17:16:57.708Z"
   },
   {
    "duration": 7,
    "start_time": "2022-04-12T17:19:14.319Z"
   },
   {
    "duration": 4,
    "start_time": "2022-04-12T17:19:25.607Z"
   },
   {
    "duration": 3,
    "start_time": "2022-04-12T17:19:33.855Z"
   },
   {
    "duration": 7,
    "start_time": "2022-04-12T17:19:38.399Z"
   },
   {
    "duration": 9,
    "start_time": "2022-04-12T17:19:43.904Z"
   },
   {
    "duration": 3,
    "start_time": "2022-04-12T17:19:46.352Z"
   },
   {
    "duration": 66,
    "start_time": "2022-04-12T17:19:46.356Z"
   },
   {
    "duration": 4,
    "start_time": "2022-04-12T17:19:46.424Z"
   },
   {
    "duration": 31,
    "start_time": "2022-04-12T17:19:46.430Z"
   },
   {
    "duration": 3,
    "start_time": "2022-04-12T17:19:46.463Z"
   },
   {
    "duration": 6,
    "start_time": "2022-04-12T17:19:46.467Z"
   },
   {
    "duration": 5,
    "start_time": "2022-04-12T17:19:49.550Z"
   },
   {
    "duration": 6,
    "start_time": "2022-04-12T17:20:12.336Z"
   },
   {
    "duration": 2,
    "start_time": "2022-04-12T17:20:27.080Z"
   },
   {
    "duration": 61,
    "start_time": "2022-04-12T17:20:27.084Z"
   },
   {
    "duration": 4,
    "start_time": "2022-04-12T17:20:27.147Z"
   },
   {
    "duration": 31,
    "start_time": "2022-04-12T17:20:27.152Z"
   },
   {
    "duration": 6,
    "start_time": "2022-04-12T17:20:27.185Z"
   },
   {
    "duration": 3,
    "start_time": "2022-04-12T17:20:42.479Z"
   },
   {
    "duration": 8,
    "start_time": "2022-04-12T17:20:47.319Z"
   },
   {
    "duration": 2,
    "start_time": "2022-04-12T17:21:47.423Z"
   },
   {
    "duration": 61,
    "start_time": "2022-04-12T17:21:47.427Z"
   },
   {
    "duration": 4,
    "start_time": "2022-04-12T17:21:47.489Z"
   },
   {
    "duration": 32,
    "start_time": "2022-04-12T17:21:47.495Z"
   },
   {
    "duration": 3,
    "start_time": "2022-04-12T17:21:47.529Z"
   },
   {
    "duration": 11,
    "start_time": "2022-04-12T17:21:47.534Z"
   },
   {
    "duration": 341,
    "start_time": "2022-04-12T17:22:11.349Z"
   },
   {
    "duration": 59,
    "start_time": "2022-04-12T17:22:11.692Z"
   },
   {
    "duration": 5,
    "start_time": "2022-04-12T17:22:11.753Z"
   },
   {
    "duration": 77,
    "start_time": "2022-04-12T17:22:11.760Z"
   },
   {
    "duration": 0,
    "start_time": "2022-04-12T17:22:11.839Z"
   },
   {
    "duration": 0,
    "start_time": "2022-04-12T17:22:11.840Z"
   },
   {
    "duration": 5,
    "start_time": "2022-04-12T17:22:37.608Z"
   },
   {
    "duration": 34,
    "start_time": "2022-04-12T17:22:38.596Z"
   },
   {
    "duration": 3,
    "start_time": "2022-04-12T17:22:43.577Z"
   },
   {
    "duration": 8,
    "start_time": "2022-04-12T17:22:44.784Z"
   },
   {
    "duration": 7,
    "start_time": "2022-04-12T17:22:59.402Z"
   },
   {
    "duration": 29,
    "start_time": "2022-04-12T17:24:43.472Z"
   },
   {
    "duration": 638,
    "start_time": "2022-04-12T17:28:47.550Z"
   },
   {
    "duration": 2,
    "start_time": "2022-04-12T17:28:55.136Z"
   },
   {
    "duration": 654,
    "start_time": "2022-04-12T17:29:02.439Z"
   },
   {
    "duration": 3,
    "start_time": "2022-04-12T17:29:09.520Z"
   },
   {
    "duration": 61,
    "start_time": "2022-04-12T17:29:09.524Z"
   },
   {
    "duration": 4,
    "start_time": "2022-04-12T17:29:09.587Z"
   },
   {
    "duration": 29,
    "start_time": "2022-04-12T17:29:09.592Z"
   },
   {
    "duration": 3,
    "start_time": "2022-04-12T17:29:09.622Z"
   },
   {
    "duration": 8,
    "start_time": "2022-04-12T17:29:09.627Z"
   },
   {
    "duration": 29,
    "start_time": "2022-04-12T17:29:09.636Z"
   },
   {
    "duration": 623,
    "start_time": "2022-04-12T17:29:09.667Z"
   },
   {
    "duration": 6,
    "start_time": "2022-04-12T17:30:18.766Z"
   },
   {
    "duration": 13,
    "start_time": "2022-04-12T17:30:29.821Z"
   },
   {
    "duration": 33,
    "start_time": "2022-04-12T17:30:48.941Z"
   },
   {
    "duration": 10,
    "start_time": "2022-04-12T17:31:33.382Z"
   },
   {
    "duration": 20,
    "start_time": "2022-04-12T17:33:38.213Z"
   },
   {
    "duration": 9,
    "start_time": "2022-04-12T17:34:40.740Z"
   },
   {
    "duration": 8,
    "start_time": "2022-04-12T18:27:00.409Z"
   },
   {
    "duration": 8,
    "start_time": "2022-04-12T18:27:08.822Z"
   },
   {
    "duration": 10,
    "start_time": "2022-04-12T18:28:22.197Z"
   },
   {
    "duration": 9,
    "start_time": "2022-04-12T18:32:09.444Z"
   },
   {
    "duration": 10,
    "start_time": "2022-04-12T18:32:17.875Z"
   },
   {
    "duration": 10,
    "start_time": "2022-04-12T18:32:36.947Z"
   },
   {
    "duration": 8,
    "start_time": "2022-04-12T18:48:55.126Z"
   },
   {
    "duration": 12,
    "start_time": "2022-04-12T18:49:06.613Z"
   },
   {
    "duration": 3,
    "start_time": "2022-04-12T19:08:39.550Z"
   },
   {
    "duration": 73,
    "start_time": "2022-04-12T19:08:39.555Z"
   },
   {
    "duration": 5,
    "start_time": "2022-04-12T19:08:39.630Z"
   },
   {
    "duration": 36,
    "start_time": "2022-04-12T19:08:39.637Z"
   },
   {
    "duration": 3,
    "start_time": "2022-04-12T19:08:39.675Z"
   },
   {
    "duration": 12,
    "start_time": "2022-04-12T19:08:39.679Z"
   },
   {
    "duration": 30,
    "start_time": "2022-04-12T19:08:39.692Z"
   },
   {
    "duration": 10,
    "start_time": "2022-04-12T19:08:39.724Z"
   },
   {
    "duration": 24,
    "start_time": "2022-04-12T19:08:39.735Z"
   },
   {
    "duration": 9,
    "start_time": "2022-04-12T19:08:39.761Z"
   },
   {
    "duration": 33,
    "start_time": "2022-04-12T19:08:39.772Z"
   },
   {
    "duration": 10,
    "start_time": "2022-04-12T19:08:39.806Z"
   },
   {
    "duration": 49,
    "start_time": "2022-04-13T16:55:33.998Z"
   },
   {
    "duration": 6,
    "start_time": "2022-04-13T16:55:36.083Z"
   },
   {
    "duration": 419,
    "start_time": "2022-04-13T16:55:38.120Z"
   },
   {
    "duration": 37,
    "start_time": "2022-04-13T16:55:38.541Z"
   },
   {
    "duration": 4,
    "start_time": "2022-04-13T16:55:38.580Z"
   },
   {
    "duration": 38,
    "start_time": "2022-04-13T16:55:38.586Z"
   },
   {
    "duration": 3,
    "start_time": "2022-04-13T16:55:38.626Z"
   },
   {
    "duration": 10,
    "start_time": "2022-04-13T16:55:38.631Z"
   },
   {
    "duration": 38,
    "start_time": "2022-04-13T16:55:38.643Z"
   },
   {
    "duration": 11,
    "start_time": "2022-04-13T16:55:38.683Z"
   },
   {
    "duration": 24,
    "start_time": "2022-04-13T16:55:38.696Z"
   },
   {
    "duration": 42,
    "start_time": "2022-04-13T16:55:38.722Z"
   },
   {
    "duration": 11,
    "start_time": "2022-04-13T16:55:38.765Z"
   },
   {
    "duration": 9,
    "start_time": "2022-04-13T16:55:38.777Z"
   },
   {
    "duration": 15,
    "start_time": "2022-04-13T16:55:38.788Z"
   },
   {
    "duration": 13,
    "start_time": "2022-04-13T16:55:38.804Z"
   },
   {
    "duration": 2,
    "start_time": "2022-04-13T16:58:09.663Z"
   },
   {
    "duration": 58,
    "start_time": "2022-04-13T16:58:09.667Z"
   },
   {
    "duration": 5,
    "start_time": "2022-04-13T16:58:09.726Z"
   },
   {
    "duration": 39,
    "start_time": "2022-04-13T16:58:09.734Z"
   },
   {
    "duration": 8,
    "start_time": "2022-04-13T16:58:09.775Z"
   },
   {
    "duration": 19,
    "start_time": "2022-04-13T16:58:09.785Z"
   },
   {
    "duration": 43,
    "start_time": "2022-04-13T16:58:09.806Z"
   },
   {
    "duration": 12,
    "start_time": "2022-04-13T16:58:09.851Z"
   },
   {
    "duration": 33,
    "start_time": "2022-04-13T16:58:09.866Z"
   },
   {
    "duration": 10,
    "start_time": "2022-04-13T16:58:09.901Z"
   },
   {
    "duration": 25,
    "start_time": "2022-04-13T16:58:09.913Z"
   },
   {
    "duration": 25,
    "start_time": "2022-04-13T16:58:09.940Z"
   },
   {
    "duration": 31,
    "start_time": "2022-04-13T16:58:09.967Z"
   },
   {
    "duration": 23,
    "start_time": "2022-04-13T16:58:10.000Z"
   },
   {
    "duration": 399,
    "start_time": "2022-04-13T17:02:39.504Z"
   },
   {
    "duration": 4,
    "start_time": "2022-04-13T17:04:41.974Z"
   },
   {
    "duration": 17,
    "start_time": "2022-04-13T17:05:24.541Z"
   },
   {
    "duration": 61,
    "start_time": "2022-04-13T17:05:56.965Z"
   },
   {
    "duration": 493,
    "start_time": "2022-04-13T17:06:35.118Z"
   },
   {
    "duration": 158,
    "start_time": "2022-04-13T17:08:20.724Z"
   },
   {
    "duration": 368,
    "start_time": "2022-04-13T17:08:42.795Z"
   },
   {
    "duration": 172,
    "start_time": "2022-04-13T17:09:22.371Z"
   },
   {
    "duration": 72,
    "start_time": "2022-04-13T17:09:53.564Z"
   },
   {
    "duration": 10,
    "start_time": "2022-04-13T17:10:05.173Z"
   },
   {
    "duration": 249,
    "start_time": "2022-04-13T17:10:16.014Z"
   },
   {
    "duration": 294,
    "start_time": "2022-04-13T17:10:20.731Z"
   },
   {
    "duration": 13,
    "start_time": "2022-04-13T17:11:29.971Z"
   },
   {
    "duration": 173,
    "start_time": "2022-04-13T17:12:14.995Z"
   },
   {
    "duration": 159,
    "start_time": "2022-04-13T17:12:27.770Z"
   },
   {
    "duration": 11,
    "start_time": "2022-04-13T17:14:31.458Z"
   },
   {
    "duration": 11,
    "start_time": "2022-04-13T17:21:11.894Z"
   },
   {
    "duration": 110,
    "start_time": "2022-04-13T17:21:24.175Z"
   },
   {
    "duration": 33,
    "start_time": "2022-04-13T17:21:32.695Z"
   },
   {
    "duration": 397,
    "start_time": "2022-04-13T17:22:45.527Z"
   },
   {
    "duration": 431,
    "start_time": "2022-04-13T17:24:33.869Z"
   },
   {
    "duration": 13,
    "start_time": "2022-04-13T17:25:04.990Z"
   },
   {
    "duration": 12,
    "start_time": "2022-04-13T17:29:09.892Z"
   },
   {
    "duration": 11,
    "start_time": "2022-04-13T17:30:17.731Z"
   },
   {
    "duration": 5,
    "start_time": "2022-04-13T17:30:23.923Z"
   },
   {
    "duration": 25,
    "start_time": "2022-04-13T17:31:02.291Z"
   },
   {
    "duration": 15,
    "start_time": "2022-04-13T17:31:45.658Z"
   },
   {
    "duration": 27,
    "start_time": "2022-04-13T17:31:55.834Z"
   },
   {
    "duration": 10,
    "start_time": "2022-04-13T17:34:24.080Z"
   },
   {
    "duration": 12,
    "start_time": "2022-04-13T17:34:35.234Z"
   },
   {
    "duration": 21,
    "start_time": "2022-04-13T17:37:06.816Z"
   },
   {
    "duration": 35,
    "start_time": "2022-04-13T17:37:19.338Z"
   },
   {
    "duration": 33,
    "start_time": "2022-04-13T17:37:43.761Z"
   },
   {
    "duration": 4,
    "start_time": "2022-04-13T17:37:59.789Z"
   },
   {
    "duration": 38,
    "start_time": "2022-04-13T17:37:59.796Z"
   },
   {
    "duration": 4,
    "start_time": "2022-04-13T17:37:59.836Z"
   },
   {
    "duration": 36,
    "start_time": "2022-04-13T17:37:59.843Z"
   },
   {
    "duration": 4,
    "start_time": "2022-04-13T17:37:59.881Z"
   },
   {
    "duration": 9,
    "start_time": "2022-04-13T17:37:59.887Z"
   },
   {
    "duration": 60,
    "start_time": "2022-04-13T17:37:59.898Z"
   },
   {
    "duration": 14,
    "start_time": "2022-04-13T17:37:59.959Z"
   },
   {
    "duration": 27,
    "start_time": "2022-04-13T17:37:59.974Z"
   },
   {
    "duration": 12,
    "start_time": "2022-04-13T17:38:00.004Z"
   },
   {
    "duration": 42,
    "start_time": "2022-04-13T17:38:00.018Z"
   },
   {
    "duration": 15,
    "start_time": "2022-04-13T17:38:00.061Z"
   },
   {
    "duration": 458,
    "start_time": "2022-04-13T17:38:00.078Z"
   },
   {
    "duration": 30,
    "start_time": "2022-04-13T17:38:00.538Z"
   },
   {
    "duration": 0,
    "start_time": "2022-04-13T17:38:00.569Z"
   },
   {
    "duration": 0,
    "start_time": "2022-04-13T17:38:00.570Z"
   },
   {
    "duration": 0,
    "start_time": "2022-04-13T17:38:00.572Z"
   },
   {
    "duration": 0,
    "start_time": "2022-04-13T17:38:00.573Z"
   },
   {
    "duration": 0,
    "start_time": "2022-04-13T17:38:00.574Z"
   },
   {
    "duration": 18,
    "start_time": "2022-04-13T17:38:11.255Z"
   },
   {
    "duration": 7,
    "start_time": "2022-04-13T17:38:32.136Z"
   },
   {
    "duration": 26,
    "start_time": "2022-04-13T17:39:04.015Z"
   },
   {
    "duration": 24,
    "start_time": "2022-04-13T17:39:08.390Z"
   },
   {
    "duration": 159,
    "start_time": "2022-04-13T17:50:23.244Z"
   },
   {
    "duration": 245,
    "start_time": "2022-04-13T17:54:26.272Z"
   },
   {
    "duration": 268,
    "start_time": "2022-04-13T18:15:31.679Z"
   },
   {
    "duration": 300,
    "start_time": "2022-04-13T18:23:33.732Z"
   },
   {
    "duration": 265,
    "start_time": "2022-04-13T18:23:59.197Z"
   },
   {
    "duration": 271,
    "start_time": "2022-04-13T18:28:49.083Z"
   },
   {
    "duration": 9,
    "start_time": "2022-04-13T18:35:05.016Z"
   },
   {
    "duration": 13,
    "start_time": "2022-04-13T18:35:37.719Z"
   },
   {
    "duration": 10,
    "start_time": "2022-04-13T18:36:04.383Z"
   },
   {
    "duration": 104,
    "start_time": "2022-04-13T18:36:14.096Z"
   },
   {
    "duration": 5,
    "start_time": "2022-04-13T18:44:32.293Z"
   },
   {
    "duration": 170,
    "start_time": "2022-04-13T18:54:59.958Z"
   },
   {
    "duration": 18,
    "start_time": "2022-04-13T18:59:04.168Z"
   },
   {
    "duration": 23,
    "start_time": "2022-04-13T18:59:53.623Z"
   },
   {
    "duration": 13,
    "start_time": "2022-04-13T19:00:13.909Z"
   },
   {
    "duration": 4,
    "start_time": "2022-04-13T19:03:23.742Z"
   },
   {
    "duration": 10,
    "start_time": "2022-04-13T19:09:29.776Z"
   },
   {
    "duration": 98,
    "start_time": "2022-04-13T19:12:24.713Z"
   },
   {
    "duration": 11,
    "start_time": "2022-04-13T19:12:43.194Z"
   },
   {
    "duration": 13,
    "start_time": "2022-04-13T19:13:07.381Z"
   },
   {
    "duration": 313,
    "start_time": "2022-04-13T19:14:22.669Z"
   },
   {
    "duration": 416,
    "start_time": "2022-04-13T19:14:32.943Z"
   },
   {
    "duration": 15,
    "start_time": "2022-04-13T19:14:38.991Z"
   },
   {
    "duration": 486,
    "start_time": "2022-04-13T19:15:01.263Z"
   },
   {
    "duration": 27,
    "start_time": "2022-04-13T19:15:05.894Z"
   },
   {
    "duration": 306,
    "start_time": "2022-04-13T19:17:13.006Z"
   },
   {
    "duration": 214,
    "start_time": "2022-04-13T19:17:13.509Z"
   },
   {
    "duration": 28,
    "start_time": "2022-04-13T19:17:14.240Z"
   },
   {
    "duration": 11,
    "start_time": "2022-04-13T19:36:31.429Z"
   },
   {
    "duration": 109,
    "start_time": "2022-04-13T19:45:45.946Z"
   },
   {
    "duration": 101,
    "start_time": "2022-04-13T19:46:36.657Z"
   },
   {
    "duration": 135,
    "start_time": "2022-04-13T19:46:46.266Z"
   },
   {
    "duration": 119,
    "start_time": "2022-04-13T19:47:15.283Z"
   },
   {
    "duration": 118,
    "start_time": "2022-04-13T19:47:23.843Z"
   },
   {
    "duration": 109,
    "start_time": "2022-04-13T19:47:38.962Z"
   },
   {
    "duration": 31,
    "start_time": "2022-04-13T19:48:28.034Z"
   },
   {
    "duration": 25,
    "start_time": "2022-04-13T19:48:32.746Z"
   },
   {
    "duration": 11,
    "start_time": "2022-04-13T19:49:36.441Z"
   },
   {
    "duration": 124,
    "start_time": "2022-04-13T19:55:22.207Z"
   },
   {
    "duration": 11,
    "start_time": "2022-04-13T19:56:25.262Z"
   },
   {
    "duration": 10,
    "start_time": "2022-04-13T19:56:38.573Z"
   },
   {
    "duration": 7,
    "start_time": "2022-04-13T19:57:12.086Z"
   },
   {
    "duration": 6,
    "start_time": "2022-04-13T19:57:23.206Z"
   },
   {
    "duration": 6,
    "start_time": "2022-04-13T19:57:27.493Z"
   },
   {
    "duration": 10,
    "start_time": "2022-04-13T19:57:36.953Z"
   },
   {
    "duration": 7,
    "start_time": "2022-04-13T19:59:36.230Z"
   },
   {
    "duration": 104,
    "start_time": "2022-04-13T20:01:34.940Z"
   },
   {
    "duration": 116,
    "start_time": "2022-04-13T20:01:47.973Z"
   },
   {
    "duration": 120,
    "start_time": "2022-04-13T20:02:06.356Z"
   },
   {
    "duration": 146,
    "start_time": "2022-04-13T20:02:28.900Z"
   },
   {
    "duration": 153,
    "start_time": "2022-04-13T20:02:59.611Z"
   },
   {
    "duration": 107,
    "start_time": "2022-04-13T20:03:04.683Z"
   },
   {
    "duration": 4,
    "start_time": "2022-04-13T20:03:14.587Z"
   },
   {
    "duration": 132,
    "start_time": "2022-04-13T20:03:15.419Z"
   },
   {
    "duration": 111,
    "start_time": "2022-04-13T20:03:27.189Z"
   },
   {
    "duration": 109,
    "start_time": "2022-04-13T20:04:19.643Z"
   },
   {
    "duration": 135,
    "start_time": "2022-04-13T20:06:18.117Z"
   },
   {
    "duration": 3,
    "start_time": "2022-04-13T20:06:28.141Z"
   },
   {
    "duration": 25,
    "start_time": "2022-04-13T20:07:06.178Z"
   },
   {
    "duration": 5,
    "start_time": "2022-04-13T20:07:15.818Z"
   },
   {
    "duration": 30,
    "start_time": "2022-04-13T20:13:42.055Z"
   },
   {
    "duration": 6,
    "start_time": "2022-04-13T20:13:45.015Z"
   },
   {
    "duration": 23,
    "start_time": "2022-04-13T20:13:45.559Z"
   },
   {
    "duration": 5,
    "start_time": "2022-04-13T20:13:46.080Z"
   },
   {
    "duration": 5,
    "start_time": "2022-04-13T20:13:51.478Z"
   },
   {
    "duration": 5,
    "start_time": "2022-04-13T20:14:15.559Z"
   },
   {
    "duration": 5,
    "start_time": "2022-04-13T20:18:06.725Z"
   },
   {
    "duration": 23,
    "start_time": "2022-04-13T20:22:17.420Z"
   },
   {
    "duration": 22,
    "start_time": "2022-04-13T20:22:38.140Z"
   },
   {
    "duration": 21,
    "start_time": "2022-04-13T20:23:17.802Z"
   },
   {
    "duration": 21,
    "start_time": "2022-04-13T20:25:38.347Z"
   },
   {
    "duration": 22,
    "start_time": "2022-04-13T20:26:02.914Z"
   },
   {
    "duration": 23,
    "start_time": "2022-04-13T20:34:26.039Z"
   },
   {
    "duration": 10,
    "start_time": "2022-04-13T20:36:05.646Z"
   },
   {
    "duration": 12,
    "start_time": "2022-04-13T20:36:08.169Z"
   },
   {
    "duration": 12,
    "start_time": "2022-04-13T20:37:17.800Z"
   },
   {
    "duration": 11,
    "start_time": "2022-04-13T20:43:25.877Z"
   },
   {
    "duration": 12,
    "start_time": "2022-04-13T20:43:32.243Z"
   },
   {
    "duration": 8,
    "start_time": "2022-04-13T20:50:32.984Z"
   },
   {
    "duration": 4,
    "start_time": "2022-04-13T20:50:38.648Z"
   },
   {
    "duration": 5,
    "start_time": "2022-04-13T20:50:46.000Z"
   },
   {
    "duration": 5,
    "start_time": "2022-04-13T20:51:30.272Z"
   },
   {
    "duration": 1627,
    "start_time": "2022-04-13T20:51:50.592Z"
   },
   {
    "duration": 1721,
    "start_time": "2022-04-13T20:55:48.078Z"
   },
   {
    "duration": 5,
    "start_time": "2022-04-13T20:56:03.287Z"
   },
   {
    "duration": 4,
    "start_time": "2022-04-13T20:56:44.974Z"
   },
   {
    "duration": 112,
    "start_time": "2022-04-13T20:58:01.381Z"
   },
   {
    "duration": 4,
    "start_time": "2022-04-13T20:58:07.476Z"
   },
   {
    "duration": 23,
    "start_time": "2022-04-13T20:59:01.340Z"
   },
   {
    "duration": 7,
    "start_time": "2022-04-13T21:01:21.260Z"
   },
   {
    "duration": 5,
    "start_time": "2022-04-13T21:01:22.275Z"
   },
   {
    "duration": 5,
    "start_time": "2022-04-13T21:01:23.242Z"
   },
   {
    "duration": 23,
    "start_time": "2022-04-13T21:01:24.195Z"
   },
   {
    "duration": 23,
    "start_time": "2022-04-13T21:01:33.766Z"
   },
   {
    "duration": 7,
    "start_time": "2022-04-13T21:03:15.027Z"
   },
   {
    "duration": 5,
    "start_time": "2022-04-13T21:03:18.202Z"
   },
   {
    "duration": 5,
    "start_time": "2022-04-13T21:03:19.033Z"
   },
   {
    "duration": 25,
    "start_time": "2022-04-13T21:03:20.186Z"
   },
   {
    "duration": 5,
    "start_time": "2022-04-13T21:07:58.162Z"
   },
   {
    "duration": 7,
    "start_time": "2022-04-13T21:08:40.249Z"
   },
   {
    "duration": 7,
    "start_time": "2022-04-13T21:10:23.952Z"
   },
   {
    "duration": 7,
    "start_time": "2022-04-13T21:15:22.463Z"
   },
   {
    "duration": 6,
    "start_time": "2022-04-13T21:15:23.374Z"
   },
   {
    "duration": 4,
    "start_time": "2022-04-13T21:15:24.117Z"
   },
   {
    "duration": 23,
    "start_time": "2022-04-13T21:15:24.509Z"
   },
   {
    "duration": 7,
    "start_time": "2022-04-13T21:15:27.460Z"
   },
   {
    "duration": 7,
    "start_time": "2022-04-13T21:15:27.669Z"
   },
   {
    "duration": 7,
    "start_time": "2022-04-13T21:15:50.158Z"
   },
   {
    "duration": 5,
    "start_time": "2022-04-13T21:15:50.549Z"
   },
   {
    "duration": 4,
    "start_time": "2022-04-13T21:15:50.933Z"
   },
   {
    "duration": 24,
    "start_time": "2022-04-13T21:15:51.349Z"
   },
   {
    "duration": 10,
    "start_time": "2022-04-13T21:15:52.613Z"
   },
   {
    "duration": 7,
    "start_time": "2022-04-13T21:15:52.822Z"
   },
   {
    "duration": 11,
    "start_time": "2022-04-13T21:18:00.677Z"
   },
   {
    "duration": 409,
    "start_time": "2022-04-13T21:24:58.842Z"
   },
   {
    "duration": 394,
    "start_time": "2022-04-13T21:25:26.923Z"
   },
   {
    "duration": 416,
    "start_time": "2022-04-13T21:25:32.658Z"
   },
   {
    "duration": 472,
    "start_time": "2022-04-13T21:27:40.057Z"
   },
   {
    "duration": 463,
    "start_time": "2022-04-13T21:27:52.522Z"
   },
   {
    "duration": 447,
    "start_time": "2022-04-13T21:27:59.968Z"
   },
   {
    "duration": 216,
    "start_time": "2022-04-13T21:28:51.384Z"
   },
   {
    "duration": 328,
    "start_time": "2022-04-13T21:29:37.244Z"
   },
   {
    "duration": 306,
    "start_time": "2022-04-13T21:29:44.335Z"
   },
   {
    "duration": 182,
    "start_time": "2022-04-13T21:29:50.432Z"
   },
   {
    "duration": 539,
    "start_time": "2022-04-13T21:29:56.480Z"
   },
   {
    "duration": 195,
    "start_time": "2022-04-13T21:30:43.184Z"
   },
   {
    "duration": 302,
    "start_time": "2022-04-13T21:31:31.970Z"
   },
   {
    "duration": 133,
    "start_time": "2022-04-13T21:32:34.999Z"
   },
   {
    "duration": 138,
    "start_time": "2022-04-13T21:33:20.678Z"
   },
   {
    "duration": 51,
    "start_time": "2022-04-14T17:22:01.388Z"
   },
   {
    "duration": 8,
    "start_time": "2022-04-14T17:22:13.213Z"
   },
   {
    "duration": 1870,
    "start_time": "2022-04-14T17:22:15.352Z"
   },
   {
    "duration": 68,
    "start_time": "2022-04-14T17:22:17.225Z"
   },
   {
    "duration": 5,
    "start_time": "2022-04-14T17:22:17.301Z"
   },
   {
    "duration": 42,
    "start_time": "2022-04-14T17:22:17.308Z"
   },
   {
    "duration": 13,
    "start_time": "2022-04-14T17:22:17.352Z"
   },
   {
    "duration": 46,
    "start_time": "2022-04-14T17:22:17.367Z"
   },
   {
    "duration": 32,
    "start_time": "2022-04-14T17:22:17.414Z"
   },
   {
    "duration": 21,
    "start_time": "2022-04-14T17:22:17.448Z"
   },
   {
    "duration": 67,
    "start_time": "2022-04-14T17:22:17.471Z"
   },
   {
    "duration": 21,
    "start_time": "2022-04-14T17:22:17.542Z"
   },
   {
    "duration": 61,
    "start_time": "2022-04-14T17:22:17.564Z"
   },
   {
    "duration": 11,
    "start_time": "2022-04-14T17:22:17.628Z"
   },
   {
    "duration": 641,
    "start_time": "2022-04-14T17:22:17.640Z"
   },
   {
    "duration": 223,
    "start_time": "2022-04-14T17:22:18.283Z"
   },
   {
    "duration": 423,
    "start_time": "2022-04-14T17:22:18.508Z"
   },
   {
    "duration": 256,
    "start_time": "2022-04-14T17:22:18.933Z"
   },
   {
    "duration": 324,
    "start_time": "2022-04-14T17:22:19.196Z"
   },
   {
    "duration": 174,
    "start_time": "2022-04-14T17:22:19.522Z"
   },
   {
    "duration": 7,
    "start_time": "2022-04-14T17:22:19.702Z"
   },
   {
    "duration": 193,
    "start_time": "2022-04-14T17:22:19.711Z"
   },
   {
    "duration": 11,
    "start_time": "2022-04-14T17:22:19.906Z"
   },
   {
    "duration": 144,
    "start_time": "2022-04-14T17:22:19.919Z"
   },
   {
    "duration": 152,
    "start_time": "2022-04-14T17:22:20.065Z"
   },
   {
    "duration": 20,
    "start_time": "2022-04-14T17:22:20.218Z"
   },
   {
    "duration": 28,
    "start_time": "2022-04-14T17:22:20.240Z"
   },
   {
    "duration": 150,
    "start_time": "2022-04-14T17:22:20.270Z"
   },
   {
    "duration": 4,
    "start_time": "2022-04-14T17:22:20.422Z"
   },
   {
    "duration": 9,
    "start_time": "2022-04-14T17:22:20.430Z"
   },
   {
    "duration": 57,
    "start_time": "2022-04-14T17:22:20.441Z"
   },
   {
    "duration": 14,
    "start_time": "2022-04-14T17:22:20.500Z"
   },
   {
    "duration": 63,
    "start_time": "2022-04-14T17:22:20.516Z"
   },
   {
    "duration": 30,
    "start_time": "2022-04-14T17:22:20.581Z"
   },
   {
    "duration": 7,
    "start_time": "2022-04-14T17:22:20.613Z"
   },
   {
    "duration": 33,
    "start_time": "2022-04-14T17:22:20.622Z"
   },
   {
    "duration": 12,
    "start_time": "2022-04-14T17:22:20.657Z"
   },
   {
    "duration": 40,
    "start_time": "2022-04-14T17:22:20.671Z"
   },
   {
    "duration": 1362,
    "start_time": "2022-04-15T13:49:55.255Z"
   },
   {
    "duration": 96,
    "start_time": "2022-04-15T13:49:56.619Z"
   },
   {
    "duration": 5,
    "start_time": "2022-04-15T13:49:56.717Z"
   },
   {
    "duration": 42,
    "start_time": "2022-04-15T13:49:56.724Z"
   },
   {
    "duration": 4,
    "start_time": "2022-04-15T13:49:56.767Z"
   },
   {
    "duration": 11,
    "start_time": "2022-04-15T13:49:56.773Z"
   },
   {
    "duration": 60,
    "start_time": "2022-04-15T13:49:56.786Z"
   },
   {
    "duration": 15,
    "start_time": "2022-04-15T13:49:56.848Z"
   },
   {
    "duration": 29,
    "start_time": "2022-04-15T13:49:56.865Z"
   },
   {
    "duration": 13,
    "start_time": "2022-04-15T13:49:56.934Z"
   },
   {
    "duration": 23,
    "start_time": "2022-04-15T13:49:56.949Z"
   },
   {
    "duration": 12,
    "start_time": "2022-04-15T13:49:56.973Z"
   },
   {
    "duration": 638,
    "start_time": "2022-04-15T13:49:56.987Z"
   },
   {
    "duration": 233,
    "start_time": "2022-04-15T13:49:57.627Z"
   },
   {
    "duration": 395,
    "start_time": "2022-04-15T13:49:57.863Z"
   },
   {
    "duration": 275,
    "start_time": "2022-04-15T13:49:58.261Z"
   },
   {
    "duration": 372,
    "start_time": "2022-04-15T13:49:58.538Z"
   },
   {
    "duration": 173,
    "start_time": "2022-04-15T13:49:58.913Z"
   },
   {
    "duration": 7,
    "start_time": "2022-04-15T13:49:59.088Z"
   },
   {
    "duration": 193,
    "start_time": "2022-04-15T13:49:59.097Z"
   },
   {
    "duration": 6,
    "start_time": "2022-04-15T13:49:59.292Z"
   },
   {
    "duration": 111,
    "start_time": "2022-04-15T13:49:59.300Z"
   },
   {
    "duration": 125,
    "start_time": "2022-04-15T13:49:59.413Z"
   },
   {
    "duration": 23,
    "start_time": "2022-04-15T13:49:59.540Z"
   },
   {
    "duration": 11,
    "start_time": "2022-04-15T13:49:59.565Z"
   },
   {
    "duration": 164,
    "start_time": "2022-04-15T13:49:59.578Z"
   },
   {
    "duration": 5,
    "start_time": "2022-04-15T13:49:59.744Z"
   },
   {
    "duration": 12,
    "start_time": "2022-04-15T13:49:59.753Z"
   },
   {
    "duration": 29,
    "start_time": "2022-04-15T13:49:59.767Z"
   },
   {
    "duration": 40,
    "start_time": "2022-04-15T13:49:59.797Z"
   },
   {
    "duration": 11,
    "start_time": "2022-04-15T13:49:59.839Z"
   },
   {
    "duration": 9,
    "start_time": "2022-04-15T13:49:59.852Z"
   },
   {
    "duration": 6,
    "start_time": "2022-04-15T13:49:59.863Z"
   },
   {
    "duration": 32,
    "start_time": "2022-04-15T13:49:59.871Z"
   },
   {
    "duration": 31,
    "start_time": "2022-04-15T13:49:59.905Z"
   },
   {
    "duration": 10,
    "start_time": "2022-04-15T13:49:59.938Z"
   },
   {
    "duration": 10,
    "start_time": "2022-04-15T16:24:18.675Z"
   },
   {
    "duration": 5,
    "start_time": "2022-04-15T16:25:03.987Z"
   },
   {
    "duration": 12,
    "start_time": "2022-04-15T16:28:48.881Z"
   },
   {
    "duration": 8,
    "start_time": "2022-04-15T16:30:46.104Z"
   },
   {
    "duration": 5,
    "start_time": "2022-04-15T16:31:55.073Z"
   },
   {
    "duration": 13,
    "start_time": "2022-04-15T16:32:42.516Z"
   },
   {
    "duration": 6,
    "start_time": "2022-04-15T16:33:22.294Z"
   },
   {
    "duration": 13,
    "start_time": "2022-04-15T16:33:30.206Z"
   },
   {
    "duration": 14,
    "start_time": "2022-04-15T16:33:39.462Z"
   },
   {
    "duration": 10,
    "start_time": "2022-04-15T16:34:03.383Z"
   },
   {
    "duration": 10,
    "start_time": "2022-04-15T16:34:08.071Z"
   },
   {
    "duration": 14,
    "start_time": "2022-04-15T16:37:08.886Z"
   },
   {
    "duration": 6,
    "start_time": "2022-04-15T16:37:28.660Z"
   },
   {
    "duration": 135,
    "start_time": "2022-04-15T16:37:39.358Z"
   },
   {
    "duration": 603,
    "start_time": "2022-04-15T16:38:39.007Z"
   },
   {
    "duration": 587,
    "start_time": "2022-04-15T16:39:14.397Z"
   },
   {
    "duration": 368,
    "start_time": "2022-04-15T16:40:28.980Z"
   },
   {
    "duration": 298,
    "start_time": "2022-04-15T16:41:13.750Z"
   },
   {
    "duration": 650,
    "start_time": "2022-04-15T16:41:21.131Z"
   },
   {
    "duration": 379,
    "start_time": "2022-04-15T16:41:35.444Z"
   },
   {
    "duration": 4,
    "start_time": "2022-04-15T16:41:38.695Z"
   },
   {
    "duration": 101,
    "start_time": "2022-04-15T16:41:38.701Z"
   },
   {
    "duration": 5,
    "start_time": "2022-04-15T16:41:38.803Z"
   },
   {
    "duration": 40,
    "start_time": "2022-04-15T16:41:38.810Z"
   },
   {
    "duration": 4,
    "start_time": "2022-04-15T16:41:38.852Z"
   },
   {
    "duration": 13,
    "start_time": "2022-04-15T16:41:38.858Z"
   },
   {
    "duration": 65,
    "start_time": "2022-04-15T16:41:38.873Z"
   },
   {
    "duration": 17,
    "start_time": "2022-04-15T16:41:38.940Z"
   },
   {
    "duration": 37,
    "start_time": "2022-04-15T16:41:38.960Z"
   },
   {
    "duration": 43,
    "start_time": "2022-04-15T16:41:38.999Z"
   },
   {
    "duration": 24,
    "start_time": "2022-04-15T16:41:39.048Z"
   },
   {
    "duration": 22,
    "start_time": "2022-04-15T16:41:39.074Z"
   },
   {
    "duration": 564,
    "start_time": "2022-04-15T16:41:39.097Z"
   },
   {
    "duration": 240,
    "start_time": "2022-04-15T16:41:39.662Z"
   },
   {
    "duration": 411,
    "start_time": "2022-04-15T16:41:39.904Z"
   },
   {
    "duration": 272,
    "start_time": "2022-04-15T16:41:40.317Z"
   },
   {
    "duration": 444,
    "start_time": "2022-04-15T16:41:40.591Z"
   },
   {
    "duration": 284,
    "start_time": "2022-04-15T16:41:41.038Z"
   },
   {
    "duration": 13,
    "start_time": "2022-04-15T16:41:41.324Z"
   },
   {
    "duration": 201,
    "start_time": "2022-04-15T16:41:41.339Z"
   },
   {
    "duration": 6,
    "start_time": "2022-04-15T16:41:41.542Z"
   },
   {
    "duration": 110,
    "start_time": "2022-04-15T16:41:41.550Z"
   },
   {
    "duration": 135,
    "start_time": "2022-04-15T16:41:41.662Z"
   },
   {
    "duration": 22,
    "start_time": "2022-04-15T16:41:41.801Z"
   },
   {
    "duration": 22,
    "start_time": "2022-04-15T16:41:41.825Z"
   },
   {
    "duration": 163,
    "start_time": "2022-04-15T16:41:41.849Z"
   },
   {
    "duration": 5,
    "start_time": "2022-04-15T16:41:42.014Z"
   },
   {
    "duration": 16,
    "start_time": "2022-04-15T16:41:42.021Z"
   },
   {
    "duration": 47,
    "start_time": "2022-04-15T16:41:42.038Z"
   },
   {
    "duration": 12,
    "start_time": "2022-04-15T16:41:42.087Z"
   },
   {
    "duration": 10,
    "start_time": "2022-04-15T16:41:42.101Z"
   },
   {
    "duration": 10,
    "start_time": "2022-04-15T16:41:42.113Z"
   },
   {
    "duration": 5,
    "start_time": "2022-04-15T16:41:42.140Z"
   },
   {
    "duration": 44,
    "start_time": "2022-04-15T16:41:42.146Z"
   },
   {
    "duration": 7,
    "start_time": "2022-04-15T16:41:42.192Z"
   },
   {
    "duration": 13,
    "start_time": "2022-04-15T16:41:42.201Z"
   },
   {
    "duration": 22,
    "start_time": "2022-04-15T16:41:42.215Z"
   },
   {
    "duration": 25,
    "start_time": "2022-04-15T16:41:42.239Z"
   },
   {
    "duration": 607,
    "start_time": "2022-04-15T16:41:42.266Z"
   },
   {
    "duration": 374,
    "start_time": "2022-04-15T16:41:42.875Z"
   },
   {
    "duration": 377,
    "start_time": "2022-04-15T16:43:44.234Z"
   },
   {
    "duration": 6,
    "start_time": "2022-04-15T16:45:43.105Z"
   },
   {
    "duration": 641,
    "start_time": "2022-04-15T16:45:43.731Z"
   },
   {
    "duration": 396,
    "start_time": "2022-04-15T16:45:44.482Z"
   },
   {
    "duration": 7,
    "start_time": "2022-04-15T16:46:11.257Z"
   },
   {
    "duration": 608,
    "start_time": "2022-04-15T16:46:12.010Z"
   },
   {
    "duration": 351,
    "start_time": "2022-04-15T16:46:14.473Z"
   },
   {
    "duration": 7,
    "start_time": "2022-04-15T16:48:25.430Z"
   },
   {
    "duration": 645,
    "start_time": "2022-04-15T16:48:25.756Z"
   },
   {
    "duration": 505,
    "start_time": "2022-04-15T16:48:26.403Z"
   },
   {
    "duration": 15,
    "start_time": "2022-04-15T16:50:06.041Z"
   },
   {
    "duration": 312,
    "start_time": "2022-04-15T16:50:49.886Z"
   },
   {
    "duration": 614,
    "start_time": "2022-04-15T16:51:03.759Z"
   },
   {
    "duration": 628,
    "start_time": "2022-04-15T16:53:15.950Z"
   },
   {
    "duration": 380,
    "start_time": "2022-04-15T16:53:20.110Z"
   },
   {
    "duration": 18,
    "start_time": "2022-04-15T16:55:02.030Z"
   },
   {
    "duration": 46,
    "start_time": "2022-04-15T16:55:26.737Z"
   },
   {
    "duration": 33,
    "start_time": "2022-04-15T16:58:53.437Z"
   },
   {
    "duration": 7,
    "start_time": "2022-04-15T16:59:55.523Z"
   },
   {
    "duration": 623,
    "start_time": "2022-04-15T17:05:25.361Z"
   },
   {
    "duration": 5,
    "start_time": "2022-04-15T17:10:23.539Z"
   },
   {
    "duration": 5,
    "start_time": "2022-04-15T17:10:33.685Z"
   },
   {
    "duration": 5,
    "start_time": "2022-04-15T17:10:49.014Z"
   },
   {
    "duration": 3,
    "start_time": "2022-04-15T17:11:17.183Z"
   },
   {
    "duration": 79,
    "start_time": "2022-04-15T17:11:17.189Z"
   },
   {
    "duration": 7,
    "start_time": "2022-04-15T17:11:17.271Z"
   },
   {
    "duration": 45,
    "start_time": "2022-04-15T17:11:17.281Z"
   },
   {
    "duration": 7,
    "start_time": "2022-04-15T17:11:17.328Z"
   },
   {
    "duration": 22,
    "start_time": "2022-04-15T17:11:17.337Z"
   },
   {
    "duration": 79,
    "start_time": "2022-04-15T17:11:17.361Z"
   },
   {
    "duration": 20,
    "start_time": "2022-04-15T17:11:17.444Z"
   },
   {
    "duration": 33,
    "start_time": "2022-04-15T17:11:17.467Z"
   },
   {
    "duration": 46,
    "start_time": "2022-04-15T17:11:17.501Z"
   },
   {
    "duration": 15,
    "start_time": "2022-04-15T17:11:17.549Z"
   },
   {
    "duration": 20,
    "start_time": "2022-04-15T17:11:17.566Z"
   },
   {
    "duration": 540,
    "start_time": "2022-04-15T17:11:17.587Z"
   },
   {
    "duration": 240,
    "start_time": "2022-04-15T17:11:18.129Z"
   },
   {
    "duration": 306,
    "start_time": "2022-04-15T17:11:18.372Z"
   },
   {
    "duration": 247,
    "start_time": "2022-04-15T17:11:18.680Z"
   },
   {
    "duration": 385,
    "start_time": "2022-04-15T17:11:18.933Z"
   },
   {
    "duration": 12,
    "start_time": "2022-04-15T17:11:19.321Z"
   },
   {
    "duration": 14,
    "start_time": "2022-04-15T17:11:19.336Z"
   },
   {
    "duration": 274,
    "start_time": "2022-04-15T17:11:19.352Z"
   },
   {
    "duration": 9,
    "start_time": "2022-04-15T17:11:19.628Z"
   },
   {
    "duration": 214,
    "start_time": "2022-04-15T17:11:19.639Z"
   },
   {
    "duration": 6,
    "start_time": "2022-04-15T17:11:19.856Z"
   },
   {
    "duration": 113,
    "start_time": "2022-04-15T17:11:19.866Z"
   },
   {
    "duration": 133,
    "start_time": "2022-04-15T17:11:19.981Z"
   },
   {
    "duration": 39,
    "start_time": "2022-04-15T17:11:20.116Z"
   },
   {
    "duration": 16,
    "start_time": "2022-04-15T17:11:20.157Z"
   },
   {
    "duration": 153,
    "start_time": "2022-04-15T17:11:20.175Z"
   },
   {
    "duration": 6,
    "start_time": "2022-04-15T17:11:20.330Z"
   },
   {
    "duration": 18,
    "start_time": "2022-04-15T17:11:20.338Z"
   },
   {
    "duration": 29,
    "start_time": "2022-04-15T17:11:20.359Z"
   },
   {
    "duration": 12,
    "start_time": "2022-04-15T17:11:20.390Z"
   },
   {
    "duration": 30,
    "start_time": "2022-04-15T17:11:20.404Z"
   },
   {
    "duration": 10,
    "start_time": "2022-04-15T17:11:20.436Z"
   },
   {
    "duration": 7,
    "start_time": "2022-04-15T17:11:20.447Z"
   },
   {
    "duration": 36,
    "start_time": "2022-04-15T17:11:20.456Z"
   },
   {
    "duration": 8,
    "start_time": "2022-04-15T17:11:20.494Z"
   },
   {
    "duration": 30,
    "start_time": "2022-04-15T17:11:20.503Z"
   },
   {
    "duration": 14,
    "start_time": "2022-04-15T17:11:20.535Z"
   },
   {
    "duration": 1000,
    "start_time": "2022-04-15T17:11:20.551Z"
   },
   {
    "duration": 82,
    "start_time": "2022-04-15T17:11:21.553Z"
   },
   {
    "duration": 4,
    "start_time": "2022-04-15T17:11:33.311Z"
   },
   {
    "duration": 64,
    "start_time": "2022-04-15T17:11:33.317Z"
   },
   {
    "duration": 5,
    "start_time": "2022-04-15T17:11:33.383Z"
   },
   {
    "duration": 45,
    "start_time": "2022-04-15T17:11:33.392Z"
   },
   {
    "duration": 5,
    "start_time": "2022-04-15T17:11:33.439Z"
   },
   {
    "duration": 15,
    "start_time": "2022-04-15T17:11:33.446Z"
   },
   {
    "duration": 75,
    "start_time": "2022-04-15T17:11:33.463Z"
   },
   {
    "duration": 15,
    "start_time": "2022-04-15T17:11:33.540Z"
   },
   {
    "duration": 28,
    "start_time": "2022-04-15T17:11:33.558Z"
   },
   {
    "duration": 56,
    "start_time": "2022-04-15T17:11:33.588Z"
   },
   {
    "duration": 13,
    "start_time": "2022-04-15T17:11:33.646Z"
   },
   {
    "duration": 28,
    "start_time": "2022-04-15T17:11:33.660Z"
   },
   {
    "duration": 546,
    "start_time": "2022-04-15T17:11:33.691Z"
   },
   {
    "duration": 238,
    "start_time": "2022-04-15T17:11:34.239Z"
   },
   {
    "duration": 332,
    "start_time": "2022-04-15T17:11:34.479Z"
   },
   {
    "duration": 280,
    "start_time": "2022-04-15T17:11:34.813Z"
   },
   {
    "duration": 429,
    "start_time": "2022-04-15T17:11:35.096Z"
   },
   {
    "duration": 8,
    "start_time": "2022-04-15T17:11:35.527Z"
   },
   {
    "duration": 19,
    "start_time": "2022-04-15T17:11:35.537Z"
   },
   {
    "duration": 171,
    "start_time": "2022-04-15T17:11:35.558Z"
   },
   {
    "duration": 6,
    "start_time": "2022-04-15T17:11:35.733Z"
   },
   {
    "duration": 188,
    "start_time": "2022-04-15T17:11:35.741Z"
   },
   {
    "duration": 6,
    "start_time": "2022-04-15T17:11:35.934Z"
   },
   {
    "duration": 191,
    "start_time": "2022-04-15T17:11:35.945Z"
   },
   {
    "duration": 123,
    "start_time": "2022-04-15T17:11:36.138Z"
   },
   {
    "duration": 22,
    "start_time": "2022-04-15T17:11:36.263Z"
   },
   {
    "duration": 11,
    "start_time": "2022-04-15T17:11:36.286Z"
   },
   {
    "duration": 160,
    "start_time": "2022-04-15T17:11:36.299Z"
   },
   {
    "duration": 6,
    "start_time": "2022-04-15T17:11:36.461Z"
   },
   {
    "duration": 13,
    "start_time": "2022-04-15T17:11:36.469Z"
   },
   {
    "duration": 28,
    "start_time": "2022-04-15T17:11:36.484Z"
   },
   {
    "duration": 26,
    "start_time": "2022-04-15T17:11:36.514Z"
   },
   {
    "duration": 10,
    "start_time": "2022-04-15T17:11:36.542Z"
   },
   {
    "duration": 10,
    "start_time": "2022-04-15T17:11:36.553Z"
   },
   {
    "duration": 9,
    "start_time": "2022-04-15T17:11:36.565Z"
   },
   {
    "duration": 33,
    "start_time": "2022-04-15T17:11:36.576Z"
   },
   {
    "duration": 23,
    "start_time": "2022-04-15T17:11:36.610Z"
   },
   {
    "duration": 15,
    "start_time": "2022-04-15T17:11:36.635Z"
   },
   {
    "duration": 17,
    "start_time": "2022-04-15T17:11:36.652Z"
   },
   {
    "duration": 597,
    "start_time": "2022-04-15T17:11:36.671Z"
   },
   {
    "duration": 21,
    "start_time": "2022-04-15T17:11:37.271Z"
   },
   {
    "duration": 6,
    "start_time": "2022-04-15T17:13:28.676Z"
   },
   {
    "duration": 380,
    "start_time": "2022-04-15T17:18:40.024Z"
   },
   {
    "duration": 18,
    "start_time": "2022-04-15T17:20:02.570Z"
   },
   {
    "duration": 7,
    "start_time": "2022-04-15T17:20:56.906Z"
   },
   {
    "duration": 4,
    "start_time": "2022-04-15T17:22:06.858Z"
   },
   {
    "duration": 63,
    "start_time": "2022-04-15T17:22:06.864Z"
   },
   {
    "duration": 5,
    "start_time": "2022-04-15T17:22:06.929Z"
   },
   {
    "duration": 40,
    "start_time": "2022-04-15T17:22:06.935Z"
   },
   {
    "duration": 3,
    "start_time": "2022-04-15T17:22:06.978Z"
   },
   {
    "duration": 11,
    "start_time": "2022-04-15T17:22:06.983Z"
   },
   {
    "duration": 65,
    "start_time": "2022-04-15T17:22:06.995Z"
   },
   {
    "duration": 14,
    "start_time": "2022-04-15T17:22:07.062Z"
   },
   {
    "duration": 66,
    "start_time": "2022-04-15T17:22:07.078Z"
   },
   {
    "duration": 11,
    "start_time": "2022-04-15T17:22:07.146Z"
   },
   {
    "duration": 15,
    "start_time": "2022-04-15T17:22:07.160Z"
   },
   {
    "duration": 14,
    "start_time": "2022-04-15T17:22:07.177Z"
   },
   {
    "duration": 513,
    "start_time": "2022-04-15T17:22:07.192Z"
   },
   {
    "duration": 221,
    "start_time": "2022-04-15T17:22:07.707Z"
   },
   {
    "duration": 332,
    "start_time": "2022-04-15T17:22:07.933Z"
   },
   {
    "duration": 241,
    "start_time": "2022-04-15T17:22:08.267Z"
   },
   {
    "duration": 377,
    "start_time": "2022-04-15T17:22:08.509Z"
   },
   {
    "duration": 156,
    "start_time": "2022-04-15T17:22:08.888Z"
   },
   {
    "duration": 6,
    "start_time": "2022-04-15T17:22:09.046Z"
   },
   {
    "duration": 187,
    "start_time": "2022-04-15T17:22:09.053Z"
   },
   {
    "duration": 6,
    "start_time": "2022-04-15T17:22:09.242Z"
   },
   {
    "duration": 108,
    "start_time": "2022-04-15T17:22:09.250Z"
   },
   {
    "duration": 124,
    "start_time": "2022-04-15T17:22:09.360Z"
   },
   {
    "duration": 21,
    "start_time": "2022-04-15T17:22:09.486Z"
   },
   {
    "duration": 10,
    "start_time": "2022-04-15T17:22:09.508Z"
   },
   {
    "duration": 158,
    "start_time": "2022-04-15T17:22:09.533Z"
   },
   {
    "duration": 5,
    "start_time": "2022-04-15T17:22:09.693Z"
   },
   {
    "duration": 8,
    "start_time": "2022-04-15T17:22:09.700Z"
   },
   {
    "duration": 37,
    "start_time": "2022-04-15T17:22:09.712Z"
   },
   {
    "duration": 6,
    "start_time": "2022-04-15T17:22:09.751Z"
   },
   {
    "duration": 23,
    "start_time": "2022-04-15T17:22:09.759Z"
   },
   {
    "duration": 8,
    "start_time": "2022-04-15T17:22:09.784Z"
   },
   {
    "duration": 9,
    "start_time": "2022-04-15T17:22:09.793Z"
   },
   {
    "duration": 6,
    "start_time": "2022-04-15T17:22:09.804Z"
   },
   {
    "duration": 47,
    "start_time": "2022-04-15T17:22:09.811Z"
   },
   {
    "duration": 7,
    "start_time": "2022-04-15T17:22:09.860Z"
   },
   {
    "duration": 9,
    "start_time": "2022-04-15T17:22:09.869Z"
   },
   {
    "duration": 8,
    "start_time": "2022-04-15T17:22:09.880Z"
   },
   {
    "duration": 684,
    "start_time": "2022-04-15T17:22:09.890Z"
   },
   {
    "duration": 353,
    "start_time": "2022-04-15T17:22:10.576Z"
   },
   {
    "duration": 13,
    "start_time": "2022-04-15T17:22:10.933Z"
   },
   {
    "duration": 9,
    "start_time": "2022-04-15T17:22:10.948Z"
   },
   {
    "duration": 13,
    "start_time": "2022-04-15T17:23:28.295Z"
   },
   {
    "duration": 214,
    "start_time": "2022-04-15T18:00:17.783Z"
   },
   {
    "duration": 401,
    "start_time": "2022-04-15T18:00:52.919Z"
   },
   {
    "duration": 238,
    "start_time": "2022-04-15T18:01:01.576Z"
   },
   {
    "duration": 300,
    "start_time": "2022-04-15T18:01:25.871Z"
   },
   {
    "duration": 225,
    "start_time": "2022-04-15T18:02:00.087Z"
   },
   {
    "duration": 137,
    "start_time": "2022-04-15T18:02:53.271Z"
   },
   {
    "duration": 214,
    "start_time": "2022-04-15T18:03:54.537Z"
   },
   {
    "duration": 19,
    "start_time": "2022-04-15T18:06:08.110Z"
   },
   {
    "duration": 351,
    "start_time": "2022-04-15T18:06:29.895Z"
   },
   {
    "duration": 222,
    "start_time": "2022-04-15T18:06:33.725Z"
   },
   {
    "duration": 144,
    "start_time": "2022-04-15T18:07:04.099Z"
   },
   {
    "duration": 1198,
    "start_time": "2022-04-15T18:30:21.488Z"
   },
   {
    "duration": 77,
    "start_time": "2022-04-15T18:30:22.689Z"
   },
   {
    "duration": 5,
    "start_time": "2022-04-15T18:30:22.768Z"
   },
   {
    "duration": 43,
    "start_time": "2022-04-15T18:30:22.776Z"
   },
   {
    "duration": 4,
    "start_time": "2022-04-15T18:30:22.821Z"
   },
   {
    "duration": 14,
    "start_time": "2022-04-15T18:30:22.828Z"
   },
   {
    "duration": 43,
    "start_time": "2022-04-15T18:30:22.844Z"
   },
   {
    "duration": 15,
    "start_time": "2022-04-15T18:30:22.889Z"
   },
   {
    "duration": 59,
    "start_time": "2022-04-15T18:30:22.906Z"
   },
   {
    "duration": 13,
    "start_time": "2022-04-15T18:30:22.969Z"
   },
   {
    "duration": 18,
    "start_time": "2022-04-15T18:30:22.983Z"
   },
   {
    "duration": 13,
    "start_time": "2022-04-15T18:30:23.033Z"
   },
   {
    "duration": 609,
    "start_time": "2022-04-15T18:30:23.047Z"
   },
   {
    "duration": 230,
    "start_time": "2022-04-15T18:30:23.658Z"
   },
   {
    "duration": 390,
    "start_time": "2022-04-15T18:30:23.890Z"
   },
   {
    "duration": 247,
    "start_time": "2022-04-15T18:30:24.282Z"
   },
   {
    "duration": 394,
    "start_time": "2022-04-15T18:30:24.534Z"
   },
   {
    "duration": 190,
    "start_time": "2022-04-15T18:30:24.930Z"
   },
   {
    "duration": 5,
    "start_time": "2022-04-15T18:30:25.122Z"
   },
   {
    "duration": 186,
    "start_time": "2022-04-15T18:30:25.134Z"
   },
   {
    "duration": 12,
    "start_time": "2022-04-15T18:30:25.322Z"
   },
   {
    "duration": 111,
    "start_time": "2022-04-15T18:30:25.337Z"
   },
   {
    "duration": 133,
    "start_time": "2022-04-15T18:30:25.450Z"
   },
   {
    "duration": 22,
    "start_time": "2022-04-15T18:30:25.585Z"
   },
   {
    "duration": 28,
    "start_time": "2022-04-15T18:30:25.609Z"
   },
   {
    "duration": 164,
    "start_time": "2022-04-15T18:30:25.639Z"
   },
   {
    "duration": 5,
    "start_time": "2022-04-15T18:30:25.805Z"
   },
   {
    "duration": 20,
    "start_time": "2022-04-15T18:30:25.813Z"
   },
   {
    "duration": 28,
    "start_time": "2022-04-15T18:30:25.835Z"
   },
   {
    "duration": 13,
    "start_time": "2022-04-15T18:30:25.866Z"
   },
   {
    "duration": 13,
    "start_time": "2022-04-15T18:30:25.881Z"
   },
   {
    "duration": 9,
    "start_time": "2022-04-15T18:30:25.895Z"
   },
   {
    "duration": 28,
    "start_time": "2022-04-15T18:30:25.905Z"
   },
   {
    "duration": 27,
    "start_time": "2022-04-15T18:30:25.936Z"
   },
   {
    "duration": 9,
    "start_time": "2022-04-15T18:30:25.965Z"
   },
   {
    "duration": 10,
    "start_time": "2022-04-15T18:30:25.976Z"
   },
   {
    "duration": 9,
    "start_time": "2022-04-15T18:30:25.988Z"
   },
   {
    "duration": 742,
    "start_time": "2022-04-15T18:30:25.999Z"
   },
   {
    "duration": 245,
    "start_time": "2022-04-15T18:30:26.743Z"
   },
   {
    "duration": 215,
    "start_time": "2022-04-15T18:30:26.990Z"
   },
   {
    "duration": 403,
    "start_time": "2022-04-15T18:30:27.207Z"
   },
   {
    "duration": 222,
    "start_time": "2022-04-15T18:30:27.612Z"
   },
   {
    "duration": 173,
    "start_time": "2022-04-17T12:07:35.823Z"
   },
   {
    "duration": 1293,
    "start_time": "2022-04-17T12:14:02.509Z"
   },
   {
    "duration": 104,
    "start_time": "2022-04-17T12:14:03.804Z"
   },
   {
    "duration": 4,
    "start_time": "2022-04-17T12:14:03.910Z"
   },
   {
    "duration": 39,
    "start_time": "2022-04-17T12:14:03.916Z"
   },
   {
    "duration": 4,
    "start_time": "2022-04-17T12:14:03.957Z"
   },
   {
    "duration": 12,
    "start_time": "2022-04-17T12:14:03.963Z"
   },
   {
    "duration": 31,
    "start_time": "2022-04-17T12:14:04.001Z"
   },
   {
    "duration": 13,
    "start_time": "2022-04-17T12:14:04.034Z"
   },
   {
    "duration": 56,
    "start_time": "2022-04-17T12:14:04.049Z"
   },
   {
    "duration": 10,
    "start_time": "2022-04-17T12:14:04.108Z"
   },
   {
    "duration": 15,
    "start_time": "2022-04-17T12:14:06.415Z"
   },
   {
    "duration": 100,
    "start_time": "2022-04-17T12:14:19.551Z"
   },
   {
    "duration": 19,
    "start_time": "2022-04-17T12:15:36.810Z"
   },
   {
    "duration": 7,
    "start_time": "2022-04-17T12:15:49.527Z"
   },
   {
    "duration": 9,
    "start_time": "2022-04-17T12:16:06.656Z"
   },
   {
    "duration": 9,
    "start_time": "2022-04-17T12:16:50.215Z"
   },
   {
    "duration": 12,
    "start_time": "2022-04-17T12:16:57.998Z"
   },
   {
    "duration": 9,
    "start_time": "2022-04-17T12:18:03.622Z"
   },
   {
    "duration": 17,
    "start_time": "2022-04-17T12:18:08.997Z"
   },
   {
    "duration": 17,
    "start_time": "2022-04-17T12:18:42.974Z"
   },
   {
    "duration": 14,
    "start_time": "2022-04-17T12:19:02.582Z"
   },
   {
    "duration": 16,
    "start_time": "2022-04-17T12:19:11.429Z"
   },
   {
    "duration": 4,
    "start_time": "2022-04-17T12:19:13.834Z"
   },
   {
    "duration": 88,
    "start_time": "2022-04-17T12:19:13.839Z"
   },
   {
    "duration": 4,
    "start_time": "2022-04-17T12:19:13.929Z"
   },
   {
    "duration": 32,
    "start_time": "2022-04-17T12:19:13.935Z"
   },
   {
    "duration": 4,
    "start_time": "2022-04-17T12:19:13.969Z"
   },
   {
    "duration": 11,
    "start_time": "2022-04-17T12:19:13.974Z"
   },
   {
    "duration": 43,
    "start_time": "2022-04-17T12:19:13.986Z"
   },
   {
    "duration": 18,
    "start_time": "2022-04-17T12:19:14.031Z"
   },
   {
    "duration": 55,
    "start_time": "2022-04-17T12:19:14.052Z"
   },
   {
    "duration": 9,
    "start_time": "2022-04-17T12:19:14.109Z"
   },
   {
    "duration": 18,
    "start_time": "2022-04-17T12:19:14.122Z"
   },
   {
    "duration": 22,
    "start_time": "2022-04-17T12:19:14.142Z"
   },
   {
    "duration": 0,
    "start_time": "2022-04-17T12:19:14.166Z"
   },
   {
    "duration": 0,
    "start_time": "2022-04-17T12:19:14.167Z"
   },
   {
    "duration": 0,
    "start_time": "2022-04-17T12:19:14.169Z"
   },
   {
    "duration": 0,
    "start_time": "2022-04-17T12:19:14.170Z"
   },
   {
    "duration": 0,
    "start_time": "2022-04-17T12:19:14.171Z"
   },
   {
    "duration": 0,
    "start_time": "2022-04-17T12:19:14.172Z"
   },
   {
    "duration": 0,
    "start_time": "2022-04-17T12:19:14.200Z"
   },
   {
    "duration": 0,
    "start_time": "2022-04-17T12:19:14.202Z"
   },
   {
    "duration": 0,
    "start_time": "2022-04-17T12:19:14.203Z"
   },
   {
    "duration": 0,
    "start_time": "2022-04-17T12:19:14.204Z"
   },
   {
    "duration": 0,
    "start_time": "2022-04-17T12:19:14.205Z"
   },
   {
    "duration": 0,
    "start_time": "2022-04-17T12:19:14.206Z"
   },
   {
    "duration": 0,
    "start_time": "2022-04-17T12:19:14.207Z"
   },
   {
    "duration": 0,
    "start_time": "2022-04-17T12:19:14.209Z"
   },
   {
    "duration": 0,
    "start_time": "2022-04-17T12:19:14.210Z"
   },
   {
    "duration": 0,
    "start_time": "2022-04-17T12:19:14.211Z"
   },
   {
    "duration": 0,
    "start_time": "2022-04-17T12:19:14.212Z"
   },
   {
    "duration": 0,
    "start_time": "2022-04-17T12:19:14.213Z"
   },
   {
    "duration": 0,
    "start_time": "2022-04-17T12:19:14.213Z"
   },
   {
    "duration": 0,
    "start_time": "2022-04-17T12:19:14.214Z"
   },
   {
    "duration": 0,
    "start_time": "2022-04-17T12:19:14.216Z"
   },
   {
    "duration": 0,
    "start_time": "2022-04-17T12:19:14.216Z"
   },
   {
    "duration": 0,
    "start_time": "2022-04-17T12:19:14.217Z"
   },
   {
    "duration": 0,
    "start_time": "2022-04-17T12:19:14.218Z"
   },
   {
    "duration": 0,
    "start_time": "2022-04-17T12:19:14.219Z"
   },
   {
    "duration": 0,
    "start_time": "2022-04-17T12:19:14.221Z"
   },
   {
    "duration": 0,
    "start_time": "2022-04-17T12:19:14.221Z"
   },
   {
    "duration": 0,
    "start_time": "2022-04-17T12:19:14.222Z"
   },
   {
    "duration": 0,
    "start_time": "2022-04-17T12:19:14.225Z"
   },
   {
    "duration": 0,
    "start_time": "2022-04-17T12:19:14.225Z"
   },
   {
    "duration": 0,
    "start_time": "2022-04-17T12:19:14.226Z"
   },
   {
    "duration": 0,
    "start_time": "2022-04-17T12:19:14.227Z"
   },
   {
    "duration": 8,
    "start_time": "2022-04-17T12:19:22.750Z"
   },
   {
    "duration": 17,
    "start_time": "2022-04-17T12:19:29.293Z"
   },
   {
    "duration": 12,
    "start_time": "2022-04-17T12:20:47.716Z"
   },
   {
    "duration": 14,
    "start_time": "2022-04-17T12:22:48.821Z"
   },
   {
    "duration": 10,
    "start_time": "2022-04-17T12:23:27.357Z"
   },
   {
    "duration": 6,
    "start_time": "2022-04-17T12:30:27.602Z"
   },
   {
    "duration": 6,
    "start_time": "2022-04-17T12:31:16.683Z"
   },
   {
    "duration": 261,
    "start_time": "2022-04-17T12:32:56.594Z"
   },
   {
    "duration": 3,
    "start_time": "2022-04-17T12:33:23.374Z"
   },
   {
    "duration": 70,
    "start_time": "2022-04-17T12:33:23.379Z"
   },
   {
    "duration": 5,
    "start_time": "2022-04-17T12:33:23.451Z"
   },
   {
    "duration": 44,
    "start_time": "2022-04-17T12:33:23.458Z"
   },
   {
    "duration": 4,
    "start_time": "2022-04-17T12:33:23.504Z"
   },
   {
    "duration": 14,
    "start_time": "2022-04-17T12:33:23.510Z"
   },
   {
    "duration": 42,
    "start_time": "2022-04-17T12:33:23.526Z"
   },
   {
    "duration": 45,
    "start_time": "2022-04-17T12:33:23.570Z"
   },
   {
    "duration": 27,
    "start_time": "2022-04-17T12:33:23.617Z"
   },
   {
    "duration": 12,
    "start_time": "2022-04-17T12:33:23.646Z"
   },
   {
    "duration": 57,
    "start_time": "2022-04-17T12:33:23.661Z"
   },
   {
    "duration": 6,
    "start_time": "2022-04-17T12:33:23.720Z"
   },
   {
    "duration": 22,
    "start_time": "2022-04-17T12:33:23.728Z"
   },
   {
    "duration": 14,
    "start_time": "2022-04-17T12:33:23.752Z"
   },
   {
    "duration": 673,
    "start_time": "2022-04-17T12:33:23.768Z"
   },
   {
    "duration": 196,
    "start_time": "2022-04-17T12:33:24.443Z"
   },
   {
    "duration": 374,
    "start_time": "2022-04-17T12:33:24.641Z"
   },
   {
    "duration": 199,
    "start_time": "2022-04-17T12:33:25.017Z"
   },
   {
    "duration": 399,
    "start_time": "2022-04-17T12:33:25.217Z"
   },
   {
    "duration": 212,
    "start_time": "2022-04-17T12:33:25.618Z"
   },
   {
    "duration": 5,
    "start_time": "2022-04-17T12:33:25.832Z"
   },
   {
    "duration": 211,
    "start_time": "2022-04-17T12:33:25.839Z"
   },
   {
    "duration": 6,
    "start_time": "2022-04-17T12:33:26.052Z"
   },
   {
    "duration": 96,
    "start_time": "2022-04-17T12:33:26.059Z"
   },
   {
    "duration": 111,
    "start_time": "2022-04-17T12:33:26.158Z"
   },
   {
    "duration": 19,
    "start_time": "2022-04-17T12:33:26.271Z"
   },
   {
    "duration": 10,
    "start_time": "2022-04-17T12:33:26.300Z"
   },
   {
    "duration": 122,
    "start_time": "2022-04-17T12:33:26.311Z"
   },
   {
    "duration": 4,
    "start_time": "2022-04-17T12:33:26.436Z"
   },
   {
    "duration": 7,
    "start_time": "2022-04-17T12:33:26.442Z"
   },
   {
    "duration": 49,
    "start_time": "2022-04-17T12:33:26.451Z"
   },
   {
    "duration": 14,
    "start_time": "2022-04-17T12:33:26.502Z"
   },
   {
    "duration": 10,
    "start_time": "2022-04-17T12:33:26.518Z"
   },
   {
    "duration": 5,
    "start_time": "2022-04-17T12:33:26.530Z"
   },
   {
    "duration": 4,
    "start_time": "2022-04-17T12:33:26.537Z"
   },
   {
    "duration": 25,
    "start_time": "2022-04-17T12:33:26.542Z"
   },
   {
    "duration": 34,
    "start_time": "2022-04-17T12:33:26.569Z"
   },
   {
    "duration": 7,
    "start_time": "2022-04-17T12:33:26.605Z"
   },
   {
    "duration": 9,
    "start_time": "2022-04-17T12:33:26.613Z"
   },
   {
    "duration": 673,
    "start_time": "2022-04-17T12:33:26.623Z"
   },
   {
    "duration": 193,
    "start_time": "2022-04-17T12:33:27.299Z"
   },
   {
    "duration": 186,
    "start_time": "2022-04-17T12:33:27.494Z"
   },
   {
    "duration": 308,
    "start_time": "2022-04-17T12:33:27.681Z"
   },
   {
    "duration": 192,
    "start_time": "2022-04-17T12:33:27.991Z"
   },
   {
    "duration": 13,
    "start_time": "2022-04-17T12:37:31.367Z"
   },
   {
    "duration": 10,
    "start_time": "2022-04-17T12:38:28.543Z"
   },
   {
    "duration": 3,
    "start_time": "2022-04-17T12:38:41.090Z"
   },
   {
    "duration": 77,
    "start_time": "2022-04-17T12:38:41.096Z"
   },
   {
    "duration": 4,
    "start_time": "2022-04-17T12:38:41.175Z"
   },
   {
    "duration": 35,
    "start_time": "2022-04-17T12:38:41.181Z"
   },
   {
    "duration": 4,
    "start_time": "2022-04-17T12:38:41.218Z"
   },
   {
    "duration": 11,
    "start_time": "2022-04-17T12:38:41.224Z"
   },
   {
    "duration": 31,
    "start_time": "2022-04-17T12:38:41.237Z"
   },
   {
    "duration": 41,
    "start_time": "2022-04-17T12:38:41.269Z"
   },
   {
    "duration": 22,
    "start_time": "2022-04-17T12:38:41.311Z"
   },
   {
    "duration": 22,
    "start_time": "2022-04-17T12:38:41.335Z"
   },
   {
    "duration": 52,
    "start_time": "2022-04-17T12:38:41.360Z"
   },
   {
    "duration": 6,
    "start_time": "2022-04-17T12:38:41.414Z"
   },
   {
    "duration": 14,
    "start_time": "2022-04-17T12:38:41.422Z"
   },
   {
    "duration": 12,
    "start_time": "2022-04-17T12:38:41.439Z"
   },
   {
    "duration": 11,
    "start_time": "2022-04-17T12:38:41.453Z"
   },
   {
    "duration": 508,
    "start_time": "2022-04-17T12:38:41.466Z"
   },
   {
    "duration": 281,
    "start_time": "2022-04-17T12:38:41.976Z"
   },
   {
    "duration": 366,
    "start_time": "2022-04-17T12:38:42.260Z"
   },
   {
    "duration": 206,
    "start_time": "2022-04-17T12:38:42.627Z"
   },
   {
    "duration": 289,
    "start_time": "2022-04-17T12:38:42.835Z"
   },
   {
    "duration": 200,
    "start_time": "2022-04-17T12:38:43.126Z"
   },
   {
    "duration": 4,
    "start_time": "2022-04-17T12:38:43.327Z"
   },
   {
    "duration": 179,
    "start_time": "2022-04-17T12:38:43.333Z"
   },
   {
    "duration": 4,
    "start_time": "2022-04-17T12:38:43.514Z"
   },
   {
    "duration": 194,
    "start_time": "2022-04-17T12:38:43.519Z"
   },
   {
    "duration": 213,
    "start_time": "2022-04-17T12:38:43.714Z"
   },
   {
    "duration": 75,
    "start_time": "2022-04-17T12:38:43.929Z"
   },
   {
    "duration": 9,
    "start_time": "2022-04-17T12:38:44.006Z"
   },
   {
    "duration": 224,
    "start_time": "2022-04-17T12:38:44.018Z"
   },
   {
    "duration": 59,
    "start_time": "2022-04-17T12:38:44.244Z"
   },
   {
    "duration": 8,
    "start_time": "2022-04-17T12:38:44.305Z"
   },
   {
    "duration": 24,
    "start_time": "2022-04-17T12:38:44.314Z"
   },
   {
    "duration": 67,
    "start_time": "2022-04-17T12:38:44.339Z"
   },
   {
    "duration": 7,
    "start_time": "2022-04-17T12:38:44.408Z"
   },
   {
    "duration": 7,
    "start_time": "2022-04-17T12:38:44.417Z"
   },
   {
    "duration": 7,
    "start_time": "2022-04-17T12:38:44.425Z"
   },
   {
    "duration": 75,
    "start_time": "2022-04-17T12:38:44.433Z"
   },
   {
    "duration": 6,
    "start_time": "2022-04-17T12:38:44.510Z"
   },
   {
    "duration": 8,
    "start_time": "2022-04-17T12:38:44.518Z"
   },
   {
    "duration": 6,
    "start_time": "2022-04-17T12:38:44.528Z"
   },
   {
    "duration": 964,
    "start_time": "2022-04-17T12:38:44.536Z"
   },
   {
    "duration": 325,
    "start_time": "2022-04-17T12:38:45.502Z"
   },
   {
    "duration": 375,
    "start_time": "2022-04-17T12:38:45.828Z"
   },
   {
    "duration": 398,
    "start_time": "2022-04-17T12:38:46.205Z"
   },
   {
    "duration": 184,
    "start_time": "2022-04-17T12:38:46.605Z"
   },
   {
    "duration": 13,
    "start_time": "2022-04-17T12:39:28.158Z"
   },
   {
    "duration": 21,
    "start_time": "2022-04-17T12:39:38.213Z"
   },
   {
    "duration": 13,
    "start_time": "2022-04-17T12:39:43.965Z"
   },
   {
    "duration": 9,
    "start_time": "2022-04-17T12:39:56.054Z"
   },
   {
    "duration": 19,
    "start_time": "2022-04-17T12:40:03.919Z"
   },
   {
    "duration": 4,
    "start_time": "2022-04-17T12:40:16.243Z"
   },
   {
    "duration": 70,
    "start_time": "2022-04-17T12:40:16.249Z"
   },
   {
    "duration": 6,
    "start_time": "2022-04-17T12:40:16.322Z"
   },
   {
    "duration": 43,
    "start_time": "2022-04-17T12:40:16.329Z"
   },
   {
    "duration": 4,
    "start_time": "2022-04-17T12:40:16.375Z"
   },
   {
    "duration": 24,
    "start_time": "2022-04-17T12:40:16.380Z"
   },
   {
    "duration": 44,
    "start_time": "2022-04-17T12:40:16.406Z"
   },
   {
    "duration": 19,
    "start_time": "2022-04-17T12:40:16.451Z"
   },
   {
    "duration": 57,
    "start_time": "2022-04-17T12:40:16.472Z"
   },
   {
    "duration": 13,
    "start_time": "2022-04-17T12:40:16.531Z"
   },
   {
    "duration": 15,
    "start_time": "2022-04-17T12:40:19.053Z"
   },
   {
    "duration": 17,
    "start_time": "2022-04-17T12:40:25.971Z"
   },
   {
    "duration": 15,
    "start_time": "2022-04-17T12:40:31.621Z"
   },
   {
    "duration": 18,
    "start_time": "2022-04-17T12:40:42.034Z"
   },
   {
    "duration": 18,
    "start_time": "2022-04-17T12:40:55.788Z"
   },
   {
    "duration": 18,
    "start_time": "2022-04-17T12:41:43.245Z"
   },
   {
    "duration": 11,
    "start_time": "2022-04-17T12:41:50.157Z"
   },
   {
    "duration": 15,
    "start_time": "2022-04-17T12:42:26.133Z"
   },
   {
    "duration": 12,
    "start_time": "2022-04-17T12:42:57.245Z"
   },
   {
    "duration": 11,
    "start_time": "2022-04-17T12:43:00.140Z"
   },
   {
    "duration": 11,
    "start_time": "2022-04-17T12:43:13.069Z"
   },
   {
    "duration": 2647,
    "start_time": "2022-04-17T12:43:27.946Z"
   },
   {
    "duration": 2555,
    "start_time": "2022-04-17T12:44:02.684Z"
   },
   {
    "duration": 9,
    "start_time": "2022-04-17T12:44:08.428Z"
   },
   {
    "duration": 3,
    "start_time": "2022-04-17T12:44:16.520Z"
   },
   {
    "duration": 66,
    "start_time": "2022-04-17T12:44:16.526Z"
   },
   {
    "duration": 4,
    "start_time": "2022-04-17T12:44:16.594Z"
   },
   {
    "duration": 31,
    "start_time": "2022-04-17T12:44:16.599Z"
   },
   {
    "duration": 4,
    "start_time": "2022-04-17T12:44:16.632Z"
   },
   {
    "duration": 9,
    "start_time": "2022-04-17T12:44:16.637Z"
   },
   {
    "duration": 58,
    "start_time": "2022-04-17T12:44:16.648Z"
   },
   {
    "duration": 13,
    "start_time": "2022-04-17T12:44:16.708Z"
   },
   {
    "duration": 24,
    "start_time": "2022-04-17T12:44:16.723Z"
   },
   {
    "duration": 10,
    "start_time": "2022-04-17T12:44:16.749Z"
   },
   {
    "duration": 2602,
    "start_time": "2022-04-17T12:44:18.786Z"
   },
   {
    "duration": 0,
    "start_time": "2022-04-17T12:44:21.389Z"
   },
   {
    "duration": 18,
    "start_time": "2022-04-17T12:44:28.213Z"
   },
   {
    "duration": 11,
    "start_time": "2022-04-17T12:44:38.268Z"
   },
   {
    "duration": 10,
    "start_time": "2022-04-17T12:44:51.715Z"
   },
   {
    "duration": 3,
    "start_time": "2022-04-17T12:44:54.683Z"
   },
   {
    "duration": 6,
    "start_time": "2022-04-17T12:44:57.210Z"
   },
   {
    "duration": 12,
    "start_time": "2022-04-17T12:44:58.131Z"
   },
   {
    "duration": 3,
    "start_time": "2022-04-17T12:45:12.082Z"
   },
   {
    "duration": 66,
    "start_time": "2022-04-17T12:45:12.087Z"
   },
   {
    "duration": 4,
    "start_time": "2022-04-17T12:45:12.155Z"
   },
   {
    "duration": 40,
    "start_time": "2022-04-17T12:45:12.160Z"
   },
   {
    "duration": 4,
    "start_time": "2022-04-17T12:45:12.202Z"
   },
   {
    "duration": 13,
    "start_time": "2022-04-17T12:45:12.208Z"
   },
   {
    "duration": 36,
    "start_time": "2022-04-17T12:45:12.223Z"
   },
   {
    "duration": 15,
    "start_time": "2022-04-17T12:45:12.261Z"
   },
   {
    "duration": 50,
    "start_time": "2022-04-17T12:45:12.278Z"
   },
   {
    "duration": 12,
    "start_time": "2022-04-17T12:45:12.330Z"
   },
   {
    "duration": 14,
    "start_time": "2022-04-17T12:45:12.345Z"
   },
   {
    "duration": 3,
    "start_time": "2022-04-17T12:45:12.361Z"
   },
   {
    "duration": 37,
    "start_time": "2022-04-17T12:45:12.366Z"
   },
   {
    "duration": 18,
    "start_time": "2022-04-17T12:45:12.406Z"
   },
   {
    "duration": 5,
    "start_time": "2022-04-17T12:45:44.946Z"
   },
   {
    "duration": 7,
    "start_time": "2022-04-17T12:45:45.514Z"
   },
   {
    "duration": 3,
    "start_time": "2022-04-17T12:45:49.749Z"
   },
   {
    "duration": 66,
    "start_time": "2022-04-17T12:45:49.753Z"
   },
   {
    "duration": 4,
    "start_time": "2022-04-17T12:45:49.820Z"
   },
   {
    "duration": 35,
    "start_time": "2022-04-17T12:45:49.826Z"
   },
   {
    "duration": 3,
    "start_time": "2022-04-17T12:45:49.862Z"
   },
   {
    "duration": 10,
    "start_time": "2022-04-17T12:45:49.867Z"
   },
   {
    "duration": 33,
    "start_time": "2022-04-17T12:45:49.879Z"
   },
   {
    "duration": 11,
    "start_time": "2022-04-17T12:45:49.913Z"
   },
   {
    "duration": 27,
    "start_time": "2022-04-17T12:45:49.925Z"
   },
   {
    "duration": 10,
    "start_time": "2022-04-17T12:45:49.953Z"
   },
   {
    "duration": 36,
    "start_time": "2022-04-17T12:45:49.965Z"
   },
   {
    "duration": 2,
    "start_time": "2022-04-17T12:45:50.003Z"
   },
   {
    "duration": 5,
    "start_time": "2022-04-17T12:45:51.499Z"
   },
   {
    "duration": 19,
    "start_time": "2022-04-17T12:45:52.155Z"
   },
   {
    "duration": 18,
    "start_time": "2022-04-17T12:46:17.419Z"
   },
   {
    "duration": 7,
    "start_time": "2022-04-17T12:47:02.979Z"
   },
   {
    "duration": 9,
    "start_time": "2022-04-17T12:47:03.508Z"
   },
   {
    "duration": 4,
    "start_time": "2022-04-17T12:47:05.847Z"
   },
   {
    "duration": 63,
    "start_time": "2022-04-17T12:47:05.853Z"
   },
   {
    "duration": 4,
    "start_time": "2022-04-17T12:47:05.918Z"
   },
   {
    "duration": 57,
    "start_time": "2022-04-17T12:47:05.924Z"
   },
   {
    "duration": 6,
    "start_time": "2022-04-17T12:47:05.983Z"
   },
   {
    "duration": 14,
    "start_time": "2022-04-17T12:47:05.999Z"
   },
   {
    "duration": 63,
    "start_time": "2022-04-17T12:47:06.015Z"
   },
   {
    "duration": 33,
    "start_time": "2022-04-17T12:47:06.081Z"
   },
   {
    "duration": 33,
    "start_time": "2022-04-17T12:47:06.116Z"
   },
   {
    "duration": 10,
    "start_time": "2022-04-17T12:47:06.151Z"
   },
   {
    "duration": 37,
    "start_time": "2022-04-17T12:47:06.163Z"
   },
   {
    "duration": 3,
    "start_time": "2022-04-17T12:47:06.202Z"
   },
   {
    "duration": 11,
    "start_time": "2022-04-17T12:47:06.206Z"
   },
   {
    "duration": 14,
    "start_time": "2022-04-17T12:47:06.218Z"
   },
   {
    "duration": 3,
    "start_time": "2022-04-17T12:47:20.415Z"
   },
   {
    "duration": 65,
    "start_time": "2022-04-17T12:47:20.420Z"
   },
   {
    "duration": 4,
    "start_time": "2022-04-17T12:47:20.487Z"
   },
   {
    "duration": 42,
    "start_time": "2022-04-17T12:47:20.493Z"
   },
   {
    "duration": 5,
    "start_time": "2022-04-17T12:47:20.537Z"
   },
   {
    "duration": 35,
    "start_time": "2022-04-17T12:47:20.543Z"
   },
   {
    "duration": 38,
    "start_time": "2022-04-17T12:47:20.580Z"
   },
   {
    "duration": 12,
    "start_time": "2022-04-17T12:47:20.619Z"
   },
   {
    "duration": 68,
    "start_time": "2022-04-17T12:47:20.633Z"
   },
   {
    "duration": 16,
    "start_time": "2022-04-17T12:47:20.703Z"
   },
   {
    "duration": 26,
    "start_time": "2022-04-17T12:47:20.724Z"
   },
   {
    "duration": 7,
    "start_time": "2022-04-17T12:47:20.752Z"
   },
   {
    "duration": 9,
    "start_time": "2022-04-17T12:47:20.761Z"
   },
   {
    "duration": 14,
    "start_time": "2022-04-17T12:47:20.772Z"
   },
   {
    "duration": 14,
    "start_time": "2022-04-17T12:47:20.801Z"
   },
   {
    "duration": 431,
    "start_time": "2022-04-17T12:47:20.818Z"
   },
   {
    "duration": 193,
    "start_time": "2022-04-17T12:47:21.251Z"
   },
   {
    "duration": 344,
    "start_time": "2022-04-17T12:47:21.446Z"
   },
   {
    "duration": 201,
    "start_time": "2022-04-17T12:47:21.792Z"
   },
   {
    "duration": 307,
    "start_time": "2022-04-17T12:47:21.995Z"
   },
   {
    "duration": 150,
    "start_time": "2022-04-17T12:47:22.304Z"
   },
   {
    "duration": 5,
    "start_time": "2022-04-17T12:47:22.456Z"
   },
   {
    "duration": 145,
    "start_time": "2022-04-17T12:47:22.462Z"
   },
   {
    "duration": 5,
    "start_time": "2022-04-17T12:47:22.608Z"
   },
   {
    "duration": 98,
    "start_time": "2022-04-17T12:47:22.614Z"
   },
   {
    "duration": 147,
    "start_time": "2022-04-17T12:47:22.714Z"
   },
   {
    "duration": 37,
    "start_time": "2022-04-17T12:47:22.863Z"
   },
   {
    "duration": 12,
    "start_time": "2022-04-17T12:47:22.902Z"
   },
   {
    "duration": 222,
    "start_time": "2022-04-17T12:47:22.919Z"
   },
   {
    "duration": 6,
    "start_time": "2022-04-17T12:47:23.144Z"
   },
   {
    "duration": 11,
    "start_time": "2022-04-17T12:47:23.152Z"
   },
   {
    "duration": 49,
    "start_time": "2022-04-17T12:47:23.165Z"
   },
   {
    "duration": 15,
    "start_time": "2022-04-17T12:47:23.217Z"
   },
   {
    "duration": 16,
    "start_time": "2022-04-17T12:47:23.234Z"
   },
   {
    "duration": 10,
    "start_time": "2022-04-17T12:47:23.252Z"
   },
   {
    "duration": 7,
    "start_time": "2022-04-17T12:47:23.264Z"
   },
   {
    "duration": 57,
    "start_time": "2022-04-17T12:47:23.272Z"
   },
   {
    "duration": 9,
    "start_time": "2022-04-17T12:47:23.331Z"
   },
   {
    "duration": 12,
    "start_time": "2022-04-17T12:47:23.342Z"
   },
   {
    "duration": 8,
    "start_time": "2022-04-17T12:47:23.356Z"
   },
   {
    "duration": 807,
    "start_time": "2022-04-17T12:47:23.365Z"
   },
   {
    "duration": 264,
    "start_time": "2022-04-17T12:47:24.175Z"
   },
   {
    "duration": 261,
    "start_time": "2022-04-17T12:47:24.440Z"
   },
   {
    "duration": 409,
    "start_time": "2022-04-17T12:47:24.703Z"
   },
   {
    "duration": 188,
    "start_time": "2022-04-17T12:47:25.114Z"
   },
   {
    "duration": 11,
    "start_time": "2022-04-17T12:49:43.297Z"
   },
   {
    "duration": 3,
    "start_time": "2022-04-17T13:00:15.415Z"
   },
   {
    "duration": 67,
    "start_time": "2022-04-17T13:00:15.420Z"
   },
   {
    "duration": 5,
    "start_time": "2022-04-17T13:00:15.489Z"
   },
   {
    "duration": 42,
    "start_time": "2022-04-17T13:00:15.495Z"
   },
   {
    "duration": 3,
    "start_time": "2022-04-17T13:00:15.539Z"
   },
   {
    "duration": 14,
    "start_time": "2022-04-17T13:00:15.544Z"
   },
   {
    "duration": 60,
    "start_time": "2022-04-17T13:00:15.559Z"
   },
   {
    "duration": 13,
    "start_time": "2022-04-17T13:00:15.621Z"
   },
   {
    "duration": 155,
    "start_time": "2022-04-17T13:00:15.635Z"
   },
   {
    "duration": 17,
    "start_time": "2022-04-17T13:00:15.792Z"
   },
   {
    "duration": 21,
    "start_time": "2022-04-17T13:00:15.811Z"
   },
   {
    "duration": 8,
    "start_time": "2022-04-17T13:00:15.834Z"
   },
   {
    "duration": 17,
    "start_time": "2022-04-17T13:00:15.844Z"
   },
   {
    "duration": 18,
    "start_time": "2022-04-17T13:00:15.862Z"
   },
   {
    "duration": 22,
    "start_time": "2022-04-17T13:00:15.882Z"
   },
   {
    "duration": 467,
    "start_time": "2022-04-17T13:00:15.905Z"
   },
   {
    "duration": 213,
    "start_time": "2022-04-17T13:00:16.373Z"
   },
   {
    "duration": 332,
    "start_time": "2022-04-17T13:00:16.588Z"
   },
   {
    "duration": 317,
    "start_time": "2022-04-17T13:00:16.922Z"
   },
   {
    "duration": 366,
    "start_time": "2022-04-17T13:00:17.241Z"
   },
   {
    "duration": 233,
    "start_time": "2022-04-17T13:00:17.609Z"
   },
   {
    "duration": 9,
    "start_time": "2022-04-17T13:00:17.844Z"
   },
   {
    "duration": 173,
    "start_time": "2022-04-17T13:00:17.854Z"
   },
   {
    "duration": 5,
    "start_time": "2022-04-17T13:00:18.029Z"
   },
   {
    "duration": 103,
    "start_time": "2022-04-17T13:00:18.037Z"
   },
   {
    "duration": 122,
    "start_time": "2022-04-17T13:00:18.142Z"
   },
   {
    "duration": 20,
    "start_time": "2022-04-17T13:00:18.266Z"
   },
   {
    "duration": 20,
    "start_time": "2022-04-17T13:00:18.287Z"
   },
   {
    "duration": 129,
    "start_time": "2022-04-17T13:00:18.311Z"
   },
   {
    "duration": 6,
    "start_time": "2022-04-17T13:00:18.441Z"
   },
   {
    "duration": 10,
    "start_time": "2022-04-17T13:00:18.449Z"
   },
   {
    "duration": 40,
    "start_time": "2022-04-17T13:00:18.461Z"
   },
   {
    "duration": 13,
    "start_time": "2022-04-17T13:00:18.503Z"
   },
   {
    "duration": 11,
    "start_time": "2022-04-17T13:00:18.518Z"
   },
   {
    "duration": 10,
    "start_time": "2022-04-17T13:00:18.530Z"
   },
   {
    "duration": 6,
    "start_time": "2022-04-17T13:00:18.541Z"
   },
   {
    "duration": 36,
    "start_time": "2022-04-17T13:00:18.548Z"
   },
   {
    "duration": 18,
    "start_time": "2022-04-17T13:00:18.585Z"
   },
   {
    "duration": 8,
    "start_time": "2022-04-17T13:00:18.605Z"
   },
   {
    "duration": 10,
    "start_time": "2022-04-17T13:00:18.614Z"
   },
   {
    "duration": 576,
    "start_time": "2022-04-17T13:00:18.626Z"
   },
   {
    "duration": 246,
    "start_time": "2022-04-17T13:00:19.203Z"
   },
   {
    "duration": 378,
    "start_time": "2022-04-17T13:00:19.451Z"
   },
   {
    "duration": 308,
    "start_time": "2022-04-17T13:00:19.831Z"
   },
   {
    "duration": 249,
    "start_time": "2022-04-17T13:00:20.140Z"
   },
   {
    "duration": 3,
    "start_time": "2022-04-17T13:00:48.411Z"
   },
   {
    "duration": 4,
    "start_time": "2022-04-17T13:01:17.403Z"
   },
   {
    "duration": 3,
    "start_time": "2022-04-17T13:04:14.895Z"
   },
   {
    "duration": 67,
    "start_time": "2022-04-17T13:04:14.901Z"
   },
   {
    "duration": 4,
    "start_time": "2022-04-17T13:04:14.970Z"
   },
   {
    "duration": 37,
    "start_time": "2022-04-17T13:04:14.976Z"
   },
   {
    "duration": 4,
    "start_time": "2022-04-17T13:04:15.015Z"
   },
   {
    "duration": 18,
    "start_time": "2022-04-17T13:04:15.021Z"
   },
   {
    "duration": 39,
    "start_time": "2022-04-17T13:04:15.041Z"
   },
   {
    "duration": 13,
    "start_time": "2022-04-17T13:04:15.101Z"
   },
   {
    "duration": 37,
    "start_time": "2022-04-17T13:04:15.116Z"
   },
   {
    "duration": 15,
    "start_time": "2022-04-17T13:04:15.155Z"
   },
   {
    "duration": 20,
    "start_time": "2022-04-17T13:04:15.203Z"
   },
   {
    "duration": 3,
    "start_time": "2022-04-17T13:04:15.226Z"
   },
   {
    "duration": 7,
    "start_time": "2022-04-17T13:04:15.230Z"
   },
   {
    "duration": 13,
    "start_time": "2022-04-17T13:04:15.238Z"
   },
   {
    "duration": 13,
    "start_time": "2022-04-17T13:04:15.252Z"
   },
   {
    "duration": 482,
    "start_time": "2022-04-17T13:04:15.266Z"
   },
   {
    "duration": 210,
    "start_time": "2022-04-17T13:04:15.750Z"
   },
   {
    "duration": 326,
    "start_time": "2022-04-17T13:04:15.962Z"
   },
   {
    "duration": 205,
    "start_time": "2022-04-17T13:04:16.290Z"
   },
   {
    "duration": 314,
    "start_time": "2022-04-17T13:04:16.499Z"
   },
   {
    "duration": 251,
    "start_time": "2022-04-17T13:04:16.816Z"
   },
   {
    "duration": 6,
    "start_time": "2022-04-17T13:04:17.069Z"
   },
   {
    "duration": 4,
    "start_time": "2022-04-17T13:04:17.077Z"
   },
   {
    "duration": 241,
    "start_time": "2022-04-17T13:04:17.083Z"
   },
   {
    "duration": 6,
    "start_time": "2022-04-17T13:04:17.326Z"
   },
   {
    "duration": 5,
    "start_time": "2022-04-17T13:04:17.334Z"
   },
   {
    "duration": 182,
    "start_time": "2022-04-17T13:04:17.341Z"
   },
   {
    "duration": 110,
    "start_time": "2022-04-17T13:04:17.525Z"
   },
   {
    "duration": 22,
    "start_time": "2022-04-17T13:04:17.638Z"
   },
   {
    "duration": 9,
    "start_time": "2022-04-17T13:04:17.662Z"
   },
   {
    "duration": 129,
    "start_time": "2022-04-17T13:04:17.673Z"
   },
   {
    "duration": 5,
    "start_time": "2022-04-17T13:04:17.803Z"
   },
   {
    "duration": 9,
    "start_time": "2022-04-17T13:04:17.809Z"
   },
   {
    "duration": 22,
    "start_time": "2022-04-17T13:04:17.820Z"
   },
   {
    "duration": 13,
    "start_time": "2022-04-17T13:04:17.844Z"
   },
   {
    "duration": 7,
    "start_time": "2022-04-17T13:04:17.859Z"
   },
   {
    "duration": 37,
    "start_time": "2022-04-17T13:04:17.868Z"
   },
   {
    "duration": 7,
    "start_time": "2022-04-17T13:04:17.906Z"
   },
   {
    "duration": 27,
    "start_time": "2022-04-17T13:04:17.915Z"
   },
   {
    "duration": 6,
    "start_time": "2022-04-17T13:04:17.944Z"
   },
   {
    "duration": 37,
    "start_time": "2022-04-17T13:04:17.952Z"
   },
   {
    "duration": 76,
    "start_time": "2022-04-17T13:04:17.997Z"
   },
   {
    "duration": 0,
    "start_time": "2022-04-17T13:04:18.075Z"
   },
   {
    "duration": 0,
    "start_time": "2022-04-17T13:04:18.076Z"
   },
   {
    "duration": 0,
    "start_time": "2022-04-17T13:04:18.077Z"
   },
   {
    "duration": 0,
    "start_time": "2022-04-17T13:04:18.078Z"
   },
   {
    "duration": 0,
    "start_time": "2022-04-17T13:04:18.080Z"
   },
   {
    "duration": 7,
    "start_time": "2022-04-17T13:05:07.760Z"
   },
   {
    "duration": 31,
    "start_time": "2022-04-17T13:05:21.147Z"
   },
   {
    "duration": 7,
    "start_time": "2022-04-17T13:05:26.730Z"
   },
   {
    "duration": 7,
    "start_time": "2022-04-17T13:06:15.568Z"
   },
   {
    "duration": 3,
    "start_time": "2022-04-17T13:06:20.288Z"
   },
   {
    "duration": 68,
    "start_time": "2022-04-17T13:06:20.293Z"
   },
   {
    "duration": 6,
    "start_time": "2022-04-17T13:06:20.363Z"
   },
   {
    "duration": 36,
    "start_time": "2022-04-17T13:06:20.370Z"
   },
   {
    "duration": 4,
    "start_time": "2022-04-17T13:06:20.409Z"
   },
   {
    "duration": 9,
    "start_time": "2022-04-17T13:06:20.415Z"
   },
   {
    "duration": 34,
    "start_time": "2022-04-17T13:06:20.426Z"
   },
   {
    "duration": 51,
    "start_time": "2022-04-17T13:06:20.461Z"
   },
   {
    "duration": 27,
    "start_time": "2022-04-17T13:06:20.514Z"
   },
   {
    "duration": 11,
    "start_time": "2022-04-17T13:06:20.543Z"
   },
   {
    "duration": 12,
    "start_time": "2022-04-17T13:06:20.599Z"
   },
   {
    "duration": 3,
    "start_time": "2022-04-17T13:06:20.613Z"
   },
   {
    "duration": 12,
    "start_time": "2022-04-17T13:06:20.618Z"
   },
   {
    "duration": 12,
    "start_time": "2022-04-17T13:06:20.632Z"
   },
   {
    "duration": 12,
    "start_time": "2022-04-17T13:06:20.646Z"
   },
   {
    "duration": 470,
    "start_time": "2022-04-17T13:06:20.659Z"
   },
   {
    "duration": 195,
    "start_time": "2022-04-17T13:06:21.130Z"
   },
   {
    "duration": 285,
    "start_time": "2022-04-17T13:06:21.327Z"
   },
   {
    "duration": 193,
    "start_time": "2022-04-17T13:06:21.614Z"
   },
   {
    "duration": 324,
    "start_time": "2022-04-17T13:06:21.809Z"
   },
   {
    "duration": 229,
    "start_time": "2022-04-17T13:06:22.135Z"
   },
   {
    "duration": 5,
    "start_time": "2022-04-17T13:06:22.367Z"
   },
   {
    "duration": 9,
    "start_time": "2022-04-17T13:06:22.373Z"
   },
   {
    "duration": 161,
    "start_time": "2022-04-17T13:06:22.384Z"
   },
   {
    "duration": 5,
    "start_time": "2022-04-17T13:06:22.546Z"
   },
   {
    "duration": 6,
    "start_time": "2022-04-17T13:06:22.552Z"
   },
   {
    "duration": 96,
    "start_time": "2022-04-17T13:06:22.559Z"
   },
   {
    "duration": 116,
    "start_time": "2022-04-17T13:06:22.657Z"
   },
   {
    "duration": 30,
    "start_time": "2022-04-17T13:06:22.776Z"
   },
   {
    "duration": 10,
    "start_time": "2022-04-17T13:06:22.808Z"
   },
   {
    "duration": 130,
    "start_time": "2022-04-17T13:06:22.819Z"
   },
   {
    "duration": 8,
    "start_time": "2022-04-17T13:06:22.951Z"
   },
   {
    "duration": 8,
    "start_time": "2022-04-17T13:06:22.964Z"
   },
   {
    "duration": 40,
    "start_time": "2022-04-17T13:06:22.974Z"
   },
   {
    "duration": 11,
    "start_time": "2022-04-17T13:06:23.016Z"
   },
   {
    "duration": 10,
    "start_time": "2022-04-17T13:06:23.028Z"
   },
   {
    "duration": 7,
    "start_time": "2022-04-17T13:06:23.041Z"
   },
   {
    "duration": 6,
    "start_time": "2022-04-17T13:06:23.049Z"
   },
   {
    "duration": 29,
    "start_time": "2022-04-17T13:06:23.056Z"
   },
   {
    "duration": 7,
    "start_time": "2022-04-17T13:06:23.101Z"
   },
   {
    "duration": 10,
    "start_time": "2022-04-17T13:06:23.110Z"
   },
   {
    "duration": 14,
    "start_time": "2022-04-17T13:06:23.122Z"
   },
   {
    "duration": 707,
    "start_time": "2022-04-17T13:06:23.138Z"
   },
   {
    "duration": 300,
    "start_time": "2022-04-17T13:06:23.846Z"
   },
   {
    "duration": 287,
    "start_time": "2022-04-17T13:06:24.148Z"
   },
   {
    "duration": 314,
    "start_time": "2022-04-17T13:06:24.437Z"
   },
   {
    "duration": 190,
    "start_time": "2022-04-17T13:06:24.753Z"
   },
   {
    "duration": 12,
    "start_time": "2022-04-17T13:11:32.438Z"
   },
   {
    "duration": 3,
    "start_time": "2022-04-17T13:11:47.796Z"
   },
   {
    "duration": 79,
    "start_time": "2022-04-17T13:11:47.801Z"
   },
   {
    "duration": 4,
    "start_time": "2022-04-17T13:11:47.882Z"
   },
   {
    "duration": 31,
    "start_time": "2022-04-17T13:11:47.888Z"
   },
   {
    "duration": 3,
    "start_time": "2022-04-17T13:11:47.921Z"
   },
   {
    "duration": 12,
    "start_time": "2022-04-17T13:11:47.925Z"
   },
   {
    "duration": 61,
    "start_time": "2022-04-17T13:11:47.939Z"
   },
   {
    "duration": 20,
    "start_time": "2022-04-17T13:11:48.002Z"
   },
   {
    "duration": 31,
    "start_time": "2022-04-17T13:11:48.024Z"
   },
   {
    "duration": 47,
    "start_time": "2022-04-17T13:11:48.057Z"
   },
   {
    "duration": 13,
    "start_time": "2022-04-17T13:11:48.107Z"
   },
   {
    "duration": 3,
    "start_time": "2022-04-17T13:11:48.122Z"
   },
   {
    "duration": 7,
    "start_time": "2022-04-17T13:11:48.127Z"
   },
   {
    "duration": 11,
    "start_time": "2022-04-17T13:11:48.136Z"
   },
   {
    "duration": 11,
    "start_time": "2022-04-17T13:11:48.149Z"
   },
   {
    "duration": 439,
    "start_time": "2022-04-17T13:11:48.162Z"
   },
   {
    "duration": 187,
    "start_time": "2022-04-17T13:11:48.603Z"
   },
   {
    "duration": 280,
    "start_time": "2022-04-17T13:11:48.792Z"
   },
   {
    "duration": 197,
    "start_time": "2022-04-17T13:11:49.073Z"
   },
   {
    "duration": 353,
    "start_time": "2022-04-17T13:11:49.271Z"
   },
   {
    "duration": 147,
    "start_time": "2022-04-17T13:11:49.625Z"
   },
   {
    "duration": 5,
    "start_time": "2022-04-17T13:11:49.773Z"
   },
   {
    "duration": 5,
    "start_time": "2022-04-17T13:11:49.779Z"
   },
   {
    "duration": 142,
    "start_time": "2022-04-17T13:11:49.785Z"
   },
   {
    "duration": 5,
    "start_time": "2022-04-17T13:11:49.928Z"
   },
   {
    "duration": 4,
    "start_time": "2022-04-17T13:11:49.935Z"
   },
   {
    "duration": 180,
    "start_time": "2022-04-17T13:11:49.941Z"
   },
   {
    "duration": 106,
    "start_time": "2022-04-17T13:11:50.123Z"
   },
   {
    "duration": 20,
    "start_time": "2022-04-17T13:11:50.234Z"
   },
   {
    "duration": 10,
    "start_time": "2022-04-17T13:11:50.256Z"
   },
   {
    "duration": 149,
    "start_time": "2022-04-17T13:11:50.268Z"
   },
   {
    "duration": 6,
    "start_time": "2022-04-17T13:11:50.418Z"
   },
   {
    "duration": 9,
    "start_time": "2022-04-17T13:11:50.426Z"
   },
   {
    "duration": 26,
    "start_time": "2022-04-17T13:11:50.437Z"
   },
   {
    "duration": 11,
    "start_time": "2022-04-17T13:11:50.465Z"
   },
   {
    "duration": 25,
    "start_time": "2022-04-17T13:11:50.477Z"
   },
   {
    "duration": 13,
    "start_time": "2022-04-17T13:11:50.504Z"
   },
   {
    "duration": 7,
    "start_time": "2022-04-17T13:11:50.518Z"
   },
   {
    "duration": 28,
    "start_time": "2022-04-17T13:11:50.527Z"
   },
   {
    "duration": 8,
    "start_time": "2022-04-17T13:11:50.556Z"
   },
   {
    "duration": 13,
    "start_time": "2022-04-17T13:11:50.565Z"
   },
   {
    "duration": 5,
    "start_time": "2022-04-17T13:11:53.501Z"
   },
   {
    "duration": 12,
    "start_time": "2022-04-17T13:11:54.277Z"
   },
   {
    "duration": 3,
    "start_time": "2022-04-17T13:12:05.291Z"
   },
   {
    "duration": 63,
    "start_time": "2022-04-17T13:12:05.297Z"
   },
   {
    "duration": 4,
    "start_time": "2022-04-17T13:12:05.362Z"
   },
   {
    "duration": 36,
    "start_time": "2022-04-17T13:12:05.368Z"
   },
   {
    "duration": 4,
    "start_time": "2022-04-17T13:12:05.407Z"
   },
   {
    "duration": 10,
    "start_time": "2022-04-17T13:12:05.413Z"
   },
   {
    "duration": 35,
    "start_time": "2022-04-17T13:12:05.425Z"
   },
   {
    "duration": 53,
    "start_time": "2022-04-17T13:12:05.462Z"
   },
   {
    "duration": 35,
    "start_time": "2022-04-17T13:12:05.516Z"
   },
   {
    "duration": 48,
    "start_time": "2022-04-17T13:12:05.553Z"
   },
   {
    "duration": 14,
    "start_time": "2022-04-17T13:12:05.604Z"
   },
   {
    "duration": 3,
    "start_time": "2022-04-17T13:12:05.620Z"
   },
   {
    "duration": 7,
    "start_time": "2022-04-17T13:12:05.625Z"
   },
   {
    "duration": 16,
    "start_time": "2022-04-17T13:12:05.633Z"
   },
   {
    "duration": 15,
    "start_time": "2022-04-17T13:12:05.651Z"
   },
   {
    "duration": 440,
    "start_time": "2022-04-17T13:12:05.668Z"
   },
   {
    "duration": 186,
    "start_time": "2022-04-17T13:12:06.110Z"
   },
   {
    "duration": 273,
    "start_time": "2022-04-17T13:12:06.300Z"
   },
   {
    "duration": 200,
    "start_time": "2022-04-17T13:12:06.575Z"
   },
   {
    "duration": 323,
    "start_time": "2022-04-17T13:12:06.777Z"
   },
   {
    "duration": 150,
    "start_time": "2022-04-17T13:12:07.102Z"
   },
   {
    "duration": 5,
    "start_time": "2022-04-17T13:12:07.253Z"
   },
   {
    "duration": 5,
    "start_time": "2022-04-17T13:12:07.259Z"
   },
   {
    "duration": 147,
    "start_time": "2022-04-17T13:12:07.266Z"
   },
   {
    "duration": 6,
    "start_time": "2022-04-17T13:12:07.415Z"
   },
   {
    "duration": 5,
    "start_time": "2022-04-17T13:12:07.422Z"
   },
   {
    "duration": 103,
    "start_time": "2022-04-17T13:12:07.428Z"
   },
   {
    "duration": 110,
    "start_time": "2022-04-17T13:12:07.533Z"
   },
   {
    "duration": 19,
    "start_time": "2022-04-17T13:12:07.646Z"
   },
   {
    "duration": 10,
    "start_time": "2022-04-17T13:12:07.667Z"
   },
   {
    "duration": 132,
    "start_time": "2022-04-17T13:12:07.678Z"
   },
   {
    "duration": 4,
    "start_time": "2022-04-17T13:12:07.812Z"
   },
   {
    "duration": 8,
    "start_time": "2022-04-17T13:12:07.818Z"
   },
   {
    "duration": 25,
    "start_time": "2022-04-17T13:12:07.828Z"
   },
   {
    "duration": 12,
    "start_time": "2022-04-17T13:12:07.854Z"
   },
   {
    "duration": 34,
    "start_time": "2022-04-17T13:12:07.867Z"
   },
   {
    "duration": 8,
    "start_time": "2022-04-17T13:12:07.902Z"
   },
   {
    "duration": 7,
    "start_time": "2022-04-17T13:12:07.911Z"
   },
   {
    "duration": 25,
    "start_time": "2022-04-17T13:12:07.919Z"
   },
   {
    "duration": 7,
    "start_time": "2022-04-17T13:12:07.946Z"
   },
   {
    "duration": 9,
    "start_time": "2022-04-17T13:12:07.954Z"
   },
   {
    "duration": 9,
    "start_time": "2022-04-17T13:12:07.965Z"
   },
   {
    "duration": 549,
    "start_time": "2022-04-17T13:12:07.976Z"
   },
   {
    "duration": 192,
    "start_time": "2022-04-17T13:12:08.527Z"
   },
   {
    "duration": 269,
    "start_time": "2022-04-17T13:12:08.721Z"
   },
   {
    "duration": 339,
    "start_time": "2022-04-17T13:12:08.992Z"
   },
   {
    "duration": 182,
    "start_time": "2022-04-17T13:12:09.332Z"
   },
   {
    "duration": 169,
    "start_time": "2022-04-17T13:24:20.881Z"
   },
   {
    "duration": 1022,
    "start_time": "2022-04-17T13:24:38.538Z"
   },
   {
    "duration": 62,
    "start_time": "2022-04-17T13:24:39.562Z"
   },
   {
    "duration": 4,
    "start_time": "2022-04-17T13:24:39.625Z"
   },
   {
    "duration": 34,
    "start_time": "2022-04-17T13:24:39.631Z"
   },
   {
    "duration": 3,
    "start_time": "2022-04-17T13:24:39.666Z"
   },
   {
    "duration": 9,
    "start_time": "2022-04-17T13:24:39.670Z"
   },
   {
    "duration": 30,
    "start_time": "2022-04-17T13:24:39.680Z"
   },
   {
    "duration": 12,
    "start_time": "2022-04-17T13:24:39.712Z"
   },
   {
    "duration": 21,
    "start_time": "2022-04-17T13:24:39.726Z"
   },
   {
    "duration": 9,
    "start_time": "2022-04-17T13:24:39.750Z"
   },
   {
    "duration": 49,
    "start_time": "2022-04-17T13:24:39.761Z"
   },
   {
    "duration": 2,
    "start_time": "2022-04-17T13:24:39.812Z"
   },
   {
    "duration": 7,
    "start_time": "2022-04-17T13:24:39.815Z"
   },
   {
    "duration": 12,
    "start_time": "2022-04-17T13:24:39.824Z"
   },
   {
    "duration": 9,
    "start_time": "2022-04-17T13:24:39.838Z"
   },
   {
    "duration": 516,
    "start_time": "2022-04-17T13:24:39.848Z"
   },
   {
    "duration": 184,
    "start_time": "2022-04-17T13:24:40.365Z"
   },
   {
    "duration": 285,
    "start_time": "2022-04-17T13:24:40.551Z"
   },
   {
    "duration": 195,
    "start_time": "2022-04-17T13:24:40.838Z"
   },
   {
    "duration": 302,
    "start_time": "2022-04-17T13:24:41.035Z"
   },
   {
    "duration": 148,
    "start_time": "2022-04-17T13:24:41.339Z"
   },
   {
    "duration": 14,
    "start_time": "2022-04-17T13:24:41.489Z"
   },
   {
    "duration": 8,
    "start_time": "2022-04-17T13:24:41.504Z"
   },
   {
    "duration": 135,
    "start_time": "2022-04-17T13:24:41.513Z"
   },
   {
    "duration": 4,
    "start_time": "2022-04-17T13:24:41.650Z"
   },
   {
    "duration": 3,
    "start_time": "2022-04-17T13:24:41.656Z"
   },
   {
    "duration": 103,
    "start_time": "2022-04-17T13:24:41.660Z"
   },
   {
    "duration": 104,
    "start_time": "2022-04-17T13:24:41.767Z"
   },
   {
    "duration": 29,
    "start_time": "2022-04-17T13:24:41.873Z"
   },
   {
    "duration": 10,
    "start_time": "2022-04-17T13:24:41.903Z"
   },
   {
    "duration": 136,
    "start_time": "2022-04-17T13:24:41.914Z"
   },
   {
    "duration": 5,
    "start_time": "2022-04-17T13:24:42.052Z"
   },
   {
    "duration": 6,
    "start_time": "2022-04-17T13:24:42.058Z"
   },
   {
    "duration": 36,
    "start_time": "2022-04-17T13:24:42.066Z"
   },
   {
    "duration": 11,
    "start_time": "2022-04-17T13:24:42.103Z"
   },
   {
    "duration": 7,
    "start_time": "2022-04-17T13:24:42.115Z"
   },
   {
    "duration": 22,
    "start_time": "2022-04-17T13:24:42.123Z"
   },
   {
    "duration": 7,
    "start_time": "2022-04-17T13:24:42.147Z"
   },
   {
    "duration": 23,
    "start_time": "2022-04-17T13:24:42.155Z"
   },
   {
    "duration": 7,
    "start_time": "2022-04-17T13:24:42.179Z"
   },
   {
    "duration": 14,
    "start_time": "2022-04-17T13:24:42.187Z"
   },
   {
    "duration": 4,
    "start_time": "2022-04-17T13:24:42.203Z"
   },
   {
    "duration": 621,
    "start_time": "2022-04-17T13:24:42.209Z"
   },
   {
    "duration": 187,
    "start_time": "2022-04-17T13:24:42.832Z"
   },
   {
    "duration": 187,
    "start_time": "2022-04-17T13:24:43.021Z"
   },
   {
    "duration": 310,
    "start_time": "2022-04-17T13:24:43.209Z"
   },
   {
    "duration": 173,
    "start_time": "2022-04-17T13:24:43.521Z"
   },
   {
    "duration": 128,
    "start_time": "2022-04-17T14:22:07.700Z"
   }
  ],
  "kernelspec": {
   "display_name": "Python 3",
   "language": "python",
   "name": "python3"
  },
  "language_info": {
   "codemirror_mode": {
    "name": "ipython",
    "version": 3
   },
   "file_extension": ".py",
   "mimetype": "text/x-python",
   "name": "python",
   "nbconvert_exporter": "python",
   "pygments_lexer": "ipython3",
   "version": "3.8.8"
  },
  "toc": {
   "base_numbering": 1,
   "nav_menu": {},
   "number_sections": false,
   "sideBar": true,
   "skip_h1_title": false,
   "title_cell": "Table of Contents",
   "title_sidebar": "Contents",
   "toc_cell": false,
   "toc_position": {
    "height": "calc(100% - 180px)",
    "left": "10px",
    "top": "150px",
    "width": "366.389px"
   },
   "toc_section_display": true,
   "toc_window_display": false
  }
 },
 "nbformat": 4,
 "nbformat_minor": 2
}
